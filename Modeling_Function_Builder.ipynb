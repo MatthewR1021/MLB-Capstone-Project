{
 "cells": [
  {
   "cell_type": "code",
   "execution_count": 1,
   "metadata": {
    "ExecuteTime": {
     "end_time": "2022-01-13T16:30:51.901672Z",
     "start_time": "2022-01-13T16:30:47.039731Z"
    }
   },
   "outputs": [],
   "source": [
    "# Import the relevant packages\n",
    "import pandas as pd\n",
    "import numpy as np\n",
    "import matplotlib.pyplot as plt\n",
    "from sklearn.linear_model import LogisticRegression\n",
    "from sklearn.model_selection import cross_val_score, train_test_split,GridSearchCV\n",
    "from sklearn.metrics import plot_confusion_matrix, plot_roc_curve, accuracy_score, \\\n",
    "recall_score, precision_score, f1_score\n",
    "from sklearn.neighbors import KNeighborsClassifier\n",
    "from sklearn.preprocessing import StandardScaler\n",
    "from sklearn.tree import DecisionTreeClassifier, plot_tree\n",
    "from sklearn.ensemble import BaggingClassifier, RandomForestClassifier\n",
    "from sklearn.datasets import load_iris\n",
    "from sklearn.ensemble import AdaBoostClassifier, GradientBoostingClassifier\n",
    "from xgboost import XGBClassifier\n",
    "import statsmodels.api as sm\n",
    "from sklearn.feature_selection import RFECV\n",
    "from sklearn.decomposition import PCA\n",
    "import warnings\n",
    "warnings.filterwarnings(\"ignore\")"
   ]
  },
  {
   "cell_type": "code",
   "execution_count": 2,
   "metadata": {
    "ExecuteTime": {
     "end_time": "2022-01-13T16:30:53.018020Z",
     "start_time": "2022-01-13T16:30:52.901099Z"
    }
   },
   "outputs": [],
   "source": [
    "df=pd.read_csv('data/Season_2016_fav_win.csv')"
   ]
  },
  {
   "cell_type": "code",
   "execution_count": 3,
   "metadata": {
    "ExecuteTime": {
     "end_time": "2022-01-13T16:30:57.082111Z",
     "start_time": "2022-01-13T16:30:57.069541Z"
    }
   },
   "outputs": [],
   "source": [
    "df.drop(['Unnamed: 0'],axis=1,inplace=True)"
   ]
  },
  {
   "cell_type": "markdown",
   "metadata": {},
   "source": [
    "Find and eliminate NaNs"
   ]
  },
  {
   "cell_type": "code",
   "execution_count": 4,
   "metadata": {
    "ExecuteTime": {
     "end_time": "2022-01-13T16:31:00.757652Z",
     "start_time": "2022-01-13T16:31:00.736075Z"
    }
   },
   "outputs": [
    {
     "data": {
      "text/plain": [
       "0      NaN\n",
       "1      NaN\n",
       "2      NaN\n",
       "3      NaN\n",
       "4      NaN\n",
       "        ..\n",
       "2423   NaN\n",
       "2424   NaN\n",
       "2425   NaN\n",
       "2426   NaN\n",
       "2427   NaN\n",
       "Name: A_win_probability_subtracted, Length: 2428, dtype: float64"
      ]
     },
     "execution_count": 4,
     "metadata": {},
     "output_type": "execute_result"
    }
   ],
   "source": [
    "df.A_win_probability_subtracted"
   ]
  },
  {
   "cell_type": "code",
   "execution_count": 5,
   "metadata": {
    "ExecuteTime": {
     "end_time": "2022-01-13T16:31:01.442236Z",
     "start_time": "2022-01-13T16:31:01.433828Z"
    }
   },
   "outputs": [
    {
     "name": "stdout",
     "output_type": "stream",
     "text": [
      "H_name\n",
      "H_at_bats\n",
      "H_runs\n",
      "H_hits\n",
      "H_rbi\n",
      "H_earned_runs\n",
      "H_bases_on_balls\n",
      "H_strikeouts\n",
      "H_plate_appearances\n",
      "H_batting_average\n",
      "H_on_base_percentage\n",
      "H_slugging_percentage\n",
      "H_on_base_plus\n",
      "H_pitches\n",
      "H_strikes\n",
      "H_win_probability_for_offensive_player\n",
      "H_average_leverage_index\n",
      "H_win_probability_added\n",
      "H_win_probability_subtracted\n",
      "H_base_out_runs_added\n",
      "H_putouts\n",
      "H_assists\n",
      "H_innings_pitched\n",
      "H_HR\n",
      "H_strikes_by_contact\n",
      "H_strikes_swinging\n",
      "H_strikes_looking\n",
      "H_grounded_balls\n",
      "H_fly_balls\n",
      "H_line_drives\n",
      "H_unknown_bat_type\n",
      "H_game_score\n",
      "H_inherited_runners\n",
      "H_inherited_score\n",
      "H_win_probability_by_pitcher\n",
      "H_base_out_runs_saved\n",
      "H_Opp_at_bats\n",
      "H_Opp_runs\n",
      "H_Opp_hits\n",
      "H_Opp_rbi\n",
      "H_Opp_earned_runs\n",
      "H_Opp_bases_on_balls\n",
      "H_Opp_strikeouts\n",
      "H_Opp_plate_appearances\n",
      "H_Opp_batting_average\n",
      "H_Opp_on_base_percentage\n",
      "H_Opp_slugging_percentage\n",
      "H_Opp_on_base_plus\n",
      "H_Opp_pitches\n",
      "H_Opp_strikes\n",
      "H_Opp_win_probability_for_offensive_player\n",
      "H_Opp_average_leverage_index\n",
      "H_Opp_win_probability_added\n",
      "H_Opp_win_probability_subtracted\n",
      "H_Opp_base_out_runs_added\n",
      "H_Opp_putouts\n",
      "H_Opp_assists\n",
      "H_Opp_innings_pitched\n",
      "H_Opp_HR\n",
      "H_Opp_strikes_by_contact\n",
      "H_Opp_strikes_swinging\n",
      "H_Opp_strikes_looking\n",
      "H_Opp_grounded_balls\n",
      "H_Opp_fly_balls\n",
      "H_Opp_line_drives\n",
      "H_Opp_unknown_bat_type\n",
      "H_Opp_game_score\n",
      "H_Opp_inherited_runners\n",
      "H_Opp_inherited_score\n",
      "H_Opp_win_probability_by_pitcher\n",
      "H_Opp_base_out_runs_saved\n",
      "H_median_odds\n",
      "A_name\n",
      "A_at_bats\n",
      "A_runs\n",
      "A_hits\n",
      "A_rbi\n",
      "A_earned_runs\n",
      "A_bases_on_balls\n",
      "A_strikeouts\n",
      "A_plate_appearances\n",
      "A_batting_average\n",
      "A_on_base_percentage\n",
      "A_slugging_percentage\n",
      "A_on_base_plus\n",
      "A_pitches\n",
      "A_strikes\n",
      "A_win_probability_for_offensive_player\n",
      "A_average_leverage_index\n",
      "A_win_probability_added\n",
      "A_win_probability_subtracted\n",
      "A_base_out_runs_added\n",
      "A_putouts\n",
      "A_assists\n",
      "A_innings_pitched\n",
      "A_HR\n",
      "A_strikes_by_contact\n",
      "A_strikes_swinging\n",
      "A_strikes_looking\n",
      "A_grounded_balls\n",
      "A_fly_balls\n",
      "A_line_drives\n",
      "A_unknown_bat_type\n",
      "A_game_score\n",
      "A_inherited_runners\n",
      "A_inherited_score\n",
      "A_win_probability_by_pitcher\n",
      "A_base_out_runs_saved\n",
      "A_Opp_at_bats\n",
      "A_Opp_runs\n",
      "A_Opp_hits\n",
      "A_Opp_rbi\n",
      "A_Opp_earned_runs\n",
      "A_Opp_bases_on_balls\n",
      "A_Opp_strikeouts\n",
      "A_Opp_plate_appearances\n",
      "A_Opp_batting_average\n",
      "A_Opp_on_base_percentage\n",
      "A_Opp_slugging_percentage\n",
      "A_Opp_on_base_plus\n",
      "A_Opp_pitches\n",
      "A_Opp_strikes\n",
      "A_Opp_win_probability_for_offensive_player\n",
      "A_Opp_average_leverage_index\n",
      "A_Opp_win_probability_added\n",
      "A_Opp_win_probability_subtracted\n",
      "A_Opp_base_out_runs_added\n",
      "A_Opp_putouts\n",
      "A_Opp_assists\n",
      "A_Opp_innings_pitched\n",
      "A_Opp_HR\n",
      "A_Opp_strikes_by_contact\n",
      "A_Opp_strikes_swinging\n",
      "A_Opp_strikes_looking\n",
      "A_Opp_grounded_balls\n",
      "A_Opp_fly_balls\n",
      "A_Opp_line_drives\n",
      "A_Opp_unknown_bat_type\n",
      "A_Opp_game_score\n",
      "A_Opp_inherited_runners\n",
      "A_Opp_inherited_score\n",
      "A_Opp_win_probability_by_pitcher\n",
      "A_Opp_base_out_runs_saved\n",
      "A_median_odds\n",
      "home_win\n",
      "home_fav\n",
      "fav_win\n"
     ]
    }
   ],
   "source": [
    "for column in df.columns:\n",
    "    print(column)"
   ]
  },
  {
   "cell_type": "code",
   "execution_count": 6,
   "metadata": {
    "ExecuteTime": {
     "end_time": "2022-01-13T16:31:01.885978Z",
     "start_time": "2022-01-13T16:31:01.872330Z"
    }
   },
   "outputs": [
    {
     "name": "stdout",
     "output_type": "stream",
     "text": [
      "0\n",
      "0\n",
      "0\n",
      "0\n",
      "0\n",
      "0\n",
      "0\n",
      "0\n",
      "0\n",
      "0\n",
      "0\n",
      "0\n",
      "0\n",
      "0\n",
      "0\n",
      "0\n",
      "0\n",
      "0\n",
      "2428\n",
      "0\n",
      "0\n",
      "0\n",
      "0\n",
      "0\n",
      "0\n",
      "0\n",
      "0\n",
      "0\n",
      "0\n",
      "0\n",
      "0\n",
      "0\n",
      "0\n",
      "0\n",
      "0\n",
      "0\n",
      "0\n",
      "0\n",
      "0\n",
      "0\n",
      "0\n",
      "0\n",
      "0\n",
      "0\n",
      "0\n",
      "0\n",
      "0\n",
      "0\n",
      "0\n",
      "0\n",
      "0\n",
      "0\n",
      "0\n",
      "2428\n",
      "0\n",
      "0\n",
      "0\n",
      "0\n",
      "0\n",
      "0\n",
      "0\n",
      "0\n",
      "0\n",
      "0\n",
      "0\n",
      "0\n",
      "0\n",
      "0\n",
      "0\n",
      "0\n",
      "0\n",
      "0\n",
      "0\n",
      "0\n",
      "0\n",
      "0\n",
      "0\n",
      "0\n",
      "0\n",
      "0\n",
      "0\n",
      "0\n",
      "0\n",
      "0\n",
      "0\n",
      "0\n",
      "0\n",
      "0\n",
      "0\n",
      "0\n",
      "2428\n",
      "0\n",
      "0\n",
      "0\n",
      "0\n",
      "0\n",
      "0\n",
      "0\n",
      "0\n",
      "0\n",
      "0\n",
      "0\n",
      "0\n",
      "0\n",
      "0\n",
      "0\n",
      "0\n",
      "0\n",
      "0\n",
      "0\n",
      "0\n",
      "0\n",
      "0\n",
      "0\n",
      "0\n",
      "0\n",
      "0\n",
      "0\n",
      "0\n",
      "0\n",
      "0\n",
      "0\n",
      "0\n",
      "0\n",
      "0\n",
      "2428\n",
      "0\n",
      "0\n",
      "0\n",
      "0\n",
      "0\n",
      "0\n",
      "0\n",
      "0\n",
      "0\n",
      "0\n",
      "0\n",
      "0\n",
      "0\n",
      "0\n",
      "0\n",
      "0\n",
      "0\n",
      "0\n",
      "0\n",
      "0\n",
      "0\n"
     ]
    }
   ],
   "source": [
    "for an in df.isna().sum():\n",
    "    print(an)"
   ]
  },
  {
   "cell_type": "code",
   "execution_count": 7,
   "metadata": {
    "ExecuteTime": {
     "end_time": "2022-01-13T16:31:02.609964Z",
     "start_time": "2022-01-13T16:31:02.601308Z"
    }
   },
   "outputs": [],
   "source": [
    "df=df.drop(['H_win_probability_subtracted','A_win_probability_subtracted','A_Opp_win_probability_subtracted',\n",
    "         'H_Opp_win_probability_subtracted'],axis=1)"
   ]
  },
  {
   "cell_type": "code",
   "execution_count": 8,
   "metadata": {
    "ExecuteTime": {
     "end_time": "2022-01-13T16:31:04.207149Z",
     "start_time": "2022-01-13T16:31:04.167171Z"
    },
    "scrolled": true
   },
   "outputs": [
    {
     "data": {
      "text/html": [
       "<div>\n",
       "<style scoped>\n",
       "    .dataframe tbody tr th:only-of-type {\n",
       "        vertical-align: middle;\n",
       "    }\n",
       "\n",
       "    .dataframe tbody tr th {\n",
       "        vertical-align: top;\n",
       "    }\n",
       "\n",
       "    .dataframe thead th {\n",
       "        text-align: right;\n",
       "    }\n",
       "</style>\n",
       "<table border=\"1\" class=\"dataframe\">\n",
       "  <thead>\n",
       "    <tr style=\"text-align: right;\">\n",
       "      <th></th>\n",
       "      <th>H_name</th>\n",
       "      <th>H_at_bats</th>\n",
       "      <th>H_runs</th>\n",
       "      <th>H_hits</th>\n",
       "      <th>H_rbi</th>\n",
       "      <th>H_earned_runs</th>\n",
       "      <th>H_bases_on_balls</th>\n",
       "      <th>H_strikeouts</th>\n",
       "      <th>H_plate_appearances</th>\n",
       "      <th>H_batting_average</th>\n",
       "      <th>...</th>\n",
       "      <th>A_Opp_unknown_bat_type</th>\n",
       "      <th>A_Opp_game_score</th>\n",
       "      <th>A_Opp_inherited_runners</th>\n",
       "      <th>A_Opp_inherited_score</th>\n",
       "      <th>A_Opp_win_probability_by_pitcher</th>\n",
       "      <th>A_Opp_base_out_runs_saved</th>\n",
       "      <th>A_median_odds</th>\n",
       "      <th>home_win</th>\n",
       "      <th>home_fav</th>\n",
       "      <th>fav_win</th>\n",
       "    </tr>\n",
       "  </thead>\n",
       "  <tbody>\n",
       "    <tr>\n",
       "      <th>0</th>\n",
       "      <td>PIT</td>\n",
       "      <td>34.209877</td>\n",
       "      <td>4.500000</td>\n",
       "      <td>8.802469</td>\n",
       "      <td>4.296296</td>\n",
       "      <td>4.191914</td>\n",
       "      <td>3.462963</td>\n",
       "      <td>8.234568</td>\n",
       "      <td>38.648148</td>\n",
       "      <td>0.252074</td>\n",
       "      <td>...</td>\n",
       "      <td>0.006173</td>\n",
       "      <td>51.438272</td>\n",
       "      <td>1.440994</td>\n",
       "      <td>0.515528</td>\n",
       "      <td>-0.040438</td>\n",
       "      <td>-0.433333</td>\n",
       "      <td>-131.0</td>\n",
       "      <td>1</td>\n",
       "      <td>0</td>\n",
       "      <td>0</td>\n",
       "    </tr>\n",
       "    <tr>\n",
       "      <th>1</th>\n",
       "      <td>KCR</td>\n",
       "      <td>34.271605</td>\n",
       "      <td>4.166667</td>\n",
       "      <td>8.950617</td>\n",
       "      <td>3.950617</td>\n",
       "      <td>3.969568</td>\n",
       "      <td>2.358025</td>\n",
       "      <td>7.555556</td>\n",
       "      <td>37.358025</td>\n",
       "      <td>0.256889</td>\n",
       "      <td>...</td>\n",
       "      <td>0.000000</td>\n",
       "      <td>52.382716</td>\n",
       "      <td>1.493750</td>\n",
       "      <td>0.318750</td>\n",
       "      <td>0.035586</td>\n",
       "      <td>0.180864</td>\n",
       "      <td>-123.0</td>\n",
       "      <td>1</td>\n",
       "      <td>0</td>\n",
       "      <td>0</td>\n",
       "    </tr>\n",
       "    <tr>\n",
       "      <th>2</th>\n",
       "      <td>TBR</td>\n",
       "      <td>33.833333</td>\n",
       "      <td>4.148148</td>\n",
       "      <td>8.228395</td>\n",
       "      <td>3.993827</td>\n",
       "      <td>4.000864</td>\n",
       "      <td>2.771605</td>\n",
       "      <td>9.148148</td>\n",
       "      <td>37.320988</td>\n",
       "      <td>0.237667</td>\n",
       "      <td>...</td>\n",
       "      <td>0.006173</td>\n",
       "      <td>50.950617</td>\n",
       "      <td>1.543210</td>\n",
       "      <td>0.493827</td>\n",
       "      <td>0.008802</td>\n",
       "      <td>-0.098765</td>\n",
       "      <td>-141.0</td>\n",
       "      <td>0</td>\n",
       "      <td>0</td>\n",
       "      <td>1</td>\n",
       "    </tr>\n",
       "    <tr>\n",
       "      <th>3</th>\n",
       "      <td>OAK</td>\n",
       "      <td>33.950617</td>\n",
       "      <td>4.030864</td>\n",
       "      <td>8.345679</td>\n",
       "      <td>3.913580</td>\n",
       "      <td>3.778580</td>\n",
       "      <td>2.728395</td>\n",
       "      <td>7.067901</td>\n",
       "      <td>37.172840</td>\n",
       "      <td>0.239728</td>\n",
       "      <td>...</td>\n",
       "      <td>0.006173</td>\n",
       "      <td>51.216049</td>\n",
       "      <td>1.367089</td>\n",
       "      <td>0.360759</td>\n",
       "      <td>0.009222</td>\n",
       "      <td>0.217284</td>\n",
       "      <td>-102.0</td>\n",
       "      <td>0</td>\n",
       "      <td>0</td>\n",
       "      <td>1</td>\n",
       "    </tr>\n",
       "    <tr>\n",
       "      <th>4</th>\n",
       "      <td>ARI</td>\n",
       "      <td>34.969136</td>\n",
       "      <td>4.641975</td>\n",
       "      <td>9.129630</td>\n",
       "      <td>4.376543</td>\n",
       "      <td>4.270370</td>\n",
       "      <td>2.858025</td>\n",
       "      <td>8.808642</td>\n",
       "      <td>38.641975</td>\n",
       "      <td>0.254932</td>\n",
       "      <td>...</td>\n",
       "      <td>0.006173</td>\n",
       "      <td>47.030864</td>\n",
       "      <td>1.559006</td>\n",
       "      <td>0.552795</td>\n",
       "      <td>-0.033364</td>\n",
       "      <td>-0.499383</td>\n",
       "      <td>111.0</td>\n",
       "      <td>0</td>\n",
       "      <td>0</td>\n",
       "      <td>1</td>\n",
       "    </tr>\n",
       "    <tr>\n",
       "      <th>...</th>\n",
       "      <td>...</td>\n",
       "      <td>...</td>\n",
       "      <td>...</td>\n",
       "      <td>...</td>\n",
       "      <td>...</td>\n",
       "      <td>...</td>\n",
       "      <td>...</td>\n",
       "      <td>...</td>\n",
       "      <td>...</td>\n",
       "      <td>...</td>\n",
       "      <td>...</td>\n",
       "      <td>...</td>\n",
       "      <td>...</td>\n",
       "      <td>...</td>\n",
       "      <td>...</td>\n",
       "      <td>...</td>\n",
       "      <td>...</td>\n",
       "      <td>...</td>\n",
       "      <td>...</td>\n",
       "      <td>...</td>\n",
       "      <td>...</td>\n",
       "    </tr>\n",
       "    <tr>\n",
       "      <th>2423</th>\n",
       "      <td>SFG</td>\n",
       "      <td>34.351852</td>\n",
       "      <td>4.413580</td>\n",
       "      <td>8.870370</td>\n",
       "      <td>4.166667</td>\n",
       "      <td>4.148086</td>\n",
       "      <td>3.530864</td>\n",
       "      <td>6.833333</td>\n",
       "      <td>38.709877</td>\n",
       "      <td>0.250889</td>\n",
       "      <td>...</td>\n",
       "      <td>0.000000</td>\n",
       "      <td>50.617284</td>\n",
       "      <td>1.465409</td>\n",
       "      <td>0.496855</td>\n",
       "      <td>-0.009241</td>\n",
       "      <td>-0.120370</td>\n",
       "      <td>-148.0</td>\n",
       "      <td>1</td>\n",
       "      <td>0</td>\n",
       "      <td>0</td>\n",
       "    </tr>\n",
       "    <tr>\n",
       "      <th>2424</th>\n",
       "      <td>WSN</td>\n",
       "      <td>33.888889</td>\n",
       "      <td>4.709877</td>\n",
       "      <td>8.660494</td>\n",
       "      <td>4.537037</td>\n",
       "      <td>4.564630</td>\n",
       "      <td>3.308642</td>\n",
       "      <td>7.728395</td>\n",
       "      <td>38.277778</td>\n",
       "      <td>0.250728</td>\n",
       "      <td>...</td>\n",
       "      <td>0.000000</td>\n",
       "      <td>50.204969</td>\n",
       "      <td>1.685897</td>\n",
       "      <td>0.474359</td>\n",
       "      <td>0.009037</td>\n",
       "      <td>0.202484</td>\n",
       "      <td>-103.0</td>\n",
       "      <td>1</td>\n",
       "      <td>1</td>\n",
       "      <td>1</td>\n",
       "    </tr>\n",
       "    <tr>\n",
       "      <th>2425</th>\n",
       "      <td>ARI</td>\n",
       "      <td>34.969136</td>\n",
       "      <td>4.641975</td>\n",
       "      <td>9.129630</td>\n",
       "      <td>4.376543</td>\n",
       "      <td>4.270370</td>\n",
       "      <td>2.858025</td>\n",
       "      <td>8.808642</td>\n",
       "      <td>38.641975</td>\n",
       "      <td>0.254932</td>\n",
       "      <td>...</td>\n",
       "      <td>0.000000</td>\n",
       "      <td>54.586420</td>\n",
       "      <td>1.341935</td>\n",
       "      <td>0.367742</td>\n",
       "      <td>0.052636</td>\n",
       "      <td>0.115432</td>\n",
       "      <td>139.0</td>\n",
       "      <td>1</td>\n",
       "      <td>1</td>\n",
       "      <td>1</td>\n",
       "    </tr>\n",
       "    <tr>\n",
       "      <th>2426</th>\n",
       "      <td>SEA</td>\n",
       "      <td>34.462963</td>\n",
       "      <td>4.740741</td>\n",
       "      <td>8.925926</td>\n",
       "      <td>4.537037</td>\n",
       "      <td>4.618457</td>\n",
       "      <td>3.123457</td>\n",
       "      <td>7.950617</td>\n",
       "      <td>38.438272</td>\n",
       "      <td>0.252698</td>\n",
       "      <td>...</td>\n",
       "      <td>0.006173</td>\n",
       "      <td>52.487654</td>\n",
       "      <td>1.253165</td>\n",
       "      <td>0.443038</td>\n",
       "      <td>0.035278</td>\n",
       "      <td>0.387037</td>\n",
       "      <td>115.0</td>\n",
       "      <td>0</td>\n",
       "      <td>1</td>\n",
       "      <td>0</td>\n",
       "    </tr>\n",
       "    <tr>\n",
       "      <th>2427</th>\n",
       "      <td>KCR</td>\n",
       "      <td>34.271605</td>\n",
       "      <td>4.166667</td>\n",
       "      <td>8.950617</td>\n",
       "      <td>3.950617</td>\n",
       "      <td>3.969568</td>\n",
       "      <td>2.358025</td>\n",
       "      <td>7.555556</td>\n",
       "      <td>37.358025</td>\n",
       "      <td>0.256889</td>\n",
       "      <td>...</td>\n",
       "      <td>0.006211</td>\n",
       "      <td>48.397516</td>\n",
       "      <td>1.409938</td>\n",
       "      <td>0.372671</td>\n",
       "      <td>-0.014391</td>\n",
       "      <td>-0.160248</td>\n",
       "      <td>-133.0</td>\n",
       "      <td>0</td>\n",
       "      <td>0</td>\n",
       "      <td>1</td>\n",
       "    </tr>\n",
       "  </tbody>\n",
       "</table>\n",
       "<p>2428 rows × 143 columns</p>\n",
       "</div>"
      ],
      "text/plain": [
       "     H_name  H_at_bats    H_runs    H_hits     H_rbi  H_earned_runs  \\\n",
       "0       PIT  34.209877  4.500000  8.802469  4.296296       4.191914   \n",
       "1       KCR  34.271605  4.166667  8.950617  3.950617       3.969568   \n",
       "2       TBR  33.833333  4.148148  8.228395  3.993827       4.000864   \n",
       "3       OAK  33.950617  4.030864  8.345679  3.913580       3.778580   \n",
       "4       ARI  34.969136  4.641975  9.129630  4.376543       4.270370   \n",
       "...     ...        ...       ...       ...       ...            ...   \n",
       "2423    SFG  34.351852  4.413580  8.870370  4.166667       4.148086   \n",
       "2424    WSN  33.888889  4.709877  8.660494  4.537037       4.564630   \n",
       "2425    ARI  34.969136  4.641975  9.129630  4.376543       4.270370   \n",
       "2426    SEA  34.462963  4.740741  8.925926  4.537037       4.618457   \n",
       "2427    KCR  34.271605  4.166667  8.950617  3.950617       3.969568   \n",
       "\n",
       "      H_bases_on_balls  H_strikeouts  H_plate_appearances  H_batting_average  \\\n",
       "0             3.462963      8.234568            38.648148           0.252074   \n",
       "1             2.358025      7.555556            37.358025           0.256889   \n",
       "2             2.771605      9.148148            37.320988           0.237667   \n",
       "3             2.728395      7.067901            37.172840           0.239728   \n",
       "4             2.858025      8.808642            38.641975           0.254932   \n",
       "...                ...           ...                  ...                ...   \n",
       "2423          3.530864      6.833333            38.709877           0.250889   \n",
       "2424          3.308642      7.728395            38.277778           0.250728   \n",
       "2425          2.858025      8.808642            38.641975           0.254932   \n",
       "2426          3.123457      7.950617            38.438272           0.252698   \n",
       "2427          2.358025      7.555556            37.358025           0.256889   \n",
       "\n",
       "      ...  A_Opp_unknown_bat_type  A_Opp_game_score  A_Opp_inherited_runners  \\\n",
       "0     ...                0.006173         51.438272                 1.440994   \n",
       "1     ...                0.000000         52.382716                 1.493750   \n",
       "2     ...                0.006173         50.950617                 1.543210   \n",
       "3     ...                0.006173         51.216049                 1.367089   \n",
       "4     ...                0.006173         47.030864                 1.559006   \n",
       "...   ...                     ...               ...                      ...   \n",
       "2423  ...                0.000000         50.617284                 1.465409   \n",
       "2424  ...                0.000000         50.204969                 1.685897   \n",
       "2425  ...                0.000000         54.586420                 1.341935   \n",
       "2426  ...                0.006173         52.487654                 1.253165   \n",
       "2427  ...                0.006211         48.397516                 1.409938   \n",
       "\n",
       "      A_Opp_inherited_score  A_Opp_win_probability_by_pitcher  \\\n",
       "0                  0.515528                         -0.040438   \n",
       "1                  0.318750                          0.035586   \n",
       "2                  0.493827                          0.008802   \n",
       "3                  0.360759                          0.009222   \n",
       "4                  0.552795                         -0.033364   \n",
       "...                     ...                               ...   \n",
       "2423               0.496855                         -0.009241   \n",
       "2424               0.474359                          0.009037   \n",
       "2425               0.367742                          0.052636   \n",
       "2426               0.443038                          0.035278   \n",
       "2427               0.372671                         -0.014391   \n",
       "\n",
       "      A_Opp_base_out_runs_saved  A_median_odds  home_win  home_fav  fav_win  \n",
       "0                     -0.433333         -131.0         1         0        0  \n",
       "1                      0.180864         -123.0         1         0        0  \n",
       "2                     -0.098765         -141.0         0         0        1  \n",
       "3                      0.217284         -102.0         0         0        1  \n",
       "4                     -0.499383          111.0         0         0        1  \n",
       "...                         ...            ...       ...       ...      ...  \n",
       "2423                  -0.120370         -148.0         1         0        0  \n",
       "2424                   0.202484         -103.0         1         1        1  \n",
       "2425                   0.115432          139.0         1         1        1  \n",
       "2426                   0.387037          115.0         0         1        0  \n",
       "2427                  -0.160248         -133.0         0         0        1  \n",
       "\n",
       "[2428 rows x 143 columns]"
      ]
     },
     "execution_count": 8,
     "metadata": {},
     "output_type": "execute_result"
    }
   ],
   "source": [
    "df"
   ]
  },
  {
   "cell_type": "code",
   "execution_count": 11,
   "metadata": {
    "ExecuteTime": {
     "end_time": "2022-01-13T16:31:48.273457Z",
     "start_time": "2022-01-13T16:31:48.257297Z"
    }
   },
   "outputs": [
    {
     "data": {
      "text/plain": [
       "1    0.560544\n",
       "0    0.439456\n",
       "Name: fav_win, dtype: float64"
      ]
     },
     "execution_count": 11,
     "metadata": {},
     "output_type": "execute_result"
    }
   ],
   "source": [
    "df.fav_win.value_counts(normalize=True)"
   ]
  },
  {
   "cell_type": "code",
   "execution_count": 30,
   "metadata": {
    "ExecuteTime": {
     "end_time": "2022-01-13T16:59:26.610073Z",
     "start_time": "2022-01-13T16:59:26.605355Z"
    }
   },
   "outputs": [],
   "source": [
    "#for col in X_train.columns:\n",
    "    #print(col)"
   ]
  },
  {
   "cell_type": "code",
   "execution_count": 29,
   "metadata": {
    "ExecuteTime": {
     "end_time": "2022-01-13T16:59:08.525687Z",
     "start_time": "2022-01-13T16:59:08.519449Z"
    }
   },
   "outputs": [],
   "source": [
    "zero_importance_list=['H_runs','H_slugging_percentage','H_on_base_plus','H_base_out_runs_added','H_putouts',\n",
    "                     'H_Opp_on_base_percentage','A_batting_average','A_win_probability_for_offensive_player',\n",
    "                     'A_putouts']"
   ]
  },
  {
   "cell_type": "code",
   "execution_count": 55,
   "metadata": {
    "ExecuteTime": {
     "end_time": "2022-01-13T17:08:53.884795Z",
     "start_time": "2022-01-13T17:08:53.881227Z"
    }
   },
   "outputs": [],
   "source": [
    "tiny_importance_list=['H_at_bats','H_win_probability_added','H_fly_balls']"
   ]
  },
  {
   "cell_type": "code",
   "execution_count": 56,
   "metadata": {
    "ExecuteTime": {
     "end_time": "2022-01-13T17:09:56.565827Z",
     "start_time": "2022-01-13T17:09:56.533483Z"
    }
   },
   "outputs": [],
   "source": [
    "make_x=df.drop(['home_win','H_name','A_name','fav_win'],axis=1)\n",
    "X_minus_zero=make_x.drop(zero_importance_list,axis=1)\n",
    "X_minus_zero_and_tiny=X_minus_zero.drop(tiny_importance_list,axis=1)"
   ]
  },
  {
   "cell_type": "code",
   "execution_count": null,
   "metadata": {},
   "outputs": [],
   "source": []
  },
  {
   "cell_type": "code",
   "execution_count": null,
   "metadata": {},
   "outputs": [],
   "source": []
  },
  {
   "cell_type": "code",
   "execution_count": null,
   "metadata": {},
   "outputs": [],
   "source": [
    "def data_preprocessing(df1 = season, df2 = today):\n",
    "    X_train = df1.drop(['home_win','H_name','A_name'], axis=1)\n",
    "    X_test = df2.drop(['H_name', 'A_name'], axis=1)\n",
    "    y_train = df1.home_win\n",
    "    \n",
    "    ss = StandardScaler()\n",
    "    X_train_scaled = ss.fit_transform(X_train)\n",
    "    X_test_scaled = ss.transform(X_test)\n",
    "    \n",
    "    X_train_scaled = pd.DataFrame(X_train_scaled, columns=X_train.columns)\n",
    "    X_test_scaled = pd.DataFrame(X_test_scaled, columns=X_test.columns)\n",
    "    \n",
    "    return X_train_scaled, X_test_scaled"
   ]
  },
  {
   "cell_type": "code",
   "execution_count": 46,
   "metadata": {
    "ExecuteTime": {
     "end_time": "2022-01-13T17:04:55.060889Z",
     "start_time": "2022-01-13T17:04:55.056280Z"
    }
   },
   "outputs": [],
   "source": [
    "y=df['home_win']"
   ]
  },
  {
   "cell_type": "code",
   "execution_count": 12,
   "metadata": {
    "ExecuteTime": {
     "end_time": "2022-01-13T16:32:00.403208Z",
     "start_time": "2022-01-13T16:32:00.386641Z"
    }
   },
   "outputs": [],
   "source": [
    "#X=df.drop(['home_win','H_name','A_name','fav_win'],axis=1)\n",
    "#y=df['fav_win']"
   ]
  },
  {
   "cell_type": "code",
   "execution_count": 57,
   "metadata": {
    "ExecuteTime": {
     "end_time": "2022-01-13T17:10:03.928215Z",
     "start_time": "2022-01-13T17:10:03.916788Z"
    }
   },
   "outputs": [],
   "source": [
    "X_train, X_test, y_train, y_test = train_test_split(X_minus_zero_and_tiny, y,random_state=42)"
   ]
  },
  {
   "cell_type": "markdown",
   "metadata": {},
   "source": [
    "## Feature Selection"
   ]
  },
  {
   "cell_type": "code",
   "execution_count": 29,
   "metadata": {
    "ExecuteTime": {
     "end_time": "2022-01-12T20:58:51.877708Z",
     "start_time": "2022-01-12T20:58:51.402618Z"
    }
   },
   "outputs": [],
   "source": [
    "pca=PCA(n_components=0.7)\n",
    "train_pca=pca.fit_transform(X_train)\n",
    "test_pca=pca.transform(X_test)"
   ]
  },
  {
   "cell_type": "code",
   "execution_count": 30,
   "metadata": {
    "ExecuteTime": {
     "end_time": "2022-01-12T20:58:54.681393Z",
     "start_time": "2022-01-12T20:58:54.009482Z"
    }
   },
   "outputs": [
    {
     "data": {
      "image/png": "[encoded data removed]",
      "text/plain": [
       "<Figure size 432x288 with 1 Axes>"
      ]
     },
     "metadata": {
      "needs_background": "light"
     },
     "output_type": "display_data"
    }
   ],
   "source": [
    "plt.scatter(train_pca[:,0], train_pca[:,1]);"
   ]
  },
  {
   "cell_type": "code",
   "execution_count": 58,
   "metadata": {
    "ExecuteTime": {
     "end_time": "2022-01-13T17:10:07.825372Z",
     "start_time": "2022-01-13T17:10:07.801724Z"
    }
   },
   "outputs": [],
   "source": [
    "ss=StandardScaler()\n",
    "X_train_scaled=ss.fit_transform(X_train)\n",
    "X_test_scaled=ss.transform(X_test)"
   ]
  },
  {
   "cell_type": "code",
   "execution_count": 59,
   "metadata": {
    "ExecuteTime": {
     "end_time": "2022-01-13T17:10:09.176402Z",
     "start_time": "2022-01-13T17:10:09.170904Z"
    }
   },
   "outputs": [],
   "source": [
    "X_train_scaled = pd.DataFrame(X_train_scaled, columns=X_train.columns)\n",
    "X_test_scaled = pd.DataFrame(X_test_scaled, columns=X_test.columns)"
   ]
  },
  {
   "cell_type": "code",
   "execution_count": 60,
   "metadata": {
    "ExecuteTime": {
     "end_time": "2022-01-13T17:10:10.024425Z",
     "start_time": "2022-01-13T17:10:10.018000Z"
    }
   },
   "outputs": [],
   "source": [
    "def feature_select(X_train,y_train,estimator,min_features,step=1):\n",
    "    estimator2=estimator()\n",
    "    selector=RFECV(estimator2,min_features_to_select=min_features,step=step)\n",
    "    selector.fit(X_train,y_train)\n",
    "    selector.ranking_\n",
    "    feature_dict=dict(zip(X_train.columns, selector.ranking_))\n",
    "    best_pred = [k for (k,v) in feature_dict.items() if v == 1]\n",
    "    \n",
    "    \n",
    "    return best_pred"
   ]
  },
  {
   "cell_type": "code",
   "execution_count": 61,
   "metadata": {
    "ExecuteTime": {
     "end_time": "2022-01-13T17:10:46.554251Z",
     "start_time": "2022-01-13T17:10:10.322680Z"
    }
   },
   "outputs": [],
   "source": [
    "feats= feature_select(X_train_scaled,y_train,LogisticRegression,min_features=10)"
   ]
  },
  {
   "cell_type": "code",
   "execution_count": 62,
   "metadata": {
    "ExecuteTime": {
     "end_time": "2022-01-13T17:10:46.564476Z",
     "start_time": "2022-01-13T17:10:46.557095Z"
    }
   },
   "outputs": [],
   "source": [
    "X_train_best_log = X_train_scaled[feats]\n",
    "X_test_best_log = X_test_scaled[feats]"
   ]
  },
  {
   "cell_type": "markdown",
   "metadata": {
    "heading_collapsed": true
   },
   "source": [
    "# Logistic Regression"
   ]
  },
  {
   "cell_type": "code",
   "execution_count": 63,
   "metadata": {
    "ExecuteTime": {
     "end_time": "2022-01-13T17:10:46.601357Z",
     "start_time": "2022-01-13T17:10:46.570176Z"
    },
    "hidden": true
   },
   "outputs": [],
   "source": [
    "def logreg(X_train, X_test, y_train, y_test, cv=5):\n",
    "    \n",
    "    \n",
    "    # Set GridSearchCV hyperparameters to compare & select\n",
    "    grid = {\n",
    "    'penalty': ['l1', 'l2' ,'elasticnet'],\n",
    "    'solver': ['newton-cg', 'lbfgs', 'liblinear', 'sag', 'saga']}\n",
    "    \n",
    "    # Instantiate & fit LogReg model for GridSearch\n",
    "    grid_logreg = LogisticRegression(random_state=42)\n",
    "    grid_logreg.fit(X_train, y_train)\n",
    "    \n",
    "    # Instantiate & fit GridSearchCV with accuracy scoring\n",
    "    gs = GridSearchCV(estimator=grid_logreg, param_grid=grid, cv=cv,\n",
    "                      scoring='accuracy')\n",
    "    gs.fit(X_train, y_train)\n",
    "    \n",
    "    # Return best hyperparameters\n",
    "    logreg_params = gs.best_params_\n",
    "    \n",
    "    # Use best penalty from best_params\n",
    "    logreg_penalty = logreg_params['penalty']\n",
    "    print(f'Penalty: {logreg_penalty}')\n",
    "    \n",
    "    # Use best solver from best_params\n",
    "    logreg_solver = logreg_params['solver']\n",
    "    print(f'Solver: {logreg_solver}')\n",
    "    \n",
    "    # Instantiate & fit LogReg model\n",
    "    log = LogisticRegression(random_state=42, penalty=logreg_penalty, solver=logreg_solver)\n",
    "    log.fit(X_train, y_train)\n",
    "    \n",
    "    # Create prediction variable using test data\n",
    "    y_pred = log.predict(X_test)\n",
    "    \n",
    "    # Run cross-validate score with cv folds from function parameter\n",
    "    cv_results = cross_val_score(log, X_train, y_train, cv=cv)\n",
    "    print(f'Mean Cross-Val Score: {cv_results.mean()}')\n",
    "    \n",
    "    # Run and print accuracy, recall, precision and f1 scores\n",
    "    train_score = log.score(X_train, y_train)\n",
    "    print(f'Train Mean Accuracy: {train_score}')\n",
    "    test_score = log.score(X_test, y_test)\n",
    "    print(f'Test Mean Accuracy: {test_score}')\n",
    "  \n",
    "    rec_score = recall_score(y_test, y_pred)\n",
    "    print(f'Recall Score: {rec_score}')\n",
    "    \n",
    "    prec_score = precision_score(y_test, y_pred)\n",
    "    print(f'Precision Score: {prec_score}')\n",
    "    \n",
    "    f1 = f1_score(y_test, y_pred)\n",
    "    print(f'F1 Score: {f1}')\n",
    "    \n",
    "    # Plot an ROC curve (only works with binary data)\n",
    "    fig, ax = plt.subplots()\n",
    "    plot_roc_curve(log, X_train, y_train, name='train', ax=ax)\n",
    "    plot_roc_curve(log, X_test, y_test, name='test', ax=ax)\n",
    "    \n",
    "    # Plot Confusion Matrix\n",
    "    plot_confusion_matrix(log, X_train, y_train)\n",
    "    plot_confusion_matrix(log, X_test, y_test)"
   ]
  },
  {
   "cell_type": "code",
   "execution_count": 64,
   "metadata": {
    "ExecuteTime": {
     "end_time": "2022-01-13T17:10:49.540524Z",
     "start_time": "2022-01-13T17:10:46.630440Z"
    },
    "hidden": true
   },
   "outputs": [
    {
     "name": "stdout",
     "output_type": "stream",
     "text": [
      "Penalty: l1\n",
      "Solver: liblinear\n",
      "Mean Cross-Val Score: 0.5732846605449344\n",
      "Train Mean Accuracy: 0.5908841295991214\n",
      "Test Mean Accuracy: 0.5436573311367381\n",
      "Recall Score: 0.6463414634146342\n",
      "Precision Score: 0.5683646112600537\n",
      "F1 Score: 0.6048502139800286\n"
     ]
    },
    {
     "data": {
      "image/png": "[encoded data removed]",
      "text/plain": [
       "<Figure size 432x288 with 1 Axes>"
      ]
     },
     "metadata": {
      "needs_background": "light"
     },
     "output_type": "display_data"
    },
    {
     "data": {
      "image/png": "[encoded data removed]",
      "text/plain": [
       "<Figure size 432x288 with 2 Axes>"
      ]
     },
     "metadata": {
      "needs_background": "light"
     },
     "output_type": "display_data"
    },
    {
     "data": {
      "image/png": "[encoded data removed]",
      "text/plain": [
       "<Figure size 432x288 with 2 Axes>"
      ]
     },
     "metadata": {
      "needs_background": "light"
     },
     "output_type": "display_data"
    }
   ],
   "source": [
    "logreg(X_train_best_log,X_test_best_log,y_train,y_test)"
   ]
  },
  {
   "cell_type": "markdown",
   "metadata": {},
   "source": [
    "# KNN"
   ]
  },
  {
   "cell_type": "code",
   "execution_count": 73,
   "metadata": {
    "ExecuteTime": {
     "end_time": "2022-01-13T17:17:42.484983Z",
     "start_time": "2022-01-13T17:17:42.480251Z"
    }
   },
   "outputs": [],
   "source": [
    "#kfeats= feature_select(X_train_scaled,y_train,KNN,min_features=10)\n",
    "#X_train_best_knn = X_train_scaled[kfeats]\n",
    "#X_test_best_knn = X_test_scaled[kfeats]"
   ]
  },
  {
   "cell_type": "code",
   "execution_count": 74,
   "metadata": {
    "ExecuteTime": {
     "end_time": "2022-01-13T17:17:46.242820Z",
     "start_time": "2022-01-13T17:17:46.228493Z"
    }
   },
   "outputs": [],
   "source": [
    "def knn(X_train, X_test, y_train, y_test, metric='minkowski', cv=5):\n",
    "    \n",
    "    # Set GridSearchCV hyperparameters to compare & select\n",
    "    grid = {\n",
    "    'n_neighbors': [5,7,9,11,13,15,17],\n",
    "    'metric': ['minkowski', 'manhattan'],\n",
    "    'weights': ['uniform', 'distance']}\n",
    "    \n",
    "    # Instantiate & fit KNN model for GridSearch\n",
    "    grid_knn = KNeighborsClassifier()\n",
    "    grid_knn.fit(X_train, y_train)\n",
    "    \n",
    "    # Instantiate & fit GridSearchCV with accuracy scoring\n",
    "    gs = GridSearchCV(estimator=grid_knn, param_grid=grid, cv=cv, scoring='accuracy')\n",
    "    gs.fit(X_train, y_train)\n",
    "    \n",
    "    # Return best hyperparameters\n",
    "    knn_params = gs.best_params_\n",
    "    \n",
    "    # Use best # of neighbors from best_params\n",
    "    knn_neighbors = knn_params['n_neighbors']\n",
    "    print(f'Number of Neighbors: {knn_neighbors}')\n",
    "    \n",
    "    # Use best metric from best_params\n",
    "    knn_metric = knn_params['metric']\n",
    "    print(f'Metric: {knn_metric}')\n",
    "    \n",
    "    # Use best weights from best_params\n",
    "    knn_weights=knn_params['weights']\n",
    "    print(f'Weights: {knn_weights}')\n",
    "    \n",
    "    # Instantiate & fit K-Nearest Neighbors model\n",
    "    knn = KNeighborsClassifier(n_neighbors=knn_neighbors, metric=knn_metric,\n",
    "                               weights=knn_weights)\n",
    "    knn.fit(X_train, y_train)\n",
    "    \n",
    "    # Create prediction variable using test data\n",
    "    y_pred = knn.predict(X_test)\n",
    "    \n",
    "    # Run cross-validate score with cv folds from function parameter\n",
    "    cv_results = cross_val_score(knn, X_train, y_train, cv=cv)\n",
    "    print(f'Mean Cross-Val Score: {cv_results.mean()}')\n",
    "    \n",
    "    # Run and print accuracy, recall, precision and f1 scores\n",
    "    train_score = knn.score(X_train, y_train)\n",
    "    print(f'Train Mean Accuracy: {train_score}')\n",
    "    test_score = knn.score(X_test, y_test)\n",
    "    print(f'Test Mean Accuracy: {test_score}')\n",
    "    \n",
    "    rec_score = recall_score(y_test, y_pred)\n",
    "    print(f'Recall Score: {rec_score}')\n",
    "    \n",
    "    prec_score = precision_score(y_test, y_pred)\n",
    "    print(f'Precision Score: {prec_score}')\n",
    "    \n",
    "    f1 = f1_score(y_test, y_pred)\n",
    "    print(f'F1 score: {f1}')\n",
    "    \n",
    "    # Plot an ROC curve (only works with binary data)\n",
    "    fig, ax = plt.subplots()\n",
    "    plot_roc_curve(knn, X_train, y_train, name='train', ax=ax)\n",
    "    plot_roc_curve(knn, X_test, y_test, name='test', ax=ax)\n",
    "    \n",
    "    # Plot Confusion Matrix\n",
    "    plot_confusion_matrix(knn, X_train, y_train)\n",
    "    plot_confusion_matrix(knn, X_test, y_test)"
   ]
  },
  {
   "cell_type": "code",
   "execution_count": 75,
   "metadata": {
    "ExecuteTime": {
     "end_time": "2022-01-13T17:18:42.341573Z",
     "start_time": "2022-01-13T17:18:16.828482Z"
    }
   },
   "outputs": [
    {
     "name": "stdout",
     "output_type": "stream",
     "text": [
      "Number of Neighbors: 17\n",
      "Metric: manhattan\n",
      "Weights: uniform\n",
      "Mean Cross-Val Score: 0.5420036128255307\n",
      "Train Mean Accuracy: 0.6101043382756727\n",
      "Test Mean Accuracy: 0.5436573311367381\n",
      "Recall Score: 0.625\n",
      "Precision Score: 0.5710306406685237\n",
      "F1 score: 0.5967976710334789\n"
     ]
    },
    {
     "data": {
      "image/png": "[encoded data removed]",
      "text/plain": [
       "<Figure size 432x288 with 1 Axes>"
      ]
     },
     "metadata": {
      "needs_background": "light"
     },
     "output_type": "display_data"
    },
    {
     "data": {
      "image/png": "[encoded data removed]",
      "text/plain": [
       "<Figure size 432x288 with 2 Axes>"
      ]
     },
     "metadata": {
      "needs_background": "light"
     },
     "output_type": "display_data"
    },
    {
     "data": {
      "image/png": "[encoded data removed]",
      "text/plain": [
       "<Figure size 432x288 with 2 Axes>"
      ]
     },
     "metadata": {
      "needs_background": "light"
     },
     "output_type": "display_data"
    }
   ],
   "source": [
    "knn(X_train_scaled,X_test_scaled,y_train,y_test)"
   ]
  },
  {
   "cell_type": "markdown",
   "metadata": {},
   "source": [
    "# Decision Tree"
   ]
  },
  {
   "cell_type": "code",
   "execution_count": 14,
   "metadata": {
    "ExecuteTime": {
     "end_time": "2022-01-13T16:32:07.884429Z",
     "start_time": "2022-01-13T16:32:07.880602Z"
    }
   },
   "outputs": [],
   "source": [
    "dtree = DecisionTreeClassifier()"
   ]
  },
  {
   "cell_type": "code",
   "execution_count": 15,
   "metadata": {
    "ExecuteTime": {
     "end_time": "2022-01-13T16:32:09.302443Z",
     "start_time": "2022-01-13T16:32:09.205896Z"
    }
   },
   "outputs": [
    {
     "data": {
      "text/plain": [
       "DecisionTreeClassifier()"
      ]
     },
     "execution_count": 15,
     "metadata": {},
     "output_type": "execute_result"
    }
   ],
   "source": [
    "dtree.fit(X_train,y_train)"
   ]
  },
  {
   "cell_type": "code",
   "execution_count": 16,
   "metadata": {
    "ExecuteTime": {
     "end_time": "2022-01-13T16:32:10.458293Z",
     "start_time": "2022-01-13T16:32:10.445420Z"
    }
   },
   "outputs": [
    {
     "data": {
      "text/html": [
       "<div>\n",
       "<style scoped>\n",
       "    .dataframe tbody tr th:only-of-type {\n",
       "        vertical-align: middle;\n",
       "    }\n",
       "\n",
       "    .dataframe tbody tr th {\n",
       "        vertical-align: top;\n",
       "    }\n",
       "\n",
       "    .dataframe thead th {\n",
       "        text-align: right;\n",
       "    }\n",
       "</style>\n",
       "<table border=\"1\" class=\"dataframe\">\n",
       "  <thead>\n",
       "    <tr style=\"text-align: right;\">\n",
       "      <th></th>\n",
       "      <th>0</th>\n",
       "    </tr>\n",
       "  </thead>\n",
       "  <tbody>\n",
       "    <tr>\n",
       "      <th>0</th>\n",
       "      <td>0.000035</td>\n",
       "    </tr>\n",
       "    <tr>\n",
       "      <th>1</th>\n",
       "      <td>0.000000</td>\n",
       "    </tr>\n",
       "    <tr>\n",
       "      <th>2</th>\n",
       "      <td>0.000371</td>\n",
       "    </tr>\n",
       "    <tr>\n",
       "      <th>3</th>\n",
       "      <td>0.000936</td>\n",
       "    </tr>\n",
       "    <tr>\n",
       "      <th>4</th>\n",
       "      <td>0.005357</td>\n",
       "    </tr>\n",
       "    <tr>\n",
       "      <th>...</th>\n",
       "      <td>...</td>\n",
       "    </tr>\n",
       "    <tr>\n",
       "      <th>134</th>\n",
       "      <td>0.009121</td>\n",
       "    </tr>\n",
       "    <tr>\n",
       "      <th>135</th>\n",
       "      <td>0.005627</td>\n",
       "    </tr>\n",
       "    <tr>\n",
       "      <th>136</th>\n",
       "      <td>0.001360</td>\n",
       "    </tr>\n",
       "    <tr>\n",
       "      <th>137</th>\n",
       "      <td>0.003848</td>\n",
       "    </tr>\n",
       "    <tr>\n",
       "      <th>138</th>\n",
       "      <td>0.035011</td>\n",
       "    </tr>\n",
       "  </tbody>\n",
       "</table>\n",
       "<p>139 rows × 1 columns</p>\n",
       "</div>"
      ],
      "text/plain": [
       "            0\n",
       "0    0.000035\n",
       "1    0.000000\n",
       "2    0.000371\n",
       "3    0.000936\n",
       "4    0.005357\n",
       "..        ...\n",
       "134  0.009121\n",
       "135  0.005627\n",
       "136  0.001360\n",
       "137  0.003848\n",
       "138  0.035011\n",
       "\n",
       "[139 rows x 1 columns]"
      ]
     },
     "execution_count": 16,
     "metadata": {},
     "output_type": "execute_result"
    }
   ],
   "source": [
    "feature_importance=pd.DataFrame(dtree.feature_importances_)\n",
    "feature_importance"
   ]
  },
  {
   "cell_type": "code",
   "execution_count": 17,
   "metadata": {
    "ExecuteTime": {
     "end_time": "2022-01-13T16:32:16.057517Z",
     "start_time": "2022-01-13T16:32:16.052528Z"
    }
   },
   "outputs": [],
   "source": [
    "feature_importance=feature_importance.T"
   ]
  },
  {
   "cell_type": "code",
   "execution_count": 20,
   "metadata": {
    "ExecuteTime": {
     "end_time": "2022-01-13T16:33:42.313404Z",
     "start_time": "2022-01-13T16:33:42.303363Z"
    }
   },
   "outputs": [],
   "source": [
    "feature_importance.to_csv('feature_importance.csv')"
   ]
  },
  {
   "cell_type": "code",
   "execution_count": 53,
   "metadata": {
    "ExecuteTime": {
     "end_time": "2022-01-12T21:20:28.142244Z",
     "start_time": "2022-01-12T21:20:28.092876Z"
    },
    "scrolled": true
   },
   "outputs": [
    {
     "data": {
      "text/html": [
       "<div>\n",
       "<style scoped>\n",
       "    .dataframe tbody tr th:only-of-type {\n",
       "        vertical-align: middle;\n",
       "    }\n",
       "\n",
       "    .dataframe tbody tr th {\n",
       "        vertical-align: top;\n",
       "    }\n",
       "\n",
       "    .dataframe thead th {\n",
       "        text-align: right;\n",
       "    }\n",
       "</style>\n",
       "<table border=\"1\" class=\"dataframe\">\n",
       "  <thead>\n",
       "    <tr style=\"text-align: right;\">\n",
       "      <th></th>\n",
       "      <th>H_at_bats</th>\n",
       "      <th>H_runs</th>\n",
       "      <th>H_hits</th>\n",
       "      <th>H_rbi</th>\n",
       "      <th>H_earned_runs</th>\n",
       "      <th>H_bases_on_balls</th>\n",
       "      <th>H_strikeouts</th>\n",
       "      <th>H_plate_appearances</th>\n",
       "      <th>H_batting_average</th>\n",
       "      <th>H_on_base_percentage</th>\n",
       "      <th>...</th>\n",
       "      <th>A_Opp_fly_balls</th>\n",
       "      <th>A_Opp_line_drives</th>\n",
       "      <th>A_Opp_unknown_bat_type</th>\n",
       "      <th>A_Opp_game_score</th>\n",
       "      <th>A_Opp_inherited_runners</th>\n",
       "      <th>A_Opp_inherited_score</th>\n",
       "      <th>A_Opp_win_probability_by_pitcher</th>\n",
       "      <th>A_Opp_base_out_runs_saved</th>\n",
       "      <th>A_median_odds</th>\n",
       "      <th>home_fav</th>\n",
       "    </tr>\n",
       "  </thead>\n",
       "  <tbody>\n",
       "    <tr>\n",
       "      <th>0</th>\n",
       "      <td>34.209877</td>\n",
       "      <td>4.500000</td>\n",
       "      <td>8.802469</td>\n",
       "      <td>4.296296</td>\n",
       "      <td>4.191914</td>\n",
       "      <td>3.462963</td>\n",
       "      <td>8.234568</td>\n",
       "      <td>38.648148</td>\n",
       "      <td>0.252074</td>\n",
       "      <td>0.325568</td>\n",
       "      <td>...</td>\n",
       "      <td>13.111111</td>\n",
       "      <td>6.827160</td>\n",
       "      <td>0.006173</td>\n",
       "      <td>51.438272</td>\n",
       "      <td>1.440994</td>\n",
       "      <td>0.515528</td>\n",
       "      <td>-0.040438</td>\n",
       "      <td>-0.433333</td>\n",
       "      <td>-131.0</td>\n",
       "      <td>0</td>\n",
       "    </tr>\n",
       "    <tr>\n",
       "      <th>1</th>\n",
       "      <td>34.271605</td>\n",
       "      <td>4.166667</td>\n",
       "      <td>8.950617</td>\n",
       "      <td>3.950617</td>\n",
       "      <td>3.969568</td>\n",
       "      <td>2.358025</td>\n",
       "      <td>7.555556</td>\n",
       "      <td>37.358025</td>\n",
       "      <td>0.256889</td>\n",
       "      <td>0.306654</td>\n",
       "      <td>...</td>\n",
       "      <td>13.851852</td>\n",
       "      <td>6.907407</td>\n",
       "      <td>0.000000</td>\n",
       "      <td>52.382716</td>\n",
       "      <td>1.493750</td>\n",
       "      <td>0.318750</td>\n",
       "      <td>0.035586</td>\n",
       "      <td>0.180864</td>\n",
       "      <td>-123.0</td>\n",
       "      <td>0</td>\n",
       "    </tr>\n",
       "    <tr>\n",
       "      <th>2</th>\n",
       "      <td>33.833333</td>\n",
       "      <td>4.148148</td>\n",
       "      <td>8.228395</td>\n",
       "      <td>3.993827</td>\n",
       "      <td>4.000864</td>\n",
       "      <td>2.771605</td>\n",
       "      <td>9.148148</td>\n",
       "      <td>37.320988</td>\n",
       "      <td>0.237667</td>\n",
       "      <td>0.299407</td>\n",
       "      <td>...</td>\n",
       "      <td>13.808642</td>\n",
       "      <td>6.240741</td>\n",
       "      <td>0.006173</td>\n",
       "      <td>50.950617</td>\n",
       "      <td>1.543210</td>\n",
       "      <td>0.493827</td>\n",
       "      <td>0.008802</td>\n",
       "      <td>-0.098765</td>\n",
       "      <td>-141.0</td>\n",
       "      <td>0</td>\n",
       "    </tr>\n",
       "    <tr>\n",
       "      <th>3</th>\n",
       "      <td>33.950617</td>\n",
       "      <td>4.030864</td>\n",
       "      <td>8.345679</td>\n",
       "      <td>3.913580</td>\n",
       "      <td>3.778580</td>\n",
       "      <td>2.728395</td>\n",
       "      <td>7.067901</td>\n",
       "      <td>37.172840</td>\n",
       "      <td>0.239728</td>\n",
       "      <td>0.296574</td>\n",
       "      <td>...</td>\n",
       "      <td>14.907407</td>\n",
       "      <td>7.006173</td>\n",
       "      <td>0.006173</td>\n",
       "      <td>51.216049</td>\n",
       "      <td>1.367089</td>\n",
       "      <td>0.360759</td>\n",
       "      <td>0.009222</td>\n",
       "      <td>0.217284</td>\n",
       "      <td>-102.0</td>\n",
       "      <td>0</td>\n",
       "    </tr>\n",
       "    <tr>\n",
       "      <th>4</th>\n",
       "      <td>34.969136</td>\n",
       "      <td>4.641975</td>\n",
       "      <td>9.129630</td>\n",
       "      <td>4.376543</td>\n",
       "      <td>4.270370</td>\n",
       "      <td>2.858025</td>\n",
       "      <td>8.808642</td>\n",
       "      <td>38.641975</td>\n",
       "      <td>0.254932</td>\n",
       "      <td>0.312710</td>\n",
       "      <td>...</td>\n",
       "      <td>13.481481</td>\n",
       "      <td>7.308642</td>\n",
       "      <td>0.006173</td>\n",
       "      <td>47.030864</td>\n",
       "      <td>1.559006</td>\n",
       "      <td>0.552795</td>\n",
       "      <td>-0.033364</td>\n",
       "      <td>-0.499383</td>\n",
       "      <td>111.0</td>\n",
       "      <td>0</td>\n",
       "    </tr>\n",
       "  </tbody>\n",
       "</table>\n",
       "<p>5 rows × 139 columns</p>\n",
       "</div>"
      ],
      "text/plain": [
       "   H_at_bats    H_runs    H_hits     H_rbi  H_earned_runs  H_bases_on_balls  \\\n",
       "0  34.209877  4.500000  8.802469  4.296296       4.191914          3.462963   \n",
       "1  34.271605  4.166667  8.950617  3.950617       3.969568          2.358025   \n",
       "2  33.833333  4.148148  8.228395  3.993827       4.000864          2.771605   \n",
       "3  33.950617  4.030864  8.345679  3.913580       3.778580          2.728395   \n",
       "4  34.969136  4.641975  9.129630  4.376543       4.270370          2.858025   \n",
       "\n",
       "   H_strikeouts  H_plate_appearances  H_batting_average  H_on_base_percentage  \\\n",
       "0      8.234568            38.648148           0.252074              0.325568   \n",
       "1      7.555556            37.358025           0.256889              0.306654   \n",
       "2      9.148148            37.320988           0.237667              0.299407   \n",
       "3      7.067901            37.172840           0.239728              0.296574   \n",
       "4      8.808642            38.641975           0.254932              0.312710   \n",
       "\n",
       "   ...  A_Opp_fly_balls  A_Opp_line_drives  A_Opp_unknown_bat_type  \\\n",
       "0  ...        13.111111           6.827160                0.006173   \n",
       "1  ...        13.851852           6.907407                0.000000   \n",
       "2  ...        13.808642           6.240741                0.006173   \n",
       "3  ...        14.907407           7.006173                0.006173   \n",
       "4  ...        13.481481           7.308642                0.006173   \n",
       "\n",
       "   A_Opp_game_score  A_Opp_inherited_runners  A_Opp_inherited_score  \\\n",
       "0         51.438272                 1.440994               0.515528   \n",
       "1         52.382716                 1.493750               0.318750   \n",
       "2         50.950617                 1.543210               0.493827   \n",
       "3         51.216049                 1.367089               0.360759   \n",
       "4         47.030864                 1.559006               0.552795   \n",
       "\n",
       "   A_Opp_win_probability_by_pitcher  A_Opp_base_out_runs_saved  A_median_odds  \\\n",
       "0                         -0.040438                  -0.433333         -131.0   \n",
       "1                          0.035586                   0.180864         -123.0   \n",
       "2                          0.008802                  -0.098765         -141.0   \n",
       "3                          0.009222                   0.217284         -102.0   \n",
       "4                         -0.033364                  -0.499383          111.0   \n",
       "\n",
       "   home_fav  \n",
       "0         0  \n",
       "1         0  \n",
       "2         0  \n",
       "3         0  \n",
       "4         0  \n",
       "\n",
       "[5 rows x 139 columns]"
      ]
     },
     "execution_count": 53,
     "metadata": {},
     "output_type": "execute_result"
    }
   ],
   "source": [
    "df.head()"
   ]
  },
  {
   "cell_type": "code",
   "execution_count": 78,
   "metadata": {
    "ExecuteTime": {
     "end_time": "2022-01-13T17:19:33.455744Z",
     "start_time": "2022-01-13T17:19:15.969296Z"
    }
   },
   "outputs": [],
   "source": [
    "dfeats= feature_select(X_train,y_train,DecisionTreeClassifier,min_features=10)\n",
    "X_train_best_tree = X_train[dfeats]\n",
    "X_test_best_tree = X_test[dfeats]"
   ]
  },
  {
   "cell_type": "code",
   "execution_count": 79,
   "metadata": {
    "ExecuteTime": {
     "end_time": "2022-01-13T17:19:33.487628Z",
     "start_time": "2022-01-13T17:19:33.459742Z"
    }
   },
   "outputs": [],
   "source": [
    "def dtree(X_train, X_test, y_train, y_test, cv=5):\n",
    "    \n",
    "    # Set GridSearchCV hyperparameters to compare & select\n",
    "    grid = {\n",
    "    'max_depth': [3,10,15],\n",
    "    'min_samples_split': [2,8,10,15],\n",
    "    'criterion': ['gini', 'entropy']}\n",
    "    \n",
    "    # Instantiate & fit Decision Tree model for GridSearch\n",
    "    grid_dt = DecisionTreeClassifier()\n",
    "    grid_dt.fit(X_train, y_train)\n",
    "    \n",
    "    # Instantiate & fit GridSearchCV with accuracy scoring\n",
    "    gs = GridSearchCV(estimator=grid_dt, param_grid=grid, cv=cv, scoring='accuracy')\n",
    "    gs.fit(X_train, y_train)\n",
    "    \n",
    "    # Return best hyperparameters\n",
    "    dt_params = gs.best_params_\n",
    "    \n",
    "    # Use best max depth from best_params\n",
    "    dt_max_depth = dt_params['max_depth']\n",
    "    print(f'Max Depth: {dt_max_depth}')\n",
    "    \n",
    "    # Use best minimum sample split from best_params\n",
    "    dt_min_samp = dt_params['min_samples_split']\n",
    "    print(f'Min Sample Split: {dt_min_samp}')\n",
    "    \n",
    "    # Use best criterion from best_params\n",
    "    dt_criterion = dt_params['criterion']\n",
    "    print(f'criterion: {dt_criterion}')\n",
    "    \n",
    "    # Instantiate & fit Decision Tree model\n",
    "    dtree = DecisionTreeClassifier(max_depth=dt_max_depth, criterion=dt_criterion,\n",
    "                                   min_samples_split=dt_min_samp, random_state=42)\n",
    "    dtree.fit(X_train, y_train)\n",
    "    \n",
    "    # Create prediction variable using test data\n",
    "    y_pred = dtree.predict(X_test)\n",
    "    \n",
    "    # Run cross-validate score with cv folds from function parameter\n",
    "    cv_results = cross_val_score(dtree, X_train, y_train, cv=cv)\n",
    "    print(f'Mean Cross-Val Score: {cv_results.mean()}')\n",
    "    \n",
    "    # Run and print accuracy, recall, precision and f1 scores\n",
    "    train_score = dtree.score(X_train, y_train)\n",
    "    print(f'Train Mean Accuracy: {train_score}')\n",
    "    test_score = dtree.score(X_test, y_test)\n",
    "    print(f'Test Mean Accuracy: {test_score}')\n",
    "    \n",
    "    rec_score = recall_score(y_test, y_pred)\n",
    "    print(f'Recall Score: {rec_score}')\n",
    "    \n",
    "    prec_score = precision_score(y_test, y_pred)\n",
    "    print(f'Precision Score: {prec_score}')\n",
    "    \n",
    "    f1 = f1_score(y_test, y_pred)\n",
    "    print(f'F1 score: {f1}')\n",
    "    \n",
    "    # Plot an ROC curve (only works with binary data)\n",
    "    fig, ax = plt.subplots()\n",
    "    plot_roc_curve(dtree, X_train, y_train, name='train', ax=ax)\n",
    "    plot_roc_curve(dtree, X_test, y_test, name='test', ax=ax)\n",
    "    \n",
    "    # Plot Confusion Matrix\n",
    "    plot_confusion_matrix(dtree, X_train, y_train)\n",
    "    plot_confusion_matrix(dtree, X_test, y_test)"
   ]
  },
  {
   "cell_type": "code",
   "execution_count": 80,
   "metadata": {
    "ExecuteTime": {
     "end_time": "2022-01-13T17:19:41.109891Z",
     "start_time": "2022-01-13T17:19:33.510916Z"
    }
   },
   "outputs": [
    {
     "name": "stdout",
     "output_type": "stream",
     "text": [
      "Max Depth: 15\n",
      "Min Sample Split: 15\n",
      "criterion: gini\n",
      "Mean Cross-Val Score: 0.5304847207586934\n",
      "Train Mean Accuracy: 0.6941241076331686\n",
      "Test Mean Accuracy: 0.5354200988467874\n",
      "Recall Score: 0.5609756097560976\n",
      "Precision Score: 0.5714285714285714\n",
      "F1 score: 0.5661538461538462\n"
     ]
    },
    {
     "data": {
      "image/png": "[encoded data removed]",
      "text/plain": [
       "<Figure size 432x288 with 1 Axes>"
      ]
     },
     "metadata": {
      "needs_background": "light"
     },
     "output_type": "display_data"
    },
    {
     "data": {
      "image/png": "[encoded data removed]",
      "text/plain": [
       "<Figure size 432x288 with 2 Axes>"
      ]
     },
     "metadata": {
      "needs_background": "light"
     },
     "output_type": "display_data"
    },
    {
     "data": {
      "image/png": "[encoded data removed]",
      "text/plain": [
       "<Figure size 432x288 with 2 Axes>"
      ]
     },
     "metadata": {
      "needs_background": "light"
     },
     "output_type": "display_data"
    }
   ],
   "source": [
    "dtree(X_train_best_tree,X_test_best_tree,y_train,y_test)"
   ]
  },
  {
   "cell_type": "markdown",
   "metadata": {},
   "source": [
    "# Random Forest"
   ]
  },
  {
   "cell_type": "code",
   "execution_count": 84,
   "metadata": {
    "ExecuteTime": {
     "end_time": "2022-01-13T17:27:12.574018Z",
     "start_time": "2022-01-13T17:21:06.701331Z"
    }
   },
   "outputs": [],
   "source": [
    "rfeats= feature_select(X_train,y_train,RandomForestClassifier,min_features=10)\n",
    "X_train_best_for = X_train[rfeats]\n",
    "X_test_best_for = X_test[rfeats]"
   ]
  },
  {
   "cell_type": "code",
   "execution_count": 85,
   "metadata": {
    "ExecuteTime": {
     "end_time": "2022-01-13T17:27:12.642185Z",
     "start_time": "2022-01-13T17:27:12.577296Z"
    }
   },
   "outputs": [],
   "source": [
    "def random_forest(X_train, X_test, y_train, y_test, cv=5):\n",
    "    \n",
    "    # Set GridSearchCV hyperparameters to compare & select\n",
    "    grid = {\n",
    "    'n_estimators': [75,90,100,110,115,125,150,500],\n",
    "    'criterion': ['gini', 'entropy']}\n",
    "    \n",
    "    # Instantiate & fit Random Forest model for GridSearch\n",
    "    grid_rf = RandomForestClassifier()\n",
    "    grid_rf.fit(X_train,y_train)\n",
    "    \n",
    "    # Instantiate & fit GridSearchCV with accuracy scoring\n",
    "    gs = GridSearchCV(estimator=grid_rf, param_grid=grid, cv=cv, scoring='accuracy')\n",
    "    gs.fit(X_train, y_train)\n",
    "    \n",
    "    # Return best hyperparameters\n",
    "    rf_params = gs.best_params_\n",
    "    \n",
    "    # Use best # of trees from best_params\n",
    "    rf_n_estimators = rf_params['n_estimators']\n",
    "    print(f'Number of Trees: {rf_n_estimators}')\n",
    "    \n",
    "    # Use best criterion from best_params\n",
    "    rf_criterion = rf_params['criterion']\n",
    "    print(f'criterion: {rf_criterion}')\n",
    "    \n",
    "    # Instantiate & fit Random Forest model\n",
    "    rforest = RandomForestClassifier(n_estimators=rf_n_estimators, criterion=rf_criterion,\n",
    "                                    random_state=42)\n",
    "    rforest.fit(X_train, y_train)\n",
    "    \n",
    "    # Create prediction variable using test data\n",
    "    y_pred = rforest.predict(X_test)\n",
    "    \n",
    "    # Run cross-validate score with cv folds from function parameter\n",
    "    cv_results = cross_val_score(rforest, X_train, y_train, cv=cv)\n",
    "    print(f'Mean Cross-Val Score: {cv_results.mean()}')\n",
    "    \n",
    "    # Run and print accuracy, recall, precision and f1 scores\n",
    "    train_score = rforest.score(X_train, y_train)\n",
    "    print(f'Train Mean Accuracy: {train_score}')\n",
    "    test_score = rforest.score(X_test, y_test)\n",
    "    print(f'Test Mean Accuracy: {test_score}')\n",
    "    \n",
    "    rec_score = recall_score(y_test, y_pred)\n",
    "    print(f'Recall Score: {rec_score}')\n",
    "    \n",
    "    prec_score = precision_score(y_test, y_pred)\n",
    "    print(f'Precision Score: {prec_score}')\n",
    "    \n",
    "    f1 = f1_score(y_test, y_pred)\n",
    "    print(f'F1 score: {f1}')\n",
    "    \n",
    "    # Plot an ROC curve (only works with binary data)\n",
    "    fig, ax = plt.subplots()\n",
    "    plot_roc_curve(rforest, X_train, y_train, name='train', ax=ax)\n",
    "    plot_roc_curve(rforest, X_test, y_test, name='test', ax=ax)\n",
    "    \n",
    "    # Plot Confusion Matrix\n",
    "    plot_confusion_matrix(rforest, X_train, y_train)\n",
    "    plot_confusion_matrix(rforest, X_test, y_test);\n"
   ]
  },
  {
   "cell_type": "code",
   "execution_count": 86,
   "metadata": {
    "ExecuteTime": {
     "end_time": "2022-01-13T17:28:03.432833Z",
     "start_time": "2022-01-13T17:27:12.646725Z"
    }
   },
   "outputs": [
    {
     "name": "stdout",
     "output_type": "stream",
     "text": [
      "Number of Trees: 150\n",
      "criterion: entropy\n",
      "Mean Cross-Val Score: 0.5310311606202017\n",
      "Train Mean Accuracy: 0.71444261394838\n",
      "Test Mean Accuracy: 0.5255354200988468\n",
      "Recall Score: 0.5975609756097561\n",
      "Precision Score: 0.5568181818181818\n",
      "F1 score: 0.5764705882352941\n"
     ]
    },
    {
     "data": {
      "image/png": "[encoded data removed]",
      "text/plain": [
       "<Figure size 432x288 with 1 Axes>"
      ]
     },
     "metadata": {
      "needs_background": "light"
     },
     "output_type": "display_data"
    },
    {
     "data": {
      "image/png": "[encoded data removed]",
      "text/plain": [
       "<Figure size 432x288 with 2 Axes>"
      ]
     },
     "metadata": {
      "needs_background": "light"
     },
     "output_type": "display_data"
    },
    {
     "data": {
      "image/png": "[encoded data removed]",
      "text/plain": [
       "<Figure size 432x288 with 2 Axes>"
      ]
     },
     "metadata": {
      "needs_background": "light"
     },
     "output_type": "display_data"
    }
   ],
   "source": [
    "random_forest(X_train_best_for,X_test_best_for,y_train,y_test)"
   ]
  },
  {
   "cell_type": "markdown",
   "metadata": {},
   "source": [
    "# Bagging Classifier"
   ]
  },
  {
   "cell_type": "code",
   "execution_count": 68,
   "metadata": {
    "ExecuteTime": {
     "end_time": "2022-01-13T17:12:48.592144Z",
     "start_time": "2022-01-13T17:12:48.570797Z"
    }
   },
   "outputs": [],
   "source": [
    "def bagged(X_train, X_test, y_train, y_test, cv=5):\n",
    "\n",
    "    # Set GridSearchCV hyperparameters to compare & select\n",
    "    grid = {\n",
    "    'base_estimator__max_depth': [2,5,15],\n",
    "    'base_estimator__criterion': ['gini', 'entropy'],\n",
    "    'max_samples': [1,2,3,5],\n",
    "    'max_features': [1,2,3,5],\n",
    "    'n_estimators': [10,50,100,500]}\n",
    "    \n",
    "    # Instantiate & fit Bagging Classifier model for GridSearch\n",
    "    grid_bag = BaggingClassifier(DecisionTreeClassifier(), random_state=42)\n",
    "    grid_bag.fit(X_train, y_train)\n",
    "    \n",
    "    # Instantiate & fit GridSearchCV with accuracy scoring\n",
    "    gs = GridSearchCV(estimator=grid_bag, param_grid=grid, cv=cv, scoring='accuracy')\n",
    "    gs.fit(X_train, y_train)\n",
    "    \n",
    "    # Return best hyperparameters\n",
    "    bag_params = gs.best_params_\n",
    "    \n",
    "    # Use best max depth from best_params\n",
    "    bag_max_depth = bag_params['base_estimator__max_depth']\n",
    "    print(f'Dec Tree Max Depth: {bag_max_depth}')\n",
    "    \n",
    "    # Use best criterion from best_params\n",
    "    bag_criterion = bag_params['base_estimator__criterion']\n",
    "    print(f'Dec Tree Criterion: {bag_criterion}')\n",
    "    \n",
    "    # Use best max samples from best_params\n",
    "    bag_max_sample = bag_params['max_samples']\n",
    "    print(f'Bagging Max Samples: {bag_max_sample}')\n",
    "    \n",
    "    # Use best max features from best_params\n",
    "    bag_max_features = bag_params['max_features']\n",
    "    print(f'Bag Max Features: {bag_max_features}')\n",
    "    \n",
    "    # Use best estimators from best_params\n",
    "    bag_estimators = bag_params['n_estimators']\n",
    "    print(f'# of Base Estimators: {bag_estimators}')\n",
    "    \n",
    "    # Instantiate & fit Bagging Classifier model\n",
    "    bagging = BaggingClassifier(DecisionTreeClassifier(max_depth=bag_max_depth,\n",
    "                                criterion=bag_criterion), max_samples=bag_max_sample,\n",
    "                                max_features=bag_max_features, n_estimators=bag_estimators,\n",
    "                                random_state=42)\n",
    "    bagging.fit(X_train, y_train)\n",
    "    \n",
    "    # Create prediction variable using test data\n",
    "    y_pred = bagging.predict(X_test)\n",
    "    \n",
    "    # Run cross-validate score with cv folds from function parameter\n",
    "    cv_results = cross_val_score(bagging, X_train, y_train, cv=cv)\n",
    "    print(f'Mean Cross-Val Score: {cv_results.mean()}')\n",
    "    \n",
    "    # Run and print accuracy, recall, precision and f1 scores\n",
    "    train_score = bagging.score(X_train, y_train)\n",
    "    print(f'Train Mean Accuracy Score: {train_score}')\n",
    "    test_score = bagging.score(X_test, y_test)\n",
    "    print(f'Test Mean Accuracy Score: {test_score}')\n",
    "    \n",
    "    rec_score = recall_score(y_test, y_pred)\n",
    "    print(f'Recall Score: {rec_score}')\n",
    "    \n",
    "    prec_score = precision_score(y_test, y_pred)\n",
    "    print(f'Precision Score: {prec_score}')\n",
    "    \n",
    "    f1 = f1_score(y_test, y_pred)\n",
    "    print(f'F1 score: {f1}')\n",
    "    \n",
    "    # Plot an ROC curve (only works with binary data)\n",
    "    fig, ax = plt.subplots()\n",
    "    plot_roc_curve(bagging, X_train, y_train, name='train', ax=ax)\n",
    "    plot_roc_curve(bagging, X_test, y_test, name='test', ax=ax)\n",
    "    \n",
    "    # Plot Confusion Matrix\n",
    "    plot_confusion_matrix(bagging, X_train, y_train)\n",
    "    plot_confusion_matrix(bagging, X_test, y_test);"
   ]
  },
  {
   "cell_type": "code",
   "execution_count": 87,
   "metadata": {
    "ExecuteTime": {
     "end_time": "2022-01-13T17:39:17.343153Z",
     "start_time": "2022-01-13T17:28:03.438085Z"
    }
   },
   "outputs": [
    {
     "name": "stdout",
     "output_type": "stream",
     "text": [
      "Dec Tree Max Depth: 5\n",
      "Dec Tree Criterion: gini\n",
      "Bagging Max Samples: 5\n",
      "Bag Max Features: 3\n",
      "# of Base Estimators: 500\n",
      "Mean Cross-Val Score: 0.5436564805057955\n",
      "Train Mean Accuracy Score: 0.5392641405820977\n",
      "Test Mean Accuracy Score: 0.5749588138385503\n",
      "Recall Score: 0.7378048780487805\n",
      "Precision Score: 0.5845410628019324\n",
      "F1 score: 0.6522911051212938\n"
     ]
    },
    {
     "data": {
      "image/png": "[encoded data removed]",
      "text/plain": [
       "<Figure size 432x288 with 1 Axes>"
      ]
     },
     "metadata": {
      "needs_background": "light"
     },
     "output_type": "display_data"
    },
    {
     "data": {
      "image/png": "[encoded data removed]",
      "text/plain": [
       "<Figure size 432x288 with 2 Axes>"
      ]
     },
     "metadata": {
      "needs_background": "light"
     },
     "output_type": "display_data"
    },
    {
     "data": {
      "image/png": "[encoded data removed]",
      "text/plain": [
       "<Figure size 432x288 with 2 Axes>"
      ]
     },
     "metadata": {
      "needs_background": "light"
     },
     "output_type": "display_data"
    }
   ],
   "source": [
    "bagged(X_train_best_tree,X_test_best_tree,y_train,y_test)"
   ]
  },
  {
   "cell_type": "markdown",
   "metadata": {},
   "source": [
    "# XGBoost"
   ]
  },
  {
   "cell_type": "code",
   "execution_count": 88,
   "metadata": {
    "ExecuteTime": {
     "end_time": "2022-01-13T17:45:26.703431Z",
     "start_time": "2022-01-13T17:39:17.349250Z"
    }
   },
   "outputs": [],
   "source": [
    "xfeats= feature_select(X_train,y_train,XGBClassifier,min_features=10)\n",
    "X_train_best_x = X_train[xfeats]\n",
    "X_test_best_x = X_test[xfeats]"
   ]
  },
  {
   "cell_type": "code",
   "execution_count": 89,
   "metadata": {
    "ExecuteTime": {
     "end_time": "2022-01-13T17:45:26.785568Z",
     "start_time": "2022-01-13T17:45:26.706388Z"
    }
   },
   "outputs": [],
   "source": [
    "def xgboost(X_train, X_test, y_train, y_test, cv=5):\n",
    "    \n",
    "    # Set GridSearchCV hyperparameters to compare & select\n",
    "    grid = {\n",
    "    'learning_rate': [.05,.1,.2,.3],\n",
    "    'max_depth': [3,6,10],\n",
    "    'min_child_weight': [1,2],\n",
    "    'subsample': [.5,.7,1],\n",
    "    'n_estimators': [100,300,500],\n",
    "    'early_stopping_rounds': [15]}\n",
    "    \n",
    "    # Instantiate & fit XGClassifier\n",
    "    xgb = XGBClassifier(verbosity=0, random_state=42)\n",
    "    xgb.fit(X_train, y_train)\n",
    "    \n",
    "    # Instantiate & fit GridSearchCV with accuracy scoring\n",
    "    gs = GridSearchCV(estimator=xgb, param_grid=grid, cv=cv, scoring='accuracy')\n",
    "    gs.fit(X_train, y_train)\n",
    "    \n",
    "    # Return best hyperparameters\n",
    "    xgb_params = gs.best_params_\n",
    "    \n",
    "    # Use best learning rate from best_params\n",
    "    xgb_lr = xgb_params['learning_rate']\n",
    "    print(f'XGBoost Learning Rate: {xgb_lr}')\n",
    "    \n",
    "    # Use best max depth from best_params\n",
    "    xgb_max_depth = xgb_params['max_depth']\n",
    "    print(f'XGBoost Max Depth: {xgb_max_depth}')\n",
    "    \n",
    "    # Use best min child weight from best_params\n",
    "    xgb_min_child_weight = xgb_params['min_child_weight']\n",
    "    print(f'XGBoost Min Child Weight: {xgb_min_child_weight}')\n",
    "    \n",
    "    # Use best subsample from best_params\n",
    "    xgb_subsample = xgb_params['subsample']\n",
    "    print(f'XGBoost Subsample: {xgb_subsample}')\n",
    "    \n",
    "    # Use best estimators from best_params\n",
    "    xgb_estimators = xgb_params['n_estimators']\n",
    "    print(f'XGBoost Estimators: {xgb_estimators}')\n",
    "    \n",
    "    # Use best criterion from best_params\n",
    "    xgb_stop = xgb_params['early_stopping_rounds']\n",
    "    print(f'Stopped in Round: {xgb_stop}')\n",
    "    \n",
    "    # Create prediction variable using test data\n",
    "    y_pred = xgb.predict(X_test)\n",
    "    \n",
    "    # Run cross-validate score with cv folds from function parameter\n",
    "    cv_results = cross_val_score(xgb, X_train, y_train, cv=cv)\n",
    "    print(f'Mean Cross-Val Score: {cv_results.mean()}')\n",
    "    \n",
    "    # Run and print accuracy, recall, precision and f1 scores\n",
    "    train_score = xgb.score(X_train, y_train)\n",
    "    print(f'Train Mean Accuracy Score: {train_score}')\n",
    "    test_score = xgb.score(X_test, y_test)\n",
    "    print(f'Test Mean Accuracy Score: {test_score}')\n",
    "    \n",
    "    rec_score = recall_score(y_test, y_pred)\n",
    "    print(f'Recall Score: {rec_score}')\n",
    "    \n",
    "    prec_score = precision_score(y_test, y_pred)\n",
    "    print(f'Precision Score: {prec_score}')\n",
    "    \n",
    "    f1 = f1_score(y_test, y_pred)\n",
    "    print(f'F1 score: {f1}')\n",
    "    \n",
    "    # Plot an ROC curve (only works with binary data)\n",
    "    fig, ax = plt.subplots()\n",
    "    plot_roc_curve(xgb, X_train, y_train, name='train', ax=ax)\n",
    "    plot_roc_curve(xgb, X_test, y_test, name='test', ax=ax)\n",
    "    \n",
    "    # Plot Confusion Matrix\n",
    "    plot_confusion_matrix(xgb, X_train, y_train)\n",
    "    plot_confusion_matrix(xgb, X_test, y_test);"
   ]
  },
  {
   "cell_type": "code",
   "execution_count": 90,
   "metadata": {
    "ExecuteTime": {
     "end_time": "2022-01-13T17:52:05.136608Z",
     "start_time": "2022-01-13T17:45:26.790672Z"
    }
   },
   "outputs": [
    {
     "name": "stdout",
     "output_type": "stream",
     "text": [
      "XGBoost Learning Rate: 0.05\n",
      "XGBoost Max Depth: 3\n",
      "XGBoost Min Child Weight: 2\n",
      "XGBoost Subsample: 0.5\n",
      "XGBoost Estimators: 100\n",
      "Stopped in Round: 15\n",
      "Mean Cross-Val Score: 0.5271865121180189\n",
      "Train Mean Accuracy Score: 0.71444261394838\n",
      "Test Mean Accuracy Score: 0.5271828665568369\n",
      "Recall Score: 0.5853658536585366\n",
      "Precision Score: 0.5597667638483965\n",
      "F1 score: 0.572280178837556\n"
     ]
    },
    {
     "data": {
      "image/png": "[encoded data removed]",
      "text/plain": [
       "<Figure size 432x288 with 1 Axes>"
      ]
     },
     "metadata": {
      "needs_background": "light"
     },
     "output_type": "display_data"
    },
    {
     "data": {
      "image/png": "[encoded data removed]",
      "text/plain": [
       "<Figure size 432x288 with 2 Axes>"
      ]
     },
     "metadata": {
      "needs_background": "light"
     },
     "output_type": "display_data"
    },
    {
     "data": {
      "image/png": "[encoded data removed]",
      "text/plain": [
       "<Figure size 432x288 with 2 Axes>"
      ]
     },
     "metadata": {
      "needs_background": "light"
     },
     "output_type": "display_data"
    }
   ],
   "source": [
    "xgboost(X_train_best_x, X_test_best_x, y_train, y_test, cv=5)"
   ]
  },
  {
   "cell_type": "code",
   "execution_count": null,
   "metadata": {},
   "outputs": [],
   "source": []
  }
 ],
 "metadata": {
  "kernelspec": {
   "display_name": "Python (learn-env)",
   "language": "python",
   "name": "learn-env"
  },
  "language_info": {
   "codemirror_mode": {
    "name": "ipython",
    "version": 3
   },
   "file_extension": ".py",
   "mimetype": "text/x-python",
   "name": "python",
   "nbconvert_exporter": "python",
   "pygments_lexer": "ipython3",
   "version": "3.8.5"
  }
 },
 "nbformat": 4,
 "nbformat_minor": 4
}

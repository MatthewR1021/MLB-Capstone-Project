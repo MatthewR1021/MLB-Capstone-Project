{
 "cells": [
  {
   "cell_type": "code",
   "execution_count": 121,
   "metadata": {
    "ExecuteTime": {
     "end_time": "2022-01-19T19:22:49.737656Z",
     "start_time": "2022-01-19T19:22:49.625413Z"
    }
   },
   "outputs": [],
   "source": [
    "# Import the relevant packages\n",
    "import pandas as pd\n",
    "import numpy as np\n",
    "import matplotlib.pyplot as plt\n",
    "from sklearn.linear_model import LogisticRegression\n",
    "from sklearn.model_selection import cross_val_score, train_test_split,GridSearchCV\n",
    "from sklearn.metrics import plot_confusion_matrix, plot_roc_curve, accuracy_score, \\\n",
    "recall_score, precision_score, f1_score\n",
    "from sklearn.neighbors import KNeighborsClassifier\n",
    "from sklearn.preprocessing import StandardScaler\n",
    "from sklearn.tree import DecisionTreeClassifier, plot_tree\n",
    "from sklearn.ensemble import BaggingClassifier, RandomForestClassifier\n",
    "from sklearn.datasets import load_iris\n",
    "from sklearn.ensemble import AdaBoostClassifier, GradientBoostingClassifier\n",
    "from xgboost import XGBClassifier\n",
    "import statsmodels.api as sm\n",
    "from sklearn.feature_selection import RFECV\n",
    "from sklearn.decomposition import PCA\n",
    "import warnings\n",
    "warnings.filterwarnings(\"ignore\")"
   ]
  },
  {
   "cell_type": "code",
   "execution_count": 148,
   "metadata": {
    "ExecuteTime": {
     "end_time": "2022-01-19T19:27:55.193703Z",
     "start_time": "2022-01-19T19:27:55.189649Z"
    }
   },
   "outputs": [],
   "source": [
    "#Import functions notebook and load data set here\n",
    "import sys\n",
    "sys.path.append(\"../\")\n",
    "from Modeling_functions import *"
   ]
  },
  {
   "cell_type": "code",
   "execution_count": 144,
   "metadata": {
    "ExecuteTime": {
     "end_time": "2022-01-19T19:23:51.026255Z",
     "start_time": "2022-01-19T19:23:50.987625Z"
    }
   },
   "outputs": [],
   "source": [
    "def new_acc(probabilities):\n",
    "    class_list2=[]\n",
    "    for log in probabilities:\n",
    "        if log[0]<.40:\n",
    "            class_list2.append(1)\n",
    "        elif log[0]>.60:\n",
    "            class_list2.append(0)\n",
    "        else:\n",
    "            class_list2.append(3)\n",
    "    y_pred_class=pd.DataFrame(class_list2)\n",
    "    y_pred_class.reset_index(inplace=True)\n",
    "    y_test_df=pd.DataFrame(y_test)\n",
    "    y_test_df.reset_index(inplace=True)\n",
    "    comb=pd.concat([y_test_df,y_pred_class],axis=1)\n",
    "    comb.drop(['index','index'],axis=1,inplace=True)\n",
    "    comb['pred']=comb[0]\n",
    "    comb.drop([0],axis=1,inplace=True)\n",
    "    comb.drop(comb[comb['pred'] == 3].index, inplace = True)\n",
    "    count=0\n",
    "    for bools in comb['home_win']==comb['pred']:\n",
    "        if bools is True:\n",
    "            count+=1\n",
    "        else:\n",
    "            pass\n",
    "    accuracy=count/len(comb)\n",
    "    \n",
    "    return accuracy"
   ]
  },
  {
   "cell_type": "code",
   "execution_count": 123,
   "metadata": {
    "ExecuteTime": {
     "end_time": "2022-01-19T19:22:51.336330Z",
     "start_time": "2022-01-19T19:22:51.076562Z"
    }
   },
   "outputs": [],
   "source": [
    "df=pd.read_csv('../data/Season_2017.csv')"
   ]
  },
  {
   "cell_type": "code",
   "execution_count": 124,
   "metadata": {
    "ExecuteTime": {
     "end_time": "2022-01-19T19:22:51.359611Z",
     "start_time": "2022-01-19T19:22:51.339952Z"
    }
   },
   "outputs": [],
   "source": [
    "df.drop(['Unnamed: 0'],axis=1,inplace=True)"
   ]
  },
  {
   "cell_type": "code",
   "execution_count": 125,
   "metadata": {
    "ExecuteTime": {
     "end_time": "2022-01-19T19:22:51.569773Z",
     "start_time": "2022-01-19T19:22:51.527799Z"
    }
   },
   "outputs": [],
   "source": [
    "df2=pd.read_csv('../data/Playoffs_2017.csv').drop('Unnamed: 0',axis=1)"
   ]
  },
  {
   "cell_type": "markdown",
   "metadata": {},
   "source": [
    "Find and eliminate NaNs"
   ]
  },
  {
   "cell_type": "code",
   "execution_count": 126,
   "metadata": {
    "ExecuteTime": {
     "end_time": "2022-01-19T19:22:51.937812Z",
     "start_time": "2022-01-19T19:22:51.924344Z"
    }
   },
   "outputs": [],
   "source": [
    "df=df.drop(['H_win_probability_subtracted','A_win_probability_subtracted','A_Opp_win_probability_subtracted',\n",
    "         'H_Opp_win_probability_subtracted'],axis=1)"
   ]
  },
  {
   "cell_type": "code",
   "execution_count": 127,
   "metadata": {
    "ExecuteTime": {
     "end_time": "2022-01-19T19:22:52.171557Z",
     "start_time": "2022-01-19T19:22:52.161535Z"
    },
    "scrolled": true
   },
   "outputs": [],
   "source": [
    "df2=df2.drop(['H_win_probability_subtracted','A_win_probability_subtracted','A_Opp_win_probability_subtracted',\n",
    "         'H_Opp_win_probability_subtracted','H_median_odds','A_median_odds','fav_win','home_fav'],axis=1)"
   ]
  },
  {
   "cell_type": "code",
   "execution_count": 128,
   "metadata": {
    "ExecuteTime": {
     "end_time": "2022-01-19T19:22:52.534620Z",
     "start_time": "2022-01-19T19:22:52.507137Z"
    }
   },
   "outputs": [
    {
     "data": {
      "text/plain": [
       "1    0.539506\n",
       "0    0.460494\n",
       "Name: home_win, dtype: float64"
      ]
     },
     "execution_count": 128,
     "metadata": {},
     "output_type": "execute_result"
    }
   ],
   "source": [
    "df.home_win.value_counts(normalize=True)"
   ]
  },
  {
   "cell_type": "code",
   "execution_count": 129,
   "metadata": {
    "ExecuteTime": {
     "end_time": "2022-01-19T19:22:52.838364Z",
     "start_time": "2022-01-19T19:22:52.824859Z"
    }
   },
   "outputs": [
    {
     "data": {
      "text/plain": [
       "1    0.722222\n",
       "0    0.277778\n",
       "Name: home_win, dtype: float64"
      ]
     },
     "execution_count": 129,
     "metadata": {},
     "output_type": "execute_result"
    }
   ],
   "source": [
    "df2.home_win.value_counts(normalize=True)"
   ]
  },
  {
   "cell_type": "code",
   "execution_count": 130,
   "metadata": {
    "ExecuteTime": {
     "end_time": "2022-01-19T19:22:53.317510Z",
     "start_time": "2022-01-19T19:22:53.097177Z"
    }
   },
   "outputs": [
    {
     "data": {
      "text/html": [
       "<div>\n",
       "<style scoped>\n",
       "    .dataframe tbody tr th:only-of-type {\n",
       "        vertical-align: middle;\n",
       "    }\n",
       "\n",
       "    .dataframe tbody tr th {\n",
       "        vertical-align: top;\n",
       "    }\n",
       "\n",
       "    .dataframe thead th {\n",
       "        text-align: right;\n",
       "    }\n",
       "</style>\n",
       "<table border=\"1\" class=\"dataframe\">\n",
       "  <thead>\n",
       "    <tr style=\"text-align: right;\">\n",
       "      <th></th>\n",
       "      <th>H_name</th>\n",
       "      <th>H_at_bats</th>\n",
       "      <th>H_runs</th>\n",
       "      <th>H_hits</th>\n",
       "      <th>H_rbi</th>\n",
       "      <th>H_earned_runs</th>\n",
       "      <th>H_bases_on_balls</th>\n",
       "      <th>H_strikeouts</th>\n",
       "      <th>H_plate_appearances</th>\n",
       "      <th>H_batting_average</th>\n",
       "      <th>...</th>\n",
       "      <th>A_Opp_grounded_balls</th>\n",
       "      <th>A_Opp_fly_balls</th>\n",
       "      <th>A_Opp_line_drives</th>\n",
       "      <th>A_Opp_unknown_bat_type</th>\n",
       "      <th>A_Opp_game_score</th>\n",
       "      <th>A_Opp_inherited_runners</th>\n",
       "      <th>A_Opp_inherited_score</th>\n",
       "      <th>A_Opp_win_probability_by_pitcher</th>\n",
       "      <th>A_Opp_base_out_runs_saved</th>\n",
       "      <th>home_win</th>\n",
       "    </tr>\n",
       "  </thead>\n",
       "  <tbody>\n",
       "    <tr>\n",
       "      <th>0</th>\n",
       "      <td>NYY</td>\n",
       "      <td>34.210526</td>\n",
       "      <td>4.052632</td>\n",
       "      <td>7.000000</td>\n",
       "      <td>3.789474</td>\n",
       "      <td>3.380526</td>\n",
       "      <td>3.526316</td>\n",
       "      <td>11.736842</td>\n",
       "      <td>38.315789</td>\n",
       "      <td>0.200579</td>\n",
       "      <td>...</td>\n",
       "      <td>8.000000</td>\n",
       "      <td>20.000000</td>\n",
       "      <td>7.000000</td>\n",
       "      <td>0.0</td>\n",
       "      <td>30.000000</td>\n",
       "      <td>7.000000</td>\n",
       "      <td>1.000000</td>\n",
       "      <td>0.043000</td>\n",
       "      <td>0.900000</td>\n",
       "      <td>1</td>\n",
       "    </tr>\n",
       "    <tr>\n",
       "      <th>1</th>\n",
       "      <td>ARI</td>\n",
       "      <td>34.714286</td>\n",
       "      <td>6.142857</td>\n",
       "      <td>9.571429</td>\n",
       "      <td>5.857143</td>\n",
       "      <td>6.251429</td>\n",
       "      <td>3.142857</td>\n",
       "      <td>9.571429</td>\n",
       "      <td>38.285714</td>\n",
       "      <td>0.263000</td>\n",
       "      <td>...</td>\n",
       "      <td>13.000000</td>\n",
       "      <td>17.000000</td>\n",
       "      <td>10.000000</td>\n",
       "      <td>0.0</td>\n",
       "      <td>33.000000</td>\n",
       "      <td>2.000000</td>\n",
       "      <td>1.000000</td>\n",
       "      <td>0.037000</td>\n",
       "      <td>-3.000000</td>\n",
       "      <td>1</td>\n",
       "    </tr>\n",
       "    <tr>\n",
       "      <th>3</th>\n",
       "      <td>CLE</td>\n",
       "      <td>33.636364</td>\n",
       "      <td>4.363636</td>\n",
       "      <td>6.000000</td>\n",
       "      <td>4.090909</td>\n",
       "      <td>3.477273</td>\n",
       "      <td>4.000000</td>\n",
       "      <td>12.090909</td>\n",
       "      <td>39.000000</td>\n",
       "      <td>0.175818</td>\n",
       "      <td>...</td>\n",
       "      <td>10.684211</td>\n",
       "      <td>12.210526</td>\n",
       "      <td>5.368421</td>\n",
       "      <td>0.0</td>\n",
       "      <td>53.263158</td>\n",
       "      <td>2.777778</td>\n",
       "      <td>0.388889</td>\n",
       "      <td>0.144684</td>\n",
       "      <td>1.015789</td>\n",
       "      <td>1</td>\n",
       "    </tr>\n",
       "    <tr>\n",
       "      <th>4</th>\n",
       "      <td>HOU</td>\n",
       "      <td>33.750000</td>\n",
       "      <td>4.700000</td>\n",
       "      <td>8.450000</td>\n",
       "      <td>4.400000</td>\n",
       "      <td>4.706000</td>\n",
       "      <td>3.400000</td>\n",
       "      <td>7.100000</td>\n",
       "      <td>37.700000</td>\n",
       "      <td>0.241200</td>\n",
       "      <td>...</td>\n",
       "      <td>8.166667</td>\n",
       "      <td>20.833333</td>\n",
       "      <td>10.333333</td>\n",
       "      <td>0.0</td>\n",
       "      <td>52.333333</td>\n",
       "      <td>2.000000</td>\n",
       "      <td>1.000000</td>\n",
       "      <td>0.103000</td>\n",
       "      <td>0.900000</td>\n",
       "      <td>1</td>\n",
       "    </tr>\n",
       "    <tr>\n",
       "      <th>8</th>\n",
       "      <td>WSN</td>\n",
       "      <td>32.250000</td>\n",
       "      <td>4.250000</td>\n",
       "      <td>6.500000</td>\n",
       "      <td>3.875000</td>\n",
       "      <td>4.187500</td>\n",
       "      <td>5.000000</td>\n",
       "      <td>8.250000</td>\n",
       "      <td>38.125000</td>\n",
       "      <td>0.190500</td>\n",
       "      <td>...</td>\n",
       "      <td>11.533333</td>\n",
       "      <td>13.000000</td>\n",
       "      <td>4.933333</td>\n",
       "      <td>0.0</td>\n",
       "      <td>60.666667</td>\n",
       "      <td>1.133333</td>\n",
       "      <td>0.266667</td>\n",
       "      <td>0.119667</td>\n",
       "      <td>1.786667</td>\n",
       "      <td>0</td>\n",
       "    </tr>\n",
       "    <tr>\n",
       "      <th>9</th>\n",
       "      <td>LAD</td>\n",
       "      <td>32.842105</td>\n",
       "      <td>5.684211</td>\n",
       "      <td>8.263158</td>\n",
       "      <td>5.263158</td>\n",
       "      <td>5.519474</td>\n",
       "      <td>4.578947</td>\n",
       "      <td>8.736842</td>\n",
       "      <td>38.631579</td>\n",
       "      <td>0.244474</td>\n",
       "      <td>...</td>\n",
       "      <td>13.142857</td>\n",
       "      <td>15.000000</td>\n",
       "      <td>8.000000</td>\n",
       "      <td>0.0</td>\n",
       "      <td>45.428571</td>\n",
       "      <td>2.428571</td>\n",
       "      <td>0.857143</td>\n",
       "      <td>0.008429</td>\n",
       "      <td>-1.571429</td>\n",
       "      <td>1</td>\n",
       "    </tr>\n",
       "    <tr>\n",
       "      <th>18</th>\n",
       "      <td>WSN</td>\n",
       "      <td>32.250000</td>\n",
       "      <td>4.250000</td>\n",
       "      <td>6.500000</td>\n",
       "      <td>3.875000</td>\n",
       "      <td>4.187500</td>\n",
       "      <td>5.000000</td>\n",
       "      <td>8.250000</td>\n",
       "      <td>38.125000</td>\n",
       "      <td>0.190500</td>\n",
       "      <td>...</td>\n",
       "      <td>11.533333</td>\n",
       "      <td>13.000000</td>\n",
       "      <td>4.933333</td>\n",
       "      <td>0.0</td>\n",
       "      <td>60.666667</td>\n",
       "      <td>1.133333</td>\n",
       "      <td>0.266667</td>\n",
       "      <td>0.119667</td>\n",
       "      <td>1.786667</td>\n",
       "      <td>1</td>\n",
       "    </tr>\n",
       "    <tr>\n",
       "      <th>21</th>\n",
       "      <td>BOS</td>\n",
       "      <td>33.833333</td>\n",
       "      <td>3.666667</td>\n",
       "      <td>9.000000</td>\n",
       "      <td>3.666667</td>\n",
       "      <td>3.875000</td>\n",
       "      <td>2.833333</td>\n",
       "      <td>8.333333</td>\n",
       "      <td>37.000000</td>\n",
       "      <td>0.263333</td>\n",
       "      <td>...</td>\n",
       "      <td>10.200000</td>\n",
       "      <td>13.400000</td>\n",
       "      <td>6.300000</td>\n",
       "      <td>0.0</td>\n",
       "      <td>46.650000</td>\n",
       "      <td>2.450000</td>\n",
       "      <td>0.800000</td>\n",
       "      <td>-0.106200</td>\n",
       "      <td>-0.280000</td>\n",
       "      <td>1</td>\n",
       "    </tr>\n",
       "    <tr>\n",
       "      <th>22</th>\n",
       "      <td>NYY</td>\n",
       "      <td>34.210526</td>\n",
       "      <td>4.052632</td>\n",
       "      <td>7.000000</td>\n",
       "      <td>3.789474</td>\n",
       "      <td>3.380526</td>\n",
       "      <td>3.526316</td>\n",
       "      <td>11.736842</td>\n",
       "      <td>38.315789</td>\n",
       "      <td>0.200579</td>\n",
       "      <td>...</td>\n",
       "      <td>11.727273</td>\n",
       "      <td>11.363636</td>\n",
       "      <td>5.181818</td>\n",
       "      <td>0.0</td>\n",
       "      <td>52.727273</td>\n",
       "      <td>1.909091</td>\n",
       "      <td>0.545455</td>\n",
       "      <td>0.156545</td>\n",
       "      <td>0.836364</td>\n",
       "      <td>1</td>\n",
       "    </tr>\n",
       "    <tr>\n",
       "      <th>23</th>\n",
       "      <td>CHC</td>\n",
       "      <td>30.733333</td>\n",
       "      <td>2.866667</td>\n",
       "      <td>5.200000</td>\n",
       "      <td>2.600000</td>\n",
       "      <td>2.375333</td>\n",
       "      <td>2.400000</td>\n",
       "      <td>10.400000</td>\n",
       "      <td>34.333333</td>\n",
       "      <td>0.166267</td>\n",
       "      <td>...</td>\n",
       "      <td>10.125000</td>\n",
       "      <td>11.125000</td>\n",
       "      <td>5.125000</td>\n",
       "      <td>0.0</td>\n",
       "      <td>59.000000</td>\n",
       "      <td>2.500000</td>\n",
       "      <td>1.250000</td>\n",
       "      <td>0.096125</td>\n",
       "      <td>0.425000</td>\n",
       "      <td>1</td>\n",
       "    </tr>\n",
       "    <tr>\n",
       "      <th>25</th>\n",
       "      <td>ARI</td>\n",
       "      <td>34.714286</td>\n",
       "      <td>6.142857</td>\n",
       "      <td>9.571429</td>\n",
       "      <td>5.857143</td>\n",
       "      <td>6.251429</td>\n",
       "      <td>3.142857</td>\n",
       "      <td>9.571429</td>\n",
       "      <td>38.285714</td>\n",
       "      <td>0.263000</td>\n",
       "      <td>...</td>\n",
       "      <td>11.368421</td>\n",
       "      <td>12.578947</td>\n",
       "      <td>5.052632</td>\n",
       "      <td>0.0</td>\n",
       "      <td>48.684211</td>\n",
       "      <td>2.473684</td>\n",
       "      <td>1.052632</td>\n",
       "      <td>-0.143632</td>\n",
       "      <td>-1.252632</td>\n",
       "      <td>0</td>\n",
       "    </tr>\n",
       "    <tr>\n",
       "      <th>26</th>\n",
       "      <td>BOS</td>\n",
       "      <td>33.833333</td>\n",
       "      <td>3.666667</td>\n",
       "      <td>9.000000</td>\n",
       "      <td>3.666667</td>\n",
       "      <td>3.875000</td>\n",
       "      <td>2.833333</td>\n",
       "      <td>8.333333</td>\n",
       "      <td>37.000000</td>\n",
       "      <td>0.263333</td>\n",
       "      <td>...</td>\n",
       "      <td>10.200000</td>\n",
       "      <td>13.400000</td>\n",
       "      <td>6.300000</td>\n",
       "      <td>0.0</td>\n",
       "      <td>46.650000</td>\n",
       "      <td>2.450000</td>\n",
       "      <td>0.800000</td>\n",
       "      <td>-0.106200</td>\n",
       "      <td>-0.280000</td>\n",
       "      <td>0</td>\n",
       "    </tr>\n",
       "    <tr>\n",
       "      <th>27</th>\n",
       "      <td>CLE</td>\n",
       "      <td>33.636364</td>\n",
       "      <td>4.363636</td>\n",
       "      <td>6.000000</td>\n",
       "      <td>4.090909</td>\n",
       "      <td>3.477273</td>\n",
       "      <td>4.000000</td>\n",
       "      <td>12.090909</td>\n",
       "      <td>39.000000</td>\n",
       "      <td>0.175818</td>\n",
       "      <td>...</td>\n",
       "      <td>10.684211</td>\n",
       "      <td>12.210526</td>\n",
       "      <td>5.368421</td>\n",
       "      <td>0.0</td>\n",
       "      <td>53.263158</td>\n",
       "      <td>2.777778</td>\n",
       "      <td>0.388889</td>\n",
       "      <td>0.144684</td>\n",
       "      <td>1.015789</td>\n",
       "      <td>0</td>\n",
       "    </tr>\n",
       "    <tr>\n",
       "      <th>28</th>\n",
       "      <td>CHC</td>\n",
       "      <td>30.733333</td>\n",
       "      <td>2.866667</td>\n",
       "      <td>5.200000</td>\n",
       "      <td>2.600000</td>\n",
       "      <td>2.375333</td>\n",
       "      <td>2.400000</td>\n",
       "      <td>10.400000</td>\n",
       "      <td>34.333333</td>\n",
       "      <td>0.166267</td>\n",
       "      <td>...</td>\n",
       "      <td>10.125000</td>\n",
       "      <td>11.125000</td>\n",
       "      <td>5.125000</td>\n",
       "      <td>0.0</td>\n",
       "      <td>59.000000</td>\n",
       "      <td>2.500000</td>\n",
       "      <td>1.250000</td>\n",
       "      <td>0.096125</td>\n",
       "      <td>0.425000</td>\n",
       "      <td>0</td>\n",
       "    </tr>\n",
       "    <tr>\n",
       "      <th>33</th>\n",
       "      <td>HOU</td>\n",
       "      <td>33.750000</td>\n",
       "      <td>4.700000</td>\n",
       "      <td>8.450000</td>\n",
       "      <td>4.400000</td>\n",
       "      <td>4.706000</td>\n",
       "      <td>3.400000</td>\n",
       "      <td>7.100000</td>\n",
       "      <td>37.700000</td>\n",
       "      <td>0.241200</td>\n",
       "      <td>...</td>\n",
       "      <td>10.684211</td>\n",
       "      <td>12.210526</td>\n",
       "      <td>5.368421</td>\n",
       "      <td>0.0</td>\n",
       "      <td>53.263158</td>\n",
       "      <td>2.777778</td>\n",
       "      <td>0.388889</td>\n",
       "      <td>0.144684</td>\n",
       "      <td>1.015789</td>\n",
       "      <td>1</td>\n",
       "    </tr>\n",
       "    <tr>\n",
       "      <th>34</th>\n",
       "      <td>LAD</td>\n",
       "      <td>32.842105</td>\n",
       "      <td>5.684211</td>\n",
       "      <td>8.263158</td>\n",
       "      <td>5.263158</td>\n",
       "      <td>5.519474</td>\n",
       "      <td>4.578947</td>\n",
       "      <td>8.736842</td>\n",
       "      <td>38.631579</td>\n",
       "      <td>0.244474</td>\n",
       "      <td>...</td>\n",
       "      <td>11.533333</td>\n",
       "      <td>13.000000</td>\n",
       "      <td>4.933333</td>\n",
       "      <td>0.0</td>\n",
       "      <td>60.666667</td>\n",
       "      <td>1.133333</td>\n",
       "      <td>0.266667</td>\n",
       "      <td>0.119667</td>\n",
       "      <td>1.786667</td>\n",
       "      <td>1</td>\n",
       "    </tr>\n",
       "    <tr>\n",
       "      <th>39</th>\n",
       "      <td>NYY</td>\n",
       "      <td>34.210526</td>\n",
       "      <td>4.052632</td>\n",
       "      <td>7.000000</td>\n",
       "      <td>3.789474</td>\n",
       "      <td>3.380526</td>\n",
       "      <td>3.526316</td>\n",
       "      <td>11.736842</td>\n",
       "      <td>38.315789</td>\n",
       "      <td>0.200579</td>\n",
       "      <td>...</td>\n",
       "      <td>10.200000</td>\n",
       "      <td>13.400000</td>\n",
       "      <td>6.300000</td>\n",
       "      <td>0.0</td>\n",
       "      <td>46.650000</td>\n",
       "      <td>2.450000</td>\n",
       "      <td>0.800000</td>\n",
       "      <td>-0.106200</td>\n",
       "      <td>-0.280000</td>\n",
       "      <td>1</td>\n",
       "    </tr>\n",
       "    <tr>\n",
       "      <th>40</th>\n",
       "      <td>CHC</td>\n",
       "      <td>30.733333</td>\n",
       "      <td>2.866667</td>\n",
       "      <td>5.200000</td>\n",
       "      <td>2.600000</td>\n",
       "      <td>2.375333</td>\n",
       "      <td>2.400000</td>\n",
       "      <td>10.400000</td>\n",
       "      <td>34.333333</td>\n",
       "      <td>0.166267</td>\n",
       "      <td>...</td>\n",
       "      <td>11.368421</td>\n",
       "      <td>12.578947</td>\n",
       "      <td>5.052632</td>\n",
       "      <td>0.0</td>\n",
       "      <td>48.684211</td>\n",
       "      <td>2.473684</td>\n",
       "      <td>1.052632</td>\n",
       "      <td>-0.143632</td>\n",
       "      <td>-1.252632</td>\n",
       "      <td>0</td>\n",
       "    </tr>\n",
       "    <tr>\n",
       "      <th>42</th>\n",
       "      <td>CHC</td>\n",
       "      <td>30.733333</td>\n",
       "      <td>2.866667</td>\n",
       "      <td>5.200000</td>\n",
       "      <td>2.600000</td>\n",
       "      <td>2.375333</td>\n",
       "      <td>2.400000</td>\n",
       "      <td>10.400000</td>\n",
       "      <td>34.333333</td>\n",
       "      <td>0.166267</td>\n",
       "      <td>...</td>\n",
       "      <td>11.368421</td>\n",
       "      <td>12.578947</td>\n",
       "      <td>5.052632</td>\n",
       "      <td>0.0</td>\n",
       "      <td>48.684211</td>\n",
       "      <td>2.473684</td>\n",
       "      <td>1.052632</td>\n",
       "      <td>-0.143632</td>\n",
       "      <td>-1.252632</td>\n",
       "      <td>1</td>\n",
       "    </tr>\n",
       "    <tr>\n",
       "      <th>47</th>\n",
       "      <td>LAD</td>\n",
       "      <td>32.842105</td>\n",
       "      <td>5.684211</td>\n",
       "      <td>8.263158</td>\n",
       "      <td>5.263158</td>\n",
       "      <td>5.519474</td>\n",
       "      <td>4.578947</td>\n",
       "      <td>8.736842</td>\n",
       "      <td>38.631579</td>\n",
       "      <td>0.244474</td>\n",
       "      <td>...</td>\n",
       "      <td>10.200000</td>\n",
       "      <td>13.400000</td>\n",
       "      <td>6.300000</td>\n",
       "      <td>0.0</td>\n",
       "      <td>46.650000</td>\n",
       "      <td>2.450000</td>\n",
       "      <td>0.800000</td>\n",
       "      <td>-0.106200</td>\n",
       "      <td>-0.280000</td>\n",
       "      <td>1</td>\n",
       "    </tr>\n",
       "    <tr>\n",
       "      <th>48</th>\n",
       "      <td>LAD</td>\n",
       "      <td>32.842105</td>\n",
       "      <td>5.684211</td>\n",
       "      <td>8.263158</td>\n",
       "      <td>5.263158</td>\n",
       "      <td>5.519474</td>\n",
       "      <td>4.578947</td>\n",
       "      <td>8.736842</td>\n",
       "      <td>38.631579</td>\n",
       "      <td>0.244474</td>\n",
       "      <td>...</td>\n",
       "      <td>10.200000</td>\n",
       "      <td>13.400000</td>\n",
       "      <td>6.300000</td>\n",
       "      <td>0.0</td>\n",
       "      <td>46.650000</td>\n",
       "      <td>2.450000</td>\n",
       "      <td>0.800000</td>\n",
       "      <td>-0.106200</td>\n",
       "      <td>-0.280000</td>\n",
       "      <td>0</td>\n",
       "    </tr>\n",
       "    <tr>\n",
       "      <th>49</th>\n",
       "      <td>HOU</td>\n",
       "      <td>33.750000</td>\n",
       "      <td>4.700000</td>\n",
       "      <td>8.450000</td>\n",
       "      <td>4.400000</td>\n",
       "      <td>4.706000</td>\n",
       "      <td>3.400000</td>\n",
       "      <td>7.100000</td>\n",
       "      <td>37.700000</td>\n",
       "      <td>0.241200</td>\n",
       "      <td>...</td>\n",
       "      <td>11.368421</td>\n",
       "      <td>12.578947</td>\n",
       "      <td>5.052632</td>\n",
       "      <td>0.0</td>\n",
       "      <td>48.684211</td>\n",
       "      <td>2.473684</td>\n",
       "      <td>1.052632</td>\n",
       "      <td>-0.143632</td>\n",
       "      <td>-1.252632</td>\n",
       "      <td>1</td>\n",
       "    </tr>\n",
       "    <tr>\n",
       "      <th>50</th>\n",
       "      <td>HOU</td>\n",
       "      <td>33.750000</td>\n",
       "      <td>4.700000</td>\n",
       "      <td>8.450000</td>\n",
       "      <td>4.400000</td>\n",
       "      <td>4.706000</td>\n",
       "      <td>3.400000</td>\n",
       "      <td>7.100000</td>\n",
       "      <td>37.700000</td>\n",
       "      <td>0.241200</td>\n",
       "      <td>...</td>\n",
       "      <td>11.368421</td>\n",
       "      <td>12.578947</td>\n",
       "      <td>5.052632</td>\n",
       "      <td>0.0</td>\n",
       "      <td>48.684211</td>\n",
       "      <td>2.473684</td>\n",
       "      <td>1.052632</td>\n",
       "      <td>-0.143632</td>\n",
       "      <td>-1.252632</td>\n",
       "      <td>0</td>\n",
       "    </tr>\n",
       "  </tbody>\n",
       "</table>\n",
       "<p>23 rows × 139 columns</p>\n",
       "</div>"
      ],
      "text/plain": [
       "   H_name  H_at_bats    H_runs    H_hits     H_rbi  H_earned_runs  \\\n",
       "0     NYY  34.210526  4.052632  7.000000  3.789474       3.380526   \n",
       "1     ARI  34.714286  6.142857  9.571429  5.857143       6.251429   \n",
       "3     CLE  33.636364  4.363636  6.000000  4.090909       3.477273   \n",
       "4     HOU  33.750000  4.700000  8.450000  4.400000       4.706000   \n",
       "8     WSN  32.250000  4.250000  6.500000  3.875000       4.187500   \n",
       "9     LAD  32.842105  5.684211  8.263158  5.263158       5.519474   \n",
       "18    WSN  32.250000  4.250000  6.500000  3.875000       4.187500   \n",
       "21    BOS  33.833333  3.666667  9.000000  3.666667       3.875000   \n",
       "22    NYY  34.210526  4.052632  7.000000  3.789474       3.380526   \n",
       "23    CHC  30.733333  2.866667  5.200000  2.600000       2.375333   \n",
       "25    ARI  34.714286  6.142857  9.571429  5.857143       6.251429   \n",
       "26    BOS  33.833333  3.666667  9.000000  3.666667       3.875000   \n",
       "27    CLE  33.636364  4.363636  6.000000  4.090909       3.477273   \n",
       "28    CHC  30.733333  2.866667  5.200000  2.600000       2.375333   \n",
       "33    HOU  33.750000  4.700000  8.450000  4.400000       4.706000   \n",
       "34    LAD  32.842105  5.684211  8.263158  5.263158       5.519474   \n",
       "39    NYY  34.210526  4.052632  7.000000  3.789474       3.380526   \n",
       "40    CHC  30.733333  2.866667  5.200000  2.600000       2.375333   \n",
       "42    CHC  30.733333  2.866667  5.200000  2.600000       2.375333   \n",
       "47    LAD  32.842105  5.684211  8.263158  5.263158       5.519474   \n",
       "48    LAD  32.842105  5.684211  8.263158  5.263158       5.519474   \n",
       "49    HOU  33.750000  4.700000  8.450000  4.400000       4.706000   \n",
       "50    HOU  33.750000  4.700000  8.450000  4.400000       4.706000   \n",
       "\n",
       "    H_bases_on_balls  H_strikeouts  H_plate_appearances  H_batting_average  \\\n",
       "0           3.526316     11.736842            38.315789           0.200579   \n",
       "1           3.142857      9.571429            38.285714           0.263000   \n",
       "3           4.000000     12.090909            39.000000           0.175818   \n",
       "4           3.400000      7.100000            37.700000           0.241200   \n",
       "8           5.000000      8.250000            38.125000           0.190500   \n",
       "9           4.578947      8.736842            38.631579           0.244474   \n",
       "18          5.000000      8.250000            38.125000           0.190500   \n",
       "21          2.833333      8.333333            37.000000           0.263333   \n",
       "22          3.526316     11.736842            38.315789           0.200579   \n",
       "23          2.400000     10.400000            34.333333           0.166267   \n",
       "25          3.142857      9.571429            38.285714           0.263000   \n",
       "26          2.833333      8.333333            37.000000           0.263333   \n",
       "27          4.000000     12.090909            39.000000           0.175818   \n",
       "28          2.400000     10.400000            34.333333           0.166267   \n",
       "33          3.400000      7.100000            37.700000           0.241200   \n",
       "34          4.578947      8.736842            38.631579           0.244474   \n",
       "39          3.526316     11.736842            38.315789           0.200579   \n",
       "40          2.400000     10.400000            34.333333           0.166267   \n",
       "42          2.400000     10.400000            34.333333           0.166267   \n",
       "47          4.578947      8.736842            38.631579           0.244474   \n",
       "48          4.578947      8.736842            38.631579           0.244474   \n",
       "49          3.400000      7.100000            37.700000           0.241200   \n",
       "50          3.400000      7.100000            37.700000           0.241200   \n",
       "\n",
       "    ...  A_Opp_grounded_balls  A_Opp_fly_balls  A_Opp_line_drives  \\\n",
       "0   ...              8.000000        20.000000           7.000000   \n",
       "1   ...             13.000000        17.000000          10.000000   \n",
       "3   ...             10.684211        12.210526           5.368421   \n",
       "4   ...              8.166667        20.833333          10.333333   \n",
       "8   ...             11.533333        13.000000           4.933333   \n",
       "9   ...             13.142857        15.000000           8.000000   \n",
       "18  ...             11.533333        13.000000           4.933333   \n",
       "21  ...             10.200000        13.400000           6.300000   \n",
       "22  ...             11.727273        11.363636           5.181818   \n",
       "23  ...             10.125000        11.125000           5.125000   \n",
       "25  ...             11.368421        12.578947           5.052632   \n",
       "26  ...             10.200000        13.400000           6.300000   \n",
       "27  ...             10.684211        12.210526           5.368421   \n",
       "28  ...             10.125000        11.125000           5.125000   \n",
       "33  ...             10.684211        12.210526           5.368421   \n",
       "34  ...             11.533333        13.000000           4.933333   \n",
       "39  ...             10.200000        13.400000           6.300000   \n",
       "40  ...             11.368421        12.578947           5.052632   \n",
       "42  ...             11.368421        12.578947           5.052632   \n",
       "47  ...             10.200000        13.400000           6.300000   \n",
       "48  ...             10.200000        13.400000           6.300000   \n",
       "49  ...             11.368421        12.578947           5.052632   \n",
       "50  ...             11.368421        12.578947           5.052632   \n",
       "\n",
       "    A_Opp_unknown_bat_type  A_Opp_game_score  A_Opp_inherited_runners  \\\n",
       "0                      0.0         30.000000                 7.000000   \n",
       "1                      0.0         33.000000                 2.000000   \n",
       "3                      0.0         53.263158                 2.777778   \n",
       "4                      0.0         52.333333                 2.000000   \n",
       "8                      0.0         60.666667                 1.133333   \n",
       "9                      0.0         45.428571                 2.428571   \n",
       "18                     0.0         60.666667                 1.133333   \n",
       "21                     0.0         46.650000                 2.450000   \n",
       "22                     0.0         52.727273                 1.909091   \n",
       "23                     0.0         59.000000                 2.500000   \n",
       "25                     0.0         48.684211                 2.473684   \n",
       "26                     0.0         46.650000                 2.450000   \n",
       "27                     0.0         53.263158                 2.777778   \n",
       "28                     0.0         59.000000                 2.500000   \n",
       "33                     0.0         53.263158                 2.777778   \n",
       "34                     0.0         60.666667                 1.133333   \n",
       "39                     0.0         46.650000                 2.450000   \n",
       "40                     0.0         48.684211                 2.473684   \n",
       "42                     0.0         48.684211                 2.473684   \n",
       "47                     0.0         46.650000                 2.450000   \n",
       "48                     0.0         46.650000                 2.450000   \n",
       "49                     0.0         48.684211                 2.473684   \n",
       "50                     0.0         48.684211                 2.473684   \n",
       "\n",
       "    A_Opp_inherited_score  A_Opp_win_probability_by_pitcher  \\\n",
       "0                1.000000                          0.043000   \n",
       "1                1.000000                          0.037000   \n",
       "3                0.388889                          0.144684   \n",
       "4                1.000000                          0.103000   \n",
       "8                0.266667                          0.119667   \n",
       "9                0.857143                          0.008429   \n",
       "18               0.266667                          0.119667   \n",
       "21               0.800000                         -0.106200   \n",
       "22               0.545455                          0.156545   \n",
       "23               1.250000                          0.096125   \n",
       "25               1.052632                         -0.143632   \n",
       "26               0.800000                         -0.106200   \n",
       "27               0.388889                          0.144684   \n",
       "28               1.250000                          0.096125   \n",
       "33               0.388889                          0.144684   \n",
       "34               0.266667                          0.119667   \n",
       "39               0.800000                         -0.106200   \n",
       "40               1.052632                         -0.143632   \n",
       "42               1.052632                         -0.143632   \n",
       "47               0.800000                         -0.106200   \n",
       "48               0.800000                         -0.106200   \n",
       "49               1.052632                         -0.143632   \n",
       "50               1.052632                         -0.143632   \n",
       "\n",
       "    A_Opp_base_out_runs_saved  home_win  \n",
       "0                    0.900000         1  \n",
       "1                   -3.000000         1  \n",
       "3                    1.015789         1  \n",
       "4                    0.900000         1  \n",
       "8                    1.786667         0  \n",
       "9                   -1.571429         1  \n",
       "18                   1.786667         1  \n",
       "21                  -0.280000         1  \n",
       "22                   0.836364         1  \n",
       "23                   0.425000         1  \n",
       "25                  -1.252632         0  \n",
       "26                  -0.280000         0  \n",
       "27                   1.015789         0  \n",
       "28                   0.425000         0  \n",
       "33                   1.015789         1  \n",
       "34                   1.786667         1  \n",
       "39                  -0.280000         1  \n",
       "40                  -1.252632         0  \n",
       "42                  -1.252632         1  \n",
       "47                  -0.280000         1  \n",
       "48                  -0.280000         0  \n",
       "49                  -1.252632         1  \n",
       "50                  -1.252632         0  \n",
       "\n",
       "[23 rows x 139 columns]"
      ]
     },
     "execution_count": 130,
     "metadata": {},
     "output_type": "execute_result"
    }
   ],
   "source": [
    "df2.drop_duplicates(inplace=True)\n",
    "df2"
   ]
  },
  {
   "cell_type": "code",
   "execution_count": 131,
   "metadata": {
    "ExecuteTime": {
     "end_time": "2022-01-19T19:22:53.572905Z",
     "start_time": "2022-01-19T19:22:53.518694Z"
    }
   },
   "outputs": [
    {
     "data": {
      "text/html": [
       "<div>\n",
       "<style scoped>\n",
       "    .dataframe tbody tr th:only-of-type {\n",
       "        vertical-align: middle;\n",
       "    }\n",
       "\n",
       "    .dataframe tbody tr th {\n",
       "        vertical-align: top;\n",
       "    }\n",
       "\n",
       "    .dataframe thead th {\n",
       "        text-align: right;\n",
       "    }\n",
       "</style>\n",
       "<table border=\"1\" class=\"dataframe\">\n",
       "  <thead>\n",
       "    <tr style=\"text-align: right;\">\n",
       "      <th></th>\n",
       "      <th>H_name</th>\n",
       "      <th>H_at_bats</th>\n",
       "      <th>H_runs</th>\n",
       "      <th>H_hits</th>\n",
       "      <th>H_rbi</th>\n",
       "      <th>H_earned_runs</th>\n",
       "      <th>H_bases_on_balls</th>\n",
       "      <th>H_strikeouts</th>\n",
       "      <th>H_plate_appearances</th>\n",
       "      <th>H_batting_average</th>\n",
       "      <th>...</th>\n",
       "      <th>A_Opp_grounded_balls</th>\n",
       "      <th>A_Opp_fly_balls</th>\n",
       "      <th>A_Opp_line_drives</th>\n",
       "      <th>A_Opp_unknown_bat_type</th>\n",
       "      <th>A_Opp_game_score</th>\n",
       "      <th>A_Opp_inherited_runners</th>\n",
       "      <th>A_Opp_inherited_score</th>\n",
       "      <th>A_Opp_win_probability_by_pitcher</th>\n",
       "      <th>A_Opp_base_out_runs_saved</th>\n",
       "      <th>home_win</th>\n",
       "    </tr>\n",
       "  </thead>\n",
       "  <tbody>\n",
       "    <tr>\n",
       "      <th>0</th>\n",
       "      <td>TBR</td>\n",
       "      <td>33.814815</td>\n",
       "      <td>4.283951</td>\n",
       "      <td>8.271605</td>\n",
       "      <td>4.141975</td>\n",
       "      <td>4.117840</td>\n",
       "      <td>3.364198</td>\n",
       "      <td>9.493827</td>\n",
       "      <td>37.944444</td>\n",
       "      <td>0.239617</td>\n",
       "      <td>...</td>\n",
       "      <td>11.487654</td>\n",
       "      <td>12.993827</td>\n",
       "      <td>6.006173</td>\n",
       "      <td>0.000000</td>\n",
       "      <td>48.302469</td>\n",
       "      <td>1.950311</td>\n",
       "      <td>0.571429</td>\n",
       "      <td>-0.016685</td>\n",
       "      <td>-0.554321</td>\n",
       "      <td>1</td>\n",
       "    </tr>\n",
       "    <tr>\n",
       "      <th>1</th>\n",
       "      <td>ARI</td>\n",
       "      <td>34.104938</td>\n",
       "      <td>5.012346</td>\n",
       "      <td>8.672840</td>\n",
       "      <td>4.790123</td>\n",
       "      <td>4.939444</td>\n",
       "      <td>3.567901</td>\n",
       "      <td>8.987654</td>\n",
       "      <td>38.419753</td>\n",
       "      <td>0.249259</td>\n",
       "      <td>...</td>\n",
       "      <td>12.345679</td>\n",
       "      <td>15.500000</td>\n",
       "      <td>7.487654</td>\n",
       "      <td>0.024691</td>\n",
       "      <td>53.462963</td>\n",
       "      <td>1.455128</td>\n",
       "      <td>0.333333</td>\n",
       "      <td>0.088105</td>\n",
       "      <td>0.733951</td>\n",
       "      <td>1</td>\n",
       "    </tr>\n",
       "    <tr>\n",
       "      <th>2</th>\n",
       "      <td>STL</td>\n",
       "      <td>33.765432</td>\n",
       "      <td>4.697531</td>\n",
       "      <td>8.654321</td>\n",
       "      <td>4.493827</td>\n",
       "      <td>4.486728</td>\n",
       "      <td>3.660494</td>\n",
       "      <td>8.320988</td>\n",
       "      <td>38.388889</td>\n",
       "      <td>0.252457</td>\n",
       "      <td>...</td>\n",
       "      <td>11.839506</td>\n",
       "      <td>13.160494</td>\n",
       "      <td>6.592593</td>\n",
       "      <td>0.006173</td>\n",
       "      <td>49.012346</td>\n",
       "      <td>1.453416</td>\n",
       "      <td>0.472050</td>\n",
       "      <td>-0.011130</td>\n",
       "      <td>-0.415432</td>\n",
       "      <td>1</td>\n",
       "    </tr>\n",
       "    <tr>\n",
       "      <th>3</th>\n",
       "      <td>TEX</td>\n",
       "      <td>33.518519</td>\n",
       "      <td>4.932099</td>\n",
       "      <td>8.185185</td>\n",
       "      <td>4.666667</td>\n",
       "      <td>4.781358</td>\n",
       "      <td>3.358025</td>\n",
       "      <td>9.216049</td>\n",
       "      <td>37.790123</td>\n",
       "      <td>0.240247</td>\n",
       "      <td>...</td>\n",
       "      <td>10.629630</td>\n",
       "      <td>12.833333</td>\n",
       "      <td>6.487654</td>\n",
       "      <td>0.000000</td>\n",
       "      <td>46.456790</td>\n",
       "      <td>1.867925</td>\n",
       "      <td>0.547170</td>\n",
       "      <td>0.008123</td>\n",
       "      <td>-0.301852</td>\n",
       "      <td>0</td>\n",
       "    </tr>\n",
       "    <tr>\n",
       "      <th>4</th>\n",
       "      <td>MIL</td>\n",
       "      <td>33.691358</td>\n",
       "      <td>4.444444</td>\n",
       "      <td>8.351852</td>\n",
       "      <td>4.216049</td>\n",
       "      <td>4.273951</td>\n",
       "      <td>3.271605</td>\n",
       "      <td>9.697531</td>\n",
       "      <td>37.703704</td>\n",
       "      <td>0.243426</td>\n",
       "      <td>...</td>\n",
       "      <td>13.265432</td>\n",
       "      <td>13.413580</td>\n",
       "      <td>6.629630</td>\n",
       "      <td>0.018519</td>\n",
       "      <td>46.876543</td>\n",
       "      <td>1.465839</td>\n",
       "      <td>0.472050</td>\n",
       "      <td>0.015272</td>\n",
       "      <td>-0.198765</td>\n",
       "      <td>0</td>\n",
       "    </tr>\n",
       "  </tbody>\n",
       "</table>\n",
       "<p>5 rows × 139 columns</p>\n",
       "</div>"
      ],
      "text/plain": [
       "  H_name  H_at_bats    H_runs    H_hits     H_rbi  H_earned_runs  \\\n",
       "0    TBR  33.814815  4.283951  8.271605  4.141975       4.117840   \n",
       "1    ARI  34.104938  5.012346  8.672840  4.790123       4.939444   \n",
       "2    STL  33.765432  4.697531  8.654321  4.493827       4.486728   \n",
       "3    TEX  33.518519  4.932099  8.185185  4.666667       4.781358   \n",
       "4    MIL  33.691358  4.444444  8.351852  4.216049       4.273951   \n",
       "\n",
       "   H_bases_on_balls  H_strikeouts  H_plate_appearances  H_batting_average  \\\n",
       "0          3.364198      9.493827            37.944444           0.239617   \n",
       "1          3.567901      8.987654            38.419753           0.249259   \n",
       "2          3.660494      8.320988            38.388889           0.252457   \n",
       "3          3.358025      9.216049            37.790123           0.240247   \n",
       "4          3.271605      9.697531            37.703704           0.243426   \n",
       "\n",
       "   ...  A_Opp_grounded_balls  A_Opp_fly_balls  A_Opp_line_drives  \\\n",
       "0  ...             11.487654        12.993827           6.006173   \n",
       "1  ...             12.345679        15.500000           7.487654   \n",
       "2  ...             11.839506        13.160494           6.592593   \n",
       "3  ...             10.629630        12.833333           6.487654   \n",
       "4  ...             13.265432        13.413580           6.629630   \n",
       "\n",
       "   A_Opp_unknown_bat_type  A_Opp_game_score  A_Opp_inherited_runners  \\\n",
       "0                0.000000         48.302469                 1.950311   \n",
       "1                0.024691         53.462963                 1.455128   \n",
       "2                0.006173         49.012346                 1.453416   \n",
       "3                0.000000         46.456790                 1.867925   \n",
       "4                0.018519         46.876543                 1.465839   \n",
       "\n",
       "   A_Opp_inherited_score  A_Opp_win_probability_by_pitcher  \\\n",
       "0               0.571429                         -0.016685   \n",
       "1               0.333333                          0.088105   \n",
       "2               0.472050                         -0.011130   \n",
       "3               0.547170                          0.008123   \n",
       "4               0.472050                          0.015272   \n",
       "\n",
       "   A_Opp_base_out_runs_saved  home_win  \n",
       "0                  -0.554321         1  \n",
       "1                   0.733951         1  \n",
       "2                  -0.415432         1  \n",
       "3                  -0.301852         0  \n",
       "4                  -0.198765         0  \n",
       "\n",
       "[5 rows x 139 columns]"
      ]
     },
     "execution_count": 131,
     "metadata": {},
     "output_type": "execute_result"
    }
   ],
   "source": [
    "df.head()"
   ]
  },
  {
   "cell_type": "code",
   "execution_count": 132,
   "metadata": {
    "ExecuteTime": {
     "end_time": "2022-01-19T19:22:54.036754Z",
     "start_time": "2022-01-19T19:22:54.030542Z"
    }
   },
   "outputs": [],
   "source": [
    "#for col in X_train.columns:\n",
    "    #print(col)"
   ]
  },
  {
   "cell_type": "code",
   "execution_count": 133,
   "metadata": {
    "ExecuteTime": {
     "end_time": "2022-01-19T19:22:54.424474Z",
     "start_time": "2022-01-19T19:22:54.416346Z"
    }
   },
   "outputs": [],
   "source": [
    "zero_importance_list=['H_runs','H_slugging_percentage','H_on_base_plus','H_base_out_runs_added','H_putouts',\n",
    "                     'H_Opp_on_base_percentage','A_batting_average','A_win_probability_for_offensive_player',\n",
    "                     'A_putouts']"
   ]
  },
  {
   "cell_type": "code",
   "execution_count": 134,
   "metadata": {
    "ExecuteTime": {
     "end_time": "2022-01-19T19:22:54.766206Z",
     "start_time": "2022-01-19T19:22:54.763117Z"
    }
   },
   "outputs": [],
   "source": [
    "tiny_importance_list=['H_at_bats','H_win_probability_added','H_fly_balls']"
   ]
  },
  {
   "cell_type": "code",
   "execution_count": 135,
   "metadata": {
    "ExecuteTime": {
     "end_time": "2022-01-19T19:22:55.060952Z",
     "start_time": "2022-01-19T19:22:55.045138Z"
    }
   },
   "outputs": [],
   "source": [
    "def data_preprocessing(df, df2):\n",
    "    X_train = df.drop(['home_win','H_name','A_name'], axis=1)\n",
    "    X_test = df2.drop(['home_win','H_name','A_name'], axis=1)\n",
    "    y_train = df.home_win\n",
    "    y_test= df2.home_win\n",
    "    \n",
    "    ss = StandardScaler()\n",
    "    X_train_scaled = ss.fit_transform(X_train)\n",
    "    X_test_scaled = ss.transform(X_test)\n",
    "    \n",
    "    X_train_scaled = pd.DataFrame(X_train_scaled, columns=X_train.columns)\n",
    "    X_test_scaled = pd.DataFrame(X_test_scaled, columns=X_test.columns)\n",
    "    \n",
    "    return X_train_scaled, X_test_scaled,y_train,y_test"
   ]
  },
  {
   "cell_type": "code",
   "execution_count": 136,
   "metadata": {
    "ExecuteTime": {
     "end_time": "2022-01-19T19:22:55.660188Z",
     "start_time": "2022-01-19T19:22:55.572447Z"
    }
   },
   "outputs": [],
   "source": [
    "X_train_scaled,X_test_scaled,y_train,y_test=data_preprocessing(df,df2)"
   ]
  },
  {
   "cell_type": "code",
   "execution_count": 137,
   "metadata": {
    "ExecuteTime": {
     "end_time": "2022-01-19T19:22:55.996434Z",
     "start_time": "2022-01-19T19:22:55.979018Z"
    }
   },
   "outputs": [],
   "source": [
    "X_test_scaled.drop(['H_Opp_inherited_score','H_Opp_game_score','H_Opp_unknown_bat_type',\n",
    "                    'H_Opp_inherited_runners'],axis=1,inplace=True)"
   ]
  },
  {
   "cell_type": "code",
   "execution_count": 138,
   "metadata": {
    "ExecuteTime": {
     "end_time": "2022-01-19T19:22:56.387029Z",
     "start_time": "2022-01-19T19:22:56.380294Z"
    }
   },
   "outputs": [],
   "source": [
    "X_train_scaled.drop(['H_Opp_inherited_score','H_Opp_game_score','H_Opp_unknown_bat_type',\n",
    "                    'H_Opp_inherited_runners'],axis=1,inplace=True)"
   ]
  },
  {
   "cell_type": "code",
   "execution_count": 139,
   "metadata": {
    "ExecuteTime": {
     "end_time": "2022-01-19T19:22:57.212590Z",
     "start_time": "2022-01-19T19:22:57.183420Z"
    }
   },
   "outputs": [],
   "source": [
    "zero_imp_train=X_train_scaled.drop(zero_importance_list,axis=1)\n",
    "zero_imp_test=X_test_scaled.drop(zero_importance_list,axis=1)"
   ]
  },
  {
   "cell_type": "markdown",
   "metadata": {},
   "source": [
    "## Feature Selection"
   ]
  },
  {
   "cell_type": "code",
   "execution_count": 140,
   "metadata": {
    "ExecuteTime": {
     "end_time": "2022-01-19T19:22:58.100642Z",
     "start_time": "2022-01-19T19:22:58.098377Z"
    }
   },
   "outputs": [],
   "source": [
    "# pca=PCA(n_components=0.7)\n",
    "# train_pca=pca.fit_transform(X_train_scaled)\n",
    "# test_pca=pca.transform(X_test_scaled)"
   ]
  },
  {
   "cell_type": "code",
   "execution_count": 141,
   "metadata": {
    "ExecuteTime": {
     "end_time": "2022-01-19T19:22:58.448550Z",
     "start_time": "2022-01-19T19:22:58.446106Z"
    }
   },
   "outputs": [],
   "source": [
    "#plt.scatter(train_pca[:,0], train_pca[:,1]);"
   ]
  },
  {
   "cell_type": "code",
   "execution_count": 142,
   "metadata": {
    "ExecuteTime": {
     "end_time": "2022-01-19T19:23:50.870590Z",
     "start_time": "2022-01-19T19:22:58.825599Z"
    }
   },
   "outputs": [],
   "source": [
    "feats= feature_select(X_train_scaled,y_train,LogisticRegression,min_features=10)"
   ]
  },
  {
   "cell_type": "code",
   "execution_count": 143,
   "metadata": {
    "ExecuteTime": {
     "end_time": "2022-01-19T19:23:50.978216Z",
     "start_time": "2022-01-19T19:23:50.873550Z"
    }
   },
   "outputs": [],
   "source": [
    "X_train_best_log = X_train_scaled[feats]\n",
    "X_test_best_log = X_test_scaled[feats]"
   ]
  },
  {
   "cell_type": "markdown",
   "metadata": {},
   "source": [
    "# Logistic Regression"
   ]
  },
  {
   "cell_type": "code",
   "execution_count": 153,
   "metadata": {
    "ExecuteTime": {
     "end_time": "2022-01-19T19:30:59.547746Z",
     "start_time": "2022-01-19T19:30:57.837503Z"
    }
   },
   "outputs": [
    {
     "name": "stdout",
     "output_type": "stream",
     "text": [
      "Penalty: l2\n",
      "Solver: newton-cg\n",
      "Mean Cross-Val Score: 0.5818930041152263\n",
      "Train Mean Accuracy: 0.5835390946502058\n",
      "Test Mean Accuracy: 0.6086956521739131\n",
      "Recall Score: 0.5333333333333333\n",
      "Precision Score: 0.8\n",
      "F1 Score: 0.64\n"
     ]
    },
    {
     "data": {
      "image/png": "[encoded data removed]",
      "text/plain": [
       "<Figure size 432x288 with 1 Axes>"
      ]
     },
     "metadata": {
      "needs_background": "light"
     },
     "output_type": "display_data"
    },
    {
     "data": {
      "image/png": "[encoded data removed]",
      "text/plain": [
       "<Figure size 432x288 with 2 Axes>"
      ]
     },
     "metadata": {
      "needs_background": "light"
     },
     "output_type": "display_data"
    },
    {
     "data": {
      "image/png": "[encoded data removed]",
      "text/plain": [
       "<Figure size 432x288 with 2 Axes>"
      ]
     },
     "metadata": {
      "needs_background": "light"
     },
     "output_type": "display_data"
    }
   ],
   "source": [
    "predictions, probabilities=logreg(X_train_best_log,X_test_best_log,y_train,y_test)"
   ]
  },
  {
   "cell_type": "code",
   "execution_count": 154,
   "metadata": {
    "ExecuteTime": {
     "end_time": "2022-01-19T19:31:08.213147Z",
     "start_time": "2022-01-19T19:31:08.195298Z"
    }
   },
   "outputs": [
    {
     "data": {
      "text/plain": [
       "0.6363636363636364"
      ]
     },
     "execution_count": 154,
     "metadata": {},
     "output_type": "execute_result"
    }
   ],
   "source": [
    "new_acc(probabilities)"
   ]
  },
  {
   "cell_type": "markdown",
   "metadata": {
    "heading_collapsed": true
   },
   "source": [
    "### Home_win, zero imp\n",
    "***"
   ]
  },
  {
   "cell_type": "code",
   "execution_count": 23,
   "metadata": {
    "ExecuteTime": {
     "end_time": "2022-01-19T15:30:48.024930Z",
     "start_time": "2022-01-19T15:30:14.783814Z"
    },
    "hidden": true
   },
   "outputs": [],
   "source": [
    "feats= feature_select(zero_imp_train,y_train,LogisticRegression,min_features=10)"
   ]
  },
  {
   "cell_type": "code",
   "execution_count": 24,
   "metadata": {
    "ExecuteTime": {
     "end_time": "2022-01-19T15:30:48.065648Z",
     "start_time": "2022-01-19T15:30:48.029952Z"
    },
    "hidden": true
   },
   "outputs": [],
   "source": [
    "X_train_best_log = zero_imp_train[feats]\n",
    "X_test_best_log = zero_imp_test[feats]"
   ]
  },
  {
   "cell_type": "code",
   "execution_count": 25,
   "metadata": {
    "ExecuteTime": {
     "end_time": "2022-01-19T15:30:49.865019Z",
     "start_time": "2022-01-19T15:30:48.106373Z"
    },
    "hidden": true
   },
   "outputs": [
    {
     "name": "stdout",
     "output_type": "stream",
     "text": [
      "Penalty: l1\n",
      "Solver: liblinear\n",
      "Mean Cross-Val Score: 0.5802469135802469\n",
      "Train Mean Accuracy: 0.5876543209876544\n",
      "Test Mean Accuracy: 0.6086956521739131\n",
      "Recall Score: 0.5333333333333333\n",
      "Precision Score: 0.8\n",
      "F1 Score: 0.64\n"
     ]
    },
    {
     "data": {
      "image/png": "[encoded data removed]",
      "text/plain": [
       "<Figure size 432x288 with 1 Axes>"
      ]
     },
     "metadata": {
      "needs_background": "light"
     },
     "output_type": "display_data"
    },
    {
     "data": {
      "image/png": "[encoded data removed]",
      "text/plain": [
       "<Figure size 432x288 with 2 Axes>"
      ]
     },
     "metadata": {
      "needs_background": "light"
     },
     "output_type": "display_data"
    },
    {
     "data": {
      "image/png": "[encoded data removed]",
      "text/plain": [
       "<Figure size 432x288 with 2 Axes>"
      ]
     },
     "metadata": {
      "needs_background": "light"
     },
     "output_type": "display_data"
    }
   ],
   "source": [
    "predictions, probabilities=logreg(X_train_best_log,X_test_best_log,y_train,y_test)"
   ]
  },
  {
   "cell_type": "markdown",
   "metadata": {
    "heading_collapsed": true
   },
   "source": [
    "### Explore thresehold movement and other things"
   ]
  },
  {
   "cell_type": "code",
   "execution_count": 59,
   "metadata": {
    "ExecuteTime": {
     "end_time": "2022-01-19T16:40:03.410410Z",
     "start_time": "2022-01-19T16:40:03.395714Z"
    },
    "hidden": true
   },
   "outputs": [],
   "source": [
    "class_list2=[]\n",
    "for log in probabilities:\n",
    "    if log[0]<.40:\n",
    "        class_list2.append(1)\n",
    "    elif log[0]>.60:\n",
    "        class_list2.append(0)\n",
    "    else:\n",
    "        class_list2.append(3)"
   ]
  },
  {
   "cell_type": "code",
   "execution_count": 60,
   "metadata": {
    "ExecuteTime": {
     "end_time": "2022-01-19T16:40:03.772232Z",
     "start_time": "2022-01-19T16:40:03.761545Z"
    },
    "hidden": true
   },
   "outputs": [
    {
     "data": {
      "text/plain": [
       "array([1, 1, 1, 1, 1, 1, 1, 0, 0, 0, 0, 0, 1, 0, 1, 1, 3, 0, 0, 0, 0, 0,\n",
       "       0])"
      ]
     },
     "execution_count": 60,
     "metadata": {},
     "output_type": "execute_result"
    }
   ],
   "source": [
    "np.array(class_list2)"
   ]
  },
  {
   "cell_type": "code",
   "execution_count": 61,
   "metadata": {
    "ExecuteTime": {
     "end_time": "2022-01-19T16:40:04.445022Z",
     "start_time": "2022-01-19T16:40:04.437978Z"
    },
    "hidden": true
   },
   "outputs": [
    {
     "data": {
      "text/plain": [
       "array([1, 1, 1, 1, 0, 1, 1, 1, 1, 1, 0, 0, 0, 0, 1, 1, 1, 0, 1, 1, 0, 1,\n",
       "       0])"
      ]
     },
     "execution_count": 61,
     "metadata": {},
     "output_type": "execute_result"
    }
   ],
   "source": [
    "np.array(y_test)"
   ]
  },
  {
   "cell_type": "code",
   "execution_count": 32,
   "metadata": {
    "ExecuteTime": {
     "end_time": "2022-01-19T15:34:18.973606Z",
     "start_time": "2022-01-19T15:34:18.962277Z"
    },
    "hidden": true
   },
   "outputs": [
    {
     "data": {
      "text/plain": [
       "array([1, 1, 1, 1, 0, 1, 0, 0, 1, 0, 0, 0, 1, 0, 1, 1, 0, 0, 0, 0, 0, 0,\n",
       "       0])"
      ]
     },
     "execution_count": 32,
     "metadata": {},
     "output_type": "execute_result"
    }
   ],
   "source": [
    "logregs.predict(X_test_scaled)"
   ]
  },
  {
   "cell_type": "code",
   "execution_count": 62,
   "metadata": {
    "ExecuteTime": {
     "end_time": "2022-01-19T16:43:30.457014Z",
     "start_time": "2022-01-19T16:43:29.986506Z"
    },
    "hidden": true
   },
   "outputs": [
    {
     "data": {
      "text/plain": [
       "LogisticRegression()"
      ]
     },
     "execution_count": 62,
     "metadata": {},
     "output_type": "execute_result"
    }
   ],
   "source": [
    "logregs=LogisticRegression()\n",
    "logregs.fit(X_train_scaled,y_train)"
   ]
  },
  {
   "cell_type": "code",
   "execution_count": 66,
   "metadata": {
    "ExecuteTime": {
     "end_time": "2022-01-19T16:44:45.123702Z",
     "start_time": "2022-01-19T16:44:45.056439Z"
    },
    "hidden": true
   },
   "outputs": [],
   "source": [
    "y_pred=logregs.predict(X_test_scaled)"
   ]
  },
  {
   "cell_type": "code",
   "execution_count": 43,
   "metadata": {
    "ExecuteTime": {
     "end_time": "2022-01-19T15:38:43.913019Z",
     "start_time": "2022-01-19T15:38:43.904540Z"
    },
    "hidden": true
   },
   "outputs": [],
   "source": [
    "class_list=[]\n",
    "for log in logregs.predict_proba(X_test_scaled):\n",
    "    if log[0]<.40:\n",
    "        class_list.append(1)\n",
    "    elif log[0]>.60:\n",
    "        class_list.append(0)\n",
    "    else:\n",
    "        class_list.append(3)"
   ]
  },
  {
   "cell_type": "code",
   "execution_count": 72,
   "metadata": {
    "ExecuteTime": {
     "end_time": "2022-01-19T16:46:39.236576Z",
     "start_time": "2022-01-19T16:46:39.225423Z"
    },
    "hidden": true
   },
   "outputs": [],
   "source": [
    "y_test_df=pd.DataFrame(y_test)"
   ]
  },
  {
   "cell_type": "code",
   "execution_count": 79,
   "metadata": {
    "ExecuteTime": {
     "end_time": "2022-01-19T16:48:15.010479Z",
     "start_time": "2022-01-19T16:48:14.989343Z"
    },
    "hidden": true
   },
   "outputs": [],
   "source": [
    "y_test_df.reset_index(inplace=True)\n",
    "y_test_df.drop('index',axis=1,inplace=True)"
   ]
  },
  {
   "cell_type": "code",
   "execution_count": 74,
   "metadata": {
    "ExecuteTime": {
     "end_time": "2022-01-19T16:47:02.015906Z",
     "start_time": "2022-01-19T16:47:01.976393Z"
    },
    "hidden": true
   },
   "outputs": [],
   "source": [
    "y_pred_class=pd.DataFrame(class_list)"
   ]
  },
  {
   "cell_type": "code",
   "execution_count": 84,
   "metadata": {
    "ExecuteTime": {
     "end_time": "2022-01-19T16:49:21.100943Z",
     "start_time": "2022-01-19T16:49:21.092366Z"
    },
    "hidden": true
   },
   "outputs": [],
   "source": [
    "combination=pd.concat([y_test_df,y_pred_class],axis=1)"
   ]
  },
  {
   "cell_type": "code",
   "execution_count": 86,
   "metadata": {
    "ExecuteTime": {
     "end_time": "2022-01-19T16:49:56.579024Z",
     "start_time": "2022-01-19T16:49:56.560095Z"
    },
    "hidden": true
   },
   "outputs": [],
   "source": [
    "combination['pred']=combination[0]"
   ]
  },
  {
   "cell_type": "code",
   "execution_count": 88,
   "metadata": {
    "ExecuteTime": {
     "end_time": "2022-01-19T16:50:24.889169Z",
     "start_time": "2022-01-19T16:50:24.856838Z"
    },
    "hidden": true
   },
   "outputs": [],
   "source": [
    "combination.drop(0,axis=1,inplace=True)"
   ]
  },
  {
   "cell_type": "code",
   "execution_count": 91,
   "metadata": {
    "ExecuteTime": {
     "end_time": "2022-01-19T16:55:10.143613Z",
     "start_time": "2022-01-19T16:55:09.967410Z"
    },
    "hidden": true
   },
   "outputs": [
    {
     "name": "stdout",
     "output_type": "stream",
     "text": [
      "<class 'pandas.core.frame.DataFrame'>\n",
      "RangeIndex: 23 entries, 0 to 22\n",
      "Data columns (total 2 columns):\n",
      " #   Column    Non-Null Count  Dtype\n",
      "---  ------    --------------  -----\n",
      " 0   home_win  23 non-null     int64\n",
      " 1   pred      23 non-null     int64\n",
      "dtypes: int64(2)\n",
      "memory usage: 496.0 bytes\n"
     ]
    }
   ],
   "source": [
    "combination.info()"
   ]
  },
  {
   "cell_type": "code",
   "execution_count": 93,
   "metadata": {
    "ExecuteTime": {
     "end_time": "2022-01-19T16:56:31.479269Z",
     "start_time": "2022-01-19T16:56:31.447505Z"
    },
    "hidden": true
   },
   "outputs": [],
   "source": [
    "combination['bet']=np.where(combination['pred']==3,'no','yes')"
   ]
  },
  {
   "cell_type": "code",
   "execution_count": 98,
   "metadata": {
    "ExecuteTime": {
     "end_time": "2022-01-19T17:00:37.922556Z",
     "start_time": "2022-01-19T17:00:37.899058Z"
    },
    "hidden": true
   },
   "outputs": [
    {
     "data": {
      "text/html": [
       "<div>\n",
       "<style scoped>\n",
       "    .dataframe tbody tr th:only-of-type {\n",
       "        vertical-align: middle;\n",
       "    }\n",
       "\n",
       "    .dataframe tbody tr th {\n",
       "        vertical-align: top;\n",
       "    }\n",
       "\n",
       "    .dataframe thead th {\n",
       "        text-align: right;\n",
       "    }\n",
       "</style>\n",
       "<table border=\"1\" class=\"dataframe\">\n",
       "  <thead>\n",
       "    <tr style=\"text-align: right;\">\n",
       "      <th></th>\n",
       "      <th>home_win</th>\n",
       "      <th>pred</th>\n",
       "      <th>bet</th>\n",
       "    </tr>\n",
       "  </thead>\n",
       "  <tbody>\n",
       "    <tr>\n",
       "      <th>0</th>\n",
       "      <td>1</td>\n",
       "      <td>1</td>\n",
       "      <td>yes</td>\n",
       "    </tr>\n",
       "    <tr>\n",
       "      <th>1</th>\n",
       "      <td>1</td>\n",
       "      <td>1</td>\n",
       "      <td>yes</td>\n",
       "    </tr>\n",
       "    <tr>\n",
       "      <th>2</th>\n",
       "      <td>1</td>\n",
       "      <td>1</td>\n",
       "      <td>yes</td>\n",
       "    </tr>\n",
       "    <tr>\n",
       "      <th>3</th>\n",
       "      <td>1</td>\n",
       "      <td>1</td>\n",
       "      <td>yes</td>\n",
       "    </tr>\n",
       "    <tr>\n",
       "      <th>4</th>\n",
       "      <td>0</td>\n",
       "      <td>3</td>\n",
       "      <td>no</td>\n",
       "    </tr>\n",
       "    <tr>\n",
       "      <th>5</th>\n",
       "      <td>1</td>\n",
       "      <td>1</td>\n",
       "      <td>yes</td>\n",
       "    </tr>\n",
       "    <tr>\n",
       "      <th>6</th>\n",
       "      <td>1</td>\n",
       "      <td>3</td>\n",
       "      <td>no</td>\n",
       "    </tr>\n",
       "    <tr>\n",
       "      <th>7</th>\n",
       "      <td>1</td>\n",
       "      <td>0</td>\n",
       "      <td>yes</td>\n",
       "    </tr>\n",
       "    <tr>\n",
       "      <th>8</th>\n",
       "      <td>1</td>\n",
       "      <td>3</td>\n",
       "      <td>no</td>\n",
       "    </tr>\n",
       "    <tr>\n",
       "      <th>9</th>\n",
       "      <td>1</td>\n",
       "      <td>0</td>\n",
       "      <td>yes</td>\n",
       "    </tr>\n",
       "    <tr>\n",
       "      <th>10</th>\n",
       "      <td>0</td>\n",
       "      <td>0</td>\n",
       "      <td>yes</td>\n",
       "    </tr>\n",
       "    <tr>\n",
       "      <th>11</th>\n",
       "      <td>0</td>\n",
       "      <td>0</td>\n",
       "      <td>yes</td>\n",
       "    </tr>\n",
       "    <tr>\n",
       "      <th>12</th>\n",
       "      <td>0</td>\n",
       "      <td>1</td>\n",
       "      <td>yes</td>\n",
       "    </tr>\n",
       "    <tr>\n",
       "      <th>13</th>\n",
       "      <td>0</td>\n",
       "      <td>0</td>\n",
       "      <td>yes</td>\n",
       "    </tr>\n",
       "    <tr>\n",
       "      <th>14</th>\n",
       "      <td>1</td>\n",
       "      <td>1</td>\n",
       "      <td>yes</td>\n",
       "    </tr>\n",
       "    <tr>\n",
       "      <th>15</th>\n",
       "      <td>1</td>\n",
       "      <td>1</td>\n",
       "      <td>yes</td>\n",
       "    </tr>\n",
       "    <tr>\n",
       "      <th>16</th>\n",
       "      <td>1</td>\n",
       "      <td>0</td>\n",
       "      <td>yes</td>\n",
       "    </tr>\n",
       "    <tr>\n",
       "      <th>17</th>\n",
       "      <td>0</td>\n",
       "      <td>0</td>\n",
       "      <td>yes</td>\n",
       "    </tr>\n",
       "    <tr>\n",
       "      <th>18</th>\n",
       "      <td>1</td>\n",
       "      <td>0</td>\n",
       "      <td>yes</td>\n",
       "    </tr>\n",
       "    <tr>\n",
       "      <th>19</th>\n",
       "      <td>1</td>\n",
       "      <td>0</td>\n",
       "      <td>yes</td>\n",
       "    </tr>\n",
       "    <tr>\n",
       "      <th>20</th>\n",
       "      <td>0</td>\n",
       "      <td>0</td>\n",
       "      <td>yes</td>\n",
       "    </tr>\n",
       "    <tr>\n",
       "      <th>21</th>\n",
       "      <td>1</td>\n",
       "      <td>0</td>\n",
       "      <td>yes</td>\n",
       "    </tr>\n",
       "    <tr>\n",
       "      <th>22</th>\n",
       "      <td>0</td>\n",
       "      <td>0</td>\n",
       "      <td>yes</td>\n",
       "    </tr>\n",
       "  </tbody>\n",
       "</table>\n",
       "</div>"
      ],
      "text/plain": [
       "    home_win  pred  bet\n",
       "0          1     1  yes\n",
       "1          1     1  yes\n",
       "2          1     1  yes\n",
       "3          1     1  yes\n",
       "4          0     3   no\n",
       "5          1     1  yes\n",
       "6          1     3   no\n",
       "7          1     0  yes\n",
       "8          1     3   no\n",
       "9          1     0  yes\n",
       "10         0     0  yes\n",
       "11         0     0  yes\n",
       "12         0     1  yes\n",
       "13         0     0  yes\n",
       "14         1     1  yes\n",
       "15         1     1  yes\n",
       "16         1     0  yes\n",
       "17         0     0  yes\n",
       "18         1     0  yes\n",
       "19         1     0  yes\n",
       "20         0     0  yes\n",
       "21         1     0  yes\n",
       "22         0     0  yes"
      ]
     },
     "execution_count": 98,
     "metadata": {},
     "output_type": "execute_result"
    }
   ],
   "source": [
    "combination"
   ]
  },
  {
   "cell_type": "code",
   "execution_count": 101,
   "metadata": {
    "ExecuteTime": {
     "end_time": "2022-01-19T17:04:40.835352Z",
     "start_time": "2022-01-19T17:04:40.809730Z"
    },
    "hidden": true,
    "scrolled": true
   },
   "outputs": [],
   "source": [
    "combination.drop(combination[combination['pred'] == 3].index, inplace = True)"
   ]
  },
  {
   "cell_type": "code",
   "execution_count": 104,
   "metadata": {
    "ExecuteTime": {
     "end_time": "2022-01-19T17:05:29.673310Z",
     "start_time": "2022-01-19T17:05:29.663481Z"
    },
    "hidden": true
   },
   "outputs": [],
   "source": [
    "combination.reset_index(inplace=True)"
   ]
  },
  {
   "cell_type": "code",
   "execution_count": 109,
   "metadata": {
    "ExecuteTime": {
     "end_time": "2022-01-19T17:06:00.476211Z",
     "start_time": "2022-01-19T17:06:00.464982Z"
    },
    "hidden": true
   },
   "outputs": [],
   "source": [
    "combination.drop('bet',axis=1,inplace=True)"
   ]
  },
  {
   "cell_type": "code",
   "execution_count": 119,
   "metadata": {
    "ExecuteTime": {
     "end_time": "2022-01-19T17:11:18.696480Z",
     "start_time": "2022-01-19T17:11:18.678446Z"
    },
    "hidden": true
   },
   "outputs": [],
   "source": [
    "count=0\n",
    "for bools in combination['home_win']==combination['pred']:\n",
    "    if bools is True:\n",
    "        count+=1\n",
    "    else:\n",
    "        pass\n"
   ]
  },
  {
   "cell_type": "code",
   "execution_count": 117,
   "metadata": {
    "ExecuteTime": {
     "end_time": "2022-01-19T17:11:00.462464Z",
     "start_time": "2022-01-19T17:11:00.444765Z"
    },
    "hidden": true
   },
   "outputs": [
    {
     "data": {
      "text/plain": [
       "0      True\n",
       "1      True\n",
       "2      True\n",
       "3      True\n",
       "4      True\n",
       "5     False\n",
       "6     False\n",
       "7      True\n",
       "8      True\n",
       "9     False\n",
       "10     True\n",
       "11     True\n",
       "12     True\n",
       "13    False\n",
       "14     True\n",
       "15    False\n",
       "16    False\n",
       "17     True\n",
       "18    False\n",
       "19     True\n",
       "dtype: bool"
      ]
     },
     "execution_count": 117,
     "metadata": {},
     "output_type": "execute_result"
    }
   ],
   "source": [
    "combination['home_win']==combination['pred']"
   ]
  },
  {
   "cell_type": "code",
   "execution_count": 120,
   "metadata": {
    "ExecuteTime": {
     "end_time": "2022-01-19T17:11:24.379857Z",
     "start_time": "2022-01-19T17:11:24.375068Z"
    },
    "hidden": true
   },
   "outputs": [
    {
     "data": {
      "text/plain": [
       "13"
      ]
     },
     "execution_count": 120,
     "metadata": {},
     "output_type": "execute_result"
    }
   ],
   "source": [
    "count"
   ]
  },
  {
   "cell_type": "code",
   "execution_count": 116,
   "metadata": {
    "ExecuteTime": {
     "end_time": "2022-01-19T17:10:41.996274Z",
     "start_time": "2022-01-19T17:10:41.968823Z"
    },
    "hidden": true
   },
   "outputs": [
    {
     "data": {
      "text/html": [
       "<div>\n",
       "<style scoped>\n",
       "    .dataframe tbody tr th:only-of-type {\n",
       "        vertical-align: middle;\n",
       "    }\n",
       "\n",
       "    .dataframe tbody tr th {\n",
       "        vertical-align: top;\n",
       "    }\n",
       "\n",
       "    .dataframe thead th {\n",
       "        text-align: right;\n",
       "    }\n",
       "</style>\n",
       "<table border=\"1\" class=\"dataframe\">\n",
       "  <thead>\n",
       "    <tr style=\"text-align: right;\">\n",
       "      <th></th>\n",
       "      <th>home_win</th>\n",
       "      <th>pred</th>\n",
       "    </tr>\n",
       "  </thead>\n",
       "  <tbody>\n",
       "    <tr>\n",
       "      <th>0</th>\n",
       "      <td>1</td>\n",
       "      <td>1</td>\n",
       "    </tr>\n",
       "    <tr>\n",
       "      <th>1</th>\n",
       "      <td>1</td>\n",
       "      <td>1</td>\n",
       "    </tr>\n",
       "    <tr>\n",
       "      <th>2</th>\n",
       "      <td>1</td>\n",
       "      <td>1</td>\n",
       "    </tr>\n",
       "    <tr>\n",
       "      <th>3</th>\n",
       "      <td>1</td>\n",
       "      <td>1</td>\n",
       "    </tr>\n",
       "    <tr>\n",
       "      <th>4</th>\n",
       "      <td>1</td>\n",
       "      <td>1</td>\n",
       "    </tr>\n",
       "    <tr>\n",
       "      <th>5</th>\n",
       "      <td>1</td>\n",
       "      <td>0</td>\n",
       "    </tr>\n",
       "    <tr>\n",
       "      <th>6</th>\n",
       "      <td>1</td>\n",
       "      <td>0</td>\n",
       "    </tr>\n",
       "    <tr>\n",
       "      <th>7</th>\n",
       "      <td>0</td>\n",
       "      <td>0</td>\n",
       "    </tr>\n",
       "    <tr>\n",
       "      <th>8</th>\n",
       "      <td>0</td>\n",
       "      <td>0</td>\n",
       "    </tr>\n",
       "    <tr>\n",
       "      <th>9</th>\n",
       "      <td>0</td>\n",
       "      <td>1</td>\n",
       "    </tr>\n",
       "    <tr>\n",
       "      <th>10</th>\n",
       "      <td>0</td>\n",
       "      <td>0</td>\n",
       "    </tr>\n",
       "    <tr>\n",
       "      <th>11</th>\n",
       "      <td>1</td>\n",
       "      <td>1</td>\n",
       "    </tr>\n",
       "    <tr>\n",
       "      <th>12</th>\n",
       "      <td>1</td>\n",
       "      <td>1</td>\n",
       "    </tr>\n",
       "    <tr>\n",
       "      <th>13</th>\n",
       "      <td>1</td>\n",
       "      <td>0</td>\n",
       "    </tr>\n",
       "    <tr>\n",
       "      <th>14</th>\n",
       "      <td>0</td>\n",
       "      <td>0</td>\n",
       "    </tr>\n",
       "    <tr>\n",
       "      <th>15</th>\n",
       "      <td>1</td>\n",
       "      <td>0</td>\n",
       "    </tr>\n",
       "    <tr>\n",
       "      <th>16</th>\n",
       "      <td>1</td>\n",
       "      <td>0</td>\n",
       "    </tr>\n",
       "    <tr>\n",
       "      <th>17</th>\n",
       "      <td>0</td>\n",
       "      <td>0</td>\n",
       "    </tr>\n",
       "    <tr>\n",
       "      <th>18</th>\n",
       "      <td>1</td>\n",
       "      <td>0</td>\n",
       "    </tr>\n",
       "    <tr>\n",
       "      <th>19</th>\n",
       "      <td>0</td>\n",
       "      <td>0</td>\n",
       "    </tr>\n",
       "  </tbody>\n",
       "</table>\n",
       "</div>"
      ],
      "text/plain": [
       "    home_win  pred\n",
       "0          1     1\n",
       "1          1     1\n",
       "2          1     1\n",
       "3          1     1\n",
       "4          1     1\n",
       "5          1     0\n",
       "6          1     0\n",
       "7          0     0\n",
       "8          0     0\n",
       "9          0     1\n",
       "10         0     0\n",
       "11         1     1\n",
       "12         1     1\n",
       "13         1     0\n",
       "14         0     0\n",
       "15         1     0\n",
       "16         1     0\n",
       "17         0     0\n",
       "18         1     0\n",
       "19         0     0"
      ]
     },
     "execution_count": 116,
     "metadata": {},
     "output_type": "execute_result"
    }
   ],
   "source": [
    "combination"
   ]
  },
  {
   "cell_type": "code",
   "execution_count": 41,
   "metadata": {
    "ExecuteTime": {
     "end_time": "2022-01-19T15:38:19.381740Z",
     "start_time": "2022-01-19T15:38:19.373770Z"
    },
    "hidden": true
   },
   "outputs": [],
   "source": [
    "clas=[]\n",
    "for log in logregs.predict_proba(X_test_scaled):\n",
    "    clas.append(log[0])"
   ]
  },
  {
   "cell_type": "code",
   "execution_count": 42,
   "metadata": {
    "ExecuteTime": {
     "end_time": "2022-01-19T15:38:22.545535Z",
     "start_time": "2022-01-19T15:38:22.537932Z"
    },
    "hidden": true
   },
   "outputs": [
    {
     "data": {
      "text/plain": [
       "[0.05700160930305964,\n",
       " 0.1024097633297757,\n",
       " 0.2141985823946485,\n",
       " 0.2138068415045462,\n",
       " 0.5000051725684485,\n",
       " 0.08290861729812149,\n",
       " 0.5000051725684485,\n",
       " 0.9608261621586727,\n",
       " 0.48795141750693216,\n",
       " 0.8417906330384799,\n",
       " 0.898093651952056,\n",
       " 0.9608261621586727,\n",
       " 0.2141985823946485,\n",
       " 0.8417906330384799,\n",
       " 0.17206246657840396,\n",
       " 0.3360459125066567,\n",
       " 0.6212552931515466,\n",
       " 0.9695223824955316,\n",
       " 0.9695223824955316,\n",
       " 0.6166601479069842,\n",
       " 0.6166601479069842,\n",
       " 0.789995523377905,\n",
       " 0.789995523377905]"
      ]
     },
     "execution_count": 42,
     "metadata": {},
     "output_type": "execute_result"
    }
   ],
   "source": [
    "clas"
   ]
  },
  {
   "cell_type": "code",
   "execution_count": 47,
   "metadata": {
    "ExecuteTime": {
     "end_time": "2022-01-18T16:56:09.187820Z",
     "start_time": "2022-01-18T16:56:09.175975Z"
    },
    "hidden": true
   },
   "outputs": [
    {
     "data": {
      "text/plain": [
       "54"
      ]
     },
     "execution_count": 47,
     "metadata": {},
     "output_type": "execute_result"
    }
   ],
   "source": [
    "decisions = (logregs.predict_proba(X_test_scaled) >= .6).astype(int)\n",
    "len(decisions)"
   ]
  },
  {
   "cell_type": "code",
   "execution_count": 97,
   "metadata": {
    "ExecuteTime": {
     "end_time": "2022-01-18T19:08:34.302186Z",
     "start_time": "2022-01-18T19:08:34.264903Z"
    },
    "hidden": true,
    "scrolled": true
   },
   "outputs": [],
   "source": [
    "today_winners = np.where(y_test!= predictions,'Away','Home')"
   ]
  },
  {
   "cell_type": "code",
   "execution_count": 101,
   "metadata": {
    "ExecuteTime": {
     "end_time": "2022-01-18T19:09:02.840747Z",
     "start_time": "2022-01-18T19:09:02.822590Z"
    },
    "hidden": true
   },
   "outputs": [
    {
     "data": {
      "text/plain": [
       "array(['Home', 'Home', 'Home', 'Home', 'Away', 'Home', 'Home', 'Away',\n",
       "       'Away', 'Away', 'Home', 'Home', 'Away', 'Home', 'Home', 'Home',\n",
       "       'Away', 'Home', 'Away', 'Away', 'Home', 'Away', 'Home'],\n",
       "      dtype='<U4')"
      ]
     },
     "execution_count": 101,
     "metadata": {},
     "output_type": "execute_result"
    }
   ],
   "source": [
    "today_winners"
   ]
  },
  {
   "cell_type": "markdown",
   "metadata": {
    "hidden": true
   },
   "source": [
    "7 out of 9 playoff series correctly predicted"
   ]
  },
  {
   "cell_type": "markdown",
   "metadata": {},
   "source": [
    "# KNN"
   ]
  },
  {
   "cell_type": "markdown",
   "metadata": {
    "heading_collapsed": true
   },
   "source": [
    "### Model"
   ]
  },
  {
   "cell_type": "code",
   "execution_count": 150,
   "metadata": {
    "ExecuteTime": {
     "end_time": "2022-01-19T19:29:40.307938Z",
     "start_time": "2022-01-19T19:29:39.963413Z"
    },
    "hidden": true
   },
   "outputs": [],
   "source": [
    "def knn(X_train, X_test, y_train, y_test, metric='minkowski', cv=5):\n",
    "    \n",
    "    # Set GridSearchCV hyperparameters to compare & select\n",
    "    grid = {\n",
    "    'n_neighbors': [5,7,9,11,13,15,17],\n",
    "    'metric': ['minkowski', 'manhattan'],\n",
    "    'weights': ['uniform', 'distance']}\n",
    "    \n",
    "    # Instantiate & fit KNN model for GridSearch\n",
    "    grid_knn = KNeighborsClassifier()\n",
    "    grid_knn.fit(X_train, y_train)\n",
    "    \n",
    "    # Instantiate & fit GridSearchCV with accuracy scoring\n",
    "    gs = GridSearchCV(estimator=grid_knn, param_grid=grid, cv=cv, scoring='accuracy')\n",
    "    gs.fit(X_train, y_train)\n",
    "    \n",
    "    # Return best hyperparameters\n",
    "    knn_params = gs.best_params_\n",
    "    \n",
    "    # Use best # of neighbors from best_params\n",
    "    knn_neighbors = knn_params['n_neighbors']\n",
    "    print(f'Number of Neighbors: {knn_neighbors}')\n",
    "    \n",
    "    # Use best metric from best_params\n",
    "    knn_metric = knn_params['metric']\n",
    "    print(f'Metric: {knn_metric}')\n",
    "    \n",
    "    # Use best weights from best_params\n",
    "    knn_weights=knn_params['weights']\n",
    "    print(f'Weights: {knn_weights}')\n",
    "    \n",
    "    # Instantiate & fit K-Nearest Neighbors model\n",
    "    knn = KNeighborsClassifier(n_neighbors=knn_neighbors, metric=knn_metric,\n",
    "                               weights=knn_weights)\n",
    "    knn.fit(X_train, y_train)\n",
    "    \n",
    "    # Create prediction variable using test data\n",
    "    y_pred = knn.predict(X_test)\n",
    "    y_proba=knn.predict_proba(X_test)\n",
    "    \n",
    "    # Run cross-validate score with cv folds from function parameter\n",
    "    cv_results = cross_val_score(knn, X_train, y_train, cv=cv)\n",
    "    print(f'Mean Cross-Val Score: {cv_results.mean()}')\n",
    "    \n",
    "    # Run and print accuracy, recall, precision and f1 scores\n",
    "    train_score = knn.score(X_train, y_train)\n",
    "    print(f'Train Mean Accuracy: {train_score}')\n",
    "    test_score = knn.score(X_test, y_test)\n",
    "    print(f'Test Mean Accuracy: {test_score}')\n",
    "    \n",
    "    rec_score = recall_score(y_test, y_pred)\n",
    "    print(f'Recall Score: {rec_score}')\n",
    "    \n",
    "    prec_score = precision_score(y_test, y_pred)\n",
    "    print(f'Precision Score: {prec_score}')\n",
    "    \n",
    "    f1 = f1_score(y_test, y_pred)\n",
    "    print(f'F1 score: {f1}')\n",
    "    \n",
    "    # Plot an ROC curve (only works with binary data)\n",
    "    fig, ax = plt.subplots()\n",
    "    plot_roc_curve(knn, X_train, y_train, name='train', ax=ax)\n",
    "    plot_roc_curve(knn, X_test, y_test, name='test', ax=ax)\n",
    "    \n",
    "    # Plot Confusion Matrix\n",
    "    plot_confusion_matrix(knn, X_train, y_train)\n",
    "    plot_confusion_matrix(knn, X_test, y_test)\n",
    "    \n",
    "    return y_pred,y_proba\n",
    "    "
   ]
  },
  {
   "cell_type": "markdown",
   "metadata": {},
   "source": [
    "### Home win KNN"
   ]
  },
  {
   "cell_type": "code",
   "execution_count": 151,
   "metadata": {
    "ExecuteTime": {
     "end_time": "2022-01-19T19:30:23.190494Z",
     "start_time": "2022-01-19T19:29:44.917879Z"
    }
   },
   "outputs": [
    {
     "name": "stdout",
     "output_type": "stream",
     "text": [
      "Number of Neighbors: 17\n",
      "Metric: manhattan\n",
      "Weights: uniform\n",
      "Mean Cross-Val Score: 0.548148148148148\n",
      "Train Mean Accuracy: 0.6226337448559671\n",
      "Test Mean Accuracy: 0.6521739130434783\n",
      "Recall Score: 0.7333333333333333\n",
      "Precision Score: 0.7333333333333333\n",
      "F1 score: 0.7333333333333333\n"
     ]
    },
    {
     "data": {
      "image/png": "[encoded data removed]",
      "text/plain": [
       "<Figure size 432x288 with 1 Axes>"
      ]
     },
     "metadata": {
      "needs_background": "light"
     },
     "output_type": "display_data"
    },
    {
     "data": {
      "image/png": "[encoded data removed]",
      "text/plain": [
       "<Figure size 432x288 with 2 Axes>"
      ]
     },
     "metadata": {
      "needs_background": "light"
     },
     "output_type": "display_data"
    },
    {
     "data": {
      "image/png": "[encoded data removed]",
      "text/plain": [
       "<Figure size 432x288 with 2 Axes>"
      ]
     },
     "metadata": {
      "needs_background": "light"
     },
     "output_type": "display_data"
    }
   ],
   "source": [
    "predictions,probabilities=knn(X_train_scaled,X_test_scaled,y_train,y_test)"
   ]
  },
  {
   "cell_type": "code",
   "execution_count": 152,
   "metadata": {
    "ExecuteTime": {
     "end_time": "2022-01-19T19:30:27.170249Z",
     "start_time": "2022-01-19T19:30:27.154179Z"
    }
   },
   "outputs": [
    {
     "data": {
      "text/plain": [
       "0.6363636363636364"
      ]
     },
     "execution_count": 152,
     "metadata": {},
     "output_type": "execute_result"
    }
   ],
   "source": [
    "new_acc(probabilities)"
   ]
  },
  {
   "cell_type": "markdown",
   "metadata": {
    "heading_collapsed": true
   },
   "source": [
    "# Decision Tree"
   ]
  },
  {
   "cell_type": "code",
   "execution_count": 156,
   "metadata": {
    "ExecuteTime": {
     "end_time": "2022-01-19T19:32:31.175840Z",
     "start_time": "2022-01-19T19:32:04.300471Z"
    },
    "hidden": true
   },
   "outputs": [],
   "source": [
    "dfeats= feature_select(X_train_scaled,y_train,DecisionTreeClassifier,min_features=10)\n",
    "X_train_best_tree = X_train_scaled[dfeats]\n",
    "X_test_best_tree = X_test_scaled[dfeats]"
   ]
  },
  {
   "cell_type": "code",
   "execution_count": 155,
   "metadata": {
    "ExecuteTime": {
     "end_time": "2022-01-19T19:31:41.459712Z",
     "start_time": "2022-01-19T19:31:41.437900Z"
    },
    "hidden": true
   },
   "outputs": [],
   "source": [
    "def dtree(X_train, X_test, y_train, y_test, cv=5):\n",
    "    \n",
    "    # Set GridSearchCV hyperparameters to compare & select\n",
    "    grid = {\n",
    "    'max_depth': [3,10,15],\n",
    "    'min_samples_split': [2,8,10,15],\n",
    "    'criterion': ['gini', 'entropy']}\n",
    "    \n",
    "    # Instantiate & fit Decision Tree model for GridSearch\n",
    "    grid_dt = DecisionTreeClassifier()\n",
    "    grid_dt.fit(X_train, y_train)\n",
    "    \n",
    "    # Instantiate & fit GridSearchCV with accuracy scoring\n",
    "    gs = GridSearchCV(estimator=grid_dt, param_grid=grid, cv=cv, scoring='accuracy')\n",
    "    gs.fit(X_train, y_train)\n",
    "    \n",
    "    # Return best hyperparameters\n",
    "    dt_params = gs.best_params_\n",
    "    \n",
    "    # Use best max depth from best_params\n",
    "    dt_max_depth = dt_params['max_depth']\n",
    "    print(f'Max Depth: {dt_max_depth}')\n",
    "    \n",
    "    # Use best minimum sample split from best_params\n",
    "    dt_min_samp = dt_params['min_samples_split']\n",
    "    print(f'Min Sample Split: {dt_min_samp}')\n",
    "    \n",
    "    # Use best criterion from best_params\n",
    "    dt_criterion = dt_params['criterion']\n",
    "    print(f'criterion: {dt_criterion}')\n",
    "    \n",
    "    # Instantiate & fit Decision Tree model\n",
    "    dtree = DecisionTreeClassifier(max_depth=dt_max_depth, criterion=dt_criterion,\n",
    "                                   min_samples_split=dt_min_samp, random_state=42)\n",
    "    dtree.fit(X_train, y_train)\n",
    "    \n",
    "    # Create prediction variable using test data\n",
    "    y_pred = dtree.predict(X_test)\n",
    "    y_prob= dtree.predict_proba(X_test)\n",
    "    \n",
    "    # Run cross-validate score with cv folds from function parameter\n",
    "    cv_results = cross_val_score(dtree, X_train, y_train, cv=cv)\n",
    "    print(f'Mean Cross-Val Score: {cv_results.mean()}')\n",
    "    \n",
    "    # Run and print accuracy, recall, precision and f1 scores\n",
    "    train_score = dtree.score(X_train, y_train)\n",
    "    print(f'Train Mean Accuracy: {train_score}')\n",
    "    test_score = dtree.score(X_test, y_test)\n",
    "    print(f'Test Mean Accuracy: {test_score}')\n",
    "    \n",
    "    rec_score = recall_score(y_test, y_pred)\n",
    "    print(f'Recall Score: {rec_score}')\n",
    "    \n",
    "    prec_score = precision_score(y_test, y_pred)\n",
    "    print(f'Precision Score: {prec_score}')\n",
    "    \n",
    "    f1 = f1_score(y_test, y_pred)\n",
    "    print(f'F1 score: {f1}')\n",
    "    \n",
    "    # Plot an ROC curve (only works with binary data)\n",
    "    fig, ax = plt.subplots()\n",
    "    plot_roc_curve(dtree, X_train, y_train, name='train', ax=ax)\n",
    "    plot_roc_curve(dtree, X_test, y_test, name='test', ax=ax)\n",
    "    \n",
    "    # Plot Confusion Matrix\n",
    "    plot_confusion_matrix(dtree, X_train, y_train)\n",
    "    plot_confusion_matrix(dtree, X_test, y_test)\n",
    "    \n",
    "    return y_pred,y_prob\n",
    "    "
   ]
  },
  {
   "cell_type": "markdown",
   "metadata": {
    "heading_collapsed": true,
    "hidden": true
   },
   "source": [
    "### Dtree Home Win"
   ]
  },
  {
   "cell_type": "code",
   "execution_count": 157,
   "metadata": {
    "ExecuteTime": {
     "end_time": "2022-01-19T19:32:33.282049Z",
     "start_time": "2022-01-19T19:32:31.178844Z"
    },
    "hidden": true
   },
   "outputs": [
    {
     "name": "stdout",
     "output_type": "stream",
     "text": [
      "Max Depth: 3\n",
      "Min Sample Split: 2\n",
      "criterion: gini\n",
      "Mean Cross-Val Score: 0.5691358024691358\n",
      "Train Mean Accuracy: 0.5818930041152264\n",
      "Test Mean Accuracy: 0.5652173913043478\n",
      "Recall Score: 0.4666666666666667\n",
      "Precision Score: 0.7777777777777778\n",
      "F1 score: 0.5833333333333334\n"
     ]
    },
    {
     "data": {
      "image/png": "[encoded data removed]",
      "text/plain": [
       "<Figure size 432x288 with 1 Axes>"
      ]
     },
     "metadata": {
      "needs_background": "light"
     },
     "output_type": "display_data"
    },
    {
     "data": {
      "image/png": "[encoded data removed]",
      "text/plain": [
       "<Figure size 432x288 with 2 Axes>"
      ]
     },
     "metadata": {
      "needs_background": "light"
     },
     "output_type": "display_data"
    },
    {
     "data": {
      "image/png": "[encoded data removed]",
      "text/plain": [
       "<Figure size 432x288 with 2 Axes>"
      ]
     },
     "metadata": {
      "needs_background": "light"
     },
     "output_type": "display_data"
    }
   ],
   "source": [
    "predictions,probabilities=dtree(X_train_best_tree,X_test_best_tree,y_train,y_test)"
   ]
  },
  {
   "cell_type": "code",
   "execution_count": 158,
   "metadata": {
    "ExecuteTime": {
     "end_time": "2022-01-19T19:32:46.025498Z",
     "start_time": "2022-01-19T19:32:46.007141Z"
    },
    "hidden": true
   },
   "outputs": [
    {
     "data": {
      "text/plain": [
       "0.6153846153846154"
      ]
     },
     "execution_count": 158,
     "metadata": {},
     "output_type": "execute_result"
    }
   ],
   "source": [
    "new_acc(probabilities)"
   ]
  },
  {
   "cell_type": "markdown",
   "metadata": {},
   "source": [
    "# Random Forest"
   ]
  },
  {
   "cell_type": "code",
   "execution_count": 159,
   "metadata": {
    "ExecuteTime": {
     "end_time": "2022-01-19T19:40:03.326620Z",
     "start_time": "2022-01-19T19:33:19.936856Z"
    }
   },
   "outputs": [],
   "source": [
    "rfeats= feature_select(X_train_scaled,y_train,RandomForestClassifier,min_features=10)\n",
    "X_train_best_for = X_train_scaled[rfeats]\n",
    "X_test_best_for = X_test_scaled[rfeats]"
   ]
  },
  {
   "cell_type": "code",
   "execution_count": 160,
   "metadata": {
    "ExecuteTime": {
     "end_time": "2022-01-19T19:40:03.392323Z",
     "start_time": "2022-01-19T19:40:03.329750Z"
    }
   },
   "outputs": [],
   "source": [
    "def random_forest(X_train, X_test, y_train, y_test, cv=5):\n",
    "    \n",
    "    # Set GridSearchCV hyperparameters to compare & select\n",
    "    grid = {\n",
    "    'n_estimators': [75,90,100,110,115,125,150,500],\n",
    "    'criterion': ['gini', 'entropy']}\n",
    "    \n",
    "    # Instantiate & fit Random Forest model for GridSearch\n",
    "    grid_rf = RandomForestClassifier()\n",
    "    grid_rf.fit(X_train,y_train)\n",
    "    \n",
    "    # Instantiate & fit GridSearchCV with accuracy scoring\n",
    "    gs = GridSearchCV(estimator=grid_rf, param_grid=grid, cv=cv, scoring='accuracy')\n",
    "    gs.fit(X_train, y_train)\n",
    "    \n",
    "    # Return best hyperparameters\n",
    "    rf_params = gs.best_params_\n",
    "    \n",
    "    # Use best # of trees from best_params\n",
    "    rf_n_estimators = rf_params['n_estimators']\n",
    "    print(f'Number of Trees: {rf_n_estimators}')\n",
    "    \n",
    "    # Use best criterion from best_params\n",
    "    rf_criterion = rf_params['criterion']\n",
    "    print(f'criterion: {rf_criterion}')\n",
    "    \n",
    "    # Instantiate & fit Random Forest model\n",
    "    rforest = RandomForestClassifier(n_estimators=rf_n_estimators, criterion=rf_criterion,\n",
    "                                    random_state=42)\n",
    "    rforest.fit(X_train, y_train)\n",
    "    \n",
    "    # Create prediction variable using test data\n",
    "    y_pred = rforest.predict(X_test)\n",
    "    y_prob = rforest.predict_proba(X_test)\n",
    "    \n",
    "    # Run cross-validate score with cv folds from function parameter\n",
    "    cv_results = cross_val_score(rforest, X_train, y_train, cv=cv)\n",
    "    print(f'Mean Cross-Val Score: {cv_results.mean()}')\n",
    "    \n",
    "    # Run and print accuracy, recall, precision and f1 scores\n",
    "    train_score = rforest.score(X_train, y_train)\n",
    "    print(f'Train Mean Accuracy: {train_score}')\n",
    "    test_score = rforest.score(X_test, y_test)\n",
    "    print(f'Test Mean Accuracy: {test_score}')\n",
    "    \n",
    "    rec_score = recall_score(y_test, y_pred)\n",
    "    print(f'Recall Score: {rec_score}')\n",
    "    \n",
    "    prec_score = precision_score(y_test, y_pred)\n",
    "    print(f'Precision Score: {prec_score}')\n",
    "    \n",
    "    f1 = f1_score(y_test, y_pred)\n",
    "    print(f'F1 score: {f1}')\n",
    "    \n",
    "    # Plot an ROC curve (only works with binary data)\n",
    "    fig, ax = plt.subplots()\n",
    "    plot_roc_curve(rforest, X_train, y_train, name='train', ax=ax)\n",
    "    plot_roc_curve(rforest, X_test, y_test, name='test', ax=ax)\n",
    "    \n",
    "    # Plot Confusion Matrix\n",
    "    plot_confusion_matrix(rforest, X_train, y_train)\n",
    "    plot_confusion_matrix(rforest, X_test, y_test);\n",
    "    \n",
    "    return y_pred,y_prob\n"
   ]
  },
  {
   "cell_type": "code",
   "execution_count": 161,
   "metadata": {
    "ExecuteTime": {
     "end_time": "2022-01-19T19:42:05.946799Z",
     "start_time": "2022-01-19T19:40:03.396611Z"
    },
    "scrolled": true
   },
   "outputs": [
    {
     "name": "stdout",
     "output_type": "stream",
     "text": [
      "Number of Trees: 500\n",
      "criterion: entropy\n",
      "Mean Cross-Val Score: 0.5440329218106995\n",
      "Train Mean Accuracy: 0.6921810699588478\n",
      "Test Mean Accuracy: 0.6086956521739131\n",
      "Recall Score: 0.6\n",
      "Precision Score: 0.75\n",
      "F1 score: 0.6666666666666665\n"
     ]
    },
    {
     "data": {
      "image/png": "[encoded data removed]",
      "text/plain": [
       "<Figure size 432x288 with 1 Axes>"
      ]
     },
     "metadata": {
      "needs_background": "light"
     },
     "output_type": "display_data"
    },
    {
     "data": {
      "image/png": "[encoded data removed]",
      "text/plain": [
       "<Figure size 432x288 with 2 Axes>"
      ]
     },
     "metadata": {
      "needs_background": "light"
     },
     "output_type": "display_data"
    },
    {
     "data": {
      "image/png": "[encoded data removed]",
      "text/plain": [
       "<Figure size 432x288 with 2 Axes>"
      ]
     },
     "metadata": {
      "needs_background": "light"
     },
     "output_type": "display_data"
    }
   ],
   "source": [
    "predictions,probabilities=random_forest(X_train_best_for,X_test_best_for,y_train,y_test)"
   ]
  },
  {
   "cell_type": "code",
   "execution_count": 162,
   "metadata": {
    "ExecuteTime": {
     "end_time": "2022-01-19T19:42:06.001605Z",
     "start_time": "2022-01-19T19:42:05.950911Z"
    }
   },
   "outputs": [
    {
     "data": {
      "text/plain": [
       "0.8571428571428571"
      ]
     },
     "execution_count": 162,
     "metadata": {},
     "output_type": "execute_result"
    }
   ],
   "source": [
    "new_acc(probabilities)"
   ]
  },
  {
   "cell_type": "markdown",
   "metadata": {
    "heading_collapsed": true
   },
   "source": [
    "### RForest Home Win"
   ]
  },
  {
   "cell_type": "code",
   "execution_count": 53,
   "metadata": {
    "ExecuteTime": {
     "end_time": "2022-01-14T20:19:40.919398Z",
     "start_time": "2022-01-14T20:17:51.300712Z"
    },
    "hidden": true
   },
   "outputs": [
    {
     "name": "stdout",
     "output_type": "stream",
     "text": [
      "Number of Trees: 500\n",
      "criterion: gini\n",
      "Mean Cross-Val Score: 0.5366255144032922\n",
      "Train Mean Accuracy: 0.6921810699588478\n",
      "Test Mean Accuracy: 0.7037037037037037\n",
      "Recall Score: 0.8205128205128205\n",
      "Precision Score: 0.7804878048780488\n",
      "F1 score: 0.8\n"
     ]
    },
    {
     "data": {
      "image/png": "[encoded data removed]",
      "text/plain": [
       "<Figure size 432x288 with 1 Axes>"
      ]
     },
     "metadata": {
      "needs_background": "light"
     },
     "output_type": "display_data"
    },
    {
     "data": {
      "image/png": "[encoded data removed]",
      "text/plain": [
       "<Figure size 432x288 with 2 Axes>"
      ]
     },
     "metadata": {
      "needs_background": "light"
     },
     "output_type": "display_data"
    },
    {
     "data": {
      "image/png": "[encoded data removed]",
      "text/plain": [
       "<Figure size 432x288 with 2 Axes>"
      ]
     },
     "metadata": {
      "needs_background": "light"
     },
     "output_type": "display_data"
    }
   ],
   "source": [
    "random_forest(X_train_best_for,X_test_best_for,y_train,y_test)"
   ]
  },
  {
   "cell_type": "markdown",
   "metadata": {
    "heading_collapsed": true
   },
   "source": [
    "# Bagging Classifier"
   ]
  },
  {
   "cell_type": "code",
   "execution_count": 185,
   "metadata": {
    "ExecuteTime": {
     "end_time": "2022-01-14T18:13:41.708626Z",
     "start_time": "2022-01-14T18:13:41.705395Z"
    },
    "hidden": true
   },
   "outputs": [],
   "source": [
    "#bagged(X_train_best_tree,X_test_best_tree,y_train,y_test)"
   ]
  },
  {
   "cell_type": "markdown",
   "metadata": {
    "heading_collapsed": true
   },
   "source": [
    "# XGBoost"
   ]
  },
  {
   "cell_type": "code",
   "execution_count": 88,
   "metadata": {
    "ExecuteTime": {
     "end_time": "2022-01-13T17:45:26.703431Z",
     "start_time": "2022-01-13T17:39:17.349250Z"
    },
    "hidden": true
   },
   "outputs": [],
   "source": [
    "xfeats= feature_select(X_train_scaled,y_train,XGBClassifier,min_features=10)\n",
    "X_train_best_x = X_train_scaled[xfeats]\n",
    "X_test_best_x = X_test_scaled[xfeats]"
   ]
  },
  {
   "cell_type": "code",
   "execution_count": 186,
   "metadata": {
    "ExecuteTime": {
     "end_time": "2022-01-14T18:13:51.337129Z",
     "start_time": "2022-01-14T18:13:51.333040Z"
    },
    "hidden": true
   },
   "outputs": [],
   "source": [
    "#xgboost(X_train_best_x, X_test_best_x, y_train, y_test, cv=5)"
   ]
  },
  {
   "cell_type": "code",
   "execution_count": null,
   "metadata": {
    "hidden": true
   },
   "outputs": [],
   "source": []
  }
 ],
 "metadata": {
  "kernelspec": {
   "display_name": "Python (learn-env)",
   "language": "python",
   "name": "learn-env"
  },
  "language_info": {
   "codemirror_mode": {
    "name": "ipython",
    "version": 3
   },
   "file_extension": ".py",
   "mimetype": "text/x-python",
   "name": "python",
   "nbconvert_exporter": "python",
   "pygments_lexer": "ipython3",
   "version": "3.8.5"
  }
 },
 "nbformat": 4,
 "nbformat_minor": 4
}

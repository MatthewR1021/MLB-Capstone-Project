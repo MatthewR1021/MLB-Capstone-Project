{
 "cells": [
  {
   "cell_type": "code",
   "execution_count": 1,
   "metadata": {
    "ExecuteTime": {
     "end_time": "2022-01-20T15:38:15.638250Z",
     "start_time": "2022-01-20T15:38:09.541440Z"
    }
   },
   "outputs": [],
   "source": [
    "# Import the relevant packages\n",
    "import pandas as pd\n",
    "import numpy as np\n",
    "import matplotlib.pyplot as plt\n",
    "from sklearn.linear_model import LogisticRegression\n",
    "from sklearn.model_selection import cross_val_score, train_test_split,GridSearchCV\n",
    "from sklearn.metrics import plot_confusion_matrix, plot_roc_curve, accuracy_score, \\\n",
    "recall_score, precision_score, f1_score\n",
    "from sklearn.neighbors import KNeighborsClassifier\n",
    "from sklearn.preprocessing import StandardScaler\n",
    "from sklearn.tree import DecisionTreeClassifier, plot_tree\n",
    "from sklearn.ensemble import BaggingClassifier, RandomForestClassifier\n",
    "from sklearn.datasets import load_iris\n",
    "from sklearn.ensemble import AdaBoostClassifier, GradientBoostingClassifier\n",
    "from xgboost import XGBClassifier\n",
    "import statsmodels.api as sm\n",
    "from sklearn.feature_selection import RFECV\n",
    "from sklearn.decomposition import PCA\n",
    "import warnings\n",
    "warnings.filterwarnings(\"ignore\")"
   ]
  },
  {
   "cell_type": "code",
   "execution_count": 2,
   "metadata": {
    "ExecuteTime": {
     "end_time": "2022-01-20T15:38:15.694742Z",
     "start_time": "2022-01-20T15:38:15.642045Z"
    }
   },
   "outputs": [],
   "source": [
    "#Import functions notebook and load data set here\n",
    "import sys\n",
    "sys.path.append(\"../\")\n",
    "from Modeling_functions import *"
   ]
  },
  {
   "cell_type": "code",
   "execution_count": 3,
   "metadata": {
    "ExecuteTime": {
     "end_time": "2022-01-20T15:38:15.819355Z",
     "start_time": "2022-01-20T15:38:15.720092Z"
    }
   },
   "outputs": [],
   "source": [
    "df=pd.read_csv('../data/Season_2020.csv')"
   ]
  },
  {
   "cell_type": "code",
   "execution_count": 4,
   "metadata": {
    "ExecuteTime": {
     "end_time": "2022-01-20T15:38:17.567189Z",
     "start_time": "2022-01-20T15:38:17.555394Z"
    }
   },
   "outputs": [],
   "source": [
    "df.drop(['Unnamed: 0'],axis=1,inplace=True)"
   ]
  },
  {
   "cell_type": "code",
   "execution_count": 5,
   "metadata": {
    "ExecuteTime": {
     "end_time": "2022-01-20T15:38:19.663944Z",
     "start_time": "2022-01-20T15:38:19.644198Z"
    }
   },
   "outputs": [],
   "source": [
    "n = 75\n",
    "df=df.head(int(len(df)*(n/100)))"
   ]
  },
  {
   "cell_type": "code",
   "execution_count": 6,
   "metadata": {
    "ExecuteTime": {
     "end_time": "2022-01-20T15:38:20.081703Z",
     "start_time": "2022-01-20T15:38:20.078184Z"
    }
   },
   "outputs": [],
   "source": [
    "n = 25\n",
    "df2=df.tail(int(len(df)*(n/100)))"
   ]
  },
  {
   "cell_type": "markdown",
   "metadata": {},
   "source": [
    "Find and eliminate NaNs"
   ]
  },
  {
   "cell_type": "code",
   "execution_count": 7,
   "metadata": {
    "ExecuteTime": {
     "end_time": "2022-01-20T15:38:24.398364Z",
     "start_time": "2022-01-20T15:38:24.370160Z"
    }
   },
   "outputs": [],
   "source": [
    "df=df.drop(['H_win_probability_subtracted','A_win_probability_subtracted','A_Opp_win_probability_subtracted',\n",
    "          'H_Opp_win_probability_subtracted'],axis=1)"
   ]
  },
  {
   "cell_type": "code",
   "execution_count": 8,
   "metadata": {
    "ExecuteTime": {
     "end_time": "2022-01-20T15:38:24.727060Z",
     "start_time": "2022-01-20T15:38:24.706805Z"
    },
    "scrolled": true
   },
   "outputs": [],
   "source": [
    "df2=df2.drop(['H_win_probability_subtracted','A_win_probability_subtracted','A_Opp_win_probability_subtracted',\n",
    "          'H_Opp_win_probability_subtracted'],axis=1)"
   ]
  },
  {
   "cell_type": "code",
   "execution_count": 9,
   "metadata": {
    "ExecuteTime": {
     "end_time": "2022-01-20T15:38:25.164384Z",
     "start_time": "2022-01-20T15:38:25.139678Z"
    }
   },
   "outputs": [
    {
     "data": {
      "text/plain": [
       "1    0.521452\n",
       "0    0.478548\n",
       "Name: home_win, dtype: float64"
      ]
     },
     "execution_count": 9,
     "metadata": {},
     "output_type": "execute_result"
    }
   ],
   "source": [
    "df.home_win.value_counts(normalize=True)"
   ]
  },
  {
   "cell_type": "code",
   "execution_count": 10,
   "metadata": {
    "ExecuteTime": {
     "end_time": "2022-01-20T15:38:28.807986Z",
     "start_time": "2022-01-20T15:38:28.794700Z"
    }
   },
   "outputs": [
    {
     "data": {
      "text/plain": [
       "1    0.56\n",
       "0    0.44\n",
       "Name: home_win, dtype: float64"
      ]
     },
     "execution_count": 10,
     "metadata": {},
     "output_type": "execute_result"
    }
   ],
   "source": [
    "df2.home_win.value_counts(normalize=True)"
   ]
  },
  {
   "cell_type": "code",
   "execution_count": 11,
   "metadata": {
    "ExecuteTime": {
     "end_time": "2022-01-20T15:38:30.113160Z",
     "start_time": "2022-01-20T15:38:30.029429Z"
    }
   },
   "outputs": [
    {
     "data": {
      "text/html": [
       "<div>\n",
       "<style scoped>\n",
       "    .dataframe tbody tr th:only-of-type {\n",
       "        vertical-align: middle;\n",
       "    }\n",
       "\n",
       "    .dataframe tbody tr th {\n",
       "        vertical-align: top;\n",
       "    }\n",
       "\n",
       "    .dataframe thead th {\n",
       "        text-align: right;\n",
       "    }\n",
       "</style>\n",
       "<table border=\"1\" class=\"dataframe\">\n",
       "  <thead>\n",
       "    <tr style=\"text-align: right;\">\n",
       "      <th></th>\n",
       "      <th>H_name</th>\n",
       "      <th>H_at_bats</th>\n",
       "      <th>H_runs</th>\n",
       "      <th>H_hits</th>\n",
       "      <th>H_rbi</th>\n",
       "      <th>H_earned_runs</th>\n",
       "      <th>H_bases_on_balls</th>\n",
       "      <th>H_strikeouts</th>\n",
       "      <th>H_plate_appearances</th>\n",
       "      <th>H_batting_average</th>\n",
       "      <th>...</th>\n",
       "      <th>A_Opp_grounded_balls</th>\n",
       "      <th>A_Opp_fly_balls</th>\n",
       "      <th>A_Opp_line_drives</th>\n",
       "      <th>A_Opp_unknown_bat_type</th>\n",
       "      <th>A_Opp_game_score</th>\n",
       "      <th>A_Opp_inherited_runners</th>\n",
       "      <th>A_Opp_inherited_score</th>\n",
       "      <th>A_Opp_win_probability_by_pitcher</th>\n",
       "      <th>A_Opp_base_out_runs_saved</th>\n",
       "      <th>home_win</th>\n",
       "    </tr>\n",
       "  </thead>\n",
       "  <tbody>\n",
       "    <tr>\n",
       "      <th>228</th>\n",
       "      <td>ATL</td>\n",
       "      <td>34.566667</td>\n",
       "      <td>5.800000</td>\n",
       "      <td>9.266667</td>\n",
       "      <td>5.633333</td>\n",
       "      <td>5.734833</td>\n",
       "      <td>3.983333</td>\n",
       "      <td>9.550000</td>\n",
       "      <td>39.066667</td>\n",
       "      <td>0.260583</td>\n",
       "      <td>...</td>\n",
       "      <td>10.423729</td>\n",
       "      <td>13.169492</td>\n",
       "      <td>6.220339</td>\n",
       "      <td>0.0</td>\n",
       "      <td>48.932203</td>\n",
       "      <td>1.576271</td>\n",
       "      <td>0.322034</td>\n",
       "      <td>-0.028119</td>\n",
       "      <td>-0.679661</td>\n",
       "      <td>1</td>\n",
       "    </tr>\n",
       "    <tr>\n",
       "      <th>229</th>\n",
       "      <td>TOR</td>\n",
       "      <td>33.950000</td>\n",
       "      <td>5.266667</td>\n",
       "      <td>8.766667</td>\n",
       "      <td>5.016667</td>\n",
       "      <td>5.028833</td>\n",
       "      <td>3.500000</td>\n",
       "      <td>8.450000</td>\n",
       "      <td>38.083333</td>\n",
       "      <td>0.254117</td>\n",
       "      <td>...</td>\n",
       "      <td>11.550000</td>\n",
       "      <td>14.616667</td>\n",
       "      <td>7.800000</td>\n",
       "      <td>0.0</td>\n",
       "      <td>47.166667</td>\n",
       "      <td>1.966667</td>\n",
       "      <td>0.450000</td>\n",
       "      <td>0.021800</td>\n",
       "      <td>0.136667</td>\n",
       "      <td>1</td>\n",
       "    </tr>\n",
       "    <tr>\n",
       "      <th>230</th>\n",
       "      <td>SFG</td>\n",
       "      <td>33.559322</td>\n",
       "      <td>4.932203</td>\n",
       "      <td>8.762712</td>\n",
       "      <td>4.813559</td>\n",
       "      <td>5.009661</td>\n",
       "      <td>3.305085</td>\n",
       "      <td>8.559322</td>\n",
       "      <td>37.627119</td>\n",
       "      <td>0.252678</td>\n",
       "      <td>...</td>\n",
       "      <td>11.593220</td>\n",
       "      <td>13.220339</td>\n",
       "      <td>6.389831</td>\n",
       "      <td>0.0</td>\n",
       "      <td>46.474576</td>\n",
       "      <td>1.762712</td>\n",
       "      <td>0.661017</td>\n",
       "      <td>-0.109271</td>\n",
       "      <td>-1.032203</td>\n",
       "      <td>0</td>\n",
       "    </tr>\n",
       "    <tr>\n",
       "      <th>231</th>\n",
       "      <td>SDP</td>\n",
       "      <td>32.716667</td>\n",
       "      <td>5.316667</td>\n",
       "      <td>8.266667</td>\n",
       "      <td>5.116667</td>\n",
       "      <td>5.237333</td>\n",
       "      <td>3.350000</td>\n",
       "      <td>8.266667</td>\n",
       "      <td>36.966667</td>\n",
       "      <td>0.248250</td>\n",
       "      <td>...</td>\n",
       "      <td>9.900000</td>\n",
       "      <td>14.516667</td>\n",
       "      <td>6.516667</td>\n",
       "      <td>0.0</td>\n",
       "      <td>51.700000</td>\n",
       "      <td>1.465517</td>\n",
       "      <td>0.500000</td>\n",
       "      <td>0.011367</td>\n",
       "      <td>0.336667</td>\n",
       "      <td>1</td>\n",
       "    </tr>\n",
       "    <tr>\n",
       "      <th>232</th>\n",
       "      <td>ARI</td>\n",
       "      <td>33.283333</td>\n",
       "      <td>4.483333</td>\n",
       "      <td>8.033333</td>\n",
       "      <td>4.250000</td>\n",
       "      <td>4.340333</td>\n",
       "      <td>3.016667</td>\n",
       "      <td>7.683333</td>\n",
       "      <td>37.300000</td>\n",
       "      <td>0.236033</td>\n",
       "      <td>...</td>\n",
       "      <td>10.152542</td>\n",
       "      <td>15.186441</td>\n",
       "      <td>7.542373</td>\n",
       "      <td>0.0</td>\n",
       "      <td>48.050847</td>\n",
       "      <td>1.689655</td>\n",
       "      <td>0.603448</td>\n",
       "      <td>-0.026932</td>\n",
       "      <td>-0.352542</td>\n",
       "      <td>1</td>\n",
       "    </tr>\n",
       "    <tr>\n",
       "      <th>...</th>\n",
       "      <td>...</td>\n",
       "      <td>...</td>\n",
       "      <td>...</td>\n",
       "      <td>...</td>\n",
       "      <td>...</td>\n",
       "      <td>...</td>\n",
       "      <td>...</td>\n",
       "      <td>...</td>\n",
       "      <td>...</td>\n",
       "      <td>...</td>\n",
       "      <td>...</td>\n",
       "      <td>...</td>\n",
       "      <td>...</td>\n",
       "      <td>...</td>\n",
       "      <td>...</td>\n",
       "      <td>...</td>\n",
       "      <td>...</td>\n",
       "      <td>...</td>\n",
       "      <td>...</td>\n",
       "      <td>...</td>\n",
       "      <td>...</td>\n",
       "    </tr>\n",
       "    <tr>\n",
       "      <th>298</th>\n",
       "      <td>PIT</td>\n",
       "      <td>32.150000</td>\n",
       "      <td>3.716667</td>\n",
       "      <td>7.083333</td>\n",
       "      <td>3.583333</td>\n",
       "      <td>3.340167</td>\n",
       "      <td>2.783333</td>\n",
       "      <td>8.566667</td>\n",
       "      <td>35.566667</td>\n",
       "      <td>0.215300</td>\n",
       "      <td>...</td>\n",
       "      <td>11.066667</td>\n",
       "      <td>13.416667</td>\n",
       "      <td>6.916667</td>\n",
       "      <td>0.0</td>\n",
       "      <td>49.083333</td>\n",
       "      <td>1.083333</td>\n",
       "      <td>0.400000</td>\n",
       "      <td>-0.020317</td>\n",
       "      <td>-0.321667</td>\n",
       "      <td>1</td>\n",
       "    </tr>\n",
       "    <tr>\n",
       "      <th>299</th>\n",
       "      <td>NYM</td>\n",
       "      <td>33.683333</td>\n",
       "      <td>4.850000</td>\n",
       "      <td>9.116667</td>\n",
       "      <td>4.700000</td>\n",
       "      <td>4.760500</td>\n",
       "      <td>3.366667</td>\n",
       "      <td>8.350000</td>\n",
       "      <td>38.033333</td>\n",
       "      <td>0.263500</td>\n",
       "      <td>...</td>\n",
       "      <td>11.083333</td>\n",
       "      <td>14.483333</td>\n",
       "      <td>7.350000</td>\n",
       "      <td>0.0</td>\n",
       "      <td>49.650000</td>\n",
       "      <td>1.220339</td>\n",
       "      <td>0.423729</td>\n",
       "      <td>0.035733</td>\n",
       "      <td>0.156667</td>\n",
       "      <td>0</td>\n",
       "    </tr>\n",
       "    <tr>\n",
       "      <th>300</th>\n",
       "      <td>STL</td>\n",
       "      <td>30.120690</td>\n",
       "      <td>3.896552</td>\n",
       "      <td>6.879310</td>\n",
       "      <td>3.758621</td>\n",
       "      <td>4.199483</td>\n",
       "      <td>3.637931</td>\n",
       "      <td>8.396552</td>\n",
       "      <td>34.620690</td>\n",
       "      <td>0.221172</td>\n",
       "      <td>...</td>\n",
       "      <td>9.850000</td>\n",
       "      <td>13.600000</td>\n",
       "      <td>6.933333</td>\n",
       "      <td>0.0</td>\n",
       "      <td>48.916667</td>\n",
       "      <td>1.593220</td>\n",
       "      <td>0.491525</td>\n",
       "      <td>0.029217</td>\n",
       "      <td>0.210000</td>\n",
       "      <td>0</td>\n",
       "    </tr>\n",
       "    <tr>\n",
       "      <th>301</th>\n",
       "      <td>STL</td>\n",
       "      <td>30.120690</td>\n",
       "      <td>3.896552</td>\n",
       "      <td>6.879310</td>\n",
       "      <td>3.758621</td>\n",
       "      <td>4.199483</td>\n",
       "      <td>3.637931</td>\n",
       "      <td>8.396552</td>\n",
       "      <td>34.620690</td>\n",
       "      <td>0.221172</td>\n",
       "      <td>...</td>\n",
       "      <td>9.850000</td>\n",
       "      <td>13.600000</td>\n",
       "      <td>6.933333</td>\n",
       "      <td>0.0</td>\n",
       "      <td>48.916667</td>\n",
       "      <td>1.593220</td>\n",
       "      <td>0.491525</td>\n",
       "      <td>0.029217</td>\n",
       "      <td>0.210000</td>\n",
       "      <td>1</td>\n",
       "    </tr>\n",
       "    <tr>\n",
       "      <th>302</th>\n",
       "      <td>PHI</td>\n",
       "      <td>32.316667</td>\n",
       "      <td>4.916667</td>\n",
       "      <td>8.266667</td>\n",
       "      <td>4.650000</td>\n",
       "      <td>4.823000</td>\n",
       "      <td>3.666667</td>\n",
       "      <td>8.000000</td>\n",
       "      <td>36.750000</td>\n",
       "      <td>0.249000</td>\n",
       "      <td>...</td>\n",
       "      <td>11.550000</td>\n",
       "      <td>14.616667</td>\n",
       "      <td>7.800000</td>\n",
       "      <td>0.0</td>\n",
       "      <td>47.166667</td>\n",
       "      <td>1.966667</td>\n",
       "      <td>0.450000</td>\n",
       "      <td>0.021800</td>\n",
       "      <td>0.136667</td>\n",
       "      <td>0</td>\n",
       "    </tr>\n",
       "  </tbody>\n",
       "</table>\n",
       "<p>75 rows × 139 columns</p>\n",
       "</div>"
      ],
      "text/plain": [
       "    H_name  H_at_bats    H_runs    H_hits     H_rbi  H_earned_runs  \\\n",
       "228    ATL  34.566667  5.800000  9.266667  5.633333       5.734833   \n",
       "229    TOR  33.950000  5.266667  8.766667  5.016667       5.028833   \n",
       "230    SFG  33.559322  4.932203  8.762712  4.813559       5.009661   \n",
       "231    SDP  32.716667  5.316667  8.266667  5.116667       5.237333   \n",
       "232    ARI  33.283333  4.483333  8.033333  4.250000       4.340333   \n",
       "..     ...        ...       ...       ...       ...            ...   \n",
       "298    PIT  32.150000  3.716667  7.083333  3.583333       3.340167   \n",
       "299    NYM  33.683333  4.850000  9.116667  4.700000       4.760500   \n",
       "300    STL  30.120690  3.896552  6.879310  3.758621       4.199483   \n",
       "301    STL  30.120690  3.896552  6.879310  3.758621       4.199483   \n",
       "302    PHI  32.316667  4.916667  8.266667  4.650000       4.823000   \n",
       "\n",
       "     H_bases_on_balls  H_strikeouts  H_plate_appearances  H_batting_average  \\\n",
       "228          3.983333      9.550000            39.066667           0.260583   \n",
       "229          3.500000      8.450000            38.083333           0.254117   \n",
       "230          3.305085      8.559322            37.627119           0.252678   \n",
       "231          3.350000      8.266667            36.966667           0.248250   \n",
       "232          3.016667      7.683333            37.300000           0.236033   \n",
       "..                ...           ...                  ...                ...   \n",
       "298          2.783333      8.566667            35.566667           0.215300   \n",
       "299          3.366667      8.350000            38.033333           0.263500   \n",
       "300          3.637931      8.396552            34.620690           0.221172   \n",
       "301          3.637931      8.396552            34.620690           0.221172   \n",
       "302          3.666667      8.000000            36.750000           0.249000   \n",
       "\n",
       "     ...  A_Opp_grounded_balls  A_Opp_fly_balls  A_Opp_line_drives  \\\n",
       "228  ...             10.423729        13.169492           6.220339   \n",
       "229  ...             11.550000        14.616667           7.800000   \n",
       "230  ...             11.593220        13.220339           6.389831   \n",
       "231  ...              9.900000        14.516667           6.516667   \n",
       "232  ...             10.152542        15.186441           7.542373   \n",
       "..   ...                   ...              ...                ...   \n",
       "298  ...             11.066667        13.416667           6.916667   \n",
       "299  ...             11.083333        14.483333           7.350000   \n",
       "300  ...              9.850000        13.600000           6.933333   \n",
       "301  ...              9.850000        13.600000           6.933333   \n",
       "302  ...             11.550000        14.616667           7.800000   \n",
       "\n",
       "     A_Opp_unknown_bat_type  A_Opp_game_score  A_Opp_inherited_runners  \\\n",
       "228                     0.0         48.932203                 1.576271   \n",
       "229                     0.0         47.166667                 1.966667   \n",
       "230                     0.0         46.474576                 1.762712   \n",
       "231                     0.0         51.700000                 1.465517   \n",
       "232                     0.0         48.050847                 1.689655   \n",
       "..                      ...               ...                      ...   \n",
       "298                     0.0         49.083333                 1.083333   \n",
       "299                     0.0         49.650000                 1.220339   \n",
       "300                     0.0         48.916667                 1.593220   \n",
       "301                     0.0         48.916667                 1.593220   \n",
       "302                     0.0         47.166667                 1.966667   \n",
       "\n",
       "     A_Opp_inherited_score  A_Opp_win_probability_by_pitcher  \\\n",
       "228               0.322034                         -0.028119   \n",
       "229               0.450000                          0.021800   \n",
       "230               0.661017                         -0.109271   \n",
       "231               0.500000                          0.011367   \n",
       "232               0.603448                         -0.026932   \n",
       "..                     ...                               ...   \n",
       "298               0.400000                         -0.020317   \n",
       "299               0.423729                          0.035733   \n",
       "300               0.491525                          0.029217   \n",
       "301               0.491525                          0.029217   \n",
       "302               0.450000                          0.021800   \n",
       "\n",
       "     A_Opp_base_out_runs_saved  home_win  \n",
       "228                  -0.679661         1  \n",
       "229                   0.136667         1  \n",
       "230                  -1.032203         0  \n",
       "231                   0.336667         1  \n",
       "232                  -0.352542         1  \n",
       "..                         ...       ...  \n",
       "298                  -0.321667         1  \n",
       "299                   0.156667         0  \n",
       "300                   0.210000         0  \n",
       "301                   0.210000         1  \n",
       "302                   0.136667         0  \n",
       "\n",
       "[75 rows x 139 columns]"
      ]
     },
     "execution_count": 11,
     "metadata": {},
     "output_type": "execute_result"
    }
   ],
   "source": [
    "#df2.drop_duplicates(inplace=True)\n",
    "df2"
   ]
  },
  {
   "cell_type": "code",
   "execution_count": 12,
   "metadata": {
    "ExecuteTime": {
     "end_time": "2022-01-20T15:38:32.385287Z",
     "start_time": "2022-01-20T15:38:32.310781Z"
    }
   },
   "outputs": [
    {
     "data": {
      "text/html": [
       "<div>\n",
       "<style scoped>\n",
       "    .dataframe tbody tr th:only-of-type {\n",
       "        vertical-align: middle;\n",
       "    }\n",
       "\n",
       "    .dataframe tbody tr th {\n",
       "        vertical-align: top;\n",
       "    }\n",
       "\n",
       "    .dataframe thead th {\n",
       "        text-align: right;\n",
       "    }\n",
       "</style>\n",
       "<table border=\"1\" class=\"dataframe\">\n",
       "  <thead>\n",
       "    <tr style=\"text-align: right;\">\n",
       "      <th></th>\n",
       "      <th>H_name</th>\n",
       "      <th>H_at_bats</th>\n",
       "      <th>H_runs</th>\n",
       "      <th>H_hits</th>\n",
       "      <th>H_rbi</th>\n",
       "      <th>H_earned_runs</th>\n",
       "      <th>H_bases_on_balls</th>\n",
       "      <th>H_strikeouts</th>\n",
       "      <th>H_plate_appearances</th>\n",
       "      <th>H_batting_average</th>\n",
       "      <th>...</th>\n",
       "      <th>A_Opp_grounded_balls</th>\n",
       "      <th>A_Opp_fly_balls</th>\n",
       "      <th>A_Opp_line_drives</th>\n",
       "      <th>A_Opp_unknown_bat_type</th>\n",
       "      <th>A_Opp_game_score</th>\n",
       "      <th>A_Opp_inherited_runners</th>\n",
       "      <th>A_Opp_inherited_score</th>\n",
       "      <th>A_Opp_win_probability_by_pitcher</th>\n",
       "      <th>A_Opp_base_out_runs_saved</th>\n",
       "      <th>home_win</th>\n",
       "    </tr>\n",
       "  </thead>\n",
       "  <tbody>\n",
       "    <tr>\n",
       "      <th>0</th>\n",
       "      <td>NYM</td>\n",
       "      <td>33.683333</td>\n",
       "      <td>4.850000</td>\n",
       "      <td>9.116667</td>\n",
       "      <td>4.70000</td>\n",
       "      <td>4.760500</td>\n",
       "      <td>3.366667</td>\n",
       "      <td>8.350000</td>\n",
       "      <td>38.033333</td>\n",
       "      <td>0.263500</td>\n",
       "      <td>...</td>\n",
       "      <td>11.416667</td>\n",
       "      <td>13.866667</td>\n",
       "      <td>6.883333</td>\n",
       "      <td>0.0</td>\n",
       "      <td>50.000000</td>\n",
       "      <td>1.833333</td>\n",
       "      <td>0.666667</td>\n",
       "      <td>-0.042900</td>\n",
       "      <td>-1.010000</td>\n",
       "      <td>1</td>\n",
       "    </tr>\n",
       "    <tr>\n",
       "      <th>1</th>\n",
       "      <td>TBR</td>\n",
       "      <td>33.016667</td>\n",
       "      <td>4.750000</td>\n",
       "      <td>7.833333</td>\n",
       "      <td>4.50000</td>\n",
       "      <td>4.548667</td>\n",
       "      <td>4.033333</td>\n",
       "      <td>10.166667</td>\n",
       "      <td>37.716667</td>\n",
       "      <td>0.232217</td>\n",
       "      <td>...</td>\n",
       "      <td>11.266667</td>\n",
       "      <td>13.900000</td>\n",
       "      <td>6.783333</td>\n",
       "      <td>0.0</td>\n",
       "      <td>49.100000</td>\n",
       "      <td>2.000000</td>\n",
       "      <td>0.750000</td>\n",
       "      <td>-0.044417</td>\n",
       "      <td>-0.423333</td>\n",
       "      <td>0</td>\n",
       "    </tr>\n",
       "    <tr>\n",
       "      <th>2</th>\n",
       "      <td>CHW</td>\n",
       "      <td>34.116667</td>\n",
       "      <td>5.100000</td>\n",
       "      <td>8.900000</td>\n",
       "      <td>4.90000</td>\n",
       "      <td>4.962500</td>\n",
       "      <td>2.983333</td>\n",
       "      <td>9.516667</td>\n",
       "      <td>37.783333</td>\n",
       "      <td>0.253000</td>\n",
       "      <td>...</td>\n",
       "      <td>9.850000</td>\n",
       "      <td>13.600000</td>\n",
       "      <td>6.933333</td>\n",
       "      <td>0.0</td>\n",
       "      <td>48.916667</td>\n",
       "      <td>1.593220</td>\n",
       "      <td>0.491525</td>\n",
       "      <td>0.029217</td>\n",
       "      <td>0.210000</td>\n",
       "      <td>0</td>\n",
       "    </tr>\n",
       "    <tr>\n",
       "      <th>3</th>\n",
       "      <td>OAK</td>\n",
       "      <td>31.816667</td>\n",
       "      <td>4.683333</td>\n",
       "      <td>7.200000</td>\n",
       "      <td>4.50000</td>\n",
       "      <td>4.827000</td>\n",
       "      <td>4.000000</td>\n",
       "      <td>8.783333</td>\n",
       "      <td>36.733333</td>\n",
       "      <td>0.223967</td>\n",
       "      <td>...</td>\n",
       "      <td>10.150000</td>\n",
       "      <td>14.983333</td>\n",
       "      <td>7.200000</td>\n",
       "      <td>0.0</td>\n",
       "      <td>46.750000</td>\n",
       "      <td>1.610169</td>\n",
       "      <td>0.372881</td>\n",
       "      <td>0.031567</td>\n",
       "      <td>0.041667</td>\n",
       "      <td>1</td>\n",
       "    </tr>\n",
       "    <tr>\n",
       "      <th>4</th>\n",
       "      <td>LAD</td>\n",
       "      <td>33.983051</td>\n",
       "      <td>5.779661</td>\n",
       "      <td>8.661017</td>\n",
       "      <td>5.40678</td>\n",
       "      <td>5.466610</td>\n",
       "      <td>3.779661</td>\n",
       "      <td>7.881356</td>\n",
       "      <td>38.525424</td>\n",
       "      <td>0.252119</td>\n",
       "      <td>...</td>\n",
       "      <td>10.152542</td>\n",
       "      <td>15.186441</td>\n",
       "      <td>7.542373</td>\n",
       "      <td>0.0</td>\n",
       "      <td>48.050847</td>\n",
       "      <td>1.689655</td>\n",
       "      <td>0.603448</td>\n",
       "      <td>-0.026932</td>\n",
       "      <td>-0.352542</td>\n",
       "      <td>1</td>\n",
       "    </tr>\n",
       "  </tbody>\n",
       "</table>\n",
       "<p>5 rows × 139 columns</p>\n",
       "</div>"
      ],
      "text/plain": [
       "  H_name  H_at_bats    H_runs    H_hits    H_rbi  H_earned_runs  \\\n",
       "0    NYM  33.683333  4.850000  9.116667  4.70000       4.760500   \n",
       "1    TBR  33.016667  4.750000  7.833333  4.50000       4.548667   \n",
       "2    CHW  34.116667  5.100000  8.900000  4.90000       4.962500   \n",
       "3    OAK  31.816667  4.683333  7.200000  4.50000       4.827000   \n",
       "4    LAD  33.983051  5.779661  8.661017  5.40678       5.466610   \n",
       "\n",
       "   H_bases_on_balls  H_strikeouts  H_plate_appearances  H_batting_average  \\\n",
       "0          3.366667      8.350000            38.033333           0.263500   \n",
       "1          4.033333     10.166667            37.716667           0.232217   \n",
       "2          2.983333      9.516667            37.783333           0.253000   \n",
       "3          4.000000      8.783333            36.733333           0.223967   \n",
       "4          3.779661      7.881356            38.525424           0.252119   \n",
       "\n",
       "   ...  A_Opp_grounded_balls  A_Opp_fly_balls  A_Opp_line_drives  \\\n",
       "0  ...             11.416667        13.866667           6.883333   \n",
       "1  ...             11.266667        13.900000           6.783333   \n",
       "2  ...              9.850000        13.600000           6.933333   \n",
       "3  ...             10.150000        14.983333           7.200000   \n",
       "4  ...             10.152542        15.186441           7.542373   \n",
       "\n",
       "   A_Opp_unknown_bat_type  A_Opp_game_score  A_Opp_inherited_runners  \\\n",
       "0                     0.0         50.000000                 1.833333   \n",
       "1                     0.0         49.100000                 2.000000   \n",
       "2                     0.0         48.916667                 1.593220   \n",
       "3                     0.0         46.750000                 1.610169   \n",
       "4                     0.0         48.050847                 1.689655   \n",
       "\n",
       "   A_Opp_inherited_score  A_Opp_win_probability_by_pitcher  \\\n",
       "0               0.666667                         -0.042900   \n",
       "1               0.750000                         -0.044417   \n",
       "2               0.491525                          0.029217   \n",
       "3               0.372881                          0.031567   \n",
       "4               0.603448                         -0.026932   \n",
       "\n",
       "   A_Opp_base_out_runs_saved  home_win  \n",
       "0                  -1.010000         1  \n",
       "1                  -0.423333         0  \n",
       "2                   0.210000         0  \n",
       "3                   0.041667         1  \n",
       "4                  -0.352542         1  \n",
       "\n",
       "[5 rows x 139 columns]"
      ]
     },
     "execution_count": 12,
     "metadata": {},
     "output_type": "execute_result"
    }
   ],
   "source": [
    "df.head()"
   ]
  },
  {
   "cell_type": "code",
   "execution_count": 43,
   "metadata": {
    "ExecuteTime": {
     "end_time": "2022-01-19T19:44:09.508303Z",
     "start_time": "2022-01-19T19:44:09.504621Z"
    }
   },
   "outputs": [],
   "source": [
    "#for col in X_train.columns:\n",
    "    #print(col)"
   ]
  },
  {
   "cell_type": "code",
   "execution_count": 11,
   "metadata": {
    "ExecuteTime": {
     "end_time": "2022-01-20T15:14:00.040834Z",
     "start_time": "2022-01-20T15:14:00.035876Z"
    }
   },
   "outputs": [],
   "source": [
    "zero_importance_list=['H_runs','H_slugging_percentage','H_on_base_plus','H_base_out_runs_added','H_putouts',\n",
    "                     'H_Opp_on_base_percentage','A_batting_average','A_win_probability_for_offensive_player',\n",
    "                     'A_putouts']"
   ]
  },
  {
   "cell_type": "code",
   "execution_count": 67,
   "metadata": {
    "ExecuteTime": {
     "end_time": "2022-01-19T21:18:06.700448Z",
     "start_time": "2022-01-19T21:18:06.695261Z"
    }
   },
   "outputs": [],
   "source": [
    "tiny_importance_list=['H_at_bats','H_win_probability_added','H_fly_balls']"
   ]
  },
  {
   "cell_type": "code",
   "execution_count": 12,
   "metadata": {
    "ExecuteTime": {
     "end_time": "2022-01-20T15:14:02.403432Z",
     "start_time": "2022-01-20T15:14:02.370571Z"
    },
    "scrolled": true
   },
   "outputs": [
    {
     "data": {
      "text/html": [
       "<div>\n",
       "<style scoped>\n",
       "    .dataframe tbody tr th:only-of-type {\n",
       "        vertical-align: middle;\n",
       "    }\n",
       "\n",
       "    .dataframe tbody tr th {\n",
       "        vertical-align: top;\n",
       "    }\n",
       "\n",
       "    .dataframe thead th {\n",
       "        text-align: right;\n",
       "    }\n",
       "</style>\n",
       "<table border=\"1\" class=\"dataframe\">\n",
       "  <thead>\n",
       "    <tr style=\"text-align: right;\">\n",
       "      <th></th>\n",
       "      <th>H_name</th>\n",
       "      <th>H_at_bats</th>\n",
       "      <th>H_runs</th>\n",
       "      <th>H_hits</th>\n",
       "      <th>H_rbi</th>\n",
       "      <th>H_earned_runs</th>\n",
       "      <th>H_bases_on_balls</th>\n",
       "      <th>H_strikeouts</th>\n",
       "      <th>H_plate_appearances</th>\n",
       "      <th>H_batting_average</th>\n",
       "      <th>...</th>\n",
       "      <th>A_Opp_grounded_balls</th>\n",
       "      <th>A_Opp_fly_balls</th>\n",
       "      <th>A_Opp_line_drives</th>\n",
       "      <th>A_Opp_unknown_bat_type</th>\n",
       "      <th>A_Opp_game_score</th>\n",
       "      <th>A_Opp_inherited_runners</th>\n",
       "      <th>A_Opp_inherited_score</th>\n",
       "      <th>A_Opp_win_probability_by_pitcher</th>\n",
       "      <th>A_Opp_base_out_runs_saved</th>\n",
       "      <th>home_win</th>\n",
       "    </tr>\n",
       "  </thead>\n",
       "  <tbody>\n",
       "    <tr>\n",
       "      <th>1365</th>\n",
       "      <td>PHI</td>\n",
       "      <td>34.388889</td>\n",
       "      <td>4.777778</td>\n",
       "      <td>8.450617</td>\n",
       "      <td>4.580247</td>\n",
       "      <td>4.457963</td>\n",
       "      <td>3.469136</td>\n",
       "      <td>8.969136</td>\n",
       "      <td>38.648148</td>\n",
       "      <td>0.239568</td>\n",
       "      <td>...</td>\n",
       "      <td>10.870370</td>\n",
       "      <td>14.080247</td>\n",
       "      <td>6.302469</td>\n",
       "      <td>0.012346</td>\n",
       "      <td>48.283951</td>\n",
       "      <td>1.660494</td>\n",
       "      <td>0.604938</td>\n",
       "      <td>-0.046185</td>\n",
       "      <td>-0.594444</td>\n",
       "      <td>0</td>\n",
       "    </tr>\n",
       "    <tr>\n",
       "      <th>1366</th>\n",
       "      <td>BOS</td>\n",
       "      <td>35.617284</td>\n",
       "      <td>5.561728</td>\n",
       "      <td>9.592593</td>\n",
       "      <td>5.290123</td>\n",
       "      <td>5.152778</td>\n",
       "      <td>3.641975</td>\n",
       "      <td>8.530864</td>\n",
       "      <td>39.969136</td>\n",
       "      <td>0.263710</td>\n",
       "      <td>...</td>\n",
       "      <td>11.265432</td>\n",
       "      <td>13.018519</td>\n",
       "      <td>5.858025</td>\n",
       "      <td>0.000000</td>\n",
       "      <td>48.216049</td>\n",
       "      <td>1.481481</td>\n",
       "      <td>0.456790</td>\n",
       "      <td>-0.074901</td>\n",
       "      <td>-0.858642</td>\n",
       "      <td>0</td>\n",
       "    </tr>\n",
       "    <tr>\n",
       "      <th>1367</th>\n",
       "      <td>LAA</td>\n",
       "      <td>34.209877</td>\n",
       "      <td>4.746914</td>\n",
       "      <td>8.444444</td>\n",
       "      <td>4.530864</td>\n",
       "      <td>4.473765</td>\n",
       "      <td>3.617284</td>\n",
       "      <td>7.876543</td>\n",
       "      <td>38.586420</td>\n",
       "      <td>0.241494</td>\n",
       "      <td>...</td>\n",
       "      <td>12.262500</td>\n",
       "      <td>15.275000</td>\n",
       "      <td>6.950000</td>\n",
       "      <td>0.012500</td>\n",
       "      <td>50.937500</td>\n",
       "      <td>1.331250</td>\n",
       "      <td>0.368750</td>\n",
       "      <td>0.019687</td>\n",
       "      <td>0.099375</td>\n",
       "      <td>1</td>\n",
       "    </tr>\n",
       "    <tr>\n",
       "      <th>1368</th>\n",
       "      <td>STL</td>\n",
       "      <td>33.635802</td>\n",
       "      <td>4.716049</td>\n",
       "      <td>8.246914</td>\n",
       "      <td>4.407407</td>\n",
       "      <td>4.446173</td>\n",
       "      <td>3.462963</td>\n",
       "      <td>8.765432</td>\n",
       "      <td>38.067901</td>\n",
       "      <td>0.240457</td>\n",
       "      <td>...</td>\n",
       "      <td>11.611111</td>\n",
       "      <td>14.425926</td>\n",
       "      <td>6.685185</td>\n",
       "      <td>0.006173</td>\n",
       "      <td>50.320988</td>\n",
       "      <td>1.395062</td>\n",
       "      <td>0.456790</td>\n",
       "      <td>0.011432</td>\n",
       "      <td>-0.221605</td>\n",
       "      <td>1</td>\n",
       "    </tr>\n",
       "    <tr>\n",
       "      <th>1369</th>\n",
       "      <td>MIL</td>\n",
       "      <td>34.209877</td>\n",
       "      <td>4.746914</td>\n",
       "      <td>8.432099</td>\n",
       "      <td>4.592593</td>\n",
       "      <td>4.552593</td>\n",
       "      <td>3.882716</td>\n",
       "      <td>9.648148</td>\n",
       "      <td>38.944444</td>\n",
       "      <td>0.242580</td>\n",
       "      <td>...</td>\n",
       "      <td>11.574074</td>\n",
       "      <td>14.975309</td>\n",
       "      <td>6.549383</td>\n",
       "      <td>0.012346</td>\n",
       "      <td>53.783951</td>\n",
       "      <td>1.408805</td>\n",
       "      <td>0.490566</td>\n",
       "      <td>0.066025</td>\n",
       "      <td>0.515432</td>\n",
       "      <td>1</td>\n",
       "    </tr>\n",
       "  </tbody>\n",
       "</table>\n",
       "<p>5 rows × 143 columns</p>\n",
       "</div>"
      ],
      "text/plain": [
       "     H_name  H_at_bats    H_runs    H_hits     H_rbi  H_earned_runs  \\\n",
       "1365    PHI  34.388889  4.777778  8.450617  4.580247       4.457963   \n",
       "1366    BOS  35.617284  5.561728  9.592593  5.290123       5.152778   \n",
       "1367    LAA  34.209877  4.746914  8.444444  4.530864       4.473765   \n",
       "1368    STL  33.635802  4.716049  8.246914  4.407407       4.446173   \n",
       "1369    MIL  34.209877  4.746914  8.432099  4.592593       4.552593   \n",
       "\n",
       "      H_bases_on_balls  H_strikeouts  H_plate_appearances  H_batting_average  \\\n",
       "1365          3.469136      8.969136            38.648148           0.239568   \n",
       "1366          3.641975      8.530864            39.969136           0.263710   \n",
       "1367          3.617284      7.876543            38.586420           0.241494   \n",
       "1368          3.462963      8.765432            38.067901           0.240457   \n",
       "1369          3.882716      9.648148            38.944444           0.242580   \n",
       "\n",
       "      ...  A_Opp_grounded_balls  A_Opp_fly_balls  A_Opp_line_drives  \\\n",
       "1365  ...             10.870370        14.080247           6.302469   \n",
       "1366  ...             11.265432        13.018519           5.858025   \n",
       "1367  ...             12.262500        15.275000           6.950000   \n",
       "1368  ...             11.611111        14.425926           6.685185   \n",
       "1369  ...             11.574074        14.975309           6.549383   \n",
       "\n",
       "      A_Opp_unknown_bat_type  A_Opp_game_score  A_Opp_inherited_runners  \\\n",
       "1365                0.012346         48.283951                 1.660494   \n",
       "1366                0.000000         48.216049                 1.481481   \n",
       "1367                0.012500         50.937500                 1.331250   \n",
       "1368                0.006173         50.320988                 1.395062   \n",
       "1369                0.012346         53.783951                 1.408805   \n",
       "\n",
       "      A_Opp_inherited_score  A_Opp_win_probability_by_pitcher  \\\n",
       "1365               0.604938                         -0.046185   \n",
       "1366               0.456790                         -0.074901   \n",
       "1367               0.368750                          0.019687   \n",
       "1368               0.456790                          0.011432   \n",
       "1369               0.490566                          0.066025   \n",
       "\n",
       "      A_Opp_base_out_runs_saved  home_win  \n",
       "1365                  -0.594444         0  \n",
       "1366                  -0.858642         0  \n",
       "1367                   0.099375         1  \n",
       "1368                  -0.221605         1  \n",
       "1369                   0.515432         1  \n",
       "\n",
       "[5 rows x 143 columns]"
      ]
     },
     "execution_count": 12,
     "metadata": {},
     "output_type": "execute_result"
    }
   ],
   "source": [
    "df2.head()"
   ]
  },
  {
   "cell_type": "code",
   "execution_count": 13,
   "metadata": {
    "ExecuteTime": {
     "end_time": "2022-01-20T15:38:36.043480Z",
     "start_time": "2022-01-20T15:38:36.013855Z"
    }
   },
   "outputs": [],
   "source": [
    "def data_preprocessing(df, df2):\n",
    "    X_train = df.drop(['home_win','H_name','A_name'], axis=1)\n",
    "    X_test = df2.drop(['home_win','H_name','A_name'], axis=1)\n",
    "    y_train = df.home_win\n",
    "    y_test= df2.home_win\n",
    "    \n",
    "    ss = StandardScaler()\n",
    "    X_train_scaled = ss.fit_transform(X_train)\n",
    "    X_test_scaled = ss.transform(X_test)\n",
    "    \n",
    "    X_train_scaled = pd.DataFrame(X_train_scaled, columns=X_train.columns)\n",
    "    X_test_scaled = pd.DataFrame(X_test_scaled, columns=X_test.columns)\n",
    "    \n",
    "    return X_train_scaled, X_test_scaled,y_train,y_test"
   ]
  },
  {
   "cell_type": "code",
   "execution_count": 14,
   "metadata": {
    "ExecuteTime": {
     "end_time": "2022-01-20T15:38:37.850030Z",
     "start_time": "2022-01-20T15:38:37.782572Z"
    }
   },
   "outputs": [],
   "source": [
    "X_train_scaled,X_test_scaled,y_train,y_test=data_preprocessing(df,df2)"
   ]
  },
  {
   "cell_type": "code",
   "execution_count": 52,
   "metadata": {
    "ExecuteTime": {
     "end_time": "2022-01-19T19:44:14.746874Z",
     "start_time": "2022-01-19T19:44:14.741293Z"
    }
   },
   "outputs": [],
   "source": [
    "# X_test_scaled.drop(['H_Opp_inherited_score','H_Opp_game_score','H_Opp_unknown_bat_type',\n",
    "#                     'H_Opp_inherited_runners'],axis=1,inplace=True)"
   ]
  },
  {
   "cell_type": "code",
   "execution_count": 22,
   "metadata": {
    "ExecuteTime": {
     "end_time": "2022-01-19T18:49:04.656589Z",
     "start_time": "2022-01-19T18:49:04.652407Z"
    }
   },
   "outputs": [],
   "source": [
    "# X_train_scaled.drop(['H_Opp_inherited_score','H_Opp_game_score','H_Opp_unknown_bat_type',\n",
    "#                     'H_Opp_inherited_runners'],axis=1,inplace=True)"
   ]
  },
  {
   "cell_type": "code",
   "execution_count": 53,
   "metadata": {
    "ExecuteTime": {
     "end_time": "2022-01-19T19:44:17.235973Z",
     "start_time": "2022-01-19T19:44:17.224145Z"
    }
   },
   "outputs": [],
   "source": [
    "zero_imp_train=X_train_scaled.drop(zero_importance_list,axis=1)\n",
    "zero_imp_test=X_test_scaled.drop(zero_importance_list,axis=1)"
   ]
  },
  {
   "cell_type": "markdown",
   "metadata": {},
   "source": [
    "## Feature Selection"
   ]
  },
  {
   "cell_type": "code",
   "execution_count": 71,
   "metadata": {
    "ExecuteTime": {
     "end_time": "2022-01-14T15:55:59.195279Z",
     "start_time": "2022-01-14T15:55:59.189989Z"
    }
   },
   "outputs": [],
   "source": [
    "# pca=PCA(n_components=0.7)\n",
    "# train_pca=pca.fit_transform(X_train_scaled)\n",
    "# test_pca=pca.transform(X_test_scaled)"
   ]
  },
  {
   "cell_type": "code",
   "execution_count": 51,
   "metadata": {
    "ExecuteTime": {
     "end_time": "2022-01-14T15:41:50.977209Z",
     "start_time": "2022-01-14T15:41:50.796700Z"
    }
   },
   "outputs": [
    {
     "data": {
      "image/png": "[encoded data removed]",
      "text/plain": [
       "<Figure size 432x288 with 1 Axes>"
      ]
     },
     "metadata": {
      "needs_background": "light"
     },
     "output_type": "display_data"
    }
   ],
   "source": [
    "#plt.scatter(train_pca[:,0], train_pca[:,1]);"
   ]
  },
  {
   "cell_type": "code",
   "execution_count": 15,
   "metadata": {
    "ExecuteTime": {
     "end_time": "2022-01-20T15:39:11.577409Z",
     "start_time": "2022-01-20T15:38:43.090657Z"
    }
   },
   "outputs": [],
   "source": [
    "feats= feature_select(X_train_scaled,y_train,LogisticRegression,min_features=10)"
   ]
  },
  {
   "cell_type": "code",
   "execution_count": 16,
   "metadata": {
    "ExecuteTime": {
     "end_time": "2022-01-20T15:39:11.628572Z",
     "start_time": "2022-01-20T15:39:11.580768Z"
    }
   },
   "outputs": [],
   "source": [
    "X_train_best_log = X_train_scaled[feats]\n",
    "X_test_best_log = X_test_scaled[feats]"
   ]
  },
  {
   "cell_type": "markdown",
   "metadata": {},
   "source": [
    "# Logistic Regression"
   ]
  },
  {
   "cell_type": "code",
   "execution_count": 17,
   "metadata": {
    "ExecuteTime": {
     "end_time": "2022-01-20T15:39:13.768621Z",
     "start_time": "2022-01-20T15:39:11.678076Z"
    }
   },
   "outputs": [
    {
     "name": "stdout",
     "output_type": "stream",
     "text": [
      "Penalty: l1\n",
      "Solver: saga\n",
      "Mean Cross-Val Score: 0.5345355191256831\n",
      "Train Mean Accuracy: 0.5676567656765676\n",
      "Test Mean Accuracy: 0.5733333333333334\n",
      "Recall Score: 0.6666666666666666\n",
      "Precision Score: 0.6086956521739131\n",
      "F1 Score: 0.6363636363636365\n"
     ]
    },
    {
     "data": {
      "image/png": "[encoded data removed]",
      "text/plain": [
       "<Figure size 432x288 with 1 Axes>"
      ]
     },
     "metadata": {
      "needs_background": "light"
     },
     "output_type": "display_data"
    },
    {
     "data": {
      "image/png": "[encoded data removed]",
      "text/plain": [
       "<Figure size 432x288 with 2 Axes>"
      ]
     },
     "metadata": {
      "needs_background": "light"
     },
     "output_type": "display_data"
    },
    {
     "data": {
      "image/png": "[encoded data removed]",
      "text/plain": [
       "<Figure size 432x288 with 2 Axes>"
      ]
     },
     "metadata": {
      "needs_background": "light"
     },
     "output_type": "display_data"
    }
   ],
   "source": [
    "predictions, probabilities=logreg(X_train_best_log,X_test_best_log,y_train,y_test)"
   ]
  },
  {
   "cell_type": "code",
   "execution_count": 18,
   "metadata": {
    "ExecuteTime": {
     "end_time": "2022-01-20T15:39:13.841625Z",
     "start_time": "2022-01-20T15:39:13.780396Z"
    }
   },
   "outputs": [],
   "source": [
    "def new_acc(probabilities):\n",
    "    class_list2=[]\n",
    "    for log in probabilities:\n",
    "        if log[0]<.40:\n",
    "            class_list2.append(1)\n",
    "        elif log[0]>.60:\n",
    "            class_list2.append(0)\n",
    "        else:\n",
    "            class_list2.append(3)\n",
    "    y_pred_class=pd.DataFrame(class_list2)\n",
    "    y_pred_class.reset_index(inplace=True)\n",
    "    y_test_df=pd.DataFrame(y_test)\n",
    "    y_test_df.reset_index(inplace=True)\n",
    "    comb=pd.concat([y_test_df,y_pred_class],axis=1)\n",
    "    comb.drop(['index','index'],axis=1,inplace=True)\n",
    "    comb['pred']=comb[0]\n",
    "    comb.drop([0],axis=1,inplace=True)\n",
    "    comb.drop(comb[comb['pred'] == 3].index, inplace = True)\n",
    "    count=0\n",
    "    for bools in comb['home_win']==comb['pred']:\n",
    "        if bools is True:\n",
    "            count+=1\n",
    "        else:\n",
    "            pass\n",
    "    accuracy=count/len(comb)\n",
    "    \n",
    "    return accuracy,count"
   ]
  },
  {
   "cell_type": "code",
   "execution_count": 19,
   "metadata": {
    "ExecuteTime": {
     "end_time": "2022-01-20T15:39:13.952870Z",
     "start_time": "2022-01-20T15:39:13.879910Z"
    }
   },
   "outputs": [
    {
     "data": {
      "text/plain": [
       "(0.7142857142857143, 10)"
      ]
     },
     "execution_count": 19,
     "metadata": {},
     "output_type": "execute_result"
    }
   ],
   "source": [
    "new_acc(probabilities)"
   ]
  },
  {
   "cell_type": "markdown",
   "metadata": {
    "heading_collapsed": true
   },
   "source": [
    "### Home_win, zero imp\n",
    "***"
   ]
  },
  {
   "cell_type": "code",
   "execution_count": 36,
   "metadata": {
    "ExecuteTime": {
     "end_time": "2022-01-19T18:40:16.455954Z",
     "start_time": "2022-01-19T18:39:38.127233Z"
    },
    "hidden": true
   },
   "outputs": [],
   "source": [
    "feats= feature_select(zero_imp_train,y_train,LogisticRegression,min_features=10)"
   ]
  },
  {
   "cell_type": "code",
   "execution_count": 37,
   "metadata": {
    "ExecuteTime": {
     "end_time": "2022-01-19T18:40:16.509188Z",
     "start_time": "2022-01-19T18:40:16.484024Z"
    },
    "hidden": true
   },
   "outputs": [],
   "source": [
    "X_train_best_log = zero_imp_train[feats]\n",
    "X_test_best_log = zero_imp_test[feats]"
   ]
  },
  {
   "cell_type": "code",
   "execution_count": 38,
   "metadata": {
    "ExecuteTime": {
     "end_time": "2022-01-19T18:40:19.355249Z",
     "start_time": "2022-01-19T18:40:16.520419Z"
    },
    "hidden": true
   },
   "outputs": [
    {
     "name": "stdout",
     "output_type": "stream",
     "text": [
      "Penalty: l1\n",
      "Solver: saga\n",
      "Mean Cross-Val Score: 0.6002477620805227\n",
      "Train Mean Accuracy: 0.608480856319473\n",
      "Test Mean Accuracy: 0.6363636363636364\n",
      "Recall Score: 0.5454545454545454\n",
      "Precision Score: 0.6666666666666666\n",
      "F1 Score: 0.6\n"
     ]
    },
    {
     "data": {
      "image/png": "[encoded data removed]",
      "text/plain": [
       "<Figure size 432x288 with 1 Axes>"
      ]
     },
     "metadata": {
      "needs_background": "light"
     },
     "output_type": "display_data"
    },
    {
     "data": {
      "image/png": "[encoded data removed]",
      "text/plain": [
       "<Figure size 432x288 with 2 Axes>"
      ]
     },
     "metadata": {
      "needs_background": "light"
     },
     "output_type": "display_data"
    },
    {
     "data": {
      "image/png": "[encoded data removed]",
      "text/plain": [
       "<Figure size 432x288 with 2 Axes>"
      ]
     },
     "metadata": {
      "needs_background": "light"
     },
     "output_type": "display_data"
    }
   ],
   "source": [
    "predictions, probabilities=logreg(X_train_best_log,X_test_best_log,y_train,y_test)"
   ]
  },
  {
   "cell_type": "code",
   "execution_count": 39,
   "metadata": {
    "ExecuteTime": {
     "end_time": "2022-01-19T18:40:26.415200Z",
     "start_time": "2022-01-19T18:40:26.396661Z"
    },
    "hidden": true
   },
   "outputs": [
    {
     "data": {
      "text/plain": [
       "0.65"
      ]
     },
     "execution_count": 39,
     "metadata": {},
     "output_type": "execute_result"
    }
   ],
   "source": [
    "new_acc(probabilities)"
   ]
  },
  {
   "cell_type": "markdown",
   "metadata": {
    "heading_collapsed": true
   },
   "source": [
    "### Explore thresehold movement and other things"
   ]
  },
  {
   "cell_type": "code",
   "execution_count": 94,
   "metadata": {
    "ExecuteTime": {
     "end_time": "2022-01-18T19:08:14.644009Z",
     "start_time": "2022-01-18T19:08:14.382466Z"
    },
    "hidden": true
   },
   "outputs": [
    {
     "data": {
      "text/plain": [
       "LogisticRegression()"
      ]
     },
     "execution_count": 94,
     "metadata": {},
     "output_type": "execute_result"
    }
   ],
   "source": [
    "logregs=LogisticRegression()\n",
    "logregs.fit(X_train_scaled,y_train)"
   ]
  },
  {
   "cell_type": "code",
   "execution_count": 95,
   "metadata": {
    "ExecuteTime": {
     "end_time": "2022-01-18T19:08:20.730374Z",
     "start_time": "2022-01-18T19:08:20.664502Z"
    },
    "hidden": true
   },
   "outputs": [
    {
     "data": {
      "text/plain": [
       "array([ True,  True,  True,  True, False,  True, False, False, False,\n",
       "       False, False, False,  True, False,  True,  True, False, False,\n",
       "       False, False, False, False, False])"
      ]
     },
     "execution_count": 95,
     "metadata": {},
     "output_type": "execute_result"
    }
   ],
   "source": [
    "logregs.predict_proba(X_test_scaled)[:,1] >= 0.6"
   ]
  },
  {
   "cell_type": "code",
   "execution_count": 47,
   "metadata": {
    "ExecuteTime": {
     "end_time": "2022-01-18T16:56:09.187820Z",
     "start_time": "2022-01-18T16:56:09.175975Z"
    },
    "hidden": true
   },
   "outputs": [
    {
     "data": {
      "text/plain": [
       "54"
      ]
     },
     "execution_count": 47,
     "metadata": {},
     "output_type": "execute_result"
    }
   ],
   "source": [
    "decisions = (logregs.predict_proba(X_test_scaled) >= .6).astype(int)\n",
    "len(decisions)"
   ]
  },
  {
   "cell_type": "code",
   "execution_count": 97,
   "metadata": {
    "ExecuteTime": {
     "end_time": "2022-01-18T19:08:34.302186Z",
     "start_time": "2022-01-18T19:08:34.264903Z"
    },
    "hidden": true,
    "scrolled": true
   },
   "outputs": [],
   "source": [
    "today_winners = np.where(y_test!= predictions,'Away','Home')"
   ]
  },
  {
   "cell_type": "code",
   "execution_count": 101,
   "metadata": {
    "ExecuteTime": {
     "end_time": "2022-01-18T19:09:02.840747Z",
     "start_time": "2022-01-18T19:09:02.822590Z"
    },
    "hidden": true
   },
   "outputs": [
    {
     "data": {
      "text/plain": [
       "array(['Home', 'Home', 'Home', 'Home', 'Away', 'Home', 'Home', 'Away',\n",
       "       'Away', 'Away', 'Home', 'Home', 'Away', 'Home', 'Home', 'Home',\n",
       "       'Away', 'Home', 'Away', 'Away', 'Home', 'Away', 'Home'],\n",
       "      dtype='<U4')"
      ]
     },
     "execution_count": 101,
     "metadata": {},
     "output_type": "execute_result"
    }
   ],
   "source": [
    "today_winners"
   ]
  },
  {
   "cell_type": "markdown",
   "metadata": {
    "hidden": true
   },
   "source": [
    "7 out of 9 playoff series correctly predicted"
   ]
  },
  {
   "cell_type": "markdown",
   "metadata": {},
   "source": [
    "# KNN"
   ]
  },
  {
   "cell_type": "markdown",
   "metadata": {},
   "source": [
    "### Home win KNN"
   ]
  },
  {
   "cell_type": "code",
   "execution_count": 20,
   "metadata": {
    "ExecuteTime": {
     "end_time": "2022-01-20T15:39:33.542584Z",
     "start_time": "2022-01-20T15:39:29.690876Z"
    }
   },
   "outputs": [
    {
     "name": "stdout",
     "output_type": "stream",
     "text": [
      "Number of Neighbors: 9\n",
      "Metric: minkowski\n",
      "Weights: uniform\n",
      "Mean Cross-Val Score: 0.5181967213114754\n",
      "Train Mean Accuracy: 0.570957095709571\n",
      "Test Mean Accuracy: 0.5733333333333334\n",
      "Recall Score: 0.6904761904761905\n",
      "Precision Score: 0.6041666666666666\n",
      "F1 score: 0.6444444444444444\n"
     ]
    },
    {
     "data": {
      "image/png": "[encoded data removed]",
      "text/plain": [
       "<Figure size 432x288 with 1 Axes>"
      ]
     },
     "metadata": {
      "needs_background": "light"
     },
     "output_type": "display_data"
    },
    {
     "data": {
      "image/png": "[encoded data removed]",
      "text/plain": [
       "<Figure size 432x288 with 2 Axes>"
      ]
     },
     "metadata": {
      "needs_background": "light"
     },
     "output_type": "display_data"
    },
    {
     "data": {
      "image/png": "[encoded data removed]",
      "text/plain": [
       "<Figure size 432x288 with 2 Axes>"
      ]
     },
     "metadata": {
      "needs_background": "light"
     },
     "output_type": "display_data"
    }
   ],
   "source": [
    "prediction,probabilities=knn(X_train_scaled,X_test_scaled,y_train,y_test)"
   ]
  },
  {
   "cell_type": "code",
   "execution_count": 21,
   "metadata": {
    "ExecuteTime": {
     "end_time": "2022-01-20T15:39:38.341459Z",
     "start_time": "2022-01-20T15:39:38.287712Z"
    }
   },
   "outputs": [
    {
     "data": {
      "text/plain": [
       "(0.6956521739130435, 16)"
      ]
     },
     "execution_count": 21,
     "metadata": {},
     "output_type": "execute_result"
    }
   ],
   "source": [
    "new_acc(probabilities)"
   ]
  },
  {
   "cell_type": "markdown",
   "metadata": {
    "heading_collapsed": true
   },
   "source": [
    "# Decision Tree"
   ]
  },
  {
   "cell_type": "code",
   "execution_count": 24,
   "metadata": {
    "ExecuteTime": {
     "end_time": "2022-01-19T18:49:39.036052Z",
     "start_time": "2022-01-19T18:49:15.999265Z"
    },
    "hidden": true
   },
   "outputs": [],
   "source": [
    "dfeats= feature_select(X_train_scaled,y_train,DecisionTreeClassifier,min_features=10)\n",
    "X_train_best_tree = X_train_scaled[dfeats]\n",
    "X_test_best_tree = X_test_scaled[dfeats]"
   ]
  },
  {
   "cell_type": "markdown",
   "metadata": {
    "hidden": true
   },
   "source": [
    "### Dtree Home Win"
   ]
  },
  {
   "cell_type": "code",
   "execution_count": 25,
   "metadata": {
    "ExecuteTime": {
     "end_time": "2022-01-19T18:49:43.830264Z",
     "start_time": "2022-01-19T18:49:39.039286Z"
    },
    "hidden": true
   },
   "outputs": [
    {
     "name": "stdout",
     "output_type": "stream",
     "text": [
      "Max Depth: 3\n",
      "Min Sample Split: 2\n",
      "criterion: entropy\n",
      "Mean Cross-Val Score: 0.5784319714903907\n",
      "Train Mean Accuracy: 0.608480856319473\n",
      "Test Mean Accuracy: 0.5909090909090909\n",
      "Recall Score: 0.5454545454545454\n",
      "Precision Score: 0.6\n",
      "F1 score: 0.5714285714285713\n"
     ]
    },
    {
     "data": {
      "image/png": "[encoded data removed]",
      "text/plain": [
       "<Figure size 432x288 with 1 Axes>"
      ]
     },
     "metadata": {
      "needs_background": "light"
     },
     "output_type": "display_data"
    },
    {
     "data": {
      "image/png": "[encoded data removed]",
      "text/plain": [
       "<Figure size 432x288 with 2 Axes>"
      ]
     },
     "metadata": {
      "needs_background": "light"
     },
     "output_type": "display_data"
    },
    {
     "data": {
      "image/png": "[encoded data removed]",
      "text/plain": [
       "<Figure size 432x288 with 2 Axes>"
      ]
     },
     "metadata": {
      "needs_background": "light"
     },
     "output_type": "display_data"
    }
   ],
   "source": [
    "predictions,probabilities=dtree(X_train_best_tree,X_test_best_tree,y_train,y_test)"
   ]
  },
  {
   "cell_type": "code",
   "execution_count": 27,
   "metadata": {
    "ExecuteTime": {
     "end_time": "2022-01-19T18:50:05.471224Z",
     "start_time": "2022-01-19T18:50:05.451515Z"
    },
    "hidden": true
   },
   "outputs": [
    {
     "data": {
      "text/plain": [
       "0.5833333333333334"
      ]
     },
     "execution_count": 27,
     "metadata": {},
     "output_type": "execute_result"
    }
   ],
   "source": [
    "new_acc(probabilities)"
   ]
  },
  {
   "cell_type": "markdown",
   "metadata": {},
   "source": [
    "# Random Forest"
   ]
  },
  {
   "cell_type": "code",
   "execution_count": 22,
   "metadata": {
    "ExecuteTime": {
     "end_time": "2022-01-20T15:39:42.835229Z",
     "start_time": "2022-01-20T15:39:42.802553Z"
    }
   },
   "outputs": [],
   "source": [
    "def random_forest(X_train, X_test, y_train, y_test, cv=5):\n",
    "    \n",
    "    # Set GridSearchCV hyperparameters to compare & select\n",
    "    grid = {\n",
    "    'n_estimators': [75,90,100,110,115,125,150,500],\n",
    "    'criterion': ['gini', 'entropy']}\n",
    "    \n",
    "    # Instantiate & fit Random Forest model for GridSearch\n",
    "    grid_rf = RandomForestClassifier()\n",
    "    grid_rf.fit(X_train,y_train)\n",
    "    \n",
    "    # Instantiate & fit GridSearchCV with accuracy scoring\n",
    "    gs = GridSearchCV(estimator=grid_rf, param_grid=grid, cv=cv, scoring='accuracy')\n",
    "    gs.fit(X_train, y_train)\n",
    "    \n",
    "    # Return best hyperparameters\n",
    "    rf_params = gs.best_params_\n",
    "    \n",
    "    # Use best # of trees from best_params\n",
    "    rf_n_estimators = rf_params['n_estimators']\n",
    "    print(f'Number of Trees: {rf_n_estimators}')\n",
    "    \n",
    "    # Use best criterion from best_params\n",
    "    rf_criterion = rf_params['criterion']\n",
    "    print(f'criterion: {rf_criterion}')\n",
    "    \n",
    "    # Instantiate & fit Random Forest model\n",
    "    rforest = RandomForestClassifier(n_estimators=rf_n_estimators, criterion=rf_criterion,\n",
    "                                    random_state=42)\n",
    "    rforest.fit(X_train, y_train)\n",
    "    \n",
    "    # Create prediction variable using test data\n",
    "    y_pred = rforest.predict(X_test)\n",
    "    y_prob = rforest.predict_proba(X_test)\n",
    "    \n",
    "    # Run cross-validate score with cv folds from function parameter\n",
    "    cv_results = cross_val_score(rforest, X_train, y_train, cv=cv)\n",
    "    print(f'Mean Cross-Val Score: {cv_results.mean()}')\n",
    "    \n",
    "    # Run and print accuracy, recall, precision and f1 scores\n",
    "    train_score = rforest.score(X_train, y_train)\n",
    "    print(f'Train Mean Accuracy: {train_score}')\n",
    "    test_score = rforest.score(X_test, y_test)\n",
    "    print(f'Test Mean Accuracy: {test_score}')\n",
    "    \n",
    "    rec_score = recall_score(y_test, y_pred)\n",
    "    print(f'Recall Score: {rec_score}')\n",
    "    \n",
    "    prec_score = precision_score(y_test, y_pred)\n",
    "    print(f'Precision Score: {prec_score}')\n",
    "    \n",
    "    f1 = f1_score(y_test, y_pred)\n",
    "    print(f'F1 score: {f1}')\n",
    "    \n",
    "    # Plot an ROC curve (only works with binary data)\n",
    "    fig, ax = plt.subplots()\n",
    "    plot_roc_curve(rforest, X_train, y_train, name='train', ax=ax)\n",
    "    plot_roc_curve(rforest, X_test, y_test, name='test', ax=ax)\n",
    "    \n",
    "    # Plot Confusion Matrix\n",
    "    plot_confusion_matrix(rforest, X_train, y_train)\n",
    "    plot_confusion_matrix(rforest, X_test, y_test);\n",
    "    \n",
    "    return y_pred,y_prob\n"
   ]
  },
  {
   "cell_type": "code",
   "execution_count": 23,
   "metadata": {
    "ExecuteTime": {
     "end_time": "2022-01-20T15:44:03.546779Z",
     "start_time": "2022-01-20T15:39:44.429037Z"
    }
   },
   "outputs": [],
   "source": [
    "rfeats= feature_select(X_train_scaled,y_train,RandomForestClassifier,min_features=10)\n",
    "X_train_best_for = X_train_scaled[rfeats]\n",
    "X_test_best_for = X_test_scaled[rfeats]"
   ]
  },
  {
   "cell_type": "code",
   "execution_count": 24,
   "metadata": {
    "ExecuteTime": {
     "end_time": "2022-01-20T15:44:45.753971Z",
     "start_time": "2022-01-20T15:44:03.550225Z"
    }
   },
   "outputs": [
    {
     "name": "stdout",
     "output_type": "stream",
     "text": [
      "Number of Trees: 100\n",
      "criterion: entropy\n",
      "Mean Cross-Val Score: 0.45513661202185796\n",
      "Train Mean Accuracy: 0.6105610561056105\n",
      "Test Mean Accuracy: 0.64\n",
      "Recall Score: 0.6190476190476191\n",
      "Precision Score: 0.7027027027027027\n",
      "F1 score: 0.6582278481012659\n"
     ]
    },
    {
     "data": {
      "image/png": "[encoded data removed]",
      "text/plain": [
       "<Figure size 432x288 with 1 Axes>"
      ]
     },
     "metadata": {
      "needs_background": "light"
     },
     "output_type": "display_data"
    },
    {
     "data": {
      "image/png": "[encoded data removed]",
      "text/plain": [
       "<Figure size 432x288 with 2 Axes>"
      ]
     },
     "metadata": {
      "needs_background": "light"
     },
     "output_type": "display_data"
    },
    {
     "data": {
      "image/png": "[encoded data removed]",
      "text/plain": [
       "<Figure size 432x288 with 2 Axes>"
      ]
     },
     "metadata": {
      "needs_background": "light"
     },
     "output_type": "display_data"
    }
   ],
   "source": [
    "predictions,probabilities=random_forest(X_train_best_for,X_test_best_for,y_train,y_test)"
   ]
  },
  {
   "cell_type": "code",
   "execution_count": 26,
   "metadata": {
    "ExecuteTime": {
     "end_time": "2022-01-20T15:52:44.402837Z",
     "start_time": "2022-01-20T15:52:44.338824Z"
    }
   },
   "outputs": [
    {
     "data": {
      "text/plain": [
       "(1.0, 18)"
      ]
     },
     "execution_count": 26,
     "metadata": {},
     "output_type": "execute_result"
    }
   ],
   "source": [
    "new_acc(probabilities)"
   ]
  },
  {
   "cell_type": "markdown",
   "metadata": {
    "heading_collapsed": true
   },
   "source": [
    "# Bagging Classifier"
   ]
  },
  {
   "cell_type": "code",
   "execution_count": 53,
   "metadata": {
    "ExecuteTime": {
     "end_time": "2022-01-18T22:02:55.328165Z",
     "start_time": "2022-01-18T21:46:08.981088Z"
    },
    "hidden": true
   },
   "outputs": [
    {
     "name": "stdout",
     "output_type": "stream",
     "text": [
      "Dec Tree Max Depth: 2\n",
      "Dec Tree Criterion: gini\n",
      "Bagging Max Samples: 3\n",
      "Bag Max Features: 2\n",
      "# of Base Estimators: 500\n",
      "Mean Cross-Val Score: 0.5891468329727207\n",
      "Train Mean Accuracy Score: 0.5673116508851379\n",
      "Test Mean Accuracy Score: 0.5\n",
      "Recall Score: 1.0\n",
      "Precision Score: 0.5\n",
      "F1 score: 0.6666666666666666\n"
     ]
    },
    {
     "data": {
      "image/png": "[encoded data removed]",
      "text/plain": [
       "<Figure size 432x288 with 1 Axes>"
      ]
     },
     "metadata": {
      "needs_background": "light"
     },
     "output_type": "display_data"
    },
    {
     "data": {
      "image/png": "[encoded data removed]",
      "text/plain": [
       "<Figure size 432x288 with 2 Axes>"
      ]
     },
     "metadata": {
      "needs_background": "light"
     },
     "output_type": "display_data"
    },
    {
     "data": {
      "image/png": "[encoded data removed]",
      "text/plain": [
       "<Figure size 432x288 with 2 Axes>"
      ]
     },
     "metadata": {
      "needs_background": "light"
     },
     "output_type": "display_data"
    }
   ],
   "source": [
    "bagged(X_train_scaled,X_test_scaled,y_train,y_test)"
   ]
  },
  {
   "cell_type": "markdown",
   "metadata": {
    "heading_collapsed": true
   },
   "source": [
    "# XGBoost"
   ]
  },
  {
   "cell_type": "code",
   "execution_count": 56,
   "metadata": {
    "ExecuteTime": {
     "end_time": "2022-01-18T22:25:14.526375Z",
     "start_time": "2022-01-18T22:18:44.271810Z"
    },
    "hidden": true
   },
   "outputs": [],
   "source": [
    "xfeats= feature_select(zero_imp_train,y_train,XGBClassifier,min_features=10)\n",
    "X_train_best_x = zero_imp_train[xfeats]\n",
    "X_test_best_x = zero_imp_test[xfeats]"
   ]
  },
  {
   "cell_type": "code",
   "execution_count": 57,
   "metadata": {
    "ExecuteTime": {
     "end_time": "2022-01-19T14:33:49.396464Z",
     "start_time": "2022-01-18T22:25:14.530886Z"
    },
    "hidden": true
   },
   "outputs": [
    {
     "name": "stdout",
     "output_type": "stream",
     "text": [
      "XGBoost Learning Rate: 0.05\n",
      "XGBoost Max Depth: 3\n",
      "XGBoost Min Child Weight: 1\n",
      "XGBoost Subsample: 0.7\n",
      "XGBoost Estimators: 100\n",
      "Stopped in Round: 15\n",
      "Mean Cross-Val Score: 0.5409766238174027\n",
      "Train Mean Accuracy Score: 0.6990531082750103\n",
      "Test Mean Accuracy Score: 0.6363636363636364\n",
      "Recall Score: 0.6363636363636364\n",
      "Precision Score: 0.6363636363636364\n",
      "F1 score: 0.6363636363636364\n"
     ]
    },
    {
     "data": {
      "image/png": "[encoded data removed]",
      "text/plain": [
       "<Figure size 432x288 with 1 Axes>"
      ]
     },
     "metadata": {
      "needs_background": "light"
     },
     "output_type": "display_data"
    },
    {
     "data": {
      "image/png": "[encoded data removed]",
      "text/plain": [
       "<Figure size 432x288 with 2 Axes>"
      ]
     },
     "metadata": {
      "needs_background": "light"
     },
     "output_type": "display_data"
    },
    {
     "data": {
      "image/png": "[encoded data removed]",
      "text/plain": [
       "<Figure size 432x288 with 2 Axes>"
      ]
     },
     "metadata": {
      "needs_background": "light"
     },
     "output_type": "display_data"
    }
   ],
   "source": [
    "xgboost(X_train_best_x, X_test_best_x, y_train, y_test, cv=5)"
   ]
  }
 ],
 "metadata": {
  "kernelspec": {
   "display_name": "Python (learn-env)",
   "language": "python",
   "name": "learn-env"
  },
  "language_info": {
   "codemirror_mode": {
    "name": "ipython",
    "version": 3
   },
   "file_extension": ".py",
   "mimetype": "text/x-python",
   "name": "python",
   "nbconvert_exporter": "python",
   "pygments_lexer": "ipython3",
   "version": "3.8.5"
  },
  "notify_time": "30"
 },
 "nbformat": 4,
 "nbformat_minor": 4
}

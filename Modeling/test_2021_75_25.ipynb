{
 "cells": [
  {
   "cell_type": "code",
   "execution_count": 1,
   "metadata": {
    "ExecuteTime": {
     "end_time": "2022-01-20T16:31:18.410041Z",
     "start_time": "2022-01-20T16:31:12.047753Z"
    }
   },
   "outputs": [],
   "source": [
    "# Import the relevant packages\n",
    "import pandas as pd\n",
    "import numpy as np\n",
    "import matplotlib.pyplot as plt\n",
    "from sklearn.linear_model import LogisticRegression\n",
    "from sklearn.model_selection import cross_val_score, train_test_split,GridSearchCV\n",
    "from sklearn.metrics import plot_confusion_matrix, plot_roc_curve, accuracy_score, \\\n",
    "recall_score, precision_score, f1_score\n",
    "from sklearn.neighbors import KNeighborsClassifier\n",
    "from sklearn.preprocessing import StandardScaler\n",
    "from sklearn.tree import DecisionTreeClassifier, plot_tree\n",
    "from sklearn.ensemble import BaggingClassifier, RandomForestClassifier\n",
    "from sklearn.datasets import load_iris\n",
    "from sklearn.ensemble import AdaBoostClassifier, GradientBoostingClassifier\n",
    "from xgboost import XGBClassifier\n",
    "import statsmodels.api as sm\n",
    "from sklearn.feature_selection import RFECV\n",
    "from sklearn.decomposition import PCA\n",
    "import warnings\n",
    "warnings.filterwarnings(\"ignore\")"
   ]
  },
  {
   "cell_type": "code",
   "execution_count": 2,
   "metadata": {
    "ExecuteTime": {
     "end_time": "2022-01-20T16:31:18.465573Z",
     "start_time": "2022-01-20T16:31:18.413025Z"
    }
   },
   "outputs": [],
   "source": [
    "#Import functions notebook and load data set here\n",
    "import sys\n",
    "sys.path.append(\"../\")\n",
    "from Modeling_functions import *"
   ]
  },
  {
   "cell_type": "code",
   "execution_count": 3,
   "metadata": {
    "ExecuteTime": {
     "end_time": "2022-01-20T16:31:18.633738Z",
     "start_time": "2022-01-20T16:31:18.496804Z"
    }
   },
   "outputs": [],
   "source": [
    "df=pd.read_csv('../data/Season_2021.csv')"
   ]
  },
  {
   "cell_type": "code",
   "execution_count": 4,
   "metadata": {
    "ExecuteTime": {
     "end_time": "2022-01-20T16:31:18.676148Z",
     "start_time": "2022-01-20T16:31:18.653850Z"
    }
   },
   "outputs": [],
   "source": [
    "df.drop(['Unnamed: 0'],axis=1,inplace=True)"
   ]
  },
  {
   "cell_type": "code",
   "execution_count": 5,
   "metadata": {
    "ExecuteTime": {
     "end_time": "2022-01-20T16:31:18.691295Z",
     "start_time": "2022-01-20T16:31:18.686648Z"
    }
   },
   "outputs": [],
   "source": [
    "n = 75\n",
    "df=df.head(int(len(df)*(n/100)))"
   ]
  },
  {
   "cell_type": "code",
   "execution_count": 6,
   "metadata": {
    "ExecuteTime": {
     "end_time": "2022-01-20T16:31:18.707367Z",
     "start_time": "2022-01-20T16:31:18.700969Z"
    }
   },
   "outputs": [],
   "source": [
    "n = 25\n",
    "df2=df.tail(int(len(df)*(n/100)))"
   ]
  },
  {
   "cell_type": "markdown",
   "metadata": {},
   "source": [
    "Find and eliminate NaNs"
   ]
  },
  {
   "cell_type": "code",
   "execution_count": 7,
   "metadata": {
    "ExecuteTime": {
     "end_time": "2022-01-20T16:31:21.200632Z",
     "start_time": "2022-01-20T16:31:21.191935Z"
    }
   },
   "outputs": [],
   "source": [
    "df=df.drop(['H_win_probability_subtracted','A_win_probability_subtracted','A_Opp_win_probability_subtracted',\n",
    "          'H_Opp_win_probability_subtracted'],axis=1)"
   ]
  },
  {
   "cell_type": "code",
   "execution_count": 8,
   "metadata": {
    "ExecuteTime": {
     "end_time": "2022-01-20T16:31:21.963664Z",
     "start_time": "2022-01-20T16:31:21.950884Z"
    },
    "scrolled": true
   },
   "outputs": [],
   "source": [
    "df2=df2.drop(['H_win_probability_subtracted','A_win_probability_subtracted','A_Opp_win_probability_subtracted',\n",
    "          'H_Opp_win_probability_subtracted'],axis=1)"
   ]
  },
  {
   "cell_type": "code",
   "execution_count": 9,
   "metadata": {
    "ExecuteTime": {
     "end_time": "2022-01-20T16:31:22.810141Z",
     "start_time": "2022-01-20T16:31:22.784523Z"
    }
   },
   "outputs": [
    {
     "data": {
      "text/plain": [
       "1    0.525947\n",
       "0    0.474053\n",
       "Name: home_win, dtype: float64"
      ]
     },
     "execution_count": 9,
     "metadata": {},
     "output_type": "execute_result"
    }
   ],
   "source": [
    "df.home_win.value_counts(normalize=True)"
   ]
  },
  {
   "cell_type": "code",
   "execution_count": 10,
   "metadata": {
    "ExecuteTime": {
     "end_time": "2022-01-20T16:31:23.459341Z",
     "start_time": "2022-01-20T16:31:23.440396Z"
    }
   },
   "outputs": [
    {
     "data": {
      "text/plain": [
       "1    0.516854\n",
       "0    0.483146\n",
       "Name: home_win, dtype: float64"
      ]
     },
     "execution_count": 10,
     "metadata": {},
     "output_type": "execute_result"
    }
   ],
   "source": [
    "df2.home_win.value_counts(normalize=True)"
   ]
  },
  {
   "cell_type": "code",
   "execution_count": 11,
   "metadata": {
    "ExecuteTime": {
     "end_time": "2022-01-20T16:31:24.313015Z",
     "start_time": "2022-01-20T16:31:24.231705Z"
    }
   },
   "outputs": [
    {
     "data": {
      "text/html": [
       "<div>\n",
       "<style scoped>\n",
       "    .dataframe tbody tr th:only-of-type {\n",
       "        vertical-align: middle;\n",
       "    }\n",
       "\n",
       "    .dataframe tbody tr th {\n",
       "        vertical-align: top;\n",
       "    }\n",
       "\n",
       "    .dataframe thead th {\n",
       "        text-align: right;\n",
       "    }\n",
       "</style>\n",
       "<table border=\"1\" class=\"dataframe\">\n",
       "  <thead>\n",
       "    <tr style=\"text-align: right;\">\n",
       "      <th></th>\n",
       "      <th>H_name</th>\n",
       "      <th>H_at_bats</th>\n",
       "      <th>H_runs</th>\n",
       "      <th>H_hits</th>\n",
       "      <th>H_rbi</th>\n",
       "      <th>H_earned_runs</th>\n",
       "      <th>H_bases_on_balls</th>\n",
       "      <th>H_strikeouts</th>\n",
       "      <th>H_plate_appearances</th>\n",
       "      <th>H_batting_average</th>\n",
       "      <th>...</th>\n",
       "      <th>A_Opp_grounded_balls</th>\n",
       "      <th>A_Opp_fly_balls</th>\n",
       "      <th>A_Opp_line_drives</th>\n",
       "      <th>A_Opp_unknown_bat_type</th>\n",
       "      <th>A_Opp_game_score</th>\n",
       "      <th>A_Opp_inherited_runners</th>\n",
       "      <th>A_Opp_inherited_score</th>\n",
       "      <th>A_Opp_win_probability_by_pitcher</th>\n",
       "      <th>A_Opp_base_out_runs_saved</th>\n",
       "      <th>home_win</th>\n",
       "    </tr>\n",
       "  </thead>\n",
       "  <tbody>\n",
       "    <tr>\n",
       "      <th>535</th>\n",
       "      <td>TBR</td>\n",
       "      <td>33.993827</td>\n",
       "      <td>5.290123</td>\n",
       "      <td>8.240741</td>\n",
       "      <td>5.000000</td>\n",
       "      <td>4.965988</td>\n",
       "      <td>3.611111</td>\n",
       "      <td>9.518519</td>\n",
       "      <td>38.351852</td>\n",
       "      <td>0.237370</td>\n",
       "      <td>...</td>\n",
       "      <td>11.098765</td>\n",
       "      <td>13.561728</td>\n",
       "      <td>5.783951</td>\n",
       "      <td>0.0</td>\n",
       "      <td>48.055556</td>\n",
       "      <td>1.509317</td>\n",
       "      <td>0.552795</td>\n",
       "      <td>-0.035562</td>\n",
       "      <td>-0.350000</td>\n",
       "      <td>0</td>\n",
       "    </tr>\n",
       "    <tr>\n",
       "      <th>536</th>\n",
       "      <td>MIA</td>\n",
       "      <td>33.012346</td>\n",
       "      <td>3.845679</td>\n",
       "      <td>7.679012</td>\n",
       "      <td>3.666667</td>\n",
       "      <td>3.608457</td>\n",
       "      <td>2.777778</td>\n",
       "      <td>9.586420</td>\n",
       "      <td>36.598765</td>\n",
       "      <td>0.227160</td>\n",
       "      <td>...</td>\n",
       "      <td>10.456790</td>\n",
       "      <td>13.604938</td>\n",
       "      <td>5.611111</td>\n",
       "      <td>0.0</td>\n",
       "      <td>46.413580</td>\n",
       "      <td>1.304348</td>\n",
       "      <td>0.503106</td>\n",
       "      <td>-0.023549</td>\n",
       "      <td>-0.626543</td>\n",
       "      <td>0</td>\n",
       "    </tr>\n",
       "    <tr>\n",
       "      <th>537</th>\n",
       "      <td>NYY</td>\n",
       "      <td>32.907407</td>\n",
       "      <td>4.388889</td>\n",
       "      <td>7.814815</td>\n",
       "      <td>4.111111</td>\n",
       "      <td>4.253951</td>\n",
       "      <td>3.833333</td>\n",
       "      <td>9.148148</td>\n",
       "      <td>37.407407</td>\n",
       "      <td>0.232630</td>\n",
       "      <td>...</td>\n",
       "      <td>10.993827</td>\n",
       "      <td>14.493827</td>\n",
       "      <td>6.333333</td>\n",
       "      <td>0.0</td>\n",
       "      <td>51.037037</td>\n",
       "      <td>1.186335</td>\n",
       "      <td>0.335404</td>\n",
       "      <td>0.024944</td>\n",
       "      <td>0.452469</td>\n",
       "      <td>0</td>\n",
       "    </tr>\n",
       "    <tr>\n",
       "      <th>538</th>\n",
       "      <td>MIN</td>\n",
       "      <td>33.524691</td>\n",
       "      <td>4.500000</td>\n",
       "      <td>8.092593</td>\n",
       "      <td>4.259259</td>\n",
       "      <td>4.234630</td>\n",
       "      <td>3.240741</td>\n",
       "      <td>8.672840</td>\n",
       "      <td>37.518519</td>\n",
       "      <td>0.234944</td>\n",
       "      <td>...</td>\n",
       "      <td>11.240741</td>\n",
       "      <td>13.401235</td>\n",
       "      <td>5.697531</td>\n",
       "      <td>0.0</td>\n",
       "      <td>50.462963</td>\n",
       "      <td>1.333333</td>\n",
       "      <td>0.469136</td>\n",
       "      <td>0.031963</td>\n",
       "      <td>0.017284</td>\n",
       "      <td>0</td>\n",
       "    </tr>\n",
       "    <tr>\n",
       "      <th>539</th>\n",
       "      <td>ARI</td>\n",
       "      <td>33.882716</td>\n",
       "      <td>4.191358</td>\n",
       "      <td>8.006173</td>\n",
       "      <td>3.975309</td>\n",
       "      <td>3.951728</td>\n",
       "      <td>3.314815</td>\n",
       "      <td>9.043210</td>\n",
       "      <td>37.925926</td>\n",
       "      <td>0.231537</td>\n",
       "      <td>...</td>\n",
       "      <td>10.648148</td>\n",
       "      <td>12.537037</td>\n",
       "      <td>5.382716</td>\n",
       "      <td>0.0</td>\n",
       "      <td>51.851852</td>\n",
       "      <td>1.350000</td>\n",
       "      <td>0.606250</td>\n",
       "      <td>0.016006</td>\n",
       "      <td>0.082099</td>\n",
       "      <td>0</td>\n",
       "    </tr>\n",
       "    <tr>\n",
       "      <th>...</th>\n",
       "      <td>...</td>\n",
       "      <td>...</td>\n",
       "      <td>...</td>\n",
       "      <td>...</td>\n",
       "      <td>...</td>\n",
       "      <td>...</td>\n",
       "      <td>...</td>\n",
       "      <td>...</td>\n",
       "      <td>...</td>\n",
       "      <td>...</td>\n",
       "      <td>...</td>\n",
       "      <td>...</td>\n",
       "      <td>...</td>\n",
       "      <td>...</td>\n",
       "      <td>...</td>\n",
       "      <td>...</td>\n",
       "      <td>...</td>\n",
       "      <td>...</td>\n",
       "      <td>...</td>\n",
       "      <td>...</td>\n",
       "      <td>...</td>\n",
       "    </tr>\n",
       "    <tr>\n",
       "      <th>708</th>\n",
       "      <td>ARI</td>\n",
       "      <td>33.882716</td>\n",
       "      <td>4.191358</td>\n",
       "      <td>8.006173</td>\n",
       "      <td>3.975309</td>\n",
       "      <td>3.951728</td>\n",
       "      <td>3.314815</td>\n",
       "      <td>9.043210</td>\n",
       "      <td>37.925926</td>\n",
       "      <td>0.231537</td>\n",
       "      <td>...</td>\n",
       "      <td>10.709877</td>\n",
       "      <td>12.722222</td>\n",
       "      <td>5.067901</td>\n",
       "      <td>0.0</td>\n",
       "      <td>49.024691</td>\n",
       "      <td>1.527950</td>\n",
       "      <td>0.496894</td>\n",
       "      <td>-0.023469</td>\n",
       "      <td>-0.540123</td>\n",
       "      <td>1</td>\n",
       "    </tr>\n",
       "    <tr>\n",
       "      <th>709</th>\n",
       "      <td>STL</td>\n",
       "      <td>33.030864</td>\n",
       "      <td>4.358025</td>\n",
       "      <td>8.043210</td>\n",
       "      <td>4.185185</td>\n",
       "      <td>4.182840</td>\n",
       "      <td>2.950617</td>\n",
       "      <td>8.277778</td>\n",
       "      <td>37.043210</td>\n",
       "      <td>0.238660</td>\n",
       "      <td>...</td>\n",
       "      <td>10.925926</td>\n",
       "      <td>15.086420</td>\n",
       "      <td>6.129630</td>\n",
       "      <td>0.0</td>\n",
       "      <td>50.537037</td>\n",
       "      <td>1.316770</td>\n",
       "      <td>0.472050</td>\n",
       "      <td>0.031321</td>\n",
       "      <td>0.151235</td>\n",
       "      <td>1</td>\n",
       "    </tr>\n",
       "    <tr>\n",
       "      <th>710</th>\n",
       "      <td>DET</td>\n",
       "      <td>33.185185</td>\n",
       "      <td>4.302469</td>\n",
       "      <td>8.018519</td>\n",
       "      <td>4.166667</td>\n",
       "      <td>4.138210</td>\n",
       "      <td>3.024691</td>\n",
       "      <td>9.345679</td>\n",
       "      <td>36.907407</td>\n",
       "      <td>0.236500</td>\n",
       "      <td>...</td>\n",
       "      <td>10.987654</td>\n",
       "      <td>16.092593</td>\n",
       "      <td>6.641975</td>\n",
       "      <td>0.0</td>\n",
       "      <td>52.654321</td>\n",
       "      <td>1.298137</td>\n",
       "      <td>0.341615</td>\n",
       "      <td>0.079883</td>\n",
       "      <td>0.638889</td>\n",
       "      <td>0</td>\n",
       "    </tr>\n",
       "    <tr>\n",
       "      <th>711</th>\n",
       "      <td>NYM</td>\n",
       "      <td>32.160494</td>\n",
       "      <td>3.925926</td>\n",
       "      <td>7.666667</td>\n",
       "      <td>3.728395</td>\n",
       "      <td>3.801975</td>\n",
       "      <td>3.055556</td>\n",
       "      <td>8.592593</td>\n",
       "      <td>36.148148</td>\n",
       "      <td>0.232673</td>\n",
       "      <td>...</td>\n",
       "      <td>11.240741</td>\n",
       "      <td>13.401235</td>\n",
       "      <td>5.697531</td>\n",
       "      <td>0.0</td>\n",
       "      <td>50.462963</td>\n",
       "      <td>1.333333</td>\n",
       "      <td>0.469136</td>\n",
       "      <td>0.031963</td>\n",
       "      <td>0.017284</td>\n",
       "      <td>1</td>\n",
       "    </tr>\n",
       "    <tr>\n",
       "      <th>712</th>\n",
       "      <td>ATL</td>\n",
       "      <td>33.310559</td>\n",
       "      <td>4.906832</td>\n",
       "      <td>8.118012</td>\n",
       "      <td>4.732919</td>\n",
       "      <td>4.791739</td>\n",
       "      <td>3.409938</td>\n",
       "      <td>9.024845</td>\n",
       "      <td>37.614907</td>\n",
       "      <td>0.237168</td>\n",
       "      <td>...</td>\n",
       "      <td>10.648148</td>\n",
       "      <td>12.537037</td>\n",
       "      <td>5.382716</td>\n",
       "      <td>0.0</td>\n",
       "      <td>51.851852</td>\n",
       "      <td>1.350000</td>\n",
       "      <td>0.606250</td>\n",
       "      <td>0.016006</td>\n",
       "      <td>0.082099</td>\n",
       "      <td>1</td>\n",
       "    </tr>\n",
       "  </tbody>\n",
       "</table>\n",
       "<p>178 rows × 139 columns</p>\n",
       "</div>"
      ],
      "text/plain": [
       "    H_name  H_at_bats    H_runs    H_hits     H_rbi  H_earned_runs  \\\n",
       "535    TBR  33.993827  5.290123  8.240741  5.000000       4.965988   \n",
       "536    MIA  33.012346  3.845679  7.679012  3.666667       3.608457   \n",
       "537    NYY  32.907407  4.388889  7.814815  4.111111       4.253951   \n",
       "538    MIN  33.524691  4.500000  8.092593  4.259259       4.234630   \n",
       "539    ARI  33.882716  4.191358  8.006173  3.975309       3.951728   \n",
       "..     ...        ...       ...       ...       ...            ...   \n",
       "708    ARI  33.882716  4.191358  8.006173  3.975309       3.951728   \n",
       "709    STL  33.030864  4.358025  8.043210  4.185185       4.182840   \n",
       "710    DET  33.185185  4.302469  8.018519  4.166667       4.138210   \n",
       "711    NYM  32.160494  3.925926  7.666667  3.728395       3.801975   \n",
       "712    ATL  33.310559  4.906832  8.118012  4.732919       4.791739   \n",
       "\n",
       "     H_bases_on_balls  H_strikeouts  H_plate_appearances  H_batting_average  \\\n",
       "535          3.611111      9.518519            38.351852           0.237370   \n",
       "536          2.777778      9.586420            36.598765           0.227160   \n",
       "537          3.833333      9.148148            37.407407           0.232630   \n",
       "538          3.240741      8.672840            37.518519           0.234944   \n",
       "539          3.314815      9.043210            37.925926           0.231537   \n",
       "..                ...           ...                  ...                ...   \n",
       "708          3.314815      9.043210            37.925926           0.231537   \n",
       "709          2.950617      8.277778            37.043210           0.238660   \n",
       "710          3.024691      9.345679            36.907407           0.236500   \n",
       "711          3.055556      8.592593            36.148148           0.232673   \n",
       "712          3.409938      9.024845            37.614907           0.237168   \n",
       "\n",
       "     ...  A_Opp_grounded_balls  A_Opp_fly_balls  A_Opp_line_drives  \\\n",
       "535  ...             11.098765        13.561728           5.783951   \n",
       "536  ...             10.456790        13.604938           5.611111   \n",
       "537  ...             10.993827        14.493827           6.333333   \n",
       "538  ...             11.240741        13.401235           5.697531   \n",
       "539  ...             10.648148        12.537037           5.382716   \n",
       "..   ...                   ...              ...                ...   \n",
       "708  ...             10.709877        12.722222           5.067901   \n",
       "709  ...             10.925926        15.086420           6.129630   \n",
       "710  ...             10.987654        16.092593           6.641975   \n",
       "711  ...             11.240741        13.401235           5.697531   \n",
       "712  ...             10.648148        12.537037           5.382716   \n",
       "\n",
       "     A_Opp_unknown_bat_type  A_Opp_game_score  A_Opp_inherited_runners  \\\n",
       "535                     0.0         48.055556                 1.509317   \n",
       "536                     0.0         46.413580                 1.304348   \n",
       "537                     0.0         51.037037                 1.186335   \n",
       "538                     0.0         50.462963                 1.333333   \n",
       "539                     0.0         51.851852                 1.350000   \n",
       "..                      ...               ...                      ...   \n",
       "708                     0.0         49.024691                 1.527950   \n",
       "709                     0.0         50.537037                 1.316770   \n",
       "710                     0.0         52.654321                 1.298137   \n",
       "711                     0.0         50.462963                 1.333333   \n",
       "712                     0.0         51.851852                 1.350000   \n",
       "\n",
       "     A_Opp_inherited_score  A_Opp_win_probability_by_pitcher  \\\n",
       "535               0.552795                         -0.035562   \n",
       "536               0.503106                         -0.023549   \n",
       "537               0.335404                          0.024944   \n",
       "538               0.469136                          0.031963   \n",
       "539               0.606250                          0.016006   \n",
       "..                     ...                               ...   \n",
       "708               0.496894                         -0.023469   \n",
       "709               0.472050                          0.031321   \n",
       "710               0.341615                          0.079883   \n",
       "711               0.469136                          0.031963   \n",
       "712               0.606250                          0.016006   \n",
       "\n",
       "     A_Opp_base_out_runs_saved  home_win  \n",
       "535                  -0.350000         0  \n",
       "536                  -0.626543         0  \n",
       "537                   0.452469         0  \n",
       "538                   0.017284         0  \n",
       "539                   0.082099         0  \n",
       "..                         ...       ...  \n",
       "708                  -0.540123         1  \n",
       "709                   0.151235         1  \n",
       "710                   0.638889         0  \n",
       "711                   0.017284         1  \n",
       "712                   0.082099         1  \n",
       "\n",
       "[178 rows x 139 columns]"
      ]
     },
     "execution_count": 11,
     "metadata": {},
     "output_type": "execute_result"
    }
   ],
   "source": [
    "#df2.drop_duplicates(inplace=True)\n",
    "df2"
   ]
  },
  {
   "cell_type": "code",
   "execution_count": 12,
   "metadata": {
    "ExecuteTime": {
     "end_time": "2022-01-20T16:31:26.548296Z",
     "start_time": "2022-01-20T16:31:26.471555Z"
    }
   },
   "outputs": [
    {
     "data": {
      "text/html": [
       "<div>\n",
       "<style scoped>\n",
       "    .dataframe tbody tr th:only-of-type {\n",
       "        vertical-align: middle;\n",
       "    }\n",
       "\n",
       "    .dataframe tbody tr th {\n",
       "        vertical-align: top;\n",
       "    }\n",
       "\n",
       "    .dataframe thead th {\n",
       "        text-align: right;\n",
       "    }\n",
       "</style>\n",
       "<table border=\"1\" class=\"dataframe\">\n",
       "  <thead>\n",
       "    <tr style=\"text-align: right;\">\n",
       "      <th></th>\n",
       "      <th>H_name</th>\n",
       "      <th>H_at_bats</th>\n",
       "      <th>H_runs</th>\n",
       "      <th>H_hits</th>\n",
       "      <th>H_rbi</th>\n",
       "      <th>H_earned_runs</th>\n",
       "      <th>H_bases_on_balls</th>\n",
       "      <th>H_strikeouts</th>\n",
       "      <th>H_plate_appearances</th>\n",
       "      <th>H_batting_average</th>\n",
       "      <th>...</th>\n",
       "      <th>A_Opp_grounded_balls</th>\n",
       "      <th>A_Opp_fly_balls</th>\n",
       "      <th>A_Opp_line_drives</th>\n",
       "      <th>A_Opp_unknown_bat_type</th>\n",
       "      <th>A_Opp_game_score</th>\n",
       "      <th>A_Opp_inherited_runners</th>\n",
       "      <th>A_Opp_inherited_score</th>\n",
       "      <th>A_Opp_win_probability_by_pitcher</th>\n",
       "      <th>A_Opp_base_out_runs_saved</th>\n",
       "      <th>home_win</th>\n",
       "    </tr>\n",
       "  </thead>\n",
       "  <tbody>\n",
       "    <tr>\n",
       "      <th>0</th>\n",
       "      <td>DET</td>\n",
       "      <td>33.185185</td>\n",
       "      <td>4.302469</td>\n",
       "      <td>8.018519</td>\n",
       "      <td>4.166667</td>\n",
       "      <td>4.138210</td>\n",
       "      <td>3.024691</td>\n",
       "      <td>9.345679</td>\n",
       "      <td>36.907407</td>\n",
       "      <td>0.236500</td>\n",
       "      <td>...</td>\n",
       "      <td>10.685185</td>\n",
       "      <td>13.962963</td>\n",
       "      <td>5.969136</td>\n",
       "      <td>0.0</td>\n",
       "      <td>51.117284</td>\n",
       "      <td>1.238994</td>\n",
       "      <td>0.408805</td>\n",
       "      <td>0.030623</td>\n",
       "      <td>0.200617</td>\n",
       "      <td>1</td>\n",
       "    </tr>\n",
       "    <tr>\n",
       "      <th>1</th>\n",
       "      <td>MIA</td>\n",
       "      <td>33.012346</td>\n",
       "      <td>3.845679</td>\n",
       "      <td>7.679012</td>\n",
       "      <td>3.666667</td>\n",
       "      <td>3.608457</td>\n",
       "      <td>2.777778</td>\n",
       "      <td>9.586420</td>\n",
       "      <td>36.598765</td>\n",
       "      <td>0.227160</td>\n",
       "      <td>...</td>\n",
       "      <td>10.561728</td>\n",
       "      <td>14.308642</td>\n",
       "      <td>5.956790</td>\n",
       "      <td>0.0</td>\n",
       "      <td>51.925926</td>\n",
       "      <td>1.604938</td>\n",
       "      <td>0.648148</td>\n",
       "      <td>-0.048728</td>\n",
       "      <td>-0.748765</td>\n",
       "      <td>0</td>\n",
       "    </tr>\n",
       "    <tr>\n",
       "      <th>2</th>\n",
       "      <td>CIN</td>\n",
       "      <td>33.475309</td>\n",
       "      <td>4.851852</td>\n",
       "      <td>8.345679</td>\n",
       "      <td>4.666667</td>\n",
       "      <td>4.652346</td>\n",
       "      <td>3.413580</td>\n",
       "      <td>8.796296</td>\n",
       "      <td>38.037037</td>\n",
       "      <td>0.244253</td>\n",
       "      <td>...</td>\n",
       "      <td>11.500000</td>\n",
       "      <td>13.981481</td>\n",
       "      <td>6.098765</td>\n",
       "      <td>0.0</td>\n",
       "      <td>51.407407</td>\n",
       "      <td>1.106918</td>\n",
       "      <td>0.358491</td>\n",
       "      <td>-0.005957</td>\n",
       "      <td>-0.004321</td>\n",
       "      <td>0</td>\n",
       "    </tr>\n",
       "    <tr>\n",
       "      <th>3</th>\n",
       "      <td>CHC</td>\n",
       "      <td>32.753086</td>\n",
       "      <td>4.351852</td>\n",
       "      <td>7.746914</td>\n",
       "      <td>4.148148</td>\n",
       "      <td>4.157099</td>\n",
       "      <td>3.098765</td>\n",
       "      <td>9.851852</td>\n",
       "      <td>36.864198</td>\n",
       "      <td>0.231142</td>\n",
       "      <td>...</td>\n",
       "      <td>10.759259</td>\n",
       "      <td>14.820988</td>\n",
       "      <td>6.253086</td>\n",
       "      <td>0.0</td>\n",
       "      <td>52.981481</td>\n",
       "      <td>1.440252</td>\n",
       "      <td>0.465409</td>\n",
       "      <td>0.061136</td>\n",
       "      <td>0.719753</td>\n",
       "      <td>0</td>\n",
       "    </tr>\n",
       "    <tr>\n",
       "      <th>4</th>\n",
       "      <td>NYY</td>\n",
       "      <td>32.907407</td>\n",
       "      <td>4.388889</td>\n",
       "      <td>7.814815</td>\n",
       "      <td>4.111111</td>\n",
       "      <td>4.253951</td>\n",
       "      <td>3.833333</td>\n",
       "      <td>9.148148</td>\n",
       "      <td>37.407407</td>\n",
       "      <td>0.232630</td>\n",
       "      <td>...</td>\n",
       "      <td>10.456790</td>\n",
       "      <td>13.604938</td>\n",
       "      <td>5.611111</td>\n",
       "      <td>0.0</td>\n",
       "      <td>46.413580</td>\n",
       "      <td>1.304348</td>\n",
       "      <td>0.503106</td>\n",
       "      <td>-0.023549</td>\n",
       "      <td>-0.626543</td>\n",
       "      <td>0</td>\n",
       "    </tr>\n",
       "  </tbody>\n",
       "</table>\n",
       "<p>5 rows × 139 columns</p>\n",
       "</div>"
      ],
      "text/plain": [
       "  H_name  H_at_bats    H_runs    H_hits     H_rbi  H_earned_runs  \\\n",
       "0    DET  33.185185  4.302469  8.018519  4.166667       4.138210   \n",
       "1    MIA  33.012346  3.845679  7.679012  3.666667       3.608457   \n",
       "2    CIN  33.475309  4.851852  8.345679  4.666667       4.652346   \n",
       "3    CHC  32.753086  4.351852  7.746914  4.148148       4.157099   \n",
       "4    NYY  32.907407  4.388889  7.814815  4.111111       4.253951   \n",
       "\n",
       "   H_bases_on_balls  H_strikeouts  H_plate_appearances  H_batting_average  \\\n",
       "0          3.024691      9.345679            36.907407           0.236500   \n",
       "1          2.777778      9.586420            36.598765           0.227160   \n",
       "2          3.413580      8.796296            38.037037           0.244253   \n",
       "3          3.098765      9.851852            36.864198           0.231142   \n",
       "4          3.833333      9.148148            37.407407           0.232630   \n",
       "\n",
       "   ...  A_Opp_grounded_balls  A_Opp_fly_balls  A_Opp_line_drives  \\\n",
       "0  ...             10.685185        13.962963           5.969136   \n",
       "1  ...             10.561728        14.308642           5.956790   \n",
       "2  ...             11.500000        13.981481           6.098765   \n",
       "3  ...             10.759259        14.820988           6.253086   \n",
       "4  ...             10.456790        13.604938           5.611111   \n",
       "\n",
       "   A_Opp_unknown_bat_type  A_Opp_game_score  A_Opp_inherited_runners  \\\n",
       "0                     0.0         51.117284                 1.238994   \n",
       "1                     0.0         51.925926                 1.604938   \n",
       "2                     0.0         51.407407                 1.106918   \n",
       "3                     0.0         52.981481                 1.440252   \n",
       "4                     0.0         46.413580                 1.304348   \n",
       "\n",
       "   A_Opp_inherited_score  A_Opp_win_probability_by_pitcher  \\\n",
       "0               0.408805                          0.030623   \n",
       "1               0.648148                         -0.048728   \n",
       "2               0.358491                         -0.005957   \n",
       "3               0.465409                          0.061136   \n",
       "4               0.503106                         -0.023549   \n",
       "\n",
       "   A_Opp_base_out_runs_saved  home_win  \n",
       "0                   0.200617         1  \n",
       "1                  -0.748765         0  \n",
       "2                  -0.004321         0  \n",
       "3                   0.719753         0  \n",
       "4                  -0.626543         0  \n",
       "\n",
       "[5 rows x 139 columns]"
      ]
     },
     "execution_count": 12,
     "metadata": {},
     "output_type": "execute_result"
    }
   ],
   "source": [
    "df.head()"
   ]
  },
  {
   "cell_type": "code",
   "execution_count": 43,
   "metadata": {
    "ExecuteTime": {
     "end_time": "2022-01-19T19:44:09.508303Z",
     "start_time": "2022-01-19T19:44:09.504621Z"
    }
   },
   "outputs": [],
   "source": [
    "#for col in X_train.columns:\n",
    "    #print(col)"
   ]
  },
  {
   "cell_type": "code",
   "execution_count": 11,
   "metadata": {
    "ExecuteTime": {
     "end_time": "2022-01-20T15:14:00.040834Z",
     "start_time": "2022-01-20T15:14:00.035876Z"
    }
   },
   "outputs": [],
   "source": [
    "zero_importance_list=['H_runs','H_slugging_percentage','H_on_base_plus','H_base_out_runs_added','H_putouts',\n",
    "                     'H_Opp_on_base_percentage','A_batting_average','A_win_probability_for_offensive_player',\n",
    "                     'A_putouts']"
   ]
  },
  {
   "cell_type": "code",
   "execution_count": 67,
   "metadata": {
    "ExecuteTime": {
     "end_time": "2022-01-19T21:18:06.700448Z",
     "start_time": "2022-01-19T21:18:06.695261Z"
    }
   },
   "outputs": [],
   "source": [
    "tiny_importance_list=['H_at_bats','H_win_probability_added','H_fly_balls']"
   ]
  },
  {
   "cell_type": "code",
   "execution_count": 12,
   "metadata": {
    "ExecuteTime": {
     "end_time": "2022-01-20T15:14:02.403432Z",
     "start_time": "2022-01-20T15:14:02.370571Z"
    },
    "scrolled": true
   },
   "outputs": [
    {
     "data": {
      "text/html": [
       "<div>\n",
       "<style scoped>\n",
       "    .dataframe tbody tr th:only-of-type {\n",
       "        vertical-align: middle;\n",
       "    }\n",
       "\n",
       "    .dataframe tbody tr th {\n",
       "        vertical-align: top;\n",
       "    }\n",
       "\n",
       "    .dataframe thead th {\n",
       "        text-align: right;\n",
       "    }\n",
       "</style>\n",
       "<table border=\"1\" class=\"dataframe\">\n",
       "  <thead>\n",
       "    <tr style=\"text-align: right;\">\n",
       "      <th></th>\n",
       "      <th>H_name</th>\n",
       "      <th>H_at_bats</th>\n",
       "      <th>H_runs</th>\n",
       "      <th>H_hits</th>\n",
       "      <th>H_rbi</th>\n",
       "      <th>H_earned_runs</th>\n",
       "      <th>H_bases_on_balls</th>\n",
       "      <th>H_strikeouts</th>\n",
       "      <th>H_plate_appearances</th>\n",
       "      <th>H_batting_average</th>\n",
       "      <th>...</th>\n",
       "      <th>A_Opp_grounded_balls</th>\n",
       "      <th>A_Opp_fly_balls</th>\n",
       "      <th>A_Opp_line_drives</th>\n",
       "      <th>A_Opp_unknown_bat_type</th>\n",
       "      <th>A_Opp_game_score</th>\n",
       "      <th>A_Opp_inherited_runners</th>\n",
       "      <th>A_Opp_inherited_score</th>\n",
       "      <th>A_Opp_win_probability_by_pitcher</th>\n",
       "      <th>A_Opp_base_out_runs_saved</th>\n",
       "      <th>home_win</th>\n",
       "    </tr>\n",
       "  </thead>\n",
       "  <tbody>\n",
       "    <tr>\n",
       "      <th>1365</th>\n",
       "      <td>PHI</td>\n",
       "      <td>34.388889</td>\n",
       "      <td>4.777778</td>\n",
       "      <td>8.450617</td>\n",
       "      <td>4.580247</td>\n",
       "      <td>4.457963</td>\n",
       "      <td>3.469136</td>\n",
       "      <td>8.969136</td>\n",
       "      <td>38.648148</td>\n",
       "      <td>0.239568</td>\n",
       "      <td>...</td>\n",
       "      <td>10.870370</td>\n",
       "      <td>14.080247</td>\n",
       "      <td>6.302469</td>\n",
       "      <td>0.012346</td>\n",
       "      <td>48.283951</td>\n",
       "      <td>1.660494</td>\n",
       "      <td>0.604938</td>\n",
       "      <td>-0.046185</td>\n",
       "      <td>-0.594444</td>\n",
       "      <td>0</td>\n",
       "    </tr>\n",
       "    <tr>\n",
       "      <th>1366</th>\n",
       "      <td>BOS</td>\n",
       "      <td>35.617284</td>\n",
       "      <td>5.561728</td>\n",
       "      <td>9.592593</td>\n",
       "      <td>5.290123</td>\n",
       "      <td>5.152778</td>\n",
       "      <td>3.641975</td>\n",
       "      <td>8.530864</td>\n",
       "      <td>39.969136</td>\n",
       "      <td>0.263710</td>\n",
       "      <td>...</td>\n",
       "      <td>11.265432</td>\n",
       "      <td>13.018519</td>\n",
       "      <td>5.858025</td>\n",
       "      <td>0.000000</td>\n",
       "      <td>48.216049</td>\n",
       "      <td>1.481481</td>\n",
       "      <td>0.456790</td>\n",
       "      <td>-0.074901</td>\n",
       "      <td>-0.858642</td>\n",
       "      <td>0</td>\n",
       "    </tr>\n",
       "    <tr>\n",
       "      <th>1367</th>\n",
       "      <td>LAA</td>\n",
       "      <td>34.209877</td>\n",
       "      <td>4.746914</td>\n",
       "      <td>8.444444</td>\n",
       "      <td>4.530864</td>\n",
       "      <td>4.473765</td>\n",
       "      <td>3.617284</td>\n",
       "      <td>7.876543</td>\n",
       "      <td>38.586420</td>\n",
       "      <td>0.241494</td>\n",
       "      <td>...</td>\n",
       "      <td>12.262500</td>\n",
       "      <td>15.275000</td>\n",
       "      <td>6.950000</td>\n",
       "      <td>0.012500</td>\n",
       "      <td>50.937500</td>\n",
       "      <td>1.331250</td>\n",
       "      <td>0.368750</td>\n",
       "      <td>0.019687</td>\n",
       "      <td>0.099375</td>\n",
       "      <td>1</td>\n",
       "    </tr>\n",
       "    <tr>\n",
       "      <th>1368</th>\n",
       "      <td>STL</td>\n",
       "      <td>33.635802</td>\n",
       "      <td>4.716049</td>\n",
       "      <td>8.246914</td>\n",
       "      <td>4.407407</td>\n",
       "      <td>4.446173</td>\n",
       "      <td>3.462963</td>\n",
       "      <td>8.765432</td>\n",
       "      <td>38.067901</td>\n",
       "      <td>0.240457</td>\n",
       "      <td>...</td>\n",
       "      <td>11.611111</td>\n",
       "      <td>14.425926</td>\n",
       "      <td>6.685185</td>\n",
       "      <td>0.006173</td>\n",
       "      <td>50.320988</td>\n",
       "      <td>1.395062</td>\n",
       "      <td>0.456790</td>\n",
       "      <td>0.011432</td>\n",
       "      <td>-0.221605</td>\n",
       "      <td>1</td>\n",
       "    </tr>\n",
       "    <tr>\n",
       "      <th>1369</th>\n",
       "      <td>MIL</td>\n",
       "      <td>34.209877</td>\n",
       "      <td>4.746914</td>\n",
       "      <td>8.432099</td>\n",
       "      <td>4.592593</td>\n",
       "      <td>4.552593</td>\n",
       "      <td>3.882716</td>\n",
       "      <td>9.648148</td>\n",
       "      <td>38.944444</td>\n",
       "      <td>0.242580</td>\n",
       "      <td>...</td>\n",
       "      <td>11.574074</td>\n",
       "      <td>14.975309</td>\n",
       "      <td>6.549383</td>\n",
       "      <td>0.012346</td>\n",
       "      <td>53.783951</td>\n",
       "      <td>1.408805</td>\n",
       "      <td>0.490566</td>\n",
       "      <td>0.066025</td>\n",
       "      <td>0.515432</td>\n",
       "      <td>1</td>\n",
       "    </tr>\n",
       "  </tbody>\n",
       "</table>\n",
       "<p>5 rows × 143 columns</p>\n",
       "</div>"
      ],
      "text/plain": [
       "     H_name  H_at_bats    H_runs    H_hits     H_rbi  H_earned_runs  \\\n",
       "1365    PHI  34.388889  4.777778  8.450617  4.580247       4.457963   \n",
       "1366    BOS  35.617284  5.561728  9.592593  5.290123       5.152778   \n",
       "1367    LAA  34.209877  4.746914  8.444444  4.530864       4.473765   \n",
       "1368    STL  33.635802  4.716049  8.246914  4.407407       4.446173   \n",
       "1369    MIL  34.209877  4.746914  8.432099  4.592593       4.552593   \n",
       "\n",
       "      H_bases_on_balls  H_strikeouts  H_plate_appearances  H_batting_average  \\\n",
       "1365          3.469136      8.969136            38.648148           0.239568   \n",
       "1366          3.641975      8.530864            39.969136           0.263710   \n",
       "1367          3.617284      7.876543            38.586420           0.241494   \n",
       "1368          3.462963      8.765432            38.067901           0.240457   \n",
       "1369          3.882716      9.648148            38.944444           0.242580   \n",
       "\n",
       "      ...  A_Opp_grounded_balls  A_Opp_fly_balls  A_Opp_line_drives  \\\n",
       "1365  ...             10.870370        14.080247           6.302469   \n",
       "1366  ...             11.265432        13.018519           5.858025   \n",
       "1367  ...             12.262500        15.275000           6.950000   \n",
       "1368  ...             11.611111        14.425926           6.685185   \n",
       "1369  ...             11.574074        14.975309           6.549383   \n",
       "\n",
       "      A_Opp_unknown_bat_type  A_Opp_game_score  A_Opp_inherited_runners  \\\n",
       "1365                0.012346         48.283951                 1.660494   \n",
       "1366                0.000000         48.216049                 1.481481   \n",
       "1367                0.012500         50.937500                 1.331250   \n",
       "1368                0.006173         50.320988                 1.395062   \n",
       "1369                0.012346         53.783951                 1.408805   \n",
       "\n",
       "      A_Opp_inherited_score  A_Opp_win_probability_by_pitcher  \\\n",
       "1365               0.604938                         -0.046185   \n",
       "1366               0.456790                         -0.074901   \n",
       "1367               0.368750                          0.019687   \n",
       "1368               0.456790                          0.011432   \n",
       "1369               0.490566                          0.066025   \n",
       "\n",
       "      A_Opp_base_out_runs_saved  home_win  \n",
       "1365                  -0.594444         0  \n",
       "1366                  -0.858642         0  \n",
       "1367                   0.099375         1  \n",
       "1368                  -0.221605         1  \n",
       "1369                   0.515432         1  \n",
       "\n",
       "[5 rows x 143 columns]"
      ]
     },
     "execution_count": 12,
     "metadata": {},
     "output_type": "execute_result"
    }
   ],
   "source": [
    "df2.head()"
   ]
  },
  {
   "cell_type": "code",
   "execution_count": 13,
   "metadata": {
    "ExecuteTime": {
     "end_time": "2022-01-20T16:31:31.544374Z",
     "start_time": "2022-01-20T16:31:31.528425Z"
    }
   },
   "outputs": [],
   "source": [
    "def data_preprocessing(df, df2):\n",
    "    X_train = df.drop(['home_win','H_name','A_name'], axis=1)\n",
    "    X_test = df2.drop(['home_win','H_name','A_name'], axis=1)\n",
    "    y_train = df.home_win\n",
    "    y_test= df2.home_win\n",
    "    \n",
    "    ss = StandardScaler()\n",
    "    X_train_scaled = ss.fit_transform(X_train)\n",
    "    X_test_scaled = ss.transform(X_test)\n",
    "    \n",
    "    X_train_scaled = pd.DataFrame(X_train_scaled, columns=X_train.columns)\n",
    "    X_test_scaled = pd.DataFrame(X_test_scaled, columns=X_test.columns)\n",
    "    \n",
    "    return X_train_scaled, X_test_scaled,y_train,y_test"
   ]
  },
  {
   "cell_type": "code",
   "execution_count": 14,
   "metadata": {
    "ExecuteTime": {
     "end_time": "2022-01-20T16:31:33.282990Z",
     "start_time": "2022-01-20T16:31:33.243512Z"
    }
   },
   "outputs": [],
   "source": [
    "X_train_scaled,X_test_scaled,y_train,y_test=data_preprocessing(df,df2)"
   ]
  },
  {
   "cell_type": "code",
   "execution_count": 52,
   "metadata": {
    "ExecuteTime": {
     "end_time": "2022-01-19T19:44:14.746874Z",
     "start_time": "2022-01-19T19:44:14.741293Z"
    }
   },
   "outputs": [],
   "source": [
    "# X_test_scaled.drop(['H_Opp_inherited_score','H_Opp_game_score','H_Opp_unknown_bat_type',\n",
    "#                     'H_Opp_inherited_runners'],axis=1,inplace=True)"
   ]
  },
  {
   "cell_type": "code",
   "execution_count": 22,
   "metadata": {
    "ExecuteTime": {
     "end_time": "2022-01-19T18:49:04.656589Z",
     "start_time": "2022-01-19T18:49:04.652407Z"
    }
   },
   "outputs": [],
   "source": [
    "# X_train_scaled.drop(['H_Opp_inherited_score','H_Opp_game_score','H_Opp_unknown_bat_type',\n",
    "#                     'H_Opp_inherited_runners'],axis=1,inplace=True)"
   ]
  },
  {
   "cell_type": "code",
   "execution_count": 53,
   "metadata": {
    "ExecuteTime": {
     "end_time": "2022-01-19T19:44:17.235973Z",
     "start_time": "2022-01-19T19:44:17.224145Z"
    }
   },
   "outputs": [],
   "source": [
    "zero_imp_train=X_train_scaled.drop(zero_importance_list,axis=1)\n",
    "zero_imp_test=X_test_scaled.drop(zero_importance_list,axis=1)"
   ]
  },
  {
   "cell_type": "markdown",
   "metadata": {},
   "source": [
    "## Feature Selection"
   ]
  },
  {
   "cell_type": "code",
   "execution_count": 71,
   "metadata": {
    "ExecuteTime": {
     "end_time": "2022-01-14T15:55:59.195279Z",
     "start_time": "2022-01-14T15:55:59.189989Z"
    }
   },
   "outputs": [],
   "source": [
    "# pca=PCA(n_components=0.7)\n",
    "# train_pca=pca.fit_transform(X_train_scaled)\n",
    "# test_pca=pca.transform(X_test_scaled)"
   ]
  },
  {
   "cell_type": "code",
   "execution_count": 51,
   "metadata": {
    "ExecuteTime": {
     "end_time": "2022-01-14T15:41:50.977209Z",
     "start_time": "2022-01-14T15:41:50.796700Z"
    }
   },
   "outputs": [
    {
     "data": {
      "image/png": "[encoded data removed]",
      "text/plain": [
       "<Figure size 432x288 with 1 Axes>"
      ]
     },
     "metadata": {
      "needs_background": "light"
     },
     "output_type": "display_data"
    }
   ],
   "source": [
    "#plt.scatter(train_pca[:,0], train_pca[:,1]);"
   ]
  },
  {
   "cell_type": "code",
   "execution_count": 15,
   "metadata": {
    "ExecuteTime": {
     "end_time": "2022-01-20T16:32:11.856395Z",
     "start_time": "2022-01-20T16:31:37.152242Z"
    }
   },
   "outputs": [],
   "source": [
    "feats= feature_select(X_train_scaled,y_train,LogisticRegression,min_features=10)"
   ]
  },
  {
   "cell_type": "code",
   "execution_count": 16,
   "metadata": {
    "ExecuteTime": {
     "end_time": "2022-01-20T16:32:11.922457Z",
     "start_time": "2022-01-20T16:32:11.860811Z"
    }
   },
   "outputs": [],
   "source": [
    "X_train_best_log = X_train_scaled[feats]\n",
    "X_test_best_log = X_test_scaled[feats]"
   ]
  },
  {
   "cell_type": "markdown",
   "metadata": {},
   "source": [
    "# Logistic Regression"
   ]
  },
  {
   "cell_type": "code",
   "execution_count": 17,
   "metadata": {
    "ExecuteTime": {
     "end_time": "2022-01-20T16:32:13.986119Z",
     "start_time": "2022-01-20T16:32:11.952719Z"
    }
   },
   "outputs": [
    {
     "name": "stdout",
     "output_type": "stream",
     "text": [
      "Penalty: l2\n",
      "Solver: newton-cg\n",
      "Mean Cross-Val Score: 0.5301290259036738\n",
      "Train Mean Accuracy: 0.5469845722300141\n",
      "Test Mean Accuracy: 0.5280898876404494\n",
      "Recall Score: 0.7282608695652174\n",
      "Precision Score: 0.5317460317460317\n",
      "F1 Score: 0.6146788990825688\n"
     ]
    },
    {
     "data": {
      "image/png": "[encoded data removed]",
      "text/plain": [
       "<Figure size 432x288 with 1 Axes>"
      ]
     },
     "metadata": {
      "needs_background": "light"
     },
     "output_type": "display_data"
    },
    {
     "data": {
      "image/png": "[encoded data removed]",
      "text/plain": [
       "<Figure size 432x288 with 2 Axes>"
      ]
     },
     "metadata": {
      "needs_background": "light"
     },
     "output_type": "display_data"
    },
    {
     "data": {
      "image/png": "[encoded data removed]",
      "text/plain": [
       "<Figure size 432x288 with 2 Axes>"
      ]
     },
     "metadata": {
      "needs_background": "light"
     },
     "output_type": "display_data"
    }
   ],
   "source": [
    "predictions, probabilities=logreg(X_train_best_log,X_test_best_log,y_train,y_test)"
   ]
  },
  {
   "cell_type": "code",
   "execution_count": 18,
   "metadata": {
    "ExecuteTime": {
     "end_time": "2022-01-20T16:32:14.042744Z",
     "start_time": "2022-01-20T16:32:13.992087Z"
    }
   },
   "outputs": [],
   "source": [
    "def new_acc(probabilities):\n",
    "    class_list2=[]\n",
    "    for log in probabilities:\n",
    "        if log[0]<.40:\n",
    "            class_list2.append(1)\n",
    "        elif log[0]>.60:\n",
    "            class_list2.append(0)\n",
    "        else:\n",
    "            class_list2.append(3)\n",
    "    y_pred_class=pd.DataFrame(class_list2)\n",
    "    y_pred_class.reset_index(inplace=True)\n",
    "    y_test_df=pd.DataFrame(y_test)\n",
    "    y_test_df.reset_index(inplace=True)\n",
    "    comb=pd.concat([y_test_df,y_pred_class],axis=1)\n",
    "    comb.drop(['index','index'],axis=1,inplace=True)\n",
    "    comb['pred']=comb[0]\n",
    "    comb.drop([0],axis=1,inplace=True)\n",
    "    comb.drop(comb[comb['pred'] == 3].index, inplace = True)\n",
    "    count=0\n",
    "    for bools in comb['home_win']==comb['pred']:\n",
    "        if bools is True:\n",
    "            count+=1\n",
    "        else:\n",
    "            pass\n",
    "    accuracy=count/len(comb)\n",
    "    \n",
    "    return accuracy,count"
   ]
  },
  {
   "cell_type": "code",
   "execution_count": 19,
   "metadata": {
    "ExecuteTime": {
     "end_time": "2022-01-20T16:32:14.171392Z",
     "start_time": "2022-01-20T16:32:14.110612Z"
    }
   },
   "outputs": [
    {
     "data": {
      "text/plain": [
       "(0.5, 9)"
      ]
     },
     "execution_count": 19,
     "metadata": {},
     "output_type": "execute_result"
    }
   ],
   "source": [
    "new_acc(probabilities)"
   ]
  },
  {
   "cell_type": "markdown",
   "metadata": {
    "heading_collapsed": true
   },
   "source": [
    "### Home_win, zero imp\n",
    "***"
   ]
  },
  {
   "cell_type": "code",
   "execution_count": 36,
   "metadata": {
    "ExecuteTime": {
     "end_time": "2022-01-19T18:40:16.455954Z",
     "start_time": "2022-01-19T18:39:38.127233Z"
    },
    "hidden": true
   },
   "outputs": [],
   "source": [
    "feats= feature_select(zero_imp_train,y_train,LogisticRegression,min_features=10)"
   ]
  },
  {
   "cell_type": "code",
   "execution_count": 37,
   "metadata": {
    "ExecuteTime": {
     "end_time": "2022-01-19T18:40:16.509188Z",
     "start_time": "2022-01-19T18:40:16.484024Z"
    },
    "hidden": true
   },
   "outputs": [],
   "source": [
    "X_train_best_log = zero_imp_train[feats]\n",
    "X_test_best_log = zero_imp_test[feats]"
   ]
  },
  {
   "cell_type": "code",
   "execution_count": 38,
   "metadata": {
    "ExecuteTime": {
     "end_time": "2022-01-19T18:40:19.355249Z",
     "start_time": "2022-01-19T18:40:16.520419Z"
    },
    "hidden": true
   },
   "outputs": [
    {
     "name": "stdout",
     "output_type": "stream",
     "text": [
      "Penalty: l1\n",
      "Solver: saga\n",
      "Mean Cross-Val Score: 0.6002477620805227\n",
      "Train Mean Accuracy: 0.608480856319473\n",
      "Test Mean Accuracy: 0.6363636363636364\n",
      "Recall Score: 0.5454545454545454\n",
      "Precision Score: 0.6666666666666666\n",
      "F1 Score: 0.6\n"
     ]
    },
    {
     "data": {
      "image/png": "[encoded data removed]",
      "text/plain": [
       "<Figure size 432x288 with 1 Axes>"
      ]
     },
     "metadata": {
      "needs_background": "light"
     },
     "output_type": "display_data"
    },
    {
     "data": {
      "image/png": "[encoded data removed]",
      "text/plain": [
       "<Figure size 432x288 with 2 Axes>"
      ]
     },
     "metadata": {
      "needs_background": "light"
     },
     "output_type": "display_data"
    },
    {
     "data": {
      "image/png": "[encoded data removed]",
      "text/plain": [
       "<Figure size 432x288 with 2 Axes>"
      ]
     },
     "metadata": {
      "needs_background": "light"
     },
     "output_type": "display_data"
    }
   ],
   "source": [
    "predictions, probabilities=logreg(X_train_best_log,X_test_best_log,y_train,y_test)"
   ]
  },
  {
   "cell_type": "code",
   "execution_count": 39,
   "metadata": {
    "ExecuteTime": {
     "end_time": "2022-01-19T18:40:26.415200Z",
     "start_time": "2022-01-19T18:40:26.396661Z"
    },
    "hidden": true
   },
   "outputs": [
    {
     "data": {
      "text/plain": [
       "0.65"
      ]
     },
     "execution_count": 39,
     "metadata": {},
     "output_type": "execute_result"
    }
   ],
   "source": [
    "new_acc(probabilities)"
   ]
  },
  {
   "cell_type": "markdown",
   "metadata": {
    "heading_collapsed": true
   },
   "source": [
    "### Explore thresehold movement and other things"
   ]
  },
  {
   "cell_type": "code",
   "execution_count": 94,
   "metadata": {
    "ExecuteTime": {
     "end_time": "2022-01-18T19:08:14.644009Z",
     "start_time": "2022-01-18T19:08:14.382466Z"
    },
    "hidden": true
   },
   "outputs": [
    {
     "data": {
      "text/plain": [
       "LogisticRegression()"
      ]
     },
     "execution_count": 94,
     "metadata": {},
     "output_type": "execute_result"
    }
   ],
   "source": [
    "logregs=LogisticRegression()\n",
    "logregs.fit(X_train_scaled,y_train)"
   ]
  },
  {
   "cell_type": "code",
   "execution_count": 95,
   "metadata": {
    "ExecuteTime": {
     "end_time": "2022-01-18T19:08:20.730374Z",
     "start_time": "2022-01-18T19:08:20.664502Z"
    },
    "hidden": true
   },
   "outputs": [
    {
     "data": {
      "text/plain": [
       "array([ True,  True,  True,  True, False,  True, False, False, False,\n",
       "       False, False, False,  True, False,  True,  True, False, False,\n",
       "       False, False, False, False, False])"
      ]
     },
     "execution_count": 95,
     "metadata": {},
     "output_type": "execute_result"
    }
   ],
   "source": [
    "logregs.predict_proba(X_test_scaled)[:,1] >= 0.6"
   ]
  },
  {
   "cell_type": "code",
   "execution_count": 47,
   "metadata": {
    "ExecuteTime": {
     "end_time": "2022-01-18T16:56:09.187820Z",
     "start_time": "2022-01-18T16:56:09.175975Z"
    },
    "hidden": true
   },
   "outputs": [
    {
     "data": {
      "text/plain": [
       "54"
      ]
     },
     "execution_count": 47,
     "metadata": {},
     "output_type": "execute_result"
    }
   ],
   "source": [
    "decisions = (logregs.predict_proba(X_test_scaled) >= .6).astype(int)\n",
    "len(decisions)"
   ]
  },
  {
   "cell_type": "code",
   "execution_count": 97,
   "metadata": {
    "ExecuteTime": {
     "end_time": "2022-01-18T19:08:34.302186Z",
     "start_time": "2022-01-18T19:08:34.264903Z"
    },
    "hidden": true,
    "scrolled": true
   },
   "outputs": [],
   "source": [
    "today_winners = np.where(y_test!= predictions,'Away','Home')"
   ]
  },
  {
   "cell_type": "code",
   "execution_count": 101,
   "metadata": {
    "ExecuteTime": {
     "end_time": "2022-01-18T19:09:02.840747Z",
     "start_time": "2022-01-18T19:09:02.822590Z"
    },
    "hidden": true
   },
   "outputs": [
    {
     "data": {
      "text/plain": [
       "array(['Home', 'Home', 'Home', 'Home', 'Away', 'Home', 'Home', 'Away',\n",
       "       'Away', 'Away', 'Home', 'Home', 'Away', 'Home', 'Home', 'Home',\n",
       "       'Away', 'Home', 'Away', 'Away', 'Home', 'Away', 'Home'],\n",
       "      dtype='<U4')"
      ]
     },
     "execution_count": 101,
     "metadata": {},
     "output_type": "execute_result"
    }
   ],
   "source": [
    "today_winners"
   ]
  },
  {
   "cell_type": "markdown",
   "metadata": {
    "hidden": true
   },
   "source": [
    "7 out of 9 playoff series correctly predicted"
   ]
  },
  {
   "cell_type": "markdown",
   "metadata": {},
   "source": [
    "# KNN"
   ]
  },
  {
   "cell_type": "markdown",
   "metadata": {},
   "source": [
    "### Home win KNN"
   ]
  },
  {
   "cell_type": "code",
   "execution_count": 20,
   "metadata": {
    "ExecuteTime": {
     "end_time": "2022-01-20T16:32:33.775625Z",
     "start_time": "2022-01-20T16:32:26.306274Z"
    }
   },
   "outputs": [
    {
     "name": "stdout",
     "output_type": "stream",
     "text": [
      "Number of Neighbors: 13\n",
      "Metric: manhattan\n",
      "Weights: uniform\n",
      "Mean Cross-Val Score: 0.5006796020880528\n",
      "Train Mean Accuracy: 0.5511921458625526\n",
      "Test Mean Accuracy: 0.5393258426966292\n",
      "Recall Score: 0.6847826086956522\n",
      "Precision Score: 0.5431034482758621\n",
      "F1 score: 0.6057692307692307\n"
     ]
    },
    {
     "data": {
      "image/png": "[encoded data removed]",
      "text/plain": [
       "<Figure size 432x288 with 1 Axes>"
      ]
     },
     "metadata": {
      "needs_background": "light"
     },
     "output_type": "display_data"
    },
    {
     "data": {
      "image/png": "[encoded data removed]",
      "text/plain": [
       "<Figure size 432x288 with 2 Axes>"
      ]
     },
     "metadata": {
      "needs_background": "light"
     },
     "output_type": "display_data"
    },
    {
     "data": {
      "image/png": "[encoded data removed]",
      "text/plain": [
       "<Figure size 432x288 with 2 Axes>"
      ]
     },
     "metadata": {
      "needs_background": "light"
     },
     "output_type": "display_data"
    }
   ],
   "source": [
    "prediction,probabilities=knn(X_train_scaled,X_test_scaled,y_train,y_test)"
   ]
  },
  {
   "cell_type": "code",
   "execution_count": 21,
   "metadata": {
    "ExecuteTime": {
     "end_time": "2022-01-20T16:32:33.875351Z",
     "start_time": "2022-01-20T16:32:33.836675Z"
    }
   },
   "outputs": [
    {
     "data": {
      "text/plain": [
       "(0.6097560975609756, 25)"
      ]
     },
     "execution_count": 21,
     "metadata": {},
     "output_type": "execute_result"
    }
   ],
   "source": [
    "new_acc(probabilities)"
   ]
  },
  {
   "cell_type": "markdown",
   "metadata": {
    "heading_collapsed": true
   },
   "source": [
    "# Decision Tree"
   ]
  },
  {
   "cell_type": "code",
   "execution_count": 24,
   "metadata": {
    "ExecuteTime": {
     "end_time": "2022-01-19T18:49:39.036052Z",
     "start_time": "2022-01-19T18:49:15.999265Z"
    },
    "hidden": true
   },
   "outputs": [],
   "source": [
    "dfeats= feature_select(X_train_scaled,y_train,DecisionTreeClassifier,min_features=10)\n",
    "X_train_best_tree = X_train_scaled[dfeats]\n",
    "X_test_best_tree = X_test_scaled[dfeats]"
   ]
  },
  {
   "cell_type": "markdown",
   "metadata": {
    "hidden": true
   },
   "source": [
    "### Dtree Home Win"
   ]
  },
  {
   "cell_type": "code",
   "execution_count": 25,
   "metadata": {
    "ExecuteTime": {
     "end_time": "2022-01-19T18:49:43.830264Z",
     "start_time": "2022-01-19T18:49:39.039286Z"
    },
    "hidden": true
   },
   "outputs": [
    {
     "name": "stdout",
     "output_type": "stream",
     "text": [
      "Max Depth: 3\n",
      "Min Sample Split: 2\n",
      "criterion: entropy\n",
      "Mean Cross-Val Score: 0.5784319714903907\n",
      "Train Mean Accuracy: 0.608480856319473\n",
      "Test Mean Accuracy: 0.5909090909090909\n",
      "Recall Score: 0.5454545454545454\n",
      "Precision Score: 0.6\n",
      "F1 score: 0.5714285714285713\n"
     ]
    },
    {
     "data": {
      "image/png": "[encoded data removed]",
      "text/plain": [
       "<Figure size 432x288 with 1 Axes>"
      ]
     },
     "metadata": {
      "needs_background": "light"
     },
     "output_type": "display_data"
    },
    {
     "data": {
      "image/png": "[encoded data removed]",
      "text/plain": [
       "<Figure size 432x288 with 2 Axes>"
      ]
     },
     "metadata": {
      "needs_background": "light"
     },
     "output_type": "display_data"
    },
    {
     "data": {
      "image/png": "[encoded data removed]",
      "text/plain": [
       "<Figure size 432x288 with 2 Axes>"
      ]
     },
     "metadata": {
      "needs_background": "light"
     },
     "output_type": "display_data"
    }
   ],
   "source": [
    "predictions,probabilities=dtree(X_train_best_tree,X_test_best_tree,y_train,y_test)"
   ]
  },
  {
   "cell_type": "code",
   "execution_count": 27,
   "metadata": {
    "ExecuteTime": {
     "end_time": "2022-01-19T18:50:05.471224Z",
     "start_time": "2022-01-19T18:50:05.451515Z"
    },
    "hidden": true
   },
   "outputs": [
    {
     "data": {
      "text/plain": [
       "0.5833333333333334"
      ]
     },
     "execution_count": 27,
     "metadata": {},
     "output_type": "execute_result"
    }
   ],
   "source": [
    "new_acc(probabilities)"
   ]
  },
  {
   "cell_type": "markdown",
   "metadata": {},
   "source": [
    "# Random Forest"
   ]
  },
  {
   "cell_type": "code",
   "execution_count": 22,
   "metadata": {
    "ExecuteTime": {
     "end_time": "2022-01-20T16:32:40.436027Z",
     "start_time": "2022-01-20T16:32:40.397543Z"
    }
   },
   "outputs": [],
   "source": [
    "def random_forest(X_train, X_test, y_train, y_test, cv=5):\n",
    "    \n",
    "    # Set GridSearchCV hyperparameters to compare & select\n",
    "    grid = {\n",
    "    'n_estimators': [75,90,100,110,115,125,150,500],\n",
    "    'criterion': ['gini', 'entropy']}\n",
    "    \n",
    "    # Instantiate & fit Random Forest model for GridSearch\n",
    "    grid_rf = RandomForestClassifier()\n",
    "    grid_rf.fit(X_train,y_train)\n",
    "    \n",
    "    # Instantiate & fit GridSearchCV with accuracy scoring\n",
    "    gs = GridSearchCV(estimator=grid_rf, param_grid=grid, cv=cv, scoring='accuracy')\n",
    "    gs.fit(X_train, y_train)\n",
    "    \n",
    "    # Return best hyperparameters\n",
    "    rf_params = gs.best_params_\n",
    "    \n",
    "    # Use best # of trees from best_params\n",
    "    rf_n_estimators = rf_params['n_estimators']\n",
    "    print(f'Number of Trees: {rf_n_estimators}')\n",
    "    \n",
    "    # Use best criterion from best_params\n",
    "    rf_criterion = rf_params['criterion']\n",
    "    print(f'criterion: {rf_criterion}')\n",
    "    \n",
    "    # Instantiate & fit Random Forest model\n",
    "    rforest = RandomForestClassifier(n_estimators=rf_n_estimators, criterion=rf_criterion,\n",
    "                                    random_state=42)\n",
    "    rforest.fit(X_train, y_train)\n",
    "    \n",
    "    # Create prediction variable using test data\n",
    "    y_pred = rforest.predict(X_test)\n",
    "    y_prob = rforest.predict_proba(X_test)\n",
    "    \n",
    "    # Run cross-validate score with cv folds from function parameter\n",
    "    cv_results = cross_val_score(rforest, X_train, y_train, cv=cv)\n",
    "    print(f'Mean Cross-Val Score: {cv_results.mean()}')\n",
    "    \n",
    "    # Run and print accuracy, recall, precision and f1 scores\n",
    "    train_score = rforest.score(X_train, y_train)\n",
    "    print(f'Train Mean Accuracy: {train_score}')\n",
    "    test_score = rforest.score(X_test, y_test)\n",
    "    print(f'Test Mean Accuracy: {test_score}')\n",
    "    \n",
    "    rec_score = recall_score(y_test, y_pred)\n",
    "    print(f'Recall Score: {rec_score}')\n",
    "    \n",
    "    prec_score = precision_score(y_test, y_pred)\n",
    "    print(f'Precision Score: {prec_score}')\n",
    "    \n",
    "    f1 = f1_score(y_test, y_pred)\n",
    "    print(f'F1 score: {f1}')\n",
    "    \n",
    "    # Plot an ROC curve (only works with binary data)\n",
    "    fig, ax = plt.subplots()\n",
    "    plot_roc_curve(rforest, X_train, y_train, name='train', ax=ax)\n",
    "    plot_roc_curve(rforest, X_test, y_test, name='test', ax=ax)\n",
    "    \n",
    "    # Plot Confusion Matrix\n",
    "    plot_confusion_matrix(rforest, X_train, y_train)\n",
    "    plot_confusion_matrix(rforest, X_test, y_test);\n",
    "    \n",
    "    return y_pred,y_prob\n"
   ]
  },
  {
   "cell_type": "code",
   "execution_count": 23,
   "metadata": {
    "ExecuteTime": {
     "end_time": "2022-01-20T16:38:29.365781Z",
     "start_time": "2022-01-20T16:32:40.996188Z"
    }
   },
   "outputs": [],
   "source": [
    "rfeats= feature_select(X_train_scaled,y_train,RandomForestClassifier,min_features=10)\n",
    "X_train_best_for = X_train_scaled[rfeats]\n",
    "X_test_best_for = X_test_scaled[rfeats]"
   ]
  },
  {
   "cell_type": "code",
   "execution_count": 24,
   "metadata": {
    "ExecuteTime": {
     "end_time": "2022-01-20T16:40:02.334189Z",
     "start_time": "2022-01-20T16:38:29.374286Z"
    }
   },
   "outputs": [
    {
     "name": "stdout",
     "output_type": "stream",
     "text": [
      "Number of Trees: 500\n",
      "criterion: gini\n",
      "Mean Cross-Val Score: 0.461439968482222\n",
      "Train Mean Accuracy: 0.5680224403927069\n",
      "Test Mean Accuracy: 0.5617977528089888\n",
      "Recall Score: 0.6956521739130435\n",
      "Precision Score: 0.5614035087719298\n",
      "F1 score: 0.6213592233009708\n"
     ]
    },
    {
     "data": {
      "image/png": "[encoded data removed]",
      "text/plain": [
       "<Figure size 432x288 with 1 Axes>"
      ]
     },
     "metadata": {
      "needs_background": "light"
     },
     "output_type": "display_data"
    },
    {
     "data": {
      "image/png": "[encoded data removed]",
      "text/plain": [
       "<Figure size 432x288 with 2 Axes>"
      ]
     },
     "metadata": {
      "needs_background": "light"
     },
     "output_type": "display_data"
    },
    {
     "data": {
      "image/png": "[encoded data removed]",
      "text/plain": [
       "<Figure size 432x288 with 2 Axes>"
      ]
     },
     "metadata": {
      "needs_background": "light"
     },
     "output_type": "display_data"
    }
   ],
   "source": [
    "predictions,probabilities=random_forest(X_train_best_for,X_test_best_for,y_train,y_test)"
   ]
  },
  {
   "cell_type": "code",
   "execution_count": 25,
   "metadata": {
    "ExecuteTime": {
     "end_time": "2022-01-20T16:40:02.421403Z",
     "start_time": "2022-01-20T16:40:02.370896Z"
    }
   },
   "outputs": [
    {
     "data": {
      "text/plain": [
       "(1.0, 28)"
      ]
     },
     "execution_count": 25,
     "metadata": {},
     "output_type": "execute_result"
    }
   ],
   "source": [
    "new_acc(probabilities)"
   ]
  },
  {
   "cell_type": "markdown",
   "metadata": {
    "heading_collapsed": true
   },
   "source": [
    "# Bagging Classifier"
   ]
  },
  {
   "cell_type": "code",
   "execution_count": 53,
   "metadata": {
    "ExecuteTime": {
     "end_time": "2022-01-18T22:02:55.328165Z",
     "start_time": "2022-01-18T21:46:08.981088Z"
    },
    "hidden": true
   },
   "outputs": [
    {
     "name": "stdout",
     "output_type": "stream",
     "text": [
      "Dec Tree Max Depth: 2\n",
      "Dec Tree Criterion: gini\n",
      "Bagging Max Samples: 3\n",
      "Bag Max Features: 2\n",
      "# of Base Estimators: 500\n",
      "Mean Cross-Val Score: 0.5891468329727207\n",
      "Train Mean Accuracy Score: 0.5673116508851379\n",
      "Test Mean Accuracy Score: 0.5\n",
      "Recall Score: 1.0\n",
      "Precision Score: 0.5\n",
      "F1 score: 0.6666666666666666\n"
     ]
    },
    {
     "data": {
      "image/png": "[encoded data removed]",
      "text/plain": [
       "<Figure size 432x288 with 1 Axes>"
      ]
     },
     "metadata": {
      "needs_background": "light"
     },
     "output_type": "display_data"
    },
    {
     "data": {
      "image/png": "[encoded data removed]",
      "text/plain": [
       "<Figure size 432x288 with 2 Axes>"
      ]
     },
     "metadata": {
      "needs_background": "light"
     },
     "output_type": "display_data"
    },
    {
     "data": {
      "image/png": "[encoded data removed]",
      "text/plain": [
       "<Figure size 432x288 with 2 Axes>"
      ]
     },
     "metadata": {
      "needs_background": "light"
     },
     "output_type": "display_data"
    }
   ],
   "source": [
    "bagged(X_train_scaled,X_test_scaled,y_train,y_test)"
   ]
  },
  {
   "cell_type": "markdown",
   "metadata": {
    "heading_collapsed": true
   },
   "source": [
    "# XGBoost"
   ]
  },
  {
   "cell_type": "code",
   "execution_count": 56,
   "metadata": {
    "ExecuteTime": {
     "end_time": "2022-01-18T22:25:14.526375Z",
     "start_time": "2022-01-18T22:18:44.271810Z"
    },
    "hidden": true
   },
   "outputs": [],
   "source": [
    "xfeats= feature_select(zero_imp_train,y_train,XGBClassifier,min_features=10)\n",
    "X_train_best_x = zero_imp_train[xfeats]\n",
    "X_test_best_x = zero_imp_test[xfeats]"
   ]
  },
  {
   "cell_type": "code",
   "execution_count": 57,
   "metadata": {
    "ExecuteTime": {
     "end_time": "2022-01-19T14:33:49.396464Z",
     "start_time": "2022-01-18T22:25:14.530886Z"
    },
    "hidden": true
   },
   "outputs": [
    {
     "name": "stdout",
     "output_type": "stream",
     "text": [
      "XGBoost Learning Rate: 0.05\n",
      "XGBoost Max Depth: 3\n",
      "XGBoost Min Child Weight: 1\n",
      "XGBoost Subsample: 0.7\n",
      "XGBoost Estimators: 100\n",
      "Stopped in Round: 15\n",
      "Mean Cross-Val Score: 0.5409766238174027\n",
      "Train Mean Accuracy Score: 0.6990531082750103\n",
      "Test Mean Accuracy Score: 0.6363636363636364\n",
      "Recall Score: 0.6363636363636364\n",
      "Precision Score: 0.6363636363636364\n",
      "F1 score: 0.6363636363636364\n"
     ]
    },
    {
     "data": {
      "image/png": "[encoded data removed]",
      "text/plain": [
       "<Figure size 432x288 with 1 Axes>"
      ]
     },
     "metadata": {
      "needs_background": "light"
     },
     "output_type": "display_data"
    },
    {
     "data": {
      "image/png": "[encoded data removed]",
      "text/plain": [
       "<Figure size 432x288 with 2 Axes>"
      ]
     },
     "metadata": {
      "needs_background": "light"
     },
     "output_type": "display_data"
    },
    {
     "data": {
      "image/png": "[encoded data removed]",
      "text/plain": [
       "<Figure size 432x288 with 2 Axes>"
      ]
     },
     "metadata": {
      "needs_background": "light"
     },
     "output_type": "display_data"
    }
   ],
   "source": [
    "xgboost(X_train_best_x, X_test_best_x, y_train, y_test, cv=5)"
   ]
  }
 ],
 "metadata": {
  "kernelspec": {
   "display_name": "Python (learn-env)",
   "language": "python",
   "name": "learn-env"
  },
  "language_info": {
   "codemirror_mode": {
    "name": "ipython",
    "version": 3
   },
   "file_extension": ".py",
   "mimetype": "text/x-python",
   "name": "python",
   "nbconvert_exporter": "python",
   "pygments_lexer": "ipython3",
   "version": "3.8.5"
  },
  "notify_time": "30"
 },
 "nbformat": 4,
 "nbformat_minor": 4
}

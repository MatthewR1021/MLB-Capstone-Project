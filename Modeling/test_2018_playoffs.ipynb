{
 "cells": [
  {
   "cell_type": "code",
   "execution_count": 1,
   "metadata": {
    "ExecuteTime": {
     "end_time": "2022-01-18T20:11:48.582990Z",
     "start_time": "2022-01-18T20:11:43.342198Z"
    }
   },
   "outputs": [],
   "source": [
    "# Import the relevant packages\n",
    "import pandas as pd\n",
    "import numpy as np\n",
    "import matplotlib.pyplot as plt\n",
    "from sklearn.linear_model import LogisticRegression\n",
    "from sklearn.model_selection import cross_val_score, train_test_split,GridSearchCV\n",
    "from sklearn.metrics import plot_confusion_matrix, plot_roc_curve, accuracy_score, \\\n",
    "recall_score, precision_score, f1_score\n",
    "from sklearn.neighbors import KNeighborsClassifier\n",
    "from sklearn.preprocessing import StandardScaler\n",
    "from sklearn.tree import DecisionTreeClassifier, plot_tree\n",
    "from sklearn.ensemble import BaggingClassifier, RandomForestClassifier\n",
    "from sklearn.datasets import load_iris\n",
    "from sklearn.ensemble import AdaBoostClassifier, GradientBoostingClassifier\n",
    "from xgboost import XGBClassifier\n",
    "import statsmodels.api as sm\n",
    "from sklearn.feature_selection import RFECV\n",
    "from sklearn.decomposition import PCA\n",
    "import warnings\n",
    "warnings.filterwarnings(\"ignore\")"
   ]
  },
  {
   "cell_type": "code",
   "execution_count": 43,
   "metadata": {
    "ExecuteTime": {
     "end_time": "2022-01-18T20:19:23.529638Z",
     "start_time": "2022-01-18T20:19:23.514622Z"
    }
   },
   "outputs": [],
   "source": [
    "#Import functions notebook and load data set here\n",
    "import sys\n",
    "sys.path.append(\"../\")\n",
    "from Modeling_functions import *"
   ]
  },
  {
   "cell_type": "code",
   "execution_count": 2,
   "metadata": {
    "ExecuteTime": {
     "end_time": "2022-01-18T20:11:48.780495Z",
     "start_time": "2022-01-18T20:11:48.589469Z"
    }
   },
   "outputs": [],
   "source": [
    "df=pd.read_csv('../data/Season_2018.csv')"
   ]
  },
  {
   "cell_type": "code",
   "execution_count": 3,
   "metadata": {
    "ExecuteTime": {
     "end_time": "2022-01-18T20:11:52.142888Z",
     "start_time": "2022-01-18T20:11:52.134239Z"
    }
   },
   "outputs": [],
   "source": [
    "df.drop(['Unnamed: 0'],axis=1,inplace=True)"
   ]
  },
  {
   "cell_type": "code",
   "execution_count": 4,
   "metadata": {
    "ExecuteTime": {
     "end_time": "2022-01-18T20:11:55.569889Z",
     "start_time": "2022-01-18T20:11:55.532496Z"
    }
   },
   "outputs": [],
   "source": [
    "df2=pd.read_csv('../data/Playoffs_2018.csv').drop('Unnamed: 0',axis=1)"
   ]
  },
  {
   "cell_type": "markdown",
   "metadata": {},
   "source": [
    "Find and eliminate NaNs"
   ]
  },
  {
   "cell_type": "code",
   "execution_count": 7,
   "metadata": {
    "ExecuteTime": {
     "end_time": "2022-01-18T20:12:16.673163Z",
     "start_time": "2022-01-18T20:12:16.669786Z"
    }
   },
   "outputs": [],
   "source": [
    "# df=df.drop(['H_win_probability_subtracted','A_win_probability_subtracted','A_Opp_win_probability_subtracted',\n",
    "#          'H_Opp_win_probability_subtracted'],axis=1)"
   ]
  },
  {
   "cell_type": "code",
   "execution_count": 8,
   "metadata": {
    "ExecuteTime": {
     "end_time": "2022-01-18T20:12:20.494446Z",
     "start_time": "2022-01-18T20:12:20.483079Z"
    },
    "scrolled": true
   },
   "outputs": [],
   "source": [
    "# df2=df2.drop(['H_win_probability_subtracted','A_win_probability_subtracted','A_Opp_win_probability_subtracted',\n",
    "#          'H_Opp_win_probability_subtracted','H_median_odds','A_median_odds','fav_win','home_fav'],axis=1)"
   ]
  },
  {
   "cell_type": "code",
   "execution_count": 9,
   "metadata": {
    "ExecuteTime": {
     "end_time": "2022-01-18T20:12:23.914296Z",
     "start_time": "2022-01-18T20:12:23.897549Z"
    }
   },
   "outputs": [
    {
     "data": {
      "text/plain": [
       "1    0.527789\n",
       "0    0.472211\n",
       "Name: home_win, dtype: float64"
      ]
     },
     "execution_count": 9,
     "metadata": {},
     "output_type": "execute_result"
    }
   ],
   "source": [
    "df.home_win.value_counts(normalize=True)"
   ]
  },
  {
   "cell_type": "code",
   "execution_count": 10,
   "metadata": {
    "ExecuteTime": {
     "end_time": "2022-01-18T20:12:25.896635Z",
     "start_time": "2022-01-18T20:12:25.884748Z"
    }
   },
   "outputs": [
    {
     "data": {
      "text/plain": [
       "1    0.552632\n",
       "0    0.447368\n",
       "Name: home_win, dtype: float64"
      ]
     },
     "execution_count": 10,
     "metadata": {},
     "output_type": "execute_result"
    }
   ],
   "source": [
    "df2.home_win.value_counts(normalize=True)"
   ]
  },
  {
   "cell_type": "code",
   "execution_count": 11,
   "metadata": {
    "ExecuteTime": {
     "end_time": "2022-01-18T20:12:36.731780Z",
     "start_time": "2022-01-18T20:12:36.635971Z"
    }
   },
   "outputs": [
    {
     "data": {
      "text/html": [
       "<div>\n",
       "<style scoped>\n",
       "    .dataframe tbody tr th:only-of-type {\n",
       "        vertical-align: middle;\n",
       "    }\n",
       "\n",
       "    .dataframe tbody tr th {\n",
       "        vertical-align: top;\n",
       "    }\n",
       "\n",
       "    .dataframe thead th {\n",
       "        text-align: right;\n",
       "    }\n",
       "</style>\n",
       "<table border=\"1\" class=\"dataframe\">\n",
       "  <thead>\n",
       "    <tr style=\"text-align: right;\">\n",
       "      <th></th>\n",
       "      <th>H_name</th>\n",
       "      <th>H_at_bats</th>\n",
       "      <th>H_runs</th>\n",
       "      <th>H_hits</th>\n",
       "      <th>H_rbi</th>\n",
       "      <th>H_earned_runs</th>\n",
       "      <th>H_bases_on_balls</th>\n",
       "      <th>H_strikeouts</th>\n",
       "      <th>H_plate_appearances</th>\n",
       "      <th>H_batting_average</th>\n",
       "      <th>...</th>\n",
       "      <th>A_Opp_grounded_balls</th>\n",
       "      <th>A_Opp_fly_balls</th>\n",
       "      <th>A_Opp_line_drives</th>\n",
       "      <th>A_Opp_unknown_bat_type</th>\n",
       "      <th>A_Opp_game_score</th>\n",
       "      <th>A_Opp_inherited_runners</th>\n",
       "      <th>A_Opp_inherited_score</th>\n",
       "      <th>A_Opp_win_probability_by_pitcher</th>\n",
       "      <th>A_Opp_base_out_runs_saved</th>\n",
       "      <th>home_win</th>\n",
       "    </tr>\n",
       "  </thead>\n",
       "  <tbody>\n",
       "    <tr>\n",
       "      <th>0</th>\n",
       "      <td>CHC</td>\n",
       "      <td>43.000000</td>\n",
       "      <td>1.000000</td>\n",
       "      <td>6.000000</td>\n",
       "      <td>1.000000</td>\n",
       "      <td>0.690000</td>\n",
       "      <td>5.000000</td>\n",
       "      <td>16.000000</td>\n",
       "      <td>50.000000</td>\n",
       "      <td>0.140000</td>\n",
       "      <td>...</td>\n",
       "      <td>11.666667</td>\n",
       "      <td>14.333333</td>\n",
       "      <td>6.666667</td>\n",
       "      <td>0.0</td>\n",
       "      <td>61.833333</td>\n",
       "      <td>1.333333</td>\n",
       "      <td>0.000000</td>\n",
       "      <td>0.468500</td>\n",
       "      <td>4.033333</td>\n",
       "      <td>0</td>\n",
       "    </tr>\n",
       "    <tr>\n",
       "      <th>1</th>\n",
       "      <td>NYY</td>\n",
       "      <td>32.857143</td>\n",
       "      <td>4.428571</td>\n",
       "      <td>7.571429</td>\n",
       "      <td>4.428571</td>\n",
       "      <td>4.554286</td>\n",
       "      <td>4.428571</td>\n",
       "      <td>8.142857</td>\n",
       "      <td>38.000000</td>\n",
       "      <td>0.227857</td>\n",
       "      <td>...</td>\n",
       "      <td>11.000000</td>\n",
       "      <td>13.000000</td>\n",
       "      <td>7.000000</td>\n",
       "      <td>0.0</td>\n",
       "      <td>61.000000</td>\n",
       "      <td>2.000000</td>\n",
       "      <td>0.000000</td>\n",
       "      <td>0.346000</td>\n",
       "      <td>2.600000</td>\n",
       "      <td>1</td>\n",
       "    </tr>\n",
       "    <tr>\n",
       "      <th>2</th>\n",
       "      <td>MIL</td>\n",
       "      <td>34.666667</td>\n",
       "      <td>3.666667</td>\n",
       "      <td>8.416667</td>\n",
       "      <td>3.333333</td>\n",
       "      <td>3.730833</td>\n",
       "      <td>4.083333</td>\n",
       "      <td>10.083333</td>\n",
       "      <td>39.000000</td>\n",
       "      <td>0.244167</td>\n",
       "      <td>...</td>\n",
       "      <td>11.666667</td>\n",
       "      <td>14.333333</td>\n",
       "      <td>6.666667</td>\n",
       "      <td>0.0</td>\n",
       "      <td>61.833333</td>\n",
       "      <td>1.333333</td>\n",
       "      <td>0.000000</td>\n",
       "      <td>0.468500</td>\n",
       "      <td>4.033333</td>\n",
       "      <td>1</td>\n",
       "    </tr>\n",
       "    <tr>\n",
       "      <th>4</th>\n",
       "      <td>LAD</td>\n",
       "      <td>33.941176</td>\n",
       "      <td>3.764706</td>\n",
       "      <td>7.000000</td>\n",
       "      <td>3.529412</td>\n",
       "      <td>3.535294</td>\n",
       "      <td>4.470588</td>\n",
       "      <td>10.647059</td>\n",
       "      <td>39.294118</td>\n",
       "      <td>0.206765</td>\n",
       "      <td>...</td>\n",
       "      <td>10.000000</td>\n",
       "      <td>12.200000</td>\n",
       "      <td>5.200000</td>\n",
       "      <td>0.0</td>\n",
       "      <td>59.400000</td>\n",
       "      <td>1.000000</td>\n",
       "      <td>0.000000</td>\n",
       "      <td>0.062600</td>\n",
       "      <td>1.360000</td>\n",
       "      <td>1</td>\n",
       "    </tr>\n",
       "    <tr>\n",
       "      <th>5</th>\n",
       "      <td>BOS</td>\n",
       "      <td>35.125000</td>\n",
       "      <td>5.687500</td>\n",
       "      <td>8.375000</td>\n",
       "      <td>5.437500</td>\n",
       "      <td>5.710000</td>\n",
       "      <td>4.062500</td>\n",
       "      <td>8.312500</td>\n",
       "      <td>40.000000</td>\n",
       "      <td>0.238750</td>\n",
       "      <td>...</td>\n",
       "      <td>13.285714</td>\n",
       "      <td>13.142857</td>\n",
       "      <td>6.714286</td>\n",
       "      <td>0.0</td>\n",
       "      <td>49.857143</td>\n",
       "      <td>3.285714</td>\n",
       "      <td>1.000000</td>\n",
       "      <td>0.090143</td>\n",
       "      <td>0.214286</td>\n",
       "      <td>1</td>\n",
       "    </tr>\n",
       "    <tr>\n",
       "      <th>7</th>\n",
       "      <td>HOU</td>\n",
       "      <td>34.125000</td>\n",
       "      <td>5.250000</td>\n",
       "      <td>8.875000</td>\n",
       "      <td>5.125000</td>\n",
       "      <td>5.157500</td>\n",
       "      <td>4.875000</td>\n",
       "      <td>8.375000</td>\n",
       "      <td>40.125000</td>\n",
       "      <td>0.256250</td>\n",
       "      <td>...</td>\n",
       "      <td>11.000000</td>\n",
       "      <td>16.000000</td>\n",
       "      <td>6.666667</td>\n",
       "      <td>0.0</td>\n",
       "      <td>64.000000</td>\n",
       "      <td>1.333333</td>\n",
       "      <td>0.666667</td>\n",
       "      <td>0.291333</td>\n",
       "      <td>2.633333</td>\n",
       "      <td>1</td>\n",
       "    </tr>\n",
       "    <tr>\n",
       "      <th>12</th>\n",
       "      <td>BOS</td>\n",
       "      <td>35.125000</td>\n",
       "      <td>5.687500</td>\n",
       "      <td>8.375000</td>\n",
       "      <td>5.437500</td>\n",
       "      <td>5.710000</td>\n",
       "      <td>4.062500</td>\n",
       "      <td>8.312500</td>\n",
       "      <td>40.000000</td>\n",
       "      <td>0.238750</td>\n",
       "      <td>...</td>\n",
       "      <td>13.285714</td>\n",
       "      <td>13.142857</td>\n",
       "      <td>6.714286</td>\n",
       "      <td>0.0</td>\n",
       "      <td>49.857143</td>\n",
       "      <td>3.285714</td>\n",
       "      <td>1.000000</td>\n",
       "      <td>0.090143</td>\n",
       "      <td>0.214286</td>\n",
       "      <td>0</td>\n",
       "    </tr>\n",
       "    <tr>\n",
       "      <th>14</th>\n",
       "      <td>ATL</td>\n",
       "      <td>30.200000</td>\n",
       "      <td>2.800000</td>\n",
       "      <td>4.600000</td>\n",
       "      <td>2.800000</td>\n",
       "      <td>3.100000</td>\n",
       "      <td>2.600000</td>\n",
       "      <td>8.600000</td>\n",
       "      <td>33.200000</td>\n",
       "      <td>0.150600</td>\n",
       "      <td>...</td>\n",
       "      <td>11.176471</td>\n",
       "      <td>13.176471</td>\n",
       "      <td>5.882353</td>\n",
       "      <td>0.0</td>\n",
       "      <td>51.529412</td>\n",
       "      <td>2.117647</td>\n",
       "      <td>0.823529</td>\n",
       "      <td>0.121941</td>\n",
       "      <td>0.858824</td>\n",
       "      <td>1</td>\n",
       "    </tr>\n",
       "    <tr>\n",
       "      <th>15</th>\n",
       "      <td>COL</td>\n",
       "      <td>34.833333</td>\n",
       "      <td>1.000000</td>\n",
       "      <td>5.833333</td>\n",
       "      <td>1.000000</td>\n",
       "      <td>0.830000</td>\n",
       "      <td>2.666667</td>\n",
       "      <td>10.833333</td>\n",
       "      <td>38.000000</td>\n",
       "      <td>0.162000</td>\n",
       "      <td>...</td>\n",
       "      <td>11.083333</td>\n",
       "      <td>11.333333</td>\n",
       "      <td>5.250000</td>\n",
       "      <td>0.0</td>\n",
       "      <td>52.166667</td>\n",
       "      <td>2.416667</td>\n",
       "      <td>0.750000</td>\n",
       "      <td>0.088500</td>\n",
       "      <td>0.775000</td>\n",
       "      <td>0</td>\n",
       "    </tr>\n",
       "    <tr>\n",
       "      <th>17</th>\n",
       "      <td>NYY</td>\n",
       "      <td>32.857143</td>\n",
       "      <td>4.428571</td>\n",
       "      <td>7.571429</td>\n",
       "      <td>4.428571</td>\n",
       "      <td>4.554286</td>\n",
       "      <td>4.428571</td>\n",
       "      <td>8.142857</td>\n",
       "      <td>38.000000</td>\n",
       "      <td>0.227857</td>\n",
       "      <td>...</td>\n",
       "      <td>12.062500</td>\n",
       "      <td>13.875000</td>\n",
       "      <td>5.375000</td>\n",
       "      <td>0.0</td>\n",
       "      <td>46.687500</td>\n",
       "      <td>2.375000</td>\n",
       "      <td>1.437500</td>\n",
       "      <td>-0.069688</td>\n",
       "      <td>-0.968750</td>\n",
       "      <td>0</td>\n",
       "    </tr>\n",
       "    <tr>\n",
       "      <th>18</th>\n",
       "      <td>ATL</td>\n",
       "      <td>30.200000</td>\n",
       "      <td>2.800000</td>\n",
       "      <td>4.600000</td>\n",
       "      <td>2.800000</td>\n",
       "      <td>3.100000</td>\n",
       "      <td>2.600000</td>\n",
       "      <td>8.600000</td>\n",
       "      <td>33.200000</td>\n",
       "      <td>0.150600</td>\n",
       "      <td>...</td>\n",
       "      <td>11.176471</td>\n",
       "      <td>13.176471</td>\n",
       "      <td>5.882353</td>\n",
       "      <td>0.0</td>\n",
       "      <td>51.529412</td>\n",
       "      <td>2.117647</td>\n",
       "      <td>0.823529</td>\n",
       "      <td>0.121941</td>\n",
       "      <td>0.858824</td>\n",
       "      <td>0</td>\n",
       "    </tr>\n",
       "    <tr>\n",
       "      <th>19</th>\n",
       "      <td>CLE</td>\n",
       "      <td>30.000000</td>\n",
       "      <td>2.000000</td>\n",
       "      <td>4.333333</td>\n",
       "      <td>1.333333</td>\n",
       "      <td>2.000000</td>\n",
       "      <td>2.000000</td>\n",
       "      <td>10.000000</td>\n",
       "      <td>32.666667</td>\n",
       "      <td>0.144333</td>\n",
       "      <td>...</td>\n",
       "      <td>12.250000</td>\n",
       "      <td>12.250000</td>\n",
       "      <td>4.250000</td>\n",
       "      <td>0.0</td>\n",
       "      <td>50.375000</td>\n",
       "      <td>3.125000</td>\n",
       "      <td>0.750000</td>\n",
       "      <td>0.003375</td>\n",
       "      <td>-0.737500</td>\n",
       "      <td>0</td>\n",
       "    </tr>\n",
       "    <tr>\n",
       "      <th>21</th>\n",
       "      <td>MIL</td>\n",
       "      <td>34.666667</td>\n",
       "      <td>3.666667</td>\n",
       "      <td>8.416667</td>\n",
       "      <td>3.333333</td>\n",
       "      <td>3.730833</td>\n",
       "      <td>4.083333</td>\n",
       "      <td>10.083333</td>\n",
       "      <td>39.000000</td>\n",
       "      <td>0.244167</td>\n",
       "      <td>...</td>\n",
       "      <td>11.176471</td>\n",
       "      <td>13.176471</td>\n",
       "      <td>5.882353</td>\n",
       "      <td>0.0</td>\n",
       "      <td>51.529412</td>\n",
       "      <td>2.117647</td>\n",
       "      <td>0.823529</td>\n",
       "      <td>0.121941</td>\n",
       "      <td>0.858824</td>\n",
       "      <td>1</td>\n",
       "    </tr>\n",
       "    <tr>\n",
       "      <th>22</th>\n",
       "      <td>BOS</td>\n",
       "      <td>35.125000</td>\n",
       "      <td>5.687500</td>\n",
       "      <td>8.375000</td>\n",
       "      <td>5.437500</td>\n",
       "      <td>5.710000</td>\n",
       "      <td>4.062500</td>\n",
       "      <td>8.312500</td>\n",
       "      <td>40.000000</td>\n",
       "      <td>0.238750</td>\n",
       "      <td>...</td>\n",
       "      <td>12.250000</td>\n",
       "      <td>12.250000</td>\n",
       "      <td>4.250000</td>\n",
       "      <td>0.0</td>\n",
       "      <td>50.375000</td>\n",
       "      <td>3.125000</td>\n",
       "      <td>0.750000</td>\n",
       "      <td>0.003375</td>\n",
       "      <td>-0.737500</td>\n",
       "      <td>0</td>\n",
       "    </tr>\n",
       "    <tr>\n",
       "      <th>23</th>\n",
       "      <td>MIL</td>\n",
       "      <td>34.666667</td>\n",
       "      <td>3.666667</td>\n",
       "      <td>8.416667</td>\n",
       "      <td>3.333333</td>\n",
       "      <td>3.730833</td>\n",
       "      <td>4.083333</td>\n",
       "      <td>10.083333</td>\n",
       "      <td>39.000000</td>\n",
       "      <td>0.244167</td>\n",
       "      <td>...</td>\n",
       "      <td>11.176471</td>\n",
       "      <td>13.176471</td>\n",
       "      <td>5.882353</td>\n",
       "      <td>0.0</td>\n",
       "      <td>51.529412</td>\n",
       "      <td>2.117647</td>\n",
       "      <td>0.823529</td>\n",
       "      <td>0.121941</td>\n",
       "      <td>0.858824</td>\n",
       "      <td>0</td>\n",
       "    </tr>\n",
       "    <tr>\n",
       "      <th>24</th>\n",
       "      <td>BOS</td>\n",
       "      <td>35.125000</td>\n",
       "      <td>5.687500</td>\n",
       "      <td>8.375000</td>\n",
       "      <td>5.437500</td>\n",
       "      <td>5.710000</td>\n",
       "      <td>4.062500</td>\n",
       "      <td>8.312500</td>\n",
       "      <td>40.000000</td>\n",
       "      <td>0.238750</td>\n",
       "      <td>...</td>\n",
       "      <td>12.250000</td>\n",
       "      <td>12.250000</td>\n",
       "      <td>4.250000</td>\n",
       "      <td>0.0</td>\n",
       "      <td>50.375000</td>\n",
       "      <td>3.125000</td>\n",
       "      <td>0.750000</td>\n",
       "      <td>0.003375</td>\n",
       "      <td>-0.737500</td>\n",
       "      <td>1</td>\n",
       "    </tr>\n",
       "    <tr>\n",
       "      <th>25</th>\n",
       "      <td>LAD</td>\n",
       "      <td>33.941176</td>\n",
       "      <td>3.764706</td>\n",
       "      <td>7.000000</td>\n",
       "      <td>3.529412</td>\n",
       "      <td>3.535294</td>\n",
       "      <td>4.470588</td>\n",
       "      <td>10.647059</td>\n",
       "      <td>39.294118</td>\n",
       "      <td>0.206765</td>\n",
       "      <td>...</td>\n",
       "      <td>11.083333</td>\n",
       "      <td>11.333333</td>\n",
       "      <td>5.250000</td>\n",
       "      <td>0.0</td>\n",
       "      <td>52.166667</td>\n",
       "      <td>2.416667</td>\n",
       "      <td>0.750000</td>\n",
       "      <td>0.088500</td>\n",
       "      <td>0.775000</td>\n",
       "      <td>0</td>\n",
       "    </tr>\n",
       "    <tr>\n",
       "      <th>26</th>\n",
       "      <td>HOU</td>\n",
       "      <td>34.125000</td>\n",
       "      <td>5.250000</td>\n",
       "      <td>8.875000</td>\n",
       "      <td>5.125000</td>\n",
       "      <td>5.157500</td>\n",
       "      <td>4.875000</td>\n",
       "      <td>8.375000</td>\n",
       "      <td>40.125000</td>\n",
       "      <td>0.256250</td>\n",
       "      <td>...</td>\n",
       "      <td>12.062500</td>\n",
       "      <td>13.875000</td>\n",
       "      <td>5.375000</td>\n",
       "      <td>0.0</td>\n",
       "      <td>46.687500</td>\n",
       "      <td>2.375000</td>\n",
       "      <td>1.437500</td>\n",
       "      <td>-0.069688</td>\n",
       "      <td>-0.968750</td>\n",
       "      <td>0</td>\n",
       "    </tr>\n",
       "    <tr>\n",
       "      <th>27</th>\n",
       "      <td>LAD</td>\n",
       "      <td>33.941176</td>\n",
       "      <td>3.764706</td>\n",
       "      <td>7.000000</td>\n",
       "      <td>3.529412</td>\n",
       "      <td>3.535294</td>\n",
       "      <td>4.470588</td>\n",
       "      <td>10.647059</td>\n",
       "      <td>39.294118</td>\n",
       "      <td>0.206765</td>\n",
       "      <td>...</td>\n",
       "      <td>11.083333</td>\n",
       "      <td>11.333333</td>\n",
       "      <td>5.250000</td>\n",
       "      <td>0.0</td>\n",
       "      <td>52.166667</td>\n",
       "      <td>2.416667</td>\n",
       "      <td>0.750000</td>\n",
       "      <td>0.088500</td>\n",
       "      <td>0.775000</td>\n",
       "      <td>1</td>\n",
       "    </tr>\n",
       "    <tr>\n",
       "      <th>33</th>\n",
       "      <td>BOS</td>\n",
       "      <td>35.125000</td>\n",
       "      <td>5.687500</td>\n",
       "      <td>8.375000</td>\n",
       "      <td>5.437500</td>\n",
       "      <td>5.710000</td>\n",
       "      <td>4.062500</td>\n",
       "      <td>8.312500</td>\n",
       "      <td>40.000000</td>\n",
       "      <td>0.238750</td>\n",
       "      <td>...</td>\n",
       "      <td>11.176471</td>\n",
       "      <td>13.176471</td>\n",
       "      <td>5.882353</td>\n",
       "      <td>0.0</td>\n",
       "      <td>51.529412</td>\n",
       "      <td>2.117647</td>\n",
       "      <td>0.823529</td>\n",
       "      <td>0.121941</td>\n",
       "      <td>0.858824</td>\n",
       "      <td>1</td>\n",
       "    </tr>\n",
       "    <tr>\n",
       "      <th>35</th>\n",
       "      <td>LAD</td>\n",
       "      <td>33.941176</td>\n",
       "      <td>3.764706</td>\n",
       "      <td>7.000000</td>\n",
       "      <td>3.529412</td>\n",
       "      <td>3.535294</td>\n",
       "      <td>4.470588</td>\n",
       "      <td>10.647059</td>\n",
       "      <td>39.294118</td>\n",
       "      <td>0.206765</td>\n",
       "      <td>...</td>\n",
       "      <td>12.062500</td>\n",
       "      <td>13.875000</td>\n",
       "      <td>5.375000</td>\n",
       "      <td>0.0</td>\n",
       "      <td>46.687500</td>\n",
       "      <td>2.375000</td>\n",
       "      <td>1.437500</td>\n",
       "      <td>-0.069688</td>\n",
       "      <td>-0.968750</td>\n",
       "      <td>1</td>\n",
       "    </tr>\n",
       "    <tr>\n",
       "      <th>36</th>\n",
       "      <td>LAD</td>\n",
       "      <td>33.941176</td>\n",
       "      <td>3.764706</td>\n",
       "      <td>7.000000</td>\n",
       "      <td>3.529412</td>\n",
       "      <td>3.535294</td>\n",
       "      <td>4.470588</td>\n",
       "      <td>10.647059</td>\n",
       "      <td>39.294118</td>\n",
       "      <td>0.206765</td>\n",
       "      <td>...</td>\n",
       "      <td>12.062500</td>\n",
       "      <td>13.875000</td>\n",
       "      <td>5.375000</td>\n",
       "      <td>0.0</td>\n",
       "      <td>46.687500</td>\n",
       "      <td>2.375000</td>\n",
       "      <td>1.437500</td>\n",
       "      <td>-0.069688</td>\n",
       "      <td>-0.968750</td>\n",
       "      <td>0</td>\n",
       "    </tr>\n",
       "  </tbody>\n",
       "</table>\n",
       "<p>22 rows × 143 columns</p>\n",
       "</div>"
      ],
      "text/plain": [
       "   H_name  H_at_bats    H_runs    H_hits     H_rbi  H_earned_runs  \\\n",
       "0     CHC  43.000000  1.000000  6.000000  1.000000       0.690000   \n",
       "1     NYY  32.857143  4.428571  7.571429  4.428571       4.554286   \n",
       "2     MIL  34.666667  3.666667  8.416667  3.333333       3.730833   \n",
       "4     LAD  33.941176  3.764706  7.000000  3.529412       3.535294   \n",
       "5     BOS  35.125000  5.687500  8.375000  5.437500       5.710000   \n",
       "7     HOU  34.125000  5.250000  8.875000  5.125000       5.157500   \n",
       "12    BOS  35.125000  5.687500  8.375000  5.437500       5.710000   \n",
       "14    ATL  30.200000  2.800000  4.600000  2.800000       3.100000   \n",
       "15    COL  34.833333  1.000000  5.833333  1.000000       0.830000   \n",
       "17    NYY  32.857143  4.428571  7.571429  4.428571       4.554286   \n",
       "18    ATL  30.200000  2.800000  4.600000  2.800000       3.100000   \n",
       "19    CLE  30.000000  2.000000  4.333333  1.333333       2.000000   \n",
       "21    MIL  34.666667  3.666667  8.416667  3.333333       3.730833   \n",
       "22    BOS  35.125000  5.687500  8.375000  5.437500       5.710000   \n",
       "23    MIL  34.666667  3.666667  8.416667  3.333333       3.730833   \n",
       "24    BOS  35.125000  5.687500  8.375000  5.437500       5.710000   \n",
       "25    LAD  33.941176  3.764706  7.000000  3.529412       3.535294   \n",
       "26    HOU  34.125000  5.250000  8.875000  5.125000       5.157500   \n",
       "27    LAD  33.941176  3.764706  7.000000  3.529412       3.535294   \n",
       "33    BOS  35.125000  5.687500  8.375000  5.437500       5.710000   \n",
       "35    LAD  33.941176  3.764706  7.000000  3.529412       3.535294   \n",
       "36    LAD  33.941176  3.764706  7.000000  3.529412       3.535294   \n",
       "\n",
       "    H_bases_on_balls  H_strikeouts  H_plate_appearances  H_batting_average  \\\n",
       "0           5.000000     16.000000            50.000000           0.140000   \n",
       "1           4.428571      8.142857            38.000000           0.227857   \n",
       "2           4.083333     10.083333            39.000000           0.244167   \n",
       "4           4.470588     10.647059            39.294118           0.206765   \n",
       "5           4.062500      8.312500            40.000000           0.238750   \n",
       "7           4.875000      8.375000            40.125000           0.256250   \n",
       "12          4.062500      8.312500            40.000000           0.238750   \n",
       "14          2.600000      8.600000            33.200000           0.150600   \n",
       "15          2.666667     10.833333            38.000000           0.162000   \n",
       "17          4.428571      8.142857            38.000000           0.227857   \n",
       "18          2.600000      8.600000            33.200000           0.150600   \n",
       "19          2.000000     10.000000            32.666667           0.144333   \n",
       "21          4.083333     10.083333            39.000000           0.244167   \n",
       "22          4.062500      8.312500            40.000000           0.238750   \n",
       "23          4.083333     10.083333            39.000000           0.244167   \n",
       "24          4.062500      8.312500            40.000000           0.238750   \n",
       "25          4.470588     10.647059            39.294118           0.206765   \n",
       "26          4.875000      8.375000            40.125000           0.256250   \n",
       "27          4.470588     10.647059            39.294118           0.206765   \n",
       "33          4.062500      8.312500            40.000000           0.238750   \n",
       "35          4.470588     10.647059            39.294118           0.206765   \n",
       "36          4.470588     10.647059            39.294118           0.206765   \n",
       "\n",
       "    ...  A_Opp_grounded_balls  A_Opp_fly_balls  A_Opp_line_drives  \\\n",
       "0   ...             11.666667        14.333333           6.666667   \n",
       "1   ...             11.000000        13.000000           7.000000   \n",
       "2   ...             11.666667        14.333333           6.666667   \n",
       "4   ...             10.000000        12.200000           5.200000   \n",
       "5   ...             13.285714        13.142857           6.714286   \n",
       "7   ...             11.000000        16.000000           6.666667   \n",
       "12  ...             13.285714        13.142857           6.714286   \n",
       "14  ...             11.176471        13.176471           5.882353   \n",
       "15  ...             11.083333        11.333333           5.250000   \n",
       "17  ...             12.062500        13.875000           5.375000   \n",
       "18  ...             11.176471        13.176471           5.882353   \n",
       "19  ...             12.250000        12.250000           4.250000   \n",
       "21  ...             11.176471        13.176471           5.882353   \n",
       "22  ...             12.250000        12.250000           4.250000   \n",
       "23  ...             11.176471        13.176471           5.882353   \n",
       "24  ...             12.250000        12.250000           4.250000   \n",
       "25  ...             11.083333        11.333333           5.250000   \n",
       "26  ...             12.062500        13.875000           5.375000   \n",
       "27  ...             11.083333        11.333333           5.250000   \n",
       "33  ...             11.176471        13.176471           5.882353   \n",
       "35  ...             12.062500        13.875000           5.375000   \n",
       "36  ...             12.062500        13.875000           5.375000   \n",
       "\n",
       "    A_Opp_unknown_bat_type  A_Opp_game_score  A_Opp_inherited_runners  \\\n",
       "0                      0.0         61.833333                 1.333333   \n",
       "1                      0.0         61.000000                 2.000000   \n",
       "2                      0.0         61.833333                 1.333333   \n",
       "4                      0.0         59.400000                 1.000000   \n",
       "5                      0.0         49.857143                 3.285714   \n",
       "7                      0.0         64.000000                 1.333333   \n",
       "12                     0.0         49.857143                 3.285714   \n",
       "14                     0.0         51.529412                 2.117647   \n",
       "15                     0.0         52.166667                 2.416667   \n",
       "17                     0.0         46.687500                 2.375000   \n",
       "18                     0.0         51.529412                 2.117647   \n",
       "19                     0.0         50.375000                 3.125000   \n",
       "21                     0.0         51.529412                 2.117647   \n",
       "22                     0.0         50.375000                 3.125000   \n",
       "23                     0.0         51.529412                 2.117647   \n",
       "24                     0.0         50.375000                 3.125000   \n",
       "25                     0.0         52.166667                 2.416667   \n",
       "26                     0.0         46.687500                 2.375000   \n",
       "27                     0.0         52.166667                 2.416667   \n",
       "33                     0.0         51.529412                 2.117647   \n",
       "35                     0.0         46.687500                 2.375000   \n",
       "36                     0.0         46.687500                 2.375000   \n",
       "\n",
       "    A_Opp_inherited_score  A_Opp_win_probability_by_pitcher  \\\n",
       "0                0.000000                          0.468500   \n",
       "1                0.000000                          0.346000   \n",
       "2                0.000000                          0.468500   \n",
       "4                0.000000                          0.062600   \n",
       "5                1.000000                          0.090143   \n",
       "7                0.666667                          0.291333   \n",
       "12               1.000000                          0.090143   \n",
       "14               0.823529                          0.121941   \n",
       "15               0.750000                          0.088500   \n",
       "17               1.437500                         -0.069688   \n",
       "18               0.823529                          0.121941   \n",
       "19               0.750000                          0.003375   \n",
       "21               0.823529                          0.121941   \n",
       "22               0.750000                          0.003375   \n",
       "23               0.823529                          0.121941   \n",
       "24               0.750000                          0.003375   \n",
       "25               0.750000                          0.088500   \n",
       "26               1.437500                         -0.069688   \n",
       "27               0.750000                          0.088500   \n",
       "33               0.823529                          0.121941   \n",
       "35               1.437500                         -0.069688   \n",
       "36               1.437500                         -0.069688   \n",
       "\n",
       "    A_Opp_base_out_runs_saved  home_win  \n",
       "0                    4.033333         0  \n",
       "1                    2.600000         1  \n",
       "2                    4.033333         1  \n",
       "4                    1.360000         1  \n",
       "5                    0.214286         1  \n",
       "7                    2.633333         1  \n",
       "12                   0.214286         0  \n",
       "14                   0.858824         1  \n",
       "15                   0.775000         0  \n",
       "17                  -0.968750         0  \n",
       "18                   0.858824         0  \n",
       "19                  -0.737500         0  \n",
       "21                   0.858824         1  \n",
       "22                  -0.737500         0  \n",
       "23                   0.858824         0  \n",
       "24                  -0.737500         1  \n",
       "25                   0.775000         0  \n",
       "26                  -0.968750         0  \n",
       "27                   0.775000         1  \n",
       "33                   0.858824         1  \n",
       "35                  -0.968750         1  \n",
       "36                  -0.968750         0  \n",
       "\n",
       "[22 rows x 143 columns]"
      ]
     },
     "execution_count": 11,
     "metadata": {},
     "output_type": "execute_result"
    }
   ],
   "source": [
    "df2.drop_duplicates(inplace=True)\n",
    "df2"
   ]
  },
  {
   "cell_type": "code",
   "execution_count": 12,
   "metadata": {
    "ExecuteTime": {
     "end_time": "2022-01-18T20:12:41.119864Z",
     "start_time": "2022-01-18T20:12:41.083590Z"
    }
   },
   "outputs": [
    {
     "data": {
      "text/html": [
       "<div>\n",
       "<style scoped>\n",
       "    .dataframe tbody tr th:only-of-type {\n",
       "        vertical-align: middle;\n",
       "    }\n",
       "\n",
       "    .dataframe tbody tr th {\n",
       "        vertical-align: top;\n",
       "    }\n",
       "\n",
       "    .dataframe thead th {\n",
       "        text-align: right;\n",
       "    }\n",
       "</style>\n",
       "<table border=\"1\" class=\"dataframe\">\n",
       "  <thead>\n",
       "    <tr style=\"text-align: right;\">\n",
       "      <th></th>\n",
       "      <th>H_name</th>\n",
       "      <th>H_at_bats</th>\n",
       "      <th>H_runs</th>\n",
       "      <th>H_hits</th>\n",
       "      <th>H_rbi</th>\n",
       "      <th>H_earned_runs</th>\n",
       "      <th>H_bases_on_balls</th>\n",
       "      <th>H_strikeouts</th>\n",
       "      <th>H_plate_appearances</th>\n",
       "      <th>H_batting_average</th>\n",
       "      <th>...</th>\n",
       "      <th>A_Opp_strikes_swinging</th>\n",
       "      <th>A_Opp_strikes_looking</th>\n",
       "      <th>A_Opp_grounded_balls</th>\n",
       "      <th>A_Opp_fly_balls</th>\n",
       "      <th>A_Opp_line_drives</th>\n",
       "      <th>A_Opp_unknown_bat_type</th>\n",
       "      <th>A_Opp_game_score</th>\n",
       "      <th>A_Opp_win_probability_by_pitcher</th>\n",
       "      <th>A_Opp_base_out_runs_saved</th>\n",
       "      <th>home_win</th>\n",
       "    </tr>\n",
       "  </thead>\n",
       "  <tbody>\n",
       "    <tr>\n",
       "      <th>0</th>\n",
       "      <td>NYM</td>\n",
       "      <td>33.753086</td>\n",
       "      <td>4.172840</td>\n",
       "      <td>7.913580</td>\n",
       "      <td>4.006173</td>\n",
       "      <td>3.957531</td>\n",
       "      <td>3.493827</td>\n",
       "      <td>8.666667</td>\n",
       "      <td>38.129630</td>\n",
       "      <td>0.227963</td>\n",
       "      <td>...</td>\n",
       "      <td>16.104938</td>\n",
       "      <td>25.104938</td>\n",
       "      <td>12.265432</td>\n",
       "      <td>14.135802</td>\n",
       "      <td>6.796296</td>\n",
       "      <td>0.012346</td>\n",
       "      <td>50.376543</td>\n",
       "      <td>-0.040932</td>\n",
       "      <td>-0.425309</td>\n",
       "      <td>1</td>\n",
       "    </tr>\n",
       "    <tr>\n",
       "      <th>1</th>\n",
       "      <td>TEX</td>\n",
       "      <td>33.660494</td>\n",
       "      <td>4.549383</td>\n",
       "      <td>8.074074</td>\n",
       "      <td>4.296296</td>\n",
       "      <td>4.298580</td>\n",
       "      <td>3.425926</td>\n",
       "      <td>9.160494</td>\n",
       "      <td>38.043210</td>\n",
       "      <td>0.234926</td>\n",
       "      <td>...</td>\n",
       "      <td>18.549383</td>\n",
       "      <td>25.808642</td>\n",
       "      <td>10.456790</td>\n",
       "      <td>12.543210</td>\n",
       "      <td>5.716049</td>\n",
       "      <td>0.006173</td>\n",
       "      <td>48.870370</td>\n",
       "      <td>-0.019704</td>\n",
       "      <td>-0.457407</td>\n",
       "      <td>0</td>\n",
       "    </tr>\n",
       "    <tr>\n",
       "      <th>2</th>\n",
       "      <td>MIA</td>\n",
       "      <td>34.086957</td>\n",
       "      <td>3.658385</td>\n",
       "      <td>8.093168</td>\n",
       "      <td>3.440994</td>\n",
       "      <td>3.325901</td>\n",
       "      <td>2.826087</td>\n",
       "      <td>8.596273</td>\n",
       "      <td>37.782609</td>\n",
       "      <td>0.232317</td>\n",
       "      <td>...</td>\n",
       "      <td>15.185185</td>\n",
       "      <td>26.271605</td>\n",
       "      <td>12.117284</td>\n",
       "      <td>13.913580</td>\n",
       "      <td>6.697531</td>\n",
       "      <td>0.012346</td>\n",
       "      <td>51.425926</td>\n",
       "      <td>-0.004728</td>\n",
       "      <td>-0.308642</td>\n",
       "      <td>0</td>\n",
       "    </tr>\n",
       "    <tr>\n",
       "      <th>3</th>\n",
       "      <td>KCR</td>\n",
       "      <td>33.981481</td>\n",
       "      <td>3.938272</td>\n",
       "      <td>8.333333</td>\n",
       "      <td>3.740741</td>\n",
       "      <td>3.663580</td>\n",
       "      <td>2.635802</td>\n",
       "      <td>8.086420</td>\n",
       "      <td>37.425926</td>\n",
       "      <td>0.241000</td>\n",
       "      <td>...</td>\n",
       "      <td>15.055556</td>\n",
       "      <td>24.962963</td>\n",
       "      <td>11.197531</td>\n",
       "      <td>15.561728</td>\n",
       "      <td>6.635802</td>\n",
       "      <td>0.012346</td>\n",
       "      <td>54.080247</td>\n",
       "      <td>0.056796</td>\n",
       "      <td>0.490741</td>\n",
       "      <td>0</td>\n",
       "    </tr>\n",
       "    <tr>\n",
       "      <th>4</th>\n",
       "      <td>SDP</td>\n",
       "      <td>33.864198</td>\n",
       "      <td>3.808642</td>\n",
       "      <td>7.956790</td>\n",
       "      <td>3.598765</td>\n",
       "      <td>3.550988</td>\n",
       "      <td>2.907407</td>\n",
       "      <td>9.401235</td>\n",
       "      <td>37.401235</td>\n",
       "      <td>0.231272</td>\n",
       "      <td>...</td>\n",
       "      <td>16.623457</td>\n",
       "      <td>25.216049</td>\n",
       "      <td>11.290123</td>\n",
       "      <td>13.728395</td>\n",
       "      <td>6.413580</td>\n",
       "      <td>0.012346</td>\n",
       "      <td>50.697531</td>\n",
       "      <td>-0.045049</td>\n",
       "      <td>-0.317284</td>\n",
       "      <td>0</td>\n",
       "    </tr>\n",
       "  </tbody>\n",
       "</table>\n",
       "<p>5 rows × 131 columns</p>\n",
       "</div>"
      ],
      "text/plain": [
       "  H_name  H_at_bats    H_runs    H_hits     H_rbi  H_earned_runs  \\\n",
       "0    NYM  33.753086  4.172840  7.913580  4.006173       3.957531   \n",
       "1    TEX  33.660494  4.549383  8.074074  4.296296       4.298580   \n",
       "2    MIA  34.086957  3.658385  8.093168  3.440994       3.325901   \n",
       "3    KCR  33.981481  3.938272  8.333333  3.740741       3.663580   \n",
       "4    SDP  33.864198  3.808642  7.956790  3.598765       3.550988   \n",
       "\n",
       "   H_bases_on_balls  H_strikeouts  H_plate_appearances  H_batting_average  \\\n",
       "0          3.493827      8.666667            38.129630           0.227963   \n",
       "1          3.425926      9.160494            38.043210           0.234926   \n",
       "2          2.826087      8.596273            37.782609           0.232317   \n",
       "3          2.635802      8.086420            37.425926           0.241000   \n",
       "4          2.907407      9.401235            37.401235           0.231272   \n",
       "\n",
       "   ...  A_Opp_strikes_swinging  A_Opp_strikes_looking  A_Opp_grounded_balls  \\\n",
       "0  ...               16.104938              25.104938             12.265432   \n",
       "1  ...               18.549383              25.808642             10.456790   \n",
       "2  ...               15.185185              26.271605             12.117284   \n",
       "3  ...               15.055556              24.962963             11.197531   \n",
       "4  ...               16.623457              25.216049             11.290123   \n",
       "\n",
       "   A_Opp_fly_balls  A_Opp_line_drives  A_Opp_unknown_bat_type  \\\n",
       "0        14.135802           6.796296                0.012346   \n",
       "1        12.543210           5.716049                0.006173   \n",
       "2        13.913580           6.697531                0.012346   \n",
       "3        15.561728           6.635802                0.012346   \n",
       "4        13.728395           6.413580                0.012346   \n",
       "\n",
       "   A_Opp_game_score  A_Opp_win_probability_by_pitcher  \\\n",
       "0         50.376543                         -0.040932   \n",
       "1         48.870370                         -0.019704   \n",
       "2         51.425926                         -0.004728   \n",
       "3         54.080247                          0.056796   \n",
       "4         50.697531                         -0.045049   \n",
       "\n",
       "   A_Opp_base_out_runs_saved  home_win  \n",
       "0                  -0.425309         1  \n",
       "1                  -0.457407         0  \n",
       "2                  -0.308642         0  \n",
       "3                   0.490741         0  \n",
       "4                  -0.317284         0  \n",
       "\n",
       "[5 rows x 131 columns]"
      ]
     },
     "execution_count": 12,
     "metadata": {},
     "output_type": "execute_result"
    }
   ],
   "source": [
    "df.head()"
   ]
  },
  {
   "cell_type": "code",
   "execution_count": 30,
   "metadata": {
    "ExecuteTime": {
     "end_time": "2022-01-13T16:59:26.610073Z",
     "start_time": "2022-01-13T16:59:26.605355Z"
    }
   },
   "outputs": [],
   "source": [
    "#for col in X_train.columns:\n",
    "    #print(col)"
   ]
  },
  {
   "cell_type": "code",
   "execution_count": 13,
   "metadata": {
    "ExecuteTime": {
     "end_time": "2022-01-18T20:12:44.133200Z",
     "start_time": "2022-01-18T20:12:44.129177Z"
    }
   },
   "outputs": [],
   "source": [
    "zero_importance_list=['H_runs','H_slugging_percentage','H_on_base_plus','H_base_out_runs_added','H_putouts',\n",
    "                     'H_Opp_on_base_percentage','A_batting_average','A_win_probability_for_offensive_player',\n",
    "                     'A_putouts']"
   ]
  },
  {
   "cell_type": "code",
   "execution_count": 14,
   "metadata": {
    "ExecuteTime": {
     "end_time": "2022-01-18T20:12:44.517016Z",
     "start_time": "2022-01-18T20:12:44.514540Z"
    }
   },
   "outputs": [],
   "source": [
    "tiny_importance_list=['H_at_bats','H_win_probability_added','H_fly_balls']"
   ]
  },
  {
   "cell_type": "code",
   "execution_count": 21,
   "metadata": {
    "ExecuteTime": {
     "end_time": "2022-01-18T20:13:35.922163Z",
     "start_time": "2022-01-18T20:13:35.886406Z"
    }
   },
   "outputs": [
    {
     "data": {
      "text/html": [
       "<div>\n",
       "<style scoped>\n",
       "    .dataframe tbody tr th:only-of-type {\n",
       "        vertical-align: middle;\n",
       "    }\n",
       "\n",
       "    .dataframe tbody tr th {\n",
       "        vertical-align: top;\n",
       "    }\n",
       "\n",
       "    .dataframe thead th {\n",
       "        text-align: right;\n",
       "    }\n",
       "</style>\n",
       "<table border=\"1\" class=\"dataframe\">\n",
       "  <thead>\n",
       "    <tr style=\"text-align: right;\">\n",
       "      <th></th>\n",
       "      <th>H_name</th>\n",
       "      <th>H_at_bats</th>\n",
       "      <th>H_runs</th>\n",
       "      <th>H_hits</th>\n",
       "      <th>H_rbi</th>\n",
       "      <th>H_earned_runs</th>\n",
       "      <th>H_bases_on_balls</th>\n",
       "      <th>H_strikeouts</th>\n",
       "      <th>H_plate_appearances</th>\n",
       "      <th>H_batting_average</th>\n",
       "      <th>...</th>\n",
       "      <th>A_Opp_strikes_swinging</th>\n",
       "      <th>A_Opp_strikes_looking</th>\n",
       "      <th>A_Opp_grounded_balls</th>\n",
       "      <th>A_Opp_fly_balls</th>\n",
       "      <th>A_Opp_line_drives</th>\n",
       "      <th>A_Opp_unknown_bat_type</th>\n",
       "      <th>A_Opp_game_score</th>\n",
       "      <th>A_Opp_win_probability_by_pitcher</th>\n",
       "      <th>A_Opp_base_out_runs_saved</th>\n",
       "      <th>home_win</th>\n",
       "    </tr>\n",
       "  </thead>\n",
       "  <tbody>\n",
       "    <tr>\n",
       "      <th>0</th>\n",
       "      <td>NYM</td>\n",
       "      <td>33.753086</td>\n",
       "      <td>4.172840</td>\n",
       "      <td>7.913580</td>\n",
       "      <td>4.006173</td>\n",
       "      <td>3.957531</td>\n",
       "      <td>3.493827</td>\n",
       "      <td>8.666667</td>\n",
       "      <td>38.129630</td>\n",
       "      <td>0.227963</td>\n",
       "      <td>...</td>\n",
       "      <td>16.104938</td>\n",
       "      <td>25.104938</td>\n",
       "      <td>12.265432</td>\n",
       "      <td>14.135802</td>\n",
       "      <td>6.796296</td>\n",
       "      <td>0.012346</td>\n",
       "      <td>50.376543</td>\n",
       "      <td>-0.040932</td>\n",
       "      <td>-0.425309</td>\n",
       "      <td>1</td>\n",
       "    </tr>\n",
       "    <tr>\n",
       "      <th>1</th>\n",
       "      <td>TEX</td>\n",
       "      <td>33.660494</td>\n",
       "      <td>4.549383</td>\n",
       "      <td>8.074074</td>\n",
       "      <td>4.296296</td>\n",
       "      <td>4.298580</td>\n",
       "      <td>3.425926</td>\n",
       "      <td>9.160494</td>\n",
       "      <td>38.043210</td>\n",
       "      <td>0.234926</td>\n",
       "      <td>...</td>\n",
       "      <td>18.549383</td>\n",
       "      <td>25.808642</td>\n",
       "      <td>10.456790</td>\n",
       "      <td>12.543210</td>\n",
       "      <td>5.716049</td>\n",
       "      <td>0.006173</td>\n",
       "      <td>48.870370</td>\n",
       "      <td>-0.019704</td>\n",
       "      <td>-0.457407</td>\n",
       "      <td>0</td>\n",
       "    </tr>\n",
       "    <tr>\n",
       "      <th>2</th>\n",
       "      <td>MIA</td>\n",
       "      <td>34.086957</td>\n",
       "      <td>3.658385</td>\n",
       "      <td>8.093168</td>\n",
       "      <td>3.440994</td>\n",
       "      <td>3.325901</td>\n",
       "      <td>2.826087</td>\n",
       "      <td>8.596273</td>\n",
       "      <td>37.782609</td>\n",
       "      <td>0.232317</td>\n",
       "      <td>...</td>\n",
       "      <td>15.185185</td>\n",
       "      <td>26.271605</td>\n",
       "      <td>12.117284</td>\n",
       "      <td>13.913580</td>\n",
       "      <td>6.697531</td>\n",
       "      <td>0.012346</td>\n",
       "      <td>51.425926</td>\n",
       "      <td>-0.004728</td>\n",
       "      <td>-0.308642</td>\n",
       "      <td>0</td>\n",
       "    </tr>\n",
       "    <tr>\n",
       "      <th>3</th>\n",
       "      <td>KCR</td>\n",
       "      <td>33.981481</td>\n",
       "      <td>3.938272</td>\n",
       "      <td>8.333333</td>\n",
       "      <td>3.740741</td>\n",
       "      <td>3.663580</td>\n",
       "      <td>2.635802</td>\n",
       "      <td>8.086420</td>\n",
       "      <td>37.425926</td>\n",
       "      <td>0.241000</td>\n",
       "      <td>...</td>\n",
       "      <td>15.055556</td>\n",
       "      <td>24.962963</td>\n",
       "      <td>11.197531</td>\n",
       "      <td>15.561728</td>\n",
       "      <td>6.635802</td>\n",
       "      <td>0.012346</td>\n",
       "      <td>54.080247</td>\n",
       "      <td>0.056796</td>\n",
       "      <td>0.490741</td>\n",
       "      <td>0</td>\n",
       "    </tr>\n",
       "    <tr>\n",
       "      <th>4</th>\n",
       "      <td>SDP</td>\n",
       "      <td>33.864198</td>\n",
       "      <td>3.808642</td>\n",
       "      <td>7.956790</td>\n",
       "      <td>3.598765</td>\n",
       "      <td>3.550988</td>\n",
       "      <td>2.907407</td>\n",
       "      <td>9.401235</td>\n",
       "      <td>37.401235</td>\n",
       "      <td>0.231272</td>\n",
       "      <td>...</td>\n",
       "      <td>16.623457</td>\n",
       "      <td>25.216049</td>\n",
       "      <td>11.290123</td>\n",
       "      <td>13.728395</td>\n",
       "      <td>6.413580</td>\n",
       "      <td>0.012346</td>\n",
       "      <td>50.697531</td>\n",
       "      <td>-0.045049</td>\n",
       "      <td>-0.317284</td>\n",
       "      <td>0</td>\n",
       "    </tr>\n",
       "  </tbody>\n",
       "</table>\n",
       "<p>5 rows × 131 columns</p>\n",
       "</div>"
      ],
      "text/plain": [
       "  H_name  H_at_bats    H_runs    H_hits     H_rbi  H_earned_runs  \\\n",
       "0    NYM  33.753086  4.172840  7.913580  4.006173       3.957531   \n",
       "1    TEX  33.660494  4.549383  8.074074  4.296296       4.298580   \n",
       "2    MIA  34.086957  3.658385  8.093168  3.440994       3.325901   \n",
       "3    KCR  33.981481  3.938272  8.333333  3.740741       3.663580   \n",
       "4    SDP  33.864198  3.808642  7.956790  3.598765       3.550988   \n",
       "\n",
       "   H_bases_on_balls  H_strikeouts  H_plate_appearances  H_batting_average  \\\n",
       "0          3.493827      8.666667            38.129630           0.227963   \n",
       "1          3.425926      9.160494            38.043210           0.234926   \n",
       "2          2.826087      8.596273            37.782609           0.232317   \n",
       "3          2.635802      8.086420            37.425926           0.241000   \n",
       "4          2.907407      9.401235            37.401235           0.231272   \n",
       "\n",
       "   ...  A_Opp_strikes_swinging  A_Opp_strikes_looking  A_Opp_grounded_balls  \\\n",
       "0  ...               16.104938              25.104938             12.265432   \n",
       "1  ...               18.549383              25.808642             10.456790   \n",
       "2  ...               15.185185              26.271605             12.117284   \n",
       "3  ...               15.055556              24.962963             11.197531   \n",
       "4  ...               16.623457              25.216049             11.290123   \n",
       "\n",
       "   A_Opp_fly_balls  A_Opp_line_drives  A_Opp_unknown_bat_type  \\\n",
       "0        14.135802           6.796296                0.012346   \n",
       "1        12.543210           5.716049                0.006173   \n",
       "2        13.913580           6.697531                0.012346   \n",
       "3        15.561728           6.635802                0.012346   \n",
       "4        13.728395           6.413580                0.012346   \n",
       "\n",
       "   A_Opp_game_score  A_Opp_win_probability_by_pitcher  \\\n",
       "0         50.376543                         -0.040932   \n",
       "1         48.870370                         -0.019704   \n",
       "2         51.425926                         -0.004728   \n",
       "3         54.080247                          0.056796   \n",
       "4         50.697531                         -0.045049   \n",
       "\n",
       "   A_Opp_base_out_runs_saved  home_win  \n",
       "0                  -0.425309         1  \n",
       "1                  -0.457407         0  \n",
       "2                  -0.308642         0  \n",
       "3                   0.490741         0  \n",
       "4                  -0.317284         0  \n",
       "\n",
       "[5 rows x 131 columns]"
      ]
     },
     "execution_count": 21,
     "metadata": {},
     "output_type": "execute_result"
    }
   ],
   "source": [
    "df.head()"
   ]
  },
  {
   "cell_type": "code",
   "execution_count": 34,
   "metadata": {
    "ExecuteTime": {
     "end_time": "2022-01-18T20:17:49.520594Z",
     "start_time": "2022-01-18T20:17:49.514597Z"
    }
   },
   "outputs": [],
   "source": [
    "df2.drop(droper,axis=1,inplace=True)"
   ]
  },
  {
   "cell_type": "code",
   "execution_count": 33,
   "metadata": {
    "ExecuteTime": {
     "end_time": "2022-01-18T20:17:38.044180Z",
     "start_time": "2022-01-18T20:17:38.036299Z"
    }
   },
   "outputs": [],
   "source": [
    "set(dd) - set(dr)\n",
    "droper=list(set(dd) - set(dr))"
   ]
  },
  {
   "cell_type": "code",
   "execution_count": 35,
   "metadata": {
    "ExecuteTime": {
     "end_time": "2022-01-18T20:17:51.406240Z",
     "start_time": "2022-01-18T20:17:51.399750Z"
    }
   },
   "outputs": [],
   "source": [
    "def data_preprocessing(df, df2):\n",
    "    X_train = df.drop(['home_win','H_name','A_name'], axis=1)\n",
    "    X_test = df2.drop(['home_win','H_name','A_name'], axis=1)\n",
    "    y_train = df.home_win\n",
    "    y_test= df2.home_win\n",
    "    \n",
    "    ss = StandardScaler()\n",
    "    X_train_scaled = ss.fit_transform(X_train)\n",
    "    X_test_scaled = ss.transform(X_test)\n",
    "    \n",
    "    X_train_scaled = pd.DataFrame(X_train_scaled, columns=X_train.columns)\n",
    "    X_test_scaled = pd.DataFrame(X_test_scaled, columns=X_test.columns)\n",
    "    \n",
    "    return X_train_scaled, X_test_scaled,y_train,y_test"
   ]
  },
  {
   "cell_type": "code",
   "execution_count": 36,
   "metadata": {
    "ExecuteTime": {
     "end_time": "2022-01-18T20:17:52.087285Z",
     "start_time": "2022-01-18T20:17:52.041051Z"
    }
   },
   "outputs": [],
   "source": [
    "X_train_scaled,X_test_scaled,y_train,y_test=data_preprocessing(df,df2)"
   ]
  },
  {
   "cell_type": "code",
   "execution_count": 38,
   "metadata": {
    "ExecuteTime": {
     "end_time": "2022-01-18T20:18:06.095897Z",
     "start_time": "2022-01-18T20:18:06.089917Z"
    }
   },
   "outputs": [],
   "source": [
    "# X_test_scaled.drop(['H_Opp_inherited_score','H_Opp_game_score','H_Opp_unknown_bat_type',\n",
    "#                     'H_Opp_inherited_runners'],axis=1,inplace=True)"
   ]
  },
  {
   "cell_type": "code",
   "execution_count": 87,
   "metadata": {
    "ExecuteTime": {
     "end_time": "2022-01-18T19:05:38.111553Z",
     "start_time": "2022-01-18T19:05:38.092488Z"
    }
   },
   "outputs": [],
   "source": [
    "X_train_scaled.drop(['H_Opp_inherited_score','H_Opp_game_score','H_Opp_unknown_bat_type',\n",
    "                    'H_Opp_inherited_runners'],axis=1,inplace=True)"
   ]
  },
  {
   "cell_type": "code",
   "execution_count": 39,
   "metadata": {
    "ExecuteTime": {
     "end_time": "2022-01-18T20:18:11.666834Z",
     "start_time": "2022-01-18T20:18:11.658710Z"
    }
   },
   "outputs": [],
   "source": [
    "zero_imp_train=X_train_scaled.drop(zero_importance_list,axis=1)\n",
    "zero_imp_test=X_test_scaled.drop(zero_importance_list,axis=1)"
   ]
  },
  {
   "cell_type": "markdown",
   "metadata": {},
   "source": [
    "## Feature Selection"
   ]
  },
  {
   "cell_type": "code",
   "execution_count": 71,
   "metadata": {
    "ExecuteTime": {
     "end_time": "2022-01-14T15:55:59.195279Z",
     "start_time": "2022-01-14T15:55:59.189989Z"
    }
   },
   "outputs": [],
   "source": [
    "# pca=PCA(n_components=0.7)\n",
    "# train_pca=pca.fit_transform(X_train_scaled)\n",
    "# test_pca=pca.transform(X_test_scaled)"
   ]
  },
  {
   "cell_type": "code",
   "execution_count": 51,
   "metadata": {
    "ExecuteTime": {
     "end_time": "2022-01-14T15:41:50.977209Z",
     "start_time": "2022-01-14T15:41:50.796700Z"
    }
   },
   "outputs": [
    {
     "data": {
      "image/png": "[encoded data removed]",
      "text/plain": [
       "<Figure size 432x288 with 1 Axes>"
      ]
     },
     "metadata": {
      "needs_background": "light"
     },
     "output_type": "display_data"
    }
   ],
   "source": [
    "#plt.scatter(train_pca[:,0], train_pca[:,1]);"
   ]
  },
  {
   "cell_type": "code",
   "execution_count": 40,
   "metadata": {
    "ExecuteTime": {
     "end_time": "2022-01-18T20:18:15.033551Z",
     "start_time": "2022-01-18T20:18:15.024920Z"
    }
   },
   "outputs": [],
   "source": [
    "def feature_select(X_train,y_train,estimator,min_features,step=1):\n",
    "    estimator2=estimator()\n",
    "    selector=RFECV(estimator2,min_features_to_select=min_features,step=step)\n",
    "    selector.fit(X_train,y_train)\n",
    "    selector.ranking_\n",
    "    feature_dict=dict(zip(X_train.columns, selector.ranking_))\n",
    "    best_pred = [k for (k,v) in feature_dict.items() if v == 1]\n",
    "    \n",
    "    \n",
    "    return best_pred"
   ]
  },
  {
   "cell_type": "code",
   "execution_count": 41,
   "metadata": {
    "ExecuteTime": {
     "end_time": "2022-01-18T20:19:23.453516Z",
     "start_time": "2022-01-18T20:18:18.049374Z"
    }
   },
   "outputs": [],
   "source": [
    "feats= feature_select(X_train_scaled,y_train,LogisticRegression,min_features=10)"
   ]
  },
  {
   "cell_type": "code",
   "execution_count": 42,
   "metadata": {
    "ExecuteTime": {
     "end_time": "2022-01-18T20:19:23.488822Z",
     "start_time": "2022-01-18T20:19:23.456546Z"
    }
   },
   "outputs": [],
   "source": [
    "X_train_best_log = X_train_scaled[feats]\n",
    "X_test_best_log = X_test_scaled[feats]"
   ]
  },
  {
   "cell_type": "markdown",
   "metadata": {},
   "source": [
    "# Logistic Regression"
   ]
  },
  {
   "cell_type": "code",
   "execution_count": 44,
   "metadata": {
    "ExecuteTime": {
     "end_time": "2022-01-18T20:19:40.539956Z",
     "start_time": "2022-01-18T20:19:38.237148Z"
    }
   },
   "outputs": [
    {
     "name": "stdout",
     "output_type": "stream",
     "text": [
      "Penalty: l2\n",
      "Solver: newton-cg\n",
      "Mean Cross-Val Score: 0.5990131941792881\n",
      "Train Mean Accuracy: 0.6097159324825031\n",
      "Test Mean Accuracy: 0.7272727272727273\n",
      "Recall Score: 0.8181818181818182\n",
      "Precision Score: 0.6923076923076923\n",
      "F1 Score: 0.7500000000000001\n"
     ]
    },
    {
     "data": {
      "image/png": "[encoded data removed]",
      "text/plain": [
       "<Figure size 432x288 with 1 Axes>"
      ]
     },
     "metadata": {
      "needs_background": "light"
     },
     "output_type": "display_data"
    },
    {
     "data": {
      "image/png": "[encoded data removed]",
      "text/plain": [
       "<Figure size 432x288 with 2 Axes>"
      ]
     },
     "metadata": {
      "needs_background": "light"
     },
     "output_type": "display_data"
    },
    {
     "data": {
      "image/png": "[encoded data removed]",
      "text/plain": [
       "<Figure size 432x288 with 2 Axes>"
      ]
     },
     "metadata": {
      "needs_background": "light"
     },
     "output_type": "display_data"
    }
   ],
   "source": [
    "predictions, probabilities=logreg(X_train_best_log,X_test_best_log,y_train,y_test)"
   ]
  },
  {
   "cell_type": "markdown",
   "metadata": {},
   "source": [
    "### Home_win, zero imp\n",
    "***"
   ]
  },
  {
   "cell_type": "code",
   "execution_count": 45,
   "metadata": {
    "ExecuteTime": {
     "end_time": "2022-01-18T20:20:44.895882Z",
     "start_time": "2022-01-18T20:19:55.333361Z"
    }
   },
   "outputs": [],
   "source": [
    "feats= feature_select(zero_imp_train,y_train,LogisticRegression,min_features=10)"
   ]
  },
  {
   "cell_type": "code",
   "execution_count": 46,
   "metadata": {
    "ExecuteTime": {
     "end_time": "2022-01-18T20:20:44.933948Z",
     "start_time": "2022-01-18T20:20:44.902072Z"
    }
   },
   "outputs": [],
   "source": [
    "X_train_best_log = zero_imp_train[feats]\n",
    "X_test_best_log = zero_imp_test[feats]"
   ]
  },
  {
   "cell_type": "code",
   "execution_count": 47,
   "metadata": {
    "ExecuteTime": {
     "end_time": "2022-01-18T20:20:48.285605Z",
     "start_time": "2022-01-18T20:20:44.940716Z"
    }
   },
   "outputs": [
    {
     "name": "stdout",
     "output_type": "stream",
     "text": [
      "Penalty: l1\n",
      "Solver: saga\n",
      "Mean Cross-Val Score: 0.6002477620805227\n",
      "Train Mean Accuracy: 0.608480856319473\n",
      "Test Mean Accuracy: 0.6363636363636364\n",
      "Recall Score: 0.5454545454545454\n",
      "Precision Score: 0.6666666666666666\n",
      "F1 Score: 0.6\n"
     ]
    },
    {
     "data": {
      "image/png": "[encoded data removed]",
      "text/plain": [
       "<Figure size 432x288 with 1 Axes>"
      ]
     },
     "metadata": {
      "needs_background": "light"
     },
     "output_type": "display_data"
    },
    {
     "data": {
      "image/png": "[encoded data removed]",
      "text/plain": [
       "<Figure size 432x288 with 2 Axes>"
      ]
     },
     "metadata": {
      "needs_background": "light"
     },
     "output_type": "display_data"
    },
    {
     "data": {
      "image/png": "[encoded data removed]",
      "text/plain": [
       "<Figure size 432x288 with 2 Axes>"
      ]
     },
     "metadata": {
      "needs_background": "light"
     },
     "output_type": "display_data"
    }
   ],
   "source": [
    "predictions, probabilities=logreg(X_train_best_log,X_test_best_log,y_train,y_test)"
   ]
  },
  {
   "cell_type": "markdown",
   "metadata": {
    "heading_collapsed": true
   },
   "source": [
    "### Explore thresehold movement and other things"
   ]
  },
  {
   "cell_type": "code",
   "execution_count": 94,
   "metadata": {
    "ExecuteTime": {
     "end_time": "2022-01-18T19:08:14.644009Z",
     "start_time": "2022-01-18T19:08:14.382466Z"
    },
    "hidden": true
   },
   "outputs": [
    {
     "data": {
      "text/plain": [
       "LogisticRegression()"
      ]
     },
     "execution_count": 94,
     "metadata": {},
     "output_type": "execute_result"
    }
   ],
   "source": [
    "logregs=LogisticRegression()\n",
    "logregs.fit(X_train_scaled,y_train)"
   ]
  },
  {
   "cell_type": "code",
   "execution_count": 95,
   "metadata": {
    "ExecuteTime": {
     "end_time": "2022-01-18T19:08:20.730374Z",
     "start_time": "2022-01-18T19:08:20.664502Z"
    },
    "hidden": true
   },
   "outputs": [
    {
     "data": {
      "text/plain": [
       "array([ True,  True,  True,  True, False,  True, False, False, False,\n",
       "       False, False, False,  True, False,  True,  True, False, False,\n",
       "       False, False, False, False, False])"
      ]
     },
     "execution_count": 95,
     "metadata": {},
     "output_type": "execute_result"
    }
   ],
   "source": [
    "logregs.predict_proba(X_test_scaled)[:,1] >= 0.6"
   ]
  },
  {
   "cell_type": "code",
   "execution_count": 47,
   "metadata": {
    "ExecuteTime": {
     "end_time": "2022-01-18T16:56:09.187820Z",
     "start_time": "2022-01-18T16:56:09.175975Z"
    },
    "hidden": true
   },
   "outputs": [
    {
     "data": {
      "text/plain": [
       "54"
      ]
     },
     "execution_count": 47,
     "metadata": {},
     "output_type": "execute_result"
    }
   ],
   "source": [
    "decisions = (logregs.predict_proba(X_test_scaled) >= .6).astype(int)\n",
    "len(decisions)"
   ]
  },
  {
   "cell_type": "code",
   "execution_count": 97,
   "metadata": {
    "ExecuteTime": {
     "end_time": "2022-01-18T19:08:34.302186Z",
     "start_time": "2022-01-18T19:08:34.264903Z"
    },
    "hidden": true,
    "scrolled": true
   },
   "outputs": [],
   "source": [
    "today_winners = np.where(y_test!= predictions,'Away','Home')"
   ]
  },
  {
   "cell_type": "code",
   "execution_count": 101,
   "metadata": {
    "ExecuteTime": {
     "end_time": "2022-01-18T19:09:02.840747Z",
     "start_time": "2022-01-18T19:09:02.822590Z"
    },
    "hidden": true
   },
   "outputs": [
    {
     "data": {
      "text/plain": [
       "array(['Home', 'Home', 'Home', 'Home', 'Away', 'Home', 'Home', 'Away',\n",
       "       'Away', 'Away', 'Home', 'Home', 'Away', 'Home', 'Home', 'Home',\n",
       "       'Away', 'Home', 'Away', 'Away', 'Home', 'Away', 'Home'],\n",
       "      dtype='<U4')"
      ]
     },
     "execution_count": 101,
     "metadata": {},
     "output_type": "execute_result"
    }
   ],
   "source": [
    "today_winners"
   ]
  },
  {
   "cell_type": "markdown",
   "metadata": {
    "hidden": true
   },
   "source": [
    "7 out of 9 playoff series correctly predicted"
   ]
  },
  {
   "cell_type": "markdown",
   "metadata": {},
   "source": [
    "# KNN"
   ]
  },
  {
   "cell_type": "code",
   "execution_count": 73,
   "metadata": {
    "ExecuteTime": {
     "end_time": "2022-01-13T17:17:42.484983Z",
     "start_time": "2022-01-13T17:17:42.480251Z"
    }
   },
   "outputs": [],
   "source": [
    "#kfeats= feature_select(X_train_scaled,y_train,KNN,min_features=10)\n",
    "#X_train_best_knn = X_train_scaled[kfeats]\n",
    "#X_test_best_knn = X_test_scaled[kfeats]"
   ]
  },
  {
   "cell_type": "markdown",
   "metadata": {},
   "source": [
    "### Home win KNN"
   ]
  },
  {
   "cell_type": "code",
   "execution_count": 48,
   "metadata": {
    "ExecuteTime": {
     "end_time": "2022-01-18T20:21:27.553819Z",
     "start_time": "2022-01-18T20:20:48.293617Z"
    }
   },
   "outputs": [
    {
     "name": "stdout",
     "output_type": "stream",
     "text": [
      "Number of Neighbors: 17\n",
      "Metric: minkowski\n",
      "Weights: uniform\n",
      "Mean Cross-Val Score: 0.5730787832506046\n",
      "Train Mean Accuracy: 0.6315356113627008\n",
      "Test Mean Accuracy: 0.6818181818181818\n",
      "Recall Score: 0.7272727272727273\n",
      "Precision Score: 0.6666666666666666\n",
      "F1 score: 0.6956521739130435\n"
     ]
    },
    {
     "data": {
      "image/png": "[encoded data removed]",
      "text/plain": [
       "<Figure size 432x288 with 1 Axes>"
      ]
     },
     "metadata": {
      "needs_background": "light"
     },
     "output_type": "display_data"
    },
    {
     "data": {
      "image/png": "[encoded data removed]",
      "text/plain": [
       "<Figure size 432x288 with 2 Axes>"
      ]
     },
     "metadata": {
      "needs_background": "light"
     },
     "output_type": "display_data"
    },
    {
     "data": {
      "image/png": "[encoded data removed]",
      "text/plain": [
       "<Figure size 432x288 with 2 Axes>"
      ]
     },
     "metadata": {
      "needs_background": "light"
     },
     "output_type": "display_data"
    }
   ],
   "source": [
    "knn(zero_imp_train,zero_imp_test,y_train,y_test)"
   ]
  },
  {
   "cell_type": "markdown",
   "metadata": {},
   "source": [
    "# Decision Tree"
   ]
  },
  {
   "cell_type": "code",
   "execution_count": 49,
   "metadata": {
    "ExecuteTime": {
     "end_time": "2022-01-18T20:21:44.282800Z",
     "start_time": "2022-01-18T20:21:27.556836Z"
    }
   },
   "outputs": [],
   "source": [
    "dfeats= feature_select(zero_imp_train,y_train,DecisionTreeClassifier,min_features=10)\n",
    "X_train_best_tree = zero_imp_train[dfeats]\n",
    "X_test_best_tree = zero_imp_test[dfeats]"
   ]
  },
  {
   "cell_type": "markdown",
   "metadata": {},
   "source": [
    "### Dtree Home Win"
   ]
  },
  {
   "cell_type": "code",
   "execution_count": 50,
   "metadata": {
    "ExecuteTime": {
     "end_time": "2022-01-18T20:21:50.839908Z",
     "start_time": "2022-01-18T20:21:44.286954Z"
    }
   },
   "outputs": [
    {
     "name": "stdout",
     "output_type": "stream",
     "text": [
      "Max Depth: 3\n",
      "Min Sample Split: 2\n",
      "criterion: gini\n",
      "Mean Cross-Val Score: 0.5833778795978108\n",
      "Train Mean Accuracy: 0.608480856319473\n",
      "Test Mean Accuracy: 0.5909090909090909\n",
      "Recall Score: 0.5454545454545454\n",
      "Precision Score: 0.6\n",
      "F1 score: 0.5714285714285713\n"
     ]
    },
    {
     "data": {
      "image/png": "[encoded data removed]",
      "text/plain": [
       "<Figure size 432x288 with 1 Axes>"
      ]
     },
     "metadata": {
      "needs_background": "light"
     },
     "output_type": "display_data"
    },
    {
     "data": {
      "image/png": "[encoded data removed]",
      "text/plain": [
       "<Figure size 432x288 with 2 Axes>"
      ]
     },
     "metadata": {
      "needs_background": "light"
     },
     "output_type": "display_data"
    },
    {
     "data": {
      "image/png": "[encoded data removed]",
      "text/plain": [
       "<Figure size 432x288 with 2 Axes>"
      ]
     },
     "metadata": {
      "needs_background": "light"
     },
     "output_type": "display_data"
    }
   ],
   "source": [
    "dtree(X_train_best_tree,X_test_best_tree,y_train,y_test)"
   ]
  },
  {
   "cell_type": "markdown",
   "metadata": {},
   "source": [
    "# Random Forest"
   ]
  },
  {
   "cell_type": "code",
   "execution_count": 51,
   "metadata": {
    "ExecuteTime": {
     "end_time": "2022-01-18T20:33:54.477372Z",
     "start_time": "2022-01-18T20:22:33.826023Z"
    }
   },
   "outputs": [],
   "source": [
    "rfeats= feature_select(zero_imp_train,y_train,RandomForestClassifier,min_features=10)\n",
    "X_train_best_for = zero_imp_train[rfeats]\n",
    "X_test_best_for = zero_imp_test[rfeats]"
   ]
  },
  {
   "cell_type": "code",
   "execution_count": 52,
   "metadata": {
    "ExecuteTime": {
     "end_time": "2022-01-18T20:35:35.528043Z",
     "start_time": "2022-01-18T20:33:54.483312Z"
    }
   },
   "outputs": [
    {
     "name": "stdout",
     "output_type": "stream",
     "text": [
      "Number of Trees: 115\n",
      "criterion: gini\n",
      "Mean Cross-Val Score: 0.5438598277544441\n",
      "Train Mean Accuracy: 0.6990531082750103\n",
      "Test Mean Accuracy: 0.6363636363636364\n",
      "Recall Score: 0.45454545454545453\n",
      "Precision Score: 0.7142857142857143\n",
      "F1 score: 0.5555555555555556\n"
     ]
    },
    {
     "data": {
      "image/png": "[encoded data removed]",
      "text/plain": [
       "<Figure size 432x288 with 1 Axes>"
      ]
     },
     "metadata": {
      "needs_background": "light"
     },
     "output_type": "display_data"
    },
    {
     "data": {
      "image/png": "[encoded data removed]",
      "text/plain": [
       "<Figure size 432x288 with 2 Axes>"
      ]
     },
     "metadata": {
      "needs_background": "light"
     },
     "output_type": "display_data"
    },
    {
     "data": {
      "image/png": "[encoded data removed]",
      "text/plain": [
       "<Figure size 432x288 with 2 Axes>"
      ]
     },
     "metadata": {
      "needs_background": "light"
     },
     "output_type": "display_data"
    }
   ],
   "source": [
    "random_forest(X_train_best_for,X_test_best_for,y_train,y_test)"
   ]
  },
  {
   "cell_type": "markdown",
   "metadata": {},
   "source": [
    "# Bagging Classifier"
   ]
  },
  {
   "cell_type": "code",
   "execution_count": 53,
   "metadata": {
    "ExecuteTime": {
     "end_time": "2022-01-18T22:02:55.328165Z",
     "start_time": "2022-01-18T21:46:08.981088Z"
    }
   },
   "outputs": [
    {
     "name": "stdout",
     "output_type": "stream",
     "text": [
      "Dec Tree Max Depth: 2\n",
      "Dec Tree Criterion: gini\n",
      "Bagging Max Samples: 3\n",
      "Bag Max Features: 2\n",
      "# of Base Estimators: 500\n",
      "Mean Cross-Val Score: 0.5891468329727207\n",
      "Train Mean Accuracy Score: 0.5673116508851379\n",
      "Test Mean Accuracy Score: 0.5\n",
      "Recall Score: 1.0\n",
      "Precision Score: 0.5\n",
      "F1 score: 0.6666666666666666\n"
     ]
    },
    {
     "data": {
      "image/png": "[encoded data removed]",
      "text/plain": [
       "<Figure size 432x288 with 1 Axes>"
      ]
     },
     "metadata": {
      "needs_background": "light"
     },
     "output_type": "display_data"
    },
    {
     "data": {
      "image/png": "[encoded data removed]",
      "text/plain": [
       "<Figure size 432x288 with 2 Axes>"
      ]
     },
     "metadata": {
      "needs_background": "light"
     },
     "output_type": "display_data"
    },
    {
     "data": {
      "image/png": "[encoded data removed]",
      "text/plain": [
       "<Figure size 432x288 with 2 Axes>"
      ]
     },
     "metadata": {
      "needs_background": "light"
     },
     "output_type": "display_data"
    }
   ],
   "source": [
    "bagged(X_train_scaled,X_test_scaled,y_train,y_test)"
   ]
  },
  {
   "cell_type": "markdown",
   "metadata": {},
   "source": [
    "# XGBoost"
   ]
  },
  {
   "cell_type": "code",
   "execution_count": 56,
   "metadata": {
    "ExecuteTime": {
     "end_time": "2022-01-18T22:25:14.526375Z",
     "start_time": "2022-01-18T22:18:44.271810Z"
    }
   },
   "outputs": [],
   "source": [
    "xfeats= feature_select(zero_imp_train,y_train,XGBClassifier,min_features=10)\n",
    "X_train_best_x = zero_imp_train[xfeats]\n",
    "X_test_best_x = zero_imp_test[xfeats]"
   ]
  },
  {
   "cell_type": "code",
   "execution_count": 57,
   "metadata": {
    "ExecuteTime": {
     "end_time": "2022-01-19T14:33:49.396464Z",
     "start_time": "2022-01-18T22:25:14.530886Z"
    }
   },
   "outputs": [
    {
     "name": "stdout",
     "output_type": "stream",
     "text": [
      "XGBoost Learning Rate: 0.05\n",
      "XGBoost Max Depth: 3\n",
      "XGBoost Min Child Weight: 1\n",
      "XGBoost Subsample: 0.7\n",
      "XGBoost Estimators: 100\n",
      "Stopped in Round: 15\n",
      "Mean Cross-Val Score: 0.5409766238174027\n",
      "Train Mean Accuracy Score: 0.6990531082750103\n",
      "Test Mean Accuracy Score: 0.6363636363636364\n",
      "Recall Score: 0.6363636363636364\n",
      "Precision Score: 0.6363636363636364\n",
      "F1 score: 0.6363636363636364\n"
     ]
    },
    {
     "data": {
      "image/png": "[encoded data removed]",
      "text/plain": [
       "<Figure size 432x288 with 1 Axes>"
      ]
     },
     "metadata": {
      "needs_background": "light"
     },
     "output_type": "display_data"
    },
    {
     "data": {
      "image/png": "[encoded data removed]",
      "text/plain": [
       "<Figure size 432x288 with 2 Axes>"
      ]
     },
     "metadata": {
      "needs_background": "light"
     },
     "output_type": "display_data"
    },
    {
     "data": {
      "image/png": "[encoded data removed]",
      "text/plain": [
       "<Figure size 432x288 with 2 Axes>"
      ]
     },
     "metadata": {
      "needs_background": "light"
     },
     "output_type": "display_data"
    }
   ],
   "source": [
    "xgboost(X_train_best_x, X_test_best_x, y_train, y_test, cv=5)"
   ]
  }
 ],
 "metadata": {
  "kernelspec": {
   "display_name": "Python (learn-env)",
   "language": "python",
   "name": "learn-env"
  },
  "language_info": {
   "codemirror_mode": {
    "name": "ipython",
    "version": 3
   },
   "file_extension": ".py",
   "mimetype": "text/x-python",
   "name": "python",
   "nbconvert_exporter": "python",
   "pygments_lexer": "ipython3",
   "version": "3.8.5"
  }
 },
 "nbformat": 4,
 "nbformat_minor": 4
}

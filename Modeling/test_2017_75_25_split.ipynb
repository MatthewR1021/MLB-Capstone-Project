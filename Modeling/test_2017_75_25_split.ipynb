{
 "cells": [
  {
   "cell_type": "code",
   "execution_count": 1,
   "metadata": {
    "ExecuteTime": {
     "end_time": "2022-01-20T21:14:10.485481Z",
     "start_time": "2022-01-20T21:14:03.799222Z"
    }
   },
   "outputs": [],
   "source": [
    "# Import the relevant packages\n",
    "import pandas as pd\n",
    "import numpy as np\n",
    "import matplotlib.pyplot as plt\n",
    "from sklearn.linear_model import LogisticRegression\n",
    "from sklearn.model_selection import cross_val_score, train_test_split,GridSearchCV\n",
    "from sklearn.metrics import plot_confusion_matrix, plot_roc_curve, accuracy_score, \\\n",
    "recall_score, precision_score, f1_score\n",
    "from sklearn.neighbors import KNeighborsClassifier\n",
    "from sklearn.preprocessing import StandardScaler\n",
    "from sklearn.tree import DecisionTreeClassifier, plot_tree\n",
    "from sklearn.ensemble import BaggingClassifier, RandomForestClassifier\n",
    "from sklearn.ensemble import AdaBoostClassifier, GradientBoostingClassifier\n",
    "from xgboost import XGBClassifier\n",
    "import statsmodels.api as sm\n",
    "from sklearn.feature_selection import RFECV\n",
    "from sklearn.decomposition import PCA\n",
    "import warnings\n",
    "warnings.filterwarnings(\"ignore\")"
   ]
  },
  {
   "cell_type": "code",
   "execution_count": 2,
   "metadata": {
    "ExecuteTime": {
     "end_time": "2022-01-20T21:14:10.548781Z",
     "start_time": "2022-01-20T21:14:10.489136Z"
    }
   },
   "outputs": [],
   "source": [
    "#Import functions notebook and load data set here\n",
    "import sys\n",
    "sys.path.append(\"../\")\n",
    "from Modeling_functions import *"
   ]
  },
  {
   "cell_type": "code",
   "execution_count": 3,
   "metadata": {
    "ExecuteTime": {
     "end_time": "2022-01-20T21:14:10.893573Z",
     "start_time": "2022-01-20T21:14:10.563795Z"
    }
   },
   "outputs": [],
   "source": [
    "df=pd.read_csv('../data/Season_2017.csv')"
   ]
  },
  {
   "cell_type": "code",
   "execution_count": 4,
   "metadata": {
    "ExecuteTime": {
     "end_time": "2022-01-20T21:14:10.924226Z",
     "start_time": "2022-01-20T21:14:10.899633Z"
    }
   },
   "outputs": [],
   "source": [
    "df.drop(['Unnamed: 0'],axis=1,inplace=True)"
   ]
  },
  {
   "cell_type": "code",
   "execution_count": 5,
   "metadata": {
    "ExecuteTime": {
     "end_time": "2022-01-20T21:14:10.945438Z",
     "start_time": "2022-01-20T21:14:10.937587Z"
    }
   },
   "outputs": [],
   "source": [
    "n = 75\n",
    "df=df.head(int(len(df)*(n/100)))"
   ]
  },
  {
   "cell_type": "code",
   "execution_count": 6,
   "metadata": {
    "ExecuteTime": {
     "end_time": "2022-01-20T21:14:10.981123Z",
     "start_time": "2022-01-20T21:14:10.956486Z"
    }
   },
   "outputs": [],
   "source": [
    "n = 25\n",
    "df2=df.tail(int(len(df)*(n/100)))"
   ]
  },
  {
   "cell_type": "markdown",
   "metadata": {},
   "source": [
    "Find and eliminate NaNs"
   ]
  },
  {
   "cell_type": "code",
   "execution_count": 7,
   "metadata": {
    "ExecuteTime": {
     "end_time": "2022-01-20T21:14:11.014589Z",
     "start_time": "2022-01-20T21:14:10.994887Z"
    }
   },
   "outputs": [],
   "source": [
    "df=df.drop(['H_win_probability_subtracted','A_win_probability_subtracted','A_Opp_win_probability_subtracted',\n",
    "          'H_Opp_win_probability_subtracted'],axis=1)"
   ]
  },
  {
   "cell_type": "code",
   "execution_count": 8,
   "metadata": {
    "ExecuteTime": {
     "end_time": "2022-01-20T21:14:11.041924Z",
     "start_time": "2022-01-20T21:14:11.034348Z"
    },
    "scrolled": true
   },
   "outputs": [],
   "source": [
    "df2=df2.drop(['H_win_probability_subtracted','A_win_probability_subtracted','A_Opp_win_probability_subtracted',\n",
    "          'H_Opp_win_probability_subtracted'],axis=1)"
   ]
  },
  {
   "cell_type": "code",
   "execution_count": 9,
   "metadata": {
    "ExecuteTime": {
     "end_time": "2022-01-20T21:14:11.136473Z",
     "start_time": "2022-01-20T21:14:11.079571Z"
    }
   },
   "outputs": [
    {
     "data": {
      "text/plain": [
       "1    0.541164\n",
       "0    0.458836\n",
       "Name: home_win, dtype: float64"
      ]
     },
     "execution_count": 9,
     "metadata": {},
     "output_type": "execute_result"
    }
   ],
   "source": [
    "df.home_win.value_counts(normalize=True)"
   ]
  },
  {
   "cell_type": "code",
   "execution_count": 10,
   "metadata": {
    "ExecuteTime": {
     "end_time": "2022-01-20T21:14:11.212891Z",
     "start_time": "2022-01-20T21:14:11.145432Z"
    }
   },
   "outputs": [
    {
     "data": {
      "text/plain": [
       "1    0.553846\n",
       "0    0.446154\n",
       "Name: home_win, dtype: float64"
      ]
     },
     "execution_count": 10,
     "metadata": {},
     "output_type": "execute_result"
    }
   ],
   "source": [
    "df2.home_win.value_counts(normalize=True)"
   ]
  },
  {
   "cell_type": "code",
   "execution_count": 11,
   "metadata": {
    "ExecuteTime": {
     "end_time": "2022-01-20T21:14:11.327765Z",
     "start_time": "2022-01-20T21:14:11.233711Z"
    }
   },
   "outputs": [
    {
     "data": {
      "text/html": [
       "<div>\n",
       "<style scoped>\n",
       "    .dataframe tbody tr th:only-of-type {\n",
       "        vertical-align: middle;\n",
       "    }\n",
       "\n",
       "    .dataframe tbody tr th {\n",
       "        vertical-align: top;\n",
       "    }\n",
       "\n",
       "    .dataframe thead th {\n",
       "        text-align: right;\n",
       "    }\n",
       "</style>\n",
       "<table border=\"1\" class=\"dataframe\">\n",
       "  <thead>\n",
       "    <tr style=\"text-align: right;\">\n",
       "      <th></th>\n",
       "      <th>H_name</th>\n",
       "      <th>H_at_bats</th>\n",
       "      <th>H_runs</th>\n",
       "      <th>H_hits</th>\n",
       "      <th>H_rbi</th>\n",
       "      <th>H_earned_runs</th>\n",
       "      <th>H_bases_on_balls</th>\n",
       "      <th>H_strikeouts</th>\n",
       "      <th>H_plate_appearances</th>\n",
       "      <th>H_batting_average</th>\n",
       "      <th>...</th>\n",
       "      <th>A_Opp_grounded_balls</th>\n",
       "      <th>A_Opp_fly_balls</th>\n",
       "      <th>A_Opp_line_drives</th>\n",
       "      <th>A_Opp_unknown_bat_type</th>\n",
       "      <th>A_Opp_game_score</th>\n",
       "      <th>A_Opp_inherited_runners</th>\n",
       "      <th>A_Opp_inherited_score</th>\n",
       "      <th>A_Opp_win_probability_by_pitcher</th>\n",
       "      <th>A_Opp_base_out_runs_saved</th>\n",
       "      <th>home_win</th>\n",
       "    </tr>\n",
       "  </thead>\n",
       "  <tbody>\n",
       "    <tr>\n",
       "      <th>1367</th>\n",
       "      <td>KCR</td>\n",
       "      <td>34.172840</td>\n",
       "      <td>4.333333</td>\n",
       "      <td>8.864198</td>\n",
       "      <td>4.074074</td>\n",
       "      <td>4.159383</td>\n",
       "      <td>2.407407</td>\n",
       "      <td>7.197531</td>\n",
       "      <td>37.203704</td>\n",
       "      <td>0.252938</td>\n",
       "      <td>...</td>\n",
       "      <td>12.438272</td>\n",
       "      <td>15.148148</td>\n",
       "      <td>6.987654</td>\n",
       "      <td>0.006173</td>\n",
       "      <td>48.746914</td>\n",
       "      <td>1.472050</td>\n",
       "      <td>0.378882</td>\n",
       "      <td>0.009642</td>\n",
       "      <td>-0.084568</td>\n",
       "      <td>1</td>\n",
       "    </tr>\n",
       "    <tr>\n",
       "      <th>1368</th>\n",
       "      <td>LAA</td>\n",
       "      <td>33.425926</td>\n",
       "      <td>4.382716</td>\n",
       "      <td>8.111111</td>\n",
       "      <td>4.185185</td>\n",
       "      <td>4.071914</td>\n",
       "      <td>3.228395</td>\n",
       "      <td>7.395062</td>\n",
       "      <td>37.487654</td>\n",
       "      <td>0.237475</td>\n",
       "      <td>...</td>\n",
       "      <td>11.456790</td>\n",
       "      <td>14.425926</td>\n",
       "      <td>6.388889</td>\n",
       "      <td>0.006173</td>\n",
       "      <td>50.388889</td>\n",
       "      <td>1.679245</td>\n",
       "      <td>0.433962</td>\n",
       "      <td>0.032451</td>\n",
       "      <td>0.349383</td>\n",
       "      <td>1</td>\n",
       "    </tr>\n",
       "    <tr>\n",
       "      <th>1369</th>\n",
       "      <td>BOS</td>\n",
       "      <td>34.993827</td>\n",
       "      <td>4.845679</td>\n",
       "      <td>9.018519</td>\n",
       "      <td>4.537037</td>\n",
       "      <td>4.422037</td>\n",
       "      <td>3.524691</td>\n",
       "      <td>7.555556</td>\n",
       "      <td>39.148148</td>\n",
       "      <td>0.252994</td>\n",
       "      <td>...</td>\n",
       "      <td>11.487654</td>\n",
       "      <td>12.993827</td>\n",
       "      <td>6.006173</td>\n",
       "      <td>0.000000</td>\n",
       "      <td>48.302469</td>\n",
       "      <td>1.950311</td>\n",
       "      <td>0.571429</td>\n",
       "      <td>-0.016685</td>\n",
       "      <td>-0.554321</td>\n",
       "      <td>1</td>\n",
       "    </tr>\n",
       "    <tr>\n",
       "      <th>1370</th>\n",
       "      <td>SDP</td>\n",
       "      <td>33.061728</td>\n",
       "      <td>3.728395</td>\n",
       "      <td>7.722222</td>\n",
       "      <td>3.555556</td>\n",
       "      <td>3.601728</td>\n",
       "      <td>2.839506</td>\n",
       "      <td>9.253086</td>\n",
       "      <td>36.753086</td>\n",
       "      <td>0.229593</td>\n",
       "      <td>...</td>\n",
       "      <td>12.345679</td>\n",
       "      <td>15.500000</td>\n",
       "      <td>7.487654</td>\n",
       "      <td>0.024691</td>\n",
       "      <td>53.462963</td>\n",
       "      <td>1.455128</td>\n",
       "      <td>0.333333</td>\n",
       "      <td>0.088105</td>\n",
       "      <td>0.733951</td>\n",
       "      <td>1</td>\n",
       "    </tr>\n",
       "    <tr>\n",
       "      <th>1371</th>\n",
       "      <td>OAK</td>\n",
       "      <td>33.728395</td>\n",
       "      <td>4.561728</td>\n",
       "      <td>8.296296</td>\n",
       "      <td>4.370370</td>\n",
       "      <td>4.483642</td>\n",
       "      <td>3.487654</td>\n",
       "      <td>9.203704</td>\n",
       "      <td>37.814815</td>\n",
       "      <td>0.240173</td>\n",
       "      <td>...</td>\n",
       "      <td>10.629630</td>\n",
       "      <td>12.833333</td>\n",
       "      <td>6.487654</td>\n",
       "      <td>0.000000</td>\n",
       "      <td>46.456790</td>\n",
       "      <td>1.867925</td>\n",
       "      <td>0.547170</td>\n",
       "      <td>0.008123</td>\n",
       "      <td>-0.301852</td>\n",
       "      <td>1</td>\n",
       "    </tr>\n",
       "    <tr>\n",
       "      <th>...</th>\n",
       "      <td>...</td>\n",
       "      <td>...</td>\n",
       "      <td>...</td>\n",
       "      <td>...</td>\n",
       "      <td>...</td>\n",
       "      <td>...</td>\n",
       "      <td>...</td>\n",
       "      <td>...</td>\n",
       "      <td>...</td>\n",
       "      <td>...</td>\n",
       "      <td>...</td>\n",
       "      <td>...</td>\n",
       "      <td>...</td>\n",
       "      <td>...</td>\n",
       "      <td>...</td>\n",
       "      <td>...</td>\n",
       "      <td>...</td>\n",
       "      <td>...</td>\n",
       "      <td>...</td>\n",
       "      <td>...</td>\n",
       "      <td>...</td>\n",
       "    </tr>\n",
       "    <tr>\n",
       "      <th>1817</th>\n",
       "      <td>SDP</td>\n",
       "      <td>33.061728</td>\n",
       "      <td>3.728395</td>\n",
       "      <td>7.722222</td>\n",
       "      <td>3.555556</td>\n",
       "      <td>3.601728</td>\n",
       "      <td>2.839506</td>\n",
       "      <td>9.253086</td>\n",
       "      <td>36.753086</td>\n",
       "      <td>0.229593</td>\n",
       "      <td>...</td>\n",
       "      <td>11.444444</td>\n",
       "      <td>13.635802</td>\n",
       "      <td>5.944444</td>\n",
       "      <td>0.006173</td>\n",
       "      <td>49.450617</td>\n",
       "      <td>1.329193</td>\n",
       "      <td>0.403727</td>\n",
       "      <td>-0.020815</td>\n",
       "      <td>-0.461111</td>\n",
       "      <td>0</td>\n",
       "    </tr>\n",
       "    <tr>\n",
       "      <th>1818</th>\n",
       "      <td>DET</td>\n",
       "      <td>34.296296</td>\n",
       "      <td>4.537037</td>\n",
       "      <td>8.858025</td>\n",
       "      <td>4.314815</td>\n",
       "      <td>4.334259</td>\n",
       "      <td>3.104938</td>\n",
       "      <td>8.104938</td>\n",
       "      <td>37.962963</td>\n",
       "      <td>0.252235</td>\n",
       "      <td>...</td>\n",
       "      <td>10.746914</td>\n",
       "      <td>13.314815</td>\n",
       "      <td>6.098765</td>\n",
       "      <td>0.000000</td>\n",
       "      <td>50.000000</td>\n",
       "      <td>1.333333</td>\n",
       "      <td>0.444444</td>\n",
       "      <td>-0.041759</td>\n",
       "      <td>-0.278395</td>\n",
       "      <td>0</td>\n",
       "    </tr>\n",
       "    <tr>\n",
       "      <th>1819</th>\n",
       "      <td>SFG</td>\n",
       "      <td>34.265432</td>\n",
       "      <td>3.944444</td>\n",
       "      <td>8.530864</td>\n",
       "      <td>3.777778</td>\n",
       "      <td>3.593889</td>\n",
       "      <td>2.882716</td>\n",
       "      <td>7.432099</td>\n",
       "      <td>37.882716</td>\n",
       "      <td>0.243852</td>\n",
       "      <td>...</td>\n",
       "      <td>11.882716</td>\n",
       "      <td>14.895062</td>\n",
       "      <td>6.796296</td>\n",
       "      <td>0.024691</td>\n",
       "      <td>52.864198</td>\n",
       "      <td>1.320513</td>\n",
       "      <td>0.365385</td>\n",
       "      <td>0.052444</td>\n",
       "      <td>0.329630</td>\n",
       "      <td>1</td>\n",
       "    </tr>\n",
       "    <tr>\n",
       "      <th>1820</th>\n",
       "      <td>COL</td>\n",
       "      <td>34.160494</td>\n",
       "      <td>5.086420</td>\n",
       "      <td>9.320988</td>\n",
       "      <td>4.895062</td>\n",
       "      <td>4.978086</td>\n",
       "      <td>3.203704</td>\n",
       "      <td>8.691358</td>\n",
       "      <td>38.277778</td>\n",
       "      <td>0.268130</td>\n",
       "      <td>...</td>\n",
       "      <td>12.320988</td>\n",
       "      <td>13.691358</td>\n",
       "      <td>6.567901</td>\n",
       "      <td>0.000000</td>\n",
       "      <td>49.370370</td>\n",
       "      <td>1.018750</td>\n",
       "      <td>0.331250</td>\n",
       "      <td>0.006568</td>\n",
       "      <td>0.176543</td>\n",
       "      <td>1</td>\n",
       "    </tr>\n",
       "    <tr>\n",
       "      <th>1821</th>\n",
       "      <td>SFG</td>\n",
       "      <td>34.265432</td>\n",
       "      <td>3.944444</td>\n",
       "      <td>8.530864</td>\n",
       "      <td>3.777778</td>\n",
       "      <td>3.593889</td>\n",
       "      <td>2.882716</td>\n",
       "      <td>7.432099</td>\n",
       "      <td>37.882716</td>\n",
       "      <td>0.243852</td>\n",
       "      <td>...</td>\n",
       "      <td>11.882716</td>\n",
       "      <td>14.895062</td>\n",
       "      <td>6.796296</td>\n",
       "      <td>0.024691</td>\n",
       "      <td>52.864198</td>\n",
       "      <td>1.320513</td>\n",
       "      <td>0.365385</td>\n",
       "      <td>0.052444</td>\n",
       "      <td>0.329630</td>\n",
       "      <td>0</td>\n",
       "    </tr>\n",
       "  </tbody>\n",
       "</table>\n",
       "<p>455 rows × 139 columns</p>\n",
       "</div>"
      ],
      "text/plain": [
       "     H_name  H_at_bats    H_runs    H_hits     H_rbi  H_earned_runs  \\\n",
       "1367    KCR  34.172840  4.333333  8.864198  4.074074       4.159383   \n",
       "1368    LAA  33.425926  4.382716  8.111111  4.185185       4.071914   \n",
       "1369    BOS  34.993827  4.845679  9.018519  4.537037       4.422037   \n",
       "1370    SDP  33.061728  3.728395  7.722222  3.555556       3.601728   \n",
       "1371    OAK  33.728395  4.561728  8.296296  4.370370       4.483642   \n",
       "...     ...        ...       ...       ...       ...            ...   \n",
       "1817    SDP  33.061728  3.728395  7.722222  3.555556       3.601728   \n",
       "1818    DET  34.296296  4.537037  8.858025  4.314815       4.334259   \n",
       "1819    SFG  34.265432  3.944444  8.530864  3.777778       3.593889   \n",
       "1820    COL  34.160494  5.086420  9.320988  4.895062       4.978086   \n",
       "1821    SFG  34.265432  3.944444  8.530864  3.777778       3.593889   \n",
       "\n",
       "      H_bases_on_balls  H_strikeouts  H_plate_appearances  H_batting_average  \\\n",
       "1367          2.407407      7.197531            37.203704           0.252938   \n",
       "1368          3.228395      7.395062            37.487654           0.237475   \n",
       "1369          3.524691      7.555556            39.148148           0.252994   \n",
       "1370          2.839506      9.253086            36.753086           0.229593   \n",
       "1371          3.487654      9.203704            37.814815           0.240173   \n",
       "...                ...           ...                  ...                ...   \n",
       "1817          2.839506      9.253086            36.753086           0.229593   \n",
       "1818          3.104938      8.104938            37.962963           0.252235   \n",
       "1819          2.882716      7.432099            37.882716           0.243852   \n",
       "1820          3.203704      8.691358            38.277778           0.268130   \n",
       "1821          2.882716      7.432099            37.882716           0.243852   \n",
       "\n",
       "      ...  A_Opp_grounded_balls  A_Opp_fly_balls  A_Opp_line_drives  \\\n",
       "1367  ...             12.438272        15.148148           6.987654   \n",
       "1368  ...             11.456790        14.425926           6.388889   \n",
       "1369  ...             11.487654        12.993827           6.006173   \n",
       "1370  ...             12.345679        15.500000           7.487654   \n",
       "1371  ...             10.629630        12.833333           6.487654   \n",
       "...   ...                   ...              ...                ...   \n",
       "1817  ...             11.444444        13.635802           5.944444   \n",
       "1818  ...             10.746914        13.314815           6.098765   \n",
       "1819  ...             11.882716        14.895062           6.796296   \n",
       "1820  ...             12.320988        13.691358           6.567901   \n",
       "1821  ...             11.882716        14.895062           6.796296   \n",
       "\n",
       "      A_Opp_unknown_bat_type  A_Opp_game_score  A_Opp_inherited_runners  \\\n",
       "1367                0.006173         48.746914                 1.472050   \n",
       "1368                0.006173         50.388889                 1.679245   \n",
       "1369                0.000000         48.302469                 1.950311   \n",
       "1370                0.024691         53.462963                 1.455128   \n",
       "1371                0.000000         46.456790                 1.867925   \n",
       "...                      ...               ...                      ...   \n",
       "1817                0.006173         49.450617                 1.329193   \n",
       "1818                0.000000         50.000000                 1.333333   \n",
       "1819                0.024691         52.864198                 1.320513   \n",
       "1820                0.000000         49.370370                 1.018750   \n",
       "1821                0.024691         52.864198                 1.320513   \n",
       "\n",
       "      A_Opp_inherited_score  A_Opp_win_probability_by_pitcher  \\\n",
       "1367               0.378882                          0.009642   \n",
       "1368               0.433962                          0.032451   \n",
       "1369               0.571429                         -0.016685   \n",
       "1370               0.333333                          0.088105   \n",
       "1371               0.547170                          0.008123   \n",
       "...                     ...                               ...   \n",
       "1817               0.403727                         -0.020815   \n",
       "1818               0.444444                         -0.041759   \n",
       "1819               0.365385                          0.052444   \n",
       "1820               0.331250                          0.006568   \n",
       "1821               0.365385                          0.052444   \n",
       "\n",
       "      A_Opp_base_out_runs_saved  home_win  \n",
       "1367                  -0.084568         1  \n",
       "1368                   0.349383         1  \n",
       "1369                  -0.554321         1  \n",
       "1370                   0.733951         1  \n",
       "1371                  -0.301852         1  \n",
       "...                         ...       ...  \n",
       "1817                  -0.461111         0  \n",
       "1818                  -0.278395         0  \n",
       "1819                   0.329630         1  \n",
       "1820                   0.176543         1  \n",
       "1821                   0.329630         0  \n",
       "\n",
       "[455 rows x 139 columns]"
      ]
     },
     "execution_count": 11,
     "metadata": {},
     "output_type": "execute_result"
    }
   ],
   "source": [
    "#df2.drop_duplicates(inplace=True)\n",
    "df2"
   ]
  },
  {
   "cell_type": "code",
   "execution_count": 12,
   "metadata": {
    "ExecuteTime": {
     "end_time": "2022-01-20T21:14:11.400610Z",
     "start_time": "2022-01-20T21:14:11.337181Z"
    }
   },
   "outputs": [
    {
     "data": {
      "text/html": [
       "<div>\n",
       "<style scoped>\n",
       "    .dataframe tbody tr th:only-of-type {\n",
       "        vertical-align: middle;\n",
       "    }\n",
       "\n",
       "    .dataframe tbody tr th {\n",
       "        vertical-align: top;\n",
       "    }\n",
       "\n",
       "    .dataframe thead th {\n",
       "        text-align: right;\n",
       "    }\n",
       "</style>\n",
       "<table border=\"1\" class=\"dataframe\">\n",
       "  <thead>\n",
       "    <tr style=\"text-align: right;\">\n",
       "      <th></th>\n",
       "      <th>H_name</th>\n",
       "      <th>H_at_bats</th>\n",
       "      <th>H_runs</th>\n",
       "      <th>H_hits</th>\n",
       "      <th>H_rbi</th>\n",
       "      <th>H_earned_runs</th>\n",
       "      <th>H_bases_on_balls</th>\n",
       "      <th>H_strikeouts</th>\n",
       "      <th>H_plate_appearances</th>\n",
       "      <th>H_batting_average</th>\n",
       "      <th>...</th>\n",
       "      <th>A_Opp_grounded_balls</th>\n",
       "      <th>A_Opp_fly_balls</th>\n",
       "      <th>A_Opp_line_drives</th>\n",
       "      <th>A_Opp_unknown_bat_type</th>\n",
       "      <th>A_Opp_game_score</th>\n",
       "      <th>A_Opp_inherited_runners</th>\n",
       "      <th>A_Opp_inherited_score</th>\n",
       "      <th>A_Opp_win_probability_by_pitcher</th>\n",
       "      <th>A_Opp_base_out_runs_saved</th>\n",
       "      <th>home_win</th>\n",
       "    </tr>\n",
       "  </thead>\n",
       "  <tbody>\n",
       "    <tr>\n",
       "      <th>0</th>\n",
       "      <td>TBR</td>\n",
       "      <td>33.814815</td>\n",
       "      <td>4.283951</td>\n",
       "      <td>8.271605</td>\n",
       "      <td>4.141975</td>\n",
       "      <td>4.117840</td>\n",
       "      <td>3.364198</td>\n",
       "      <td>9.493827</td>\n",
       "      <td>37.944444</td>\n",
       "      <td>0.239617</td>\n",
       "      <td>...</td>\n",
       "      <td>11.487654</td>\n",
       "      <td>12.993827</td>\n",
       "      <td>6.006173</td>\n",
       "      <td>0.000000</td>\n",
       "      <td>48.302469</td>\n",
       "      <td>1.950311</td>\n",
       "      <td>0.571429</td>\n",
       "      <td>-0.016685</td>\n",
       "      <td>-0.554321</td>\n",
       "      <td>1</td>\n",
       "    </tr>\n",
       "    <tr>\n",
       "      <th>1</th>\n",
       "      <td>ARI</td>\n",
       "      <td>34.104938</td>\n",
       "      <td>5.012346</td>\n",
       "      <td>8.672840</td>\n",
       "      <td>4.790123</td>\n",
       "      <td>4.939444</td>\n",
       "      <td>3.567901</td>\n",
       "      <td>8.987654</td>\n",
       "      <td>38.419753</td>\n",
       "      <td>0.249259</td>\n",
       "      <td>...</td>\n",
       "      <td>12.345679</td>\n",
       "      <td>15.500000</td>\n",
       "      <td>7.487654</td>\n",
       "      <td>0.024691</td>\n",
       "      <td>53.462963</td>\n",
       "      <td>1.455128</td>\n",
       "      <td>0.333333</td>\n",
       "      <td>0.088105</td>\n",
       "      <td>0.733951</td>\n",
       "      <td>1</td>\n",
       "    </tr>\n",
       "    <tr>\n",
       "      <th>2</th>\n",
       "      <td>STL</td>\n",
       "      <td>33.765432</td>\n",
       "      <td>4.697531</td>\n",
       "      <td>8.654321</td>\n",
       "      <td>4.493827</td>\n",
       "      <td>4.486728</td>\n",
       "      <td>3.660494</td>\n",
       "      <td>8.320988</td>\n",
       "      <td>38.388889</td>\n",
       "      <td>0.252457</td>\n",
       "      <td>...</td>\n",
       "      <td>11.839506</td>\n",
       "      <td>13.160494</td>\n",
       "      <td>6.592593</td>\n",
       "      <td>0.006173</td>\n",
       "      <td>49.012346</td>\n",
       "      <td>1.453416</td>\n",
       "      <td>0.472050</td>\n",
       "      <td>-0.011130</td>\n",
       "      <td>-0.415432</td>\n",
       "      <td>1</td>\n",
       "    </tr>\n",
       "    <tr>\n",
       "      <th>3</th>\n",
       "      <td>TEX</td>\n",
       "      <td>33.518519</td>\n",
       "      <td>4.932099</td>\n",
       "      <td>8.185185</td>\n",
       "      <td>4.666667</td>\n",
       "      <td>4.781358</td>\n",
       "      <td>3.358025</td>\n",
       "      <td>9.216049</td>\n",
       "      <td>37.790123</td>\n",
       "      <td>0.240247</td>\n",
       "      <td>...</td>\n",
       "      <td>10.629630</td>\n",
       "      <td>12.833333</td>\n",
       "      <td>6.487654</td>\n",
       "      <td>0.000000</td>\n",
       "      <td>46.456790</td>\n",
       "      <td>1.867925</td>\n",
       "      <td>0.547170</td>\n",
       "      <td>0.008123</td>\n",
       "      <td>-0.301852</td>\n",
       "      <td>0</td>\n",
       "    </tr>\n",
       "    <tr>\n",
       "      <th>4</th>\n",
       "      <td>MIL</td>\n",
       "      <td>33.691358</td>\n",
       "      <td>4.444444</td>\n",
       "      <td>8.351852</td>\n",
       "      <td>4.216049</td>\n",
       "      <td>4.273951</td>\n",
       "      <td>3.271605</td>\n",
       "      <td>9.697531</td>\n",
       "      <td>37.703704</td>\n",
       "      <td>0.243426</td>\n",
       "      <td>...</td>\n",
       "      <td>13.265432</td>\n",
       "      <td>13.413580</td>\n",
       "      <td>6.629630</td>\n",
       "      <td>0.018519</td>\n",
       "      <td>46.876543</td>\n",
       "      <td>1.465839</td>\n",
       "      <td>0.472050</td>\n",
       "      <td>0.015272</td>\n",
       "      <td>-0.198765</td>\n",
       "      <td>0</td>\n",
       "    </tr>\n",
       "  </tbody>\n",
       "</table>\n",
       "<p>5 rows × 139 columns</p>\n",
       "</div>"
      ],
      "text/plain": [
       "  H_name  H_at_bats    H_runs    H_hits     H_rbi  H_earned_runs  \\\n",
       "0    TBR  33.814815  4.283951  8.271605  4.141975       4.117840   \n",
       "1    ARI  34.104938  5.012346  8.672840  4.790123       4.939444   \n",
       "2    STL  33.765432  4.697531  8.654321  4.493827       4.486728   \n",
       "3    TEX  33.518519  4.932099  8.185185  4.666667       4.781358   \n",
       "4    MIL  33.691358  4.444444  8.351852  4.216049       4.273951   \n",
       "\n",
       "   H_bases_on_balls  H_strikeouts  H_plate_appearances  H_batting_average  \\\n",
       "0          3.364198      9.493827            37.944444           0.239617   \n",
       "1          3.567901      8.987654            38.419753           0.249259   \n",
       "2          3.660494      8.320988            38.388889           0.252457   \n",
       "3          3.358025      9.216049            37.790123           0.240247   \n",
       "4          3.271605      9.697531            37.703704           0.243426   \n",
       "\n",
       "   ...  A_Opp_grounded_balls  A_Opp_fly_balls  A_Opp_line_drives  \\\n",
       "0  ...             11.487654        12.993827           6.006173   \n",
       "1  ...             12.345679        15.500000           7.487654   \n",
       "2  ...             11.839506        13.160494           6.592593   \n",
       "3  ...             10.629630        12.833333           6.487654   \n",
       "4  ...             13.265432        13.413580           6.629630   \n",
       "\n",
       "   A_Opp_unknown_bat_type  A_Opp_game_score  A_Opp_inherited_runners  \\\n",
       "0                0.000000         48.302469                 1.950311   \n",
       "1                0.024691         53.462963                 1.455128   \n",
       "2                0.006173         49.012346                 1.453416   \n",
       "3                0.000000         46.456790                 1.867925   \n",
       "4                0.018519         46.876543                 1.465839   \n",
       "\n",
       "   A_Opp_inherited_score  A_Opp_win_probability_by_pitcher  \\\n",
       "0               0.571429                         -0.016685   \n",
       "1               0.333333                          0.088105   \n",
       "2               0.472050                         -0.011130   \n",
       "3               0.547170                          0.008123   \n",
       "4               0.472050                          0.015272   \n",
       "\n",
       "   A_Opp_base_out_runs_saved  home_win  \n",
       "0                  -0.554321         1  \n",
       "1                   0.733951         1  \n",
       "2                  -0.415432         1  \n",
       "3                  -0.301852         0  \n",
       "4                  -0.198765         0  \n",
       "\n",
       "[5 rows x 139 columns]"
      ]
     },
     "execution_count": 12,
     "metadata": {},
     "output_type": "execute_result"
    }
   ],
   "source": [
    "df.head()"
   ]
  },
  {
   "cell_type": "code",
   "execution_count": 13,
   "metadata": {
    "ExecuteTime": {
     "end_time": "2022-01-20T21:14:11.430780Z",
     "start_time": "2022-01-20T21:14:11.414195Z"
    }
   },
   "outputs": [],
   "source": [
    "#for col in X_train.columns:\n",
    "    #print(col)"
   ]
  },
  {
   "cell_type": "code",
   "execution_count": 14,
   "metadata": {
    "ExecuteTime": {
     "end_time": "2022-01-20T21:14:11.450296Z",
     "start_time": "2022-01-20T21:14:11.441020Z"
    }
   },
   "outputs": [],
   "source": [
    "zero_importance_list=['H_runs','H_slugging_percentage','H_on_base_plus','H_base_out_runs_added','H_putouts',\n",
    "                     'H_Opp_on_base_percentage','A_batting_average','A_win_probability_for_offensive_player',\n",
    "                     'A_putouts']"
   ]
  },
  {
   "cell_type": "code",
   "execution_count": 15,
   "metadata": {
    "ExecuteTime": {
     "end_time": "2022-01-20T21:14:11.903486Z",
     "start_time": "2022-01-20T21:14:11.897624Z"
    }
   },
   "outputs": [],
   "source": [
    "tiny_importance_list=['H_at_bats','H_win_probability_added','H_fly_balls']"
   ]
  },
  {
   "cell_type": "code",
   "execution_count": 16,
   "metadata": {
    "ExecuteTime": {
     "end_time": "2022-01-20T21:14:14.172297Z",
     "start_time": "2022-01-20T21:14:14.105877Z"
    },
    "scrolled": true
   },
   "outputs": [
    {
     "data": {
      "text/html": [
       "<div>\n",
       "<style scoped>\n",
       "    .dataframe tbody tr th:only-of-type {\n",
       "        vertical-align: middle;\n",
       "    }\n",
       "\n",
       "    .dataframe tbody tr th {\n",
       "        vertical-align: top;\n",
       "    }\n",
       "\n",
       "    .dataframe thead th {\n",
       "        text-align: right;\n",
       "    }\n",
       "</style>\n",
       "<table border=\"1\" class=\"dataframe\">\n",
       "  <thead>\n",
       "    <tr style=\"text-align: right;\">\n",
       "      <th></th>\n",
       "      <th>H_name</th>\n",
       "      <th>H_at_bats</th>\n",
       "      <th>H_runs</th>\n",
       "      <th>H_hits</th>\n",
       "      <th>H_rbi</th>\n",
       "      <th>H_earned_runs</th>\n",
       "      <th>H_bases_on_balls</th>\n",
       "      <th>H_strikeouts</th>\n",
       "      <th>H_plate_appearances</th>\n",
       "      <th>H_batting_average</th>\n",
       "      <th>...</th>\n",
       "      <th>A_Opp_grounded_balls</th>\n",
       "      <th>A_Opp_fly_balls</th>\n",
       "      <th>A_Opp_line_drives</th>\n",
       "      <th>A_Opp_unknown_bat_type</th>\n",
       "      <th>A_Opp_game_score</th>\n",
       "      <th>A_Opp_inherited_runners</th>\n",
       "      <th>A_Opp_inherited_score</th>\n",
       "      <th>A_Opp_win_probability_by_pitcher</th>\n",
       "      <th>A_Opp_base_out_runs_saved</th>\n",
       "      <th>home_win</th>\n",
       "    </tr>\n",
       "  </thead>\n",
       "  <tbody>\n",
       "    <tr>\n",
       "      <th>1367</th>\n",
       "      <td>KCR</td>\n",
       "      <td>34.172840</td>\n",
       "      <td>4.333333</td>\n",
       "      <td>8.864198</td>\n",
       "      <td>4.074074</td>\n",
       "      <td>4.159383</td>\n",
       "      <td>2.407407</td>\n",
       "      <td>7.197531</td>\n",
       "      <td>37.203704</td>\n",
       "      <td>0.252938</td>\n",
       "      <td>...</td>\n",
       "      <td>12.438272</td>\n",
       "      <td>15.148148</td>\n",
       "      <td>6.987654</td>\n",
       "      <td>0.006173</td>\n",
       "      <td>48.746914</td>\n",
       "      <td>1.472050</td>\n",
       "      <td>0.378882</td>\n",
       "      <td>0.009642</td>\n",
       "      <td>-0.084568</td>\n",
       "      <td>1</td>\n",
       "    </tr>\n",
       "    <tr>\n",
       "      <th>1368</th>\n",
       "      <td>LAA</td>\n",
       "      <td>33.425926</td>\n",
       "      <td>4.382716</td>\n",
       "      <td>8.111111</td>\n",
       "      <td>4.185185</td>\n",
       "      <td>4.071914</td>\n",
       "      <td>3.228395</td>\n",
       "      <td>7.395062</td>\n",
       "      <td>37.487654</td>\n",
       "      <td>0.237475</td>\n",
       "      <td>...</td>\n",
       "      <td>11.456790</td>\n",
       "      <td>14.425926</td>\n",
       "      <td>6.388889</td>\n",
       "      <td>0.006173</td>\n",
       "      <td>50.388889</td>\n",
       "      <td>1.679245</td>\n",
       "      <td>0.433962</td>\n",
       "      <td>0.032451</td>\n",
       "      <td>0.349383</td>\n",
       "      <td>1</td>\n",
       "    </tr>\n",
       "    <tr>\n",
       "      <th>1369</th>\n",
       "      <td>BOS</td>\n",
       "      <td>34.993827</td>\n",
       "      <td>4.845679</td>\n",
       "      <td>9.018519</td>\n",
       "      <td>4.537037</td>\n",
       "      <td>4.422037</td>\n",
       "      <td>3.524691</td>\n",
       "      <td>7.555556</td>\n",
       "      <td>39.148148</td>\n",
       "      <td>0.252994</td>\n",
       "      <td>...</td>\n",
       "      <td>11.487654</td>\n",
       "      <td>12.993827</td>\n",
       "      <td>6.006173</td>\n",
       "      <td>0.000000</td>\n",
       "      <td>48.302469</td>\n",
       "      <td>1.950311</td>\n",
       "      <td>0.571429</td>\n",
       "      <td>-0.016685</td>\n",
       "      <td>-0.554321</td>\n",
       "      <td>1</td>\n",
       "    </tr>\n",
       "    <tr>\n",
       "      <th>1370</th>\n",
       "      <td>SDP</td>\n",
       "      <td>33.061728</td>\n",
       "      <td>3.728395</td>\n",
       "      <td>7.722222</td>\n",
       "      <td>3.555556</td>\n",
       "      <td>3.601728</td>\n",
       "      <td>2.839506</td>\n",
       "      <td>9.253086</td>\n",
       "      <td>36.753086</td>\n",
       "      <td>0.229593</td>\n",
       "      <td>...</td>\n",
       "      <td>12.345679</td>\n",
       "      <td>15.500000</td>\n",
       "      <td>7.487654</td>\n",
       "      <td>0.024691</td>\n",
       "      <td>53.462963</td>\n",
       "      <td>1.455128</td>\n",
       "      <td>0.333333</td>\n",
       "      <td>0.088105</td>\n",
       "      <td>0.733951</td>\n",
       "      <td>1</td>\n",
       "    </tr>\n",
       "    <tr>\n",
       "      <th>1371</th>\n",
       "      <td>OAK</td>\n",
       "      <td>33.728395</td>\n",
       "      <td>4.561728</td>\n",
       "      <td>8.296296</td>\n",
       "      <td>4.370370</td>\n",
       "      <td>4.483642</td>\n",
       "      <td>3.487654</td>\n",
       "      <td>9.203704</td>\n",
       "      <td>37.814815</td>\n",
       "      <td>0.240173</td>\n",
       "      <td>...</td>\n",
       "      <td>10.629630</td>\n",
       "      <td>12.833333</td>\n",
       "      <td>6.487654</td>\n",
       "      <td>0.000000</td>\n",
       "      <td>46.456790</td>\n",
       "      <td>1.867925</td>\n",
       "      <td>0.547170</td>\n",
       "      <td>0.008123</td>\n",
       "      <td>-0.301852</td>\n",
       "      <td>1</td>\n",
       "    </tr>\n",
       "  </tbody>\n",
       "</table>\n",
       "<p>5 rows × 139 columns</p>\n",
       "</div>"
      ],
      "text/plain": [
       "     H_name  H_at_bats    H_runs    H_hits     H_rbi  H_earned_runs  \\\n",
       "1367    KCR  34.172840  4.333333  8.864198  4.074074       4.159383   \n",
       "1368    LAA  33.425926  4.382716  8.111111  4.185185       4.071914   \n",
       "1369    BOS  34.993827  4.845679  9.018519  4.537037       4.422037   \n",
       "1370    SDP  33.061728  3.728395  7.722222  3.555556       3.601728   \n",
       "1371    OAK  33.728395  4.561728  8.296296  4.370370       4.483642   \n",
       "\n",
       "      H_bases_on_balls  H_strikeouts  H_plate_appearances  H_batting_average  \\\n",
       "1367          2.407407      7.197531            37.203704           0.252938   \n",
       "1368          3.228395      7.395062            37.487654           0.237475   \n",
       "1369          3.524691      7.555556            39.148148           0.252994   \n",
       "1370          2.839506      9.253086            36.753086           0.229593   \n",
       "1371          3.487654      9.203704            37.814815           0.240173   \n",
       "\n",
       "      ...  A_Opp_grounded_balls  A_Opp_fly_balls  A_Opp_line_drives  \\\n",
       "1367  ...             12.438272        15.148148           6.987654   \n",
       "1368  ...             11.456790        14.425926           6.388889   \n",
       "1369  ...             11.487654        12.993827           6.006173   \n",
       "1370  ...             12.345679        15.500000           7.487654   \n",
       "1371  ...             10.629630        12.833333           6.487654   \n",
       "\n",
       "      A_Opp_unknown_bat_type  A_Opp_game_score  A_Opp_inherited_runners  \\\n",
       "1367                0.006173         48.746914                 1.472050   \n",
       "1368                0.006173         50.388889                 1.679245   \n",
       "1369                0.000000         48.302469                 1.950311   \n",
       "1370                0.024691         53.462963                 1.455128   \n",
       "1371                0.000000         46.456790                 1.867925   \n",
       "\n",
       "      A_Opp_inherited_score  A_Opp_win_probability_by_pitcher  \\\n",
       "1367               0.378882                          0.009642   \n",
       "1368               0.433962                          0.032451   \n",
       "1369               0.571429                         -0.016685   \n",
       "1370               0.333333                          0.088105   \n",
       "1371               0.547170                          0.008123   \n",
       "\n",
       "      A_Opp_base_out_runs_saved  home_win  \n",
       "1367                  -0.084568         1  \n",
       "1368                   0.349383         1  \n",
       "1369                  -0.554321         1  \n",
       "1370                   0.733951         1  \n",
       "1371                  -0.301852         1  \n",
       "\n",
       "[5 rows x 139 columns]"
      ]
     },
     "execution_count": 16,
     "metadata": {},
     "output_type": "execute_result"
    }
   ],
   "source": [
    "df2.head()"
   ]
  },
  {
   "cell_type": "code",
   "execution_count": 17,
   "metadata": {
    "ExecuteTime": {
     "end_time": "2022-01-20T21:14:16.251169Z",
     "start_time": "2022-01-20T21:14:16.221336Z"
    }
   },
   "outputs": [],
   "source": [
    "def data_preprocessing(df, df2):\n",
    "    X_train = df.drop(['home_win','H_name','A_name'], axis=1)\n",
    "    X_test = df2.drop(['home_win','H_name','A_name'], axis=1)\n",
    "    y_train = df.home_win\n",
    "    y_test= df2.home_win\n",
    "    \n",
    "    ss = StandardScaler()\n",
    "    X_train_scaled = ss.fit_transform(X_train)\n",
    "    X_test_scaled = ss.transform(X_test)\n",
    "    \n",
    "    X_train_scaled = pd.DataFrame(X_train_scaled, columns=X_train.columns)\n",
    "    X_test_scaled = pd.DataFrame(X_test_scaled, columns=X_test.columns)\n",
    "    \n",
    "    return X_train_scaled, X_test_scaled,y_train,y_test"
   ]
  },
  {
   "cell_type": "code",
   "execution_count": 18,
   "metadata": {
    "ExecuteTime": {
     "end_time": "2022-01-20T21:14:16.606647Z",
     "start_time": "2022-01-20T21:14:16.574028Z"
    }
   },
   "outputs": [],
   "source": [
    "X_train_scaled,X_test_scaled,y_train,y_test=data_preprocessing(df,df2)"
   ]
  },
  {
   "cell_type": "code",
   "execution_count": 52,
   "metadata": {
    "ExecuteTime": {
     "end_time": "2022-01-19T19:44:14.746874Z",
     "start_time": "2022-01-19T19:44:14.741293Z"
    }
   },
   "outputs": [],
   "source": [
    "# X_test_scaled.drop(['H_Opp_inherited_score','H_Opp_game_score','H_Opp_unknown_bat_type',\n",
    "#                     'H_Opp_inherited_runners'],axis=1,inplace=True)"
   ]
  },
  {
   "cell_type": "code",
   "execution_count": 22,
   "metadata": {
    "ExecuteTime": {
     "end_time": "2022-01-19T18:49:04.656589Z",
     "start_time": "2022-01-19T18:49:04.652407Z"
    }
   },
   "outputs": [],
   "source": [
    "# X_train_scaled.drop(['H_Opp_inherited_score','H_Opp_game_score','H_Opp_unknown_bat_type',\n",
    "#                     'H_Opp_inherited_runners'],axis=1,inplace=True)"
   ]
  },
  {
   "cell_type": "code",
   "execution_count": 19,
   "metadata": {
    "ExecuteTime": {
     "end_time": "2022-01-20T21:14:19.236227Z",
     "start_time": "2022-01-20T21:14:19.223387Z"
    }
   },
   "outputs": [],
   "source": [
    "zero_imp_train=X_train_scaled.drop(zero_importance_list,axis=1)\n",
    "zero_imp_test=X_test_scaled.drop(zero_importance_list,axis=1)"
   ]
  },
  {
   "cell_type": "markdown",
   "metadata": {},
   "source": [
    "## Feature Selection"
   ]
  },
  {
   "cell_type": "code",
   "execution_count": 71,
   "metadata": {
    "ExecuteTime": {
     "end_time": "2022-01-14T15:55:59.195279Z",
     "start_time": "2022-01-14T15:55:59.189989Z"
    }
   },
   "outputs": [],
   "source": [
    "# pca=PCA(n_components=0.7)\n",
    "# train_pca=pca.fit_transform(X_train_scaled)\n",
    "# test_pca=pca.transform(X_test_scaled)"
   ]
  },
  {
   "cell_type": "code",
   "execution_count": 51,
   "metadata": {
    "ExecuteTime": {
     "end_time": "2022-01-14T15:41:50.977209Z",
     "start_time": "2022-01-14T15:41:50.796700Z"
    }
   },
   "outputs": [
    {
     "data": {
      "image/png": "[encoded data removed]",
      "text/plain": [
       "<Figure size 432x288 with 1 Axes>"
      ]
     },
     "metadata": {
      "needs_background": "light"
     },
     "output_type": "display_data"
    }
   ],
   "source": [
    "#plt.scatter(train_pca[:,0], train_pca[:,1]);"
   ]
  },
  {
   "cell_type": "code",
   "execution_count": 20,
   "metadata": {
    "ExecuteTime": {
     "end_time": "2022-01-19T23:04:33.480151Z",
     "start_time": "2022-01-19T23:03:59.669426Z"
    }
   },
   "outputs": [],
   "source": [
    "feats= feature_select(X_train_scaled,y_train,LogisticRegression,min_features=10)"
   ]
  },
  {
   "cell_type": "code",
   "execution_count": 21,
   "metadata": {
    "ExecuteTime": {
     "end_time": "2022-01-19T23:04:33.502158Z",
     "start_time": "2022-01-19T23:04:33.483225Z"
    }
   },
   "outputs": [],
   "source": [
    "X_train_best_log = X_train_scaled[feats]\n",
    "X_test_best_log = X_test_scaled[feats]"
   ]
  },
  {
   "cell_type": "markdown",
   "metadata": {},
   "source": [
    "# Logistic Regression"
   ]
  },
  {
   "cell_type": "markdown",
   "metadata": {},
   "source": [
    "### All Feats"
   ]
  },
  {
   "cell_type": "code",
   "execution_count": 22,
   "metadata": {
    "ExecuteTime": {
     "end_time": "2022-01-19T23:04:34.956312Z",
     "start_time": "2022-01-19T23:04:33.528236Z"
    }
   },
   "outputs": [
    {
     "name": "stdout",
     "output_type": "stream",
     "text": [
      "Penalty: l1\n",
      "Solver: liblinear\n",
      "Mean Cross-Val Score: 0.5708098750564503\n",
      "Train Mean Accuracy: 0.5801317233809001\n",
      "Test Mean Accuracy: 0.5956043956043956\n",
      "Recall Score: 0.746031746031746\n",
      "Precision Score: 0.6103896103896104\n",
      "F1 Score: 0.6714285714285714\n"
     ]
    },
    {
     "data": {
      "image/png": "[encoded data removed]",
      "text/plain": [
       "<Figure size 432x288 with 1 Axes>"
      ]
     },
     "metadata": {
      "needs_background": "light"
     },
     "output_type": "display_data"
    },
    {
     "data": {
      "image/png": "[encoded data removed]",
      "text/plain": [
       "<Figure size 432x288 with 2 Axes>"
      ]
     },
     "metadata": {
      "needs_background": "light"
     },
     "output_type": "display_data"
    },
    {
     "data": {
      "image/png": "[encoded data removed]",
      "text/plain": [
       "<Figure size 432x288 with 2 Axes>"
      ]
     },
     "metadata": {
      "needs_background": "light"
     },
     "output_type": "display_data"
    }
   ],
   "source": [
    "predictions, probabilities=logreg(X_train_best_log,X_test_best_log,y_train,y_test)"
   ]
  },
  {
   "cell_type": "code",
   "execution_count": 20,
   "metadata": {
    "ExecuteTime": {
     "end_time": "2022-01-20T21:14:27.744958Z",
     "start_time": "2022-01-20T21:14:27.701024Z"
    }
   },
   "outputs": [],
   "source": [
    "def new_acc(probabilities):\n",
    "    class_list2=[]\n",
    "    for log in probabilities:\n",
    "        if log[0]<.40:\n",
    "            class_list2.append(1)\n",
    "        elif log[0]>.60:\n",
    "            class_list2.append(0)\n",
    "        else:\n",
    "            class_list2.append(3)\n",
    "    y_pred_class=pd.DataFrame(class_list2)\n",
    "    y_pred_class.reset_index(inplace=True)\n",
    "    y_test_df=pd.DataFrame(y_test)\n",
    "    y_test_df.reset_index(inplace=True)\n",
    "    comb=pd.concat([y_test_df,y_pred_class],axis=1)\n",
    "    comb.drop(['index','index'],axis=1,inplace=True)\n",
    "    comb['pred']=comb[0]\n",
    "    comb.drop([0],axis=1,inplace=True)\n",
    "    comb.drop(comb[comb['pred'] == 3].index, inplace = True)\n",
    "    count=0\n",
    "    for bools in comb['home_win']==comb['pred']:\n",
    "        if bools is True:\n",
    "            count+=1\n",
    "        else:\n",
    "            pass\n",
    "    accuracy=count/len(comb)\n",
    "    \n",
    "    return accuracy,count"
   ]
  },
  {
   "cell_type": "code",
   "execution_count": 24,
   "metadata": {
    "ExecuteTime": {
     "end_time": "2022-01-19T23:04:35.062991Z",
     "start_time": "2022-01-19T23:04:35.026653Z"
    }
   },
   "outputs": [
    {
     "data": {
      "text/plain": [
       "(0.6824324324324325, 101)"
      ]
     },
     "execution_count": 24,
     "metadata": {},
     "output_type": "execute_result"
    }
   ],
   "source": [
    "new_acc(probabilities)"
   ]
  },
  {
   "cell_type": "markdown",
   "metadata": {},
   "source": [
    "### Home_win, zero imp\n",
    "***"
   ]
  },
  {
   "cell_type": "code",
   "execution_count": 21,
   "metadata": {
    "ExecuteTime": {
     "end_time": "2022-01-20T21:15:55.355931Z",
     "start_time": "2022-01-20T21:14:54.686679Z"
    }
   },
   "outputs": [],
   "source": [
    "feats= feature_select(zero_imp_train,y_train,LogisticRegression,min_features=10)"
   ]
  },
  {
   "cell_type": "code",
   "execution_count": 22,
   "metadata": {
    "ExecuteTime": {
     "end_time": "2022-01-20T21:15:55.778049Z",
     "start_time": "2022-01-20T21:15:55.377490Z"
    }
   },
   "outputs": [],
   "source": [
    "X_train_best_log = zero_imp_train[feats]\n",
    "X_test_best_log = zero_imp_test[feats]"
   ]
  },
  {
   "cell_type": "code",
   "execution_count": 23,
   "metadata": {
    "ExecuteTime": {
     "end_time": "2022-01-20T21:16:00.416117Z",
     "start_time": "2022-01-20T21:15:55.820644Z"
    }
   },
   "outputs": [
    {
     "name": "stdout",
     "output_type": "stream",
     "text": [
      "Penalty: l1\n",
      "Solver: liblinear\n",
      "Mean Cross-Val Score: 0.5691434592804455\n",
      "Train Mean Accuracy: 0.5729967069154775\n",
      "Test Mean Accuracy: 0.5692307692307692\n",
      "Recall Score: 0.7222222222222222\n",
      "Precision Score: 0.5909090909090909\n",
      "F1 Score: 0.65\n"
     ]
    },
    {
     "data": {
      "image/png": "[encoded data removed]",
      "text/plain": [
       "<Figure size 432x288 with 1 Axes>"
      ]
     },
     "metadata": {
      "needs_background": "light"
     },
     "output_type": "display_data"
    },
    {
     "data": {
      "image/png": "[encoded data removed]",
      "text/plain": [
       "<Figure size 432x288 with 2 Axes>"
      ]
     },
     "metadata": {
      "needs_background": "light"
     },
     "output_type": "display_data"
    },
    {
     "data": {
      "image/png": "[encoded data removed]",
      "text/plain": [
       "<Figure size 432x288 with 2 Axes>"
      ]
     },
     "metadata": {
      "needs_background": "light"
     },
     "output_type": "display_data"
    }
   ],
   "source": [
    "predictions, probabilities=logreg(X_train_best_log,X_test_best_log,y_train,y_test)"
   ]
  },
  {
   "cell_type": "code",
   "execution_count": 24,
   "metadata": {
    "ExecuteTime": {
     "end_time": "2022-01-20T21:16:03.262592Z",
     "start_time": "2022-01-20T21:16:03.196439Z"
    }
   },
   "outputs": [
    {
     "data": {
      "text/plain": [
       "(0.7070063694267515, 111)"
      ]
     },
     "execution_count": 24,
     "metadata": {},
     "output_type": "execute_result"
    }
   ],
   "source": [
    "new_acc(probabilities)"
   ]
  },
  {
   "cell_type": "markdown",
   "metadata": {},
   "source": [
    "# KNN"
   ]
  },
  {
   "cell_type": "markdown",
   "metadata": {},
   "source": [
    "### Home win KNN"
   ]
  },
  {
   "cell_type": "code",
   "execution_count": 25,
   "metadata": {
    "ExecuteTime": {
     "end_time": "2022-01-19T23:05:07.299350Z",
     "start_time": "2022-01-19T23:04:43.906889Z"
    }
   },
   "outputs": [
    {
     "name": "stdout",
     "output_type": "stream",
     "text": [
      "Number of Neighbors: 17\n",
      "Metric: manhattan\n",
      "Weights: uniform\n",
      "Mean Cross-Val Score: 0.531281047719404\n",
      "Train Mean Accuracy: 0.6207464324917673\n",
      "Test Mean Accuracy: 0.6351648351648351\n",
      "Recall Score: 0.7698412698412699\n",
      "Precision Score: 0.6423841059602649\n",
      "F1 score: 0.700361010830325\n"
     ]
    },
    {
     "data": {
      "image/png": "[encoded data removed]",
      "text/plain": [
       "<Figure size 432x288 with 1 Axes>"
      ]
     },
     "metadata": {
      "needs_background": "light"
     },
     "output_type": "display_data"
    },
    {
     "data": {
      "image/png": "[encoded data removed]",
      "text/plain": [
       "<Figure size 432x288 with 2 Axes>"
      ]
     },
     "metadata": {
      "needs_background": "light"
     },
     "output_type": "display_data"
    },
    {
     "data": {
      "image/png": "[encoded data removed]",
      "text/plain": [
       "<Figure size 432x288 with 2 Axes>"
      ]
     },
     "metadata": {
      "needs_background": "light"
     },
     "output_type": "display_data"
    }
   ],
   "source": [
    "prediction,probabilities=knn(X_train_scaled,X_test_scaled,y_train,y_test)"
   ]
  },
  {
   "cell_type": "code",
   "execution_count": 26,
   "metadata": {
    "ExecuteTime": {
     "end_time": "2022-01-19T23:05:13.205215Z",
     "start_time": "2022-01-19T23:05:13.188259Z"
    }
   },
   "outputs": [
    {
     "data": {
      "text/plain": [
       "(0.6963350785340314, 133)"
      ]
     },
     "execution_count": 26,
     "metadata": {},
     "output_type": "execute_result"
    }
   ],
   "source": [
    "new_acc(probabilities)"
   ]
  },
  {
   "cell_type": "markdown",
   "metadata": {},
   "source": [
    "### Zero imp"
   ]
  },
  {
   "cell_type": "code",
   "execution_count": 25,
   "metadata": {
    "ExecuteTime": {
     "end_time": "2022-01-20T21:17:55.227251Z",
     "start_time": "2022-01-20T21:17:19.607199Z"
    }
   },
   "outputs": [
    {
     "name": "stdout",
     "output_type": "stream",
     "text": [
      "Number of Neighbors: 13\n",
      "Metric: manhattan\n",
      "Weights: uniform\n",
      "Mean Cross-Val Score: 0.5334833659491194\n",
      "Train Mean Accuracy: 0.6267837541163557\n",
      "Test Mean Accuracy: 0.6505494505494506\n",
      "Recall Score: 0.7619047619047619\n",
      "Precision Score: 0.6597938144329897\n",
      "F1 score: 0.707182320441989\n"
     ]
    },
    {
     "data": {
      "image/png": "[encoded data removed]",
      "text/plain": [
       "<Figure size 432x288 with 1 Axes>"
      ]
     },
     "metadata": {
      "needs_background": "light"
     },
     "output_type": "display_data"
    },
    {
     "data": {
      "image/png": "[encoded data removed]",
      "text/plain": [
       "<Figure size 432x288 with 2 Axes>"
      ]
     },
     "metadata": {
      "needs_background": "light"
     },
     "output_type": "display_data"
    },
    {
     "data": {
      "image/png": "[encoded data removed]",
      "text/plain": [
       "<Figure size 432x288 with 2 Axes>"
      ]
     },
     "metadata": {
      "needs_background": "light"
     },
     "output_type": "display_data"
    }
   ],
   "source": [
    "prediction,probabilities=knn(zero_imp_train,zero_imp_test,y_train,y_test)"
   ]
  },
  {
   "cell_type": "code",
   "execution_count": 26,
   "metadata": {
    "ExecuteTime": {
     "end_time": "2022-01-20T21:18:00.625076Z",
     "start_time": "2022-01-20T21:18:00.566469Z"
    }
   },
   "outputs": [
    {
     "data": {
      "text/plain": [
       "(0.6757679180887372, 198)"
      ]
     },
     "execution_count": 26,
     "metadata": {},
     "output_type": "execute_result"
    }
   ],
   "source": [
    "new_acc(probabilities)"
   ]
  },
  {
   "cell_type": "markdown",
   "metadata": {
    "heading_collapsed": true
   },
   "source": [
    "# Decision Tree"
   ]
  },
  {
   "cell_type": "code",
   "execution_count": 24,
   "metadata": {
    "ExecuteTime": {
     "end_time": "2022-01-19T18:49:39.036052Z",
     "start_time": "2022-01-19T18:49:15.999265Z"
    },
    "hidden": true
   },
   "outputs": [],
   "source": [
    "dfeats= feature_select(X_train_scaled,y_train,DecisionTreeClassifier,min_features=10)\n",
    "X_train_best_tree = X_train_scaled[dfeats]\n",
    "X_test_best_tree = X_test_scaled[dfeats]"
   ]
  },
  {
   "cell_type": "markdown",
   "metadata": {
    "hidden": true
   },
   "source": [
    "### Dtree Home Win"
   ]
  },
  {
   "cell_type": "code",
   "execution_count": 25,
   "metadata": {
    "ExecuteTime": {
     "end_time": "2022-01-19T18:49:43.830264Z",
     "start_time": "2022-01-19T18:49:39.039286Z"
    },
    "hidden": true
   },
   "outputs": [
    {
     "name": "stdout",
     "output_type": "stream",
     "text": [
      "Max Depth: 3\n",
      "Min Sample Split: 2\n",
      "criterion: entropy\n",
      "Mean Cross-Val Score: 0.5784319714903907\n",
      "Train Mean Accuracy: 0.608480856319473\n",
      "Test Mean Accuracy: 0.5909090909090909\n",
      "Recall Score: 0.5454545454545454\n",
      "Precision Score: 0.6\n",
      "F1 score: 0.5714285714285713\n"
     ]
    },
    {
     "data": {
      "image/png": "[encoded data removed]",
      "text/plain": [
       "<Figure size 432x288 with 1 Axes>"
      ]
     },
     "metadata": {
      "needs_background": "light"
     },
     "output_type": "display_data"
    },
    {
     "data": {
      "image/png": "[encoded data removed]",
      "text/plain": [
       "<Figure size 432x288 with 2 Axes>"
      ]
     },
     "metadata": {
      "needs_background": "light"
     },
     "output_type": "display_data"
    },
    {
     "data": {
      "image/png": "[encoded data removed]",
      "text/plain": [
       "<Figure size 432x288 with 2 Axes>"
      ]
     },
     "metadata": {
      "needs_background": "light"
     },
     "output_type": "display_data"
    }
   ],
   "source": [
    "predictions,probabilities=dtree(X_train_best_tree,X_test_best_tree,y_train,y_test)"
   ]
  },
  {
   "cell_type": "code",
   "execution_count": 27,
   "metadata": {
    "ExecuteTime": {
     "end_time": "2022-01-19T18:50:05.471224Z",
     "start_time": "2022-01-19T18:50:05.451515Z"
    },
    "hidden": true
   },
   "outputs": [
    {
     "data": {
      "text/plain": [
       "0.5833333333333334"
      ]
     },
     "execution_count": 27,
     "metadata": {},
     "output_type": "execute_result"
    }
   ],
   "source": [
    "new_acc(probabilities)"
   ]
  },
  {
   "cell_type": "markdown",
   "metadata": {},
   "source": [
    "# Random Forest"
   ]
  },
  {
   "cell_type": "markdown",
   "metadata": {},
   "source": [
    "### All Feats"
   ]
  },
  {
   "cell_type": "code",
   "execution_count": 27,
   "metadata": {
    "ExecuteTime": {
     "end_time": "2022-01-19T23:11:53.328650Z",
     "start_time": "2022-01-19T23:05:19.146297Z"
    }
   },
   "outputs": [],
   "source": [
    "rfeats= feature_select(X_train_scaled,y_train,RandomForestClassifier,min_features=10)\n",
    "X_train_best_for = X_train_scaled[rfeats]\n",
    "X_test_best_for = X_test_scaled[rfeats]"
   ]
  },
  {
   "cell_type": "code",
   "execution_count": 28,
   "metadata": {
    "ExecuteTime": {
     "end_time": "2022-01-19T23:13:24.708694Z",
     "start_time": "2022-01-19T23:11:53.332488Z"
    }
   },
   "outputs": [
    {
     "name": "stdout",
     "output_type": "stream",
     "text": [
      "Number of Trees: 75\n",
      "criterion: gini\n",
      "Mean Cross-Val Score: 0.5137272316724372\n",
      "Train Mean Accuracy: 0.7074643249176729\n",
      "Test Mean Accuracy: 0.7032967032967034\n",
      "Recall Score: 0.7658730158730159\n",
      "Precision Score: 0.7174721189591078\n",
      "F1 score: 0.7408829174664109\n"
     ]
    },
    {
     "data": {
      "image/png": "[encoded data removed]",
      "text/plain": [
       "<Figure size 432x288 with 1 Axes>"
      ]
     },
     "metadata": {
      "needs_background": "light"
     },
     "output_type": "display_data"
    },
    {
     "data": {
      "image/png": "[encoded data removed]",
      "text/plain": [
       "<Figure size 432x288 with 2 Axes>"
      ]
     },
     "metadata": {
      "needs_background": "light"
     },
     "output_type": "display_data"
    },
    {
     "data": {
      "image/png": "[encoded data removed]",
      "text/plain": [
       "<Figure size 432x288 with 2 Axes>"
      ]
     },
     "metadata": {
      "needs_background": "light"
     },
     "output_type": "display_data"
    }
   ],
   "source": [
    "predictions,probabilities=random_forest(X_train_best_for,X_test_best_for,y_train,y_test)"
   ]
  },
  {
   "cell_type": "code",
   "execution_count": 29,
   "metadata": {
    "ExecuteTime": {
     "end_time": "2022-01-19T23:13:24.744827Z",
     "start_time": "2022-01-19T23:13:24.712664Z"
    }
   },
   "outputs": [
    {
     "data": {
      "text/plain": [
       "(0.7657142857142857, 268)"
      ]
     },
     "execution_count": 29,
     "metadata": {},
     "output_type": "execute_result"
    }
   ],
   "source": [
    "new_acc(probabilities)"
   ]
  },
  {
   "cell_type": "markdown",
   "metadata": {},
   "source": [
    "### Zero imp"
   ]
  },
  {
   "cell_type": "code",
   "execution_count": 27,
   "metadata": {
    "ExecuteTime": {
     "end_time": "2022-01-20T21:27:20.280675Z",
     "start_time": "2022-01-20T21:19:39.895050Z"
    }
   },
   "outputs": [],
   "source": [
    "rfeats= feature_select(zero_imp_train,y_train,RandomForestClassifier,min_features=10)\n",
    "X_train_best_for = zero_imp_train[rfeats]\n",
    "X_test_best_for = zero_imp_test[rfeats]"
   ]
  },
  {
   "cell_type": "code",
   "execution_count": 28,
   "metadata": {
    "ExecuteTime": {
     "end_time": "2022-01-20T21:28:57.138007Z",
     "start_time": "2022-01-20T21:27:20.285811Z"
    }
   },
   "outputs": [
    {
     "name": "stdout",
     "output_type": "stream",
     "text": [
      "Number of Trees: 500\n",
      "criterion: gini\n",
      "Mean Cross-Val Score: 0.513725726328466\n",
      "Train Mean Accuracy: 0.7074643249176729\n",
      "Test Mean Accuracy: 0.7054945054945055\n",
      "Recall Score: 0.7936507936507936\n",
      "Precision Score: 0.7092198581560284\n",
      "F1 score: 0.749063670411985\n"
     ]
    },
    {
     "data": {
      "image/png": "[encoded data removed]",
      "text/plain": [
       "<Figure size 432x288 with 1 Axes>"
      ]
     },
     "metadata": {
      "needs_background": "light"
     },
     "output_type": "display_data"
    },
    {
     "data": {
      "image/png": "[encoded data removed]",
      "text/plain": [
       "<Figure size 432x288 with 2 Axes>"
      ]
     },
     "metadata": {
      "needs_background": "light"
     },
     "output_type": "display_data"
    },
    {
     "data": {
      "image/png": "[encoded data removed]",
      "text/plain": [
       "<Figure size 432x288 with 2 Axes>"
      ]
     },
     "metadata": {
      "needs_background": "light"
     },
     "output_type": "display_data"
    }
   ],
   "source": [
    "predictions,probabilities=random_forest(X_train_best_for,X_test_best_for,y_train,y_test)"
   ]
  },
  {
   "cell_type": "code",
   "execution_count": 29,
   "metadata": {
    "ExecuteTime": {
     "end_time": "2022-01-20T21:29:03.006456Z",
     "start_time": "2022-01-20T21:29:02.929234Z"
    }
   },
   "outputs": [
    {
     "data": {
      "text/plain": [
       "(0.7685714285714286, 269)"
      ]
     },
     "execution_count": 29,
     "metadata": {},
     "output_type": "execute_result"
    }
   ],
   "source": [
    "new_acc(probabilities)"
   ]
  },
  {
   "cell_type": "markdown",
   "metadata": {
    "heading_collapsed": true
   },
   "source": [
    "# Bagging Classifier"
   ]
  },
  {
   "cell_type": "code",
   "execution_count": 53,
   "metadata": {
    "ExecuteTime": {
     "end_time": "2022-01-18T22:02:55.328165Z",
     "start_time": "2022-01-18T21:46:08.981088Z"
    },
    "hidden": true
   },
   "outputs": [
    {
     "name": "stdout",
     "output_type": "stream",
     "text": [
      "Dec Tree Max Depth: 2\n",
      "Dec Tree Criterion: gini\n",
      "Bagging Max Samples: 3\n",
      "Bag Max Features: 2\n",
      "# of Base Estimators: 500\n",
      "Mean Cross-Val Score: 0.5891468329727207\n",
      "Train Mean Accuracy Score: 0.5673116508851379\n",
      "Test Mean Accuracy Score: 0.5\n",
      "Recall Score: 1.0\n",
      "Precision Score: 0.5\n",
      "F1 score: 0.6666666666666666\n"
     ]
    },
    {
     "data": {
      "image/png": "[encoded data removed]",
      "text/plain": [
       "<Figure size 432x288 with 1 Axes>"
      ]
     },
     "metadata": {
      "needs_background": "light"
     },
     "output_type": "display_data"
    },
    {
     "data": {
      "image/png": "[encoded data removed]",
      "text/plain": [
       "<Figure size 432x288 with 2 Axes>"
      ]
     },
     "metadata": {
      "needs_background": "light"
     },
     "output_type": "display_data"
    },
    {
     "data": {
      "image/png": "[encoded data removed]",
      "text/plain": [
       "<Figure size 432x288 with 2 Axes>"
      ]
     },
     "metadata": {
      "needs_background": "light"
     },
     "output_type": "display_data"
    }
   ],
   "source": [
    "bagged(X_train_scaled,X_test_scaled,y_train,y_test)"
   ]
  },
  {
   "cell_type": "markdown",
   "metadata": {
    "heading_collapsed": true
   },
   "source": [
    "# XGBoost"
   ]
  },
  {
   "cell_type": "code",
   "execution_count": 56,
   "metadata": {
    "ExecuteTime": {
     "end_time": "2022-01-18T22:25:14.526375Z",
     "start_time": "2022-01-18T22:18:44.271810Z"
    },
    "hidden": true
   },
   "outputs": [],
   "source": [
    "xfeats= feature_select(zero_imp_train,y_train,XGBClassifier,min_features=10)\n",
    "X_train_best_x = zero_imp_train[xfeats]\n",
    "X_test_best_x = zero_imp_test[xfeats]"
   ]
  },
  {
   "cell_type": "code",
   "execution_count": 57,
   "metadata": {
    "ExecuteTime": {
     "end_time": "2022-01-19T14:33:49.396464Z",
     "start_time": "2022-01-18T22:25:14.530886Z"
    },
    "hidden": true
   },
   "outputs": [
    {
     "name": "stdout",
     "output_type": "stream",
     "text": [
      "XGBoost Learning Rate: 0.05\n",
      "XGBoost Max Depth: 3\n",
      "XGBoost Min Child Weight: 1\n",
      "XGBoost Subsample: 0.7\n",
      "XGBoost Estimators: 100\n",
      "Stopped in Round: 15\n",
      "Mean Cross-Val Score: 0.5409766238174027\n",
      "Train Mean Accuracy Score: 0.6990531082750103\n",
      "Test Mean Accuracy Score: 0.6363636363636364\n",
      "Recall Score: 0.6363636363636364\n",
      "Precision Score: 0.6363636363636364\n",
      "F1 score: 0.6363636363636364\n"
     ]
    },
    {
     "data": {
      "image/png": "[encoded data removed]",
      "text/plain": [
       "<Figure size 432x288 with 1 Axes>"
      ]
     },
     "metadata": {
      "needs_background": "light"
     },
     "output_type": "display_data"
    },
    {
     "data": {
      "image/png": "[encoded data removed]",
      "text/plain": [
       "<Figure size 432x288 with 2 Axes>"
      ]
     },
     "metadata": {
      "needs_background": "light"
     },
     "output_type": "display_data"
    },
    {
     "data": {
      "image/png": "[encoded data removed]",
      "text/plain": [
       "<Figure size 432x288 with 2 Axes>"
      ]
     },
     "metadata": {
      "needs_background": "light"
     },
     "output_type": "display_data"
    }
   ],
   "source": [
    "xgboost(X_train_best_x, X_test_best_x, y_train, y_test, cv=5)"
   ]
  }
 ],
 "metadata": {
  "kernelspec": {
   "display_name": "Python (learn-env)",
   "language": "python",
   "name": "learn-env"
  },
  "language_info": {
   "codemirror_mode": {
    "name": "ipython",
    "version": 3
   },
   "file_extension": ".py",
   "mimetype": "text/x-python",
   "name": "python",
   "nbconvert_exporter": "python",
   "pygments_lexer": "ipython3",
   "version": "3.8.5"
  },
  "notify_time": "30"
 },
 "nbformat": 4,
 "nbformat_minor": 4
}

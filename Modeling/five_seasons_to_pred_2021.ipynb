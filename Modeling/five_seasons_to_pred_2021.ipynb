{
 "cells": [
  {
   "cell_type": "code",
   "execution_count": 1,
   "metadata": {
    "ExecuteTime": {
     "end_time": "2022-01-21T20:30:59.773280Z",
     "start_time": "2022-01-21T20:30:54.361795Z"
    }
   },
   "outputs": [],
   "source": [
    "# Import the relevant packages\n",
    "import pandas as pd\n",
    "import numpy as np\n",
    "import matplotlib.pyplot as plt\n",
    "from sklearn.linear_model import LogisticRegression\n",
    "from sklearn.model_selection import cross_val_score, train_test_split,GridSearchCV\n",
    "from sklearn.metrics import plot_confusion_matrix, plot_roc_curve, accuracy_score, \\\n",
    "recall_score, precision_score, f1_score\n",
    "from sklearn.neighbors import KNeighborsClassifier\n",
    "from sklearn.preprocessing import StandardScaler\n",
    "from sklearn.tree import DecisionTreeClassifier, plot_tree\n",
    "from sklearn.ensemble import BaggingClassifier, RandomForestClassifier\n",
    "from sklearn.ensemble import AdaBoostClassifier, GradientBoostingClassifier\n",
    "from xgboost import XGBClassifier\n",
    "import statsmodels.api as sm\n",
    "from sklearn.feature_selection import RFECV\n",
    "from sklearn.decomposition import PCA\n",
    "import warnings\n",
    "warnings.filterwarnings(\"ignore\")"
   ]
  },
  {
   "cell_type": "code",
   "execution_count": 33,
   "metadata": {
    "ExecuteTime": {
     "end_time": "2022-01-20T18:12:58.595596Z",
     "start_time": "2022-01-20T18:12:58.588464Z"
    }
   },
   "outputs": [],
   "source": [
    "#Import functions notebook and load data set here\n",
    "import sys\n",
    "sys.path.append(\"../\")\n",
    "from Modeling_functions import *"
   ]
  },
  {
   "cell_type": "code",
   "execution_count": 34,
   "metadata": {
    "ExecuteTime": {
     "end_time": "2022-01-20T18:12:59.564919Z",
     "start_time": "2022-01-20T18:12:58.792740Z"
    }
   },
   "outputs": [],
   "source": [
    "df=pd.read_csv('../data/Season_2016_21_fav_win.csv').drop('Unnamed: 0',axis=1)"
   ]
  },
  {
   "cell_type": "code",
   "execution_count": 35,
   "metadata": {
    "ExecuteTime": {
     "end_time": "2022-01-20T18:12:59.578209Z",
     "start_time": "2022-01-20T18:12:59.568662Z"
    }
   },
   "outputs": [],
   "source": [
    "n = 80\n",
    "df=df.head(int(len(df)*(n/100)))"
   ]
  },
  {
   "cell_type": "code",
   "execution_count": 36,
   "metadata": {
    "ExecuteTime": {
     "end_time": "2022-01-20T18:13:02.476527Z",
     "start_time": "2022-01-20T18:13:02.418070Z"
    },
    "scrolled": true
   },
   "outputs": [
    {
     "data": {
      "text/html": [
       "<div>\n",
       "<style scoped>\n",
       "    .dataframe tbody tr th:only-of-type {\n",
       "        vertical-align: middle;\n",
       "    }\n",
       "\n",
       "    .dataframe tbody tr th {\n",
       "        vertical-align: top;\n",
       "    }\n",
       "\n",
       "    .dataframe thead th {\n",
       "        text-align: right;\n",
       "    }\n",
       "</style>\n",
       "<table border=\"1\" class=\"dataframe\">\n",
       "  <thead>\n",
       "    <tr style=\"text-align: right;\">\n",
       "      <th></th>\n",
       "      <th>H_name</th>\n",
       "      <th>H_at_bats</th>\n",
       "      <th>H_runs</th>\n",
       "      <th>H_hits</th>\n",
       "      <th>H_rbi</th>\n",
       "      <th>H_earned_runs</th>\n",
       "      <th>H_bases_on_balls</th>\n",
       "      <th>H_strikeouts</th>\n",
       "      <th>H_plate_appearances</th>\n",
       "      <th>H_batting_average</th>\n",
       "      <th>...</th>\n",
       "      <th>A_Opp_unknown_bat_type</th>\n",
       "      <th>A_Opp_game_score</th>\n",
       "      <th>A_Opp_inherited_runners</th>\n",
       "      <th>A_Opp_inherited_score</th>\n",
       "      <th>A_Opp_win_probability_by_pitcher</th>\n",
       "      <th>A_Opp_base_out_runs_saved</th>\n",
       "      <th>A_median_odds</th>\n",
       "      <th>home_win</th>\n",
       "      <th>home_fav</th>\n",
       "      <th>fav_win</th>\n",
       "    </tr>\n",
       "  </thead>\n",
       "  <tbody>\n",
       "    <tr>\n",
       "      <th>0</th>\n",
       "      <td>PIT</td>\n",
       "      <td>33.796318</td>\n",
       "      <td>4.233602</td>\n",
       "      <td>8.424626</td>\n",
       "      <td>4.031070</td>\n",
       "      <td>3.971922</td>\n",
       "      <td>3.078251</td>\n",
       "      <td>7.860759</td>\n",
       "      <td>37.753740</td>\n",
       "      <td>0.243908</td>\n",
       "      <td>...</td>\n",
       "      <td>0.009060</td>\n",
       "      <td>50.917327</td>\n",
       "      <td>1.501144</td>\n",
       "      <td>0.496568</td>\n",
       "      <td>-0.009200</td>\n",
       "      <td>-0.155946</td>\n",
       "      <td>-131.0</td>\n",
       "      <td>1</td>\n",
       "      <td>0</td>\n",
       "      <td>0</td>\n",
       "    </tr>\n",
       "    <tr>\n",
       "      <th>1</th>\n",
       "      <td>KCR</td>\n",
       "      <td>33.912644</td>\n",
       "      <td>4.183908</td>\n",
       "      <td>8.535632</td>\n",
       "      <td>3.959770</td>\n",
       "      <td>3.978080</td>\n",
       "      <td>2.583908</td>\n",
       "      <td>7.919540</td>\n",
       "      <td>37.258621</td>\n",
       "      <td>0.246775</td>\n",
       "      <td>...</td>\n",
       "      <td>0.001148</td>\n",
       "      <td>51.851894</td>\n",
       "      <td>1.439166</td>\n",
       "      <td>0.443801</td>\n",
       "      <td>0.023777</td>\n",
       "      <td>0.027784</td>\n",
       "      <td>-123.0</td>\n",
       "      <td>1</td>\n",
       "      <td>0</td>\n",
       "      <td>0</td>\n",
       "    </tr>\n",
       "    <tr>\n",
       "      <th>2</th>\n",
       "      <td>TBR</td>\n",
       "      <td>33.897664</td>\n",
       "      <td>4.559511</td>\n",
       "      <td>8.357063</td>\n",
       "      <td>4.333704</td>\n",
       "      <td>4.346240</td>\n",
       "      <td>3.327030</td>\n",
       "      <td>9.320356</td>\n",
       "      <td>38.014461</td>\n",
       "      <td>0.241341</td>\n",
       "      <td>...</td>\n",
       "      <td>0.006810</td>\n",
       "      <td>50.852440</td>\n",
       "      <td>1.396571</td>\n",
       "      <td>0.454857</td>\n",
       "      <td>0.017824</td>\n",
       "      <td>0.040976</td>\n",
       "      <td>-141.0</td>\n",
       "      <td>0</td>\n",
       "      <td>0</td>\n",
       "      <td>1</td>\n",
       "    </tr>\n",
       "    <tr>\n",
       "      <th>3</th>\n",
       "      <td>OAK</td>\n",
       "      <td>33.789534</td>\n",
       "      <td>4.676906</td>\n",
       "      <td>8.269625</td>\n",
       "      <td>4.463026</td>\n",
       "      <td>4.483174</td>\n",
       "      <td>3.356086</td>\n",
       "      <td>8.316268</td>\n",
       "      <td>37.895336</td>\n",
       "      <td>0.239340</td>\n",
       "      <td>...</td>\n",
       "      <td>0.009174</td>\n",
       "      <td>51.178899</td>\n",
       "      <td>1.401170</td>\n",
       "      <td>0.416374</td>\n",
       "      <td>0.018536</td>\n",
       "      <td>0.161583</td>\n",
       "      <td>-102.0</td>\n",
       "      <td>0</td>\n",
       "      <td>0</td>\n",
       "      <td>1</td>\n",
       "    </tr>\n",
       "    <tr>\n",
       "      <th>4</th>\n",
       "      <td>LAA</td>\n",
       "      <td>33.696552</td>\n",
       "      <td>4.517241</td>\n",
       "      <td>8.328736</td>\n",
       "      <td>4.324138</td>\n",
       "      <td>4.299092</td>\n",
       "      <td>3.208046</td>\n",
       "      <td>7.639080</td>\n",
       "      <td>37.688506</td>\n",
       "      <td>0.241741</td>\n",
       "      <td>...</td>\n",
       "      <td>0.004415</td>\n",
       "      <td>50.486755</td>\n",
       "      <td>1.472284</td>\n",
       "      <td>0.465632</td>\n",
       "      <td>0.004262</td>\n",
       "      <td>-0.187307</td>\n",
       "      <td>-176.0</td>\n",
       "      <td>0</td>\n",
       "      <td>0</td>\n",
       "      <td>1</td>\n",
       "    </tr>\n",
       "    <tr>\n",
       "      <th>...</th>\n",
       "      <td>...</td>\n",
       "      <td>...</td>\n",
       "      <td>...</td>\n",
       "      <td>...</td>\n",
       "      <td>...</td>\n",
       "      <td>...</td>\n",
       "      <td>...</td>\n",
       "      <td>...</td>\n",
       "      <td>...</td>\n",
       "      <td>...</td>\n",
       "      <td>...</td>\n",
       "      <td>...</td>\n",
       "      <td>...</td>\n",
       "      <td>...</td>\n",
       "      <td>...</td>\n",
       "      <td>...</td>\n",
       "      <td>...</td>\n",
       "      <td>...</td>\n",
       "      <td>...</td>\n",
       "      <td>...</td>\n",
       "      <td>...</td>\n",
       "    </tr>\n",
       "    <tr>\n",
       "      <th>10615</th>\n",
       "      <td>TBR</td>\n",
       "      <td>33.897664</td>\n",
       "      <td>4.559511</td>\n",
       "      <td>8.357063</td>\n",
       "      <td>4.333704</td>\n",
       "      <td>4.346240</td>\n",
       "      <td>3.327030</td>\n",
       "      <td>9.320356</td>\n",
       "      <td>38.014461</td>\n",
       "      <td>0.241341</td>\n",
       "      <td>...</td>\n",
       "      <td>0.003308</td>\n",
       "      <td>49.253583</td>\n",
       "      <td>1.582123</td>\n",
       "      <td>0.499441</td>\n",
       "      <td>-0.006501</td>\n",
       "      <td>-0.297905</td>\n",
       "      <td>-155.0</td>\n",
       "      <td>0</td>\n",
       "      <td>0</td>\n",
       "      <td>1</td>\n",
       "    </tr>\n",
       "    <tr>\n",
       "      <th>10616</th>\n",
       "      <td>COL</td>\n",
       "      <td>34.242597</td>\n",
       "      <td>4.920273</td>\n",
       "      <td>8.998861</td>\n",
       "      <td>4.719818</td>\n",
       "      <td>4.741708</td>\n",
       "      <td>3.051253</td>\n",
       "      <td>8.671982</td>\n",
       "      <td>38.126424</td>\n",
       "      <td>0.257548</td>\n",
       "      <td>...</td>\n",
       "      <td>0.002275</td>\n",
       "      <td>50.781570</td>\n",
       "      <td>1.565865</td>\n",
       "      <td>0.498282</td>\n",
       "      <td>-0.012315</td>\n",
       "      <td>-0.111490</td>\n",
       "      <td>115.0</td>\n",
       "      <td>0</td>\n",
       "      <td>1</td>\n",
       "      <td>0</td>\n",
       "    </tr>\n",
       "    <tr>\n",
       "      <th>10617</th>\n",
       "      <td>SDP</td>\n",
       "      <td>33.333333</td>\n",
       "      <td>4.183790</td>\n",
       "      <td>7.929224</td>\n",
       "      <td>3.987443</td>\n",
       "      <td>3.950616</td>\n",
       "      <td>3.076484</td>\n",
       "      <td>9.109589</td>\n",
       "      <td>37.215753</td>\n",
       "      <td>0.233220</td>\n",
       "      <td>...</td>\n",
       "      <td>0.000000</td>\n",
       "      <td>49.631356</td>\n",
       "      <td>1.570213</td>\n",
       "      <td>0.527660</td>\n",
       "      <td>-0.036076</td>\n",
       "      <td>-0.496186</td>\n",
       "      <td>-148.0</td>\n",
       "      <td>0</td>\n",
       "      <td>0</td>\n",
       "      <td>1</td>\n",
       "    </tr>\n",
       "    <tr>\n",
       "      <th>10618</th>\n",
       "      <td>MIL</td>\n",
       "      <td>33.489290</td>\n",
       "      <td>4.463360</td>\n",
       "      <td>8.149944</td>\n",
       "      <td>4.252537</td>\n",
       "      <td>4.296144</td>\n",
       "      <td>3.565953</td>\n",
       "      <td>9.419391</td>\n",
       "      <td>37.871477</td>\n",
       "      <td>0.238328</td>\n",
       "      <td>...</td>\n",
       "      <td>0.009060</td>\n",
       "      <td>50.917327</td>\n",
       "      <td>1.501144</td>\n",
       "      <td>0.496568</td>\n",
       "      <td>-0.009200</td>\n",
       "      <td>-0.155946</td>\n",
       "      <td>-131.0</td>\n",
       "      <td>0</td>\n",
       "      <td>0</td>\n",
       "      <td>1</td>\n",
       "    </tr>\n",
       "    <tr>\n",
       "      <th>10619</th>\n",
       "      <td>PHI</td>\n",
       "      <td>33.642529</td>\n",
       "      <td>4.344828</td>\n",
       "      <td>8.172414</td>\n",
       "      <td>4.140230</td>\n",
       "      <td>4.064322</td>\n",
       "      <td>3.271264</td>\n",
       "      <td>8.790805</td>\n",
       "      <td>37.719540</td>\n",
       "      <td>0.237298</td>\n",
       "      <td>...</td>\n",
       "      <td>0.001148</td>\n",
       "      <td>51.851894</td>\n",
       "      <td>1.439166</td>\n",
       "      <td>0.443801</td>\n",
       "      <td>0.023777</td>\n",
       "      <td>0.027784</td>\n",
       "      <td>-123.0</td>\n",
       "      <td>0</td>\n",
       "      <td>0</td>\n",
       "      <td>1</td>\n",
       "    </tr>\n",
       "  </tbody>\n",
       "</table>\n",
       "<p>10620 rows × 147 columns</p>\n",
       "</div>"
      ],
      "text/plain": [
       "      H_name  H_at_bats    H_runs    H_hits     H_rbi  H_earned_runs  \\\n",
       "0        PIT  33.796318  4.233602  8.424626  4.031070       3.971922   \n",
       "1        KCR  33.912644  4.183908  8.535632  3.959770       3.978080   \n",
       "2        TBR  33.897664  4.559511  8.357063  4.333704       4.346240   \n",
       "3        OAK  33.789534  4.676906  8.269625  4.463026       4.483174   \n",
       "4        LAA  33.696552  4.517241  8.328736  4.324138       4.299092   \n",
       "...      ...        ...       ...       ...       ...            ...   \n",
       "10615    TBR  33.897664  4.559511  8.357063  4.333704       4.346240   \n",
       "10616    COL  34.242597  4.920273  8.998861  4.719818       4.741708   \n",
       "10617    SDP  33.333333  4.183790  7.929224  3.987443       3.950616   \n",
       "10618    MIL  33.489290  4.463360  8.149944  4.252537       4.296144   \n",
       "10619    PHI  33.642529  4.344828  8.172414  4.140230       4.064322   \n",
       "\n",
       "       H_bases_on_balls  H_strikeouts  H_plate_appearances  H_batting_average  \\\n",
       "0              3.078251      7.860759            37.753740           0.243908   \n",
       "1              2.583908      7.919540            37.258621           0.246775   \n",
       "2              3.327030      9.320356            38.014461           0.241341   \n",
       "3              3.356086      8.316268            37.895336           0.239340   \n",
       "4              3.208046      7.639080            37.688506           0.241741   \n",
       "...                 ...           ...                  ...                ...   \n",
       "10615          3.327030      9.320356            38.014461           0.241341   \n",
       "10616          3.051253      8.671982            38.126424           0.257548   \n",
       "10617          3.076484      9.109589            37.215753           0.233220   \n",
       "10618          3.565953      9.419391            37.871477           0.238328   \n",
       "10619          3.271264      8.790805            37.719540           0.237298   \n",
       "\n",
       "       ...  A_Opp_unknown_bat_type  A_Opp_game_score  A_Opp_inherited_runners  \\\n",
       "0      ...                0.009060         50.917327                 1.501144   \n",
       "1      ...                0.001148         51.851894                 1.439166   \n",
       "2      ...                0.006810         50.852440                 1.396571   \n",
       "3      ...                0.009174         51.178899                 1.401170   \n",
       "4      ...                0.004415         50.486755                 1.472284   \n",
       "...    ...                     ...               ...                      ...   \n",
       "10615  ...                0.003308         49.253583                 1.582123   \n",
       "10616  ...                0.002275         50.781570                 1.565865   \n",
       "10617  ...                0.000000         49.631356                 1.570213   \n",
       "10618  ...                0.009060         50.917327                 1.501144   \n",
       "10619  ...                0.001148         51.851894                 1.439166   \n",
       "\n",
       "       A_Opp_inherited_score  A_Opp_win_probability_by_pitcher  \\\n",
       "0                   0.496568                         -0.009200   \n",
       "1                   0.443801                          0.023777   \n",
       "2                   0.454857                          0.017824   \n",
       "3                   0.416374                          0.018536   \n",
       "4                   0.465632                          0.004262   \n",
       "...                      ...                               ...   \n",
       "10615               0.499441                         -0.006501   \n",
       "10616               0.498282                         -0.012315   \n",
       "10617               0.527660                         -0.036076   \n",
       "10618               0.496568                         -0.009200   \n",
       "10619               0.443801                          0.023777   \n",
       "\n",
       "       A_Opp_base_out_runs_saved  A_median_odds  home_win  home_fav  fav_win  \n",
       "0                      -0.155946         -131.0         1         0        0  \n",
       "1                       0.027784         -123.0         1         0        0  \n",
       "2                       0.040976         -141.0         0         0        1  \n",
       "3                       0.161583         -102.0         0         0        1  \n",
       "4                      -0.187307         -176.0         0         0        1  \n",
       "...                          ...            ...       ...       ...      ...  \n",
       "10615                  -0.297905         -155.0         0         0        1  \n",
       "10616                  -0.111490          115.0         0         1        0  \n",
       "10617                  -0.496186         -148.0         0         0        1  \n",
       "10618                  -0.155946         -131.0         0         0        1  \n",
       "10619                   0.027784         -123.0         0         0        1  \n",
       "\n",
       "[10620 rows x 147 columns]"
      ]
     },
     "execution_count": 36,
     "metadata": {},
     "output_type": "execute_result"
    }
   ],
   "source": [
    "df"
   ]
  },
  {
   "cell_type": "code",
   "execution_count": 37,
   "metadata": {
    "ExecuteTime": {
     "end_time": "2022-01-20T18:13:04.885513Z",
     "start_time": "2022-01-20T18:13:04.778987Z"
    }
   },
   "outputs": [],
   "source": [
    "df2=pd.read_csv('../data/Season_2021.csv').drop('Unnamed: 0',axis=1)"
   ]
  },
  {
   "cell_type": "code",
   "execution_count": 38,
   "metadata": {
    "ExecuteTime": {
     "end_time": "2022-01-20T18:13:06.480929Z",
     "start_time": "2022-01-20T18:13:06.454327Z"
    }
   },
   "outputs": [],
   "source": [
    "df=df.drop(['H_win_probability_subtracted','A_win_probability_subtracted','A_Opp_win_probability_subtracted',\n",
    "         'H_Opp_win_probability_subtracted'],axis=1)"
   ]
  },
  {
   "cell_type": "code",
   "execution_count": 39,
   "metadata": {
    "ExecuteTime": {
     "end_time": "2022-01-20T18:13:06.931970Z",
     "start_time": "2022-01-20T18:13:06.925076Z"
    }
   },
   "outputs": [],
   "source": [
    "df2=df2.drop(['H_win_probability_subtracted','A_win_probability_subtracted','A_Opp_win_probability_subtracted',\n",
    "         'H_Opp_win_probability_subtracted'],axis=1)"
   ]
  },
  {
   "cell_type": "code",
   "execution_count": 40,
   "metadata": {
    "ExecuteTime": {
     "end_time": "2022-01-20T18:13:08.068006Z",
     "start_time": "2022-01-20T18:13:08.016323Z"
    }
   },
   "outputs": [
    {
     "data": {
      "text/html": [
       "<div>\n",
       "<style scoped>\n",
       "    .dataframe tbody tr th:only-of-type {\n",
       "        vertical-align: middle;\n",
       "    }\n",
       "\n",
       "    .dataframe tbody tr th {\n",
       "        vertical-align: top;\n",
       "    }\n",
       "\n",
       "    .dataframe thead th {\n",
       "        text-align: right;\n",
       "    }\n",
       "</style>\n",
       "<table border=\"1\" class=\"dataframe\">\n",
       "  <thead>\n",
       "    <tr style=\"text-align: right;\">\n",
       "      <th></th>\n",
       "      <th>H_name</th>\n",
       "      <th>H_at_bats</th>\n",
       "      <th>H_runs</th>\n",
       "      <th>H_hits</th>\n",
       "      <th>H_rbi</th>\n",
       "      <th>H_earned_runs</th>\n",
       "      <th>H_bases_on_balls</th>\n",
       "      <th>H_strikeouts</th>\n",
       "      <th>H_plate_appearances</th>\n",
       "      <th>H_batting_average</th>\n",
       "      <th>...</th>\n",
       "      <th>A_Opp_unknown_bat_type</th>\n",
       "      <th>A_Opp_game_score</th>\n",
       "      <th>A_Opp_inherited_runners</th>\n",
       "      <th>A_Opp_inherited_score</th>\n",
       "      <th>A_Opp_win_probability_by_pitcher</th>\n",
       "      <th>A_Opp_base_out_runs_saved</th>\n",
       "      <th>A_median_odds</th>\n",
       "      <th>home_win</th>\n",
       "      <th>home_fav</th>\n",
       "      <th>fav_win</th>\n",
       "    </tr>\n",
       "  </thead>\n",
       "  <tbody>\n",
       "    <tr>\n",
       "      <th>0</th>\n",
       "      <td>PIT</td>\n",
       "      <td>33.796318</td>\n",
       "      <td>4.233602</td>\n",
       "      <td>8.424626</td>\n",
       "      <td>4.031070</td>\n",
       "      <td>3.971922</td>\n",
       "      <td>3.078251</td>\n",
       "      <td>7.860759</td>\n",
       "      <td>37.753740</td>\n",
       "      <td>0.243908</td>\n",
       "      <td>...</td>\n",
       "      <td>0.009060</td>\n",
       "      <td>50.917327</td>\n",
       "      <td>1.501144</td>\n",
       "      <td>0.496568</td>\n",
       "      <td>-0.009200</td>\n",
       "      <td>-0.155946</td>\n",
       "      <td>-131.0</td>\n",
       "      <td>1</td>\n",
       "      <td>0</td>\n",
       "      <td>0</td>\n",
       "    </tr>\n",
       "    <tr>\n",
       "      <th>1</th>\n",
       "      <td>KCR</td>\n",
       "      <td>33.912644</td>\n",
       "      <td>4.183908</td>\n",
       "      <td>8.535632</td>\n",
       "      <td>3.959770</td>\n",
       "      <td>3.978080</td>\n",
       "      <td>2.583908</td>\n",
       "      <td>7.919540</td>\n",
       "      <td>37.258621</td>\n",
       "      <td>0.246775</td>\n",
       "      <td>...</td>\n",
       "      <td>0.001148</td>\n",
       "      <td>51.851894</td>\n",
       "      <td>1.439166</td>\n",
       "      <td>0.443801</td>\n",
       "      <td>0.023777</td>\n",
       "      <td>0.027784</td>\n",
       "      <td>-123.0</td>\n",
       "      <td>1</td>\n",
       "      <td>0</td>\n",
       "      <td>0</td>\n",
       "    </tr>\n",
       "    <tr>\n",
       "      <th>2</th>\n",
       "      <td>TBR</td>\n",
       "      <td>33.897664</td>\n",
       "      <td>4.559511</td>\n",
       "      <td>8.357063</td>\n",
       "      <td>4.333704</td>\n",
       "      <td>4.346240</td>\n",
       "      <td>3.327030</td>\n",
       "      <td>9.320356</td>\n",
       "      <td>38.014461</td>\n",
       "      <td>0.241341</td>\n",
       "      <td>...</td>\n",
       "      <td>0.006810</td>\n",
       "      <td>50.852440</td>\n",
       "      <td>1.396571</td>\n",
       "      <td>0.454857</td>\n",
       "      <td>0.017824</td>\n",
       "      <td>0.040976</td>\n",
       "      <td>-141.0</td>\n",
       "      <td>0</td>\n",
       "      <td>0</td>\n",
       "      <td>1</td>\n",
       "    </tr>\n",
       "    <tr>\n",
       "      <th>3</th>\n",
       "      <td>OAK</td>\n",
       "      <td>33.789534</td>\n",
       "      <td>4.676906</td>\n",
       "      <td>8.269625</td>\n",
       "      <td>4.463026</td>\n",
       "      <td>4.483174</td>\n",
       "      <td>3.356086</td>\n",
       "      <td>8.316268</td>\n",
       "      <td>37.895336</td>\n",
       "      <td>0.239340</td>\n",
       "      <td>...</td>\n",
       "      <td>0.009174</td>\n",
       "      <td>51.178899</td>\n",
       "      <td>1.401170</td>\n",
       "      <td>0.416374</td>\n",
       "      <td>0.018536</td>\n",
       "      <td>0.161583</td>\n",
       "      <td>-102.0</td>\n",
       "      <td>0</td>\n",
       "      <td>0</td>\n",
       "      <td>1</td>\n",
       "    </tr>\n",
       "    <tr>\n",
       "      <th>4</th>\n",
       "      <td>LAA</td>\n",
       "      <td>33.696552</td>\n",
       "      <td>4.517241</td>\n",
       "      <td>8.328736</td>\n",
       "      <td>4.324138</td>\n",
       "      <td>4.299092</td>\n",
       "      <td>3.208046</td>\n",
       "      <td>7.639080</td>\n",
       "      <td>37.688506</td>\n",
       "      <td>0.241741</td>\n",
       "      <td>...</td>\n",
       "      <td>0.004415</td>\n",
       "      <td>50.486755</td>\n",
       "      <td>1.472284</td>\n",
       "      <td>0.465632</td>\n",
       "      <td>0.004262</td>\n",
       "      <td>-0.187307</td>\n",
       "      <td>-176.0</td>\n",
       "      <td>0</td>\n",
       "      <td>0</td>\n",
       "      <td>1</td>\n",
       "    </tr>\n",
       "  </tbody>\n",
       "</table>\n",
       "<p>5 rows × 143 columns</p>\n",
       "</div>"
      ],
      "text/plain": [
       "  H_name  H_at_bats    H_runs    H_hits     H_rbi  H_earned_runs  \\\n",
       "0    PIT  33.796318  4.233602  8.424626  4.031070       3.971922   \n",
       "1    KCR  33.912644  4.183908  8.535632  3.959770       3.978080   \n",
       "2    TBR  33.897664  4.559511  8.357063  4.333704       4.346240   \n",
       "3    OAK  33.789534  4.676906  8.269625  4.463026       4.483174   \n",
       "4    LAA  33.696552  4.517241  8.328736  4.324138       4.299092   \n",
       "\n",
       "   H_bases_on_balls  H_strikeouts  H_plate_appearances  H_batting_average  \\\n",
       "0          3.078251      7.860759            37.753740           0.243908   \n",
       "1          2.583908      7.919540            37.258621           0.246775   \n",
       "2          3.327030      9.320356            38.014461           0.241341   \n",
       "3          3.356086      8.316268            37.895336           0.239340   \n",
       "4          3.208046      7.639080            37.688506           0.241741   \n",
       "\n",
       "   ...  A_Opp_unknown_bat_type  A_Opp_game_score  A_Opp_inherited_runners  \\\n",
       "0  ...                0.009060         50.917327                 1.501144   \n",
       "1  ...                0.001148         51.851894                 1.439166   \n",
       "2  ...                0.006810         50.852440                 1.396571   \n",
       "3  ...                0.009174         51.178899                 1.401170   \n",
       "4  ...                0.004415         50.486755                 1.472284   \n",
       "\n",
       "   A_Opp_inherited_score  A_Opp_win_probability_by_pitcher  \\\n",
       "0               0.496568                         -0.009200   \n",
       "1               0.443801                          0.023777   \n",
       "2               0.454857                          0.017824   \n",
       "3               0.416374                          0.018536   \n",
       "4               0.465632                          0.004262   \n",
       "\n",
       "   A_Opp_base_out_runs_saved  A_median_odds  home_win  home_fav  fav_win  \n",
       "0                  -0.155946         -131.0         1         0        0  \n",
       "1                   0.027784         -123.0         1         0        0  \n",
       "2                   0.040976         -141.0         0         0        1  \n",
       "3                   0.161583         -102.0         0         0        1  \n",
       "4                  -0.187307         -176.0         0         0        1  \n",
       "\n",
       "[5 rows x 143 columns]"
      ]
     },
     "execution_count": 40,
     "metadata": {},
     "output_type": "execute_result"
    }
   ],
   "source": [
    "df.head()"
   ]
  },
  {
   "cell_type": "code",
   "execution_count": 41,
   "metadata": {
    "ExecuteTime": {
     "end_time": "2022-01-20T18:13:19.006035Z",
     "start_time": "2022-01-20T18:13:18.957091Z"
    }
   },
   "outputs": [
    {
     "data": {
      "text/html": [
       "<div>\n",
       "<style scoped>\n",
       "    .dataframe tbody tr th:only-of-type {\n",
       "        vertical-align: middle;\n",
       "    }\n",
       "\n",
       "    .dataframe tbody tr th {\n",
       "        vertical-align: top;\n",
       "    }\n",
       "\n",
       "    .dataframe thead th {\n",
       "        text-align: right;\n",
       "    }\n",
       "</style>\n",
       "<table border=\"1\" class=\"dataframe\">\n",
       "  <thead>\n",
       "    <tr style=\"text-align: right;\">\n",
       "      <th></th>\n",
       "      <th>H_name</th>\n",
       "      <th>H_at_bats</th>\n",
       "      <th>H_runs</th>\n",
       "      <th>H_hits</th>\n",
       "      <th>H_rbi</th>\n",
       "      <th>H_earned_runs</th>\n",
       "      <th>H_bases_on_balls</th>\n",
       "      <th>H_strikeouts</th>\n",
       "      <th>H_plate_appearances</th>\n",
       "      <th>H_batting_average</th>\n",
       "      <th>...</th>\n",
       "      <th>A_Opp_grounded_balls</th>\n",
       "      <th>A_Opp_fly_balls</th>\n",
       "      <th>A_Opp_line_drives</th>\n",
       "      <th>A_Opp_unknown_bat_type</th>\n",
       "      <th>A_Opp_game_score</th>\n",
       "      <th>A_Opp_inherited_runners</th>\n",
       "      <th>A_Opp_inherited_score</th>\n",
       "      <th>A_Opp_win_probability_by_pitcher</th>\n",
       "      <th>A_Opp_base_out_runs_saved</th>\n",
       "      <th>home_win</th>\n",
       "    </tr>\n",
       "  </thead>\n",
       "  <tbody>\n",
       "    <tr>\n",
       "      <th>0</th>\n",
       "      <td>DET</td>\n",
       "      <td>33.185185</td>\n",
       "      <td>4.302469</td>\n",
       "      <td>8.018519</td>\n",
       "      <td>4.166667</td>\n",
       "      <td>4.138210</td>\n",
       "      <td>3.024691</td>\n",
       "      <td>9.345679</td>\n",
       "      <td>36.907407</td>\n",
       "      <td>0.236500</td>\n",
       "      <td>...</td>\n",
       "      <td>10.685185</td>\n",
       "      <td>13.962963</td>\n",
       "      <td>5.969136</td>\n",
       "      <td>0.0</td>\n",
       "      <td>51.117284</td>\n",
       "      <td>1.238994</td>\n",
       "      <td>0.408805</td>\n",
       "      <td>0.030623</td>\n",
       "      <td>0.200617</td>\n",
       "      <td>1</td>\n",
       "    </tr>\n",
       "    <tr>\n",
       "      <th>1</th>\n",
       "      <td>MIA</td>\n",
       "      <td>33.012346</td>\n",
       "      <td>3.845679</td>\n",
       "      <td>7.679012</td>\n",
       "      <td>3.666667</td>\n",
       "      <td>3.608457</td>\n",
       "      <td>2.777778</td>\n",
       "      <td>9.586420</td>\n",
       "      <td>36.598765</td>\n",
       "      <td>0.227160</td>\n",
       "      <td>...</td>\n",
       "      <td>10.561728</td>\n",
       "      <td>14.308642</td>\n",
       "      <td>5.956790</td>\n",
       "      <td>0.0</td>\n",
       "      <td>51.925926</td>\n",
       "      <td>1.604938</td>\n",
       "      <td>0.648148</td>\n",
       "      <td>-0.048728</td>\n",
       "      <td>-0.748765</td>\n",
       "      <td>0</td>\n",
       "    </tr>\n",
       "    <tr>\n",
       "      <th>2</th>\n",
       "      <td>CIN</td>\n",
       "      <td>33.475309</td>\n",
       "      <td>4.851852</td>\n",
       "      <td>8.345679</td>\n",
       "      <td>4.666667</td>\n",
       "      <td>4.652346</td>\n",
       "      <td>3.413580</td>\n",
       "      <td>8.796296</td>\n",
       "      <td>38.037037</td>\n",
       "      <td>0.244253</td>\n",
       "      <td>...</td>\n",
       "      <td>11.500000</td>\n",
       "      <td>13.981481</td>\n",
       "      <td>6.098765</td>\n",
       "      <td>0.0</td>\n",
       "      <td>51.407407</td>\n",
       "      <td>1.106918</td>\n",
       "      <td>0.358491</td>\n",
       "      <td>-0.005957</td>\n",
       "      <td>-0.004321</td>\n",
       "      <td>0</td>\n",
       "    </tr>\n",
       "    <tr>\n",
       "      <th>3</th>\n",
       "      <td>CHC</td>\n",
       "      <td>32.753086</td>\n",
       "      <td>4.351852</td>\n",
       "      <td>7.746914</td>\n",
       "      <td>4.148148</td>\n",
       "      <td>4.157099</td>\n",
       "      <td>3.098765</td>\n",
       "      <td>9.851852</td>\n",
       "      <td>36.864198</td>\n",
       "      <td>0.231142</td>\n",
       "      <td>...</td>\n",
       "      <td>10.759259</td>\n",
       "      <td>14.820988</td>\n",
       "      <td>6.253086</td>\n",
       "      <td>0.0</td>\n",
       "      <td>52.981481</td>\n",
       "      <td>1.440252</td>\n",
       "      <td>0.465409</td>\n",
       "      <td>0.061136</td>\n",
       "      <td>0.719753</td>\n",
       "      <td>0</td>\n",
       "    </tr>\n",
       "    <tr>\n",
       "      <th>4</th>\n",
       "      <td>NYY</td>\n",
       "      <td>32.907407</td>\n",
       "      <td>4.388889</td>\n",
       "      <td>7.814815</td>\n",
       "      <td>4.111111</td>\n",
       "      <td>4.253951</td>\n",
       "      <td>3.833333</td>\n",
       "      <td>9.148148</td>\n",
       "      <td>37.407407</td>\n",
       "      <td>0.232630</td>\n",
       "      <td>...</td>\n",
       "      <td>10.456790</td>\n",
       "      <td>13.604938</td>\n",
       "      <td>5.611111</td>\n",
       "      <td>0.0</td>\n",
       "      <td>46.413580</td>\n",
       "      <td>1.304348</td>\n",
       "      <td>0.503106</td>\n",
       "      <td>-0.023549</td>\n",
       "      <td>-0.626543</td>\n",
       "      <td>0</td>\n",
       "    </tr>\n",
       "  </tbody>\n",
       "</table>\n",
       "<p>5 rows × 139 columns</p>\n",
       "</div>"
      ],
      "text/plain": [
       "  H_name  H_at_bats    H_runs    H_hits     H_rbi  H_earned_runs  \\\n",
       "0    DET  33.185185  4.302469  8.018519  4.166667       4.138210   \n",
       "1    MIA  33.012346  3.845679  7.679012  3.666667       3.608457   \n",
       "2    CIN  33.475309  4.851852  8.345679  4.666667       4.652346   \n",
       "3    CHC  32.753086  4.351852  7.746914  4.148148       4.157099   \n",
       "4    NYY  32.907407  4.388889  7.814815  4.111111       4.253951   \n",
       "\n",
       "   H_bases_on_balls  H_strikeouts  H_plate_appearances  H_batting_average  \\\n",
       "0          3.024691      9.345679            36.907407           0.236500   \n",
       "1          2.777778      9.586420            36.598765           0.227160   \n",
       "2          3.413580      8.796296            38.037037           0.244253   \n",
       "3          3.098765      9.851852            36.864198           0.231142   \n",
       "4          3.833333      9.148148            37.407407           0.232630   \n",
       "\n",
       "   ...  A_Opp_grounded_balls  A_Opp_fly_balls  A_Opp_line_drives  \\\n",
       "0  ...             10.685185        13.962963           5.969136   \n",
       "1  ...             10.561728        14.308642           5.956790   \n",
       "2  ...             11.500000        13.981481           6.098765   \n",
       "3  ...             10.759259        14.820988           6.253086   \n",
       "4  ...             10.456790        13.604938           5.611111   \n",
       "\n",
       "   A_Opp_unknown_bat_type  A_Opp_game_score  A_Opp_inherited_runners  \\\n",
       "0                     0.0         51.117284                 1.238994   \n",
       "1                     0.0         51.925926                 1.604938   \n",
       "2                     0.0         51.407407                 1.106918   \n",
       "3                     0.0         52.981481                 1.440252   \n",
       "4                     0.0         46.413580                 1.304348   \n",
       "\n",
       "   A_Opp_inherited_score  A_Opp_win_probability_by_pitcher  \\\n",
       "0               0.408805                          0.030623   \n",
       "1               0.648148                         -0.048728   \n",
       "2               0.358491                         -0.005957   \n",
       "3               0.465409                          0.061136   \n",
       "4               0.503106                         -0.023549   \n",
       "\n",
       "   A_Opp_base_out_runs_saved  home_win  \n",
       "0                   0.200617         1  \n",
       "1                  -0.748765         0  \n",
       "2                  -0.004321         0  \n",
       "3                   0.719753         0  \n",
       "4                  -0.626543         0  \n",
       "\n",
       "[5 rows x 139 columns]"
      ]
     },
     "execution_count": 41,
     "metadata": {},
     "output_type": "execute_result"
    }
   ],
   "source": [
    "df2.head()"
   ]
  },
  {
   "cell_type": "code",
   "execution_count": 42,
   "metadata": {
    "ExecuteTime": {
     "end_time": "2022-01-20T18:13:20.414977Z",
     "start_time": "2022-01-20T18:13:20.386805Z"
    }
   },
   "outputs": [],
   "source": [
    "df.drop(['H_Opp_inherited_score','H_Opp_game_score','H_Opp_unknown_bat_type',\n",
    "                    'H_Opp_inherited_runners','A_median_odds','H_median_odds','home_fav','fav_win'],axis=1,inplace=True)"
   ]
  },
  {
   "cell_type": "code",
   "execution_count": 43,
   "metadata": {
    "ExecuteTime": {
     "end_time": "2022-01-20T18:13:21.021364Z",
     "start_time": "2022-01-20T18:13:20.989836Z"
    }
   },
   "outputs": [
    {
     "data": {
      "text/html": [
       "<div>\n",
       "<style scoped>\n",
       "    .dataframe tbody tr th:only-of-type {\n",
       "        vertical-align: middle;\n",
       "    }\n",
       "\n",
       "    .dataframe tbody tr th {\n",
       "        vertical-align: top;\n",
       "    }\n",
       "\n",
       "    .dataframe thead th {\n",
       "        text-align: right;\n",
       "    }\n",
       "</style>\n",
       "<table border=\"1\" class=\"dataframe\">\n",
       "  <thead>\n",
       "    <tr style=\"text-align: right;\">\n",
       "      <th></th>\n",
       "      <th>H_name</th>\n",
       "      <th>H_at_bats</th>\n",
       "      <th>H_runs</th>\n",
       "      <th>H_hits</th>\n",
       "      <th>H_rbi</th>\n",
       "      <th>H_earned_runs</th>\n",
       "      <th>H_bases_on_balls</th>\n",
       "      <th>H_strikeouts</th>\n",
       "      <th>H_plate_appearances</th>\n",
       "      <th>H_batting_average</th>\n",
       "      <th>...</th>\n",
       "      <th>A_Opp_grounded_balls</th>\n",
       "      <th>A_Opp_fly_balls</th>\n",
       "      <th>A_Opp_line_drives</th>\n",
       "      <th>A_Opp_unknown_bat_type</th>\n",
       "      <th>A_Opp_game_score</th>\n",
       "      <th>A_Opp_inherited_runners</th>\n",
       "      <th>A_Opp_inherited_score</th>\n",
       "      <th>A_Opp_win_probability_by_pitcher</th>\n",
       "      <th>A_Opp_base_out_runs_saved</th>\n",
       "      <th>home_win</th>\n",
       "    </tr>\n",
       "  </thead>\n",
       "  <tbody>\n",
       "    <tr>\n",
       "      <th>0</th>\n",
       "      <td>PIT</td>\n",
       "      <td>33.796318</td>\n",
       "      <td>4.233602</td>\n",
       "      <td>8.424626</td>\n",
       "      <td>4.031070</td>\n",
       "      <td>3.971922</td>\n",
       "      <td>3.078251</td>\n",
       "      <td>7.860759</td>\n",
       "      <td>37.753740</td>\n",
       "      <td>0.243908</td>\n",
       "      <td>...</td>\n",
       "      <td>12.185730</td>\n",
       "      <td>13.562854</td>\n",
       "      <td>6.488109</td>\n",
       "      <td>0.009060</td>\n",
       "      <td>50.917327</td>\n",
       "      <td>1.501144</td>\n",
       "      <td>0.496568</td>\n",
       "      <td>-0.009200</td>\n",
       "      <td>-0.155946</td>\n",
       "      <td>1</td>\n",
       "    </tr>\n",
       "    <tr>\n",
       "      <th>1</th>\n",
       "      <td>KCR</td>\n",
       "      <td>33.912644</td>\n",
       "      <td>4.183908</td>\n",
       "      <td>8.535632</td>\n",
       "      <td>3.959770</td>\n",
       "      <td>3.978080</td>\n",
       "      <td>2.583908</td>\n",
       "      <td>7.919540</td>\n",
       "      <td>37.258621</td>\n",
       "      <td>0.246775</td>\n",
       "      <td>...</td>\n",
       "      <td>11.437428</td>\n",
       "      <td>13.987371</td>\n",
       "      <td>6.416762</td>\n",
       "      <td>0.001148</td>\n",
       "      <td>51.851894</td>\n",
       "      <td>1.439166</td>\n",
       "      <td>0.443801</td>\n",
       "      <td>0.023777</td>\n",
       "      <td>0.027784</td>\n",
       "      <td>1</td>\n",
       "    </tr>\n",
       "    <tr>\n",
       "      <th>2</th>\n",
       "      <td>TBR</td>\n",
       "      <td>33.897664</td>\n",
       "      <td>4.559511</td>\n",
       "      <td>8.357063</td>\n",
       "      <td>4.333704</td>\n",
       "      <td>4.346240</td>\n",
       "      <td>3.327030</td>\n",
       "      <td>9.320356</td>\n",
       "      <td>38.014461</td>\n",
       "      <td>0.241341</td>\n",
       "      <td>...</td>\n",
       "      <td>11.738933</td>\n",
       "      <td>14.301930</td>\n",
       "      <td>6.282633</td>\n",
       "      <td>0.006810</td>\n",
       "      <td>50.852440</td>\n",
       "      <td>1.396571</td>\n",
       "      <td>0.454857</td>\n",
       "      <td>0.017824</td>\n",
       "      <td>0.040976</td>\n",
       "      <td>0</td>\n",
       "    </tr>\n",
       "    <tr>\n",
       "      <th>3</th>\n",
       "      <td>OAK</td>\n",
       "      <td>33.789534</td>\n",
       "      <td>4.676906</td>\n",
       "      <td>8.269625</td>\n",
       "      <td>4.463026</td>\n",
       "      <td>4.483174</td>\n",
       "      <td>3.356086</td>\n",
       "      <td>8.316268</td>\n",
       "      <td>37.895336</td>\n",
       "      <td>0.239340</td>\n",
       "      <td>...</td>\n",
       "      <td>11.098624</td>\n",
       "      <td>14.646789</td>\n",
       "      <td>6.542431</td>\n",
       "      <td>0.009174</td>\n",
       "      <td>51.178899</td>\n",
       "      <td>1.401170</td>\n",
       "      <td>0.416374</td>\n",
       "      <td>0.018536</td>\n",
       "      <td>0.161583</td>\n",
       "      <td>0</td>\n",
       "    </tr>\n",
       "    <tr>\n",
       "      <th>4</th>\n",
       "      <td>LAA</td>\n",
       "      <td>33.696552</td>\n",
       "      <td>4.517241</td>\n",
       "      <td>8.328736</td>\n",
       "      <td>4.324138</td>\n",
       "      <td>4.299092</td>\n",
       "      <td>3.208046</td>\n",
       "      <td>7.639080</td>\n",
       "      <td>37.688506</td>\n",
       "      <td>0.241741</td>\n",
       "      <td>...</td>\n",
       "      <td>11.857616</td>\n",
       "      <td>13.327815</td>\n",
       "      <td>6.458057</td>\n",
       "      <td>0.004415</td>\n",
       "      <td>50.486755</td>\n",
       "      <td>1.472284</td>\n",
       "      <td>0.465632</td>\n",
       "      <td>0.004262</td>\n",
       "      <td>-0.187307</td>\n",
       "      <td>0</td>\n",
       "    </tr>\n",
       "  </tbody>\n",
       "</table>\n",
       "<p>5 rows × 135 columns</p>\n",
       "</div>"
      ],
      "text/plain": [
       "  H_name  H_at_bats    H_runs    H_hits     H_rbi  H_earned_runs  \\\n",
       "0    PIT  33.796318  4.233602  8.424626  4.031070       3.971922   \n",
       "1    KCR  33.912644  4.183908  8.535632  3.959770       3.978080   \n",
       "2    TBR  33.897664  4.559511  8.357063  4.333704       4.346240   \n",
       "3    OAK  33.789534  4.676906  8.269625  4.463026       4.483174   \n",
       "4    LAA  33.696552  4.517241  8.328736  4.324138       4.299092   \n",
       "\n",
       "   H_bases_on_balls  H_strikeouts  H_plate_appearances  H_batting_average  \\\n",
       "0          3.078251      7.860759            37.753740           0.243908   \n",
       "1          2.583908      7.919540            37.258621           0.246775   \n",
       "2          3.327030      9.320356            38.014461           0.241341   \n",
       "3          3.356086      8.316268            37.895336           0.239340   \n",
       "4          3.208046      7.639080            37.688506           0.241741   \n",
       "\n",
       "   ...  A_Opp_grounded_balls  A_Opp_fly_balls  A_Opp_line_drives  \\\n",
       "0  ...             12.185730        13.562854           6.488109   \n",
       "1  ...             11.437428        13.987371           6.416762   \n",
       "2  ...             11.738933        14.301930           6.282633   \n",
       "3  ...             11.098624        14.646789           6.542431   \n",
       "4  ...             11.857616        13.327815           6.458057   \n",
       "\n",
       "   A_Opp_unknown_bat_type  A_Opp_game_score  A_Opp_inherited_runners  \\\n",
       "0                0.009060         50.917327                 1.501144   \n",
       "1                0.001148         51.851894                 1.439166   \n",
       "2                0.006810         50.852440                 1.396571   \n",
       "3                0.009174         51.178899                 1.401170   \n",
       "4                0.004415         50.486755                 1.472284   \n",
       "\n",
       "   A_Opp_inherited_score  A_Opp_win_probability_by_pitcher  \\\n",
       "0               0.496568                         -0.009200   \n",
       "1               0.443801                          0.023777   \n",
       "2               0.454857                          0.017824   \n",
       "3               0.416374                          0.018536   \n",
       "4               0.465632                          0.004262   \n",
       "\n",
       "   A_Opp_base_out_runs_saved  home_win  \n",
       "0                  -0.155946         1  \n",
       "1                   0.027784         1  \n",
       "2                   0.040976         0  \n",
       "3                   0.161583         0  \n",
       "4                  -0.187307         0  \n",
       "\n",
       "[5 rows x 135 columns]"
      ]
     },
     "execution_count": 43,
     "metadata": {},
     "output_type": "execute_result"
    }
   ],
   "source": [
    "df.head()"
   ]
  },
  {
   "cell_type": "code",
   "execution_count": 44,
   "metadata": {
    "ExecuteTime": {
     "end_time": "2022-01-20T18:15:53.259013Z",
     "start_time": "2022-01-20T18:15:53.250864Z"
    }
   },
   "outputs": [],
   "source": [
    "dd=df.columns\n",
    "dr=df2.columns\n",
    "set(dr) - set(dd)\n",
    "droper=list(set(dr) - set(dd))"
   ]
  },
  {
   "cell_type": "code",
   "execution_count": 45,
   "metadata": {
    "ExecuteTime": {
     "end_time": "2022-01-20T18:16:06.725079Z",
     "start_time": "2022-01-20T18:16:06.702725Z"
    }
   },
   "outputs": [],
   "source": [
    "df2.drop(droper,axis=1,inplace=True)"
   ]
  },
  {
   "cell_type": "code",
   "execution_count": 46,
   "metadata": {
    "ExecuteTime": {
     "end_time": "2022-01-20T18:16:17.052438Z",
     "start_time": "2022-01-20T18:16:17.036356Z"
    }
   },
   "outputs": [],
   "source": [
    "def data_preprocessing(df, df2):\n",
    "    X_train = df.drop(['home_win','H_name','A_name'], axis=1)\n",
    "    X_test = df2.drop(['home_win','H_name','A_name'], axis=1)\n",
    "    y_train = df.home_win\n",
    "    y_test= df2.home_win\n",
    "    \n",
    "    ss = StandardScaler()\n",
    "    X_train_scaled = ss.fit_transform(X_train)\n",
    "    X_test_scaled = ss.transform(X_test)\n",
    "    \n",
    "    X_train_scaled = pd.DataFrame(X_train_scaled, columns=X_train.columns)\n",
    "    X_test_scaled = pd.DataFrame(X_test_scaled, columns=X_test.columns)\n",
    "    \n",
    "    return X_train_scaled, X_test_scaled,y_train,y_test"
   ]
  },
  {
   "cell_type": "code",
   "execution_count": 47,
   "metadata": {
    "ExecuteTime": {
     "end_time": "2022-01-20T18:16:17.973546Z",
     "start_time": "2022-01-20T18:16:17.833448Z"
    }
   },
   "outputs": [],
   "source": [
    "X_train_scaled,X_test_scaled,y_train,y_test=data_preprocessing(df,df2)"
   ]
  },
  {
   "cell_type": "code",
   "execution_count": 48,
   "metadata": {
    "ExecuteTime": {
     "end_time": "2022-01-20T18:16:18.535097Z",
     "start_time": "2022-01-20T18:16:18.518920Z"
    }
   },
   "outputs": [],
   "source": [
    "def new_acc(probabilities):\n",
    "    class_list2=[]\n",
    "    for log in probabilities:\n",
    "        if log[0]<.40:\n",
    "            class_list2.append(1)\n",
    "        elif log[0]>.60:\n",
    "            class_list2.append(0)\n",
    "        else:\n",
    "            class_list2.append(3)\n",
    "    y_pred_class=pd.DataFrame(class_list2)\n",
    "    y_pred_class.reset_index(inplace=True)\n",
    "    y_test_df=pd.DataFrame(y_test)\n",
    "    y_test_df.reset_index(inplace=True)\n",
    "    comb=pd.concat([y_test_df,y_pred_class],axis=1)\n",
    "    comb.drop(['index','index'],axis=1,inplace=True)\n",
    "    comb['pred']=comb[0]\n",
    "    comb.drop([0],axis=1,inplace=True)\n",
    "    comb.drop(comb[comb['pred'] == 3].index, inplace = True)\n",
    "    count=0\n",
    "    for bools in comb['home_win']==comb['pred']:\n",
    "        if bools is True:\n",
    "            count+=1\n",
    "        else:\n",
    "            pass\n",
    "    accuracy=count/len(comb)\n",
    "    \n",
    "    return accuracy,count"
   ]
  },
  {
   "cell_type": "code",
   "execution_count": 49,
   "metadata": {
    "ExecuteTime": {
     "end_time": "2022-01-20T18:18:34.532250Z",
     "start_time": "2022-01-20T18:16:19.221822Z"
    }
   },
   "outputs": [],
   "source": [
    "feats= feature_select(X_train_scaled,y_train,LogisticRegression,min_features=10)"
   ]
  },
  {
   "cell_type": "code",
   "execution_count": 50,
   "metadata": {
    "ExecuteTime": {
     "end_time": "2022-01-20T18:18:34.583556Z",
     "start_time": "2022-01-20T18:18:34.535094Z"
    }
   },
   "outputs": [],
   "source": [
    "X_train_best_log = X_train_scaled[feats]\n",
    "X_test_best_log = X_test_scaled[feats]"
   ]
  },
  {
   "cell_type": "code",
   "execution_count": 51,
   "metadata": {
    "ExecuteTime": {
     "end_time": "2022-01-20T18:19:15.424866Z",
     "start_time": "2022-01-20T18:18:34.589501Z"
    },
    "scrolled": false
   },
   "outputs": [
    {
     "name": "stdout",
     "output_type": "stream",
     "text": [
      "Penalty: l2\n",
      "Solver: newton-cg\n",
      "Mean Cross-Val Score: 0.5589453860640302\n",
      "Train Mean Accuracy: 0.5716572504708098\n",
      "Test Mean Accuracy: 0.5215562565720294\n",
      "Recall Score: 0.975609756097561\n",
      "Precision Score: 0.5200433369447454\n",
      "F1 Score: 0.6784452296819788\n"
     ]
    },
    {
     "data": {
      "image/png": "[encoded data removed]",
      "text/plain": [
       "<Figure size 432x288 with 1 Axes>"
      ]
     },
     "metadata": {
      "needs_background": "light"
     },
     "output_type": "display_data"
    },
    {
     "data": {
      "image/png": "[encoded data removed]",
      "text/plain": [
       "<Figure size 432x288 with 2 Axes>"
      ]
     },
     "metadata": {
      "needs_background": "light"
     },
     "output_type": "display_data"
    },
    {
     "data": {
      "image/png": "[encoded data removed]",
      "text/plain": [
       "<Figure size 432x288 with 2 Axes>"
      ]
     },
     "metadata": {
      "needs_background": "light"
     },
     "output_type": "display_data"
    }
   ],
   "source": [
    "predictions, probabilities=logreg(X_train_best_log,X_test_best_log,y_train,y_test)"
   ]
  },
  {
   "cell_type": "code",
   "execution_count": 52,
   "metadata": {
    "ExecuteTime": {
     "end_time": "2022-01-20T18:19:20.453861Z",
     "start_time": "2022-01-20T18:19:20.420036Z"
    }
   },
   "outputs": [
    {
     "data": {
      "text/plain": [
       "(0.5257214554579673, 419)"
      ]
     },
     "execution_count": 52,
     "metadata": {},
     "output_type": "execute_result"
    }
   ],
   "source": [
    "new_acc(probabilities)"
   ]
  },
  {
   "cell_type": "code",
   "execution_count": 53,
   "metadata": {
    "ExecuteTime": {
     "end_time": "2022-01-20T18:22:36.972178Z",
     "start_time": "2022-01-20T18:19:25.526737Z"
    }
   },
   "outputs": [
    {
     "name": "stdout",
     "output_type": "stream",
     "text": [
      "Number of Neighbors: 17\n",
      "Metric: minkowski\n",
      "Weights: uniform\n",
      "Mean Cross-Val Score: 0.5286252354048965\n",
      "Train Mean Accuracy: 0.5968926553672317\n",
      "Test Mean Accuracy: 0.5184016824395373\n",
      "Recall Score: 0.5630081300813008\n",
      "Precision Score: 0.5326923076923077\n",
      "F1 score: 0.5474308300395258\n"
     ]
    },
    {
     "data": {
      "image/png": "[encoded data removed]",
      "text/plain": [
       "<Figure size 432x288 with 1 Axes>"
      ]
     },
     "metadata": {
      "needs_background": "light"
     },
     "output_type": "display_data"
    },
    {
     "data": {
      "image/png": "[encoded data removed]",
      "text/plain": [
       "<Figure size 432x288 with 2 Axes>"
      ]
     },
     "metadata": {
      "needs_background": "light"
     },
     "output_type": "display_data"
    },
    {
     "data": {
      "image/png": "[encoded data removed]",
      "text/plain": [
       "<Figure size 432x288 with 2 Axes>"
      ]
     },
     "metadata": {
      "needs_background": "light"
     },
     "output_type": "display_data"
    }
   ],
   "source": [
    "predictions, probabilities=knn(X_train_scaled,X_test_scaled,y_train,y_test)"
   ]
  },
  {
   "cell_type": "code",
   "execution_count": 54,
   "metadata": {
    "ExecuteTime": {
     "end_time": "2022-01-20T18:22:37.038952Z",
     "start_time": "2022-01-20T18:22:36.976706Z"
    }
   },
   "outputs": [
    {
     "data": {
      "text/plain": [
       "(0.5333333333333333, 208)"
      ]
     },
     "execution_count": 54,
     "metadata": {},
     "output_type": "execute_result"
    }
   ],
   "source": [
    "new_acc(probabilities)"
   ]
  },
  {
   "cell_type": "code",
   "execution_count": 55,
   "metadata": {
    "ExecuteTime": {
     "end_time": "2022-01-20T19:04:03.490502Z",
     "start_time": "2022-01-20T18:22:45.451510Z"
    }
   },
   "outputs": [],
   "source": [
    "rfeats= feature_select(X_train_scaled,y_train,RandomForestClassifier,min_features=10)\n",
    "X_train_best_for = X_train_scaled[rfeats]\n",
    "X_test_best_for = X_test_scaled[rfeats]"
   ]
  },
  {
   "cell_type": "code",
   "execution_count": 56,
   "metadata": {
    "ExecuteTime": {
     "end_time": "2022-01-20T19:10:12.169674Z",
     "start_time": "2022-01-20T19:04:03.499292Z"
    }
   },
   "outputs": [
    {
     "name": "stdout",
     "output_type": "stream",
     "text": [
      "Number of Trees: 500\n",
      "criterion: gini\n",
      "Mean Cross-Val Score: 0.5296610169491525\n",
      "Train Mean Accuracy: 0.6209981167608286\n",
      "Test Mean Accuracy: 0.5383806519453207\n",
      "Recall Score: 0.6219512195121951\n",
      "Precision Score: 0.5474060822898033\n",
      "F1 score: 0.582302568981922\n"
     ]
    },
    {
     "data": {
      "image/png": "[encoded data removed]",
      "text/plain": [
       "<Figure size 432x288 with 1 Axes>"
      ]
     },
     "metadata": {
      "needs_background": "light"
     },
     "output_type": "display_data"
    },
    {
     "data": {
      "image/png": "[encoded data removed]",
      "text/plain": [
       "<Figure size 432x288 with 2 Axes>"
      ]
     },
     "metadata": {
      "needs_background": "light"
     },
     "output_type": "display_data"
    },
    {
     "data": {
      "image/png": "[encoded data removed]",
      "text/plain": [
       "<Figure size 432x288 with 2 Axes>"
      ]
     },
     "metadata": {
      "needs_background": "light"
     },
     "output_type": "display_data"
    }
   ],
   "source": [
    "predictions, probabilities=random_forest(X_train_best_for,X_test_best_for,y_train,y_test)"
   ]
  },
  {
   "cell_type": "code",
   "execution_count": 57,
   "metadata": {
    "ExecuteTime": {
     "end_time": "2022-01-20T19:10:12.253135Z",
     "start_time": "2022-01-20T19:10:12.187740Z"
    }
   },
   "outputs": [
    {
     "data": {
      "text/plain": [
       "(0.5658536585365853, 116)"
      ]
     },
     "execution_count": 57,
     "metadata": {},
     "output_type": "execute_result"
    }
   ],
   "source": [
    "new_acc(probabilities)"
   ]
  },
  {
   "cell_type": "code",
   "execution_count": null,
   "metadata": {},
   "outputs": [],
   "source": []
  }
 ],
 "metadata": {
  "kernelspec": {
   "display_name": "Python (learn-env)",
   "language": "python",
   "name": "learn-env"
  },
  "language_info": {
   "codemirror_mode": {
    "name": "ipython",
    "version": 3
   },
   "file_extension": ".py",
   "mimetype": "text/x-python",
   "name": "python",
   "nbconvert_exporter": "python",
   "pygments_lexer": "ipython3",
   "version": "3.8.5"
  }
 },
 "nbformat": 4,
 "nbformat_minor": 4
}

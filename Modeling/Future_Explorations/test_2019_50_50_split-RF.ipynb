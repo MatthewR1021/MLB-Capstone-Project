{
 "cells": [
  {
   "cell_type": "code",
   "execution_count": 1,
   "metadata": {
    "ExecuteTime": {
     "end_time": "2022-01-25T18:33:38.359917Z",
     "start_time": "2022-01-25T18:33:32.990731Z"
    }
   },
   "outputs": [],
   "source": [
    "# Import the relevant packages\n",
    "import pandas as pd\n",
    "import numpy as np\n",
    "import matplotlib.pyplot as plt\n",
    "from sklearn.linear_model import LogisticRegression\n",
    "from sklearn.model_selection import cross_val_score, train_test_split,GridSearchCV\n",
    "from sklearn.metrics import plot_confusion_matrix, plot_roc_curve, accuracy_score, \\\n",
    "recall_score, precision_score, f1_score\n",
    "from sklearn.neighbors import KNeighborsClassifier\n",
    "from sklearn.preprocessing import StandardScaler\n",
    "from sklearn.tree import DecisionTreeClassifier, plot_tree\n",
    "from sklearn.ensemble import BaggingClassifier, RandomForestClassifier\n",
    "from sklearn.ensemble import AdaBoostClassifier, GradientBoostingClassifier\n",
    "from xgboost import XGBClassifier\n",
    "import statsmodels.api as sm\n",
    "from sklearn.feature_selection import RFECV\n",
    "from sklearn.decomposition import PCA\n",
    "import warnings\n",
    "warnings.filterwarnings(\"ignore\")"
   ]
  },
  {
   "cell_type": "code",
   "execution_count": 2,
   "metadata": {
    "ExecuteTime": {
     "end_time": "2022-01-25T18:33:38.511148Z",
     "start_time": "2022-01-25T18:33:38.365221Z"
    }
   },
   "outputs": [],
   "source": [
    "#Import functions notebook and load data set here\n",
    "import sys\n",
    "sys.path.append(\"../\")\n",
    "from Modeling_functions import *"
   ]
  },
  {
   "cell_type": "code",
   "execution_count": 3,
   "metadata": {
    "ExecuteTime": {
     "end_time": "2022-01-25T18:33:38.699371Z",
     "start_time": "2022-01-25T18:33:38.519633Z"
    }
   },
   "outputs": [],
   "source": [
    "df=pd.read_csv('../data/Season_2019.csv')"
   ]
  },
  {
   "cell_type": "code",
   "execution_count": 4,
   "metadata": {
    "ExecuteTime": {
     "end_time": "2022-01-25T18:33:38.717275Z",
     "start_time": "2022-01-25T18:33:38.704662Z"
    }
   },
   "outputs": [],
   "source": [
    "df.drop(['Unnamed: 0'],axis=1,inplace=True)"
   ]
  },
  {
   "cell_type": "code",
   "execution_count": 5,
   "metadata": {
    "ExecuteTime": {
     "end_time": "2022-01-25T18:33:47.919733Z",
     "start_time": "2022-01-25T18:33:47.914606Z"
    }
   },
   "outputs": [],
   "source": [
    "n = 50\n",
    "df=df.head(int(len(df)*(n/100)))"
   ]
  },
  {
   "cell_type": "code",
   "execution_count": 6,
   "metadata": {
    "ExecuteTime": {
     "end_time": "2022-01-25T18:33:48.461229Z",
     "start_time": "2022-01-25T18:33:48.456123Z"
    }
   },
   "outputs": [],
   "source": [
    "n = 50\n",
    "df2=df.tail(int(len(df)*(n/100)))"
   ]
  },
  {
   "cell_type": "markdown",
   "metadata": {},
   "source": [
    "Find and eliminate NaNs"
   ]
  },
  {
   "cell_type": "code",
   "execution_count": 7,
   "metadata": {
    "ExecuteTime": {
     "end_time": "2022-01-25T18:33:52.144106Z",
     "start_time": "2022-01-25T18:33:52.136091Z"
    }
   },
   "outputs": [],
   "source": [
    "df=df.drop(['H_win_probability_subtracted','A_win_probability_subtracted','A_Opp_win_probability_subtracted',\n",
    "          'H_Opp_win_probability_subtracted'],axis=1)"
   ]
  },
  {
   "cell_type": "code",
   "execution_count": 8,
   "metadata": {
    "ExecuteTime": {
     "end_time": "2022-01-25T18:33:52.502950Z",
     "start_time": "2022-01-25T18:33:52.496436Z"
    },
    "scrolled": true
   },
   "outputs": [],
   "source": [
    "df2=df2.drop(['H_win_probability_subtracted','A_win_probability_subtracted','A_Opp_win_probability_subtracted',\n",
    "          'H_Opp_win_probability_subtracted'],axis=1)"
   ]
  },
  {
   "cell_type": "code",
   "execution_count": 9,
   "metadata": {
    "ExecuteTime": {
     "end_time": "2022-01-25T18:33:53.339257Z",
     "start_time": "2022-01-25T18:33:53.321605Z"
    }
   },
   "outputs": [
    {
     "data": {
      "text/plain": [
       "1    0.526793\n",
       "0    0.473207\n",
       "Name: home_win, dtype: float64"
      ]
     },
     "execution_count": 9,
     "metadata": {},
     "output_type": "execute_result"
    }
   ],
   "source": [
    "df.home_win.value_counts(normalize=True)"
   ]
  },
  {
   "cell_type": "code",
   "execution_count": 10,
   "metadata": {
    "ExecuteTime": {
     "end_time": "2022-01-25T18:33:54.173672Z",
     "start_time": "2022-01-25T18:33:54.164771Z"
    }
   },
   "outputs": [
    {
     "data": {
      "text/plain": [
       "1    0.516502\n",
       "0    0.483498\n",
       "Name: home_win, dtype: float64"
      ]
     },
     "execution_count": 10,
     "metadata": {},
     "output_type": "execute_result"
    }
   ],
   "source": [
    "df2.home_win.value_counts(normalize=True)"
   ]
  },
  {
   "cell_type": "code",
   "execution_count": 11,
   "metadata": {
    "ExecuteTime": {
     "end_time": "2022-01-25T18:33:56.621999Z",
     "start_time": "2022-01-25T18:33:56.560914Z"
    }
   },
   "outputs": [
    {
     "data": {
      "text/html": [
       "<div>\n",
       "<style scoped>\n",
       "    .dataframe tbody tr th:only-of-type {\n",
       "        vertical-align: middle;\n",
       "    }\n",
       "\n",
       "    .dataframe tbody tr th {\n",
       "        vertical-align: top;\n",
       "    }\n",
       "\n",
       "    .dataframe thead th {\n",
       "        text-align: right;\n",
       "    }\n",
       "</style>\n",
       "<table border=\"1\" class=\"dataframe\">\n",
       "  <thead>\n",
       "    <tr style=\"text-align: right;\">\n",
       "      <th></th>\n",
       "      <th>H_name</th>\n",
       "      <th>H_at_bats</th>\n",
       "      <th>H_runs</th>\n",
       "      <th>H_hits</th>\n",
       "      <th>H_rbi</th>\n",
       "      <th>H_earned_runs</th>\n",
       "      <th>H_bases_on_balls</th>\n",
       "      <th>H_strikeouts</th>\n",
       "      <th>H_plate_appearances</th>\n",
       "      <th>H_batting_average</th>\n",
       "      <th>...</th>\n",
       "      <th>A_Opp_grounded_balls</th>\n",
       "      <th>A_Opp_fly_balls</th>\n",
       "      <th>A_Opp_line_drives</th>\n",
       "      <th>A_Opp_unknown_bat_type</th>\n",
       "      <th>A_Opp_game_score</th>\n",
       "      <th>A_Opp_inherited_runners</th>\n",
       "      <th>A_Opp_inherited_score</th>\n",
       "      <th>A_Opp_win_probability_by_pitcher</th>\n",
       "      <th>A_Opp_base_out_runs_saved</th>\n",
       "      <th>home_win</th>\n",
       "    </tr>\n",
       "  </thead>\n",
       "  <tbody>\n",
       "    <tr>\n",
       "      <th>607</th>\n",
       "      <td>CHW</td>\n",
       "      <td>34.341615</td>\n",
       "      <td>4.397516</td>\n",
       "      <td>8.962733</td>\n",
       "      <td>4.198758</td>\n",
       "      <td>4.116770</td>\n",
       "      <td>2.347826</td>\n",
       "      <td>9.621118</td>\n",
       "      <td>37.527950</td>\n",
       "      <td>0.255795</td>\n",
       "      <td>...</td>\n",
       "      <td>10.000000</td>\n",
       "      <td>14.617284</td>\n",
       "      <td>6.345679</td>\n",
       "      <td>0.000000</td>\n",
       "      <td>50.265432</td>\n",
       "      <td>1.596273</td>\n",
       "      <td>0.534161</td>\n",
       "      <td>0.014932</td>\n",
       "      <td>0.192593</td>\n",
       "      <td>0</td>\n",
       "    </tr>\n",
       "    <tr>\n",
       "      <th>608</th>\n",
       "      <td>SFG</td>\n",
       "      <td>34.438272</td>\n",
       "      <td>4.185185</td>\n",
       "      <td>8.222222</td>\n",
       "      <td>4.043210</td>\n",
       "      <td>3.882099</td>\n",
       "      <td>2.932099</td>\n",
       "      <td>8.858025</td>\n",
       "      <td>38.086420</td>\n",
       "      <td>0.233296</td>\n",
       "      <td>...</td>\n",
       "      <td>11.679012</td>\n",
       "      <td>14.888889</td>\n",
       "      <td>6.654321</td>\n",
       "      <td>0.006173</td>\n",
       "      <td>53.833333</td>\n",
       "      <td>1.227848</td>\n",
       "      <td>0.373418</td>\n",
       "      <td>0.062080</td>\n",
       "      <td>0.395062</td>\n",
       "      <td>0</td>\n",
       "    </tr>\n",
       "    <tr>\n",
       "      <th>609</th>\n",
       "      <td>MIN</td>\n",
       "      <td>35.382716</td>\n",
       "      <td>5.796296</td>\n",
       "      <td>9.549383</td>\n",
       "      <td>5.592593</td>\n",
       "      <td>5.562531</td>\n",
       "      <td>3.240741</td>\n",
       "      <td>8.234568</td>\n",
       "      <td>39.456790</td>\n",
       "      <td>0.263704</td>\n",
       "      <td>...</td>\n",
       "      <td>10.851852</td>\n",
       "      <td>15.228395</td>\n",
       "      <td>6.753086</td>\n",
       "      <td>0.006173</td>\n",
       "      <td>49.086420</td>\n",
       "      <td>1.734177</td>\n",
       "      <td>0.474684</td>\n",
       "      <td>0.030951</td>\n",
       "      <td>0.147531</td>\n",
       "      <td>1</td>\n",
       "    </tr>\n",
       "    <tr>\n",
       "      <th>610</th>\n",
       "      <td>ATL</td>\n",
       "      <td>34.320988</td>\n",
       "      <td>5.277778</td>\n",
       "      <td>8.839506</td>\n",
       "      <td>5.086420</td>\n",
       "      <td>5.011049</td>\n",
       "      <td>3.820988</td>\n",
       "      <td>9.055556</td>\n",
       "      <td>38.901235</td>\n",
       "      <td>0.252728</td>\n",
       "      <td>...</td>\n",
       "      <td>11.524691</td>\n",
       "      <td>13.500000</td>\n",
       "      <td>6.240741</td>\n",
       "      <td>0.006173</td>\n",
       "      <td>51.290123</td>\n",
       "      <td>1.614907</td>\n",
       "      <td>0.559006</td>\n",
       "      <td>-0.000358</td>\n",
       "      <td>-0.085802</td>\n",
       "      <td>0</td>\n",
       "    </tr>\n",
       "    <tr>\n",
       "      <th>611</th>\n",
       "      <td>MIA</td>\n",
       "      <td>34.024691</td>\n",
       "      <td>3.796296</td>\n",
       "      <td>8.185185</td>\n",
       "      <td>3.660494</td>\n",
       "      <td>3.545988</td>\n",
       "      <td>2.438272</td>\n",
       "      <td>9.067901</td>\n",
       "      <td>37.314815</td>\n",
       "      <td>0.234074</td>\n",
       "      <td>...</td>\n",
       "      <td>10.975309</td>\n",
       "      <td>13.438272</td>\n",
       "      <td>6.012346</td>\n",
       "      <td>0.000000</td>\n",
       "      <td>50.345679</td>\n",
       "      <td>1.614907</td>\n",
       "      <td>0.440994</td>\n",
       "      <td>0.014716</td>\n",
       "      <td>0.109877</td>\n",
       "      <td>0</td>\n",
       "    </tr>\n",
       "    <tr>\n",
       "      <th>...</th>\n",
       "      <td>...</td>\n",
       "      <td>...</td>\n",
       "      <td>...</td>\n",
       "      <td>...</td>\n",
       "      <td>...</td>\n",
       "      <td>...</td>\n",
       "      <td>...</td>\n",
       "      <td>...</td>\n",
       "      <td>...</td>\n",
       "      <td>...</td>\n",
       "      <td>...</td>\n",
       "      <td>...</td>\n",
       "      <td>...</td>\n",
       "      <td>...</td>\n",
       "      <td>...</td>\n",
       "      <td>...</td>\n",
       "      <td>...</td>\n",
       "      <td>...</td>\n",
       "      <td>...</td>\n",
       "      <td>...</td>\n",
       "      <td>...</td>\n",
       "    </tr>\n",
       "    <tr>\n",
       "      <th>1208</th>\n",
       "      <td>MIA</td>\n",
       "      <td>34.024691</td>\n",
       "      <td>3.796296</td>\n",
       "      <td>8.185185</td>\n",
       "      <td>3.660494</td>\n",
       "      <td>3.545988</td>\n",
       "      <td>2.438272</td>\n",
       "      <td>9.067901</td>\n",
       "      <td>37.314815</td>\n",
       "      <td>0.234074</td>\n",
       "      <td>...</td>\n",
       "      <td>10.870370</td>\n",
       "      <td>14.080247</td>\n",
       "      <td>6.302469</td>\n",
       "      <td>0.012346</td>\n",
       "      <td>48.283951</td>\n",
       "      <td>1.660494</td>\n",
       "      <td>0.604938</td>\n",
       "      <td>-0.046185</td>\n",
       "      <td>-0.594444</td>\n",
       "      <td>0</td>\n",
       "    </tr>\n",
       "    <tr>\n",
       "      <th>1209</th>\n",
       "      <td>MIL</td>\n",
       "      <td>34.209877</td>\n",
       "      <td>4.746914</td>\n",
       "      <td>8.432099</td>\n",
       "      <td>4.592593</td>\n",
       "      <td>4.552593</td>\n",
       "      <td>3.882716</td>\n",
       "      <td>9.648148</td>\n",
       "      <td>38.944444</td>\n",
       "      <td>0.242580</td>\n",
       "      <td>...</td>\n",
       "      <td>11.462963</td>\n",
       "      <td>14.932099</td>\n",
       "      <td>6.709877</td>\n",
       "      <td>0.000000</td>\n",
       "      <td>50.086420</td>\n",
       "      <td>1.345912</td>\n",
       "      <td>0.459119</td>\n",
       "      <td>0.001488</td>\n",
       "      <td>0.021605</td>\n",
       "      <td>0</td>\n",
       "    </tr>\n",
       "    <tr>\n",
       "      <th>1210</th>\n",
       "      <td>NYM</td>\n",
       "      <td>34.716049</td>\n",
       "      <td>4.882716</td>\n",
       "      <td>8.919753</td>\n",
       "      <td>4.734568</td>\n",
       "      <td>4.590926</td>\n",
       "      <td>3.185185</td>\n",
       "      <td>8.543210</td>\n",
       "      <td>38.827160</td>\n",
       "      <td>0.252296</td>\n",
       "      <td>...</td>\n",
       "      <td>12.148148</td>\n",
       "      <td>13.956790</td>\n",
       "      <td>6.567901</td>\n",
       "      <td>0.006173</td>\n",
       "      <td>50.203704</td>\n",
       "      <td>1.416149</td>\n",
       "      <td>0.484472</td>\n",
       "      <td>-0.045481</td>\n",
       "      <td>-0.516667</td>\n",
       "      <td>0</td>\n",
       "    </tr>\n",
       "    <tr>\n",
       "      <th>1211</th>\n",
       "      <td>TBR</td>\n",
       "      <td>34.740741</td>\n",
       "      <td>4.746914</td>\n",
       "      <td>8.808642</td>\n",
       "      <td>4.506173</td>\n",
       "      <td>4.573704</td>\n",
       "      <td>3.345679</td>\n",
       "      <td>9.216049</td>\n",
       "      <td>38.796296</td>\n",
       "      <td>0.249895</td>\n",
       "      <td>...</td>\n",
       "      <td>11.395062</td>\n",
       "      <td>15.259259</td>\n",
       "      <td>6.746914</td>\n",
       "      <td>0.006173</td>\n",
       "      <td>49.888889</td>\n",
       "      <td>1.388889</td>\n",
       "      <td>0.493827</td>\n",
       "      <td>0.022778</td>\n",
       "      <td>0.111728</td>\n",
       "      <td>0</td>\n",
       "    </tr>\n",
       "    <tr>\n",
       "      <th>1212</th>\n",
       "      <td>LAA</td>\n",
       "      <td>34.209877</td>\n",
       "      <td>4.746914</td>\n",
       "      <td>8.444444</td>\n",
       "      <td>4.530864</td>\n",
       "      <td>4.473765</td>\n",
       "      <td>3.617284</td>\n",
       "      <td>7.876543</td>\n",
       "      <td>38.586420</td>\n",
       "      <td>0.241494</td>\n",
       "      <td>...</td>\n",
       "      <td>11.356250</td>\n",
       "      <td>15.212500</td>\n",
       "      <td>6.450000</td>\n",
       "      <td>0.000000</td>\n",
       "      <td>49.300000</td>\n",
       "      <td>1.440252</td>\n",
       "      <td>0.427673</td>\n",
       "      <td>-0.045588</td>\n",
       "      <td>-0.432500</td>\n",
       "      <td>0</td>\n",
       "    </tr>\n",
       "  </tbody>\n",
       "</table>\n",
       "<p>606 rows × 139 columns</p>\n",
       "</div>"
      ],
      "text/plain": [
       "     H_name  H_at_bats    H_runs    H_hits     H_rbi  H_earned_runs  \\\n",
       "607     CHW  34.341615  4.397516  8.962733  4.198758       4.116770   \n",
       "608     SFG  34.438272  4.185185  8.222222  4.043210       3.882099   \n",
       "609     MIN  35.382716  5.796296  9.549383  5.592593       5.562531   \n",
       "610     ATL  34.320988  5.277778  8.839506  5.086420       5.011049   \n",
       "611     MIA  34.024691  3.796296  8.185185  3.660494       3.545988   \n",
       "...     ...        ...       ...       ...       ...            ...   \n",
       "1208    MIA  34.024691  3.796296  8.185185  3.660494       3.545988   \n",
       "1209    MIL  34.209877  4.746914  8.432099  4.592593       4.552593   \n",
       "1210    NYM  34.716049  4.882716  8.919753  4.734568       4.590926   \n",
       "1211    TBR  34.740741  4.746914  8.808642  4.506173       4.573704   \n",
       "1212    LAA  34.209877  4.746914  8.444444  4.530864       4.473765   \n",
       "\n",
       "      H_bases_on_balls  H_strikeouts  H_plate_appearances  H_batting_average  \\\n",
       "607           2.347826      9.621118            37.527950           0.255795   \n",
       "608           2.932099      8.858025            38.086420           0.233296   \n",
       "609           3.240741      8.234568            39.456790           0.263704   \n",
       "610           3.820988      9.055556            38.901235           0.252728   \n",
       "611           2.438272      9.067901            37.314815           0.234074   \n",
       "...                ...           ...                  ...                ...   \n",
       "1208          2.438272      9.067901            37.314815           0.234074   \n",
       "1209          3.882716      9.648148            38.944444           0.242580   \n",
       "1210          3.185185      8.543210            38.827160           0.252296   \n",
       "1211          3.345679      9.216049            38.796296           0.249895   \n",
       "1212          3.617284      7.876543            38.586420           0.241494   \n",
       "\n",
       "      ...  A_Opp_grounded_balls  A_Opp_fly_balls  A_Opp_line_drives  \\\n",
       "607   ...             10.000000        14.617284           6.345679   \n",
       "608   ...             11.679012        14.888889           6.654321   \n",
       "609   ...             10.851852        15.228395           6.753086   \n",
       "610   ...             11.524691        13.500000           6.240741   \n",
       "611   ...             10.975309        13.438272           6.012346   \n",
       "...   ...                   ...              ...                ...   \n",
       "1208  ...             10.870370        14.080247           6.302469   \n",
       "1209  ...             11.462963        14.932099           6.709877   \n",
       "1210  ...             12.148148        13.956790           6.567901   \n",
       "1211  ...             11.395062        15.259259           6.746914   \n",
       "1212  ...             11.356250        15.212500           6.450000   \n",
       "\n",
       "      A_Opp_unknown_bat_type  A_Opp_game_score  A_Opp_inherited_runners  \\\n",
       "607                 0.000000         50.265432                 1.596273   \n",
       "608                 0.006173         53.833333                 1.227848   \n",
       "609                 0.006173         49.086420                 1.734177   \n",
       "610                 0.006173         51.290123                 1.614907   \n",
       "611                 0.000000         50.345679                 1.614907   \n",
       "...                      ...               ...                      ...   \n",
       "1208                0.012346         48.283951                 1.660494   \n",
       "1209                0.000000         50.086420                 1.345912   \n",
       "1210                0.006173         50.203704                 1.416149   \n",
       "1211                0.006173         49.888889                 1.388889   \n",
       "1212                0.000000         49.300000                 1.440252   \n",
       "\n",
       "      A_Opp_inherited_score  A_Opp_win_probability_by_pitcher  \\\n",
       "607                0.534161                          0.014932   \n",
       "608                0.373418                          0.062080   \n",
       "609                0.474684                          0.030951   \n",
       "610                0.559006                         -0.000358   \n",
       "611                0.440994                          0.014716   \n",
       "...                     ...                               ...   \n",
       "1208               0.604938                         -0.046185   \n",
       "1209               0.459119                          0.001488   \n",
       "1210               0.484472                         -0.045481   \n",
       "1211               0.493827                          0.022778   \n",
       "1212               0.427673                         -0.045588   \n",
       "\n",
       "      A_Opp_base_out_runs_saved  home_win  \n",
       "607                    0.192593         0  \n",
       "608                    0.395062         0  \n",
       "609                    0.147531         1  \n",
       "610                   -0.085802         0  \n",
       "611                    0.109877         0  \n",
       "...                         ...       ...  \n",
       "1208                  -0.594444         0  \n",
       "1209                   0.021605         0  \n",
       "1210                  -0.516667         0  \n",
       "1211                   0.111728         0  \n",
       "1212                  -0.432500         0  \n",
       "\n",
       "[606 rows x 139 columns]"
      ]
     },
     "execution_count": 11,
     "metadata": {},
     "output_type": "execute_result"
    }
   ],
   "source": [
    "#df2.drop_duplicates(inplace=True)\n",
    "df2"
   ]
  },
  {
   "cell_type": "code",
   "execution_count": 12,
   "metadata": {
    "ExecuteTime": {
     "end_time": "2022-01-25T18:33:58.681656Z",
     "start_time": "2022-01-25T18:33:58.639477Z"
    }
   },
   "outputs": [
    {
     "data": {
      "text/html": [
       "<div>\n",
       "<style scoped>\n",
       "    .dataframe tbody tr th:only-of-type {\n",
       "        vertical-align: middle;\n",
       "    }\n",
       "\n",
       "    .dataframe tbody tr th {\n",
       "        vertical-align: top;\n",
       "    }\n",
       "\n",
       "    .dataframe thead th {\n",
       "        text-align: right;\n",
       "    }\n",
       "</style>\n",
       "<table border=\"1\" class=\"dataframe\">\n",
       "  <thead>\n",
       "    <tr style=\"text-align: right;\">\n",
       "      <th></th>\n",
       "      <th>H_name</th>\n",
       "      <th>H_at_bats</th>\n",
       "      <th>H_runs</th>\n",
       "      <th>H_hits</th>\n",
       "      <th>H_rbi</th>\n",
       "      <th>H_earned_runs</th>\n",
       "      <th>H_bases_on_balls</th>\n",
       "      <th>H_strikeouts</th>\n",
       "      <th>H_plate_appearances</th>\n",
       "      <th>H_batting_average</th>\n",
       "      <th>...</th>\n",
       "      <th>A_Opp_grounded_balls</th>\n",
       "      <th>A_Opp_fly_balls</th>\n",
       "      <th>A_Opp_line_drives</th>\n",
       "      <th>A_Opp_unknown_bat_type</th>\n",
       "      <th>A_Opp_game_score</th>\n",
       "      <th>A_Opp_inherited_runners</th>\n",
       "      <th>A_Opp_inherited_score</th>\n",
       "      <th>A_Opp_win_probability_by_pitcher</th>\n",
       "      <th>A_Opp_base_out_runs_saved</th>\n",
       "      <th>home_win</th>\n",
       "    </tr>\n",
       "  </thead>\n",
       "  <tbody>\n",
       "    <tr>\n",
       "      <th>0</th>\n",
       "      <td>NYY</td>\n",
       "      <td>34.462963</td>\n",
       "      <td>5.820988</td>\n",
       "      <td>9.216049</td>\n",
       "      <td>5.580247</td>\n",
       "      <td>5.632593</td>\n",
       "      <td>3.512346</td>\n",
       "      <td>8.870370</td>\n",
       "      <td>38.549383</td>\n",
       "      <td>0.262302</td>\n",
       "      <td>...</td>\n",
       "      <td>11.413580</td>\n",
       "      <td>16.395062</td>\n",
       "      <td>7.179012</td>\n",
       "      <td>0.000000</td>\n",
       "      <td>50.549383</td>\n",
       "      <td>1.385093</td>\n",
       "      <td>0.347826</td>\n",
       "      <td>0.068586</td>\n",
       "      <td>0.470370</td>\n",
       "      <td>1</td>\n",
       "    </tr>\n",
       "    <tr>\n",
       "      <th>1</th>\n",
       "      <td>TBR</td>\n",
       "      <td>34.740741</td>\n",
       "      <td>4.746914</td>\n",
       "      <td>8.808642</td>\n",
       "      <td>4.506173</td>\n",
       "      <td>4.573704</td>\n",
       "      <td>3.345679</td>\n",
       "      <td>9.216049</td>\n",
       "      <td>38.796296</td>\n",
       "      <td>0.249895</td>\n",
       "      <td>...</td>\n",
       "      <td>10.450617</td>\n",
       "      <td>13.179012</td>\n",
       "      <td>5.604938</td>\n",
       "      <td>0.018519</td>\n",
       "      <td>44.759259</td>\n",
       "      <td>1.679245</td>\n",
       "      <td>0.515723</td>\n",
       "      <td>-0.041290</td>\n",
       "      <td>-0.733333</td>\n",
       "      <td>0</td>\n",
       "    </tr>\n",
       "    <tr>\n",
       "      <th>2</th>\n",
       "      <td>TEX</td>\n",
       "      <td>34.197531</td>\n",
       "      <td>5.000000</td>\n",
       "      <td>8.481481</td>\n",
       "      <td>4.722222</td>\n",
       "      <td>4.666852</td>\n",
       "      <td>3.296296</td>\n",
       "      <td>9.740741</td>\n",
       "      <td>38.296296</td>\n",
       "      <td>0.242006</td>\n",
       "      <td>...</td>\n",
       "      <td>11.913580</td>\n",
       "      <td>13.555556</td>\n",
       "      <td>6.617284</td>\n",
       "      <td>0.000000</td>\n",
       "      <td>48.759259</td>\n",
       "      <td>1.487654</td>\n",
       "      <td>0.462963</td>\n",
       "      <td>-0.006420</td>\n",
       "      <td>-0.281481</td>\n",
       "      <td>0</td>\n",
       "    </tr>\n",
       "    <tr>\n",
       "      <th>3</th>\n",
       "      <td>MIA</td>\n",
       "      <td>34.024691</td>\n",
       "      <td>3.796296</td>\n",
       "      <td>8.185185</td>\n",
       "      <td>3.660494</td>\n",
       "      <td>3.545988</td>\n",
       "      <td>2.438272</td>\n",
       "      <td>9.067901</td>\n",
       "      <td>37.314815</td>\n",
       "      <td>0.234074</td>\n",
       "      <td>...</td>\n",
       "      <td>13.172840</td>\n",
       "      <td>14.685185</td>\n",
       "      <td>7.179012</td>\n",
       "      <td>0.000000</td>\n",
       "      <td>48.524691</td>\n",
       "      <td>1.347826</td>\n",
       "      <td>0.453416</td>\n",
       "      <td>0.017148</td>\n",
       "      <td>-0.015432</td>\n",
       "      <td>0</td>\n",
       "    </tr>\n",
       "    <tr>\n",
       "      <th>4</th>\n",
       "      <td>TOR</td>\n",
       "      <td>33.907407</td>\n",
       "      <td>4.481481</td>\n",
       "      <td>8.018519</td>\n",
       "      <td>4.302469</td>\n",
       "      <td>4.286975</td>\n",
       "      <td>3.141975</td>\n",
       "      <td>9.345679</td>\n",
       "      <td>37.598765</td>\n",
       "      <td>0.229025</td>\n",
       "      <td>...</td>\n",
       "      <td>11.869565</td>\n",
       "      <td>15.248447</td>\n",
       "      <td>6.645963</td>\n",
       "      <td>0.006211</td>\n",
       "      <td>54.776398</td>\n",
       "      <td>1.139241</td>\n",
       "      <td>0.316456</td>\n",
       "      <td>0.134677</td>\n",
       "      <td>1.446584</td>\n",
       "      <td>0</td>\n",
       "    </tr>\n",
       "  </tbody>\n",
       "</table>\n",
       "<p>5 rows × 139 columns</p>\n",
       "</div>"
      ],
      "text/plain": [
       "  H_name  H_at_bats    H_runs    H_hits     H_rbi  H_earned_runs  \\\n",
       "0    NYY  34.462963  5.820988  9.216049  5.580247       5.632593   \n",
       "1    TBR  34.740741  4.746914  8.808642  4.506173       4.573704   \n",
       "2    TEX  34.197531  5.000000  8.481481  4.722222       4.666852   \n",
       "3    MIA  34.024691  3.796296  8.185185  3.660494       3.545988   \n",
       "4    TOR  33.907407  4.481481  8.018519  4.302469       4.286975   \n",
       "\n",
       "   H_bases_on_balls  H_strikeouts  H_plate_appearances  H_batting_average  \\\n",
       "0          3.512346      8.870370            38.549383           0.262302   \n",
       "1          3.345679      9.216049            38.796296           0.249895   \n",
       "2          3.296296      9.740741            38.296296           0.242006   \n",
       "3          2.438272      9.067901            37.314815           0.234074   \n",
       "4          3.141975      9.345679            37.598765           0.229025   \n",
       "\n",
       "   ...  A_Opp_grounded_balls  A_Opp_fly_balls  A_Opp_line_drives  \\\n",
       "0  ...             11.413580        16.395062           7.179012   \n",
       "1  ...             10.450617        13.179012           5.604938   \n",
       "2  ...             11.913580        13.555556           6.617284   \n",
       "3  ...             13.172840        14.685185           7.179012   \n",
       "4  ...             11.869565        15.248447           6.645963   \n",
       "\n",
       "   A_Opp_unknown_bat_type  A_Opp_game_score  A_Opp_inherited_runners  \\\n",
       "0                0.000000         50.549383                 1.385093   \n",
       "1                0.018519         44.759259                 1.679245   \n",
       "2                0.000000         48.759259                 1.487654   \n",
       "3                0.000000         48.524691                 1.347826   \n",
       "4                0.006211         54.776398                 1.139241   \n",
       "\n",
       "   A_Opp_inherited_score  A_Opp_win_probability_by_pitcher  \\\n",
       "0               0.347826                          0.068586   \n",
       "1               0.515723                         -0.041290   \n",
       "2               0.462963                         -0.006420   \n",
       "3               0.453416                          0.017148   \n",
       "4               0.316456                          0.134677   \n",
       "\n",
       "   A_Opp_base_out_runs_saved  home_win  \n",
       "0                   0.470370         1  \n",
       "1                  -0.733333         0  \n",
       "2                  -0.281481         0  \n",
       "3                  -0.015432         0  \n",
       "4                   1.446584         0  \n",
       "\n",
       "[5 rows x 139 columns]"
      ]
     },
     "execution_count": 12,
     "metadata": {},
     "output_type": "execute_result"
    }
   ],
   "source": [
    "df.head()"
   ]
  },
  {
   "cell_type": "code",
   "execution_count": 16,
   "metadata": {
    "ExecuteTime": {
     "end_time": "2022-01-25T18:34:00.351478Z",
     "start_time": "2022-01-25T18:34:00.315735Z"
    },
    "scrolled": true
   },
   "outputs": [
    {
     "data": {
      "text/html": [
       "<div>\n",
       "<style scoped>\n",
       "    .dataframe tbody tr th:only-of-type {\n",
       "        vertical-align: middle;\n",
       "    }\n",
       "\n",
       "    .dataframe tbody tr th {\n",
       "        vertical-align: top;\n",
       "    }\n",
       "\n",
       "    .dataframe thead th {\n",
       "        text-align: right;\n",
       "    }\n",
       "</style>\n",
       "<table border=\"1\" class=\"dataframe\">\n",
       "  <thead>\n",
       "    <tr style=\"text-align: right;\">\n",
       "      <th></th>\n",
       "      <th>H_name</th>\n",
       "      <th>H_at_bats</th>\n",
       "      <th>H_runs</th>\n",
       "      <th>H_hits</th>\n",
       "      <th>H_rbi</th>\n",
       "      <th>H_earned_runs</th>\n",
       "      <th>H_bases_on_balls</th>\n",
       "      <th>H_strikeouts</th>\n",
       "      <th>H_plate_appearances</th>\n",
       "      <th>H_batting_average</th>\n",
       "      <th>...</th>\n",
       "      <th>A_Opp_grounded_balls</th>\n",
       "      <th>A_Opp_fly_balls</th>\n",
       "      <th>A_Opp_line_drives</th>\n",
       "      <th>A_Opp_unknown_bat_type</th>\n",
       "      <th>A_Opp_game_score</th>\n",
       "      <th>A_Opp_inherited_runners</th>\n",
       "      <th>A_Opp_inherited_score</th>\n",
       "      <th>A_Opp_win_probability_by_pitcher</th>\n",
       "      <th>A_Opp_base_out_runs_saved</th>\n",
       "      <th>home_win</th>\n",
       "    </tr>\n",
       "  </thead>\n",
       "  <tbody>\n",
       "    <tr>\n",
       "      <th>607</th>\n",
       "      <td>CHW</td>\n",
       "      <td>34.341615</td>\n",
       "      <td>4.397516</td>\n",
       "      <td>8.962733</td>\n",
       "      <td>4.198758</td>\n",
       "      <td>4.116770</td>\n",
       "      <td>2.347826</td>\n",
       "      <td>9.621118</td>\n",
       "      <td>37.527950</td>\n",
       "      <td>0.255795</td>\n",
       "      <td>...</td>\n",
       "      <td>10.000000</td>\n",
       "      <td>14.617284</td>\n",
       "      <td>6.345679</td>\n",
       "      <td>0.000000</td>\n",
       "      <td>50.265432</td>\n",
       "      <td>1.596273</td>\n",
       "      <td>0.534161</td>\n",
       "      <td>0.014932</td>\n",
       "      <td>0.192593</td>\n",
       "      <td>0</td>\n",
       "    </tr>\n",
       "    <tr>\n",
       "      <th>608</th>\n",
       "      <td>SFG</td>\n",
       "      <td>34.438272</td>\n",
       "      <td>4.185185</td>\n",
       "      <td>8.222222</td>\n",
       "      <td>4.043210</td>\n",
       "      <td>3.882099</td>\n",
       "      <td>2.932099</td>\n",
       "      <td>8.858025</td>\n",
       "      <td>38.086420</td>\n",
       "      <td>0.233296</td>\n",
       "      <td>...</td>\n",
       "      <td>11.679012</td>\n",
       "      <td>14.888889</td>\n",
       "      <td>6.654321</td>\n",
       "      <td>0.006173</td>\n",
       "      <td>53.833333</td>\n",
       "      <td>1.227848</td>\n",
       "      <td>0.373418</td>\n",
       "      <td>0.062080</td>\n",
       "      <td>0.395062</td>\n",
       "      <td>0</td>\n",
       "    </tr>\n",
       "    <tr>\n",
       "      <th>609</th>\n",
       "      <td>MIN</td>\n",
       "      <td>35.382716</td>\n",
       "      <td>5.796296</td>\n",
       "      <td>9.549383</td>\n",
       "      <td>5.592593</td>\n",
       "      <td>5.562531</td>\n",
       "      <td>3.240741</td>\n",
       "      <td>8.234568</td>\n",
       "      <td>39.456790</td>\n",
       "      <td>0.263704</td>\n",
       "      <td>...</td>\n",
       "      <td>10.851852</td>\n",
       "      <td>15.228395</td>\n",
       "      <td>6.753086</td>\n",
       "      <td>0.006173</td>\n",
       "      <td>49.086420</td>\n",
       "      <td>1.734177</td>\n",
       "      <td>0.474684</td>\n",
       "      <td>0.030951</td>\n",
       "      <td>0.147531</td>\n",
       "      <td>1</td>\n",
       "    </tr>\n",
       "    <tr>\n",
       "      <th>610</th>\n",
       "      <td>ATL</td>\n",
       "      <td>34.320988</td>\n",
       "      <td>5.277778</td>\n",
       "      <td>8.839506</td>\n",
       "      <td>5.086420</td>\n",
       "      <td>5.011049</td>\n",
       "      <td>3.820988</td>\n",
       "      <td>9.055556</td>\n",
       "      <td>38.901235</td>\n",
       "      <td>0.252728</td>\n",
       "      <td>...</td>\n",
       "      <td>11.524691</td>\n",
       "      <td>13.500000</td>\n",
       "      <td>6.240741</td>\n",
       "      <td>0.006173</td>\n",
       "      <td>51.290123</td>\n",
       "      <td>1.614907</td>\n",
       "      <td>0.559006</td>\n",
       "      <td>-0.000358</td>\n",
       "      <td>-0.085802</td>\n",
       "      <td>0</td>\n",
       "    </tr>\n",
       "    <tr>\n",
       "      <th>611</th>\n",
       "      <td>MIA</td>\n",
       "      <td>34.024691</td>\n",
       "      <td>3.796296</td>\n",
       "      <td>8.185185</td>\n",
       "      <td>3.660494</td>\n",
       "      <td>3.545988</td>\n",
       "      <td>2.438272</td>\n",
       "      <td>9.067901</td>\n",
       "      <td>37.314815</td>\n",
       "      <td>0.234074</td>\n",
       "      <td>...</td>\n",
       "      <td>10.975309</td>\n",
       "      <td>13.438272</td>\n",
       "      <td>6.012346</td>\n",
       "      <td>0.000000</td>\n",
       "      <td>50.345679</td>\n",
       "      <td>1.614907</td>\n",
       "      <td>0.440994</td>\n",
       "      <td>0.014716</td>\n",
       "      <td>0.109877</td>\n",
       "      <td>0</td>\n",
       "    </tr>\n",
       "  </tbody>\n",
       "</table>\n",
       "<p>5 rows × 139 columns</p>\n",
       "</div>"
      ],
      "text/plain": [
       "    H_name  H_at_bats    H_runs    H_hits     H_rbi  H_earned_runs  \\\n",
       "607    CHW  34.341615  4.397516  8.962733  4.198758       4.116770   \n",
       "608    SFG  34.438272  4.185185  8.222222  4.043210       3.882099   \n",
       "609    MIN  35.382716  5.796296  9.549383  5.592593       5.562531   \n",
       "610    ATL  34.320988  5.277778  8.839506  5.086420       5.011049   \n",
       "611    MIA  34.024691  3.796296  8.185185  3.660494       3.545988   \n",
       "\n",
       "     H_bases_on_balls  H_strikeouts  H_plate_appearances  H_batting_average  \\\n",
       "607          2.347826      9.621118            37.527950           0.255795   \n",
       "608          2.932099      8.858025            38.086420           0.233296   \n",
       "609          3.240741      8.234568            39.456790           0.263704   \n",
       "610          3.820988      9.055556            38.901235           0.252728   \n",
       "611          2.438272      9.067901            37.314815           0.234074   \n",
       "\n",
       "     ...  A_Opp_grounded_balls  A_Opp_fly_balls  A_Opp_line_drives  \\\n",
       "607  ...             10.000000        14.617284           6.345679   \n",
       "608  ...             11.679012        14.888889           6.654321   \n",
       "609  ...             10.851852        15.228395           6.753086   \n",
       "610  ...             11.524691        13.500000           6.240741   \n",
       "611  ...             10.975309        13.438272           6.012346   \n",
       "\n",
       "     A_Opp_unknown_bat_type  A_Opp_game_score  A_Opp_inherited_runners  \\\n",
       "607                0.000000         50.265432                 1.596273   \n",
       "608                0.006173         53.833333                 1.227848   \n",
       "609                0.006173         49.086420                 1.734177   \n",
       "610                0.006173         51.290123                 1.614907   \n",
       "611                0.000000         50.345679                 1.614907   \n",
       "\n",
       "     A_Opp_inherited_score  A_Opp_win_probability_by_pitcher  \\\n",
       "607               0.534161                          0.014932   \n",
       "608               0.373418                          0.062080   \n",
       "609               0.474684                          0.030951   \n",
       "610               0.559006                         -0.000358   \n",
       "611               0.440994                          0.014716   \n",
       "\n",
       "     A_Opp_base_out_runs_saved  home_win  \n",
       "607                   0.192593         0  \n",
       "608                   0.395062         0  \n",
       "609                   0.147531         1  \n",
       "610                  -0.085802         0  \n",
       "611                   0.109877         0  \n",
       "\n",
       "[5 rows x 139 columns]"
      ]
     },
     "execution_count": 16,
     "metadata": {},
     "output_type": "execute_result"
    }
   ],
   "source": [
    "df2.head()"
   ]
  },
  {
   "cell_type": "code",
   "execution_count": 17,
   "metadata": {
    "ExecuteTime": {
     "end_time": "2022-01-25T18:34:00.946071Z",
     "start_time": "2022-01-25T18:34:00.937714Z"
    }
   },
   "outputs": [],
   "source": [
    "def data_preprocessing(df, df2):\n",
    "    X_train = df.drop(['home_win','H_name','A_name'], axis=1)\n",
    "    X_test = df2.drop(['home_win','H_name','A_name'], axis=1)\n",
    "    y_train = df.home_win\n",
    "    y_test= df2.home_win\n",
    "    \n",
    "    ss = StandardScaler()\n",
    "    X_train_scaled = ss.fit_transform(X_train)\n",
    "    X_test_scaled = ss.transform(X_test)\n",
    "    \n",
    "    X_train_scaled = pd.DataFrame(X_train_scaled, columns=X_train.columns)\n",
    "    X_test_scaled = pd.DataFrame(X_test_scaled, columns=X_test.columns)\n",
    "    \n",
    "    return X_train_scaled, X_test_scaled,y_train,y_test"
   ]
  },
  {
   "cell_type": "code",
   "execution_count": 18,
   "metadata": {
    "ExecuteTime": {
     "end_time": "2022-01-25T18:34:01.621443Z",
     "start_time": "2022-01-25T18:34:01.598420Z"
    }
   },
   "outputs": [],
   "source": [
    "X_train_scaled,X_test_scaled,y_train,y_test=data_preprocessing(df,df2)"
   ]
  },
  {
   "cell_type": "code",
   "execution_count": 19,
   "metadata": {
    "ExecuteTime": {
     "end_time": "2022-01-25T18:34:02.229470Z",
     "start_time": "2022-01-25T18:34:02.226334Z"
    }
   },
   "outputs": [],
   "source": [
    "# X_test_scaled.drop(['H_Opp_inherited_score','H_Opp_game_score','H_Opp_unknown_bat_type',\n",
    "#                     'H_Opp_inherited_runners'],axis=1,inplace=True)"
   ]
  },
  {
   "cell_type": "code",
   "execution_count": 20,
   "metadata": {
    "ExecuteTime": {
     "end_time": "2022-01-25T18:34:02.581750Z",
     "start_time": "2022-01-25T18:34:02.566539Z"
    }
   },
   "outputs": [],
   "source": [
    "# X_train_scaled.drop(['H_Opp_inherited_score','H_Opp_game_score','H_Opp_unknown_bat_type',\n",
    "#                     'H_Opp_inherited_runners'],axis=1,inplace=True)"
   ]
  },
  {
   "cell_type": "markdown",
   "metadata": {},
   "source": [
    "## Feature Selection"
   ]
  },
  {
   "cell_type": "code",
   "execution_count": 26,
   "metadata": {
    "ExecuteTime": {
     "end_time": "2022-01-25T19:07:43.022075Z",
     "start_time": "2022-01-25T19:07:42.946323Z"
    }
   },
   "outputs": [],
   "source": [
    "def new_acc(probabilities):\n",
    "    class_list2=[]\n",
    "    for log in probabilities:\n",
    "        if log[0]<.40:\n",
    "            class_list2.append(1)\n",
    "        elif log[0]>.60:\n",
    "            class_list2.append(0)\n",
    "        else:\n",
    "            class_list2.append(3)\n",
    "    y_pred_class=pd.DataFrame(class_list2)\n",
    "    y_pred_class.reset_index(inplace=True)\n",
    "    y_test_df=pd.DataFrame(y_test)\n",
    "    y_test_df.reset_index(inplace=True)\n",
    "    comb=pd.concat([y_test_df,y_pred_class],axis=1)\n",
    "    comb.drop(['index','index'],axis=1,inplace=True)\n",
    "    comb['pred']=comb[0]\n",
    "    comb.drop([0],axis=1,inplace=True)\n",
    "    comb.drop(comb[comb['pred'] == 3].index, inplace = True)\n",
    "    count=0\n",
    "    for bools in comb['home_win']==comb['pred']:\n",
    "        if bools is True:\n",
    "            count+=1\n",
    "        else:\n",
    "            pass\n",
    "    accuracy=count/len(comb)\n",
    "    \n",
    "    return accuracy,count"
   ]
  },
  {
   "cell_type": "markdown",
   "metadata": {},
   "source": [
    "### RFECV"
   ]
  },
  {
   "cell_type": "code",
   "execution_count": 28,
   "metadata": {
    "ExecuteTime": {
     "end_time": "2022-01-25T19:14:36.798678Z",
     "start_time": "2022-01-25T19:08:27.665425Z"
    }
   },
   "outputs": [],
   "source": [
    "rfeats= feature_select(X_train_scaled,y_train,RandomForestClassifier,min_features=10)\n",
    "X_train_best_for = X_train_scaled[rfeats]\n",
    "X_test_best_for = X_test_scaled[rfeats]"
   ]
  },
  {
   "cell_type": "code",
   "execution_count": 29,
   "metadata": {
    "ExecuteTime": {
     "end_time": "2022-01-25T19:15:50.340369Z",
     "start_time": "2022-01-25T19:14:36.801899Z"
    }
   },
   "outputs": [
    {
     "name": "stdout",
     "output_type": "stream",
     "text": [
      "Number of Trees: 115\n",
      "criterion: gini\n",
      "Mean Cross-Val Score: 0.547413529231711\n",
      "Train Mean Accuracy: 0.7271228359439407\n",
      "Test Mean Accuracy: 0.7227722772277227\n",
      "Recall Score: 0.7667731629392971\n",
      "Precision Score: 0.7164179104477612\n",
      "F1 score: 0.7407407407407407\n"
     ]
    },
    {
     "data": {
      "image/png": "[encoded data removed]",
      "text/plain": [
       "<Figure size 432x288 with 1 Axes>"
      ]
     },
     "metadata": {
      "needs_background": "light"
     },
     "output_type": "display_data"
    },
    {
     "data": {
      "image/png": "[encoded data removed]",
      "text/plain": [
       "<Figure size 432x288 with 2 Axes>"
      ]
     },
     "metadata": {
      "needs_background": "light"
     },
     "output_type": "display_data"
    },
    {
     "data": {
      "image/png": "[encoded data removed]",
      "text/plain": [
       "<Figure size 432x288 with 2 Axes>"
      ]
     },
     "metadata": {
      "needs_background": "light"
     },
     "output_type": "display_data"
    }
   ],
   "source": [
    "predictions,probabilities=random_forest(X_train_best_for,X_test_best_for,y_train,y_test)"
   ]
  },
  {
   "cell_type": "code",
   "execution_count": 30,
   "metadata": {
    "ExecuteTime": {
     "end_time": "2022-01-25T19:15:54.555806Z",
     "start_time": "2022-01-25T19:15:54.525225Z"
    }
   },
   "outputs": [
    {
     "data": {
      "text/plain": [
       "(0.7848101265822784, 372)"
      ]
     },
     "execution_count": 30,
     "metadata": {},
     "output_type": "execute_result"
    }
   ],
   "source": [
    "new_acc(probabilities)"
   ]
  },
  {
   "cell_type": "markdown",
   "metadata": {},
   "source": [
    "### PCA"
   ]
  },
  {
   "cell_type": "code",
   "execution_count": 31,
   "metadata": {
    "ExecuteTime": {
     "end_time": "2022-01-25T19:18:43.809900Z",
     "start_time": "2022-01-25T19:18:43.685814Z"
    }
   },
   "outputs": [],
   "source": [
    "pca=PCA(n_components=0.9)\n",
    "train_pca=pca.fit_transform(X_train_scaled)\n",
    "test_pca=pca.transform(X_test_scaled)"
   ]
  },
  {
   "cell_type": "code",
   "execution_count": 32,
   "metadata": {
    "ExecuteTime": {
     "end_time": "2022-01-25T22:08:20.741856Z",
     "start_time": "2022-01-25T22:07:07.680621Z"
    }
   },
   "outputs": [
    {
     "name": "stdout",
     "output_type": "stream",
     "text": [
      "Number of Trees: 75\n",
      "criterion: gini\n",
      "Mean Cross-Val Score: 0.5325511002278679\n",
      "Train Mean Accuracy: 0.7271228359439407\n",
      "Test Mean Accuracy: 0.7227722772277227\n",
      "Recall Score: 0.7763578274760383\n",
      "Precision Score: 0.7126099706744868\n",
      "F1 score: 0.743119266055046\n"
     ]
    },
    {
     "data": {
      "image/png": "[encoded data removed]",
      "text/plain": [
       "<Figure size 432x288 with 1 Axes>"
      ]
     },
     "metadata": {
      "needs_background": "light"
     },
     "output_type": "display_data"
    },
    {
     "data": {
      "image/png": "[encoded data removed]",
      "text/plain": [
       "<Figure size 432x288 with 2 Axes>"
      ]
     },
     "metadata": {
      "needs_background": "light"
     },
     "output_type": "display_data"
    },
    {
     "data": {
      "image/png": "[encoded data removed]",
      "text/plain": [
       "<Figure size 432x288 with 2 Axes>"
      ]
     },
     "metadata": {
      "needs_background": "light"
     },
     "output_type": "display_data"
    }
   ],
   "source": [
    "predictions,probabilities=random_forest(train_pca,test_pca,y_train,y_test)"
   ]
  },
  {
   "cell_type": "code",
   "execution_count": 33,
   "metadata": {
    "ExecuteTime": {
     "end_time": "2022-01-25T22:08:27.944165Z",
     "start_time": "2022-01-25T22:08:27.898919Z"
    }
   },
   "outputs": [
    {
     "data": {
      "text/plain": [
       "(0.7883369330453563, 365)"
      ]
     },
     "execution_count": 33,
     "metadata": {},
     "output_type": "execute_result"
    }
   ],
   "source": [
    "new_acc(probabilities)"
   ]
  }
 ],
 "metadata": {
  "kernelspec": {
   "display_name": "Python (learn-env)",
   "language": "python",
   "name": "learn-env"
  },
  "language_info": {
   "codemirror_mode": {
    "name": "ipython",
    "version": 3
   },
   "file_extension": ".py",
   "mimetype": "text/x-python",
   "name": "python",
   "nbconvert_exporter": "python",
   "pygments_lexer": "ipython3",
   "version": "3.8.5"
  },
  "notify_time": "30"
 },
 "nbformat": 4,
 "nbformat_minor": 4
}

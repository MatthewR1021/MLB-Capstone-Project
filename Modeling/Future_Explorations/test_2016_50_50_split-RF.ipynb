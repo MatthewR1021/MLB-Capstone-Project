{
 "cells": [
  {
   "cell_type": "code",
   "execution_count": 1,
   "metadata": {
    "ExecuteTime": {
     "end_time": "2022-01-25T22:09:26.061418Z",
     "start_time": "2022-01-25T22:09:20.952753Z"
    }
   },
   "outputs": [],
   "source": [
    "# Import the relevant packages\n",
    "import pandas as pd\n",
    "import numpy as np\n",
    "import matplotlib.pyplot as plt\n",
    "from sklearn.linear_model import LogisticRegression\n",
    "from sklearn.model_selection import cross_val_score, train_test_split,GridSearchCV\n",
    "from sklearn.metrics import plot_confusion_matrix, plot_roc_curve, accuracy_score, \\\n",
    "recall_score, precision_score, f1_score\n",
    "from sklearn.neighbors import KNeighborsClassifier\n",
    "from sklearn.preprocessing import StandardScaler\n",
    "from sklearn.tree import DecisionTreeClassifier, plot_tree\n",
    "from sklearn.ensemble import BaggingClassifier, RandomForestClassifier\n",
    "from sklearn.ensemble import AdaBoostClassifier, GradientBoostingClassifier\n",
    "from xgboost import XGBClassifier\n",
    "import statsmodels.api as sm\n",
    "from sklearn.feature_selection import RFECV\n",
    "from sklearn.decomposition import PCA\n",
    "import warnings\n",
    "warnings.filterwarnings(\"ignore\")"
   ]
  },
  {
   "cell_type": "code",
   "execution_count": 2,
   "metadata": {
    "ExecuteTime": {
     "end_time": "2022-01-25T22:09:26.211551Z",
     "start_time": "2022-01-25T22:09:26.066589Z"
    }
   },
   "outputs": [],
   "source": [
    "#Import functions notebook and load data set here\n",
    "import sys\n",
    "sys.path.append(\"../\")\n",
    "from Modeling_functions import *"
   ]
  },
  {
   "cell_type": "code",
   "execution_count": 3,
   "metadata": {
    "ExecuteTime": {
     "end_time": "2022-01-25T22:09:26.443584Z",
     "start_time": "2022-01-25T22:09:26.228353Z"
    }
   },
   "outputs": [],
   "source": [
    "df=pd.read_csv('../data/Season_2016.csv')"
   ]
  },
  {
   "cell_type": "code",
   "execution_count": 4,
   "metadata": {
    "ExecuteTime": {
     "end_time": "2022-01-25T22:09:27.804329Z",
     "start_time": "2022-01-25T22:09:27.790023Z"
    }
   },
   "outputs": [],
   "source": [
    "df.drop(['Unnamed: 0'],axis=1,inplace=True)"
   ]
  },
  {
   "cell_type": "code",
   "execution_count": 5,
   "metadata": {
    "ExecuteTime": {
     "end_time": "2022-01-25T22:09:30.692472Z",
     "start_time": "2022-01-25T22:09:30.677266Z"
    }
   },
   "outputs": [],
   "source": [
    "n = 50\n",
    "df=df.head(int(len(df)*(n/100)))"
   ]
  },
  {
   "cell_type": "code",
   "execution_count": 6,
   "metadata": {
    "ExecuteTime": {
     "end_time": "2022-01-25T22:09:31.082908Z",
     "start_time": "2022-01-25T22:09:31.078521Z"
    }
   },
   "outputs": [],
   "source": [
    "n = 50\n",
    "df2=df.tail(int(len(df)*(n/100)))"
   ]
  },
  {
   "cell_type": "markdown",
   "metadata": {},
   "source": [
    "Find and eliminate NaNs"
   ]
  },
  {
   "cell_type": "code",
   "execution_count": 7,
   "metadata": {
    "ExecuteTime": {
     "end_time": "2022-01-25T22:09:32.295548Z",
     "start_time": "2022-01-25T22:09:32.271074Z"
    }
   },
   "outputs": [],
   "source": [
    "df=df.drop(['H_win_probability_subtracted','A_win_probability_subtracted','A_Opp_win_probability_subtracted',\n",
    "          'H_Opp_win_probability_subtracted'],axis=1)"
   ]
  },
  {
   "cell_type": "code",
   "execution_count": 8,
   "metadata": {
    "ExecuteTime": {
     "end_time": "2022-01-25T22:09:32.913943Z",
     "start_time": "2022-01-25T22:09:32.891055Z"
    },
    "scrolled": true
   },
   "outputs": [],
   "source": [
    "df2=df2.drop(['H_win_probability_subtracted','A_win_probability_subtracted','A_Opp_win_probability_subtracted',\n",
    "          'H_Opp_win_probability_subtracted'],axis=1)"
   ]
  },
  {
   "cell_type": "code",
   "execution_count": 9,
   "metadata": {
    "ExecuteTime": {
     "end_time": "2022-01-25T22:09:33.886213Z",
     "start_time": "2022-01-25T22:09:33.859910Z"
    }
   },
   "outputs": [
    {
     "data": {
      "text/plain": [
       "1    0.521417\n",
       "0    0.478583\n",
       "Name: home_win, dtype: float64"
      ]
     },
     "execution_count": 9,
     "metadata": {},
     "output_type": "execute_result"
    }
   ],
   "source": [
    "df.home_win.value_counts(normalize=True)"
   ]
  },
  {
   "cell_type": "code",
   "execution_count": 10,
   "metadata": {
    "ExecuteTime": {
     "end_time": "2022-01-25T22:09:34.880947Z",
     "start_time": "2022-01-25T22:09:34.869341Z"
    }
   },
   "outputs": [
    {
     "data": {
      "text/plain": [
       "1    0.54201\n",
       "0    0.45799\n",
       "Name: home_win, dtype: float64"
      ]
     },
     "execution_count": 10,
     "metadata": {},
     "output_type": "execute_result"
    }
   ],
   "source": [
    "df2.home_win.value_counts(normalize=True)"
   ]
  },
  {
   "cell_type": "code",
   "execution_count": 11,
   "metadata": {
    "ExecuteTime": {
     "end_time": "2022-01-25T22:09:35.428221Z",
     "start_time": "2022-01-25T22:09:35.368470Z"
    }
   },
   "outputs": [
    {
     "data": {
      "text/html": [
       "<div>\n",
       "<style scoped>\n",
       "    .dataframe tbody tr th:only-of-type {\n",
       "        vertical-align: middle;\n",
       "    }\n",
       "\n",
       "    .dataframe tbody tr th {\n",
       "        vertical-align: top;\n",
       "    }\n",
       "\n",
       "    .dataframe thead th {\n",
       "        text-align: right;\n",
       "    }\n",
       "</style>\n",
       "<table border=\"1\" class=\"dataframe\">\n",
       "  <thead>\n",
       "    <tr style=\"text-align: right;\">\n",
       "      <th></th>\n",
       "      <th>H_name</th>\n",
       "      <th>H_at_bats</th>\n",
       "      <th>H_runs</th>\n",
       "      <th>H_hits</th>\n",
       "      <th>H_rbi</th>\n",
       "      <th>H_earned_runs</th>\n",
       "      <th>H_bases_on_balls</th>\n",
       "      <th>H_strikeouts</th>\n",
       "      <th>H_plate_appearances</th>\n",
       "      <th>H_batting_average</th>\n",
       "      <th>...</th>\n",
       "      <th>A_Opp_grounded_balls</th>\n",
       "      <th>A_Opp_fly_balls</th>\n",
       "      <th>A_Opp_line_drives</th>\n",
       "      <th>A_Opp_unknown_bat_type</th>\n",
       "      <th>A_Opp_game_score</th>\n",
       "      <th>A_Opp_inherited_runners</th>\n",
       "      <th>A_Opp_inherited_score</th>\n",
       "      <th>A_Opp_win_probability_by_pitcher</th>\n",
       "      <th>A_Opp_base_out_runs_saved</th>\n",
       "      <th>home_win</th>\n",
       "    </tr>\n",
       "  </thead>\n",
       "  <tbody>\n",
       "    <tr>\n",
       "      <th>607</th>\n",
       "      <td>LAA</td>\n",
       "      <td>33.524691</td>\n",
       "      <td>4.425926</td>\n",
       "      <td>8.703704</td>\n",
       "      <td>4.234568</td>\n",
       "      <td>4.204444</td>\n",
       "      <td>2.907407</td>\n",
       "      <td>6.117284</td>\n",
       "      <td>37.290123</td>\n",
       "      <td>0.253123</td>\n",
       "      <td>...</td>\n",
       "      <td>10.956790</td>\n",
       "      <td>13.672840</td>\n",
       "      <td>6.462963</td>\n",
       "      <td>0.000000</td>\n",
       "      <td>50.617284</td>\n",
       "      <td>1.465409</td>\n",
       "      <td>0.496855</td>\n",
       "      <td>-0.009241</td>\n",
       "      <td>-0.120370</td>\n",
       "      <td>1</td>\n",
       "    </tr>\n",
       "    <tr>\n",
       "      <th>608</th>\n",
       "      <td>PIT</td>\n",
       "      <td>34.209877</td>\n",
       "      <td>4.500000</td>\n",
       "      <td>8.802469</td>\n",
       "      <td>4.296296</td>\n",
       "      <td>4.191914</td>\n",
       "      <td>3.462963</td>\n",
       "      <td>8.234568</td>\n",
       "      <td>38.648148</td>\n",
       "      <td>0.252074</td>\n",
       "      <td>...</td>\n",
       "      <td>12.819876</td>\n",
       "      <td>14.583851</td>\n",
       "      <td>6.944099</td>\n",
       "      <td>0.000000</td>\n",
       "      <td>53.105590</td>\n",
       "      <td>1.575949</td>\n",
       "      <td>0.493671</td>\n",
       "      <td>0.059988</td>\n",
       "      <td>0.422360</td>\n",
       "      <td>1</td>\n",
       "    </tr>\n",
       "    <tr>\n",
       "      <th>609</th>\n",
       "      <td>MIN</td>\n",
       "      <td>34.679012</td>\n",
       "      <td>4.456790</td>\n",
       "      <td>8.697531</td>\n",
       "      <td>4.259259</td>\n",
       "      <td>4.135864</td>\n",
       "      <td>3.166667</td>\n",
       "      <td>8.802469</td>\n",
       "      <td>38.549383</td>\n",
       "      <td>0.245883</td>\n",
       "      <td>...</td>\n",
       "      <td>12.598765</td>\n",
       "      <td>13.808642</td>\n",
       "      <td>6.240741</td>\n",
       "      <td>0.006173</td>\n",
       "      <td>50.950617</td>\n",
       "      <td>1.543210</td>\n",
       "      <td>0.493827</td>\n",
       "      <td>0.008802</td>\n",
       "      <td>-0.098765</td>\n",
       "      <td>0</td>\n",
       "    </tr>\n",
       "    <tr>\n",
       "      <th>610</th>\n",
       "      <td>PIT</td>\n",
       "      <td>34.209877</td>\n",
       "      <td>4.500000</td>\n",
       "      <td>8.802469</td>\n",
       "      <td>4.296296</td>\n",
       "      <td>4.191914</td>\n",
       "      <td>3.462963</td>\n",
       "      <td>8.234568</td>\n",
       "      <td>38.648148</td>\n",
       "      <td>0.252074</td>\n",
       "      <td>...</td>\n",
       "      <td>13.969136</td>\n",
       "      <td>13.481481</td>\n",
       "      <td>7.308642</td>\n",
       "      <td>0.006173</td>\n",
       "      <td>47.030864</td>\n",
       "      <td>1.559006</td>\n",
       "      <td>0.552795</td>\n",
       "      <td>-0.033364</td>\n",
       "      <td>-0.499383</td>\n",
       "      <td>1</td>\n",
       "    </tr>\n",
       "    <tr>\n",
       "      <th>611</th>\n",
       "      <td>NYM</td>\n",
       "      <td>33.697531</td>\n",
       "      <td>4.141975</td>\n",
       "      <td>8.283951</td>\n",
       "      <td>4.006173</td>\n",
       "      <td>4.064568</td>\n",
       "      <td>3.191358</td>\n",
       "      <td>8.037037</td>\n",
       "      <td>37.746914</td>\n",
       "      <td>0.239772</td>\n",
       "      <td>...</td>\n",
       "      <td>13.129630</td>\n",
       "      <td>14.141975</td>\n",
       "      <td>7.154321</td>\n",
       "      <td>0.006173</td>\n",
       "      <td>52.814815</td>\n",
       "      <td>1.456250</td>\n",
       "      <td>0.506250</td>\n",
       "      <td>0.056568</td>\n",
       "      <td>0.306173</td>\n",
       "      <td>1</td>\n",
       "    </tr>\n",
       "    <tr>\n",
       "      <th>...</th>\n",
       "      <td>...</td>\n",
       "      <td>...</td>\n",
       "      <td>...</td>\n",
       "      <td>...</td>\n",
       "      <td>...</td>\n",
       "      <td>...</td>\n",
       "      <td>...</td>\n",
       "      <td>...</td>\n",
       "      <td>...</td>\n",
       "      <td>...</td>\n",
       "      <td>...</td>\n",
       "      <td>...</td>\n",
       "      <td>...</td>\n",
       "      <td>...</td>\n",
       "      <td>...</td>\n",
       "      <td>...</td>\n",
       "      <td>...</td>\n",
       "      <td>...</td>\n",
       "      <td>...</td>\n",
       "      <td>...</td>\n",
       "      <td>...</td>\n",
       "    </tr>\n",
       "    <tr>\n",
       "      <th>1209</th>\n",
       "      <td>HOU</td>\n",
       "      <td>34.228395</td>\n",
       "      <td>4.469136</td>\n",
       "      <td>8.438272</td>\n",
       "      <td>4.253086</td>\n",
       "      <td>4.150864</td>\n",
       "      <td>3.419753</td>\n",
       "      <td>8.962963</td>\n",
       "      <td>38.296296</td>\n",
       "      <td>0.242117</td>\n",
       "      <td>...</td>\n",
       "      <td>11.833333</td>\n",
       "      <td>14.907407</td>\n",
       "      <td>7.006173</td>\n",
       "      <td>0.006173</td>\n",
       "      <td>51.216049</td>\n",
       "      <td>1.367089</td>\n",
       "      <td>0.360759</td>\n",
       "      <td>0.009222</td>\n",
       "      <td>0.217284</td>\n",
       "      <td>0</td>\n",
       "    </tr>\n",
       "    <tr>\n",
       "      <th>1210</th>\n",
       "      <td>SEA</td>\n",
       "      <td>34.462963</td>\n",
       "      <td>4.740741</td>\n",
       "      <td>8.925926</td>\n",
       "      <td>4.537037</td>\n",
       "      <td>4.618457</td>\n",
       "      <td>3.123457</td>\n",
       "      <td>7.950617</td>\n",
       "      <td>38.438272</td>\n",
       "      <td>0.252698</td>\n",
       "      <td>...</td>\n",
       "      <td>12.197531</td>\n",
       "      <td>14.172840</td>\n",
       "      <td>6.666667</td>\n",
       "      <td>0.012346</td>\n",
       "      <td>49.388889</td>\n",
       "      <td>1.316456</td>\n",
       "      <td>0.405063</td>\n",
       "      <td>-0.009556</td>\n",
       "      <td>-0.095062</td>\n",
       "      <td>1</td>\n",
       "    </tr>\n",
       "    <tr>\n",
       "      <th>1211</th>\n",
       "      <td>OAK</td>\n",
       "      <td>33.950617</td>\n",
       "      <td>4.030864</td>\n",
       "      <td>8.345679</td>\n",
       "      <td>3.913580</td>\n",
       "      <td>3.778580</td>\n",
       "      <td>2.728395</td>\n",
       "      <td>7.067901</td>\n",
       "      <td>37.172840</td>\n",
       "      <td>0.239728</td>\n",
       "      <td>...</td>\n",
       "      <td>13.518519</td>\n",
       "      <td>14.024691</td>\n",
       "      <td>7.074074</td>\n",
       "      <td>0.006173</td>\n",
       "      <td>49.561728</td>\n",
       "      <td>1.450000</td>\n",
       "      <td>0.437500</td>\n",
       "      <td>-0.002043</td>\n",
       "      <td>-0.071605</td>\n",
       "      <td>0</td>\n",
       "    </tr>\n",
       "    <tr>\n",
       "      <th>1212</th>\n",
       "      <td>WSN</td>\n",
       "      <td>33.888889</td>\n",
       "      <td>4.709877</td>\n",
       "      <td>8.660494</td>\n",
       "      <td>4.537037</td>\n",
       "      <td>4.564630</td>\n",
       "      <td>3.308642</td>\n",
       "      <td>7.728395</td>\n",
       "      <td>38.277778</td>\n",
       "      <td>0.250728</td>\n",
       "      <td>...</td>\n",
       "      <td>11.845679</td>\n",
       "      <td>15.308642</td>\n",
       "      <td>7.648148</td>\n",
       "      <td>0.000000</td>\n",
       "      <td>50.419753</td>\n",
       "      <td>1.139241</td>\n",
       "      <td>0.329114</td>\n",
       "      <td>0.007222</td>\n",
       "      <td>0.048148</td>\n",
       "      <td>0</td>\n",
       "    </tr>\n",
       "    <tr>\n",
       "      <th>1213</th>\n",
       "      <td>SDP</td>\n",
       "      <td>33.450617</td>\n",
       "      <td>4.234568</td>\n",
       "      <td>7.870370</td>\n",
       "      <td>4.037037</td>\n",
       "      <td>4.000432</td>\n",
       "      <td>2.771605</td>\n",
       "      <td>9.259259</td>\n",
       "      <td>37.043210</td>\n",
       "      <td>0.229815</td>\n",
       "      <td>...</td>\n",
       "      <td>12.234568</td>\n",
       "      <td>13.253086</td>\n",
       "      <td>6.043210</td>\n",
       "      <td>0.000000</td>\n",
       "      <td>51.907407</td>\n",
       "      <td>1.537500</td>\n",
       "      <td>0.518750</td>\n",
       "      <td>0.020574</td>\n",
       "      <td>0.359877</td>\n",
       "      <td>1</td>\n",
       "    </tr>\n",
       "  </tbody>\n",
       "</table>\n",
       "<p>607 rows × 139 columns</p>\n",
       "</div>"
      ],
      "text/plain": [
       "     H_name  H_at_bats    H_runs    H_hits     H_rbi  H_earned_runs  \\\n",
       "607     LAA  33.524691  4.425926  8.703704  4.234568       4.204444   \n",
       "608     PIT  34.209877  4.500000  8.802469  4.296296       4.191914   \n",
       "609     MIN  34.679012  4.456790  8.697531  4.259259       4.135864   \n",
       "610     PIT  34.209877  4.500000  8.802469  4.296296       4.191914   \n",
       "611     NYM  33.697531  4.141975  8.283951  4.006173       4.064568   \n",
       "...     ...        ...       ...       ...       ...            ...   \n",
       "1209    HOU  34.228395  4.469136  8.438272  4.253086       4.150864   \n",
       "1210    SEA  34.462963  4.740741  8.925926  4.537037       4.618457   \n",
       "1211    OAK  33.950617  4.030864  8.345679  3.913580       3.778580   \n",
       "1212    WSN  33.888889  4.709877  8.660494  4.537037       4.564630   \n",
       "1213    SDP  33.450617  4.234568  7.870370  4.037037       4.000432   \n",
       "\n",
       "      H_bases_on_balls  H_strikeouts  H_plate_appearances  H_batting_average  \\\n",
       "607           2.907407      6.117284            37.290123           0.253123   \n",
       "608           3.462963      8.234568            38.648148           0.252074   \n",
       "609           3.166667      8.802469            38.549383           0.245883   \n",
       "610           3.462963      8.234568            38.648148           0.252074   \n",
       "611           3.191358      8.037037            37.746914           0.239772   \n",
       "...                ...           ...                  ...                ...   \n",
       "1209          3.419753      8.962963            38.296296           0.242117   \n",
       "1210          3.123457      7.950617            38.438272           0.252698   \n",
       "1211          2.728395      7.067901            37.172840           0.239728   \n",
       "1212          3.308642      7.728395            38.277778           0.250728   \n",
       "1213          2.771605      9.259259            37.043210           0.229815   \n",
       "\n",
       "      ...  A_Opp_grounded_balls  A_Opp_fly_balls  A_Opp_line_drives  \\\n",
       "607   ...             10.956790        13.672840           6.462963   \n",
       "608   ...             12.819876        14.583851           6.944099   \n",
       "609   ...             12.598765        13.808642           6.240741   \n",
       "610   ...             13.969136        13.481481           7.308642   \n",
       "611   ...             13.129630        14.141975           7.154321   \n",
       "...   ...                   ...              ...                ...   \n",
       "1209  ...             11.833333        14.907407           7.006173   \n",
       "1210  ...             12.197531        14.172840           6.666667   \n",
       "1211  ...             13.518519        14.024691           7.074074   \n",
       "1212  ...             11.845679        15.308642           7.648148   \n",
       "1213  ...             12.234568        13.253086           6.043210   \n",
       "\n",
       "      A_Opp_unknown_bat_type  A_Opp_game_score  A_Opp_inherited_runners  \\\n",
       "607                 0.000000         50.617284                 1.465409   \n",
       "608                 0.000000         53.105590                 1.575949   \n",
       "609                 0.006173         50.950617                 1.543210   \n",
       "610                 0.006173         47.030864                 1.559006   \n",
       "611                 0.006173         52.814815                 1.456250   \n",
       "...                      ...               ...                      ...   \n",
       "1209                0.006173         51.216049                 1.367089   \n",
       "1210                0.012346         49.388889                 1.316456   \n",
       "1211                0.006173         49.561728                 1.450000   \n",
       "1212                0.000000         50.419753                 1.139241   \n",
       "1213                0.000000         51.907407                 1.537500   \n",
       "\n",
       "      A_Opp_inherited_score  A_Opp_win_probability_by_pitcher  \\\n",
       "607                0.496855                         -0.009241   \n",
       "608                0.493671                          0.059988   \n",
       "609                0.493827                          0.008802   \n",
       "610                0.552795                         -0.033364   \n",
       "611                0.506250                          0.056568   \n",
       "...                     ...                               ...   \n",
       "1209               0.360759                          0.009222   \n",
       "1210               0.405063                         -0.009556   \n",
       "1211               0.437500                         -0.002043   \n",
       "1212               0.329114                          0.007222   \n",
       "1213               0.518750                          0.020574   \n",
       "\n",
       "      A_Opp_base_out_runs_saved  home_win  \n",
       "607                   -0.120370         1  \n",
       "608                    0.422360         1  \n",
       "609                   -0.098765         0  \n",
       "610                   -0.499383         1  \n",
       "611                    0.306173         1  \n",
       "...                         ...       ...  \n",
       "1209                   0.217284         0  \n",
       "1210                  -0.095062         1  \n",
       "1211                  -0.071605         0  \n",
       "1212                   0.048148         0  \n",
       "1213                   0.359877         1  \n",
       "\n",
       "[607 rows x 139 columns]"
      ]
     },
     "execution_count": 11,
     "metadata": {},
     "output_type": "execute_result"
    }
   ],
   "source": [
    "#df2.drop_duplicates(inplace=True)\n",
    "df2"
   ]
  },
  {
   "cell_type": "code",
   "execution_count": 12,
   "metadata": {
    "ExecuteTime": {
     "end_time": "2022-01-25T22:09:35.982055Z",
     "start_time": "2022-01-25T22:09:35.942987Z"
    }
   },
   "outputs": [
    {
     "data": {
      "text/html": [
       "<div>\n",
       "<style scoped>\n",
       "    .dataframe tbody tr th:only-of-type {\n",
       "        vertical-align: middle;\n",
       "    }\n",
       "\n",
       "    .dataframe tbody tr th {\n",
       "        vertical-align: top;\n",
       "    }\n",
       "\n",
       "    .dataframe thead th {\n",
       "        text-align: right;\n",
       "    }\n",
       "</style>\n",
       "<table border=\"1\" class=\"dataframe\">\n",
       "  <thead>\n",
       "    <tr style=\"text-align: right;\">\n",
       "      <th></th>\n",
       "      <th>H_name</th>\n",
       "      <th>H_at_bats</th>\n",
       "      <th>H_runs</th>\n",
       "      <th>H_hits</th>\n",
       "      <th>H_rbi</th>\n",
       "      <th>H_earned_runs</th>\n",
       "      <th>H_bases_on_balls</th>\n",
       "      <th>H_strikeouts</th>\n",
       "      <th>H_plate_appearances</th>\n",
       "      <th>H_batting_average</th>\n",
       "      <th>...</th>\n",
       "      <th>A_Opp_grounded_balls</th>\n",
       "      <th>A_Opp_fly_balls</th>\n",
       "      <th>A_Opp_line_drives</th>\n",
       "      <th>A_Opp_unknown_bat_type</th>\n",
       "      <th>A_Opp_game_score</th>\n",
       "      <th>A_Opp_inherited_runners</th>\n",
       "      <th>A_Opp_inherited_score</th>\n",
       "      <th>A_Opp_win_probability_by_pitcher</th>\n",
       "      <th>A_Opp_base_out_runs_saved</th>\n",
       "      <th>home_win</th>\n",
       "    </tr>\n",
       "  </thead>\n",
       "  <tbody>\n",
       "    <tr>\n",
       "      <th>0</th>\n",
       "      <td>PIT</td>\n",
       "      <td>34.209877</td>\n",
       "      <td>4.500000</td>\n",
       "      <td>8.802469</td>\n",
       "      <td>4.296296</td>\n",
       "      <td>4.191914</td>\n",
       "      <td>3.462963</td>\n",
       "      <td>8.234568</td>\n",
       "      <td>38.648148</td>\n",
       "      <td>0.252074</td>\n",
       "      <td>...</td>\n",
       "      <td>13.777778</td>\n",
       "      <td>13.111111</td>\n",
       "      <td>6.827160</td>\n",
       "      <td>0.006173</td>\n",
       "      <td>51.438272</td>\n",
       "      <td>1.440994</td>\n",
       "      <td>0.515528</td>\n",
       "      <td>-0.040438</td>\n",
       "      <td>-0.433333</td>\n",
       "      <td>1</td>\n",
       "    </tr>\n",
       "    <tr>\n",
       "      <th>1</th>\n",
       "      <td>KCR</td>\n",
       "      <td>34.271605</td>\n",
       "      <td>4.166667</td>\n",
       "      <td>8.950617</td>\n",
       "      <td>3.950617</td>\n",
       "      <td>3.969568</td>\n",
       "      <td>2.358025</td>\n",
       "      <td>7.555556</td>\n",
       "      <td>37.358025</td>\n",
       "      <td>0.256889</td>\n",
       "      <td>...</td>\n",
       "      <td>12.104938</td>\n",
       "      <td>13.851852</td>\n",
       "      <td>6.907407</td>\n",
       "      <td>0.000000</td>\n",
       "      <td>52.382716</td>\n",
       "      <td>1.493750</td>\n",
       "      <td>0.318750</td>\n",
       "      <td>0.035586</td>\n",
       "      <td>0.180864</td>\n",
       "      <td>1</td>\n",
       "    </tr>\n",
       "    <tr>\n",
       "      <th>2</th>\n",
       "      <td>TBR</td>\n",
       "      <td>33.833333</td>\n",
       "      <td>4.148148</td>\n",
       "      <td>8.228395</td>\n",
       "      <td>3.993827</td>\n",
       "      <td>4.000864</td>\n",
       "      <td>2.771605</td>\n",
       "      <td>9.148148</td>\n",
       "      <td>37.320988</td>\n",
       "      <td>0.237667</td>\n",
       "      <td>...</td>\n",
       "      <td>12.598765</td>\n",
       "      <td>13.808642</td>\n",
       "      <td>6.240741</td>\n",
       "      <td>0.006173</td>\n",
       "      <td>50.950617</td>\n",
       "      <td>1.543210</td>\n",
       "      <td>0.493827</td>\n",
       "      <td>0.008802</td>\n",
       "      <td>-0.098765</td>\n",
       "      <td>0</td>\n",
       "    </tr>\n",
       "    <tr>\n",
       "      <th>3</th>\n",
       "      <td>OAK</td>\n",
       "      <td>33.950617</td>\n",
       "      <td>4.030864</td>\n",
       "      <td>8.345679</td>\n",
       "      <td>3.913580</td>\n",
       "      <td>3.778580</td>\n",
       "      <td>2.728395</td>\n",
       "      <td>7.067901</td>\n",
       "      <td>37.172840</td>\n",
       "      <td>0.239728</td>\n",
       "      <td>...</td>\n",
       "      <td>11.833333</td>\n",
       "      <td>14.907407</td>\n",
       "      <td>7.006173</td>\n",
       "      <td>0.006173</td>\n",
       "      <td>51.216049</td>\n",
       "      <td>1.367089</td>\n",
       "      <td>0.360759</td>\n",
       "      <td>0.009222</td>\n",
       "      <td>0.217284</td>\n",
       "      <td>0</td>\n",
       "    </tr>\n",
       "    <tr>\n",
       "      <th>4</th>\n",
       "      <td>ARI</td>\n",
       "      <td>34.969136</td>\n",
       "      <td>4.641975</td>\n",
       "      <td>9.129630</td>\n",
       "      <td>4.376543</td>\n",
       "      <td>4.270370</td>\n",
       "      <td>2.858025</td>\n",
       "      <td>8.808642</td>\n",
       "      <td>38.641975</td>\n",
       "      <td>0.254932</td>\n",
       "      <td>...</td>\n",
       "      <td>13.969136</td>\n",
       "      <td>13.481481</td>\n",
       "      <td>7.308642</td>\n",
       "      <td>0.006173</td>\n",
       "      <td>47.030864</td>\n",
       "      <td>1.559006</td>\n",
       "      <td>0.552795</td>\n",
       "      <td>-0.033364</td>\n",
       "      <td>-0.499383</td>\n",
       "      <td>0</td>\n",
       "    </tr>\n",
       "  </tbody>\n",
       "</table>\n",
       "<p>5 rows × 139 columns</p>\n",
       "</div>"
      ],
      "text/plain": [
       "  H_name  H_at_bats    H_runs    H_hits     H_rbi  H_earned_runs  \\\n",
       "0    PIT  34.209877  4.500000  8.802469  4.296296       4.191914   \n",
       "1    KCR  34.271605  4.166667  8.950617  3.950617       3.969568   \n",
       "2    TBR  33.833333  4.148148  8.228395  3.993827       4.000864   \n",
       "3    OAK  33.950617  4.030864  8.345679  3.913580       3.778580   \n",
       "4    ARI  34.969136  4.641975  9.129630  4.376543       4.270370   \n",
       "\n",
       "   H_bases_on_balls  H_strikeouts  H_plate_appearances  H_batting_average  \\\n",
       "0          3.462963      8.234568            38.648148           0.252074   \n",
       "1          2.358025      7.555556            37.358025           0.256889   \n",
       "2          2.771605      9.148148            37.320988           0.237667   \n",
       "3          2.728395      7.067901            37.172840           0.239728   \n",
       "4          2.858025      8.808642            38.641975           0.254932   \n",
       "\n",
       "   ...  A_Opp_grounded_balls  A_Opp_fly_balls  A_Opp_line_drives  \\\n",
       "0  ...             13.777778        13.111111           6.827160   \n",
       "1  ...             12.104938        13.851852           6.907407   \n",
       "2  ...             12.598765        13.808642           6.240741   \n",
       "3  ...             11.833333        14.907407           7.006173   \n",
       "4  ...             13.969136        13.481481           7.308642   \n",
       "\n",
       "   A_Opp_unknown_bat_type  A_Opp_game_score  A_Opp_inherited_runners  \\\n",
       "0                0.006173         51.438272                 1.440994   \n",
       "1                0.000000         52.382716                 1.493750   \n",
       "2                0.006173         50.950617                 1.543210   \n",
       "3                0.006173         51.216049                 1.367089   \n",
       "4                0.006173         47.030864                 1.559006   \n",
       "\n",
       "   A_Opp_inherited_score  A_Opp_win_probability_by_pitcher  \\\n",
       "0               0.515528                         -0.040438   \n",
       "1               0.318750                          0.035586   \n",
       "2               0.493827                          0.008802   \n",
       "3               0.360759                          0.009222   \n",
       "4               0.552795                         -0.033364   \n",
       "\n",
       "   A_Opp_base_out_runs_saved  home_win  \n",
       "0                  -0.433333         1  \n",
       "1                   0.180864         1  \n",
       "2                  -0.098765         0  \n",
       "3                   0.217284         0  \n",
       "4                  -0.499383         0  \n",
       "\n",
       "[5 rows x 139 columns]"
      ]
     },
     "execution_count": 12,
     "metadata": {},
     "output_type": "execute_result"
    }
   ],
   "source": [
    "df.head()"
   ]
  },
  {
   "cell_type": "code",
   "execution_count": 13,
   "metadata": {
    "ExecuteTime": {
     "end_time": "2022-01-25T22:09:37.545978Z",
     "start_time": "2022-01-25T22:09:37.474601Z"
    },
    "scrolled": true
   },
   "outputs": [
    {
     "data": {
      "text/html": [
       "<div>\n",
       "<style scoped>\n",
       "    .dataframe tbody tr th:only-of-type {\n",
       "        vertical-align: middle;\n",
       "    }\n",
       "\n",
       "    .dataframe tbody tr th {\n",
       "        vertical-align: top;\n",
       "    }\n",
       "\n",
       "    .dataframe thead th {\n",
       "        text-align: right;\n",
       "    }\n",
       "</style>\n",
       "<table border=\"1\" class=\"dataframe\">\n",
       "  <thead>\n",
       "    <tr style=\"text-align: right;\">\n",
       "      <th></th>\n",
       "      <th>H_name</th>\n",
       "      <th>H_at_bats</th>\n",
       "      <th>H_runs</th>\n",
       "      <th>H_hits</th>\n",
       "      <th>H_rbi</th>\n",
       "      <th>H_earned_runs</th>\n",
       "      <th>H_bases_on_balls</th>\n",
       "      <th>H_strikeouts</th>\n",
       "      <th>H_plate_appearances</th>\n",
       "      <th>H_batting_average</th>\n",
       "      <th>...</th>\n",
       "      <th>A_Opp_grounded_balls</th>\n",
       "      <th>A_Opp_fly_balls</th>\n",
       "      <th>A_Opp_line_drives</th>\n",
       "      <th>A_Opp_unknown_bat_type</th>\n",
       "      <th>A_Opp_game_score</th>\n",
       "      <th>A_Opp_inherited_runners</th>\n",
       "      <th>A_Opp_inherited_score</th>\n",
       "      <th>A_Opp_win_probability_by_pitcher</th>\n",
       "      <th>A_Opp_base_out_runs_saved</th>\n",
       "      <th>home_win</th>\n",
       "    </tr>\n",
       "  </thead>\n",
       "  <tbody>\n",
       "    <tr>\n",
       "      <th>607</th>\n",
       "      <td>LAA</td>\n",
       "      <td>33.524691</td>\n",
       "      <td>4.425926</td>\n",
       "      <td>8.703704</td>\n",
       "      <td>4.234568</td>\n",
       "      <td>4.204444</td>\n",
       "      <td>2.907407</td>\n",
       "      <td>6.117284</td>\n",
       "      <td>37.290123</td>\n",
       "      <td>0.253123</td>\n",
       "      <td>...</td>\n",
       "      <td>10.956790</td>\n",
       "      <td>13.672840</td>\n",
       "      <td>6.462963</td>\n",
       "      <td>0.000000</td>\n",
       "      <td>50.617284</td>\n",
       "      <td>1.465409</td>\n",
       "      <td>0.496855</td>\n",
       "      <td>-0.009241</td>\n",
       "      <td>-0.120370</td>\n",
       "      <td>1</td>\n",
       "    </tr>\n",
       "    <tr>\n",
       "      <th>608</th>\n",
       "      <td>PIT</td>\n",
       "      <td>34.209877</td>\n",
       "      <td>4.500000</td>\n",
       "      <td>8.802469</td>\n",
       "      <td>4.296296</td>\n",
       "      <td>4.191914</td>\n",
       "      <td>3.462963</td>\n",
       "      <td>8.234568</td>\n",
       "      <td>38.648148</td>\n",
       "      <td>0.252074</td>\n",
       "      <td>...</td>\n",
       "      <td>12.819876</td>\n",
       "      <td>14.583851</td>\n",
       "      <td>6.944099</td>\n",
       "      <td>0.000000</td>\n",
       "      <td>53.105590</td>\n",
       "      <td>1.575949</td>\n",
       "      <td>0.493671</td>\n",
       "      <td>0.059988</td>\n",
       "      <td>0.422360</td>\n",
       "      <td>1</td>\n",
       "    </tr>\n",
       "    <tr>\n",
       "      <th>609</th>\n",
       "      <td>MIN</td>\n",
       "      <td>34.679012</td>\n",
       "      <td>4.456790</td>\n",
       "      <td>8.697531</td>\n",
       "      <td>4.259259</td>\n",
       "      <td>4.135864</td>\n",
       "      <td>3.166667</td>\n",
       "      <td>8.802469</td>\n",
       "      <td>38.549383</td>\n",
       "      <td>0.245883</td>\n",
       "      <td>...</td>\n",
       "      <td>12.598765</td>\n",
       "      <td>13.808642</td>\n",
       "      <td>6.240741</td>\n",
       "      <td>0.006173</td>\n",
       "      <td>50.950617</td>\n",
       "      <td>1.543210</td>\n",
       "      <td>0.493827</td>\n",
       "      <td>0.008802</td>\n",
       "      <td>-0.098765</td>\n",
       "      <td>0</td>\n",
       "    </tr>\n",
       "    <tr>\n",
       "      <th>610</th>\n",
       "      <td>PIT</td>\n",
       "      <td>34.209877</td>\n",
       "      <td>4.500000</td>\n",
       "      <td>8.802469</td>\n",
       "      <td>4.296296</td>\n",
       "      <td>4.191914</td>\n",
       "      <td>3.462963</td>\n",
       "      <td>8.234568</td>\n",
       "      <td>38.648148</td>\n",
       "      <td>0.252074</td>\n",
       "      <td>...</td>\n",
       "      <td>13.969136</td>\n",
       "      <td>13.481481</td>\n",
       "      <td>7.308642</td>\n",
       "      <td>0.006173</td>\n",
       "      <td>47.030864</td>\n",
       "      <td>1.559006</td>\n",
       "      <td>0.552795</td>\n",
       "      <td>-0.033364</td>\n",
       "      <td>-0.499383</td>\n",
       "      <td>1</td>\n",
       "    </tr>\n",
       "    <tr>\n",
       "      <th>611</th>\n",
       "      <td>NYM</td>\n",
       "      <td>33.697531</td>\n",
       "      <td>4.141975</td>\n",
       "      <td>8.283951</td>\n",
       "      <td>4.006173</td>\n",
       "      <td>4.064568</td>\n",
       "      <td>3.191358</td>\n",
       "      <td>8.037037</td>\n",
       "      <td>37.746914</td>\n",
       "      <td>0.239772</td>\n",
       "      <td>...</td>\n",
       "      <td>13.129630</td>\n",
       "      <td>14.141975</td>\n",
       "      <td>7.154321</td>\n",
       "      <td>0.006173</td>\n",
       "      <td>52.814815</td>\n",
       "      <td>1.456250</td>\n",
       "      <td>0.506250</td>\n",
       "      <td>0.056568</td>\n",
       "      <td>0.306173</td>\n",
       "      <td>1</td>\n",
       "    </tr>\n",
       "  </tbody>\n",
       "</table>\n",
       "<p>5 rows × 139 columns</p>\n",
       "</div>"
      ],
      "text/plain": [
       "    H_name  H_at_bats    H_runs    H_hits     H_rbi  H_earned_runs  \\\n",
       "607    LAA  33.524691  4.425926  8.703704  4.234568       4.204444   \n",
       "608    PIT  34.209877  4.500000  8.802469  4.296296       4.191914   \n",
       "609    MIN  34.679012  4.456790  8.697531  4.259259       4.135864   \n",
       "610    PIT  34.209877  4.500000  8.802469  4.296296       4.191914   \n",
       "611    NYM  33.697531  4.141975  8.283951  4.006173       4.064568   \n",
       "\n",
       "     H_bases_on_balls  H_strikeouts  H_plate_appearances  H_batting_average  \\\n",
       "607          2.907407      6.117284            37.290123           0.253123   \n",
       "608          3.462963      8.234568            38.648148           0.252074   \n",
       "609          3.166667      8.802469            38.549383           0.245883   \n",
       "610          3.462963      8.234568            38.648148           0.252074   \n",
       "611          3.191358      8.037037            37.746914           0.239772   \n",
       "\n",
       "     ...  A_Opp_grounded_balls  A_Opp_fly_balls  A_Opp_line_drives  \\\n",
       "607  ...             10.956790        13.672840           6.462963   \n",
       "608  ...             12.819876        14.583851           6.944099   \n",
       "609  ...             12.598765        13.808642           6.240741   \n",
       "610  ...             13.969136        13.481481           7.308642   \n",
       "611  ...             13.129630        14.141975           7.154321   \n",
       "\n",
       "     A_Opp_unknown_bat_type  A_Opp_game_score  A_Opp_inherited_runners  \\\n",
       "607                0.000000         50.617284                 1.465409   \n",
       "608                0.000000         53.105590                 1.575949   \n",
       "609                0.006173         50.950617                 1.543210   \n",
       "610                0.006173         47.030864                 1.559006   \n",
       "611                0.006173         52.814815                 1.456250   \n",
       "\n",
       "     A_Opp_inherited_score  A_Opp_win_probability_by_pitcher  \\\n",
       "607               0.496855                         -0.009241   \n",
       "608               0.493671                          0.059988   \n",
       "609               0.493827                          0.008802   \n",
       "610               0.552795                         -0.033364   \n",
       "611               0.506250                          0.056568   \n",
       "\n",
       "     A_Opp_base_out_runs_saved  home_win  \n",
       "607                  -0.120370         1  \n",
       "608                   0.422360         1  \n",
       "609                  -0.098765         0  \n",
       "610                  -0.499383         1  \n",
       "611                   0.306173         1  \n",
       "\n",
       "[5 rows x 139 columns]"
      ]
     },
     "execution_count": 13,
     "metadata": {},
     "output_type": "execute_result"
    }
   ],
   "source": [
    "df2.head()"
   ]
  },
  {
   "cell_type": "code",
   "execution_count": 14,
   "metadata": {
    "ExecuteTime": {
     "end_time": "2022-01-25T22:09:40.361821Z",
     "start_time": "2022-01-25T22:09:40.331691Z"
    }
   },
   "outputs": [],
   "source": [
    "def data_preprocessing(df, df2):\n",
    "    X_train = df.drop(['home_win','H_name','A_name'], axis=1)\n",
    "    X_test = df2.drop(['home_win','H_name','A_name'], axis=1)\n",
    "    y_train = df.home_win\n",
    "    y_test= df2.home_win\n",
    "    \n",
    "    ss = StandardScaler()\n",
    "    X_train_scaled = ss.fit_transform(X_train)\n",
    "    X_test_scaled = ss.transform(X_test)\n",
    "    \n",
    "    X_train_scaled = pd.DataFrame(X_train_scaled, columns=X_train.columns)\n",
    "    X_test_scaled = pd.DataFrame(X_test_scaled, columns=X_test.columns)\n",
    "    \n",
    "    return X_train_scaled, X_test_scaled,y_train,y_test"
   ]
  },
  {
   "cell_type": "code",
   "execution_count": 15,
   "metadata": {
    "ExecuteTime": {
     "end_time": "2022-01-25T22:09:40.802298Z",
     "start_time": "2022-01-25T22:09:40.763324Z"
    }
   },
   "outputs": [],
   "source": [
    "X_train_scaled,X_test_scaled,y_train,y_test=data_preprocessing(df,df2)"
   ]
  },
  {
   "cell_type": "code",
   "execution_count": 19,
   "metadata": {
    "ExecuteTime": {
     "end_time": "2022-01-25T18:34:02.229470Z",
     "start_time": "2022-01-25T18:34:02.226334Z"
    }
   },
   "outputs": [],
   "source": [
    "# X_test_scaled.drop(['H_Opp_inherited_score','H_Opp_game_score','H_Opp_unknown_bat_type',\n",
    "#                     'H_Opp_inherited_runners'],axis=1,inplace=True)"
   ]
  },
  {
   "cell_type": "code",
   "execution_count": 20,
   "metadata": {
    "ExecuteTime": {
     "end_time": "2022-01-25T18:34:02.581750Z",
     "start_time": "2022-01-25T18:34:02.566539Z"
    }
   },
   "outputs": [],
   "source": [
    "# X_train_scaled.drop(['H_Opp_inherited_score','H_Opp_game_score','H_Opp_unknown_bat_type',\n",
    "#                     'H_Opp_inherited_runners'],axis=1,inplace=True)"
   ]
  },
  {
   "cell_type": "markdown",
   "metadata": {},
   "source": [
    "## Feature Selection"
   ]
  },
  {
   "cell_type": "code",
   "execution_count": 16,
   "metadata": {
    "ExecuteTime": {
     "end_time": "2022-01-25T22:09:44.327574Z",
     "start_time": "2022-01-25T22:09:44.300619Z"
    }
   },
   "outputs": [],
   "source": [
    "def new_acc(probabilities):\n",
    "    class_list2=[]\n",
    "    for log in probabilities:\n",
    "        if log[0]<.40:\n",
    "            class_list2.append(1)\n",
    "        elif log[0]>.60:\n",
    "            class_list2.append(0)\n",
    "        else:\n",
    "            class_list2.append(3)\n",
    "    y_pred_class=pd.DataFrame(class_list2)\n",
    "    y_pred_class.reset_index(inplace=True)\n",
    "    y_test_df=pd.DataFrame(y_test)\n",
    "    y_test_df.reset_index(inplace=True)\n",
    "    comb=pd.concat([y_test_df,y_pred_class],axis=1)\n",
    "    comb.drop(['index','index'],axis=1,inplace=True)\n",
    "    comb['pred']=comb[0]\n",
    "    comb.drop([0],axis=1,inplace=True)\n",
    "    comb.drop(comb[comb['pred'] == 3].index, inplace = True)\n",
    "    count=0\n",
    "    for bools in comb['home_win']==comb['pred']:\n",
    "        if bools is True:\n",
    "            count+=1\n",
    "        else:\n",
    "            pass\n",
    "    accuracy=count/len(comb)\n",
    "    \n",
    "    return accuracy,count"
   ]
  },
  {
   "cell_type": "markdown",
   "metadata": {},
   "source": [
    "### RFECV"
   ]
  },
  {
   "cell_type": "code",
   "execution_count": 17,
   "metadata": {
    "ExecuteTime": {
     "end_time": "2022-01-25T22:14:59.707941Z",
     "start_time": "2022-01-25T22:09:48.393293Z"
    }
   },
   "outputs": [],
   "source": [
    "rfeats= feature_select(X_train_scaled,y_train,RandomForestClassifier,min_features=10)\n",
    "X_train_best_for = X_train_scaled[rfeats]\n",
    "X_test_best_for = X_test_scaled[rfeats]"
   ]
  },
  {
   "cell_type": "code",
   "execution_count": 18,
   "metadata": {
    "ExecuteTime": {
     "end_time": "2022-01-25T22:16:08.594491Z",
     "start_time": "2022-01-25T22:14:59.714038Z"
    }
   },
   "outputs": [
    {
     "name": "stdout",
     "output_type": "stream",
     "text": [
      "Number of Trees: 115\n",
      "criterion: entropy\n",
      "Mean Cross-Val Score: 0.49423528211407\n",
      "Train Mean Accuracy: 0.7380560131795717\n",
      "Test Mean Accuracy: 0.7380560131795717\n",
      "Recall Score: 0.7477203647416414\n",
      "Precision Score: 0.7639751552795031\n",
      "F1 score: 0.7557603686635945\n"
     ]
    },
    {
     "data": {
      "image/png": "[encoded data removed]",
      "text/plain": [
       "<Figure size 432x288 with 1 Axes>"
      ]
     },
     "metadata": {
      "needs_background": "light"
     },
     "output_type": "display_data"
    },
    {
     "data": {
      "image/png": "[encoded data removed]",
      "text/plain": [
       "<Figure size 432x288 with 2 Axes>"
      ]
     },
     "metadata": {
      "needs_background": "light"
     },
     "output_type": "display_data"
    },
    {
     "data": {
      "image/png": "[encoded data removed]",
      "text/plain": [
       "<Figure size 432x288 with 2 Axes>"
      ]
     },
     "metadata": {
      "needs_background": "light"
     },
     "output_type": "display_data"
    }
   ],
   "source": [
    "predictions,probabilities=random_forest(X_train_best_for,X_test_best_for,y_train,y_test)"
   ]
  },
  {
   "cell_type": "code",
   "execution_count": 19,
   "metadata": {
    "ExecuteTime": {
     "end_time": "2022-01-25T22:16:15.341166Z",
     "start_time": "2022-01-25T22:16:15.299445Z"
    }
   },
   "outputs": [
    {
     "data": {
      "text/plain": [
       "(0.7823529411764706, 399)"
      ]
     },
     "execution_count": 19,
     "metadata": {},
     "output_type": "execute_result"
    }
   ],
   "source": [
    "new_acc(probabilities)"
   ]
  },
  {
   "cell_type": "markdown",
   "metadata": {},
   "source": [
    "### PCA"
   ]
  },
  {
   "cell_type": "code",
   "execution_count": 20,
   "metadata": {
    "ExecuteTime": {
     "end_time": "2022-01-25T22:16:20.943981Z",
     "start_time": "2022-01-25T22:16:20.854707Z"
    }
   },
   "outputs": [],
   "source": [
    "pca=PCA(n_components=0.9)\n",
    "train_pca=pca.fit_transform(X_train_scaled)\n",
    "test_pca=pca.transform(X_test_scaled)"
   ]
  },
  {
   "cell_type": "code",
   "execution_count": 21,
   "metadata": {
    "ExecuteTime": {
     "end_time": "2022-01-25T22:17:43.732616Z",
     "start_time": "2022-01-25T22:16:21.525082Z"
    }
   },
   "outputs": [
    {
     "name": "stdout",
     "output_type": "stream",
     "text": [
      "Number of Trees: 75\n",
      "criterion: entropy\n",
      "Mean Cross-Val Score: 0.5395843961500526\n",
      "Train Mean Accuracy: 0.7380560131795717\n",
      "Test Mean Accuracy: 0.742998352553542\n",
      "Recall Score: 0.7750759878419453\n",
      "Precision Score: 0.7566765578635015\n",
      "F1 score: 0.7657657657657658\n"
     ]
    },
    {
     "data": {
      "image/png": "[encoded data removed]",
      "text/plain": [
       "<Figure size 432x288 with 1 Axes>"
      ]
     },
     "metadata": {
      "needs_background": "light"
     },
     "output_type": "display_data"
    },
    {
     "data": {
      "image/png": "[encoded data removed]",
      "text/plain": [
       "<Figure size 432x288 with 2 Axes>"
      ]
     },
     "metadata": {
      "needs_background": "light"
     },
     "output_type": "display_data"
    },
    {
     "data": {
      "image/png": "[encoded data removed]",
      "text/plain": [
       "<Figure size 432x288 with 2 Axes>"
      ]
     },
     "metadata": {
      "needs_background": "light"
     },
     "output_type": "display_data"
    }
   ],
   "source": [
    "predictions,probabilities=random_forest(train_pca,test_pca,y_train,y_test)"
   ]
  },
  {
   "cell_type": "code",
   "execution_count": 22,
   "metadata": {
    "ExecuteTime": {
     "end_time": "2022-01-25T22:18:09.176740Z",
     "start_time": "2022-01-25T22:18:09.139778Z"
    }
   },
   "outputs": [
    {
     "data": {
      "text/plain": [
       "(0.785140562248996, 391)"
      ]
     },
     "execution_count": 22,
     "metadata": {},
     "output_type": "execute_result"
    }
   ],
   "source": [
    "new_acc(probabilities)"
   ]
  }
 ],
 "metadata": {
  "kernelspec": {
   "display_name": "Python (learn-env)",
   "language": "python",
   "name": "learn-env"
  },
  "language_info": {
   "codemirror_mode": {
    "name": "ipython",
    "version": 3
   },
   "file_extension": ".py",
   "mimetype": "text/x-python",
   "name": "python",
   "nbconvert_exporter": "python",
   "pygments_lexer": "ipython3",
   "version": "3.8.5"
  },
  "notify_time": "30"
 },
 "nbformat": 4,
 "nbformat_minor": 4
}

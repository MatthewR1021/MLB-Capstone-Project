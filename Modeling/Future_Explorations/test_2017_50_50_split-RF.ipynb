{
 "cells": [
  {
   "cell_type": "code",
   "execution_count": 1,
   "metadata": {
    "ExecuteTime": {
     "end_time": "2022-01-25T22:19:13.294793Z",
     "start_time": "2022-01-25T22:19:07.232083Z"
    }
   },
   "outputs": [],
   "source": [
    "# Import the relevant packages\n",
    "import pandas as pd\n",
    "import numpy as np\n",
    "import matplotlib.pyplot as plt\n",
    "from sklearn.linear_model import LogisticRegression\n",
    "from sklearn.model_selection import cross_val_score, train_test_split,GridSearchCV\n",
    "from sklearn.metrics import plot_confusion_matrix, plot_roc_curve, accuracy_score, \\\n",
    "recall_score, precision_score, f1_score\n",
    "from sklearn.neighbors import KNeighborsClassifier\n",
    "from sklearn.preprocessing import StandardScaler\n",
    "from sklearn.tree import DecisionTreeClassifier, plot_tree\n",
    "from sklearn.ensemble import BaggingClassifier, RandomForestClassifier\n",
    "from sklearn.ensemble import AdaBoostClassifier, GradientBoostingClassifier\n",
    "from xgboost import XGBClassifier\n",
    "import statsmodels.api as sm\n",
    "from sklearn.feature_selection import RFECV\n",
    "from sklearn.decomposition import PCA\n",
    "import warnings\n",
    "warnings.filterwarnings(\"ignore\")"
   ]
  },
  {
   "cell_type": "code",
   "execution_count": 2,
   "metadata": {
    "ExecuteTime": {
     "end_time": "2022-01-25T22:19:13.469702Z",
     "start_time": "2022-01-25T22:19:13.298404Z"
    }
   },
   "outputs": [],
   "source": [
    "#Import functions notebook and load data set here\n",
    "import sys\n",
    "sys.path.append(\"../\")\n",
    "from Modeling_functions import *"
   ]
  },
  {
   "cell_type": "code",
   "execution_count": 3,
   "metadata": {
    "ExecuteTime": {
     "end_time": "2022-01-25T22:19:13.716357Z",
     "start_time": "2022-01-25T22:19:13.482892Z"
    }
   },
   "outputs": [],
   "source": [
    "df=pd.read_csv('../data/Season_2017.csv')"
   ]
  },
  {
   "cell_type": "code",
   "execution_count": 4,
   "metadata": {
    "ExecuteTime": {
     "end_time": "2022-01-25T22:19:13.734002Z",
     "start_time": "2022-01-25T22:19:13.720882Z"
    }
   },
   "outputs": [],
   "source": [
    "df.drop(['Unnamed: 0'],axis=1,inplace=True)"
   ]
  },
  {
   "cell_type": "code",
   "execution_count": 5,
   "metadata": {
    "ExecuteTime": {
     "end_time": "2022-01-25T22:19:14.167776Z",
     "start_time": "2022-01-25T22:19:14.160191Z"
    }
   },
   "outputs": [],
   "source": [
    "n = 50\n",
    "df=df.head(int(len(df)*(n/100)))"
   ]
  },
  {
   "cell_type": "code",
   "execution_count": 6,
   "metadata": {
    "ExecuteTime": {
     "end_time": "2022-01-25T22:19:14.582266Z",
     "start_time": "2022-01-25T22:19:14.574605Z"
    }
   },
   "outputs": [],
   "source": [
    "n = 50\n",
    "df2=df.tail(int(len(df)*(n/100)))"
   ]
  },
  {
   "cell_type": "markdown",
   "metadata": {},
   "source": [
    "Find and eliminate NaNs"
   ]
  },
  {
   "cell_type": "code",
   "execution_count": 7,
   "metadata": {
    "ExecuteTime": {
     "end_time": "2022-01-25T22:19:15.723642Z",
     "start_time": "2022-01-25T22:19:15.704282Z"
    }
   },
   "outputs": [],
   "source": [
    "df=df.drop(['H_win_probability_subtracted','A_win_probability_subtracted','A_Opp_win_probability_subtracted',\n",
    "          'H_Opp_win_probability_subtracted'],axis=1)"
   ]
  },
  {
   "cell_type": "code",
   "execution_count": 8,
   "metadata": {
    "ExecuteTime": {
     "end_time": "2022-01-25T22:19:16.296768Z",
     "start_time": "2022-01-25T22:19:16.279635Z"
    },
    "scrolled": true
   },
   "outputs": [],
   "source": [
    "df2=df2.drop(['H_win_probability_subtracted','A_win_probability_subtracted','A_Opp_win_probability_subtracted',\n",
    "          'H_Opp_win_probability_subtracted'],axis=1)"
   ]
  },
  {
   "cell_type": "code",
   "execution_count": 9,
   "metadata": {
    "ExecuteTime": {
     "end_time": "2022-01-25T22:19:16.733023Z",
     "start_time": "2022-01-25T22:19:16.710464Z"
    }
   },
   "outputs": [
    {
     "data": {
      "text/plain": [
       "1    0.544856\n",
       "0    0.455144\n",
       "Name: home_win, dtype: float64"
      ]
     },
     "execution_count": 9,
     "metadata": {},
     "output_type": "execute_result"
    }
   ],
   "source": [
    "df.home_win.value_counts(normalize=True)"
   ]
  },
  {
   "cell_type": "code",
   "execution_count": 10,
   "metadata": {
    "ExecuteTime": {
     "end_time": "2022-01-25T22:19:17.183456Z",
     "start_time": "2022-01-25T22:19:17.173180Z"
    }
   },
   "outputs": [
    {
     "data": {
      "text/plain": [
       "1    0.532125\n",
       "0    0.467875\n",
       "Name: home_win, dtype: float64"
      ]
     },
     "execution_count": 10,
     "metadata": {},
     "output_type": "execute_result"
    }
   ],
   "source": [
    "df2.home_win.value_counts(normalize=True)"
   ]
  },
  {
   "cell_type": "code",
   "execution_count": 11,
   "metadata": {
    "ExecuteTime": {
     "end_time": "2022-01-25T22:19:17.883465Z",
     "start_time": "2022-01-25T22:19:17.823973Z"
    }
   },
   "outputs": [
    {
     "data": {
      "text/html": [
       "<div>\n",
       "<style scoped>\n",
       "    .dataframe tbody tr th:only-of-type {\n",
       "        vertical-align: middle;\n",
       "    }\n",
       "\n",
       "    .dataframe tbody tr th {\n",
       "        vertical-align: top;\n",
       "    }\n",
       "\n",
       "    .dataframe thead th {\n",
       "        text-align: right;\n",
       "    }\n",
       "</style>\n",
       "<table border=\"1\" class=\"dataframe\">\n",
       "  <thead>\n",
       "    <tr style=\"text-align: right;\">\n",
       "      <th></th>\n",
       "      <th>H_name</th>\n",
       "      <th>H_at_bats</th>\n",
       "      <th>H_runs</th>\n",
       "      <th>H_hits</th>\n",
       "      <th>H_rbi</th>\n",
       "      <th>H_earned_runs</th>\n",
       "      <th>H_bases_on_balls</th>\n",
       "      <th>H_strikeouts</th>\n",
       "      <th>H_plate_appearances</th>\n",
       "      <th>H_batting_average</th>\n",
       "      <th>...</th>\n",
       "      <th>A_Opp_grounded_balls</th>\n",
       "      <th>A_Opp_fly_balls</th>\n",
       "      <th>A_Opp_line_drives</th>\n",
       "      <th>A_Opp_unknown_bat_type</th>\n",
       "      <th>A_Opp_game_score</th>\n",
       "      <th>A_Opp_inherited_runners</th>\n",
       "      <th>A_Opp_inherited_score</th>\n",
       "      <th>A_Opp_win_probability_by_pitcher</th>\n",
       "      <th>A_Opp_base_out_runs_saved</th>\n",
       "      <th>home_win</th>\n",
       "    </tr>\n",
       "  </thead>\n",
       "  <tbody>\n",
       "    <tr>\n",
       "      <th>608</th>\n",
       "      <td>TBR</td>\n",
       "      <td>33.814815</td>\n",
       "      <td>4.283951</td>\n",
       "      <td>8.271605</td>\n",
       "      <td>4.141975</td>\n",
       "      <td>4.117840</td>\n",
       "      <td>3.364198</td>\n",
       "      <td>9.493827</td>\n",
       "      <td>37.944444</td>\n",
       "      <td>0.239617</td>\n",
       "      <td>...</td>\n",
       "      <td>11.487654</td>\n",
       "      <td>12.993827</td>\n",
       "      <td>6.006173</td>\n",
       "      <td>0.000000</td>\n",
       "      <td>48.302469</td>\n",
       "      <td>1.950311</td>\n",
       "      <td>0.571429</td>\n",
       "      <td>-0.016685</td>\n",
       "      <td>-0.554321</td>\n",
       "      <td>1</td>\n",
       "    </tr>\n",
       "    <tr>\n",
       "      <th>609</th>\n",
       "      <td>ATL</td>\n",
       "      <td>34.469136</td>\n",
       "      <td>4.518519</td>\n",
       "      <td>9.055556</td>\n",
       "      <td>4.358025</td>\n",
       "      <td>4.303272</td>\n",
       "      <td>2.925926</td>\n",
       "      <td>7.308642</td>\n",
       "      <td>38.370370</td>\n",
       "      <td>0.258290</td>\n",
       "      <td>...</td>\n",
       "      <td>11.444444</td>\n",
       "      <td>13.635802</td>\n",
       "      <td>5.944444</td>\n",
       "      <td>0.006173</td>\n",
       "      <td>49.450617</td>\n",
       "      <td>1.329193</td>\n",
       "      <td>0.403727</td>\n",
       "      <td>-0.020815</td>\n",
       "      <td>-0.461111</td>\n",
       "      <td>1</td>\n",
       "    </tr>\n",
       "    <tr>\n",
       "      <th>610</th>\n",
       "      <td>LAD</td>\n",
       "      <td>33.382716</td>\n",
       "      <td>4.753086</td>\n",
       "      <td>8.314815</td>\n",
       "      <td>4.506173</td>\n",
       "      <td>4.730000</td>\n",
       "      <td>4.006173</td>\n",
       "      <td>8.518519</td>\n",
       "      <td>38.216049</td>\n",
       "      <td>0.245833</td>\n",
       "      <td>...</td>\n",
       "      <td>12.037037</td>\n",
       "      <td>15.154321</td>\n",
       "      <td>6.950617</td>\n",
       "      <td>0.012346</td>\n",
       "      <td>48.339506</td>\n",
       "      <td>1.471698</td>\n",
       "      <td>0.459119</td>\n",
       "      <td>-0.030247</td>\n",
       "      <td>-0.472840</td>\n",
       "      <td>1</td>\n",
       "    </tr>\n",
       "    <tr>\n",
       "      <th>611</th>\n",
       "      <td>PIT</td>\n",
       "      <td>33.691358</td>\n",
       "      <td>4.123457</td>\n",
       "      <td>8.216049</td>\n",
       "      <td>3.919753</td>\n",
       "      <td>3.825679</td>\n",
       "      <td>3.203704</td>\n",
       "      <td>7.487654</td>\n",
       "      <td>37.876543</td>\n",
       "      <td>0.238704</td>\n",
       "      <td>...</td>\n",
       "      <td>11.882716</td>\n",
       "      <td>14.895062</td>\n",
       "      <td>6.796296</td>\n",
       "      <td>0.024691</td>\n",
       "      <td>52.864198</td>\n",
       "      <td>1.320513</td>\n",
       "      <td>0.365385</td>\n",
       "      <td>0.052444</td>\n",
       "      <td>0.329630</td>\n",
       "      <td>0</td>\n",
       "    </tr>\n",
       "    <tr>\n",
       "      <th>612</th>\n",
       "      <td>OAK</td>\n",
       "      <td>33.728395</td>\n",
       "      <td>4.561728</td>\n",
       "      <td>8.296296</td>\n",
       "      <td>4.370370</td>\n",
       "      <td>4.483642</td>\n",
       "      <td>3.487654</td>\n",
       "      <td>9.203704</td>\n",
       "      <td>37.814815</td>\n",
       "      <td>0.240173</td>\n",
       "      <td>...</td>\n",
       "      <td>10.783951</td>\n",
       "      <td>14.654321</td>\n",
       "      <td>6.376543</td>\n",
       "      <td>0.018519</td>\n",
       "      <td>48.919753</td>\n",
       "      <td>1.770186</td>\n",
       "      <td>0.639752</td>\n",
       "      <td>0.014864</td>\n",
       "      <td>0.027778</td>\n",
       "      <td>1</td>\n",
       "    </tr>\n",
       "    <tr>\n",
       "      <th>...</th>\n",
       "      <td>...</td>\n",
       "      <td>...</td>\n",
       "      <td>...</td>\n",
       "      <td>...</td>\n",
       "      <td>...</td>\n",
       "      <td>...</td>\n",
       "      <td>...</td>\n",
       "      <td>...</td>\n",
       "      <td>...</td>\n",
       "      <td>...</td>\n",
       "      <td>...</td>\n",
       "      <td>...</td>\n",
       "      <td>...</td>\n",
       "      <td>...</td>\n",
       "      <td>...</td>\n",
       "      <td>...</td>\n",
       "      <td>...</td>\n",
       "      <td>...</td>\n",
       "      <td>...</td>\n",
       "      <td>...</td>\n",
       "      <td>...</td>\n",
       "    </tr>\n",
       "    <tr>\n",
       "      <th>1210</th>\n",
       "      <td>BAL</td>\n",
       "      <td>34.876543</td>\n",
       "      <td>4.586420</td>\n",
       "      <td>9.067901</td>\n",
       "      <td>4.401235</td>\n",
       "      <td>4.319136</td>\n",
       "      <td>2.419753</td>\n",
       "      <td>8.716049</td>\n",
       "      <td>37.901235</td>\n",
       "      <td>0.254074</td>\n",
       "      <td>...</td>\n",
       "      <td>11.456790</td>\n",
       "      <td>14.425926</td>\n",
       "      <td>6.388889</td>\n",
       "      <td>0.006173</td>\n",
       "      <td>50.388889</td>\n",
       "      <td>1.679245</td>\n",
       "      <td>0.433962</td>\n",
       "      <td>0.032451</td>\n",
       "      <td>0.349383</td>\n",
       "      <td>0</td>\n",
       "    </tr>\n",
       "    <tr>\n",
       "      <th>1211</th>\n",
       "      <td>CHW</td>\n",
       "      <td>34.030864</td>\n",
       "      <td>4.358025</td>\n",
       "      <td>8.716049</td>\n",
       "      <td>4.135802</td>\n",
       "      <td>4.071111</td>\n",
       "      <td>2.475309</td>\n",
       "      <td>8.623457</td>\n",
       "      <td>37.401235</td>\n",
       "      <td>0.249253</td>\n",
       "      <td>...</td>\n",
       "      <td>12.438272</td>\n",
       "      <td>15.148148</td>\n",
       "      <td>6.987654</td>\n",
       "      <td>0.006173</td>\n",
       "      <td>48.746914</td>\n",
       "      <td>1.472050</td>\n",
       "      <td>0.378882</td>\n",
       "      <td>0.009642</td>\n",
       "      <td>-0.084568</td>\n",
       "      <td>0</td>\n",
       "    </tr>\n",
       "    <tr>\n",
       "      <th>1212</th>\n",
       "      <td>TOR</td>\n",
       "      <td>33.944444</td>\n",
       "      <td>4.277778</td>\n",
       "      <td>8.148148</td>\n",
       "      <td>4.080247</td>\n",
       "      <td>4.017716</td>\n",
       "      <td>3.345679</td>\n",
       "      <td>8.191358</td>\n",
       "      <td>37.987654</td>\n",
       "      <td>0.236481</td>\n",
       "      <td>...</td>\n",
       "      <td>10.783951</td>\n",
       "      <td>14.654321</td>\n",
       "      <td>6.376543</td>\n",
       "      <td>0.018519</td>\n",
       "      <td>48.919753</td>\n",
       "      <td>1.770186</td>\n",
       "      <td>0.639752</td>\n",
       "      <td>0.014864</td>\n",
       "      <td>0.027778</td>\n",
       "      <td>0</td>\n",
       "    </tr>\n",
       "    <tr>\n",
       "      <th>1213</th>\n",
       "      <td>SDP</td>\n",
       "      <td>33.061728</td>\n",
       "      <td>3.728395</td>\n",
       "      <td>7.722222</td>\n",
       "      <td>3.555556</td>\n",
       "      <td>3.601728</td>\n",
       "      <td>2.839506</td>\n",
       "      <td>9.253086</td>\n",
       "      <td>36.753086</td>\n",
       "      <td>0.229593</td>\n",
       "      <td>...</td>\n",
       "      <td>10.746914</td>\n",
       "      <td>13.314815</td>\n",
       "      <td>6.098765</td>\n",
       "      <td>0.000000</td>\n",
       "      <td>50.000000</td>\n",
       "      <td>1.333333</td>\n",
       "      <td>0.444444</td>\n",
       "      <td>-0.041759</td>\n",
       "      <td>-0.278395</td>\n",
       "      <td>0</td>\n",
       "    </tr>\n",
       "    <tr>\n",
       "      <th>1214</th>\n",
       "      <td>STL</td>\n",
       "      <td>33.765432</td>\n",
       "      <td>4.697531</td>\n",
       "      <td>8.654321</td>\n",
       "      <td>4.493827</td>\n",
       "      <td>4.486728</td>\n",
       "      <td>3.660494</td>\n",
       "      <td>8.320988</td>\n",
       "      <td>38.388889</td>\n",
       "      <td>0.252457</td>\n",
       "      <td>...</td>\n",
       "      <td>11.444444</td>\n",
       "      <td>13.635802</td>\n",
       "      <td>5.944444</td>\n",
       "      <td>0.006173</td>\n",
       "      <td>49.450617</td>\n",
       "      <td>1.329193</td>\n",
       "      <td>0.403727</td>\n",
       "      <td>-0.020815</td>\n",
       "      <td>-0.461111</td>\n",
       "      <td>1</td>\n",
       "    </tr>\n",
       "  </tbody>\n",
       "</table>\n",
       "<p>607 rows × 139 columns</p>\n",
       "</div>"
      ],
      "text/plain": [
       "     H_name  H_at_bats    H_runs    H_hits     H_rbi  H_earned_runs  \\\n",
       "608     TBR  33.814815  4.283951  8.271605  4.141975       4.117840   \n",
       "609     ATL  34.469136  4.518519  9.055556  4.358025       4.303272   \n",
       "610     LAD  33.382716  4.753086  8.314815  4.506173       4.730000   \n",
       "611     PIT  33.691358  4.123457  8.216049  3.919753       3.825679   \n",
       "612     OAK  33.728395  4.561728  8.296296  4.370370       4.483642   \n",
       "...     ...        ...       ...       ...       ...            ...   \n",
       "1210    BAL  34.876543  4.586420  9.067901  4.401235       4.319136   \n",
       "1211    CHW  34.030864  4.358025  8.716049  4.135802       4.071111   \n",
       "1212    TOR  33.944444  4.277778  8.148148  4.080247       4.017716   \n",
       "1213    SDP  33.061728  3.728395  7.722222  3.555556       3.601728   \n",
       "1214    STL  33.765432  4.697531  8.654321  4.493827       4.486728   \n",
       "\n",
       "      H_bases_on_balls  H_strikeouts  H_plate_appearances  H_batting_average  \\\n",
       "608           3.364198      9.493827            37.944444           0.239617   \n",
       "609           2.925926      7.308642            38.370370           0.258290   \n",
       "610           4.006173      8.518519            38.216049           0.245833   \n",
       "611           3.203704      7.487654            37.876543           0.238704   \n",
       "612           3.487654      9.203704            37.814815           0.240173   \n",
       "...                ...           ...                  ...                ...   \n",
       "1210          2.419753      8.716049            37.901235           0.254074   \n",
       "1211          2.475309      8.623457            37.401235           0.249253   \n",
       "1212          3.345679      8.191358            37.987654           0.236481   \n",
       "1213          2.839506      9.253086            36.753086           0.229593   \n",
       "1214          3.660494      8.320988            38.388889           0.252457   \n",
       "\n",
       "      ...  A_Opp_grounded_balls  A_Opp_fly_balls  A_Opp_line_drives  \\\n",
       "608   ...             11.487654        12.993827           6.006173   \n",
       "609   ...             11.444444        13.635802           5.944444   \n",
       "610   ...             12.037037        15.154321           6.950617   \n",
       "611   ...             11.882716        14.895062           6.796296   \n",
       "612   ...             10.783951        14.654321           6.376543   \n",
       "...   ...                   ...              ...                ...   \n",
       "1210  ...             11.456790        14.425926           6.388889   \n",
       "1211  ...             12.438272        15.148148           6.987654   \n",
       "1212  ...             10.783951        14.654321           6.376543   \n",
       "1213  ...             10.746914        13.314815           6.098765   \n",
       "1214  ...             11.444444        13.635802           5.944444   \n",
       "\n",
       "      A_Opp_unknown_bat_type  A_Opp_game_score  A_Opp_inherited_runners  \\\n",
       "608                 0.000000         48.302469                 1.950311   \n",
       "609                 0.006173         49.450617                 1.329193   \n",
       "610                 0.012346         48.339506                 1.471698   \n",
       "611                 0.024691         52.864198                 1.320513   \n",
       "612                 0.018519         48.919753                 1.770186   \n",
       "...                      ...               ...                      ...   \n",
       "1210                0.006173         50.388889                 1.679245   \n",
       "1211                0.006173         48.746914                 1.472050   \n",
       "1212                0.018519         48.919753                 1.770186   \n",
       "1213                0.000000         50.000000                 1.333333   \n",
       "1214                0.006173         49.450617                 1.329193   \n",
       "\n",
       "      A_Opp_inherited_score  A_Opp_win_probability_by_pitcher  \\\n",
       "608                0.571429                         -0.016685   \n",
       "609                0.403727                         -0.020815   \n",
       "610                0.459119                         -0.030247   \n",
       "611                0.365385                          0.052444   \n",
       "612                0.639752                          0.014864   \n",
       "...                     ...                               ...   \n",
       "1210               0.433962                          0.032451   \n",
       "1211               0.378882                          0.009642   \n",
       "1212               0.639752                          0.014864   \n",
       "1213               0.444444                         -0.041759   \n",
       "1214               0.403727                         -0.020815   \n",
       "\n",
       "      A_Opp_base_out_runs_saved  home_win  \n",
       "608                   -0.554321         1  \n",
       "609                   -0.461111         1  \n",
       "610                   -0.472840         1  \n",
       "611                    0.329630         0  \n",
       "612                    0.027778         1  \n",
       "...                         ...       ...  \n",
       "1210                   0.349383         0  \n",
       "1211                  -0.084568         0  \n",
       "1212                   0.027778         0  \n",
       "1213                  -0.278395         0  \n",
       "1214                  -0.461111         1  \n",
       "\n",
       "[607 rows x 139 columns]"
      ]
     },
     "execution_count": 11,
     "metadata": {},
     "output_type": "execute_result"
    }
   ],
   "source": [
    "#df2.drop_duplicates(inplace=True)\n",
    "df2"
   ]
  },
  {
   "cell_type": "code",
   "execution_count": 12,
   "metadata": {
    "ExecuteTime": {
     "end_time": "2022-01-25T22:19:18.638722Z",
     "start_time": "2022-01-25T22:19:18.580009Z"
    }
   },
   "outputs": [
    {
     "data": {
      "text/html": [
       "<div>\n",
       "<style scoped>\n",
       "    .dataframe tbody tr th:only-of-type {\n",
       "        vertical-align: middle;\n",
       "    }\n",
       "\n",
       "    .dataframe tbody tr th {\n",
       "        vertical-align: top;\n",
       "    }\n",
       "\n",
       "    .dataframe thead th {\n",
       "        text-align: right;\n",
       "    }\n",
       "</style>\n",
       "<table border=\"1\" class=\"dataframe\">\n",
       "  <thead>\n",
       "    <tr style=\"text-align: right;\">\n",
       "      <th></th>\n",
       "      <th>H_name</th>\n",
       "      <th>H_at_bats</th>\n",
       "      <th>H_runs</th>\n",
       "      <th>H_hits</th>\n",
       "      <th>H_rbi</th>\n",
       "      <th>H_earned_runs</th>\n",
       "      <th>H_bases_on_balls</th>\n",
       "      <th>H_strikeouts</th>\n",
       "      <th>H_plate_appearances</th>\n",
       "      <th>H_batting_average</th>\n",
       "      <th>...</th>\n",
       "      <th>A_Opp_grounded_balls</th>\n",
       "      <th>A_Opp_fly_balls</th>\n",
       "      <th>A_Opp_line_drives</th>\n",
       "      <th>A_Opp_unknown_bat_type</th>\n",
       "      <th>A_Opp_game_score</th>\n",
       "      <th>A_Opp_inherited_runners</th>\n",
       "      <th>A_Opp_inherited_score</th>\n",
       "      <th>A_Opp_win_probability_by_pitcher</th>\n",
       "      <th>A_Opp_base_out_runs_saved</th>\n",
       "      <th>home_win</th>\n",
       "    </tr>\n",
       "  </thead>\n",
       "  <tbody>\n",
       "    <tr>\n",
       "      <th>0</th>\n",
       "      <td>TBR</td>\n",
       "      <td>33.814815</td>\n",
       "      <td>4.283951</td>\n",
       "      <td>8.271605</td>\n",
       "      <td>4.141975</td>\n",
       "      <td>4.117840</td>\n",
       "      <td>3.364198</td>\n",
       "      <td>9.493827</td>\n",
       "      <td>37.944444</td>\n",
       "      <td>0.239617</td>\n",
       "      <td>...</td>\n",
       "      <td>11.487654</td>\n",
       "      <td>12.993827</td>\n",
       "      <td>6.006173</td>\n",
       "      <td>0.000000</td>\n",
       "      <td>48.302469</td>\n",
       "      <td>1.950311</td>\n",
       "      <td>0.571429</td>\n",
       "      <td>-0.016685</td>\n",
       "      <td>-0.554321</td>\n",
       "      <td>1</td>\n",
       "    </tr>\n",
       "    <tr>\n",
       "      <th>1</th>\n",
       "      <td>ARI</td>\n",
       "      <td>34.104938</td>\n",
       "      <td>5.012346</td>\n",
       "      <td>8.672840</td>\n",
       "      <td>4.790123</td>\n",
       "      <td>4.939444</td>\n",
       "      <td>3.567901</td>\n",
       "      <td>8.987654</td>\n",
       "      <td>38.419753</td>\n",
       "      <td>0.249259</td>\n",
       "      <td>...</td>\n",
       "      <td>12.345679</td>\n",
       "      <td>15.500000</td>\n",
       "      <td>7.487654</td>\n",
       "      <td>0.024691</td>\n",
       "      <td>53.462963</td>\n",
       "      <td>1.455128</td>\n",
       "      <td>0.333333</td>\n",
       "      <td>0.088105</td>\n",
       "      <td>0.733951</td>\n",
       "      <td>1</td>\n",
       "    </tr>\n",
       "    <tr>\n",
       "      <th>2</th>\n",
       "      <td>STL</td>\n",
       "      <td>33.765432</td>\n",
       "      <td>4.697531</td>\n",
       "      <td>8.654321</td>\n",
       "      <td>4.493827</td>\n",
       "      <td>4.486728</td>\n",
       "      <td>3.660494</td>\n",
       "      <td>8.320988</td>\n",
       "      <td>38.388889</td>\n",
       "      <td>0.252457</td>\n",
       "      <td>...</td>\n",
       "      <td>11.839506</td>\n",
       "      <td>13.160494</td>\n",
       "      <td>6.592593</td>\n",
       "      <td>0.006173</td>\n",
       "      <td>49.012346</td>\n",
       "      <td>1.453416</td>\n",
       "      <td>0.472050</td>\n",
       "      <td>-0.011130</td>\n",
       "      <td>-0.415432</td>\n",
       "      <td>1</td>\n",
       "    </tr>\n",
       "    <tr>\n",
       "      <th>3</th>\n",
       "      <td>TEX</td>\n",
       "      <td>33.518519</td>\n",
       "      <td>4.932099</td>\n",
       "      <td>8.185185</td>\n",
       "      <td>4.666667</td>\n",
       "      <td>4.781358</td>\n",
       "      <td>3.358025</td>\n",
       "      <td>9.216049</td>\n",
       "      <td>37.790123</td>\n",
       "      <td>0.240247</td>\n",
       "      <td>...</td>\n",
       "      <td>10.629630</td>\n",
       "      <td>12.833333</td>\n",
       "      <td>6.487654</td>\n",
       "      <td>0.000000</td>\n",
       "      <td>46.456790</td>\n",
       "      <td>1.867925</td>\n",
       "      <td>0.547170</td>\n",
       "      <td>0.008123</td>\n",
       "      <td>-0.301852</td>\n",
       "      <td>0</td>\n",
       "    </tr>\n",
       "    <tr>\n",
       "      <th>4</th>\n",
       "      <td>MIL</td>\n",
       "      <td>33.691358</td>\n",
       "      <td>4.444444</td>\n",
       "      <td>8.351852</td>\n",
       "      <td>4.216049</td>\n",
       "      <td>4.273951</td>\n",
       "      <td>3.271605</td>\n",
       "      <td>9.697531</td>\n",
       "      <td>37.703704</td>\n",
       "      <td>0.243426</td>\n",
       "      <td>...</td>\n",
       "      <td>13.265432</td>\n",
       "      <td>13.413580</td>\n",
       "      <td>6.629630</td>\n",
       "      <td>0.018519</td>\n",
       "      <td>46.876543</td>\n",
       "      <td>1.465839</td>\n",
       "      <td>0.472050</td>\n",
       "      <td>0.015272</td>\n",
       "      <td>-0.198765</td>\n",
       "      <td>0</td>\n",
       "    </tr>\n",
       "  </tbody>\n",
       "</table>\n",
       "<p>5 rows × 139 columns</p>\n",
       "</div>"
      ],
      "text/plain": [
       "  H_name  H_at_bats    H_runs    H_hits     H_rbi  H_earned_runs  \\\n",
       "0    TBR  33.814815  4.283951  8.271605  4.141975       4.117840   \n",
       "1    ARI  34.104938  5.012346  8.672840  4.790123       4.939444   \n",
       "2    STL  33.765432  4.697531  8.654321  4.493827       4.486728   \n",
       "3    TEX  33.518519  4.932099  8.185185  4.666667       4.781358   \n",
       "4    MIL  33.691358  4.444444  8.351852  4.216049       4.273951   \n",
       "\n",
       "   H_bases_on_balls  H_strikeouts  H_plate_appearances  H_batting_average  \\\n",
       "0          3.364198      9.493827            37.944444           0.239617   \n",
       "1          3.567901      8.987654            38.419753           0.249259   \n",
       "2          3.660494      8.320988            38.388889           0.252457   \n",
       "3          3.358025      9.216049            37.790123           0.240247   \n",
       "4          3.271605      9.697531            37.703704           0.243426   \n",
       "\n",
       "   ...  A_Opp_grounded_balls  A_Opp_fly_balls  A_Opp_line_drives  \\\n",
       "0  ...             11.487654        12.993827           6.006173   \n",
       "1  ...             12.345679        15.500000           7.487654   \n",
       "2  ...             11.839506        13.160494           6.592593   \n",
       "3  ...             10.629630        12.833333           6.487654   \n",
       "4  ...             13.265432        13.413580           6.629630   \n",
       "\n",
       "   A_Opp_unknown_bat_type  A_Opp_game_score  A_Opp_inherited_runners  \\\n",
       "0                0.000000         48.302469                 1.950311   \n",
       "1                0.024691         53.462963                 1.455128   \n",
       "2                0.006173         49.012346                 1.453416   \n",
       "3                0.000000         46.456790                 1.867925   \n",
       "4                0.018519         46.876543                 1.465839   \n",
       "\n",
       "   A_Opp_inherited_score  A_Opp_win_probability_by_pitcher  \\\n",
       "0               0.571429                         -0.016685   \n",
       "1               0.333333                          0.088105   \n",
       "2               0.472050                         -0.011130   \n",
       "3               0.547170                          0.008123   \n",
       "4               0.472050                          0.015272   \n",
       "\n",
       "   A_Opp_base_out_runs_saved  home_win  \n",
       "0                  -0.554321         1  \n",
       "1                   0.733951         1  \n",
       "2                  -0.415432         1  \n",
       "3                  -0.301852         0  \n",
       "4                  -0.198765         0  \n",
       "\n",
       "[5 rows x 139 columns]"
      ]
     },
     "execution_count": 12,
     "metadata": {},
     "output_type": "execute_result"
    }
   ],
   "source": [
    "df.head()"
   ]
  },
  {
   "cell_type": "code",
   "execution_count": 13,
   "metadata": {
    "ExecuteTime": {
     "end_time": "2022-01-25T22:19:19.455927Z",
     "start_time": "2022-01-25T22:19:19.406144Z"
    },
    "scrolled": true
   },
   "outputs": [
    {
     "data": {
      "text/html": [
       "<div>\n",
       "<style scoped>\n",
       "    .dataframe tbody tr th:only-of-type {\n",
       "        vertical-align: middle;\n",
       "    }\n",
       "\n",
       "    .dataframe tbody tr th {\n",
       "        vertical-align: top;\n",
       "    }\n",
       "\n",
       "    .dataframe thead th {\n",
       "        text-align: right;\n",
       "    }\n",
       "</style>\n",
       "<table border=\"1\" class=\"dataframe\">\n",
       "  <thead>\n",
       "    <tr style=\"text-align: right;\">\n",
       "      <th></th>\n",
       "      <th>H_name</th>\n",
       "      <th>H_at_bats</th>\n",
       "      <th>H_runs</th>\n",
       "      <th>H_hits</th>\n",
       "      <th>H_rbi</th>\n",
       "      <th>H_earned_runs</th>\n",
       "      <th>H_bases_on_balls</th>\n",
       "      <th>H_strikeouts</th>\n",
       "      <th>H_plate_appearances</th>\n",
       "      <th>H_batting_average</th>\n",
       "      <th>...</th>\n",
       "      <th>A_Opp_grounded_balls</th>\n",
       "      <th>A_Opp_fly_balls</th>\n",
       "      <th>A_Opp_line_drives</th>\n",
       "      <th>A_Opp_unknown_bat_type</th>\n",
       "      <th>A_Opp_game_score</th>\n",
       "      <th>A_Opp_inherited_runners</th>\n",
       "      <th>A_Opp_inherited_score</th>\n",
       "      <th>A_Opp_win_probability_by_pitcher</th>\n",
       "      <th>A_Opp_base_out_runs_saved</th>\n",
       "      <th>home_win</th>\n",
       "    </tr>\n",
       "  </thead>\n",
       "  <tbody>\n",
       "    <tr>\n",
       "      <th>608</th>\n",
       "      <td>TBR</td>\n",
       "      <td>33.814815</td>\n",
       "      <td>4.283951</td>\n",
       "      <td>8.271605</td>\n",
       "      <td>4.141975</td>\n",
       "      <td>4.117840</td>\n",
       "      <td>3.364198</td>\n",
       "      <td>9.493827</td>\n",
       "      <td>37.944444</td>\n",
       "      <td>0.239617</td>\n",
       "      <td>...</td>\n",
       "      <td>11.487654</td>\n",
       "      <td>12.993827</td>\n",
       "      <td>6.006173</td>\n",
       "      <td>0.000000</td>\n",
       "      <td>48.302469</td>\n",
       "      <td>1.950311</td>\n",
       "      <td>0.571429</td>\n",
       "      <td>-0.016685</td>\n",
       "      <td>-0.554321</td>\n",
       "      <td>1</td>\n",
       "    </tr>\n",
       "    <tr>\n",
       "      <th>609</th>\n",
       "      <td>ATL</td>\n",
       "      <td>34.469136</td>\n",
       "      <td>4.518519</td>\n",
       "      <td>9.055556</td>\n",
       "      <td>4.358025</td>\n",
       "      <td>4.303272</td>\n",
       "      <td>2.925926</td>\n",
       "      <td>7.308642</td>\n",
       "      <td>38.370370</td>\n",
       "      <td>0.258290</td>\n",
       "      <td>...</td>\n",
       "      <td>11.444444</td>\n",
       "      <td>13.635802</td>\n",
       "      <td>5.944444</td>\n",
       "      <td>0.006173</td>\n",
       "      <td>49.450617</td>\n",
       "      <td>1.329193</td>\n",
       "      <td>0.403727</td>\n",
       "      <td>-0.020815</td>\n",
       "      <td>-0.461111</td>\n",
       "      <td>1</td>\n",
       "    </tr>\n",
       "    <tr>\n",
       "      <th>610</th>\n",
       "      <td>LAD</td>\n",
       "      <td>33.382716</td>\n",
       "      <td>4.753086</td>\n",
       "      <td>8.314815</td>\n",
       "      <td>4.506173</td>\n",
       "      <td>4.730000</td>\n",
       "      <td>4.006173</td>\n",
       "      <td>8.518519</td>\n",
       "      <td>38.216049</td>\n",
       "      <td>0.245833</td>\n",
       "      <td>...</td>\n",
       "      <td>12.037037</td>\n",
       "      <td>15.154321</td>\n",
       "      <td>6.950617</td>\n",
       "      <td>0.012346</td>\n",
       "      <td>48.339506</td>\n",
       "      <td>1.471698</td>\n",
       "      <td>0.459119</td>\n",
       "      <td>-0.030247</td>\n",
       "      <td>-0.472840</td>\n",
       "      <td>1</td>\n",
       "    </tr>\n",
       "    <tr>\n",
       "      <th>611</th>\n",
       "      <td>PIT</td>\n",
       "      <td>33.691358</td>\n",
       "      <td>4.123457</td>\n",
       "      <td>8.216049</td>\n",
       "      <td>3.919753</td>\n",
       "      <td>3.825679</td>\n",
       "      <td>3.203704</td>\n",
       "      <td>7.487654</td>\n",
       "      <td>37.876543</td>\n",
       "      <td>0.238704</td>\n",
       "      <td>...</td>\n",
       "      <td>11.882716</td>\n",
       "      <td>14.895062</td>\n",
       "      <td>6.796296</td>\n",
       "      <td>0.024691</td>\n",
       "      <td>52.864198</td>\n",
       "      <td>1.320513</td>\n",
       "      <td>0.365385</td>\n",
       "      <td>0.052444</td>\n",
       "      <td>0.329630</td>\n",
       "      <td>0</td>\n",
       "    </tr>\n",
       "    <tr>\n",
       "      <th>612</th>\n",
       "      <td>OAK</td>\n",
       "      <td>33.728395</td>\n",
       "      <td>4.561728</td>\n",
       "      <td>8.296296</td>\n",
       "      <td>4.370370</td>\n",
       "      <td>4.483642</td>\n",
       "      <td>3.487654</td>\n",
       "      <td>9.203704</td>\n",
       "      <td>37.814815</td>\n",
       "      <td>0.240173</td>\n",
       "      <td>...</td>\n",
       "      <td>10.783951</td>\n",
       "      <td>14.654321</td>\n",
       "      <td>6.376543</td>\n",
       "      <td>0.018519</td>\n",
       "      <td>48.919753</td>\n",
       "      <td>1.770186</td>\n",
       "      <td>0.639752</td>\n",
       "      <td>0.014864</td>\n",
       "      <td>0.027778</td>\n",
       "      <td>1</td>\n",
       "    </tr>\n",
       "  </tbody>\n",
       "</table>\n",
       "<p>5 rows × 139 columns</p>\n",
       "</div>"
      ],
      "text/plain": [
       "    H_name  H_at_bats    H_runs    H_hits     H_rbi  H_earned_runs  \\\n",
       "608    TBR  33.814815  4.283951  8.271605  4.141975       4.117840   \n",
       "609    ATL  34.469136  4.518519  9.055556  4.358025       4.303272   \n",
       "610    LAD  33.382716  4.753086  8.314815  4.506173       4.730000   \n",
       "611    PIT  33.691358  4.123457  8.216049  3.919753       3.825679   \n",
       "612    OAK  33.728395  4.561728  8.296296  4.370370       4.483642   \n",
       "\n",
       "     H_bases_on_balls  H_strikeouts  H_plate_appearances  H_batting_average  \\\n",
       "608          3.364198      9.493827            37.944444           0.239617   \n",
       "609          2.925926      7.308642            38.370370           0.258290   \n",
       "610          4.006173      8.518519            38.216049           0.245833   \n",
       "611          3.203704      7.487654            37.876543           0.238704   \n",
       "612          3.487654      9.203704            37.814815           0.240173   \n",
       "\n",
       "     ...  A_Opp_grounded_balls  A_Opp_fly_balls  A_Opp_line_drives  \\\n",
       "608  ...             11.487654        12.993827           6.006173   \n",
       "609  ...             11.444444        13.635802           5.944444   \n",
       "610  ...             12.037037        15.154321           6.950617   \n",
       "611  ...             11.882716        14.895062           6.796296   \n",
       "612  ...             10.783951        14.654321           6.376543   \n",
       "\n",
       "     A_Opp_unknown_bat_type  A_Opp_game_score  A_Opp_inherited_runners  \\\n",
       "608                0.000000         48.302469                 1.950311   \n",
       "609                0.006173         49.450617                 1.329193   \n",
       "610                0.012346         48.339506                 1.471698   \n",
       "611                0.024691         52.864198                 1.320513   \n",
       "612                0.018519         48.919753                 1.770186   \n",
       "\n",
       "     A_Opp_inherited_score  A_Opp_win_probability_by_pitcher  \\\n",
       "608               0.571429                         -0.016685   \n",
       "609               0.403727                         -0.020815   \n",
       "610               0.459119                         -0.030247   \n",
       "611               0.365385                          0.052444   \n",
       "612               0.639752                          0.014864   \n",
       "\n",
       "     A_Opp_base_out_runs_saved  home_win  \n",
       "608                  -0.554321         1  \n",
       "609                  -0.461111         1  \n",
       "610                  -0.472840         1  \n",
       "611                   0.329630         0  \n",
       "612                   0.027778         1  \n",
       "\n",
       "[5 rows x 139 columns]"
      ]
     },
     "execution_count": 13,
     "metadata": {},
     "output_type": "execute_result"
    }
   ],
   "source": [
    "df2.head()"
   ]
  },
  {
   "cell_type": "code",
   "execution_count": 14,
   "metadata": {
    "ExecuteTime": {
     "end_time": "2022-01-25T22:19:19.977350Z",
     "start_time": "2022-01-25T22:19:19.968921Z"
    }
   },
   "outputs": [],
   "source": [
    "def data_preprocessing(df, df2):\n",
    "    X_train = df.drop(['home_win','H_name','A_name'], axis=1)\n",
    "    X_test = df2.drop(['home_win','H_name','A_name'], axis=1)\n",
    "    y_train = df.home_win\n",
    "    y_test= df2.home_win\n",
    "    \n",
    "    ss = StandardScaler()\n",
    "    X_train_scaled = ss.fit_transform(X_train)\n",
    "    X_test_scaled = ss.transform(X_test)\n",
    "    \n",
    "    X_train_scaled = pd.DataFrame(X_train_scaled, columns=X_train.columns)\n",
    "    X_test_scaled = pd.DataFrame(X_test_scaled, columns=X_test.columns)\n",
    "    \n",
    "    return X_train_scaled, X_test_scaled,y_train,y_test"
   ]
  },
  {
   "cell_type": "code",
   "execution_count": 15,
   "metadata": {
    "ExecuteTime": {
     "end_time": "2022-01-25T22:19:20.474780Z",
     "start_time": "2022-01-25T22:19:20.431955Z"
    }
   },
   "outputs": [],
   "source": [
    "X_train_scaled,X_test_scaled,y_train,y_test=data_preprocessing(df,df2)"
   ]
  },
  {
   "cell_type": "code",
   "execution_count": 16,
   "metadata": {
    "ExecuteTime": {
     "end_time": "2022-01-25T22:19:20.709990Z",
     "start_time": "2022-01-25T22:19:20.702173Z"
    }
   },
   "outputs": [],
   "source": [
    "# X_test_scaled.drop(['H_Opp_inherited_score','H_Opp_game_score','H_Opp_unknown_bat_type',\n",
    "#                     'H_Opp_inherited_runners'],axis=1,inplace=True)"
   ]
  },
  {
   "cell_type": "code",
   "execution_count": 17,
   "metadata": {
    "ExecuteTime": {
     "end_time": "2022-01-25T22:19:20.958877Z",
     "start_time": "2022-01-25T22:19:20.954985Z"
    }
   },
   "outputs": [],
   "source": [
    "# X_train_scaled.drop(['H_Opp_inherited_score','H_Opp_game_score','H_Opp_unknown_bat_type',\n",
    "#                     'H_Opp_inherited_runners'],axis=1,inplace=True)"
   ]
  },
  {
   "cell_type": "markdown",
   "metadata": {},
   "source": [
    "## Feature Selection"
   ]
  },
  {
   "cell_type": "code",
   "execution_count": 18,
   "metadata": {
    "ExecuteTime": {
     "end_time": "2022-01-25T22:19:21.586932Z",
     "start_time": "2022-01-25T22:19:21.575166Z"
    }
   },
   "outputs": [],
   "source": [
    "def new_acc(probabilities):\n",
    "    class_list2=[]\n",
    "    for log in probabilities:\n",
    "        if log[0]<.40:\n",
    "            class_list2.append(1)\n",
    "        elif log[0]>.60:\n",
    "            class_list2.append(0)\n",
    "        else:\n",
    "            class_list2.append(3)\n",
    "    y_pred_class=pd.DataFrame(class_list2)\n",
    "    y_pred_class.reset_index(inplace=True)\n",
    "    y_test_df=pd.DataFrame(y_test)\n",
    "    y_test_df.reset_index(inplace=True)\n",
    "    comb=pd.concat([y_test_df,y_pred_class],axis=1)\n",
    "    comb.drop(['index','index'],axis=1,inplace=True)\n",
    "    comb['pred']=comb[0]\n",
    "    comb.drop([0],axis=1,inplace=True)\n",
    "    comb.drop(comb[comb['pred'] == 3].index, inplace = True)\n",
    "    count=0\n",
    "    for bools in comb['home_win']==comb['pred']:\n",
    "        if bools is True:\n",
    "            count+=1\n",
    "        else:\n",
    "            pass\n",
    "    accuracy=count/len(comb)\n",
    "    \n",
    "    return accuracy,count"
   ]
  },
  {
   "cell_type": "markdown",
   "metadata": {},
   "source": [
    "### RFECV"
   ]
  },
  {
   "cell_type": "code",
   "execution_count": 19,
   "metadata": {
    "ExecuteTime": {
     "end_time": "2022-01-25T22:24:03.328940Z",
     "start_time": "2022-01-25T22:19:22.413448Z"
    }
   },
   "outputs": [],
   "source": [
    "rfeats= feature_select(X_train_scaled,y_train,RandomForestClassifier,min_features=10)\n",
    "X_train_best_for = X_train_scaled[rfeats]\n",
    "X_test_best_for = X_test_scaled[rfeats]"
   ]
  },
  {
   "cell_type": "code",
   "execution_count": 20,
   "metadata": {
    "ExecuteTime": {
     "end_time": "2022-01-25T22:25:14.668611Z",
     "start_time": "2022-01-25T22:24:03.331686Z"
    }
   },
   "outputs": [
    {
     "name": "stdout",
     "output_type": "stream",
     "text": [
      "Number of Trees: 90\n",
      "criterion: entropy\n",
      "Mean Cross-Val Score: 0.508641975308642\n",
      "Train Mean Accuracy: 0.7218106995884773\n",
      "Test Mean Accuracy: 0.7182866556836903\n",
      "Recall Score: 0.7678018575851393\n",
      "Precision Score: 0.7209302325581395\n",
      "F1 score: 0.7436281859070464\n"
     ]
    },
    {
     "data": {
      "image/png": "[encoded data removed]",
      "text/plain": [
       "<Figure size 432x288 with 1 Axes>"
      ]
     },
     "metadata": {
      "needs_background": "light"
     },
     "output_type": "display_data"
    },
    {
     "data": {
      "image/png": "[encoded data removed]",
      "text/plain": [
       "<Figure size 432x288 with 2 Axes>"
      ]
     },
     "metadata": {
      "needs_background": "light"
     },
     "output_type": "display_data"
    },
    {
     "data": {
      "image/png": "[encoded data removed]",
      "text/plain": [
       "<Figure size 432x288 with 2 Axes>"
      ]
     },
     "metadata": {
      "needs_background": "light"
     },
     "output_type": "display_data"
    }
   ],
   "source": [
    "predictions,probabilities=random_forest(X_train_best_for,X_test_best_for,y_train,y_test)"
   ]
  },
  {
   "cell_type": "code",
   "execution_count": 21,
   "metadata": {
    "ExecuteTime": {
     "end_time": "2022-01-25T22:25:19.258150Z",
     "start_time": "2022-01-25T22:25:19.219921Z"
    }
   },
   "outputs": [
    {
     "data": {
      "text/plain": [
       "(0.7756410256410257, 363)"
      ]
     },
     "execution_count": 21,
     "metadata": {},
     "output_type": "execute_result"
    }
   ],
   "source": [
    "new_acc(probabilities)"
   ]
  },
  {
   "cell_type": "markdown",
   "metadata": {},
   "source": [
    "### PCA"
   ]
  },
  {
   "cell_type": "code",
   "execution_count": 22,
   "metadata": {
    "ExecuteTime": {
     "end_time": "2022-01-25T22:25:21.255207Z",
     "start_time": "2022-01-25T22:25:21.168218Z"
    }
   },
   "outputs": [],
   "source": [
    "pca=PCA(n_components=0.9)\n",
    "train_pca=pca.fit_transform(X_train_scaled)\n",
    "test_pca=pca.transform(X_test_scaled)"
   ]
  },
  {
   "cell_type": "code",
   "execution_count": 23,
   "metadata": {
    "ExecuteTime": {
     "end_time": "2022-01-25T22:26:19.225592Z",
     "start_time": "2022-01-25T22:25:21.925599Z"
    }
   },
   "outputs": [
    {
     "name": "stdout",
     "output_type": "stream",
     "text": [
      "Number of Trees: 100\n",
      "criterion: gini\n",
      "Mean Cross-Val Score: 0.5259259259259259\n",
      "Train Mean Accuracy: 0.7218106995884773\n",
      "Test Mean Accuracy: 0.7166392092257001\n",
      "Recall Score: 0.7616099071207431\n",
      "Precision Score: 0.7214076246334311\n",
      "F1 score: 0.7409638554216867\n"
     ]
    },
    {
     "data": {
      "image/png": "[encoded data removed]",
      "text/plain": [
       "<Figure size 432x288 with 1 Axes>"
      ]
     },
     "metadata": {
      "needs_background": "light"
     },
     "output_type": "display_data"
    },
    {
     "data": {
      "image/png": "[encoded data removed]",
      "text/plain": [
       "<Figure size 432x288 with 2 Axes>"
      ]
     },
     "metadata": {
      "needs_background": "light"
     },
     "output_type": "display_data"
    },
    {
     "data": {
      "image/png": "[encoded data removed]",
      "text/plain": [
       "<Figure size 432x288 with 2 Axes>"
      ]
     },
     "metadata": {
      "needs_background": "light"
     },
     "output_type": "display_data"
    }
   ],
   "source": [
    "predictions,probabilities=random_forest(train_pca,test_pca,y_train,y_test)"
   ]
  },
  {
   "cell_type": "code",
   "execution_count": 24,
   "metadata": {
    "ExecuteTime": {
     "end_time": "2022-01-25T22:26:23.791933Z",
     "start_time": "2022-01-25T22:26:23.766269Z"
    }
   },
   "outputs": [
    {
     "data": {
      "text/plain": [
       "(0.7758985200845666, 367)"
      ]
     },
     "execution_count": 24,
     "metadata": {},
     "output_type": "execute_result"
    }
   ],
   "source": [
    "new_acc(probabilities)"
   ]
  }
 ],
 "metadata": {
  "kernelspec": {
   "display_name": "Python (learn-env)",
   "language": "python",
   "name": "learn-env"
  },
  "language_info": {
   "codemirror_mode": {
    "name": "ipython",
    "version": 3
   },
   "file_extension": ".py",
   "mimetype": "text/x-python",
   "name": "python",
   "nbconvert_exporter": "python",
   "pygments_lexer": "ipython3",
   "version": "3.8.5"
  },
  "notify_time": "30"
 },
 "nbformat": 4,
 "nbformat_minor": 4
}

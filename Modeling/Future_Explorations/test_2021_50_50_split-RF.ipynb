{
 "cells": [
  {
   "cell_type": "code",
   "execution_count": 1,
   "metadata": {
    "ExecuteTime": {
     "end_time": "2022-01-25T22:43:00.818737Z",
     "start_time": "2022-01-25T22:42:55.900028Z"
    }
   },
   "outputs": [],
   "source": [
    "# Import the relevant packages\n",
    "import pandas as pd\n",
    "import numpy as np\n",
    "import matplotlib.pyplot as plt\n",
    "from sklearn.linear_model import LogisticRegression\n",
    "from sklearn.model_selection import cross_val_score, train_test_split,GridSearchCV\n",
    "from sklearn.metrics import plot_confusion_matrix, plot_roc_curve, accuracy_score, \\\n",
    "recall_score, precision_score, f1_score\n",
    "from sklearn.neighbors import KNeighborsClassifier\n",
    "from sklearn.preprocessing import StandardScaler\n",
    "from sklearn.tree import DecisionTreeClassifier, plot_tree\n",
    "from sklearn.ensemble import BaggingClassifier, RandomForestClassifier\n",
    "from sklearn.ensemble import AdaBoostClassifier, GradientBoostingClassifier\n",
    "from xgboost import XGBClassifier\n",
    "import statsmodels.api as sm\n",
    "from sklearn.feature_selection import RFECV\n",
    "from sklearn.decomposition import PCA\n",
    "import warnings\n",
    "warnings.filterwarnings(\"ignore\")"
   ]
  },
  {
   "cell_type": "code",
   "execution_count": 2,
   "metadata": {
    "ExecuteTime": {
     "end_time": "2022-01-25T22:43:00.998377Z",
     "start_time": "2022-01-25T22:43:00.833065Z"
    }
   },
   "outputs": [],
   "source": [
    "#Import functions notebook and load data set here\n",
    "import sys\n",
    "sys.path.append(\"../\")\n",
    "from Modeling_functions import *"
   ]
  },
  {
   "cell_type": "code",
   "execution_count": 3,
   "metadata": {
    "ExecuteTime": {
     "end_time": "2022-01-25T22:43:01.115694Z",
     "start_time": "2022-01-25T22:43:01.007215Z"
    }
   },
   "outputs": [],
   "source": [
    "df=pd.read_csv('../data/Season_2021.csv')"
   ]
  },
  {
   "cell_type": "code",
   "execution_count": 4,
   "metadata": {
    "ExecuteTime": {
     "end_time": "2022-01-25T22:43:01.561154Z",
     "start_time": "2022-01-25T22:43:01.551989Z"
    }
   },
   "outputs": [],
   "source": [
    "df.drop(['Unnamed: 0'],axis=1,inplace=True)"
   ]
  },
  {
   "cell_type": "code",
   "execution_count": 5,
   "metadata": {
    "ExecuteTime": {
     "end_time": "2022-01-25T22:43:01.685659Z",
     "start_time": "2022-01-25T22:43:01.679614Z"
    }
   },
   "outputs": [],
   "source": [
    "n = 50\n",
    "df=df.head(int(len(df)*(n/100)))"
   ]
  },
  {
   "cell_type": "code",
   "execution_count": 6,
   "metadata": {
    "ExecuteTime": {
     "end_time": "2022-01-25T22:43:02.151220Z",
     "start_time": "2022-01-25T22:43:02.144614Z"
    }
   },
   "outputs": [],
   "source": [
    "n = 50\n",
    "df2=df.tail(int(len(df)*(n/100)))"
   ]
  },
  {
   "cell_type": "markdown",
   "metadata": {},
   "source": [
    "Find and eliminate NaNs"
   ]
  },
  {
   "cell_type": "code",
   "execution_count": 7,
   "metadata": {
    "ExecuteTime": {
     "end_time": "2022-01-25T22:43:03.060312Z",
     "start_time": "2022-01-25T22:43:03.027332Z"
    }
   },
   "outputs": [],
   "source": [
    "df=df.drop(['H_win_probability_subtracted','A_win_probability_subtracted','A_Opp_win_probability_subtracted',\n",
    "          'H_Opp_win_probability_subtracted'],axis=1)"
   ]
  },
  {
   "cell_type": "code",
   "execution_count": 8,
   "metadata": {
    "ExecuteTime": {
     "end_time": "2022-01-25T22:43:03.409725Z",
     "start_time": "2022-01-25T22:43:03.404213Z"
    },
    "scrolled": true
   },
   "outputs": [],
   "source": [
    "df2=df2.drop(['H_win_probability_subtracted','A_win_probability_subtracted','A_Opp_win_probability_subtracted',\n",
    "          'H_Opp_win_probability_subtracted'],axis=1)"
   ]
  },
  {
   "cell_type": "code",
   "execution_count": 9,
   "metadata": {
    "ExecuteTime": {
     "end_time": "2022-01-25T22:43:03.885610Z",
     "start_time": "2022-01-25T22:43:03.832300Z"
    }
   },
   "outputs": [
    {
     "data": {
      "text/plain": [
       "1    0.532632\n",
       "0    0.467368\n",
       "Name: home_win, dtype: float64"
      ]
     },
     "execution_count": 9,
     "metadata": {},
     "output_type": "execute_result"
    }
   ],
   "source": [
    "df.home_win.value_counts(normalize=True)"
   ]
  },
  {
   "cell_type": "code",
   "execution_count": 10,
   "metadata": {
    "ExecuteTime": {
     "end_time": "2022-01-25T22:43:04.351311Z",
     "start_time": "2022-01-25T22:43:04.339769Z"
    }
   },
   "outputs": [
    {
     "data": {
      "text/plain": [
       "1    0.556962\n",
       "0    0.443038\n",
       "Name: home_win, dtype: float64"
      ]
     },
     "execution_count": 10,
     "metadata": {},
     "output_type": "execute_result"
    }
   ],
   "source": [
    "df2.home_win.value_counts(normalize=True)"
   ]
  },
  {
   "cell_type": "code",
   "execution_count": 11,
   "metadata": {
    "ExecuteTime": {
     "end_time": "2022-01-25T22:43:04.903465Z",
     "start_time": "2022-01-25T22:43:04.838255Z"
    }
   },
   "outputs": [
    {
     "data": {
      "text/html": [
       "<div>\n",
       "<style scoped>\n",
       "    .dataframe tbody tr th:only-of-type {\n",
       "        vertical-align: middle;\n",
       "    }\n",
       "\n",
       "    .dataframe tbody tr th {\n",
       "        vertical-align: top;\n",
       "    }\n",
       "\n",
       "    .dataframe thead th {\n",
       "        text-align: right;\n",
       "    }\n",
       "</style>\n",
       "<table border=\"1\" class=\"dataframe\">\n",
       "  <thead>\n",
       "    <tr style=\"text-align: right;\">\n",
       "      <th></th>\n",
       "      <th>H_name</th>\n",
       "      <th>H_at_bats</th>\n",
       "      <th>H_runs</th>\n",
       "      <th>H_hits</th>\n",
       "      <th>H_rbi</th>\n",
       "      <th>H_earned_runs</th>\n",
       "      <th>H_bases_on_balls</th>\n",
       "      <th>H_strikeouts</th>\n",
       "      <th>H_plate_appearances</th>\n",
       "      <th>H_batting_average</th>\n",
       "      <th>...</th>\n",
       "      <th>A_Opp_grounded_balls</th>\n",
       "      <th>A_Opp_fly_balls</th>\n",
       "      <th>A_Opp_line_drives</th>\n",
       "      <th>A_Opp_unknown_bat_type</th>\n",
       "      <th>A_Opp_game_score</th>\n",
       "      <th>A_Opp_inherited_runners</th>\n",
       "      <th>A_Opp_inherited_score</th>\n",
       "      <th>A_Opp_win_probability_by_pitcher</th>\n",
       "      <th>A_Opp_base_out_runs_saved</th>\n",
       "      <th>home_win</th>\n",
       "    </tr>\n",
       "  </thead>\n",
       "  <tbody>\n",
       "    <tr>\n",
       "      <th>238</th>\n",
       "      <td>SDP</td>\n",
       "      <td>33.234568</td>\n",
       "      <td>4.500000</td>\n",
       "      <td>8.055556</td>\n",
       "      <td>4.290123</td>\n",
       "      <td>4.197099</td>\n",
       "      <td>3.617284</td>\n",
       "      <td>8.172840</td>\n",
       "      <td>37.771605</td>\n",
       "      <td>0.236994</td>\n",
       "      <td>...</td>\n",
       "      <td>10.759259</td>\n",
       "      <td>14.820988</td>\n",
       "      <td>6.253086</td>\n",
       "      <td>0.0</td>\n",
       "      <td>52.981481</td>\n",
       "      <td>1.440252</td>\n",
       "      <td>0.465409</td>\n",
       "      <td>0.061136</td>\n",
       "      <td>0.719753</td>\n",
       "      <td>0</td>\n",
       "    </tr>\n",
       "    <tr>\n",
       "      <th>239</th>\n",
       "      <td>MIN</td>\n",
       "      <td>33.524691</td>\n",
       "      <td>4.500000</td>\n",
       "      <td>8.092593</td>\n",
       "      <td>4.259259</td>\n",
       "      <td>4.234630</td>\n",
       "      <td>3.240741</td>\n",
       "      <td>8.672840</td>\n",
       "      <td>37.518519</td>\n",
       "      <td>0.234944</td>\n",
       "      <td>...</td>\n",
       "      <td>11.481481</td>\n",
       "      <td>14.981481</td>\n",
       "      <td>6.432099</td>\n",
       "      <td>0.0</td>\n",
       "      <td>53.228395</td>\n",
       "      <td>1.286624</td>\n",
       "      <td>0.426752</td>\n",
       "      <td>0.103080</td>\n",
       "      <td>0.840123</td>\n",
       "      <td>0</td>\n",
       "    </tr>\n",
       "    <tr>\n",
       "      <th>240</th>\n",
       "      <td>COL</td>\n",
       "      <td>33.378882</td>\n",
       "      <td>4.590062</td>\n",
       "      <td>8.310559</td>\n",
       "      <td>4.403727</td>\n",
       "      <td>4.464969</td>\n",
       "      <td>3.049689</td>\n",
       "      <td>8.422360</td>\n",
       "      <td>37.310559</td>\n",
       "      <td>0.243193</td>\n",
       "      <td>...</td>\n",
       "      <td>11.796296</td>\n",
       "      <td>13.481481</td>\n",
       "      <td>5.895062</td>\n",
       "      <td>0.0</td>\n",
       "      <td>49.740741</td>\n",
       "      <td>1.518519</td>\n",
       "      <td>0.512346</td>\n",
       "      <td>-0.048346</td>\n",
       "      <td>-0.406173</td>\n",
       "      <td>1</td>\n",
       "    </tr>\n",
       "    <tr>\n",
       "      <th>241</th>\n",
       "      <td>MIA</td>\n",
       "      <td>33.012346</td>\n",
       "      <td>3.845679</td>\n",
       "      <td>7.679012</td>\n",
       "      <td>3.666667</td>\n",
       "      <td>3.608457</td>\n",
       "      <td>2.777778</td>\n",
       "      <td>9.586420</td>\n",
       "      <td>36.598765</td>\n",
       "      <td>0.227160</td>\n",
       "      <td>...</td>\n",
       "      <td>11.246914</td>\n",
       "      <td>15.907407</td>\n",
       "      <td>6.586420</td>\n",
       "      <td>0.0</td>\n",
       "      <td>51.919753</td>\n",
       "      <td>1.419753</td>\n",
       "      <td>0.462963</td>\n",
       "      <td>0.063648</td>\n",
       "      <td>0.404321</td>\n",
       "      <td>1</td>\n",
       "    </tr>\n",
       "    <tr>\n",
       "      <th>242</th>\n",
       "      <td>SEA</td>\n",
       "      <td>33.055556</td>\n",
       "      <td>4.302469</td>\n",
       "      <td>7.462963</td>\n",
       "      <td>4.154321</td>\n",
       "      <td>4.023580</td>\n",
       "      <td>3.302469</td>\n",
       "      <td>9.209877</td>\n",
       "      <td>37.098765</td>\n",
       "      <td>0.220506</td>\n",
       "      <td>...</td>\n",
       "      <td>10.987654</td>\n",
       "      <td>16.092593</td>\n",
       "      <td>6.641975</td>\n",
       "      <td>0.0</td>\n",
       "      <td>52.654321</td>\n",
       "      <td>1.298137</td>\n",
       "      <td>0.341615</td>\n",
       "      <td>0.079883</td>\n",
       "      <td>0.638889</td>\n",
       "      <td>1</td>\n",
       "    </tr>\n",
       "    <tr>\n",
       "      <th>...</th>\n",
       "      <td>...</td>\n",
       "      <td>...</td>\n",
       "      <td>...</td>\n",
       "      <td>...</td>\n",
       "      <td>...</td>\n",
       "      <td>...</td>\n",
       "      <td>...</td>\n",
       "      <td>...</td>\n",
       "      <td>...</td>\n",
       "      <td>...</td>\n",
       "      <td>...</td>\n",
       "      <td>...</td>\n",
       "      <td>...</td>\n",
       "      <td>...</td>\n",
       "      <td>...</td>\n",
       "      <td>...</td>\n",
       "      <td>...</td>\n",
       "      <td>...</td>\n",
       "      <td>...</td>\n",
       "      <td>...</td>\n",
       "      <td>...</td>\n",
       "    </tr>\n",
       "    <tr>\n",
       "      <th>470</th>\n",
       "      <td>NYM</td>\n",
       "      <td>32.160494</td>\n",
       "      <td>3.925926</td>\n",
       "      <td>7.666667</td>\n",
       "      <td>3.728395</td>\n",
       "      <td>3.801975</td>\n",
       "      <td>3.055556</td>\n",
       "      <td>8.592593</td>\n",
       "      <td>36.148148</td>\n",
       "      <td>0.232673</td>\n",
       "      <td>...</td>\n",
       "      <td>10.728395</td>\n",
       "      <td>13.561728</td>\n",
       "      <td>5.537037</td>\n",
       "      <td>0.0</td>\n",
       "      <td>52.450617</td>\n",
       "      <td>1.506250</td>\n",
       "      <td>0.600000</td>\n",
       "      <td>0.026123</td>\n",
       "      <td>-0.048765</td>\n",
       "      <td>1</td>\n",
       "    </tr>\n",
       "    <tr>\n",
       "      <th>471</th>\n",
       "      <td>TBR</td>\n",
       "      <td>33.993827</td>\n",
       "      <td>5.290123</td>\n",
       "      <td>8.240741</td>\n",
       "      <td>5.000000</td>\n",
       "      <td>4.965988</td>\n",
       "      <td>3.611111</td>\n",
       "      <td>9.518519</td>\n",
       "      <td>38.351852</td>\n",
       "      <td>0.237370</td>\n",
       "      <td>...</td>\n",
       "      <td>10.987654</td>\n",
       "      <td>16.092593</td>\n",
       "      <td>6.641975</td>\n",
       "      <td>0.0</td>\n",
       "      <td>52.654321</td>\n",
       "      <td>1.298137</td>\n",
       "      <td>0.341615</td>\n",
       "      <td>0.079883</td>\n",
       "      <td>0.638889</td>\n",
       "      <td>1</td>\n",
       "    </tr>\n",
       "    <tr>\n",
       "      <th>472</th>\n",
       "      <td>OAK</td>\n",
       "      <td>33.302469</td>\n",
       "      <td>4.586420</td>\n",
       "      <td>7.919753</td>\n",
       "      <td>4.308642</td>\n",
       "      <td>4.405494</td>\n",
       "      <td>3.364198</td>\n",
       "      <td>8.327160</td>\n",
       "      <td>37.679012</td>\n",
       "      <td>0.233253</td>\n",
       "      <td>...</td>\n",
       "      <td>10.993827</td>\n",
       "      <td>14.493827</td>\n",
       "      <td>6.333333</td>\n",
       "      <td>0.0</td>\n",
       "      <td>51.037037</td>\n",
       "      <td>1.186335</td>\n",
       "      <td>0.335404</td>\n",
       "      <td>0.024944</td>\n",
       "      <td>0.452469</td>\n",
       "      <td>1</td>\n",
       "    </tr>\n",
       "    <tr>\n",
       "      <th>473</th>\n",
       "      <td>LAD</td>\n",
       "      <td>33.611111</td>\n",
       "      <td>5.123457</td>\n",
       "      <td>8.209877</td>\n",
       "      <td>4.932099</td>\n",
       "      <td>5.025000</td>\n",
       "      <td>3.783951</td>\n",
       "      <td>8.691358</td>\n",
       "      <td>38.512346</td>\n",
       "      <td>0.237907</td>\n",
       "      <td>...</td>\n",
       "      <td>11.481481</td>\n",
       "      <td>14.981481</td>\n",
       "      <td>6.432099</td>\n",
       "      <td>0.0</td>\n",
       "      <td>53.228395</td>\n",
       "      <td>1.286624</td>\n",
       "      <td>0.426752</td>\n",
       "      <td>0.103080</td>\n",
       "      <td>0.840123</td>\n",
       "      <td>1</td>\n",
       "    </tr>\n",
       "    <tr>\n",
       "      <th>474</th>\n",
       "      <td>CHC</td>\n",
       "      <td>32.753086</td>\n",
       "      <td>4.351852</td>\n",
       "      <td>7.746914</td>\n",
       "      <td>4.148148</td>\n",
       "      <td>4.157099</td>\n",
       "      <td>3.098765</td>\n",
       "      <td>9.851852</td>\n",
       "      <td>36.864198</td>\n",
       "      <td>0.231142</td>\n",
       "      <td>...</td>\n",
       "      <td>11.500000</td>\n",
       "      <td>13.981481</td>\n",
       "      <td>6.098765</td>\n",
       "      <td>0.0</td>\n",
       "      <td>51.407407</td>\n",
       "      <td>1.106918</td>\n",
       "      <td>0.358491</td>\n",
       "      <td>-0.005957</td>\n",
       "      <td>-0.004321</td>\n",
       "      <td>1</td>\n",
       "    </tr>\n",
       "  </tbody>\n",
       "</table>\n",
       "<p>237 rows × 139 columns</p>\n",
       "</div>"
      ],
      "text/plain": [
       "    H_name  H_at_bats    H_runs    H_hits     H_rbi  H_earned_runs  \\\n",
       "238    SDP  33.234568  4.500000  8.055556  4.290123       4.197099   \n",
       "239    MIN  33.524691  4.500000  8.092593  4.259259       4.234630   \n",
       "240    COL  33.378882  4.590062  8.310559  4.403727       4.464969   \n",
       "241    MIA  33.012346  3.845679  7.679012  3.666667       3.608457   \n",
       "242    SEA  33.055556  4.302469  7.462963  4.154321       4.023580   \n",
       "..     ...        ...       ...       ...       ...            ...   \n",
       "470    NYM  32.160494  3.925926  7.666667  3.728395       3.801975   \n",
       "471    TBR  33.993827  5.290123  8.240741  5.000000       4.965988   \n",
       "472    OAK  33.302469  4.586420  7.919753  4.308642       4.405494   \n",
       "473    LAD  33.611111  5.123457  8.209877  4.932099       5.025000   \n",
       "474    CHC  32.753086  4.351852  7.746914  4.148148       4.157099   \n",
       "\n",
       "     H_bases_on_balls  H_strikeouts  H_plate_appearances  H_batting_average  \\\n",
       "238          3.617284      8.172840            37.771605           0.236994   \n",
       "239          3.240741      8.672840            37.518519           0.234944   \n",
       "240          3.049689      8.422360            37.310559           0.243193   \n",
       "241          2.777778      9.586420            36.598765           0.227160   \n",
       "242          3.302469      9.209877            37.098765           0.220506   \n",
       "..                ...           ...                  ...                ...   \n",
       "470          3.055556      8.592593            36.148148           0.232673   \n",
       "471          3.611111      9.518519            38.351852           0.237370   \n",
       "472          3.364198      8.327160            37.679012           0.233253   \n",
       "473          3.783951      8.691358            38.512346           0.237907   \n",
       "474          3.098765      9.851852            36.864198           0.231142   \n",
       "\n",
       "     ...  A_Opp_grounded_balls  A_Opp_fly_balls  A_Opp_line_drives  \\\n",
       "238  ...             10.759259        14.820988           6.253086   \n",
       "239  ...             11.481481        14.981481           6.432099   \n",
       "240  ...             11.796296        13.481481           5.895062   \n",
       "241  ...             11.246914        15.907407           6.586420   \n",
       "242  ...             10.987654        16.092593           6.641975   \n",
       "..   ...                   ...              ...                ...   \n",
       "470  ...             10.728395        13.561728           5.537037   \n",
       "471  ...             10.987654        16.092593           6.641975   \n",
       "472  ...             10.993827        14.493827           6.333333   \n",
       "473  ...             11.481481        14.981481           6.432099   \n",
       "474  ...             11.500000        13.981481           6.098765   \n",
       "\n",
       "     A_Opp_unknown_bat_type  A_Opp_game_score  A_Opp_inherited_runners  \\\n",
       "238                     0.0         52.981481                 1.440252   \n",
       "239                     0.0         53.228395                 1.286624   \n",
       "240                     0.0         49.740741                 1.518519   \n",
       "241                     0.0         51.919753                 1.419753   \n",
       "242                     0.0         52.654321                 1.298137   \n",
       "..                      ...               ...                      ...   \n",
       "470                     0.0         52.450617                 1.506250   \n",
       "471                     0.0         52.654321                 1.298137   \n",
       "472                     0.0         51.037037                 1.186335   \n",
       "473                     0.0         53.228395                 1.286624   \n",
       "474                     0.0         51.407407                 1.106918   \n",
       "\n",
       "     A_Opp_inherited_score  A_Opp_win_probability_by_pitcher  \\\n",
       "238               0.465409                          0.061136   \n",
       "239               0.426752                          0.103080   \n",
       "240               0.512346                         -0.048346   \n",
       "241               0.462963                          0.063648   \n",
       "242               0.341615                          0.079883   \n",
       "..                     ...                               ...   \n",
       "470               0.600000                          0.026123   \n",
       "471               0.341615                          0.079883   \n",
       "472               0.335404                          0.024944   \n",
       "473               0.426752                          0.103080   \n",
       "474               0.358491                         -0.005957   \n",
       "\n",
       "     A_Opp_base_out_runs_saved  home_win  \n",
       "238                   0.719753         0  \n",
       "239                   0.840123         0  \n",
       "240                  -0.406173         1  \n",
       "241                   0.404321         1  \n",
       "242                   0.638889         1  \n",
       "..                         ...       ...  \n",
       "470                  -0.048765         1  \n",
       "471                   0.638889         1  \n",
       "472                   0.452469         1  \n",
       "473                   0.840123         1  \n",
       "474                  -0.004321         1  \n",
       "\n",
       "[237 rows x 139 columns]"
      ]
     },
     "execution_count": 11,
     "metadata": {},
     "output_type": "execute_result"
    }
   ],
   "source": [
    "#df2.drop_duplicates(inplace=True)\n",
    "df2"
   ]
  },
  {
   "cell_type": "code",
   "execution_count": 12,
   "metadata": {
    "ExecuteTime": {
     "end_time": "2022-01-25T22:43:05.232522Z",
     "start_time": "2022-01-25T22:43:05.179971Z"
    }
   },
   "outputs": [
    {
     "data": {
      "text/html": [
       "<div>\n",
       "<style scoped>\n",
       "    .dataframe tbody tr th:only-of-type {\n",
       "        vertical-align: middle;\n",
       "    }\n",
       "\n",
       "    .dataframe tbody tr th {\n",
       "        vertical-align: top;\n",
       "    }\n",
       "\n",
       "    .dataframe thead th {\n",
       "        text-align: right;\n",
       "    }\n",
       "</style>\n",
       "<table border=\"1\" class=\"dataframe\">\n",
       "  <thead>\n",
       "    <tr style=\"text-align: right;\">\n",
       "      <th></th>\n",
       "      <th>H_name</th>\n",
       "      <th>H_at_bats</th>\n",
       "      <th>H_runs</th>\n",
       "      <th>H_hits</th>\n",
       "      <th>H_rbi</th>\n",
       "      <th>H_earned_runs</th>\n",
       "      <th>H_bases_on_balls</th>\n",
       "      <th>H_strikeouts</th>\n",
       "      <th>H_plate_appearances</th>\n",
       "      <th>H_batting_average</th>\n",
       "      <th>...</th>\n",
       "      <th>A_Opp_grounded_balls</th>\n",
       "      <th>A_Opp_fly_balls</th>\n",
       "      <th>A_Opp_line_drives</th>\n",
       "      <th>A_Opp_unknown_bat_type</th>\n",
       "      <th>A_Opp_game_score</th>\n",
       "      <th>A_Opp_inherited_runners</th>\n",
       "      <th>A_Opp_inherited_score</th>\n",
       "      <th>A_Opp_win_probability_by_pitcher</th>\n",
       "      <th>A_Opp_base_out_runs_saved</th>\n",
       "      <th>home_win</th>\n",
       "    </tr>\n",
       "  </thead>\n",
       "  <tbody>\n",
       "    <tr>\n",
       "      <th>0</th>\n",
       "      <td>DET</td>\n",
       "      <td>33.185185</td>\n",
       "      <td>4.302469</td>\n",
       "      <td>8.018519</td>\n",
       "      <td>4.166667</td>\n",
       "      <td>4.138210</td>\n",
       "      <td>3.024691</td>\n",
       "      <td>9.345679</td>\n",
       "      <td>36.907407</td>\n",
       "      <td>0.236500</td>\n",
       "      <td>...</td>\n",
       "      <td>10.685185</td>\n",
       "      <td>13.962963</td>\n",
       "      <td>5.969136</td>\n",
       "      <td>0.0</td>\n",
       "      <td>51.117284</td>\n",
       "      <td>1.238994</td>\n",
       "      <td>0.408805</td>\n",
       "      <td>0.030623</td>\n",
       "      <td>0.200617</td>\n",
       "      <td>1</td>\n",
       "    </tr>\n",
       "    <tr>\n",
       "      <th>1</th>\n",
       "      <td>MIA</td>\n",
       "      <td>33.012346</td>\n",
       "      <td>3.845679</td>\n",
       "      <td>7.679012</td>\n",
       "      <td>3.666667</td>\n",
       "      <td>3.608457</td>\n",
       "      <td>2.777778</td>\n",
       "      <td>9.586420</td>\n",
       "      <td>36.598765</td>\n",
       "      <td>0.227160</td>\n",
       "      <td>...</td>\n",
       "      <td>10.561728</td>\n",
       "      <td>14.308642</td>\n",
       "      <td>5.956790</td>\n",
       "      <td>0.0</td>\n",
       "      <td>51.925926</td>\n",
       "      <td>1.604938</td>\n",
       "      <td>0.648148</td>\n",
       "      <td>-0.048728</td>\n",
       "      <td>-0.748765</td>\n",
       "      <td>0</td>\n",
       "    </tr>\n",
       "    <tr>\n",
       "      <th>2</th>\n",
       "      <td>CIN</td>\n",
       "      <td>33.475309</td>\n",
       "      <td>4.851852</td>\n",
       "      <td>8.345679</td>\n",
       "      <td>4.666667</td>\n",
       "      <td>4.652346</td>\n",
       "      <td>3.413580</td>\n",
       "      <td>8.796296</td>\n",
       "      <td>38.037037</td>\n",
       "      <td>0.244253</td>\n",
       "      <td>...</td>\n",
       "      <td>11.500000</td>\n",
       "      <td>13.981481</td>\n",
       "      <td>6.098765</td>\n",
       "      <td>0.0</td>\n",
       "      <td>51.407407</td>\n",
       "      <td>1.106918</td>\n",
       "      <td>0.358491</td>\n",
       "      <td>-0.005957</td>\n",
       "      <td>-0.004321</td>\n",
       "      <td>0</td>\n",
       "    </tr>\n",
       "    <tr>\n",
       "      <th>3</th>\n",
       "      <td>CHC</td>\n",
       "      <td>32.753086</td>\n",
       "      <td>4.351852</td>\n",
       "      <td>7.746914</td>\n",
       "      <td>4.148148</td>\n",
       "      <td>4.157099</td>\n",
       "      <td>3.098765</td>\n",
       "      <td>9.851852</td>\n",
       "      <td>36.864198</td>\n",
       "      <td>0.231142</td>\n",
       "      <td>...</td>\n",
       "      <td>10.759259</td>\n",
       "      <td>14.820988</td>\n",
       "      <td>6.253086</td>\n",
       "      <td>0.0</td>\n",
       "      <td>52.981481</td>\n",
       "      <td>1.440252</td>\n",
       "      <td>0.465409</td>\n",
       "      <td>0.061136</td>\n",
       "      <td>0.719753</td>\n",
       "      <td>0</td>\n",
       "    </tr>\n",
       "    <tr>\n",
       "      <th>4</th>\n",
       "      <td>NYY</td>\n",
       "      <td>32.907407</td>\n",
       "      <td>4.388889</td>\n",
       "      <td>7.814815</td>\n",
       "      <td>4.111111</td>\n",
       "      <td>4.253951</td>\n",
       "      <td>3.833333</td>\n",
       "      <td>9.148148</td>\n",
       "      <td>37.407407</td>\n",
       "      <td>0.232630</td>\n",
       "      <td>...</td>\n",
       "      <td>10.456790</td>\n",
       "      <td>13.604938</td>\n",
       "      <td>5.611111</td>\n",
       "      <td>0.0</td>\n",
       "      <td>46.413580</td>\n",
       "      <td>1.304348</td>\n",
       "      <td>0.503106</td>\n",
       "      <td>-0.023549</td>\n",
       "      <td>-0.626543</td>\n",
       "      <td>0</td>\n",
       "    </tr>\n",
       "  </tbody>\n",
       "</table>\n",
       "<p>5 rows × 139 columns</p>\n",
       "</div>"
      ],
      "text/plain": [
       "  H_name  H_at_bats    H_runs    H_hits     H_rbi  H_earned_runs  \\\n",
       "0    DET  33.185185  4.302469  8.018519  4.166667       4.138210   \n",
       "1    MIA  33.012346  3.845679  7.679012  3.666667       3.608457   \n",
       "2    CIN  33.475309  4.851852  8.345679  4.666667       4.652346   \n",
       "3    CHC  32.753086  4.351852  7.746914  4.148148       4.157099   \n",
       "4    NYY  32.907407  4.388889  7.814815  4.111111       4.253951   \n",
       "\n",
       "   H_bases_on_balls  H_strikeouts  H_plate_appearances  H_batting_average  \\\n",
       "0          3.024691      9.345679            36.907407           0.236500   \n",
       "1          2.777778      9.586420            36.598765           0.227160   \n",
       "2          3.413580      8.796296            38.037037           0.244253   \n",
       "3          3.098765      9.851852            36.864198           0.231142   \n",
       "4          3.833333      9.148148            37.407407           0.232630   \n",
       "\n",
       "   ...  A_Opp_grounded_balls  A_Opp_fly_balls  A_Opp_line_drives  \\\n",
       "0  ...             10.685185        13.962963           5.969136   \n",
       "1  ...             10.561728        14.308642           5.956790   \n",
       "2  ...             11.500000        13.981481           6.098765   \n",
       "3  ...             10.759259        14.820988           6.253086   \n",
       "4  ...             10.456790        13.604938           5.611111   \n",
       "\n",
       "   A_Opp_unknown_bat_type  A_Opp_game_score  A_Opp_inherited_runners  \\\n",
       "0                     0.0         51.117284                 1.238994   \n",
       "1                     0.0         51.925926                 1.604938   \n",
       "2                     0.0         51.407407                 1.106918   \n",
       "3                     0.0         52.981481                 1.440252   \n",
       "4                     0.0         46.413580                 1.304348   \n",
       "\n",
       "   A_Opp_inherited_score  A_Opp_win_probability_by_pitcher  \\\n",
       "0               0.408805                          0.030623   \n",
       "1               0.648148                         -0.048728   \n",
       "2               0.358491                         -0.005957   \n",
       "3               0.465409                          0.061136   \n",
       "4               0.503106                         -0.023549   \n",
       "\n",
       "   A_Opp_base_out_runs_saved  home_win  \n",
       "0                   0.200617         1  \n",
       "1                  -0.748765         0  \n",
       "2                  -0.004321         0  \n",
       "3                   0.719753         0  \n",
       "4                  -0.626543         0  \n",
       "\n",
       "[5 rows x 139 columns]"
      ]
     },
     "execution_count": 12,
     "metadata": {},
     "output_type": "execute_result"
    }
   ],
   "source": [
    "df.head()"
   ]
  },
  {
   "cell_type": "code",
   "execution_count": 13,
   "metadata": {
    "ExecuteTime": {
     "end_time": "2022-01-25T22:43:05.527461Z",
     "start_time": "2022-01-25T22:43:05.482295Z"
    },
    "scrolled": true
   },
   "outputs": [
    {
     "data": {
      "text/html": [
       "<div>\n",
       "<style scoped>\n",
       "    .dataframe tbody tr th:only-of-type {\n",
       "        vertical-align: middle;\n",
       "    }\n",
       "\n",
       "    .dataframe tbody tr th {\n",
       "        vertical-align: top;\n",
       "    }\n",
       "\n",
       "    .dataframe thead th {\n",
       "        text-align: right;\n",
       "    }\n",
       "</style>\n",
       "<table border=\"1\" class=\"dataframe\">\n",
       "  <thead>\n",
       "    <tr style=\"text-align: right;\">\n",
       "      <th></th>\n",
       "      <th>H_name</th>\n",
       "      <th>H_at_bats</th>\n",
       "      <th>H_runs</th>\n",
       "      <th>H_hits</th>\n",
       "      <th>H_rbi</th>\n",
       "      <th>H_earned_runs</th>\n",
       "      <th>H_bases_on_balls</th>\n",
       "      <th>H_strikeouts</th>\n",
       "      <th>H_plate_appearances</th>\n",
       "      <th>H_batting_average</th>\n",
       "      <th>...</th>\n",
       "      <th>A_Opp_grounded_balls</th>\n",
       "      <th>A_Opp_fly_balls</th>\n",
       "      <th>A_Opp_line_drives</th>\n",
       "      <th>A_Opp_unknown_bat_type</th>\n",
       "      <th>A_Opp_game_score</th>\n",
       "      <th>A_Opp_inherited_runners</th>\n",
       "      <th>A_Opp_inherited_score</th>\n",
       "      <th>A_Opp_win_probability_by_pitcher</th>\n",
       "      <th>A_Opp_base_out_runs_saved</th>\n",
       "      <th>home_win</th>\n",
       "    </tr>\n",
       "  </thead>\n",
       "  <tbody>\n",
       "    <tr>\n",
       "      <th>238</th>\n",
       "      <td>SDP</td>\n",
       "      <td>33.234568</td>\n",
       "      <td>4.500000</td>\n",
       "      <td>8.055556</td>\n",
       "      <td>4.290123</td>\n",
       "      <td>4.197099</td>\n",
       "      <td>3.617284</td>\n",
       "      <td>8.172840</td>\n",
       "      <td>37.771605</td>\n",
       "      <td>0.236994</td>\n",
       "      <td>...</td>\n",
       "      <td>10.759259</td>\n",
       "      <td>14.820988</td>\n",
       "      <td>6.253086</td>\n",
       "      <td>0.0</td>\n",
       "      <td>52.981481</td>\n",
       "      <td>1.440252</td>\n",
       "      <td>0.465409</td>\n",
       "      <td>0.061136</td>\n",
       "      <td>0.719753</td>\n",
       "      <td>0</td>\n",
       "    </tr>\n",
       "    <tr>\n",
       "      <th>239</th>\n",
       "      <td>MIN</td>\n",
       "      <td>33.524691</td>\n",
       "      <td>4.500000</td>\n",
       "      <td>8.092593</td>\n",
       "      <td>4.259259</td>\n",
       "      <td>4.234630</td>\n",
       "      <td>3.240741</td>\n",
       "      <td>8.672840</td>\n",
       "      <td>37.518519</td>\n",
       "      <td>0.234944</td>\n",
       "      <td>...</td>\n",
       "      <td>11.481481</td>\n",
       "      <td>14.981481</td>\n",
       "      <td>6.432099</td>\n",
       "      <td>0.0</td>\n",
       "      <td>53.228395</td>\n",
       "      <td>1.286624</td>\n",
       "      <td>0.426752</td>\n",
       "      <td>0.103080</td>\n",
       "      <td>0.840123</td>\n",
       "      <td>0</td>\n",
       "    </tr>\n",
       "    <tr>\n",
       "      <th>240</th>\n",
       "      <td>COL</td>\n",
       "      <td>33.378882</td>\n",
       "      <td>4.590062</td>\n",
       "      <td>8.310559</td>\n",
       "      <td>4.403727</td>\n",
       "      <td>4.464969</td>\n",
       "      <td>3.049689</td>\n",
       "      <td>8.422360</td>\n",
       "      <td>37.310559</td>\n",
       "      <td>0.243193</td>\n",
       "      <td>...</td>\n",
       "      <td>11.796296</td>\n",
       "      <td>13.481481</td>\n",
       "      <td>5.895062</td>\n",
       "      <td>0.0</td>\n",
       "      <td>49.740741</td>\n",
       "      <td>1.518519</td>\n",
       "      <td>0.512346</td>\n",
       "      <td>-0.048346</td>\n",
       "      <td>-0.406173</td>\n",
       "      <td>1</td>\n",
       "    </tr>\n",
       "    <tr>\n",
       "      <th>241</th>\n",
       "      <td>MIA</td>\n",
       "      <td>33.012346</td>\n",
       "      <td>3.845679</td>\n",
       "      <td>7.679012</td>\n",
       "      <td>3.666667</td>\n",
       "      <td>3.608457</td>\n",
       "      <td>2.777778</td>\n",
       "      <td>9.586420</td>\n",
       "      <td>36.598765</td>\n",
       "      <td>0.227160</td>\n",
       "      <td>...</td>\n",
       "      <td>11.246914</td>\n",
       "      <td>15.907407</td>\n",
       "      <td>6.586420</td>\n",
       "      <td>0.0</td>\n",
       "      <td>51.919753</td>\n",
       "      <td>1.419753</td>\n",
       "      <td>0.462963</td>\n",
       "      <td>0.063648</td>\n",
       "      <td>0.404321</td>\n",
       "      <td>1</td>\n",
       "    </tr>\n",
       "    <tr>\n",
       "      <th>242</th>\n",
       "      <td>SEA</td>\n",
       "      <td>33.055556</td>\n",
       "      <td>4.302469</td>\n",
       "      <td>7.462963</td>\n",
       "      <td>4.154321</td>\n",
       "      <td>4.023580</td>\n",
       "      <td>3.302469</td>\n",
       "      <td>9.209877</td>\n",
       "      <td>37.098765</td>\n",
       "      <td>0.220506</td>\n",
       "      <td>...</td>\n",
       "      <td>10.987654</td>\n",
       "      <td>16.092593</td>\n",
       "      <td>6.641975</td>\n",
       "      <td>0.0</td>\n",
       "      <td>52.654321</td>\n",
       "      <td>1.298137</td>\n",
       "      <td>0.341615</td>\n",
       "      <td>0.079883</td>\n",
       "      <td>0.638889</td>\n",
       "      <td>1</td>\n",
       "    </tr>\n",
       "  </tbody>\n",
       "</table>\n",
       "<p>5 rows × 139 columns</p>\n",
       "</div>"
      ],
      "text/plain": [
       "    H_name  H_at_bats    H_runs    H_hits     H_rbi  H_earned_runs  \\\n",
       "238    SDP  33.234568  4.500000  8.055556  4.290123       4.197099   \n",
       "239    MIN  33.524691  4.500000  8.092593  4.259259       4.234630   \n",
       "240    COL  33.378882  4.590062  8.310559  4.403727       4.464969   \n",
       "241    MIA  33.012346  3.845679  7.679012  3.666667       3.608457   \n",
       "242    SEA  33.055556  4.302469  7.462963  4.154321       4.023580   \n",
       "\n",
       "     H_bases_on_balls  H_strikeouts  H_plate_appearances  H_batting_average  \\\n",
       "238          3.617284      8.172840            37.771605           0.236994   \n",
       "239          3.240741      8.672840            37.518519           0.234944   \n",
       "240          3.049689      8.422360            37.310559           0.243193   \n",
       "241          2.777778      9.586420            36.598765           0.227160   \n",
       "242          3.302469      9.209877            37.098765           0.220506   \n",
       "\n",
       "     ...  A_Opp_grounded_balls  A_Opp_fly_balls  A_Opp_line_drives  \\\n",
       "238  ...             10.759259        14.820988           6.253086   \n",
       "239  ...             11.481481        14.981481           6.432099   \n",
       "240  ...             11.796296        13.481481           5.895062   \n",
       "241  ...             11.246914        15.907407           6.586420   \n",
       "242  ...             10.987654        16.092593           6.641975   \n",
       "\n",
       "     A_Opp_unknown_bat_type  A_Opp_game_score  A_Opp_inherited_runners  \\\n",
       "238                     0.0         52.981481                 1.440252   \n",
       "239                     0.0         53.228395                 1.286624   \n",
       "240                     0.0         49.740741                 1.518519   \n",
       "241                     0.0         51.919753                 1.419753   \n",
       "242                     0.0         52.654321                 1.298137   \n",
       "\n",
       "     A_Opp_inherited_score  A_Opp_win_probability_by_pitcher  \\\n",
       "238               0.465409                          0.061136   \n",
       "239               0.426752                          0.103080   \n",
       "240               0.512346                         -0.048346   \n",
       "241               0.462963                          0.063648   \n",
       "242               0.341615                          0.079883   \n",
       "\n",
       "     A_Opp_base_out_runs_saved  home_win  \n",
       "238                   0.719753         0  \n",
       "239                   0.840123         0  \n",
       "240                  -0.406173         1  \n",
       "241                   0.404321         1  \n",
       "242                   0.638889         1  \n",
       "\n",
       "[5 rows x 139 columns]"
      ]
     },
     "execution_count": 13,
     "metadata": {},
     "output_type": "execute_result"
    }
   ],
   "source": [
    "df2.head()"
   ]
  },
  {
   "cell_type": "code",
   "execution_count": 14,
   "metadata": {
    "ExecuteTime": {
     "end_time": "2022-01-25T22:43:05.767144Z",
     "start_time": "2022-01-25T22:43:05.756239Z"
    }
   },
   "outputs": [],
   "source": [
    "def data_preprocessing(df, df2):\n",
    "    X_train = df.drop(['home_win','H_name','A_name'], axis=1)\n",
    "    X_test = df2.drop(['home_win','H_name','A_name'], axis=1)\n",
    "    y_train = df.home_win\n",
    "    y_test= df2.home_win\n",
    "    \n",
    "    ss = StandardScaler()\n",
    "    X_train_scaled = ss.fit_transform(X_train)\n",
    "    X_test_scaled = ss.transform(X_test)\n",
    "    \n",
    "    X_train_scaled = pd.DataFrame(X_train_scaled, columns=X_train.columns)\n",
    "    X_test_scaled = pd.DataFrame(X_test_scaled, columns=X_test.columns)\n",
    "    \n",
    "    return X_train_scaled, X_test_scaled,y_train,y_test"
   ]
  },
  {
   "cell_type": "code",
   "execution_count": 15,
   "metadata": {
    "ExecuteTime": {
     "end_time": "2022-01-25T22:43:06.440092Z",
     "start_time": "2022-01-25T22:43:06.408208Z"
    }
   },
   "outputs": [],
   "source": [
    "X_train_scaled,X_test_scaled,y_train,y_test=data_preprocessing(df,df2)"
   ]
  },
  {
   "cell_type": "code",
   "execution_count": 16,
   "metadata": {
    "ExecuteTime": {
     "end_time": "2022-01-25T22:43:06.671673Z",
     "start_time": "2022-01-25T22:43:06.668278Z"
    }
   },
   "outputs": [],
   "source": [
    "# X_test_scaled.drop(['H_Opp_inherited_score','H_Opp_game_score','H_Opp_unknown_bat_type',\n",
    "#                     'H_Opp_inherited_runners'],axis=1,inplace=True)"
   ]
  },
  {
   "cell_type": "code",
   "execution_count": 17,
   "metadata": {
    "ExecuteTime": {
     "end_time": "2022-01-25T22:43:06.900326Z",
     "start_time": "2022-01-25T22:43:06.892469Z"
    }
   },
   "outputs": [],
   "source": [
    "# X_train_scaled.drop(['H_Opp_inherited_score','H_Opp_game_score','H_Opp_unknown_bat_type',\n",
    "#                     'H_Opp_inherited_runners'],axis=1,inplace=True)"
   ]
  },
  {
   "cell_type": "markdown",
   "metadata": {},
   "source": [
    "## Feature Selection"
   ]
  },
  {
   "cell_type": "code",
   "execution_count": 18,
   "metadata": {
    "ExecuteTime": {
     "end_time": "2022-01-25T22:43:07.302379Z",
     "start_time": "2022-01-25T22:43:07.292497Z"
    }
   },
   "outputs": [],
   "source": [
    "def new_acc(probabilities):\n",
    "    class_list2=[]\n",
    "    for log in probabilities:\n",
    "        if log[0]<.40:\n",
    "            class_list2.append(1)\n",
    "        elif log[0]>.60:\n",
    "            class_list2.append(0)\n",
    "        else:\n",
    "            class_list2.append(3)\n",
    "    y_pred_class=pd.DataFrame(class_list2)\n",
    "    y_pred_class.reset_index(inplace=True)\n",
    "    y_test_df=pd.DataFrame(y_test)\n",
    "    y_test_df.reset_index(inplace=True)\n",
    "    comb=pd.concat([y_test_df,y_pred_class],axis=1)\n",
    "    comb.drop(['index','index'],axis=1,inplace=True)\n",
    "    comb['pred']=comb[0]\n",
    "    comb.drop([0],axis=1,inplace=True)\n",
    "    comb.drop(comb[comb['pred'] == 3].index, inplace = True)\n",
    "    count=0\n",
    "    for bools in comb['home_win']==comb['pred']:\n",
    "        if bools is True:\n",
    "            count+=1\n",
    "        else:\n",
    "            pass\n",
    "    accuracy=count/len(comb)\n",
    "    \n",
    "    return accuracy,count"
   ]
  },
  {
   "cell_type": "markdown",
   "metadata": {},
   "source": [
    "### RFECV"
   ]
  },
  {
   "cell_type": "code",
   "execution_count": 19,
   "metadata": {
    "ExecuteTime": {
     "end_time": "2022-01-25T22:46:49.362536Z",
     "start_time": "2022-01-25T22:43:07.669068Z"
    }
   },
   "outputs": [],
   "source": [
    "rfeats= feature_select(X_train_scaled,y_train,RandomForestClassifier,min_features=10)\n",
    "X_train_best_for = X_train_scaled[rfeats]\n",
    "X_test_best_for = X_test_scaled[rfeats]"
   ]
  },
  {
   "cell_type": "code",
   "execution_count": 20,
   "metadata": {
    "ExecuteTime": {
     "end_time": "2022-01-25T22:47:23.193527Z",
     "start_time": "2022-01-25T22:46:49.365732Z"
    }
   },
   "outputs": [
    {
     "name": "stdout",
     "output_type": "stream",
     "text": [
      "Number of Trees: 125\n",
      "criterion: gini\n",
      "Mean Cross-Val Score: 0.4442105263157895\n",
      "Train Mean Accuracy: 0.5789473684210527\n",
      "Test Mean Accuracy: 0.5949367088607594\n",
      "Recall Score: 0.7196969696969697\n",
      "Precision Score: 0.6168831168831169\n",
      "F1 score: 0.6643356643356643\n"
     ]
    },
    {
     "data": {
      "image/png": "[encoded data removed]",
      "text/plain": [
       "<Figure size 432x288 with 1 Axes>"
      ]
     },
     "metadata": {
      "needs_background": "light"
     },
     "output_type": "display_data"
    },
    {
     "data": {
      "image/png": "[encoded data removed]",
      "text/plain": [
       "<Figure size 432x288 with 2 Axes>"
      ]
     },
     "metadata": {
      "needs_background": "light"
     },
     "output_type": "display_data"
    },
    {
     "data": {
      "image/png": "[encoded data removed]",
      "text/plain": [
       "<Figure size 432x288 with 2 Axes>"
      ]
     },
     "metadata": {
      "needs_background": "light"
     },
     "output_type": "display_data"
    }
   ],
   "source": [
    "predictions,probabilities=random_forest(X_train_best_for,X_test_best_for,y_train,y_test)"
   ]
  },
  {
   "cell_type": "code",
   "execution_count": 21,
   "metadata": {
    "ExecuteTime": {
     "end_time": "2022-01-25T22:47:23.282717Z",
     "start_time": "2022-01-25T22:47:23.205755Z"
    }
   },
   "outputs": [
    {
     "data": {
      "text/plain": [
       "(0.9444444444444444, 51)"
      ]
     },
     "execution_count": 21,
     "metadata": {},
     "output_type": "execute_result"
    }
   ],
   "source": [
    "new_acc(probabilities)"
   ]
  },
  {
   "cell_type": "markdown",
   "metadata": {},
   "source": [
    "### PCA"
   ]
  },
  {
   "cell_type": "code",
   "execution_count": 22,
   "metadata": {
    "ExecuteTime": {
     "end_time": "2022-01-25T22:47:23.406312Z",
     "start_time": "2022-01-25T22:47:23.297045Z"
    }
   },
   "outputs": [],
   "source": [
    "pca=PCA(n_components=0.9)\n",
    "train_pca=pca.fit_transform(X_train_scaled)\n",
    "test_pca=pca.transform(X_test_scaled)"
   ]
  },
  {
   "cell_type": "code",
   "execution_count": 23,
   "metadata": {
    "ExecuteTime": {
     "end_time": "2022-01-25T22:48:11.907552Z",
     "start_time": "2022-01-25T22:47:23.410389Z"
    },
    "scrolled": true
   },
   "outputs": [
    {
     "name": "stdout",
     "output_type": "stream",
     "text": [
      "Number of Trees: 500\n",
      "criterion: gini\n",
      "Mean Cross-Val Score: 0.43578947368421056\n",
      "Train Mean Accuracy: 0.5789473684210527\n",
      "Test Mean Accuracy: 0.6075949367088608\n",
      "Recall Score: 0.7651515151515151\n",
      "Precision Score: 0.6196319018404908\n",
      "F1 score: 0.6847457627118644\n"
     ]
    },
    {
     "data": {
      "image/png": "[encoded data removed]",
      "text/plain": [
       "<Figure size 432x288 with 1 Axes>"
      ]
     },
     "metadata": {
      "needs_background": "light"
     },
     "output_type": "display_data"
    },
    {
     "data": {
      "image/png": "[encoded data removed]",
      "text/plain": [
       "<Figure size 432x288 with 2 Axes>"
      ]
     },
     "metadata": {
      "needs_background": "light"
     },
     "output_type": "display_data"
    },
    {
     "data": {
      "image/png": "[encoded data removed]",
      "text/plain": [
       "<Figure size 432x288 with 2 Axes>"
      ]
     },
     "metadata": {
      "needs_background": "light"
     },
     "output_type": "display_data"
    }
   ],
   "source": [
    "predictions,probabilities=random_forest(train_pca,test_pca,y_train,y_test)"
   ]
  },
  {
   "cell_type": "code",
   "execution_count": 24,
   "metadata": {
    "ExecuteTime": {
     "end_time": "2022-01-25T22:48:11.984159Z",
     "start_time": "2022-01-25T22:48:11.922627Z"
    }
   },
   "outputs": [
    {
     "data": {
      "text/plain": [
       "(1.0, 48)"
      ]
     },
     "execution_count": 24,
     "metadata": {},
     "output_type": "execute_result"
    }
   ],
   "source": [
    "new_acc(probabilities)"
   ]
  }
 ],
 "metadata": {
  "kernelspec": {
   "display_name": "Python (learn-env)",
   "language": "python",
   "name": "learn-env"
  },
  "language_info": {
   "codemirror_mode": {
    "name": "ipython",
    "version": 3
   },
   "file_extension": ".py",
   "mimetype": "text/x-python",
   "name": "python",
   "nbconvert_exporter": "python",
   "pygments_lexer": "ipython3",
   "version": "3.8.5"
  },
  "notify_time": "30"
 },
 "nbformat": 4,
 "nbformat_minor": 4
}

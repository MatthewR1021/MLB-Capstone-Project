{
 "cells": [
  {
   "cell_type": "code",
   "execution_count": 1,
   "metadata": {
    "ExecuteTime": {
     "end_time": "2022-01-25T22:37:41.093431Z",
     "start_time": "2022-01-25T22:37:34.689007Z"
    }
   },
   "outputs": [],
   "source": [
    "# Import the relevant packages\n",
    "import pandas as pd\n",
    "import numpy as np\n",
    "import matplotlib.pyplot as plt\n",
    "from sklearn.linear_model import LogisticRegression\n",
    "from sklearn.model_selection import cross_val_score, train_test_split,GridSearchCV\n",
    "from sklearn.metrics import plot_confusion_matrix, plot_roc_curve, accuracy_score, \\\n",
    "recall_score, precision_score, f1_score\n",
    "from sklearn.neighbors import KNeighborsClassifier\n",
    "from sklearn.preprocessing import StandardScaler\n",
    "from sklearn.tree import DecisionTreeClassifier, plot_tree\n",
    "from sklearn.ensemble import BaggingClassifier, RandomForestClassifier\n",
    "from sklearn.ensemble import AdaBoostClassifier, GradientBoostingClassifier\n",
    "from xgboost import XGBClassifier\n",
    "import statsmodels.api as sm\n",
    "from sklearn.feature_selection import RFECV\n",
    "from sklearn.decomposition import PCA\n",
    "import warnings\n",
    "warnings.filterwarnings(\"ignore\")"
   ]
  },
  {
   "cell_type": "code",
   "execution_count": 2,
   "metadata": {
    "ExecuteTime": {
     "end_time": "2022-01-25T22:37:41.251008Z",
     "start_time": "2022-01-25T22:37:41.097430Z"
    }
   },
   "outputs": [],
   "source": [
    "#Import functions notebook and load data set here\n",
    "import sys\n",
    "sys.path.append(\"../\")\n",
    "from Modeling_functions import *"
   ]
  },
  {
   "cell_type": "code",
   "execution_count": 3,
   "metadata": {
    "ExecuteTime": {
     "end_time": "2022-01-25T22:37:41.311496Z",
     "start_time": "2022-01-25T22:37:41.255878Z"
    }
   },
   "outputs": [],
   "source": [
    "df=pd.read_csv('../data/Season_2020.csv')"
   ]
  },
  {
   "cell_type": "code",
   "execution_count": 4,
   "metadata": {
    "ExecuteTime": {
     "end_time": "2022-01-25T22:37:42.586791Z",
     "start_time": "2022-01-25T22:37:42.567708Z"
    }
   },
   "outputs": [],
   "source": [
    "df.drop(['Unnamed: 0'],axis=1,inplace=True)"
   ]
  },
  {
   "cell_type": "code",
   "execution_count": 5,
   "metadata": {
    "ExecuteTime": {
     "end_time": "2022-01-25T22:37:45.775919Z",
     "start_time": "2022-01-25T22:37:45.753022Z"
    }
   },
   "outputs": [],
   "source": [
    "n = 50\n",
    "df=df.head(int(len(df)*(n/100)))"
   ]
  },
  {
   "cell_type": "code",
   "execution_count": 6,
   "metadata": {
    "ExecuteTime": {
     "end_time": "2022-01-25T22:37:46.186747Z",
     "start_time": "2022-01-25T22:37:46.181948Z"
    }
   },
   "outputs": [],
   "source": [
    "n = 50\n",
    "df2=df.tail(int(len(df)*(n/100)))"
   ]
  },
  {
   "cell_type": "markdown",
   "metadata": {},
   "source": [
    "Find and eliminate NaNs"
   ]
  },
  {
   "cell_type": "code",
   "execution_count": 7,
   "metadata": {
    "ExecuteTime": {
     "end_time": "2022-01-25T22:37:47.209848Z",
     "start_time": "2022-01-25T22:37:47.188606Z"
    }
   },
   "outputs": [],
   "source": [
    "df=df.drop(['H_win_probability_subtracted','A_win_probability_subtracted','A_Opp_win_probability_subtracted',\n",
    "          'H_Opp_win_probability_subtracted'],axis=1)"
   ]
  },
  {
   "cell_type": "code",
   "execution_count": 8,
   "metadata": {
    "ExecuteTime": {
     "end_time": "2022-01-25T22:37:47.574706Z",
     "start_time": "2022-01-25T22:37:47.551858Z"
    },
    "scrolled": true
   },
   "outputs": [],
   "source": [
    "df2=df2.drop(['H_win_probability_subtracted','A_win_probability_subtracted','A_Opp_win_probability_subtracted',\n",
    "          'H_Opp_win_probability_subtracted'],axis=1)"
   ]
  },
  {
   "cell_type": "code",
   "execution_count": 9,
   "metadata": {
    "ExecuteTime": {
     "end_time": "2022-01-25T22:37:47.955712Z",
     "start_time": "2022-01-25T22:37:47.938115Z"
    }
   },
   "outputs": [
    {
     "data": {
      "text/plain": [
       "1    0.509901\n",
       "0    0.490099\n",
       "Name: home_win, dtype: float64"
      ]
     },
     "execution_count": 9,
     "metadata": {},
     "output_type": "execute_result"
    }
   ],
   "source": [
    "df.home_win.value_counts(normalize=True)"
   ]
  },
  {
   "cell_type": "code",
   "execution_count": 10,
   "metadata": {
    "ExecuteTime": {
     "end_time": "2022-01-25T22:37:48.828120Z",
     "start_time": "2022-01-25T22:37:48.786044Z"
    }
   },
   "outputs": [
    {
     "data": {
      "text/plain": [
       "1    0.524752\n",
       "0    0.475248\n",
       "Name: home_win, dtype: float64"
      ]
     },
     "execution_count": 10,
     "metadata": {},
     "output_type": "execute_result"
    }
   ],
   "source": [
    "df2.home_win.value_counts(normalize=True)"
   ]
  },
  {
   "cell_type": "code",
   "execution_count": 11,
   "metadata": {
    "ExecuteTime": {
     "end_time": "2022-01-25T22:37:50.584975Z",
     "start_time": "2022-01-25T22:37:50.517431Z"
    }
   },
   "outputs": [
    {
     "data": {
      "text/html": [
       "<div>\n",
       "<style scoped>\n",
       "    .dataframe tbody tr th:only-of-type {\n",
       "        vertical-align: middle;\n",
       "    }\n",
       "\n",
       "    .dataframe tbody tr th {\n",
       "        vertical-align: top;\n",
       "    }\n",
       "\n",
       "    .dataframe thead th {\n",
       "        text-align: right;\n",
       "    }\n",
       "</style>\n",
       "<table border=\"1\" class=\"dataframe\">\n",
       "  <thead>\n",
       "    <tr style=\"text-align: right;\">\n",
       "      <th></th>\n",
       "      <th>H_name</th>\n",
       "      <th>H_at_bats</th>\n",
       "      <th>H_runs</th>\n",
       "      <th>H_hits</th>\n",
       "      <th>H_rbi</th>\n",
       "      <th>H_earned_runs</th>\n",
       "      <th>H_bases_on_balls</th>\n",
       "      <th>H_strikeouts</th>\n",
       "      <th>H_plate_appearances</th>\n",
       "      <th>H_batting_average</th>\n",
       "      <th>...</th>\n",
       "      <th>A_Opp_grounded_balls</th>\n",
       "      <th>A_Opp_fly_balls</th>\n",
       "      <th>A_Opp_line_drives</th>\n",
       "      <th>A_Opp_unknown_bat_type</th>\n",
       "      <th>A_Opp_game_score</th>\n",
       "      <th>A_Opp_inherited_runners</th>\n",
       "      <th>A_Opp_inherited_score</th>\n",
       "      <th>A_Opp_win_probability_by_pitcher</th>\n",
       "      <th>A_Opp_base_out_runs_saved</th>\n",
       "      <th>home_win</th>\n",
       "    </tr>\n",
       "  </thead>\n",
       "  <tbody>\n",
       "    <tr>\n",
       "      <th>101</th>\n",
       "      <td>PIT</td>\n",
       "      <td>32.150000</td>\n",
       "      <td>3.716667</td>\n",
       "      <td>7.083333</td>\n",
       "      <td>3.583333</td>\n",
       "      <td>3.340167</td>\n",
       "      <td>2.783333</td>\n",
       "      <td>8.566667</td>\n",
       "      <td>35.566667</td>\n",
       "      <td>0.215300</td>\n",
       "      <td>...</td>\n",
       "      <td>9.850000</td>\n",
       "      <td>13.600000</td>\n",
       "      <td>6.933333</td>\n",
       "      <td>0.0</td>\n",
       "      <td>48.916667</td>\n",
       "      <td>1.593220</td>\n",
       "      <td>0.491525</td>\n",
       "      <td>0.029217</td>\n",
       "      <td>0.210000</td>\n",
       "      <td>1</td>\n",
       "    </tr>\n",
       "    <tr>\n",
       "      <th>102</th>\n",
       "      <td>KCR</td>\n",
       "      <td>33.133333</td>\n",
       "      <td>4.133333</td>\n",
       "      <td>8.083333</td>\n",
       "      <td>3.950000</td>\n",
       "      <td>4.138000</td>\n",
       "      <td>2.866667</td>\n",
       "      <td>8.783333</td>\n",
       "      <td>36.666667</td>\n",
       "      <td>0.238017</td>\n",
       "      <td>...</td>\n",
       "      <td>10.833333</td>\n",
       "      <td>12.866667</td>\n",
       "      <td>6.783333</td>\n",
       "      <td>0.0</td>\n",
       "      <td>52.333333</td>\n",
       "      <td>1.700000</td>\n",
       "      <td>0.500000</td>\n",
       "      <td>0.047217</td>\n",
       "      <td>0.208333</td>\n",
       "      <td>1</td>\n",
       "    </tr>\n",
       "    <tr>\n",
       "      <th>103</th>\n",
       "      <td>PHI</td>\n",
       "      <td>32.316667</td>\n",
       "      <td>4.916667</td>\n",
       "      <td>8.266667</td>\n",
       "      <td>4.650000</td>\n",
       "      <td>4.823000</td>\n",
       "      <td>3.666667</td>\n",
       "      <td>8.000000</td>\n",
       "      <td>36.750000</td>\n",
       "      <td>0.249000</td>\n",
       "      <td>...</td>\n",
       "      <td>10.423729</td>\n",
       "      <td>13.169492</td>\n",
       "      <td>6.220339</td>\n",
       "      <td>0.0</td>\n",
       "      <td>48.932203</td>\n",
       "      <td>1.576271</td>\n",
       "      <td>0.322034</td>\n",
       "      <td>-0.028119</td>\n",
       "      <td>-0.679661</td>\n",
       "      <td>1</td>\n",
       "    </tr>\n",
       "    <tr>\n",
       "      <th>104</th>\n",
       "      <td>MIL</td>\n",
       "      <td>32.116667</td>\n",
       "      <td>4.250000</td>\n",
       "      <td>7.266667</td>\n",
       "      <td>4.083333</td>\n",
       "      <td>4.239333</td>\n",
       "      <td>3.716667</td>\n",
       "      <td>9.733333</td>\n",
       "      <td>36.616667</td>\n",
       "      <td>0.219300</td>\n",
       "      <td>...</td>\n",
       "      <td>9.250000</td>\n",
       "      <td>11.900000</td>\n",
       "      <td>5.533333</td>\n",
       "      <td>0.0</td>\n",
       "      <td>51.933333</td>\n",
       "      <td>1.183333</td>\n",
       "      <td>0.366667</td>\n",
       "      <td>0.029217</td>\n",
       "      <td>0.463333</td>\n",
       "      <td>0</td>\n",
       "    </tr>\n",
       "    <tr>\n",
       "      <th>105</th>\n",
       "      <td>NYM</td>\n",
       "      <td>33.683333</td>\n",
       "      <td>4.850000</td>\n",
       "      <td>9.116667</td>\n",
       "      <td>4.700000</td>\n",
       "      <td>4.760500</td>\n",
       "      <td>3.366667</td>\n",
       "      <td>8.350000</td>\n",
       "      <td>38.033333</td>\n",
       "      <td>0.263500</td>\n",
       "      <td>...</td>\n",
       "      <td>11.666667</td>\n",
       "      <td>13.433333</td>\n",
       "      <td>6.866667</td>\n",
       "      <td>0.0</td>\n",
       "      <td>50.733333</td>\n",
       "      <td>1.593220</td>\n",
       "      <td>0.610169</td>\n",
       "      <td>0.049967</td>\n",
       "      <td>0.185000</td>\n",
       "      <td>0</td>\n",
       "    </tr>\n",
       "    <tr>\n",
       "      <th>...</th>\n",
       "      <td>...</td>\n",
       "      <td>...</td>\n",
       "      <td>...</td>\n",
       "      <td>...</td>\n",
       "      <td>...</td>\n",
       "      <td>...</td>\n",
       "      <td>...</td>\n",
       "      <td>...</td>\n",
       "      <td>...</td>\n",
       "      <td>...</td>\n",
       "      <td>...</td>\n",
       "      <td>...</td>\n",
       "      <td>...</td>\n",
       "      <td>...</td>\n",
       "      <td>...</td>\n",
       "      <td>...</td>\n",
       "      <td>...</td>\n",
       "      <td>...</td>\n",
       "      <td>...</td>\n",
       "      <td>...</td>\n",
       "      <td>...</td>\n",
       "    </tr>\n",
       "    <tr>\n",
       "      <th>197</th>\n",
       "      <td>SEA</td>\n",
       "      <td>32.383333</td>\n",
       "      <td>4.300000</td>\n",
       "      <td>7.483333</td>\n",
       "      <td>4.100000</td>\n",
       "      <td>4.110333</td>\n",
       "      <td>3.450000</td>\n",
       "      <td>8.533333</td>\n",
       "      <td>36.583333</td>\n",
       "      <td>0.225967</td>\n",
       "      <td>...</td>\n",
       "      <td>10.533333</td>\n",
       "      <td>14.750000</td>\n",
       "      <td>6.933333</td>\n",
       "      <td>0.0</td>\n",
       "      <td>54.583333</td>\n",
       "      <td>1.466667</td>\n",
       "      <td>0.450000</td>\n",
       "      <td>0.106317</td>\n",
       "      <td>1.306667</td>\n",
       "      <td>1</td>\n",
       "    </tr>\n",
       "    <tr>\n",
       "      <th>198</th>\n",
       "      <td>SDP</td>\n",
       "      <td>32.716667</td>\n",
       "      <td>5.316667</td>\n",
       "      <td>8.266667</td>\n",
       "      <td>5.116667</td>\n",
       "      <td>5.237333</td>\n",
       "      <td>3.350000</td>\n",
       "      <td>8.266667</td>\n",
       "      <td>36.966667</td>\n",
       "      <td>0.248250</td>\n",
       "      <td>...</td>\n",
       "      <td>10.933333</td>\n",
       "      <td>13.550000</td>\n",
       "      <td>7.033333</td>\n",
       "      <td>0.0</td>\n",
       "      <td>48.600000</td>\n",
       "      <td>1.830508</td>\n",
       "      <td>0.593220</td>\n",
       "      <td>0.035300</td>\n",
       "      <td>0.310000</td>\n",
       "      <td>1</td>\n",
       "    </tr>\n",
       "    <tr>\n",
       "      <th>199</th>\n",
       "      <td>ATL</td>\n",
       "      <td>34.566667</td>\n",
       "      <td>5.800000</td>\n",
       "      <td>9.266667</td>\n",
       "      <td>5.633333</td>\n",
       "      <td>5.734833</td>\n",
       "      <td>3.983333</td>\n",
       "      <td>9.550000</td>\n",
       "      <td>39.066667</td>\n",
       "      <td>0.260583</td>\n",
       "      <td>...</td>\n",
       "      <td>11.400000</td>\n",
       "      <td>12.950000</td>\n",
       "      <td>7.350000</td>\n",
       "      <td>0.0</td>\n",
       "      <td>46.766667</td>\n",
       "      <td>1.561404</td>\n",
       "      <td>0.385965</td>\n",
       "      <td>-0.031333</td>\n",
       "      <td>-0.405000</td>\n",
       "      <td>1</td>\n",
       "    </tr>\n",
       "    <tr>\n",
       "      <th>200</th>\n",
       "      <td>CLE</td>\n",
       "      <td>32.650000</td>\n",
       "      <td>4.133333</td>\n",
       "      <td>7.433333</td>\n",
       "      <td>3.900000</td>\n",
       "      <td>4.011333</td>\n",
       "      <td>3.983333</td>\n",
       "      <td>8.616667</td>\n",
       "      <td>37.450000</td>\n",
       "      <td>0.222117</td>\n",
       "      <td>...</td>\n",
       "      <td>11.172414</td>\n",
       "      <td>14.637931</td>\n",
       "      <td>7.568966</td>\n",
       "      <td>0.0</td>\n",
       "      <td>53.465517</td>\n",
       "      <td>1.473684</td>\n",
       "      <td>0.508772</td>\n",
       "      <td>0.039655</td>\n",
       "      <td>0.479310</td>\n",
       "      <td>0</td>\n",
       "    </tr>\n",
       "    <tr>\n",
       "      <th>201</th>\n",
       "      <td>LAD</td>\n",
       "      <td>33.983051</td>\n",
       "      <td>5.779661</td>\n",
       "      <td>8.661017</td>\n",
       "      <td>5.406780</td>\n",
       "      <td>5.466610</td>\n",
       "      <td>3.779661</td>\n",
       "      <td>7.881356</td>\n",
       "      <td>38.525424</td>\n",
       "      <td>0.252119</td>\n",
       "      <td>...</td>\n",
       "      <td>12.716667</td>\n",
       "      <td>15.566667</td>\n",
       "      <td>8.633333</td>\n",
       "      <td>0.0</td>\n",
       "      <td>53.550000</td>\n",
       "      <td>1.847458</td>\n",
       "      <td>0.661017</td>\n",
       "      <td>0.065967</td>\n",
       "      <td>0.558333</td>\n",
       "      <td>1</td>\n",
       "    </tr>\n",
       "  </tbody>\n",
       "</table>\n",
       "<p>101 rows × 139 columns</p>\n",
       "</div>"
      ],
      "text/plain": [
       "    H_name  H_at_bats    H_runs    H_hits     H_rbi  H_earned_runs  \\\n",
       "101    PIT  32.150000  3.716667  7.083333  3.583333       3.340167   \n",
       "102    KCR  33.133333  4.133333  8.083333  3.950000       4.138000   \n",
       "103    PHI  32.316667  4.916667  8.266667  4.650000       4.823000   \n",
       "104    MIL  32.116667  4.250000  7.266667  4.083333       4.239333   \n",
       "105    NYM  33.683333  4.850000  9.116667  4.700000       4.760500   \n",
       "..     ...        ...       ...       ...       ...            ...   \n",
       "197    SEA  32.383333  4.300000  7.483333  4.100000       4.110333   \n",
       "198    SDP  32.716667  5.316667  8.266667  5.116667       5.237333   \n",
       "199    ATL  34.566667  5.800000  9.266667  5.633333       5.734833   \n",
       "200    CLE  32.650000  4.133333  7.433333  3.900000       4.011333   \n",
       "201    LAD  33.983051  5.779661  8.661017  5.406780       5.466610   \n",
       "\n",
       "     H_bases_on_balls  H_strikeouts  H_plate_appearances  H_batting_average  \\\n",
       "101          2.783333      8.566667            35.566667           0.215300   \n",
       "102          2.866667      8.783333            36.666667           0.238017   \n",
       "103          3.666667      8.000000            36.750000           0.249000   \n",
       "104          3.716667      9.733333            36.616667           0.219300   \n",
       "105          3.366667      8.350000            38.033333           0.263500   \n",
       "..                ...           ...                  ...                ...   \n",
       "197          3.450000      8.533333            36.583333           0.225967   \n",
       "198          3.350000      8.266667            36.966667           0.248250   \n",
       "199          3.983333      9.550000            39.066667           0.260583   \n",
       "200          3.983333      8.616667            37.450000           0.222117   \n",
       "201          3.779661      7.881356            38.525424           0.252119   \n",
       "\n",
       "     ...  A_Opp_grounded_balls  A_Opp_fly_balls  A_Opp_line_drives  \\\n",
       "101  ...              9.850000        13.600000           6.933333   \n",
       "102  ...             10.833333        12.866667           6.783333   \n",
       "103  ...             10.423729        13.169492           6.220339   \n",
       "104  ...              9.250000        11.900000           5.533333   \n",
       "105  ...             11.666667        13.433333           6.866667   \n",
       "..   ...                   ...              ...                ...   \n",
       "197  ...             10.533333        14.750000           6.933333   \n",
       "198  ...             10.933333        13.550000           7.033333   \n",
       "199  ...             11.400000        12.950000           7.350000   \n",
       "200  ...             11.172414        14.637931           7.568966   \n",
       "201  ...             12.716667        15.566667           8.633333   \n",
       "\n",
       "     A_Opp_unknown_bat_type  A_Opp_game_score  A_Opp_inherited_runners  \\\n",
       "101                     0.0         48.916667                 1.593220   \n",
       "102                     0.0         52.333333                 1.700000   \n",
       "103                     0.0         48.932203                 1.576271   \n",
       "104                     0.0         51.933333                 1.183333   \n",
       "105                     0.0         50.733333                 1.593220   \n",
       "..                      ...               ...                      ...   \n",
       "197                     0.0         54.583333                 1.466667   \n",
       "198                     0.0         48.600000                 1.830508   \n",
       "199                     0.0         46.766667                 1.561404   \n",
       "200                     0.0         53.465517                 1.473684   \n",
       "201                     0.0         53.550000                 1.847458   \n",
       "\n",
       "     A_Opp_inherited_score  A_Opp_win_probability_by_pitcher  \\\n",
       "101               0.491525                          0.029217   \n",
       "102               0.500000                          0.047217   \n",
       "103               0.322034                         -0.028119   \n",
       "104               0.366667                          0.029217   \n",
       "105               0.610169                          0.049967   \n",
       "..                     ...                               ...   \n",
       "197               0.450000                          0.106317   \n",
       "198               0.593220                          0.035300   \n",
       "199               0.385965                         -0.031333   \n",
       "200               0.508772                          0.039655   \n",
       "201               0.661017                          0.065967   \n",
       "\n",
       "     A_Opp_base_out_runs_saved  home_win  \n",
       "101                   0.210000         1  \n",
       "102                   0.208333         1  \n",
       "103                  -0.679661         1  \n",
       "104                   0.463333         0  \n",
       "105                   0.185000         0  \n",
       "..                         ...       ...  \n",
       "197                   1.306667         1  \n",
       "198                   0.310000         1  \n",
       "199                  -0.405000         1  \n",
       "200                   0.479310         0  \n",
       "201                   0.558333         1  \n",
       "\n",
       "[101 rows x 139 columns]"
      ]
     },
     "execution_count": 11,
     "metadata": {},
     "output_type": "execute_result"
    }
   ],
   "source": [
    "#df2.drop_duplicates(inplace=True)\n",
    "df2"
   ]
  },
  {
   "cell_type": "code",
   "execution_count": 12,
   "metadata": {
    "ExecuteTime": {
     "end_time": "2022-01-25T22:37:51.828280Z",
     "start_time": "2022-01-25T22:37:51.775356Z"
    }
   },
   "outputs": [
    {
     "data": {
      "text/html": [
       "<div>\n",
       "<style scoped>\n",
       "    .dataframe tbody tr th:only-of-type {\n",
       "        vertical-align: middle;\n",
       "    }\n",
       "\n",
       "    .dataframe tbody tr th {\n",
       "        vertical-align: top;\n",
       "    }\n",
       "\n",
       "    .dataframe thead th {\n",
       "        text-align: right;\n",
       "    }\n",
       "</style>\n",
       "<table border=\"1\" class=\"dataframe\">\n",
       "  <thead>\n",
       "    <tr style=\"text-align: right;\">\n",
       "      <th></th>\n",
       "      <th>H_name</th>\n",
       "      <th>H_at_bats</th>\n",
       "      <th>H_runs</th>\n",
       "      <th>H_hits</th>\n",
       "      <th>H_rbi</th>\n",
       "      <th>H_earned_runs</th>\n",
       "      <th>H_bases_on_balls</th>\n",
       "      <th>H_strikeouts</th>\n",
       "      <th>H_plate_appearances</th>\n",
       "      <th>H_batting_average</th>\n",
       "      <th>...</th>\n",
       "      <th>A_Opp_grounded_balls</th>\n",
       "      <th>A_Opp_fly_balls</th>\n",
       "      <th>A_Opp_line_drives</th>\n",
       "      <th>A_Opp_unknown_bat_type</th>\n",
       "      <th>A_Opp_game_score</th>\n",
       "      <th>A_Opp_inherited_runners</th>\n",
       "      <th>A_Opp_inherited_score</th>\n",
       "      <th>A_Opp_win_probability_by_pitcher</th>\n",
       "      <th>A_Opp_base_out_runs_saved</th>\n",
       "      <th>home_win</th>\n",
       "    </tr>\n",
       "  </thead>\n",
       "  <tbody>\n",
       "    <tr>\n",
       "      <th>0</th>\n",
       "      <td>NYM</td>\n",
       "      <td>33.683333</td>\n",
       "      <td>4.850000</td>\n",
       "      <td>9.116667</td>\n",
       "      <td>4.70000</td>\n",
       "      <td>4.760500</td>\n",
       "      <td>3.366667</td>\n",
       "      <td>8.350000</td>\n",
       "      <td>38.033333</td>\n",
       "      <td>0.263500</td>\n",
       "      <td>...</td>\n",
       "      <td>11.416667</td>\n",
       "      <td>13.866667</td>\n",
       "      <td>6.883333</td>\n",
       "      <td>0.0</td>\n",
       "      <td>50.000000</td>\n",
       "      <td>1.833333</td>\n",
       "      <td>0.666667</td>\n",
       "      <td>-0.042900</td>\n",
       "      <td>-1.010000</td>\n",
       "      <td>1</td>\n",
       "    </tr>\n",
       "    <tr>\n",
       "      <th>1</th>\n",
       "      <td>TBR</td>\n",
       "      <td>33.016667</td>\n",
       "      <td>4.750000</td>\n",
       "      <td>7.833333</td>\n",
       "      <td>4.50000</td>\n",
       "      <td>4.548667</td>\n",
       "      <td>4.033333</td>\n",
       "      <td>10.166667</td>\n",
       "      <td>37.716667</td>\n",
       "      <td>0.232217</td>\n",
       "      <td>...</td>\n",
       "      <td>11.266667</td>\n",
       "      <td>13.900000</td>\n",
       "      <td>6.783333</td>\n",
       "      <td>0.0</td>\n",
       "      <td>49.100000</td>\n",
       "      <td>2.000000</td>\n",
       "      <td>0.750000</td>\n",
       "      <td>-0.044417</td>\n",
       "      <td>-0.423333</td>\n",
       "      <td>0</td>\n",
       "    </tr>\n",
       "    <tr>\n",
       "      <th>2</th>\n",
       "      <td>CHW</td>\n",
       "      <td>34.116667</td>\n",
       "      <td>5.100000</td>\n",
       "      <td>8.900000</td>\n",
       "      <td>4.90000</td>\n",
       "      <td>4.962500</td>\n",
       "      <td>2.983333</td>\n",
       "      <td>9.516667</td>\n",
       "      <td>37.783333</td>\n",
       "      <td>0.253000</td>\n",
       "      <td>...</td>\n",
       "      <td>9.850000</td>\n",
       "      <td>13.600000</td>\n",
       "      <td>6.933333</td>\n",
       "      <td>0.0</td>\n",
       "      <td>48.916667</td>\n",
       "      <td>1.593220</td>\n",
       "      <td>0.491525</td>\n",
       "      <td>0.029217</td>\n",
       "      <td>0.210000</td>\n",
       "      <td>0</td>\n",
       "    </tr>\n",
       "    <tr>\n",
       "      <th>3</th>\n",
       "      <td>OAK</td>\n",
       "      <td>31.816667</td>\n",
       "      <td>4.683333</td>\n",
       "      <td>7.200000</td>\n",
       "      <td>4.50000</td>\n",
       "      <td>4.827000</td>\n",
       "      <td>4.000000</td>\n",
       "      <td>8.783333</td>\n",
       "      <td>36.733333</td>\n",
       "      <td>0.223967</td>\n",
       "      <td>...</td>\n",
       "      <td>10.150000</td>\n",
       "      <td>14.983333</td>\n",
       "      <td>7.200000</td>\n",
       "      <td>0.0</td>\n",
       "      <td>46.750000</td>\n",
       "      <td>1.610169</td>\n",
       "      <td>0.372881</td>\n",
       "      <td>0.031567</td>\n",
       "      <td>0.041667</td>\n",
       "      <td>1</td>\n",
       "    </tr>\n",
       "    <tr>\n",
       "      <th>4</th>\n",
       "      <td>LAD</td>\n",
       "      <td>33.983051</td>\n",
       "      <td>5.779661</td>\n",
       "      <td>8.661017</td>\n",
       "      <td>5.40678</td>\n",
       "      <td>5.466610</td>\n",
       "      <td>3.779661</td>\n",
       "      <td>7.881356</td>\n",
       "      <td>38.525424</td>\n",
       "      <td>0.252119</td>\n",
       "      <td>...</td>\n",
       "      <td>10.152542</td>\n",
       "      <td>15.186441</td>\n",
       "      <td>7.542373</td>\n",
       "      <td>0.0</td>\n",
       "      <td>48.050847</td>\n",
       "      <td>1.689655</td>\n",
       "      <td>0.603448</td>\n",
       "      <td>-0.026932</td>\n",
       "      <td>-0.352542</td>\n",
       "      <td>1</td>\n",
       "    </tr>\n",
       "  </tbody>\n",
       "</table>\n",
       "<p>5 rows × 139 columns</p>\n",
       "</div>"
      ],
      "text/plain": [
       "  H_name  H_at_bats    H_runs    H_hits    H_rbi  H_earned_runs  \\\n",
       "0    NYM  33.683333  4.850000  9.116667  4.70000       4.760500   \n",
       "1    TBR  33.016667  4.750000  7.833333  4.50000       4.548667   \n",
       "2    CHW  34.116667  5.100000  8.900000  4.90000       4.962500   \n",
       "3    OAK  31.816667  4.683333  7.200000  4.50000       4.827000   \n",
       "4    LAD  33.983051  5.779661  8.661017  5.40678       5.466610   \n",
       "\n",
       "   H_bases_on_balls  H_strikeouts  H_plate_appearances  H_batting_average  \\\n",
       "0          3.366667      8.350000            38.033333           0.263500   \n",
       "1          4.033333     10.166667            37.716667           0.232217   \n",
       "2          2.983333      9.516667            37.783333           0.253000   \n",
       "3          4.000000      8.783333            36.733333           0.223967   \n",
       "4          3.779661      7.881356            38.525424           0.252119   \n",
       "\n",
       "   ...  A_Opp_grounded_balls  A_Opp_fly_balls  A_Opp_line_drives  \\\n",
       "0  ...             11.416667        13.866667           6.883333   \n",
       "1  ...             11.266667        13.900000           6.783333   \n",
       "2  ...              9.850000        13.600000           6.933333   \n",
       "3  ...             10.150000        14.983333           7.200000   \n",
       "4  ...             10.152542        15.186441           7.542373   \n",
       "\n",
       "   A_Opp_unknown_bat_type  A_Opp_game_score  A_Opp_inherited_runners  \\\n",
       "0                     0.0         50.000000                 1.833333   \n",
       "1                     0.0         49.100000                 2.000000   \n",
       "2                     0.0         48.916667                 1.593220   \n",
       "3                     0.0         46.750000                 1.610169   \n",
       "4                     0.0         48.050847                 1.689655   \n",
       "\n",
       "   A_Opp_inherited_score  A_Opp_win_probability_by_pitcher  \\\n",
       "0               0.666667                         -0.042900   \n",
       "1               0.750000                         -0.044417   \n",
       "2               0.491525                          0.029217   \n",
       "3               0.372881                          0.031567   \n",
       "4               0.603448                         -0.026932   \n",
       "\n",
       "   A_Opp_base_out_runs_saved  home_win  \n",
       "0                  -1.010000         1  \n",
       "1                  -0.423333         0  \n",
       "2                   0.210000         0  \n",
       "3                   0.041667         1  \n",
       "4                  -0.352542         1  \n",
       "\n",
       "[5 rows x 139 columns]"
      ]
     },
     "execution_count": 12,
     "metadata": {},
     "output_type": "execute_result"
    }
   ],
   "source": [
    "df.head()"
   ]
  },
  {
   "cell_type": "code",
   "execution_count": 13,
   "metadata": {
    "ExecuteTime": {
     "end_time": "2022-01-25T22:37:52.872733Z",
     "start_time": "2022-01-25T22:37:52.823391Z"
    },
    "scrolled": true
   },
   "outputs": [
    {
     "data": {
      "text/html": [
       "<div>\n",
       "<style scoped>\n",
       "    .dataframe tbody tr th:only-of-type {\n",
       "        vertical-align: middle;\n",
       "    }\n",
       "\n",
       "    .dataframe tbody tr th {\n",
       "        vertical-align: top;\n",
       "    }\n",
       "\n",
       "    .dataframe thead th {\n",
       "        text-align: right;\n",
       "    }\n",
       "</style>\n",
       "<table border=\"1\" class=\"dataframe\">\n",
       "  <thead>\n",
       "    <tr style=\"text-align: right;\">\n",
       "      <th></th>\n",
       "      <th>H_name</th>\n",
       "      <th>H_at_bats</th>\n",
       "      <th>H_runs</th>\n",
       "      <th>H_hits</th>\n",
       "      <th>H_rbi</th>\n",
       "      <th>H_earned_runs</th>\n",
       "      <th>H_bases_on_balls</th>\n",
       "      <th>H_strikeouts</th>\n",
       "      <th>H_plate_appearances</th>\n",
       "      <th>H_batting_average</th>\n",
       "      <th>...</th>\n",
       "      <th>A_Opp_grounded_balls</th>\n",
       "      <th>A_Opp_fly_balls</th>\n",
       "      <th>A_Opp_line_drives</th>\n",
       "      <th>A_Opp_unknown_bat_type</th>\n",
       "      <th>A_Opp_game_score</th>\n",
       "      <th>A_Opp_inherited_runners</th>\n",
       "      <th>A_Opp_inherited_score</th>\n",
       "      <th>A_Opp_win_probability_by_pitcher</th>\n",
       "      <th>A_Opp_base_out_runs_saved</th>\n",
       "      <th>home_win</th>\n",
       "    </tr>\n",
       "  </thead>\n",
       "  <tbody>\n",
       "    <tr>\n",
       "      <th>101</th>\n",
       "      <td>PIT</td>\n",
       "      <td>32.150000</td>\n",
       "      <td>3.716667</td>\n",
       "      <td>7.083333</td>\n",
       "      <td>3.583333</td>\n",
       "      <td>3.340167</td>\n",
       "      <td>2.783333</td>\n",
       "      <td>8.566667</td>\n",
       "      <td>35.566667</td>\n",
       "      <td>0.215300</td>\n",
       "      <td>...</td>\n",
       "      <td>9.850000</td>\n",
       "      <td>13.600000</td>\n",
       "      <td>6.933333</td>\n",
       "      <td>0.0</td>\n",
       "      <td>48.916667</td>\n",
       "      <td>1.593220</td>\n",
       "      <td>0.491525</td>\n",
       "      <td>0.029217</td>\n",
       "      <td>0.210000</td>\n",
       "      <td>1</td>\n",
       "    </tr>\n",
       "    <tr>\n",
       "      <th>102</th>\n",
       "      <td>KCR</td>\n",
       "      <td>33.133333</td>\n",
       "      <td>4.133333</td>\n",
       "      <td>8.083333</td>\n",
       "      <td>3.950000</td>\n",
       "      <td>4.138000</td>\n",
       "      <td>2.866667</td>\n",
       "      <td>8.783333</td>\n",
       "      <td>36.666667</td>\n",
       "      <td>0.238017</td>\n",
       "      <td>...</td>\n",
       "      <td>10.833333</td>\n",
       "      <td>12.866667</td>\n",
       "      <td>6.783333</td>\n",
       "      <td>0.0</td>\n",
       "      <td>52.333333</td>\n",
       "      <td>1.700000</td>\n",
       "      <td>0.500000</td>\n",
       "      <td>0.047217</td>\n",
       "      <td>0.208333</td>\n",
       "      <td>1</td>\n",
       "    </tr>\n",
       "    <tr>\n",
       "      <th>103</th>\n",
       "      <td>PHI</td>\n",
       "      <td>32.316667</td>\n",
       "      <td>4.916667</td>\n",
       "      <td>8.266667</td>\n",
       "      <td>4.650000</td>\n",
       "      <td>4.823000</td>\n",
       "      <td>3.666667</td>\n",
       "      <td>8.000000</td>\n",
       "      <td>36.750000</td>\n",
       "      <td>0.249000</td>\n",
       "      <td>...</td>\n",
       "      <td>10.423729</td>\n",
       "      <td>13.169492</td>\n",
       "      <td>6.220339</td>\n",
       "      <td>0.0</td>\n",
       "      <td>48.932203</td>\n",
       "      <td>1.576271</td>\n",
       "      <td>0.322034</td>\n",
       "      <td>-0.028119</td>\n",
       "      <td>-0.679661</td>\n",
       "      <td>1</td>\n",
       "    </tr>\n",
       "    <tr>\n",
       "      <th>104</th>\n",
       "      <td>MIL</td>\n",
       "      <td>32.116667</td>\n",
       "      <td>4.250000</td>\n",
       "      <td>7.266667</td>\n",
       "      <td>4.083333</td>\n",
       "      <td>4.239333</td>\n",
       "      <td>3.716667</td>\n",
       "      <td>9.733333</td>\n",
       "      <td>36.616667</td>\n",
       "      <td>0.219300</td>\n",
       "      <td>...</td>\n",
       "      <td>9.250000</td>\n",
       "      <td>11.900000</td>\n",
       "      <td>5.533333</td>\n",
       "      <td>0.0</td>\n",
       "      <td>51.933333</td>\n",
       "      <td>1.183333</td>\n",
       "      <td>0.366667</td>\n",
       "      <td>0.029217</td>\n",
       "      <td>0.463333</td>\n",
       "      <td>0</td>\n",
       "    </tr>\n",
       "    <tr>\n",
       "      <th>105</th>\n",
       "      <td>NYM</td>\n",
       "      <td>33.683333</td>\n",
       "      <td>4.850000</td>\n",
       "      <td>9.116667</td>\n",
       "      <td>4.700000</td>\n",
       "      <td>4.760500</td>\n",
       "      <td>3.366667</td>\n",
       "      <td>8.350000</td>\n",
       "      <td>38.033333</td>\n",
       "      <td>0.263500</td>\n",
       "      <td>...</td>\n",
       "      <td>11.666667</td>\n",
       "      <td>13.433333</td>\n",
       "      <td>6.866667</td>\n",
       "      <td>0.0</td>\n",
       "      <td>50.733333</td>\n",
       "      <td>1.593220</td>\n",
       "      <td>0.610169</td>\n",
       "      <td>0.049967</td>\n",
       "      <td>0.185000</td>\n",
       "      <td>0</td>\n",
       "    </tr>\n",
       "  </tbody>\n",
       "</table>\n",
       "<p>5 rows × 139 columns</p>\n",
       "</div>"
      ],
      "text/plain": [
       "    H_name  H_at_bats    H_runs    H_hits     H_rbi  H_earned_runs  \\\n",
       "101    PIT  32.150000  3.716667  7.083333  3.583333       3.340167   \n",
       "102    KCR  33.133333  4.133333  8.083333  3.950000       4.138000   \n",
       "103    PHI  32.316667  4.916667  8.266667  4.650000       4.823000   \n",
       "104    MIL  32.116667  4.250000  7.266667  4.083333       4.239333   \n",
       "105    NYM  33.683333  4.850000  9.116667  4.700000       4.760500   \n",
       "\n",
       "     H_bases_on_balls  H_strikeouts  H_plate_appearances  H_batting_average  \\\n",
       "101          2.783333      8.566667            35.566667           0.215300   \n",
       "102          2.866667      8.783333            36.666667           0.238017   \n",
       "103          3.666667      8.000000            36.750000           0.249000   \n",
       "104          3.716667      9.733333            36.616667           0.219300   \n",
       "105          3.366667      8.350000            38.033333           0.263500   \n",
       "\n",
       "     ...  A_Opp_grounded_balls  A_Opp_fly_balls  A_Opp_line_drives  \\\n",
       "101  ...              9.850000        13.600000           6.933333   \n",
       "102  ...             10.833333        12.866667           6.783333   \n",
       "103  ...             10.423729        13.169492           6.220339   \n",
       "104  ...              9.250000        11.900000           5.533333   \n",
       "105  ...             11.666667        13.433333           6.866667   \n",
       "\n",
       "     A_Opp_unknown_bat_type  A_Opp_game_score  A_Opp_inherited_runners  \\\n",
       "101                     0.0         48.916667                 1.593220   \n",
       "102                     0.0         52.333333                 1.700000   \n",
       "103                     0.0         48.932203                 1.576271   \n",
       "104                     0.0         51.933333                 1.183333   \n",
       "105                     0.0         50.733333                 1.593220   \n",
       "\n",
       "     A_Opp_inherited_score  A_Opp_win_probability_by_pitcher  \\\n",
       "101               0.491525                          0.029217   \n",
       "102               0.500000                          0.047217   \n",
       "103               0.322034                         -0.028119   \n",
       "104               0.366667                          0.029217   \n",
       "105               0.610169                          0.049967   \n",
       "\n",
       "     A_Opp_base_out_runs_saved  home_win  \n",
       "101                   0.210000         1  \n",
       "102                   0.208333         1  \n",
       "103                  -0.679661         1  \n",
       "104                   0.463333         0  \n",
       "105                   0.185000         0  \n",
       "\n",
       "[5 rows x 139 columns]"
      ]
     },
     "execution_count": 13,
     "metadata": {},
     "output_type": "execute_result"
    }
   ],
   "source": [
    "df2.head()"
   ]
  },
  {
   "cell_type": "code",
   "execution_count": 14,
   "metadata": {
    "ExecuteTime": {
     "end_time": "2022-01-25T22:37:53.463984Z",
     "start_time": "2022-01-25T22:37:53.436737Z"
    }
   },
   "outputs": [],
   "source": [
    "def data_preprocessing(df, df2):\n",
    "    X_train = df.drop(['home_win','H_name','A_name'], axis=1)\n",
    "    X_test = df2.drop(['home_win','H_name','A_name'], axis=1)\n",
    "    y_train = df.home_win\n",
    "    y_test= df2.home_win\n",
    "    \n",
    "    ss = StandardScaler()\n",
    "    X_train_scaled = ss.fit_transform(X_train)\n",
    "    X_test_scaled = ss.transform(X_test)\n",
    "    \n",
    "    X_train_scaled = pd.DataFrame(X_train_scaled, columns=X_train.columns)\n",
    "    X_test_scaled = pd.DataFrame(X_test_scaled, columns=X_test.columns)\n",
    "    \n",
    "    return X_train_scaled, X_test_scaled,y_train,y_test"
   ]
  },
  {
   "cell_type": "code",
   "execution_count": 15,
   "metadata": {
    "ExecuteTime": {
     "end_time": "2022-01-25T22:37:53.781197Z",
     "start_time": "2022-01-25T22:37:53.755283Z"
    }
   },
   "outputs": [],
   "source": [
    "X_train_scaled,X_test_scaled,y_train,y_test=data_preprocessing(df,df2)"
   ]
  },
  {
   "cell_type": "code",
   "execution_count": 16,
   "metadata": {
    "ExecuteTime": {
     "end_time": "2022-01-25T22:37:54.119114Z",
     "start_time": "2022-01-25T22:37:54.111184Z"
    }
   },
   "outputs": [],
   "source": [
    "# X_test_scaled.drop(['H_Opp_inherited_score','H_Opp_game_score','H_Opp_unknown_bat_type',\n",
    "#                     'H_Opp_inherited_runners'],axis=1,inplace=True)"
   ]
  },
  {
   "cell_type": "code",
   "execution_count": 17,
   "metadata": {
    "ExecuteTime": {
     "end_time": "2022-01-25T22:37:54.356079Z",
     "start_time": "2022-01-25T22:37:54.339332Z"
    }
   },
   "outputs": [],
   "source": [
    "# X_train_scaled.drop(['H_Opp_inherited_score','H_Opp_game_score','H_Opp_unknown_bat_type',\n",
    "#                     'H_Opp_inherited_runners'],axis=1,inplace=True)"
   ]
  },
  {
   "cell_type": "markdown",
   "metadata": {},
   "source": [
    "## Feature Selection"
   ]
  },
  {
   "cell_type": "code",
   "execution_count": 18,
   "metadata": {
    "ExecuteTime": {
     "end_time": "2022-01-25T22:37:54.967390Z",
     "start_time": "2022-01-25T22:37:54.946898Z"
    }
   },
   "outputs": [],
   "source": [
    "def new_acc(probabilities):\n",
    "    class_list2=[]\n",
    "    for log in probabilities:\n",
    "        if log[0]<.40:\n",
    "            class_list2.append(1)\n",
    "        elif log[0]>.60:\n",
    "            class_list2.append(0)\n",
    "        else:\n",
    "            class_list2.append(3)\n",
    "    y_pred_class=pd.DataFrame(class_list2)\n",
    "    y_pred_class.reset_index(inplace=True)\n",
    "    y_test_df=pd.DataFrame(y_test)\n",
    "    y_test_df.reset_index(inplace=True)\n",
    "    comb=pd.concat([y_test_df,y_pred_class],axis=1)\n",
    "    comb.drop(['index','index'],axis=1,inplace=True)\n",
    "    comb['pred']=comb[0]\n",
    "    comb.drop([0],axis=1,inplace=True)\n",
    "    comb.drop(comb[comb['pred'] == 3].index, inplace = True)\n",
    "    count=0\n",
    "    for bools in comb['home_win']==comb['pred']:\n",
    "        if bools is True:\n",
    "            count+=1\n",
    "        else:\n",
    "            pass\n",
    "    accuracy=count/len(comb)\n",
    "    \n",
    "    return accuracy,count"
   ]
  },
  {
   "cell_type": "markdown",
   "metadata": {},
   "source": [
    "### RFECV"
   ]
  },
  {
   "cell_type": "code",
   "execution_count": 19,
   "metadata": {
    "ExecuteTime": {
     "end_time": "2022-01-25T22:40:47.291943Z",
     "start_time": "2022-01-25T22:37:55.903073Z"
    }
   },
   "outputs": [],
   "source": [
    "rfeats= feature_select(X_train_scaled,y_train,RandomForestClassifier,min_features=10)\n",
    "X_train_best_for = X_train_scaled[rfeats]\n",
    "X_test_best_for = X_test_scaled[rfeats]"
   ]
  },
  {
   "cell_type": "code",
   "execution_count": 20,
   "metadata": {
    "ExecuteTime": {
     "end_time": "2022-01-25T22:41:23.369136Z",
     "start_time": "2022-01-25T22:40:47.295975Z"
    }
   },
   "outputs": [
    {
     "name": "stdout",
     "output_type": "stream",
     "text": [
      "Number of Trees: 75\n",
      "criterion: gini\n",
      "Mean Cross-Val Score: 0.46048780487804886\n",
      "Train Mean Accuracy: 0.6386138613861386\n",
      "Test Mean Accuracy: 0.6831683168316832\n",
      "Recall Score: 0.6981132075471698\n",
      "Precision Score: 0.6981132075471698\n",
      "F1 score: 0.6981132075471698\n"
     ]
    },
    {
     "data": {
      "image/png": "[encoded data removed]",
      "text/plain": [
       "<Figure size 432x288 with 1 Axes>"
      ]
     },
     "metadata": {
      "needs_background": "light"
     },
     "output_type": "display_data"
    },
    {
     "data": {
      "image/png": "[encoded data removed]",
      "text/plain": [
       "<Figure size 432x288 with 2 Axes>"
      ]
     },
     "metadata": {
      "needs_background": "light"
     },
     "output_type": "display_data"
    },
    {
     "data": {
      "image/png": "[encoded data removed]",
      "text/plain": [
       "<Figure size 432x288 with 2 Axes>"
      ]
     },
     "metadata": {
      "needs_background": "light"
     },
     "output_type": "display_data"
    }
   ],
   "source": [
    "predictions,probabilities=random_forest(X_train_best_for,X_test_best_for,y_train,y_test)"
   ]
  },
  {
   "cell_type": "code",
   "execution_count": 21,
   "metadata": {
    "ExecuteTime": {
     "end_time": "2022-01-25T22:41:23.445848Z",
     "start_time": "2022-01-25T22:41:23.411314Z"
    }
   },
   "outputs": [
    {
     "data": {
      "text/plain": [
       "(0.9285714285714286, 39)"
      ]
     },
     "execution_count": 21,
     "metadata": {},
     "output_type": "execute_result"
    }
   ],
   "source": [
    "new_acc(probabilities)"
   ]
  },
  {
   "cell_type": "markdown",
   "metadata": {},
   "source": [
    "### PCA"
   ]
  },
  {
   "cell_type": "code",
   "execution_count": 22,
   "metadata": {
    "ExecuteTime": {
     "end_time": "2022-01-25T22:41:23.551956Z",
     "start_time": "2022-01-25T22:41:23.459068Z"
    }
   },
   "outputs": [],
   "source": [
    "pca=PCA(n_components=0.9)\n",
    "train_pca=pca.fit_transform(X_train_scaled)\n",
    "test_pca=pca.transform(X_test_scaled)"
   ]
  },
  {
   "cell_type": "code",
   "execution_count": 23,
   "metadata": {
    "ExecuteTime": {
     "end_time": "2022-01-25T22:41:52.396067Z",
     "start_time": "2022-01-25T22:41:23.555663Z"
    },
    "scrolled": true
   },
   "outputs": [
    {
     "name": "stdout",
     "output_type": "stream",
     "text": [
      "Number of Trees: 110\n",
      "criterion: gini\n",
      "Mean Cross-Val Score: 0.48024390243902443\n",
      "Train Mean Accuracy: 0.6386138613861386\n",
      "Test Mean Accuracy: 0.6732673267326733\n",
      "Recall Score: 0.6981132075471698\n",
      "Precision Score: 0.6851851851851852\n",
      "F1 score: 0.6915887850467289\n"
     ]
    },
    {
     "data": {
      "image/png": "[encoded data removed]",
      "text/plain": [
       "<Figure size 432x288 with 1 Axes>"
      ]
     },
     "metadata": {
      "needs_background": "light"
     },
     "output_type": "display_data"
    },
    {
     "data": {
      "image/png": "[encoded data removed]",
      "text/plain": [
       "<Figure size 432x288 with 2 Axes>"
      ]
     },
     "metadata": {
      "needs_background": "light"
     },
     "output_type": "display_data"
    },
    {
     "data": {
      "image/png": "[encoded data removed]",
      "text/plain": [
       "<Figure size 432x288 with 2 Axes>"
      ]
     },
     "metadata": {
      "needs_background": "light"
     },
     "output_type": "display_data"
    }
   ],
   "source": [
    "predictions,probabilities=random_forest(train_pca,test_pca,y_train,y_test)"
   ]
  },
  {
   "cell_type": "code",
   "execution_count": 24,
   "metadata": {
    "ExecuteTime": {
     "end_time": "2022-01-25T22:41:52.477237Z",
     "start_time": "2022-01-25T22:41:52.404105Z"
    }
   },
   "outputs": [
    {
     "data": {
      "text/plain": [
       "(1.0, 36)"
      ]
     },
     "execution_count": 24,
     "metadata": {},
     "output_type": "execute_result"
    }
   ],
   "source": [
    "new_acc(probabilities)"
   ]
  }
 ],
 "metadata": {
  "kernelspec": {
   "display_name": "Python (learn-env)",
   "language": "python",
   "name": "learn-env"
  },
  "language_info": {
   "codemirror_mode": {
    "name": "ipython",
    "version": 3
   },
   "file_extension": ".py",
   "mimetype": "text/x-python",
   "name": "python",
   "nbconvert_exporter": "python",
   "pygments_lexer": "ipython3",
   "version": "3.8.5"
  },
  "notify_time": "30"
 },
 "nbformat": 4,
 "nbformat_minor": 4
}

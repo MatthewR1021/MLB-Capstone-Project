{
 "cells": [
  {
   "cell_type": "code",
   "execution_count": 1,
   "metadata": {
    "ExecuteTime": {
     "end_time": "2022-01-25T22:55:24.228143Z",
     "start_time": "2022-01-25T22:55:20.023413Z"
    }
   },
   "outputs": [],
   "source": [
    "# Import the relevant packages\n",
    "import pandas as pd\n",
    "import numpy as np\n",
    "import matplotlib.pyplot as plt\n",
    "from sklearn.linear_model import LogisticRegression\n",
    "from sklearn.model_selection import cross_val_score, train_test_split,GridSearchCV\n",
    "from sklearn.metrics import plot_confusion_matrix, plot_roc_curve, accuracy_score, \\\n",
    "recall_score, precision_score, f1_score\n",
    "from sklearn.neighbors import KNeighborsClassifier\n",
    "from sklearn.preprocessing import StandardScaler\n",
    "from sklearn.tree import DecisionTreeClassifier, plot_tree\n",
    "from sklearn.ensemble import BaggingClassifier, RandomForestClassifier\n",
    "from sklearn.ensemble import AdaBoostClassifier, GradientBoostingClassifier\n",
    "from xgboost import XGBClassifier\n",
    "import statsmodels.api as sm\n",
    "from sklearn.feature_selection import RFECV\n",
    "from sklearn.decomposition import PCA\n",
    "import warnings\n",
    "warnings.filterwarnings(\"ignore\")"
   ]
  },
  {
   "cell_type": "code",
   "execution_count": 2,
   "metadata": {
    "ExecuteTime": {
     "end_time": "2022-01-25T22:55:24.375469Z",
     "start_time": "2022-01-25T22:55:24.232899Z"
    }
   },
   "outputs": [],
   "source": [
    "#Import functions notebook and load data set here\n",
    "import sys\n",
    "sys.path.append(\"../\")\n",
    "from Modeling_functions import *"
   ]
  },
  {
   "cell_type": "code",
   "execution_count": 3,
   "metadata": {
    "ExecuteTime": {
     "end_time": "2022-01-25T22:55:24.612038Z",
     "start_time": "2022-01-25T22:55:24.379865Z"
    }
   },
   "outputs": [],
   "source": [
    "df=pd.read_csv('../data/Season_2018.csv')"
   ]
  },
  {
   "cell_type": "code",
   "execution_count": 6,
   "metadata": {
    "ExecuteTime": {
     "end_time": "2022-01-25T22:55:41.898279Z",
     "start_time": "2022-01-25T22:55:41.881900Z"
    }
   },
   "outputs": [],
   "source": [
    "df.drop(['Unnamed: 0'],axis=1,inplace=True)"
   ]
  },
  {
   "cell_type": "code",
   "execution_count": 11,
   "metadata": {
    "ExecuteTime": {
     "end_time": "2022-01-25T22:55:59.480742Z",
     "start_time": "2022-01-25T22:55:59.464812Z"
    }
   },
   "outputs": [],
   "source": [
    "n = 50\n",
    "df=df.head(int(len(df)*(n/100)))"
   ]
  },
  {
   "cell_type": "code",
   "execution_count": 13,
   "metadata": {
    "ExecuteTime": {
     "end_time": "2022-01-25T22:56:05.628074Z",
     "start_time": "2022-01-25T22:56:05.604996Z"
    }
   },
   "outputs": [],
   "source": [
    "n = 50\n",
    "df2=df.tail(int(len(df)*(n/100)))"
   ]
  },
  {
   "cell_type": "markdown",
   "metadata": {},
   "source": [
    "Find and eliminate NaNs"
   ]
  },
  {
   "cell_type": "code",
   "execution_count": 12,
   "metadata": {
    "ExecuteTime": {
     "end_time": "2022-01-25T22:56:03.437613Z",
     "start_time": "2022-01-25T22:56:03.413156Z"
    }
   },
   "outputs": [
    {
     "data": {
      "text/plain": [
       "1    0.510708\n",
       "0    0.489292\n",
       "Name: home_win, dtype: float64"
      ]
     },
     "execution_count": 12,
     "metadata": {},
     "output_type": "execute_result"
    }
   ],
   "source": [
    "df.home_win.value_counts(normalize=True)"
   ]
  },
  {
   "cell_type": "code",
   "execution_count": 14,
   "metadata": {
    "ExecuteTime": {
     "end_time": "2022-01-25T22:56:07.455839Z",
     "start_time": "2022-01-25T22:56:07.413632Z"
    }
   },
   "outputs": [
    {
     "data": {
      "text/plain": [
       "1    0.527183\n",
       "0    0.472817\n",
       "Name: home_win, dtype: float64"
      ]
     },
     "execution_count": 14,
     "metadata": {},
     "output_type": "execute_result"
    }
   ],
   "source": [
    "df2.home_win.value_counts(normalize=True)"
   ]
  },
  {
   "cell_type": "code",
   "execution_count": 15,
   "metadata": {
    "ExecuteTime": {
     "end_time": "2022-01-25T22:56:19.173156Z",
     "start_time": "2022-01-25T22:56:19.109305Z"
    }
   },
   "outputs": [
    {
     "data": {
      "text/html": [
       "<div>\n",
       "<style scoped>\n",
       "    .dataframe tbody tr th:only-of-type {\n",
       "        vertical-align: middle;\n",
       "    }\n",
       "\n",
       "    .dataframe tbody tr th {\n",
       "        vertical-align: top;\n",
       "    }\n",
       "\n",
       "    .dataframe thead th {\n",
       "        text-align: right;\n",
       "    }\n",
       "</style>\n",
       "<table border=\"1\" class=\"dataframe\">\n",
       "  <thead>\n",
       "    <tr style=\"text-align: right;\">\n",
       "      <th></th>\n",
       "      <th>H_name</th>\n",
       "      <th>H_at_bats</th>\n",
       "      <th>H_runs</th>\n",
       "      <th>H_hits</th>\n",
       "      <th>H_rbi</th>\n",
       "      <th>H_earned_runs</th>\n",
       "      <th>H_bases_on_balls</th>\n",
       "      <th>H_strikeouts</th>\n",
       "      <th>H_plate_appearances</th>\n",
       "      <th>H_batting_average</th>\n",
       "      <th>...</th>\n",
       "      <th>A_Opp_strikes_swinging</th>\n",
       "      <th>A_Opp_strikes_looking</th>\n",
       "      <th>A_Opp_grounded_balls</th>\n",
       "      <th>A_Opp_fly_balls</th>\n",
       "      <th>A_Opp_line_drives</th>\n",
       "      <th>A_Opp_unknown_bat_type</th>\n",
       "      <th>A_Opp_game_score</th>\n",
       "      <th>A_Opp_win_probability_by_pitcher</th>\n",
       "      <th>A_Opp_base_out_runs_saved</th>\n",
       "      <th>home_win</th>\n",
       "    </tr>\n",
       "  </thead>\n",
       "  <tbody>\n",
       "    <tr>\n",
       "      <th>607</th>\n",
       "      <td>SFG</td>\n",
       "      <td>34.203704</td>\n",
       "      <td>3.722222</td>\n",
       "      <td>8.172840</td>\n",
       "      <td>3.537037</td>\n",
       "      <td>3.608025</td>\n",
       "      <td>2.765432</td>\n",
       "      <td>9.055556</td>\n",
       "      <td>37.734568</td>\n",
       "      <td>0.233685</td>\n",
       "      <td>...</td>\n",
       "      <td>15.475309</td>\n",
       "      <td>23.895062</td>\n",
       "      <td>12.679012</td>\n",
       "      <td>14.746914</td>\n",
       "      <td>6.870370</td>\n",
       "      <td>0.000000</td>\n",
       "      <td>51.938272</td>\n",
       "      <td>0.040080</td>\n",
       "      <td>0.070370</td>\n",
       "      <td>1</td>\n",
       "    </tr>\n",
       "    <tr>\n",
       "      <th>608</th>\n",
       "      <td>PIT</td>\n",
       "      <td>33.832298</td>\n",
       "      <td>4.298137</td>\n",
       "      <td>8.577640</td>\n",
       "      <td>4.130435</td>\n",
       "      <td>4.054037</td>\n",
       "      <td>2.944099</td>\n",
       "      <td>7.633540</td>\n",
       "      <td>37.677019</td>\n",
       "      <td>0.248329</td>\n",
       "      <td>...</td>\n",
       "      <td>15.055556</td>\n",
       "      <td>24.962963</td>\n",
       "      <td>11.197531</td>\n",
       "      <td>15.561728</td>\n",
       "      <td>6.635802</td>\n",
       "      <td>0.012346</td>\n",
       "      <td>54.080247</td>\n",
       "      <td>0.056796</td>\n",
       "      <td>0.490741</td>\n",
       "      <td>1</td>\n",
       "    </tr>\n",
       "    <tr>\n",
       "      <th>609</th>\n",
       "      <td>WSN</td>\n",
       "      <td>34.055556</td>\n",
       "      <td>4.759259</td>\n",
       "      <td>8.654321</td>\n",
       "      <td>4.549383</td>\n",
       "      <td>4.587654</td>\n",
       "      <td>3.895062</td>\n",
       "      <td>7.956790</td>\n",
       "      <td>38.814815</td>\n",
       "      <td>0.247401</td>\n",
       "      <td>...</td>\n",
       "      <td>18.820988</td>\n",
       "      <td>26.407407</td>\n",
       "      <td>10.827160</td>\n",
       "      <td>13.592593</td>\n",
       "      <td>6.000000</td>\n",
       "      <td>0.000000</td>\n",
       "      <td>48.000000</td>\n",
       "      <td>-0.062389</td>\n",
       "      <td>-0.735185</td>\n",
       "      <td>1</td>\n",
       "    </tr>\n",
       "    <tr>\n",
       "      <th>610</th>\n",
       "      <td>SEA</td>\n",
       "      <td>34.030864</td>\n",
       "      <td>4.179012</td>\n",
       "      <td>8.654321</td>\n",
       "      <td>3.975309</td>\n",
       "      <td>3.967778</td>\n",
       "      <td>2.654321</td>\n",
       "      <td>7.537037</td>\n",
       "      <td>37.574074</td>\n",
       "      <td>0.248759</td>\n",
       "      <td>...</td>\n",
       "      <td>13.351852</td>\n",
       "      <td>24.629630</td>\n",
       "      <td>12.401235</td>\n",
       "      <td>15.654321</td>\n",
       "      <td>7.148148</td>\n",
       "      <td>0.012346</td>\n",
       "      <td>52.074074</td>\n",
       "      <td>0.044549</td>\n",
       "      <td>0.182099</td>\n",
       "      <td>1</td>\n",
       "    </tr>\n",
       "    <tr>\n",
       "      <th>611</th>\n",
       "      <td>MIA</td>\n",
       "      <td>34.086957</td>\n",
       "      <td>3.658385</td>\n",
       "      <td>8.093168</td>\n",
       "      <td>3.440994</td>\n",
       "      <td>3.325901</td>\n",
       "      <td>2.826087</td>\n",
       "      <td>8.596273</td>\n",
       "      <td>37.782609</td>\n",
       "      <td>0.232317</td>\n",
       "      <td>...</td>\n",
       "      <td>17.598765</td>\n",
       "      <td>24.895062</td>\n",
       "      <td>11.567901</td>\n",
       "      <td>13.283951</td>\n",
       "      <td>5.975309</td>\n",
       "      <td>0.000000</td>\n",
       "      <td>50.604938</td>\n",
       "      <td>-0.013623</td>\n",
       "      <td>-0.604938</td>\n",
       "      <td>1</td>\n",
       "    </tr>\n",
       "    <tr>\n",
       "      <th>...</th>\n",
       "      <td>...</td>\n",
       "      <td>...</td>\n",
       "      <td>...</td>\n",
       "      <td>...</td>\n",
       "      <td>...</td>\n",
       "      <td>...</td>\n",
       "      <td>...</td>\n",
       "      <td>...</td>\n",
       "      <td>...</td>\n",
       "      <td>...</td>\n",
       "      <td>...</td>\n",
       "      <td>...</td>\n",
       "      <td>...</td>\n",
       "      <td>...</td>\n",
       "      <td>...</td>\n",
       "      <td>...</td>\n",
       "      <td>...</td>\n",
       "      <td>...</td>\n",
       "      <td>...</td>\n",
       "      <td>...</td>\n",
       "      <td>...</td>\n",
       "    </tr>\n",
       "    <tr>\n",
       "      <th>1209</th>\n",
       "      <td>CIN</td>\n",
       "      <td>34.148148</td>\n",
       "      <td>4.296296</td>\n",
       "      <td>8.666667</td>\n",
       "      <td>4.104938</td>\n",
       "      <td>4.181481</td>\n",
       "      <td>3.450617</td>\n",
       "      <td>8.493827</td>\n",
       "      <td>38.518519</td>\n",
       "      <td>0.248623</td>\n",
       "      <td>...</td>\n",
       "      <td>16.623457</td>\n",
       "      <td>25.216049</td>\n",
       "      <td>11.290123</td>\n",
       "      <td>13.728395</td>\n",
       "      <td>6.413580</td>\n",
       "      <td>0.012346</td>\n",
       "      <td>50.697531</td>\n",
       "      <td>-0.045049</td>\n",
       "      <td>-0.317284</td>\n",
       "      <td>0</td>\n",
       "    </tr>\n",
       "    <tr>\n",
       "      <th>1210</th>\n",
       "      <td>PHI</td>\n",
       "      <td>33.481481</td>\n",
       "      <td>4.179012</td>\n",
       "      <td>7.839506</td>\n",
       "      <td>4.030864</td>\n",
       "      <td>4.050494</td>\n",
       "      <td>3.592593</td>\n",
       "      <td>9.382716</td>\n",
       "      <td>37.876543</td>\n",
       "      <td>0.229772</td>\n",
       "      <td>...</td>\n",
       "      <td>16.283951</td>\n",
       "      <td>24.055556</td>\n",
       "      <td>10.950617</td>\n",
       "      <td>14.450617</td>\n",
       "      <td>6.006173</td>\n",
       "      <td>0.000000</td>\n",
       "      <td>50.617284</td>\n",
       "      <td>0.009531</td>\n",
       "      <td>-0.360494</td>\n",
       "      <td>0</td>\n",
       "    </tr>\n",
       "    <tr>\n",
       "      <th>1211</th>\n",
       "      <td>BAL</td>\n",
       "      <td>33.993827</td>\n",
       "      <td>3.839506</td>\n",
       "      <td>8.129630</td>\n",
       "      <td>3.660494</td>\n",
       "      <td>3.702654</td>\n",
       "      <td>2.604938</td>\n",
       "      <td>8.716049</td>\n",
       "      <td>37.246914</td>\n",
       "      <td>0.233407</td>\n",
       "      <td>...</td>\n",
       "      <td>16.314815</td>\n",
       "      <td>25.413580</td>\n",
       "      <td>11.030864</td>\n",
       "      <td>14.320988</td>\n",
       "      <td>6.617284</td>\n",
       "      <td>0.006173</td>\n",
       "      <td>51.277778</td>\n",
       "      <td>0.002444</td>\n",
       "      <td>0.030247</td>\n",
       "      <td>0</td>\n",
       "    </tr>\n",
       "    <tr>\n",
       "      <th>1212</th>\n",
       "      <td>SEA</td>\n",
       "      <td>34.030864</td>\n",
       "      <td>4.179012</td>\n",
       "      <td>8.654321</td>\n",
       "      <td>3.975309</td>\n",
       "      <td>3.967778</td>\n",
       "      <td>2.654321</td>\n",
       "      <td>7.537037</td>\n",
       "      <td>37.574074</td>\n",
       "      <td>0.248759</td>\n",
       "      <td>...</td>\n",
       "      <td>13.833333</td>\n",
       "      <td>24.456790</td>\n",
       "      <td>12.364198</td>\n",
       "      <td>15.567901</td>\n",
       "      <td>7.197531</td>\n",
       "      <td>0.012346</td>\n",
       "      <td>52.518519</td>\n",
       "      <td>0.088006</td>\n",
       "      <td>0.638889</td>\n",
       "      <td>1</td>\n",
       "    </tr>\n",
       "    <tr>\n",
       "      <th>1213</th>\n",
       "      <td>SDP</td>\n",
       "      <td>33.864198</td>\n",
       "      <td>3.808642</td>\n",
       "      <td>7.956790</td>\n",
       "      <td>3.598765</td>\n",
       "      <td>3.550988</td>\n",
       "      <td>2.907407</td>\n",
       "      <td>9.401235</td>\n",
       "      <td>37.401235</td>\n",
       "      <td>0.231272</td>\n",
       "      <td>...</td>\n",
       "      <td>15.583851</td>\n",
       "      <td>23.987578</td>\n",
       "      <td>12.024845</td>\n",
       "      <td>14.366460</td>\n",
       "      <td>6.639752</td>\n",
       "      <td>0.000000</td>\n",
       "      <td>51.310559</td>\n",
       "      <td>0.006037</td>\n",
       "      <td>-0.067702</td>\n",
       "      <td>0</td>\n",
       "    </tr>\n",
       "  </tbody>\n",
       "</table>\n",
       "<p>607 rows × 131 columns</p>\n",
       "</div>"
      ],
      "text/plain": [
       "     H_name  H_at_bats    H_runs    H_hits     H_rbi  H_earned_runs  \\\n",
       "607     SFG  34.203704  3.722222  8.172840  3.537037       3.608025   \n",
       "608     PIT  33.832298  4.298137  8.577640  4.130435       4.054037   \n",
       "609     WSN  34.055556  4.759259  8.654321  4.549383       4.587654   \n",
       "610     SEA  34.030864  4.179012  8.654321  3.975309       3.967778   \n",
       "611     MIA  34.086957  3.658385  8.093168  3.440994       3.325901   \n",
       "...     ...        ...       ...       ...       ...            ...   \n",
       "1209    CIN  34.148148  4.296296  8.666667  4.104938       4.181481   \n",
       "1210    PHI  33.481481  4.179012  7.839506  4.030864       4.050494   \n",
       "1211    BAL  33.993827  3.839506  8.129630  3.660494       3.702654   \n",
       "1212    SEA  34.030864  4.179012  8.654321  3.975309       3.967778   \n",
       "1213    SDP  33.864198  3.808642  7.956790  3.598765       3.550988   \n",
       "\n",
       "      H_bases_on_balls  H_strikeouts  H_plate_appearances  H_batting_average  \\\n",
       "607           2.765432      9.055556            37.734568           0.233685   \n",
       "608           2.944099      7.633540            37.677019           0.248329   \n",
       "609           3.895062      7.956790            38.814815           0.247401   \n",
       "610           2.654321      7.537037            37.574074           0.248759   \n",
       "611           2.826087      8.596273            37.782609           0.232317   \n",
       "...                ...           ...                  ...                ...   \n",
       "1209          3.450617      8.493827            38.518519           0.248623   \n",
       "1210          3.592593      9.382716            37.876543           0.229772   \n",
       "1211          2.604938      8.716049            37.246914           0.233407   \n",
       "1212          2.654321      7.537037            37.574074           0.248759   \n",
       "1213          2.907407      9.401235            37.401235           0.231272   \n",
       "\n",
       "      ...  A_Opp_strikes_swinging  A_Opp_strikes_looking  \\\n",
       "607   ...               15.475309              23.895062   \n",
       "608   ...               15.055556              24.962963   \n",
       "609   ...               18.820988              26.407407   \n",
       "610   ...               13.351852              24.629630   \n",
       "611   ...               17.598765              24.895062   \n",
       "...   ...                     ...                    ...   \n",
       "1209  ...               16.623457              25.216049   \n",
       "1210  ...               16.283951              24.055556   \n",
       "1211  ...               16.314815              25.413580   \n",
       "1212  ...               13.833333              24.456790   \n",
       "1213  ...               15.583851              23.987578   \n",
       "\n",
       "      A_Opp_grounded_balls  A_Opp_fly_balls  A_Opp_line_drives  \\\n",
       "607              12.679012        14.746914           6.870370   \n",
       "608              11.197531        15.561728           6.635802   \n",
       "609              10.827160        13.592593           6.000000   \n",
       "610              12.401235        15.654321           7.148148   \n",
       "611              11.567901        13.283951           5.975309   \n",
       "...                    ...              ...                ...   \n",
       "1209             11.290123        13.728395           6.413580   \n",
       "1210             10.950617        14.450617           6.006173   \n",
       "1211             11.030864        14.320988           6.617284   \n",
       "1212             12.364198        15.567901           7.197531   \n",
       "1213             12.024845        14.366460           6.639752   \n",
       "\n",
       "      A_Opp_unknown_bat_type  A_Opp_game_score  \\\n",
       "607                 0.000000         51.938272   \n",
       "608                 0.012346         54.080247   \n",
       "609                 0.000000         48.000000   \n",
       "610                 0.012346         52.074074   \n",
       "611                 0.000000         50.604938   \n",
       "...                      ...               ...   \n",
       "1209                0.012346         50.697531   \n",
       "1210                0.000000         50.617284   \n",
       "1211                0.006173         51.277778   \n",
       "1212                0.012346         52.518519   \n",
       "1213                0.000000         51.310559   \n",
       "\n",
       "      A_Opp_win_probability_by_pitcher  A_Opp_base_out_runs_saved  home_win  \n",
       "607                           0.040080                   0.070370         1  \n",
       "608                           0.056796                   0.490741         1  \n",
       "609                          -0.062389                  -0.735185         1  \n",
       "610                           0.044549                   0.182099         1  \n",
       "611                          -0.013623                  -0.604938         1  \n",
       "...                                ...                        ...       ...  \n",
       "1209                         -0.045049                  -0.317284         0  \n",
       "1210                          0.009531                  -0.360494         0  \n",
       "1211                          0.002444                   0.030247         0  \n",
       "1212                          0.088006                   0.638889         1  \n",
       "1213                          0.006037                  -0.067702         0  \n",
       "\n",
       "[607 rows x 131 columns]"
      ]
     },
     "execution_count": 15,
     "metadata": {},
     "output_type": "execute_result"
    }
   ],
   "source": [
    "#df2.drop_duplicates(inplace=True)\n",
    "df2"
   ]
  },
  {
   "cell_type": "code",
   "execution_count": 16,
   "metadata": {
    "ExecuteTime": {
     "end_time": "2022-01-25T22:56:26.843601Z",
     "start_time": "2022-01-25T22:56:26.780080Z"
    }
   },
   "outputs": [
    {
     "data": {
      "text/html": [
       "<div>\n",
       "<style scoped>\n",
       "    .dataframe tbody tr th:only-of-type {\n",
       "        vertical-align: middle;\n",
       "    }\n",
       "\n",
       "    .dataframe tbody tr th {\n",
       "        vertical-align: top;\n",
       "    }\n",
       "\n",
       "    .dataframe thead th {\n",
       "        text-align: right;\n",
       "    }\n",
       "</style>\n",
       "<table border=\"1\" class=\"dataframe\">\n",
       "  <thead>\n",
       "    <tr style=\"text-align: right;\">\n",
       "      <th></th>\n",
       "      <th>H_name</th>\n",
       "      <th>H_at_bats</th>\n",
       "      <th>H_runs</th>\n",
       "      <th>H_hits</th>\n",
       "      <th>H_rbi</th>\n",
       "      <th>H_earned_runs</th>\n",
       "      <th>H_bases_on_balls</th>\n",
       "      <th>H_strikeouts</th>\n",
       "      <th>H_plate_appearances</th>\n",
       "      <th>H_batting_average</th>\n",
       "      <th>...</th>\n",
       "      <th>A_Opp_strikes_swinging</th>\n",
       "      <th>A_Opp_strikes_looking</th>\n",
       "      <th>A_Opp_grounded_balls</th>\n",
       "      <th>A_Opp_fly_balls</th>\n",
       "      <th>A_Opp_line_drives</th>\n",
       "      <th>A_Opp_unknown_bat_type</th>\n",
       "      <th>A_Opp_game_score</th>\n",
       "      <th>A_Opp_win_probability_by_pitcher</th>\n",
       "      <th>A_Opp_base_out_runs_saved</th>\n",
       "      <th>home_win</th>\n",
       "    </tr>\n",
       "  </thead>\n",
       "  <tbody>\n",
       "    <tr>\n",
       "      <th>0</th>\n",
       "      <td>NYM</td>\n",
       "      <td>33.753086</td>\n",
       "      <td>4.172840</td>\n",
       "      <td>7.913580</td>\n",
       "      <td>4.006173</td>\n",
       "      <td>3.957531</td>\n",
       "      <td>3.493827</td>\n",
       "      <td>8.666667</td>\n",
       "      <td>38.129630</td>\n",
       "      <td>0.227963</td>\n",
       "      <td>...</td>\n",
       "      <td>16.104938</td>\n",
       "      <td>25.104938</td>\n",
       "      <td>12.265432</td>\n",
       "      <td>14.135802</td>\n",
       "      <td>6.796296</td>\n",
       "      <td>0.012346</td>\n",
       "      <td>50.376543</td>\n",
       "      <td>-0.040932</td>\n",
       "      <td>-0.425309</td>\n",
       "      <td>1</td>\n",
       "    </tr>\n",
       "    <tr>\n",
       "      <th>1</th>\n",
       "      <td>TEX</td>\n",
       "      <td>33.660494</td>\n",
       "      <td>4.549383</td>\n",
       "      <td>8.074074</td>\n",
       "      <td>4.296296</td>\n",
       "      <td>4.298580</td>\n",
       "      <td>3.425926</td>\n",
       "      <td>9.160494</td>\n",
       "      <td>38.043210</td>\n",
       "      <td>0.234926</td>\n",
       "      <td>...</td>\n",
       "      <td>18.549383</td>\n",
       "      <td>25.808642</td>\n",
       "      <td>10.456790</td>\n",
       "      <td>12.543210</td>\n",
       "      <td>5.716049</td>\n",
       "      <td>0.006173</td>\n",
       "      <td>48.870370</td>\n",
       "      <td>-0.019704</td>\n",
       "      <td>-0.457407</td>\n",
       "      <td>0</td>\n",
       "    </tr>\n",
       "    <tr>\n",
       "      <th>2</th>\n",
       "      <td>MIA</td>\n",
       "      <td>34.086957</td>\n",
       "      <td>3.658385</td>\n",
       "      <td>8.093168</td>\n",
       "      <td>3.440994</td>\n",
       "      <td>3.325901</td>\n",
       "      <td>2.826087</td>\n",
       "      <td>8.596273</td>\n",
       "      <td>37.782609</td>\n",
       "      <td>0.232317</td>\n",
       "      <td>...</td>\n",
       "      <td>15.185185</td>\n",
       "      <td>26.271605</td>\n",
       "      <td>12.117284</td>\n",
       "      <td>13.913580</td>\n",
       "      <td>6.697531</td>\n",
       "      <td>0.012346</td>\n",
       "      <td>51.425926</td>\n",
       "      <td>-0.004728</td>\n",
       "      <td>-0.308642</td>\n",
       "      <td>0</td>\n",
       "    </tr>\n",
       "    <tr>\n",
       "      <th>3</th>\n",
       "      <td>KCR</td>\n",
       "      <td>33.981481</td>\n",
       "      <td>3.938272</td>\n",
       "      <td>8.333333</td>\n",
       "      <td>3.740741</td>\n",
       "      <td>3.663580</td>\n",
       "      <td>2.635802</td>\n",
       "      <td>8.086420</td>\n",
       "      <td>37.425926</td>\n",
       "      <td>0.241000</td>\n",
       "      <td>...</td>\n",
       "      <td>15.055556</td>\n",
       "      <td>24.962963</td>\n",
       "      <td>11.197531</td>\n",
       "      <td>15.561728</td>\n",
       "      <td>6.635802</td>\n",
       "      <td>0.012346</td>\n",
       "      <td>54.080247</td>\n",
       "      <td>0.056796</td>\n",
       "      <td>0.490741</td>\n",
       "      <td>0</td>\n",
       "    </tr>\n",
       "    <tr>\n",
       "      <th>4</th>\n",
       "      <td>SDP</td>\n",
       "      <td>33.864198</td>\n",
       "      <td>3.808642</td>\n",
       "      <td>7.956790</td>\n",
       "      <td>3.598765</td>\n",
       "      <td>3.550988</td>\n",
       "      <td>2.907407</td>\n",
       "      <td>9.401235</td>\n",
       "      <td>37.401235</td>\n",
       "      <td>0.231272</td>\n",
       "      <td>...</td>\n",
       "      <td>16.623457</td>\n",
       "      <td>25.216049</td>\n",
       "      <td>11.290123</td>\n",
       "      <td>13.728395</td>\n",
       "      <td>6.413580</td>\n",
       "      <td>0.012346</td>\n",
       "      <td>50.697531</td>\n",
       "      <td>-0.045049</td>\n",
       "      <td>-0.317284</td>\n",
       "      <td>0</td>\n",
       "    </tr>\n",
       "    <tr>\n",
       "      <th>...</th>\n",
       "      <td>...</td>\n",
       "      <td>...</td>\n",
       "      <td>...</td>\n",
       "      <td>...</td>\n",
       "      <td>...</td>\n",
       "      <td>...</td>\n",
       "      <td>...</td>\n",
       "      <td>...</td>\n",
       "      <td>...</td>\n",
       "      <td>...</td>\n",
       "      <td>...</td>\n",
       "      <td>...</td>\n",
       "      <td>...</td>\n",
       "      <td>...</td>\n",
       "      <td>...</td>\n",
       "      <td>...</td>\n",
       "      <td>...</td>\n",
       "      <td>...</td>\n",
       "      <td>...</td>\n",
       "      <td>...</td>\n",
       "      <td>...</td>\n",
       "    </tr>\n",
       "    <tr>\n",
       "      <th>1209</th>\n",
       "      <td>CIN</td>\n",
       "      <td>34.148148</td>\n",
       "      <td>4.296296</td>\n",
       "      <td>8.666667</td>\n",
       "      <td>4.104938</td>\n",
       "      <td>4.181481</td>\n",
       "      <td>3.450617</td>\n",
       "      <td>8.493827</td>\n",
       "      <td>38.518519</td>\n",
       "      <td>0.248623</td>\n",
       "      <td>...</td>\n",
       "      <td>16.623457</td>\n",
       "      <td>25.216049</td>\n",
       "      <td>11.290123</td>\n",
       "      <td>13.728395</td>\n",
       "      <td>6.413580</td>\n",
       "      <td>0.012346</td>\n",
       "      <td>50.697531</td>\n",
       "      <td>-0.045049</td>\n",
       "      <td>-0.317284</td>\n",
       "      <td>0</td>\n",
       "    </tr>\n",
       "    <tr>\n",
       "      <th>1210</th>\n",
       "      <td>PHI</td>\n",
       "      <td>33.481481</td>\n",
       "      <td>4.179012</td>\n",
       "      <td>7.839506</td>\n",
       "      <td>4.030864</td>\n",
       "      <td>4.050494</td>\n",
       "      <td>3.592593</td>\n",
       "      <td>9.382716</td>\n",
       "      <td>37.876543</td>\n",
       "      <td>0.229772</td>\n",
       "      <td>...</td>\n",
       "      <td>16.283951</td>\n",
       "      <td>24.055556</td>\n",
       "      <td>10.950617</td>\n",
       "      <td>14.450617</td>\n",
       "      <td>6.006173</td>\n",
       "      <td>0.000000</td>\n",
       "      <td>50.617284</td>\n",
       "      <td>0.009531</td>\n",
       "      <td>-0.360494</td>\n",
       "      <td>0</td>\n",
       "    </tr>\n",
       "    <tr>\n",
       "      <th>1211</th>\n",
       "      <td>BAL</td>\n",
       "      <td>33.993827</td>\n",
       "      <td>3.839506</td>\n",
       "      <td>8.129630</td>\n",
       "      <td>3.660494</td>\n",
       "      <td>3.702654</td>\n",
       "      <td>2.604938</td>\n",
       "      <td>8.716049</td>\n",
       "      <td>37.246914</td>\n",
       "      <td>0.233407</td>\n",
       "      <td>...</td>\n",
       "      <td>16.314815</td>\n",
       "      <td>25.413580</td>\n",
       "      <td>11.030864</td>\n",
       "      <td>14.320988</td>\n",
       "      <td>6.617284</td>\n",
       "      <td>0.006173</td>\n",
       "      <td>51.277778</td>\n",
       "      <td>0.002444</td>\n",
       "      <td>0.030247</td>\n",
       "      <td>0</td>\n",
       "    </tr>\n",
       "    <tr>\n",
       "      <th>1212</th>\n",
       "      <td>SEA</td>\n",
       "      <td>34.030864</td>\n",
       "      <td>4.179012</td>\n",
       "      <td>8.654321</td>\n",
       "      <td>3.975309</td>\n",
       "      <td>3.967778</td>\n",
       "      <td>2.654321</td>\n",
       "      <td>7.537037</td>\n",
       "      <td>37.574074</td>\n",
       "      <td>0.248759</td>\n",
       "      <td>...</td>\n",
       "      <td>13.833333</td>\n",
       "      <td>24.456790</td>\n",
       "      <td>12.364198</td>\n",
       "      <td>15.567901</td>\n",
       "      <td>7.197531</td>\n",
       "      <td>0.012346</td>\n",
       "      <td>52.518519</td>\n",
       "      <td>0.088006</td>\n",
       "      <td>0.638889</td>\n",
       "      <td>1</td>\n",
       "    </tr>\n",
       "    <tr>\n",
       "      <th>1213</th>\n",
       "      <td>SDP</td>\n",
       "      <td>33.864198</td>\n",
       "      <td>3.808642</td>\n",
       "      <td>7.956790</td>\n",
       "      <td>3.598765</td>\n",
       "      <td>3.550988</td>\n",
       "      <td>2.907407</td>\n",
       "      <td>9.401235</td>\n",
       "      <td>37.401235</td>\n",
       "      <td>0.231272</td>\n",
       "      <td>...</td>\n",
       "      <td>15.583851</td>\n",
       "      <td>23.987578</td>\n",
       "      <td>12.024845</td>\n",
       "      <td>14.366460</td>\n",
       "      <td>6.639752</td>\n",
       "      <td>0.000000</td>\n",
       "      <td>51.310559</td>\n",
       "      <td>0.006037</td>\n",
       "      <td>-0.067702</td>\n",
       "      <td>0</td>\n",
       "    </tr>\n",
       "  </tbody>\n",
       "</table>\n",
       "<p>1214 rows × 131 columns</p>\n",
       "</div>"
      ],
      "text/plain": [
       "     H_name  H_at_bats    H_runs    H_hits     H_rbi  H_earned_runs  \\\n",
       "0       NYM  33.753086  4.172840  7.913580  4.006173       3.957531   \n",
       "1       TEX  33.660494  4.549383  8.074074  4.296296       4.298580   \n",
       "2       MIA  34.086957  3.658385  8.093168  3.440994       3.325901   \n",
       "3       KCR  33.981481  3.938272  8.333333  3.740741       3.663580   \n",
       "4       SDP  33.864198  3.808642  7.956790  3.598765       3.550988   \n",
       "...     ...        ...       ...       ...       ...            ...   \n",
       "1209    CIN  34.148148  4.296296  8.666667  4.104938       4.181481   \n",
       "1210    PHI  33.481481  4.179012  7.839506  4.030864       4.050494   \n",
       "1211    BAL  33.993827  3.839506  8.129630  3.660494       3.702654   \n",
       "1212    SEA  34.030864  4.179012  8.654321  3.975309       3.967778   \n",
       "1213    SDP  33.864198  3.808642  7.956790  3.598765       3.550988   \n",
       "\n",
       "      H_bases_on_balls  H_strikeouts  H_plate_appearances  H_batting_average  \\\n",
       "0             3.493827      8.666667            38.129630           0.227963   \n",
       "1             3.425926      9.160494            38.043210           0.234926   \n",
       "2             2.826087      8.596273            37.782609           0.232317   \n",
       "3             2.635802      8.086420            37.425926           0.241000   \n",
       "4             2.907407      9.401235            37.401235           0.231272   \n",
       "...                ...           ...                  ...                ...   \n",
       "1209          3.450617      8.493827            38.518519           0.248623   \n",
       "1210          3.592593      9.382716            37.876543           0.229772   \n",
       "1211          2.604938      8.716049            37.246914           0.233407   \n",
       "1212          2.654321      7.537037            37.574074           0.248759   \n",
       "1213          2.907407      9.401235            37.401235           0.231272   \n",
       "\n",
       "      ...  A_Opp_strikes_swinging  A_Opp_strikes_looking  \\\n",
       "0     ...               16.104938              25.104938   \n",
       "1     ...               18.549383              25.808642   \n",
       "2     ...               15.185185              26.271605   \n",
       "3     ...               15.055556              24.962963   \n",
       "4     ...               16.623457              25.216049   \n",
       "...   ...                     ...                    ...   \n",
       "1209  ...               16.623457              25.216049   \n",
       "1210  ...               16.283951              24.055556   \n",
       "1211  ...               16.314815              25.413580   \n",
       "1212  ...               13.833333              24.456790   \n",
       "1213  ...               15.583851              23.987578   \n",
       "\n",
       "      A_Opp_grounded_balls  A_Opp_fly_balls  A_Opp_line_drives  \\\n",
       "0                12.265432        14.135802           6.796296   \n",
       "1                10.456790        12.543210           5.716049   \n",
       "2                12.117284        13.913580           6.697531   \n",
       "3                11.197531        15.561728           6.635802   \n",
       "4                11.290123        13.728395           6.413580   \n",
       "...                    ...              ...                ...   \n",
       "1209             11.290123        13.728395           6.413580   \n",
       "1210             10.950617        14.450617           6.006173   \n",
       "1211             11.030864        14.320988           6.617284   \n",
       "1212             12.364198        15.567901           7.197531   \n",
       "1213             12.024845        14.366460           6.639752   \n",
       "\n",
       "      A_Opp_unknown_bat_type  A_Opp_game_score  \\\n",
       "0                   0.012346         50.376543   \n",
       "1                   0.006173         48.870370   \n",
       "2                   0.012346         51.425926   \n",
       "3                   0.012346         54.080247   \n",
       "4                   0.012346         50.697531   \n",
       "...                      ...               ...   \n",
       "1209                0.012346         50.697531   \n",
       "1210                0.000000         50.617284   \n",
       "1211                0.006173         51.277778   \n",
       "1212                0.012346         52.518519   \n",
       "1213                0.000000         51.310559   \n",
       "\n",
       "      A_Opp_win_probability_by_pitcher  A_Opp_base_out_runs_saved  home_win  \n",
       "0                            -0.040932                  -0.425309         1  \n",
       "1                            -0.019704                  -0.457407         0  \n",
       "2                            -0.004728                  -0.308642         0  \n",
       "3                             0.056796                   0.490741         0  \n",
       "4                            -0.045049                  -0.317284         0  \n",
       "...                                ...                        ...       ...  \n",
       "1209                         -0.045049                  -0.317284         0  \n",
       "1210                          0.009531                  -0.360494         0  \n",
       "1211                          0.002444                   0.030247         0  \n",
       "1212                          0.088006                   0.638889         1  \n",
       "1213                          0.006037                  -0.067702         0  \n",
       "\n",
       "[1214 rows x 131 columns]"
      ]
     },
     "execution_count": 16,
     "metadata": {},
     "output_type": "execute_result"
    }
   ],
   "source": [
    "df"
   ]
  },
  {
   "cell_type": "code",
   "execution_count": 17,
   "metadata": {
    "ExecuteTime": {
     "end_time": "2022-01-25T22:56:32.175205Z",
     "start_time": "2022-01-25T22:56:32.130355Z"
    },
    "scrolled": true
   },
   "outputs": [
    {
     "data": {
      "text/html": [
       "<div>\n",
       "<style scoped>\n",
       "    .dataframe tbody tr th:only-of-type {\n",
       "        vertical-align: middle;\n",
       "    }\n",
       "\n",
       "    .dataframe tbody tr th {\n",
       "        vertical-align: top;\n",
       "    }\n",
       "\n",
       "    .dataframe thead th {\n",
       "        text-align: right;\n",
       "    }\n",
       "</style>\n",
       "<table border=\"1\" class=\"dataframe\">\n",
       "  <thead>\n",
       "    <tr style=\"text-align: right;\">\n",
       "      <th></th>\n",
       "      <th>H_name</th>\n",
       "      <th>H_at_bats</th>\n",
       "      <th>H_runs</th>\n",
       "      <th>H_hits</th>\n",
       "      <th>H_rbi</th>\n",
       "      <th>H_earned_runs</th>\n",
       "      <th>H_bases_on_balls</th>\n",
       "      <th>H_strikeouts</th>\n",
       "      <th>H_plate_appearances</th>\n",
       "      <th>H_batting_average</th>\n",
       "      <th>...</th>\n",
       "      <th>A_Opp_strikes_swinging</th>\n",
       "      <th>A_Opp_strikes_looking</th>\n",
       "      <th>A_Opp_grounded_balls</th>\n",
       "      <th>A_Opp_fly_balls</th>\n",
       "      <th>A_Opp_line_drives</th>\n",
       "      <th>A_Opp_unknown_bat_type</th>\n",
       "      <th>A_Opp_game_score</th>\n",
       "      <th>A_Opp_win_probability_by_pitcher</th>\n",
       "      <th>A_Opp_base_out_runs_saved</th>\n",
       "      <th>home_win</th>\n",
       "    </tr>\n",
       "  </thead>\n",
       "  <tbody>\n",
       "    <tr>\n",
       "      <th>607</th>\n",
       "      <td>SFG</td>\n",
       "      <td>34.203704</td>\n",
       "      <td>3.722222</td>\n",
       "      <td>8.172840</td>\n",
       "      <td>3.537037</td>\n",
       "      <td>3.608025</td>\n",
       "      <td>2.765432</td>\n",
       "      <td>9.055556</td>\n",
       "      <td>37.734568</td>\n",
       "      <td>0.233685</td>\n",
       "      <td>...</td>\n",
       "      <td>15.475309</td>\n",
       "      <td>23.895062</td>\n",
       "      <td>12.679012</td>\n",
       "      <td>14.746914</td>\n",
       "      <td>6.870370</td>\n",
       "      <td>0.000000</td>\n",
       "      <td>51.938272</td>\n",
       "      <td>0.040080</td>\n",
       "      <td>0.070370</td>\n",
       "      <td>1</td>\n",
       "    </tr>\n",
       "    <tr>\n",
       "      <th>608</th>\n",
       "      <td>PIT</td>\n",
       "      <td>33.832298</td>\n",
       "      <td>4.298137</td>\n",
       "      <td>8.577640</td>\n",
       "      <td>4.130435</td>\n",
       "      <td>4.054037</td>\n",
       "      <td>2.944099</td>\n",
       "      <td>7.633540</td>\n",
       "      <td>37.677019</td>\n",
       "      <td>0.248329</td>\n",
       "      <td>...</td>\n",
       "      <td>15.055556</td>\n",
       "      <td>24.962963</td>\n",
       "      <td>11.197531</td>\n",
       "      <td>15.561728</td>\n",
       "      <td>6.635802</td>\n",
       "      <td>0.012346</td>\n",
       "      <td>54.080247</td>\n",
       "      <td>0.056796</td>\n",
       "      <td>0.490741</td>\n",
       "      <td>1</td>\n",
       "    </tr>\n",
       "    <tr>\n",
       "      <th>609</th>\n",
       "      <td>WSN</td>\n",
       "      <td>34.055556</td>\n",
       "      <td>4.759259</td>\n",
       "      <td>8.654321</td>\n",
       "      <td>4.549383</td>\n",
       "      <td>4.587654</td>\n",
       "      <td>3.895062</td>\n",
       "      <td>7.956790</td>\n",
       "      <td>38.814815</td>\n",
       "      <td>0.247401</td>\n",
       "      <td>...</td>\n",
       "      <td>18.820988</td>\n",
       "      <td>26.407407</td>\n",
       "      <td>10.827160</td>\n",
       "      <td>13.592593</td>\n",
       "      <td>6.000000</td>\n",
       "      <td>0.000000</td>\n",
       "      <td>48.000000</td>\n",
       "      <td>-0.062389</td>\n",
       "      <td>-0.735185</td>\n",
       "      <td>1</td>\n",
       "    </tr>\n",
       "    <tr>\n",
       "      <th>610</th>\n",
       "      <td>SEA</td>\n",
       "      <td>34.030864</td>\n",
       "      <td>4.179012</td>\n",
       "      <td>8.654321</td>\n",
       "      <td>3.975309</td>\n",
       "      <td>3.967778</td>\n",
       "      <td>2.654321</td>\n",
       "      <td>7.537037</td>\n",
       "      <td>37.574074</td>\n",
       "      <td>0.248759</td>\n",
       "      <td>...</td>\n",
       "      <td>13.351852</td>\n",
       "      <td>24.629630</td>\n",
       "      <td>12.401235</td>\n",
       "      <td>15.654321</td>\n",
       "      <td>7.148148</td>\n",
       "      <td>0.012346</td>\n",
       "      <td>52.074074</td>\n",
       "      <td>0.044549</td>\n",
       "      <td>0.182099</td>\n",
       "      <td>1</td>\n",
       "    </tr>\n",
       "    <tr>\n",
       "      <th>611</th>\n",
       "      <td>MIA</td>\n",
       "      <td>34.086957</td>\n",
       "      <td>3.658385</td>\n",
       "      <td>8.093168</td>\n",
       "      <td>3.440994</td>\n",
       "      <td>3.325901</td>\n",
       "      <td>2.826087</td>\n",
       "      <td>8.596273</td>\n",
       "      <td>37.782609</td>\n",
       "      <td>0.232317</td>\n",
       "      <td>...</td>\n",
       "      <td>17.598765</td>\n",
       "      <td>24.895062</td>\n",
       "      <td>11.567901</td>\n",
       "      <td>13.283951</td>\n",
       "      <td>5.975309</td>\n",
       "      <td>0.000000</td>\n",
       "      <td>50.604938</td>\n",
       "      <td>-0.013623</td>\n",
       "      <td>-0.604938</td>\n",
       "      <td>1</td>\n",
       "    </tr>\n",
       "  </tbody>\n",
       "</table>\n",
       "<p>5 rows × 131 columns</p>\n",
       "</div>"
      ],
      "text/plain": [
       "    H_name  H_at_bats    H_runs    H_hits     H_rbi  H_earned_runs  \\\n",
       "607    SFG  34.203704  3.722222  8.172840  3.537037       3.608025   \n",
       "608    PIT  33.832298  4.298137  8.577640  4.130435       4.054037   \n",
       "609    WSN  34.055556  4.759259  8.654321  4.549383       4.587654   \n",
       "610    SEA  34.030864  4.179012  8.654321  3.975309       3.967778   \n",
       "611    MIA  34.086957  3.658385  8.093168  3.440994       3.325901   \n",
       "\n",
       "     H_bases_on_balls  H_strikeouts  H_plate_appearances  H_batting_average  \\\n",
       "607          2.765432      9.055556            37.734568           0.233685   \n",
       "608          2.944099      7.633540            37.677019           0.248329   \n",
       "609          3.895062      7.956790            38.814815           0.247401   \n",
       "610          2.654321      7.537037            37.574074           0.248759   \n",
       "611          2.826087      8.596273            37.782609           0.232317   \n",
       "\n",
       "     ...  A_Opp_strikes_swinging  A_Opp_strikes_looking  A_Opp_grounded_balls  \\\n",
       "607  ...               15.475309              23.895062             12.679012   \n",
       "608  ...               15.055556              24.962963             11.197531   \n",
       "609  ...               18.820988              26.407407             10.827160   \n",
       "610  ...               13.351852              24.629630             12.401235   \n",
       "611  ...               17.598765              24.895062             11.567901   \n",
       "\n",
       "     A_Opp_fly_balls  A_Opp_line_drives  A_Opp_unknown_bat_type  \\\n",
       "607        14.746914           6.870370                0.000000   \n",
       "608        15.561728           6.635802                0.012346   \n",
       "609        13.592593           6.000000                0.000000   \n",
       "610        15.654321           7.148148                0.012346   \n",
       "611        13.283951           5.975309                0.000000   \n",
       "\n",
       "     A_Opp_game_score  A_Opp_win_probability_by_pitcher  \\\n",
       "607         51.938272                          0.040080   \n",
       "608         54.080247                          0.056796   \n",
       "609         48.000000                         -0.062389   \n",
       "610         52.074074                          0.044549   \n",
       "611         50.604938                         -0.013623   \n",
       "\n",
       "     A_Opp_base_out_runs_saved  home_win  \n",
       "607                   0.070370         1  \n",
       "608                   0.490741         1  \n",
       "609                  -0.735185         1  \n",
       "610                   0.182099         1  \n",
       "611                  -0.604938         1  \n",
       "\n",
       "[5 rows x 131 columns]"
      ]
     },
     "execution_count": 17,
     "metadata": {},
     "output_type": "execute_result"
    }
   ],
   "source": [
    "df2.head()"
   ]
  },
  {
   "cell_type": "code",
   "execution_count": 18,
   "metadata": {
    "ExecuteTime": {
     "end_time": "2022-01-25T22:56:33.637027Z",
     "start_time": "2022-01-25T22:56:33.612729Z"
    }
   },
   "outputs": [],
   "source": [
    "def data_preprocessing(df, df2):\n",
    "    X_train = df.drop(['home_win','H_name','A_name'], axis=1)\n",
    "    X_test = df2.drop(['home_win','H_name','A_name'], axis=1)\n",
    "    y_train = df.home_win\n",
    "    y_test= df2.home_win\n",
    "    \n",
    "    ss = StandardScaler()\n",
    "    X_train_scaled = ss.fit_transform(X_train)\n",
    "    X_test_scaled = ss.transform(X_test)\n",
    "    \n",
    "    X_train_scaled = pd.DataFrame(X_train_scaled, columns=X_train.columns)\n",
    "    X_test_scaled = pd.DataFrame(X_test_scaled, columns=X_test.columns)\n",
    "    \n",
    "    return X_train_scaled, X_test_scaled,y_train,y_test"
   ]
  },
  {
   "cell_type": "code",
   "execution_count": 19,
   "metadata": {
    "ExecuteTime": {
     "end_time": "2022-01-25T22:56:34.720893Z",
     "start_time": "2022-01-25T22:56:34.684893Z"
    }
   },
   "outputs": [],
   "source": [
    "X_train_scaled,X_test_scaled,y_train,y_test=data_preprocessing(df,df2)"
   ]
  },
  {
   "cell_type": "code",
   "execution_count": 20,
   "metadata": {
    "ExecuteTime": {
     "end_time": "2022-01-25T22:56:35.206274Z",
     "start_time": "2022-01-25T22:56:35.194756Z"
    }
   },
   "outputs": [],
   "source": [
    "# X_test_scaled.drop(['H_Opp_inherited_score','H_Opp_game_score','H_Opp_unknown_bat_type',\n",
    "#                     'H_Opp_inherited_runners'],axis=1,inplace=True)"
   ]
  },
  {
   "cell_type": "code",
   "execution_count": 21,
   "metadata": {
    "ExecuteTime": {
     "end_time": "2022-01-25T22:56:35.442525Z",
     "start_time": "2022-01-25T22:56:35.439653Z"
    }
   },
   "outputs": [],
   "source": [
    "# X_train_scaled.drop(['H_Opp_inherited_score','H_Opp_game_score','H_Opp_unknown_bat_type',\n",
    "#                     'H_Opp_inherited_runners'],axis=1,inplace=True)"
   ]
  },
  {
   "cell_type": "markdown",
   "metadata": {},
   "source": [
    "## Feature Selection"
   ]
  },
  {
   "cell_type": "code",
   "execution_count": 22,
   "metadata": {
    "ExecuteTime": {
     "end_time": "2022-01-25T22:56:35.849100Z",
     "start_time": "2022-01-25T22:56:35.838541Z"
    }
   },
   "outputs": [],
   "source": [
    "def new_acc(probabilities):\n",
    "    class_list2=[]\n",
    "    for log in probabilities:\n",
    "        if log[0]<.40:\n",
    "            class_list2.append(1)\n",
    "        elif log[0]>.60:\n",
    "            class_list2.append(0)\n",
    "        else:\n",
    "            class_list2.append(3)\n",
    "    y_pred_class=pd.DataFrame(class_list2)\n",
    "    y_pred_class.reset_index(inplace=True)\n",
    "    y_test_df=pd.DataFrame(y_test)\n",
    "    y_test_df.reset_index(inplace=True)\n",
    "    comb=pd.concat([y_test_df,y_pred_class],axis=1)\n",
    "    comb.drop(['index','index'],axis=1,inplace=True)\n",
    "    comb['pred']=comb[0]\n",
    "    comb.drop([0],axis=1,inplace=True)\n",
    "    comb.drop(comb[comb['pred'] == 3].index, inplace = True)\n",
    "    count=0\n",
    "    for bools in comb['home_win']==comb['pred']:\n",
    "        if bools is True:\n",
    "            count+=1\n",
    "        else:\n",
    "            pass\n",
    "    accuracy=count/len(comb)\n",
    "    \n",
    "    return accuracy,count"
   ]
  },
  {
   "cell_type": "markdown",
   "metadata": {},
   "source": [
    "### RFECV"
   ]
  },
  {
   "cell_type": "code",
   "execution_count": 23,
   "metadata": {
    "ExecuteTime": {
     "end_time": "2022-01-25T23:00:55.767010Z",
     "start_time": "2022-01-25T22:56:36.186212Z"
    }
   },
   "outputs": [],
   "source": [
    "rfeats= feature_select(X_train_scaled,y_train,RandomForestClassifier,min_features=10)\n",
    "X_train_best_for = X_train_scaled[rfeats]\n",
    "X_test_best_for = X_test_scaled[rfeats]"
   ]
  },
  {
   "cell_type": "code",
   "execution_count": 24,
   "metadata": {
    "ExecuteTime": {
     "end_time": "2022-01-25T23:02:00.465789Z",
     "start_time": "2022-01-25T23:00:55.769770Z"
    }
   },
   "outputs": [
    {
     "name": "stdout",
     "output_type": "stream",
     "text": [
      "Number of Trees: 150\n",
      "criterion: gini\n",
      "Mean Cross-Val Score: 0.5173145597388021\n",
      "Train Mean Accuracy: 0.7257001647446458\n",
      "Test Mean Accuracy: 0.7199341021416804\n",
      "Recall Score: 0.790625\n",
      "Precision Score: 0.7106741573033708\n",
      "F1 score: 0.7485207100591716\n"
     ]
    },
    {
     "data": {
      "image/png": "[encoded data removed]",
      "text/plain": [
       "<Figure size 432x288 with 1 Axes>"
      ]
     },
     "metadata": {
      "needs_background": "light"
     },
     "output_type": "display_data"
    },
    {
     "data": {
      "image/png": "[encoded data removed]",
      "text/plain": [
       "<Figure size 432x288 with 2 Axes>"
      ]
     },
     "metadata": {
      "needs_background": "light"
     },
     "output_type": "display_data"
    },
    {
     "data": {
      "image/png": "[encoded data removed]",
      "text/plain": [
       "<Figure size 432x288 with 2 Axes>"
      ]
     },
     "metadata": {
      "needs_background": "light"
     },
     "output_type": "display_data"
    }
   ],
   "source": [
    "predictions,probabilities=random_forest(X_train_best_for,X_test_best_for,y_train,y_test)"
   ]
  },
  {
   "cell_type": "code",
   "execution_count": 25,
   "metadata": {
    "ExecuteTime": {
     "end_time": "2022-01-25T23:02:00.550229Z",
     "start_time": "2022-01-25T23:02:00.509302Z"
    }
   },
   "outputs": [
    {
     "data": {
      "text/plain": [
       "(0.7754677754677755, 373)"
      ]
     },
     "execution_count": 25,
     "metadata": {},
     "output_type": "execute_result"
    }
   ],
   "source": [
    "new_acc(probabilities)"
   ]
  },
  {
   "cell_type": "markdown",
   "metadata": {},
   "source": [
    "### PCA"
   ]
  },
  {
   "cell_type": "code",
   "execution_count": 26,
   "metadata": {
    "ExecuteTime": {
     "end_time": "2022-01-25T23:02:00.688865Z",
     "start_time": "2022-01-25T23:02:00.557724Z"
    }
   },
   "outputs": [],
   "source": [
    "pca=PCA(n_components=0.9)\n",
    "train_pca=pca.fit_transform(X_train_scaled)\n",
    "test_pca=pca.transform(X_test_scaled)"
   ]
  },
  {
   "cell_type": "code",
   "execution_count": 27,
   "metadata": {
    "ExecuteTime": {
     "end_time": "2022-01-25T23:03:09.703974Z",
     "start_time": "2022-01-25T23:02:00.692335Z"
    }
   },
   "outputs": [
    {
     "name": "stdout",
     "output_type": "stream",
     "text": [
      "Number of Trees: 500\n",
      "criterion: gini\n",
      "Mean Cross-Val Score: 0.5486344930789375\n",
      "Train Mean Accuracy: 0.7257001647446458\n",
      "Test Mean Accuracy: 0.7182866556836903\n",
      "Recall Score: 0.778125\n",
      "Precision Score: 0.7134670487106017\n",
      "F1 score: 0.7443946188340808\n"
     ]
    },
    {
     "data": {
      "image/png": "[encoded data removed]",
      "text/plain": [
       "<Figure size 432x288 with 1 Axes>"
      ]
     },
     "metadata": {
      "needs_background": "light"
     },
     "output_type": "display_data"
    },
    {
     "data": {
      "image/png": "[encoded data removed]",
      "text/plain": [
       "<Figure size 432x288 with 2 Axes>"
      ]
     },
     "metadata": {
      "needs_background": "light"
     },
     "output_type": "display_data"
    },
    {
     "data": {
      "image/png": "[encoded data removed]",
      "text/plain": [
       "<Figure size 432x288 with 2 Axes>"
      ]
     },
     "metadata": {
      "needs_background": "light"
     },
     "output_type": "display_data"
    }
   ],
   "source": [
    "predictions,probabilities=random_forest(train_pca,test_pca,y_train,y_test)"
   ]
  },
  {
   "cell_type": "code",
   "execution_count": 28,
   "metadata": {
    "ExecuteTime": {
     "end_time": "2022-01-25T23:03:09.779480Z",
     "start_time": "2022-01-25T23:03:09.711548Z"
    }
   },
   "outputs": [
    {
     "data": {
      "text/plain": [
       "(0.7754677754677755, 373)"
      ]
     },
     "execution_count": 28,
     "metadata": {},
     "output_type": "execute_result"
    }
   ],
   "source": [
    "new_acc(probabilities)"
   ]
  }
 ],
 "metadata": {
  "kernelspec": {
   "display_name": "Python (learn-env)",
   "language": "python",
   "name": "learn-env"
  },
  "language_info": {
   "codemirror_mode": {
    "name": "ipython",
    "version": 3
   },
   "file_extension": ".py",
   "mimetype": "text/x-python",
   "name": "python",
   "nbconvert_exporter": "python",
   "pygments_lexer": "ipython3",
   "version": "3.8.5"
  },
  "notify_time": "30"
 },
 "nbformat": 4,
 "nbformat_minor": 4
}

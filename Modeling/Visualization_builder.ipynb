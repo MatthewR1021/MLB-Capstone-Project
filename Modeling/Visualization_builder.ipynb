{
 "cells": [
  {
   "cell_type": "code",
   "execution_count": 1,
   "metadata": {
    "ExecuteTime": {
     "end_time": "2022-01-19T18:53:52.334491Z",
     "start_time": "2022-01-19T18:53:49.136354Z"
    }
   },
   "outputs": [],
   "source": [
    "import pandas as pd\n",
    "import numpy as np\n",
    "import matplotlib.pyplot as plt\n",
    "import seaborn as sns"
   ]
  },
  {
   "cell_type": "markdown",
   "metadata": {},
   "source": [
    "Using all features, adjusted accuracy score dropping games between 40-60% confidence. Playoffs training on that seasons regular season."
   ]
  },
  {
   "cell_type": "code",
   "execution_count": 2,
   "metadata": {
    "ExecuteTime": {
     "end_time": "2022-01-19T19:47:17.499881Z",
     "start_time": "2022-01-19T19:47:17.485024Z"
    }
   },
   "outputs": [],
   "source": [
    "Accuracy_scores_log=[61.3,63.6,75.0,66.7,70.0]\n",
    "Accuracy_scores_knn=[61.1,63.6,66.7,71.4,75.0]\n",
    "Accuracy_scores_rf=[65.2,85.7,71.4,100.0,100.0]\n",
    "year_yof=[2016,2017,2018,2019,2020]"
   ]
  },
  {
   "cell_type": "code",
   "execution_count": null,
   "metadata": {},
   "outputs": [],
   "source": []
  }
 ],
 "metadata": {
  "kernelspec": {
   "display_name": "Python (learn-env)",
   "language": "python",
   "name": "learn-env"
  },
  "language_info": {
   "codemirror_mode": {
    "name": "ipython",
    "version": 3
   },
   "file_extension": ".py",
   "mimetype": "text/x-python",
   "name": "python",
   "nbconvert_exporter": "python",
   "pygments_lexer": "ipython3",
   "version": "3.8.5"
  }
 },
 "nbformat": 4,
 "nbformat_minor": 4
}

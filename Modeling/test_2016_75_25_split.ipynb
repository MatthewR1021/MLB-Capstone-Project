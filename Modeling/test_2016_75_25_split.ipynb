{
 "cells": [
  {
   "cell_type": "code",
   "execution_count": 1,
   "metadata": {
    "ExecuteTime": {
     "end_time": "2022-01-20T20:56:29.773431Z",
     "start_time": "2022-01-20T20:56:22.334963Z"
    }
   },
   "outputs": [],
   "source": [
    "# Import the relevant packages\n",
    "import pandas as pd\n",
    "import numpy as np\n",
    "import matplotlib.pyplot as plt\n",
    "from sklearn.linear_model import LogisticRegression\n",
    "from sklearn.model_selection import cross_val_score, train_test_split,GridSearchCV\n",
    "from sklearn.metrics import plot_confusion_matrix, plot_roc_curve, accuracy_score, \\\n",
    "recall_score, precision_score, f1_score\n",
    "from sklearn.neighbors import KNeighborsClassifier\n",
    "from sklearn.preprocessing import StandardScaler\n",
    "from sklearn.tree import DecisionTreeClassifier, plot_tree\n",
    "from sklearn.ensemble import BaggingClassifier, RandomForestClassifier\n",
    "from sklearn.ensemble import AdaBoostClassifier, GradientBoostingClassifier\n",
    "from xgboost import XGBClassifier\n",
    "import statsmodels.api as sm\n",
    "from sklearn.feature_selection import RFECV\n",
    "from sklearn.decomposition import PCA\n",
    "import warnings\n",
    "warnings.filterwarnings(\"ignore\")"
   ]
  },
  {
   "cell_type": "code",
   "execution_count": 2,
   "metadata": {
    "ExecuteTime": {
     "end_time": "2022-01-20T20:56:29.864194Z",
     "start_time": "2022-01-20T20:56:29.819105Z"
    }
   },
   "outputs": [],
   "source": [
    "#Import functions notebook and load data set here\n",
    "import sys\n",
    "sys.path.append(\"../\")\n",
    "from Modeling_functions import *"
   ]
  },
  {
   "cell_type": "code",
   "execution_count": 3,
   "metadata": {
    "ExecuteTime": {
     "end_time": "2022-01-20T20:56:30.260602Z",
     "start_time": "2022-01-20T20:56:29.873976Z"
    }
   },
   "outputs": [],
   "source": [
    "df=pd.read_csv('../data/Season_2016.csv')"
   ]
  },
  {
   "cell_type": "code",
   "execution_count": 4,
   "metadata": {
    "ExecuteTime": {
     "end_time": "2022-01-20T20:56:30.306139Z",
     "start_time": "2022-01-20T20:56:30.271120Z"
    }
   },
   "outputs": [],
   "source": [
    "df.drop(['Unnamed: 0'],axis=1,inplace=True)"
   ]
  },
  {
   "cell_type": "code",
   "execution_count": 5,
   "metadata": {
    "ExecuteTime": {
     "end_time": "2022-01-20T20:56:30.329328Z",
     "start_time": "2022-01-20T20:56:30.319490Z"
    }
   },
   "outputs": [],
   "source": [
    "n = 75\n",
    "df=df.head(int(len(df)*(n/100)))"
   ]
  },
  {
   "cell_type": "code",
   "execution_count": 6,
   "metadata": {
    "ExecuteTime": {
     "end_time": "2022-01-20T20:56:30.352070Z",
     "start_time": "2022-01-20T20:56:30.335032Z"
    }
   },
   "outputs": [],
   "source": [
    "n = 25\n",
    "df2=df.tail(int(len(df)*(n/100)))"
   ]
  },
  {
   "cell_type": "markdown",
   "metadata": {},
   "source": [
    "Find and eliminate NaNs"
   ]
  },
  {
   "cell_type": "code",
   "execution_count": 7,
   "metadata": {
    "ExecuteTime": {
     "end_time": "2022-01-20T20:56:30.368091Z",
     "start_time": "2022-01-20T20:56:30.358647Z"
    }
   },
   "outputs": [],
   "source": [
    "df=df.drop(['H_win_probability_subtracted','A_win_probability_subtracted','A_Opp_win_probability_subtracted',\n",
    "          'H_Opp_win_probability_subtracted'],axis=1)"
   ]
  },
  {
   "cell_type": "code",
   "execution_count": 8,
   "metadata": {
    "ExecuteTime": {
     "end_time": "2022-01-20T20:56:30.397516Z",
     "start_time": "2022-01-20T20:56:30.377903Z"
    },
    "scrolled": true
   },
   "outputs": [],
   "source": [
    "df2=df2.drop(['H_win_probability_subtracted','A_win_probability_subtracted','A_Opp_win_probability_subtracted',\n",
    "         'H_Opp_win_probability_subtracted'],axis=1)"
   ]
  },
  {
   "cell_type": "code",
   "execution_count": 9,
   "metadata": {
    "ExecuteTime": {
     "end_time": "2022-01-20T20:56:30.446032Z",
     "start_time": "2022-01-20T20:56:30.406832Z"
    }
   },
   "outputs": [
    {
     "data": {
      "text/plain": [
       "1    0.533773\n",
       "0    0.466227\n",
       "Name: home_win, dtype: float64"
      ]
     },
     "execution_count": 9,
     "metadata": {},
     "output_type": "execute_result"
    }
   ],
   "source": [
    "df.home_win.value_counts(normalize=True)"
   ]
  },
  {
   "cell_type": "code",
   "execution_count": 10,
   "metadata": {
    "ExecuteTime": {
     "end_time": "2022-01-20T20:56:30.477756Z",
     "start_time": "2022-01-20T20:56:30.464671Z"
    }
   },
   "outputs": [
    {
     "data": {
      "text/plain": [
       "1    0.562637\n",
       "0    0.437363\n",
       "Name: home_win, dtype: float64"
      ]
     },
     "execution_count": 10,
     "metadata": {},
     "output_type": "execute_result"
    }
   ],
   "source": [
    "df2.home_win.value_counts(normalize=True)"
   ]
  },
  {
   "cell_type": "code",
   "execution_count": 11,
   "metadata": {
    "ExecuteTime": {
     "end_time": "2022-01-20T20:56:32.239200Z",
     "start_time": "2022-01-20T20:56:32.174561Z"
    }
   },
   "outputs": [
    {
     "data": {
      "text/html": [
       "<div>\n",
       "<style scoped>\n",
       "    .dataframe tbody tr th:only-of-type {\n",
       "        vertical-align: middle;\n",
       "    }\n",
       "\n",
       "    .dataframe tbody tr th {\n",
       "        vertical-align: top;\n",
       "    }\n",
       "\n",
       "    .dataframe thead th {\n",
       "        text-align: right;\n",
       "    }\n",
       "</style>\n",
       "<table border=\"1\" class=\"dataframe\">\n",
       "  <thead>\n",
       "    <tr style=\"text-align: right;\">\n",
       "      <th></th>\n",
       "      <th>H_name</th>\n",
       "      <th>H_at_bats</th>\n",
       "      <th>H_runs</th>\n",
       "      <th>H_hits</th>\n",
       "      <th>H_rbi</th>\n",
       "      <th>H_earned_runs</th>\n",
       "      <th>H_bases_on_balls</th>\n",
       "      <th>H_strikeouts</th>\n",
       "      <th>H_plate_appearances</th>\n",
       "      <th>H_batting_average</th>\n",
       "      <th>...</th>\n",
       "      <th>A_Opp_grounded_balls</th>\n",
       "      <th>A_Opp_fly_balls</th>\n",
       "      <th>A_Opp_line_drives</th>\n",
       "      <th>A_Opp_unknown_bat_type</th>\n",
       "      <th>A_Opp_game_score</th>\n",
       "      <th>A_Opp_inherited_runners</th>\n",
       "      <th>A_Opp_inherited_score</th>\n",
       "      <th>A_Opp_win_probability_by_pitcher</th>\n",
       "      <th>A_Opp_base_out_runs_saved</th>\n",
       "      <th>home_win</th>\n",
       "    </tr>\n",
       "  </thead>\n",
       "  <tbody>\n",
       "    <tr>\n",
       "      <th>1366</th>\n",
       "      <td>SEA</td>\n",
       "      <td>34.462963</td>\n",
       "      <td>4.740741</td>\n",
       "      <td>8.925926</td>\n",
       "      <td>4.537037</td>\n",
       "      <td>4.618457</td>\n",
       "      <td>3.123457</td>\n",
       "      <td>7.950617</td>\n",
       "      <td>38.438272</td>\n",
       "      <td>0.252698</td>\n",
       "      <td>...</td>\n",
       "      <td>12.314815</td>\n",
       "      <td>14.179012</td>\n",
       "      <td>6.648148</td>\n",
       "      <td>0.006173</td>\n",
       "      <td>51.401235</td>\n",
       "      <td>1.308176</td>\n",
       "      <td>0.364780</td>\n",
       "      <td>0.017660</td>\n",
       "      <td>-0.043210</td>\n",
       "      <td>0</td>\n",
       "    </tr>\n",
       "    <tr>\n",
       "      <th>1367</th>\n",
       "      <td>OAK</td>\n",
       "      <td>33.950617</td>\n",
       "      <td>4.030864</td>\n",
       "      <td>8.345679</td>\n",
       "      <td>3.913580</td>\n",
       "      <td>3.778580</td>\n",
       "      <td>2.728395</td>\n",
       "      <td>7.067901</td>\n",
       "      <td>37.172840</td>\n",
       "      <td>0.239728</td>\n",
       "      <td>...</td>\n",
       "      <td>12.598765</td>\n",
       "      <td>13.808642</td>\n",
       "      <td>6.240741</td>\n",
       "      <td>0.006173</td>\n",
       "      <td>50.950617</td>\n",
       "      <td>1.543210</td>\n",
       "      <td>0.493827</td>\n",
       "      <td>0.008802</td>\n",
       "      <td>-0.098765</td>\n",
       "      <td>0</td>\n",
       "    </tr>\n",
       "    <tr>\n",
       "      <th>1368</th>\n",
       "      <td>CIN</td>\n",
       "      <td>33.870370</td>\n",
       "      <td>4.419753</td>\n",
       "      <td>8.660494</td>\n",
       "      <td>4.185185</td>\n",
       "      <td>4.202778</td>\n",
       "      <td>2.790123</td>\n",
       "      <td>7.925926</td>\n",
       "      <td>37.617284</td>\n",
       "      <td>0.250488</td>\n",
       "      <td>...</td>\n",
       "      <td>13.129630</td>\n",
       "      <td>14.141975</td>\n",
       "      <td>7.154321</td>\n",
       "      <td>0.006173</td>\n",
       "      <td>52.814815</td>\n",
       "      <td>1.456250</td>\n",
       "      <td>0.506250</td>\n",
       "      <td>0.056568</td>\n",
       "      <td>0.306173</td>\n",
       "      <td>1</td>\n",
       "    </tr>\n",
       "    <tr>\n",
       "      <th>1369</th>\n",
       "      <td>SDP</td>\n",
       "      <td>33.450617</td>\n",
       "      <td>4.234568</td>\n",
       "      <td>7.870370</td>\n",
       "      <td>4.037037</td>\n",
       "      <td>4.000432</td>\n",
       "      <td>2.771605</td>\n",
       "      <td>9.259259</td>\n",
       "      <td>37.043210</td>\n",
       "      <td>0.229815</td>\n",
       "      <td>...</td>\n",
       "      <td>12.358025</td>\n",
       "      <td>13.975309</td>\n",
       "      <td>6.709877</td>\n",
       "      <td>0.006173</td>\n",
       "      <td>50.462963</td>\n",
       "      <td>1.628931</td>\n",
       "      <td>0.572327</td>\n",
       "      <td>0.020198</td>\n",
       "      <td>-0.025309</td>\n",
       "      <td>1</td>\n",
       "    </tr>\n",
       "    <tr>\n",
       "      <th>1370</th>\n",
       "      <td>NYY</td>\n",
       "      <td>33.691358</td>\n",
       "      <td>4.197531</td>\n",
       "      <td>8.506173</td>\n",
       "      <td>3.993827</td>\n",
       "      <td>4.063457</td>\n",
       "      <td>2.932099</td>\n",
       "      <td>7.333333</td>\n",
       "      <td>37.401235</td>\n",
       "      <td>0.246086</td>\n",
       "      <td>...</td>\n",
       "      <td>11.037037</td>\n",
       "      <td>14.623457</td>\n",
       "      <td>5.901235</td>\n",
       "      <td>0.000000</td>\n",
       "      <td>44.777778</td>\n",
       "      <td>1.796296</td>\n",
       "      <td>0.537037</td>\n",
       "      <td>-0.052963</td>\n",
       "      <td>-0.850617</td>\n",
       "      <td>1</td>\n",
       "    </tr>\n",
       "    <tr>\n",
       "      <th>...</th>\n",
       "      <td>...</td>\n",
       "      <td>...</td>\n",
       "      <td>...</td>\n",
       "      <td>...</td>\n",
       "      <td>...</td>\n",
       "      <td>...</td>\n",
       "      <td>...</td>\n",
       "      <td>...</td>\n",
       "      <td>...</td>\n",
       "      <td>...</td>\n",
       "      <td>...</td>\n",
       "      <td>...</td>\n",
       "      <td>...</td>\n",
       "      <td>...</td>\n",
       "      <td>...</td>\n",
       "      <td>...</td>\n",
       "      <td>...</td>\n",
       "      <td>...</td>\n",
       "      <td>...</td>\n",
       "      <td>...</td>\n",
       "      <td>...</td>\n",
       "    </tr>\n",
       "    <tr>\n",
       "      <th>1816</th>\n",
       "      <td>CLE</td>\n",
       "      <td>34.062112</td>\n",
       "      <td>4.826087</td>\n",
       "      <td>8.913043</td>\n",
       "      <td>4.552795</td>\n",
       "      <td>4.610807</td>\n",
       "      <td>3.298137</td>\n",
       "      <td>7.739130</td>\n",
       "      <td>38.229814</td>\n",
       "      <td>0.258199</td>\n",
       "      <td>...</td>\n",
       "      <td>12.598765</td>\n",
       "      <td>13.808642</td>\n",
       "      <td>6.240741</td>\n",
       "      <td>0.006173</td>\n",
       "      <td>50.950617</td>\n",
       "      <td>1.543210</td>\n",
       "      <td>0.493827</td>\n",
       "      <td>0.008802</td>\n",
       "      <td>-0.098765</td>\n",
       "      <td>1</td>\n",
       "    </tr>\n",
       "    <tr>\n",
       "      <th>1817</th>\n",
       "      <td>DET</td>\n",
       "      <td>34.322981</td>\n",
       "      <td>4.658385</td>\n",
       "      <td>9.167702</td>\n",
       "      <td>4.465839</td>\n",
       "      <td>4.594472</td>\n",
       "      <td>3.062112</td>\n",
       "      <td>8.093168</td>\n",
       "      <td>38.055901</td>\n",
       "      <td>0.262335</td>\n",
       "      <td>...</td>\n",
       "      <td>11.037037</td>\n",
       "      <td>14.623457</td>\n",
       "      <td>5.901235</td>\n",
       "      <td>0.000000</td>\n",
       "      <td>44.777778</td>\n",
       "      <td>1.796296</td>\n",
       "      <td>0.537037</td>\n",
       "      <td>-0.052963</td>\n",
       "      <td>-0.850617</td>\n",
       "      <td>0</td>\n",
       "    </tr>\n",
       "    <tr>\n",
       "      <th>1818</th>\n",
       "      <td>TBR</td>\n",
       "      <td>33.833333</td>\n",
       "      <td>4.148148</td>\n",
       "      <td>8.228395</td>\n",
       "      <td>3.993827</td>\n",
       "      <td>4.000864</td>\n",
       "      <td>2.771605</td>\n",
       "      <td>9.148148</td>\n",
       "      <td>37.320988</td>\n",
       "      <td>0.237667</td>\n",
       "      <td>...</td>\n",
       "      <td>12.759259</td>\n",
       "      <td>14.685185</td>\n",
       "      <td>6.975309</td>\n",
       "      <td>0.012346</td>\n",
       "      <td>48.746914</td>\n",
       "      <td>1.320755</td>\n",
       "      <td>0.452830</td>\n",
       "      <td>-0.057741</td>\n",
       "      <td>-0.144444</td>\n",
       "      <td>0</td>\n",
       "    </tr>\n",
       "    <tr>\n",
       "      <th>1819</th>\n",
       "      <td>ATL</td>\n",
       "      <td>34.248447</td>\n",
       "      <td>4.031056</td>\n",
       "      <td>8.720497</td>\n",
       "      <td>3.819876</td>\n",
       "      <td>3.707019</td>\n",
       "      <td>3.118012</td>\n",
       "      <td>7.701863</td>\n",
       "      <td>38.459627</td>\n",
       "      <td>0.250807</td>\n",
       "      <td>...</td>\n",
       "      <td>11.327160</td>\n",
       "      <td>13.641975</td>\n",
       "      <td>6.604938</td>\n",
       "      <td>0.000000</td>\n",
       "      <td>48.685185</td>\n",
       "      <td>1.425000</td>\n",
       "      <td>0.462500</td>\n",
       "      <td>-0.027525</td>\n",
       "      <td>-0.255556</td>\n",
       "      <td>0</td>\n",
       "    </tr>\n",
       "    <tr>\n",
       "      <th>1820</th>\n",
       "      <td>CHW</td>\n",
       "      <td>34.259259</td>\n",
       "      <td>4.234568</td>\n",
       "      <td>8.814815</td>\n",
       "      <td>4.049383</td>\n",
       "      <td>4.062099</td>\n",
       "      <td>2.808642</td>\n",
       "      <td>7.932099</td>\n",
       "      <td>37.845679</td>\n",
       "      <td>0.252031</td>\n",
       "      <td>...</td>\n",
       "      <td>13.012346</td>\n",
       "      <td>14.413580</td>\n",
       "      <td>7.037037</td>\n",
       "      <td>0.006173</td>\n",
       "      <td>52.487654</td>\n",
       "      <td>1.253165</td>\n",
       "      <td>0.443038</td>\n",
       "      <td>0.035278</td>\n",
       "      <td>0.387037</td>\n",
       "      <td>0</td>\n",
       "    </tr>\n",
       "  </tbody>\n",
       "</table>\n",
       "<p>455 rows × 139 columns</p>\n",
       "</div>"
      ],
      "text/plain": [
       "     H_name  H_at_bats    H_runs    H_hits     H_rbi  H_earned_runs  \\\n",
       "1366    SEA  34.462963  4.740741  8.925926  4.537037       4.618457   \n",
       "1367    OAK  33.950617  4.030864  8.345679  3.913580       3.778580   \n",
       "1368    CIN  33.870370  4.419753  8.660494  4.185185       4.202778   \n",
       "1369    SDP  33.450617  4.234568  7.870370  4.037037       4.000432   \n",
       "1370    NYY  33.691358  4.197531  8.506173  3.993827       4.063457   \n",
       "...     ...        ...       ...       ...       ...            ...   \n",
       "1816    CLE  34.062112  4.826087  8.913043  4.552795       4.610807   \n",
       "1817    DET  34.322981  4.658385  9.167702  4.465839       4.594472   \n",
       "1818    TBR  33.833333  4.148148  8.228395  3.993827       4.000864   \n",
       "1819    ATL  34.248447  4.031056  8.720497  3.819876       3.707019   \n",
       "1820    CHW  34.259259  4.234568  8.814815  4.049383       4.062099   \n",
       "\n",
       "      H_bases_on_balls  H_strikeouts  H_plate_appearances  H_batting_average  \\\n",
       "1366          3.123457      7.950617            38.438272           0.252698   \n",
       "1367          2.728395      7.067901            37.172840           0.239728   \n",
       "1368          2.790123      7.925926            37.617284           0.250488   \n",
       "1369          2.771605      9.259259            37.043210           0.229815   \n",
       "1370          2.932099      7.333333            37.401235           0.246086   \n",
       "...                ...           ...                  ...                ...   \n",
       "1816          3.298137      7.739130            38.229814           0.258199   \n",
       "1817          3.062112      8.093168            38.055901           0.262335   \n",
       "1818          2.771605      9.148148            37.320988           0.237667   \n",
       "1819          3.118012      7.701863            38.459627           0.250807   \n",
       "1820          2.808642      7.932099            37.845679           0.252031   \n",
       "\n",
       "      ...  A_Opp_grounded_balls  A_Opp_fly_balls  A_Opp_line_drives  \\\n",
       "1366  ...             12.314815        14.179012           6.648148   \n",
       "1367  ...             12.598765        13.808642           6.240741   \n",
       "1368  ...             13.129630        14.141975           7.154321   \n",
       "1369  ...             12.358025        13.975309           6.709877   \n",
       "1370  ...             11.037037        14.623457           5.901235   \n",
       "...   ...                   ...              ...                ...   \n",
       "1816  ...             12.598765        13.808642           6.240741   \n",
       "1817  ...             11.037037        14.623457           5.901235   \n",
       "1818  ...             12.759259        14.685185           6.975309   \n",
       "1819  ...             11.327160        13.641975           6.604938   \n",
       "1820  ...             13.012346        14.413580           7.037037   \n",
       "\n",
       "      A_Opp_unknown_bat_type  A_Opp_game_score  A_Opp_inherited_runners  \\\n",
       "1366                0.006173         51.401235                 1.308176   \n",
       "1367                0.006173         50.950617                 1.543210   \n",
       "1368                0.006173         52.814815                 1.456250   \n",
       "1369                0.006173         50.462963                 1.628931   \n",
       "1370                0.000000         44.777778                 1.796296   \n",
       "...                      ...               ...                      ...   \n",
       "1816                0.006173         50.950617                 1.543210   \n",
       "1817                0.000000         44.777778                 1.796296   \n",
       "1818                0.012346         48.746914                 1.320755   \n",
       "1819                0.000000         48.685185                 1.425000   \n",
       "1820                0.006173         52.487654                 1.253165   \n",
       "\n",
       "      A_Opp_inherited_score  A_Opp_win_probability_by_pitcher  \\\n",
       "1366               0.364780                          0.017660   \n",
       "1367               0.493827                          0.008802   \n",
       "1368               0.506250                          0.056568   \n",
       "1369               0.572327                          0.020198   \n",
       "1370               0.537037                         -0.052963   \n",
       "...                     ...                               ...   \n",
       "1816               0.493827                          0.008802   \n",
       "1817               0.537037                         -0.052963   \n",
       "1818               0.452830                         -0.057741   \n",
       "1819               0.462500                         -0.027525   \n",
       "1820               0.443038                          0.035278   \n",
       "\n",
       "      A_Opp_base_out_runs_saved  home_win  \n",
       "1366                  -0.043210         0  \n",
       "1367                  -0.098765         0  \n",
       "1368                   0.306173         1  \n",
       "1369                  -0.025309         1  \n",
       "1370                  -0.850617         1  \n",
       "...                         ...       ...  \n",
       "1816                  -0.098765         1  \n",
       "1817                  -0.850617         0  \n",
       "1818                  -0.144444         0  \n",
       "1819                  -0.255556         0  \n",
       "1820                   0.387037         0  \n",
       "\n",
       "[455 rows x 139 columns]"
      ]
     },
     "execution_count": 11,
     "metadata": {},
     "output_type": "execute_result"
    }
   ],
   "source": [
    "#df2.drop_duplicates(inplace=True)\n",
    "df2"
   ]
  },
  {
   "cell_type": "code",
   "execution_count": 12,
   "metadata": {
    "ExecuteTime": {
     "end_time": "2022-01-20T20:56:34.015029Z",
     "start_time": "2022-01-20T20:56:33.933212Z"
    }
   },
   "outputs": [
    {
     "data": {
      "text/html": [
       "<div>\n",
       "<style scoped>\n",
       "    .dataframe tbody tr th:only-of-type {\n",
       "        vertical-align: middle;\n",
       "    }\n",
       "\n",
       "    .dataframe tbody tr th {\n",
       "        vertical-align: top;\n",
       "    }\n",
       "\n",
       "    .dataframe thead th {\n",
       "        text-align: right;\n",
       "    }\n",
       "</style>\n",
       "<table border=\"1\" class=\"dataframe\">\n",
       "  <thead>\n",
       "    <tr style=\"text-align: right;\">\n",
       "      <th></th>\n",
       "      <th>H_name</th>\n",
       "      <th>H_at_bats</th>\n",
       "      <th>H_runs</th>\n",
       "      <th>H_hits</th>\n",
       "      <th>H_rbi</th>\n",
       "      <th>H_earned_runs</th>\n",
       "      <th>H_bases_on_balls</th>\n",
       "      <th>H_strikeouts</th>\n",
       "      <th>H_plate_appearances</th>\n",
       "      <th>H_batting_average</th>\n",
       "      <th>...</th>\n",
       "      <th>A_Opp_grounded_balls</th>\n",
       "      <th>A_Opp_fly_balls</th>\n",
       "      <th>A_Opp_line_drives</th>\n",
       "      <th>A_Opp_unknown_bat_type</th>\n",
       "      <th>A_Opp_game_score</th>\n",
       "      <th>A_Opp_inherited_runners</th>\n",
       "      <th>A_Opp_inherited_score</th>\n",
       "      <th>A_Opp_win_probability_by_pitcher</th>\n",
       "      <th>A_Opp_base_out_runs_saved</th>\n",
       "      <th>home_win</th>\n",
       "    </tr>\n",
       "  </thead>\n",
       "  <tbody>\n",
       "    <tr>\n",
       "      <th>0</th>\n",
       "      <td>PIT</td>\n",
       "      <td>34.209877</td>\n",
       "      <td>4.500000</td>\n",
       "      <td>8.802469</td>\n",
       "      <td>4.296296</td>\n",
       "      <td>4.191914</td>\n",
       "      <td>3.462963</td>\n",
       "      <td>8.234568</td>\n",
       "      <td>38.648148</td>\n",
       "      <td>0.252074</td>\n",
       "      <td>...</td>\n",
       "      <td>13.777778</td>\n",
       "      <td>13.111111</td>\n",
       "      <td>6.827160</td>\n",
       "      <td>0.006173</td>\n",
       "      <td>51.438272</td>\n",
       "      <td>1.440994</td>\n",
       "      <td>0.515528</td>\n",
       "      <td>-0.040438</td>\n",
       "      <td>-0.433333</td>\n",
       "      <td>1</td>\n",
       "    </tr>\n",
       "    <tr>\n",
       "      <th>1</th>\n",
       "      <td>KCR</td>\n",
       "      <td>34.271605</td>\n",
       "      <td>4.166667</td>\n",
       "      <td>8.950617</td>\n",
       "      <td>3.950617</td>\n",
       "      <td>3.969568</td>\n",
       "      <td>2.358025</td>\n",
       "      <td>7.555556</td>\n",
       "      <td>37.358025</td>\n",
       "      <td>0.256889</td>\n",
       "      <td>...</td>\n",
       "      <td>12.104938</td>\n",
       "      <td>13.851852</td>\n",
       "      <td>6.907407</td>\n",
       "      <td>0.000000</td>\n",
       "      <td>52.382716</td>\n",
       "      <td>1.493750</td>\n",
       "      <td>0.318750</td>\n",
       "      <td>0.035586</td>\n",
       "      <td>0.180864</td>\n",
       "      <td>1</td>\n",
       "    </tr>\n",
       "    <tr>\n",
       "      <th>2</th>\n",
       "      <td>TBR</td>\n",
       "      <td>33.833333</td>\n",
       "      <td>4.148148</td>\n",
       "      <td>8.228395</td>\n",
       "      <td>3.993827</td>\n",
       "      <td>4.000864</td>\n",
       "      <td>2.771605</td>\n",
       "      <td>9.148148</td>\n",
       "      <td>37.320988</td>\n",
       "      <td>0.237667</td>\n",
       "      <td>...</td>\n",
       "      <td>12.598765</td>\n",
       "      <td>13.808642</td>\n",
       "      <td>6.240741</td>\n",
       "      <td>0.006173</td>\n",
       "      <td>50.950617</td>\n",
       "      <td>1.543210</td>\n",
       "      <td>0.493827</td>\n",
       "      <td>0.008802</td>\n",
       "      <td>-0.098765</td>\n",
       "      <td>0</td>\n",
       "    </tr>\n",
       "    <tr>\n",
       "      <th>3</th>\n",
       "      <td>OAK</td>\n",
       "      <td>33.950617</td>\n",
       "      <td>4.030864</td>\n",
       "      <td>8.345679</td>\n",
       "      <td>3.913580</td>\n",
       "      <td>3.778580</td>\n",
       "      <td>2.728395</td>\n",
       "      <td>7.067901</td>\n",
       "      <td>37.172840</td>\n",
       "      <td>0.239728</td>\n",
       "      <td>...</td>\n",
       "      <td>11.833333</td>\n",
       "      <td>14.907407</td>\n",
       "      <td>7.006173</td>\n",
       "      <td>0.006173</td>\n",
       "      <td>51.216049</td>\n",
       "      <td>1.367089</td>\n",
       "      <td>0.360759</td>\n",
       "      <td>0.009222</td>\n",
       "      <td>0.217284</td>\n",
       "      <td>0</td>\n",
       "    </tr>\n",
       "    <tr>\n",
       "      <th>4</th>\n",
       "      <td>ARI</td>\n",
       "      <td>34.969136</td>\n",
       "      <td>4.641975</td>\n",
       "      <td>9.129630</td>\n",
       "      <td>4.376543</td>\n",
       "      <td>4.270370</td>\n",
       "      <td>2.858025</td>\n",
       "      <td>8.808642</td>\n",
       "      <td>38.641975</td>\n",
       "      <td>0.254932</td>\n",
       "      <td>...</td>\n",
       "      <td>13.969136</td>\n",
       "      <td>13.481481</td>\n",
       "      <td>7.308642</td>\n",
       "      <td>0.006173</td>\n",
       "      <td>47.030864</td>\n",
       "      <td>1.559006</td>\n",
       "      <td>0.552795</td>\n",
       "      <td>-0.033364</td>\n",
       "      <td>-0.499383</td>\n",
       "      <td>0</td>\n",
       "    </tr>\n",
       "  </tbody>\n",
       "</table>\n",
       "<p>5 rows × 139 columns</p>\n",
       "</div>"
      ],
      "text/plain": [
       "  H_name  H_at_bats    H_runs    H_hits     H_rbi  H_earned_runs  \\\n",
       "0    PIT  34.209877  4.500000  8.802469  4.296296       4.191914   \n",
       "1    KCR  34.271605  4.166667  8.950617  3.950617       3.969568   \n",
       "2    TBR  33.833333  4.148148  8.228395  3.993827       4.000864   \n",
       "3    OAK  33.950617  4.030864  8.345679  3.913580       3.778580   \n",
       "4    ARI  34.969136  4.641975  9.129630  4.376543       4.270370   \n",
       "\n",
       "   H_bases_on_balls  H_strikeouts  H_plate_appearances  H_batting_average  \\\n",
       "0          3.462963      8.234568            38.648148           0.252074   \n",
       "1          2.358025      7.555556            37.358025           0.256889   \n",
       "2          2.771605      9.148148            37.320988           0.237667   \n",
       "3          2.728395      7.067901            37.172840           0.239728   \n",
       "4          2.858025      8.808642            38.641975           0.254932   \n",
       "\n",
       "   ...  A_Opp_grounded_balls  A_Opp_fly_balls  A_Opp_line_drives  \\\n",
       "0  ...             13.777778        13.111111           6.827160   \n",
       "1  ...             12.104938        13.851852           6.907407   \n",
       "2  ...             12.598765        13.808642           6.240741   \n",
       "3  ...             11.833333        14.907407           7.006173   \n",
       "4  ...             13.969136        13.481481           7.308642   \n",
       "\n",
       "   A_Opp_unknown_bat_type  A_Opp_game_score  A_Opp_inherited_runners  \\\n",
       "0                0.006173         51.438272                 1.440994   \n",
       "1                0.000000         52.382716                 1.493750   \n",
       "2                0.006173         50.950617                 1.543210   \n",
       "3                0.006173         51.216049                 1.367089   \n",
       "4                0.006173         47.030864                 1.559006   \n",
       "\n",
       "   A_Opp_inherited_score  A_Opp_win_probability_by_pitcher  \\\n",
       "0               0.515528                         -0.040438   \n",
       "1               0.318750                          0.035586   \n",
       "2               0.493827                          0.008802   \n",
       "3               0.360759                          0.009222   \n",
       "4               0.552795                         -0.033364   \n",
       "\n",
       "   A_Opp_base_out_runs_saved  home_win  \n",
       "0                  -0.433333         1  \n",
       "1                   0.180864         1  \n",
       "2                  -0.098765         0  \n",
       "3                   0.217284         0  \n",
       "4                  -0.499383         0  \n",
       "\n",
       "[5 rows x 139 columns]"
      ]
     },
     "execution_count": 12,
     "metadata": {},
     "output_type": "execute_result"
    }
   ],
   "source": [
    "df.head()"
   ]
  },
  {
   "cell_type": "code",
   "execution_count": 13,
   "metadata": {
    "ExecuteTime": {
     "end_time": "2022-01-20T20:56:35.599617Z",
     "start_time": "2022-01-20T20:56:35.578644Z"
    }
   },
   "outputs": [],
   "source": [
    "#for col in X_train.columns:\n",
    "    #print(col)"
   ]
  },
  {
   "cell_type": "code",
   "execution_count": 14,
   "metadata": {
    "ExecuteTime": {
     "end_time": "2022-01-20T20:56:35.878650Z",
     "start_time": "2022-01-20T20:56:35.874005Z"
    }
   },
   "outputs": [],
   "source": [
    "zero_importance_list=['H_runs','H_slugging_percentage','H_on_base_plus','H_base_out_runs_added','H_putouts',\n",
    "                     'H_Opp_on_base_percentage','A_batting_average','A_win_probability_for_offensive_player',\n",
    "                     'A_putouts']"
   ]
  },
  {
   "cell_type": "code",
   "execution_count": 15,
   "metadata": {
    "ExecuteTime": {
     "end_time": "2022-01-20T20:56:36.993819Z",
     "start_time": "2022-01-20T20:56:36.983775Z"
    }
   },
   "outputs": [],
   "source": [
    "tiny_importance_list=['H_at_bats','H_win_probability_added','H_fly_balls']"
   ]
  },
  {
   "cell_type": "code",
   "execution_count": 16,
   "metadata": {
    "ExecuteTime": {
     "end_time": "2022-01-20T20:56:37.332707Z",
     "start_time": "2022-01-20T20:56:37.280728Z"
    },
    "scrolled": true
   },
   "outputs": [
    {
     "data": {
      "text/html": [
       "<div>\n",
       "<style scoped>\n",
       "    .dataframe tbody tr th:only-of-type {\n",
       "        vertical-align: middle;\n",
       "    }\n",
       "\n",
       "    .dataframe tbody tr th {\n",
       "        vertical-align: top;\n",
       "    }\n",
       "\n",
       "    .dataframe thead th {\n",
       "        text-align: right;\n",
       "    }\n",
       "</style>\n",
       "<table border=\"1\" class=\"dataframe\">\n",
       "  <thead>\n",
       "    <tr style=\"text-align: right;\">\n",
       "      <th></th>\n",
       "      <th>H_name</th>\n",
       "      <th>H_at_bats</th>\n",
       "      <th>H_runs</th>\n",
       "      <th>H_hits</th>\n",
       "      <th>H_rbi</th>\n",
       "      <th>H_earned_runs</th>\n",
       "      <th>H_bases_on_balls</th>\n",
       "      <th>H_strikeouts</th>\n",
       "      <th>H_plate_appearances</th>\n",
       "      <th>H_batting_average</th>\n",
       "      <th>...</th>\n",
       "      <th>A_Opp_grounded_balls</th>\n",
       "      <th>A_Opp_fly_balls</th>\n",
       "      <th>A_Opp_line_drives</th>\n",
       "      <th>A_Opp_unknown_bat_type</th>\n",
       "      <th>A_Opp_game_score</th>\n",
       "      <th>A_Opp_inherited_runners</th>\n",
       "      <th>A_Opp_inherited_score</th>\n",
       "      <th>A_Opp_win_probability_by_pitcher</th>\n",
       "      <th>A_Opp_base_out_runs_saved</th>\n",
       "      <th>home_win</th>\n",
       "    </tr>\n",
       "  </thead>\n",
       "  <tbody>\n",
       "    <tr>\n",
       "      <th>1366</th>\n",
       "      <td>SEA</td>\n",
       "      <td>34.462963</td>\n",
       "      <td>4.740741</td>\n",
       "      <td>8.925926</td>\n",
       "      <td>4.537037</td>\n",
       "      <td>4.618457</td>\n",
       "      <td>3.123457</td>\n",
       "      <td>7.950617</td>\n",
       "      <td>38.438272</td>\n",
       "      <td>0.252698</td>\n",
       "      <td>...</td>\n",
       "      <td>12.314815</td>\n",
       "      <td>14.179012</td>\n",
       "      <td>6.648148</td>\n",
       "      <td>0.006173</td>\n",
       "      <td>51.401235</td>\n",
       "      <td>1.308176</td>\n",
       "      <td>0.364780</td>\n",
       "      <td>0.017660</td>\n",
       "      <td>-0.043210</td>\n",
       "      <td>0</td>\n",
       "    </tr>\n",
       "    <tr>\n",
       "      <th>1367</th>\n",
       "      <td>OAK</td>\n",
       "      <td>33.950617</td>\n",
       "      <td>4.030864</td>\n",
       "      <td>8.345679</td>\n",
       "      <td>3.913580</td>\n",
       "      <td>3.778580</td>\n",
       "      <td>2.728395</td>\n",
       "      <td>7.067901</td>\n",
       "      <td>37.172840</td>\n",
       "      <td>0.239728</td>\n",
       "      <td>...</td>\n",
       "      <td>12.598765</td>\n",
       "      <td>13.808642</td>\n",
       "      <td>6.240741</td>\n",
       "      <td>0.006173</td>\n",
       "      <td>50.950617</td>\n",
       "      <td>1.543210</td>\n",
       "      <td>0.493827</td>\n",
       "      <td>0.008802</td>\n",
       "      <td>-0.098765</td>\n",
       "      <td>0</td>\n",
       "    </tr>\n",
       "    <tr>\n",
       "      <th>1368</th>\n",
       "      <td>CIN</td>\n",
       "      <td>33.870370</td>\n",
       "      <td>4.419753</td>\n",
       "      <td>8.660494</td>\n",
       "      <td>4.185185</td>\n",
       "      <td>4.202778</td>\n",
       "      <td>2.790123</td>\n",
       "      <td>7.925926</td>\n",
       "      <td>37.617284</td>\n",
       "      <td>0.250488</td>\n",
       "      <td>...</td>\n",
       "      <td>13.129630</td>\n",
       "      <td>14.141975</td>\n",
       "      <td>7.154321</td>\n",
       "      <td>0.006173</td>\n",
       "      <td>52.814815</td>\n",
       "      <td>1.456250</td>\n",
       "      <td>0.506250</td>\n",
       "      <td>0.056568</td>\n",
       "      <td>0.306173</td>\n",
       "      <td>1</td>\n",
       "    </tr>\n",
       "    <tr>\n",
       "      <th>1369</th>\n",
       "      <td>SDP</td>\n",
       "      <td>33.450617</td>\n",
       "      <td>4.234568</td>\n",
       "      <td>7.870370</td>\n",
       "      <td>4.037037</td>\n",
       "      <td>4.000432</td>\n",
       "      <td>2.771605</td>\n",
       "      <td>9.259259</td>\n",
       "      <td>37.043210</td>\n",
       "      <td>0.229815</td>\n",
       "      <td>...</td>\n",
       "      <td>12.358025</td>\n",
       "      <td>13.975309</td>\n",
       "      <td>6.709877</td>\n",
       "      <td>0.006173</td>\n",
       "      <td>50.462963</td>\n",
       "      <td>1.628931</td>\n",
       "      <td>0.572327</td>\n",
       "      <td>0.020198</td>\n",
       "      <td>-0.025309</td>\n",
       "      <td>1</td>\n",
       "    </tr>\n",
       "    <tr>\n",
       "      <th>1370</th>\n",
       "      <td>NYY</td>\n",
       "      <td>33.691358</td>\n",
       "      <td>4.197531</td>\n",
       "      <td>8.506173</td>\n",
       "      <td>3.993827</td>\n",
       "      <td>4.063457</td>\n",
       "      <td>2.932099</td>\n",
       "      <td>7.333333</td>\n",
       "      <td>37.401235</td>\n",
       "      <td>0.246086</td>\n",
       "      <td>...</td>\n",
       "      <td>11.037037</td>\n",
       "      <td>14.623457</td>\n",
       "      <td>5.901235</td>\n",
       "      <td>0.000000</td>\n",
       "      <td>44.777778</td>\n",
       "      <td>1.796296</td>\n",
       "      <td>0.537037</td>\n",
       "      <td>-0.052963</td>\n",
       "      <td>-0.850617</td>\n",
       "      <td>1</td>\n",
       "    </tr>\n",
       "  </tbody>\n",
       "</table>\n",
       "<p>5 rows × 139 columns</p>\n",
       "</div>"
      ],
      "text/plain": [
       "     H_name  H_at_bats    H_runs    H_hits     H_rbi  H_earned_runs  \\\n",
       "1366    SEA  34.462963  4.740741  8.925926  4.537037       4.618457   \n",
       "1367    OAK  33.950617  4.030864  8.345679  3.913580       3.778580   \n",
       "1368    CIN  33.870370  4.419753  8.660494  4.185185       4.202778   \n",
       "1369    SDP  33.450617  4.234568  7.870370  4.037037       4.000432   \n",
       "1370    NYY  33.691358  4.197531  8.506173  3.993827       4.063457   \n",
       "\n",
       "      H_bases_on_balls  H_strikeouts  H_plate_appearances  H_batting_average  \\\n",
       "1366          3.123457      7.950617            38.438272           0.252698   \n",
       "1367          2.728395      7.067901            37.172840           0.239728   \n",
       "1368          2.790123      7.925926            37.617284           0.250488   \n",
       "1369          2.771605      9.259259            37.043210           0.229815   \n",
       "1370          2.932099      7.333333            37.401235           0.246086   \n",
       "\n",
       "      ...  A_Opp_grounded_balls  A_Opp_fly_balls  A_Opp_line_drives  \\\n",
       "1366  ...             12.314815        14.179012           6.648148   \n",
       "1367  ...             12.598765        13.808642           6.240741   \n",
       "1368  ...             13.129630        14.141975           7.154321   \n",
       "1369  ...             12.358025        13.975309           6.709877   \n",
       "1370  ...             11.037037        14.623457           5.901235   \n",
       "\n",
       "      A_Opp_unknown_bat_type  A_Opp_game_score  A_Opp_inherited_runners  \\\n",
       "1366                0.006173         51.401235                 1.308176   \n",
       "1367                0.006173         50.950617                 1.543210   \n",
       "1368                0.006173         52.814815                 1.456250   \n",
       "1369                0.006173         50.462963                 1.628931   \n",
       "1370                0.000000         44.777778                 1.796296   \n",
       "\n",
       "      A_Opp_inherited_score  A_Opp_win_probability_by_pitcher  \\\n",
       "1366               0.364780                          0.017660   \n",
       "1367               0.493827                          0.008802   \n",
       "1368               0.506250                          0.056568   \n",
       "1369               0.572327                          0.020198   \n",
       "1370               0.537037                         -0.052963   \n",
       "\n",
       "      A_Opp_base_out_runs_saved  home_win  \n",
       "1366                  -0.043210         0  \n",
       "1367                  -0.098765         0  \n",
       "1368                   0.306173         1  \n",
       "1369                  -0.025309         1  \n",
       "1370                  -0.850617         1  \n",
       "\n",
       "[5 rows x 139 columns]"
      ]
     },
     "execution_count": 16,
     "metadata": {},
     "output_type": "execute_result"
    }
   ],
   "source": [
    "df2.head()"
   ]
  },
  {
   "cell_type": "code",
   "execution_count": 17,
   "metadata": {
    "ExecuteTime": {
     "end_time": "2022-01-20T20:56:42.804911Z",
     "start_time": "2022-01-20T20:56:42.789550Z"
    }
   },
   "outputs": [],
   "source": [
    "def data_preprocessing(df, df2):\n",
    "    X_train = df.drop(['home_win','H_name','A_name'], axis=1)\n",
    "    X_test = df2.drop(['home_win','H_name','A_name'], axis=1)\n",
    "    y_train = df.home_win\n",
    "    y_test= df2.home_win\n",
    "    \n",
    "    ss = StandardScaler()\n",
    "    X_train_scaled = ss.fit_transform(X_train)\n",
    "    X_test_scaled = ss.transform(X_test)\n",
    "    \n",
    "    X_train_scaled = pd.DataFrame(X_train_scaled, columns=X_train.columns)\n",
    "    X_test_scaled = pd.DataFrame(X_test_scaled, columns=X_test.columns)\n",
    "    \n",
    "    return X_train_scaled, X_test_scaled,y_train,y_test"
   ]
  },
  {
   "cell_type": "code",
   "execution_count": 18,
   "metadata": {
    "ExecuteTime": {
     "end_time": "2022-01-20T20:56:44.015599Z",
     "start_time": "2022-01-20T20:56:43.947076Z"
    }
   },
   "outputs": [],
   "source": [
    "X_train_scaled,X_test_scaled,y_train,y_test=data_preprocessing(df,df2)"
   ]
  },
  {
   "cell_type": "code",
   "execution_count": 52,
   "metadata": {
    "ExecuteTime": {
     "end_time": "2022-01-19T19:44:14.746874Z",
     "start_time": "2022-01-19T19:44:14.741293Z"
    }
   },
   "outputs": [],
   "source": [
    "# X_test_scaled.drop(['H_Opp_inherited_score','H_Opp_game_score','H_Opp_unknown_bat_type',\n",
    "#                     'H_Opp_inherited_runners'],axis=1,inplace=True)"
   ]
  },
  {
   "cell_type": "code",
   "execution_count": 22,
   "metadata": {
    "ExecuteTime": {
     "end_time": "2022-01-19T18:49:04.656589Z",
     "start_time": "2022-01-19T18:49:04.652407Z"
    }
   },
   "outputs": [],
   "source": [
    "# X_train_scaled.drop(['H_Opp_inherited_score','H_Opp_game_score','H_Opp_unknown_bat_type',\n",
    "#                     'H_Opp_inherited_runners'],axis=1,inplace=True)"
   ]
  },
  {
   "cell_type": "code",
   "execution_count": 19,
   "metadata": {
    "ExecuteTime": {
     "end_time": "2022-01-20T20:56:49.357109Z",
     "start_time": "2022-01-20T20:56:49.338874Z"
    }
   },
   "outputs": [],
   "source": [
    "zero_imp_train=X_train_scaled.drop(zero_importance_list,axis=1)\n",
    "zero_imp_test=X_test_scaled.drop(zero_importance_list,axis=1)"
   ]
  },
  {
   "cell_type": "markdown",
   "metadata": {},
   "source": [
    "## Feature Selection"
   ]
  },
  {
   "cell_type": "code",
   "execution_count": 71,
   "metadata": {
    "ExecuteTime": {
     "end_time": "2022-01-14T15:55:59.195279Z",
     "start_time": "2022-01-14T15:55:59.189989Z"
    }
   },
   "outputs": [],
   "source": [
    "# pca=PCA(n_components=0.7)\n",
    "# train_pca=pca.fit_transform(X_train_scaled)\n",
    "# test_pca=pca.transform(X_test_scaled)"
   ]
  },
  {
   "cell_type": "code",
   "execution_count": 51,
   "metadata": {
    "ExecuteTime": {
     "end_time": "2022-01-14T15:41:50.977209Z",
     "start_time": "2022-01-14T15:41:50.796700Z"
    }
   },
   "outputs": [
    {
     "data": {
      "image/png": "[encoded data removed]",
      "text/plain": [
       "<Figure size 432x288 with 1 Axes>"
      ]
     },
     "metadata": {
      "needs_background": "light"
     },
     "output_type": "display_data"
    }
   ],
   "source": [
    "#plt.scatter(train_pca[:,0], train_pca[:,1]);"
   ]
  },
  {
   "cell_type": "code",
   "execution_count": 20,
   "metadata": {
    "ExecuteTime": {
     "end_time": "2022-01-19T22:52:25.695520Z",
     "start_time": "2022-01-19T22:51:45.125587Z"
    }
   },
   "outputs": [],
   "source": [
    "feats= feature_select(X_train_scaled,y_train,LogisticRegression,min_features=10)"
   ]
  },
  {
   "cell_type": "code",
   "execution_count": 21,
   "metadata": {
    "ExecuteTime": {
     "end_time": "2022-01-19T22:52:25.732283Z",
     "start_time": "2022-01-19T22:52:25.698245Z"
    }
   },
   "outputs": [],
   "source": [
    "X_train_best_log = X_train_scaled[feats]\n",
    "X_test_best_log = X_test_scaled[feats]"
   ]
  },
  {
   "cell_type": "markdown",
   "metadata": {},
   "source": [
    "# Logistic Regression"
   ]
  },
  {
   "cell_type": "code",
   "execution_count": 22,
   "metadata": {
    "ExecuteTime": {
     "end_time": "2022-01-19T22:52:51.479327Z",
     "start_time": "2022-01-19T22:52:49.856735Z"
    }
   },
   "outputs": [
    {
     "name": "stdout",
     "output_type": "stream",
     "text": [
      "Penalty: l2\n",
      "Solver: newton-cg\n",
      "Mean Cross-Val Score: 0.582658437452958\n",
      "Train Mean Accuracy: 0.5886875343218012\n",
      "Test Mean Accuracy: 0.567032967032967\n",
      "Recall Score: 0.69921875\n",
      "Precision Score: 0.5986622073578596\n",
      "F1 Score: 0.6450450450450451\n"
     ]
    },
    {
     "data": {
      "image/png": "[encoded data removed]",
      "text/plain": [
       "<Figure size 432x288 with 1 Axes>"
      ]
     },
     "metadata": {
      "needs_background": "light"
     },
     "output_type": "display_data"
    },
    {
     "data": {
      "image/png": "[encoded data removed]",
      "text/plain": [
       "<Figure size 432x288 with 2 Axes>"
      ]
     },
     "metadata": {
      "needs_background": "light"
     },
     "output_type": "display_data"
    },
    {
     "data": {
      "image/png": "[encoded data removed]",
      "text/plain": [
       "<Figure size 432x288 with 2 Axes>"
      ]
     },
     "metadata": {
      "needs_background": "light"
     },
     "output_type": "display_data"
    }
   ],
   "source": [
    "predictions, probabilities=logreg(X_train_best_log,X_test_best_log,y_train,y_test)"
   ]
  },
  {
   "cell_type": "code",
   "execution_count": 24,
   "metadata": {
    "ExecuteTime": {
     "end_time": "2022-01-20T20:58:55.708206Z",
     "start_time": "2022-01-20T20:58:55.682057Z"
    }
   },
   "outputs": [],
   "source": [
    "def new_acc(probabilities):\n",
    "    class_list2=[]\n",
    "    for log in probabilities:\n",
    "        if log[0]<.40:\n",
    "            class_list2.append(1)\n",
    "        elif log[0]>.60:\n",
    "            class_list2.append(0)\n",
    "        else:\n",
    "            class_list2.append(3)\n",
    "    y_pred_class=pd.DataFrame(class_list2)\n",
    "    y_pred_class.reset_index(inplace=True)\n",
    "    y_test_df=pd.DataFrame(y_test)\n",
    "    y_test_df.reset_index(inplace=True)\n",
    "    comb=pd.concat([y_test_df,y_pred_class],axis=1)\n",
    "    comb.drop(['index','index'],axis=1,inplace=True)\n",
    "    comb['pred']=comb[0]\n",
    "    comb.drop([0],axis=1,inplace=True)\n",
    "    comb.drop(comb[comb['pred'] == 3].index, inplace = True)\n",
    "    count=0\n",
    "    for bools in comb['home_win']==comb['pred']:\n",
    "        if bools is True:\n",
    "            count+=1\n",
    "        else:\n",
    "            pass\n",
    "    accuracy=count/len(comb)\n",
    "    \n",
    "    return accuracy,count"
   ]
  },
  {
   "cell_type": "code",
   "execution_count": 24,
   "metadata": {
    "ExecuteTime": {
     "end_time": "2022-01-19T22:52:56.583246Z",
     "start_time": "2022-01-19T22:52:56.566294Z"
    }
   },
   "outputs": [
    {
     "data": {
      "text/plain": [
       "(0.6521739130434783, 105)"
      ]
     },
     "execution_count": 24,
     "metadata": {},
     "output_type": "execute_result"
    }
   ],
   "source": [
    "new_acc(probabilities)"
   ]
  },
  {
   "cell_type": "markdown",
   "metadata": {},
   "source": [
    "### Home_win, zero imp\n",
    "***"
   ]
  },
  {
   "cell_type": "code",
   "execution_count": 20,
   "metadata": {
    "ExecuteTime": {
     "end_time": "2022-01-20T20:58:15.199605Z",
     "start_time": "2022-01-20T20:57:02.064508Z"
    }
   },
   "outputs": [],
   "source": [
    "feats= feature_select(zero_imp_train,y_train,LogisticRegression,min_features=10)"
   ]
  },
  {
   "cell_type": "code",
   "execution_count": 21,
   "metadata": {
    "ExecuteTime": {
     "end_time": "2022-01-20T20:58:15.246956Z",
     "start_time": "2022-01-20T20:58:15.203727Z"
    }
   },
   "outputs": [],
   "source": [
    "X_train_best_log = zero_imp_train[feats]\n",
    "X_test_best_log = zero_imp_test[feats]"
   ]
  },
  {
   "cell_type": "code",
   "execution_count": 22,
   "metadata": {
    "ExecuteTime": {
     "end_time": "2022-01-20T20:58:17.739660Z",
     "start_time": "2022-01-20T20:58:15.251817Z"
    }
   },
   "outputs": [
    {
     "name": "stdout",
     "output_type": "stream",
     "text": [
      "Penalty: l1\n",
      "Solver: liblinear\n",
      "Mean Cross-Val Score: 0.5837513171759747\n",
      "Train Mean Accuracy: 0.5870400878638111\n",
      "Test Mean Accuracy: 0.5626373626373626\n",
      "Recall Score: 0.7265625\n",
      "Precision Score: 0.5904761904761905\n",
      "F1 Score: 0.6514886164623468\n"
     ]
    },
    {
     "data": {
      "image/png": "[encoded data removed]",
      "text/plain": [
       "<Figure size 432x288 with 1 Axes>"
      ]
     },
     "metadata": {
      "needs_background": "light"
     },
     "output_type": "display_data"
    },
    {
     "data": {
      "image/png": "[encoded data removed]",
      "text/plain": [
       "<Figure size 432x288 with 2 Axes>"
      ]
     },
     "metadata": {
      "needs_background": "light"
     },
     "output_type": "display_data"
    },
    {
     "data": {
      "image/png": "[encoded data removed]",
      "text/plain": [
       "<Figure size 432x288 with 2 Axes>"
      ]
     },
     "metadata": {
      "needs_background": "light"
     },
     "output_type": "display_data"
    }
   ],
   "source": [
    "predictions, probabilities=logreg(X_train_best_log,X_test_best_log,y_train,y_test)"
   ]
  },
  {
   "cell_type": "code",
   "execution_count": 25,
   "metadata": {
    "ExecuteTime": {
     "end_time": "2022-01-20T20:58:59.952619Z",
     "start_time": "2022-01-20T20:58:59.857300Z"
    }
   },
   "outputs": [
    {
     "data": {
      "text/plain": [
       "(0.6530612244897959, 96)"
      ]
     },
     "execution_count": 25,
     "metadata": {},
     "output_type": "execute_result"
    }
   ],
   "source": [
    "new_acc(probabilities)"
   ]
  },
  {
   "cell_type": "markdown",
   "metadata": {
    "heading_collapsed": true
   },
   "source": [
    "### Explore thresehold movement and other things"
   ]
  },
  {
   "cell_type": "code",
   "execution_count": 94,
   "metadata": {
    "ExecuteTime": {
     "end_time": "2022-01-18T19:08:14.644009Z",
     "start_time": "2022-01-18T19:08:14.382466Z"
    },
    "hidden": true
   },
   "outputs": [
    {
     "data": {
      "text/plain": [
       "LogisticRegression()"
      ]
     },
     "execution_count": 94,
     "metadata": {},
     "output_type": "execute_result"
    }
   ],
   "source": [
    "logregs=LogisticRegression()\n",
    "logregs.fit(X_train_scaled,y_train)"
   ]
  },
  {
   "cell_type": "code",
   "execution_count": 95,
   "metadata": {
    "ExecuteTime": {
     "end_time": "2022-01-18T19:08:20.730374Z",
     "start_time": "2022-01-18T19:08:20.664502Z"
    },
    "hidden": true
   },
   "outputs": [
    {
     "data": {
      "text/plain": [
       "array([ True,  True,  True,  True, False,  True, False, False, False,\n",
       "       False, False, False,  True, False,  True,  True, False, False,\n",
       "       False, False, False, False, False])"
      ]
     },
     "execution_count": 95,
     "metadata": {},
     "output_type": "execute_result"
    }
   ],
   "source": [
    "logregs.predict_proba(X_test_scaled)[:,1] >= 0.6"
   ]
  },
  {
   "cell_type": "code",
   "execution_count": 47,
   "metadata": {
    "ExecuteTime": {
     "end_time": "2022-01-18T16:56:09.187820Z",
     "start_time": "2022-01-18T16:56:09.175975Z"
    },
    "hidden": true
   },
   "outputs": [
    {
     "data": {
      "text/plain": [
       "54"
      ]
     },
     "execution_count": 47,
     "metadata": {},
     "output_type": "execute_result"
    }
   ],
   "source": [
    "decisions = (logregs.predict_proba(X_test_scaled) >= .6).astype(int)\n",
    "len(decisions)"
   ]
  },
  {
   "cell_type": "code",
   "execution_count": 97,
   "metadata": {
    "ExecuteTime": {
     "end_time": "2022-01-18T19:08:34.302186Z",
     "start_time": "2022-01-18T19:08:34.264903Z"
    },
    "hidden": true,
    "scrolled": true
   },
   "outputs": [],
   "source": [
    "today_winners = np.where(y_test!= predictions,'Away','Home')"
   ]
  },
  {
   "cell_type": "code",
   "execution_count": 101,
   "metadata": {
    "ExecuteTime": {
     "end_time": "2022-01-18T19:09:02.840747Z",
     "start_time": "2022-01-18T19:09:02.822590Z"
    },
    "hidden": true
   },
   "outputs": [
    {
     "data": {
      "text/plain": [
       "array(['Home', 'Home', 'Home', 'Home', 'Away', 'Home', 'Home', 'Away',\n",
       "       'Away', 'Away', 'Home', 'Home', 'Away', 'Home', 'Home', 'Home',\n",
       "       'Away', 'Home', 'Away', 'Away', 'Home', 'Away', 'Home'],\n",
       "      dtype='<U4')"
      ]
     },
     "execution_count": 101,
     "metadata": {},
     "output_type": "execute_result"
    }
   ],
   "source": [
    "today_winners"
   ]
  },
  {
   "cell_type": "markdown",
   "metadata": {
    "hidden": true
   },
   "source": [
    "7 out of 9 playoff series correctly predicted"
   ]
  },
  {
   "cell_type": "markdown",
   "metadata": {},
   "source": [
    "# KNN"
   ]
  },
  {
   "cell_type": "markdown",
   "metadata": {
    "heading_collapsed": true
   },
   "source": [
    "### Home win KNN"
   ]
  },
  {
   "cell_type": "code",
   "execution_count": 25,
   "metadata": {
    "ExecuteTime": {
     "end_time": "2022-01-19T22:53:24.680298Z",
     "start_time": "2022-01-19T22:53:01.276877Z"
    },
    "hidden": true
   },
   "outputs": [
    {
     "name": "stdout",
     "output_type": "stream",
     "text": [
      "Number of Neighbors: 17\n",
      "Metric: minkowski\n",
      "Weights: uniform\n",
      "Mean Cross-Val Score: 0.5310176125244619\n",
      "Train Mean Accuracy: 0.6161449752883031\n",
      "Test Mean Accuracy: 0.6175824175824176\n",
      "Recall Score: 0.78125\n",
      "Precision Score: 0.6289308176100629\n",
      "F1 score: 0.6968641114982579\n"
     ]
    },
    {
     "data": {
      "image/png": "[encoded data removed]",
      "text/plain": [
       "<Figure size 432x288 with 1 Axes>"
      ]
     },
     "metadata": {
      "needs_background": "light"
     },
     "output_type": "display_data"
    },
    {
     "data": {
      "image/png": "[encoded data removed]",
      "text/plain": [
       "<Figure size 432x288 with 2 Axes>"
      ]
     },
     "metadata": {
      "needs_background": "light"
     },
     "output_type": "display_data"
    },
    {
     "data": {
      "image/png": "[encoded data removed]",
      "text/plain": [
       "<Figure size 432x288 with 2 Axes>"
      ]
     },
     "metadata": {
      "needs_background": "light"
     },
     "output_type": "display_data"
    }
   ],
   "source": [
    "prediction,probabilities=knn(X_train_scaled,X_test_scaled,y_train,y_test)"
   ]
  },
  {
   "cell_type": "code",
   "execution_count": 26,
   "metadata": {
    "ExecuteTime": {
     "end_time": "2022-01-19T22:53:26.734672Z",
     "start_time": "2022-01-19T22:53:26.714309Z"
    },
    "hidden": true
   },
   "outputs": [
    {
     "data": {
      "text/plain": [
       "(0.7021276595744681, 132)"
      ]
     },
     "execution_count": 26,
     "metadata": {},
     "output_type": "execute_result"
    }
   ],
   "source": [
    "new_acc(probabilities)"
   ]
  },
  {
   "cell_type": "markdown",
   "metadata": {},
   "source": [
    "### KNN zero imp"
   ]
  },
  {
   "cell_type": "code",
   "execution_count": 26,
   "metadata": {
    "ExecuteTime": {
     "end_time": "2022-01-20T21:01:00.488838Z",
     "start_time": "2022-01-20T21:00:24.853085Z"
    }
   },
   "outputs": [
    {
     "name": "stdout",
     "output_type": "stream",
     "text": [
      "Number of Neighbors: 17\n",
      "Metric: manhattan\n",
      "Weights: uniform\n",
      "Mean Cross-Val Score: 0.5370615685684179\n",
      "Train Mean Accuracy: 0.6095551894563427\n",
      "Test Mean Accuracy: 0.610989010989011\n",
      "Recall Score: 0.7421875\n",
      "Precision Score: 0.6312292358803987\n",
      "F1 score: 0.6822262118491922\n"
     ]
    },
    {
     "data": {
      "image/png": "[encoded data removed]",
      "text/plain": [
       "<Figure size 432x288 with 1 Axes>"
      ]
     },
     "metadata": {
      "needs_background": "light"
     },
     "output_type": "display_data"
    },
    {
     "data": {
      "image/png": "[encoded data removed]",
      "text/plain": [
       "<Figure size 432x288 with 2 Axes>"
      ]
     },
     "metadata": {
      "needs_background": "light"
     },
     "output_type": "display_data"
    },
    {
     "data": {
      "image/png": "[encoded data removed]",
      "text/plain": [
       "<Figure size 432x288 with 2 Axes>"
      ]
     },
     "metadata": {
      "needs_background": "light"
     },
     "output_type": "display_data"
    }
   ],
   "source": [
    "prediction,probabilities=knn(zero_imp_train,zero_imp_test,y_train,y_test)"
   ]
  },
  {
   "cell_type": "code",
   "execution_count": 28,
   "metadata": {
    "ExecuteTime": {
     "end_time": "2022-01-20T21:01:45.226135Z",
     "start_time": "2022-01-20T21:01:45.169162Z"
    }
   },
   "outputs": [
    {
     "data": {
      "text/plain": [
       "(0.6797752808988764, 121)"
      ]
     },
     "execution_count": 28,
     "metadata": {},
     "output_type": "execute_result"
    }
   ],
   "source": [
    "new_acc(probabilities)"
   ]
  },
  {
   "cell_type": "markdown",
   "metadata": {
    "heading_collapsed": true
   },
   "source": [
    "# Decision Tree"
   ]
  },
  {
   "cell_type": "code",
   "execution_count": 24,
   "metadata": {
    "ExecuteTime": {
     "end_time": "2022-01-19T18:49:39.036052Z",
     "start_time": "2022-01-19T18:49:15.999265Z"
    },
    "hidden": true
   },
   "outputs": [],
   "source": [
    "dfeats= feature_select(X_train_scaled,y_train,DecisionTreeClassifier,min_features=10)\n",
    "X_train_best_tree = X_train_scaled[dfeats]\n",
    "X_test_best_tree = X_test_scaled[dfeats]"
   ]
  },
  {
   "cell_type": "markdown",
   "metadata": {
    "hidden": true
   },
   "source": [
    "### Dtree Home Win"
   ]
  },
  {
   "cell_type": "code",
   "execution_count": 25,
   "metadata": {
    "ExecuteTime": {
     "end_time": "2022-01-19T18:49:43.830264Z",
     "start_time": "2022-01-19T18:49:39.039286Z"
    },
    "hidden": true
   },
   "outputs": [
    {
     "name": "stdout",
     "output_type": "stream",
     "text": [
      "Max Depth: 3\n",
      "Min Sample Split: 2\n",
      "criterion: entropy\n",
      "Mean Cross-Val Score: 0.5784319714903907\n",
      "Train Mean Accuracy: 0.608480856319473\n",
      "Test Mean Accuracy: 0.5909090909090909\n",
      "Recall Score: 0.5454545454545454\n",
      "Precision Score: 0.6\n",
      "F1 score: 0.5714285714285713\n"
     ]
    },
    {
     "data": {
      "image/png": "[encoded data removed]",
      "text/plain": [
       "<Figure size 432x288 with 1 Axes>"
      ]
     },
     "metadata": {
      "needs_background": "light"
     },
     "output_type": "display_data"
    },
    {
     "data": {
      "image/png": "[encoded data removed]",
      "text/plain": [
       "<Figure size 432x288 with 2 Axes>"
      ]
     },
     "metadata": {
      "needs_background": "light"
     },
     "output_type": "display_data"
    },
    {
     "data": {
      "image/png": "[encoded data removed]",
      "text/plain": [
       "<Figure size 432x288 with 2 Axes>"
      ]
     },
     "metadata": {
      "needs_background": "light"
     },
     "output_type": "display_data"
    }
   ],
   "source": [
    "predictions,probabilities=dtree(X_train_best_tree,X_test_best_tree,y_train,y_test)"
   ]
  },
  {
   "cell_type": "code",
   "execution_count": 27,
   "metadata": {
    "ExecuteTime": {
     "end_time": "2022-01-19T18:50:05.471224Z",
     "start_time": "2022-01-19T18:50:05.451515Z"
    },
    "hidden": true
   },
   "outputs": [
    {
     "data": {
      "text/plain": [
       "0.5833333333333334"
      ]
     },
     "execution_count": 27,
     "metadata": {},
     "output_type": "execute_result"
    }
   ],
   "source": [
    "new_acc(probabilities)"
   ]
  },
  {
   "cell_type": "markdown",
   "metadata": {},
   "source": [
    "# Random Forest"
   ]
  },
  {
   "cell_type": "markdown",
   "metadata": {
    "heading_collapsed": true
   },
   "source": [
    "### Model"
   ]
  },
  {
   "cell_type": "code",
   "execution_count": 27,
   "metadata": {
    "ExecuteTime": {
     "end_time": "2022-01-20T21:01:00.606137Z",
     "start_time": "2022-01-20T21:01:00.500848Z"
    },
    "hidden": true
   },
   "outputs": [],
   "source": [
    "def random_forest(X_train, X_test, y_train, y_test, cv=5):\n",
    "    \n",
    "    # Set GridSearchCV hyperparameters to compare & select\n",
    "    grid = {\n",
    "    'n_estimators': [75,90,100,110,115,125,150,500],\n",
    "    'criterion': ['gini', 'entropy']}\n",
    "    \n",
    "    # Instantiate & fit Random Forest model for GridSearch\n",
    "    grid_rf = RandomForestClassifier()\n",
    "    grid_rf.fit(X_train,y_train)\n",
    "    \n",
    "    # Instantiate & fit GridSearchCV with accuracy scoring\n",
    "    gs = GridSearchCV(estimator=grid_rf, param_grid=grid, cv=cv, scoring='accuracy')\n",
    "    gs.fit(X_train, y_train)\n",
    "    \n",
    "    # Return best hyperparameters\n",
    "    rf_params = gs.best_params_\n",
    "    \n",
    "    # Use best # of trees from best_params\n",
    "    rf_n_estimators = rf_params['n_estimators']\n",
    "    print(f'Number of Trees: {rf_n_estimators}')\n",
    "    \n",
    "    # Use best criterion from best_params\n",
    "    rf_criterion = rf_params['criterion']\n",
    "    print(f'criterion: {rf_criterion}')\n",
    "    \n",
    "    # Instantiate & fit Random Forest model\n",
    "    rforest = RandomForestClassifier(n_estimators=rf_n_estimators, criterion=rf_criterion,\n",
    "                                    random_state=42)\n",
    "    rforest.fit(X_train, y_train)\n",
    "    \n",
    "    # Create prediction variable using test data\n",
    "    y_pred = rforest.predict(X_test)\n",
    "    y_prob = rforest.predict_proba(X_test)\n",
    "    \n",
    "    # Run cross-validate score with cv folds from function parameter\n",
    "    cv_results = cross_val_score(rforest, X_train, y_train, cv=cv)\n",
    "    print(f'Mean Cross-Val Score: {cv_results.mean()}')\n",
    "    \n",
    "    # Run and print accuracy, recall, precision and f1 scores\n",
    "    train_score = rforest.score(X_train, y_train)\n",
    "    print(f'Train Mean Accuracy: {train_score}')\n",
    "    test_score = rforest.score(X_test, y_test)\n",
    "    print(f'Test Mean Accuracy: {test_score}')\n",
    "    \n",
    "    rec_score = recall_score(y_test, y_pred)\n",
    "    print(f'Recall Score: {rec_score}')\n",
    "    \n",
    "    prec_score = precision_score(y_test, y_pred)\n",
    "    print(f'Precision Score: {prec_score}')\n",
    "    \n",
    "    f1 = f1_score(y_test, y_pred)\n",
    "    print(f'F1 score: {f1}')\n",
    "    \n",
    "    # Plot an ROC curve (only works with binary data)\n",
    "    fig, ax = plt.subplots()\n",
    "    plot_roc_curve(rforest, X_train, y_train, name='train', ax=ax)\n",
    "    plot_roc_curve(rforest, X_test, y_test, name='test', ax=ax)\n",
    "    \n",
    "    # Plot Confusion Matrix\n",
    "    plot_confusion_matrix(rforest, X_train, y_train)\n",
    "    plot_confusion_matrix(rforest, X_test, y_test);\n",
    "    \n",
    "    return y_pred,y_prob\n"
   ]
  },
  {
   "cell_type": "markdown",
   "metadata": {
    "heading_collapsed": true
   },
   "source": [
    "### All feats RF"
   ]
  },
  {
   "cell_type": "code",
   "execution_count": 27,
   "metadata": {
    "ExecuteTime": {
     "end_time": "2022-01-19T22:59:11.017997Z",
     "start_time": "2022-01-19T22:53:34.096528Z"
    },
    "hidden": true
   },
   "outputs": [],
   "source": [
    "rfeats= feature_select(X_train_scaled,y_train,RandomForestClassifier,min_features=10)\n",
    "X_train_best_for = X_train_scaled[rfeats]\n",
    "X_test_best_for = X_test_scaled[rfeats]"
   ]
  },
  {
   "cell_type": "code",
   "execution_count": 28,
   "metadata": {
    "ExecuteTime": {
     "end_time": "2022-01-19T23:00:17.260452Z",
     "start_time": "2022-01-19T22:59:11.021352Z"
    },
    "hidden": true
   },
   "outputs": [
    {
     "name": "stdout",
     "output_type": "stream",
     "text": [
      "Number of Trees: 150\n",
      "criterion: entropy\n",
      "Mean Cross-Val Score: 0.4958843895830197\n",
      "Train Mean Accuracy: 0.7171883580450302\n",
      "Test Mean Accuracy: 0.7032967032967034\n",
      "Recall Score: 0.734375\n",
      "Precision Score: 0.7372549019607844\n",
      "F1 score: 0.7358121330724071\n"
     ]
    },
    {
     "data": {
      "image/png": "[encoded data removed]",
      "text/plain": [
       "<Figure size 432x288 with 1 Axes>"
      ]
     },
     "metadata": {
      "needs_background": "light"
     },
     "output_type": "display_data"
    },
    {
     "data": {
      "image/png": "[encoded data removed]",
      "text/plain": [
       "<Figure size 432x288 with 2 Axes>"
      ]
     },
     "metadata": {
      "needs_background": "light"
     },
     "output_type": "display_data"
    },
    {
     "data": {
      "image/png": "[encoded data removed]",
      "text/plain": [
       "<Figure size 432x288 with 2 Axes>"
      ]
     },
     "metadata": {
      "needs_background": "light"
     },
     "output_type": "display_data"
    }
   ],
   "source": [
    "predictions,probabilities=random_forest(X_train_best_for,X_test_best_for,y_train,y_test)"
   ]
  },
  {
   "cell_type": "code",
   "execution_count": 29,
   "metadata": {
    "ExecuteTime": {
     "end_time": "2022-01-19T23:00:29.658130Z",
     "start_time": "2022-01-19T23:00:29.625569Z"
    },
    "hidden": true
   },
   "outputs": [
    {
     "data": {
      "text/plain": [
       "(0.7548209366391184, 274)"
      ]
     },
     "execution_count": 29,
     "metadata": {},
     "output_type": "execute_result"
    }
   ],
   "source": [
    "new_acc(probabilities)"
   ]
  },
  {
   "cell_type": "markdown",
   "metadata": {},
   "source": [
    "### Random Forest zero imp"
   ]
  },
  {
   "cell_type": "code",
   "execution_count": 29,
   "metadata": {
    "ExecuteTime": {
     "end_time": "2022-01-20T21:09:51.077551Z",
     "start_time": "2022-01-20T21:02:14.192622Z"
    }
   },
   "outputs": [],
   "source": [
    "rfeats= feature_select(zero_imp_train,y_train,RandomForestClassifier,min_features=10)\n",
    "X_train_best_for = zero_imp_train[rfeats]\n",
    "X_test_best_for = zero_imp_test[rfeats]"
   ]
  },
  {
   "cell_type": "code",
   "execution_count": 30,
   "metadata": {
    "ExecuteTime": {
     "end_time": "2022-01-20T21:11:30.190330Z",
     "start_time": "2022-01-20T21:09:51.081968Z"
    }
   },
   "outputs": [
    {
     "name": "stdout",
     "output_type": "stream",
     "text": [
      "Number of Trees: 90\n",
      "criterion: gini\n",
      "Mean Cross-Val Score: 0.5079662802950474\n",
      "Train Mean Accuracy: 0.7171883580450302\n",
      "Test Mean Accuracy: 0.7076923076923077\n",
      "Recall Score: 0.75390625\n",
      "Precision Score: 0.7338403041825095\n",
      "F1 score: 0.74373795761079\n"
     ]
    },
    {
     "data": {
      "image/png": "[encoded data removed]",
      "text/plain": [
       "<Figure size 432x288 with 1 Axes>"
      ]
     },
     "metadata": {
      "needs_background": "light"
     },
     "output_type": "display_data"
    },
    {
     "data": {
      "image/png": "[encoded data removed]",
      "text/plain": [
       "<Figure size 432x288 with 2 Axes>"
      ]
     },
     "metadata": {
      "needs_background": "light"
     },
     "output_type": "display_data"
    },
    {
     "data": {
      "image/png": "[encoded data removed]",
      "text/plain": [
       "<Figure size 432x288 with 2 Axes>"
      ]
     },
     "metadata": {
      "needs_background": "light"
     },
     "output_type": "display_data"
    }
   ],
   "source": [
    "predictions,probabilities=random_forest(X_train_best_for,X_test_best_for,y_train,y_test)"
   ]
  },
  {
   "cell_type": "code",
   "execution_count": 31,
   "metadata": {
    "ExecuteTime": {
     "end_time": "2022-01-20T21:11:36.539691Z",
     "start_time": "2022-01-20T21:11:36.407796Z"
    }
   },
   "outputs": [
    {
     "data": {
      "text/plain": [
       "(0.7584269662921348, 270)"
      ]
     },
     "execution_count": 31,
     "metadata": {},
     "output_type": "execute_result"
    }
   ],
   "source": [
    "new_acc(probabilities)"
   ]
  },
  {
   "cell_type": "markdown",
   "metadata": {
    "heading_collapsed": true
   },
   "source": [
    "# Bagging Classifier"
   ]
  },
  {
   "cell_type": "code",
   "execution_count": 53,
   "metadata": {
    "ExecuteTime": {
     "end_time": "2022-01-18T22:02:55.328165Z",
     "start_time": "2022-01-18T21:46:08.981088Z"
    },
    "hidden": true
   },
   "outputs": [
    {
     "name": "stdout",
     "output_type": "stream",
     "text": [
      "Dec Tree Max Depth: 2\n",
      "Dec Tree Criterion: gini\n",
      "Bagging Max Samples: 3\n",
      "Bag Max Features: 2\n",
      "# of Base Estimators: 500\n",
      "Mean Cross-Val Score: 0.5891468329727207\n",
      "Train Mean Accuracy Score: 0.5673116508851379\n",
      "Test Mean Accuracy Score: 0.5\n",
      "Recall Score: 1.0\n",
      "Precision Score: 0.5\n",
      "F1 score: 0.6666666666666666\n"
     ]
    },
    {
     "data": {
      "image/png": "[encoded data removed]",
      "text/plain": [
       "<Figure size 432x288 with 1 Axes>"
      ]
     },
     "metadata": {
      "needs_background": "light"
     },
     "output_type": "display_data"
    },
    {
     "data": {
      "image/png": "[encoded data removed]",
      "text/plain": [
       "<Figure size 432x288 with 2 Axes>"
      ]
     },
     "metadata": {
      "needs_background": "light"
     },
     "output_type": "display_data"
    },
    {
     "data": {
      "image/png": "[encoded data removed]",
      "text/plain": [
       "<Figure size 432x288 with 2 Axes>"
      ]
     },
     "metadata": {
      "needs_background": "light"
     },
     "output_type": "display_data"
    }
   ],
   "source": [
    "bagged(X_train_scaled,X_test_scaled,y_train,y_test)"
   ]
  },
  {
   "cell_type": "markdown",
   "metadata": {
    "heading_collapsed": true
   },
   "source": [
    "# XGBoost"
   ]
  },
  {
   "cell_type": "code",
   "execution_count": 56,
   "metadata": {
    "ExecuteTime": {
     "end_time": "2022-01-18T22:25:14.526375Z",
     "start_time": "2022-01-18T22:18:44.271810Z"
    },
    "hidden": true
   },
   "outputs": [],
   "source": [
    "xfeats= feature_select(zero_imp_train,y_train,XGBClassifier,min_features=10)\n",
    "X_train_best_x = zero_imp_train[xfeats]\n",
    "X_test_best_x = zero_imp_test[xfeats]"
   ]
  },
  {
   "cell_type": "code",
   "execution_count": 57,
   "metadata": {
    "ExecuteTime": {
     "end_time": "2022-01-19T14:33:49.396464Z",
     "start_time": "2022-01-18T22:25:14.530886Z"
    },
    "hidden": true
   },
   "outputs": [
    {
     "name": "stdout",
     "output_type": "stream",
     "text": [
      "XGBoost Learning Rate: 0.05\n",
      "XGBoost Max Depth: 3\n",
      "XGBoost Min Child Weight: 1\n",
      "XGBoost Subsample: 0.7\n",
      "XGBoost Estimators: 100\n",
      "Stopped in Round: 15\n",
      "Mean Cross-Val Score: 0.5409766238174027\n",
      "Train Mean Accuracy Score: 0.6990531082750103\n",
      "Test Mean Accuracy Score: 0.6363636363636364\n",
      "Recall Score: 0.6363636363636364\n",
      "Precision Score: 0.6363636363636364\n",
      "F1 score: 0.6363636363636364\n"
     ]
    },
    {
     "data": {
      "image/png": "[encoded data removed]",
      "text/plain": [
       "<Figure size 432x288 with 1 Axes>"
      ]
     },
     "metadata": {
      "needs_background": "light"
     },
     "output_type": "display_data"
    },
    {
     "data": {
      "image/png": "[encoded data removed]",
      "text/plain": [
       "<Figure size 432x288 with 2 Axes>"
      ]
     },
     "metadata": {
      "needs_background": "light"
     },
     "output_type": "display_data"
    },
    {
     "data": {
      "image/png": "[encoded data removed]",
      "text/plain": [
       "<Figure size 432x288 with 2 Axes>"
      ]
     },
     "metadata": {
      "needs_background": "light"
     },
     "output_type": "display_data"
    }
   ],
   "source": [
    "xgboost(X_train_best_x, X_test_best_x, y_train, y_test, cv=5)"
   ]
  }
 ],
 "metadata": {
  "kernelspec": {
   "display_name": "Python (learn-env)",
   "language": "python",
   "name": "learn-env"
  },
  "language_info": {
   "codemirror_mode": {
    "name": "ipython",
    "version": 3
   },
   "file_extension": ".py",
   "mimetype": "text/x-python",
   "name": "python",
   "nbconvert_exporter": "python",
   "pygments_lexer": "ipython3",
   "version": "3.8.5"
  },
  "notify_time": "30"
 },
 "nbformat": 4,
 "nbformat_minor": 4
}

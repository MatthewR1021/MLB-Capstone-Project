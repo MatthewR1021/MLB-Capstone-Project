{
 "cells": [
  {
   "cell_type": "code",
   "execution_count": 1,
   "metadata": {
    "ExecuteTime": {
     "end_time": "2022-01-14T15:29:24.489470Z",
     "start_time": "2022-01-14T15:29:24.471075Z"
    }
   },
   "outputs": [],
   "source": [
    "# Import the relevant packages\n",
    "import pandas as pd\n",
    "import numpy as np\n",
    "import matplotlib.pyplot as plt\n",
    "from sklearn.linear_model import LogisticRegression\n",
    "from sklearn.model_selection import cross_val_score, train_test_split,GridSearchCV\n",
    "from sklearn.metrics import plot_confusion_matrix, plot_roc_curve, accuracy_score, \\\n",
    "recall_score, precision_score, f1_score\n",
    "from sklearn.neighbors import KNeighborsClassifier\n",
    "from sklearn.preprocessing import StandardScaler\n",
    "from sklearn.tree import DecisionTreeClassifier, plot_tree\n",
    "from sklearn.ensemble import BaggingClassifier, RandomForestClassifier\n",
    "from sklearn.datasets import load_iris\n",
    "from sklearn.ensemble import AdaBoostClassifier, GradientBoostingClassifier\n",
    "from xgboost import XGBClassifier\n",
    "import statsmodels.api as sm\n",
    "from sklearn.feature_selection import RFECV\n",
    "from sklearn.decomposition import PCA\n",
    "import warnings\n",
    "warnings.filterwarnings(\"ignore\")"
   ]
  },
  {
   "cell_type": "code",
   "execution_count": 2,
   "metadata": {
    "ExecuteTime": {
     "end_time": "2022-01-18T19:24:34.546725Z",
     "start_time": "2022-01-18T19:24:34.287647Z"
    }
   },
   "outputs": [],
   "source": [
    "df=pd.read_csv('../data/Season_2016_fav_win.csv')"
   ]
  },
  {
   "cell_type": "code",
   "execution_count": 3,
   "metadata": {
    "ExecuteTime": {
     "end_time": "2022-01-18T19:24:39.830632Z",
     "start_time": "2022-01-18T19:24:39.815052Z"
    }
   },
   "outputs": [],
   "source": [
    "df.drop(['Unnamed: 0'],axis=1,inplace=True)"
   ]
  },
  {
   "cell_type": "code",
   "execution_count": 4,
   "metadata": {
    "ExecuteTime": {
     "end_time": "2022-01-18T19:24:45.357884Z",
     "start_time": "2022-01-18T19:24:45.313519Z"
    }
   },
   "outputs": [],
   "source": [
    "df2=pd.read_csv('../data/Playoffs_2016.csv').drop('Unnamed: 0',axis=1)"
   ]
  },
  {
   "cell_type": "markdown",
   "metadata": {},
   "source": [
    "Find and eliminate NaNs"
   ]
  },
  {
   "cell_type": "code",
   "execution_count": 5,
   "metadata": {
    "ExecuteTime": {
     "end_time": "2022-01-18T19:24:47.218711Z",
     "start_time": "2022-01-18T19:24:47.206143Z"
    }
   },
   "outputs": [],
   "source": [
    "df=df.drop(['H_win_probability_subtracted','A_win_probability_subtracted','A_Opp_win_probability_subtracted',\n",
    "         'H_Opp_win_probability_subtracted'],axis=1)"
   ]
  },
  {
   "cell_type": "code",
   "execution_count": 6,
   "metadata": {
    "ExecuteTime": {
     "end_time": "2022-01-18T19:24:47.610105Z",
     "start_time": "2022-01-18T19:24:47.597297Z"
    },
    "scrolled": true
   },
   "outputs": [],
   "source": [
    "df2=df2.drop(['H_win_probability_subtracted','A_win_probability_subtracted','A_Opp_win_probability_subtracted',\n",
    "         'H_Opp_win_probability_subtracted'],axis=1)"
   ]
  },
  {
   "cell_type": "code",
   "execution_count": 7,
   "metadata": {
    "ExecuteTime": {
     "end_time": "2022-01-18T19:24:48.344012Z",
     "start_time": "2022-01-18T19:24:48.318724Z"
    }
   },
   "outputs": [
    {
     "data": {
      "text/plain": [
       "1    0.560544\n",
       "0    0.439456\n",
       "Name: fav_win, dtype: float64"
      ]
     },
     "execution_count": 7,
     "metadata": {},
     "output_type": "execute_result"
    }
   ],
   "source": [
    "df.fav_win.value_counts(normalize=True)"
   ]
  },
  {
   "cell_type": "code",
   "execution_count": 8,
   "metadata": {
    "ExecuteTime": {
     "end_time": "2022-01-18T19:24:49.571203Z",
     "start_time": "2022-01-18T19:24:49.549097Z"
    }
   },
   "outputs": [
    {
     "data": {
      "text/plain": [
       "1    0.628571\n",
       "0    0.371429\n",
       "Name: fav_win, dtype: float64"
      ]
     },
     "execution_count": 8,
     "metadata": {},
     "output_type": "execute_result"
    }
   ],
   "source": [
    "df2.fav_win.value_counts(normalize=True)"
   ]
  },
  {
   "cell_type": "code",
   "execution_count": 30,
   "metadata": {
    "ExecuteTime": {
     "end_time": "2022-01-13T16:59:26.610073Z",
     "start_time": "2022-01-13T16:59:26.605355Z"
    }
   },
   "outputs": [],
   "source": [
    "#for col in X_train.columns:\n",
    "    #print(col)"
   ]
  },
  {
   "cell_type": "code",
   "execution_count": 96,
   "metadata": {
    "ExecuteTime": {
     "end_time": "2022-01-14T16:07:59.941223Z",
     "start_time": "2022-01-14T16:07:59.936100Z"
    }
   },
   "outputs": [],
   "source": [
    "zero_importance_list=['H_runs','H_slugging_percentage','H_on_base_plus','H_base_out_runs_added','H_putouts',\n",
    "                     'H_Opp_on_base_percentage','A_batting_average','A_win_probability_for_offensive_player',\n",
    "                     'A_putouts','A_median_odds','H_median_odds']"
   ]
  },
  {
   "cell_type": "code",
   "execution_count": 55,
   "metadata": {
    "ExecuteTime": {
     "end_time": "2022-01-13T17:08:53.884795Z",
     "start_time": "2022-01-13T17:08:53.881227Z"
    }
   },
   "outputs": [],
   "source": [
    "tiny_importance_list=['H_at_bats','H_win_probability_added','H_fly_balls']"
   ]
  },
  {
   "cell_type": "code",
   "execution_count": 9,
   "metadata": {
    "ExecuteTime": {
     "end_time": "2022-01-18T19:24:55.361171Z",
     "start_time": "2022-01-18T19:24:55.335066Z"
    }
   },
   "outputs": [],
   "source": [
    "def data_preprocessing(df, df2):\n",
    "    X_train = df.drop(['home_win','H_name','A_name','fav_win'], axis=1)\n",
    "    X_test = df2.drop(['home_win','H_name','A_name','fav_win'], axis=1)\n",
    "    y_train = df.home_win\n",
    "    y_test= df2.home_win\n",
    "    \n",
    "    ss = StandardScaler()\n",
    "    X_train_scaled = ss.fit_transform(X_train)\n",
    "    X_test_scaled = ss.transform(X_test)\n",
    "    \n",
    "    X_train_scaled = pd.DataFrame(X_train_scaled, columns=X_train.columns)\n",
    "    X_test_scaled = pd.DataFrame(X_test_scaled, columns=X_test.columns)\n",
    "    \n",
    "    return X_train_scaled, X_test_scaled,y_train,y_test"
   ]
  },
  {
   "cell_type": "code",
   "execution_count": 10,
   "metadata": {
    "ExecuteTime": {
     "end_time": "2022-01-18T19:24:55.889039Z",
     "start_time": "2022-01-18T19:24:55.822679Z"
    }
   },
   "outputs": [],
   "source": [
    "X_train_scaled,X_test_scaled,y_train,y_test=data_preprocessing(df,df2)"
   ]
  },
  {
   "cell_type": "code",
   "execution_count": 14,
   "metadata": {
    "ExecuteTime": {
     "end_time": "2022-01-18T19:26:51.177684Z",
     "start_time": "2022-01-18T19:26:51.171420Z"
    }
   },
   "outputs": [],
   "source": [
    "X_test_scaled.drop(['H_Opp_inherited_score','H_Opp_game_score','H_Opp_unknown_bat_type',\n",
    "                    'H_Opp_inherited_runners'],axis=1,inplace=True)"
   ]
  },
  {
   "cell_type": "code",
   "execution_count": 15,
   "metadata": {
    "ExecuteTime": {
     "end_time": "2022-01-18T19:26:53.209722Z",
     "start_time": "2022-01-18T19:26:53.184202Z"
    }
   },
   "outputs": [],
   "source": [
    "X_train_scaled.drop(['H_Opp_inherited_score','H_Opp_game_score','H_Opp_unknown_bat_type',\n",
    "                    'H_Opp_inherited_runners'],axis=1,inplace=True)"
   ]
  },
  {
   "cell_type": "code",
   "execution_count": 182,
   "metadata": {
    "ExecuteTime": {
     "end_time": "2022-01-14T18:03:05.161799Z",
     "start_time": "2022-01-14T18:03:05.147890Z"
    }
   },
   "outputs": [],
   "source": [
    "zero_imp_train=X_train_scaled.drop(zero_importance_list,axis=1)\n",
    "zero_imp_test=X_test_scaled.drop(zero_importance_list,axis=1)"
   ]
  },
  {
   "cell_type": "markdown",
   "metadata": {
    "heading_collapsed": true
   },
   "source": [
    "## Feature Selection"
   ]
  },
  {
   "cell_type": "code",
   "execution_count": 71,
   "metadata": {
    "ExecuteTime": {
     "end_time": "2022-01-14T15:55:59.195279Z",
     "start_time": "2022-01-14T15:55:59.189989Z"
    },
    "hidden": true
   },
   "outputs": [],
   "source": [
    "# pca=PCA(n_components=0.7)\n",
    "# train_pca=pca.fit_transform(X_train_scaled)\n",
    "# test_pca=pca.transform(X_test_scaled)"
   ]
  },
  {
   "cell_type": "code",
   "execution_count": 51,
   "metadata": {
    "ExecuteTime": {
     "end_time": "2022-01-14T15:41:50.977209Z",
     "start_time": "2022-01-14T15:41:50.796700Z"
    },
    "hidden": true
   },
   "outputs": [
    {
     "data": {
      "image/png": "[encoded data removed]",
      "text/plain": [
       "<Figure size 432x288 with 1 Axes>"
      ]
     },
     "metadata": {
      "needs_background": "light"
     },
     "output_type": "display_data"
    }
   ],
   "source": [
    "#plt.scatter(train_pca[:,0], train_pca[:,1]);"
   ]
  },
  {
   "cell_type": "code",
   "execution_count": 109,
   "metadata": {
    "ExecuteTime": {
     "end_time": "2022-01-14T16:11:00.064307Z",
     "start_time": "2022-01-14T16:11:00.057422Z"
    },
    "hidden": true
   },
   "outputs": [],
   "source": [
    "def feature_select(X_train,y_train,estimator,min_features,step=1):\n",
    "    estimator2=estimator()\n",
    "    selector=RFECV(estimator2,min_features_to_select=min_features,step=step)\n",
    "    selector.fit(X_train,y_train)\n",
    "    selector.ranking_\n",
    "    feature_dict=dict(zip(X_train.columns, selector.ranking_))\n",
    "    best_pred = [k for (k,v) in feature_dict.items() if v == 1]\n",
    "    \n",
    "    \n",
    "    return best_pred"
   ]
  },
  {
   "cell_type": "code",
   "execution_count": 110,
   "metadata": {
    "ExecuteTime": {
     "end_time": "2022-01-14T16:11:36.734030Z",
     "start_time": "2022-01-14T16:11:00.362727Z"
    },
    "hidden": true
   },
   "outputs": [],
   "source": [
    "feats= feature_select(zero_imp_train,y_train,LogisticRegression,min_features=10)"
   ]
  },
  {
   "cell_type": "code",
   "execution_count": 111,
   "metadata": {
    "ExecuteTime": {
     "end_time": "2022-01-14T16:11:36.748590Z",
     "start_time": "2022-01-14T16:11:36.737555Z"
    },
    "hidden": true
   },
   "outputs": [],
   "source": [
    "X_train_best_log = zero_imp_train[feats]\n",
    "X_test_best_log = zero_imp_test[feats]"
   ]
  },
  {
   "cell_type": "markdown",
   "metadata": {},
   "source": [
    "# Logistic Regression"
   ]
  },
  {
   "cell_type": "code",
   "execution_count": 112,
   "metadata": {
    "ExecuteTime": {
     "end_time": "2022-01-14T16:11:36.784468Z",
     "start_time": "2022-01-14T16:11:36.772654Z"
    }
   },
   "outputs": [],
   "source": [
    "def logreg(X_train, X_test, y_train, y_test, cv=5):\n",
    "    \n",
    "    \n",
    "    # Set GridSearchCV hyperparameters to compare & select\n",
    "    grid = {\n",
    "    'penalty': ['l1', 'l2' ,'elasticnet'],\n",
    "    'solver': ['newton-cg', 'lbfgs', 'liblinear', 'sag', 'saga']}\n",
    "    \n",
    "    # Instantiate & fit LogReg model for GridSearch\n",
    "    grid_logreg = LogisticRegression(random_state=42)\n",
    "    grid_logreg.fit(X_train, y_train)\n",
    "    \n",
    "    # Instantiate & fit GridSearchCV with accuracy scoring\n",
    "    gs = GridSearchCV(estimator=grid_logreg, param_grid=grid, cv=cv,\n",
    "                      scoring='accuracy')\n",
    "    gs.fit(X_train, y_train)\n",
    "    \n",
    "    # Return best hyperparameters\n",
    "    logreg_params = gs.best_params_\n",
    "    \n",
    "    # Use best penalty from best_params\n",
    "    logreg_penalty = logreg_params['penalty']\n",
    "    print(f'Penalty: {logreg_penalty}')\n",
    "    \n",
    "    # Use best solver from best_params\n",
    "    logreg_solver = logreg_params['solver']\n",
    "    print(f'Solver: {logreg_solver}')\n",
    "    \n",
    "    # Instantiate & fit LogReg model\n",
    "    log = LogisticRegression(random_state=42, penalty=logreg_penalty, solver=logreg_solver)\n",
    "    log.fit(X_train, y_train)\n",
    "    \n",
    "    # Create prediction variable using test data\n",
    "    y_pred = log.predict(X_test)\n",
    "    y_pred_proba = log.predict_proba(X_test)\n",
    "    \n",
    "    # Run cross-validate score with cv folds from function parameter\n",
    "    cv_results = cross_val_score(log, X_train, y_train, cv=cv)\n",
    "    print(f'Mean Cross-Val Score: {cv_results.mean()}')\n",
    "    \n",
    "    # Run and print accuracy, recall, precision and f1 scores\n",
    "    train_score = log.score(X_train, y_train)\n",
    "    print(f'Train Mean Accuracy: {train_score}')\n",
    "    test_score = log.score(X_test, y_test)\n",
    "    print(f'Test Mean Accuracy: {test_score}')\n",
    "  \n",
    "    rec_score = recall_score(y_test, y_pred)\n",
    "    print(f'Recall Score: {rec_score}')\n",
    "    \n",
    "    prec_score = precision_score(y_test, y_pred)\n",
    "    print(f'Precision Score: {prec_score}')\n",
    "    \n",
    "    f1 = f1_score(y_test, y_pred)\n",
    "    print(f'F1 Score: {f1}')\n",
    "    \n",
    "    # Plot an ROC curve (only works with binary data)\n",
    "    fig, ax = plt.subplots()\n",
    "    plot_roc_curve(log, X_train, y_train, name='train', ax=ax)\n",
    "    plot_roc_curve(log, X_test, y_test, name='test', ax=ax)\n",
    "    \n",
    "    # Plot Confusion Matrix\n",
    "    plot_confusion_matrix(log, X_train, y_train)\n",
    "    plot_confusion_matrix(log, X_test, y_test)\n",
    "    return y_pred,y_pred_proba"
   ]
  },
  {
   "cell_type": "code",
   "execution_count": 113,
   "metadata": {
    "ExecuteTime": {
     "end_time": "2022-01-14T16:11:38.350995Z",
     "start_time": "2022-01-14T16:11:36.789686Z"
    }
   },
   "outputs": [
    {
     "name": "stdout",
     "output_type": "stream",
     "text": [
      "Penalty: l2\n",
      "Solver: liblinear\n",
      "Mean Cross-Val Score: 0.5597191464087226\n",
      "Train Mean Accuracy: 0.5704283360790774\n",
      "Test Mean Accuracy: 0.6285714285714286\n",
      "Recall Score: 0.45454545454545453\n",
      "Precision Score: 0.9090909090909091\n",
      "F1 Score: 0.6060606060606061\n"
     ]
    },
    {
     "data": {
      "image/png": "[encoded data removed]",
      "text/plain": [
       "<Figure size 432x288 with 1 Axes>"
      ]
     },
     "metadata": {
      "needs_background": "light"
     },
     "output_type": "display_data"
    },
    {
     "data": {
      "image/png": "[encoded data removed]",
      "text/plain": [
       "<Figure size 432x288 with 2 Axes>"
      ]
     },
     "metadata": {
      "needs_background": "light"
     },
     "output_type": "display_data"
    },
    {
     "data": {
      "image/png": "[encoded data removed]",
      "text/plain": [
       "<Figure size 432x288 with 2 Axes>"
      ]
     },
     "metadata": {
      "needs_background": "light"
     },
     "output_type": "display_data"
    }
   ],
   "source": [
    "predictions, probabilities=logreg(X_train_best_log,X_test_best_log,y_train,y_test)"
   ]
  },
  {
   "cell_type": "markdown",
   "metadata": {
    "ExecuteTime": {
     "end_time": "2022-01-14T16:18:11.588552Z",
     "start_time": "2022-01-14T16:18:11.579455Z"
    }
   },
   "source": [
    "If you only bet the games that the model says it is 60% accurate or more than you will hit on about 70% of your bets. In 2016 you would have picked 19 games, 11 underdogs and 8 favorites. You would of hit on 5 underdogs and missed 6 while hitting on all 8 favorites:\n",
    "This is with predicting on fav_win after dropping the zero_importance features."
   ]
  },
  {
   "cell_type": "code",
   "execution_count": 119,
   "metadata": {
    "ExecuteTime": {
     "end_time": "2022-01-14T16:27:04.333760Z",
     "start_time": "2022-01-14T16:27:04.326231Z"
    }
   },
   "outputs": [
    {
     "data": {
      "text/plain": [
       "array([1, 0, 1, 1, 0, 1, 1, 1, 1, 1, 0, 0, 0, 0, 0, 0, 0, 0, 1, 0, 1, 0,\n",
       "       0, 0, 0, 0, 0, 1, 0, 0, 0, 0, 0, 0, 0])"
      ]
     },
     "execution_count": 119,
     "metadata": {},
     "output_type": "execute_result"
    }
   ],
   "source": [
    "predictions"
   ]
  },
  {
   "cell_type": "markdown",
   "metadata": {},
   "source": [
    "### Home_win, zero imp\n",
    "***"
   ]
  },
  {
   "cell_type": "code",
   "execution_count": 123,
   "metadata": {
    "ExecuteTime": {
     "end_time": "2022-01-14T16:37:13.822699Z",
     "start_time": "2022-01-14T16:36:35.815754Z"
    }
   },
   "outputs": [],
   "source": [
    "feats= feature_select(zero_imp_train,y_train,LogisticRegression,min_features=10)"
   ]
  },
  {
   "cell_type": "code",
   "execution_count": 124,
   "metadata": {
    "ExecuteTime": {
     "end_time": "2022-01-14T16:37:13.851821Z",
     "start_time": "2022-01-14T16:37:13.825504Z"
    }
   },
   "outputs": [],
   "source": [
    "X_train_best_log = zero_imp_train[feats]\n",
    "X_test_best_log = zero_imp_test[feats]"
   ]
  },
  {
   "cell_type": "code",
   "execution_count": 125,
   "metadata": {
    "ExecuteTime": {
     "end_time": "2022-01-14T16:37:16.174421Z",
     "start_time": "2022-01-14T16:37:13.878191Z"
    }
   },
   "outputs": [
    {
     "name": "stdout",
     "output_type": "stream",
     "text": [
      "Penalty: l2\n",
      "Solver: newton-cg\n",
      "Mean Cross-Val Score: 0.582769504900089\n",
      "Train Mean Accuracy: 0.5889621087314663\n",
      "Test Mean Accuracy: 0.6\n",
      "Recall Score: 1.0\n",
      "Precision Score: 0.5483870967741935\n",
      "F1 Score: 0.7083333333333333\n"
     ]
    },
    {
     "data": {
      "image/png": "[encoded data removed]",
      "text/plain": [
       "<Figure size 432x288 with 1 Axes>"
      ]
     },
     "metadata": {
      "needs_background": "light"
     },
     "output_type": "display_data"
    },
    {
     "data": {
      "image/png": "[encoded data removed]",
      "text/plain": [
       "<Figure size 432x288 with 2 Axes>"
      ]
     },
     "metadata": {
      "needs_background": "light"
     },
     "output_type": "display_data"
    },
    {
     "data": {
      "image/png": "[encoded data removed]",
      "text/plain": [
       "<Figure size 432x288 with 2 Axes>"
      ]
     },
     "metadata": {
      "needs_background": "light"
     },
     "output_type": "display_data"
    }
   ],
   "source": [
    "predictions, probabilities=logreg(X_train_best_log,X_test_best_log,y_train,y_test)"
   ]
  },
  {
   "cell_type": "code",
   "execution_count": 126,
   "metadata": {
    "ExecuteTime": {
     "end_time": "2022-01-14T16:38:04.626345Z",
     "start_time": "2022-01-14T16:38:04.619329Z"
    }
   },
   "outputs": [
    {
     "data": {
      "text/plain": [
       "array([1, 0, 0, 1, 1, 0, 1, 1, 1, 1, 1, 0, 1, 1, 1, 1, 1, 1, 1, 1, 1, 1,\n",
       "       1, 1, 1, 1, 1, 1, 1, 1, 1, 1, 1, 1, 1])"
      ]
     },
     "execution_count": 126,
     "metadata": {},
     "output_type": "execute_result"
    }
   ],
   "source": [
    "predictions"
   ]
  },
  {
   "cell_type": "markdown",
   "metadata": {},
   "source": [
    "### more exploration"
   ]
  },
  {
   "cell_type": "code",
   "execution_count": 16,
   "metadata": {
    "ExecuteTime": {
     "end_time": "2022-01-18T19:27:00.033925Z",
     "start_time": "2022-01-18T19:26:59.816447Z"
    }
   },
   "outputs": [
    {
     "data": {
      "text/plain": [
       "LogisticRegression()"
      ]
     },
     "execution_count": 16,
     "metadata": {},
     "output_type": "execute_result"
    }
   ],
   "source": [
    "lr=LogisticRegression()\n",
    "lr.fit(X_train_scaled,y_train)"
   ]
  },
  {
   "cell_type": "code",
   "execution_count": 21,
   "metadata": {
    "ExecuteTime": {
     "end_time": "2022-01-18T19:28:57.058442Z",
     "start_time": "2022-01-18T19:28:57.038087Z"
    }
   },
   "outputs": [],
   "source": [
    "predictions=lr.predict(X_test_scaled)"
   ]
  },
  {
   "cell_type": "code",
   "execution_count": 22,
   "metadata": {
    "ExecuteTime": {
     "end_time": "2022-01-18T19:28:58.000751Z",
     "start_time": "2022-01-18T19:28:57.976993Z"
    }
   },
   "outputs": [],
   "source": [
    "today_winners = np.where(y_test!= predictions,'Away','Home')"
   ]
  },
  {
   "cell_type": "code",
   "execution_count": 29,
   "metadata": {
    "ExecuteTime": {
     "end_time": "2022-01-18T19:31:30.763961Z",
     "start_time": "2022-01-18T19:31:30.751451Z"
    }
   },
   "outputs": [],
   "source": [
    "probabilities=lr.predict_proba(X_test_scaled)"
   ]
  },
  {
   "cell_type": "code",
   "execution_count": 30,
   "metadata": {
    "ExecuteTime": {
     "end_time": "2022-01-18T19:31:31.666231Z",
     "start_time": "2022-01-18T19:31:31.652790Z"
    }
   },
   "outputs": [
    {
     "name": "stdout",
     "output_type": "stream",
     "text": [
      "TOR 0.8797685382706291 vs. BAL 0.12023146172937094\n",
      "NYM 0.24097449550214387 vs. SFG 0.7590255044978561\n",
      "TEX 0.09718235082515403 vs. TOR 0.902817649174846\n",
      "CLE 0.9824726248554739 vs. BOS 0.01752737514452607\n",
      "TEX 0.09718235082515403 vs. TOR 0.902817649174846\n",
      "CLE 0.9824726248554739 vs. BOS 0.01752737514452607\n",
      "CHC 0.8928284291289509 vs. SFG 0.10717157087104912\n",
      "CHC 0.8928284291289509 vs. SFG 0.10717157087104912\n",
      "TOR 0.8126058662772977 vs. TEX 0.1873941337227023\n",
      "WSN 0.9270723477186701 vs. LAD 0.07292765228132991\n",
      "BOS 0.32047001835797556 vs. CLE 0.6795299816420244\n",
      "SFG 0.728319535355374 vs. CHC 0.27168046464462603\n",
      "LAD 0.9044167865701926 vs. WSN 0.09558321342980736\n",
      "CLE 0.8607572716069697 vs. TOR 0.1392427283930303\n",
      "CHC 0.9569654480750336 vs. LAD 0.04303455192496641\n",
      "CLE 0.8607572716069697 vs. TOR 0.1392427283930303\n",
      "TOR 0.8119657606151082 vs. CLE 0.18803423938489183\n",
      "LAD 0.9188364316645996 vs. CHC 0.0811635683354004\n",
      "CHC 0.9569654480750336 vs. LAD 0.04303455192496641\n",
      "CLE 0.9842321815977307 vs. CHC 0.015767818402269262\n",
      "CHC 0.9541643170287836 vs. CLE 0.04583568297121643\n"
     ]
    }
   ],
   "source": [
    "for i in range(len(today_winners)):\n",
    "    if today_winners[i] == 'Home':\n",
    "        print(f'{df2.H_name[i]} {probabilities[i][1]} vs. {df2.A_name[i]} {probabilities[i][0]}')"
   ]
  },
  {
   "cell_type": "code",
   "execution_count": 23,
   "metadata": {
    "ExecuteTime": {
     "end_time": "2022-01-18T19:29:06.776644Z",
     "start_time": "2022-01-18T19:29:06.744346Z"
    }
   },
   "outputs": [
    {
     "data": {
      "text/plain": [
       "array(['Home', 'Home', 'Home', 'Home', 'Away', 'Home', 'Home', 'Home',\n",
       "       'Home', 'Home', 'Home', 'Home', 'Away', 'Home', 'Home', 'Away',\n",
       "       'Away', 'Home', 'Home', 'Home', 'Away', 'Away', 'Home', 'Home',\n",
       "       'Away', 'Away', 'Away', 'Home', 'Home', 'Away', 'Away', 'Away',\n",
       "       'Home', 'Away', 'Away'], dtype='<U4')"
      ]
     },
     "execution_count": 23,
     "metadata": {},
     "output_type": "execute_result"
    }
   ],
   "source": [
    "today_winners"
   ]
  },
  {
   "cell_type": "markdown",
   "metadata": {},
   "source": [
    "6 out of 9 correct series predictions"
   ]
  },
  {
   "cell_type": "markdown",
   "metadata": {
    "heading_collapsed": true
   },
   "source": [
    "# KNN"
   ]
  },
  {
   "cell_type": "code",
   "execution_count": 73,
   "metadata": {
    "ExecuteTime": {
     "end_time": "2022-01-13T17:17:42.484983Z",
     "start_time": "2022-01-13T17:17:42.480251Z"
    },
    "hidden": true
   },
   "outputs": [],
   "source": [
    "#kfeats= feature_select(X_train_scaled,y_train,KNN,min_features=10)\n",
    "#X_train_best_knn = X_train_scaled[kfeats]\n",
    "#X_test_best_knn = X_test_scaled[kfeats]"
   ]
  },
  {
   "cell_type": "code",
   "execution_count": 147,
   "metadata": {
    "ExecuteTime": {
     "end_time": "2022-01-14T16:46:13.261578Z",
     "start_time": "2022-01-14T16:46:13.248585Z"
    },
    "hidden": true
   },
   "outputs": [],
   "source": [
    "def knn(X_train, X_test, y_train, y_test, metric='minkowski', cv=5):\n",
    "    \n",
    "    # Set GridSearchCV hyperparameters to compare & select\n",
    "    grid = {\n",
    "    'n_neighbors': [5,7,9,11,13,15,17],\n",
    "    'metric': ['minkowski', 'manhattan'],\n",
    "    'weights': ['uniform', 'distance']}\n",
    "    \n",
    "    # Instantiate & fit KNN model for GridSearch\n",
    "    grid_knn = KNeighborsClassifier()\n",
    "    grid_knn.fit(X_train, y_train)\n",
    "    \n",
    "    # Instantiate & fit GridSearchCV with accuracy scoring\n",
    "    gs = GridSearchCV(estimator=grid_knn, param_grid=grid, cv=cv, scoring='accuracy')\n",
    "    gs.fit(X_train, y_train)\n",
    "    \n",
    "    # Return best hyperparameters\n",
    "    knn_params = gs.best_params_\n",
    "    \n",
    "    # Use best # of neighbors from best_params\n",
    "    knn_neighbors = knn_params['n_neighbors']\n",
    "    print(f'Number of Neighbors: {knn_neighbors}')\n",
    "    \n",
    "    # Use best metric from best_params\n",
    "    knn_metric = knn_params['metric']\n",
    "    print(f'Metric: {knn_metric}')\n",
    "    \n",
    "    # Use best weights from best_params\n",
    "    knn_weights=knn_params['weights']\n",
    "    print(f'Weights: {knn_weights}')\n",
    "    \n",
    "    # Instantiate & fit K-Nearest Neighbors model\n",
    "    knn = KNeighborsClassifier(n_neighbors=knn_neighbors, metric=knn_metric,\n",
    "                               weights=knn_weights)\n",
    "    knn.fit(X_train, y_train)\n",
    "    \n",
    "    # Create prediction variable using test data\n",
    "    y_pred = knn.predict(X_test)\n",
    "    \n",
    "    # Run cross-validate score with cv folds from function parameter\n",
    "    cv_results = cross_val_score(knn, X_train, y_train, cv=cv)\n",
    "    print(f'Mean Cross-Val Score: {cv_results.mean()}')\n",
    "    \n",
    "    # Run and print accuracy, recall, precision and f1 scores\n",
    "    train_score = knn.score(X_train, y_train)\n",
    "    print(f'Train Mean Accuracy: {train_score}')\n",
    "    test_score = knn.score(X_test, y_test)\n",
    "    print(f'Test Mean Accuracy: {test_score}')\n",
    "    \n",
    "    rec_score = recall_score(y_test, y_pred)\n",
    "    print(f'Recall Score: {rec_score}')\n",
    "    \n",
    "    prec_score = precision_score(y_test, y_pred)\n",
    "    print(f'Precision Score: {prec_score}')\n",
    "    \n",
    "    f1 = f1_score(y_test, y_pred)\n",
    "    print(f'F1 score: {f1}')\n",
    "    \n",
    "    # Plot an ROC curve (only works with binary data)\n",
    "    fig, ax = plt.subplots()\n",
    "    plot_roc_curve(knn, X_train, y_train, name='train', ax=ax)\n",
    "    plot_roc_curve(knn, X_test, y_test, name='test', ax=ax)\n",
    "    \n",
    "    # Plot Confusion Matrix\n",
    "    plot_confusion_matrix(knn, X_train, y_train)\n",
    "    plot_confusion_matrix(knn, X_test, y_test)"
   ]
  },
  {
   "cell_type": "markdown",
   "metadata": {
    "hidden": true
   },
   "source": [
    "### Fav win KNN"
   ]
  },
  {
   "cell_type": "code",
   "execution_count": 156,
   "metadata": {
    "ExecuteTime": {
     "end_time": "2022-01-14T16:51:57.105703Z",
     "start_time": "2022-01-14T16:51:18.162491Z"
    },
    "hidden": true
   },
   "outputs": [
    {
     "name": "stdout",
     "output_type": "stream",
     "text": [
      "Number of Neighbors: 17\n",
      "Metric: minkowski\n",
      "Weights: uniform\n",
      "Mean Cross-Val Score: 0.5469466717576682\n",
      "Train Mean Accuracy: 0.6252059308072487\n",
      "Test Mean Accuracy: 0.5428571428571428\n",
      "Recall Score: 0.7272727272727273\n",
      "Precision Score: 0.6153846153846154\n",
      "F1 score: 0.6666666666666667\n"
     ]
    },
    {
     "data": {
      "image/png": "[encoded data removed]",
      "text/plain": [
       "<Figure size 432x288 with 1 Axes>"
      ]
     },
     "metadata": {
      "needs_background": "light"
     },
     "output_type": "display_data"
    },
    {
     "data": {
      "image/png": "[encoded data removed]",
      "text/plain": [
       "<Figure size 432x288 with 2 Axes>"
      ]
     },
     "metadata": {
      "needs_background": "light"
     },
     "output_type": "display_data"
    },
    {
     "data": {
      "image/png": "[encoded data removed]",
      "text/plain": [
       "<Figure size 432x288 with 2 Axes>"
      ]
     },
     "metadata": {
      "needs_background": "light"
     },
     "output_type": "display_data"
    }
   ],
   "source": [
    "knn(zero_imp_train,zero_imp_test,y_train,y_test)"
   ]
  },
  {
   "cell_type": "markdown",
   "metadata": {
    "hidden": true
   },
   "source": [
    "### Home win KNN"
   ]
  },
  {
   "cell_type": "code",
   "execution_count": 162,
   "metadata": {
    "ExecuteTime": {
     "end_time": "2022-01-14T16:53:14.638714Z",
     "start_time": "2022-01-14T16:52:39.155589Z"
    },
    "hidden": true
   },
   "outputs": [
    {
     "name": "stdout",
     "output_type": "stream",
     "text": [
      "Number of Neighbors: 17\n",
      "Metric: minkowski\n",
      "Weights: uniform\n",
      "Mean Cross-Val Score: 0.544081286326418\n",
      "Train Mean Accuracy: 0.6186161449752883\n",
      "Test Mean Accuracy: 0.5428571428571428\n",
      "Recall Score: 0.7058823529411765\n",
      "Precision Score: 0.5217391304347826\n",
      "F1 score: 0.6\n"
     ]
    },
    {
     "data": {
      "image/png": "[encoded data removed]",
      "text/plain": [
       "<Figure size 432x288 with 1 Axes>"
      ]
     },
     "metadata": {
      "needs_background": "light"
     },
     "output_type": "display_data"
    },
    {
     "data": {
      "image/png": "[encoded data removed]",
      "text/plain": [
       "<Figure size 432x288 with 2 Axes>"
      ]
     },
     "metadata": {
      "needs_background": "light"
     },
     "output_type": "display_data"
    },
    {
     "data": {
      "image/png": "[encoded data removed]",
      "text/plain": [
       "<Figure size 432x288 with 2 Axes>"
      ]
     },
     "metadata": {
      "needs_background": "light"
     },
     "output_type": "display_data"
    }
   ],
   "source": [
    "knn(zero_imp_train,zero_imp_test,y_train,y_test)"
   ]
  },
  {
   "cell_type": "markdown",
   "metadata": {
    "heading_collapsed": true
   },
   "source": [
    "# Decision Tree"
   ]
  },
  {
   "cell_type": "code",
   "execution_count": 172,
   "metadata": {
    "ExecuteTime": {
     "end_time": "2022-01-14T16:56:52.079837Z",
     "start_time": "2022-01-14T16:56:28.131279Z"
    },
    "hidden": true
   },
   "outputs": [],
   "source": [
    "dfeats= feature_select(zero_imp_train,y_train,DecisionTreeClassifier,min_features=10)\n",
    "X_train_best_tree = zero_imp_train[dfeats]\n",
    "X_test_best_tree = zero_imp_test[dfeats]"
   ]
  },
  {
   "cell_type": "code",
   "execution_count": 173,
   "metadata": {
    "ExecuteTime": {
     "end_time": "2022-01-14T16:56:52.117855Z",
     "start_time": "2022-01-14T16:56:52.082988Z"
    },
    "hidden": true
   },
   "outputs": [],
   "source": [
    "def dtree(X_train, X_test, y_train, y_test, cv=5):\n",
    "    \n",
    "    # Set GridSearchCV hyperparameters to compare & select\n",
    "    grid = {\n",
    "    'max_depth': [3,10,15],\n",
    "    'min_samples_split': [2,8,10,15],\n",
    "    'criterion': ['gini', 'entropy']}\n",
    "    \n",
    "    # Instantiate & fit Decision Tree model for GridSearch\n",
    "    grid_dt = DecisionTreeClassifier()\n",
    "    grid_dt.fit(X_train, y_train)\n",
    "    \n",
    "    # Instantiate & fit GridSearchCV with accuracy scoring\n",
    "    gs = GridSearchCV(estimator=grid_dt, param_grid=grid, cv=cv, scoring='accuracy')\n",
    "    gs.fit(X_train, y_train)\n",
    "    \n",
    "    # Return best hyperparameters\n",
    "    dt_params = gs.best_params_\n",
    "    \n",
    "    # Use best max depth from best_params\n",
    "    dt_max_depth = dt_params['max_depth']\n",
    "    print(f'Max Depth: {dt_max_depth}')\n",
    "    \n",
    "    # Use best minimum sample split from best_params\n",
    "    dt_min_samp = dt_params['min_samples_split']\n",
    "    print(f'Min Sample Split: {dt_min_samp}')\n",
    "    \n",
    "    # Use best criterion from best_params\n",
    "    dt_criterion = dt_params['criterion']\n",
    "    print(f'criterion: {dt_criterion}')\n",
    "    \n",
    "    # Instantiate & fit Decision Tree model\n",
    "    dtree = DecisionTreeClassifier(max_depth=dt_max_depth, criterion=dt_criterion,\n",
    "                                   min_samples_split=dt_min_samp, random_state=42)\n",
    "    dtree.fit(X_train, y_train)\n",
    "    \n",
    "    # Create prediction variable using test data\n",
    "    y_pred = dtree.predict(X_test)\n",
    "    \n",
    "    # Run cross-validate score with cv folds from function parameter\n",
    "    cv_results = cross_val_score(dtree, X_train, y_train, cv=cv)\n",
    "    print(f'Mean Cross-Val Score: {cv_results.mean()}')\n",
    "    \n",
    "    # Run and print accuracy, recall, precision and f1 scores\n",
    "    train_score = dtree.score(X_train, y_train)\n",
    "    print(f'Train Mean Accuracy: {train_score}')\n",
    "    test_score = dtree.score(X_test, y_test)\n",
    "    print(f'Test Mean Accuracy: {test_score}')\n",
    "    \n",
    "    rec_score = recall_score(y_test, y_pred)\n",
    "    print(f'Recall Score: {rec_score}')\n",
    "    \n",
    "    prec_score = precision_score(y_test, y_pred)\n",
    "    print(f'Precision Score: {prec_score}')\n",
    "    \n",
    "    f1 = f1_score(y_test, y_pred)\n",
    "    print(f'F1 score: {f1}')\n",
    "    \n",
    "    # Plot an ROC curve (only works with binary data)\n",
    "    fig, ax = plt.subplots()\n",
    "    plot_roc_curve(dtree, X_train, y_train, name='train', ax=ax)\n",
    "    plot_roc_curve(dtree, X_test, y_test, name='test', ax=ax)\n",
    "    \n",
    "    # Plot Confusion Matrix\n",
    "    plot_confusion_matrix(dtree, X_train, y_train)\n",
    "    plot_confusion_matrix(dtree, X_test, y_test)"
   ]
  },
  {
   "cell_type": "markdown",
   "metadata": {
    "heading_collapsed": true,
    "hidden": true
   },
   "source": [
    "### Dtree Home Win"
   ]
  },
  {
   "cell_type": "code",
   "execution_count": 166,
   "metadata": {
    "ExecuteTime": {
     "end_time": "2022-01-14T16:54:57.702345Z",
     "start_time": "2022-01-14T16:54:53.875580Z"
    },
    "hidden": true
   },
   "outputs": [
    {
     "name": "stdout",
     "output_type": "stream",
     "text": [
      "Max Depth: 3\n",
      "Min Sample Split: 2\n",
      "criterion: entropy\n",
      "Mean Cross-Val Score: 0.5646557210131092\n",
      "Train Mean Accuracy: 0.5914332784184514\n",
      "Test Mean Accuracy: 0.5714285714285714\n",
      "Recall Score: 1.0\n",
      "Precision Score: 0.53125\n",
      "F1 score: 0.6938775510204082\n"
     ]
    },
    {
     "data": {
      "image/png": "[encoded data removed]",
      "text/plain": [
       "<Figure size 432x288 with 1 Axes>"
      ]
     },
     "metadata": {
      "needs_background": "light"
     },
     "output_type": "display_data"
    },
    {
     "data": {
      "image/png": "[encoded data removed]",
      "text/plain": [
       "<Figure size 432x288 with 2 Axes>"
      ]
     },
     "metadata": {
      "needs_background": "light"
     },
     "output_type": "display_data"
    },
    {
     "data": {
      "image/png": "[encoded data removed]",
      "text/plain": [
       "<Figure size 432x288 with 2 Axes>"
      ]
     },
     "metadata": {
      "needs_background": "light"
     },
     "output_type": "display_data"
    }
   ],
   "source": [
    "dtree(X_train_best_tree,X_test_best_tree,y_train,y_test)"
   ]
  },
  {
   "cell_type": "markdown",
   "metadata": {
    "heading_collapsed": true,
    "hidden": true
   },
   "source": [
    "### Dtree Fav Win"
   ]
  },
  {
   "cell_type": "code",
   "execution_count": 174,
   "metadata": {
    "ExecuteTime": {
     "end_time": "2022-01-14T16:56:56.920429Z",
     "start_time": "2022-01-14T16:56:52.129953Z"
    },
    "hidden": true
   },
   "outputs": [
    {
     "name": "stdout",
     "output_type": "stream",
     "text": [
      "Max Depth: 3\n",
      "Min Sample Split: 2\n",
      "criterion: entropy\n",
      "Mean Cross-Val Score: 0.5490119214288744\n",
      "Train Mean Accuracy: 0.5642504118616145\n",
      "Test Mean Accuracy: 0.6\n",
      "Recall Score: 0.8181818181818182\n",
      "Precision Score: 0.6428571428571429\n",
      "F1 score: 0.7200000000000001\n"
     ]
    },
    {
     "data": {
      "image/png": "[encoded data removed]",
      "text/plain": [
       "<Figure size 432x288 with 1 Axes>"
      ]
     },
     "metadata": {
      "needs_background": "light"
     },
     "output_type": "display_data"
    },
    {
     "data": {
      "image/png": "[encoded data removed]",
      "text/plain": [
       "<Figure size 432x288 with 2 Axes>"
      ]
     },
     "metadata": {
      "needs_background": "light"
     },
     "output_type": "display_data"
    },
    {
     "data": {
      "image/png": "[encoded data removed]",
      "text/plain": [
       "<Figure size 432x288 with 2 Axes>"
      ]
     },
     "metadata": {
      "needs_background": "light"
     },
     "output_type": "display_data"
    }
   ],
   "source": [
    "dtree(X_train_best_tree,X_test_best_tree,y_train,y_test)"
   ]
  },
  {
   "cell_type": "markdown",
   "metadata": {},
   "source": [
    "# Random Forest"
   ]
  },
  {
   "cell_type": "code",
   "execution_count": 183,
   "metadata": {
    "ExecuteTime": {
     "end_time": "2022-01-14T18:10:08.604069Z",
     "start_time": "2022-01-14T18:03:26.154476Z"
    }
   },
   "outputs": [],
   "source": [
    "rfeats= feature_select(zero_imp_train,y_train,RandomForestClassifier,min_features=10)\n",
    "X_train_best_for = zero_imp_train[rfeats]\n",
    "X_test_best_for = zero_imp_test[rfeats]"
   ]
  },
  {
   "cell_type": "markdown",
   "metadata": {
    "heading_collapsed": true
   },
   "source": [
    "### Model"
   ]
  },
  {
   "cell_type": "code",
   "execution_count": 176,
   "metadata": {
    "ExecuteTime": {
     "end_time": "2022-01-14T17:44:56.126358Z",
     "start_time": "2022-01-14T17:44:56.054775Z"
    },
    "hidden": true
   },
   "outputs": [],
   "source": [
    "def random_forest(X_train, X_test, y_train, y_test, cv=5):\n",
    "    \n",
    "    # Set GridSearchCV hyperparameters to compare & select\n",
    "    grid = {\n",
    "    'n_estimators': [75,90,100,110,115,125,150,500],\n",
    "    'criterion': ['gini', 'entropy']}\n",
    "    \n",
    "    # Instantiate & fit Random Forest model for GridSearch\n",
    "    grid_rf = RandomForestClassifier()\n",
    "    grid_rf.fit(X_train,y_train)\n",
    "    \n",
    "    # Instantiate & fit GridSearchCV with accuracy scoring\n",
    "    gs = GridSearchCV(estimator=grid_rf, param_grid=grid, cv=cv, scoring='accuracy')\n",
    "    gs.fit(X_train, y_train)\n",
    "    \n",
    "    # Return best hyperparameters\n",
    "    rf_params = gs.best_params_\n",
    "    \n",
    "    # Use best # of trees from best_params\n",
    "    rf_n_estimators = rf_params['n_estimators']\n",
    "    print(f'Number of Trees: {rf_n_estimators}')\n",
    "    \n",
    "    # Use best criterion from best_params\n",
    "    rf_criterion = rf_params['criterion']\n",
    "    print(f'criterion: {rf_criterion}')\n",
    "    \n",
    "    # Instantiate & fit Random Forest model\n",
    "    rforest = RandomForestClassifier(n_estimators=rf_n_estimators, criterion=rf_criterion,\n",
    "                                    random_state=42)\n",
    "    rforest.fit(X_train, y_train)\n",
    "    \n",
    "    # Create prediction variable using test data\n",
    "    y_pred = rforest.predict(X_test)\n",
    "    \n",
    "    # Run cross-validate score with cv folds from function parameter\n",
    "    cv_results = cross_val_score(rforest, X_train, y_train, cv=cv)\n",
    "    print(f'Mean Cross-Val Score: {cv_results.mean()}')\n",
    "    \n",
    "    # Run and print accuracy, recall, precision and f1 scores\n",
    "    train_score = rforest.score(X_train, y_train)\n",
    "    print(f'Train Mean Accuracy: {train_score}')\n",
    "    test_score = rforest.score(X_test, y_test)\n",
    "    print(f'Test Mean Accuracy: {test_score}')\n",
    "    \n",
    "    rec_score = recall_score(y_test, y_pred)\n",
    "    print(f'Recall Score: {rec_score}')\n",
    "    \n",
    "    prec_score = precision_score(y_test, y_pred)\n",
    "    print(f'Precision Score: {prec_score}')\n",
    "    \n",
    "    f1 = f1_score(y_test, y_pred)\n",
    "    print(f'F1 score: {f1}')\n",
    "    \n",
    "    # Plot an ROC curve (only works with binary data)\n",
    "    fig, ax = plt.subplots()\n",
    "    plot_roc_curve(rforest, X_train, y_train, name='train', ax=ax)\n",
    "    plot_roc_curve(rforest, X_test, y_test, name='test', ax=ax)\n",
    "    \n",
    "    # Plot Confusion Matrix\n",
    "    plot_confusion_matrix(rforest, X_train, y_train)\n",
    "    plot_confusion_matrix(rforest, X_test, y_test);\n"
   ]
  },
  {
   "cell_type": "markdown",
   "metadata": {
    "heading_collapsed": true
   },
   "source": [
    "### RForest Fav Win"
   ]
  },
  {
   "cell_type": "code",
   "execution_count": 177,
   "metadata": {
    "ExecuteTime": {
     "end_time": "2022-01-14T17:47:32.433166Z",
     "start_time": "2022-01-14T17:44:56.138205Z"
    },
    "hidden": true
   },
   "outputs": [
    {
     "name": "stdout",
     "output_type": "stream",
     "text": [
      "Number of Trees: 500\n",
      "criterion: gini\n",
      "Mean Cross-Val Score: 0.5173119511263841\n",
      "Train Mean Accuracy: 0.6948105436573312\n",
      "Test Mean Accuracy: 0.6285714285714286\n",
      "Recall Score: 1.0\n",
      "Precision Score: 0.6285714285714286\n",
      "F1 score: 0.7719298245614035\n"
     ]
    },
    {
     "data": {
      "image/png": "[encoded data removed]",
      "text/plain": [
       "<Figure size 432x288 with 1 Axes>"
      ]
     },
     "metadata": {
      "needs_background": "light"
     },
     "output_type": "display_data"
    },
    {
     "data": {
      "image/png": "[encoded data removed]",
      "text/plain": [
       "<Figure size 432x288 with 2 Axes>"
      ]
     },
     "metadata": {
      "needs_background": "light"
     },
     "output_type": "display_data"
    },
    {
     "data": {
      "image/png": "[encoded data removed]",
      "text/plain": [
       "<Figure size 432x288 with 2 Axes>"
      ]
     },
     "metadata": {
      "needs_background": "light"
     },
     "output_type": "display_data"
    }
   ],
   "source": [
    "random_forest(X_train_best_for,X_test_best_for,y_train,y_test)"
   ]
  },
  {
   "cell_type": "markdown",
   "metadata": {},
   "source": [
    "### RForest Home Win"
   ]
  },
  {
   "cell_type": "code",
   "execution_count": 184,
   "metadata": {
    "ExecuteTime": {
     "end_time": "2022-01-14T18:11:35.483727Z",
     "start_time": "2022-01-14T18:10:08.612993Z"
    }
   },
   "outputs": [
    {
     "name": "stdout",
     "output_type": "stream",
     "text": [
      "Number of Trees: 125\n",
      "criterion: entropy\n",
      "Mean Cross-Val Score: 0.5218387000975776\n",
      "Train Mean Accuracy: 0.6948105436573312\n",
      "Test Mean Accuracy: 0.5714285714285714\n",
      "Recall Score: 1.0\n",
      "Precision Score: 0.53125\n",
      "F1 score: 0.6938775510204082\n"
     ]
    },
    {
     "data": {
      "image/png": "[encoded data removed]",
      "text/plain": [
       "<Figure size 432x288 with 1 Axes>"
      ]
     },
     "metadata": {
      "needs_background": "light"
     },
     "output_type": "display_data"
    },
    {
     "data": {
      "image/png": "[encoded data removed]",
      "text/plain": [
       "<Figure size 432x288 with 2 Axes>"
      ]
     },
     "metadata": {
      "needs_background": "light"
     },
     "output_type": "display_data"
    },
    {
     "data": {
      "image/png": "[encoded data removed]",
      "text/plain": [
       "<Figure size 432x288 with 2 Axes>"
      ]
     },
     "metadata": {
      "needs_background": "light"
     },
     "output_type": "display_data"
    }
   ],
   "source": [
    "random_forest(X_train_best_for,X_test_best_for,y_train,y_test)"
   ]
  },
  {
   "cell_type": "markdown",
   "metadata": {
    "heading_collapsed": true
   },
   "source": [
    "# Bagging Classifier"
   ]
  },
  {
   "cell_type": "code",
   "execution_count": 68,
   "metadata": {
    "ExecuteTime": {
     "end_time": "2022-01-13T17:12:48.592144Z",
     "start_time": "2022-01-13T17:12:48.570797Z"
    },
    "hidden": true
   },
   "outputs": [],
   "source": [
    "def bagged(X_train, X_test, y_train, y_test, cv=5):\n",
    "\n",
    "    # Set GridSearchCV hyperparameters to compare & select\n",
    "    grid = {\n",
    "    'base_estimator__max_depth': [2,5,15],\n",
    "    'base_estimator__criterion': ['gini', 'entropy'],\n",
    "    'max_samples': [1,2,3,5],\n",
    "    'max_features': [1,2,3,5],\n",
    "    'n_estimators': [10,50,100,500]}\n",
    "    \n",
    "    # Instantiate & fit Bagging Classifier model for GridSearch\n",
    "    grid_bag = BaggingClassifier(DecisionTreeClassifier(), random_state=42)\n",
    "    grid_bag.fit(X_train, y_train)\n",
    "    \n",
    "    # Instantiate & fit GridSearchCV with accuracy scoring\n",
    "    gs = GridSearchCV(estimator=grid_bag, param_grid=grid, cv=cv, scoring='accuracy')\n",
    "    gs.fit(X_train, y_train)\n",
    "    \n",
    "    # Return best hyperparameters\n",
    "    bag_params = gs.best_params_\n",
    "    \n",
    "    # Use best max depth from best_params\n",
    "    bag_max_depth = bag_params['base_estimator__max_depth']\n",
    "    print(f'Dec Tree Max Depth: {bag_max_depth}')\n",
    "    \n",
    "    # Use best criterion from best_params\n",
    "    bag_criterion = bag_params['base_estimator__criterion']\n",
    "    print(f'Dec Tree Criterion: {bag_criterion}')\n",
    "    \n",
    "    # Use best max samples from best_params\n",
    "    bag_max_sample = bag_params['max_samples']\n",
    "    print(f'Bagging Max Samples: {bag_max_sample}')\n",
    "    \n",
    "    # Use best max features from best_params\n",
    "    bag_max_features = bag_params['max_features']\n",
    "    print(f'Bag Max Features: {bag_max_features}')\n",
    "    \n",
    "    # Use best estimators from best_params\n",
    "    bag_estimators = bag_params['n_estimators']\n",
    "    print(f'# of Base Estimators: {bag_estimators}')\n",
    "    \n",
    "    # Instantiate & fit Bagging Classifier model\n",
    "    bagging = BaggingClassifier(DecisionTreeClassifier(max_depth=bag_max_depth,\n",
    "                                criterion=bag_criterion), max_samples=bag_max_sample,\n",
    "                                max_features=bag_max_features, n_estimators=bag_estimators,\n",
    "                                random_state=42)\n",
    "    bagging.fit(X_train, y_train)\n",
    "    \n",
    "    # Create prediction variable using test data\n",
    "    y_pred = bagging.predict(X_test)\n",
    "    \n",
    "    # Run cross-validate score with cv folds from function parameter\n",
    "    cv_results = cross_val_score(bagging, X_train, y_train, cv=cv)\n",
    "    print(f'Mean Cross-Val Score: {cv_results.mean()}')\n",
    "    \n",
    "    # Run and print accuracy, recall, precision and f1 scores\n",
    "    train_score = bagging.score(X_train, y_train)\n",
    "    print(f'Train Mean Accuracy Score: {train_score}')\n",
    "    test_score = bagging.score(X_test, y_test)\n",
    "    print(f'Test Mean Accuracy Score: {test_score}')\n",
    "    \n",
    "    rec_score = recall_score(y_test, y_pred)\n",
    "    print(f'Recall Score: {rec_score}')\n",
    "    \n",
    "    prec_score = precision_score(y_test, y_pred)\n",
    "    print(f'Precision Score: {prec_score}')\n",
    "    \n",
    "    f1 = f1_score(y_test, y_pred)\n",
    "    print(f'F1 score: {f1}')\n",
    "    \n",
    "    # Plot an ROC curve (only works with binary data)\n",
    "    fig, ax = plt.subplots()\n",
    "    plot_roc_curve(bagging, X_train, y_train, name='train', ax=ax)\n",
    "    plot_roc_curve(bagging, X_test, y_test, name='test', ax=ax)\n",
    "    \n",
    "    # Plot Confusion Matrix\n",
    "    plot_confusion_matrix(bagging, X_train, y_train)\n",
    "    plot_confusion_matrix(bagging, X_test, y_test);"
   ]
  },
  {
   "cell_type": "code",
   "execution_count": 185,
   "metadata": {
    "ExecuteTime": {
     "end_time": "2022-01-14T18:13:41.708626Z",
     "start_time": "2022-01-14T18:13:41.705395Z"
    },
    "hidden": true
   },
   "outputs": [],
   "source": [
    "#bagged(X_train_best_tree,X_test_best_tree,y_train,y_test)"
   ]
  },
  {
   "cell_type": "markdown",
   "metadata": {
    "heading_collapsed": true
   },
   "source": [
    "# XGBoost"
   ]
  },
  {
   "cell_type": "code",
   "execution_count": 88,
   "metadata": {
    "ExecuteTime": {
     "end_time": "2022-01-13T17:45:26.703431Z",
     "start_time": "2022-01-13T17:39:17.349250Z"
    },
    "hidden": true
   },
   "outputs": [],
   "source": [
    "xfeats= feature_select(X_train,y_train,XGBClassifier,min_features=10)\n",
    "X_train_best_x = X_train[xfeats]\n",
    "X_test_best_x = X_test[xfeats]"
   ]
  },
  {
   "cell_type": "code",
   "execution_count": 89,
   "metadata": {
    "ExecuteTime": {
     "end_time": "2022-01-13T17:45:26.785568Z",
     "start_time": "2022-01-13T17:45:26.706388Z"
    },
    "hidden": true
   },
   "outputs": [],
   "source": [
    "def xgboost(X_train, X_test, y_train, y_test, cv=5):\n",
    "    \n",
    "    # Set GridSearchCV hyperparameters to compare & select\n",
    "    grid = {\n",
    "    'learning_rate': [.05,.1,.2,.3],\n",
    "    'max_depth': [3,6,10],\n",
    "    'min_child_weight': [1,2],\n",
    "    'subsample': [.5,.7,1],\n",
    "    'n_estimators': [100,300,500],\n",
    "    'early_stopping_rounds': [15]}\n",
    "    \n",
    "    # Instantiate & fit XGClassifier\n",
    "    xgb = XGBClassifier(verbosity=0, random_state=42)\n",
    "    xgb.fit(X_train, y_train)\n",
    "    \n",
    "    # Instantiate & fit GridSearchCV with accuracy scoring\n",
    "    gs = GridSearchCV(estimator=xgb, param_grid=grid, cv=cv, scoring='accuracy')\n",
    "    gs.fit(X_train, y_train)\n",
    "    \n",
    "    # Return best hyperparameters\n",
    "    xgb_params = gs.best_params_\n",
    "    \n",
    "    # Use best learning rate from best_params\n",
    "    xgb_lr = xgb_params['learning_rate']\n",
    "    print(f'XGBoost Learning Rate: {xgb_lr}')\n",
    "    \n",
    "    # Use best max depth from best_params\n",
    "    xgb_max_depth = xgb_params['max_depth']\n",
    "    print(f'XGBoost Max Depth: {xgb_max_depth}')\n",
    "    \n",
    "    # Use best min child weight from best_params\n",
    "    xgb_min_child_weight = xgb_params['min_child_weight']\n",
    "    print(f'XGBoost Min Child Weight: {xgb_min_child_weight}')\n",
    "    \n",
    "    # Use best subsample from best_params\n",
    "    xgb_subsample = xgb_params['subsample']\n",
    "    print(f'XGBoost Subsample: {xgb_subsample}')\n",
    "    \n",
    "    # Use best estimators from best_params\n",
    "    xgb_estimators = xgb_params['n_estimators']\n",
    "    print(f'XGBoost Estimators: {xgb_estimators}')\n",
    "    \n",
    "    # Use best criterion from best_params\n",
    "    xgb_stop = xgb_params['early_stopping_rounds']\n",
    "    print(f'Stopped in Round: {xgb_stop}')\n",
    "    \n",
    "    # Create prediction variable using test data\n",
    "    y_pred = xgb.predict(X_test)\n",
    "    \n",
    "    # Run cross-validate score with cv folds from function parameter\n",
    "    cv_results = cross_val_score(xgb, X_train, y_train, cv=cv)\n",
    "    print(f'Mean Cross-Val Score: {cv_results.mean()}')\n",
    "    \n",
    "    # Run and print accuracy, recall, precision and f1 scores\n",
    "    train_score = xgb.score(X_train, y_train)\n",
    "    print(f'Train Mean Accuracy Score: {train_score}')\n",
    "    test_score = xgb.score(X_test, y_test)\n",
    "    print(f'Test Mean Accuracy Score: {test_score}')\n",
    "    \n",
    "    rec_score = recall_score(y_test, y_pred)\n",
    "    print(f'Recall Score: {rec_score}')\n",
    "    \n",
    "    prec_score = precision_score(y_test, y_pred)\n",
    "    print(f'Precision Score: {prec_score}')\n",
    "    \n",
    "    f1 = f1_score(y_test, y_pred)\n",
    "    print(f'F1 score: {f1}')\n",
    "    \n",
    "    # Plot an ROC curve (only works with binary data)\n",
    "    fig, ax = plt.subplots()\n",
    "    plot_roc_curve(xgb, X_train, y_train, name='train', ax=ax)\n",
    "    plot_roc_curve(xgb, X_test, y_test, name='test', ax=ax)\n",
    "    \n",
    "    # Plot Confusion Matrix\n",
    "    plot_confusion_matrix(xgb, X_train, y_train)\n",
    "    plot_confusion_matrix(xgb, X_test, y_test);"
   ]
  },
  {
   "cell_type": "code",
   "execution_count": 186,
   "metadata": {
    "ExecuteTime": {
     "end_time": "2022-01-14T18:13:51.337129Z",
     "start_time": "2022-01-14T18:13:51.333040Z"
    },
    "hidden": true
   },
   "outputs": [],
   "source": [
    "#xgboost(X_train_best_x, X_test_best_x, y_train, y_test, cv=5)"
   ]
  },
  {
   "cell_type": "code",
   "execution_count": null,
   "metadata": {
    "hidden": true
   },
   "outputs": [],
   "source": []
  }
 ],
 "metadata": {
  "kernelspec": {
   "display_name": "Python (learn-env)",
   "language": "python",
   "name": "learn-env"
  },
  "language_info": {
   "codemirror_mode": {
    "name": "ipython",
    "version": 3
   },
   "file_extension": ".py",
   "mimetype": "text/x-python",
   "name": "python",
   "nbconvert_exporter": "python",
   "pygments_lexer": "ipython3",
   "version": "3.8.5"
  }
 },
 "nbformat": 4,
 "nbformat_minor": 4
}

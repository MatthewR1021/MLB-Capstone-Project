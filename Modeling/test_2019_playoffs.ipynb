{
 "cells": [
  {
   "cell_type": "code",
   "execution_count": 48,
   "metadata": {
    "ExecuteTime": {
     "end_time": "2022-01-19T23:43:29.913842Z",
     "start_time": "2022-01-19T23:43:29.828675Z"
    }
   },
   "outputs": [],
   "source": [
    "# Import the relevant packages\n",
    "import pandas as pd\n",
    "import numpy as np\n",
    "import matplotlib.pyplot as plt\n",
    "from sklearn.linear_model import LogisticRegression\n",
    "from sklearn.model_selection import cross_val_score, train_test_split,GridSearchCV\n",
    "from sklearn.metrics import plot_confusion_matrix, plot_roc_curve, accuracy_score, \\\n",
    "recall_score, precision_score, f1_score\n",
    "from sklearn.neighbors import KNeighborsClassifier\n",
    "from sklearn.preprocessing import StandardScaler\n",
    "from sklearn.tree import DecisionTreeClassifier, plot_tree\n",
    "from sklearn.ensemble import BaggingClassifier, RandomForestClassifier\n",
    "from sklearn.datasets import load_iris\n",
    "from sklearn.ensemble import AdaBoostClassifier, GradientBoostingClassifier\n",
    "from xgboost import XGBClassifier\n",
    "import statsmodels.api as sm\n",
    "from sklearn.feature_selection import RFECV\n",
    "from sklearn.decomposition import PCA\n",
    "import warnings\n",
    "warnings.filterwarnings(\"ignore\")"
   ]
  },
  {
   "cell_type": "code",
   "execution_count": 49,
   "metadata": {
    "ExecuteTime": {
     "end_time": "2022-01-19T23:43:30.264315Z",
     "start_time": "2022-01-19T23:43:30.248467Z"
    }
   },
   "outputs": [],
   "source": [
    "#Import functions notebook and load data set here\n",
    "import sys\n",
    "sys.path.append(\"../\")\n",
    "from Modeling_functions import *"
   ]
  },
  {
   "cell_type": "code",
   "execution_count": 50,
   "metadata": {
    "ExecuteTime": {
     "end_time": "2022-01-19T23:43:31.139766Z",
     "start_time": "2022-01-19T23:43:30.874384Z"
    }
   },
   "outputs": [],
   "source": [
    "df=pd.read_csv('../data/Season_2019.csv')"
   ]
  },
  {
   "cell_type": "code",
   "execution_count": 51,
   "metadata": {
    "ExecuteTime": {
     "end_time": "2022-01-19T23:43:31.391680Z",
     "start_time": "2022-01-19T23:43:31.343289Z"
    }
   },
   "outputs": [],
   "source": [
    "df.drop(['Unnamed: 0'],axis=1,inplace=True)"
   ]
  },
  {
   "cell_type": "code",
   "execution_count": 52,
   "metadata": {
    "ExecuteTime": {
     "end_time": "2022-01-19T23:43:31.910756Z",
     "start_time": "2022-01-19T23:43:31.833927Z"
    }
   },
   "outputs": [],
   "source": [
    "df2=pd.read_csv('../data/Playoffs_2019.csv').drop('Unnamed: 0',axis=1)"
   ]
  },
  {
   "cell_type": "markdown",
   "metadata": {},
   "source": [
    "Find and eliminate NaNs"
   ]
  },
  {
   "cell_type": "code",
   "execution_count": 53,
   "metadata": {
    "ExecuteTime": {
     "end_time": "2022-01-19T23:43:32.994302Z",
     "start_time": "2022-01-19T23:43:32.974726Z"
    }
   },
   "outputs": [],
   "source": [
    "df=df.drop(['H_win_probability_subtracted','A_win_probability_subtracted','A_Opp_win_probability_subtracted',\n",
    "         'H_Opp_win_probability_subtracted'],axis=1)"
   ]
  },
  {
   "cell_type": "code",
   "execution_count": 54,
   "metadata": {
    "ExecuteTime": {
     "end_time": "2022-01-19T23:43:33.326153Z",
     "start_time": "2022-01-19T23:43:33.308965Z"
    },
    "scrolled": true
   },
   "outputs": [],
   "source": [
    "df2=df2.drop(['H_win_probability_subtracted','A_win_probability_subtracted','A_Opp_win_probability_subtracted',\n",
    "         'H_Opp_win_probability_subtracted'],axis=1)"
   ]
  },
  {
   "cell_type": "code",
   "execution_count": 55,
   "metadata": {
    "ExecuteTime": {
     "end_time": "2022-01-19T23:43:33.640326Z",
     "start_time": "2022-01-19T23:43:33.623669Z"
    }
   },
   "outputs": [
    {
     "data": {
      "text/plain": [
       "1    0.529872\n",
       "0    0.470128\n",
       "Name: home_win, dtype: float64"
      ]
     },
     "execution_count": 55,
     "metadata": {},
     "output_type": "execute_result"
    }
   ],
   "source": [
    "df.home_win.value_counts(normalize=True)"
   ]
  },
  {
   "cell_type": "code",
   "execution_count": 56,
   "metadata": {
    "ExecuteTime": {
     "end_time": "2022-01-19T23:43:33.952657Z",
     "start_time": "2022-01-19T23:43:33.938225Z"
    }
   },
   "outputs": [
    {
     "data": {
      "text/plain": [
       "1    0.5\n",
       "0    0.5\n",
       "Name: home_win, dtype: float64"
      ]
     },
     "execution_count": 56,
     "metadata": {},
     "output_type": "execute_result"
    }
   ],
   "source": [
    "df2.home_win.value_counts(normalize=True)"
   ]
  },
  {
   "cell_type": "code",
   "execution_count": 57,
   "metadata": {
    "ExecuteTime": {
     "end_time": "2022-01-19T23:43:34.424531Z",
     "start_time": "2022-01-19T23:43:34.288108Z"
    }
   },
   "outputs": [
    {
     "data": {
      "text/html": [
       "<div>\n",
       "<style scoped>\n",
       "    .dataframe tbody tr th:only-of-type {\n",
       "        vertical-align: middle;\n",
       "    }\n",
       "\n",
       "    .dataframe tbody tr th {\n",
       "        vertical-align: top;\n",
       "    }\n",
       "\n",
       "    .dataframe thead th {\n",
       "        text-align: right;\n",
       "    }\n",
       "</style>\n",
       "<table border=\"1\" class=\"dataframe\">\n",
       "  <thead>\n",
       "    <tr style=\"text-align: right;\">\n",
       "      <th></th>\n",
       "      <th>H_name</th>\n",
       "      <th>H_at_bats</th>\n",
       "      <th>H_runs</th>\n",
       "      <th>H_hits</th>\n",
       "      <th>H_rbi</th>\n",
       "      <th>H_earned_runs</th>\n",
       "      <th>H_bases_on_balls</th>\n",
       "      <th>H_strikeouts</th>\n",
       "      <th>H_plate_appearances</th>\n",
       "      <th>H_batting_average</th>\n",
       "      <th>...</th>\n",
       "      <th>A_Opp_grounded_balls</th>\n",
       "      <th>A_Opp_fly_balls</th>\n",
       "      <th>A_Opp_line_drives</th>\n",
       "      <th>A_Opp_unknown_bat_type</th>\n",
       "      <th>A_Opp_game_score</th>\n",
       "      <th>A_Opp_inherited_runners</th>\n",
       "      <th>A_Opp_inherited_score</th>\n",
       "      <th>A_Opp_win_probability_by_pitcher</th>\n",
       "      <th>A_Opp_base_out_runs_saved</th>\n",
       "      <th>home_win</th>\n",
       "    </tr>\n",
       "  </thead>\n",
       "  <tbody>\n",
       "    <tr>\n",
       "      <th>0</th>\n",
       "      <td>WSN</td>\n",
       "      <td>33.083333</td>\n",
       "      <td>4.000000</td>\n",
       "      <td>7.500000</td>\n",
       "      <td>3.833333</td>\n",
       "      <td>3.733750</td>\n",
       "      <td>3.416667</td>\n",
       "      <td>9.333333</td>\n",
       "      <td>37.500000</td>\n",
       "      <td>0.221792</td>\n",
       "      <td>...</td>\n",
       "      <td>9.000000</td>\n",
       "      <td>13.000000</td>\n",
       "      <td>4.000000</td>\n",
       "      <td>0.0</td>\n",
       "      <td>50.000000</td>\n",
       "      <td>0.000000</td>\n",
       "      <td>0.000000</td>\n",
       "      <td>0.211000</td>\n",
       "      <td>1.900000e+00</td>\n",
       "      <td>1</td>\n",
       "    </tr>\n",
       "    <tr>\n",
       "      <th>1</th>\n",
       "      <td>OAK</td>\n",
       "      <td>33.000000</td>\n",
       "      <td>1.000000</td>\n",
       "      <td>8.000000</td>\n",
       "      <td>1.000000</td>\n",
       "      <td>0.000000</td>\n",
       "      <td>3.000000</td>\n",
       "      <td>12.000000</td>\n",
       "      <td>37.000000</td>\n",
       "      <td>0.242000</td>\n",
       "      <td>...</td>\n",
       "      <td>6.666667</td>\n",
       "      <td>16.555556</td>\n",
       "      <td>6.666667</td>\n",
       "      <td>0.0</td>\n",
       "      <td>66.111111</td>\n",
       "      <td>2.444444</td>\n",
       "      <td>0.333333</td>\n",
       "      <td>0.211556</td>\n",
       "      <td>1.855556e+00</td>\n",
       "      <td>0</td>\n",
       "    </tr>\n",
       "    <tr>\n",
       "      <th>2</th>\n",
       "      <td>ATL</td>\n",
       "      <td>33.500000</td>\n",
       "      <td>3.375000</td>\n",
       "      <td>7.625000</td>\n",
       "      <td>3.125000</td>\n",
       "      <td>2.832500</td>\n",
       "      <td>2.750000</td>\n",
       "      <td>9.000000</td>\n",
       "      <td>37.125000</td>\n",
       "      <td>0.227750</td>\n",
       "      <td>...</td>\n",
       "      <td>11.416667</td>\n",
       "      <td>12.916667</td>\n",
       "      <td>5.416667</td>\n",
       "      <td>0.0</td>\n",
       "      <td>57.583333</td>\n",
       "      <td>2.500000</td>\n",
       "      <td>0.666667</td>\n",
       "      <td>0.096667</td>\n",
       "      <td>5.833333e-01</td>\n",
       "      <td>0</td>\n",
       "    </tr>\n",
       "    <tr>\n",
       "      <th>3</th>\n",
       "      <td>LAD</td>\n",
       "      <td>34.125000</td>\n",
       "      <td>4.125000</td>\n",
       "      <td>7.125000</td>\n",
       "      <td>3.875000</td>\n",
       "      <td>3.955000</td>\n",
       "      <td>3.750000</td>\n",
       "      <td>13.125000</td>\n",
       "      <td>38.375000</td>\n",
       "      <td>0.204375</td>\n",
       "      <td>...</td>\n",
       "      <td>9.416667</td>\n",
       "      <td>15.000000</td>\n",
       "      <td>7.000000</td>\n",
       "      <td>0.0</td>\n",
       "      <td>56.458333</td>\n",
       "      <td>2.500000</td>\n",
       "      <td>0.625000</td>\n",
       "      <td>0.007333</td>\n",
       "      <td>7.500000e-01</td>\n",
       "      <td>1</td>\n",
       "    </tr>\n",
       "    <tr>\n",
       "      <th>4</th>\n",
       "      <td>HOU</td>\n",
       "      <td>34.333333</td>\n",
       "      <td>4.375000</td>\n",
       "      <td>8.541667</td>\n",
       "      <td>4.083333</td>\n",
       "      <td>4.122083</td>\n",
       "      <td>3.666667</td>\n",
       "      <td>8.250000</td>\n",
       "      <td>38.250000</td>\n",
       "      <td>0.246125</td>\n",
       "      <td>...</td>\n",
       "      <td>6.666667</td>\n",
       "      <td>16.555556</td>\n",
       "      <td>6.666667</td>\n",
       "      <td>0.0</td>\n",
       "      <td>66.111111</td>\n",
       "      <td>2.444444</td>\n",
       "      <td>0.333333</td>\n",
       "      <td>0.211556</td>\n",
       "      <td>1.855556e+00</td>\n",
       "      <td>1</td>\n",
       "    </tr>\n",
       "    <tr>\n",
       "      <th>5</th>\n",
       "      <td>ATL</td>\n",
       "      <td>33.500000</td>\n",
       "      <td>3.375000</td>\n",
       "      <td>7.625000</td>\n",
       "      <td>3.125000</td>\n",
       "      <td>2.832500</td>\n",
       "      <td>2.750000</td>\n",
       "      <td>9.000000</td>\n",
       "      <td>37.125000</td>\n",
       "      <td>0.227750</td>\n",
       "      <td>...</td>\n",
       "      <td>11.416667</td>\n",
       "      <td>12.916667</td>\n",
       "      <td>5.416667</td>\n",
       "      <td>0.0</td>\n",
       "      <td>57.583333</td>\n",
       "      <td>2.500000</td>\n",
       "      <td>0.666667</td>\n",
       "      <td>0.096667</td>\n",
       "      <td>5.833333e-01</td>\n",
       "      <td>1</td>\n",
       "    </tr>\n",
       "    <tr>\n",
       "      <th>6</th>\n",
       "      <td>LAD</td>\n",
       "      <td>34.125000</td>\n",
       "      <td>4.125000</td>\n",
       "      <td>7.125000</td>\n",
       "      <td>3.875000</td>\n",
       "      <td>3.955000</td>\n",
       "      <td>3.750000</td>\n",
       "      <td>13.125000</td>\n",
       "      <td>38.375000</td>\n",
       "      <td>0.204375</td>\n",
       "      <td>...</td>\n",
       "      <td>9.416667</td>\n",
       "      <td>15.000000</td>\n",
       "      <td>7.000000</td>\n",
       "      <td>0.0</td>\n",
       "      <td>56.458333</td>\n",
       "      <td>2.500000</td>\n",
       "      <td>0.625000</td>\n",
       "      <td>0.007333</td>\n",
       "      <td>7.500000e-01</td>\n",
       "      <td>0</td>\n",
       "    </tr>\n",
       "    <tr>\n",
       "      <th>7</th>\n",
       "      <td>NYY</td>\n",
       "      <td>34.000000</td>\n",
       "      <td>4.900000</td>\n",
       "      <td>8.300000</td>\n",
       "      <td>4.700000</td>\n",
       "      <td>4.914000</td>\n",
       "      <td>4.000000</td>\n",
       "      <td>10.000000</td>\n",
       "      <td>38.500000</td>\n",
       "      <td>0.242300</td>\n",
       "      <td>...</td>\n",
       "      <td>8.250000</td>\n",
       "      <td>16.500000</td>\n",
       "      <td>5.750000</td>\n",
       "      <td>0.0</td>\n",
       "      <td>56.000000</td>\n",
       "      <td>3.000000</td>\n",
       "      <td>0.000000</td>\n",
       "      <td>0.276500</td>\n",
       "      <td>2.900000e+00</td>\n",
       "      <td>1</td>\n",
       "    </tr>\n",
       "    <tr>\n",
       "      <th>8</th>\n",
       "      <td>WSN</td>\n",
       "      <td>33.083333</td>\n",
       "      <td>4.000000</td>\n",
       "      <td>7.500000</td>\n",
       "      <td>3.833333</td>\n",
       "      <td>3.733750</td>\n",
       "      <td>3.416667</td>\n",
       "      <td>9.333333</td>\n",
       "      <td>37.500000</td>\n",
       "      <td>0.221792</td>\n",
       "      <td>...</td>\n",
       "      <td>11.125000</td>\n",
       "      <td>13.625000</td>\n",
       "      <td>5.000000</td>\n",
       "      <td>0.0</td>\n",
       "      <td>63.875000</td>\n",
       "      <td>0.750000</td>\n",
       "      <td>0.750000</td>\n",
       "      <td>0.110750</td>\n",
       "      <td>5.500000e-01</td>\n",
       "      <td>0</td>\n",
       "    </tr>\n",
       "    <tr>\n",
       "      <th>9</th>\n",
       "      <td>STL</td>\n",
       "      <td>33.916667</td>\n",
       "      <td>4.333333</td>\n",
       "      <td>7.583333</td>\n",
       "      <td>4.083333</td>\n",
       "      <td>3.721667</td>\n",
       "      <td>2.833333</td>\n",
       "      <td>10.250000</td>\n",
       "      <td>37.666667</td>\n",
       "      <td>0.213833</td>\n",
       "      <td>...</td>\n",
       "      <td>13.625000</td>\n",
       "      <td>13.250000</td>\n",
       "      <td>7.375000</td>\n",
       "      <td>0.0</td>\n",
       "      <td>60.125000</td>\n",
       "      <td>2.250000</td>\n",
       "      <td>0.500000</td>\n",
       "      <td>0.057500</td>\n",
       "      <td>1.512500e+00</td>\n",
       "      <td>0</td>\n",
       "    </tr>\n",
       "    <tr>\n",
       "      <th>10</th>\n",
       "      <td>MIN</td>\n",
       "      <td>34.000000</td>\n",
       "      <td>2.000000</td>\n",
       "      <td>7.750000</td>\n",
       "      <td>2.000000</td>\n",
       "      <td>2.000000</td>\n",
       "      <td>3.750000</td>\n",
       "      <td>10.750000</td>\n",
       "      <td>38.000000</td>\n",
       "      <td>0.227000</td>\n",
       "      <td>...</td>\n",
       "      <td>9.400000</td>\n",
       "      <td>14.700000</td>\n",
       "      <td>7.000000</td>\n",
       "      <td>0.0</td>\n",
       "      <td>52.900000</td>\n",
       "      <td>3.200000</td>\n",
       "      <td>0.800000</td>\n",
       "      <td>0.044000</td>\n",
       "      <td>4.440892e-17</td>\n",
       "      <td>0</td>\n",
       "    </tr>\n",
       "    <tr>\n",
       "      <th>11</th>\n",
       "      <td>WSN</td>\n",
       "      <td>33.083333</td>\n",
       "      <td>4.000000</td>\n",
       "      <td>7.500000</td>\n",
       "      <td>3.833333</td>\n",
       "      <td>3.733750</td>\n",
       "      <td>3.416667</td>\n",
       "      <td>9.333333</td>\n",
       "      <td>37.500000</td>\n",
       "      <td>0.221792</td>\n",
       "      <td>...</td>\n",
       "      <td>11.125000</td>\n",
       "      <td>13.625000</td>\n",
       "      <td>5.000000</td>\n",
       "      <td>0.0</td>\n",
       "      <td>63.875000</td>\n",
       "      <td>0.750000</td>\n",
       "      <td>0.750000</td>\n",
       "      <td>0.110750</td>\n",
       "      <td>5.500000e-01</td>\n",
       "      <td>1</td>\n",
       "    </tr>\n",
       "    <tr>\n",
       "      <th>12</th>\n",
       "      <td>TBR</td>\n",
       "      <td>31.666667</td>\n",
       "      <td>3.000000</td>\n",
       "      <td>6.444444</td>\n",
       "      <td>3.000000</td>\n",
       "      <td>3.068889</td>\n",
       "      <td>2.777778</td>\n",
       "      <td>11.777778</td>\n",
       "      <td>34.777778</td>\n",
       "      <td>0.195778</td>\n",
       "      <td>...</td>\n",
       "      <td>8.833333</td>\n",
       "      <td>14.083333</td>\n",
       "      <td>6.083333</td>\n",
       "      <td>0.0</td>\n",
       "      <td>48.708333</td>\n",
       "      <td>2.333333</td>\n",
       "      <td>0.500000</td>\n",
       "      <td>0.025500</td>\n",
       "      <td>5.208333e-01</td>\n",
       "      <td>1</td>\n",
       "    </tr>\n",
       "    <tr>\n",
       "      <th>13</th>\n",
       "      <td>STL</td>\n",
       "      <td>33.916667</td>\n",
       "      <td>4.333333</td>\n",
       "      <td>7.583333</td>\n",
       "      <td>4.083333</td>\n",
       "      <td>3.721667</td>\n",
       "      <td>2.833333</td>\n",
       "      <td>10.250000</td>\n",
       "      <td>37.666667</td>\n",
       "      <td>0.213833</td>\n",
       "      <td>...</td>\n",
       "      <td>13.625000</td>\n",
       "      <td>13.250000</td>\n",
       "      <td>7.375000</td>\n",
       "      <td>0.0</td>\n",
       "      <td>60.125000</td>\n",
       "      <td>2.250000</td>\n",
       "      <td>0.500000</td>\n",
       "      <td>0.057500</td>\n",
       "      <td>1.512500e+00</td>\n",
       "      <td>1</td>\n",
       "    </tr>\n",
       "    <tr>\n",
       "      <th>14</th>\n",
       "      <td>STL</td>\n",
       "      <td>33.916667</td>\n",
       "      <td>4.333333</td>\n",
       "      <td>7.583333</td>\n",
       "      <td>4.083333</td>\n",
       "      <td>3.721667</td>\n",
       "      <td>2.833333</td>\n",
       "      <td>10.250000</td>\n",
       "      <td>37.666667</td>\n",
       "      <td>0.213833</td>\n",
       "      <td>...</td>\n",
       "      <td>9.416667</td>\n",
       "      <td>15.000000</td>\n",
       "      <td>7.000000</td>\n",
       "      <td>0.0</td>\n",
       "      <td>56.458333</td>\n",
       "      <td>2.500000</td>\n",
       "      <td>0.625000</td>\n",
       "      <td>0.007333</td>\n",
       "      <td>7.500000e-01</td>\n",
       "      <td>0</td>\n",
       "    </tr>\n",
       "    <tr>\n",
       "      <th>15</th>\n",
       "      <td>HOU</td>\n",
       "      <td>34.333333</td>\n",
       "      <td>4.375000</td>\n",
       "      <td>8.541667</td>\n",
       "      <td>4.083333</td>\n",
       "      <td>4.122083</td>\n",
       "      <td>3.666667</td>\n",
       "      <td>8.250000</td>\n",
       "      <td>38.250000</td>\n",
       "      <td>0.246125</td>\n",
       "      <td>...</td>\n",
       "      <td>9.400000</td>\n",
       "      <td>14.700000</td>\n",
       "      <td>7.000000</td>\n",
       "      <td>0.0</td>\n",
       "      <td>52.900000</td>\n",
       "      <td>3.200000</td>\n",
       "      <td>0.800000</td>\n",
       "      <td>0.044000</td>\n",
       "      <td>4.440892e-17</td>\n",
       "      <td>0</td>\n",
       "    </tr>\n",
       "    <tr>\n",
       "      <th>16</th>\n",
       "      <td>HOU</td>\n",
       "      <td>34.333333</td>\n",
       "      <td>4.375000</td>\n",
       "      <td>8.541667</td>\n",
       "      <td>4.083333</td>\n",
       "      <td>4.122083</td>\n",
       "      <td>3.666667</td>\n",
       "      <td>8.250000</td>\n",
       "      <td>38.250000</td>\n",
       "      <td>0.246125</td>\n",
       "      <td>...</td>\n",
       "      <td>9.400000</td>\n",
       "      <td>14.700000</td>\n",
       "      <td>7.000000</td>\n",
       "      <td>0.0</td>\n",
       "      <td>52.900000</td>\n",
       "      <td>3.200000</td>\n",
       "      <td>0.800000</td>\n",
       "      <td>0.044000</td>\n",
       "      <td>4.440892e-17</td>\n",
       "      <td>1</td>\n",
       "    </tr>\n",
       "    <tr>\n",
       "      <th>17</th>\n",
       "      <td>WSN</td>\n",
       "      <td>33.083333</td>\n",
       "      <td>4.000000</td>\n",
       "      <td>7.500000</td>\n",
       "      <td>3.833333</td>\n",
       "      <td>3.733750</td>\n",
       "      <td>3.416667</td>\n",
       "      <td>9.333333</td>\n",
       "      <td>37.500000</td>\n",
       "      <td>0.221792</td>\n",
       "      <td>...</td>\n",
       "      <td>11.416667</td>\n",
       "      <td>12.916667</td>\n",
       "      <td>5.416667</td>\n",
       "      <td>0.0</td>\n",
       "      <td>57.583333</td>\n",
       "      <td>2.500000</td>\n",
       "      <td>0.666667</td>\n",
       "      <td>0.096667</td>\n",
       "      <td>5.833333e-01</td>\n",
       "      <td>1</td>\n",
       "    </tr>\n",
       "    <tr>\n",
       "      <th>18</th>\n",
       "      <td>NYY</td>\n",
       "      <td>34.000000</td>\n",
       "      <td>4.900000</td>\n",
       "      <td>8.300000</td>\n",
       "      <td>4.700000</td>\n",
       "      <td>4.914000</td>\n",
       "      <td>4.000000</td>\n",
       "      <td>10.000000</td>\n",
       "      <td>38.500000</td>\n",
       "      <td>0.242300</td>\n",
       "      <td>...</td>\n",
       "      <td>8.833333</td>\n",
       "      <td>14.083333</td>\n",
       "      <td>6.083333</td>\n",
       "      <td>0.0</td>\n",
       "      <td>48.708333</td>\n",
       "      <td>2.333333</td>\n",
       "      <td>0.500000</td>\n",
       "      <td>0.025500</td>\n",
       "      <td>5.208333e-01</td>\n",
       "      <td>0</td>\n",
       "    </tr>\n",
       "    <tr>\n",
       "      <th>19</th>\n",
       "      <td>NYY</td>\n",
       "      <td>34.000000</td>\n",
       "      <td>4.900000</td>\n",
       "      <td>8.300000</td>\n",
       "      <td>4.700000</td>\n",
       "      <td>4.914000</td>\n",
       "      <td>4.000000</td>\n",
       "      <td>10.000000</td>\n",
       "      <td>38.500000</td>\n",
       "      <td>0.242300</td>\n",
       "      <td>...</td>\n",
       "      <td>8.833333</td>\n",
       "      <td>14.083333</td>\n",
       "      <td>6.083333</td>\n",
       "      <td>0.0</td>\n",
       "      <td>48.708333</td>\n",
       "      <td>2.333333</td>\n",
       "      <td>0.500000</td>\n",
       "      <td>0.025500</td>\n",
       "      <td>5.208333e-01</td>\n",
       "      <td>1</td>\n",
       "    </tr>\n",
       "    <tr>\n",
       "      <th>20</th>\n",
       "      <td>HOU</td>\n",
       "      <td>34.333333</td>\n",
       "      <td>4.375000</td>\n",
       "      <td>8.541667</td>\n",
       "      <td>4.083333</td>\n",
       "      <td>4.122083</td>\n",
       "      <td>3.666667</td>\n",
       "      <td>8.250000</td>\n",
       "      <td>38.250000</td>\n",
       "      <td>0.246125</td>\n",
       "      <td>...</td>\n",
       "      <td>9.416667</td>\n",
       "      <td>15.000000</td>\n",
       "      <td>7.000000</td>\n",
       "      <td>0.0</td>\n",
       "      <td>56.458333</td>\n",
       "      <td>2.500000</td>\n",
       "      <td>0.625000</td>\n",
       "      <td>0.007333</td>\n",
       "      <td>7.500000e-01</td>\n",
       "      <td>0</td>\n",
       "    </tr>\n",
       "    <tr>\n",
       "      <th>21</th>\n",
       "      <td>WSN</td>\n",
       "      <td>33.083333</td>\n",
       "      <td>4.000000</td>\n",
       "      <td>7.500000</td>\n",
       "      <td>3.833333</td>\n",
       "      <td>3.733750</td>\n",
       "      <td>3.416667</td>\n",
       "      <td>9.333333</td>\n",
       "      <td>37.500000</td>\n",
       "      <td>0.221792</td>\n",
       "      <td>...</td>\n",
       "      <td>8.833333</td>\n",
       "      <td>14.083333</td>\n",
       "      <td>6.083333</td>\n",
       "      <td>0.0</td>\n",
       "      <td>48.708333</td>\n",
       "      <td>2.333333</td>\n",
       "      <td>0.500000</td>\n",
       "      <td>0.025500</td>\n",
       "      <td>5.208333e-01</td>\n",
       "      <td>0</td>\n",
       "    </tr>\n",
       "  </tbody>\n",
       "</table>\n",
       "<p>22 rows × 139 columns</p>\n",
       "</div>"
      ],
      "text/plain": [
       "   H_name  H_at_bats    H_runs    H_hits     H_rbi  H_earned_runs  \\\n",
       "0     WSN  33.083333  4.000000  7.500000  3.833333       3.733750   \n",
       "1     OAK  33.000000  1.000000  8.000000  1.000000       0.000000   \n",
       "2     ATL  33.500000  3.375000  7.625000  3.125000       2.832500   \n",
       "3     LAD  34.125000  4.125000  7.125000  3.875000       3.955000   \n",
       "4     HOU  34.333333  4.375000  8.541667  4.083333       4.122083   \n",
       "5     ATL  33.500000  3.375000  7.625000  3.125000       2.832500   \n",
       "6     LAD  34.125000  4.125000  7.125000  3.875000       3.955000   \n",
       "7     NYY  34.000000  4.900000  8.300000  4.700000       4.914000   \n",
       "8     WSN  33.083333  4.000000  7.500000  3.833333       3.733750   \n",
       "9     STL  33.916667  4.333333  7.583333  4.083333       3.721667   \n",
       "10    MIN  34.000000  2.000000  7.750000  2.000000       2.000000   \n",
       "11    WSN  33.083333  4.000000  7.500000  3.833333       3.733750   \n",
       "12    TBR  31.666667  3.000000  6.444444  3.000000       3.068889   \n",
       "13    STL  33.916667  4.333333  7.583333  4.083333       3.721667   \n",
       "14    STL  33.916667  4.333333  7.583333  4.083333       3.721667   \n",
       "15    HOU  34.333333  4.375000  8.541667  4.083333       4.122083   \n",
       "16    HOU  34.333333  4.375000  8.541667  4.083333       4.122083   \n",
       "17    WSN  33.083333  4.000000  7.500000  3.833333       3.733750   \n",
       "18    NYY  34.000000  4.900000  8.300000  4.700000       4.914000   \n",
       "19    NYY  34.000000  4.900000  8.300000  4.700000       4.914000   \n",
       "20    HOU  34.333333  4.375000  8.541667  4.083333       4.122083   \n",
       "21    WSN  33.083333  4.000000  7.500000  3.833333       3.733750   \n",
       "\n",
       "    H_bases_on_balls  H_strikeouts  H_plate_appearances  H_batting_average  \\\n",
       "0           3.416667      9.333333            37.500000           0.221792   \n",
       "1           3.000000     12.000000            37.000000           0.242000   \n",
       "2           2.750000      9.000000            37.125000           0.227750   \n",
       "3           3.750000     13.125000            38.375000           0.204375   \n",
       "4           3.666667      8.250000            38.250000           0.246125   \n",
       "5           2.750000      9.000000            37.125000           0.227750   \n",
       "6           3.750000     13.125000            38.375000           0.204375   \n",
       "7           4.000000     10.000000            38.500000           0.242300   \n",
       "8           3.416667      9.333333            37.500000           0.221792   \n",
       "9           2.833333     10.250000            37.666667           0.213833   \n",
       "10          3.750000     10.750000            38.000000           0.227000   \n",
       "11          3.416667      9.333333            37.500000           0.221792   \n",
       "12          2.777778     11.777778            34.777778           0.195778   \n",
       "13          2.833333     10.250000            37.666667           0.213833   \n",
       "14          2.833333     10.250000            37.666667           0.213833   \n",
       "15          3.666667      8.250000            38.250000           0.246125   \n",
       "16          3.666667      8.250000            38.250000           0.246125   \n",
       "17          3.416667      9.333333            37.500000           0.221792   \n",
       "18          4.000000     10.000000            38.500000           0.242300   \n",
       "19          4.000000     10.000000            38.500000           0.242300   \n",
       "20          3.666667      8.250000            38.250000           0.246125   \n",
       "21          3.416667      9.333333            37.500000           0.221792   \n",
       "\n",
       "    ...  A_Opp_grounded_balls  A_Opp_fly_balls  A_Opp_line_drives  \\\n",
       "0   ...              9.000000        13.000000           4.000000   \n",
       "1   ...              6.666667        16.555556           6.666667   \n",
       "2   ...             11.416667        12.916667           5.416667   \n",
       "3   ...              9.416667        15.000000           7.000000   \n",
       "4   ...              6.666667        16.555556           6.666667   \n",
       "5   ...             11.416667        12.916667           5.416667   \n",
       "6   ...              9.416667        15.000000           7.000000   \n",
       "7   ...              8.250000        16.500000           5.750000   \n",
       "8   ...             11.125000        13.625000           5.000000   \n",
       "9   ...             13.625000        13.250000           7.375000   \n",
       "10  ...              9.400000        14.700000           7.000000   \n",
       "11  ...             11.125000        13.625000           5.000000   \n",
       "12  ...              8.833333        14.083333           6.083333   \n",
       "13  ...             13.625000        13.250000           7.375000   \n",
       "14  ...              9.416667        15.000000           7.000000   \n",
       "15  ...              9.400000        14.700000           7.000000   \n",
       "16  ...              9.400000        14.700000           7.000000   \n",
       "17  ...             11.416667        12.916667           5.416667   \n",
       "18  ...              8.833333        14.083333           6.083333   \n",
       "19  ...              8.833333        14.083333           6.083333   \n",
       "20  ...              9.416667        15.000000           7.000000   \n",
       "21  ...              8.833333        14.083333           6.083333   \n",
       "\n",
       "    A_Opp_unknown_bat_type  A_Opp_game_score  A_Opp_inherited_runners  \\\n",
       "0                      0.0         50.000000                 0.000000   \n",
       "1                      0.0         66.111111                 2.444444   \n",
       "2                      0.0         57.583333                 2.500000   \n",
       "3                      0.0         56.458333                 2.500000   \n",
       "4                      0.0         66.111111                 2.444444   \n",
       "5                      0.0         57.583333                 2.500000   \n",
       "6                      0.0         56.458333                 2.500000   \n",
       "7                      0.0         56.000000                 3.000000   \n",
       "8                      0.0         63.875000                 0.750000   \n",
       "9                      0.0         60.125000                 2.250000   \n",
       "10                     0.0         52.900000                 3.200000   \n",
       "11                     0.0         63.875000                 0.750000   \n",
       "12                     0.0         48.708333                 2.333333   \n",
       "13                     0.0         60.125000                 2.250000   \n",
       "14                     0.0         56.458333                 2.500000   \n",
       "15                     0.0         52.900000                 3.200000   \n",
       "16                     0.0         52.900000                 3.200000   \n",
       "17                     0.0         57.583333                 2.500000   \n",
       "18                     0.0         48.708333                 2.333333   \n",
       "19                     0.0         48.708333                 2.333333   \n",
       "20                     0.0         56.458333                 2.500000   \n",
       "21                     0.0         48.708333                 2.333333   \n",
       "\n",
       "    A_Opp_inherited_score  A_Opp_win_probability_by_pitcher  \\\n",
       "0                0.000000                          0.211000   \n",
       "1                0.333333                          0.211556   \n",
       "2                0.666667                          0.096667   \n",
       "3                0.625000                          0.007333   \n",
       "4                0.333333                          0.211556   \n",
       "5                0.666667                          0.096667   \n",
       "6                0.625000                          0.007333   \n",
       "7                0.000000                          0.276500   \n",
       "8                0.750000                          0.110750   \n",
       "9                0.500000                          0.057500   \n",
       "10               0.800000                          0.044000   \n",
       "11               0.750000                          0.110750   \n",
       "12               0.500000                          0.025500   \n",
       "13               0.500000                          0.057500   \n",
       "14               0.625000                          0.007333   \n",
       "15               0.800000                          0.044000   \n",
       "16               0.800000                          0.044000   \n",
       "17               0.666667                          0.096667   \n",
       "18               0.500000                          0.025500   \n",
       "19               0.500000                          0.025500   \n",
       "20               0.625000                          0.007333   \n",
       "21               0.500000                          0.025500   \n",
       "\n",
       "    A_Opp_base_out_runs_saved  home_win  \n",
       "0                1.900000e+00         1  \n",
       "1                1.855556e+00         0  \n",
       "2                5.833333e-01         0  \n",
       "3                7.500000e-01         1  \n",
       "4                1.855556e+00         1  \n",
       "5                5.833333e-01         1  \n",
       "6                7.500000e-01         0  \n",
       "7                2.900000e+00         1  \n",
       "8                5.500000e-01         0  \n",
       "9                1.512500e+00         0  \n",
       "10               4.440892e-17         0  \n",
       "11               5.500000e-01         1  \n",
       "12               5.208333e-01         1  \n",
       "13               1.512500e+00         1  \n",
       "14               7.500000e-01         0  \n",
       "15               4.440892e-17         0  \n",
       "16               4.440892e-17         1  \n",
       "17               5.833333e-01         1  \n",
       "18               5.208333e-01         0  \n",
       "19               5.208333e-01         1  \n",
       "20               7.500000e-01         0  \n",
       "21               5.208333e-01         0  \n",
       "\n",
       "[22 rows x 139 columns]"
      ]
     },
     "execution_count": 57,
     "metadata": {},
     "output_type": "execute_result"
    }
   ],
   "source": [
    "df2.drop_duplicates(inplace=True)\n",
    "df2"
   ]
  },
  {
   "cell_type": "code",
   "execution_count": 58,
   "metadata": {
    "ExecuteTime": {
     "end_time": "2022-01-19T23:43:34.669669Z",
     "start_time": "2022-01-19T23:43:34.613707Z"
    }
   },
   "outputs": [
    {
     "data": {
      "text/html": [
       "<div>\n",
       "<style scoped>\n",
       "    .dataframe tbody tr th:only-of-type {\n",
       "        vertical-align: middle;\n",
       "    }\n",
       "\n",
       "    .dataframe tbody tr th {\n",
       "        vertical-align: top;\n",
       "    }\n",
       "\n",
       "    .dataframe thead th {\n",
       "        text-align: right;\n",
       "    }\n",
       "</style>\n",
       "<table border=\"1\" class=\"dataframe\">\n",
       "  <thead>\n",
       "    <tr style=\"text-align: right;\">\n",
       "      <th></th>\n",
       "      <th>H_name</th>\n",
       "      <th>H_at_bats</th>\n",
       "      <th>H_runs</th>\n",
       "      <th>H_hits</th>\n",
       "      <th>H_rbi</th>\n",
       "      <th>H_earned_runs</th>\n",
       "      <th>H_bases_on_balls</th>\n",
       "      <th>H_strikeouts</th>\n",
       "      <th>H_plate_appearances</th>\n",
       "      <th>H_batting_average</th>\n",
       "      <th>...</th>\n",
       "      <th>A_Opp_grounded_balls</th>\n",
       "      <th>A_Opp_fly_balls</th>\n",
       "      <th>A_Opp_line_drives</th>\n",
       "      <th>A_Opp_unknown_bat_type</th>\n",
       "      <th>A_Opp_game_score</th>\n",
       "      <th>A_Opp_inherited_runners</th>\n",
       "      <th>A_Opp_inherited_score</th>\n",
       "      <th>A_Opp_win_probability_by_pitcher</th>\n",
       "      <th>A_Opp_base_out_runs_saved</th>\n",
       "      <th>home_win</th>\n",
       "    </tr>\n",
       "  </thead>\n",
       "  <tbody>\n",
       "    <tr>\n",
       "      <th>0</th>\n",
       "      <td>NYY</td>\n",
       "      <td>34.462963</td>\n",
       "      <td>5.820988</td>\n",
       "      <td>9.216049</td>\n",
       "      <td>5.580247</td>\n",
       "      <td>5.632593</td>\n",
       "      <td>3.512346</td>\n",
       "      <td>8.870370</td>\n",
       "      <td>38.549383</td>\n",
       "      <td>0.262302</td>\n",
       "      <td>...</td>\n",
       "      <td>11.413580</td>\n",
       "      <td>16.395062</td>\n",
       "      <td>7.179012</td>\n",
       "      <td>0.000000</td>\n",
       "      <td>50.549383</td>\n",
       "      <td>1.385093</td>\n",
       "      <td>0.347826</td>\n",
       "      <td>0.068586</td>\n",
       "      <td>0.470370</td>\n",
       "      <td>1</td>\n",
       "    </tr>\n",
       "    <tr>\n",
       "      <th>1</th>\n",
       "      <td>TBR</td>\n",
       "      <td>34.740741</td>\n",
       "      <td>4.746914</td>\n",
       "      <td>8.808642</td>\n",
       "      <td>4.506173</td>\n",
       "      <td>4.573704</td>\n",
       "      <td>3.345679</td>\n",
       "      <td>9.216049</td>\n",
       "      <td>38.796296</td>\n",
       "      <td>0.249895</td>\n",
       "      <td>...</td>\n",
       "      <td>10.450617</td>\n",
       "      <td>13.179012</td>\n",
       "      <td>5.604938</td>\n",
       "      <td>0.018519</td>\n",
       "      <td>44.759259</td>\n",
       "      <td>1.679245</td>\n",
       "      <td>0.515723</td>\n",
       "      <td>-0.041290</td>\n",
       "      <td>-0.733333</td>\n",
       "      <td>0</td>\n",
       "    </tr>\n",
       "    <tr>\n",
       "      <th>2</th>\n",
       "      <td>TEX</td>\n",
       "      <td>34.197531</td>\n",
       "      <td>5.000000</td>\n",
       "      <td>8.481481</td>\n",
       "      <td>4.722222</td>\n",
       "      <td>4.666852</td>\n",
       "      <td>3.296296</td>\n",
       "      <td>9.740741</td>\n",
       "      <td>38.296296</td>\n",
       "      <td>0.242006</td>\n",
       "      <td>...</td>\n",
       "      <td>11.913580</td>\n",
       "      <td>13.555556</td>\n",
       "      <td>6.617284</td>\n",
       "      <td>0.000000</td>\n",
       "      <td>48.759259</td>\n",
       "      <td>1.487654</td>\n",
       "      <td>0.462963</td>\n",
       "      <td>-0.006420</td>\n",
       "      <td>-0.281481</td>\n",
       "      <td>0</td>\n",
       "    </tr>\n",
       "    <tr>\n",
       "      <th>3</th>\n",
       "      <td>MIA</td>\n",
       "      <td>34.024691</td>\n",
       "      <td>3.796296</td>\n",
       "      <td>8.185185</td>\n",
       "      <td>3.660494</td>\n",
       "      <td>3.545988</td>\n",
       "      <td>2.438272</td>\n",
       "      <td>9.067901</td>\n",
       "      <td>37.314815</td>\n",
       "      <td>0.234074</td>\n",
       "      <td>...</td>\n",
       "      <td>13.172840</td>\n",
       "      <td>14.685185</td>\n",
       "      <td>7.179012</td>\n",
       "      <td>0.000000</td>\n",
       "      <td>48.524691</td>\n",
       "      <td>1.347826</td>\n",
       "      <td>0.453416</td>\n",
       "      <td>0.017148</td>\n",
       "      <td>-0.015432</td>\n",
       "      <td>0</td>\n",
       "    </tr>\n",
       "    <tr>\n",
       "      <th>4</th>\n",
       "      <td>TOR</td>\n",
       "      <td>33.907407</td>\n",
       "      <td>4.481481</td>\n",
       "      <td>8.018519</td>\n",
       "      <td>4.302469</td>\n",
       "      <td>4.286975</td>\n",
       "      <td>3.141975</td>\n",
       "      <td>9.345679</td>\n",
       "      <td>37.598765</td>\n",
       "      <td>0.229025</td>\n",
       "      <td>...</td>\n",
       "      <td>11.869565</td>\n",
       "      <td>15.248447</td>\n",
       "      <td>6.645963</td>\n",
       "      <td>0.006211</td>\n",
       "      <td>54.776398</td>\n",
       "      <td>1.139241</td>\n",
       "      <td>0.316456</td>\n",
       "      <td>0.134677</td>\n",
       "      <td>1.446584</td>\n",
       "      <td>0</td>\n",
       "    </tr>\n",
       "  </tbody>\n",
       "</table>\n",
       "<p>5 rows × 139 columns</p>\n",
       "</div>"
      ],
      "text/plain": [
       "  H_name  H_at_bats    H_runs    H_hits     H_rbi  H_earned_runs  \\\n",
       "0    NYY  34.462963  5.820988  9.216049  5.580247       5.632593   \n",
       "1    TBR  34.740741  4.746914  8.808642  4.506173       4.573704   \n",
       "2    TEX  34.197531  5.000000  8.481481  4.722222       4.666852   \n",
       "3    MIA  34.024691  3.796296  8.185185  3.660494       3.545988   \n",
       "4    TOR  33.907407  4.481481  8.018519  4.302469       4.286975   \n",
       "\n",
       "   H_bases_on_balls  H_strikeouts  H_plate_appearances  H_batting_average  \\\n",
       "0          3.512346      8.870370            38.549383           0.262302   \n",
       "1          3.345679      9.216049            38.796296           0.249895   \n",
       "2          3.296296      9.740741            38.296296           0.242006   \n",
       "3          2.438272      9.067901            37.314815           0.234074   \n",
       "4          3.141975      9.345679            37.598765           0.229025   \n",
       "\n",
       "   ...  A_Opp_grounded_balls  A_Opp_fly_balls  A_Opp_line_drives  \\\n",
       "0  ...             11.413580        16.395062           7.179012   \n",
       "1  ...             10.450617        13.179012           5.604938   \n",
       "2  ...             11.913580        13.555556           6.617284   \n",
       "3  ...             13.172840        14.685185           7.179012   \n",
       "4  ...             11.869565        15.248447           6.645963   \n",
       "\n",
       "   A_Opp_unknown_bat_type  A_Opp_game_score  A_Opp_inherited_runners  \\\n",
       "0                0.000000         50.549383                 1.385093   \n",
       "1                0.018519         44.759259                 1.679245   \n",
       "2                0.000000         48.759259                 1.487654   \n",
       "3                0.000000         48.524691                 1.347826   \n",
       "4                0.006211         54.776398                 1.139241   \n",
       "\n",
       "   A_Opp_inherited_score  A_Opp_win_probability_by_pitcher  \\\n",
       "0               0.347826                          0.068586   \n",
       "1               0.515723                         -0.041290   \n",
       "2               0.462963                         -0.006420   \n",
       "3               0.453416                          0.017148   \n",
       "4               0.316456                          0.134677   \n",
       "\n",
       "   A_Opp_base_out_runs_saved  home_win  \n",
       "0                   0.470370         1  \n",
       "1                  -0.733333         0  \n",
       "2                  -0.281481         0  \n",
       "3                  -0.015432         0  \n",
       "4                   1.446584         0  \n",
       "\n",
       "[5 rows x 139 columns]"
      ]
     },
     "execution_count": 58,
     "metadata": {},
     "output_type": "execute_result"
    }
   ],
   "source": [
    "df.head()"
   ]
  },
  {
   "cell_type": "code",
   "execution_count": 59,
   "metadata": {
    "ExecuteTime": {
     "end_time": "2022-01-19T23:43:35.065905Z",
     "start_time": "2022-01-19T23:43:35.059065Z"
    }
   },
   "outputs": [],
   "source": [
    "#for col in X_train.columns:\n",
    "    #print(col)"
   ]
  },
  {
   "cell_type": "code",
   "execution_count": 60,
   "metadata": {
    "ExecuteTime": {
     "end_time": "2022-01-19T23:43:35.552062Z",
     "start_time": "2022-01-19T23:43:35.524638Z"
    }
   },
   "outputs": [],
   "source": [
    "zero_importance_list=['H_runs','H_slugging_percentage','H_on_base_plus','H_base_out_runs_added','H_putouts',\n",
    "                     'H_Opp_on_base_percentage','A_batting_average','A_win_probability_for_offensive_player',\n",
    "                     'A_putouts']"
   ]
  },
  {
   "cell_type": "code",
   "execution_count": 61,
   "metadata": {
    "ExecuteTime": {
     "end_time": "2022-01-19T23:43:35.884734Z",
     "start_time": "2022-01-19T23:43:35.859103Z"
    }
   },
   "outputs": [],
   "source": [
    "tiny_importance_list=['H_at_bats','H_win_probability_added','H_fly_balls']"
   ]
  },
  {
   "cell_type": "code",
   "execution_count": 62,
   "metadata": {
    "ExecuteTime": {
     "end_time": "2022-01-19T23:43:36.235669Z",
     "start_time": "2022-01-19T23:43:36.192394Z"
    },
    "scrolled": true
   },
   "outputs": [
    {
     "data": {
      "text/html": [
       "<div>\n",
       "<style scoped>\n",
       "    .dataframe tbody tr th:only-of-type {\n",
       "        vertical-align: middle;\n",
       "    }\n",
       "\n",
       "    .dataframe tbody tr th {\n",
       "        vertical-align: top;\n",
       "    }\n",
       "\n",
       "    .dataframe thead th {\n",
       "        text-align: right;\n",
       "    }\n",
       "</style>\n",
       "<table border=\"1\" class=\"dataframe\">\n",
       "  <thead>\n",
       "    <tr style=\"text-align: right;\">\n",
       "      <th></th>\n",
       "      <th>H_name</th>\n",
       "      <th>H_at_bats</th>\n",
       "      <th>H_runs</th>\n",
       "      <th>H_hits</th>\n",
       "      <th>H_rbi</th>\n",
       "      <th>H_earned_runs</th>\n",
       "      <th>H_bases_on_balls</th>\n",
       "      <th>H_strikeouts</th>\n",
       "      <th>H_plate_appearances</th>\n",
       "      <th>H_batting_average</th>\n",
       "      <th>...</th>\n",
       "      <th>A_Opp_grounded_balls</th>\n",
       "      <th>A_Opp_fly_balls</th>\n",
       "      <th>A_Opp_line_drives</th>\n",
       "      <th>A_Opp_unknown_bat_type</th>\n",
       "      <th>A_Opp_game_score</th>\n",
       "      <th>A_Opp_inherited_runners</th>\n",
       "      <th>A_Opp_inherited_score</th>\n",
       "      <th>A_Opp_win_probability_by_pitcher</th>\n",
       "      <th>A_Opp_base_out_runs_saved</th>\n",
       "      <th>home_win</th>\n",
       "    </tr>\n",
       "  </thead>\n",
       "  <tbody>\n",
       "    <tr>\n",
       "      <th>0</th>\n",
       "      <td>WSN</td>\n",
       "      <td>33.083333</td>\n",
       "      <td>4.000</td>\n",
       "      <td>7.500000</td>\n",
       "      <td>3.833333</td>\n",
       "      <td>3.733750</td>\n",
       "      <td>3.416667</td>\n",
       "      <td>9.333333</td>\n",
       "      <td>37.500</td>\n",
       "      <td>0.221792</td>\n",
       "      <td>...</td>\n",
       "      <td>9.000000</td>\n",
       "      <td>13.000000</td>\n",
       "      <td>4.000000</td>\n",
       "      <td>0.0</td>\n",
       "      <td>50.000000</td>\n",
       "      <td>0.000000</td>\n",
       "      <td>0.000000</td>\n",
       "      <td>0.211000</td>\n",
       "      <td>1.900000</td>\n",
       "      <td>1</td>\n",
       "    </tr>\n",
       "    <tr>\n",
       "      <th>1</th>\n",
       "      <td>OAK</td>\n",
       "      <td>33.000000</td>\n",
       "      <td>1.000</td>\n",
       "      <td>8.000000</td>\n",
       "      <td>1.000000</td>\n",
       "      <td>0.000000</td>\n",
       "      <td>3.000000</td>\n",
       "      <td>12.000000</td>\n",
       "      <td>37.000</td>\n",
       "      <td>0.242000</td>\n",
       "      <td>...</td>\n",
       "      <td>6.666667</td>\n",
       "      <td>16.555556</td>\n",
       "      <td>6.666667</td>\n",
       "      <td>0.0</td>\n",
       "      <td>66.111111</td>\n",
       "      <td>2.444444</td>\n",
       "      <td>0.333333</td>\n",
       "      <td>0.211556</td>\n",
       "      <td>1.855556</td>\n",
       "      <td>0</td>\n",
       "    </tr>\n",
       "    <tr>\n",
       "      <th>2</th>\n",
       "      <td>ATL</td>\n",
       "      <td>33.500000</td>\n",
       "      <td>3.375</td>\n",
       "      <td>7.625000</td>\n",
       "      <td>3.125000</td>\n",
       "      <td>2.832500</td>\n",
       "      <td>2.750000</td>\n",
       "      <td>9.000000</td>\n",
       "      <td>37.125</td>\n",
       "      <td>0.227750</td>\n",
       "      <td>...</td>\n",
       "      <td>11.416667</td>\n",
       "      <td>12.916667</td>\n",
       "      <td>5.416667</td>\n",
       "      <td>0.0</td>\n",
       "      <td>57.583333</td>\n",
       "      <td>2.500000</td>\n",
       "      <td>0.666667</td>\n",
       "      <td>0.096667</td>\n",
       "      <td>0.583333</td>\n",
       "      <td>0</td>\n",
       "    </tr>\n",
       "    <tr>\n",
       "      <th>3</th>\n",
       "      <td>LAD</td>\n",
       "      <td>34.125000</td>\n",
       "      <td>4.125</td>\n",
       "      <td>7.125000</td>\n",
       "      <td>3.875000</td>\n",
       "      <td>3.955000</td>\n",
       "      <td>3.750000</td>\n",
       "      <td>13.125000</td>\n",
       "      <td>38.375</td>\n",
       "      <td>0.204375</td>\n",
       "      <td>...</td>\n",
       "      <td>9.416667</td>\n",
       "      <td>15.000000</td>\n",
       "      <td>7.000000</td>\n",
       "      <td>0.0</td>\n",
       "      <td>56.458333</td>\n",
       "      <td>2.500000</td>\n",
       "      <td>0.625000</td>\n",
       "      <td>0.007333</td>\n",
       "      <td>0.750000</td>\n",
       "      <td>1</td>\n",
       "    </tr>\n",
       "    <tr>\n",
       "      <th>4</th>\n",
       "      <td>HOU</td>\n",
       "      <td>34.333333</td>\n",
       "      <td>4.375</td>\n",
       "      <td>8.541667</td>\n",
       "      <td>4.083333</td>\n",
       "      <td>4.122083</td>\n",
       "      <td>3.666667</td>\n",
       "      <td>8.250000</td>\n",
       "      <td>38.250</td>\n",
       "      <td>0.246125</td>\n",
       "      <td>...</td>\n",
       "      <td>6.666667</td>\n",
       "      <td>16.555556</td>\n",
       "      <td>6.666667</td>\n",
       "      <td>0.0</td>\n",
       "      <td>66.111111</td>\n",
       "      <td>2.444444</td>\n",
       "      <td>0.333333</td>\n",
       "      <td>0.211556</td>\n",
       "      <td>1.855556</td>\n",
       "      <td>1</td>\n",
       "    </tr>\n",
       "  </tbody>\n",
       "</table>\n",
       "<p>5 rows × 139 columns</p>\n",
       "</div>"
      ],
      "text/plain": [
       "  H_name  H_at_bats  H_runs    H_hits     H_rbi  H_earned_runs  \\\n",
       "0    WSN  33.083333   4.000  7.500000  3.833333       3.733750   \n",
       "1    OAK  33.000000   1.000  8.000000  1.000000       0.000000   \n",
       "2    ATL  33.500000   3.375  7.625000  3.125000       2.832500   \n",
       "3    LAD  34.125000   4.125  7.125000  3.875000       3.955000   \n",
       "4    HOU  34.333333   4.375  8.541667  4.083333       4.122083   \n",
       "\n",
       "   H_bases_on_balls  H_strikeouts  H_plate_appearances  H_batting_average  \\\n",
       "0          3.416667      9.333333               37.500           0.221792   \n",
       "1          3.000000     12.000000               37.000           0.242000   \n",
       "2          2.750000      9.000000               37.125           0.227750   \n",
       "3          3.750000     13.125000               38.375           0.204375   \n",
       "4          3.666667      8.250000               38.250           0.246125   \n",
       "\n",
       "   ...  A_Opp_grounded_balls  A_Opp_fly_balls  A_Opp_line_drives  \\\n",
       "0  ...              9.000000        13.000000           4.000000   \n",
       "1  ...              6.666667        16.555556           6.666667   \n",
       "2  ...             11.416667        12.916667           5.416667   \n",
       "3  ...              9.416667        15.000000           7.000000   \n",
       "4  ...              6.666667        16.555556           6.666667   \n",
       "\n",
       "   A_Opp_unknown_bat_type  A_Opp_game_score  A_Opp_inherited_runners  \\\n",
       "0                     0.0         50.000000                 0.000000   \n",
       "1                     0.0         66.111111                 2.444444   \n",
       "2                     0.0         57.583333                 2.500000   \n",
       "3                     0.0         56.458333                 2.500000   \n",
       "4                     0.0         66.111111                 2.444444   \n",
       "\n",
       "   A_Opp_inherited_score  A_Opp_win_probability_by_pitcher  \\\n",
       "0               0.000000                          0.211000   \n",
       "1               0.333333                          0.211556   \n",
       "2               0.666667                          0.096667   \n",
       "3               0.625000                          0.007333   \n",
       "4               0.333333                          0.211556   \n",
       "\n",
       "   A_Opp_base_out_runs_saved  home_win  \n",
       "0                   1.900000         1  \n",
       "1                   1.855556         0  \n",
       "2                   0.583333         0  \n",
       "3                   0.750000         1  \n",
       "4                   1.855556         1  \n",
       "\n",
       "[5 rows x 139 columns]"
      ]
     },
     "execution_count": 62,
     "metadata": {},
     "output_type": "execute_result"
    }
   ],
   "source": [
    "df2.head()"
   ]
  },
  {
   "cell_type": "code",
   "execution_count": 63,
   "metadata": {
    "ExecuteTime": {
     "end_time": "2022-01-19T23:43:36.666601Z",
     "start_time": "2022-01-19T23:43:36.658370Z"
    }
   },
   "outputs": [],
   "source": [
    "def data_preprocessing(df, df2):\n",
    "    X_train = df.drop(['home_win','H_name','A_name'], axis=1)\n",
    "    X_test = df2.drop(['home_win','H_name','A_name'], axis=1)\n",
    "    y_train = df.home_win\n",
    "    y_test= df2.home_win\n",
    "    \n",
    "    ss = StandardScaler()\n",
    "    X_train_scaled = ss.fit_transform(X_train)\n",
    "    X_test_scaled = ss.transform(X_test)\n",
    "    \n",
    "    X_train_scaled = pd.DataFrame(X_train_scaled, columns=X_train.columns)\n",
    "    X_test_scaled = pd.DataFrame(X_test_scaled, columns=X_test.columns)\n",
    "    \n",
    "    return X_train_scaled, X_test_scaled,y_train,y_test"
   ]
  },
  {
   "cell_type": "code",
   "execution_count": 64,
   "metadata": {
    "ExecuteTime": {
     "end_time": "2022-01-19T23:43:37.578422Z",
     "start_time": "2022-01-19T23:43:37.535169Z"
    }
   },
   "outputs": [],
   "source": [
    "X_train_scaled,X_test_scaled,y_train,y_test=data_preprocessing(df,df2)"
   ]
  },
  {
   "cell_type": "code",
   "execution_count": 52,
   "metadata": {
    "ExecuteTime": {
     "end_time": "2022-01-19T19:44:14.746874Z",
     "start_time": "2022-01-19T19:44:14.741293Z"
    }
   },
   "outputs": [],
   "source": [
    "# X_test_scaled.drop(['H_Opp_inherited_score','H_Opp_game_score','H_Opp_unknown_bat_type',\n",
    "#                     'H_Opp_inherited_runners'],axis=1,inplace=True)"
   ]
  },
  {
   "cell_type": "code",
   "execution_count": 22,
   "metadata": {
    "ExecuteTime": {
     "end_time": "2022-01-19T18:49:04.656589Z",
     "start_time": "2022-01-19T18:49:04.652407Z"
    }
   },
   "outputs": [],
   "source": [
    "# X_train_scaled.drop(['H_Opp_inherited_score','H_Opp_game_score','H_Opp_unknown_bat_type',\n",
    "#                     'H_Opp_inherited_runners'],axis=1,inplace=True)"
   ]
  },
  {
   "cell_type": "code",
   "execution_count": 53,
   "metadata": {
    "ExecuteTime": {
     "end_time": "2022-01-19T19:44:17.235973Z",
     "start_time": "2022-01-19T19:44:17.224145Z"
    }
   },
   "outputs": [],
   "source": [
    "zero_imp_train=X_train_scaled.drop(zero_importance_list,axis=1)\n",
    "zero_imp_test=X_test_scaled.drop(zero_importance_list,axis=1)"
   ]
  },
  {
   "cell_type": "markdown",
   "metadata": {},
   "source": [
    "## Feature Selection"
   ]
  },
  {
   "cell_type": "code",
   "execution_count": 71,
   "metadata": {
    "ExecuteTime": {
     "end_time": "2022-01-14T15:55:59.195279Z",
     "start_time": "2022-01-14T15:55:59.189989Z"
    }
   },
   "outputs": [],
   "source": [
    "# pca=PCA(n_components=0.7)\n",
    "# train_pca=pca.fit_transform(X_train_scaled)\n",
    "# test_pca=pca.transform(X_test_scaled)"
   ]
  },
  {
   "cell_type": "code",
   "execution_count": 51,
   "metadata": {
    "ExecuteTime": {
     "end_time": "2022-01-14T15:41:50.977209Z",
     "start_time": "2022-01-14T15:41:50.796700Z"
    }
   },
   "outputs": [
    {
     "data": {
      "image/png": "[encoded data removed]",
      "text/plain": [
       "<Figure size 432x288 with 1 Axes>"
      ]
     },
     "metadata": {
      "needs_background": "light"
     },
     "output_type": "display_data"
    }
   ],
   "source": [
    "#plt.scatter(train_pca[:,0], train_pca[:,1]);"
   ]
  },
  {
   "cell_type": "code",
   "execution_count": 65,
   "metadata": {
    "ExecuteTime": {
     "end_time": "2022-01-19T23:44:42.723087Z",
     "start_time": "2022-01-19T23:43:46.193949Z"
    }
   },
   "outputs": [],
   "source": [
    "feats= feature_select(X_train_scaled,y_train,LogisticRegression,min_features=10)"
   ]
  },
  {
   "cell_type": "code",
   "execution_count": 66,
   "metadata": {
    "ExecuteTime": {
     "end_time": "2022-01-19T23:44:42.798143Z",
     "start_time": "2022-01-19T23:44:42.726232Z"
    }
   },
   "outputs": [],
   "source": [
    "X_train_best_log = X_train_scaled[feats]\n",
    "X_test_best_log = X_test_scaled[feats]"
   ]
  },
  {
   "cell_type": "markdown",
   "metadata": {},
   "source": [
    "# Logistic Regression"
   ]
  },
  {
   "cell_type": "code",
   "execution_count": 67,
   "metadata": {
    "ExecuteTime": {
     "end_time": "2022-01-19T23:44:47.814053Z",
     "start_time": "2022-01-19T23:44:42.807202Z"
    }
   },
   "outputs": [
    {
     "name": "stdout",
     "output_type": "stream",
     "text": [
      "Penalty: l1\n",
      "Solver: liblinear\n",
      "Mean Cross-Val Score: 0.6139306775274702\n",
      "Train Mean Accuracy: 0.6217552533992583\n",
      "Test Mean Accuracy: 0.5909090909090909\n",
      "Recall Score: 0.45454545454545453\n",
      "Precision Score: 0.625\n",
      "F1 Score: 0.5263157894736842\n"
     ]
    },
    {
     "data": {
      "image/png": "[encoded data removed]",
      "text/plain": [
       "<Figure size 432x288 with 1 Axes>"
      ]
     },
     "metadata": {
      "needs_background": "light"
     },
     "output_type": "display_data"
    },
    {
     "data": {
      "image/png": "[encoded data removed]",
      "text/plain": [
       "<Figure size 432x288 with 2 Axes>"
      ]
     },
     "metadata": {
      "needs_background": "light"
     },
     "output_type": "display_data"
    },
    {
     "data": {
      "image/png": "[encoded data removed]",
      "text/plain": [
       "<Figure size 432x288 with 2 Axes>"
      ]
     },
     "metadata": {
      "needs_background": "light"
     },
     "output_type": "display_data"
    }
   ],
   "source": [
    "predictions, probabilities=logreg(X_train_best_log,X_test_best_log,y_train,y_test)"
   ]
  },
  {
   "cell_type": "code",
   "execution_count": 68,
   "metadata": {
    "ExecuteTime": {
     "end_time": "2022-01-19T23:44:47.894672Z",
     "start_time": "2022-01-19T23:44:47.842521Z"
    }
   },
   "outputs": [],
   "source": [
    "def new_acc(probabilities):\n",
    "    class_list2=[]\n",
    "    for log in probabilities:\n",
    "        if log[0]<.40:\n",
    "            class_list2.append(1)\n",
    "        elif log[0]>.60:\n",
    "            class_list2.append(0)\n",
    "        else:\n",
    "            class_list2.append(3)\n",
    "    y_pred_class=pd.DataFrame(class_list2)\n",
    "    y_pred_class.reset_index(inplace=True)\n",
    "    y_test_df=pd.DataFrame(y_test)\n",
    "    y_test_df.reset_index(inplace=True)\n",
    "    comb=pd.concat([y_test_df,y_pred_class],axis=1)\n",
    "    comb.drop(['index','index'],axis=1,inplace=True)\n",
    "    comb['pred']=comb[0]\n",
    "    comb.drop([0],axis=1,inplace=True)\n",
    "    comb.drop(comb[comb['pred'] == 3].index, inplace = True)\n",
    "    count=0\n",
    "    for bools in comb['home_win']==comb['pred']:\n",
    "        if bools is True:\n",
    "            count+=1\n",
    "        else:\n",
    "            pass\n",
    "    accuracy=count/len(comb)\n",
    "    \n",
    "    return accuracy,count"
   ]
  },
  {
   "cell_type": "code",
   "execution_count": 69,
   "metadata": {
    "ExecuteTime": {
     "end_time": "2022-01-19T23:44:47.928400Z",
     "start_time": "2022-01-19T23:44:47.899982Z"
    }
   },
   "outputs": [
    {
     "data": {
      "text/plain": [
       "(0.6666666666666666, 10)"
      ]
     },
     "execution_count": 69,
     "metadata": {},
     "output_type": "execute_result"
    }
   ],
   "source": [
    "new_acc(probabilities)"
   ]
  },
  {
   "cell_type": "markdown",
   "metadata": {
    "heading_collapsed": true
   },
   "source": [
    "### Explore thresehold movement and other things"
   ]
  },
  {
   "cell_type": "code",
   "execution_count": 94,
   "metadata": {
    "ExecuteTime": {
     "end_time": "2022-01-18T19:08:14.644009Z",
     "start_time": "2022-01-18T19:08:14.382466Z"
    },
    "hidden": true
   },
   "outputs": [
    {
     "data": {
      "text/plain": [
       "LogisticRegression()"
      ]
     },
     "execution_count": 94,
     "metadata": {},
     "output_type": "execute_result"
    }
   ],
   "source": [
    "logregs=LogisticRegression()\n",
    "logregs.fit(X_train_scaled,y_train)"
   ]
  },
  {
   "cell_type": "code",
   "execution_count": 95,
   "metadata": {
    "ExecuteTime": {
     "end_time": "2022-01-18T19:08:20.730374Z",
     "start_time": "2022-01-18T19:08:20.664502Z"
    },
    "hidden": true
   },
   "outputs": [
    {
     "data": {
      "text/plain": [
       "array([ True,  True,  True,  True, False,  True, False, False, False,\n",
       "       False, False, False,  True, False,  True,  True, False, False,\n",
       "       False, False, False, False, False])"
      ]
     },
     "execution_count": 95,
     "metadata": {},
     "output_type": "execute_result"
    }
   ],
   "source": [
    "logregs.predict_proba(X_test_scaled)[:,1] >= 0.6"
   ]
  },
  {
   "cell_type": "code",
   "execution_count": 47,
   "metadata": {
    "ExecuteTime": {
     "end_time": "2022-01-18T16:56:09.187820Z",
     "start_time": "2022-01-18T16:56:09.175975Z"
    },
    "hidden": true
   },
   "outputs": [
    {
     "data": {
      "text/plain": [
       "54"
      ]
     },
     "execution_count": 47,
     "metadata": {},
     "output_type": "execute_result"
    }
   ],
   "source": [
    "decisions = (logregs.predict_proba(X_test_scaled) >= .6).astype(int)\n",
    "len(decisions)"
   ]
  },
  {
   "cell_type": "code",
   "execution_count": 97,
   "metadata": {
    "ExecuteTime": {
     "end_time": "2022-01-18T19:08:34.302186Z",
     "start_time": "2022-01-18T19:08:34.264903Z"
    },
    "hidden": true,
    "scrolled": true
   },
   "outputs": [],
   "source": [
    "today_winners = np.where(y_test!= predictions,'Away','Home')"
   ]
  },
  {
   "cell_type": "code",
   "execution_count": 101,
   "metadata": {
    "ExecuteTime": {
     "end_time": "2022-01-18T19:09:02.840747Z",
     "start_time": "2022-01-18T19:09:02.822590Z"
    },
    "hidden": true
   },
   "outputs": [
    {
     "data": {
      "text/plain": [
       "array(['Home', 'Home', 'Home', 'Home', 'Away', 'Home', 'Home', 'Away',\n",
       "       'Away', 'Away', 'Home', 'Home', 'Away', 'Home', 'Home', 'Home',\n",
       "       'Away', 'Home', 'Away', 'Away', 'Home', 'Away', 'Home'],\n",
       "      dtype='<U4')"
      ]
     },
     "execution_count": 101,
     "metadata": {},
     "output_type": "execute_result"
    }
   ],
   "source": [
    "today_winners"
   ]
  },
  {
   "cell_type": "markdown",
   "metadata": {
    "hidden": true
   },
   "source": [
    "7 out of 9 playoff series correctly predicted"
   ]
  },
  {
   "cell_type": "markdown",
   "metadata": {},
   "source": [
    "# KNN"
   ]
  },
  {
   "cell_type": "markdown",
   "metadata": {},
   "source": [
    "### Home win KNN"
   ]
  },
  {
   "cell_type": "code",
   "execution_count": 70,
   "metadata": {
    "ExecuteTime": {
     "end_time": "2022-01-19T23:46:17.071077Z",
     "start_time": "2022-01-19T23:45:34.413992Z"
    }
   },
   "outputs": [
    {
     "name": "stdout",
     "output_type": "stream",
     "text": [
      "Number of Neighbors: 17\n",
      "Metric: minkowski\n",
      "Weights: distance\n",
      "Mean Cross-Val Score: 0.5702685503372789\n",
      "Train Mean Accuracy: 0.707457766790276\n",
      "Test Mean Accuracy: 0.6363636363636364\n",
      "Recall Score: 0.6363636363636364\n",
      "Precision Score: 0.6363636363636364\n",
      "F1 score: 0.6363636363636364\n"
     ]
    },
    {
     "data": {
      "image/png": "[encoded data removed]",
      "text/plain": [
       "<Figure size 432x288 with 1 Axes>"
      ]
     },
     "metadata": {
      "needs_background": "light"
     },
     "output_type": "display_data"
    },
    {
     "data": {
      "image/png": "[encoded data removed]",
      "text/plain": [
       "<Figure size 432x288 with 2 Axes>"
      ]
     },
     "metadata": {
      "needs_background": "light"
     },
     "output_type": "display_data"
    },
    {
     "data": {
      "image/png": "[encoded data removed]",
      "text/plain": [
       "<Figure size 432x288 with 2 Axes>"
      ]
     },
     "metadata": {
      "needs_background": "light"
     },
     "output_type": "display_data"
    }
   ],
   "source": [
    "prediction,probabilities=knn(X_train_scaled,X_test_scaled,y_train,y_test)"
   ]
  },
  {
   "cell_type": "code",
   "execution_count": 71,
   "metadata": {
    "ExecuteTime": {
     "end_time": "2022-01-19T23:46:23.061489Z",
     "start_time": "2022-01-19T23:46:22.949483Z"
    }
   },
   "outputs": [
    {
     "data": {
      "text/plain": [
       "(0.7142857142857143, 5)"
      ]
     },
     "execution_count": 71,
     "metadata": {},
     "output_type": "execute_result"
    }
   ],
   "source": [
    "new_acc(probabilities)"
   ]
  },
  {
   "cell_type": "markdown",
   "metadata": {
    "heading_collapsed": true
   },
   "source": [
    "# Decision Tree"
   ]
  },
  {
   "cell_type": "code",
   "execution_count": 24,
   "metadata": {
    "ExecuteTime": {
     "end_time": "2022-01-19T18:49:39.036052Z",
     "start_time": "2022-01-19T18:49:15.999265Z"
    },
    "hidden": true
   },
   "outputs": [],
   "source": [
    "dfeats= feature_select(X_train_scaled,y_train,DecisionTreeClassifier,min_features=10)\n",
    "X_train_best_tree = X_train_scaled[dfeats]\n",
    "X_test_best_tree = X_test_scaled[dfeats]"
   ]
  },
  {
   "cell_type": "markdown",
   "metadata": {
    "hidden": true
   },
   "source": [
    "### Dtree Home Win"
   ]
  },
  {
   "cell_type": "code",
   "execution_count": 25,
   "metadata": {
    "ExecuteTime": {
     "end_time": "2022-01-19T18:49:43.830264Z",
     "start_time": "2022-01-19T18:49:39.039286Z"
    },
    "hidden": true
   },
   "outputs": [
    {
     "name": "stdout",
     "output_type": "stream",
     "text": [
      "Max Depth: 3\n",
      "Min Sample Split: 2\n",
      "criterion: entropy\n",
      "Mean Cross-Val Score: 0.5784319714903907\n",
      "Train Mean Accuracy: 0.608480856319473\n",
      "Test Mean Accuracy: 0.5909090909090909\n",
      "Recall Score: 0.5454545454545454\n",
      "Precision Score: 0.6\n",
      "F1 score: 0.5714285714285713\n"
     ]
    },
    {
     "data": {
      "image/png": "[encoded data removed]",
      "text/plain": [
       "<Figure size 432x288 with 1 Axes>"
      ]
     },
     "metadata": {
      "needs_background": "light"
     },
     "output_type": "display_data"
    },
    {
     "data": {
      "image/png": "[encoded data removed]",
      "text/plain": [
       "<Figure size 432x288 with 2 Axes>"
      ]
     },
     "metadata": {
      "needs_background": "light"
     },
     "output_type": "display_data"
    },
    {
     "data": {
      "image/png": "[encoded data removed]",
      "text/plain": [
       "<Figure size 432x288 with 2 Axes>"
      ]
     },
     "metadata": {
      "needs_background": "light"
     },
     "output_type": "display_data"
    }
   ],
   "source": [
    "predictions,probabilities=dtree(X_train_best_tree,X_test_best_tree,y_train,y_test)"
   ]
  },
  {
   "cell_type": "code",
   "execution_count": 27,
   "metadata": {
    "ExecuteTime": {
     "end_time": "2022-01-19T18:50:05.471224Z",
     "start_time": "2022-01-19T18:50:05.451515Z"
    },
    "hidden": true
   },
   "outputs": [
    {
     "data": {
      "text/plain": [
       "0.5833333333333334"
      ]
     },
     "execution_count": 27,
     "metadata": {},
     "output_type": "execute_result"
    }
   ],
   "source": [
    "new_acc(probabilities)"
   ]
  },
  {
   "cell_type": "markdown",
   "metadata": {},
   "source": [
    "# Random Forest"
   ]
  },
  {
   "cell_type": "code",
   "execution_count": 72,
   "metadata": {
    "ExecuteTime": {
     "end_time": "2022-01-19T23:53:37.164722Z",
     "start_time": "2022-01-19T23:46:27.215366Z"
    }
   },
   "outputs": [],
   "source": [
    "rfeats= feature_select(X_train_scaled,y_train,RandomForestClassifier,min_features=10)\n",
    "X_train_best_for = X_train_scaled[rfeats]\n",
    "X_test_best_for = X_test_scaled[rfeats]"
   ]
  },
  {
   "cell_type": "code",
   "execution_count": 73,
   "metadata": {
    "ExecuteTime": {
     "end_time": "2022-01-19T23:54:26.216420Z",
     "start_time": "2022-01-19T23:53:37.167446Z"
    }
   },
   "outputs": [
    {
     "name": "stdout",
     "output_type": "stream",
     "text": [
      "Number of Trees: 90\n",
      "criterion: entropy\n",
      "Mean Cross-Val Score: 0.5702575198336939\n",
      "Train Mean Accuracy: 0.707457766790276\n",
      "Test Mean Accuracy: 0.5909090909090909\n",
      "Recall Score: 0.7272727272727273\n",
      "Precision Score: 0.5714285714285714\n",
      "F1 score: 0.64\n"
     ]
    },
    {
     "data": {
      "image/png": "[encoded data removed]",
      "text/plain": [
       "<Figure size 432x288 with 1 Axes>"
      ]
     },
     "metadata": {
      "needs_background": "light"
     },
     "output_type": "display_data"
    },
    {
     "data": {
      "image/png": "[encoded data removed]",
      "text/plain": [
       "<Figure size 432x288 with 2 Axes>"
      ]
     },
     "metadata": {
      "needs_background": "light"
     },
     "output_type": "display_data"
    },
    {
     "data": {
      "image/png": "[encoded data removed]",
      "text/plain": [
       "<Figure size 432x288 with 2 Axes>"
      ]
     },
     "metadata": {
      "needs_background": "light"
     },
     "output_type": "display_data"
    }
   ],
   "source": [
    "predictions,probabilities=random_forest(X_train_best_for,X_test_best_for,y_train,y_test)"
   ]
  },
  {
   "cell_type": "code",
   "execution_count": 74,
   "metadata": {
    "ExecuteTime": {
     "end_time": "2022-01-19T23:54:26.250304Z",
     "start_time": "2022-01-19T23:54:26.219483Z"
    }
   },
   "outputs": [
    {
     "data": {
      "text/plain": [
       "(0.7142857142857143, 5)"
      ]
     },
     "execution_count": 74,
     "metadata": {},
     "output_type": "execute_result"
    }
   ],
   "source": [
    "new_acc(probabilities)"
   ]
  },
  {
   "cell_type": "markdown",
   "metadata": {
    "heading_collapsed": true
   },
   "source": [
    "# Bagging Classifier"
   ]
  },
  {
   "cell_type": "code",
   "execution_count": 53,
   "metadata": {
    "ExecuteTime": {
     "end_time": "2022-01-18T22:02:55.328165Z",
     "start_time": "2022-01-18T21:46:08.981088Z"
    },
    "hidden": true
   },
   "outputs": [
    {
     "name": "stdout",
     "output_type": "stream",
     "text": [
      "Dec Tree Max Depth: 2\n",
      "Dec Tree Criterion: gini\n",
      "Bagging Max Samples: 3\n",
      "Bag Max Features: 2\n",
      "# of Base Estimators: 500\n",
      "Mean Cross-Val Score: 0.5891468329727207\n",
      "Train Mean Accuracy Score: 0.5673116508851379\n",
      "Test Mean Accuracy Score: 0.5\n",
      "Recall Score: 1.0\n",
      "Precision Score: 0.5\n",
      "F1 score: 0.6666666666666666\n"
     ]
    },
    {
     "data": {
      "image/png": "[encoded data removed]",
      "text/plain": [
       "<Figure size 432x288 with 1 Axes>"
      ]
     },
     "metadata": {
      "needs_background": "light"
     },
     "output_type": "display_data"
    },
    {
     "data": {
      "image/png": "[encoded data removed]",
      "text/plain": [
       "<Figure size 432x288 with 2 Axes>"
      ]
     },
     "metadata": {
      "needs_background": "light"
     },
     "output_type": "display_data"
    },
    {
     "data": {
      "image/png": "[encoded data removed]",
      "text/plain": [
       "<Figure size 432x288 with 2 Axes>"
      ]
     },
     "metadata": {
      "needs_background": "light"
     },
     "output_type": "display_data"
    }
   ],
   "source": [
    "bagged(X_train_scaled,X_test_scaled,y_train,y_test)"
   ]
  },
  {
   "cell_type": "markdown",
   "metadata": {
    "heading_collapsed": true
   },
   "source": [
    "# XGBoost"
   ]
  },
  {
   "cell_type": "code",
   "execution_count": 56,
   "metadata": {
    "ExecuteTime": {
     "end_time": "2022-01-18T22:25:14.526375Z",
     "start_time": "2022-01-18T22:18:44.271810Z"
    },
    "hidden": true
   },
   "outputs": [],
   "source": [
    "xfeats= feature_select(zero_imp_train,y_train,XGBClassifier,min_features=10)\n",
    "X_train_best_x = zero_imp_train[xfeats]\n",
    "X_test_best_x = zero_imp_test[xfeats]"
   ]
  },
  {
   "cell_type": "code",
   "execution_count": 57,
   "metadata": {
    "ExecuteTime": {
     "end_time": "2022-01-19T14:33:49.396464Z",
     "start_time": "2022-01-18T22:25:14.530886Z"
    },
    "hidden": true
   },
   "outputs": [
    {
     "name": "stdout",
     "output_type": "stream",
     "text": [
      "XGBoost Learning Rate: 0.05\n",
      "XGBoost Max Depth: 3\n",
      "XGBoost Min Child Weight: 1\n",
      "XGBoost Subsample: 0.7\n",
      "XGBoost Estimators: 100\n",
      "Stopped in Round: 15\n",
      "Mean Cross-Val Score: 0.5409766238174027\n",
      "Train Mean Accuracy Score: 0.6990531082750103\n",
      "Test Mean Accuracy Score: 0.6363636363636364\n",
      "Recall Score: 0.6363636363636364\n",
      "Precision Score: 0.6363636363636364\n",
      "F1 score: 0.6363636363636364\n"
     ]
    },
    {
     "data": {
      "image/png": "[encoded data removed]",
      "text/plain": [
       "<Figure size 432x288 with 1 Axes>"
      ]
     },
     "metadata": {
      "needs_background": "light"
     },
     "output_type": "display_data"
    },
    {
     "data": {
      "image/png": "[encoded data removed]",
      "text/plain": [
       "<Figure size 432x288 with 2 Axes>"
      ]
     },
     "metadata": {
      "needs_background": "light"
     },
     "output_type": "display_data"
    },
    {
     "data": {
      "image/png": "[encoded data removed]",
      "text/plain": [
       "<Figure size 432x288 with 2 Axes>"
      ]
     },
     "metadata": {
      "needs_background": "light"
     },
     "output_type": "display_data"
    }
   ],
   "source": [
    "xgboost(X_train_best_x, X_test_best_x, y_train, y_test, cv=5)"
   ]
  }
 ],
 "metadata": {
  "kernelspec": {
   "display_name": "Python (learn-env)",
   "language": "python",
   "name": "learn-env"
  },
  "language_info": {
   "codemirror_mode": {
    "name": "ipython",
    "version": 3
   },
   "file_extension": ".py",
   "mimetype": "text/x-python",
   "name": "python",
   "nbconvert_exporter": "python",
   "pygments_lexer": "ipython3",
   "version": "3.8.5"
  },
  "notify_time": "30"
 },
 "nbformat": 4,
 "nbformat_minor": 4
}

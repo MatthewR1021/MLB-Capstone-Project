{
 "cells": [
  {
   "cell_type": "code",
   "execution_count": 1,
   "metadata": {
    "ExecuteTime": {
     "end_time": "2022-01-20T21:46:55.474670Z",
     "start_time": "2022-01-20T21:46:48.886026Z"
    }
   },
   "outputs": [],
   "source": [
    "# Import the relevant packages\n",
    "import pandas as pd\n",
    "import numpy as np\n",
    "import matplotlib.pyplot as plt\n",
    "from sklearn.linear_model import LogisticRegression\n",
    "from sklearn.model_selection import cross_val_score, train_test_split,GridSearchCV\n",
    "from sklearn.metrics import plot_confusion_matrix, plot_roc_curve, accuracy_score, \\\n",
    "recall_score, precision_score, f1_score\n",
    "from sklearn.neighbors import KNeighborsClassifier\n",
    "from sklearn.preprocessing import StandardScaler\n",
    "from sklearn.tree import DecisionTreeClassifier, plot_tree\n",
    "from sklearn.ensemble import BaggingClassifier, RandomForestClassifier\n",
    "from sklearn.datasets import load_iris\n",
    "from sklearn.ensemble import AdaBoostClassifier, GradientBoostingClassifier\n",
    "from xgboost import XGBClassifier\n",
    "import statsmodels.api as sm\n",
    "from sklearn.feature_selection import RFECV\n",
    "from sklearn.decomposition import PCA\n",
    "import warnings\n",
    "warnings.filterwarnings(\"ignore\")"
   ]
  },
  {
   "cell_type": "code",
   "execution_count": 2,
   "metadata": {
    "ExecuteTime": {
     "end_time": "2022-01-20T21:46:55.559246Z",
     "start_time": "2022-01-20T21:46:55.523098Z"
    }
   },
   "outputs": [],
   "source": [
    "#Import functions notebook and load data set here\n",
    "import sys\n",
    "sys.path.append(\"../\")\n",
    "from Modeling_functions import *"
   ]
  },
  {
   "cell_type": "code",
   "execution_count": 3,
   "metadata": {
    "ExecuteTime": {
     "end_time": "2022-01-20T21:46:55.932898Z",
     "start_time": "2022-01-20T21:46:55.567151Z"
    }
   },
   "outputs": [],
   "source": [
    "df=pd.read_csv('../data/Season_2019.csv')"
   ]
  },
  {
   "cell_type": "code",
   "execution_count": 4,
   "metadata": {
    "ExecuteTime": {
     "end_time": "2022-01-20T21:46:55.983492Z",
     "start_time": "2022-01-20T21:46:55.956746Z"
    }
   },
   "outputs": [],
   "source": [
    "df.drop(['Unnamed: 0'],axis=1,inplace=True)"
   ]
  },
  {
   "cell_type": "code",
   "execution_count": 5,
   "metadata": {
    "ExecuteTime": {
     "end_time": "2022-01-20T21:46:56.031715Z",
     "start_time": "2022-01-20T21:46:55.998274Z"
    }
   },
   "outputs": [],
   "source": [
    "n = 75\n",
    "df=df.head(int(len(df)*(n/100)))"
   ]
  },
  {
   "cell_type": "code",
   "execution_count": 6,
   "metadata": {
    "ExecuteTime": {
     "end_time": "2022-01-20T21:46:56.103589Z",
     "start_time": "2022-01-20T21:46:56.061999Z"
    }
   },
   "outputs": [],
   "source": [
    "n = 25\n",
    "df2=df.tail(int(len(df)*(n/100)))"
   ]
  },
  {
   "cell_type": "markdown",
   "metadata": {},
   "source": [
    "Find and eliminate NaNs"
   ]
  },
  {
   "cell_type": "code",
   "execution_count": 7,
   "metadata": {
    "ExecuteTime": {
     "end_time": "2022-01-20T21:46:56.149756Z",
     "start_time": "2022-01-20T21:46:56.122054Z"
    }
   },
   "outputs": [],
   "source": [
    "df=df.drop(['H_win_probability_subtracted','A_win_probability_subtracted','A_Opp_win_probability_subtracted',\n",
    "          'H_Opp_win_probability_subtracted'],axis=1)"
   ]
  },
  {
   "cell_type": "code",
   "execution_count": 8,
   "metadata": {
    "ExecuteTime": {
     "end_time": "2022-01-20T21:46:56.172901Z",
     "start_time": "2022-01-20T21:46:56.164445Z"
    },
    "scrolled": true
   },
   "outputs": [],
   "source": [
    "df2=df2.drop(['H_win_probability_subtracted','A_win_probability_subtracted','A_Opp_win_probability_subtracted',\n",
    "          'H_Opp_win_probability_subtracted'],axis=1)"
   ]
  },
  {
   "cell_type": "code",
   "execution_count": 9,
   "metadata": {
    "ExecuteTime": {
     "end_time": "2022-01-20T21:46:56.218067Z",
     "start_time": "2022-01-20T21:46:56.184202Z"
    }
   },
   "outputs": [
    {
     "data": {
      "text/plain": [
       "1    0.531319\n",
       "0    0.468681\n",
       "Name: home_win, dtype: float64"
      ]
     },
     "execution_count": 9,
     "metadata": {},
     "output_type": "execute_result"
    }
   ],
   "source": [
    "df.home_win.value_counts(normalize=True)"
   ]
  },
  {
   "cell_type": "code",
   "execution_count": 10,
   "metadata": {
    "ExecuteTime": {
     "end_time": "2022-01-20T21:46:56.256842Z",
     "start_time": "2022-01-20T21:46:56.223588Z"
    }
   },
   "outputs": [
    {
     "data": {
      "text/plain": [
       "1    0.542857\n",
       "0    0.457143\n",
       "Name: home_win, dtype: float64"
      ]
     },
     "execution_count": 10,
     "metadata": {},
     "output_type": "execute_result"
    }
   ],
   "source": [
    "df2.home_win.value_counts(normalize=True)"
   ]
  },
  {
   "cell_type": "code",
   "execution_count": 11,
   "metadata": {
    "ExecuteTime": {
     "end_time": "2022-01-20T21:46:56.370343Z",
     "start_time": "2022-01-20T21:46:56.264081Z"
    }
   },
   "outputs": [
    {
     "data": {
      "text/html": [
       "<div>\n",
       "<style scoped>\n",
       "    .dataframe tbody tr th:only-of-type {\n",
       "        vertical-align: middle;\n",
       "    }\n",
       "\n",
       "    .dataframe tbody tr th {\n",
       "        vertical-align: top;\n",
       "    }\n",
       "\n",
       "    .dataframe thead th {\n",
       "        text-align: right;\n",
       "    }\n",
       "</style>\n",
       "<table border=\"1\" class=\"dataframe\">\n",
       "  <thead>\n",
       "    <tr style=\"text-align: right;\">\n",
       "      <th></th>\n",
       "      <th>H_name</th>\n",
       "      <th>H_at_bats</th>\n",
       "      <th>H_runs</th>\n",
       "      <th>H_hits</th>\n",
       "      <th>H_rbi</th>\n",
       "      <th>H_earned_runs</th>\n",
       "      <th>H_bases_on_balls</th>\n",
       "      <th>H_strikeouts</th>\n",
       "      <th>H_plate_appearances</th>\n",
       "      <th>H_batting_average</th>\n",
       "      <th>...</th>\n",
       "      <th>A_Opp_grounded_balls</th>\n",
       "      <th>A_Opp_fly_balls</th>\n",
       "      <th>A_Opp_line_drives</th>\n",
       "      <th>A_Opp_unknown_bat_type</th>\n",
       "      <th>A_Opp_game_score</th>\n",
       "      <th>A_Opp_inherited_runners</th>\n",
       "      <th>A_Opp_inherited_score</th>\n",
       "      <th>A_Opp_win_probability_by_pitcher</th>\n",
       "      <th>A_Opp_base_out_runs_saved</th>\n",
       "      <th>home_win</th>\n",
       "    </tr>\n",
       "  </thead>\n",
       "  <tbody>\n",
       "    <tr>\n",
       "      <th>1365</th>\n",
       "      <td>PHI</td>\n",
       "      <td>34.388889</td>\n",
       "      <td>4.777778</td>\n",
       "      <td>8.450617</td>\n",
       "      <td>4.580247</td>\n",
       "      <td>4.457963</td>\n",
       "      <td>3.469136</td>\n",
       "      <td>8.969136</td>\n",
       "      <td>38.648148</td>\n",
       "      <td>0.239568</td>\n",
       "      <td>...</td>\n",
       "      <td>10.870370</td>\n",
       "      <td>14.080247</td>\n",
       "      <td>6.302469</td>\n",
       "      <td>0.012346</td>\n",
       "      <td>48.283951</td>\n",
       "      <td>1.660494</td>\n",
       "      <td>0.604938</td>\n",
       "      <td>-0.046185</td>\n",
       "      <td>-0.594444</td>\n",
       "      <td>0</td>\n",
       "    </tr>\n",
       "    <tr>\n",
       "      <th>1366</th>\n",
       "      <td>BOS</td>\n",
       "      <td>35.617284</td>\n",
       "      <td>5.561728</td>\n",
       "      <td>9.592593</td>\n",
       "      <td>5.290123</td>\n",
       "      <td>5.152778</td>\n",
       "      <td>3.641975</td>\n",
       "      <td>8.530864</td>\n",
       "      <td>39.969136</td>\n",
       "      <td>0.263710</td>\n",
       "      <td>...</td>\n",
       "      <td>11.265432</td>\n",
       "      <td>13.018519</td>\n",
       "      <td>5.858025</td>\n",
       "      <td>0.000000</td>\n",
       "      <td>48.216049</td>\n",
       "      <td>1.481481</td>\n",
       "      <td>0.456790</td>\n",
       "      <td>-0.074901</td>\n",
       "      <td>-0.858642</td>\n",
       "      <td>0</td>\n",
       "    </tr>\n",
       "    <tr>\n",
       "      <th>1367</th>\n",
       "      <td>LAA</td>\n",
       "      <td>34.209877</td>\n",
       "      <td>4.746914</td>\n",
       "      <td>8.444444</td>\n",
       "      <td>4.530864</td>\n",
       "      <td>4.473765</td>\n",
       "      <td>3.617284</td>\n",
       "      <td>7.876543</td>\n",
       "      <td>38.586420</td>\n",
       "      <td>0.241494</td>\n",
       "      <td>...</td>\n",
       "      <td>12.262500</td>\n",
       "      <td>15.275000</td>\n",
       "      <td>6.950000</td>\n",
       "      <td>0.012500</td>\n",
       "      <td>50.937500</td>\n",
       "      <td>1.331250</td>\n",
       "      <td>0.368750</td>\n",
       "      <td>0.019687</td>\n",
       "      <td>0.099375</td>\n",
       "      <td>1</td>\n",
       "    </tr>\n",
       "    <tr>\n",
       "      <th>1368</th>\n",
       "      <td>STL</td>\n",
       "      <td>33.635802</td>\n",
       "      <td>4.716049</td>\n",
       "      <td>8.246914</td>\n",
       "      <td>4.407407</td>\n",
       "      <td>4.446173</td>\n",
       "      <td>3.462963</td>\n",
       "      <td>8.765432</td>\n",
       "      <td>38.067901</td>\n",
       "      <td>0.240457</td>\n",
       "      <td>...</td>\n",
       "      <td>11.611111</td>\n",
       "      <td>14.425926</td>\n",
       "      <td>6.685185</td>\n",
       "      <td>0.006173</td>\n",
       "      <td>50.320988</td>\n",
       "      <td>1.395062</td>\n",
       "      <td>0.456790</td>\n",
       "      <td>0.011432</td>\n",
       "      <td>-0.221605</td>\n",
       "      <td>1</td>\n",
       "    </tr>\n",
       "    <tr>\n",
       "      <th>1369</th>\n",
       "      <td>MIL</td>\n",
       "      <td>34.209877</td>\n",
       "      <td>4.746914</td>\n",
       "      <td>8.432099</td>\n",
       "      <td>4.592593</td>\n",
       "      <td>4.552593</td>\n",
       "      <td>3.882716</td>\n",
       "      <td>9.648148</td>\n",
       "      <td>38.944444</td>\n",
       "      <td>0.242580</td>\n",
       "      <td>...</td>\n",
       "      <td>11.574074</td>\n",
       "      <td>14.975309</td>\n",
       "      <td>6.549383</td>\n",
       "      <td>0.012346</td>\n",
       "      <td>53.783951</td>\n",
       "      <td>1.408805</td>\n",
       "      <td>0.490566</td>\n",
       "      <td>0.066025</td>\n",
       "      <td>0.515432</td>\n",
       "      <td>1</td>\n",
       "    </tr>\n",
       "    <tr>\n",
       "      <th>...</th>\n",
       "      <td>...</td>\n",
       "      <td>...</td>\n",
       "      <td>...</td>\n",
       "      <td>...</td>\n",
       "      <td>...</td>\n",
       "      <td>...</td>\n",
       "      <td>...</td>\n",
       "      <td>...</td>\n",
       "      <td>...</td>\n",
       "      <td>...</td>\n",
       "      <td>...</td>\n",
       "      <td>...</td>\n",
       "      <td>...</td>\n",
       "      <td>...</td>\n",
       "      <td>...</td>\n",
       "      <td>...</td>\n",
       "      <td>...</td>\n",
       "      <td>...</td>\n",
       "      <td>...</td>\n",
       "      <td>...</td>\n",
       "      <td>...</td>\n",
       "    </tr>\n",
       "    <tr>\n",
       "      <th>1815</th>\n",
       "      <td>ATL</td>\n",
       "      <td>34.320988</td>\n",
       "      <td>5.277778</td>\n",
       "      <td>8.839506</td>\n",
       "      <td>5.086420</td>\n",
       "      <td>5.011049</td>\n",
       "      <td>3.820988</td>\n",
       "      <td>9.055556</td>\n",
       "      <td>38.901235</td>\n",
       "      <td>0.252728</td>\n",
       "      <td>...</td>\n",
       "      <td>11.364198</td>\n",
       "      <td>14.253086</td>\n",
       "      <td>6.351852</td>\n",
       "      <td>0.006173</td>\n",
       "      <td>50.135802</td>\n",
       "      <td>1.577640</td>\n",
       "      <td>0.534161</td>\n",
       "      <td>-0.024111</td>\n",
       "      <td>-0.288889</td>\n",
       "      <td>0</td>\n",
       "    </tr>\n",
       "    <tr>\n",
       "      <th>1816</th>\n",
       "      <td>TEX</td>\n",
       "      <td>34.197531</td>\n",
       "      <td>5.000000</td>\n",
       "      <td>8.481481</td>\n",
       "      <td>4.722222</td>\n",
       "      <td>4.666852</td>\n",
       "      <td>3.296296</td>\n",
       "      <td>9.740741</td>\n",
       "      <td>38.296296</td>\n",
       "      <td>0.242006</td>\n",
       "      <td>...</td>\n",
       "      <td>11.327160</td>\n",
       "      <td>15.012346</td>\n",
       "      <td>6.827160</td>\n",
       "      <td>0.006173</td>\n",
       "      <td>45.055556</td>\n",
       "      <td>1.552795</td>\n",
       "      <td>0.571429</td>\n",
       "      <td>-0.060099</td>\n",
       "      <td>-0.895679</td>\n",
       "      <td>0</td>\n",
       "    </tr>\n",
       "    <tr>\n",
       "      <th>1817</th>\n",
       "      <td>ARI</td>\n",
       "      <td>34.771605</td>\n",
       "      <td>5.018519</td>\n",
       "      <td>8.759259</td>\n",
       "      <td>4.802469</td>\n",
       "      <td>4.772222</td>\n",
       "      <td>3.333333</td>\n",
       "      <td>8.395062</td>\n",
       "      <td>38.981481</td>\n",
       "      <td>0.245272</td>\n",
       "      <td>...</td>\n",
       "      <td>11.574074</td>\n",
       "      <td>14.975309</td>\n",
       "      <td>6.549383</td>\n",
       "      <td>0.012346</td>\n",
       "      <td>53.783951</td>\n",
       "      <td>1.408805</td>\n",
       "      <td>0.490566</td>\n",
       "      <td>0.066025</td>\n",
       "      <td>0.515432</td>\n",
       "      <td>0</td>\n",
       "    </tr>\n",
       "    <tr>\n",
       "      <th>1818</th>\n",
       "      <td>NYY</td>\n",
       "      <td>34.462963</td>\n",
       "      <td>5.820988</td>\n",
       "      <td>9.216049</td>\n",
       "      <td>5.580247</td>\n",
       "      <td>5.632593</td>\n",
       "      <td>3.512346</td>\n",
       "      <td>8.870370</td>\n",
       "      <td>38.549383</td>\n",
       "      <td>0.262302</td>\n",
       "      <td>...</td>\n",
       "      <td>10.000000</td>\n",
       "      <td>14.617284</td>\n",
       "      <td>6.345679</td>\n",
       "      <td>0.000000</td>\n",
       "      <td>50.265432</td>\n",
       "      <td>1.596273</td>\n",
       "      <td>0.534161</td>\n",
       "      <td>0.014932</td>\n",
       "      <td>0.192593</td>\n",
       "      <td>0</td>\n",
       "    </tr>\n",
       "    <tr>\n",
       "      <th>1819</th>\n",
       "      <td>PHI</td>\n",
       "      <td>34.388889</td>\n",
       "      <td>4.777778</td>\n",
       "      <td>8.450617</td>\n",
       "      <td>4.580247</td>\n",
       "      <td>4.457963</td>\n",
       "      <td>3.469136</td>\n",
       "      <td>8.969136</td>\n",
       "      <td>38.648148</td>\n",
       "      <td>0.239568</td>\n",
       "      <td>...</td>\n",
       "      <td>11.401235</td>\n",
       "      <td>14.240741</td>\n",
       "      <td>6.308642</td>\n",
       "      <td>0.000000</td>\n",
       "      <td>53.574074</td>\n",
       "      <td>1.341615</td>\n",
       "      <td>0.354037</td>\n",
       "      <td>0.066167</td>\n",
       "      <td>0.404321</td>\n",
       "      <td>1</td>\n",
       "    </tr>\n",
       "  </tbody>\n",
       "</table>\n",
       "<p>455 rows × 139 columns</p>\n",
       "</div>"
      ],
      "text/plain": [
       "     H_name  H_at_bats    H_runs    H_hits     H_rbi  H_earned_runs  \\\n",
       "1365    PHI  34.388889  4.777778  8.450617  4.580247       4.457963   \n",
       "1366    BOS  35.617284  5.561728  9.592593  5.290123       5.152778   \n",
       "1367    LAA  34.209877  4.746914  8.444444  4.530864       4.473765   \n",
       "1368    STL  33.635802  4.716049  8.246914  4.407407       4.446173   \n",
       "1369    MIL  34.209877  4.746914  8.432099  4.592593       4.552593   \n",
       "...     ...        ...       ...       ...       ...            ...   \n",
       "1815    ATL  34.320988  5.277778  8.839506  5.086420       5.011049   \n",
       "1816    TEX  34.197531  5.000000  8.481481  4.722222       4.666852   \n",
       "1817    ARI  34.771605  5.018519  8.759259  4.802469       4.772222   \n",
       "1818    NYY  34.462963  5.820988  9.216049  5.580247       5.632593   \n",
       "1819    PHI  34.388889  4.777778  8.450617  4.580247       4.457963   \n",
       "\n",
       "      H_bases_on_balls  H_strikeouts  H_plate_appearances  H_batting_average  \\\n",
       "1365          3.469136      8.969136            38.648148           0.239568   \n",
       "1366          3.641975      8.530864            39.969136           0.263710   \n",
       "1367          3.617284      7.876543            38.586420           0.241494   \n",
       "1368          3.462963      8.765432            38.067901           0.240457   \n",
       "1369          3.882716      9.648148            38.944444           0.242580   \n",
       "...                ...           ...                  ...                ...   \n",
       "1815          3.820988      9.055556            38.901235           0.252728   \n",
       "1816          3.296296      9.740741            38.296296           0.242006   \n",
       "1817          3.333333      8.395062            38.981481           0.245272   \n",
       "1818          3.512346      8.870370            38.549383           0.262302   \n",
       "1819          3.469136      8.969136            38.648148           0.239568   \n",
       "\n",
       "      ...  A_Opp_grounded_balls  A_Opp_fly_balls  A_Opp_line_drives  \\\n",
       "1365  ...             10.870370        14.080247           6.302469   \n",
       "1366  ...             11.265432        13.018519           5.858025   \n",
       "1367  ...             12.262500        15.275000           6.950000   \n",
       "1368  ...             11.611111        14.425926           6.685185   \n",
       "1369  ...             11.574074        14.975309           6.549383   \n",
       "...   ...                   ...              ...                ...   \n",
       "1815  ...             11.364198        14.253086           6.351852   \n",
       "1816  ...             11.327160        15.012346           6.827160   \n",
       "1817  ...             11.574074        14.975309           6.549383   \n",
       "1818  ...             10.000000        14.617284           6.345679   \n",
       "1819  ...             11.401235        14.240741           6.308642   \n",
       "\n",
       "      A_Opp_unknown_bat_type  A_Opp_game_score  A_Opp_inherited_runners  \\\n",
       "1365                0.012346         48.283951                 1.660494   \n",
       "1366                0.000000         48.216049                 1.481481   \n",
       "1367                0.012500         50.937500                 1.331250   \n",
       "1368                0.006173         50.320988                 1.395062   \n",
       "1369                0.012346         53.783951                 1.408805   \n",
       "...                      ...               ...                      ...   \n",
       "1815                0.006173         50.135802                 1.577640   \n",
       "1816                0.006173         45.055556                 1.552795   \n",
       "1817                0.012346         53.783951                 1.408805   \n",
       "1818                0.000000         50.265432                 1.596273   \n",
       "1819                0.000000         53.574074                 1.341615   \n",
       "\n",
       "      A_Opp_inherited_score  A_Opp_win_probability_by_pitcher  \\\n",
       "1365               0.604938                         -0.046185   \n",
       "1366               0.456790                         -0.074901   \n",
       "1367               0.368750                          0.019687   \n",
       "1368               0.456790                          0.011432   \n",
       "1369               0.490566                          0.066025   \n",
       "...                     ...                               ...   \n",
       "1815               0.534161                         -0.024111   \n",
       "1816               0.571429                         -0.060099   \n",
       "1817               0.490566                          0.066025   \n",
       "1818               0.534161                          0.014932   \n",
       "1819               0.354037                          0.066167   \n",
       "\n",
       "      A_Opp_base_out_runs_saved  home_win  \n",
       "1365                  -0.594444         0  \n",
       "1366                  -0.858642         0  \n",
       "1367                   0.099375         1  \n",
       "1368                  -0.221605         1  \n",
       "1369                   0.515432         1  \n",
       "...                         ...       ...  \n",
       "1815                  -0.288889         0  \n",
       "1816                  -0.895679         0  \n",
       "1817                   0.515432         0  \n",
       "1818                   0.192593         0  \n",
       "1819                   0.404321         1  \n",
       "\n",
       "[455 rows x 139 columns]"
      ]
     },
     "execution_count": 11,
     "metadata": {},
     "output_type": "execute_result"
    }
   ],
   "source": [
    "#df2.drop_duplicates(inplace=True)\n",
    "df2"
   ]
  },
  {
   "cell_type": "code",
   "execution_count": 12,
   "metadata": {
    "ExecuteTime": {
     "end_time": "2022-01-20T21:46:57.067386Z",
     "start_time": "2022-01-20T21:46:57.019734Z"
    }
   },
   "outputs": [
    {
     "data": {
      "text/html": [
       "<div>\n",
       "<style scoped>\n",
       "    .dataframe tbody tr th:only-of-type {\n",
       "        vertical-align: middle;\n",
       "    }\n",
       "\n",
       "    .dataframe tbody tr th {\n",
       "        vertical-align: top;\n",
       "    }\n",
       "\n",
       "    .dataframe thead th {\n",
       "        text-align: right;\n",
       "    }\n",
       "</style>\n",
       "<table border=\"1\" class=\"dataframe\">\n",
       "  <thead>\n",
       "    <tr style=\"text-align: right;\">\n",
       "      <th></th>\n",
       "      <th>H_name</th>\n",
       "      <th>H_at_bats</th>\n",
       "      <th>H_runs</th>\n",
       "      <th>H_hits</th>\n",
       "      <th>H_rbi</th>\n",
       "      <th>H_earned_runs</th>\n",
       "      <th>H_bases_on_balls</th>\n",
       "      <th>H_strikeouts</th>\n",
       "      <th>H_plate_appearances</th>\n",
       "      <th>H_batting_average</th>\n",
       "      <th>...</th>\n",
       "      <th>A_Opp_grounded_balls</th>\n",
       "      <th>A_Opp_fly_balls</th>\n",
       "      <th>A_Opp_line_drives</th>\n",
       "      <th>A_Opp_unknown_bat_type</th>\n",
       "      <th>A_Opp_game_score</th>\n",
       "      <th>A_Opp_inherited_runners</th>\n",
       "      <th>A_Opp_inherited_score</th>\n",
       "      <th>A_Opp_win_probability_by_pitcher</th>\n",
       "      <th>A_Opp_base_out_runs_saved</th>\n",
       "      <th>home_win</th>\n",
       "    </tr>\n",
       "  </thead>\n",
       "  <tbody>\n",
       "    <tr>\n",
       "      <th>0</th>\n",
       "      <td>NYY</td>\n",
       "      <td>34.462963</td>\n",
       "      <td>5.820988</td>\n",
       "      <td>9.216049</td>\n",
       "      <td>5.580247</td>\n",
       "      <td>5.632593</td>\n",
       "      <td>3.512346</td>\n",
       "      <td>8.870370</td>\n",
       "      <td>38.549383</td>\n",
       "      <td>0.262302</td>\n",
       "      <td>...</td>\n",
       "      <td>11.413580</td>\n",
       "      <td>16.395062</td>\n",
       "      <td>7.179012</td>\n",
       "      <td>0.000000</td>\n",
       "      <td>50.549383</td>\n",
       "      <td>1.385093</td>\n",
       "      <td>0.347826</td>\n",
       "      <td>0.068586</td>\n",
       "      <td>0.470370</td>\n",
       "      <td>1</td>\n",
       "    </tr>\n",
       "    <tr>\n",
       "      <th>1</th>\n",
       "      <td>TBR</td>\n",
       "      <td>34.740741</td>\n",
       "      <td>4.746914</td>\n",
       "      <td>8.808642</td>\n",
       "      <td>4.506173</td>\n",
       "      <td>4.573704</td>\n",
       "      <td>3.345679</td>\n",
       "      <td>9.216049</td>\n",
       "      <td>38.796296</td>\n",
       "      <td>0.249895</td>\n",
       "      <td>...</td>\n",
       "      <td>10.450617</td>\n",
       "      <td>13.179012</td>\n",
       "      <td>5.604938</td>\n",
       "      <td>0.018519</td>\n",
       "      <td>44.759259</td>\n",
       "      <td>1.679245</td>\n",
       "      <td>0.515723</td>\n",
       "      <td>-0.041290</td>\n",
       "      <td>-0.733333</td>\n",
       "      <td>0</td>\n",
       "    </tr>\n",
       "    <tr>\n",
       "      <th>2</th>\n",
       "      <td>TEX</td>\n",
       "      <td>34.197531</td>\n",
       "      <td>5.000000</td>\n",
       "      <td>8.481481</td>\n",
       "      <td>4.722222</td>\n",
       "      <td>4.666852</td>\n",
       "      <td>3.296296</td>\n",
       "      <td>9.740741</td>\n",
       "      <td>38.296296</td>\n",
       "      <td>0.242006</td>\n",
       "      <td>...</td>\n",
       "      <td>11.913580</td>\n",
       "      <td>13.555556</td>\n",
       "      <td>6.617284</td>\n",
       "      <td>0.000000</td>\n",
       "      <td>48.759259</td>\n",
       "      <td>1.487654</td>\n",
       "      <td>0.462963</td>\n",
       "      <td>-0.006420</td>\n",
       "      <td>-0.281481</td>\n",
       "      <td>0</td>\n",
       "    </tr>\n",
       "    <tr>\n",
       "      <th>3</th>\n",
       "      <td>MIA</td>\n",
       "      <td>34.024691</td>\n",
       "      <td>3.796296</td>\n",
       "      <td>8.185185</td>\n",
       "      <td>3.660494</td>\n",
       "      <td>3.545988</td>\n",
       "      <td>2.438272</td>\n",
       "      <td>9.067901</td>\n",
       "      <td>37.314815</td>\n",
       "      <td>0.234074</td>\n",
       "      <td>...</td>\n",
       "      <td>13.172840</td>\n",
       "      <td>14.685185</td>\n",
       "      <td>7.179012</td>\n",
       "      <td>0.000000</td>\n",
       "      <td>48.524691</td>\n",
       "      <td>1.347826</td>\n",
       "      <td>0.453416</td>\n",
       "      <td>0.017148</td>\n",
       "      <td>-0.015432</td>\n",
       "      <td>0</td>\n",
       "    </tr>\n",
       "    <tr>\n",
       "      <th>4</th>\n",
       "      <td>TOR</td>\n",
       "      <td>33.907407</td>\n",
       "      <td>4.481481</td>\n",
       "      <td>8.018519</td>\n",
       "      <td>4.302469</td>\n",
       "      <td>4.286975</td>\n",
       "      <td>3.141975</td>\n",
       "      <td>9.345679</td>\n",
       "      <td>37.598765</td>\n",
       "      <td>0.229025</td>\n",
       "      <td>...</td>\n",
       "      <td>11.869565</td>\n",
       "      <td>15.248447</td>\n",
       "      <td>6.645963</td>\n",
       "      <td>0.006211</td>\n",
       "      <td>54.776398</td>\n",
       "      <td>1.139241</td>\n",
       "      <td>0.316456</td>\n",
       "      <td>0.134677</td>\n",
       "      <td>1.446584</td>\n",
       "      <td>0</td>\n",
       "    </tr>\n",
       "  </tbody>\n",
       "</table>\n",
       "<p>5 rows × 139 columns</p>\n",
       "</div>"
      ],
      "text/plain": [
       "  H_name  H_at_bats    H_runs    H_hits     H_rbi  H_earned_runs  \\\n",
       "0    NYY  34.462963  5.820988  9.216049  5.580247       5.632593   \n",
       "1    TBR  34.740741  4.746914  8.808642  4.506173       4.573704   \n",
       "2    TEX  34.197531  5.000000  8.481481  4.722222       4.666852   \n",
       "3    MIA  34.024691  3.796296  8.185185  3.660494       3.545988   \n",
       "4    TOR  33.907407  4.481481  8.018519  4.302469       4.286975   \n",
       "\n",
       "   H_bases_on_balls  H_strikeouts  H_plate_appearances  H_batting_average  \\\n",
       "0          3.512346      8.870370            38.549383           0.262302   \n",
       "1          3.345679      9.216049            38.796296           0.249895   \n",
       "2          3.296296      9.740741            38.296296           0.242006   \n",
       "3          2.438272      9.067901            37.314815           0.234074   \n",
       "4          3.141975      9.345679            37.598765           0.229025   \n",
       "\n",
       "   ...  A_Opp_grounded_balls  A_Opp_fly_balls  A_Opp_line_drives  \\\n",
       "0  ...             11.413580        16.395062           7.179012   \n",
       "1  ...             10.450617        13.179012           5.604938   \n",
       "2  ...             11.913580        13.555556           6.617284   \n",
       "3  ...             13.172840        14.685185           7.179012   \n",
       "4  ...             11.869565        15.248447           6.645963   \n",
       "\n",
       "   A_Opp_unknown_bat_type  A_Opp_game_score  A_Opp_inherited_runners  \\\n",
       "0                0.000000         50.549383                 1.385093   \n",
       "1                0.018519         44.759259                 1.679245   \n",
       "2                0.000000         48.759259                 1.487654   \n",
       "3                0.000000         48.524691                 1.347826   \n",
       "4                0.006211         54.776398                 1.139241   \n",
       "\n",
       "   A_Opp_inherited_score  A_Opp_win_probability_by_pitcher  \\\n",
       "0               0.347826                          0.068586   \n",
       "1               0.515723                         -0.041290   \n",
       "2               0.462963                         -0.006420   \n",
       "3               0.453416                          0.017148   \n",
       "4               0.316456                          0.134677   \n",
       "\n",
       "   A_Opp_base_out_runs_saved  home_win  \n",
       "0                   0.470370         1  \n",
       "1                  -0.733333         0  \n",
       "2                  -0.281481         0  \n",
       "3                  -0.015432         0  \n",
       "4                   1.446584         0  \n",
       "\n",
       "[5 rows x 139 columns]"
      ]
     },
     "execution_count": 12,
     "metadata": {},
     "output_type": "execute_result"
    }
   ],
   "source": [
    "df.head()"
   ]
  },
  {
   "cell_type": "code",
   "execution_count": 13,
   "metadata": {
    "ExecuteTime": {
     "end_time": "2022-01-20T21:46:59.998239Z",
     "start_time": "2022-01-20T21:46:59.966529Z"
    }
   },
   "outputs": [],
   "source": [
    "#for col in X_train.columns:\n",
    "    #print(col)"
   ]
  },
  {
   "cell_type": "code",
   "execution_count": 14,
   "metadata": {
    "ExecuteTime": {
     "end_time": "2022-01-20T21:47:00.197934Z",
     "start_time": "2022-01-20T21:47:00.191564Z"
    }
   },
   "outputs": [],
   "source": [
    "zero_importance_list=['H_runs','H_slugging_percentage','H_on_base_plus','H_base_out_runs_added','H_putouts',\n",
    "                     'H_Opp_on_base_percentage','A_batting_average','A_win_probability_for_offensive_player',\n",
    "                     'A_putouts']"
   ]
  },
  {
   "cell_type": "code",
   "execution_count": 15,
   "metadata": {
    "ExecuteTime": {
     "end_time": "2022-01-20T21:47:00.400571Z",
     "start_time": "2022-01-20T21:47:00.395632Z"
    }
   },
   "outputs": [],
   "source": [
    "tiny_importance_list=['H_at_bats','H_win_probability_added','H_fly_balls']"
   ]
  },
  {
   "cell_type": "code",
   "execution_count": 16,
   "metadata": {
    "ExecuteTime": {
     "end_time": "2022-01-20T21:47:00.831104Z",
     "start_time": "2022-01-20T21:47:00.781152Z"
    },
    "scrolled": true
   },
   "outputs": [
    {
     "data": {
      "text/html": [
       "<div>\n",
       "<style scoped>\n",
       "    .dataframe tbody tr th:only-of-type {\n",
       "        vertical-align: middle;\n",
       "    }\n",
       "\n",
       "    .dataframe tbody tr th {\n",
       "        vertical-align: top;\n",
       "    }\n",
       "\n",
       "    .dataframe thead th {\n",
       "        text-align: right;\n",
       "    }\n",
       "</style>\n",
       "<table border=\"1\" class=\"dataframe\">\n",
       "  <thead>\n",
       "    <tr style=\"text-align: right;\">\n",
       "      <th></th>\n",
       "      <th>H_name</th>\n",
       "      <th>H_at_bats</th>\n",
       "      <th>H_runs</th>\n",
       "      <th>H_hits</th>\n",
       "      <th>H_rbi</th>\n",
       "      <th>H_earned_runs</th>\n",
       "      <th>H_bases_on_balls</th>\n",
       "      <th>H_strikeouts</th>\n",
       "      <th>H_plate_appearances</th>\n",
       "      <th>H_batting_average</th>\n",
       "      <th>...</th>\n",
       "      <th>A_Opp_grounded_balls</th>\n",
       "      <th>A_Opp_fly_balls</th>\n",
       "      <th>A_Opp_line_drives</th>\n",
       "      <th>A_Opp_unknown_bat_type</th>\n",
       "      <th>A_Opp_game_score</th>\n",
       "      <th>A_Opp_inherited_runners</th>\n",
       "      <th>A_Opp_inherited_score</th>\n",
       "      <th>A_Opp_win_probability_by_pitcher</th>\n",
       "      <th>A_Opp_base_out_runs_saved</th>\n",
       "      <th>home_win</th>\n",
       "    </tr>\n",
       "  </thead>\n",
       "  <tbody>\n",
       "    <tr>\n",
       "      <th>1365</th>\n",
       "      <td>PHI</td>\n",
       "      <td>34.388889</td>\n",
       "      <td>4.777778</td>\n",
       "      <td>8.450617</td>\n",
       "      <td>4.580247</td>\n",
       "      <td>4.457963</td>\n",
       "      <td>3.469136</td>\n",
       "      <td>8.969136</td>\n",
       "      <td>38.648148</td>\n",
       "      <td>0.239568</td>\n",
       "      <td>...</td>\n",
       "      <td>10.870370</td>\n",
       "      <td>14.080247</td>\n",
       "      <td>6.302469</td>\n",
       "      <td>0.012346</td>\n",
       "      <td>48.283951</td>\n",
       "      <td>1.660494</td>\n",
       "      <td>0.604938</td>\n",
       "      <td>-0.046185</td>\n",
       "      <td>-0.594444</td>\n",
       "      <td>0</td>\n",
       "    </tr>\n",
       "    <tr>\n",
       "      <th>1366</th>\n",
       "      <td>BOS</td>\n",
       "      <td>35.617284</td>\n",
       "      <td>5.561728</td>\n",
       "      <td>9.592593</td>\n",
       "      <td>5.290123</td>\n",
       "      <td>5.152778</td>\n",
       "      <td>3.641975</td>\n",
       "      <td>8.530864</td>\n",
       "      <td>39.969136</td>\n",
       "      <td>0.263710</td>\n",
       "      <td>...</td>\n",
       "      <td>11.265432</td>\n",
       "      <td>13.018519</td>\n",
       "      <td>5.858025</td>\n",
       "      <td>0.000000</td>\n",
       "      <td>48.216049</td>\n",
       "      <td>1.481481</td>\n",
       "      <td>0.456790</td>\n",
       "      <td>-0.074901</td>\n",
       "      <td>-0.858642</td>\n",
       "      <td>0</td>\n",
       "    </tr>\n",
       "    <tr>\n",
       "      <th>1367</th>\n",
       "      <td>LAA</td>\n",
       "      <td>34.209877</td>\n",
       "      <td>4.746914</td>\n",
       "      <td>8.444444</td>\n",
       "      <td>4.530864</td>\n",
       "      <td>4.473765</td>\n",
       "      <td>3.617284</td>\n",
       "      <td>7.876543</td>\n",
       "      <td>38.586420</td>\n",
       "      <td>0.241494</td>\n",
       "      <td>...</td>\n",
       "      <td>12.262500</td>\n",
       "      <td>15.275000</td>\n",
       "      <td>6.950000</td>\n",
       "      <td>0.012500</td>\n",
       "      <td>50.937500</td>\n",
       "      <td>1.331250</td>\n",
       "      <td>0.368750</td>\n",
       "      <td>0.019687</td>\n",
       "      <td>0.099375</td>\n",
       "      <td>1</td>\n",
       "    </tr>\n",
       "    <tr>\n",
       "      <th>1368</th>\n",
       "      <td>STL</td>\n",
       "      <td>33.635802</td>\n",
       "      <td>4.716049</td>\n",
       "      <td>8.246914</td>\n",
       "      <td>4.407407</td>\n",
       "      <td>4.446173</td>\n",
       "      <td>3.462963</td>\n",
       "      <td>8.765432</td>\n",
       "      <td>38.067901</td>\n",
       "      <td>0.240457</td>\n",
       "      <td>...</td>\n",
       "      <td>11.611111</td>\n",
       "      <td>14.425926</td>\n",
       "      <td>6.685185</td>\n",
       "      <td>0.006173</td>\n",
       "      <td>50.320988</td>\n",
       "      <td>1.395062</td>\n",
       "      <td>0.456790</td>\n",
       "      <td>0.011432</td>\n",
       "      <td>-0.221605</td>\n",
       "      <td>1</td>\n",
       "    </tr>\n",
       "    <tr>\n",
       "      <th>1369</th>\n",
       "      <td>MIL</td>\n",
       "      <td>34.209877</td>\n",
       "      <td>4.746914</td>\n",
       "      <td>8.432099</td>\n",
       "      <td>4.592593</td>\n",
       "      <td>4.552593</td>\n",
       "      <td>3.882716</td>\n",
       "      <td>9.648148</td>\n",
       "      <td>38.944444</td>\n",
       "      <td>0.242580</td>\n",
       "      <td>...</td>\n",
       "      <td>11.574074</td>\n",
       "      <td>14.975309</td>\n",
       "      <td>6.549383</td>\n",
       "      <td>0.012346</td>\n",
       "      <td>53.783951</td>\n",
       "      <td>1.408805</td>\n",
       "      <td>0.490566</td>\n",
       "      <td>0.066025</td>\n",
       "      <td>0.515432</td>\n",
       "      <td>1</td>\n",
       "    </tr>\n",
       "  </tbody>\n",
       "</table>\n",
       "<p>5 rows × 139 columns</p>\n",
       "</div>"
      ],
      "text/plain": [
       "     H_name  H_at_bats    H_runs    H_hits     H_rbi  H_earned_runs  \\\n",
       "1365    PHI  34.388889  4.777778  8.450617  4.580247       4.457963   \n",
       "1366    BOS  35.617284  5.561728  9.592593  5.290123       5.152778   \n",
       "1367    LAA  34.209877  4.746914  8.444444  4.530864       4.473765   \n",
       "1368    STL  33.635802  4.716049  8.246914  4.407407       4.446173   \n",
       "1369    MIL  34.209877  4.746914  8.432099  4.592593       4.552593   \n",
       "\n",
       "      H_bases_on_balls  H_strikeouts  H_plate_appearances  H_batting_average  \\\n",
       "1365          3.469136      8.969136            38.648148           0.239568   \n",
       "1366          3.641975      8.530864            39.969136           0.263710   \n",
       "1367          3.617284      7.876543            38.586420           0.241494   \n",
       "1368          3.462963      8.765432            38.067901           0.240457   \n",
       "1369          3.882716      9.648148            38.944444           0.242580   \n",
       "\n",
       "      ...  A_Opp_grounded_balls  A_Opp_fly_balls  A_Opp_line_drives  \\\n",
       "1365  ...             10.870370        14.080247           6.302469   \n",
       "1366  ...             11.265432        13.018519           5.858025   \n",
       "1367  ...             12.262500        15.275000           6.950000   \n",
       "1368  ...             11.611111        14.425926           6.685185   \n",
       "1369  ...             11.574074        14.975309           6.549383   \n",
       "\n",
       "      A_Opp_unknown_bat_type  A_Opp_game_score  A_Opp_inherited_runners  \\\n",
       "1365                0.012346         48.283951                 1.660494   \n",
       "1366                0.000000         48.216049                 1.481481   \n",
       "1367                0.012500         50.937500                 1.331250   \n",
       "1368                0.006173         50.320988                 1.395062   \n",
       "1369                0.012346         53.783951                 1.408805   \n",
       "\n",
       "      A_Opp_inherited_score  A_Opp_win_probability_by_pitcher  \\\n",
       "1365               0.604938                         -0.046185   \n",
       "1366               0.456790                         -0.074901   \n",
       "1367               0.368750                          0.019687   \n",
       "1368               0.456790                          0.011432   \n",
       "1369               0.490566                          0.066025   \n",
       "\n",
       "      A_Opp_base_out_runs_saved  home_win  \n",
       "1365                  -0.594444         0  \n",
       "1366                  -0.858642         0  \n",
       "1367                   0.099375         1  \n",
       "1368                  -0.221605         1  \n",
       "1369                   0.515432         1  \n",
       "\n",
       "[5 rows x 139 columns]"
      ]
     },
     "execution_count": 16,
     "metadata": {},
     "output_type": "execute_result"
    }
   ],
   "source": [
    "df2.head()"
   ]
  },
  {
   "cell_type": "code",
   "execution_count": 17,
   "metadata": {
    "ExecuteTime": {
     "end_time": "2022-01-20T21:47:01.285259Z",
     "start_time": "2022-01-20T21:47:01.274624Z"
    }
   },
   "outputs": [],
   "source": [
    "def data_preprocessing(df, df2):\n",
    "    X_train = df.drop(['home_win','H_name','A_name'], axis=1)\n",
    "    X_test = df2.drop(['home_win','H_name','A_name'], axis=1)\n",
    "    y_train = df.home_win\n",
    "    y_test= df2.home_win\n",
    "    \n",
    "    ss = StandardScaler()\n",
    "    X_train_scaled = ss.fit_transform(X_train)\n",
    "    X_test_scaled = ss.transform(X_test)\n",
    "    \n",
    "    X_train_scaled = pd.DataFrame(X_train_scaled, columns=X_train.columns)\n",
    "    X_test_scaled = pd.DataFrame(X_test_scaled, columns=X_test.columns)\n",
    "    \n",
    "    return X_train_scaled, X_test_scaled,y_train,y_test"
   ]
  },
  {
   "cell_type": "code",
   "execution_count": 18,
   "metadata": {
    "ExecuteTime": {
     "end_time": "2022-01-20T21:47:02.099797Z",
     "start_time": "2022-01-20T21:47:02.037306Z"
    }
   },
   "outputs": [],
   "source": [
    "X_train_scaled,X_test_scaled,y_train,y_test=data_preprocessing(df,df2)"
   ]
  },
  {
   "cell_type": "code",
   "execution_count": 19,
   "metadata": {
    "ExecuteTime": {
     "end_time": "2022-01-20T21:47:03.903253Z",
     "start_time": "2022-01-20T21:47:03.899370Z"
    }
   },
   "outputs": [],
   "source": [
    "# X_test_scaled.drop(['H_Opp_inherited_score','H_Opp_game_score','H_Opp_unknown_bat_type',\n",
    "#                     'H_Opp_inherited_runners'],axis=1,inplace=True)"
   ]
  },
  {
   "cell_type": "code",
   "execution_count": 20,
   "metadata": {
    "ExecuteTime": {
     "end_time": "2022-01-20T21:47:04.320114Z",
     "start_time": "2022-01-20T21:47:04.314146Z"
    }
   },
   "outputs": [],
   "source": [
    "# X_train_scaled.drop(['H_Opp_inherited_score','H_Opp_game_score','H_Opp_unknown_bat_type',\n",
    "#                     'H_Opp_inherited_runners'],axis=1,inplace=True)"
   ]
  },
  {
   "cell_type": "code",
   "execution_count": 21,
   "metadata": {
    "ExecuteTime": {
     "end_time": "2022-01-20T21:47:04.800295Z",
     "start_time": "2022-01-20T21:47:04.782300Z"
    }
   },
   "outputs": [],
   "source": [
    "zero_imp_train=X_train_scaled.drop(zero_importance_list,axis=1)\n",
    "zero_imp_test=X_test_scaled.drop(zero_importance_list,axis=1)"
   ]
  },
  {
   "cell_type": "markdown",
   "metadata": {},
   "source": [
    "## Feature Selection"
   ]
  },
  {
   "cell_type": "code",
   "execution_count": 71,
   "metadata": {
    "ExecuteTime": {
     "end_time": "2022-01-14T15:55:59.195279Z",
     "start_time": "2022-01-14T15:55:59.189989Z"
    }
   },
   "outputs": [],
   "source": [
    "# pca=PCA(n_components=0.7)\n",
    "# train_pca=pca.fit_transform(X_train_scaled)\n",
    "# test_pca=pca.transform(X_test_scaled)"
   ]
  },
  {
   "cell_type": "code",
   "execution_count": 51,
   "metadata": {
    "ExecuteTime": {
     "end_time": "2022-01-14T15:41:50.977209Z",
     "start_time": "2022-01-14T15:41:50.796700Z"
    }
   },
   "outputs": [
    {
     "data": {
      "image/png": "[encoded data removed]",
      "text/plain": [
       "<Figure size 432x288 with 1 Axes>"
      ]
     },
     "metadata": {
      "needs_background": "light"
     },
     "output_type": "display_data"
    }
   ],
   "source": [
    "#plt.scatter(train_pca[:,0], train_pca[:,1]);"
   ]
  },
  {
   "cell_type": "code",
   "execution_count": 29,
   "metadata": {
    "ExecuteTime": {
     "end_time": "2022-01-20T15:15:42.483582Z",
     "start_time": "2022-01-20T15:15:06.831818Z"
    }
   },
   "outputs": [],
   "source": [
    "feats= feature_select(X_train_scaled,y_train,LogisticRegression,min_features=10)"
   ]
  },
  {
   "cell_type": "code",
   "execution_count": 30,
   "metadata": {
    "ExecuteTime": {
     "end_time": "2022-01-20T15:15:42.543406Z",
     "start_time": "2022-01-20T15:15:42.486713Z"
    }
   },
   "outputs": [],
   "source": [
    "X_train_best_log = X_train_scaled[feats]\n",
    "X_test_best_log = X_test_scaled[feats]"
   ]
  },
  {
   "cell_type": "markdown",
   "metadata": {},
   "source": [
    "# Logistic Regression"
   ]
  },
  {
   "cell_type": "markdown",
   "metadata": {},
   "source": [
    "### All Feats"
   ]
  },
  {
   "cell_type": "code",
   "execution_count": 31,
   "metadata": {
    "ExecuteTime": {
     "end_time": "2022-01-20T15:16:00.578032Z",
     "start_time": "2022-01-20T15:15:58.052665Z"
    }
   },
   "outputs": [
    {
     "name": "stdout",
     "output_type": "stream",
     "text": [
      "Penalty: l2\n",
      "Solver: liblinear\n",
      "Mean Cross-Val Score: 0.6010989010989011\n",
      "Train Mean Accuracy: 0.6137362637362638\n",
      "Test Mean Accuracy: 0.643956043956044\n",
      "Recall Score: 0.6923076923076923\n",
      "Precision Score: 0.6653696498054474\n",
      "F1 Score: 0.6785714285714285\n"
     ]
    },
    {
     "data": {
      "image/png": "[encoded data removed]",
      "text/plain": [
       "<Figure size 432x288 with 1 Axes>"
      ]
     },
     "metadata": {
      "needs_background": "light"
     },
     "output_type": "display_data"
    },
    {
     "data": {
      "image/png": "[encoded data removed]",
      "text/plain": [
       "<Figure size 432x288 with 2 Axes>"
      ]
     },
     "metadata": {
      "needs_background": "light"
     },
     "output_type": "display_data"
    },
    {
     "data": {
      "image/png": "[encoded data removed]",
      "text/plain": [
       "<Figure size 432x288 with 2 Axes>"
      ]
     },
     "metadata": {
      "needs_background": "light"
     },
     "output_type": "display_data"
    }
   ],
   "source": [
    "predictions, probabilities=logreg(X_train_best_log,X_test_best_log,y_train,y_test)"
   ]
  },
  {
   "cell_type": "code",
   "execution_count": 22,
   "metadata": {
    "ExecuteTime": {
     "end_time": "2022-01-20T21:47:19.442130Z",
     "start_time": "2022-01-20T21:47:19.424588Z"
    }
   },
   "outputs": [],
   "source": [
    "def new_acc(probabilities):\n",
    "    class_list2=[]\n",
    "    for log in probabilities:\n",
    "        if log[0]<.40:\n",
    "            class_list2.append(1)\n",
    "        elif log[0]>.60:\n",
    "            class_list2.append(0)\n",
    "        else:\n",
    "            class_list2.append(3)\n",
    "    y_pred_class=pd.DataFrame(class_list2)\n",
    "    y_pred_class.reset_index(inplace=True)\n",
    "    y_test_df=pd.DataFrame(y_test)\n",
    "    y_test_df.reset_index(inplace=True)\n",
    "    comb=pd.concat([y_test_df,y_pred_class],axis=1)\n",
    "    comb.drop(['index','index'],axis=1,inplace=True)\n",
    "    comb['pred']=comb[0]\n",
    "    comb.drop([0],axis=1,inplace=True)\n",
    "    comb.drop(comb[comb['pred'] == 3].index, inplace = True)\n",
    "    count=0\n",
    "    for bools in comb['home_win']==comb['pred']:\n",
    "        if bools is True:\n",
    "            count+=1\n",
    "        else:\n",
    "            pass\n",
    "    accuracy=count/len(comb)\n",
    "    \n",
    "    return accuracy,count"
   ]
  },
  {
   "cell_type": "code",
   "execution_count": 33,
   "metadata": {
    "ExecuteTime": {
     "end_time": "2022-01-20T15:16:09.696350Z",
     "start_time": "2022-01-20T15:16:09.674019Z"
    }
   },
   "outputs": [
    {
     "data": {
      "text/plain": [
       "(0.7213740458015268, 189)"
      ]
     },
     "execution_count": 33,
     "metadata": {},
     "output_type": "execute_result"
    }
   ],
   "source": [
    "new_acc(probabilities)"
   ]
  },
  {
   "cell_type": "markdown",
   "metadata": {},
   "source": [
    "### Home_win, zero imp\n",
    "***"
   ]
  },
  {
   "cell_type": "code",
   "execution_count": 23,
   "metadata": {
    "ExecuteTime": {
     "end_time": "2022-01-20T21:48:19.050254Z",
     "start_time": "2022-01-20T21:47:25.156147Z"
    }
   },
   "outputs": [],
   "source": [
    "feats= feature_select(zero_imp_train,y_train,LogisticRegression,min_features=10)"
   ]
  },
  {
   "cell_type": "code",
   "execution_count": 24,
   "metadata": {
    "ExecuteTime": {
     "end_time": "2022-01-20T21:48:19.096543Z",
     "start_time": "2022-01-20T21:48:19.054398Z"
    }
   },
   "outputs": [],
   "source": [
    "X_train_best_log = zero_imp_train[feats]\n",
    "X_test_best_log = zero_imp_test[feats]"
   ]
  },
  {
   "cell_type": "code",
   "execution_count": 25,
   "metadata": {
    "ExecuteTime": {
     "end_time": "2022-01-20T21:48:22.192462Z",
     "start_time": "2022-01-20T21:48:19.118697Z"
    }
   },
   "outputs": [
    {
     "name": "stdout",
     "output_type": "stream",
     "text": [
      "Penalty: l2\n",
      "Solver: newton-cg\n",
      "Mean Cross-Val Score: 0.6032967032967033\n",
      "Train Mean Accuracy: 0.610989010989011\n",
      "Test Mean Accuracy: 0.6373626373626373\n",
      "Recall Score: 0.7206477732793523\n",
      "Precision Score: 0.6496350364963503\n",
      "F1 Score: 0.6833013435700576\n"
     ]
    },
    {
     "data": {
      "image/png": "[encoded data removed]",
      "text/plain": [
       "<Figure size 432x288 with 1 Axes>"
      ]
     },
     "metadata": {
      "needs_background": "light"
     },
     "output_type": "display_data"
    },
    {
     "data": {
      "image/png": "[encoded data removed]",
      "text/plain": [
       "<Figure size 432x288 with 2 Axes>"
      ]
     },
     "metadata": {
      "needs_background": "light"
     },
     "output_type": "display_data"
    },
    {
     "data": {
      "image/png": "[encoded data removed]",
      "text/plain": [
       "<Figure size 432x288 with 2 Axes>"
      ]
     },
     "metadata": {
      "needs_background": "light"
     },
     "output_type": "display_data"
    }
   ],
   "source": [
    "predictions, probabilities=logreg(X_train_best_log,X_test_best_log,y_train,y_test)"
   ]
  },
  {
   "cell_type": "code",
   "execution_count": 26,
   "metadata": {
    "ExecuteTime": {
     "end_time": "2022-01-20T21:49:03.049994Z",
     "start_time": "2022-01-20T21:49:02.981223Z"
    }
   },
   "outputs": [
    {
     "data": {
      "text/plain": [
       "(0.7086956521739131, 163)"
      ]
     },
     "execution_count": 26,
     "metadata": {},
     "output_type": "execute_result"
    }
   ],
   "source": [
    "new_acc(probabilities)"
   ]
  },
  {
   "cell_type": "markdown",
   "metadata": {
    "heading_collapsed": true
   },
   "source": [
    "### Explore thresehold movement and other things"
   ]
  },
  {
   "cell_type": "code",
   "execution_count": 94,
   "metadata": {
    "ExecuteTime": {
     "end_time": "2022-01-18T19:08:14.644009Z",
     "start_time": "2022-01-18T19:08:14.382466Z"
    },
    "hidden": true
   },
   "outputs": [
    {
     "data": {
      "text/plain": [
       "LogisticRegression()"
      ]
     },
     "execution_count": 94,
     "metadata": {},
     "output_type": "execute_result"
    }
   ],
   "source": [
    "logregs=LogisticRegression()\n",
    "logregs.fit(X_train_scaled,y_train)"
   ]
  },
  {
   "cell_type": "code",
   "execution_count": 95,
   "metadata": {
    "ExecuteTime": {
     "end_time": "2022-01-18T19:08:20.730374Z",
     "start_time": "2022-01-18T19:08:20.664502Z"
    },
    "hidden": true
   },
   "outputs": [
    {
     "data": {
      "text/plain": [
       "array([ True,  True,  True,  True, False,  True, False, False, False,\n",
       "       False, False, False,  True, False,  True,  True, False, False,\n",
       "       False, False, False, False, False])"
      ]
     },
     "execution_count": 95,
     "metadata": {},
     "output_type": "execute_result"
    }
   ],
   "source": [
    "logregs.predict_proba(X_test_scaled)[:,1] >= 0.6"
   ]
  },
  {
   "cell_type": "code",
   "execution_count": 47,
   "metadata": {
    "ExecuteTime": {
     "end_time": "2022-01-18T16:56:09.187820Z",
     "start_time": "2022-01-18T16:56:09.175975Z"
    },
    "hidden": true
   },
   "outputs": [
    {
     "data": {
      "text/plain": [
       "54"
      ]
     },
     "execution_count": 47,
     "metadata": {},
     "output_type": "execute_result"
    }
   ],
   "source": [
    "decisions = (logregs.predict_proba(X_test_scaled) >= .6).astype(int)\n",
    "len(decisions)"
   ]
  },
  {
   "cell_type": "code",
   "execution_count": 97,
   "metadata": {
    "ExecuteTime": {
     "end_time": "2022-01-18T19:08:34.302186Z",
     "start_time": "2022-01-18T19:08:34.264903Z"
    },
    "hidden": true,
    "scrolled": true
   },
   "outputs": [],
   "source": [
    "today_winners = np.where(y_test!= predictions,'Away','Home')"
   ]
  },
  {
   "cell_type": "code",
   "execution_count": 101,
   "metadata": {
    "ExecuteTime": {
     "end_time": "2022-01-18T19:09:02.840747Z",
     "start_time": "2022-01-18T19:09:02.822590Z"
    },
    "hidden": true
   },
   "outputs": [
    {
     "data": {
      "text/plain": [
       "array(['Home', 'Home', 'Home', 'Home', 'Away', 'Home', 'Home', 'Away',\n",
       "       'Away', 'Away', 'Home', 'Home', 'Away', 'Home', 'Home', 'Home',\n",
       "       'Away', 'Home', 'Away', 'Away', 'Home', 'Away', 'Home'],\n",
       "      dtype='<U4')"
      ]
     },
     "execution_count": 101,
     "metadata": {},
     "output_type": "execute_result"
    }
   ],
   "source": [
    "today_winners"
   ]
  },
  {
   "cell_type": "markdown",
   "metadata": {
    "hidden": true
   },
   "source": [
    "7 out of 9 playoff series correctly predicted"
   ]
  },
  {
   "cell_type": "markdown",
   "metadata": {},
   "source": [
    "# KNN"
   ]
  },
  {
   "cell_type": "markdown",
   "metadata": {},
   "source": [
    "### Home win KNN, All Feats"
   ]
  },
  {
   "cell_type": "code",
   "execution_count": 34,
   "metadata": {
    "ExecuteTime": {
     "end_time": "2022-01-20T15:16:41.650213Z",
     "start_time": "2022-01-20T15:16:18.936628Z"
    }
   },
   "outputs": [
    {
     "name": "stdout",
     "output_type": "stream",
     "text": [
      "Number of Neighbors: 17\n",
      "Metric: manhattan\n",
      "Weights: uniform\n",
      "Mean Cross-Val Score: 0.5741758241758241\n",
      "Train Mean Accuracy: 0.6395604395604395\n",
      "Test Mean Accuracy: 0.654945054945055\n",
      "Recall Score: 0.7530364372469636\n",
      "Precision Score: 0.6595744680851063\n",
      "F1 score: 0.7032136105860113\n"
     ]
    },
    {
     "data": {
      "image/png": "[encoded data removed]",
      "text/plain": [
       "<Figure size 432x288 with 1 Axes>"
      ]
     },
     "metadata": {
      "needs_background": "light"
     },
     "output_type": "display_data"
    },
    {
     "data": {
      "image/png": "[encoded data removed]",
      "text/plain": [
       "<Figure size 432x288 with 2 Axes>"
      ]
     },
     "metadata": {
      "needs_background": "light"
     },
     "output_type": "display_data"
    },
    {
     "data": {
      "image/png": "[encoded data removed]",
      "text/plain": [
       "<Figure size 432x288 with 2 Axes>"
      ]
     },
     "metadata": {
      "needs_background": "light"
     },
     "output_type": "display_data"
    }
   ],
   "source": [
    "prediction,probabilities=knn(X_train_scaled,X_test_scaled,y_train,y_test)"
   ]
  },
  {
   "cell_type": "code",
   "execution_count": 35,
   "metadata": {
    "ExecuteTime": {
     "end_time": "2022-01-20T15:16:44.823595Z",
     "start_time": "2022-01-20T15:16:44.808417Z"
    }
   },
   "outputs": [
    {
     "data": {
      "text/plain": [
       "(0.7696078431372549, 157)"
      ]
     },
     "execution_count": 35,
     "metadata": {},
     "output_type": "execute_result"
    }
   ],
   "source": [
    "new_acc(probabilities)"
   ]
  },
  {
   "cell_type": "markdown",
   "metadata": {},
   "source": [
    "### Zero imp"
   ]
  },
  {
   "cell_type": "code",
   "execution_count": 27,
   "metadata": {
    "ExecuteTime": {
     "end_time": "2022-01-20T21:50:30.575175Z",
     "start_time": "2022-01-20T21:49:56.708752Z"
    }
   },
   "outputs": [
    {
     "name": "stdout",
     "output_type": "stream",
     "text": [
      "Number of Neighbors: 17\n",
      "Metric: minkowski\n",
      "Weights: uniform\n",
      "Mean Cross-Val Score: 0.5697802197802198\n",
      "Train Mean Accuracy: 0.6362637362637362\n",
      "Test Mean Accuracy: 0.654945054945055\n",
      "Recall Score: 0.7692307692307693\n",
      "Precision Score: 0.6551724137931034\n",
      "F1 score: 0.7076350093109869\n"
     ]
    },
    {
     "data": {
      "image/png": "[encoded data removed]",
      "text/plain": [
       "<Figure size 432x288 with 1 Axes>"
      ]
     },
     "metadata": {
      "needs_background": "light"
     },
     "output_type": "display_data"
    },
    {
     "data": {
      "image/png": "[encoded data removed]",
      "text/plain": [
       "<Figure size 432x288 with 2 Axes>"
      ]
     },
     "metadata": {
      "needs_background": "light"
     },
     "output_type": "display_data"
    },
    {
     "data": {
      "image/png": "[encoded data removed]",
      "text/plain": [
       "<Figure size 432x288 with 2 Axes>"
      ]
     },
     "metadata": {
      "needs_background": "light"
     },
     "output_type": "display_data"
    }
   ],
   "source": [
    "prediction,probabilities=knn(zero_imp_train,zero_imp_test,y_train,y_test)"
   ]
  },
  {
   "cell_type": "code",
   "execution_count": 28,
   "metadata": {
    "ExecuteTime": {
     "end_time": "2022-01-20T21:50:33.739556Z",
     "start_time": "2022-01-20T21:50:33.652121Z"
    }
   },
   "outputs": [
    {
     "data": {
      "text/plain": [
       "(0.7631578947368421, 145)"
      ]
     },
     "execution_count": 28,
     "metadata": {},
     "output_type": "execute_result"
    }
   ],
   "source": [
    "new_acc(probabilities)"
   ]
  },
  {
   "cell_type": "markdown",
   "metadata": {
    "heading_collapsed": true
   },
   "source": [
    "# Decision Tree"
   ]
  },
  {
   "cell_type": "code",
   "execution_count": 24,
   "metadata": {
    "ExecuteTime": {
     "end_time": "2022-01-19T18:49:39.036052Z",
     "start_time": "2022-01-19T18:49:15.999265Z"
    },
    "hidden": true
   },
   "outputs": [],
   "source": [
    "dfeats= feature_select(X_train_scaled,y_train,DecisionTreeClassifier,min_features=10)\n",
    "X_train_best_tree = X_train_scaled[dfeats]\n",
    "X_test_best_tree = X_test_scaled[dfeats]"
   ]
  },
  {
   "cell_type": "markdown",
   "metadata": {
    "hidden": true
   },
   "source": [
    "### Dtree Home Win"
   ]
  },
  {
   "cell_type": "code",
   "execution_count": 25,
   "metadata": {
    "ExecuteTime": {
     "end_time": "2022-01-19T18:49:43.830264Z",
     "start_time": "2022-01-19T18:49:39.039286Z"
    },
    "hidden": true
   },
   "outputs": [
    {
     "name": "stdout",
     "output_type": "stream",
     "text": [
      "Max Depth: 3\n",
      "Min Sample Split: 2\n",
      "criterion: entropy\n",
      "Mean Cross-Val Score: 0.5784319714903907\n",
      "Train Mean Accuracy: 0.608480856319473\n",
      "Test Mean Accuracy: 0.5909090909090909\n",
      "Recall Score: 0.5454545454545454\n",
      "Precision Score: 0.6\n",
      "F1 score: 0.5714285714285713\n"
     ]
    },
    {
     "data": {
      "image/png": "[encoded data removed]",
      "text/plain": [
       "<Figure size 432x288 with 1 Axes>"
      ]
     },
     "metadata": {
      "needs_background": "light"
     },
     "output_type": "display_data"
    },
    {
     "data": {
      "image/png": "[encoded data removed]",
      "text/plain": [
       "<Figure size 432x288 with 2 Axes>"
      ]
     },
     "metadata": {
      "needs_background": "light"
     },
     "output_type": "display_data"
    },
    {
     "data": {
      "image/png": "[encoded data removed]",
      "text/plain": [
       "<Figure size 432x288 with 2 Axes>"
      ]
     },
     "metadata": {
      "needs_background": "light"
     },
     "output_type": "display_data"
    }
   ],
   "source": [
    "predictions,probabilities=dtree(X_train_best_tree,X_test_best_tree,y_train,y_test)"
   ]
  },
  {
   "cell_type": "code",
   "execution_count": 27,
   "metadata": {
    "ExecuteTime": {
     "end_time": "2022-01-19T18:50:05.471224Z",
     "start_time": "2022-01-19T18:50:05.451515Z"
    },
    "hidden": true
   },
   "outputs": [
    {
     "data": {
      "text/plain": [
       "0.5833333333333334"
      ]
     },
     "execution_count": 27,
     "metadata": {},
     "output_type": "execute_result"
    }
   ],
   "source": [
    "new_acc(probabilities)"
   ]
  },
  {
   "cell_type": "markdown",
   "metadata": {},
   "source": [
    "# Random Forest"
   ]
  },
  {
   "cell_type": "markdown",
   "metadata": {
    "heading_collapsed": true
   },
   "source": [
    "### model"
   ]
  },
  {
   "cell_type": "code",
   "execution_count": 29,
   "metadata": {
    "ExecuteTime": {
     "end_time": "2022-01-20T21:50:58.197676Z",
     "start_time": "2022-01-20T21:50:58.166110Z"
    },
    "hidden": true
   },
   "outputs": [],
   "source": [
    "def random_forest(X_train, X_test, y_train, y_test, cv=5):\n",
    "    \n",
    "    # Set GridSearchCV hyperparameters to compare & select\n",
    "    grid = {\n",
    "    'n_estimators': [75,90,100,110,115,125,150,500],\n",
    "    'criterion': ['gini', 'entropy']}\n",
    "    \n",
    "    # Instantiate & fit Random Forest model for GridSearch\n",
    "    grid_rf = RandomForestClassifier()\n",
    "    grid_rf.fit(X_train,y_train)\n",
    "    \n",
    "    # Instantiate & fit GridSearchCV with accuracy scoring\n",
    "    gs = GridSearchCV(estimator=grid_rf, param_grid=grid, cv=cv, scoring='accuracy')\n",
    "    gs.fit(X_train, y_train)\n",
    "    \n",
    "    # Return best hyperparameters\n",
    "    rf_params = gs.best_params_\n",
    "    \n",
    "    # Use best # of trees from best_params\n",
    "    rf_n_estimators = rf_params['n_estimators']\n",
    "    print(f'Number of Trees: {rf_n_estimators}')\n",
    "    \n",
    "    # Use best criterion from best_params\n",
    "    rf_criterion = rf_params['criterion']\n",
    "    print(f'criterion: {rf_criterion}')\n",
    "    \n",
    "    # Instantiate & fit Random Forest model\n",
    "    rforest = RandomForestClassifier(n_estimators=rf_n_estimators, criterion=rf_criterion,\n",
    "                                    random_state=42)\n",
    "    rforest.fit(X_train, y_train)\n",
    "    \n",
    "    # Create prediction variable using test data\n",
    "    y_pred = rforest.predict(X_test)\n",
    "    y_prob = rforest.predict_proba(X_test)\n",
    "    \n",
    "    # Run cross-validate score with cv folds from function parameter\n",
    "    cv_results = cross_val_score(rforest, X_train, y_train, cv=cv)\n",
    "    print(f'Mean Cross-Val Score: {cv_results.mean()}')\n",
    "    \n",
    "    # Run and print accuracy, recall, precision and f1 scores\n",
    "    train_score = rforest.score(X_train, y_train)\n",
    "    print(f'Train Mean Accuracy: {train_score}')\n",
    "    test_score = rforest.score(X_test, y_test)\n",
    "    print(f'Test Mean Accuracy: {test_score}')\n",
    "    \n",
    "    rec_score = recall_score(y_test, y_pred)\n",
    "    print(f'Recall Score: {rec_score}')\n",
    "    \n",
    "    prec_score = precision_score(y_test, y_pred)\n",
    "    print(f'Precision Score: {prec_score}')\n",
    "    \n",
    "    f1 = f1_score(y_test, y_pred)\n",
    "    print(f'F1 score: {f1}')\n",
    "    \n",
    "    # Plot an ROC curve (only works with binary data)\n",
    "    fig, ax = plt.subplots()\n",
    "    plot_roc_curve(rforest, X_train, y_train, name='train', ax=ax)\n",
    "    plot_roc_curve(rforest, X_test, y_test, name='test', ax=ax)\n",
    "    \n",
    "    # Plot Confusion Matrix\n",
    "    plot_confusion_matrix(rforest, X_train, y_train)\n",
    "    plot_confusion_matrix(rforest, X_test, y_test);\n",
    "    \n",
    "    return y_pred,y_prob\n"
   ]
  },
  {
   "cell_type": "markdown",
   "metadata": {},
   "source": [
    "### All feats"
   ]
  },
  {
   "cell_type": "code",
   "execution_count": 37,
   "metadata": {
    "ExecuteTime": {
     "end_time": "2022-01-20T15:23:52.132881Z",
     "start_time": "2022-01-20T15:17:03.335125Z"
    }
   },
   "outputs": [],
   "source": [
    "rfeats= feature_select(X_train_scaled,y_train,RandomForestClassifier,min_features=10)\n",
    "X_train_best_for = X_train_scaled[rfeats]\n",
    "X_test_best_for = X_test_scaled[rfeats]"
   ]
  },
  {
   "cell_type": "code",
   "execution_count": 38,
   "metadata": {
    "ExecuteTime": {
     "end_time": "2022-01-20T15:25:11.496311Z",
     "start_time": "2022-01-20T15:23:52.186781Z"
    }
   },
   "outputs": [
    {
     "name": "stdout",
     "output_type": "stream",
     "text": [
      "Number of Trees: 150\n",
      "criterion: entropy\n",
      "Mean Cross-Val Score: 0.5582417582417583\n",
      "Train Mean Accuracy: 0.7098901098901099\n",
      "Test Mean Accuracy: 0.7230769230769231\n",
      "Recall Score: 0.728744939271255\n",
      "Precision Score: 0.7531380753138075\n",
      "F1 score: 0.7407407407407407\n"
     ]
    },
    {
     "data": {
      "image/png": "[encoded data removed]",
      "text/plain": [
       "<Figure size 432x288 with 1 Axes>"
      ]
     },
     "metadata": {
      "needs_background": "light"
     },
     "output_type": "display_data"
    },
    {
     "data": {
      "image/png": "[encoded data removed]",
      "text/plain": [
       "<Figure size 432x288 with 2 Axes>"
      ]
     },
     "metadata": {
      "needs_background": "light"
     },
     "output_type": "display_data"
    },
    {
     "data": {
      "image/png": "[encoded data removed]",
      "text/plain": [
       "<Figure size 432x288 with 2 Axes>"
      ]
     },
     "metadata": {
      "needs_background": "light"
     },
     "output_type": "display_data"
    }
   ],
   "source": [
    "predictions,probabilities=random_forest(X_train_best_for,X_test_best_for,y_train,y_test)"
   ]
  },
  {
   "cell_type": "code",
   "execution_count": 39,
   "metadata": {
    "ExecuteTime": {
     "end_time": "2022-01-20T15:29:26.078128Z",
     "start_time": "2022-01-20T15:29:26.003749Z"
    }
   },
   "outputs": [
    {
     "data": {
      "text/plain": [
       "(0.7642045454545454, 269)"
      ]
     },
     "execution_count": 39,
     "metadata": {},
     "output_type": "execute_result"
    }
   ],
   "source": [
    "new_acc(probabilities)"
   ]
  },
  {
   "cell_type": "markdown",
   "metadata": {},
   "source": [
    "### Zero Imp"
   ]
  },
  {
   "cell_type": "code",
   "execution_count": 30,
   "metadata": {
    "ExecuteTime": {
     "end_time": "2022-01-20T21:58:25.985084Z",
     "start_time": "2022-01-20T21:51:26.333200Z"
    }
   },
   "outputs": [],
   "source": [
    "rfeats= feature_select(zero_imp_train,y_train,RandomForestClassifier,min_features=10)\n",
    "X_train_best_for = zero_imp_train[rfeats]\n",
    "X_test_best_for = zero_imp_test[rfeats]"
   ]
  },
  {
   "cell_type": "code",
   "execution_count": 31,
   "metadata": {
    "ExecuteTime": {
     "end_time": "2022-01-20T22:00:12.333706Z",
     "start_time": "2022-01-20T21:58:25.988534Z"
    }
   },
   "outputs": [
    {
     "name": "stdout",
     "output_type": "stream",
     "text": [
      "Number of Trees: 150\n",
      "criterion: entropy\n",
      "Mean Cross-Val Score: 0.5598901098901099\n",
      "Train Mean Accuracy: 0.7098901098901099\n",
      "Test Mean Accuracy: 0.7230769230769231\n",
      "Recall Score: 0.728744939271255\n",
      "Precision Score: 0.7531380753138075\n",
      "F1 score: 0.7407407407407407\n"
     ]
    },
    {
     "data": {
      "image/png": "[encoded data removed]",
      "text/plain": [
       "<Figure size 432x288 with 1 Axes>"
      ]
     },
     "metadata": {
      "needs_background": "light"
     },
     "output_type": "display_data"
    },
    {
     "data": {
      "image/png": "[encoded data removed]",
      "text/plain": [
       "<Figure size 432x288 with 2 Axes>"
      ]
     },
     "metadata": {
      "needs_background": "light"
     },
     "output_type": "display_data"
    },
    {
     "data": {
      "image/png": "[encoded data removed]",
      "text/plain": [
       "<Figure size 432x288 with 2 Axes>"
      ]
     },
     "metadata": {
      "needs_background": "light"
     },
     "output_type": "display_data"
    }
   ],
   "source": [
    "predictions,probabilities=random_forest(X_train_best_for,X_test_best_for,y_train,y_test)"
   ]
  },
  {
   "cell_type": "code",
   "execution_count": 32,
   "metadata": {
    "ExecuteTime": {
     "end_time": "2022-01-20T22:00:12.435140Z",
     "start_time": "2022-01-20T22:00:12.350419Z"
    }
   },
   "outputs": [
    {
     "data": {
      "text/plain": [
       "(0.7633802816901408, 271)"
      ]
     },
     "execution_count": 32,
     "metadata": {},
     "output_type": "execute_result"
    }
   ],
   "source": [
    "new_acc(probabilities)"
   ]
  },
  {
   "cell_type": "markdown",
   "metadata": {
    "heading_collapsed": true
   },
   "source": [
    "# Bagging Classifier"
   ]
  },
  {
   "cell_type": "code",
   "execution_count": 53,
   "metadata": {
    "ExecuteTime": {
     "end_time": "2022-01-18T22:02:55.328165Z",
     "start_time": "2022-01-18T21:46:08.981088Z"
    },
    "hidden": true
   },
   "outputs": [
    {
     "name": "stdout",
     "output_type": "stream",
     "text": [
      "Dec Tree Max Depth: 2\n",
      "Dec Tree Criterion: gini\n",
      "Bagging Max Samples: 3\n",
      "Bag Max Features: 2\n",
      "# of Base Estimators: 500\n",
      "Mean Cross-Val Score: 0.5891468329727207\n",
      "Train Mean Accuracy Score: 0.5673116508851379\n",
      "Test Mean Accuracy Score: 0.5\n",
      "Recall Score: 1.0\n",
      "Precision Score: 0.5\n",
      "F1 score: 0.6666666666666666\n"
     ]
    },
    {
     "data": {
      "image/png": "[encoded data removed]",
      "text/plain": [
       "<Figure size 432x288 with 1 Axes>"
      ]
     },
     "metadata": {
      "needs_background": "light"
     },
     "output_type": "display_data"
    },
    {
     "data": {
      "image/png": "[encoded data removed]",
      "text/plain": [
       "<Figure size 432x288 with 2 Axes>"
      ]
     },
     "metadata": {
      "needs_background": "light"
     },
     "output_type": "display_data"
    },
    {
     "data": {
      "image/png": "[encoded data removed]",
      "text/plain": [
       "<Figure size 432x288 with 2 Axes>"
      ]
     },
     "metadata": {
      "needs_background": "light"
     },
     "output_type": "display_data"
    }
   ],
   "source": [
    "bagged(X_train_scaled,X_test_scaled,y_train,y_test)"
   ]
  },
  {
   "cell_type": "markdown",
   "metadata": {
    "heading_collapsed": true
   },
   "source": [
    "# XGBoost"
   ]
  },
  {
   "cell_type": "code",
   "execution_count": 56,
   "metadata": {
    "ExecuteTime": {
     "end_time": "2022-01-18T22:25:14.526375Z",
     "start_time": "2022-01-18T22:18:44.271810Z"
    },
    "hidden": true
   },
   "outputs": [],
   "source": [
    "xfeats= feature_select(zero_imp_train,y_train,XGBClassifier,min_features=10)\n",
    "X_train_best_x = zero_imp_train[xfeats]\n",
    "X_test_best_x = zero_imp_test[xfeats]"
   ]
  },
  {
   "cell_type": "code",
   "execution_count": 57,
   "metadata": {
    "ExecuteTime": {
     "end_time": "2022-01-19T14:33:49.396464Z",
     "start_time": "2022-01-18T22:25:14.530886Z"
    },
    "hidden": true
   },
   "outputs": [
    {
     "name": "stdout",
     "output_type": "stream",
     "text": [
      "XGBoost Learning Rate: 0.05\n",
      "XGBoost Max Depth: 3\n",
      "XGBoost Min Child Weight: 1\n",
      "XGBoost Subsample: 0.7\n",
      "XGBoost Estimators: 100\n",
      "Stopped in Round: 15\n",
      "Mean Cross-Val Score: 0.5409766238174027\n",
      "Train Mean Accuracy Score: 0.6990531082750103\n",
      "Test Mean Accuracy Score: 0.6363636363636364\n",
      "Recall Score: 0.6363636363636364\n",
      "Precision Score: 0.6363636363636364\n",
      "F1 score: 0.6363636363636364\n"
     ]
    },
    {
     "data": {
      "image/png": "[encoded data removed]",
      "text/plain": [
       "<Figure size 432x288 with 1 Axes>"
      ]
     },
     "metadata": {
      "needs_background": "light"
     },
     "output_type": "display_data"
    },
    {
     "data": {
      "image/png": "[encoded data removed]",
      "text/plain": [
       "<Figure size 432x288 with 2 Axes>"
      ]
     },
     "metadata": {
      "needs_background": "light"
     },
     "output_type": "display_data"
    },
    {
     "data": {
      "image/png": "[encoded data removed]",
      "text/plain": [
       "<Figure size 432x288 with 2 Axes>"
      ]
     },
     "metadata": {
      "needs_background": "light"
     },
     "output_type": "display_data"
    }
   ],
   "source": [
    "xgboost(X_train_best_x, X_test_best_x, y_train, y_test, cv=5)"
   ]
  }
 ],
 "metadata": {
  "kernelspec": {
   "display_name": "Python (learn-env)",
   "language": "python",
   "name": "learn-env"
  },
  "language_info": {
   "codemirror_mode": {
    "name": "ipython",
    "version": 3
   },
   "file_extension": ".py",
   "mimetype": "text/x-python",
   "name": "python",
   "nbconvert_exporter": "python",
   "pygments_lexer": "ipython3",
   "version": "3.8.5"
  },
  "notify_time": "30"
 },
 "nbformat": 4,
 "nbformat_minor": 4
}

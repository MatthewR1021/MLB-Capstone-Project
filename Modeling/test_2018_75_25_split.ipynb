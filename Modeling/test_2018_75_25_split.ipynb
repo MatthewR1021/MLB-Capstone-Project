{
 "cells": [
  {
   "cell_type": "code",
   "execution_count": 1,
   "metadata": {
    "ExecuteTime": {
     "end_time": "2022-01-20T21:30:23.250150Z",
     "start_time": "2022-01-20T21:30:16.285303Z"
    }
   },
   "outputs": [],
   "source": [
    "# Import the relevant packages\n",
    "import pandas as pd\n",
    "import numpy as np\n",
    "import matplotlib.pyplot as plt\n",
    "from sklearn.linear_model import LogisticRegression\n",
    "from sklearn.model_selection import cross_val_score, train_test_split,GridSearchCV\n",
    "from sklearn.metrics import plot_confusion_matrix, plot_roc_curve, accuracy_score, \\\n",
    "recall_score, precision_score, f1_score\n",
    "from sklearn.neighbors import KNeighborsClassifier\n",
    "from sklearn.preprocessing import StandardScaler\n",
    "from sklearn.tree import DecisionTreeClassifier, plot_tree\n",
    "from sklearn.ensemble import BaggingClassifier, RandomForestClassifier\n",
    "from sklearn.datasets import load_iris\n",
    "from sklearn.ensemble import AdaBoostClassifier, GradientBoostingClassifier\n",
    "from xgboost import XGBClassifier\n",
    "import statsmodels.api as sm\n",
    "from sklearn.feature_selection import RFECV\n",
    "from sklearn.decomposition import PCA\n",
    "import warnings\n",
    "warnings.filterwarnings(\"ignore\")"
   ]
  },
  {
   "cell_type": "code",
   "execution_count": 2,
   "metadata": {
    "ExecuteTime": {
     "end_time": "2022-01-20T21:30:23.289707Z",
     "start_time": "2022-01-20T21:30:23.254485Z"
    }
   },
   "outputs": [],
   "source": [
    "#Import functions notebook and load data set here\n",
    "import sys\n",
    "sys.path.append(\"../\")\n",
    "from Modeling_functions import *"
   ]
  },
  {
   "cell_type": "code",
   "execution_count": 3,
   "metadata": {
    "ExecuteTime": {
     "end_time": "2022-01-20T21:30:23.612154Z",
     "start_time": "2022-01-20T21:30:23.319020Z"
    }
   },
   "outputs": [],
   "source": [
    "df=pd.read_csv('../data/Season_2018.csv')"
   ]
  },
  {
   "cell_type": "code",
   "execution_count": 4,
   "metadata": {
    "ExecuteTime": {
     "end_time": "2022-01-20T21:30:23.632469Z",
     "start_time": "2022-01-20T21:30:23.622487Z"
    }
   },
   "outputs": [],
   "source": [
    "df.drop(['Unnamed: 0'],axis=1,inplace=True)"
   ]
  },
  {
   "cell_type": "code",
   "execution_count": 5,
   "metadata": {
    "ExecuteTime": {
     "end_time": "2022-01-20T21:30:23.646053Z",
     "start_time": "2022-01-20T21:30:23.635774Z"
    }
   },
   "outputs": [],
   "source": [
    "n = 75\n",
    "df=df.head(int(len(df)*(n/100)))"
   ]
  },
  {
   "cell_type": "code",
   "execution_count": 6,
   "metadata": {
    "ExecuteTime": {
     "end_time": "2022-01-20T21:30:23.663047Z",
     "start_time": "2022-01-20T21:30:23.656605Z"
    }
   },
   "outputs": [],
   "source": [
    "n = 25\n",
    "df2=df.tail(int(len(df)*(n/100)))"
   ]
  },
  {
   "cell_type": "markdown",
   "metadata": {},
   "source": [
    "Find and eliminate NaNs"
   ]
  },
  {
   "cell_type": "code",
   "execution_count": 7,
   "metadata": {
    "ExecuteTime": {
     "end_time": "2022-01-20T21:30:23.681097Z",
     "start_time": "2022-01-20T21:30:23.668392Z"
    }
   },
   "outputs": [],
   "source": [
    "# df=df.drop(['H_win_probability_subtracted','A_win_probability_subtracted','A_Opp_win_probability_subtracted',\n",
    "#          'H_Opp_win_probability_subtracted'],axis=1)"
   ]
  },
  {
   "cell_type": "code",
   "execution_count": 8,
   "metadata": {
    "ExecuteTime": {
     "end_time": "2022-01-20T21:30:23.887074Z",
     "start_time": "2022-01-20T21:30:23.881338Z"
    },
    "scrolled": true
   },
   "outputs": [],
   "source": [
    "# df2=df2.drop(['H_win_probability_subtracted','A_win_probability_subtracted','A_Opp_win_probability_subtracted',\n",
    "#          'H_Opp_win_probability_subtracted','H_median_odds','A_median_odds','fav_win','home_fav'],axis=1)"
   ]
  },
  {
   "cell_type": "code",
   "execution_count": 9,
   "metadata": {
    "ExecuteTime": {
     "end_time": "2022-01-20T21:30:24.241432Z",
     "start_time": "2022-01-20T21:30:24.214210Z"
    }
   },
   "outputs": [
    {
     "data": {
      "text/plain": [
       "1    0.522241\n",
       "0    0.477759\n",
       "Name: home_win, dtype: float64"
      ]
     },
     "execution_count": 9,
     "metadata": {},
     "output_type": "execute_result"
    }
   ],
   "source": [
    "df.home_win.value_counts(normalize=True)"
   ]
  },
  {
   "cell_type": "code",
   "execution_count": 10,
   "metadata": {
    "ExecuteTime": {
     "end_time": "2022-01-20T21:30:24.795829Z",
     "start_time": "2022-01-20T21:30:24.785942Z"
    }
   },
   "outputs": [
    {
     "data": {
      "text/plain": [
       "1    0.525275\n",
       "0    0.474725\n",
       "Name: home_win, dtype: float64"
      ]
     },
     "execution_count": 10,
     "metadata": {},
     "output_type": "execute_result"
    }
   ],
   "source": [
    "df2.home_win.value_counts(normalize=True)"
   ]
  },
  {
   "cell_type": "code",
   "execution_count": 11,
   "metadata": {
    "ExecuteTime": {
     "end_time": "2022-01-20T21:30:25.225492Z",
     "start_time": "2022-01-20T21:30:25.162392Z"
    }
   },
   "outputs": [
    {
     "data": {
      "text/html": [
       "<div>\n",
       "<style scoped>\n",
       "    .dataframe tbody tr th:only-of-type {\n",
       "        vertical-align: middle;\n",
       "    }\n",
       "\n",
       "    .dataframe tbody tr th {\n",
       "        vertical-align: top;\n",
       "    }\n",
       "\n",
       "    .dataframe thead th {\n",
       "        text-align: right;\n",
       "    }\n",
       "</style>\n",
       "<table border=\"1\" class=\"dataframe\">\n",
       "  <thead>\n",
       "    <tr style=\"text-align: right;\">\n",
       "      <th></th>\n",
       "      <th>H_name</th>\n",
       "      <th>H_at_bats</th>\n",
       "      <th>H_runs</th>\n",
       "      <th>H_hits</th>\n",
       "      <th>H_rbi</th>\n",
       "      <th>H_earned_runs</th>\n",
       "      <th>H_bases_on_balls</th>\n",
       "      <th>H_strikeouts</th>\n",
       "      <th>H_plate_appearances</th>\n",
       "      <th>H_batting_average</th>\n",
       "      <th>...</th>\n",
       "      <th>A_Opp_strikes_swinging</th>\n",
       "      <th>A_Opp_strikes_looking</th>\n",
       "      <th>A_Opp_grounded_balls</th>\n",
       "      <th>A_Opp_fly_balls</th>\n",
       "      <th>A_Opp_line_drives</th>\n",
       "      <th>A_Opp_unknown_bat_type</th>\n",
       "      <th>A_Opp_game_score</th>\n",
       "      <th>A_Opp_win_probability_by_pitcher</th>\n",
       "      <th>A_Opp_base_out_runs_saved</th>\n",
       "      <th>home_win</th>\n",
       "    </tr>\n",
       "  </thead>\n",
       "  <tbody>\n",
       "    <tr>\n",
       "      <th>1366</th>\n",
       "      <td>COL</td>\n",
       "      <td>34.024691</td>\n",
       "      <td>4.802469</td>\n",
       "      <td>8.728395</td>\n",
       "      <td>4.604938</td>\n",
       "      <td>4.624012</td>\n",
       "      <td>3.104938</td>\n",
       "      <td>8.586420</td>\n",
       "      <td>37.919753</td>\n",
       "      <td>0.251395</td>\n",
       "      <td>...</td>\n",
       "      <td>17.012346</td>\n",
       "      <td>26.265432</td>\n",
       "      <td>12.364198</td>\n",
       "      <td>13.030864</td>\n",
       "      <td>6.129630</td>\n",
       "      <td>0.000000</td>\n",
       "      <td>51.487654</td>\n",
       "      <td>0.015691</td>\n",
       "      <td>0.197531</td>\n",
       "      <td>0</td>\n",
       "    </tr>\n",
       "    <tr>\n",
       "      <th>1367</th>\n",
       "      <td>MIA</td>\n",
       "      <td>34.086957</td>\n",
       "      <td>3.658385</td>\n",
       "      <td>8.093168</td>\n",
       "      <td>3.440994</td>\n",
       "      <td>3.325901</td>\n",
       "      <td>2.826087</td>\n",
       "      <td>8.596273</td>\n",
       "      <td>37.782609</td>\n",
       "      <td>0.232317</td>\n",
       "      <td>...</td>\n",
       "      <td>16.623457</td>\n",
       "      <td>25.216049</td>\n",
       "      <td>11.290123</td>\n",
       "      <td>13.728395</td>\n",
       "      <td>6.413580</td>\n",
       "      <td>0.012346</td>\n",
       "      <td>50.697531</td>\n",
       "      <td>-0.045049</td>\n",
       "      <td>-0.317284</td>\n",
       "      <td>0</td>\n",
       "    </tr>\n",
       "    <tr>\n",
       "      <th>1368</th>\n",
       "      <td>LAA</td>\n",
       "      <td>33.777778</td>\n",
       "      <td>4.450617</td>\n",
       "      <td>8.166667</td>\n",
       "      <td>4.259259</td>\n",
       "      <td>4.300185</td>\n",
       "      <td>3.172840</td>\n",
       "      <td>8.024691</td>\n",
       "      <td>37.703704</td>\n",
       "      <td>0.235302</td>\n",
       "      <td>...</td>\n",
       "      <td>15.030864</td>\n",
       "      <td>23.660494</td>\n",
       "      <td>11.469136</td>\n",
       "      <td>14.888889</td>\n",
       "      <td>6.555556</td>\n",
       "      <td>0.012346</td>\n",
       "      <td>51.259259</td>\n",
       "      <td>-0.008321</td>\n",
       "      <td>0.216667</td>\n",
       "      <td>1</td>\n",
       "    </tr>\n",
       "    <tr>\n",
       "      <th>1369</th>\n",
       "      <td>CLE</td>\n",
       "      <td>34.537037</td>\n",
       "      <td>5.049383</td>\n",
       "      <td>8.932099</td>\n",
       "      <td>4.851852</td>\n",
       "      <td>4.833519</td>\n",
       "      <td>3.419753</td>\n",
       "      <td>7.339506</td>\n",
       "      <td>38.888889</td>\n",
       "      <td>0.251302</td>\n",
       "      <td>...</td>\n",
       "      <td>15.475309</td>\n",
       "      <td>23.895062</td>\n",
       "      <td>12.679012</td>\n",
       "      <td>14.746914</td>\n",
       "      <td>6.870370</td>\n",
       "      <td>0.000000</td>\n",
       "      <td>51.938272</td>\n",
       "      <td>0.040080</td>\n",
       "      <td>0.070370</td>\n",
       "      <td>0</td>\n",
       "    </tr>\n",
       "    <tr>\n",
       "      <th>1370</th>\n",
       "      <td>PIT</td>\n",
       "      <td>33.832298</td>\n",
       "      <td>4.298137</td>\n",
       "      <td>8.577640</td>\n",
       "      <td>4.130435</td>\n",
       "      <td>4.054037</td>\n",
       "      <td>2.944099</td>\n",
       "      <td>7.633540</td>\n",
       "      <td>37.677019</td>\n",
       "      <td>0.248329</td>\n",
       "      <td>...</td>\n",
       "      <td>16.283951</td>\n",
       "      <td>24.055556</td>\n",
       "      <td>10.950617</td>\n",
       "      <td>14.450617</td>\n",
       "      <td>6.006173</td>\n",
       "      <td>0.000000</td>\n",
       "      <td>50.617284</td>\n",
       "      <td>0.009531</td>\n",
       "      <td>-0.360494</td>\n",
       "      <td>0</td>\n",
       "    </tr>\n",
       "    <tr>\n",
       "      <th>...</th>\n",
       "      <td>...</td>\n",
       "      <td>...</td>\n",
       "      <td>...</td>\n",
       "      <td>...</td>\n",
       "      <td>...</td>\n",
       "      <td>...</td>\n",
       "      <td>...</td>\n",
       "      <td>...</td>\n",
       "      <td>...</td>\n",
       "      <td>...</td>\n",
       "      <td>...</td>\n",
       "      <td>...</td>\n",
       "      <td>...</td>\n",
       "      <td>...</td>\n",
       "      <td>...</td>\n",
       "      <td>...</td>\n",
       "      <td>...</td>\n",
       "      <td>...</td>\n",
       "      <td>...</td>\n",
       "      <td>...</td>\n",
       "      <td>...</td>\n",
       "    </tr>\n",
       "    <tr>\n",
       "      <th>1816</th>\n",
       "      <td>SDP</td>\n",
       "      <td>33.864198</td>\n",
       "      <td>3.808642</td>\n",
       "      <td>7.956790</td>\n",
       "      <td>3.598765</td>\n",
       "      <td>3.550988</td>\n",
       "      <td>2.907407</td>\n",
       "      <td>9.401235</td>\n",
       "      <td>37.401235</td>\n",
       "      <td>0.231272</td>\n",
       "      <td>...</td>\n",
       "      <td>17.012346</td>\n",
       "      <td>26.265432</td>\n",
       "      <td>12.364198</td>\n",
       "      <td>13.030864</td>\n",
       "      <td>6.129630</td>\n",
       "      <td>0.000000</td>\n",
       "      <td>51.487654</td>\n",
       "      <td>0.015691</td>\n",
       "      <td>0.197531</td>\n",
       "      <td>0</td>\n",
       "    </tr>\n",
       "    <tr>\n",
       "      <th>1817</th>\n",
       "      <td>KCR</td>\n",
       "      <td>33.981481</td>\n",
       "      <td>3.938272</td>\n",
       "      <td>8.333333</td>\n",
       "      <td>3.740741</td>\n",
       "      <td>3.663580</td>\n",
       "      <td>2.635802</td>\n",
       "      <td>8.086420</td>\n",
       "      <td>37.425926</td>\n",
       "      <td>0.241000</td>\n",
       "      <td>...</td>\n",
       "      <td>15.691358</td>\n",
       "      <td>25.271605</td>\n",
       "      <td>11.753086</td>\n",
       "      <td>15.061728</td>\n",
       "      <td>6.370370</td>\n",
       "      <td>0.012346</td>\n",
       "      <td>51.783951</td>\n",
       "      <td>0.004228</td>\n",
       "      <td>0.095679</td>\n",
       "      <td>1</td>\n",
       "    </tr>\n",
       "    <tr>\n",
       "      <th>1818</th>\n",
       "      <td>MIN</td>\n",
       "      <td>34.111111</td>\n",
       "      <td>4.555556</td>\n",
       "      <td>8.512346</td>\n",
       "      <td>4.345679</td>\n",
       "      <td>4.330062</td>\n",
       "      <td>3.296296</td>\n",
       "      <td>8.197531</td>\n",
       "      <td>37.987654</td>\n",
       "      <td>0.245809</td>\n",
       "      <td>...</td>\n",
       "      <td>14.555556</td>\n",
       "      <td>24.703704</td>\n",
       "      <td>11.086420</td>\n",
       "      <td>15.833333</td>\n",
       "      <td>6.740741</td>\n",
       "      <td>0.012346</td>\n",
       "      <td>53.166667</td>\n",
       "      <td>0.066901</td>\n",
       "      <td>0.687037</td>\n",
       "      <td>1</td>\n",
       "    </tr>\n",
       "    <tr>\n",
       "      <th>1819</th>\n",
       "      <td>TEX</td>\n",
       "      <td>33.660494</td>\n",
       "      <td>4.549383</td>\n",
       "      <td>8.074074</td>\n",
       "      <td>4.296296</td>\n",
       "      <td>4.298580</td>\n",
       "      <td>3.425926</td>\n",
       "      <td>9.160494</td>\n",
       "      <td>38.043210</td>\n",
       "      <td>0.234926</td>\n",
       "      <td>...</td>\n",
       "      <td>16.314815</td>\n",
       "      <td>25.413580</td>\n",
       "      <td>11.030864</td>\n",
       "      <td>14.320988</td>\n",
       "      <td>6.617284</td>\n",
       "      <td>0.006173</td>\n",
       "      <td>51.277778</td>\n",
       "      <td>0.002444</td>\n",
       "      <td>0.030247</td>\n",
       "      <td>1</td>\n",
       "    </tr>\n",
       "    <tr>\n",
       "      <th>1820</th>\n",
       "      <td>NYY</td>\n",
       "      <td>34.043210</td>\n",
       "      <td>5.253086</td>\n",
       "      <td>8.481481</td>\n",
       "      <td>5.067901</td>\n",
       "      <td>5.039198</td>\n",
       "      <td>3.858025</td>\n",
       "      <td>8.771605</td>\n",
       "      <td>38.709877</td>\n",
       "      <td>0.244500</td>\n",
       "      <td>...</td>\n",
       "      <td>17.172840</td>\n",
       "      <td>23.407407</td>\n",
       "      <td>11.104938</td>\n",
       "      <td>13.716049</td>\n",
       "      <td>5.907407</td>\n",
       "      <td>0.006173</td>\n",
       "      <td>50.932099</td>\n",
       "      <td>0.020352</td>\n",
       "      <td>0.040741</td>\n",
       "      <td>0</td>\n",
       "    </tr>\n",
       "  </tbody>\n",
       "</table>\n",
       "<p>455 rows × 131 columns</p>\n",
       "</div>"
      ],
      "text/plain": [
       "     H_name  H_at_bats    H_runs    H_hits     H_rbi  H_earned_runs  \\\n",
       "1366    COL  34.024691  4.802469  8.728395  4.604938       4.624012   \n",
       "1367    MIA  34.086957  3.658385  8.093168  3.440994       3.325901   \n",
       "1368    LAA  33.777778  4.450617  8.166667  4.259259       4.300185   \n",
       "1369    CLE  34.537037  5.049383  8.932099  4.851852       4.833519   \n",
       "1370    PIT  33.832298  4.298137  8.577640  4.130435       4.054037   \n",
       "...     ...        ...       ...       ...       ...            ...   \n",
       "1816    SDP  33.864198  3.808642  7.956790  3.598765       3.550988   \n",
       "1817    KCR  33.981481  3.938272  8.333333  3.740741       3.663580   \n",
       "1818    MIN  34.111111  4.555556  8.512346  4.345679       4.330062   \n",
       "1819    TEX  33.660494  4.549383  8.074074  4.296296       4.298580   \n",
       "1820    NYY  34.043210  5.253086  8.481481  5.067901       5.039198   \n",
       "\n",
       "      H_bases_on_balls  H_strikeouts  H_plate_appearances  H_batting_average  \\\n",
       "1366          3.104938      8.586420            37.919753           0.251395   \n",
       "1367          2.826087      8.596273            37.782609           0.232317   \n",
       "1368          3.172840      8.024691            37.703704           0.235302   \n",
       "1369          3.419753      7.339506            38.888889           0.251302   \n",
       "1370          2.944099      7.633540            37.677019           0.248329   \n",
       "...                ...           ...                  ...                ...   \n",
       "1816          2.907407      9.401235            37.401235           0.231272   \n",
       "1817          2.635802      8.086420            37.425926           0.241000   \n",
       "1818          3.296296      8.197531            37.987654           0.245809   \n",
       "1819          3.425926      9.160494            38.043210           0.234926   \n",
       "1820          3.858025      8.771605            38.709877           0.244500   \n",
       "\n",
       "      ...  A_Opp_strikes_swinging  A_Opp_strikes_looking  \\\n",
       "1366  ...               17.012346              26.265432   \n",
       "1367  ...               16.623457              25.216049   \n",
       "1368  ...               15.030864              23.660494   \n",
       "1369  ...               15.475309              23.895062   \n",
       "1370  ...               16.283951              24.055556   \n",
       "...   ...                     ...                    ...   \n",
       "1816  ...               17.012346              26.265432   \n",
       "1817  ...               15.691358              25.271605   \n",
       "1818  ...               14.555556              24.703704   \n",
       "1819  ...               16.314815              25.413580   \n",
       "1820  ...               17.172840              23.407407   \n",
       "\n",
       "      A_Opp_grounded_balls  A_Opp_fly_balls  A_Opp_line_drives  \\\n",
       "1366             12.364198        13.030864           6.129630   \n",
       "1367             11.290123        13.728395           6.413580   \n",
       "1368             11.469136        14.888889           6.555556   \n",
       "1369             12.679012        14.746914           6.870370   \n",
       "1370             10.950617        14.450617           6.006173   \n",
       "...                    ...              ...                ...   \n",
       "1816             12.364198        13.030864           6.129630   \n",
       "1817             11.753086        15.061728           6.370370   \n",
       "1818             11.086420        15.833333           6.740741   \n",
       "1819             11.030864        14.320988           6.617284   \n",
       "1820             11.104938        13.716049           5.907407   \n",
       "\n",
       "      A_Opp_unknown_bat_type  A_Opp_game_score  \\\n",
       "1366                0.000000         51.487654   \n",
       "1367                0.012346         50.697531   \n",
       "1368                0.012346         51.259259   \n",
       "1369                0.000000         51.938272   \n",
       "1370                0.000000         50.617284   \n",
       "...                      ...               ...   \n",
       "1816                0.000000         51.487654   \n",
       "1817                0.012346         51.783951   \n",
       "1818                0.012346         53.166667   \n",
       "1819                0.006173         51.277778   \n",
       "1820                0.006173         50.932099   \n",
       "\n",
       "      A_Opp_win_probability_by_pitcher  A_Opp_base_out_runs_saved  home_win  \n",
       "1366                          0.015691                   0.197531         0  \n",
       "1367                         -0.045049                  -0.317284         0  \n",
       "1368                         -0.008321                   0.216667         1  \n",
       "1369                          0.040080                   0.070370         0  \n",
       "1370                          0.009531                  -0.360494         0  \n",
       "...                                ...                        ...       ...  \n",
       "1816                          0.015691                   0.197531         0  \n",
       "1817                          0.004228                   0.095679         1  \n",
       "1818                          0.066901                   0.687037         1  \n",
       "1819                          0.002444                   0.030247         1  \n",
       "1820                          0.020352                   0.040741         0  \n",
       "\n",
       "[455 rows x 131 columns]"
      ]
     },
     "execution_count": 11,
     "metadata": {},
     "output_type": "execute_result"
    }
   ],
   "source": [
    "#df2.drop_duplicates(inplace=True)\n",
    "df2"
   ]
  },
  {
   "cell_type": "code",
   "execution_count": 12,
   "metadata": {
    "ExecuteTime": {
     "end_time": "2022-01-20T21:30:25.938210Z",
     "start_time": "2022-01-20T21:30:25.885791Z"
    }
   },
   "outputs": [
    {
     "data": {
      "text/html": [
       "<div>\n",
       "<style scoped>\n",
       "    .dataframe tbody tr th:only-of-type {\n",
       "        vertical-align: middle;\n",
       "    }\n",
       "\n",
       "    .dataframe tbody tr th {\n",
       "        vertical-align: top;\n",
       "    }\n",
       "\n",
       "    .dataframe thead th {\n",
       "        text-align: right;\n",
       "    }\n",
       "</style>\n",
       "<table border=\"1\" class=\"dataframe\">\n",
       "  <thead>\n",
       "    <tr style=\"text-align: right;\">\n",
       "      <th></th>\n",
       "      <th>H_name</th>\n",
       "      <th>H_at_bats</th>\n",
       "      <th>H_runs</th>\n",
       "      <th>H_hits</th>\n",
       "      <th>H_rbi</th>\n",
       "      <th>H_earned_runs</th>\n",
       "      <th>H_bases_on_balls</th>\n",
       "      <th>H_strikeouts</th>\n",
       "      <th>H_plate_appearances</th>\n",
       "      <th>H_batting_average</th>\n",
       "      <th>...</th>\n",
       "      <th>A_Opp_strikes_swinging</th>\n",
       "      <th>A_Opp_strikes_looking</th>\n",
       "      <th>A_Opp_grounded_balls</th>\n",
       "      <th>A_Opp_fly_balls</th>\n",
       "      <th>A_Opp_line_drives</th>\n",
       "      <th>A_Opp_unknown_bat_type</th>\n",
       "      <th>A_Opp_game_score</th>\n",
       "      <th>A_Opp_win_probability_by_pitcher</th>\n",
       "      <th>A_Opp_base_out_runs_saved</th>\n",
       "      <th>home_win</th>\n",
       "    </tr>\n",
       "  </thead>\n",
       "  <tbody>\n",
       "    <tr>\n",
       "      <th>0</th>\n",
       "      <td>NYM</td>\n",
       "      <td>33.753086</td>\n",
       "      <td>4.172840</td>\n",
       "      <td>7.913580</td>\n",
       "      <td>4.006173</td>\n",
       "      <td>3.957531</td>\n",
       "      <td>3.493827</td>\n",
       "      <td>8.666667</td>\n",
       "      <td>38.129630</td>\n",
       "      <td>0.227963</td>\n",
       "      <td>...</td>\n",
       "      <td>16.104938</td>\n",
       "      <td>25.104938</td>\n",
       "      <td>12.265432</td>\n",
       "      <td>14.135802</td>\n",
       "      <td>6.796296</td>\n",
       "      <td>0.012346</td>\n",
       "      <td>50.376543</td>\n",
       "      <td>-0.040932</td>\n",
       "      <td>-0.425309</td>\n",
       "      <td>1</td>\n",
       "    </tr>\n",
       "    <tr>\n",
       "      <th>1</th>\n",
       "      <td>TEX</td>\n",
       "      <td>33.660494</td>\n",
       "      <td>4.549383</td>\n",
       "      <td>8.074074</td>\n",
       "      <td>4.296296</td>\n",
       "      <td>4.298580</td>\n",
       "      <td>3.425926</td>\n",
       "      <td>9.160494</td>\n",
       "      <td>38.043210</td>\n",
       "      <td>0.234926</td>\n",
       "      <td>...</td>\n",
       "      <td>18.549383</td>\n",
       "      <td>25.808642</td>\n",
       "      <td>10.456790</td>\n",
       "      <td>12.543210</td>\n",
       "      <td>5.716049</td>\n",
       "      <td>0.006173</td>\n",
       "      <td>48.870370</td>\n",
       "      <td>-0.019704</td>\n",
       "      <td>-0.457407</td>\n",
       "      <td>0</td>\n",
       "    </tr>\n",
       "    <tr>\n",
       "      <th>2</th>\n",
       "      <td>MIA</td>\n",
       "      <td>34.086957</td>\n",
       "      <td>3.658385</td>\n",
       "      <td>8.093168</td>\n",
       "      <td>3.440994</td>\n",
       "      <td>3.325901</td>\n",
       "      <td>2.826087</td>\n",
       "      <td>8.596273</td>\n",
       "      <td>37.782609</td>\n",
       "      <td>0.232317</td>\n",
       "      <td>...</td>\n",
       "      <td>15.185185</td>\n",
       "      <td>26.271605</td>\n",
       "      <td>12.117284</td>\n",
       "      <td>13.913580</td>\n",
       "      <td>6.697531</td>\n",
       "      <td>0.012346</td>\n",
       "      <td>51.425926</td>\n",
       "      <td>-0.004728</td>\n",
       "      <td>-0.308642</td>\n",
       "      <td>0</td>\n",
       "    </tr>\n",
       "    <tr>\n",
       "      <th>3</th>\n",
       "      <td>KCR</td>\n",
       "      <td>33.981481</td>\n",
       "      <td>3.938272</td>\n",
       "      <td>8.333333</td>\n",
       "      <td>3.740741</td>\n",
       "      <td>3.663580</td>\n",
       "      <td>2.635802</td>\n",
       "      <td>8.086420</td>\n",
       "      <td>37.425926</td>\n",
       "      <td>0.241000</td>\n",
       "      <td>...</td>\n",
       "      <td>15.055556</td>\n",
       "      <td>24.962963</td>\n",
       "      <td>11.197531</td>\n",
       "      <td>15.561728</td>\n",
       "      <td>6.635802</td>\n",
       "      <td>0.012346</td>\n",
       "      <td>54.080247</td>\n",
       "      <td>0.056796</td>\n",
       "      <td>0.490741</td>\n",
       "      <td>0</td>\n",
       "    </tr>\n",
       "    <tr>\n",
       "      <th>4</th>\n",
       "      <td>SDP</td>\n",
       "      <td>33.864198</td>\n",
       "      <td>3.808642</td>\n",
       "      <td>7.956790</td>\n",
       "      <td>3.598765</td>\n",
       "      <td>3.550988</td>\n",
       "      <td>2.907407</td>\n",
       "      <td>9.401235</td>\n",
       "      <td>37.401235</td>\n",
       "      <td>0.231272</td>\n",
       "      <td>...</td>\n",
       "      <td>16.623457</td>\n",
       "      <td>25.216049</td>\n",
       "      <td>11.290123</td>\n",
       "      <td>13.728395</td>\n",
       "      <td>6.413580</td>\n",
       "      <td>0.012346</td>\n",
       "      <td>50.697531</td>\n",
       "      <td>-0.045049</td>\n",
       "      <td>-0.317284</td>\n",
       "      <td>0</td>\n",
       "    </tr>\n",
       "  </tbody>\n",
       "</table>\n",
       "<p>5 rows × 131 columns</p>\n",
       "</div>"
      ],
      "text/plain": [
       "  H_name  H_at_bats    H_runs    H_hits     H_rbi  H_earned_runs  \\\n",
       "0    NYM  33.753086  4.172840  7.913580  4.006173       3.957531   \n",
       "1    TEX  33.660494  4.549383  8.074074  4.296296       4.298580   \n",
       "2    MIA  34.086957  3.658385  8.093168  3.440994       3.325901   \n",
       "3    KCR  33.981481  3.938272  8.333333  3.740741       3.663580   \n",
       "4    SDP  33.864198  3.808642  7.956790  3.598765       3.550988   \n",
       "\n",
       "   H_bases_on_balls  H_strikeouts  H_plate_appearances  H_batting_average  \\\n",
       "0          3.493827      8.666667            38.129630           0.227963   \n",
       "1          3.425926      9.160494            38.043210           0.234926   \n",
       "2          2.826087      8.596273            37.782609           0.232317   \n",
       "3          2.635802      8.086420            37.425926           0.241000   \n",
       "4          2.907407      9.401235            37.401235           0.231272   \n",
       "\n",
       "   ...  A_Opp_strikes_swinging  A_Opp_strikes_looking  A_Opp_grounded_balls  \\\n",
       "0  ...               16.104938              25.104938             12.265432   \n",
       "1  ...               18.549383              25.808642             10.456790   \n",
       "2  ...               15.185185              26.271605             12.117284   \n",
       "3  ...               15.055556              24.962963             11.197531   \n",
       "4  ...               16.623457              25.216049             11.290123   \n",
       "\n",
       "   A_Opp_fly_balls  A_Opp_line_drives  A_Opp_unknown_bat_type  \\\n",
       "0        14.135802           6.796296                0.012346   \n",
       "1        12.543210           5.716049                0.006173   \n",
       "2        13.913580           6.697531                0.012346   \n",
       "3        15.561728           6.635802                0.012346   \n",
       "4        13.728395           6.413580                0.012346   \n",
       "\n",
       "   A_Opp_game_score  A_Opp_win_probability_by_pitcher  \\\n",
       "0         50.376543                         -0.040932   \n",
       "1         48.870370                         -0.019704   \n",
       "2         51.425926                         -0.004728   \n",
       "3         54.080247                          0.056796   \n",
       "4         50.697531                         -0.045049   \n",
       "\n",
       "   A_Opp_base_out_runs_saved  home_win  \n",
       "0                  -0.425309         1  \n",
       "1                  -0.457407         0  \n",
       "2                  -0.308642         0  \n",
       "3                   0.490741         0  \n",
       "4                  -0.317284         0  \n",
       "\n",
       "[5 rows x 131 columns]"
      ]
     },
     "execution_count": 12,
     "metadata": {},
     "output_type": "execute_result"
    }
   ],
   "source": [
    "df.head()"
   ]
  },
  {
   "cell_type": "code",
   "execution_count": 13,
   "metadata": {
    "ExecuteTime": {
     "end_time": "2022-01-20T21:30:26.757966Z",
     "start_time": "2022-01-20T21:30:26.755152Z"
    }
   },
   "outputs": [],
   "source": [
    "#for col in X_train.columns:\n",
    "    #print(col)"
   ]
  },
  {
   "cell_type": "code",
   "execution_count": 14,
   "metadata": {
    "ExecuteTime": {
     "end_time": "2022-01-20T21:30:27.096124Z",
     "start_time": "2022-01-20T21:30:27.073690Z"
    }
   },
   "outputs": [],
   "source": [
    "zero_importance_list=['H_runs','H_slugging_percentage','H_on_base_plus','H_base_out_runs_added','H_putouts',\n",
    "                     'H_Opp_on_base_percentage','A_batting_average','A_win_probability_for_offensive_player',\n",
    "                     'A_putouts']"
   ]
  },
  {
   "cell_type": "code",
   "execution_count": 15,
   "metadata": {
    "ExecuteTime": {
     "end_time": "2022-01-20T21:30:27.562130Z",
     "start_time": "2022-01-20T21:30:27.547787Z"
    }
   },
   "outputs": [],
   "source": [
    "tiny_importance_list=['H_at_bats','H_win_probability_added','H_fly_balls']"
   ]
  },
  {
   "cell_type": "code",
   "execution_count": 16,
   "metadata": {
    "ExecuteTime": {
     "end_time": "2022-01-20T21:30:27.962976Z",
     "start_time": "2022-01-20T21:30:27.907122Z"
    },
    "scrolled": true
   },
   "outputs": [
    {
     "data": {
      "text/html": [
       "<div>\n",
       "<style scoped>\n",
       "    .dataframe tbody tr th:only-of-type {\n",
       "        vertical-align: middle;\n",
       "    }\n",
       "\n",
       "    .dataframe tbody tr th {\n",
       "        vertical-align: top;\n",
       "    }\n",
       "\n",
       "    .dataframe thead th {\n",
       "        text-align: right;\n",
       "    }\n",
       "</style>\n",
       "<table border=\"1\" class=\"dataframe\">\n",
       "  <thead>\n",
       "    <tr style=\"text-align: right;\">\n",
       "      <th></th>\n",
       "      <th>H_name</th>\n",
       "      <th>H_at_bats</th>\n",
       "      <th>H_runs</th>\n",
       "      <th>H_hits</th>\n",
       "      <th>H_rbi</th>\n",
       "      <th>H_earned_runs</th>\n",
       "      <th>H_bases_on_balls</th>\n",
       "      <th>H_strikeouts</th>\n",
       "      <th>H_plate_appearances</th>\n",
       "      <th>H_batting_average</th>\n",
       "      <th>...</th>\n",
       "      <th>A_Opp_strikes_swinging</th>\n",
       "      <th>A_Opp_strikes_looking</th>\n",
       "      <th>A_Opp_grounded_balls</th>\n",
       "      <th>A_Opp_fly_balls</th>\n",
       "      <th>A_Opp_line_drives</th>\n",
       "      <th>A_Opp_unknown_bat_type</th>\n",
       "      <th>A_Opp_game_score</th>\n",
       "      <th>A_Opp_win_probability_by_pitcher</th>\n",
       "      <th>A_Opp_base_out_runs_saved</th>\n",
       "      <th>home_win</th>\n",
       "    </tr>\n",
       "  </thead>\n",
       "  <tbody>\n",
       "    <tr>\n",
       "      <th>1366</th>\n",
       "      <td>COL</td>\n",
       "      <td>34.024691</td>\n",
       "      <td>4.802469</td>\n",
       "      <td>8.728395</td>\n",
       "      <td>4.604938</td>\n",
       "      <td>4.624012</td>\n",
       "      <td>3.104938</td>\n",
       "      <td>8.586420</td>\n",
       "      <td>37.919753</td>\n",
       "      <td>0.251395</td>\n",
       "      <td>...</td>\n",
       "      <td>17.012346</td>\n",
       "      <td>26.265432</td>\n",
       "      <td>12.364198</td>\n",
       "      <td>13.030864</td>\n",
       "      <td>6.129630</td>\n",
       "      <td>0.000000</td>\n",
       "      <td>51.487654</td>\n",
       "      <td>0.015691</td>\n",
       "      <td>0.197531</td>\n",
       "      <td>0</td>\n",
       "    </tr>\n",
       "    <tr>\n",
       "      <th>1367</th>\n",
       "      <td>MIA</td>\n",
       "      <td>34.086957</td>\n",
       "      <td>3.658385</td>\n",
       "      <td>8.093168</td>\n",
       "      <td>3.440994</td>\n",
       "      <td>3.325901</td>\n",
       "      <td>2.826087</td>\n",
       "      <td>8.596273</td>\n",
       "      <td>37.782609</td>\n",
       "      <td>0.232317</td>\n",
       "      <td>...</td>\n",
       "      <td>16.623457</td>\n",
       "      <td>25.216049</td>\n",
       "      <td>11.290123</td>\n",
       "      <td>13.728395</td>\n",
       "      <td>6.413580</td>\n",
       "      <td>0.012346</td>\n",
       "      <td>50.697531</td>\n",
       "      <td>-0.045049</td>\n",
       "      <td>-0.317284</td>\n",
       "      <td>0</td>\n",
       "    </tr>\n",
       "    <tr>\n",
       "      <th>1368</th>\n",
       "      <td>LAA</td>\n",
       "      <td>33.777778</td>\n",
       "      <td>4.450617</td>\n",
       "      <td>8.166667</td>\n",
       "      <td>4.259259</td>\n",
       "      <td>4.300185</td>\n",
       "      <td>3.172840</td>\n",
       "      <td>8.024691</td>\n",
       "      <td>37.703704</td>\n",
       "      <td>0.235302</td>\n",
       "      <td>...</td>\n",
       "      <td>15.030864</td>\n",
       "      <td>23.660494</td>\n",
       "      <td>11.469136</td>\n",
       "      <td>14.888889</td>\n",
       "      <td>6.555556</td>\n",
       "      <td>0.012346</td>\n",
       "      <td>51.259259</td>\n",
       "      <td>-0.008321</td>\n",
       "      <td>0.216667</td>\n",
       "      <td>1</td>\n",
       "    </tr>\n",
       "    <tr>\n",
       "      <th>1369</th>\n",
       "      <td>CLE</td>\n",
       "      <td>34.537037</td>\n",
       "      <td>5.049383</td>\n",
       "      <td>8.932099</td>\n",
       "      <td>4.851852</td>\n",
       "      <td>4.833519</td>\n",
       "      <td>3.419753</td>\n",
       "      <td>7.339506</td>\n",
       "      <td>38.888889</td>\n",
       "      <td>0.251302</td>\n",
       "      <td>...</td>\n",
       "      <td>15.475309</td>\n",
       "      <td>23.895062</td>\n",
       "      <td>12.679012</td>\n",
       "      <td>14.746914</td>\n",
       "      <td>6.870370</td>\n",
       "      <td>0.000000</td>\n",
       "      <td>51.938272</td>\n",
       "      <td>0.040080</td>\n",
       "      <td>0.070370</td>\n",
       "      <td>0</td>\n",
       "    </tr>\n",
       "    <tr>\n",
       "      <th>1370</th>\n",
       "      <td>PIT</td>\n",
       "      <td>33.832298</td>\n",
       "      <td>4.298137</td>\n",
       "      <td>8.577640</td>\n",
       "      <td>4.130435</td>\n",
       "      <td>4.054037</td>\n",
       "      <td>2.944099</td>\n",
       "      <td>7.633540</td>\n",
       "      <td>37.677019</td>\n",
       "      <td>0.248329</td>\n",
       "      <td>...</td>\n",
       "      <td>16.283951</td>\n",
       "      <td>24.055556</td>\n",
       "      <td>10.950617</td>\n",
       "      <td>14.450617</td>\n",
       "      <td>6.006173</td>\n",
       "      <td>0.000000</td>\n",
       "      <td>50.617284</td>\n",
       "      <td>0.009531</td>\n",
       "      <td>-0.360494</td>\n",
       "      <td>0</td>\n",
       "    </tr>\n",
       "  </tbody>\n",
       "</table>\n",
       "<p>5 rows × 131 columns</p>\n",
       "</div>"
      ],
      "text/plain": [
       "     H_name  H_at_bats    H_runs    H_hits     H_rbi  H_earned_runs  \\\n",
       "1366    COL  34.024691  4.802469  8.728395  4.604938       4.624012   \n",
       "1367    MIA  34.086957  3.658385  8.093168  3.440994       3.325901   \n",
       "1368    LAA  33.777778  4.450617  8.166667  4.259259       4.300185   \n",
       "1369    CLE  34.537037  5.049383  8.932099  4.851852       4.833519   \n",
       "1370    PIT  33.832298  4.298137  8.577640  4.130435       4.054037   \n",
       "\n",
       "      H_bases_on_balls  H_strikeouts  H_plate_appearances  H_batting_average  \\\n",
       "1366          3.104938      8.586420            37.919753           0.251395   \n",
       "1367          2.826087      8.596273            37.782609           0.232317   \n",
       "1368          3.172840      8.024691            37.703704           0.235302   \n",
       "1369          3.419753      7.339506            38.888889           0.251302   \n",
       "1370          2.944099      7.633540            37.677019           0.248329   \n",
       "\n",
       "      ...  A_Opp_strikes_swinging  A_Opp_strikes_looking  \\\n",
       "1366  ...               17.012346              26.265432   \n",
       "1367  ...               16.623457              25.216049   \n",
       "1368  ...               15.030864              23.660494   \n",
       "1369  ...               15.475309              23.895062   \n",
       "1370  ...               16.283951              24.055556   \n",
       "\n",
       "      A_Opp_grounded_balls  A_Opp_fly_balls  A_Opp_line_drives  \\\n",
       "1366             12.364198        13.030864           6.129630   \n",
       "1367             11.290123        13.728395           6.413580   \n",
       "1368             11.469136        14.888889           6.555556   \n",
       "1369             12.679012        14.746914           6.870370   \n",
       "1370             10.950617        14.450617           6.006173   \n",
       "\n",
       "      A_Opp_unknown_bat_type  A_Opp_game_score  \\\n",
       "1366                0.000000         51.487654   \n",
       "1367                0.012346         50.697531   \n",
       "1368                0.012346         51.259259   \n",
       "1369                0.000000         51.938272   \n",
       "1370                0.000000         50.617284   \n",
       "\n",
       "      A_Opp_win_probability_by_pitcher  A_Opp_base_out_runs_saved  home_win  \n",
       "1366                          0.015691                   0.197531         0  \n",
       "1367                         -0.045049                  -0.317284         0  \n",
       "1368                         -0.008321                   0.216667         1  \n",
       "1369                          0.040080                   0.070370         0  \n",
       "1370                          0.009531                  -0.360494         0  \n",
       "\n",
       "[5 rows x 131 columns]"
      ]
     },
     "execution_count": 16,
     "metadata": {},
     "output_type": "execute_result"
    }
   ],
   "source": [
    "df2.head()"
   ]
  },
  {
   "cell_type": "code",
   "execution_count": 17,
   "metadata": {
    "ExecuteTime": {
     "end_time": "2022-01-20T21:30:28.328749Z",
     "start_time": "2022-01-20T21:30:28.317366Z"
    }
   },
   "outputs": [],
   "source": [
    "def data_preprocessing(df, df2):\n",
    "    X_train = df.drop(['home_win','H_name','A_name'], axis=1)\n",
    "    X_test = df2.drop(['home_win','H_name','A_name'], axis=1)\n",
    "    y_train = df.home_win\n",
    "    y_test= df2.home_win\n",
    "    \n",
    "    ss = StandardScaler()\n",
    "    X_train_scaled = ss.fit_transform(X_train)\n",
    "    X_test_scaled = ss.transform(X_test)\n",
    "    \n",
    "    X_train_scaled = pd.DataFrame(X_train_scaled, columns=X_train.columns)\n",
    "    X_test_scaled = pd.DataFrame(X_test_scaled, columns=X_test.columns)\n",
    "    \n",
    "    return X_train_scaled, X_test_scaled,y_train,y_test"
   ]
  },
  {
   "cell_type": "code",
   "execution_count": 18,
   "metadata": {
    "ExecuteTime": {
     "end_time": "2022-01-20T21:30:28.855985Z",
     "start_time": "2022-01-20T21:30:28.814214Z"
    }
   },
   "outputs": [],
   "source": [
    "X_train_scaled,X_test_scaled,y_train,y_test=data_preprocessing(df,df2)"
   ]
  },
  {
   "cell_type": "code",
   "execution_count": 19,
   "metadata": {
    "ExecuteTime": {
     "end_time": "2022-01-20T21:30:29.181547Z",
     "start_time": "2022-01-20T21:30:29.174308Z"
    }
   },
   "outputs": [],
   "source": [
    "# X_test_scaled.drop(['H_Opp_inherited_score','H_Opp_game_score','H_Opp_unknown_bat_type',\n",
    "#                     'H_Opp_inherited_runners'],axis=1,inplace=True)"
   ]
  },
  {
   "cell_type": "code",
   "execution_count": 20,
   "metadata": {
    "ExecuteTime": {
     "end_time": "2022-01-20T21:30:29.475661Z",
     "start_time": "2022-01-20T21:30:29.473378Z"
    }
   },
   "outputs": [],
   "source": [
    "# X_train_scaled.drop(['H_Opp_inherited_score','H_Opp_game_score','H_Opp_unknown_bat_type',\n",
    "#                     'H_Opp_inherited_runners'],axis=1,inplace=True)"
   ]
  },
  {
   "cell_type": "code",
   "execution_count": 24,
   "metadata": {
    "ExecuteTime": {
     "end_time": "2022-01-20T21:30:55.094018Z",
     "start_time": "2022-01-20T21:30:55.080947Z"
    }
   },
   "outputs": [],
   "source": [
    "zero_imp_train=X_train_scaled.drop(zero_importance_list,axis=1)\n",
    "zero_imp_test=X_test_scaled.drop(zero_importance_list,axis=1)"
   ]
  },
  {
   "cell_type": "markdown",
   "metadata": {},
   "source": [
    "## Feature Selection"
   ]
  },
  {
   "cell_type": "code",
   "execution_count": 71,
   "metadata": {
    "ExecuteTime": {
     "end_time": "2022-01-14T15:55:59.195279Z",
     "start_time": "2022-01-14T15:55:59.189989Z"
    }
   },
   "outputs": [],
   "source": [
    "# pca=PCA(n_components=0.7)\n",
    "# train_pca=pca.fit_transform(X_train_scaled)\n",
    "# test_pca=pca.transform(X_test_scaled)"
   ]
  },
  {
   "cell_type": "code",
   "execution_count": 51,
   "metadata": {
    "ExecuteTime": {
     "end_time": "2022-01-14T15:41:50.977209Z",
     "start_time": "2022-01-14T15:41:50.796700Z"
    }
   },
   "outputs": [
    {
     "data": {
      "image/png": "[encoded data removed]",
      "text/plain": [
       "<Figure size 432x288 with 1 Axes>"
      ]
     },
     "metadata": {
      "needs_background": "light"
     },
     "output_type": "display_data"
    }
   ],
   "source": [
    "#plt.scatter(train_pca[:,0], train_pca[:,1]);"
   ]
  },
  {
   "cell_type": "code",
   "execution_count": 23,
   "metadata": {
    "ExecuteTime": {
     "end_time": "2022-01-20T21:30:47.854870Z",
     "start_time": "2022-01-20T21:30:47.824657Z"
    }
   },
   "outputs": [],
   "source": [
    "feats= feature_select(X_train_scaled,y_train,LogisticRegression,min_features=10)"
   ]
  },
  {
   "cell_type": "code",
   "execution_count": 15,
   "metadata": {
    "ExecuteTime": {
     "end_time": "2022-01-19T22:29:01.291328Z",
     "start_time": "2022-01-19T22:29:01.208075Z"
    }
   },
   "outputs": [],
   "source": [
    "X_train_best_log = X_train_scaled[feats]\n",
    "X_test_best_log = X_test_scaled[feats]"
   ]
  },
  {
   "cell_type": "markdown",
   "metadata": {},
   "source": [
    "# Logistic Regression"
   ]
  },
  {
   "cell_type": "markdown",
   "metadata": {},
   "source": [
    "### All Feats"
   ]
  },
  {
   "cell_type": "code",
   "execution_count": 16,
   "metadata": {
    "ExecuteTime": {
     "end_time": "2022-01-19T22:29:32.513839Z",
     "start_time": "2022-01-19T22:29:29.785703Z"
    }
   },
   "outputs": [
    {
     "name": "stdout",
     "output_type": "stream",
     "text": [
      "Penalty: l1\n",
      "Solver: saga\n",
      "Mean Cross-Val Score: 0.5908851422550053\n",
      "Train Mean Accuracy: 0.6090060406370126\n",
      "Test Mean Accuracy: 0.5846153846153846\n",
      "Recall Score: 0.6150627615062761\n",
      "Precision Score: 0.6024590163934426\n",
      "F1 Score: 0.608695652173913\n"
     ]
    },
    {
     "data": {
      "image/png": "[encoded data removed]",
      "text/plain": [
       "<Figure size 432x288 with 1 Axes>"
      ]
     },
     "metadata": {
      "needs_background": "light"
     },
     "output_type": "display_data"
    },
    {
     "data": {
      "image/png": "[encoded data removed]",
      "text/plain": [
       "<Figure size 432x288 with 2 Axes>"
      ]
     },
     "metadata": {
      "needs_background": "light"
     },
     "output_type": "display_data"
    },
    {
     "data": {
      "image/png": "[encoded data removed]",
      "text/plain": [
       "<Figure size 432x288 with 2 Axes>"
      ]
     },
     "metadata": {
      "needs_background": "light"
     },
     "output_type": "display_data"
    }
   ],
   "source": [
    "predictions, probabilities=logreg(X_train_best_log,X_test_best_log,y_train,y_test)"
   ]
  },
  {
   "cell_type": "code",
   "execution_count": 28,
   "metadata": {
    "ExecuteTime": {
     "end_time": "2022-01-20T21:32:21.855113Z",
     "start_time": "2022-01-20T21:32:21.815443Z"
    }
   },
   "outputs": [],
   "source": [
    "def new_acc(probabilities):\n",
    "    class_list2=[]\n",
    "    for log in probabilities:\n",
    "        if log[0]<.40:\n",
    "            class_list2.append(1)\n",
    "        elif log[0]>.60:\n",
    "            class_list2.append(0)\n",
    "        else:\n",
    "            class_list2.append(3)\n",
    "    y_pred_class=pd.DataFrame(class_list2)\n",
    "    y_pred_class.reset_index(inplace=True)\n",
    "    y_test_df=pd.DataFrame(y_test)\n",
    "    y_test_df.reset_index(inplace=True)\n",
    "    comb=pd.concat([y_test_df,y_pred_class],axis=1)\n",
    "    comb.drop(['index','index'],axis=1,inplace=True)\n",
    "    comb['pred']=comb[0]\n",
    "    comb.drop([0],axis=1,inplace=True)\n",
    "    comb.drop(comb[comb['pred'] == 3].index, inplace = True)\n",
    "    count=0\n",
    "    for bools in comb['home_win']==comb['pred']:\n",
    "        if bools is True:\n",
    "            count+=1\n",
    "        else:\n",
    "            pass\n",
    "    accuracy=count/len(comb)\n",
    "    \n",
    "    return accuracy,count"
   ]
  },
  {
   "cell_type": "code",
   "execution_count": 21,
   "metadata": {
    "ExecuteTime": {
     "end_time": "2022-01-19T22:30:37.809829Z",
     "start_time": "2022-01-19T22:30:37.717254Z"
    }
   },
   "outputs": [
    {
     "data": {
      "text/plain": [
       "(0.6878306878306878, 130)"
      ]
     },
     "execution_count": 21,
     "metadata": {},
     "output_type": "execute_result"
    }
   ],
   "source": [
    "new_acc(probabilities)"
   ]
  },
  {
   "cell_type": "markdown",
   "metadata": {},
   "source": [
    "### Home_win, zero imp\n",
    "***"
   ]
  },
  {
   "cell_type": "code",
   "execution_count": 25,
   "metadata": {
    "ExecuteTime": {
     "end_time": "2022-01-20T21:32:18.879071Z",
     "start_time": "2022-01-20T21:31:13.336009Z"
    }
   },
   "outputs": [],
   "source": [
    "feats= feature_select(zero_imp_train,y_train,LogisticRegression,min_features=10)"
   ]
  },
  {
   "cell_type": "code",
   "execution_count": 26,
   "metadata": {
    "ExecuteTime": {
     "end_time": "2022-01-20T21:32:18.943673Z",
     "start_time": "2022-01-20T21:32:18.915739Z"
    }
   },
   "outputs": [],
   "source": [
    "X_train_best_log = zero_imp_train[feats]\n",
    "X_test_best_log = zero_imp_test[feats]"
   ]
  },
  {
   "cell_type": "code",
   "execution_count": 27,
   "metadata": {
    "ExecuteTime": {
     "end_time": "2022-01-20T21:32:21.806601Z",
     "start_time": "2022-01-20T21:32:18.973389Z"
    }
   },
   "outputs": [
    {
     "name": "stdout",
     "output_type": "stream",
     "text": [
      "Penalty: l2\n",
      "Solver: newton-cg\n",
      "Mean Cross-Val Score: 0.5936233629384315\n",
      "Train Mean Accuracy: 0.6068094453596925\n",
      "Test Mean Accuracy: 0.5956043956043956\n",
      "Recall Score: 0.6192468619246861\n",
      "Precision Score: 0.6141078838174274\n",
      "F1 Score: 0.6166666666666666\n"
     ]
    },
    {
     "data": {
      "image/png": "[encoded data removed]",
      "text/plain": [
       "<Figure size 432x288 with 1 Axes>"
      ]
     },
     "metadata": {
      "needs_background": "light"
     },
     "output_type": "display_data"
    },
    {
     "data": {
      "image/png": "[encoded data removed]",
      "text/plain": [
       "<Figure size 432x288 with 2 Axes>"
      ]
     },
     "metadata": {
      "needs_background": "light"
     },
     "output_type": "display_data"
    },
    {
     "data": {
      "image/png": "[encoded data removed]",
      "text/plain": [
       "<Figure size 432x288 with 2 Axes>"
      ]
     },
     "metadata": {
      "needs_background": "light"
     },
     "output_type": "display_data"
    }
   ],
   "source": [
    "predictions, probabilities=logreg(X_train_best_log,X_test_best_log,y_train,y_test)"
   ]
  },
  {
   "cell_type": "code",
   "execution_count": 29,
   "metadata": {
    "ExecuteTime": {
     "end_time": "2022-01-20T21:32:32.890707Z",
     "start_time": "2022-01-20T21:32:32.817109Z"
    }
   },
   "outputs": [
    {
     "data": {
      "text/plain": [
       "(0.6712962962962963, 145)"
      ]
     },
     "execution_count": 29,
     "metadata": {},
     "output_type": "execute_result"
    }
   ],
   "source": [
    "new_acc(probabilities)"
   ]
  },
  {
   "cell_type": "markdown",
   "metadata": {
    "heading_collapsed": true
   },
   "source": [
    "### Explore thresehold movement and other things"
   ]
  },
  {
   "cell_type": "code",
   "execution_count": 94,
   "metadata": {
    "ExecuteTime": {
     "end_time": "2022-01-18T19:08:14.644009Z",
     "start_time": "2022-01-18T19:08:14.382466Z"
    },
    "hidden": true
   },
   "outputs": [
    {
     "data": {
      "text/plain": [
       "LogisticRegression()"
      ]
     },
     "execution_count": 94,
     "metadata": {},
     "output_type": "execute_result"
    }
   ],
   "source": [
    "logregs=LogisticRegression()\n",
    "logregs.fit(X_train_scaled,y_train)"
   ]
  },
  {
   "cell_type": "code",
   "execution_count": 95,
   "metadata": {
    "ExecuteTime": {
     "end_time": "2022-01-18T19:08:20.730374Z",
     "start_time": "2022-01-18T19:08:20.664502Z"
    },
    "hidden": true
   },
   "outputs": [
    {
     "data": {
      "text/plain": [
       "array([ True,  True,  True,  True, False,  True, False, False, False,\n",
       "       False, False, False,  True, False,  True,  True, False, False,\n",
       "       False, False, False, False, False])"
      ]
     },
     "execution_count": 95,
     "metadata": {},
     "output_type": "execute_result"
    }
   ],
   "source": [
    "logregs.predict_proba(X_test_scaled)[:,1] >= 0.6"
   ]
  },
  {
   "cell_type": "code",
   "execution_count": 47,
   "metadata": {
    "ExecuteTime": {
     "end_time": "2022-01-18T16:56:09.187820Z",
     "start_time": "2022-01-18T16:56:09.175975Z"
    },
    "hidden": true
   },
   "outputs": [
    {
     "data": {
      "text/plain": [
       "54"
      ]
     },
     "execution_count": 47,
     "metadata": {},
     "output_type": "execute_result"
    }
   ],
   "source": [
    "decisions = (logregs.predict_proba(X_test_scaled) >= .6).astype(int)\n",
    "len(decisions)"
   ]
  },
  {
   "cell_type": "code",
   "execution_count": 97,
   "metadata": {
    "ExecuteTime": {
     "end_time": "2022-01-18T19:08:34.302186Z",
     "start_time": "2022-01-18T19:08:34.264903Z"
    },
    "hidden": true,
    "scrolled": true
   },
   "outputs": [],
   "source": [
    "today_winners = np.where(y_test!= predictions,'Away','Home')"
   ]
  },
  {
   "cell_type": "code",
   "execution_count": 101,
   "metadata": {
    "ExecuteTime": {
     "end_time": "2022-01-18T19:09:02.840747Z",
     "start_time": "2022-01-18T19:09:02.822590Z"
    },
    "hidden": true
   },
   "outputs": [
    {
     "data": {
      "text/plain": [
       "array(['Home', 'Home', 'Home', 'Home', 'Away', 'Home', 'Home', 'Away',\n",
       "       'Away', 'Away', 'Home', 'Home', 'Away', 'Home', 'Home', 'Home',\n",
       "       'Away', 'Home', 'Away', 'Away', 'Home', 'Away', 'Home'],\n",
       "      dtype='<U4')"
      ]
     },
     "execution_count": 101,
     "metadata": {},
     "output_type": "execute_result"
    }
   ],
   "source": [
    "today_winners"
   ]
  },
  {
   "cell_type": "markdown",
   "metadata": {
    "hidden": true
   },
   "source": [
    "7 out of 9 playoff series correctly predicted"
   ]
  },
  {
   "cell_type": "markdown",
   "metadata": {},
   "source": [
    "# KNN"
   ]
  },
  {
   "cell_type": "markdown",
   "metadata": {},
   "source": [
    "### Home win KNN All Feats"
   ]
  },
  {
   "cell_type": "code",
   "execution_count": 22,
   "metadata": {
    "ExecuteTime": {
     "end_time": "2022-01-19T22:31:46.089460Z",
     "start_time": "2022-01-19T22:31:17.250007Z"
    }
   },
   "outputs": [
    {
     "name": "stdout",
     "output_type": "stream",
     "text": [
      "Number of Neighbors: 13\n",
      "Metric: minkowski\n",
      "Weights: uniform\n",
      "Mean Cross-Val Score: 0.5645235586331477\n",
      "Train Mean Accuracy: 0.6457990115321252\n",
      "Test Mean Accuracy: 0.6505494505494506\n",
      "Recall Score: 0.7447698744769874\n",
      "Precision Score: 0.644927536231884\n",
      "F1 score: 0.6912621359223301\n"
     ]
    },
    {
     "data": {
      "image/png": "[encoded data removed]",
      "text/plain": [
       "<Figure size 432x288 with 1 Axes>"
      ]
     },
     "metadata": {
      "needs_background": "light"
     },
     "output_type": "display_data"
    },
    {
     "data": {
      "image/png": "[encoded data removed]",
      "text/plain": [
       "<Figure size 432x288 with 2 Axes>"
      ]
     },
     "metadata": {
      "needs_background": "light"
     },
     "output_type": "display_data"
    },
    {
     "data": {
      "image/png": "[encoded data removed]",
      "text/plain": [
       "<Figure size 432x288 with 2 Axes>"
      ]
     },
     "metadata": {
      "needs_background": "light"
     },
     "output_type": "display_data"
    }
   ],
   "source": [
    "prediction,probabilities=knn(X_train_scaled,X_test_scaled,y_train,y_test)"
   ]
  },
  {
   "cell_type": "code",
   "execution_count": 23,
   "metadata": {
    "ExecuteTime": {
     "end_time": "2022-01-19T22:31:48.072468Z",
     "start_time": "2022-01-19T22:31:48.008405Z"
    }
   },
   "outputs": [
    {
     "data": {
      "text/plain": [
       "(0.6884735202492211, 221)"
      ]
     },
     "execution_count": 23,
     "metadata": {},
     "output_type": "execute_result"
    }
   ],
   "source": [
    "new_acc(probabilities)"
   ]
  },
  {
   "cell_type": "markdown",
   "metadata": {},
   "source": [
    "### Zero Imp"
   ]
  },
  {
   "cell_type": "code",
   "execution_count": 30,
   "metadata": {
    "ExecuteTime": {
     "end_time": "2022-01-20T21:34:16.816459Z",
     "start_time": "2022-01-20T21:33:42.734089Z"
    }
   },
   "outputs": [
    {
     "name": "stdout",
     "output_type": "stream",
     "text": [
      "Number of Neighbors: 15\n",
      "Metric: manhattan\n",
      "Weights: uniform\n",
      "Mean Cross-Val Score: 0.5606728887550805\n",
      "Train Mean Accuracy: 0.6254805052169138\n",
      "Test Mean Accuracy: 0.6285714285714286\n",
      "Recall Score: 0.698744769874477\n",
      "Precision Score: 0.6325757575757576\n",
      "F1 score: 0.6640159045725647\n"
     ]
    },
    {
     "data": {
      "image/png": "[encoded data removed]",
      "text/plain": [
       "<Figure size 432x288 with 1 Axes>"
      ]
     },
     "metadata": {
      "needs_background": "light"
     },
     "output_type": "display_data"
    },
    {
     "data": {
      "image/png": "[encoded data removed]",
      "text/plain": [
       "<Figure size 432x288 with 2 Axes>"
      ]
     },
     "metadata": {
      "needs_background": "light"
     },
     "output_type": "display_data"
    },
    {
     "data": {
      "image/png": "[encoded data removed]",
      "text/plain": [
       "<Figure size 432x288 with 2 Axes>"
      ]
     },
     "metadata": {
      "needs_background": "light"
     },
     "output_type": "display_data"
    }
   ],
   "source": [
    "prediction,probabilities=knn(zero_imp_train,zero_imp_test,y_train,y_test)"
   ]
  },
  {
   "cell_type": "code",
   "execution_count": 31,
   "metadata": {
    "ExecuteTime": {
     "end_time": "2022-01-20T21:34:21.450080Z",
     "start_time": "2022-01-20T21:34:21.430081Z"
    }
   },
   "outputs": [
    {
     "data": {
      "text/plain": [
       "(0.7207207207207207, 160)"
      ]
     },
     "execution_count": 31,
     "metadata": {},
     "output_type": "execute_result"
    }
   ],
   "source": [
    "new_acc(probabilities)"
   ]
  },
  {
   "cell_type": "markdown",
   "metadata": {
    "heading_collapsed": true
   },
   "source": [
    "# Decision Tree"
   ]
  },
  {
   "cell_type": "code",
   "execution_count": 24,
   "metadata": {
    "ExecuteTime": {
     "end_time": "2022-01-19T18:49:39.036052Z",
     "start_time": "2022-01-19T18:49:15.999265Z"
    },
    "hidden": true
   },
   "outputs": [],
   "source": [
    "dfeats= feature_select(X_train_scaled,y_train,DecisionTreeClassifier,min_features=10)\n",
    "X_train_best_tree = X_train_scaled[dfeats]\n",
    "X_test_best_tree = X_test_scaled[dfeats]"
   ]
  },
  {
   "cell_type": "markdown",
   "metadata": {
    "hidden": true
   },
   "source": [
    "### Dtree Home Win"
   ]
  },
  {
   "cell_type": "code",
   "execution_count": 25,
   "metadata": {
    "ExecuteTime": {
     "end_time": "2022-01-19T18:49:43.830264Z",
     "start_time": "2022-01-19T18:49:39.039286Z"
    },
    "hidden": true
   },
   "outputs": [
    {
     "name": "stdout",
     "output_type": "stream",
     "text": [
      "Max Depth: 3\n",
      "Min Sample Split: 2\n",
      "criterion: entropy\n",
      "Mean Cross-Val Score: 0.5784319714903907\n",
      "Train Mean Accuracy: 0.608480856319473\n",
      "Test Mean Accuracy: 0.5909090909090909\n",
      "Recall Score: 0.5454545454545454\n",
      "Precision Score: 0.6\n",
      "F1 score: 0.5714285714285713\n"
     ]
    },
    {
     "data": {
      "image/png": "[encoded data removed]",
      "text/plain": [
       "<Figure size 432x288 with 1 Axes>"
      ]
     },
     "metadata": {
      "needs_background": "light"
     },
     "output_type": "display_data"
    },
    {
     "data": {
      "image/png": "[encoded data removed]",
      "text/plain": [
       "<Figure size 432x288 with 2 Axes>"
      ]
     },
     "metadata": {
      "needs_background": "light"
     },
     "output_type": "display_data"
    },
    {
     "data": {
      "image/png": "[encoded data removed]",
      "text/plain": [
       "<Figure size 432x288 with 2 Axes>"
      ]
     },
     "metadata": {
      "needs_background": "light"
     },
     "output_type": "display_data"
    }
   ],
   "source": [
    "predictions,probabilities=dtree(X_train_best_tree,X_test_best_tree,y_train,y_test)"
   ]
  },
  {
   "cell_type": "code",
   "execution_count": 27,
   "metadata": {
    "ExecuteTime": {
     "end_time": "2022-01-19T18:50:05.471224Z",
     "start_time": "2022-01-19T18:50:05.451515Z"
    },
    "hidden": true
   },
   "outputs": [
    {
     "data": {
      "text/plain": [
       "0.5833333333333334"
      ]
     },
     "execution_count": 27,
     "metadata": {},
     "output_type": "execute_result"
    }
   ],
   "source": [
    "new_acc(probabilities)"
   ]
  },
  {
   "cell_type": "markdown",
   "metadata": {},
   "source": [
    "# Random Forest"
   ]
  },
  {
   "cell_type": "markdown",
   "metadata": {},
   "source": [
    "### Model"
   ]
  },
  {
   "cell_type": "code",
   "execution_count": 32,
   "metadata": {
    "ExecuteTime": {
     "end_time": "2022-01-20T21:34:54.563610Z",
     "start_time": "2022-01-20T21:34:54.537493Z"
    }
   },
   "outputs": [],
   "source": [
    "def random_forest(X_train, X_test, y_train, y_test, cv=5):\n",
    "    \n",
    "    # Set GridSearchCV hyperparameters to compare & select\n",
    "    grid = {\n",
    "    'n_estimators': [75,90,100,110,115,125,150,500],\n",
    "    'criterion': ['gini', 'entropy']}\n",
    "    \n",
    "    # Instantiate & fit Random Forest model for GridSearch\n",
    "    grid_rf = RandomForestClassifier()\n",
    "    grid_rf.fit(X_train,y_train)\n",
    "    \n",
    "    # Instantiate & fit GridSearchCV with accuracy scoring\n",
    "    gs = GridSearchCV(estimator=grid_rf, param_grid=grid, cv=cv, scoring='accuracy')\n",
    "    gs.fit(X_train, y_train)\n",
    "    \n",
    "    # Return best hyperparameters\n",
    "    rf_params = gs.best_params_\n",
    "    \n",
    "    # Use best # of trees from best_params\n",
    "    rf_n_estimators = rf_params['n_estimators']\n",
    "    print(f'Number of Trees: {rf_n_estimators}')\n",
    "    \n",
    "    # Use best criterion from best_params\n",
    "    rf_criterion = rf_params['criterion']\n",
    "    print(f'criterion: {rf_criterion}')\n",
    "    \n",
    "    # Instantiate & fit Random Forest model\n",
    "    rforest = RandomForestClassifier(n_estimators=rf_n_estimators, criterion=rf_criterion,\n",
    "                                    random_state=42)\n",
    "    rforest.fit(X_train, y_train)\n",
    "    \n",
    "    # Create prediction variable using test data\n",
    "    y_pred = rforest.predict(X_test)\n",
    "    y_prob = rforest.predict_proba(X_test)\n",
    "    \n",
    "    # Run cross-validate score with cv folds from function parameter\n",
    "    cv_results = cross_val_score(rforest, X_train, y_train, cv=cv)\n",
    "    print(f'Mean Cross-Val Score: {cv_results.mean()}')\n",
    "    \n",
    "    # Run and print accuracy, recall, precision and f1 scores\n",
    "    train_score = rforest.score(X_train, y_train)\n",
    "    print(f'Train Mean Accuracy: {train_score}')\n",
    "    test_score = rforest.score(X_test, y_test)\n",
    "    print(f'Test Mean Accuracy: {test_score}')\n",
    "    \n",
    "    rec_score = recall_score(y_test, y_pred)\n",
    "    print(f'Recall Score: {rec_score}')\n",
    "    \n",
    "    prec_score = precision_score(y_test, y_pred)\n",
    "    print(f'Precision Score: {prec_score}')\n",
    "    \n",
    "    f1 = f1_score(y_test, y_pred)\n",
    "    print(f'F1 score: {f1}')\n",
    "    \n",
    "    # Plot an ROC curve (only works with binary data)\n",
    "    fig, ax = plt.subplots()\n",
    "    plot_roc_curve(rforest, X_train, y_train, name='train', ax=ax)\n",
    "    plot_roc_curve(rforest, X_test, y_test, name='test', ax=ax)\n",
    "    \n",
    "    # Plot Confusion Matrix\n",
    "    plot_confusion_matrix(rforest, X_train, y_train)\n",
    "    plot_confusion_matrix(rforest, X_test, y_test);\n",
    "    \n",
    "    return y_pred,y_prob\n"
   ]
  },
  {
   "cell_type": "markdown",
   "metadata": {},
   "source": [
    "### All Feats"
   ]
  },
  {
   "cell_type": "code",
   "execution_count": 24,
   "metadata": {
    "ExecuteTime": {
     "end_time": "2022-01-19T22:40:15.354861Z",
     "start_time": "2022-01-19T22:32:00.068083Z"
    }
   },
   "outputs": [],
   "source": [
    "rfeats= feature_select(X_train_scaled,y_train,RandomForestClassifier,min_features=10)\n",
    "X_train_best_for = X_train_scaled[rfeats]\n",
    "X_test_best_for = X_test_scaled[rfeats]"
   ]
  },
  {
   "cell_type": "code",
   "execution_count": 25,
   "metadata": {
    "ExecuteTime": {
     "end_time": "2022-01-19T22:42:59.937494Z",
     "start_time": "2022-01-19T22:41:41.027357Z"
    }
   },
   "outputs": [
    {
     "name": "stdout",
     "output_type": "stream",
     "text": [
      "Number of Trees: 150\n",
      "criterion: entropy\n",
      "Mean Cross-Val Score: 0.522766822218877\n",
      "Train Mean Accuracy: 0.7127951674903898\n",
      "Test Mean Accuracy: 0.6945054945054945\n",
      "Recall Score: 0.7280334728033473\n",
      "Precision Score: 0.7016129032258065\n",
      "F1 score: 0.7145790554414785\n"
     ]
    },
    {
     "data": {
      "image/png": "[encoded data removed]",
      "text/plain": [
       "<Figure size 432x288 with 1 Axes>"
      ]
     },
     "metadata": {
      "needs_background": "light"
     },
     "output_type": "display_data"
    },
    {
     "data": {
      "image/png": "[encoded data removed]",
      "text/plain": [
       "<Figure size 432x288 with 2 Axes>"
      ]
     },
     "metadata": {
      "needs_background": "light"
     },
     "output_type": "display_data"
    },
    {
     "data": {
      "image/png": "[encoded data removed]",
      "text/plain": [
       "<Figure size 432x288 with 2 Axes>"
      ]
     },
     "metadata": {
      "needs_background": "light"
     },
     "output_type": "display_data"
    }
   ],
   "source": [
    "predictions,probabilities=random_forest(X_train_best_for,X_test_best_for,y_train,y_test)"
   ]
  },
  {
   "cell_type": "code",
   "execution_count": 26,
   "metadata": {
    "ExecuteTime": {
     "end_time": "2022-01-19T22:43:09.137045Z",
     "start_time": "2022-01-19T22:43:09.048479Z"
    }
   },
   "outputs": [
    {
     "data": {
      "text/plain": [
       "(0.7613293051359517, 252)"
      ]
     },
     "execution_count": 26,
     "metadata": {},
     "output_type": "execute_result"
    }
   ],
   "source": [
    "new_acc(probabilities)"
   ]
  },
  {
   "cell_type": "markdown",
   "metadata": {},
   "source": [
    "### zero imp"
   ]
  },
  {
   "cell_type": "code",
   "execution_count": 33,
   "metadata": {
    "ExecuteTime": {
     "end_time": "2022-01-20T21:43:01.421406Z",
     "start_time": "2022-01-20T21:35:51.147574Z"
    }
   },
   "outputs": [],
   "source": [
    "rfeats= feature_select(zero_imp_train,y_train,RandomForestClassifier,min_features=10)\n",
    "X_train_best_for = zero_imp_train[rfeats]\n",
    "X_test_best_for = zero_imp_test[rfeats]"
   ]
  },
  {
   "cell_type": "code",
   "execution_count": 34,
   "metadata": {
    "ExecuteTime": {
     "end_time": "2022-01-20T21:44:51.333817Z",
     "start_time": "2022-01-20T21:43:01.430804Z"
    }
   },
   "outputs": [
    {
     "name": "stdout",
     "output_type": "stream",
     "text": [
      "Number of Trees: 150\n",
      "criterion: entropy\n",
      "Mean Cross-Val Score: 0.5321135029354207\n",
      "Train Mean Accuracy: 0.7127951674903898\n",
      "Test Mean Accuracy: 0.6923076923076923\n",
      "Recall Score: 0.7280334728033473\n",
      "Precision Score: 0.6987951807228916\n",
      "F1 score: 0.7131147540983607\n"
     ]
    },
    {
     "data": {
      "image/png": "[encoded data removed]",
      "text/plain": [
       "<Figure size 432x288 with 1 Axes>"
      ]
     },
     "metadata": {
      "needs_background": "light"
     },
     "output_type": "display_data"
    },
    {
     "data": {
      "image/png": "[encoded data removed]",
      "text/plain": [
       "<Figure size 432x288 with 2 Axes>"
      ]
     },
     "metadata": {
      "needs_background": "light"
     },
     "output_type": "display_data"
    },
    {
     "data": {
      "image/png": "[encoded data removed]",
      "text/plain": [
       "<Figure size 432x288 with 2 Axes>"
      ]
     },
     "metadata": {
      "needs_background": "light"
     },
     "output_type": "display_data"
    }
   ],
   "source": [
    "predictions,probabilities=random_forest(X_train_best_for,X_test_best_for,y_train,y_test)"
   ]
  },
  {
   "cell_type": "code",
   "execution_count": 35,
   "metadata": {
    "ExecuteTime": {
     "end_time": "2022-01-20T21:44:51.393702Z",
     "start_time": "2022-01-20T21:44:51.339515Z"
    }
   },
   "outputs": [
    {
     "data": {
      "text/plain": [
       "(0.7621951219512195, 250)"
      ]
     },
     "execution_count": 35,
     "metadata": {},
     "output_type": "execute_result"
    }
   ],
   "source": [
    "new_acc(probabilities)"
   ]
  },
  {
   "cell_type": "markdown",
   "metadata": {
    "heading_collapsed": true
   },
   "source": [
    "# Bagging Classifier"
   ]
  },
  {
   "cell_type": "code",
   "execution_count": 53,
   "metadata": {
    "ExecuteTime": {
     "end_time": "2022-01-18T22:02:55.328165Z",
     "start_time": "2022-01-18T21:46:08.981088Z"
    },
    "hidden": true
   },
   "outputs": [
    {
     "name": "stdout",
     "output_type": "stream",
     "text": [
      "Dec Tree Max Depth: 2\n",
      "Dec Tree Criterion: gini\n",
      "Bagging Max Samples: 3\n",
      "Bag Max Features: 2\n",
      "# of Base Estimators: 500\n",
      "Mean Cross-Val Score: 0.5891468329727207\n",
      "Train Mean Accuracy Score: 0.5673116508851379\n",
      "Test Mean Accuracy Score: 0.5\n",
      "Recall Score: 1.0\n",
      "Precision Score: 0.5\n",
      "F1 score: 0.6666666666666666\n"
     ]
    },
    {
     "data": {
      "image/png": "[encoded data removed]",
      "text/plain": [
       "<Figure size 432x288 with 1 Axes>"
      ]
     },
     "metadata": {
      "needs_background": "light"
     },
     "output_type": "display_data"
    },
    {
     "data": {
      "image/png": "[encoded data removed]",
      "text/plain": [
       "<Figure size 432x288 with 2 Axes>"
      ]
     },
     "metadata": {
      "needs_background": "light"
     },
     "output_type": "display_data"
    },
    {
     "data": {
      "image/png": "[encoded data removed]",
      "text/plain": [
       "<Figure size 432x288 with 2 Axes>"
      ]
     },
     "metadata": {
      "needs_background": "light"
     },
     "output_type": "display_data"
    }
   ],
   "source": [
    "bagged(X_train_scaled,X_test_scaled,y_train,y_test)"
   ]
  },
  {
   "cell_type": "markdown",
   "metadata": {
    "heading_collapsed": true
   },
   "source": [
    "# XGBoost"
   ]
  },
  {
   "cell_type": "code",
   "execution_count": 56,
   "metadata": {
    "ExecuteTime": {
     "end_time": "2022-01-18T22:25:14.526375Z",
     "start_time": "2022-01-18T22:18:44.271810Z"
    },
    "hidden": true
   },
   "outputs": [],
   "source": [
    "xfeats= feature_select(zero_imp_train,y_train,XGBClassifier,min_features=10)\n",
    "X_train_best_x = zero_imp_train[xfeats]\n",
    "X_test_best_x = zero_imp_test[xfeats]"
   ]
  },
  {
   "cell_type": "code",
   "execution_count": 57,
   "metadata": {
    "ExecuteTime": {
     "end_time": "2022-01-19T14:33:49.396464Z",
     "start_time": "2022-01-18T22:25:14.530886Z"
    },
    "hidden": true
   },
   "outputs": [
    {
     "name": "stdout",
     "output_type": "stream",
     "text": [
      "XGBoost Learning Rate: 0.05\n",
      "XGBoost Max Depth: 3\n",
      "XGBoost Min Child Weight: 1\n",
      "XGBoost Subsample: 0.7\n",
      "XGBoost Estimators: 100\n",
      "Stopped in Round: 15\n",
      "Mean Cross-Val Score: 0.5409766238174027\n",
      "Train Mean Accuracy Score: 0.6990531082750103\n",
      "Test Mean Accuracy Score: 0.6363636363636364\n",
      "Recall Score: 0.6363636363636364\n",
      "Precision Score: 0.6363636363636364\n",
      "F1 score: 0.6363636363636364\n"
     ]
    },
    {
     "data": {
      "image/png": "[encoded data removed]",
      "text/plain": [
       "<Figure size 432x288 with 1 Axes>"
      ]
     },
     "metadata": {
      "needs_background": "light"
     },
     "output_type": "display_data"
    },
    {
     "data": {
      "image/png": "[encoded data removed]",
      "text/plain": [
       "<Figure size 432x288 with 2 Axes>"
      ]
     },
     "metadata": {
      "needs_background": "light"
     },
     "output_type": "display_data"
    },
    {
     "data": {
      "image/png": "[encoded data removed]",
      "text/plain": [
       "<Figure size 432x288 with 2 Axes>"
      ]
     },
     "metadata": {
      "needs_background": "light"
     },
     "output_type": "display_data"
    }
   ],
   "source": [
    "xgboost(X_train_best_x, X_test_best_x, y_train, y_test, cv=5)"
   ]
  }
 ],
 "metadata": {
  "kernelspec": {
   "display_name": "Python (learn-env)",
   "language": "python",
   "name": "learn-env"
  },
  "language_info": {
   "codemirror_mode": {
    "name": "ipython",
    "version": 3
   },
   "file_extension": ".py",
   "mimetype": "text/x-python",
   "name": "python",
   "nbconvert_exporter": "python",
   "pygments_lexer": "ipython3",
   "version": "3.8.5"
  },
  "notify_time": "30"
 },
 "nbformat": 4,
 "nbformat_minor": 4
}

{
 "cells": [
  {
   "cell_type": "markdown",
   "metadata": {
    "heading_collapsed": true
   },
   "source": [
    "# Imports"
   ]
  },
  {
   "cell_type": "code",
   "execution_count": 2,
   "metadata": {
    "ExecuteTime": {
     "end_time": "2022-01-21T16:42:32.399811Z",
     "start_time": "2022-01-21T16:42:30.993714Z"
    },
    "hidden": true
   },
   "outputs": [],
   "source": [
    "# Import the relevant packages\n",
    "import pandas as pd\n",
    "import numpy as np\n",
    "from sklearn.model_selection import cross_val_score, train_test_split,GridSearchCV\n",
    "from sklearn.metrics import plot_confusion_matrix, plot_roc_curve, accuracy_score, \\\n",
    "recall_score, precision_score, f1_score\n",
    "from sklearn.preprocessing import StandardScaler\n",
    "from sklearn.ensemble import RandomForestClassifier\n",
    "import statsmodels.api as sm\n",
    "from sklearn.feature_selection import RFECV\n",
    "from sklearn.decomposition import PCA\n",
    "import warnings\n",
    "warnings.filterwarnings(\"ignore\")"
   ]
  },
  {
   "cell_type": "code",
   "execution_count": 3,
   "metadata": {
    "ExecuteTime": {
     "end_time": "2022-01-21T16:42:34.220082Z",
     "start_time": "2022-01-21T16:42:34.003942Z"
    },
    "hidden": true
   },
   "outputs": [],
   "source": [
    "#Import functions notebook and load data set here\n",
    "import sys\n",
    "sys.path.append(\"../\")\n",
    "from Modeling_functions import *"
   ]
  },
  {
   "cell_type": "code",
   "execution_count": 26,
   "metadata": {
    "ExecuteTime": {
     "end_time": "2022-01-21T16:44:51.850785Z",
     "start_time": "2022-01-21T16:44:51.832906Z"
    },
    "hidden": true
   },
   "outputs": [],
   "source": [
    "def new_acc(probabilities):\n",
    "    class_list2=[]\n",
    "    for log in probabilities:\n",
    "        if log[0]<.40:\n",
    "            class_list2.append(1)\n",
    "        elif log[0]>.60:\n",
    "            class_list2.append(0)\n",
    "        else:\n",
    "            class_list2.append(3)\n",
    "    y_pred_class=pd.DataFrame(class_list2)\n",
    "    y_pred_class.reset_index(inplace=True)\n",
    "    y_test_df=pd.DataFrame(y_test)\n",
    "    y_test_df.reset_index(inplace=True)\n",
    "    comb=pd.concat([y_test_df,y_pred_class],axis=1)\n",
    "    comb.drop(['index','index'],axis=1,inplace=True)\n",
    "    comb['pred']=comb[0]\n",
    "    comb.drop([0],axis=1,inplace=True)\n",
    "    comb.drop(comb[comb['pred'] == 3].index, inplace = True)\n",
    "    count=0\n",
    "    for bools in comb['home_win']==comb['pred']:\n",
    "        if bools is True:\n",
    "            count+=1\n",
    "        else:\n",
    "            pass\n",
    "    accuracy=count/len(comb)\n",
    "    \n",
    "    return accuracy,count"
   ]
  },
  {
   "cell_type": "markdown",
   "metadata": {},
   "source": [
    "# 2016"
   ]
  },
  {
   "cell_type": "markdown",
   "metadata": {
    "heading_collapsed": true
   },
   "source": [
    "### Grab and format data"
   ]
  },
  {
   "cell_type": "code",
   "execution_count": 6,
   "metadata": {
    "ExecuteTime": {
     "end_time": "2022-01-21T16:42:51.804675Z",
     "start_time": "2022-01-21T16:42:51.650364Z"
    },
    "hidden": true
   },
   "outputs": [],
   "source": [
    "df=pd.read_csv('../data/Season_2016.csv')"
   ]
  },
  {
   "cell_type": "code",
   "execution_count": 7,
   "metadata": {
    "ExecuteTime": {
     "end_time": "2022-01-21T16:42:52.019407Z",
     "start_time": "2022-01-21T16:42:52.010247Z"
    },
    "hidden": true
   },
   "outputs": [],
   "source": [
    "df.drop(['Unnamed: 0'],axis=1,inplace=True)"
   ]
  },
  {
   "cell_type": "code",
   "execution_count": 8,
   "metadata": {
    "ExecuteTime": {
     "end_time": "2022-01-21T16:42:52.313735Z",
     "start_time": "2022-01-21T16:42:52.305860Z"
    },
    "hidden": true
   },
   "outputs": [],
   "source": [
    "n = 75\n",
    "df=df.head(int(len(df)*(n/100)))"
   ]
  },
  {
   "cell_type": "code",
   "execution_count": 9,
   "metadata": {
    "ExecuteTime": {
     "end_time": "2022-01-21T16:42:52.643894Z",
     "start_time": "2022-01-21T16:42:52.638709Z"
    },
    "hidden": true
   },
   "outputs": [],
   "source": [
    "n = 25\n",
    "df2=df.tail(int(len(df)*(n/100)))"
   ]
  },
  {
   "cell_type": "markdown",
   "metadata": {
    "hidden": true
   },
   "source": [
    "Find and eliminate NaNs"
   ]
  },
  {
   "cell_type": "code",
   "execution_count": 10,
   "metadata": {
    "ExecuteTime": {
     "end_time": "2022-01-21T16:42:53.320545Z",
     "start_time": "2022-01-21T16:42:53.312825Z"
    },
    "hidden": true
   },
   "outputs": [],
   "source": [
    "df=df.drop(['H_win_probability_subtracted','A_win_probability_subtracted','A_Opp_win_probability_subtracted',\n",
    "          'H_Opp_win_probability_subtracted'],axis=1)"
   ]
  },
  {
   "cell_type": "code",
   "execution_count": 11,
   "metadata": {
    "ExecuteTime": {
     "end_time": "2022-01-21T16:42:53.814793Z",
     "start_time": "2022-01-21T16:42:53.790405Z"
    },
    "hidden": true,
    "scrolled": true
   },
   "outputs": [],
   "source": [
    "df2=df2.drop(['H_win_probability_subtracted','A_win_probability_subtracted','A_Opp_win_probability_subtracted',\n",
    "         'H_Opp_win_probability_subtracted'],axis=1)"
   ]
  },
  {
   "cell_type": "code",
   "execution_count": 12,
   "metadata": {
    "ExecuteTime": {
     "end_time": "2022-01-21T16:42:54.614512Z",
     "start_time": "2022-01-21T16:42:54.583006Z"
    },
    "hidden": true
   },
   "outputs": [
    {
     "data": {
      "text/plain": [
       "1    0.533773\n",
       "0    0.466227\n",
       "Name: home_win, dtype: float64"
      ]
     },
     "execution_count": 12,
     "metadata": {},
     "output_type": "execute_result"
    }
   ],
   "source": [
    "df.home_win.value_counts(normalize=True)"
   ]
  },
  {
   "cell_type": "code",
   "execution_count": 13,
   "metadata": {
    "ExecuteTime": {
     "end_time": "2022-01-21T16:42:56.682118Z",
     "start_time": "2022-01-21T16:42:56.647063Z"
    },
    "hidden": true
   },
   "outputs": [
    {
     "data": {
      "text/plain": [
       "1    0.562637\n",
       "0    0.437363\n",
       "Name: home_win, dtype: float64"
      ]
     },
     "execution_count": 13,
     "metadata": {},
     "output_type": "execute_result"
    }
   ],
   "source": [
    "df2.home_win.value_counts(normalize=True)"
   ]
  },
  {
   "cell_type": "code",
   "execution_count": 14,
   "metadata": {
    "ExecuteTime": {
     "end_time": "2022-01-21T16:42:57.303367Z",
     "start_time": "2022-01-21T16:42:57.251437Z"
    },
    "hidden": true
   },
   "outputs": [
    {
     "data": {
      "text/html": [
       "<div>\n",
       "<style scoped>\n",
       "    .dataframe tbody tr th:only-of-type {\n",
       "        vertical-align: middle;\n",
       "    }\n",
       "\n",
       "    .dataframe tbody tr th {\n",
       "        vertical-align: top;\n",
       "    }\n",
       "\n",
       "    .dataframe thead th {\n",
       "        text-align: right;\n",
       "    }\n",
       "</style>\n",
       "<table border=\"1\" class=\"dataframe\">\n",
       "  <thead>\n",
       "    <tr style=\"text-align: right;\">\n",
       "      <th></th>\n",
       "      <th>H_name</th>\n",
       "      <th>H_at_bats</th>\n",
       "      <th>H_runs</th>\n",
       "      <th>H_hits</th>\n",
       "      <th>H_rbi</th>\n",
       "      <th>H_earned_runs</th>\n",
       "      <th>H_bases_on_balls</th>\n",
       "      <th>H_strikeouts</th>\n",
       "      <th>H_plate_appearances</th>\n",
       "      <th>H_batting_average</th>\n",
       "      <th>...</th>\n",
       "      <th>A_Opp_grounded_balls</th>\n",
       "      <th>A_Opp_fly_balls</th>\n",
       "      <th>A_Opp_line_drives</th>\n",
       "      <th>A_Opp_unknown_bat_type</th>\n",
       "      <th>A_Opp_game_score</th>\n",
       "      <th>A_Opp_inherited_runners</th>\n",
       "      <th>A_Opp_inherited_score</th>\n",
       "      <th>A_Opp_win_probability_by_pitcher</th>\n",
       "      <th>A_Opp_base_out_runs_saved</th>\n",
       "      <th>home_win</th>\n",
       "    </tr>\n",
       "  </thead>\n",
       "  <tbody>\n",
       "    <tr>\n",
       "      <th>1366</th>\n",
       "      <td>SEA</td>\n",
       "      <td>34.462963</td>\n",
       "      <td>4.740741</td>\n",
       "      <td>8.925926</td>\n",
       "      <td>4.537037</td>\n",
       "      <td>4.618457</td>\n",
       "      <td>3.123457</td>\n",
       "      <td>7.950617</td>\n",
       "      <td>38.438272</td>\n",
       "      <td>0.252698</td>\n",
       "      <td>...</td>\n",
       "      <td>12.314815</td>\n",
       "      <td>14.179012</td>\n",
       "      <td>6.648148</td>\n",
       "      <td>0.006173</td>\n",
       "      <td>51.401235</td>\n",
       "      <td>1.308176</td>\n",
       "      <td>0.364780</td>\n",
       "      <td>0.017660</td>\n",
       "      <td>-0.043210</td>\n",
       "      <td>0</td>\n",
       "    </tr>\n",
       "    <tr>\n",
       "      <th>1367</th>\n",
       "      <td>OAK</td>\n",
       "      <td>33.950617</td>\n",
       "      <td>4.030864</td>\n",
       "      <td>8.345679</td>\n",
       "      <td>3.913580</td>\n",
       "      <td>3.778580</td>\n",
       "      <td>2.728395</td>\n",
       "      <td>7.067901</td>\n",
       "      <td>37.172840</td>\n",
       "      <td>0.239728</td>\n",
       "      <td>...</td>\n",
       "      <td>12.598765</td>\n",
       "      <td>13.808642</td>\n",
       "      <td>6.240741</td>\n",
       "      <td>0.006173</td>\n",
       "      <td>50.950617</td>\n",
       "      <td>1.543210</td>\n",
       "      <td>0.493827</td>\n",
       "      <td>0.008802</td>\n",
       "      <td>-0.098765</td>\n",
       "      <td>0</td>\n",
       "    </tr>\n",
       "    <tr>\n",
       "      <th>1368</th>\n",
       "      <td>CIN</td>\n",
       "      <td>33.870370</td>\n",
       "      <td>4.419753</td>\n",
       "      <td>8.660494</td>\n",
       "      <td>4.185185</td>\n",
       "      <td>4.202778</td>\n",
       "      <td>2.790123</td>\n",
       "      <td>7.925926</td>\n",
       "      <td>37.617284</td>\n",
       "      <td>0.250488</td>\n",
       "      <td>...</td>\n",
       "      <td>13.129630</td>\n",
       "      <td>14.141975</td>\n",
       "      <td>7.154321</td>\n",
       "      <td>0.006173</td>\n",
       "      <td>52.814815</td>\n",
       "      <td>1.456250</td>\n",
       "      <td>0.506250</td>\n",
       "      <td>0.056568</td>\n",
       "      <td>0.306173</td>\n",
       "      <td>1</td>\n",
       "    </tr>\n",
       "    <tr>\n",
       "      <th>1369</th>\n",
       "      <td>SDP</td>\n",
       "      <td>33.450617</td>\n",
       "      <td>4.234568</td>\n",
       "      <td>7.870370</td>\n",
       "      <td>4.037037</td>\n",
       "      <td>4.000432</td>\n",
       "      <td>2.771605</td>\n",
       "      <td>9.259259</td>\n",
       "      <td>37.043210</td>\n",
       "      <td>0.229815</td>\n",
       "      <td>...</td>\n",
       "      <td>12.358025</td>\n",
       "      <td>13.975309</td>\n",
       "      <td>6.709877</td>\n",
       "      <td>0.006173</td>\n",
       "      <td>50.462963</td>\n",
       "      <td>1.628931</td>\n",
       "      <td>0.572327</td>\n",
       "      <td>0.020198</td>\n",
       "      <td>-0.025309</td>\n",
       "      <td>1</td>\n",
       "    </tr>\n",
       "    <tr>\n",
       "      <th>1370</th>\n",
       "      <td>NYY</td>\n",
       "      <td>33.691358</td>\n",
       "      <td>4.197531</td>\n",
       "      <td>8.506173</td>\n",
       "      <td>3.993827</td>\n",
       "      <td>4.063457</td>\n",
       "      <td>2.932099</td>\n",
       "      <td>7.333333</td>\n",
       "      <td>37.401235</td>\n",
       "      <td>0.246086</td>\n",
       "      <td>...</td>\n",
       "      <td>11.037037</td>\n",
       "      <td>14.623457</td>\n",
       "      <td>5.901235</td>\n",
       "      <td>0.000000</td>\n",
       "      <td>44.777778</td>\n",
       "      <td>1.796296</td>\n",
       "      <td>0.537037</td>\n",
       "      <td>-0.052963</td>\n",
       "      <td>-0.850617</td>\n",
       "      <td>1</td>\n",
       "    </tr>\n",
       "    <tr>\n",
       "      <th>...</th>\n",
       "      <td>...</td>\n",
       "      <td>...</td>\n",
       "      <td>...</td>\n",
       "      <td>...</td>\n",
       "      <td>...</td>\n",
       "      <td>...</td>\n",
       "      <td>...</td>\n",
       "      <td>...</td>\n",
       "      <td>...</td>\n",
       "      <td>...</td>\n",
       "      <td>...</td>\n",
       "      <td>...</td>\n",
       "      <td>...</td>\n",
       "      <td>...</td>\n",
       "      <td>...</td>\n",
       "      <td>...</td>\n",
       "      <td>...</td>\n",
       "      <td>...</td>\n",
       "      <td>...</td>\n",
       "      <td>...</td>\n",
       "      <td>...</td>\n",
       "    </tr>\n",
       "    <tr>\n",
       "      <th>1816</th>\n",
       "      <td>CLE</td>\n",
       "      <td>34.062112</td>\n",
       "      <td>4.826087</td>\n",
       "      <td>8.913043</td>\n",
       "      <td>4.552795</td>\n",
       "      <td>4.610807</td>\n",
       "      <td>3.298137</td>\n",
       "      <td>7.739130</td>\n",
       "      <td>38.229814</td>\n",
       "      <td>0.258199</td>\n",
       "      <td>...</td>\n",
       "      <td>12.598765</td>\n",
       "      <td>13.808642</td>\n",
       "      <td>6.240741</td>\n",
       "      <td>0.006173</td>\n",
       "      <td>50.950617</td>\n",
       "      <td>1.543210</td>\n",
       "      <td>0.493827</td>\n",
       "      <td>0.008802</td>\n",
       "      <td>-0.098765</td>\n",
       "      <td>1</td>\n",
       "    </tr>\n",
       "    <tr>\n",
       "      <th>1817</th>\n",
       "      <td>DET</td>\n",
       "      <td>34.322981</td>\n",
       "      <td>4.658385</td>\n",
       "      <td>9.167702</td>\n",
       "      <td>4.465839</td>\n",
       "      <td>4.594472</td>\n",
       "      <td>3.062112</td>\n",
       "      <td>8.093168</td>\n",
       "      <td>38.055901</td>\n",
       "      <td>0.262335</td>\n",
       "      <td>...</td>\n",
       "      <td>11.037037</td>\n",
       "      <td>14.623457</td>\n",
       "      <td>5.901235</td>\n",
       "      <td>0.000000</td>\n",
       "      <td>44.777778</td>\n",
       "      <td>1.796296</td>\n",
       "      <td>0.537037</td>\n",
       "      <td>-0.052963</td>\n",
       "      <td>-0.850617</td>\n",
       "      <td>0</td>\n",
       "    </tr>\n",
       "    <tr>\n",
       "      <th>1818</th>\n",
       "      <td>TBR</td>\n",
       "      <td>33.833333</td>\n",
       "      <td>4.148148</td>\n",
       "      <td>8.228395</td>\n",
       "      <td>3.993827</td>\n",
       "      <td>4.000864</td>\n",
       "      <td>2.771605</td>\n",
       "      <td>9.148148</td>\n",
       "      <td>37.320988</td>\n",
       "      <td>0.237667</td>\n",
       "      <td>...</td>\n",
       "      <td>12.759259</td>\n",
       "      <td>14.685185</td>\n",
       "      <td>6.975309</td>\n",
       "      <td>0.012346</td>\n",
       "      <td>48.746914</td>\n",
       "      <td>1.320755</td>\n",
       "      <td>0.452830</td>\n",
       "      <td>-0.057741</td>\n",
       "      <td>-0.144444</td>\n",
       "      <td>0</td>\n",
       "    </tr>\n",
       "    <tr>\n",
       "      <th>1819</th>\n",
       "      <td>ATL</td>\n",
       "      <td>34.248447</td>\n",
       "      <td>4.031056</td>\n",
       "      <td>8.720497</td>\n",
       "      <td>3.819876</td>\n",
       "      <td>3.707019</td>\n",
       "      <td>3.118012</td>\n",
       "      <td>7.701863</td>\n",
       "      <td>38.459627</td>\n",
       "      <td>0.250807</td>\n",
       "      <td>...</td>\n",
       "      <td>11.327160</td>\n",
       "      <td>13.641975</td>\n",
       "      <td>6.604938</td>\n",
       "      <td>0.000000</td>\n",
       "      <td>48.685185</td>\n",
       "      <td>1.425000</td>\n",
       "      <td>0.462500</td>\n",
       "      <td>-0.027525</td>\n",
       "      <td>-0.255556</td>\n",
       "      <td>0</td>\n",
       "    </tr>\n",
       "    <tr>\n",
       "      <th>1820</th>\n",
       "      <td>CHW</td>\n",
       "      <td>34.259259</td>\n",
       "      <td>4.234568</td>\n",
       "      <td>8.814815</td>\n",
       "      <td>4.049383</td>\n",
       "      <td>4.062099</td>\n",
       "      <td>2.808642</td>\n",
       "      <td>7.932099</td>\n",
       "      <td>37.845679</td>\n",
       "      <td>0.252031</td>\n",
       "      <td>...</td>\n",
       "      <td>13.012346</td>\n",
       "      <td>14.413580</td>\n",
       "      <td>7.037037</td>\n",
       "      <td>0.006173</td>\n",
       "      <td>52.487654</td>\n",
       "      <td>1.253165</td>\n",
       "      <td>0.443038</td>\n",
       "      <td>0.035278</td>\n",
       "      <td>0.387037</td>\n",
       "      <td>0</td>\n",
       "    </tr>\n",
       "  </tbody>\n",
       "</table>\n",
       "<p>455 rows × 139 columns</p>\n",
       "</div>"
      ],
      "text/plain": [
       "     H_name  H_at_bats    H_runs    H_hits     H_rbi  H_earned_runs  \\\n",
       "1366    SEA  34.462963  4.740741  8.925926  4.537037       4.618457   \n",
       "1367    OAK  33.950617  4.030864  8.345679  3.913580       3.778580   \n",
       "1368    CIN  33.870370  4.419753  8.660494  4.185185       4.202778   \n",
       "1369    SDP  33.450617  4.234568  7.870370  4.037037       4.000432   \n",
       "1370    NYY  33.691358  4.197531  8.506173  3.993827       4.063457   \n",
       "...     ...        ...       ...       ...       ...            ...   \n",
       "1816    CLE  34.062112  4.826087  8.913043  4.552795       4.610807   \n",
       "1817    DET  34.322981  4.658385  9.167702  4.465839       4.594472   \n",
       "1818    TBR  33.833333  4.148148  8.228395  3.993827       4.000864   \n",
       "1819    ATL  34.248447  4.031056  8.720497  3.819876       3.707019   \n",
       "1820    CHW  34.259259  4.234568  8.814815  4.049383       4.062099   \n",
       "\n",
       "      H_bases_on_balls  H_strikeouts  H_plate_appearances  H_batting_average  \\\n",
       "1366          3.123457      7.950617            38.438272           0.252698   \n",
       "1367          2.728395      7.067901            37.172840           0.239728   \n",
       "1368          2.790123      7.925926            37.617284           0.250488   \n",
       "1369          2.771605      9.259259            37.043210           0.229815   \n",
       "1370          2.932099      7.333333            37.401235           0.246086   \n",
       "...                ...           ...                  ...                ...   \n",
       "1816          3.298137      7.739130            38.229814           0.258199   \n",
       "1817          3.062112      8.093168            38.055901           0.262335   \n",
       "1818          2.771605      9.148148            37.320988           0.237667   \n",
       "1819          3.118012      7.701863            38.459627           0.250807   \n",
       "1820          2.808642      7.932099            37.845679           0.252031   \n",
       "\n",
       "      ...  A_Opp_grounded_balls  A_Opp_fly_balls  A_Opp_line_drives  \\\n",
       "1366  ...             12.314815        14.179012           6.648148   \n",
       "1367  ...             12.598765        13.808642           6.240741   \n",
       "1368  ...             13.129630        14.141975           7.154321   \n",
       "1369  ...             12.358025        13.975309           6.709877   \n",
       "1370  ...             11.037037        14.623457           5.901235   \n",
       "...   ...                   ...              ...                ...   \n",
       "1816  ...             12.598765        13.808642           6.240741   \n",
       "1817  ...             11.037037        14.623457           5.901235   \n",
       "1818  ...             12.759259        14.685185           6.975309   \n",
       "1819  ...             11.327160        13.641975           6.604938   \n",
       "1820  ...             13.012346        14.413580           7.037037   \n",
       "\n",
       "      A_Opp_unknown_bat_type  A_Opp_game_score  A_Opp_inherited_runners  \\\n",
       "1366                0.006173         51.401235                 1.308176   \n",
       "1367                0.006173         50.950617                 1.543210   \n",
       "1368                0.006173         52.814815                 1.456250   \n",
       "1369                0.006173         50.462963                 1.628931   \n",
       "1370                0.000000         44.777778                 1.796296   \n",
       "...                      ...               ...                      ...   \n",
       "1816                0.006173         50.950617                 1.543210   \n",
       "1817                0.000000         44.777778                 1.796296   \n",
       "1818                0.012346         48.746914                 1.320755   \n",
       "1819                0.000000         48.685185                 1.425000   \n",
       "1820                0.006173         52.487654                 1.253165   \n",
       "\n",
       "      A_Opp_inherited_score  A_Opp_win_probability_by_pitcher  \\\n",
       "1366               0.364780                          0.017660   \n",
       "1367               0.493827                          0.008802   \n",
       "1368               0.506250                          0.056568   \n",
       "1369               0.572327                          0.020198   \n",
       "1370               0.537037                         -0.052963   \n",
       "...                     ...                               ...   \n",
       "1816               0.493827                          0.008802   \n",
       "1817               0.537037                         -0.052963   \n",
       "1818               0.452830                         -0.057741   \n",
       "1819               0.462500                         -0.027525   \n",
       "1820               0.443038                          0.035278   \n",
       "\n",
       "      A_Opp_base_out_runs_saved  home_win  \n",
       "1366                  -0.043210         0  \n",
       "1367                  -0.098765         0  \n",
       "1368                   0.306173         1  \n",
       "1369                  -0.025309         1  \n",
       "1370                  -0.850617         1  \n",
       "...                         ...       ...  \n",
       "1816                  -0.098765         1  \n",
       "1817                  -0.850617         0  \n",
       "1818                  -0.144444         0  \n",
       "1819                  -0.255556         0  \n",
       "1820                   0.387037         0  \n",
       "\n",
       "[455 rows x 139 columns]"
      ]
     },
     "execution_count": 14,
     "metadata": {},
     "output_type": "execute_result"
    }
   ],
   "source": [
    "#df2.drop_duplicates(inplace=True)\n",
    "df2"
   ]
  },
  {
   "cell_type": "code",
   "execution_count": 15,
   "metadata": {
    "ExecuteTime": {
     "end_time": "2022-01-21T16:43:00.615340Z",
     "start_time": "2022-01-21T16:43:00.522455Z"
    },
    "hidden": true
   },
   "outputs": [
    {
     "data": {
      "text/html": [
       "<div>\n",
       "<style scoped>\n",
       "    .dataframe tbody tr th:only-of-type {\n",
       "        vertical-align: middle;\n",
       "    }\n",
       "\n",
       "    .dataframe tbody tr th {\n",
       "        vertical-align: top;\n",
       "    }\n",
       "\n",
       "    .dataframe thead th {\n",
       "        text-align: right;\n",
       "    }\n",
       "</style>\n",
       "<table border=\"1\" class=\"dataframe\">\n",
       "  <thead>\n",
       "    <tr style=\"text-align: right;\">\n",
       "      <th></th>\n",
       "      <th>H_name</th>\n",
       "      <th>H_at_bats</th>\n",
       "      <th>H_runs</th>\n",
       "      <th>H_hits</th>\n",
       "      <th>H_rbi</th>\n",
       "      <th>H_earned_runs</th>\n",
       "      <th>H_bases_on_balls</th>\n",
       "      <th>H_strikeouts</th>\n",
       "      <th>H_plate_appearances</th>\n",
       "      <th>H_batting_average</th>\n",
       "      <th>...</th>\n",
       "      <th>A_Opp_grounded_balls</th>\n",
       "      <th>A_Opp_fly_balls</th>\n",
       "      <th>A_Opp_line_drives</th>\n",
       "      <th>A_Opp_unknown_bat_type</th>\n",
       "      <th>A_Opp_game_score</th>\n",
       "      <th>A_Opp_inherited_runners</th>\n",
       "      <th>A_Opp_inherited_score</th>\n",
       "      <th>A_Opp_win_probability_by_pitcher</th>\n",
       "      <th>A_Opp_base_out_runs_saved</th>\n",
       "      <th>home_win</th>\n",
       "    </tr>\n",
       "  </thead>\n",
       "  <tbody>\n",
       "    <tr>\n",
       "      <th>0</th>\n",
       "      <td>PIT</td>\n",
       "      <td>34.209877</td>\n",
       "      <td>4.500000</td>\n",
       "      <td>8.802469</td>\n",
       "      <td>4.296296</td>\n",
       "      <td>4.191914</td>\n",
       "      <td>3.462963</td>\n",
       "      <td>8.234568</td>\n",
       "      <td>38.648148</td>\n",
       "      <td>0.252074</td>\n",
       "      <td>...</td>\n",
       "      <td>13.777778</td>\n",
       "      <td>13.111111</td>\n",
       "      <td>6.827160</td>\n",
       "      <td>0.006173</td>\n",
       "      <td>51.438272</td>\n",
       "      <td>1.440994</td>\n",
       "      <td>0.515528</td>\n",
       "      <td>-0.040438</td>\n",
       "      <td>-0.433333</td>\n",
       "      <td>1</td>\n",
       "    </tr>\n",
       "    <tr>\n",
       "      <th>1</th>\n",
       "      <td>KCR</td>\n",
       "      <td>34.271605</td>\n",
       "      <td>4.166667</td>\n",
       "      <td>8.950617</td>\n",
       "      <td>3.950617</td>\n",
       "      <td>3.969568</td>\n",
       "      <td>2.358025</td>\n",
       "      <td>7.555556</td>\n",
       "      <td>37.358025</td>\n",
       "      <td>0.256889</td>\n",
       "      <td>...</td>\n",
       "      <td>12.104938</td>\n",
       "      <td>13.851852</td>\n",
       "      <td>6.907407</td>\n",
       "      <td>0.000000</td>\n",
       "      <td>52.382716</td>\n",
       "      <td>1.493750</td>\n",
       "      <td>0.318750</td>\n",
       "      <td>0.035586</td>\n",
       "      <td>0.180864</td>\n",
       "      <td>1</td>\n",
       "    </tr>\n",
       "    <tr>\n",
       "      <th>2</th>\n",
       "      <td>TBR</td>\n",
       "      <td>33.833333</td>\n",
       "      <td>4.148148</td>\n",
       "      <td>8.228395</td>\n",
       "      <td>3.993827</td>\n",
       "      <td>4.000864</td>\n",
       "      <td>2.771605</td>\n",
       "      <td>9.148148</td>\n",
       "      <td>37.320988</td>\n",
       "      <td>0.237667</td>\n",
       "      <td>...</td>\n",
       "      <td>12.598765</td>\n",
       "      <td>13.808642</td>\n",
       "      <td>6.240741</td>\n",
       "      <td>0.006173</td>\n",
       "      <td>50.950617</td>\n",
       "      <td>1.543210</td>\n",
       "      <td>0.493827</td>\n",
       "      <td>0.008802</td>\n",
       "      <td>-0.098765</td>\n",
       "      <td>0</td>\n",
       "    </tr>\n",
       "    <tr>\n",
       "      <th>3</th>\n",
       "      <td>OAK</td>\n",
       "      <td>33.950617</td>\n",
       "      <td>4.030864</td>\n",
       "      <td>8.345679</td>\n",
       "      <td>3.913580</td>\n",
       "      <td>3.778580</td>\n",
       "      <td>2.728395</td>\n",
       "      <td>7.067901</td>\n",
       "      <td>37.172840</td>\n",
       "      <td>0.239728</td>\n",
       "      <td>...</td>\n",
       "      <td>11.833333</td>\n",
       "      <td>14.907407</td>\n",
       "      <td>7.006173</td>\n",
       "      <td>0.006173</td>\n",
       "      <td>51.216049</td>\n",
       "      <td>1.367089</td>\n",
       "      <td>0.360759</td>\n",
       "      <td>0.009222</td>\n",
       "      <td>0.217284</td>\n",
       "      <td>0</td>\n",
       "    </tr>\n",
       "    <tr>\n",
       "      <th>4</th>\n",
       "      <td>ARI</td>\n",
       "      <td>34.969136</td>\n",
       "      <td>4.641975</td>\n",
       "      <td>9.129630</td>\n",
       "      <td>4.376543</td>\n",
       "      <td>4.270370</td>\n",
       "      <td>2.858025</td>\n",
       "      <td>8.808642</td>\n",
       "      <td>38.641975</td>\n",
       "      <td>0.254932</td>\n",
       "      <td>...</td>\n",
       "      <td>13.969136</td>\n",
       "      <td>13.481481</td>\n",
       "      <td>7.308642</td>\n",
       "      <td>0.006173</td>\n",
       "      <td>47.030864</td>\n",
       "      <td>1.559006</td>\n",
       "      <td>0.552795</td>\n",
       "      <td>-0.033364</td>\n",
       "      <td>-0.499383</td>\n",
       "      <td>0</td>\n",
       "    </tr>\n",
       "  </tbody>\n",
       "</table>\n",
       "<p>5 rows × 139 columns</p>\n",
       "</div>"
      ],
      "text/plain": [
       "  H_name  H_at_bats    H_runs    H_hits     H_rbi  H_earned_runs  \\\n",
       "0    PIT  34.209877  4.500000  8.802469  4.296296       4.191914   \n",
       "1    KCR  34.271605  4.166667  8.950617  3.950617       3.969568   \n",
       "2    TBR  33.833333  4.148148  8.228395  3.993827       4.000864   \n",
       "3    OAK  33.950617  4.030864  8.345679  3.913580       3.778580   \n",
       "4    ARI  34.969136  4.641975  9.129630  4.376543       4.270370   \n",
       "\n",
       "   H_bases_on_balls  H_strikeouts  H_plate_appearances  H_batting_average  \\\n",
       "0          3.462963      8.234568            38.648148           0.252074   \n",
       "1          2.358025      7.555556            37.358025           0.256889   \n",
       "2          2.771605      9.148148            37.320988           0.237667   \n",
       "3          2.728395      7.067901            37.172840           0.239728   \n",
       "4          2.858025      8.808642            38.641975           0.254932   \n",
       "\n",
       "   ...  A_Opp_grounded_balls  A_Opp_fly_balls  A_Opp_line_drives  \\\n",
       "0  ...             13.777778        13.111111           6.827160   \n",
       "1  ...             12.104938        13.851852           6.907407   \n",
       "2  ...             12.598765        13.808642           6.240741   \n",
       "3  ...             11.833333        14.907407           7.006173   \n",
       "4  ...             13.969136        13.481481           7.308642   \n",
       "\n",
       "   A_Opp_unknown_bat_type  A_Opp_game_score  A_Opp_inherited_runners  \\\n",
       "0                0.006173         51.438272                 1.440994   \n",
       "1                0.000000         52.382716                 1.493750   \n",
       "2                0.006173         50.950617                 1.543210   \n",
       "3                0.006173         51.216049                 1.367089   \n",
       "4                0.006173         47.030864                 1.559006   \n",
       "\n",
       "   A_Opp_inherited_score  A_Opp_win_probability_by_pitcher  \\\n",
       "0               0.515528                         -0.040438   \n",
       "1               0.318750                          0.035586   \n",
       "2               0.493827                          0.008802   \n",
       "3               0.360759                          0.009222   \n",
       "4               0.552795                         -0.033364   \n",
       "\n",
       "   A_Opp_base_out_runs_saved  home_win  \n",
       "0                  -0.433333         1  \n",
       "1                   0.180864         1  \n",
       "2                  -0.098765         0  \n",
       "3                   0.217284         0  \n",
       "4                  -0.499383         0  \n",
       "\n",
       "[5 rows x 139 columns]"
      ]
     },
     "execution_count": 15,
     "metadata": {},
     "output_type": "execute_result"
    }
   ],
   "source": [
    "df.head()"
   ]
  },
  {
   "cell_type": "code",
   "execution_count": 16,
   "metadata": {
    "ExecuteTime": {
     "end_time": "2022-01-21T16:43:00.855438Z",
     "start_time": "2022-01-21T16:43:00.845271Z"
    },
    "hidden": true
   },
   "outputs": [],
   "source": [
    "#for col in X_train.columns:\n",
    "    #print(col)"
   ]
  },
  {
   "cell_type": "code",
   "execution_count": 17,
   "metadata": {
    "ExecuteTime": {
     "end_time": "2022-01-21T16:43:02.875149Z",
     "start_time": "2022-01-21T16:43:02.842527Z"
    },
    "hidden": true
   },
   "outputs": [],
   "source": [
    "zero_importance_list=['H_runs','H_slugging_percentage','H_on_base_plus','H_base_out_runs_added','H_putouts',\n",
    "                     'H_Opp_on_base_percentage','A_batting_average','A_win_probability_for_offensive_player',\n",
    "                     'A_putouts']"
   ]
  },
  {
   "cell_type": "code",
   "execution_count": 18,
   "metadata": {
    "ExecuteTime": {
     "end_time": "2022-01-21T16:43:03.230199Z",
     "start_time": "2022-01-21T16:43:03.225114Z"
    },
    "hidden": true
   },
   "outputs": [],
   "source": [
    "tiny_importance_list=['H_at_bats','H_win_probability_added','H_fly_balls']"
   ]
  },
  {
   "cell_type": "code",
   "execution_count": 19,
   "metadata": {
    "ExecuteTime": {
     "end_time": "2022-01-21T16:43:04.091568Z",
     "start_time": "2022-01-21T16:43:04.007463Z"
    },
    "hidden": true,
    "scrolled": true
   },
   "outputs": [
    {
     "data": {
      "text/html": [
       "<div>\n",
       "<style scoped>\n",
       "    .dataframe tbody tr th:only-of-type {\n",
       "        vertical-align: middle;\n",
       "    }\n",
       "\n",
       "    .dataframe tbody tr th {\n",
       "        vertical-align: top;\n",
       "    }\n",
       "\n",
       "    .dataframe thead th {\n",
       "        text-align: right;\n",
       "    }\n",
       "</style>\n",
       "<table border=\"1\" class=\"dataframe\">\n",
       "  <thead>\n",
       "    <tr style=\"text-align: right;\">\n",
       "      <th></th>\n",
       "      <th>H_name</th>\n",
       "      <th>H_at_bats</th>\n",
       "      <th>H_runs</th>\n",
       "      <th>H_hits</th>\n",
       "      <th>H_rbi</th>\n",
       "      <th>H_earned_runs</th>\n",
       "      <th>H_bases_on_balls</th>\n",
       "      <th>H_strikeouts</th>\n",
       "      <th>H_plate_appearances</th>\n",
       "      <th>H_batting_average</th>\n",
       "      <th>...</th>\n",
       "      <th>A_Opp_grounded_balls</th>\n",
       "      <th>A_Opp_fly_balls</th>\n",
       "      <th>A_Opp_line_drives</th>\n",
       "      <th>A_Opp_unknown_bat_type</th>\n",
       "      <th>A_Opp_game_score</th>\n",
       "      <th>A_Opp_inherited_runners</th>\n",
       "      <th>A_Opp_inherited_score</th>\n",
       "      <th>A_Opp_win_probability_by_pitcher</th>\n",
       "      <th>A_Opp_base_out_runs_saved</th>\n",
       "      <th>home_win</th>\n",
       "    </tr>\n",
       "  </thead>\n",
       "  <tbody>\n",
       "    <tr>\n",
       "      <th>1366</th>\n",
       "      <td>SEA</td>\n",
       "      <td>34.462963</td>\n",
       "      <td>4.740741</td>\n",
       "      <td>8.925926</td>\n",
       "      <td>4.537037</td>\n",
       "      <td>4.618457</td>\n",
       "      <td>3.123457</td>\n",
       "      <td>7.950617</td>\n",
       "      <td>38.438272</td>\n",
       "      <td>0.252698</td>\n",
       "      <td>...</td>\n",
       "      <td>12.314815</td>\n",
       "      <td>14.179012</td>\n",
       "      <td>6.648148</td>\n",
       "      <td>0.006173</td>\n",
       "      <td>51.401235</td>\n",
       "      <td>1.308176</td>\n",
       "      <td>0.364780</td>\n",
       "      <td>0.017660</td>\n",
       "      <td>-0.043210</td>\n",
       "      <td>0</td>\n",
       "    </tr>\n",
       "    <tr>\n",
       "      <th>1367</th>\n",
       "      <td>OAK</td>\n",
       "      <td>33.950617</td>\n",
       "      <td>4.030864</td>\n",
       "      <td>8.345679</td>\n",
       "      <td>3.913580</td>\n",
       "      <td>3.778580</td>\n",
       "      <td>2.728395</td>\n",
       "      <td>7.067901</td>\n",
       "      <td>37.172840</td>\n",
       "      <td>0.239728</td>\n",
       "      <td>...</td>\n",
       "      <td>12.598765</td>\n",
       "      <td>13.808642</td>\n",
       "      <td>6.240741</td>\n",
       "      <td>0.006173</td>\n",
       "      <td>50.950617</td>\n",
       "      <td>1.543210</td>\n",
       "      <td>0.493827</td>\n",
       "      <td>0.008802</td>\n",
       "      <td>-0.098765</td>\n",
       "      <td>0</td>\n",
       "    </tr>\n",
       "    <tr>\n",
       "      <th>1368</th>\n",
       "      <td>CIN</td>\n",
       "      <td>33.870370</td>\n",
       "      <td>4.419753</td>\n",
       "      <td>8.660494</td>\n",
       "      <td>4.185185</td>\n",
       "      <td>4.202778</td>\n",
       "      <td>2.790123</td>\n",
       "      <td>7.925926</td>\n",
       "      <td>37.617284</td>\n",
       "      <td>0.250488</td>\n",
       "      <td>...</td>\n",
       "      <td>13.129630</td>\n",
       "      <td>14.141975</td>\n",
       "      <td>7.154321</td>\n",
       "      <td>0.006173</td>\n",
       "      <td>52.814815</td>\n",
       "      <td>1.456250</td>\n",
       "      <td>0.506250</td>\n",
       "      <td>0.056568</td>\n",
       "      <td>0.306173</td>\n",
       "      <td>1</td>\n",
       "    </tr>\n",
       "    <tr>\n",
       "      <th>1369</th>\n",
       "      <td>SDP</td>\n",
       "      <td>33.450617</td>\n",
       "      <td>4.234568</td>\n",
       "      <td>7.870370</td>\n",
       "      <td>4.037037</td>\n",
       "      <td>4.000432</td>\n",
       "      <td>2.771605</td>\n",
       "      <td>9.259259</td>\n",
       "      <td>37.043210</td>\n",
       "      <td>0.229815</td>\n",
       "      <td>...</td>\n",
       "      <td>12.358025</td>\n",
       "      <td>13.975309</td>\n",
       "      <td>6.709877</td>\n",
       "      <td>0.006173</td>\n",
       "      <td>50.462963</td>\n",
       "      <td>1.628931</td>\n",
       "      <td>0.572327</td>\n",
       "      <td>0.020198</td>\n",
       "      <td>-0.025309</td>\n",
       "      <td>1</td>\n",
       "    </tr>\n",
       "    <tr>\n",
       "      <th>1370</th>\n",
       "      <td>NYY</td>\n",
       "      <td>33.691358</td>\n",
       "      <td>4.197531</td>\n",
       "      <td>8.506173</td>\n",
       "      <td>3.993827</td>\n",
       "      <td>4.063457</td>\n",
       "      <td>2.932099</td>\n",
       "      <td>7.333333</td>\n",
       "      <td>37.401235</td>\n",
       "      <td>0.246086</td>\n",
       "      <td>...</td>\n",
       "      <td>11.037037</td>\n",
       "      <td>14.623457</td>\n",
       "      <td>5.901235</td>\n",
       "      <td>0.000000</td>\n",
       "      <td>44.777778</td>\n",
       "      <td>1.796296</td>\n",
       "      <td>0.537037</td>\n",
       "      <td>-0.052963</td>\n",
       "      <td>-0.850617</td>\n",
       "      <td>1</td>\n",
       "    </tr>\n",
       "  </tbody>\n",
       "</table>\n",
       "<p>5 rows × 139 columns</p>\n",
       "</div>"
      ],
      "text/plain": [
       "     H_name  H_at_bats    H_runs    H_hits     H_rbi  H_earned_runs  \\\n",
       "1366    SEA  34.462963  4.740741  8.925926  4.537037       4.618457   \n",
       "1367    OAK  33.950617  4.030864  8.345679  3.913580       3.778580   \n",
       "1368    CIN  33.870370  4.419753  8.660494  4.185185       4.202778   \n",
       "1369    SDP  33.450617  4.234568  7.870370  4.037037       4.000432   \n",
       "1370    NYY  33.691358  4.197531  8.506173  3.993827       4.063457   \n",
       "\n",
       "      H_bases_on_balls  H_strikeouts  H_plate_appearances  H_batting_average  \\\n",
       "1366          3.123457      7.950617            38.438272           0.252698   \n",
       "1367          2.728395      7.067901            37.172840           0.239728   \n",
       "1368          2.790123      7.925926            37.617284           0.250488   \n",
       "1369          2.771605      9.259259            37.043210           0.229815   \n",
       "1370          2.932099      7.333333            37.401235           0.246086   \n",
       "\n",
       "      ...  A_Opp_grounded_balls  A_Opp_fly_balls  A_Opp_line_drives  \\\n",
       "1366  ...             12.314815        14.179012           6.648148   \n",
       "1367  ...             12.598765        13.808642           6.240741   \n",
       "1368  ...             13.129630        14.141975           7.154321   \n",
       "1369  ...             12.358025        13.975309           6.709877   \n",
       "1370  ...             11.037037        14.623457           5.901235   \n",
       "\n",
       "      A_Opp_unknown_bat_type  A_Opp_game_score  A_Opp_inherited_runners  \\\n",
       "1366                0.006173         51.401235                 1.308176   \n",
       "1367                0.006173         50.950617                 1.543210   \n",
       "1368                0.006173         52.814815                 1.456250   \n",
       "1369                0.006173         50.462963                 1.628931   \n",
       "1370                0.000000         44.777778                 1.796296   \n",
       "\n",
       "      A_Opp_inherited_score  A_Opp_win_probability_by_pitcher  \\\n",
       "1366               0.364780                          0.017660   \n",
       "1367               0.493827                          0.008802   \n",
       "1368               0.506250                          0.056568   \n",
       "1369               0.572327                          0.020198   \n",
       "1370               0.537037                         -0.052963   \n",
       "\n",
       "      A_Opp_base_out_runs_saved  home_win  \n",
       "1366                  -0.043210         0  \n",
       "1367                  -0.098765         0  \n",
       "1368                   0.306173         1  \n",
       "1369                  -0.025309         1  \n",
       "1370                  -0.850617         1  \n",
       "\n",
       "[5 rows x 139 columns]"
      ]
     },
     "execution_count": 19,
     "metadata": {},
     "output_type": "execute_result"
    }
   ],
   "source": [
    "df2.head()"
   ]
  },
  {
   "cell_type": "code",
   "execution_count": 20,
   "metadata": {
    "ExecuteTime": {
     "end_time": "2022-01-21T16:43:11.745271Z",
     "start_time": "2022-01-21T16:43:11.699593Z"
    },
    "hidden": true
   },
   "outputs": [],
   "source": [
    "def data_preprocessing(df, df2):\n",
    "    X_train = df.drop(['home_win','H_name','A_name'], axis=1)\n",
    "    X_test = df2.drop(['home_win','H_name','A_name'], axis=1)\n",
    "    y_train = df.home_win\n",
    "    y_test= df2.home_win\n",
    "    \n",
    "    ss = StandardScaler()\n",
    "    X_train_scaled = ss.fit_transform(X_train)\n",
    "    X_test_scaled = ss.transform(X_test)\n",
    "    \n",
    "    X_train_scaled = pd.DataFrame(X_train_scaled, columns=X_train.columns)\n",
    "    X_test_scaled = pd.DataFrame(X_test_scaled, columns=X_test.columns)\n",
    "    \n",
    "    return X_train_scaled, X_test_scaled,y_train,y_test"
   ]
  },
  {
   "cell_type": "code",
   "execution_count": 21,
   "metadata": {
    "ExecuteTime": {
     "end_time": "2022-01-21T16:43:14.392736Z",
     "start_time": "2022-01-21T16:43:14.333956Z"
    },
    "hidden": true
   },
   "outputs": [],
   "source": [
    "X_train_scaled,X_test_scaled,y_train,y_test=data_preprocessing(df,df2)"
   ]
  },
  {
   "cell_type": "code",
   "execution_count": 22,
   "metadata": {
    "ExecuteTime": {
     "end_time": "2022-01-21T16:43:16.942643Z",
     "start_time": "2022-01-21T16:43:16.939618Z"
    },
    "hidden": true
   },
   "outputs": [],
   "source": [
    "# X_test_scaled.drop(['H_Opp_inherited_score','H_Opp_game_score','H_Opp_unknown_bat_type',\n",
    "#                     'H_Opp_inherited_runners'],axis=1,inplace=True)"
   ]
  },
  {
   "cell_type": "code",
   "execution_count": 23,
   "metadata": {
    "ExecuteTime": {
     "end_time": "2022-01-21T16:43:17.279978Z",
     "start_time": "2022-01-21T16:43:17.274950Z"
    },
    "hidden": true
   },
   "outputs": [],
   "source": [
    "# X_train_scaled.drop(['H_Opp_inherited_score','H_Opp_game_score','H_Opp_unknown_bat_type',\n",
    "#                     'H_Opp_inherited_runners'],axis=1,inplace=True)"
   ]
  },
  {
   "cell_type": "code",
   "execution_count": 24,
   "metadata": {
    "ExecuteTime": {
     "end_time": "2022-01-21T16:43:18.174627Z",
     "start_time": "2022-01-21T16:43:18.155921Z"
    },
    "hidden": true
   },
   "outputs": [],
   "source": [
    "zero_imp_train=X_train_scaled.drop(zero_importance_list,axis=1)\n",
    "zero_imp_test=X_test_scaled.drop(zero_importance_list,axis=1)"
   ]
  },
  {
   "cell_type": "markdown",
   "metadata": {
    "hidden": true
   },
   "source": []
  },
  {
   "cell_type": "markdown",
   "metadata": {
    "heading_collapsed": true
   },
   "source": [
    "### PCA"
   ]
  },
  {
   "cell_type": "code",
   "execution_count": 40,
   "metadata": {
    "ExecuteTime": {
     "end_time": "2022-01-21T16:58:25.513345Z",
     "start_time": "2022-01-21T16:58:25.392744Z"
    },
    "hidden": true
   },
   "outputs": [],
   "source": [
    "pca=PCA(n_components=0.9)\n",
    "train_pca=pca.fit_transform(X_train_scaled)\n",
    "test_pca=pca.transform(X_test_scaled)"
   ]
  },
  {
   "cell_type": "code",
   "execution_count": 41,
   "metadata": {
    "ExecuteTime": {
     "end_time": "2022-01-21T16:58:26.188931Z",
     "start_time": "2022-01-21T16:58:26.185943Z"
    },
    "hidden": true
   },
   "outputs": [],
   "source": [
    "train_pca = pd.DataFrame(train_pca)\n",
    "test_pca = pd.DataFrame(test_pca)"
   ]
  },
  {
   "cell_type": "code",
   "execution_count": 42,
   "metadata": {
    "ExecuteTime": {
     "end_time": "2022-01-21T16:58:29.530648Z",
     "start_time": "2022-01-21T16:58:29.409804Z"
    },
    "hidden": true
   },
   "outputs": [],
   "source": [
    "pca=PCA(n_components=0.9)\n",
    "train_pca_zero=pca.fit_transform(zero_imp_train)\n",
    "test_pca_zero=pca.transform(zero_imp_test)"
   ]
  },
  {
   "cell_type": "code",
   "execution_count": 43,
   "metadata": {
    "ExecuteTime": {
     "end_time": "2022-01-21T16:58:49.412837Z",
     "start_time": "2022-01-21T16:58:49.404741Z"
    },
    "hidden": true
   },
   "outputs": [],
   "source": [
    "train_pca_zero = pd.DataFrame(train_pca_zero)\n",
    "test_pca_zero = pd.DataFrame(test_pca_zero)"
   ]
  },
  {
   "cell_type": "markdown",
   "metadata": {
    "heading_collapsed": true
   },
   "source": [
    "### Model"
   ]
  },
  {
   "cell_type": "code",
   "execution_count": 27,
   "metadata": {
    "ExecuteTime": {
     "end_time": "2022-01-21T16:45:54.797126Z",
     "start_time": "2022-01-21T16:45:54.756700Z"
    },
    "hidden": true
   },
   "outputs": [],
   "source": [
    "def random_forest(X_train, X_test, y_train, y_test, cv=5):\n",
    "    \n",
    "    # Set GridSearchCV hyperparameters to compare & select\n",
    "    grid = {\n",
    "    'n_estimators': [75,90,100,110,115,125,150,500],\n",
    "    'criterion': ['gini', 'entropy']}\n",
    "    \n",
    "    # Instantiate & fit Random Forest model for GridSearch\n",
    "    grid_rf = RandomForestClassifier()\n",
    "    grid_rf.fit(X_train,y_train)\n",
    "    \n",
    "    # Instantiate & fit GridSearchCV with accuracy scoring\n",
    "    gs = GridSearchCV(estimator=grid_rf, param_grid=grid, cv=cv, scoring='accuracy')\n",
    "    gs.fit(X_train, y_train)\n",
    "    \n",
    "    # Return best hyperparameters\n",
    "    rf_params = gs.best_params_\n",
    "    \n",
    "    # Use best # of trees from best_params\n",
    "    rf_n_estimators = rf_params['n_estimators']\n",
    "    print(f'Number of Trees: {rf_n_estimators}')\n",
    "    \n",
    "    # Use best criterion from best_params\n",
    "    rf_criterion = rf_params['criterion']\n",
    "    print(f'criterion: {rf_criterion}')\n",
    "    \n",
    "    # Instantiate & fit Random Forest model\n",
    "    rforest = RandomForestClassifier(n_estimators=rf_n_estimators, criterion=rf_criterion,\n",
    "                                    random_state=42)\n",
    "    rforest.fit(X_train, y_train)\n",
    "    \n",
    "    # Create prediction variable using test data\n",
    "    y_pred = rforest.predict(X_test)\n",
    "    y_prob = rforest.predict_proba(X_test)\n",
    "    \n",
    "    # Run cross-validate score with cv folds from function parameter\n",
    "    cv_results = cross_val_score(rforest, X_train, y_train, cv=cv)\n",
    "    print(f'Mean Cross-Val Score: {cv_results.mean()}')\n",
    "    \n",
    "    # Run and print accuracy, recall, precision and f1 scores\n",
    "    train_score = rforest.score(X_train, y_train)\n",
    "    print(f'Train Mean Accuracy: {train_score}')\n",
    "    test_score = rforest.score(X_test, y_test)\n",
    "    print(f'Test Mean Accuracy: {test_score}')\n",
    "    \n",
    "    rec_score = recall_score(y_test, y_pred)\n",
    "    print(f'Recall Score: {rec_score}')\n",
    "    \n",
    "    prec_score = precision_score(y_test, y_pred)\n",
    "    print(f'Precision Score: {prec_score}')\n",
    "    \n",
    "    f1 = f1_score(y_test, y_pred)\n",
    "    print(f'F1 score: {f1}')\n",
    "    \n",
    "    # Plot an ROC curve (only works with binary data)\n",
    "    fig, ax = plt.subplots()\n",
    "    plot_roc_curve(rforest, X_train, y_train, name='train', ax=ax)\n",
    "    plot_roc_curve(rforest, X_test, y_test, name='test', ax=ax)\n",
    "    \n",
    "    # Plot Confusion Matrix\n",
    "    plot_confusion_matrix(rforest, X_train, y_train)\n",
    "    plot_confusion_matrix(rforest, X_test, y_test);\n",
    "    \n",
    "    return y_pred,y_prob\n"
   ]
  },
  {
   "cell_type": "markdown",
   "metadata": {},
   "source": [
    "### Random Forest Using PCA and dropped zero importance features"
   ]
  },
  {
   "cell_type": "code",
   "execution_count": 48,
   "metadata": {
    "ExecuteTime": {
     "end_time": "2022-01-21T17:03:18.935910Z",
     "start_time": "2022-01-21T17:02:43.858848Z"
    }
   },
   "outputs": [],
   "source": [
    "rfeats= feature_select(train_pca_zero,y_train,RandomForestClassifier,min_features=10)\n",
    "X_train_best_for = train_pca_zero[rfeats]\n",
    "X_test_best_for = test_pca_zero[rfeats]"
   ]
  },
  {
   "cell_type": "code",
   "execution_count": 49,
   "metadata": {
    "ExecuteTime": {
     "end_time": "2022-01-21T17:04:45.043235Z",
     "start_time": "2022-01-21T17:03:18.985495Z"
    }
   },
   "outputs": [
    {
     "name": "stdout",
     "output_type": "stream",
     "text": [
      "Number of Trees: 75\n",
      "criterion: entropy\n",
      "Mean Cross-Val Score: 0.5085066987806713\n",
      "Train Mean Accuracy: 0.7171883580450302\n",
      "Test Mean Accuracy: 0.7054945054945055\n",
      "Recall Score: 0.75390625\n",
      "Precision Score: 0.7310606060606061\n",
      "F1 score: 0.7423076923076923\n"
     ]
    },
    {
     "data": {
      "image/png": "[encoded data removed]",
      "text/plain": [
       "<Figure size 432x288 with 1 Axes>"
      ]
     },
     "metadata": {
      "needs_background": "light"
     },
     "output_type": "display_data"
    },
    {
     "data": {
      "image/png": "[encoded data removed]",
      "text/plain": [
       "<Figure size 432x288 with 2 Axes>"
      ]
     },
     "metadata": {
      "needs_background": "light"
     },
     "output_type": "display_data"
    },
    {
     "data": {
      "image/png": "[encoded data removed]",
      "text/plain": [
       "<Figure size 432x288 with 2 Axes>"
      ]
     },
     "metadata": {
      "needs_background": "light"
     },
     "output_type": "display_data"
    }
   ],
   "source": [
    "predictions,probabilities=random_forest(X_train_best_for,X_test_best_for,y_train,y_test)"
   ]
  },
  {
   "cell_type": "code",
   "execution_count": 51,
   "metadata": {
    "ExecuteTime": {
     "end_time": "2022-01-21T17:05:14.184646Z",
     "start_time": "2022-01-21T17:05:14.158127Z"
    }
   },
   "outputs": [
    {
     "data": {
      "text/plain": [
       "(0.7548209366391184, 274)"
      ]
     },
     "execution_count": 51,
     "metadata": {},
     "output_type": "execute_result"
    }
   ],
   "source": [
    "new_acc(probabilities)"
   ]
  },
  {
   "cell_type": "markdown",
   "metadata": {},
   "source": [
    "### Random Forest Using PCA and All Feats"
   ]
  },
  {
   "cell_type": "code",
   "execution_count": 45,
   "metadata": {
    "ExecuteTime": {
     "end_time": "2022-01-21T16:59:58.830579Z",
     "start_time": "2022-01-21T16:59:19.239551Z"
    }
   },
   "outputs": [],
   "source": [
    "rfeats= feature_select(train_pca,y_train,RandomForestClassifier,min_features=10)\n",
    "X_train_best_for = train_pca[rfeats]\n",
    "X_test_best_for = test_pca[rfeats]"
   ]
  },
  {
   "cell_type": "code",
   "execution_count": 46,
   "metadata": {
    "ExecuteTime": {
     "end_time": "2022-01-21T17:01:23.035389Z",
     "start_time": "2022-01-21T16:59:58.837764Z"
    }
   },
   "outputs": [
    {
     "name": "stdout",
     "output_type": "stream",
     "text": [
      "Number of Trees: 75\n",
      "criterion: gini\n",
      "Mean Cross-Val Score: 0.5189417431883185\n",
      "Train Mean Accuracy: 0.7171883580450302\n",
      "Test Mean Accuracy: 0.7032967032967034\n",
      "Recall Score: 0.7421875\n",
      "Precision Score: 0.7335907335907336\n",
      "F1 score: 0.737864077669903\n"
     ]
    },
    {
     "data": {
      "image/png": "[encoded data removed]",
      "text/plain": [
       "<Figure size 432x288 with 1 Axes>"
      ]
     },
     "metadata": {
      "needs_background": "light"
     },
     "output_type": "display_data"
    },
    {
     "data": {
      "image/png": "[encoded data removed]",
      "text/plain": [
       "<Figure size 432x288 with 2 Axes>"
      ]
     },
     "metadata": {
      "needs_background": "light"
     },
     "output_type": "display_data"
    },
    {
     "data": {
      "image/png": "[encoded data removed]",
      "text/plain": [
       "<Figure size 432x288 with 2 Axes>"
      ]
     },
     "metadata": {
      "needs_background": "light"
     },
     "output_type": "display_data"
    }
   ],
   "source": [
    "predictions,probabilities=random_forest(X_train_best_for,X_test_best_for,y_train,y_test)"
   ]
  },
  {
   "cell_type": "code",
   "execution_count": 47,
   "metadata": {
    "ExecuteTime": {
     "end_time": "2022-01-21T17:01:47.307800Z",
     "start_time": "2022-01-21T17:01:47.284293Z"
    }
   },
   "outputs": [
    {
     "data": {
      "text/plain": [
       "(0.7577464788732394, 269)"
      ]
     },
     "execution_count": 47,
     "metadata": {},
     "output_type": "execute_result"
    }
   ],
   "source": [
    "new_acc(probabilities)"
   ]
  },
  {
   "cell_type": "markdown",
   "metadata": {},
   "source": [
    "# 2017"
   ]
  },
  {
   "cell_type": "markdown",
   "metadata": {
    "heading_collapsed": true
   },
   "source": [
    "### Grab and Format Data"
   ]
  },
  {
   "cell_type": "code",
   "execution_count": 53,
   "metadata": {
    "ExecuteTime": {
     "end_time": "2022-01-21T17:11:06.990304Z",
     "start_time": "2022-01-21T17:11:06.792736Z"
    },
    "hidden": true
   },
   "outputs": [],
   "source": [
    "df=pd.read_csv('../data/Season_2017.csv')"
   ]
  },
  {
   "cell_type": "code",
   "execution_count": 54,
   "metadata": {
    "ExecuteTime": {
     "end_time": "2022-01-21T17:11:14.515596Z",
     "start_time": "2022-01-21T17:11:14.502453Z"
    },
    "hidden": true
   },
   "outputs": [],
   "source": [
    "df.drop(['Unnamed: 0'],axis=1,inplace=True)"
   ]
  },
  {
   "cell_type": "code",
   "execution_count": 55,
   "metadata": {
    "ExecuteTime": {
     "end_time": "2022-01-21T17:11:26.396889Z",
     "start_time": "2022-01-21T17:11:26.388708Z"
    },
    "hidden": true
   },
   "outputs": [],
   "source": [
    "n = 75\n",
    "df=df.head(int(len(df)*(n/100)))"
   ]
  },
  {
   "cell_type": "code",
   "execution_count": 56,
   "metadata": {
    "ExecuteTime": {
     "end_time": "2022-01-21T17:11:35.249588Z",
     "start_time": "2022-01-21T17:11:35.242963Z"
    },
    "hidden": true
   },
   "outputs": [],
   "source": [
    "n = 25\n",
    "df2=df.tail(int(len(df)*(n/100)))"
   ]
  },
  {
   "cell_type": "code",
   "execution_count": 57,
   "metadata": {
    "ExecuteTime": {
     "end_time": "2022-01-21T17:11:46.462938Z",
     "start_time": "2022-01-21T17:11:46.455988Z"
    },
    "hidden": true
   },
   "outputs": [],
   "source": [
    "df=df.drop(['H_win_probability_subtracted','A_win_probability_subtracted','A_Opp_win_probability_subtracted',\n",
    "          'H_Opp_win_probability_subtracted'],axis=1)"
   ]
  },
  {
   "cell_type": "code",
   "execution_count": 58,
   "metadata": {
    "ExecuteTime": {
     "end_time": "2022-01-21T17:11:54.175994Z",
     "start_time": "2022-01-21T17:11:54.162195Z"
    },
    "hidden": true
   },
   "outputs": [],
   "source": [
    "df2=df2.drop(['H_win_probability_subtracted','A_win_probability_subtracted','A_Opp_win_probability_subtracted',\n",
    "          'H_Opp_win_probability_subtracted'],axis=1)"
   ]
  },
  {
   "cell_type": "code",
   "execution_count": 59,
   "metadata": {
    "ExecuteTime": {
     "end_time": "2022-01-21T17:12:13.739996Z",
     "start_time": "2022-01-21T17:12:13.726611Z"
    },
    "hidden": true
   },
   "outputs": [],
   "source": [
    "zero_importance_list=['H_runs','H_slugging_percentage','H_on_base_plus','H_base_out_runs_added','H_putouts',\n",
    "                     'H_Opp_on_base_percentage','A_batting_average','A_win_probability_for_offensive_player',\n",
    "                     'A_putouts']"
   ]
  },
  {
   "cell_type": "code",
   "execution_count": 60,
   "metadata": {
    "ExecuteTime": {
     "end_time": "2022-01-21T17:12:32.500015Z",
     "start_time": "2022-01-21T17:12:32.459623Z"
    },
    "hidden": true
   },
   "outputs": [],
   "source": [
    "X_train_scaled,X_test_scaled,y_train,y_test=data_preprocessing(df,df2)"
   ]
  },
  {
   "cell_type": "code",
   "execution_count": 68,
   "metadata": {
    "ExecuteTime": {
     "end_time": "2022-01-21T17:18:45.185027Z",
     "start_time": "2022-01-21T17:18:45.176879Z"
    },
    "hidden": true
   },
   "outputs": [],
   "source": [
    "zero_imp_train=X_train_scaled.drop(zero_importance_list,axis=1)\n",
    "zero_imp_test=X_test_scaled.drop(zero_importance_list,axis=1)"
   ]
  },
  {
   "cell_type": "markdown",
   "metadata": {
    "heading_collapsed": true
   },
   "source": [
    "### PCA"
   ]
  },
  {
   "cell_type": "code",
   "execution_count": 61,
   "metadata": {
    "ExecuteTime": {
     "end_time": "2022-01-21T17:13:51.269691Z",
     "start_time": "2022-01-21T17:13:51.161724Z"
    },
    "hidden": true
   },
   "outputs": [],
   "source": [
    "pca=PCA(n_components=0.9)\n",
    "train_pca=pca.fit_transform(X_train_scaled)\n",
    "test_pca=pca.transform(X_test_scaled)"
   ]
  },
  {
   "cell_type": "code",
   "execution_count": 62,
   "metadata": {
    "ExecuteTime": {
     "end_time": "2022-01-21T17:14:07.989377Z",
     "start_time": "2022-01-21T17:14:07.981634Z"
    },
    "hidden": true
   },
   "outputs": [],
   "source": [
    "train_pca = pd.DataFrame(train_pca)\n",
    "test_pca = pd.DataFrame(test_pca)"
   ]
  },
  {
   "cell_type": "code",
   "execution_count": 69,
   "metadata": {
    "ExecuteTime": {
     "end_time": "2022-01-21T17:18:53.135194Z",
     "start_time": "2022-01-21T17:18:53.054157Z"
    },
    "hidden": true
   },
   "outputs": [],
   "source": [
    "pca=PCA(n_components=0.9)\n",
    "train_pca_zero=pca.fit_transform(zero_imp_train)\n",
    "test_pca_zero=pca.transform(zero_imp_test)\n",
    "train_pca_zero = pd.DataFrame(train_pca_zero)\n",
    "test_pca_zero = pd.DataFrame(test_pca_zero)"
   ]
  },
  {
   "cell_type": "markdown",
   "metadata": {},
   "source": [
    "### Random Forest With all Features PCA"
   ]
  },
  {
   "cell_type": "code",
   "execution_count": 64,
   "metadata": {
    "ExecuteTime": {
     "end_time": "2022-01-21T17:15:59.326621Z",
     "start_time": "2022-01-21T17:15:23.313032Z"
    }
   },
   "outputs": [],
   "source": [
    "rfeats= feature_select(train_pca,y_train,RandomForestClassifier,min_features=10)\n",
    "X_train_best_for = train_pca[rfeats]\n",
    "X_test_best_for = test_pca[rfeats]"
   ]
  },
  {
   "cell_type": "code",
   "execution_count": 65,
   "metadata": {
    "ExecuteTime": {
     "end_time": "2022-01-21T17:17:13.806685Z",
     "start_time": "2022-01-21T17:15:59.332391Z"
    }
   },
   "outputs": [
    {
     "name": "stdout",
     "output_type": "stream",
     "text": [
      "Number of Trees: 150\n",
      "criterion: entropy\n",
      "Mean Cross-Val Score: 0.5351226855336444\n",
      "Train Mean Accuracy: 0.7074643249176729\n",
      "Test Mean Accuracy: 0.7054945054945055\n",
      "Recall Score: 0.7777777777777778\n",
      "Precision Score: 0.7153284671532847\n",
      "F1 score: 0.7452471482889734\n"
     ]
    },
    {
     "data": {
      "image/png": "[encoded data removed]",
      "text/plain": [
       "<Figure size 432x288 with 1 Axes>"
      ]
     },
     "metadata": {
      "needs_background": "light"
     },
     "output_type": "display_data"
    },
    {
     "data": {
      "image/png": "[encoded data removed]",
      "text/plain": [
       "<Figure size 432x288 with 2 Axes>"
      ]
     },
     "metadata": {
      "needs_background": "light"
     },
     "output_type": "display_data"
    },
    {
     "data": {
      "image/png": "[encoded data removed]",
      "text/plain": [
       "<Figure size 432x288 with 2 Axes>"
      ]
     },
     "metadata": {
      "needs_background": "light"
     },
     "output_type": "display_data"
    }
   ],
   "source": [
    "predictions,probabilities=random_forest(X_train_best_for,X_test_best_for,y_train,y_test)"
   ]
  },
  {
   "cell_type": "code",
   "execution_count": 66,
   "metadata": {
    "ExecuteTime": {
     "end_time": "2022-01-21T17:17:13.877515Z",
     "start_time": "2022-01-21T17:17:13.815600Z"
    }
   },
   "outputs": [
    {
     "data": {
      "text/plain": [
       "(0.7672413793103449, 267)"
      ]
     },
     "execution_count": 66,
     "metadata": {},
     "output_type": "execute_result"
    }
   ],
   "source": [
    "new_acc(probabilities)"
   ]
  },
  {
   "cell_type": "markdown",
   "metadata": {},
   "source": [
    "### Random Forest Dropped Zero Importance Features"
   ]
  },
  {
   "cell_type": "code",
   "execution_count": 70,
   "metadata": {
    "ExecuteTime": {
     "end_time": "2022-01-21T17:19:27.584679Z",
     "start_time": "2022-01-21T17:18:57.239803Z"
    }
   },
   "outputs": [],
   "source": [
    "rfeats= feature_select(train_pca_zero,y_train,RandomForestClassifier,min_features=10)\n",
    "X_train_best_for = train_pca_zero[rfeats]\n",
    "X_test_best_for = test_pca_zero[rfeats]"
   ]
  },
  {
   "cell_type": "code",
   "execution_count": 71,
   "metadata": {
    "ExecuteTime": {
     "end_time": "2022-01-21T17:20:54.151314Z",
     "start_time": "2022-01-21T17:19:27.611808Z"
    }
   },
   "outputs": [
    {
     "name": "stdout",
     "output_type": "stream",
     "text": [
      "Number of Trees: 75\n",
      "criterion: entropy\n",
      "Mean Cross-Val Score: 0.5225124190877615\n",
      "Train Mean Accuracy: 0.7074643249176729\n",
      "Test Mean Accuracy: 0.7076923076923077\n",
      "Recall Score: 0.7817460317460317\n",
      "Precision Score: 0.7163636363636363\n",
      "F1 score: 0.7476280834914611\n"
     ]
    },
    {
     "data": {
      "image/png": "[encoded data removed]",
      "text/plain": [
       "<Figure size 432x288 with 1 Axes>"
      ]
     },
     "metadata": {
      "needs_background": "light"
     },
     "output_type": "display_data"
    },
    {
     "data": {
      "image/png": "[encoded data removed]",
      "text/plain": [
       "<Figure size 432x288 with 2 Axes>"
      ]
     },
     "metadata": {
      "needs_background": "light"
     },
     "output_type": "display_data"
    },
    {
     "data": {
      "image/png": "[encoded data removed]",
      "text/plain": [
       "<Figure size 432x288 with 2 Axes>"
      ]
     },
     "metadata": {
      "needs_background": "light"
     },
     "output_type": "display_data"
    }
   ],
   "source": [
    "predictions,probabilities=random_forest(X_train_best_for,X_test_best_for,y_train,y_test)"
   ]
  },
  {
   "cell_type": "code",
   "execution_count": 72,
   "metadata": {
    "ExecuteTime": {
     "end_time": "2022-01-21T17:20:54.216761Z",
     "start_time": "2022-01-21T17:20:54.183122Z"
    }
   },
   "outputs": [
    {
     "data": {
      "text/plain": [
       "(0.7657142857142857, 268)"
      ]
     },
     "execution_count": 72,
     "metadata": {},
     "output_type": "execute_result"
    }
   ],
   "source": [
    "new_acc(probabilities)"
   ]
  },
  {
   "cell_type": "markdown",
   "metadata": {},
   "source": [
    "# 2018"
   ]
  },
  {
   "cell_type": "markdown",
   "metadata": {
    "heading_collapsed": true
   },
   "source": [
    "### Gathering and Format Data"
   ]
  },
  {
   "cell_type": "code",
   "execution_count": 73,
   "metadata": {
    "ExecuteTime": {
     "end_time": "2022-01-21T17:20:54.841865Z",
     "start_time": "2022-01-21T17:20:54.226769Z"
    },
    "hidden": true
   },
   "outputs": [],
   "source": [
    "df=pd.read_csv('../data/Season_2018.csv')"
   ]
  },
  {
   "cell_type": "code",
   "execution_count": 74,
   "metadata": {
    "ExecuteTime": {
     "end_time": "2022-01-21T17:20:54.866121Z",
     "start_time": "2022-01-21T17:20:54.849987Z"
    },
    "hidden": true
   },
   "outputs": [],
   "source": [
    "df.drop(['Unnamed: 0'],axis=1,inplace=True)"
   ]
  },
  {
   "cell_type": "code",
   "execution_count": 75,
   "metadata": {
    "ExecuteTime": {
     "end_time": "2022-01-21T17:20:54.883214Z",
     "start_time": "2022-01-21T17:20:54.872242Z"
    },
    "hidden": true
   },
   "outputs": [],
   "source": [
    "n = 75\n",
    "df=df.head(int(len(df)*(n/100)))"
   ]
  },
  {
   "cell_type": "code",
   "execution_count": 76,
   "metadata": {
    "ExecuteTime": {
     "end_time": "2022-01-21T17:20:54.955793Z",
     "start_time": "2022-01-21T17:20:54.946095Z"
    },
    "hidden": true
   },
   "outputs": [],
   "source": [
    "n = 25\n",
    "df2=df.tail(int(len(df)*(n/100)))"
   ]
  },
  {
   "cell_type": "code",
   "execution_count": 77,
   "metadata": {
    "ExecuteTime": {
     "end_time": "2022-01-21T17:21:11.053628Z",
     "start_time": "2022-01-21T17:21:11.021650Z"
    },
    "hidden": true
   },
   "outputs": [],
   "source": [
    "X_train_scaled,X_test_scaled,y_train,y_test=data_preprocessing(df,df2)"
   ]
  },
  {
   "cell_type": "code",
   "execution_count": 78,
   "metadata": {
    "ExecuteTime": {
     "end_time": "2022-01-21T17:21:21.204217Z",
     "start_time": "2022-01-21T17:21:21.194964Z"
    },
    "hidden": true
   },
   "outputs": [],
   "source": [
    "zero_imp_train=X_train_scaled.drop(zero_importance_list,axis=1)\n",
    "zero_imp_test=X_test_scaled.drop(zero_importance_list,axis=1)"
   ]
  },
  {
   "cell_type": "markdown",
   "metadata": {
    "heading_collapsed": true
   },
   "source": [
    "### PCA"
   ]
  },
  {
   "cell_type": "code",
   "execution_count": 79,
   "metadata": {
    "ExecuteTime": {
     "end_time": "2022-01-21T17:22:09.983802Z",
     "start_time": "2022-01-21T17:22:09.878336Z"
    },
    "hidden": true
   },
   "outputs": [],
   "source": [
    "pca=PCA(n_components=0.9)\n",
    "train_pca=pca.fit_transform(X_train_scaled)\n",
    "test_pca=pca.transform(X_test_scaled)"
   ]
  },
  {
   "cell_type": "code",
   "execution_count": 80,
   "metadata": {
    "ExecuteTime": {
     "end_time": "2022-01-21T17:22:18.085442Z",
     "start_time": "2022-01-21T17:22:18.079232Z"
    },
    "hidden": true
   },
   "outputs": [],
   "source": [
    "train_pca = pd.DataFrame(train_pca)\n",
    "test_pca = pd.DataFrame(test_pca)"
   ]
  },
  {
   "cell_type": "code",
   "execution_count": 81,
   "metadata": {
    "ExecuteTime": {
     "end_time": "2022-01-21T17:22:24.378092Z",
     "start_time": "2022-01-21T17:22:24.266788Z"
    },
    "hidden": true
   },
   "outputs": [],
   "source": [
    "pca=PCA(n_components=0.9)\n",
    "train_pca_zero=pca.fit_transform(zero_imp_train)\n",
    "test_pca_zero=pca.transform(zero_imp_test)\n",
    "train_pca_zero = pd.DataFrame(train_pca_zero)\n",
    "test_pca_zero = pd.DataFrame(test_pca_zero)"
   ]
  },
  {
   "cell_type": "markdown",
   "metadata": {},
   "source": [
    "### Random Forest PCA All Features"
   ]
  },
  {
   "cell_type": "code",
   "execution_count": 82,
   "metadata": {
    "ExecuteTime": {
     "end_time": "2022-01-21T17:23:06.900362Z",
     "start_time": "2022-01-21T17:22:38.100690Z"
    }
   },
   "outputs": [],
   "source": [
    "rfeats= feature_select(train_pca,y_train,RandomForestClassifier,min_features=10)\n",
    "X_train_best_for = train_pca[rfeats]\n",
    "X_test_best_for = test_pca[rfeats]"
   ]
  },
  {
   "cell_type": "code",
   "execution_count": 83,
   "metadata": {
    "ExecuteTime": {
     "end_time": "2022-01-21T17:24:22.232780Z",
     "start_time": "2022-01-21T17:23:09.408593Z"
    }
   },
   "outputs": [
    {
     "name": "stdout",
     "output_type": "stream",
     "text": [
      "Number of Trees: 100\n",
      "criterion: entropy\n",
      "Mean Cross-Val Score: 0.5321240403432184\n",
      "Train Mean Accuracy: 0.7127951674903898\n",
      "Test Mean Accuracy: 0.6945054945054945\n",
      "Recall Score: 0.7280334728033473\n",
      "Precision Score: 0.7016129032258065\n",
      "F1 score: 0.7145790554414785\n"
     ]
    },
    {
     "data": {
      "image/png": "[encoded data removed]",
      "text/plain": [
       "<Figure size 432x288 with 1 Axes>"
      ]
     },
     "metadata": {
      "needs_background": "light"
     },
     "output_type": "display_data"
    },
    {
     "data": {
      "image/png": "[encoded data removed]",
      "text/plain": [
       "<Figure size 432x288 with 2 Axes>"
      ]
     },
     "metadata": {
      "needs_background": "light"
     },
     "output_type": "display_data"
    },
    {
     "data": {
      "image/png": "[encoded data removed]",
      "text/plain": [
       "<Figure size 432x288 with 2 Axes>"
      ]
     },
     "metadata": {
      "needs_background": "light"
     },
     "output_type": "display_data"
    }
   ],
   "source": [
    "predictions,probabilities=random_forest(X_train_best_for,X_test_best_for,y_train,y_test)"
   ]
  },
  {
   "cell_type": "code",
   "execution_count": 84,
   "metadata": {
    "ExecuteTime": {
     "end_time": "2022-01-21T17:24:22.296856Z",
     "start_time": "2022-01-21T17:24:22.238989Z"
    }
   },
   "outputs": [
    {
     "data": {
      "text/plain": [
       "(0.7613293051359517, 252)"
      ]
     },
     "execution_count": 84,
     "metadata": {},
     "output_type": "execute_result"
    }
   ],
   "source": [
    "new_acc(probabilities)"
   ]
  },
  {
   "cell_type": "markdown",
   "metadata": {},
   "source": [
    "### Random Forest PCA dropped zero importance features"
   ]
  },
  {
   "cell_type": "code",
   "execution_count": 85,
   "metadata": {
    "ExecuteTime": {
     "end_time": "2022-01-21T17:24:49.700486Z",
     "start_time": "2022-01-21T17:24:22.312577Z"
    }
   },
   "outputs": [],
   "source": [
    "rfeats= feature_select(train_pca_zero,y_train,RandomForestClassifier,min_features=10)\n",
    "X_train_best_for = train_pca_zero[rfeats]\n",
    "X_test_best_for = test_pca_zero[rfeats]"
   ]
  },
  {
   "cell_type": "code",
   "execution_count": 86,
   "metadata": {
    "ExecuteTime": {
     "end_time": "2022-01-21T17:26:08.992156Z",
     "start_time": "2022-01-21T17:24:49.740528Z"
    }
   },
   "outputs": [
    {
     "name": "stdout",
     "output_type": "stream",
     "text": [
      "Number of Trees: 100\n",
      "criterion: entropy\n",
      "Mean Cross-Val Score: 0.5354192382959506\n",
      "Train Mean Accuracy: 0.7127951674903898\n",
      "Test Mean Accuracy: 0.6945054945054945\n",
      "Recall Score: 0.7280334728033473\n",
      "Precision Score: 0.7016129032258065\n",
      "F1 score: 0.7145790554414785\n"
     ]
    },
    {
     "data": {
      "image/png": "[encoded data removed]",
      "text/plain": [
       "<Figure size 432x288 with 1 Axes>"
      ]
     },
     "metadata": {
      "needs_background": "light"
     },
     "output_type": "display_data"
    },
    {
     "data": {
      "image/png": "[encoded data removed]",
      "text/plain": [
       "<Figure size 432x288 with 2 Axes>"
      ]
     },
     "metadata": {
      "needs_background": "light"
     },
     "output_type": "display_data"
    },
    {
     "data": {
      "image/png": "[encoded data removed]",
      "text/plain": [
       "<Figure size 432x288 with 2 Axes>"
      ]
     },
     "metadata": {
      "needs_background": "light"
     },
     "output_type": "display_data"
    }
   ],
   "source": [
    "predictions,probabilities=random_forest(X_train_best_for,X_test_best_for,y_train,y_test)"
   ]
  },
  {
   "cell_type": "code",
   "execution_count": 87,
   "metadata": {
    "ExecuteTime": {
     "end_time": "2022-01-21T17:26:09.064608Z",
     "start_time": "2022-01-21T17:26:08.997432Z"
    }
   },
   "outputs": [
    {
     "data": {
      "text/plain": [
       "(0.7582089552238805, 254)"
      ]
     },
     "execution_count": 87,
     "metadata": {},
     "output_type": "execute_result"
    }
   ],
   "source": [
    "new_acc(probabilities)"
   ]
  },
  {
   "cell_type": "markdown",
   "metadata": {},
   "source": [
    "# 2019"
   ]
  },
  {
   "cell_type": "markdown",
   "metadata": {
    "heading_collapsed": true
   },
   "source": [
    "### Data Gathering and Formatting "
   ]
  },
  {
   "cell_type": "code",
   "execution_count": 88,
   "metadata": {
    "ExecuteTime": {
     "end_time": "2022-01-21T17:26:22.284652Z",
     "start_time": "2022-01-21T17:26:22.131549Z"
    },
    "hidden": true
   },
   "outputs": [],
   "source": [
    "df=pd.read_csv('../data/Season_2019.csv')"
   ]
  },
  {
   "cell_type": "code",
   "execution_count": 89,
   "metadata": {
    "ExecuteTime": {
     "end_time": "2022-01-21T17:26:32.843476Z",
     "start_time": "2022-01-21T17:26:32.832256Z"
    },
    "hidden": true
   },
   "outputs": [],
   "source": [
    "df.drop(['Unnamed: 0'],axis=1,inplace=True)"
   ]
  },
  {
   "cell_type": "code",
   "execution_count": 90,
   "metadata": {
    "ExecuteTime": {
     "end_time": "2022-01-21T17:26:39.971576Z",
     "start_time": "2022-01-21T17:26:39.966176Z"
    },
    "hidden": true
   },
   "outputs": [],
   "source": [
    "n = 75\n",
    "df=df.head(int(len(df)*(n/100)))"
   ]
  },
  {
   "cell_type": "code",
   "execution_count": 91,
   "metadata": {
    "ExecuteTime": {
     "end_time": "2022-01-21T17:26:46.932882Z",
     "start_time": "2022-01-21T17:26:46.927350Z"
    },
    "hidden": true
   },
   "outputs": [],
   "source": [
    "n = 25\n",
    "df2=df.tail(int(len(df)*(n/100)))"
   ]
  },
  {
   "cell_type": "code",
   "execution_count": 92,
   "metadata": {
    "ExecuteTime": {
     "end_time": "2022-01-21T17:26:53.885968Z",
     "start_time": "2022-01-21T17:26:53.875379Z"
    },
    "hidden": true
   },
   "outputs": [],
   "source": [
    "df=df.drop(['H_win_probability_subtracted','A_win_probability_subtracted','A_Opp_win_probability_subtracted',\n",
    "          'H_Opp_win_probability_subtracted'],axis=1)"
   ]
  },
  {
   "cell_type": "code",
   "execution_count": 93,
   "metadata": {
    "ExecuteTime": {
     "end_time": "2022-01-21T17:27:01.376654Z",
     "start_time": "2022-01-21T17:27:01.371662Z"
    },
    "hidden": true
   },
   "outputs": [],
   "source": [
    "df2=df2.drop(['H_win_probability_subtracted','A_win_probability_subtracted','A_Opp_win_probability_subtracted',\n",
    "          'H_Opp_win_probability_subtracted'],axis=1)"
   ]
  },
  {
   "cell_type": "code",
   "execution_count": 94,
   "metadata": {
    "ExecuteTime": {
     "end_time": "2022-01-21T17:27:13.562219Z",
     "start_time": "2022-01-21T17:27:13.534509Z"
    },
    "hidden": true
   },
   "outputs": [],
   "source": [
    "X_train_scaled,X_test_scaled,y_train,y_test=data_preprocessing(df,df2)"
   ]
  },
  {
   "cell_type": "code",
   "execution_count": 95,
   "metadata": {
    "ExecuteTime": {
     "end_time": "2022-01-21T17:27:21.039290Z",
     "start_time": "2022-01-21T17:27:21.030238Z"
    },
    "hidden": true
   },
   "outputs": [],
   "source": [
    "zero_imp_train=X_train_scaled.drop(zero_importance_list,axis=1)\n",
    "zero_imp_test=X_test_scaled.drop(zero_importance_list,axis=1)"
   ]
  },
  {
   "cell_type": "markdown",
   "metadata": {
    "heading_collapsed": true
   },
   "source": [
    "### PCA"
   ]
  },
  {
   "cell_type": "code",
   "execution_count": 96,
   "metadata": {
    "ExecuteTime": {
     "end_time": "2022-01-21T17:27:46.696941Z",
     "start_time": "2022-01-21T17:27:46.592970Z"
    },
    "hidden": true
   },
   "outputs": [],
   "source": [
    "pca=PCA(n_components=0.9)\n",
    "train_pca=pca.fit_transform(X_train_scaled)\n",
    "test_pca=pca.transform(X_test_scaled)\n",
    "train_pca = pd.DataFrame(train_pca)\n",
    "test_pca = pd.DataFrame(test_pca)"
   ]
  },
  {
   "cell_type": "code",
   "execution_count": 97,
   "metadata": {
    "ExecuteTime": {
     "end_time": "2022-01-21T17:27:53.344592Z",
     "start_time": "2022-01-21T17:27:53.183165Z"
    },
    "hidden": true
   },
   "outputs": [],
   "source": [
    "pca=PCA(n_components=0.9)\n",
    "train_pca_zero=pca.fit_transform(zero_imp_train)\n",
    "test_pca_zero=pca.transform(zero_imp_test)\n",
    "train_pca_zero = pd.DataFrame(train_pca_zero)\n",
    "test_pca_zero = pd.DataFrame(test_pca_zero)"
   ]
  },
  {
   "cell_type": "markdown",
   "metadata": {},
   "source": [
    "### Random Forest PCA all Features"
   ]
  },
  {
   "cell_type": "code",
   "execution_count": 98,
   "metadata": {
    "ExecuteTime": {
     "end_time": "2022-01-21T17:28:43.458412Z",
     "start_time": "2022-01-21T17:28:19.464649Z"
    }
   },
   "outputs": [],
   "source": [
    "rfeats= feature_select(train_pca,y_train,RandomForestClassifier,min_features=10)\n",
    "X_train_best_for = train_pca[rfeats]\n",
    "X_test_best_for = test_pca[rfeats]"
   ]
  },
  {
   "cell_type": "code",
   "execution_count": 99,
   "metadata": {
    "ExecuteTime": {
     "end_time": "2022-01-21T17:30:00.506265Z",
     "start_time": "2022-01-21T17:28:43.464142Z"
    }
   },
   "outputs": [
    {
     "name": "stdout",
     "output_type": "stream",
     "text": [
      "Number of Trees: 150\n",
      "criterion: entropy\n",
      "Mean Cross-Val Score: 0.5532967032967033\n",
      "Train Mean Accuracy: 0.7098901098901099\n",
      "Test Mean Accuracy: 0.7230769230769231\n",
      "Recall Score: 0.728744939271255\n",
      "Precision Score: 0.7531380753138075\n",
      "F1 score: 0.7407407407407407\n"
     ]
    },
    {
     "data": {
      "image/png": "[encoded data removed]",
      "text/plain": [
       "<Figure size 432x288 with 1 Axes>"
      ]
     },
     "metadata": {
      "needs_background": "light"
     },
     "output_type": "display_data"
    },
    {
     "data": {
      "image/png": "[encoded data removed]",
      "text/plain": [
       "<Figure size 432x288 with 2 Axes>"
      ]
     },
     "metadata": {
      "needs_background": "light"
     },
     "output_type": "display_data"
    },
    {
     "data": {
      "image/png": "[encoded data removed]",
      "text/plain": [
       "<Figure size 432x288 with 2 Axes>"
      ]
     },
     "metadata": {
      "needs_background": "light"
     },
     "output_type": "display_data"
    }
   ],
   "source": [
    "predictions,probabilities=random_forest(X_train_best_for,X_test_best_for,y_train,y_test)"
   ]
  },
  {
   "cell_type": "code",
   "execution_count": 100,
   "metadata": {
    "ExecuteTime": {
     "end_time": "2022-01-21T17:30:00.595964Z",
     "start_time": "2022-01-21T17:30:00.551276Z"
    }
   },
   "outputs": [
    {
     "data": {
      "text/plain": [
       "(0.7670454545454546, 270)"
      ]
     },
     "execution_count": 100,
     "metadata": {},
     "output_type": "execute_result"
    }
   ],
   "source": [
    "new_acc(probabilities)"
   ]
  },
  {
   "cell_type": "markdown",
   "metadata": {},
   "source": [
    "### Random Forest PCA dropped zero importance features"
   ]
  },
  {
   "cell_type": "code",
   "execution_count": 101,
   "metadata": {
    "ExecuteTime": {
     "end_time": "2022-01-21T17:30:26.124484Z",
     "start_time": "2022-01-21T17:30:00.600749Z"
    }
   },
   "outputs": [],
   "source": [
    "rfeats= feature_select(train_pca_zero,y_train,RandomForestClassifier,min_features=10)\n",
    "X_train_best_for = train_pca_zero[rfeats]\n",
    "X_test_best_for = test_pca_zero[rfeats]"
   ]
  },
  {
   "cell_type": "code",
   "execution_count": 102,
   "metadata": {
    "ExecuteTime": {
     "end_time": "2022-01-21T17:31:28.443658Z",
     "start_time": "2022-01-21T17:30:26.130396Z"
    }
   },
   "outputs": [
    {
     "name": "stdout",
     "output_type": "stream",
     "text": [
      "Number of Trees: 150\n",
      "criterion: entropy\n",
      "Mean Cross-Val Score: 0.5604395604395604\n",
      "Train Mean Accuracy: 0.7098901098901099\n",
      "Test Mean Accuracy: 0.7230769230769231\n",
      "Recall Score: 0.7206477732793523\n",
      "Precision Score: 0.7574468085106383\n",
      "F1 score: 0.7385892116182574\n"
     ]
    },
    {
     "data": {
      "image/png": "[encoded data removed]",
      "text/plain": [
       "<Figure size 432x288 with 1 Axes>"
      ]
     },
     "metadata": {
      "needs_background": "light"
     },
     "output_type": "display_data"
    },
    {
     "data": {
      "image/png": "[encoded data removed]",
      "text/plain": [
       "<Figure size 432x288 with 2 Axes>"
      ]
     },
     "metadata": {
      "needs_background": "light"
     },
     "output_type": "display_data"
    },
    {
     "data": {
      "image/png": "[encoded data removed]",
      "text/plain": [
       "<Figure size 432x288 with 2 Axes>"
      ]
     },
     "metadata": {
      "needs_background": "light"
     },
     "output_type": "display_data"
    }
   ],
   "source": [
    "predictions,probabilities=random_forest(X_train_best_for,X_test_best_for,y_train,y_test)"
   ]
  },
  {
   "cell_type": "code",
   "execution_count": 103,
   "metadata": {
    "ExecuteTime": {
     "end_time": "2022-01-21T17:31:28.498941Z",
     "start_time": "2022-01-21T17:31:28.448818Z"
    }
   },
   "outputs": [
    {
     "data": {
      "text/plain": [
       "(0.7633802816901408, 271)"
      ]
     },
     "execution_count": 103,
     "metadata": {},
     "output_type": "execute_result"
    }
   ],
   "source": [
    "new_acc(probabilities)"
   ]
  },
  {
   "cell_type": "markdown",
   "metadata": {},
   "source": [
    "# 2020"
   ]
  },
  {
   "cell_type": "markdown",
   "metadata": {
    "heading_collapsed": true
   },
   "source": [
    "### Data Gathering and Formatting"
   ]
  },
  {
   "cell_type": "code",
   "execution_count": 104,
   "metadata": {
    "ExecuteTime": {
     "end_time": "2022-01-21T17:50:12.764318Z",
     "start_time": "2022-01-21T17:50:12.686382Z"
    },
    "hidden": true
   },
   "outputs": [],
   "source": [
    "df=pd.read_csv('../data/Season_2020.csv')"
   ]
  },
  {
   "cell_type": "code",
   "execution_count": 105,
   "metadata": {
    "ExecuteTime": {
     "end_time": "2022-01-21T17:50:21.889305Z",
     "start_time": "2022-01-21T17:50:21.880761Z"
    },
    "hidden": true
   },
   "outputs": [],
   "source": [
    "df.drop(['Unnamed: 0'],axis=1,inplace=True)"
   ]
  },
  {
   "cell_type": "code",
   "execution_count": 106,
   "metadata": {
    "ExecuteTime": {
     "end_time": "2022-01-21T17:50:28.519443Z",
     "start_time": "2022-01-21T17:50:28.511624Z"
    },
    "hidden": true
   },
   "outputs": [],
   "source": [
    "n = 75\n",
    "df=df.head(int(len(df)*(n/100)))"
   ]
  },
  {
   "cell_type": "code",
   "execution_count": 107,
   "metadata": {
    "ExecuteTime": {
     "end_time": "2022-01-21T17:50:36.910216Z",
     "start_time": "2022-01-21T17:50:36.901549Z"
    },
    "hidden": true
   },
   "outputs": [],
   "source": [
    "n = 25\n",
    "df2=df.tail(int(len(df)*(n/100)))"
   ]
  },
  {
   "cell_type": "code",
   "execution_count": 108,
   "metadata": {
    "ExecuteTime": {
     "end_time": "2022-01-21T17:50:45.119375Z",
     "start_time": "2022-01-21T17:50:45.111029Z"
    },
    "hidden": true
   },
   "outputs": [],
   "source": [
    "df=df.drop(['H_win_probability_subtracted','A_win_probability_subtracted','A_Opp_win_probability_subtracted',\n",
    "          'H_Opp_win_probability_subtracted'],axis=1)"
   ]
  },
  {
   "cell_type": "code",
   "execution_count": 110,
   "metadata": {
    "ExecuteTime": {
     "end_time": "2022-01-21T17:51:08.412217Z",
     "start_time": "2022-01-21T17:51:08.405948Z"
    },
    "hidden": true
   },
   "outputs": [],
   "source": [
    "df2=df2.drop(['H_win_probability_subtracted','A_win_probability_subtracted','A_Opp_win_probability_subtracted',\n",
    "          'H_Opp_win_probability_subtracted'],axis=1)"
   ]
  },
  {
   "cell_type": "code",
   "execution_count": 111,
   "metadata": {
    "ExecuteTime": {
     "end_time": "2022-01-21T17:51:45.736312Z",
     "start_time": "2022-01-21T17:51:45.708064Z"
    },
    "hidden": true
   },
   "outputs": [],
   "source": [
    "X_train_scaled,X_test_scaled,y_train,y_test=data_preprocessing(df,df2)"
   ]
  },
  {
   "cell_type": "code",
   "execution_count": 112,
   "metadata": {
    "ExecuteTime": {
     "end_time": "2022-01-21T17:52:08.074500Z",
     "start_time": "2022-01-21T17:52:08.065342Z"
    },
    "hidden": true
   },
   "outputs": [],
   "source": [
    "zero_imp_train=X_train_scaled.drop(zero_importance_list,axis=1)\n",
    "zero_imp_test=X_test_scaled.drop(zero_importance_list,axis=1)"
   ]
  },
  {
   "cell_type": "markdown",
   "metadata": {
    "heading_collapsed": true
   },
   "source": [
    "### PCA"
   ]
  },
  {
   "cell_type": "code",
   "execution_count": 113,
   "metadata": {
    "ExecuteTime": {
     "end_time": "2022-01-21T17:53:57.235583Z",
     "start_time": "2022-01-21T17:53:57.173615Z"
    },
    "hidden": true
   },
   "outputs": [],
   "source": [
    "pca=PCA(n_components=0.9)\n",
    "train_pca=pca.fit_transform(X_train_scaled)\n",
    "test_pca=pca.transform(X_test_scaled)\n",
    "train_pca = pd.DataFrame(train_pca)\n",
    "test_pca = pd.DataFrame(test_pca)"
   ]
  },
  {
   "cell_type": "code",
   "execution_count": 114,
   "metadata": {
    "ExecuteTime": {
     "end_time": "2022-01-21T17:54:12.217393Z",
     "start_time": "2022-01-21T17:54:12.162765Z"
    },
    "hidden": true
   },
   "outputs": [],
   "source": [
    "pca=PCA(n_components=0.9)\n",
    "train_pca_zero=pca.fit_transform(zero_imp_train)\n",
    "test_pca_zero=pca.transform(zero_imp_test)\n",
    "train_pca_zero = pd.DataFrame(train_pca_zero)\n",
    "test_pca_zero = pd.DataFrame(test_pca_zero)"
   ]
  },
  {
   "cell_type": "markdown",
   "metadata": {},
   "source": [
    "### Random Forest PCA and All Feats"
   ]
  },
  {
   "cell_type": "code",
   "execution_count": 115,
   "metadata": {
    "ExecuteTime": {
     "end_time": "2022-01-21T17:55:25.790716Z",
     "start_time": "2022-01-21T17:55:12.300372Z"
    }
   },
   "outputs": [],
   "source": [
    "rfeats= feature_select(train_pca,y_train,RandomForestClassifier,min_features=10)\n",
    "X_train_best_for = train_pca[rfeats]\n",
    "X_test_best_for = test_pca[rfeats]"
   ]
  },
  {
   "cell_type": "code",
   "execution_count": 116,
   "metadata": {
    "ExecuteTime": {
     "end_time": "2022-01-21T17:56:00.715446Z",
     "start_time": "2022-01-21T17:55:27.010921Z"
    }
   },
   "outputs": [
    {
     "name": "stdout",
     "output_type": "stream",
     "text": [
      "Number of Trees: 150\n",
      "criterion: gini\n",
      "Mean Cross-Val Score: 0.45191256830601095\n",
      "Train Mean Accuracy: 0.6105610561056105\n",
      "Test Mean Accuracy: 0.6133333333333333\n",
      "Recall Score: 0.5714285714285714\n",
      "Precision Score: 0.6857142857142857\n",
      "F1 score: 0.6233766233766234\n"
     ]
    },
    {
     "data": {
      "image/png": "[encoded data removed]",
      "text/plain": [
       "<Figure size 432x288 with 1 Axes>"
      ]
     },
     "metadata": {
      "needs_background": "light"
     },
     "output_type": "display_data"
    },
    {
     "data": {
      "image/png": "[encoded data removed]",
      "text/plain": [
       "<Figure size 432x288 with 2 Axes>"
      ]
     },
     "metadata": {
      "needs_background": "light"
     },
     "output_type": "display_data"
    },
    {
     "data": {
      "image/png": "[encoded data removed]",
      "text/plain": [
       "<Figure size 432x288 with 2 Axes>"
      ]
     },
     "metadata": {
      "needs_background": "light"
     },
     "output_type": "display_data"
    }
   ],
   "source": [
    "predictions,probabilities=random_forest(X_train_best_for,X_test_best_for,y_train,y_test)"
   ]
  },
  {
   "cell_type": "code",
   "execution_count": 117,
   "metadata": {
    "ExecuteTime": {
     "end_time": "2022-01-21T17:56:00.774254Z",
     "start_time": "2022-01-21T17:56:00.721282Z"
    }
   },
   "outputs": [
    {
     "data": {
      "text/plain": [
       "(1.0, 17)"
      ]
     },
     "execution_count": 117,
     "metadata": {},
     "output_type": "execute_result"
    }
   ],
   "source": [
    "new_acc(probabilities)"
   ]
  },
  {
   "cell_type": "markdown",
   "metadata": {},
   "source": [
    "### Random Forest with PCA and dropped zero importance features"
   ]
  },
  {
   "cell_type": "code",
   "execution_count": 118,
   "metadata": {
    "ExecuteTime": {
     "end_time": "2022-01-21T17:56:59.401628Z",
     "start_time": "2022-01-21T17:56:46.390307Z"
    }
   },
   "outputs": [],
   "source": [
    "rfeats= feature_select(train_pca_zero,y_train,RandomForestClassifier,min_features=10)\n",
    "X_train_best_for = train_pca_zero[rfeats]\n",
    "X_test_best_for = test_pca_zero[rfeats]"
   ]
  },
  {
   "cell_type": "code",
   "execution_count": 119,
   "metadata": {
    "ExecuteTime": {
     "end_time": "2022-01-21T17:57:47.503851Z",
     "start_time": "2022-01-21T17:56:59.411009Z"
    }
   },
   "outputs": [
    {
     "name": "stdout",
     "output_type": "stream",
     "text": [
      "Number of Trees: 500\n",
      "criterion: entropy\n",
      "Mean Cross-Val Score: 0.45513661202185796\n",
      "Train Mean Accuracy: 0.6105610561056105\n",
      "Test Mean Accuracy: 0.64\n",
      "Recall Score: 0.7619047619047619\n",
      "Precision Score: 0.6530612244897959\n",
      "F1 score: 0.7032967032967032\n"
     ]
    },
    {
     "data": {
      "image/png": "[encoded data removed]",
      "text/plain": [
       "<Figure size 432x288 with 1 Axes>"
      ]
     },
     "metadata": {
      "needs_background": "light"
     },
     "output_type": "display_data"
    },
    {
     "data": {
      "image/png": "[encoded data removed]",
      "text/plain": [
       "<Figure size 432x288 with 2 Axes>"
      ]
     },
     "metadata": {
      "needs_background": "light"
     },
     "output_type": "display_data"
    },
    {
     "data": {
      "image/png": "[encoded data removed]",
      "text/plain": [
       "<Figure size 432x288 with 2 Axes>"
      ]
     },
     "metadata": {
      "needs_background": "light"
     },
     "output_type": "display_data"
    }
   ],
   "source": [
    "predictions,probabilities=random_forest(X_train_best_for,X_test_best_for,y_train,y_test)"
   ]
  },
  {
   "cell_type": "code",
   "execution_count": 120,
   "metadata": {
    "ExecuteTime": {
     "end_time": "2022-01-21T17:57:47.538823Z",
     "start_time": "2022-01-21T17:57:47.513113Z"
    }
   },
   "outputs": [
    {
     "data": {
      "text/plain": [
       "(1.0, 17)"
      ]
     },
     "execution_count": 120,
     "metadata": {},
     "output_type": "execute_result"
    }
   ],
   "source": [
    "new_acc(probabilities)"
   ]
  },
  {
   "cell_type": "markdown",
   "metadata": {},
   "source": [
    "# 2021"
   ]
  },
  {
   "cell_type": "markdown",
   "metadata": {
    "heading_collapsed": true
   },
   "source": [
    "### Data Gathering and Formatting"
   ]
  },
  {
   "cell_type": "code",
   "execution_count": 121,
   "metadata": {
    "ExecuteTime": {
     "end_time": "2022-01-21T17:57:52.306206Z",
     "start_time": "2022-01-21T17:57:52.249038Z"
    },
    "hidden": true
   },
   "outputs": [],
   "source": [
    "df=pd.read_csv('../data/Season_2021.csv')"
   ]
  },
  {
   "cell_type": "code",
   "execution_count": 122,
   "metadata": {
    "ExecuteTime": {
     "end_time": "2022-01-21T17:58:07.859514Z",
     "start_time": "2022-01-21T17:58:07.851691Z"
    },
    "hidden": true
   },
   "outputs": [],
   "source": [
    "df.drop(['Unnamed: 0'],axis=1,inplace=True)"
   ]
  },
  {
   "cell_type": "code",
   "execution_count": 123,
   "metadata": {
    "ExecuteTime": {
     "end_time": "2022-01-21T17:58:15.851701Z",
     "start_time": "2022-01-21T17:58:15.846151Z"
    },
    "hidden": true
   },
   "outputs": [],
   "source": [
    "n = 75\n",
    "df=df.head(int(len(df)*(n/100)))"
   ]
  },
  {
   "cell_type": "code",
   "execution_count": 124,
   "metadata": {
    "ExecuteTime": {
     "end_time": "2022-01-21T17:58:23.960884Z",
     "start_time": "2022-01-21T17:58:23.954440Z"
    },
    "hidden": true
   },
   "outputs": [],
   "source": [
    "n = 25\n",
    "df2=df.tail(int(len(df)*(n/100)))"
   ]
  },
  {
   "cell_type": "code",
   "execution_count": 125,
   "metadata": {
    "ExecuteTime": {
     "end_time": "2022-01-21T17:58:35.338450Z",
     "start_time": "2022-01-21T17:58:35.330532Z"
    },
    "hidden": true
   },
   "outputs": [],
   "source": [
    "df=df.drop(['H_win_probability_subtracted','A_win_probability_subtracted','A_Opp_win_probability_subtracted',\n",
    "          'H_Opp_win_probability_subtracted'],axis=1)\n",
    "df2=df2.drop(['H_win_probability_subtracted','A_win_probability_subtracted','A_Opp_win_probability_subtracted',\n",
    "          'H_Opp_win_probability_subtracted'],axis=1)"
   ]
  },
  {
   "cell_type": "code",
   "execution_count": 126,
   "metadata": {
    "ExecuteTime": {
     "end_time": "2022-01-21T17:58:47.493598Z",
     "start_time": "2022-01-21T17:58:47.470930Z"
    },
    "hidden": true
   },
   "outputs": [],
   "source": [
    "X_train_scaled,X_test_scaled,y_train,y_test=data_preprocessing(df,df2)"
   ]
  },
  {
   "cell_type": "code",
   "execution_count": 127,
   "metadata": {
    "ExecuteTime": {
     "end_time": "2022-01-21T17:58:54.831289Z",
     "start_time": "2022-01-21T17:58:54.820734Z"
    },
    "hidden": true
   },
   "outputs": [],
   "source": [
    "zero_imp_train=X_train_scaled.drop(zero_importance_list,axis=1)\n",
    "zero_imp_test=X_test_scaled.drop(zero_importance_list,axis=1)"
   ]
  },
  {
   "cell_type": "markdown",
   "metadata": {
    "heading_collapsed": true
   },
   "source": [
    "### PCA"
   ]
  },
  {
   "cell_type": "code",
   "execution_count": 128,
   "metadata": {
    "ExecuteTime": {
     "end_time": "2022-01-21T17:59:10.836192Z",
     "start_time": "2022-01-21T17:59:10.756539Z"
    },
    "hidden": true
   },
   "outputs": [],
   "source": [
    "pca=PCA(n_components=0.9)\n",
    "train_pca=pca.fit_transform(X_train_scaled)\n",
    "test_pca=pca.transform(X_test_scaled)\n",
    "train_pca = pd.DataFrame(train_pca)\n",
    "test_pca = pd.DataFrame(test_pca)"
   ]
  },
  {
   "cell_type": "code",
   "execution_count": 129,
   "metadata": {
    "ExecuteTime": {
     "end_time": "2022-01-21T17:59:18.011720Z",
     "start_time": "2022-01-21T17:59:17.927576Z"
    },
    "hidden": true
   },
   "outputs": [],
   "source": [
    "pca=PCA(n_components=0.9)\n",
    "train_pca_zero=pca.fit_transform(zero_imp_train)\n",
    "test_pca_zero=pca.transform(zero_imp_test)\n",
    "train_pca_zero = pd.DataFrame(train_pca_zero)\n",
    "test_pca_zero = pd.DataFrame(test_pca_zero)"
   ]
  },
  {
   "cell_type": "markdown",
   "metadata": {},
   "source": [
    "### Random Forest PCA All Features"
   ]
  },
  {
   "cell_type": "code",
   "execution_count": 130,
   "metadata": {
    "ExecuteTime": {
     "end_time": "2022-01-21T17:59:54.981427Z",
     "start_time": "2022-01-21T17:59:41.861211Z"
    }
   },
   "outputs": [],
   "source": [
    "rfeats= feature_select(train_pca,y_train,RandomForestClassifier,min_features=10)\n",
    "X_train_best_for = train_pca[rfeats]\n",
    "X_test_best_for = test_pca[rfeats]"
   ]
  },
  {
   "cell_type": "code",
   "execution_count": 131,
   "metadata": {
    "ExecuteTime": {
     "end_time": "2022-01-21T18:00:40.801303Z",
     "start_time": "2022-01-21T17:59:54.985605Z"
    }
   },
   "outputs": [
    {
     "name": "stdout",
     "output_type": "stream",
     "text": [
      "Number of Trees: 75\n",
      "criterion: gini\n",
      "Mean Cross-Val Score: 0.45023145868216297\n",
      "Train Mean Accuracy: 0.5680224403927069\n",
      "Test Mean Accuracy: 0.5674157303370787\n",
      "Recall Score: 0.6086956521739131\n",
      "Precision Score: 0.5773195876288659\n",
      "F1 score: 0.5925925925925926\n"
     ]
    },
    {
     "data": {
      "image/png": "[encoded data removed]",
      "text/plain": [
       "<Figure size 432x288 with 1 Axes>"
      ]
     },
     "metadata": {
      "needs_background": "light"
     },
     "output_type": "display_data"
    },
    {
     "data": {
      "image/png": "[encoded data removed]",
      "text/plain": [
       "<Figure size 432x288 with 2 Axes>"
      ]
     },
     "metadata": {
      "needs_background": "light"
     },
     "output_type": "display_data"
    },
    {
     "data": {
      "image/png": "[encoded data removed]",
      "text/plain": [
       "<Figure size 432x288 with 2 Axes>"
      ]
     },
     "metadata": {
      "needs_background": "light"
     },
     "output_type": "display_data"
    }
   ],
   "source": [
    "predictions,probabilities=random_forest(X_train_best_for,X_test_best_for,y_train,y_test)"
   ]
  },
  {
   "cell_type": "code",
   "execution_count": 132,
   "metadata": {
    "ExecuteTime": {
     "end_time": "2022-01-21T18:00:40.876427Z",
     "start_time": "2022-01-21T18:00:40.808587Z"
    }
   },
   "outputs": [
    {
     "data": {
      "text/plain": [
       "(0.9666666666666667, 29)"
      ]
     },
     "execution_count": 132,
     "metadata": {},
     "output_type": "execute_result"
    }
   ],
   "source": [
    "new_acc(probabilities)"
   ]
  },
  {
   "cell_type": "markdown",
   "metadata": {},
   "source": [
    "### Random Forest PCA dropped zero importance features"
   ]
  },
  {
   "cell_type": "code",
   "execution_count": 133,
   "metadata": {
    "ExecuteTime": {
     "end_time": "2022-01-21T18:00:56.586854Z",
     "start_time": "2022-01-21T18:00:40.892549Z"
    }
   },
   "outputs": [],
   "source": [
    "rfeats= feature_select(train_pca_zero,y_train,RandomForestClassifier,min_features=10)\n",
    "X_train_best_for = train_pca_zero[rfeats]\n",
    "X_test_best_for = test_pca_zero[rfeats]"
   ]
  },
  {
   "cell_type": "code",
   "execution_count": 134,
   "metadata": {
    "ExecuteTime": {
     "end_time": "2022-01-21T18:01:48.652051Z",
     "start_time": "2022-01-21T18:00:56.589736Z"
    }
   },
   "outputs": [
    {
     "name": "stdout",
     "output_type": "stream",
     "text": [
      "Number of Trees: 90\n",
      "criterion: gini\n",
      "Mean Cross-Val Score: 0.4530286614793657\n",
      "Train Mean Accuracy: 0.5680224403927069\n",
      "Test Mean Accuracy: 0.5786516853932584\n",
      "Recall Score: 0.5978260869565217\n",
      "Precision Score: 0.5913978494623656\n",
      "F1 score: 0.5945945945945945\n"
     ]
    },
    {
     "data": {
      "image/png": "[encoded data removed]",
      "text/plain": [
       "<Figure size 432x288 with 1 Axes>"
      ]
     },
     "metadata": {
      "needs_background": "light"
     },
     "output_type": "display_data"
    },
    {
     "data": {
      "image/png": "[encoded data removed]",
      "text/plain": [
       "<Figure size 432x288 with 2 Axes>"
      ]
     },
     "metadata": {
      "needs_background": "light"
     },
     "output_type": "display_data"
    },
    {
     "data": {
      "image/png": "[encoded data removed]",
      "text/plain": [
       "<Figure size 432x288 with 2 Axes>"
      ]
     },
     "metadata": {
      "needs_background": "light"
     },
     "output_type": "display_data"
    }
   ],
   "source": [
    "predictions,probabilities=random_forest(X_train_best_for,X_test_best_for,y_train,y_test)"
   ]
  },
  {
   "cell_type": "code",
   "execution_count": 135,
   "metadata": {
    "ExecuteTime": {
     "end_time": "2022-01-21T18:01:48.834017Z",
     "start_time": "2022-01-21T18:01:48.805278Z"
    }
   },
   "outputs": [
    {
     "data": {
      "text/plain": [
       "(1.0, 28)"
      ]
     },
     "execution_count": 135,
     "metadata": {},
     "output_type": "execute_result"
    }
   ],
   "source": [
    "new_acc(probabilities)"
   ]
  },
  {
   "cell_type": "code",
   "execution_count": null,
   "metadata": {},
   "outputs": [],
   "source": []
  }
 ],
 "metadata": {
  "kernelspec": {
   "display_name": "Python (learn-env)",
   "language": "python",
   "name": "learn-env"
  },
  "language_info": {
   "codemirror_mode": {
    "name": "ipython",
    "version": 3
   },
   "file_extension": ".py",
   "mimetype": "text/x-python",
   "name": "python",
   "nbconvert_exporter": "python",
   "pygments_lexer": "ipython3",
   "version": "3.8.5"
  },
  "notify_time": "30"
 },
 "nbformat": 4,
 "nbformat_minor": 4
}

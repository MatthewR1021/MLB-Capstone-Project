{
 "cells": [
  {
   "cell_type": "code",
   "execution_count": 362,
   "metadata": {
    "ExecuteTime": {
     "end_time": "2022-01-10T18:55:10.188887Z",
     "start_time": "2022-01-10T18:55:10.177898Z"
    }
   },
   "outputs": [],
   "source": [
    "import pandas as pd\n",
    "import numpy as np\n",
    "from sportsipy.mlb.boxscore import Boxscore\n",
    "from sportsipy.mlb.boxscore import Boxscores"
   ]
  },
  {
   "cell_type": "code",
   "execution_count": 2,
   "metadata": {
    "ExecuteTime": {
     "end_time": "2022-01-10T14:58:15.609018Z",
     "start_time": "2022-01-10T14:58:12.384861Z"
    }
   },
   "outputs": [
    {
     "name": "stdout",
     "output_type": "stream",
     "text": [
      "15\n",
      "7\n"
     ]
    }
   ],
   "source": [
    "game_data = Boxscore('BOS/BOS201808020')\n",
    "print(game_data.home_runs)  # Prints 15\n",
    "print(game_data.away_runs)  # Prints 7\n",
    "df = game_data.dataframe\n",
    "from datetime import datetime\n",
    "from sportsipy.mlb.boxscore import Boxscores\n",
    "\n",
    "games = Boxscores(datetime(2017, 7, 17), datetime(2017, 7, 20))"
   ]
  },
  {
   "cell_type": "code",
   "execution_count": 3,
   "metadata": {
    "ExecuteTime": {
     "end_time": "2022-01-10T14:58:15.626638Z",
     "start_time": "2022-01-10T14:58:15.613229Z"
    }
   },
   "outputs": [],
   "source": [
    "games_dict=games.games"
   ]
  },
  {
   "cell_type": "code",
   "execution_count": 4,
   "metadata": {
    "ExecuteTime": {
     "end_time": "2022-01-10T14:58:16.317772Z",
     "start_time": "2022-01-10T14:58:16.311900Z"
    }
   },
   "outputs": [],
   "source": [
    "def get_current_games(date,end_date,end_week=None):\n",
    "    \n",
    "    games = Boxscores(date,end_date)\n",
    "    schedule = games.games\n",
    "\n",
    "    game_days = []\n",
    "    for day in schedule.values():\n",
    "        for game in day:\n",
    "            game_days.append(game['boxscore'])\n",
    "            \n",
    "    season_games = []\n",
    "\n",
    "    for i in game_days:\n",
    "        temp = Boxscore(i).dataframe\n",
    "        season_games.append(temp)\n",
    "\n",
    "    df = pd.concat(season_games, axis = 0).reset_index()\n",
    "\n",
    "    return df"
   ]
  },
  {
   "cell_type": "code",
   "execution_count": 5,
   "metadata": {
    "ExecuteTime": {
     "end_time": "2022-01-10T14:58:17.220230Z",
     "start_time": "2022-01-10T14:58:17.214888Z"
    }
   },
   "outputs": [],
   "source": [
    "#seasons16_21=get_current_games(datetime(2016, 4, 3),datetime(2021, 10, 3))"
   ]
  },
  {
   "cell_type": "code",
   "execution_count": 6,
   "metadata": {
    "ExecuteTime": {
     "end_time": "2022-01-10T14:58:17.882474Z",
     "start_time": "2022-01-10T14:58:17.877714Z"
    }
   },
   "outputs": [],
   "source": [
    "#seasons16_21.head()"
   ]
  },
  {
   "cell_type": "code",
   "execution_count": 7,
   "metadata": {
    "ExecuteTime": {
     "end_time": "2022-01-10T14:58:18.896172Z",
     "start_time": "2022-01-10T14:58:18.891712Z"
    },
    "scrolled": true
   },
   "outputs": [],
   "source": [
    "#seasons16_21.to_csv('seasons16_to_21.csv')"
   ]
  },
  {
   "cell_type": "code",
   "execution_count": 9,
   "metadata": {
    "ExecuteTime": {
     "end_time": "2022-01-10T14:58:24.781163Z",
     "start_time": "2022-01-10T14:58:24.776241Z"
    }
   },
   "outputs": [],
   "source": [
    "#seasons16_21.info()"
   ]
  },
  {
   "cell_type": "code",
   "execution_count": 13,
   "metadata": {
    "ExecuteTime": {
     "end_time": "2022-01-10T14:59:54.183117Z",
     "start_time": "2022-01-10T14:59:53.958814Z"
    }
   },
   "outputs": [],
   "source": [
    "df=pd.read_csv('seasons16_to_21.csv')"
   ]
  },
  {
   "cell_type": "markdown",
   "metadata": {},
   "source": [
    "# Data Exploration"
   ]
  },
  {
   "cell_type": "code",
   "execution_count": 14,
   "metadata": {
    "ExecuteTime": {
     "end_time": "2022-01-10T14:59:58.380280Z",
     "start_time": "2022-01-10T14:59:58.308109Z"
    }
   },
   "outputs": [
    {
     "data": {
      "text/html": [
       "<div>\n",
       "<style scoped>\n",
       "    .dataframe tbody tr th:only-of-type {\n",
       "        vertical-align: middle;\n",
       "    }\n",
       "\n",
       "    .dataframe tbody tr th {\n",
       "        vertical-align: top;\n",
       "    }\n",
       "\n",
       "    .dataframe thead th {\n",
       "        text-align: right;\n",
       "    }\n",
       "</style>\n",
       "<table border=\"1\" class=\"dataframe\">\n",
       "  <thead>\n",
       "    <tr style=\"text-align: right;\">\n",
       "      <th></th>\n",
       "      <th>Unnamed: 0</th>\n",
       "      <th>index</th>\n",
       "      <th>date</th>\n",
       "      <th>time</th>\n",
       "      <th>venue</th>\n",
       "      <th>attendance</th>\n",
       "      <th>duration</th>\n",
       "      <th>time_of_day</th>\n",
       "      <th>winner</th>\n",
       "      <th>winning_name</th>\n",
       "      <th>...</th>\n",
       "      <th>home_strikes_looking</th>\n",
       "      <th>home_grounded_balls</th>\n",
       "      <th>home_fly_balls</th>\n",
       "      <th>home_line_drives</th>\n",
       "      <th>home_unknown_bat_type</th>\n",
       "      <th>home_game_score</th>\n",
       "      <th>home_inherited_runners</th>\n",
       "      <th>home_inherited_score</th>\n",
       "      <th>home_win_probability_by_pitcher</th>\n",
       "      <th>home_base_out_runs_saved</th>\n",
       "    </tr>\n",
       "  </thead>\n",
       "  <tbody>\n",
       "    <tr>\n",
       "      <th>0</th>\n",
       "      <td>0</td>\n",
       "      <td>PIT/PIT201604030</td>\n",
       "      <td>Sunday, April 3, 2016</td>\n",
       "      <td>1:15 p.m. Local</td>\n",
       "      <td>PNC Park</td>\n",
       "      <td>39500.0</td>\n",
       "      <td>3:02</td>\n",
       "      <td>Day</td>\n",
       "      <td>Home</td>\n",
       "      <td>Pittsburgh Pirates</td>\n",
       "      <td>...</td>\n",
       "      <td>28</td>\n",
       "      <td>10</td>\n",
       "      <td>15</td>\n",
       "      <td>8</td>\n",
       "      <td>0</td>\n",
       "      <td>71</td>\n",
       "      <td>0.0</td>\n",
       "      <td>0.0</td>\n",
       "      <td>0.431</td>\n",
       "      <td>3.4</td>\n",
       "    </tr>\n",
       "    <tr>\n",
       "      <th>1</th>\n",
       "      <td>1</td>\n",
       "      <td>TBA/TBA201604030</td>\n",
       "      <td>Sunday, April 3, 2016</td>\n",
       "      <td>4:09 p.m. Local</td>\n",
       "      <td>Tropicana Field</td>\n",
       "      <td>31042.0</td>\n",
       "      <td>2:51</td>\n",
       "      <td>Day</td>\n",
       "      <td>Away</td>\n",
       "      <td>Toronto Blue Jays</td>\n",
       "      <td>...</td>\n",
       "      <td>22</td>\n",
       "      <td>18</td>\n",
       "      <td>10</td>\n",
       "      <td>6</td>\n",
       "      <td>0</td>\n",
       "      <td>56</td>\n",
       "      <td>0.0</td>\n",
       "      <td>0.0</td>\n",
       "      <td>-0.135</td>\n",
       "      <td>-0.7</td>\n",
       "    </tr>\n",
       "    <tr>\n",
       "      <th>2</th>\n",
       "      <td>2</td>\n",
       "      <td>KCA/KCA201604030</td>\n",
       "      <td>Sunday, April 3, 2016</td>\n",
       "      <td>7:38 p.m. Local</td>\n",
       "      <td>Kauffman Stadium</td>\n",
       "      <td>40030.0</td>\n",
       "      <td>3:13</td>\n",
       "      <td>Night</td>\n",
       "      <td>Home</td>\n",
       "      <td>Kansas City Royals</td>\n",
       "      <td>...</td>\n",
       "      <td>22</td>\n",
       "      <td>18</td>\n",
       "      <td>10</td>\n",
       "      <td>5</td>\n",
       "      <td>0</td>\n",
       "      <td>70</td>\n",
       "      <td>2.0</td>\n",
       "      <td>0.0</td>\n",
       "      <td>0.449</td>\n",
       "      <td>1.7</td>\n",
       "    </tr>\n",
       "    <tr>\n",
       "      <th>3</th>\n",
       "      <td>3</td>\n",
       "      <td>MIL/MIL201604040</td>\n",
       "      <td>Monday, April 4, 2016</td>\n",
       "      <td>1:11 p.m. Local</td>\n",
       "      <td>Miller Park</td>\n",
       "      <td>44318.0</td>\n",
       "      <td>3:35</td>\n",
       "      <td>Day</td>\n",
       "      <td>Away</td>\n",
       "      <td>San Francisco Giants</td>\n",
       "      <td>...</td>\n",
       "      <td>29</td>\n",
       "      <td>8</td>\n",
       "      <td>14</td>\n",
       "      <td>8</td>\n",
       "      <td>0</td>\n",
       "      <td>32</td>\n",
       "      <td>1.0</td>\n",
       "      <td>0.0</td>\n",
       "      <td>-0.492</td>\n",
       "      <td>-7.4</td>\n",
       "    </tr>\n",
       "    <tr>\n",
       "      <th>4</th>\n",
       "      <td>4</td>\n",
       "      <td>BAL/BAL201604040</td>\n",
       "      <td>Monday, April 4, 2016</td>\n",
       "      <td>4:46 p.m. Local</td>\n",
       "      <td>Oriole Park at Camden Yards</td>\n",
       "      <td>45785.0</td>\n",
       "      <td>2:48</td>\n",
       "      <td>Day</td>\n",
       "      <td>Home</td>\n",
       "      <td>Baltimore Orioles</td>\n",
       "      <td>...</td>\n",
       "      <td>25</td>\n",
       "      <td>8</td>\n",
       "      <td>18</td>\n",
       "      <td>6</td>\n",
       "      <td>0</td>\n",
       "      <td>61</td>\n",
       "      <td>2.0</td>\n",
       "      <td>1.0</td>\n",
       "      <td>0.376</td>\n",
       "      <td>2.7</td>\n",
       "    </tr>\n",
       "  </tbody>\n",
       "</table>\n",
       "<p>5 rows × 83 columns</p>\n",
       "</div>"
      ],
      "text/plain": [
       "   Unnamed: 0             index                   date             time  \\\n",
       "0           0  PIT/PIT201604030  Sunday, April 3, 2016  1:15 p.m. Local   \n",
       "1           1  TBA/TBA201604030  Sunday, April 3, 2016  4:09 p.m. Local   \n",
       "2           2  KCA/KCA201604030  Sunday, April 3, 2016  7:38 p.m. Local   \n",
       "3           3  MIL/MIL201604040  Monday, April 4, 2016  1:11 p.m. Local   \n",
       "4           4  BAL/BAL201604040  Monday, April 4, 2016  4:46 p.m. Local   \n",
       "\n",
       "                         venue  attendance duration time_of_day winner  \\\n",
       "0                     PNC Park     39500.0     3:02         Day   Home   \n",
       "1              Tropicana Field     31042.0     2:51         Day   Away   \n",
       "2             Kauffman Stadium     40030.0     3:13       Night   Home   \n",
       "3                  Miller Park     44318.0     3:35         Day   Away   \n",
       "4  Oriole Park at Camden Yards     45785.0     2:48         Day   Home   \n",
       "\n",
       "           winning_name  ... home_strikes_looking home_grounded_balls  \\\n",
       "0    Pittsburgh Pirates  ...                   28                  10   \n",
       "1     Toronto Blue Jays  ...                   22                  18   \n",
       "2    Kansas City Royals  ...                   22                  18   \n",
       "3  San Francisco Giants  ...                   29                   8   \n",
       "4     Baltimore Orioles  ...                   25                   8   \n",
       "\n",
       "  home_fly_balls  home_line_drives  home_unknown_bat_type  home_game_score  \\\n",
       "0             15                 8                      0               71   \n",
       "1             10                 6                      0               56   \n",
       "2             10                 5                      0               70   \n",
       "3             14                 8                      0               32   \n",
       "4             18                 6                      0               61   \n",
       "\n",
       "   home_inherited_runners  home_inherited_score  \\\n",
       "0                     0.0                   0.0   \n",
       "1                     0.0                   0.0   \n",
       "2                     2.0                   0.0   \n",
       "3                     1.0                   0.0   \n",
       "4                     2.0                   1.0   \n",
       "\n",
       "   home_win_probability_by_pitcher  home_base_out_runs_saved  \n",
       "0                            0.431                       3.4  \n",
       "1                           -0.135                      -0.7  \n",
       "2                            0.449                       1.7  \n",
       "3                           -0.492                      -7.4  \n",
       "4                            0.376                       2.7  \n",
       "\n",
       "[5 rows x 83 columns]"
      ]
     },
     "execution_count": 14,
     "metadata": {},
     "output_type": "execute_result"
    }
   ],
   "source": [
    "df.head()"
   ]
  },
  {
   "cell_type": "code",
   "execution_count": 99,
   "metadata": {
    "ExecuteTime": {
     "end_time": "2022-01-10T16:47:35.507703Z",
     "start_time": "2022-01-10T16:47:35.496060Z"
    }
   },
   "outputs": [
    {
     "data": {
      "text/plain": [
       "Index(['Unnamed: 0', 'index', 'date', 'time', 'venue', 'attendance',\n",
       "       'duration', 'time_of_day', 'winner', 'winning_name', 'winning_abbr',\n",
       "       'losing_name', 'losing_abbr', 'away_at_bats', 'away_runs', 'away_hits',\n",
       "       'away_rbi', 'away_earned_runs', 'away_bases_on_balls',\n",
       "       'away_strikeouts', 'away_plate_appearances', 'away_batting_average',\n",
       "       'away_on_base_percentage', 'away_slugging_percentage',\n",
       "       'away_on_base_plus', 'away_pitches', 'away_strikes',\n",
       "       'away_win_probability_for_offensive_player',\n",
       "       'away_average_leverage_index', 'away_win_probability_added',\n",
       "       'away_win_probability_subtracted', 'away_base_out_runs_added',\n",
       "       'away_putouts', 'away_assists', 'away_innings_pitched',\n",
       "       'away_home_runs', 'away_strikes_by_contact', 'away_strikes_swinging',\n",
       "       'away_strikes_looking', 'away_grounded_balls', 'away_fly_balls',\n",
       "       'away_line_drives', 'away_unknown_bat_type', 'away_game_score',\n",
       "       'away_inherited_runners', 'away_inherited_score',\n",
       "       'away_win_probability_by_pitcher', 'away_base_out_runs_saved',\n",
       "       'home_at_bats', 'home_runs', 'home_hits', 'home_rbi',\n",
       "       'home_earned_runs', 'home_bases_on_balls', 'home_strikeouts',\n",
       "       'home_plate_appearances', 'home_batting_average',\n",
       "       'home_on_base_percentage', 'home_slugging_percentage',\n",
       "       'home_on_base_plus', 'home_pitches', 'home_strikes',\n",
       "       'home_win_probability_for_offensive_player',\n",
       "       'home_average_leverage_index', 'home_win_probability_added',\n",
       "       'home_win_probability_subtracted', 'home_base_out_runs_added',\n",
       "       'home_putouts', 'home_assists', 'home_innings_pitched',\n",
       "       'home_home_runs', 'home_strikes_by_contact', 'home_strikes_swinging',\n",
       "       'home_strikes_looking', 'home_grounded_balls', 'home_fly_balls',\n",
       "       'home_line_drives', 'home_unknown_bat_type', 'home_game_score',\n",
       "       'home_inherited_runners', 'home_inherited_score',\n",
       "       'home_win_probability_by_pitcher', 'home_base_out_runs_saved'],\n",
       "      dtype='object')"
      ]
     },
     "execution_count": 99,
     "metadata": {},
     "output_type": "execute_result"
    }
   ],
   "source": [
    "df.columns"
   ]
  },
  {
   "cell_type": "code",
   "execution_count": 103,
   "metadata": {
    "ExecuteTime": {
     "end_time": "2022-01-10T16:50:12.890227Z",
     "start_time": "2022-01-10T16:50:12.834017Z"
    }
   },
   "outputs": [
    {
     "data": {
      "text/html": [
       "<div>\n",
       "<style scoped>\n",
       "    .dataframe tbody tr th:only-of-type {\n",
       "        vertical-align: middle;\n",
       "    }\n",
       "\n",
       "    .dataframe tbody tr th {\n",
       "        vertical-align: top;\n",
       "    }\n",
       "\n",
       "    .dataframe thead th {\n",
       "        text-align: right;\n",
       "    }\n",
       "</style>\n",
       "<table border=\"1\" class=\"dataframe\">\n",
       "  <thead>\n",
       "    <tr style=\"text-align: right;\">\n",
       "      <th></th>\n",
       "      <th>Unnamed: 0</th>\n",
       "      <th>index</th>\n",
       "      <th>date</th>\n",
       "      <th>time</th>\n",
       "      <th>venue</th>\n",
       "      <th>attendance</th>\n",
       "      <th>duration</th>\n",
       "      <th>time_of_day</th>\n",
       "      <th>winner</th>\n",
       "      <th>winning_name</th>\n",
       "      <th>...</th>\n",
       "      <th>home_strikes_looking</th>\n",
       "      <th>home_grounded_balls</th>\n",
       "      <th>home_fly_balls</th>\n",
       "      <th>home_line_drives</th>\n",
       "      <th>home_unknown_bat_type</th>\n",
       "      <th>home_game_score</th>\n",
       "      <th>home_inherited_runners</th>\n",
       "      <th>home_inherited_score</th>\n",
       "      <th>home_win_probability_by_pitcher</th>\n",
       "      <th>home_base_out_runs_saved</th>\n",
       "    </tr>\n",
       "  </thead>\n",
       "  <tbody>\n",
       "    <tr>\n",
       "      <th>0</th>\n",
       "      <td>0</td>\n",
       "      <td>PIT/PIT201604030</td>\n",
       "      <td>Sunday, April 3, 2016</td>\n",
       "      <td>1:15 p.m. Local</td>\n",
       "      <td>PNC Park</td>\n",
       "      <td>39500.0</td>\n",
       "      <td>3:02</td>\n",
       "      <td>Day</td>\n",
       "      <td>Home</td>\n",
       "      <td>Pittsburgh Pirates</td>\n",
       "      <td>...</td>\n",
       "      <td>28</td>\n",
       "      <td>10</td>\n",
       "      <td>15</td>\n",
       "      <td>8</td>\n",
       "      <td>0</td>\n",
       "      <td>71</td>\n",
       "      <td>0.0</td>\n",
       "      <td>0.0</td>\n",
       "      <td>0.431</td>\n",
       "      <td>3.4</td>\n",
       "    </tr>\n",
       "    <tr>\n",
       "      <th>1</th>\n",
       "      <td>1</td>\n",
       "      <td>TBA/TBA201604030</td>\n",
       "      <td>Sunday, April 3, 2016</td>\n",
       "      <td>4:09 p.m. Local</td>\n",
       "      <td>Tropicana Field</td>\n",
       "      <td>31042.0</td>\n",
       "      <td>2:51</td>\n",
       "      <td>Day</td>\n",
       "      <td>Away</td>\n",
       "      <td>Toronto Blue Jays</td>\n",
       "      <td>...</td>\n",
       "      <td>22</td>\n",
       "      <td>18</td>\n",
       "      <td>10</td>\n",
       "      <td>6</td>\n",
       "      <td>0</td>\n",
       "      <td>56</td>\n",
       "      <td>0.0</td>\n",
       "      <td>0.0</td>\n",
       "      <td>-0.135</td>\n",
       "      <td>-0.7</td>\n",
       "    </tr>\n",
       "    <tr>\n",
       "      <th>2</th>\n",
       "      <td>2</td>\n",
       "      <td>KCA/KCA201604030</td>\n",
       "      <td>Sunday, April 3, 2016</td>\n",
       "      <td>7:38 p.m. Local</td>\n",
       "      <td>Kauffman Stadium</td>\n",
       "      <td>40030.0</td>\n",
       "      <td>3:13</td>\n",
       "      <td>Night</td>\n",
       "      <td>Home</td>\n",
       "      <td>Kansas City Royals</td>\n",
       "      <td>...</td>\n",
       "      <td>22</td>\n",
       "      <td>18</td>\n",
       "      <td>10</td>\n",
       "      <td>5</td>\n",
       "      <td>0</td>\n",
       "      <td>70</td>\n",
       "      <td>2.0</td>\n",
       "      <td>0.0</td>\n",
       "      <td>0.449</td>\n",
       "      <td>1.7</td>\n",
       "    </tr>\n",
       "    <tr>\n",
       "      <th>3</th>\n",
       "      <td>3</td>\n",
       "      <td>MIL/MIL201604040</td>\n",
       "      <td>Monday, April 4, 2016</td>\n",
       "      <td>1:11 p.m. Local</td>\n",
       "      <td>Miller Park</td>\n",
       "      <td>44318.0</td>\n",
       "      <td>3:35</td>\n",
       "      <td>Day</td>\n",
       "      <td>Away</td>\n",
       "      <td>San Francisco Giants</td>\n",
       "      <td>...</td>\n",
       "      <td>29</td>\n",
       "      <td>8</td>\n",
       "      <td>14</td>\n",
       "      <td>8</td>\n",
       "      <td>0</td>\n",
       "      <td>32</td>\n",
       "      <td>1.0</td>\n",
       "      <td>0.0</td>\n",
       "      <td>-0.492</td>\n",
       "      <td>-7.4</td>\n",
       "    </tr>\n",
       "    <tr>\n",
       "      <th>4</th>\n",
       "      <td>4</td>\n",
       "      <td>BAL/BAL201604040</td>\n",
       "      <td>Monday, April 4, 2016</td>\n",
       "      <td>4:46 p.m. Local</td>\n",
       "      <td>Oriole Park at Camden Yards</td>\n",
       "      <td>45785.0</td>\n",
       "      <td>2:48</td>\n",
       "      <td>Day</td>\n",
       "      <td>Home</td>\n",
       "      <td>Baltimore Orioles</td>\n",
       "      <td>...</td>\n",
       "      <td>25</td>\n",
       "      <td>8</td>\n",
       "      <td>18</td>\n",
       "      <td>6</td>\n",
       "      <td>0</td>\n",
       "      <td>61</td>\n",
       "      <td>2.0</td>\n",
       "      <td>1.0</td>\n",
       "      <td>0.376</td>\n",
       "      <td>2.7</td>\n",
       "    </tr>\n",
       "  </tbody>\n",
       "</table>\n",
       "<p>5 rows × 83 columns</p>\n",
       "</div>"
      ],
      "text/plain": [
       "   Unnamed: 0             index                   date             time  \\\n",
       "0           0  PIT/PIT201604030  Sunday, April 3, 2016  1:15 p.m. Local   \n",
       "1           1  TBA/TBA201604030  Sunday, April 3, 2016  4:09 p.m. Local   \n",
       "2           2  KCA/KCA201604030  Sunday, April 3, 2016  7:38 p.m. Local   \n",
       "3           3  MIL/MIL201604040  Monday, April 4, 2016  1:11 p.m. Local   \n",
       "4           4  BAL/BAL201604040  Monday, April 4, 2016  4:46 p.m. Local   \n",
       "\n",
       "                         venue  attendance duration time_of_day winner  \\\n",
       "0                     PNC Park     39500.0     3:02         Day   Home   \n",
       "1              Tropicana Field     31042.0     2:51         Day   Away   \n",
       "2             Kauffman Stadium     40030.0     3:13       Night   Home   \n",
       "3                  Miller Park     44318.0     3:35         Day   Away   \n",
       "4  Oriole Park at Camden Yards     45785.0     2:48         Day   Home   \n",
       "\n",
       "           winning_name  ... home_strikes_looking home_grounded_balls  \\\n",
       "0    Pittsburgh Pirates  ...                   28                  10   \n",
       "1     Toronto Blue Jays  ...                   22                  18   \n",
       "2    Kansas City Royals  ...                   22                  18   \n",
       "3  San Francisco Giants  ...                   29                   8   \n",
       "4     Baltimore Orioles  ...                   25                   8   \n",
       "\n",
       "  home_fly_balls  home_line_drives  home_unknown_bat_type  home_game_score  \\\n",
       "0             15                 8                      0               71   \n",
       "1             10                 6                      0               56   \n",
       "2             10                 5                      0               70   \n",
       "3             14                 8                      0               32   \n",
       "4             18                 6                      0               61   \n",
       "\n",
       "   home_inherited_runners  home_inherited_score  \\\n",
       "0                     0.0                   0.0   \n",
       "1                     0.0                   0.0   \n",
       "2                     2.0                   0.0   \n",
       "3                     1.0                   0.0   \n",
       "4                     2.0                   1.0   \n",
       "\n",
       "   home_win_probability_by_pitcher  home_base_out_runs_saved  \n",
       "0                            0.431                       3.4  \n",
       "1                           -0.135                      -0.7  \n",
       "2                            0.449                       1.7  \n",
       "3                           -0.492                      -7.4  \n",
       "4                            0.376                       2.7  \n",
       "\n",
       "[5 rows x 83 columns]"
      ]
     },
     "execution_count": 103,
     "metadata": {},
     "output_type": "execute_result"
    }
   ],
   "source": [
    "df.head()"
   ]
  },
  {
   "cell_type": "code",
   "execution_count": 131,
   "metadata": {
    "ExecuteTime": {
     "end_time": "2022-01-10T16:55:12.467521Z",
     "start_time": "2022-01-10T16:55:12.282873Z"
    }
   },
   "outputs": [],
   "source": [
    "df.date=pd.to_datetime(df.date)"
   ]
  },
  {
   "cell_type": "code",
   "execution_count": 135,
   "metadata": {
    "ExecuteTime": {
     "end_time": "2022-01-10T16:55:47.081419Z",
     "start_time": "2022-01-10T16:55:47.074651Z"
    }
   },
   "outputs": [],
   "source": [
    "df.set_index(df.date,inplace=True)"
   ]
  },
  {
   "cell_type": "code",
   "execution_count": 143,
   "metadata": {
    "ExecuteTime": {
     "end_time": "2022-01-10T16:57:39.347571Z",
     "start_time": "2022-01-10T16:57:39.339582Z"
    }
   },
   "outputs": [],
   "source": [
    "for column in df.columns:\n",
    "    column.strip()"
   ]
  },
  {
   "cell_type": "code",
   "execution_count": 148,
   "metadata": {
    "ExecuteTime": {
     "end_time": "2022-01-10T16:58:50.042690Z",
     "start_time": "2022-01-10T16:58:50.016341Z"
    }
   },
   "outputs": [],
   "source": [
    "df.drop(['Unnamed: 0','index'],axis=1,inplace=True)"
   ]
  },
  {
   "cell_type": "code",
   "execution_count": 151,
   "metadata": {
    "ExecuteTime": {
     "end_time": "2022-01-10T16:59:32.856270Z",
     "start_time": "2022-01-10T16:59:32.840406Z"
    }
   },
   "outputs": [],
   "source": [
    "df.drop(['date'],axis=1,inplace=True)"
   ]
  },
  {
   "cell_type": "code",
   "execution_count": 154,
   "metadata": {
    "ExecuteTime": {
     "end_time": "2022-01-10T17:03:53.112050Z",
     "start_time": "2022-01-10T17:03:53.046791Z"
    }
   },
   "outputs": [
    {
     "data": {
      "text/html": [
       "<div>\n",
       "<style scoped>\n",
       "    .dataframe tbody tr th:only-of-type {\n",
       "        vertical-align: middle;\n",
       "    }\n",
       "\n",
       "    .dataframe tbody tr th {\n",
       "        vertical-align: top;\n",
       "    }\n",
       "\n",
       "    .dataframe thead th {\n",
       "        text-align: right;\n",
       "    }\n",
       "</style>\n",
       "<table border=\"1\" class=\"dataframe\">\n",
       "  <thead>\n",
       "    <tr style=\"text-align: right;\">\n",
       "      <th></th>\n",
       "      <th>time</th>\n",
       "      <th>venue</th>\n",
       "      <th>attendance</th>\n",
       "      <th>duration</th>\n",
       "      <th>time_of_day</th>\n",
       "      <th>winner</th>\n",
       "      <th>winning_name</th>\n",
       "      <th>winning_abbr</th>\n",
       "      <th>losing_name</th>\n",
       "      <th>losing_abbr</th>\n",
       "      <th>...</th>\n",
       "      <th>home_strikes_looking</th>\n",
       "      <th>home_grounded_balls</th>\n",
       "      <th>home_fly_balls</th>\n",
       "      <th>home_line_drives</th>\n",
       "      <th>home_unknown_bat_type</th>\n",
       "      <th>home_game_score</th>\n",
       "      <th>home_inherited_runners</th>\n",
       "      <th>home_inherited_score</th>\n",
       "      <th>home_win_probability_by_pitcher</th>\n",
       "      <th>home_base_out_runs_saved</th>\n",
       "    </tr>\n",
       "    <tr>\n",
       "      <th>date</th>\n",
       "      <th></th>\n",
       "      <th></th>\n",
       "      <th></th>\n",
       "      <th></th>\n",
       "      <th></th>\n",
       "      <th></th>\n",
       "      <th></th>\n",
       "      <th></th>\n",
       "      <th></th>\n",
       "      <th></th>\n",
       "      <th></th>\n",
       "      <th></th>\n",
       "      <th></th>\n",
       "      <th></th>\n",
       "      <th></th>\n",
       "      <th></th>\n",
       "      <th></th>\n",
       "      <th></th>\n",
       "      <th></th>\n",
       "      <th></th>\n",
       "      <th></th>\n",
       "    </tr>\n",
       "  </thead>\n",
       "  <tbody>\n",
       "    <tr>\n",
       "      <th>2016-04-03</th>\n",
       "      <td>1:15 p.m. Local</td>\n",
       "      <td>PNC Park</td>\n",
       "      <td>39500.0</td>\n",
       "      <td>3:02</td>\n",
       "      <td>Day</td>\n",
       "      <td>Home</td>\n",
       "      <td>Pittsburgh Pirates</td>\n",
       "      <td>PIT</td>\n",
       "      <td>St. Louis Cardinals</td>\n",
       "      <td>STL</td>\n",
       "      <td>...</td>\n",
       "      <td>28</td>\n",
       "      <td>10</td>\n",
       "      <td>15</td>\n",
       "      <td>8</td>\n",
       "      <td>0</td>\n",
       "      <td>71</td>\n",
       "      <td>0.0</td>\n",
       "      <td>0.0</td>\n",
       "      <td>0.431</td>\n",
       "      <td>3.4</td>\n",
       "    </tr>\n",
       "    <tr>\n",
       "      <th>2016-04-03</th>\n",
       "      <td>4:09 p.m. Local</td>\n",
       "      <td>Tropicana Field</td>\n",
       "      <td>31042.0</td>\n",
       "      <td>2:51</td>\n",
       "      <td>Day</td>\n",
       "      <td>Away</td>\n",
       "      <td>Toronto Blue Jays</td>\n",
       "      <td>TOR</td>\n",
       "      <td>Tampa Bay Rays</td>\n",
       "      <td>TBR</td>\n",
       "      <td>...</td>\n",
       "      <td>22</td>\n",
       "      <td>18</td>\n",
       "      <td>10</td>\n",
       "      <td>6</td>\n",
       "      <td>0</td>\n",
       "      <td>56</td>\n",
       "      <td>0.0</td>\n",
       "      <td>0.0</td>\n",
       "      <td>-0.135</td>\n",
       "      <td>-0.7</td>\n",
       "    </tr>\n",
       "    <tr>\n",
       "      <th>2016-04-03</th>\n",
       "      <td>7:38 p.m. Local</td>\n",
       "      <td>Kauffman Stadium</td>\n",
       "      <td>40030.0</td>\n",
       "      <td>3:13</td>\n",
       "      <td>Night</td>\n",
       "      <td>Home</td>\n",
       "      <td>Kansas City Royals</td>\n",
       "      <td>KCR</td>\n",
       "      <td>New York Mets</td>\n",
       "      <td>NYM</td>\n",
       "      <td>...</td>\n",
       "      <td>22</td>\n",
       "      <td>18</td>\n",
       "      <td>10</td>\n",
       "      <td>5</td>\n",
       "      <td>0</td>\n",
       "      <td>70</td>\n",
       "      <td>2.0</td>\n",
       "      <td>0.0</td>\n",
       "      <td>0.449</td>\n",
       "      <td>1.7</td>\n",
       "    </tr>\n",
       "    <tr>\n",
       "      <th>2016-04-04</th>\n",
       "      <td>1:11 p.m. Local</td>\n",
       "      <td>Miller Park</td>\n",
       "      <td>44318.0</td>\n",
       "      <td>3:35</td>\n",
       "      <td>Day</td>\n",
       "      <td>Away</td>\n",
       "      <td>San Francisco Giants</td>\n",
       "      <td>SFG</td>\n",
       "      <td>Milwaukee Brewers</td>\n",
       "      <td>MIL</td>\n",
       "      <td>...</td>\n",
       "      <td>29</td>\n",
       "      <td>8</td>\n",
       "      <td>14</td>\n",
       "      <td>8</td>\n",
       "      <td>0</td>\n",
       "      <td>32</td>\n",
       "      <td>1.0</td>\n",
       "      <td>0.0</td>\n",
       "      <td>-0.492</td>\n",
       "      <td>-7.4</td>\n",
       "    </tr>\n",
       "    <tr>\n",
       "      <th>2016-04-04</th>\n",
       "      <td>4:46 p.m. Local</td>\n",
       "      <td>Oriole Park at Camden Yards</td>\n",
       "      <td>45785.0</td>\n",
       "      <td>2:48</td>\n",
       "      <td>Day</td>\n",
       "      <td>Home</td>\n",
       "      <td>Baltimore Orioles</td>\n",
       "      <td>BAL</td>\n",
       "      <td>Minnesota Twins</td>\n",
       "      <td>MIN</td>\n",
       "      <td>...</td>\n",
       "      <td>25</td>\n",
       "      <td>8</td>\n",
       "      <td>18</td>\n",
       "      <td>6</td>\n",
       "      <td>0</td>\n",
       "      <td>61</td>\n",
       "      <td>2.0</td>\n",
       "      <td>1.0</td>\n",
       "      <td>0.376</td>\n",
       "      <td>2.7</td>\n",
       "    </tr>\n",
       "  </tbody>\n",
       "</table>\n",
       "<p>5 rows × 80 columns</p>\n",
       "</div>"
      ],
      "text/plain": [
       "                       time                        venue  attendance duration  \\\n",
       "date                                                                            \n",
       "2016-04-03  1:15 p.m. Local                     PNC Park     39500.0     3:02   \n",
       "2016-04-03  4:09 p.m. Local              Tropicana Field     31042.0     2:51   \n",
       "2016-04-03  7:38 p.m. Local             Kauffman Stadium     40030.0     3:13   \n",
       "2016-04-04  1:11 p.m. Local                  Miller Park     44318.0     3:35   \n",
       "2016-04-04  4:46 p.m. Local  Oriole Park at Camden Yards     45785.0     2:48   \n",
       "\n",
       "           time_of_day winner          winning_name winning_abbr  \\\n",
       "date                                                               \n",
       "2016-04-03         Day   Home    Pittsburgh Pirates          PIT   \n",
       "2016-04-03         Day   Away     Toronto Blue Jays          TOR   \n",
       "2016-04-03       Night   Home    Kansas City Royals          KCR   \n",
       "2016-04-04         Day   Away  San Francisco Giants          SFG   \n",
       "2016-04-04         Day   Home     Baltimore Orioles          BAL   \n",
       "\n",
       "                    losing_name losing_abbr  ...  home_strikes_looking  \\\n",
       "date                                         ...                         \n",
       "2016-04-03  St. Louis Cardinals         STL  ...                    28   \n",
       "2016-04-03       Tampa Bay Rays         TBR  ...                    22   \n",
       "2016-04-03        New York Mets         NYM  ...                    22   \n",
       "2016-04-04    Milwaukee Brewers         MIL  ...                    29   \n",
       "2016-04-04      Minnesota Twins         MIN  ...                    25   \n",
       "\n",
       "            home_grounded_balls  home_fly_balls  home_line_drives  \\\n",
       "date                                                                \n",
       "2016-04-03                   10              15                 8   \n",
       "2016-04-03                   18              10                 6   \n",
       "2016-04-03                   18              10                 5   \n",
       "2016-04-04                    8              14                 8   \n",
       "2016-04-04                    8              18                 6   \n",
       "\n",
       "            home_unknown_bat_type  home_game_score  home_inherited_runners  \\\n",
       "date                                                                         \n",
       "2016-04-03                      0               71                     0.0   \n",
       "2016-04-03                      0               56                     0.0   \n",
       "2016-04-03                      0               70                     2.0   \n",
       "2016-04-04                      0               32                     1.0   \n",
       "2016-04-04                      0               61                     2.0   \n",
       "\n",
       "            home_inherited_score  home_win_probability_by_pitcher  \\\n",
       "date                                                                \n",
       "2016-04-03                   0.0                            0.431   \n",
       "2016-04-03                   0.0                           -0.135   \n",
       "2016-04-03                   0.0                            0.449   \n",
       "2016-04-04                   0.0                           -0.492   \n",
       "2016-04-04                   1.0                            0.376   \n",
       "\n",
       "            home_base_out_runs_saved  \n",
       "date                                  \n",
       "2016-04-03                       3.4  \n",
       "2016-04-03                      -0.7  \n",
       "2016-04-03                       1.7  \n",
       "2016-04-04                      -7.4  \n",
       "2016-04-04                       2.7  \n",
       "\n",
       "[5 rows x 80 columns]"
      ]
     },
     "execution_count": 154,
     "metadata": {},
     "output_type": "execute_result"
    }
   ],
   "source": [
    "df.head()"
   ]
  },
  {
   "cell_type": "code",
   "execution_count": 289,
   "metadata": {
    "ExecuteTime": {
     "end_time": "2022-01-10T18:14:31.711123Z",
     "start_time": "2022-01-10T18:14:31.700444Z"
    }
   },
   "outputs": [],
   "source": [
    "df_16=df[:'2016-10-2']"
   ]
  },
  {
   "cell_type": "code",
   "execution_count": 214,
   "metadata": {
    "ExecuteTime": {
     "end_time": "2022-01-10T17:29:10.616816Z",
     "start_time": "2022-01-10T17:29:10.603132Z"
    }
   },
   "outputs": [],
   "source": [
    "Home = df_16[(df_16['winner'] == 'Home')] \n",
    "Away= df_16[(df_16['winner'] == 'Away')]"
   ]
  },
  {
   "cell_type": "code",
   "execution_count": 204,
   "metadata": {
    "ExecuteTime": {
     "end_time": "2022-01-10T17:24:10.345984Z",
     "start_time": "2022-01-10T17:24:10.331340Z"
    }
   },
   "outputs": [],
   "source": [
    "yankees_home_wins=Home[(Home['winning_abbr'] == 'NYY')]\n",
    "yankees_away_wins=Away[(Away['winning_abbr']=='NYY')]"
   ]
  },
  {
   "cell_type": "code",
   "execution_count": 205,
   "metadata": {
    "ExecuteTime": {
     "end_time": "2022-01-10T17:24:17.079206Z",
     "start_time": "2022-01-10T17:24:17.059064Z"
    }
   },
   "outputs": [],
   "source": [
    "yankees_wins=pd.concat([yankees_home_wins,yankees_away_wins])"
   ]
  },
  {
   "cell_type": "code",
   "execution_count": 206,
   "metadata": {
    "ExecuteTime": {
     "end_time": "2022-01-10T17:24:24.883945Z",
     "start_time": "2022-01-10T17:24:24.872794Z"
    }
   },
   "outputs": [
    {
     "data": {
      "text/plain": [
       "NYY    84\n",
       "Name: winning_abbr, dtype: int64"
      ]
     },
     "execution_count": 206,
     "metadata": {},
     "output_type": "execute_result"
    }
   ],
   "source": [
    "yankees_wins.winning_abbr.value_counts()"
   ]
  },
  {
   "cell_type": "code",
   "execution_count": 208,
   "metadata": {
    "ExecuteTime": {
     "end_time": "2022-01-10T17:24:59.531291Z",
     "start_time": "2022-01-10T17:24:59.524427Z"
    }
   },
   "outputs": [],
   "source": [
    "yankees_home_loss=Home[(Home['losing_abbr'] == 'NYY')]\n",
    "yankees_away_loss=Away[(Away['losing_abbr']=='NYY')]"
   ]
  },
  {
   "cell_type": "code",
   "execution_count": 209,
   "metadata": {
    "ExecuteTime": {
     "end_time": "2022-01-10T17:25:15.746727Z",
     "start_time": "2022-01-10T17:25:15.731475Z"
    }
   },
   "outputs": [],
   "source": [
    "yankees_loss=pd.concat([yankees_home_loss,yankees_away_loss])"
   ]
  },
  {
   "cell_type": "code",
   "execution_count": 211,
   "metadata": {
    "ExecuteTime": {
     "end_time": "2022-01-10T17:26:09.195374Z",
     "start_time": "2022-01-10T17:26:09.188283Z"
    }
   },
   "outputs": [
    {
     "data": {
      "text/plain": [
       "NYY    78\n",
       "Name: losing_abbr, dtype: int64"
      ]
     },
     "execution_count": 211,
     "metadata": {},
     "output_type": "execute_result"
    }
   ],
   "source": [
    "yankees_loss.losing_abbr.value_counts()"
   ]
  },
  {
   "cell_type": "code",
   "execution_count": 212,
   "metadata": {
    "ExecuteTime": {
     "end_time": "2022-01-10T17:26:33.188866Z",
     "start_time": "2022-01-10T17:26:33.170748Z"
    }
   },
   "outputs": [],
   "source": [
    "yankees_16=pd.concat([yankees_wins,yankees_loss])"
   ]
  },
  {
   "cell_type": "code",
   "execution_count": 213,
   "metadata": {
    "ExecuteTime": {
     "end_time": "2022-01-10T17:26:38.711382Z",
     "start_time": "2022-01-10T17:26:38.656592Z"
    }
   },
   "outputs": [
    {
     "data": {
      "text/html": [
       "<div>\n",
       "<style scoped>\n",
       "    .dataframe tbody tr th:only-of-type {\n",
       "        vertical-align: middle;\n",
       "    }\n",
       "\n",
       "    .dataframe tbody tr th {\n",
       "        vertical-align: top;\n",
       "    }\n",
       "\n",
       "    .dataframe thead th {\n",
       "        text-align: right;\n",
       "    }\n",
       "</style>\n",
       "<table border=\"1\" class=\"dataframe\">\n",
       "  <thead>\n",
       "    <tr style=\"text-align: right;\">\n",
       "      <th></th>\n",
       "      <th>time</th>\n",
       "      <th>venue</th>\n",
       "      <th>attendance</th>\n",
       "      <th>duration</th>\n",
       "      <th>time_of_day</th>\n",
       "      <th>winner</th>\n",
       "      <th>winning_name</th>\n",
       "      <th>winning_abbr</th>\n",
       "      <th>losing_name</th>\n",
       "      <th>losing_abbr</th>\n",
       "      <th>...</th>\n",
       "      <th>home_strikes_looking</th>\n",
       "      <th>home_grounded_balls</th>\n",
       "      <th>home_fly_balls</th>\n",
       "      <th>home_line_drives</th>\n",
       "      <th>home_unknown_bat_type</th>\n",
       "      <th>home_game_score</th>\n",
       "      <th>home_inherited_runners</th>\n",
       "      <th>home_inherited_score</th>\n",
       "      <th>home_win_probability_by_pitcher</th>\n",
       "      <th>home_base_out_runs_saved</th>\n",
       "    </tr>\n",
       "    <tr>\n",
       "      <th>date</th>\n",
       "      <th></th>\n",
       "      <th></th>\n",
       "      <th></th>\n",
       "      <th></th>\n",
       "      <th></th>\n",
       "      <th></th>\n",
       "      <th></th>\n",
       "      <th></th>\n",
       "      <th></th>\n",
       "      <th></th>\n",
       "      <th></th>\n",
       "      <th></th>\n",
       "      <th></th>\n",
       "      <th></th>\n",
       "      <th></th>\n",
       "      <th></th>\n",
       "      <th></th>\n",
       "      <th></th>\n",
       "      <th></th>\n",
       "      <th></th>\n",
       "      <th></th>\n",
       "    </tr>\n",
       "  </thead>\n",
       "  <tbody>\n",
       "    <tr>\n",
       "      <th>2016-04-06</th>\n",
       "      <td>7:08 p.m. Local</td>\n",
       "      <td>Yankee Stadium III</td>\n",
       "      <td>37493.0</td>\n",
       "      <td>3:45</td>\n",
       "      <td>Night</td>\n",
       "      <td>Home</td>\n",
       "      <td>New York Yankees</td>\n",
       "      <td>NYY</td>\n",
       "      <td>Houston Astros</td>\n",
       "      <td>HOU</td>\n",
       "      <td>...</td>\n",
       "      <td>36</td>\n",
       "      <td>15</td>\n",
       "      <td>19</td>\n",
       "      <td>9</td>\n",
       "      <td>0</td>\n",
       "      <td>32</td>\n",
       "      <td>0.0</td>\n",
       "      <td>0.0</td>\n",
       "      <td>-0.217</td>\n",
       "      <td>-1.3</td>\n",
       "    </tr>\n",
       "    <tr>\n",
       "      <th>2016-04-07</th>\n",
       "      <td>4:17 p.m. Local</td>\n",
       "      <td>Yankee Stadium III</td>\n",
       "      <td>30003.0</td>\n",
       "      <td>3:00</td>\n",
       "      <td>Day</td>\n",
       "      <td>Home</td>\n",
       "      <td>New York Yankees</td>\n",
       "      <td>NYY</td>\n",
       "      <td>Houston Astros</td>\n",
       "      <td>HOU</td>\n",
       "      <td>...</td>\n",
       "      <td>27</td>\n",
       "      <td>7</td>\n",
       "      <td>23</td>\n",
       "      <td>13</td>\n",
       "      <td>0</td>\n",
       "      <td>42</td>\n",
       "      <td>0.0</td>\n",
       "      <td>0.0</td>\n",
       "      <td>-0.014</td>\n",
       "      <td>-0.3</td>\n",
       "    </tr>\n",
       "    <tr>\n",
       "      <th>2016-04-17</th>\n",
       "      <td>1:09 p.m. Local</td>\n",
       "      <td>Yankee Stadium III</td>\n",
       "      <td>43856.0</td>\n",
       "      <td>2:34</td>\n",
       "      <td>Day</td>\n",
       "      <td>Home</td>\n",
       "      <td>New York Yankees</td>\n",
       "      <td>NYY</td>\n",
       "      <td>Seattle Mariners</td>\n",
       "      <td>SEA</td>\n",
       "      <td>...</td>\n",
       "      <td>16</td>\n",
       "      <td>12</td>\n",
       "      <td>16</td>\n",
       "      <td>8</td>\n",
       "      <td>0</td>\n",
       "      <td>61</td>\n",
       "      <td>0.0</td>\n",
       "      <td>0.0</td>\n",
       "      <td>0.411</td>\n",
       "      <td>1.7</td>\n",
       "    </tr>\n",
       "    <tr>\n",
       "      <th>2016-04-22</th>\n",
       "      <td>7:08 p.m. Local</td>\n",
       "      <td>Yankee Stadium III</td>\n",
       "      <td>31843.0</td>\n",
       "      <td>3:02</td>\n",
       "      <td>Night</td>\n",
       "      <td>Home</td>\n",
       "      <td>New York Yankees</td>\n",
       "      <td>NYY</td>\n",
       "      <td>Tampa Bay Rays</td>\n",
       "      <td>TBR</td>\n",
       "      <td>...</td>\n",
       "      <td>30</td>\n",
       "      <td>8</td>\n",
       "      <td>18</td>\n",
       "      <td>9</td>\n",
       "      <td>0</td>\n",
       "      <td>33</td>\n",
       "      <td>2.0</td>\n",
       "      <td>0.0</td>\n",
       "      <td>0.265</td>\n",
       "      <td>1.7</td>\n",
       "    </tr>\n",
       "    <tr>\n",
       "      <th>2016-04-23</th>\n",
       "      <td>1:09 p.m. Local</td>\n",
       "      <td>Yankee Stadium III</td>\n",
       "      <td>40714.0</td>\n",
       "      <td>2:55</td>\n",
       "      <td>Day</td>\n",
       "      <td>Home</td>\n",
       "      <td>New York Yankees</td>\n",
       "      <td>NYY</td>\n",
       "      <td>Tampa Bay Rays</td>\n",
       "      <td>TBR</td>\n",
       "      <td>...</td>\n",
       "      <td>35</td>\n",
       "      <td>10</td>\n",
       "      <td>15</td>\n",
       "      <td>3</td>\n",
       "      <td>0</td>\n",
       "      <td>65</td>\n",
       "      <td>0.0</td>\n",
       "      <td>0.0</td>\n",
       "      <td>0.383</td>\n",
       "      <td>2.7</td>\n",
       "    </tr>\n",
       "    <tr>\n",
       "      <th>...</th>\n",
       "      <td>...</td>\n",
       "      <td>...</td>\n",
       "      <td>...</td>\n",
       "      <td>...</td>\n",
       "      <td>...</td>\n",
       "      <td>...</td>\n",
       "      <td>...</td>\n",
       "      <td>...</td>\n",
       "      <td>...</td>\n",
       "      <td>...</td>\n",
       "      <td>...</td>\n",
       "      <td>...</td>\n",
       "      <td>...</td>\n",
       "      <td>...</td>\n",
       "      <td>...</td>\n",
       "      <td>...</td>\n",
       "      <td>...</td>\n",
       "      <td>...</td>\n",
       "      <td>...</td>\n",
       "      <td>...</td>\n",
       "      <td>...</td>\n",
       "    </tr>\n",
       "    <tr>\n",
       "      <th>2016-09-11</th>\n",
       "      <td>1:12 p.m. Local</td>\n",
       "      <td>Yankee Stadium III</td>\n",
       "      <td>33087.0</td>\n",
       "      <td>2:58</td>\n",
       "      <td>Day</td>\n",
       "      <td>Away</td>\n",
       "      <td>Tampa Bay Rays</td>\n",
       "      <td>TBR</td>\n",
       "      <td>New York Yankees</td>\n",
       "      <td>NYY</td>\n",
       "      <td>...</td>\n",
       "      <td>23</td>\n",
       "      <td>9</td>\n",
       "      <td>18</td>\n",
       "      <td>7</td>\n",
       "      <td>0</td>\n",
       "      <td>48</td>\n",
       "      <td>2.0</td>\n",
       "      <td>0.0</td>\n",
       "      <td>-0.091</td>\n",
       "      <td>0.7</td>\n",
       "    </tr>\n",
       "    <tr>\n",
       "      <th>2016-09-12</th>\n",
       "      <td>7:08 p.m. Local</td>\n",
       "      <td>Yankee Stadium III</td>\n",
       "      <td>32058.0</td>\n",
       "      <td>3:13</td>\n",
       "      <td>Night</td>\n",
       "      <td>Away</td>\n",
       "      <td>Los Angeles Dodgers</td>\n",
       "      <td>LAD</td>\n",
       "      <td>New York Yankees</td>\n",
       "      <td>NYY</td>\n",
       "      <td>...</td>\n",
       "      <td>25</td>\n",
       "      <td>7</td>\n",
       "      <td>14</td>\n",
       "      <td>6</td>\n",
       "      <td>0</td>\n",
       "      <td>19</td>\n",
       "      <td>2.0</td>\n",
       "      <td>1.0</td>\n",
       "      <td>-0.322</td>\n",
       "      <td>-3.3</td>\n",
       "    </tr>\n",
       "    <tr>\n",
       "      <th>2016-09-14</th>\n",
       "      <td>4:09 p.m. Local</td>\n",
       "      <td>Yankee Stadium III</td>\n",
       "      <td>30254.0</td>\n",
       "      <td>2:57</td>\n",
       "      <td>Day</td>\n",
       "      <td>Away</td>\n",
       "      <td>Los Angeles Dodgers</td>\n",
       "      <td>LAD</td>\n",
       "      <td>New York Yankees</td>\n",
       "      <td>NYY</td>\n",
       "      <td>...</td>\n",
       "      <td>24</td>\n",
       "      <td>12</td>\n",
       "      <td>5</td>\n",
       "      <td>2</td>\n",
       "      <td>0</td>\n",
       "      <td>61</td>\n",
       "      <td>0.0</td>\n",
       "      <td>0.0</td>\n",
       "      <td>0.157</td>\n",
       "      <td>2.7</td>\n",
       "    </tr>\n",
       "    <tr>\n",
       "      <th>2016-09-30</th>\n",
       "      <td>7:08 p.m. Local</td>\n",
       "      <td>Yankee Stadium III</td>\n",
       "      <td>33955.0</td>\n",
       "      <td>3:26</td>\n",
       "      <td>Night</td>\n",
       "      <td>Away</td>\n",
       "      <td>Baltimore Orioles</td>\n",
       "      <td>BAL</td>\n",
       "      <td>New York Yankees</td>\n",
       "      <td>NYY</td>\n",
       "      <td>...</td>\n",
       "      <td>35</td>\n",
       "      <td>9</td>\n",
       "      <td>13</td>\n",
       "      <td>6</td>\n",
       "      <td>0</td>\n",
       "      <td>33</td>\n",
       "      <td>0.0</td>\n",
       "      <td>0.0</td>\n",
       "      <td>-0.360</td>\n",
       "      <td>-3.3</td>\n",
       "    </tr>\n",
       "    <tr>\n",
       "      <th>2016-10-02</th>\n",
       "      <td>3:08 p.m. Local</td>\n",
       "      <td>Yankee Stadium III</td>\n",
       "      <td>33277.0</td>\n",
       "      <td>2:32</td>\n",
       "      <td>Day</td>\n",
       "      <td>Away</td>\n",
       "      <td>Baltimore Orioles</td>\n",
       "      <td>BAL</td>\n",
       "      <td>New York Yankees</td>\n",
       "      <td>NYY</td>\n",
       "      <td>...</td>\n",
       "      <td>22</td>\n",
       "      <td>19</td>\n",
       "      <td>11</td>\n",
       "      <td>5</td>\n",
       "      <td>0</td>\n",
       "      <td>49</td>\n",
       "      <td>1.0</td>\n",
       "      <td>1.0</td>\n",
       "      <td>-0.172</td>\n",
       "      <td>-0.3</td>\n",
       "    </tr>\n",
       "  </tbody>\n",
       "</table>\n",
       "<p>162 rows × 80 columns</p>\n",
       "</div>"
      ],
      "text/plain": [
       "                       time               venue  attendance duration  \\\n",
       "date                                                                   \n",
       "2016-04-06  7:08 p.m. Local  Yankee Stadium III     37493.0     3:45   \n",
       "2016-04-07  4:17 p.m. Local  Yankee Stadium III     30003.0     3:00   \n",
       "2016-04-17  1:09 p.m. Local  Yankee Stadium III     43856.0     2:34   \n",
       "2016-04-22  7:08 p.m. Local  Yankee Stadium III     31843.0     3:02   \n",
       "2016-04-23  1:09 p.m. Local  Yankee Stadium III     40714.0     2:55   \n",
       "...                     ...                 ...         ...      ...   \n",
       "2016-09-11  1:12 p.m. Local  Yankee Stadium III     33087.0     2:58   \n",
       "2016-09-12  7:08 p.m. Local  Yankee Stadium III     32058.0     3:13   \n",
       "2016-09-14  4:09 p.m. Local  Yankee Stadium III     30254.0     2:57   \n",
       "2016-09-30  7:08 p.m. Local  Yankee Stadium III     33955.0     3:26   \n",
       "2016-10-02  3:08 p.m. Local  Yankee Stadium III     33277.0     2:32   \n",
       "\n",
       "           time_of_day winner         winning_name winning_abbr  \\\n",
       "date                                                              \n",
       "2016-04-06       Night   Home     New York Yankees          NYY   \n",
       "2016-04-07         Day   Home     New York Yankees          NYY   \n",
       "2016-04-17         Day   Home     New York Yankees          NYY   \n",
       "2016-04-22       Night   Home     New York Yankees          NYY   \n",
       "2016-04-23         Day   Home     New York Yankees          NYY   \n",
       "...                ...    ...                  ...          ...   \n",
       "2016-09-11         Day   Away       Tampa Bay Rays          TBR   \n",
       "2016-09-12       Night   Away  Los Angeles Dodgers          LAD   \n",
       "2016-09-14         Day   Away  Los Angeles Dodgers          LAD   \n",
       "2016-09-30       Night   Away    Baltimore Orioles          BAL   \n",
       "2016-10-02         Day   Away    Baltimore Orioles          BAL   \n",
       "\n",
       "                 losing_name losing_abbr  ...  home_strikes_looking  \\\n",
       "date                                      ...                         \n",
       "2016-04-06    Houston Astros         HOU  ...                    36   \n",
       "2016-04-07    Houston Astros         HOU  ...                    27   \n",
       "2016-04-17  Seattle Mariners         SEA  ...                    16   \n",
       "2016-04-22    Tampa Bay Rays         TBR  ...                    30   \n",
       "2016-04-23    Tampa Bay Rays         TBR  ...                    35   \n",
       "...                      ...         ...  ...                   ...   \n",
       "2016-09-11  New York Yankees         NYY  ...                    23   \n",
       "2016-09-12  New York Yankees         NYY  ...                    25   \n",
       "2016-09-14  New York Yankees         NYY  ...                    24   \n",
       "2016-09-30  New York Yankees         NYY  ...                    35   \n",
       "2016-10-02  New York Yankees         NYY  ...                    22   \n",
       "\n",
       "            home_grounded_balls  home_fly_balls  home_line_drives  \\\n",
       "date                                                                \n",
       "2016-04-06                   15              19                 9   \n",
       "2016-04-07                    7              23                13   \n",
       "2016-04-17                   12              16                 8   \n",
       "2016-04-22                    8              18                 9   \n",
       "2016-04-23                   10              15                 3   \n",
       "...                         ...             ...               ...   \n",
       "2016-09-11                    9              18                 7   \n",
       "2016-09-12                    7              14                 6   \n",
       "2016-09-14                   12               5                 2   \n",
       "2016-09-30                    9              13                 6   \n",
       "2016-10-02                   19              11                 5   \n",
       "\n",
       "            home_unknown_bat_type  home_game_score  home_inherited_runners  \\\n",
       "date                                                                         \n",
       "2016-04-06                      0               32                     0.0   \n",
       "2016-04-07                      0               42                     0.0   \n",
       "2016-04-17                      0               61                     0.0   \n",
       "2016-04-22                      0               33                     2.0   \n",
       "2016-04-23                      0               65                     0.0   \n",
       "...                           ...              ...                     ...   \n",
       "2016-09-11                      0               48                     2.0   \n",
       "2016-09-12                      0               19                     2.0   \n",
       "2016-09-14                      0               61                     0.0   \n",
       "2016-09-30                      0               33                     0.0   \n",
       "2016-10-02                      0               49                     1.0   \n",
       "\n",
       "            home_inherited_score  home_win_probability_by_pitcher  \\\n",
       "date                                                                \n",
       "2016-04-06                   0.0                           -0.217   \n",
       "2016-04-07                   0.0                           -0.014   \n",
       "2016-04-17                   0.0                            0.411   \n",
       "2016-04-22                   0.0                            0.265   \n",
       "2016-04-23                   0.0                            0.383   \n",
       "...                          ...                              ...   \n",
       "2016-09-11                   0.0                           -0.091   \n",
       "2016-09-12                   1.0                           -0.322   \n",
       "2016-09-14                   0.0                            0.157   \n",
       "2016-09-30                   0.0                           -0.360   \n",
       "2016-10-02                   1.0                           -0.172   \n",
       "\n",
       "            home_base_out_runs_saved  \n",
       "date                                  \n",
       "2016-04-06                      -1.3  \n",
       "2016-04-07                      -0.3  \n",
       "2016-04-17                       1.7  \n",
       "2016-04-22                       1.7  \n",
       "2016-04-23                       2.7  \n",
       "...                              ...  \n",
       "2016-09-11                       0.7  \n",
       "2016-09-12                      -3.3  \n",
       "2016-09-14                       2.7  \n",
       "2016-09-30                      -3.3  \n",
       "2016-10-02                      -0.3  \n",
       "\n",
       "[162 rows x 80 columns]"
      ]
     },
     "execution_count": 213,
     "metadata": {},
     "output_type": "execute_result"
    }
   ],
   "source": [
    "yankees_16"
   ]
  },
  {
   "cell_type": "markdown",
   "metadata": {},
   "source": [
    "## Function walkthrough outside to find potential bugs"
   ]
  },
  {
   "cell_type": "code",
   "execution_count": 293,
   "metadata": {
    "ExecuteTime": {
     "end_time": "2022-01-10T18:23:29.583255Z",
     "start_time": "2022-01-10T18:23:29.539269Z"
    }
   },
   "outputs": [],
   "source": [
    "#Rename columns to avoid deletetion later\n",
    "df_16=df_16.rename(columns={'home_home_runs':'home_HR','away_home_runs':'away_HR'})"
   ]
  },
  {
   "cell_type": "code",
   "execution_count": 294,
   "metadata": {
    "ExecuteTime": {
     "end_time": "2022-01-10T18:23:32.271373Z",
     "start_time": "2022-01-10T18:23:32.261321Z"
    }
   },
   "outputs": [
    {
     "data": {
      "text/plain": [
       "Index(['time', 'venue', 'attendance', 'duration', 'time_of_day', 'winner',\n",
       "       'winning_name', 'winning_abbr', 'losing_name', 'losing_abbr',\n",
       "       'away_at_bats', 'away_runs', 'away_hits', 'away_rbi',\n",
       "       'away_earned_runs', 'away_bases_on_balls', 'away_strikeouts',\n",
       "       'away_plate_appearances', 'away_batting_average',\n",
       "       'away_on_base_percentage', 'away_slugging_percentage',\n",
       "       'away_on_base_plus', 'away_pitches', 'away_strikes',\n",
       "       'away_win_probability_for_offensive_player',\n",
       "       'away_average_leverage_index', 'away_win_probability_added',\n",
       "       'away_win_probability_subtracted', 'away_base_out_runs_added',\n",
       "       'away_putouts', 'away_assists', 'away_innings_pitched', 'away_HR',\n",
       "       'away_strikes_by_contact', 'away_strikes_swinging',\n",
       "       'away_strikes_looking', 'away_grounded_balls', 'away_fly_balls',\n",
       "       'away_line_drives', 'away_unknown_bat_type', 'away_game_score',\n",
       "       'away_inherited_runners', 'away_inherited_score',\n",
       "       'away_win_probability_by_pitcher', 'away_base_out_runs_saved',\n",
       "       'home_at_bats', 'home_runs', 'home_hits', 'home_rbi',\n",
       "       'home_earned_runs', 'home_bases_on_balls', 'home_strikeouts',\n",
       "       'home_plate_appearances', 'home_batting_average',\n",
       "       'home_on_base_percentage', 'home_slugging_percentage',\n",
       "       'home_on_base_plus', 'home_pitches', 'home_strikes',\n",
       "       'home_win_probability_for_offensive_player',\n",
       "       'home_average_leverage_index', 'home_win_probability_added',\n",
       "       'home_win_probability_subtracted', 'home_base_out_runs_added',\n",
       "       'home_putouts', 'home_assists', 'home_innings_pitched', 'home_HR',\n",
       "       'home_strikes_by_contact', 'home_strikes_swinging',\n",
       "       'home_strikes_looking', 'home_grounded_balls', 'home_fly_balls',\n",
       "       'home_line_drives', 'home_unknown_bat_type', 'home_game_score',\n",
       "       'home_inherited_runners', 'home_inherited_score',\n",
       "       'home_win_probability_by_pitcher', 'home_base_out_runs_saved'],\n",
       "      dtype='object')"
      ]
     },
     "execution_count": 294,
     "metadata": {},
     "output_type": "execute_result"
    }
   ],
   "source": [
    "df_16.columns"
   ]
  },
  {
   "cell_type": "code",
   "execution_count": 295,
   "metadata": {
    "ExecuteTime": {
     "end_time": "2022-01-10T18:24:07.848674Z",
     "start_time": "2022-01-10T18:24:07.828751Z"
    }
   },
   "outputs": [],
   "source": [
    "Home = df_16[(df_16['winner'] == 'Home')] \n",
    "Away= df_16[(df_16['winner'] == 'Away')]"
   ]
  },
  {
   "cell_type": "code",
   "execution_count": 296,
   "metadata": {
    "ExecuteTime": {
     "end_time": "2022-01-10T18:24:11.628024Z",
     "start_time": "2022-01-10T18:24:11.594031Z"
    }
   },
   "outputs": [],
   "source": [
    "home_wins=Home[(Home['winning_abbr'] == 'NYY')]\n",
    "home_loss=Away[(Away['losing_abbr'] == 'NYY')]\n",
    "home_games= pd.concat([home_wins,home_loss])\n",
    "home_offense = home_games.filter(like = 'home')"
   ]
  },
  {
   "cell_type": "code",
   "execution_count": 297,
   "metadata": {
    "ExecuteTime": {
     "end_time": "2022-01-10T18:24:13.815101Z",
     "start_time": "2022-01-10T18:24:13.781933Z"
    }
   },
   "outputs": [],
   "source": [
    "away_wins=Away[(Away['winning_abbr']=='NYY')]\n",
    "away_loss=Home[(Home['losing_abbr']=='NYY')]\n",
    "away_games= pd.concat([away_wins,away_loss])\n",
    "away_offense = away_games.filter(like = 'away')"
   ]
  },
  {
   "cell_type": "code",
   "execution_count": 298,
   "metadata": {
    "ExecuteTime": {
     "end_time": "2022-01-10T18:24:14.555666Z",
     "start_time": "2022-01-10T18:24:14.544136Z"
    }
   },
   "outputs": [],
   "source": [
    "home_offense.columns = home_offense.columns.str.replace('home_','')\n",
    "away_offense.columns = away_offense.columns.str.replace('away_','')"
   ]
  },
  {
   "cell_type": "code",
   "execution_count": 300,
   "metadata": {
    "ExecuteTime": {
     "end_time": "2022-01-10T18:24:29.246820Z",
     "start_time": "2022-01-10T18:24:29.243258Z"
    }
   },
   "outputs": [],
   "source": [
    "#home_offense.drop('away_runs',axis=1,inplace=True)"
   ]
  },
  {
   "cell_type": "code",
   "execution_count": 301,
   "metadata": {
    "ExecuteTime": {
     "end_time": "2022-01-10T18:24:30.004839Z",
     "start_time": "2022-01-10T18:24:29.998843Z"
    },
    "scrolled": true
   },
   "outputs": [
    {
     "data": {
      "text/plain": [
       "array([ True,  True,  True,  True,  True,  True,  True,  True,  True,\n",
       "        True,  True,  True,  True,  True,  True,  True,  True,  True,\n",
       "        True,  True,  True,  True,  True,  True,  True,  True,  True,\n",
       "        True,  True,  True,  True,  True,  True,  True,  True])"
      ]
     },
     "execution_count": 301,
     "metadata": {},
     "output_type": "execute_result"
    }
   ],
   "source": [
    "home_offense.columns==away_offense.columns"
   ]
  },
  {
   "cell_type": "code",
   "execution_count": 302,
   "metadata": {
    "ExecuteTime": {
     "end_time": "2022-01-10T18:24:41.858159Z",
     "start_time": "2022-01-10T18:24:41.847232Z"
    }
   },
   "outputs": [],
   "source": [
    "team_offense = pd.concat([home_offense, away_offense])"
   ]
  },
  {
   "cell_type": "code",
   "execution_count": 304,
   "metadata": {
    "ExecuteTime": {
     "end_time": "2022-01-10T18:26:01.271157Z",
     "start_time": "2022-01-10T18:26:01.264138Z"
    }
   },
   "outputs": [],
   "source": [
    "home_games_opponents = home_games.filter(like = 'away')\n",
    "away_games_opponents = away_games.filter(like = 'home')"
   ]
  },
  {
   "cell_type": "code",
   "execution_count": 305,
   "metadata": {
    "ExecuteTime": {
     "end_time": "2022-01-10T18:26:18.596137Z",
     "start_time": "2022-01-10T18:26:18.588868Z"
    }
   },
   "outputs": [],
   "source": [
    "home_games_opponents.columns = home_games_opponents.columns.str.replace('away_','')\n",
    "away_games_opponents.columns = away_games_opponents.columns.str.replace('home_','')"
   ]
  },
  {
   "cell_type": "code",
   "execution_count": 307,
   "metadata": {
    "ExecuteTime": {
     "end_time": "2022-01-10T18:30:40.345466Z",
     "start_time": "2022-01-10T18:30:40.333089Z"
    }
   },
   "outputs": [],
   "source": [
    "team_opponents= pd.concat([home_games_opponents,away_games_opponents])"
   ]
  },
  {
   "cell_type": "code",
   "execution_count": 328,
   "metadata": {
    "ExecuteTime": {
     "end_time": "2022-01-10T18:43:21.576484Z",
     "start_time": "2022-01-10T18:43:21.561015Z"
    }
   },
   "outputs": [],
   "source": [
    "team_full_check = pd.concat([team_offense, team_opponents.add_prefix('Opp_')], axis = 1)"
   ]
  },
  {
   "cell_type": "code",
   "execution_count": 329,
   "metadata": {
    "ExecuteTime": {
     "end_time": "2022-01-10T18:43:22.322817Z",
     "start_time": "2022-01-10T18:43:22.273666Z"
    }
   },
   "outputs": [
    {
     "data": {
      "text/html": [
       "<div>\n",
       "<style scoped>\n",
       "    .dataframe tbody tr th:only-of-type {\n",
       "        vertical-align: middle;\n",
       "    }\n",
       "\n",
       "    .dataframe tbody tr th {\n",
       "        vertical-align: top;\n",
       "    }\n",
       "\n",
       "    .dataframe thead th {\n",
       "        text-align: right;\n",
       "    }\n",
       "</style>\n",
       "<table border=\"1\" class=\"dataframe\">\n",
       "  <thead>\n",
       "    <tr style=\"text-align: right;\">\n",
       "      <th></th>\n",
       "      <th>at_bats</th>\n",
       "      <th>runs</th>\n",
       "      <th>hits</th>\n",
       "      <th>rbi</th>\n",
       "      <th>earned_runs</th>\n",
       "      <th>bases_on_balls</th>\n",
       "      <th>strikeouts</th>\n",
       "      <th>plate_appearances</th>\n",
       "      <th>batting_average</th>\n",
       "      <th>on_base_percentage</th>\n",
       "      <th>...</th>\n",
       "      <th>Opp_strikes_looking</th>\n",
       "      <th>Opp_grounded_balls</th>\n",
       "      <th>Opp_fly_balls</th>\n",
       "      <th>Opp_line_drives</th>\n",
       "      <th>Opp_unknown_bat_type</th>\n",
       "      <th>Opp_game_score</th>\n",
       "      <th>Opp_inherited_runners</th>\n",
       "      <th>Opp_inherited_score</th>\n",
       "      <th>Opp_win_probability_by_pitcher</th>\n",
       "      <th>Opp_base_out_runs_saved</th>\n",
       "    </tr>\n",
       "    <tr>\n",
       "      <th>date</th>\n",
       "      <th></th>\n",
       "      <th></th>\n",
       "      <th></th>\n",
       "      <th></th>\n",
       "      <th></th>\n",
       "      <th></th>\n",
       "      <th></th>\n",
       "      <th></th>\n",
       "      <th></th>\n",
       "      <th></th>\n",
       "      <th></th>\n",
       "      <th></th>\n",
       "      <th></th>\n",
       "      <th></th>\n",
       "      <th></th>\n",
       "      <th></th>\n",
       "      <th></th>\n",
       "      <th></th>\n",
       "      <th></th>\n",
       "      <th></th>\n",
       "      <th></th>\n",
       "    </tr>\n",
       "  </thead>\n",
       "  <tbody>\n",
       "    <tr>\n",
       "      <th>2016-04-06</th>\n",
       "      <td>41</td>\n",
       "      <td>16</td>\n",
       "      <td>17</td>\n",
       "      <td>16</td>\n",
       "      <td>16.88</td>\n",
       "      <td>7</td>\n",
       "      <td>7</td>\n",
       "      <td>49</td>\n",
       "      <td>0.415</td>\n",
       "      <td>0.500</td>\n",
       "      <td>...</td>\n",
       "      <td>25</td>\n",
       "      <td>13</td>\n",
       "      <td>15</td>\n",
       "      <td>8</td>\n",
       "      <td>0</td>\n",
       "      <td>21</td>\n",
       "      <td>5.0</td>\n",
       "      <td>1.0</td>\n",
       "      <td>-0.718</td>\n",
       "      <td>-11.8</td>\n",
       "    </tr>\n",
       "    <tr>\n",
       "      <th>2016-04-07</th>\n",
       "      <td>35</td>\n",
       "      <td>8</td>\n",
       "      <td>12</td>\n",
       "      <td>8</td>\n",
       "      <td>9.00</td>\n",
       "      <td>1</td>\n",
       "      <td>6</td>\n",
       "      <td>37</td>\n",
       "      <td>0.343</td>\n",
       "      <td>0.351</td>\n",
       "      <td>...</td>\n",
       "      <td>27</td>\n",
       "      <td>7</td>\n",
       "      <td>15</td>\n",
       "      <td>5</td>\n",
       "      <td>0</td>\n",
       "      <td>32</td>\n",
       "      <td>1.0</td>\n",
       "      <td>1.0</td>\n",
       "      <td>-0.515</td>\n",
       "      <td>-3.8</td>\n",
       "    </tr>\n",
       "    <tr>\n",
       "      <th>2016-04-17</th>\n",
       "      <td>32</td>\n",
       "      <td>4</td>\n",
       "      <td>8</td>\n",
       "      <td>3</td>\n",
       "      <td>4.50</td>\n",
       "      <td>2</td>\n",
       "      <td>4</td>\n",
       "      <td>35</td>\n",
       "      <td>0.250</td>\n",
       "      <td>0.314</td>\n",
       "      <td>...</td>\n",
       "      <td>23</td>\n",
       "      <td>16</td>\n",
       "      <td>5</td>\n",
       "      <td>2</td>\n",
       "      <td>0</td>\n",
       "      <td>46</td>\n",
       "      <td>0.0</td>\n",
       "      <td>0.0</td>\n",
       "      <td>-0.089</td>\n",
       "      <td>0.2</td>\n",
       "    </tr>\n",
       "    <tr>\n",
       "      <th>2016-04-22</th>\n",
       "      <td>32</td>\n",
       "      <td>6</td>\n",
       "      <td>10</td>\n",
       "      <td>5</td>\n",
       "      <td>6.75</td>\n",
       "      <td>3</td>\n",
       "      <td>6</td>\n",
       "      <td>35</td>\n",
       "      <td>0.312</td>\n",
       "      <td>0.371</td>\n",
       "      <td>...</td>\n",
       "      <td>23</td>\n",
       "      <td>13</td>\n",
       "      <td>15</td>\n",
       "      <td>6</td>\n",
       "      <td>0</td>\n",
       "      <td>45</td>\n",
       "      <td>3.0</td>\n",
       "      <td>2.0</td>\n",
       "      <td>-0.235</td>\n",
       "      <td>-1.8</td>\n",
       "    </tr>\n",
       "    <tr>\n",
       "      <th>2016-04-23</th>\n",
       "      <td>34</td>\n",
       "      <td>3</td>\n",
       "      <td>7</td>\n",
       "      <td>2</td>\n",
       "      <td>2.08</td>\n",
       "      <td>3</td>\n",
       "      <td>9</td>\n",
       "      <td>38</td>\n",
       "      <td>0.206</td>\n",
       "      <td>0.270</td>\n",
       "      <td>...</td>\n",
       "      <td>25</td>\n",
       "      <td>8</td>\n",
       "      <td>14</td>\n",
       "      <td>7</td>\n",
       "      <td>0</td>\n",
       "      <td>64</td>\n",
       "      <td>4.0</td>\n",
       "      <td>1.0</td>\n",
       "      <td>-0.117</td>\n",
       "      <td>1.6</td>\n",
       "    </tr>\n",
       "    <tr>\n",
       "      <th>...</th>\n",
       "      <td>...</td>\n",
       "      <td>...</td>\n",
       "      <td>...</td>\n",
       "      <td>...</td>\n",
       "      <td>...</td>\n",
       "      <td>...</td>\n",
       "      <td>...</td>\n",
       "      <td>...</td>\n",
       "      <td>...</td>\n",
       "      <td>...</td>\n",
       "      <td>...</td>\n",
       "      <td>...</td>\n",
       "      <td>...</td>\n",
       "      <td>...</td>\n",
       "      <td>...</td>\n",
       "      <td>...</td>\n",
       "      <td>...</td>\n",
       "      <td>...</td>\n",
       "      <td>...</td>\n",
       "      <td>...</td>\n",
       "      <td>...</td>\n",
       "    </tr>\n",
       "    <tr>\n",
       "      <th>2016-09-18</th>\n",
       "      <td>38</td>\n",
       "      <td>4</td>\n",
       "      <td>11</td>\n",
       "      <td>4</td>\n",
       "      <td>4.00</td>\n",
       "      <td>2</td>\n",
       "      <td>7</td>\n",
       "      <td>40</td>\n",
       "      <td>0.289</td>\n",
       "      <td>0.325</td>\n",
       "      <td>...</td>\n",
       "      <td>32</td>\n",
       "      <td>9</td>\n",
       "      <td>17</td>\n",
       "      <td>8</td>\n",
       "      <td>0</td>\n",
       "      <td>32</td>\n",
       "      <td>2.0</td>\n",
       "      <td>0.0</td>\n",
       "      <td>0.282</td>\n",
       "      <td>0.8</td>\n",
       "    </tr>\n",
       "    <tr>\n",
       "      <th>2016-09-22</th>\n",
       "      <td>35</td>\n",
       "      <td>0</td>\n",
       "      <td>8</td>\n",
       "      <td>0</td>\n",
       "      <td>0.00</td>\n",
       "      <td>3</td>\n",
       "      <td>9</td>\n",
       "      <td>38</td>\n",
       "      <td>0.229</td>\n",
       "      <td>0.289</td>\n",
       "      <td>...</td>\n",
       "      <td>20</td>\n",
       "      <td>8</td>\n",
       "      <td>11</td>\n",
       "      <td>4</td>\n",
       "      <td>0</td>\n",
       "      <td>60</td>\n",
       "      <td>1.0</td>\n",
       "      <td>0.0</td>\n",
       "      <td>0.575</td>\n",
       "      <td>4.3</td>\n",
       "    </tr>\n",
       "    <tr>\n",
       "      <th>2016-09-23</th>\n",
       "      <td>30</td>\n",
       "      <td>0</td>\n",
       "      <td>3</td>\n",
       "      <td>0</td>\n",
       "      <td>0.00</td>\n",
       "      <td>3</td>\n",
       "      <td>8</td>\n",
       "      <td>33</td>\n",
       "      <td>0.100</td>\n",
       "      <td>0.182</td>\n",
       "      <td>...</td>\n",
       "      <td>25</td>\n",
       "      <td>16</td>\n",
       "      <td>14</td>\n",
       "      <td>6</td>\n",
       "      <td>0</td>\n",
       "      <td>70</td>\n",
       "      <td>0.0</td>\n",
       "      <td>0.0</td>\n",
       "      <td>0.339</td>\n",
       "      <td>4.7</td>\n",
       "    </tr>\n",
       "    <tr>\n",
       "      <th>2016-09-24</th>\n",
       "      <td>27</td>\n",
       "      <td>0</td>\n",
       "      <td>3</td>\n",
       "      <td>0</td>\n",
       "      <td>0.00</td>\n",
       "      <td>3</td>\n",
       "      <td>7</td>\n",
       "      <td>30</td>\n",
       "      <td>0.111</td>\n",
       "      <td>0.200</td>\n",
       "      <td>...</td>\n",
       "      <td>17</td>\n",
       "      <td>16</td>\n",
       "      <td>10</td>\n",
       "      <td>4</td>\n",
       "      <td>0</td>\n",
       "      <td>77</td>\n",
       "      <td>0.0</td>\n",
       "      <td>0.0</td>\n",
       "      <td>0.593</td>\n",
       "      <td>4.7</td>\n",
       "    </tr>\n",
       "    <tr>\n",
       "      <th>2016-09-25</th>\n",
       "      <td>34</td>\n",
       "      <td>3</td>\n",
       "      <td>8</td>\n",
       "      <td>3</td>\n",
       "      <td>3.00</td>\n",
       "      <td>2</td>\n",
       "      <td>9</td>\n",
       "      <td>37</td>\n",
       "      <td>0.235</td>\n",
       "      <td>0.270</td>\n",
       "      <td>...</td>\n",
       "      <td>24</td>\n",
       "      <td>13</td>\n",
       "      <td>8</td>\n",
       "      <td>5</td>\n",
       "      <td>0</td>\n",
       "      <td>70</td>\n",
       "      <td>0.0</td>\n",
       "      <td>0.0</td>\n",
       "      <td>-0.253</td>\n",
       "      <td>1.7</td>\n",
       "    </tr>\n",
       "  </tbody>\n",
       "</table>\n",
       "<p>162 rows × 70 columns</p>\n",
       "</div>"
      ],
      "text/plain": [
       "            at_bats  runs  hits  rbi  earned_runs  bases_on_balls  strikeouts  \\\n",
       "date                                                                            \n",
       "2016-04-06       41    16    17   16        16.88               7           7   \n",
       "2016-04-07       35     8    12    8         9.00               1           6   \n",
       "2016-04-17       32     4     8    3         4.50               2           4   \n",
       "2016-04-22       32     6    10    5         6.75               3           6   \n",
       "2016-04-23       34     3     7    2         2.08               3           9   \n",
       "...             ...   ...   ...  ...          ...             ...         ...   \n",
       "2016-09-18       38     4    11    4         4.00               2           7   \n",
       "2016-09-22       35     0     8    0         0.00               3           9   \n",
       "2016-09-23       30     0     3    0         0.00               3           8   \n",
       "2016-09-24       27     0     3    0         0.00               3           7   \n",
       "2016-09-25       34     3     8    3         3.00               2           9   \n",
       "\n",
       "            plate_appearances  batting_average  on_base_percentage  ...  \\\n",
       "date                                                                ...   \n",
       "2016-04-06                 49            0.415               0.500  ...   \n",
       "2016-04-07                 37            0.343               0.351  ...   \n",
       "2016-04-17                 35            0.250               0.314  ...   \n",
       "2016-04-22                 35            0.312               0.371  ...   \n",
       "2016-04-23                 38            0.206               0.270  ...   \n",
       "...                       ...              ...                 ...  ...   \n",
       "2016-09-18                 40            0.289               0.325  ...   \n",
       "2016-09-22                 38            0.229               0.289  ...   \n",
       "2016-09-23                 33            0.100               0.182  ...   \n",
       "2016-09-24                 30            0.111               0.200  ...   \n",
       "2016-09-25                 37            0.235               0.270  ...   \n",
       "\n",
       "            Opp_strikes_looking  Opp_grounded_balls  Opp_fly_balls  \\\n",
       "date                                                                 \n",
       "2016-04-06                   25                  13             15   \n",
       "2016-04-07                   27                   7             15   \n",
       "2016-04-17                   23                  16              5   \n",
       "2016-04-22                   23                  13             15   \n",
       "2016-04-23                   25                   8             14   \n",
       "...                         ...                 ...            ...   \n",
       "2016-09-18                   32                   9             17   \n",
       "2016-09-22                   20                   8             11   \n",
       "2016-09-23                   25                  16             14   \n",
       "2016-09-24                   17                  16             10   \n",
       "2016-09-25                   24                  13              8   \n",
       "\n",
       "            Opp_line_drives  Opp_unknown_bat_type  Opp_game_score  \\\n",
       "date                                                                \n",
       "2016-04-06                8                     0              21   \n",
       "2016-04-07                5                     0              32   \n",
       "2016-04-17                2                     0              46   \n",
       "2016-04-22                6                     0              45   \n",
       "2016-04-23                7                     0              64   \n",
       "...                     ...                   ...             ...   \n",
       "2016-09-18                8                     0              32   \n",
       "2016-09-22                4                     0              60   \n",
       "2016-09-23                6                     0              70   \n",
       "2016-09-24                4                     0              77   \n",
       "2016-09-25                5                     0              70   \n",
       "\n",
       "            Opp_inherited_runners  Opp_inherited_score  \\\n",
       "date                                                     \n",
       "2016-04-06                    5.0                  1.0   \n",
       "2016-04-07                    1.0                  1.0   \n",
       "2016-04-17                    0.0                  0.0   \n",
       "2016-04-22                    3.0                  2.0   \n",
       "2016-04-23                    4.0                  1.0   \n",
       "...                           ...                  ...   \n",
       "2016-09-18                    2.0                  0.0   \n",
       "2016-09-22                    1.0                  0.0   \n",
       "2016-09-23                    0.0                  0.0   \n",
       "2016-09-24                    0.0                  0.0   \n",
       "2016-09-25                    0.0                  0.0   \n",
       "\n",
       "            Opp_win_probability_by_pitcher  Opp_base_out_runs_saved  \n",
       "date                                                                 \n",
       "2016-04-06                          -0.718                    -11.8  \n",
       "2016-04-07                          -0.515                     -3.8  \n",
       "2016-04-17                          -0.089                      0.2  \n",
       "2016-04-22                          -0.235                     -1.8  \n",
       "2016-04-23                          -0.117                      1.6  \n",
       "...                                    ...                      ...  \n",
       "2016-09-18                           0.282                      0.8  \n",
       "2016-09-22                           0.575                      4.3  \n",
       "2016-09-23                           0.339                      4.7  \n",
       "2016-09-24                           0.593                      4.7  \n",
       "2016-09-25                          -0.253                      1.7  \n",
       "\n",
       "[162 rows x 70 columns]"
      ]
     },
     "execution_count": 329,
     "metadata": {},
     "output_type": "execute_result"
    }
   ],
   "source": [
    "team_full_check"
   ]
  },
  {
   "cell_type": "code",
   "execution_count": null,
   "metadata": {},
   "outputs": [],
   "source": [
    "df1 = team_full_check.assign(e=pd.Series(np.random.randn(sLength)).values)"
   ]
  },
  {
   "cell_type": "markdown",
   "metadata": {},
   "source": [
    "## Build reusable Function"
   ]
  },
  {
   "cell_type": "code",
   "execution_count": 322,
   "metadata": {
    "ExecuteTime": {
     "end_time": "2022-01-10T18:41:00.996172Z",
     "start_time": "2022-01-10T18:41:00.983057Z"
    }
   },
   "outputs": [],
   "source": [
    "def team_regular_season(df,team,year='2016-10-2',average=True):\n",
    "    #Set year range for what games you want to access\n",
    "    #Rename columns to avoid deletetion later\n",
    "    df=df.rename(columns={'home_home_runs':'home_HR','away_home_runs':'away_HR'})\n",
    "    df=df[:year]\n",
    "    \n",
    "        #Get all the home winner and away winner games alone\n",
    "    Home = df_16[(df_16['winner'] == 'Home')] \n",
    "    Away= df_16[(df_16['winner'] == 'Away')]\n",
    "    \n",
    "        #Get games where the team was the home team\n",
    "    home_wins=Home[(Home['winning_abbr'] == team)]\n",
    "    home_loss=Away[(Away['losing_abbr'] == team)]\n",
    "    home_games= pd.concat([home_wins,home_loss])\n",
    "    home_offense = home_games.filter(like = 'home')\n",
    "    \n",
    "      #Get games where the team was the away team\n",
    "    away_wins=Away[(Away['winning_abbr']==team)]\n",
    "    away_loss=Home[(Home['losing_abbr']==team)]\n",
    "    away_games= pd.concat([away_wins,away_loss])\n",
    "    away_offense = away_games.filter(like = 'away')\n",
    "    \n",
    "        # split the dataframes to only have the statistics of the given team\n",
    "    home_offense.columns = home_offense.columns.str.replace('home_','')\n",
    "    away_offense.columns = away_offense.columns.str.replace('away_','')\n",
    "    \n",
    "    #combine offensive stats into one df\n",
    "    team_offense = pd.concat([home_offense, away_offense])\n",
    "    \n",
    "        # create oppposing team statistics from the given games\n",
    "    home_games_opponents = home_games.filter(like = 'away')\n",
    "    away_games_opponents = away_games.filter(like = 'home')\n",
    "    \n",
    "        # rename the columns from the opponent statistics dataframes\n",
    "    home_games_opponents.columns = home_games_opponents.columns.str.replace('away_','')\n",
    "    away_games_opponents.columns = away_games_opponents.columns.str.replace('home_','')\n",
    "    \n",
    "    team_opponents= pd.concat([home_games_opponents,away_games_opponents])\n",
    "    \n",
    "        # concat the team stats and the opponent stats to create a full picture of the team's season\n",
    "    team_full = pd.concat([team_offense, team_opponents.add_prefix('Opp_')], axis = 1)\n",
    "     \n",
    "    \n",
    "    \n",
    "        # return either the season averages or the game by game statistics\n",
    "    if average:\n",
    "            team_full = team_full.mean()\n",
    "        \n",
    "    \n",
    "    return team_full\n",
    "    "
   ]
  },
  {
   "cell_type": "code",
   "execution_count": 360,
   "metadata": {
    "ExecuteTime": {
     "end_time": "2022-01-10T18:51:40.589068Z",
     "start_time": "2022-01-10T18:51:40.500562Z"
    }
   },
   "outputs": [],
   "source": [
    "dodgers_16=team_regular_season(df,'LAD')"
   ]
  },
  {
   "cell_type": "code",
   "execution_count": 361,
   "metadata": {
    "ExecuteTime": {
     "end_time": "2022-01-10T18:51:46.884975Z",
     "start_time": "2022-01-10T18:51:46.878007Z"
    }
   },
   "outputs": [
    {
     "data": {
      "text/plain": [
       "at_bats                           34.061728\n",
       "runs                               4.475309\n",
       "hits                               8.493827\n",
       "rbi                                4.197531\n",
       "earned_runs                        4.186605\n",
       "                                    ...    \n",
       "Opp_game_score                    50.617284\n",
       "Opp_inherited_runners              1.465409\n",
       "Opp_inherited_score                0.496855\n",
       "Opp_win_probability_by_pitcher    -0.009241\n",
       "Opp_base_out_runs_saved           -0.120370\n",
       "Length: 70, dtype: float64"
      ]
     },
     "execution_count": 361,
     "metadata": {},
     "output_type": "execute_result"
    }
   ],
   "source": [
    "dodgers_16"
   ]
  },
  {
   "cell_type": "code",
   "execution_count": 348,
   "metadata": {
    "ExecuteTime": {
     "end_time": "2022-01-10T18:48:07.022069Z",
     "start_time": "2022-01-10T18:48:07.015809Z"
    }
   },
   "outputs": [],
   "source": [
    "wonky=pd.DataFrame(dodgers_16)"
   ]
  },
  {
   "cell_type": "code",
   "execution_count": 354,
   "metadata": {
    "ExecuteTime": {
     "end_time": "2022-01-10T18:49:17.613963Z",
     "start_time": "2022-01-10T18:49:17.607659Z"
    }
   },
   "outputs": [],
   "source": [
    "wonky=wonky.reset_index()"
   ]
  },
  {
   "cell_type": "code",
   "execution_count": 345,
   "metadata": {
    "ExecuteTime": {
     "end_time": "2022-01-10T18:47:07.079651Z",
     "start_time": "2022-01-10T18:47:07.074860Z"
    }
   },
   "outputs": [],
   "source": [
    "column_list=list(team_full_check.columns)\n",
    "    "
   ]
  },
  {
   "cell_type": "code",
   "execution_count": 358,
   "metadata": {
    "ExecuteTime": {
     "end_time": "2022-01-10T18:50:27.870795Z",
     "start_time": "2022-01-10T18:50:27.860500Z"
    }
   },
   "outputs": [],
   "source": [
    "def melt_data2(df):\n",
    "    \"\"\"\n",
    "    Takes the zillow_data dataset in wide form or a subset of the zillow_dataset.  \n",
    "    Returns a long-form datetime dataframe \n",
    "    with the datetime column names as the index and the values as the 'values' column.\n",
    "    \n",
    "    If more than one row is passes in the wide-form dataset, the values column\n",
    "    will be the mean of the values from the datetime columns in all of the rows.\n",
    "    \"\"\"\n",
    "    \n",
    "    melted = pd.melt(df, id_vars=[column_list])\n",
    "    #melted['time'] = pd.to_datetime(melted['time'], infer_datetime_format=True)\n",
    "    #melted = melted.dropna(subset=['value'])\n",
    "    return melted"
   ]
  },
  {
   "cell_type": "code",
   "execution_count": 359,
   "metadata": {
    "ExecuteTime": {
     "end_time": "2022-01-10T18:50:28.411313Z",
     "start_time": "2022-01-10T18:50:28.388838Z"
    }
   },
   "outputs": [
    {
     "ename": "KeyError",
     "evalue": "\"The following 'id_vars' are not present in the DataFrame: ['HR', 'Opp_HR', 'Opp_assists', 'Opp_at_bats', 'Opp_average_leverage_index', 'Opp_base_out_runs_added', 'Opp_base_out_runs_saved', 'Opp_bases_on_balls', 'Opp_batting_average', 'Opp_earned_runs', 'Opp_fly_balls', 'Opp_game_score', 'Opp_grounded_balls', 'Opp_hits', 'Opp_inherited_runners', 'Opp_inherited_score', 'Opp_innings_pitched', 'Opp_line_drives', 'Opp_on_base_percentage', 'Opp_on_base_plus', 'Opp_pitches', 'Opp_plate_appearances', 'Opp_putouts', 'Opp_rbi', 'Opp_runs', 'Opp_slugging_percentage', 'Opp_strikeouts', 'Opp_strikes', 'Opp_strikes_by_contact', 'Opp_strikes_looking', 'Opp_strikes_swinging', 'Opp_unknown_bat_type', 'Opp_win_probability_added', 'Opp_win_probability_by_pitcher', 'Opp_win_probability_for_offensive_player', 'Opp_win_probability_subtracted', 'assists', 'at_bats', 'average_leverage_index', 'base_out_runs_added', 'base_out_runs_saved', 'bases_on_balls', 'batting_average', 'earned_runs', 'fly_balls', 'game_score', 'grounded_balls', 'hits', 'inherited_runners', 'inherited_score', 'innings_pitched', 'line_drives', 'on_base_percentage', 'on_base_plus', 'pitches', 'plate_appearances', 'putouts', 'rbi', 'runs', 'slugging_percentage', 'strikeouts', 'strikes', 'strikes_by_contact', 'strikes_looking', 'strikes_swinging', 'unknown_bat_type', 'win_probability_added', 'win_probability_by_pitcher', 'win_probability_for_offensive_player', 'win_probability_subtracted']\"",
     "output_type": "error",
     "traceback": [
      "\u001b[0;31m---------------------------------------------------------------------------\u001b[0m",
      "\u001b[0;31mKeyError\u001b[0m                                  Traceback (most recent call last)",
      "\u001b[0;32m<ipython-input-359-5d5e93089650>\u001b[0m in \u001b[0;36m<module>\u001b[0;34m\u001b[0m\n\u001b[0;32m----> 1\u001b[0;31m \u001b[0mmelt_data2\u001b[0m\u001b[0;34m(\u001b[0m\u001b[0mwonky\u001b[0m\u001b[0;34m)\u001b[0m\u001b[0;34m\u001b[0m\u001b[0;34m\u001b[0m\u001b[0m\n\u001b[0m",
      "\u001b[0;32m<ipython-input-358-e7dedeb83123>\u001b[0m in \u001b[0;36mmelt_data2\u001b[0;34m(df)\u001b[0m\n\u001b[1;32m      9\u001b[0m     \"\"\"\n\u001b[1;32m     10\u001b[0m \u001b[0;34m\u001b[0m\u001b[0m\n\u001b[0;32m---> 11\u001b[0;31m     \u001b[0mmelted\u001b[0m \u001b[0;34m=\u001b[0m \u001b[0mpd\u001b[0m\u001b[0;34m.\u001b[0m\u001b[0mmelt\u001b[0m\u001b[0;34m(\u001b[0m\u001b[0mdf\u001b[0m\u001b[0;34m,\u001b[0m \u001b[0mid_vars\u001b[0m\u001b[0;34m=\u001b[0m\u001b[0;34m[\u001b[0m\u001b[0mcolumn_list\u001b[0m\u001b[0;34m]\u001b[0m\u001b[0;34m)\u001b[0m\u001b[0;34m\u001b[0m\u001b[0;34m\u001b[0m\u001b[0m\n\u001b[0m\u001b[1;32m     12\u001b[0m     \u001b[0;31m#melted['time'] = pd.to_datetime(melted['time'], infer_datetime_format=True)\u001b[0m\u001b[0;34m\u001b[0m\u001b[0;34m\u001b[0m\u001b[0;34m\u001b[0m\u001b[0m\n\u001b[1;32m     13\u001b[0m     \u001b[0;31m#melted = melted.dropna(subset=['value'])\u001b[0m\u001b[0;34m\u001b[0m\u001b[0;34m\u001b[0m\u001b[0;34m\u001b[0m\u001b[0m\n",
      "\u001b[0;32m~/opt/anaconda3/envs/learn-env/lib/python3.8/site-packages/pandas/core/reshape/melt.py\u001b[0m in \u001b[0;36mmelt\u001b[0;34m(frame, id_vars, value_vars, var_name, value_name, col_level, ignore_index)\u001b[0m\n\u001b[1;32m     65\u001b[0m             \u001b[0mmissing\u001b[0m \u001b[0;34m=\u001b[0m \u001b[0mIndex\u001b[0m\u001b[0;34m(\u001b[0m\u001b[0mcom\u001b[0m\u001b[0;34m.\u001b[0m\u001b[0mflatten\u001b[0m\u001b[0;34m(\u001b[0m\u001b[0mid_vars\u001b[0m\u001b[0;34m)\u001b[0m\u001b[0;34m)\u001b[0m\u001b[0;34m.\u001b[0m\u001b[0mdifference\u001b[0m\u001b[0;34m(\u001b[0m\u001b[0mcols\u001b[0m\u001b[0;34m)\u001b[0m\u001b[0;34m\u001b[0m\u001b[0;34m\u001b[0m\u001b[0m\n\u001b[1;32m     66\u001b[0m             \u001b[0;32mif\u001b[0m \u001b[0;32mnot\u001b[0m \u001b[0mmissing\u001b[0m\u001b[0;34m.\u001b[0m\u001b[0mempty\u001b[0m\u001b[0;34m:\u001b[0m\u001b[0;34m\u001b[0m\u001b[0;34m\u001b[0m\u001b[0m\n\u001b[0;32m---> 67\u001b[0;31m                 raise KeyError(\n\u001b[0m\u001b[1;32m     68\u001b[0m                     \u001b[0;34m\"The following 'id_vars' are not present \"\u001b[0m\u001b[0;34m\u001b[0m\u001b[0;34m\u001b[0m\u001b[0m\n\u001b[1;32m     69\u001b[0m                     \u001b[0;34mf\"in the DataFrame: {list(missing)}\"\u001b[0m\u001b[0;34m\u001b[0m\u001b[0;34m\u001b[0m\u001b[0m\n",
      "\u001b[0;31mKeyError\u001b[0m: \"The following 'id_vars' are not present in the DataFrame: ['HR', 'Opp_HR', 'Opp_assists', 'Opp_at_bats', 'Opp_average_leverage_index', 'Opp_base_out_runs_added', 'Opp_base_out_runs_saved', 'Opp_bases_on_balls', 'Opp_batting_average', 'Opp_earned_runs', 'Opp_fly_balls', 'Opp_game_score', 'Opp_grounded_balls', 'Opp_hits', 'Opp_inherited_runners', 'Opp_inherited_score', 'Opp_innings_pitched', 'Opp_line_drives', 'Opp_on_base_percentage', 'Opp_on_base_plus', 'Opp_pitches', 'Opp_plate_appearances', 'Opp_putouts', 'Opp_rbi', 'Opp_runs', 'Opp_slugging_percentage', 'Opp_strikeouts', 'Opp_strikes', 'Opp_strikes_by_contact', 'Opp_strikes_looking', 'Opp_strikes_swinging', 'Opp_unknown_bat_type', 'Opp_win_probability_added', 'Opp_win_probability_by_pitcher', 'Opp_win_probability_for_offensive_player', 'Opp_win_probability_subtracted', 'assists', 'at_bats', 'average_leverage_index', 'base_out_runs_added', 'base_out_runs_saved', 'bases_on_balls', 'batting_average', 'earned_runs', 'fly_balls', 'game_score', 'grounded_balls', 'hits', 'inherited_runners', 'inherited_score', 'innings_pitched', 'line_drives', 'on_base_percentage', 'on_base_plus', 'pitches', 'plate_appearances', 'putouts', 'rbi', 'runs', 'slugging_percentage', 'strikeouts', 'strikes', 'strikes_by_contact', 'strikes_looking', 'strikes_swinging', 'unknown_bat_type', 'win_probability_added', 'win_probability_by_pitcher', 'win_probability_for_offensive_player', 'win_probability_subtracted']\""
     ]
    }
   ],
   "source": [
    "melt_data2(wonky)"
   ]
  },
  {
   "cell_type": "code",
   "execution_count": null,
   "metadata": {},
   "outputs": [],
   "source": [
    "# This function is used to get the stats for a team in the season. The parameters are:\n",
    "# the team abbr, the season, the day number of the season, and whether you want to see\n",
    "# each individual game or the season averages.\n",
    "\n",
    "def team_regular_season(team_abbr, df = df, average=True):\n",
    "\n",
    "    # create a dataframe that has all the wins/losses of a team during the season up to the given day number.\n",
    "    homegames = df[(df['home_name'] == team_name)] # & (df['date'] < date)] \n",
    "    awaygames= df[(df['away_name'] == team_name)] #& (df['date'] < date)]\n",
    "\n",
    "    # split the dataframes to only have the offensive statistics of the given team\n",
    "    home_offense = homegames.filter(like = 'home')    \n",
    "    away_offense = awaygames.filter(like = 'away')\n",
    "\n",
    "    # split the dataframes to only have the defensive statistics of the given team\n",
    "    home_offense.columns = home_offense.columns.str.replace('home_','')\n",
    "    away_offense.columns = away_offense.columns.str.replace('away_','')\n",
    "\n",
    "    # concat the two offensive dataframes\n",
    "    team_offense = pd.concat([home_offense, away_offense])\n",
    "\n",
    "    # create oppposing team statistics from the given games\n",
    "    homegames_opponents = homegames.filter(like = 'away')\n",
    "    awaygames_opponents = awaygames.filter(like = 'home')\n",
    "\n",
    "    # rename the columns from the opponent statistics dataframes\n",
    "    homegames_opponents.columns = homegames_opponents.columns.str.replace('away_','')\n",
    "    awaygames_opponents.columns = awaygames_opponents.columns.str.replace('home_','')\n",
    "\n",
    "    # concat the dataframes from opponent wins and losses\n",
    "    team_opponents = pd.concat([homegames_opponents, awaygames_opponents])\n",
    "    \n",
    "    # concat the team stats and the opponent stats to create a full picture of the team's season\n",
    "    teamtotal = pd.concat([team_offense, team_opponents.add_prefix('Opp_')], axis = 1)\n",
    "    \n",
    "    teamtotal.drop(['Opp_name'], axis = 1, inplace = True)\n",
    "    \n",
    "    # return either the season averages or the game by game statistics\n",
    "    if average:\n",
    "        teamtotal = teamtotal.groupby('name').mean().reset_index()\n",
    "        add_rate_cols(teamtotal)\n",
    "    \n",
    "    if average == False:\n",
    "        teamtotal = add_rate_cols(teamtotal)\n",
    "        \n",
    "    return teamtotal"
   ]
  },
  {
   "cell_type": "code",
   "execution_count": null,
   "metadata": {},
   "outputs": [],
   "source": []
  },
  {
   "cell_type": "code",
   "execution_count": null,
   "metadata": {},
   "outputs": [],
   "source": []
  },
  {
   "cell_type": "code",
   "execution_count": null,
   "metadata": {},
   "outputs": [],
   "source": []
  },
  {
   "cell_type": "code",
   "execution_count": null,
   "metadata": {},
   "outputs": [],
   "source": []
  },
  {
   "cell_type": "code",
   "execution_count": null,
   "metadata": {},
   "outputs": [],
   "source": []
  },
  {
   "cell_type": "code",
   "execution_count": null,
   "metadata": {},
   "outputs": [],
   "source": []
  },
  {
   "cell_type": "code",
   "execution_count": 26,
   "metadata": {
    "ExecuteTime": {
     "end_time": "2022-01-10T16:25:45.869026Z",
     "start_time": "2022-01-10T16:21:17.808969Z"
    }
   },
   "outputs": [
    {
     "name": "stdout",
     "output_type": "stream",
     "text": [
      "Collecting pybaseball\n",
      "  Downloading pybaseball-2.2.1-py3-none-any.whl (415 kB)\n",
      "\u001b[K     |████████████████████████████████| 415 kB 1.8 MB/s eta 0:00:01     |█████████████████████████████▏  | 378 kB 1.8 MB/s eta 0:00:01\n",
      "\u001b[?25hRequirement already satisfied: tqdm>=4.50.0 in /Users/matthewreinhart/opt/anaconda3/envs/learn-env/lib/python3.8/site-packages (from pybaseball) (4.50.2)\n",
      "Requirement already satisfied: scipy>=1.4.0 in /Users/matthewreinhart/opt/anaconda3/envs/learn-env/lib/python3.8/site-packages (from pybaseball) (1.5.2)\n",
      "Collecting attrs>=20.3.0\n",
      "  Downloading attrs-21.4.0-py2.py3-none-any.whl (60 kB)\n",
      "\u001b[K     |████████████████████████████████| 60 kB 2.1 MB/s eta 0:00:01\n",
      "\u001b[?25hRequirement already satisfied: matplotlib>=2.0.0 in /Users/matthewreinhart/opt/anaconda3/envs/learn-env/lib/python3.8/site-packages (from pybaseball) (3.3.1)\n",
      "Requirement already satisfied: pyarrow>=1.0.1 in /Users/matthewreinhart/opt/anaconda3/envs/learn-env/lib/python3.8/site-packages (from pybaseball) (1.0.1)\n",
      "Collecting pygithub>=1.51\n",
      "  Downloading PyGithub-1.55-py3-none-any.whl (291 kB)\n",
      "\u001b[K     |████████████████████████████████| 291 kB 1.3 MB/s eta 0:00:01\n",
      "\u001b[?25hRequirement already satisfied: beautifulsoup4>=4.4.0 in /Users/matthewreinhart/opt/anaconda3/envs/learn-env/lib/python3.8/site-packages (from pybaseball) (4.9.3)\n",
      "Requirement already satisfied: numpy>=1.13.0 in /Users/matthewreinhart/opt/anaconda3/envs/learn-env/lib/python3.8/site-packages (from pybaseball) (1.18.5)\n",
      "Requirement already satisfied: lxml>=4.2.1 in /Users/matthewreinhart/opt/anaconda3/envs/learn-env/lib/python3.8/site-packages (from pybaseball) (4.5.2)\n",
      "Requirement already satisfied: requests>=2.18.1 in /Users/matthewreinhart/opt/anaconda3/envs/learn-env/lib/python3.8/site-packages (from pybaseball) (2.24.0)\n",
      "Requirement already satisfied: pandas>=1.0.3 in /Users/matthewreinhart/opt/anaconda3/envs/learn-env/lib/python3.8/site-packages (from pybaseball) (1.1.3)\n",
      "Requirement already satisfied: python-dateutil>=2.1 in /Users/matthewreinhart/opt/anaconda3/envs/learn-env/lib/python3.8/site-packages (from matplotlib>=2.0.0->pybaseball) (2.8.1)\n",
      "Requirement already satisfied: cycler>=0.10 in /Users/matthewreinhart/opt/anaconda3/envs/learn-env/lib/python3.8/site-packages (from matplotlib>=2.0.0->pybaseball) (0.10.0)\n",
      "Requirement already satisfied: certifi>=2020.06.20 in /Users/matthewreinhart/opt/anaconda3/envs/learn-env/lib/python3.8/site-packages (from matplotlib>=2.0.0->pybaseball) (2020.6.20)\n",
      "Requirement already satisfied: pyparsing!=2.0.4,!=2.1.2,!=2.1.6,>=2.0.3 in /Users/matthewreinhart/opt/anaconda3/envs/learn-env/lib/python3.8/site-packages (from matplotlib>=2.0.0->pybaseball) (2.4.7)\n",
      "Requirement already satisfied: pillow>=6.2.0 in /Users/matthewreinhart/opt/anaconda3/envs/learn-env/lib/python3.8/site-packages (from matplotlib>=2.0.0->pybaseball) (7.2.0)\n",
      "Requirement already satisfied: kiwisolver>=1.0.1 in /Users/matthewreinhart/opt/anaconda3/envs/learn-env/lib/python3.8/site-packages (from matplotlib>=2.0.0->pybaseball) (1.2.0)\n",
      "Collecting deprecated\n",
      "  Downloading Deprecated-1.2.13-py2.py3-none-any.whl (9.6 kB)\n",
      "Collecting pynacl>=1.4.0\n",
      "  Downloading PyNaCl-1.5.0.tar.gz (3.4 MB)\n",
      "\u001b[K     |████████████████████████████████| 3.4 MB 2.0 MB/s eta 0:00:01\n",
      "\u001b[?25h  Installing build dependencies ... \u001b[?25ldone\n",
      "\u001b[?25h  Getting requirements to build wheel ... \u001b[?25ldone\n",
      "\u001b[?25h    Preparing wheel metadata ... \u001b[?25ldone\n",
      "\u001b[?25hCollecting pyjwt>=2.0\n",
      "  Downloading PyJWT-2.3.0-py3-none-any.whl (16 kB)\n",
      "Requirement already satisfied: soupsieve>1.2; python_version >= \"3.0\" in /Users/matthewreinhart/opt/anaconda3/envs/learn-env/lib/python3.8/site-packages (from beautifulsoup4>=4.4.0->pybaseball) (2.0.1)\n",
      "Requirement already satisfied: urllib3!=1.25.0,!=1.25.1,<1.26,>=1.21.1 in /Users/matthewreinhart/opt/anaconda3/envs/learn-env/lib/python3.8/site-packages (from requests>=2.18.1->pybaseball) (1.25.10)\n",
      "Requirement already satisfied: chardet<4,>=3.0.2 in /Users/matthewreinhart/opt/anaconda3/envs/learn-env/lib/python3.8/site-packages (from requests>=2.18.1->pybaseball) (3.0.4)\n",
      "Requirement already satisfied: idna<3,>=2.5 in /Users/matthewreinhart/opt/anaconda3/envs/learn-env/lib/python3.8/site-packages (from requests>=2.18.1->pybaseball) (2.10)\n",
      "Requirement already satisfied: pytz>=2017.2 in /Users/matthewreinhart/opt/anaconda3/envs/learn-env/lib/python3.8/site-packages (from pandas>=1.0.3->pybaseball) (2020.1)\n",
      "Requirement already satisfied: six>=1.5 in /Users/matthewreinhart/opt/anaconda3/envs/learn-env/lib/python3.8/site-packages (from python-dateutil>=2.1->matplotlib>=2.0.0->pybaseball) (1.15.0)\n",
      "Requirement already satisfied: wrapt<2,>=1.10 in /Users/matthewreinhart/opt/anaconda3/envs/learn-env/lib/python3.8/site-packages (from deprecated->pygithub>=1.51->pybaseball) (1.12.1)\n",
      "Requirement already satisfied: cffi>=1.4.1 in /Users/matthewreinhart/opt/anaconda3/envs/learn-env/lib/python3.8/site-packages (from pynacl>=1.4.0->pygithub>=1.51->pybaseball) (1.14.3)\n",
      "Requirement already satisfied: pycparser in /Users/matthewreinhart/opt/anaconda3/envs/learn-env/lib/python3.8/site-packages (from cffi>=1.4.1->pynacl>=1.4.0->pygithub>=1.51->pybaseball) (2.20)\n",
      "Building wheels for collected packages: pynacl\n",
      "  Building wheel for pynacl (PEP 517) ... \u001b[?25ldone\n",
      "\u001b[?25h  Created wheel for pynacl: filename=PyNaCl-1.5.0-cp38-cp38-macosx_10_9_x86_64.whl size=102808 sha256=ba7732b5ff1aa5f86f10699f646ae2b2cd2e5df57580927649a6433a20958b95\n",
      "  Stored in directory: /Users/matthewreinhart/Library/Caches/pip/wheels/3e/4c/46/6bbb66a5a15a3fa4e336d680ccc6a4ebd556d087d38945ce17\n",
      "Successfully built pynacl\n",
      "Installing collected packages: attrs, deprecated, pynacl, pyjwt, pygithub, pybaseball\n",
      "  Attempting uninstall: attrs\n",
      "    Found existing installation: attrs 20.2.0\n",
      "    Uninstalling attrs-20.2.0:\n",
      "      Successfully uninstalled attrs-20.2.0\n",
      "Successfully installed attrs-21.4.0 deprecated-1.2.13 pybaseball-2.2.1 pygithub-1.55 pyjwt-2.3.0 pynacl-1.5.0\n",
      "Note: you may need to restart the kernel to use updated packages.\n"
     ]
    }
   ],
   "source": [
    "pip install pybaseball"
   ]
  },
  {
   "cell_type": "code",
   "execution_count": 27,
   "metadata": {
    "ExecuteTime": {
     "end_time": "2022-01-10T16:25:53.698410Z",
     "start_time": "2022-01-10T16:25:51.816369Z"
    }
   },
   "outputs": [],
   "source": [
    "from pybaseball import statcast"
   ]
  },
  {
   "cell_type": "code",
   "execution_count": 28,
   "metadata": {
    "ExecuteTime": {
     "end_time": "2022-01-10T16:26:10.863617Z",
     "start_time": "2022-01-10T16:26:10.860447Z"
    }
   },
   "outputs": [],
   "source": [
    "from pybaseball import schedule_and_record"
   ]
  },
  {
   "cell_type": "code",
   "execution_count": 58,
   "metadata": {
    "ExecuteTime": {
     "end_time": "2022-01-10T16:31:14.056437Z",
     "start_time": "2022-01-10T16:31:13.418680Z"
    }
   },
   "outputs": [],
   "source": [
    "nyy_data = schedule_and_record(2019,'NYY')"
   ]
  },
  {
   "cell_type": "code",
   "execution_count": 59,
   "metadata": {
    "ExecuteTime": {
     "end_time": "2022-01-10T16:31:14.070409Z",
     "start_time": "2022-01-10T16:31:14.059670Z"
    }
   },
   "outputs": [
    {
     "data": {
      "text/plain": [
       "TOR    19\n",
       "BAL    19\n",
       "BOS    19\n",
       "TBR    19\n",
       "SEA     7\n",
       "HOU     7\n",
       "CHW     7\n",
       "KCR     7\n",
       "CLE     7\n",
       "LAA     7\n",
       "DET     6\n",
       "TEX     6\n",
       "OAK     6\n",
       "MIN     6\n",
       "NYM     4\n",
       "ARI     4\n",
       "COL     3\n",
       "SDP     3\n",
       "SFG     3\n",
       "LAD     3\n",
       "Name: Opp, dtype: int64"
      ]
     },
     "execution_count": 59,
     "metadata": {},
     "output_type": "execute_result"
    }
   ],
   "source": [
    "nyy_data.Opp.value_counts()"
   ]
  },
  {
   "cell_type": "code",
   "execution_count": 73,
   "metadata": {
    "ExecuteTime": {
     "end_time": "2022-01-10T16:33:06.213175Z",
     "start_time": "2022-01-10T16:33:06.186145Z"
    }
   },
   "outputs": [],
   "source": [
    "yanks_opp=list(nyy_data.Opp.unique())"
   ]
  },
  {
   "cell_type": "code",
   "execution_count": 74,
   "metadata": {
    "ExecuteTime": {
     "end_time": "2022-01-10T16:33:08.779765Z",
     "start_time": "2022-01-10T16:33:08.216310Z"
    }
   },
   "outputs": [],
   "source": [
    "nym_data=schedule_and_record(2019,'NYM')"
   ]
  },
  {
   "cell_type": "code",
   "execution_count": 75,
   "metadata": {
    "ExecuteTime": {
     "end_time": "2022-01-10T16:33:09.416982Z",
     "start_time": "2022-01-10T16:33:09.412546Z"
    }
   },
   "outputs": [],
   "source": [
    "mets_opp=list(nym_data.Opp.unique())"
   ]
  },
  {
   "cell_type": "code",
   "execution_count": 76,
   "metadata": {
    "ExecuteTime": {
     "end_time": "2022-01-10T16:33:16.046784Z",
     "start_time": "2022-01-10T16:33:16.040121Z"
    }
   },
   "outputs": [
    {
     "data": {
      "text/plain": [
       "['BAL',\n",
       " 'DET',\n",
       " 'HOU',\n",
       " 'CHW',\n",
       " 'BOS',\n",
       " 'KCR',\n",
       " 'LAA',\n",
       " 'SFG',\n",
       " 'ARI',\n",
       " 'MIN',\n",
       " 'SEA',\n",
       " 'TBR',\n",
       " 'SDP',\n",
       " 'TOR',\n",
       " 'CLE',\n",
       " 'NYM',\n",
       " 'COL',\n",
       " 'OAK',\n",
       " 'LAD',\n",
       " 'TEX']"
      ]
     },
     "execution_count": 76,
     "metadata": {},
     "output_type": "execute_result"
    }
   ],
   "source": [
    "yanks_opp"
   ]
  },
  {
   "cell_type": "code",
   "execution_count": 77,
   "metadata": {
    "ExecuteTime": {
     "end_time": "2022-01-10T16:33:29.567950Z",
     "start_time": "2022-01-10T16:33:29.560262Z"
    }
   },
   "outputs": [
    {
     "data": {
      "text/plain": [
       "['WSN',\n",
       " 'MIA',\n",
       " 'MIN',\n",
       " 'ATL',\n",
       " 'PHI',\n",
       " 'STL',\n",
       " 'MIL',\n",
       " 'CIN',\n",
       " 'SDP',\n",
       " 'DET',\n",
       " 'LAD',\n",
       " 'ARI',\n",
       " 'SFG',\n",
       " 'COL',\n",
       " 'NYY',\n",
       " 'CHC',\n",
       " 'PIT',\n",
       " 'CHW',\n",
       " 'KCR',\n",
       " 'CLE']"
      ]
     },
     "execution_count": 77,
     "metadata": {},
     "output_type": "execute_result"
    }
   ],
   "source": [
    "mets_opp"
   ]
  },
  {
   "cell_type": "code",
   "execution_count": 78,
   "metadata": {
    "ExecuteTime": {
     "end_time": "2022-01-10T16:33:38.790249Z",
     "start_time": "2022-01-10T16:33:38.785889Z"
    }
   },
   "outputs": [],
   "source": [
    "yanks_opp.append(mets_opp)"
   ]
  },
  {
   "cell_type": "code",
   "execution_count": 82,
   "metadata": {
    "ExecuteTime": {
     "end_time": "2022-01-10T16:35:49.968424Z",
     "start_time": "2022-01-10T16:35:49.960815Z"
    }
   },
   "outputs": [],
   "source": [
    "all_opp=['BAL','DET','HOU','CHW','BOS','KCR','LAA','SFG','ARI','MIN','SEA','TBR','SDP','TOR','CLE',\n",
    " 'NYM','COL','OAK','LAD','TEX','WSN','MIA', 'MIN', 'ATL', 'PHI', 'STL', 'MIL',\n",
    "  'CIN', 'SDP','DET','LAD', 'ARI','SFG','COL','NYY','CHC','PIT', 'CHW',\n",
    "  'KCR', 'CLE']"
   ]
  },
  {
   "cell_type": "code",
   "execution_count": 83,
   "metadata": {
    "ExecuteTime": {
     "end_time": "2022-01-10T16:35:57.831229Z",
     "start_time": "2022-01-10T16:35:57.824607Z"
    }
   },
   "outputs": [
    {
     "data": {
      "text/plain": [
       "40"
      ]
     },
     "execution_count": 83,
     "metadata": {},
     "output_type": "execute_result"
    }
   ],
   "source": [
    "len(all_opp)"
   ]
  },
  {
   "cell_type": "code",
   "execution_count": 86,
   "metadata": {
    "ExecuteTime": {
     "end_time": "2022-01-10T16:36:25.865370Z",
     "start_time": "2022-01-10T16:36:25.855286Z"
    }
   },
   "outputs": [
    {
     "data": {
      "text/plain": [
       "30"
      ]
     },
     "execution_count": 86,
     "metadata": {},
     "output_type": "execute_result"
    }
   ],
   "source": [
    "len(set(all_opp))"
   ]
  },
  {
   "cell_type": "code",
   "execution_count": 87,
   "metadata": {
    "ExecuteTime": {
     "end_time": "2022-01-10T16:36:57.850003Z",
     "start_time": "2022-01-10T16:36:57.844192Z"
    }
   },
   "outputs": [],
   "source": [
    "all_teams=list(set(all_opp))"
   ]
  },
  {
   "cell_type": "code",
   "execution_count": 88,
   "metadata": {
    "ExecuteTime": {
     "end_time": "2022-01-10T16:37:04.306719Z",
     "start_time": "2022-01-10T16:37:04.298490Z"
    }
   },
   "outputs": [
    {
     "data": {
      "text/plain": [
       "30"
      ]
     },
     "execution_count": 88,
     "metadata": {},
     "output_type": "execute_result"
    }
   ],
   "source": [
    "len(all_teams)"
   ]
  },
  {
   "cell_type": "code",
   "execution_count": 97,
   "metadata": {
    "ExecuteTime": {
     "end_time": "2022-01-10T16:45:15.265501Z",
     "start_time": "2022-01-10T16:45:15.199119Z"
    }
   },
   "outputs": [
    {
     "data": {
      "text/html": [
       "<div>\n",
       "<style scoped>\n",
       "    .dataframe tbody tr th:only-of-type {\n",
       "        vertical-align: middle;\n",
       "    }\n",
       "\n",
       "    .dataframe tbody tr th {\n",
       "        vertical-align: top;\n",
       "    }\n",
       "\n",
       "    .dataframe thead th {\n",
       "        text-align: right;\n",
       "    }\n",
       "</style>\n",
       "<table border=\"1\" class=\"dataframe\">\n",
       "  <thead>\n",
       "    <tr style=\"text-align: right;\">\n",
       "      <th></th>\n",
       "      <th>Date</th>\n",
       "      <th>Tm</th>\n",
       "      <th>Home_Away</th>\n",
       "      <th>Opp</th>\n",
       "      <th>W/L</th>\n",
       "      <th>R</th>\n",
       "      <th>RA</th>\n",
       "      <th>Inn</th>\n",
       "      <th>W-L</th>\n",
       "      <th>Rank</th>\n",
       "      <th>GB</th>\n",
       "      <th>Win</th>\n",
       "      <th>Loss</th>\n",
       "      <th>Save</th>\n",
       "      <th>Time</th>\n",
       "      <th>D/N</th>\n",
       "      <th>Attendance</th>\n",
       "      <th>cLI</th>\n",
       "      <th>Streak</th>\n",
       "      <th>Orig. Scheduled</th>\n",
       "    </tr>\n",
       "  </thead>\n",
       "  <tbody>\n",
       "    <tr>\n",
       "      <th>1</th>\n",
       "      <td>Thursday, Mar 28</td>\n",
       "      <td>NYY</td>\n",
       "      <td>Home</td>\n",
       "      <td>BAL</td>\n",
       "      <td>W</td>\n",
       "      <td>7.0</td>\n",
       "      <td>2.0</td>\n",
       "      <td>9.0</td>\n",
       "      <td>1-0</td>\n",
       "      <td>1.0</td>\n",
       "      <td>up 1.0</td>\n",
       "      <td>Tanaka</td>\n",
       "      <td>Cashner</td>\n",
       "      <td>None</td>\n",
       "      <td>3:06</td>\n",
       "      <td>D</td>\n",
       "      <td>46928.0</td>\n",
       "      <td>1.08</td>\n",
       "      <td>1</td>\n",
       "      <td>None</td>\n",
       "    </tr>\n",
       "    <tr>\n",
       "      <th>2</th>\n",
       "      <td>Saturday, Mar 30</td>\n",
       "      <td>NYY</td>\n",
       "      <td>Home</td>\n",
       "      <td>BAL</td>\n",
       "      <td>L</td>\n",
       "      <td>3.0</td>\n",
       "      <td>5.0</td>\n",
       "      <td>9.0</td>\n",
       "      <td>1-1</td>\n",
       "      <td>3.0</td>\n",
       "      <td>0.5</td>\n",
       "      <td>Yacabonis</td>\n",
       "      <td>Paxton</td>\n",
       "      <td>Wright</td>\n",
       "      <td>3:24</td>\n",
       "      <td>D</td>\n",
       "      <td>42203.0</td>\n",
       "      <td>1.12</td>\n",
       "      <td>-1</td>\n",
       "      <td>None</td>\n",
       "    </tr>\n",
       "    <tr>\n",
       "      <th>3</th>\n",
       "      <td>Sunday, Mar 31</td>\n",
       "      <td>NYY</td>\n",
       "      <td>Home</td>\n",
       "      <td>BAL</td>\n",
       "      <td>L</td>\n",
       "      <td>5.0</td>\n",
       "      <td>7.0</td>\n",
       "      <td>9.0</td>\n",
       "      <td>1-2</td>\n",
       "      <td>4.0</td>\n",
       "      <td>1.5</td>\n",
       "      <td>Means</td>\n",
       "      <td>Happ</td>\n",
       "      <td>Fry</td>\n",
       "      <td>3:48</td>\n",
       "      <td>D</td>\n",
       "      <td>38419.0</td>\n",
       "      <td>1.04</td>\n",
       "      <td>-2</td>\n",
       "      <td>None</td>\n",
       "    </tr>\n",
       "    <tr>\n",
       "      <th>4</th>\n",
       "      <td>Monday, Apr 1</td>\n",
       "      <td>NYY</td>\n",
       "      <td>Home</td>\n",
       "      <td>DET</td>\n",
       "      <td>W</td>\n",
       "      <td>3.0</td>\n",
       "      <td>1.0</td>\n",
       "      <td>9.0</td>\n",
       "      <td>2-2</td>\n",
       "      <td>3.0</td>\n",
       "      <td>1.5</td>\n",
       "      <td>German</td>\n",
       "      <td>Ross</td>\n",
       "      <td>Chapman</td>\n",
       "      <td>2:43</td>\n",
       "      <td>N</td>\n",
       "      <td>32036.0</td>\n",
       "      <td>.91</td>\n",
       "      <td>1</td>\n",
       "      <td>None</td>\n",
       "    </tr>\n",
       "    <tr>\n",
       "      <th>5</th>\n",
       "      <td>Tuesday, Apr 2</td>\n",
       "      <td>NYY</td>\n",
       "      <td>Home</td>\n",
       "      <td>DET</td>\n",
       "      <td>L</td>\n",
       "      <td>1.0</td>\n",
       "      <td>3.0</td>\n",
       "      <td>9.0</td>\n",
       "      <td>2-3</td>\n",
       "      <td>3.0</td>\n",
       "      <td>2.5</td>\n",
       "      <td>Jimenez</td>\n",
       "      <td>Chapman</td>\n",
       "      <td>Greene</td>\n",
       "      <td>2:41</td>\n",
       "      <td>N</td>\n",
       "      <td>32018.0</td>\n",
       "      <td>.91</td>\n",
       "      <td>-1</td>\n",
       "      <td>None</td>\n",
       "    </tr>\n",
       "    <tr>\n",
       "      <th>...</th>\n",
       "      <td>...</td>\n",
       "      <td>...</td>\n",
       "      <td>...</td>\n",
       "      <td>...</td>\n",
       "      <td>...</td>\n",
       "      <td>...</td>\n",
       "      <td>...</td>\n",
       "      <td>...</td>\n",
       "      <td>...</td>\n",
       "      <td>...</td>\n",
       "      <td>...</td>\n",
       "      <td>...</td>\n",
       "      <td>...</td>\n",
       "      <td>...</td>\n",
       "      <td>...</td>\n",
       "      <td>...</td>\n",
       "      <td>...</td>\n",
       "      <td>...</td>\n",
       "      <td>...</td>\n",
       "      <td>...</td>\n",
       "    </tr>\n",
       "    <tr>\n",
       "      <th>158</th>\n",
       "      <td>Wednesday, Sep 25</td>\n",
       "      <td>NYM</td>\n",
       "      <td>Home</td>\n",
       "      <td>MIA</td>\n",
       "      <td>W</td>\n",
       "      <td>10.0</td>\n",
       "      <td>3.0</td>\n",
       "      <td>9.0</td>\n",
       "      <td>83-75</td>\n",
       "      <td>3.0</td>\n",
       "      <td>13.5</td>\n",
       "      <td>deGrom</td>\n",
       "      <td>Dugger</td>\n",
       "      <td>None</td>\n",
       "      <td>2:48</td>\n",
       "      <td>N</td>\n",
       "      <td>21471.0</td>\n",
       "      <td>.02</td>\n",
       "      <td>2</td>\n",
       "      <td>None</td>\n",
       "    </tr>\n",
       "    <tr>\n",
       "      <th>159</th>\n",
       "      <td>Thursday, Sep 26</td>\n",
       "      <td>NYM</td>\n",
       "      <td>Home</td>\n",
       "      <td>MIA</td>\n",
       "      <td>L</td>\n",
       "      <td>2.0</td>\n",
       "      <td>4.0</td>\n",
       "      <td>9.0</td>\n",
       "      <td>83-76</td>\n",
       "      <td>3.0</td>\n",
       "      <td>14.0</td>\n",
       "      <td>Brigham</td>\n",
       "      <td>Wheeler</td>\n",
       "      <td>Urena</td>\n",
       "      <td>2:45</td>\n",
       "      <td>N</td>\n",
       "      <td>21729.0</td>\n",
       "      <td>.00</td>\n",
       "      <td>-1</td>\n",
       "      <td>None</td>\n",
       "    </tr>\n",
       "    <tr>\n",
       "      <th>160</th>\n",
       "      <td>Friday, Sep 27</td>\n",
       "      <td>NYM</td>\n",
       "      <td>Home</td>\n",
       "      <td>ATL</td>\n",
       "      <td>W</td>\n",
       "      <td>4.0</td>\n",
       "      <td>2.0</td>\n",
       "      <td>9.0</td>\n",
       "      <td>84-76</td>\n",
       "      <td>3.0</td>\n",
       "      <td>13.0</td>\n",
       "      <td>Stroman</td>\n",
       "      <td>Keuchel</td>\n",
       "      <td>Lugo</td>\n",
       "      <td>3:09</td>\n",
       "      <td>N</td>\n",
       "      <td>26264.0</td>\n",
       "      <td>.00</td>\n",
       "      <td>1</td>\n",
       "      <td>None</td>\n",
       "    </tr>\n",
       "    <tr>\n",
       "      <th>161</th>\n",
       "      <td>Saturday, Sep 28</td>\n",
       "      <td>NYM</td>\n",
       "      <td>Home</td>\n",
       "      <td>ATL</td>\n",
       "      <td>W</td>\n",
       "      <td>3.0</td>\n",
       "      <td>0.0</td>\n",
       "      <td>9.0</td>\n",
       "      <td>85-76</td>\n",
       "      <td>3.0</td>\n",
       "      <td>12.0</td>\n",
       "      <td>Matz</td>\n",
       "      <td>Foltynewicz</td>\n",
       "      <td>Diaz</td>\n",
       "      <td>2:33</td>\n",
       "      <td>N</td>\n",
       "      <td>32210.0</td>\n",
       "      <td>.00</td>\n",
       "      <td>2</td>\n",
       "      <td>None</td>\n",
       "    </tr>\n",
       "    <tr>\n",
       "      <th>162</th>\n",
       "      <td>Sunday, Sep 29</td>\n",
       "      <td>NYM</td>\n",
       "      <td>Home</td>\n",
       "      <td>ATL</td>\n",
       "      <td>W-wo</td>\n",
       "      <td>7.0</td>\n",
       "      <td>6.0</td>\n",
       "      <td>11.0</td>\n",
       "      <td>86-76</td>\n",
       "      <td>3.0</td>\n",
       "      <td>11.0</td>\n",
       "      <td>Mazza</td>\n",
       "      <td>Dayton</td>\n",
       "      <td>None</td>\n",
       "      <td>3:44</td>\n",
       "      <td>D</td>\n",
       "      <td>31523.0</td>\n",
       "      <td>.00</td>\n",
       "      <td>3</td>\n",
       "      <td>None</td>\n",
       "    </tr>\n",
       "  </tbody>\n",
       "</table>\n",
       "<p>324 rows × 20 columns</p>\n",
       "</div>"
      ],
      "text/plain": [
       "                  Date   Tm Home_Away  Opp   W/L     R   RA   Inn    W-L  \\\n",
       "1     Thursday, Mar 28  NYY      Home  BAL     W   7.0  2.0   9.0    1-0   \n",
       "2     Saturday, Mar 30  NYY      Home  BAL     L   3.0  5.0   9.0    1-1   \n",
       "3       Sunday, Mar 31  NYY      Home  BAL     L   5.0  7.0   9.0    1-2   \n",
       "4        Monday, Apr 1  NYY      Home  DET     W   3.0  1.0   9.0    2-2   \n",
       "5       Tuesday, Apr 2  NYY      Home  DET     L   1.0  3.0   9.0    2-3   \n",
       "..                 ...  ...       ...  ...   ...   ...  ...   ...    ...   \n",
       "158  Wednesday, Sep 25  NYM      Home  MIA     W  10.0  3.0   9.0  83-75   \n",
       "159   Thursday, Sep 26  NYM      Home  MIA     L   2.0  4.0   9.0  83-76   \n",
       "160     Friday, Sep 27  NYM      Home  ATL     W   4.0  2.0   9.0  84-76   \n",
       "161   Saturday, Sep 28  NYM      Home  ATL     W   3.0  0.0   9.0  85-76   \n",
       "162     Sunday, Sep 29  NYM      Home  ATL  W-wo   7.0  6.0  11.0  86-76   \n",
       "\n",
       "     Rank      GB        Win         Loss     Save  Time D/N  Attendance  \\\n",
       "1     1.0  up 1.0     Tanaka      Cashner     None  3:06   D     46928.0   \n",
       "2     3.0     0.5  Yacabonis       Paxton   Wright  3:24   D     42203.0   \n",
       "3     4.0     1.5      Means         Happ      Fry  3:48   D     38419.0   \n",
       "4     3.0     1.5     German         Ross  Chapman  2:43   N     32036.0   \n",
       "5     3.0     2.5    Jimenez      Chapman   Greene  2:41   N     32018.0   \n",
       "..    ...     ...        ...          ...      ...   ...  ..         ...   \n",
       "158   3.0    13.5     deGrom       Dugger     None  2:48   N     21471.0   \n",
       "159   3.0    14.0    Brigham      Wheeler    Urena  2:45   N     21729.0   \n",
       "160   3.0    13.0    Stroman      Keuchel     Lugo  3:09   N     26264.0   \n",
       "161   3.0    12.0       Matz  Foltynewicz     Diaz  2:33   N     32210.0   \n",
       "162   3.0    11.0      Mazza       Dayton     None  3:44   D     31523.0   \n",
       "\n",
       "      cLI  Streak Orig. Scheduled  \n",
       "1    1.08       1            None  \n",
       "2    1.12      -1            None  \n",
       "3    1.04      -2            None  \n",
       "4     .91       1            None  \n",
       "5     .91      -1            None  \n",
       "..    ...     ...             ...  \n",
       "158   .02       2            None  \n",
       "159   .00      -1            None  \n",
       "160   .00       1            None  \n",
       "161   .00       2            None  \n",
       "162   .00       3            None  \n",
       "\n",
       "[324 rows x 20 columns]"
      ]
     },
     "execution_count": 97,
     "metadata": {},
     "output_type": "execute_result"
    }
   ],
   "source": [
    "pd.concat([nyy_data,nym_data])"
   ]
  },
  {
   "cell_type": "code",
   "execution_count": 98,
   "metadata": {
    "ExecuteTime": {
     "end_time": "2022-01-10T16:45:51.451274Z",
     "start_time": "2022-01-10T16:45:51.429570Z"
    }
   },
   "outputs": [
    {
     "name": "stdout",
     "output_type": "stream",
     "text": [
      "<class 'pandas.core.frame.DataFrame'>\n",
      "Int64Index: 162 entries, 1 to 162\n",
      "Data columns (total 20 columns):\n",
      " #   Column           Non-Null Count  Dtype  \n",
      "---  ------           --------------  -----  \n",
      " 0   Date             162 non-null    object \n",
      " 1   Tm               162 non-null    object \n",
      " 2   Home_Away        162 non-null    object \n",
      " 3   Opp              162 non-null    object \n",
      " 4   W/L              162 non-null    object \n",
      " 5   R                162 non-null    float64\n",
      " 6   RA               162 non-null    float64\n",
      " 7   Inn              162 non-null    float64\n",
      " 8   W-L              162 non-null    object \n",
      " 9   Rank             162 non-null    float64\n",
      " 10  GB               162 non-null    object \n",
      " 11  Win              162 non-null    object \n",
      " 12  Loss             162 non-null    object \n",
      " 13  Save             162 non-null    object \n",
      " 14  Time             162 non-null    object \n",
      " 15  D/N              162 non-null    object \n",
      " 16  Attendance       159 non-null    float64\n",
      " 17  cLI              162 non-null    object \n",
      " 18  Streak           162 non-null    int64  \n",
      " 19  Orig. Scheduled  7 non-null      object \n",
      "dtypes: float64(5), int64(1), object(14)\n",
      "memory usage: 31.6+ KB\n"
     ]
    }
   ],
   "source": [
    "nyy_data.info()"
   ]
  },
  {
   "cell_type": "code",
   "execution_count": null,
   "metadata": {},
   "outputs": [],
   "source": []
  }
 ],
 "metadata": {
  "kernelspec": {
   "display_name": "Python (learn-env)",
   "language": "python",
   "name": "learn-env"
  },
  "language_info": {
   "codemirror_mode": {
    "name": "ipython",
    "version": 3
   },
   "file_extension": ".py",
   "mimetype": "text/x-python",
   "name": "python",
   "nbconvert_exporter": "python",
   "pygments_lexer": "ipython3",
   "version": "3.8.5"
  },
  "notify_time": "30"
 },
 "nbformat": 4,
 "nbformat_minor": 4
}

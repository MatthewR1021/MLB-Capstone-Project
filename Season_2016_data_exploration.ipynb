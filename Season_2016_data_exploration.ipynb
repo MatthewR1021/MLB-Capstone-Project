{
 "cells": [
  {
   "cell_type": "code",
   "execution_count": 127,
   "metadata": {
    "ExecuteTime": {
     "end_time": "2022-01-11T21:59:39.693320Z",
     "start_time": "2022-01-11T21:59:39.685478Z"
    }
   },
   "outputs": [],
   "source": [
    "import pandas as pd\n",
    "import numpy as np\n",
    "from sklearn.model_selection import train_test_split\n",
    "from sklearn.dummy import DummyClassifier\n",
    "from sklearn.linear_model import LogisticRegression\n",
    "from sklearn.preprocessing import StandardScaler\n",
    "import warnings\n",
    "warnings.filterwarnings(\"ignore\")"
   ]
  },
  {
   "cell_type": "code",
   "execution_count": 91,
   "metadata": {
    "ExecuteTime": {
     "end_time": "2022-01-11T21:40:24.300674Z",
     "start_time": "2022-01-11T21:40:24.155768Z"
    }
   },
   "outputs": [],
   "source": [
    "df=pd.read_csv('data/Season_2016_TeamIDs.csv')"
   ]
  },
  {
   "cell_type": "code",
   "execution_count": 92,
   "metadata": {
    "ExecuteTime": {
     "end_time": "2022-01-11T21:40:24.395581Z",
     "start_time": "2022-01-11T21:40:24.386421Z"
    }
   },
   "outputs": [],
   "source": [
    "df.drop(['Unnamed: 0'],axis=1,inplace=True)"
   ]
  },
  {
   "cell_type": "code",
   "execution_count": 93,
   "metadata": {
    "ExecuteTime": {
     "end_time": "2022-01-11T21:40:24.617808Z",
     "start_time": "2022-01-11T21:40:24.602922Z"
    },
    "scrolled": true
   },
   "outputs": [
    {
     "data": {
      "text/plain": [
       "1    0.530066\n",
       "0    0.469934\n",
       "Name: home_win, dtype: float64"
      ]
     },
     "execution_count": 93,
     "metadata": {},
     "output_type": "execute_result"
    }
   ],
   "source": [
    "df.home_win.value_counts(normalize=True)"
   ]
  },
  {
   "cell_type": "code",
   "execution_count": 94,
   "metadata": {
    "ExecuteTime": {
     "end_time": "2022-01-11T21:40:24.848291Z",
     "start_time": "2022-01-11T21:40:24.820252Z"
    }
   },
   "outputs": [
    {
     "data": {
      "text/html": [
       "<div>\n",
       "<style scoped>\n",
       "    .dataframe tbody tr th:only-of-type {\n",
       "        vertical-align: middle;\n",
       "    }\n",
       "\n",
       "    .dataframe tbody tr th {\n",
       "        vertical-align: top;\n",
       "    }\n",
       "\n",
       "    .dataframe thead th {\n",
       "        text-align: right;\n",
       "    }\n",
       "</style>\n",
       "<table border=\"1\" class=\"dataframe\">\n",
       "  <thead>\n",
       "    <tr style=\"text-align: right;\">\n",
       "      <th></th>\n",
       "      <th>H_name</th>\n",
       "      <th>H_at_bats</th>\n",
       "      <th>H_runs</th>\n",
       "      <th>H_hits</th>\n",
       "      <th>H_rbi</th>\n",
       "      <th>H_earned_runs</th>\n",
       "      <th>H_bases_on_balls</th>\n",
       "      <th>H_strikeouts</th>\n",
       "      <th>H_plate_appearances</th>\n",
       "      <th>H_batting_average</th>\n",
       "      <th>...</th>\n",
       "      <th>A_Opp_grounded_balls</th>\n",
       "      <th>A_Opp_fly_balls</th>\n",
       "      <th>A_Opp_line_drives</th>\n",
       "      <th>A_Opp_unknown_bat_type</th>\n",
       "      <th>A_Opp_game_score</th>\n",
       "      <th>A_Opp_inherited_runners</th>\n",
       "      <th>A_Opp_inherited_score</th>\n",
       "      <th>A_Opp_win_probability_by_pitcher</th>\n",
       "      <th>A_Opp_base_out_runs_saved</th>\n",
       "      <th>home_win</th>\n",
       "    </tr>\n",
       "  </thead>\n",
       "  <tbody>\n",
       "    <tr>\n",
       "      <th>1</th>\n",
       "      <td>123456781</td>\n",
       "      <td>34.271605</td>\n",
       "      <td>4.166667</td>\n",
       "      <td>8.950617</td>\n",
       "      <td>3.950617</td>\n",
       "      <td>3.969568</td>\n",
       "      <td>2.358025</td>\n",
       "      <td>7.555556</td>\n",
       "      <td>37.358025</td>\n",
       "      <td>0.256889</td>\n",
       "      <td>...</td>\n",
       "      <td>12.104938</td>\n",
       "      <td>13.851852</td>\n",
       "      <td>6.907407</td>\n",
       "      <td>0.0</td>\n",
       "      <td>52.382716</td>\n",
       "      <td>1.49375</td>\n",
       "      <td>0.31875</td>\n",
       "      <td>0.035586</td>\n",
       "      <td>0.180864</td>\n",
       "      <td>1</td>\n",
       "    </tr>\n",
       "  </tbody>\n",
       "</table>\n",
       "<p>1 rows × 143 columns</p>\n",
       "</div>"
      ],
      "text/plain": [
       "      H_name  H_at_bats    H_runs    H_hits     H_rbi  H_earned_runs  \\\n",
       "1  123456781  34.271605  4.166667  8.950617  3.950617       3.969568   \n",
       "\n",
       "   H_bases_on_balls  H_strikeouts  H_plate_appearances  H_batting_average  \\\n",
       "1          2.358025      7.555556            37.358025           0.256889   \n",
       "\n",
       "   ...  A_Opp_grounded_balls  A_Opp_fly_balls  A_Opp_line_drives  \\\n",
       "1  ...             12.104938        13.851852           6.907407   \n",
       "\n",
       "   A_Opp_unknown_bat_type  A_Opp_game_score  A_Opp_inherited_runners  \\\n",
       "1                     0.0         52.382716                  1.49375   \n",
       "\n",
       "   A_Opp_inherited_score  A_Opp_win_probability_by_pitcher  \\\n",
       "1                0.31875                          0.035586   \n",
       "\n",
       "   A_Opp_base_out_runs_saved  home_win  \n",
       "1                   0.180864         1  \n",
       "\n",
       "[1 rows x 143 columns]"
      ]
     },
     "execution_count": 94,
     "metadata": {},
     "output_type": "execute_result"
    }
   ],
   "source": [
    "df[1:2]"
   ]
  },
  {
   "cell_type": "code",
   "execution_count": 95,
   "metadata": {
    "ExecuteTime": {
     "end_time": "2022-01-11T21:40:25.524127Z",
     "start_time": "2022-01-11T21:40:25.485933Z"
    }
   },
   "outputs": [
    {
     "data": {
      "text/html": [
       "<div>\n",
       "<style scoped>\n",
       "    .dataframe tbody tr th:only-of-type {\n",
       "        vertical-align: middle;\n",
       "    }\n",
       "\n",
       "    .dataframe tbody tr th {\n",
       "        vertical-align: top;\n",
       "    }\n",
       "\n",
       "    .dataframe thead th {\n",
       "        text-align: right;\n",
       "    }\n",
       "</style>\n",
       "<table border=\"1\" class=\"dataframe\">\n",
       "  <thead>\n",
       "    <tr style=\"text-align: right;\">\n",
       "      <th></th>\n",
       "      <th>H_name</th>\n",
       "      <th>H_at_bats</th>\n",
       "      <th>H_runs</th>\n",
       "      <th>H_hits</th>\n",
       "      <th>H_rbi</th>\n",
       "      <th>H_earned_runs</th>\n",
       "      <th>H_bases_on_balls</th>\n",
       "      <th>H_strikeouts</th>\n",
       "      <th>H_plate_appearances</th>\n",
       "      <th>H_batting_average</th>\n",
       "      <th>...</th>\n",
       "      <th>A_Opp_grounded_balls</th>\n",
       "      <th>A_Opp_fly_balls</th>\n",
       "      <th>A_Opp_line_drives</th>\n",
       "      <th>A_Opp_unknown_bat_type</th>\n",
       "      <th>A_Opp_game_score</th>\n",
       "      <th>A_Opp_inherited_runners</th>\n",
       "      <th>A_Opp_inherited_score</th>\n",
       "      <th>A_Opp_win_probability_by_pitcher</th>\n",
       "      <th>A_Opp_base_out_runs_saved</th>\n",
       "      <th>home_win</th>\n",
       "    </tr>\n",
       "  </thead>\n",
       "  <tbody>\n",
       "    <tr>\n",
       "      <th>2427</th>\n",
       "      <td>123456781</td>\n",
       "      <td>34.271605</td>\n",
       "      <td>4.166667</td>\n",
       "      <td>8.950617</td>\n",
       "      <td>3.950617</td>\n",
       "      <td>3.969568</td>\n",
       "      <td>2.358025</td>\n",
       "      <td>7.555556</td>\n",
       "      <td>37.358025</td>\n",
       "      <td>0.256889</td>\n",
       "      <td>...</td>\n",
       "      <td>12.310559</td>\n",
       "      <td>13.403727</td>\n",
       "      <td>6.906832</td>\n",
       "      <td>0.006211</td>\n",
       "      <td>48.397516</td>\n",
       "      <td>1.409938</td>\n",
       "      <td>0.372671</td>\n",
       "      <td>-0.014391</td>\n",
       "      <td>-0.160248</td>\n",
       "      <td>0</td>\n",
       "    </tr>\n",
       "  </tbody>\n",
       "</table>\n",
       "<p>1 rows × 143 columns</p>\n",
       "</div>"
      ],
      "text/plain": [
       "         H_name  H_at_bats    H_runs    H_hits     H_rbi  H_earned_runs  \\\n",
       "2427  123456781  34.271605  4.166667  8.950617  3.950617       3.969568   \n",
       "\n",
       "      H_bases_on_balls  H_strikeouts  H_plate_appearances  H_batting_average  \\\n",
       "2427          2.358025      7.555556            37.358025           0.256889   \n",
       "\n",
       "      ...  A_Opp_grounded_balls  A_Opp_fly_balls  A_Opp_line_drives  \\\n",
       "2427  ...             12.310559        13.403727           6.906832   \n",
       "\n",
       "      A_Opp_unknown_bat_type  A_Opp_game_score  A_Opp_inherited_runners  \\\n",
       "2427                0.006211         48.397516                 1.409938   \n",
       "\n",
       "      A_Opp_inherited_score  A_Opp_win_probability_by_pitcher  \\\n",
       "2427               0.372671                         -0.014391   \n",
       "\n",
       "      A_Opp_base_out_runs_saved  home_win  \n",
       "2427                  -0.160248         0  \n",
       "\n",
       "[1 rows x 143 columns]"
      ]
     },
     "execution_count": 95,
     "metadata": {},
     "output_type": "execute_result"
    }
   ],
   "source": [
    "df[-1:]"
   ]
  },
  {
   "cell_type": "code",
   "execution_count": 96,
   "metadata": {
    "ExecuteTime": {
     "end_time": "2022-01-11T21:40:25.969208Z",
     "start_time": "2022-01-11T21:40:25.966985Z"
    }
   },
   "outputs": [],
   "source": [
    "#df=df.reset_index()"
   ]
  },
  {
   "cell_type": "code",
   "execution_count": 97,
   "metadata": {
    "ExecuteTime": {
     "end_time": "2022-01-11T21:40:26.545347Z",
     "start_time": "2022-01-11T21:40:26.536121Z"
    }
   },
   "outputs": [],
   "source": [
    "df=df.drop(['H_win_probability_subtracted','A_win_probability_subtracted','A_Opp_win_probability_subtracted',\n",
    "         'H_Opp_win_probability_subtracted'],axis=1)"
   ]
  },
  {
   "cell_type": "code",
   "execution_count": 98,
   "metadata": {
    "ExecuteTime": {
     "end_time": "2022-01-11T21:40:27.518732Z",
     "start_time": "2022-01-11T21:40:27.510683Z"
    }
   },
   "outputs": [],
   "source": [
    "X=df.drop('home_win',axis=1)\n",
    "y=df['home_win']"
   ]
  },
  {
   "cell_type": "code",
   "execution_count": 99,
   "metadata": {
    "ExecuteTime": {
     "end_time": "2022-01-11T21:40:28.060359Z",
     "start_time": "2022-01-11T21:40:28.047214Z"
    }
   },
   "outputs": [],
   "source": [
    "#Train Test Split\n",
    "X_train, X_test, y_train, y_test = train_test_split(X, y,random_state=42)"
   ]
  },
  {
   "cell_type": "code",
   "execution_count": 100,
   "metadata": {
    "ExecuteTime": {
     "end_time": "2022-01-11T21:40:28.587906Z",
     "start_time": "2022-01-11T21:40:28.578239Z"
    }
   },
   "outputs": [
    {
     "data": {
      "text/plain": [
       "(1821, 138)"
      ]
     },
     "execution_count": 100,
     "metadata": {},
     "output_type": "execute_result"
    }
   ],
   "source": [
    "X_train.shape"
   ]
  },
  {
   "cell_type": "code",
   "execution_count": 101,
   "metadata": {
    "ExecuteTime": {
     "end_time": "2022-01-11T21:40:29.298107Z",
     "start_time": "2022-01-11T21:40:29.287272Z"
    },
    "scrolled": true
   },
   "outputs": [
    {
     "data": {
      "text/plain": [
       "H_name                              0\n",
       "H_at_bats                           0\n",
       "H_runs                              0\n",
       "H_hits                              0\n",
       "H_rbi                               0\n",
       "                                   ..\n",
       "A_Opp_inherited_runners             0\n",
       "A_Opp_inherited_score               0\n",
       "A_Opp_win_probability_by_pitcher    0\n",
       "A_Opp_base_out_runs_saved           0\n",
       "home_win                            0\n",
       "Length: 139, dtype: int64"
      ]
     },
     "execution_count": 101,
     "metadata": {},
     "output_type": "execute_result"
    }
   ],
   "source": [
    "df.isna().sum()"
   ]
  },
  {
   "cell_type": "markdown",
   "metadata": {},
   "source": [
    "## Baseline Model"
   ]
  },
  {
   "cell_type": "code",
   "execution_count": 102,
   "metadata": {
    "ExecuteTime": {
     "end_time": "2022-01-11T21:40:30.479145Z",
     "start_time": "2022-01-11T21:40:30.475126Z"
    }
   },
   "outputs": [],
   "source": [
    "dummy= DummyClassifier(strategy='most_frequent')"
   ]
  },
  {
   "cell_type": "code",
   "execution_count": 103,
   "metadata": {
    "ExecuteTime": {
     "end_time": "2022-01-11T21:40:30.971589Z",
     "start_time": "2022-01-11T21:40:30.958315Z"
    }
   },
   "outputs": [
    {
     "data": {
      "text/plain": [
       "DummyClassifier(strategy='most_frequent')"
      ]
     },
     "execution_count": 103,
     "metadata": {},
     "output_type": "execute_result"
    }
   ],
   "source": [
    "dummy.fit(X_train,y_train)"
   ]
  },
  {
   "cell_type": "code",
   "execution_count": 104,
   "metadata": {
    "ExecuteTime": {
     "end_time": "2022-01-11T21:40:31.509563Z",
     "start_time": "2022-01-11T21:40:31.495179Z"
    }
   },
   "outputs": [
    {
     "data": {
      "text/plain": [
       "0.5403624382207578"
      ]
     },
     "execution_count": 104,
     "metadata": {},
     "output_type": "execute_result"
    }
   ],
   "source": [
    "dummy.score(X_test,y_test)"
   ]
  },
  {
   "cell_type": "markdown",
   "metadata": {},
   "source": [
    "## Simple Logistic Regression"
   ]
  },
  {
   "cell_type": "code",
   "execution_count": 105,
   "metadata": {
    "ExecuteTime": {
     "end_time": "2022-01-11T21:40:37.331716Z",
     "start_time": "2022-01-11T21:40:37.297663Z"
    }
   },
   "outputs": [],
   "source": [
    "ss=StandardScaler()\n",
    "X_train_scaled=ss.fit_transform(X_train)\n",
    "X_test_scaled=ss.transform(X_test)"
   ]
  },
  {
   "cell_type": "code",
   "execution_count": 106,
   "metadata": {
    "ExecuteTime": {
     "end_time": "2022-01-11T21:40:42.348494Z",
     "start_time": "2022-01-11T21:40:42.344213Z"
    }
   },
   "outputs": [],
   "source": [
    "X_train_scaled = pd.DataFrame(X_train_scaled, columns=X_train.columns)\n",
    "X_test_scaled = pd.DataFrame(X_test_scaled, columns=X_test.columns)"
   ]
  },
  {
   "cell_type": "code",
   "execution_count": 107,
   "metadata": {
    "ExecuteTime": {
     "end_time": "2022-01-11T21:40:44.419383Z",
     "start_time": "2022-01-11T21:40:44.370559Z"
    }
   },
   "outputs": [
    {
     "data": {
      "text/html": [
       "<div>\n",
       "<style scoped>\n",
       "    .dataframe tbody tr th:only-of-type {\n",
       "        vertical-align: middle;\n",
       "    }\n",
       "\n",
       "    .dataframe tbody tr th {\n",
       "        vertical-align: top;\n",
       "    }\n",
       "\n",
       "    .dataframe thead th {\n",
       "        text-align: right;\n",
       "    }\n",
       "</style>\n",
       "<table border=\"1\" class=\"dataframe\">\n",
       "  <thead>\n",
       "    <tr style=\"text-align: right;\">\n",
       "      <th></th>\n",
       "      <th>H_name</th>\n",
       "      <th>H_at_bats</th>\n",
       "      <th>H_runs</th>\n",
       "      <th>H_hits</th>\n",
       "      <th>H_rbi</th>\n",
       "      <th>H_earned_runs</th>\n",
       "      <th>H_bases_on_balls</th>\n",
       "      <th>H_strikeouts</th>\n",
       "      <th>H_plate_appearances</th>\n",
       "      <th>H_batting_average</th>\n",
       "      <th>...</th>\n",
       "      <th>A_Opp_strikes_looking</th>\n",
       "      <th>A_Opp_grounded_balls</th>\n",
       "      <th>A_Opp_fly_balls</th>\n",
       "      <th>A_Opp_line_drives</th>\n",
       "      <th>A_Opp_unknown_bat_type</th>\n",
       "      <th>A_Opp_game_score</th>\n",
       "      <th>A_Opp_inherited_runners</th>\n",
       "      <th>A_Opp_inherited_score</th>\n",
       "      <th>A_Opp_win_probability_by_pitcher</th>\n",
       "      <th>A_Opp_base_out_runs_saved</th>\n",
       "    </tr>\n",
       "  </thead>\n",
       "  <tbody>\n",
       "    <tr>\n",
       "      <th>0</th>\n",
       "      <td>1.346573</td>\n",
       "      <td>-1.241347</td>\n",
       "      <td>-1.951772</td>\n",
       "      <td>-1.546427</td>\n",
       "      <td>-2.085186</td>\n",
       "      <td>-2.104052</td>\n",
       "      <td>-1.276994</td>\n",
       "      <td>0.627475</td>\n",
       "      <td>-1.713215</td>\n",
       "      <td>-1.561014</td>\n",
       "      <td>...</td>\n",
       "      <td>-0.746468</td>\n",
       "      <td>-0.579290</td>\n",
       "      <td>1.398941</td>\n",
       "      <td>1.762475</td>\n",
       "      <td>-1.104593</td>\n",
       "      <td>-0.073768</td>\n",
       "      <td>-2.124663</td>\n",
       "      <td>-1.489598</td>\n",
       "      <td>0.007288</td>\n",
       "      <td>0.207297</td>\n",
       "    </tr>\n",
       "    <tr>\n",
       "      <th>1</th>\n",
       "      <td>1.495787</td>\n",
       "      <td>0.354000</td>\n",
       "      <td>0.920795</td>\n",
       "      <td>0.072322</td>\n",
       "      <td>0.948722</td>\n",
       "      <td>0.688871</td>\n",
       "      <td>0.382812</td>\n",
       "      <td>0.136158</td>\n",
       "      <td>0.690375</td>\n",
       "      <td>-0.042695</td>\n",
       "      <td>...</td>\n",
       "      <td>0.551266</td>\n",
       "      <td>-0.884250</td>\n",
       "      <td>1.325461</td>\n",
       "      <td>1.736398</td>\n",
       "      <td>2.038868</td>\n",
       "      <td>1.811114</td>\n",
       "      <td>-1.874726</td>\n",
       "      <td>-1.032224</td>\n",
       "      <td>1.255102</td>\n",
       "      <td>1.991241</td>\n",
       "    </tr>\n",
       "    <tr>\n",
       "      <th>2</th>\n",
       "      <td>-0.593210</td>\n",
       "      <td>-2.696751</td>\n",
       "      <td>-0.914929</td>\n",
       "      <td>-1.634722</td>\n",
       "      <td>-0.896462</td>\n",
       "      <td>-0.612507</td>\n",
       "      <td>1.570712</td>\n",
       "      <td>2.042129</td>\n",
       "      <td>-0.995260</td>\n",
       "      <td>-1.102534</td>\n",
       "      <td>...</td>\n",
       "      <td>0.340595</td>\n",
       "      <td>1.932624</td>\n",
       "      <td>-1.507607</td>\n",
       "      <td>0.028326</td>\n",
       "      <td>0.467138</td>\n",
       "      <td>0.431111</td>\n",
       "      <td>-0.015592</td>\n",
       "      <td>1.064190</td>\n",
       "      <td>-1.461813</td>\n",
       "      <td>-1.311783</td>\n",
       "    </tr>\n",
       "    <tr>\n",
       "      <th>3</th>\n",
       "      <td>-1.040852</td>\n",
       "      <td>0.591903</td>\n",
       "      <td>-0.167041</td>\n",
       "      <td>0.396071</td>\n",
       "      <td>-0.293229</td>\n",
       "      <td>-0.300447</td>\n",
       "      <td>1.131352</td>\n",
       "      <td>-1.651219</td>\n",
       "      <td>1.189822</td>\n",
       "      <td>0.108438</td>\n",
       "      <td>...</td>\n",
       "      <td>0.795644</td>\n",
       "      <td>0.969590</td>\n",
       "      <td>-0.299267</td>\n",
       "      <td>-0.089022</td>\n",
       "      <td>-1.104593</td>\n",
       "      <td>1.991646</td>\n",
       "      <td>-0.707949</td>\n",
       "      <td>-0.960412</td>\n",
       "      <td>1.407130</td>\n",
       "      <td>0.419578</td>\n",
       "    </tr>\n",
       "    <tr>\n",
       "      <th>4</th>\n",
       "      <td>-0.966245</td>\n",
       "      <td>-0.457668</td>\n",
       "      <td>0.648836</td>\n",
       "      <td>-0.104269</td>\n",
       "      <td>0.771300</td>\n",
       "      <td>0.786128</td>\n",
       "      <td>0.545538</td>\n",
       "      <td>-0.422927</td>\n",
       "      <td>0.461462</td>\n",
       "      <td>0.091928</td>\n",
       "      <td>...</td>\n",
       "      <td>0.426485</td>\n",
       "      <td>0.687260</td>\n",
       "      <td>0.440302</td>\n",
       "      <td>0.275333</td>\n",
       "      <td>-1.104593</td>\n",
       "      <td>1.257600</td>\n",
       "      <td>0.927665</td>\n",
       "      <td>0.764758</td>\n",
       "      <td>1.633743</td>\n",
       "      <td>1.387940</td>\n",
       "    </tr>\n",
       "    <tr>\n",
       "      <th>...</th>\n",
       "      <td>...</td>\n",
       "      <td>...</td>\n",
       "      <td>...</td>\n",
       "      <td>...</td>\n",
       "      <td>...</td>\n",
       "      <td>...</td>\n",
       "      <td>...</td>\n",
       "      <td>...</td>\n",
       "      <td>...</td>\n",
       "      <td>...</td>\n",
       "      <td>...</td>\n",
       "      <td>...</td>\n",
       "      <td>...</td>\n",
       "      <td>...</td>\n",
       "      <td>...</td>\n",
       "      <td>...</td>\n",
       "      <td>...</td>\n",
       "      <td>...</td>\n",
       "      <td>...</td>\n",
       "      <td>...</td>\n",
       "      <td>...</td>\n",
       "    </tr>\n",
       "    <tr>\n",
       "      <th>1816</th>\n",
       "      <td>-1.264673</td>\n",
       "      <td>-0.583616</td>\n",
       "      <td>-0.897931</td>\n",
       "      <td>-1.134382</td>\n",
       "      <td>-0.790009</td>\n",
       "      <td>-0.684484</td>\n",
       "      <td>-0.870179</td>\n",
       "      <td>1.525399</td>\n",
       "      <td>-1.151337</td>\n",
       "      <td>-1.251762</td>\n",
       "      <td>...</td>\n",
       "      <td>0.500704</td>\n",
       "      <td>0.391770</td>\n",
       "      <td>2.101085</td>\n",
       "      <td>1.293082</td>\n",
       "      <td>-1.104593</td>\n",
       "      <td>-0.303258</td>\n",
       "      <td>0.741980</td>\n",
       "      <td>-0.839838</td>\n",
       "      <td>1.463832</td>\n",
       "      <td>0.538378</td>\n",
       "    </tr>\n",
       "    <tr>\n",
       "      <th>1817</th>\n",
       "      <td>-0.891638</td>\n",
       "      <td>0.843799</td>\n",
       "      <td>0.733823</td>\n",
       "      <td>0.528514</td>\n",
       "      <td>0.771300</td>\n",
       "      <td>0.926539</td>\n",
       "      <td>0.057360</td>\n",
       "      <td>-0.117971</td>\n",
       "      <td>0.731996</td>\n",
       "      <td>0.294497</td>\n",
       "      <td>...</td>\n",
       "      <td>0.340595</td>\n",
       "      <td>1.932624</td>\n",
       "      <td>-1.507607</td>\n",
       "      <td>0.028326</td>\n",
       "      <td>0.467138</td>\n",
       "      <td>0.431111</td>\n",
       "      <td>-0.015592</td>\n",
       "      <td>1.064190</td>\n",
       "      <td>-1.461813</td>\n",
       "      <td>-1.311783</td>\n",
       "    </tr>\n",
       "    <tr>\n",
       "      <th>1818</th>\n",
       "      <td>0.749717</td>\n",
       "      <td>0.526451</td>\n",
       "      <td>0.507050</td>\n",
       "      <td>1.104902</td>\n",
       "      <td>0.566659</td>\n",
       "      <td>0.863973</td>\n",
       "      <td>-0.104356</td>\n",
       "      <td>0.077651</td>\n",
       "      <td>0.087458</td>\n",
       "      <td>1.285968</td>\n",
       "      <td>...</td>\n",
       "      <td>-0.048349</td>\n",
       "      <td>0.025099</td>\n",
       "      <td>-1.120581</td>\n",
       "      <td>0.196615</td>\n",
       "      <td>0.476900</td>\n",
       "      <td>-1.076190</td>\n",
       "      <td>-0.232654</td>\n",
       "      <td>-0.892889</td>\n",
       "      <td>-0.658934</td>\n",
       "      <td>-0.450197</td>\n",
       "    </tr>\n",
       "    <tr>\n",
       "      <th>1819</th>\n",
       "      <td>1.197359</td>\n",
       "      <td>-0.611605</td>\n",
       "      <td>0.580846</td>\n",
       "      <td>-0.766484</td>\n",
       "      <td>0.647105</td>\n",
       "      <td>0.626394</td>\n",
       "      <td>2.107708</td>\n",
       "      <td>0.508881</td>\n",
       "      <td>0.794426</td>\n",
       "      <td>-0.635163</td>\n",
       "      <td>...</td>\n",
       "      <td>-1.286309</td>\n",
       "      <td>-0.168704</td>\n",
       "      <td>0.407441</td>\n",
       "      <td>-1.325271</td>\n",
       "      <td>0.476900</td>\n",
       "      <td>-0.392679</td>\n",
       "      <td>-1.216111</td>\n",
       "      <td>-1.343977</td>\n",
       "      <td>-0.595179</td>\n",
       "      <td>-0.448237</td>\n",
       "    </tr>\n",
       "    <tr>\n",
       "      <th>1820</th>\n",
       "      <td>-1.339280</td>\n",
       "      <td>0.270034</td>\n",
       "      <td>0.070923</td>\n",
       "      <td>0.234196</td>\n",
       "      <td>0.079356</td>\n",
       "      <td>-0.186122</td>\n",
       "      <td>0.952353</td>\n",
       "      <td>0.271694</td>\n",
       "      <td>1.085771</td>\n",
       "      <td>0.230361</td>\n",
       "      <td>...</td>\n",
       "      <td>1.048449</td>\n",
       "      <td>-0.242228</td>\n",
       "      <td>-0.527871</td>\n",
       "      <td>0.197829</td>\n",
       "      <td>-1.104593</td>\n",
       "      <td>0.899272</td>\n",
       "      <td>0.353142</td>\n",
       "      <td>-1.631580</td>\n",
       "      <td>0.881595</td>\n",
       "      <td>0.626017</td>\n",
       "    </tr>\n",
       "  </tbody>\n",
       "</table>\n",
       "<p>1821 rows × 138 columns</p>\n",
       "</div>"
      ],
      "text/plain": [
       "        H_name  H_at_bats    H_runs    H_hits     H_rbi  H_earned_runs  \\\n",
       "0     1.346573  -1.241347 -1.951772 -1.546427 -2.085186      -2.104052   \n",
       "1     1.495787   0.354000  0.920795  0.072322  0.948722       0.688871   \n",
       "2    -0.593210  -2.696751 -0.914929 -1.634722 -0.896462      -0.612507   \n",
       "3    -1.040852   0.591903 -0.167041  0.396071 -0.293229      -0.300447   \n",
       "4    -0.966245  -0.457668  0.648836 -0.104269  0.771300       0.786128   \n",
       "...        ...        ...       ...       ...       ...            ...   \n",
       "1816 -1.264673  -0.583616 -0.897931 -1.134382 -0.790009      -0.684484   \n",
       "1817 -0.891638   0.843799  0.733823  0.528514  0.771300       0.926539   \n",
       "1818  0.749717   0.526451  0.507050  1.104902  0.566659       0.863973   \n",
       "1819  1.197359  -0.611605  0.580846 -0.766484  0.647105       0.626394   \n",
       "1820 -1.339280   0.270034  0.070923  0.234196  0.079356      -0.186122   \n",
       "\n",
       "      H_bases_on_balls  H_strikeouts  H_plate_appearances  H_batting_average  \\\n",
       "0            -1.276994      0.627475            -1.713215          -1.561014   \n",
       "1             0.382812      0.136158             0.690375          -0.042695   \n",
       "2             1.570712      2.042129            -0.995260          -1.102534   \n",
       "3             1.131352     -1.651219             1.189822           0.108438   \n",
       "4             0.545538     -0.422927             0.461462           0.091928   \n",
       "...                ...           ...                  ...                ...   \n",
       "1816         -0.870179      1.525399            -1.151337          -1.251762   \n",
       "1817          0.057360     -0.117971             0.731996           0.294497   \n",
       "1818         -0.104356      0.077651             0.087458           1.285968   \n",
       "1819          2.107708      0.508881             0.794426          -0.635163   \n",
       "1820          0.952353      0.271694             1.085771           0.230361   \n",
       "\n",
       "      ...  A_Opp_strikes_looking  A_Opp_grounded_balls  A_Opp_fly_balls  \\\n",
       "0     ...              -0.746468             -0.579290         1.398941   \n",
       "1     ...               0.551266             -0.884250         1.325461   \n",
       "2     ...               0.340595              1.932624        -1.507607   \n",
       "3     ...               0.795644              0.969590        -0.299267   \n",
       "4     ...               0.426485              0.687260         0.440302   \n",
       "...   ...                    ...                   ...              ...   \n",
       "1816  ...               0.500704              0.391770         2.101085   \n",
       "1817  ...               0.340595              1.932624        -1.507607   \n",
       "1818  ...              -0.048349              0.025099        -1.120581   \n",
       "1819  ...              -1.286309             -0.168704         0.407441   \n",
       "1820  ...               1.048449             -0.242228        -0.527871   \n",
       "\n",
       "      A_Opp_line_drives  A_Opp_unknown_bat_type  A_Opp_game_score  \\\n",
       "0              1.762475               -1.104593         -0.073768   \n",
       "1              1.736398                2.038868          1.811114   \n",
       "2              0.028326                0.467138          0.431111   \n",
       "3             -0.089022               -1.104593          1.991646   \n",
       "4              0.275333               -1.104593          1.257600   \n",
       "...                 ...                     ...               ...   \n",
       "1816           1.293082               -1.104593         -0.303258   \n",
       "1817           0.028326                0.467138          0.431111   \n",
       "1818           0.196615                0.476900         -1.076190   \n",
       "1819          -1.325271                0.476900         -0.392679   \n",
       "1820           0.197829               -1.104593          0.899272   \n",
       "\n",
       "      A_Opp_inherited_runners  A_Opp_inherited_score  \\\n",
       "0                   -2.124663              -1.489598   \n",
       "1                   -1.874726              -1.032224   \n",
       "2                   -0.015592               1.064190   \n",
       "3                   -0.707949              -0.960412   \n",
       "4                    0.927665               0.764758   \n",
       "...                       ...                    ...   \n",
       "1816                 0.741980              -0.839838   \n",
       "1817                -0.015592               1.064190   \n",
       "1818                -0.232654              -0.892889   \n",
       "1819                -1.216111              -1.343977   \n",
       "1820                 0.353142              -1.631580   \n",
       "\n",
       "      A_Opp_win_probability_by_pitcher  A_Opp_base_out_runs_saved  \n",
       "0                             0.007288                   0.207297  \n",
       "1                             1.255102                   1.991241  \n",
       "2                            -1.461813                  -1.311783  \n",
       "3                             1.407130                   0.419578  \n",
       "4                             1.633743                   1.387940  \n",
       "...                                ...                        ...  \n",
       "1816                          1.463832                   0.538378  \n",
       "1817                         -1.461813                  -1.311783  \n",
       "1818                         -0.658934                  -0.450197  \n",
       "1819                         -0.595179                  -0.448237  \n",
       "1820                          0.881595                   0.626017  \n",
       "\n",
       "[1821 rows x 138 columns]"
      ]
     },
     "execution_count": 107,
     "metadata": {},
     "output_type": "execute_result"
    }
   ],
   "source": [
    "X_train_scaled"
   ]
  },
  {
   "cell_type": "code",
   "execution_count": 108,
   "metadata": {
    "ExecuteTime": {
     "end_time": "2022-01-11T21:40:55.417871Z",
     "start_time": "2022-01-11T21:40:55.411576Z"
    }
   },
   "outputs": [],
   "source": [
    "simple_logreg= LogisticRegression(random_state=42)"
   ]
  },
  {
   "cell_type": "code",
   "execution_count": 54,
   "metadata": {
    "ExecuteTime": {
     "end_time": "2022-01-11T18:49:10.192960Z",
     "start_time": "2022-01-11T18:49:10.182878Z"
    }
   },
   "outputs": [
    {
     "data": {
      "text/plain": [
       "0"
      ]
     },
     "execution_count": 54,
     "metadata": {},
     "output_type": "execute_result"
    }
   ],
   "source": [
    "y_train.isna().sum()"
   ]
  },
  {
   "cell_type": "code",
   "execution_count": 137,
   "metadata": {
    "ExecuteTime": {
     "end_time": "2022-01-11T22:05:34.659080Z",
     "start_time": "2022-01-11T22:05:34.550767Z"
    }
   },
   "outputs": [
    {
     "data": {
      "text/plain": [
       "LogisticRegression(random_state=42)"
      ]
     },
     "execution_count": 137,
     "metadata": {},
     "output_type": "execute_result"
    }
   ],
   "source": [
    "simple_logreg.fit(X_train_scaled,y_train)"
   ]
  },
  {
   "cell_type": "code",
   "execution_count": 114,
   "metadata": {
    "ExecuteTime": {
     "end_time": "2022-01-11T21:43:01.173134Z",
     "start_time": "2022-01-11T21:43:01.161597Z"
    }
   },
   "outputs": [],
   "source": [
    "y_pred=simple_logreg.predict(X_test_scaled)"
   ]
  },
  {
   "cell_type": "code",
   "execution_count": 117,
   "metadata": {
    "ExecuteTime": {
     "end_time": "2022-01-11T21:44:22.998084Z",
     "start_time": "2022-01-11T21:44:22.971552Z"
    }
   },
   "outputs": [
    {
     "name": "stdout",
     "output_type": "stream",
     "text": [
      "Train Mean Accuracy: 0.5947281713344317\n",
      "Test Mean Accuracy: 0.5354200988467874\n"
     ]
    }
   ],
   "source": [
    "train_score = simple_logreg.score(X_train_scaled, y_train)\n",
    "print(f'Train Mean Accuracy: {train_score}')\n",
    "test_score = simple_logreg.score(X_test_scaled, y_test)\n",
    "print(f'Test Mean Accuracy: {test_score}')"
   ]
  },
  {
   "cell_type": "code",
   "execution_count": 120,
   "metadata": {
    "ExecuteTime": {
     "end_time": "2022-01-11T21:56:21.167899Z",
     "start_time": "2022-01-11T21:56:21.158100Z"
    }
   },
   "outputs": [],
   "source": [
    "# Set GridSearchCV hyperparameters to compare & select\n",
    "grid = {\n",
    "'penalty': ['l1', 'l2' ,'elasticnet'],\n",
    "'solver': ['newton-cg', 'lbfgs', 'liblinear', 'sag', 'saga'],\n",
    "    'max_iter':[100,350,500,750,1000,1250]}"
   ]
  },
  {
   "cell_type": "code",
   "execution_count": 130,
   "metadata": {
    "ExecuteTime": {
     "end_time": "2022-01-11T22:01:49.828539Z",
     "start_time": "2022-01-11T22:01:49.709659Z"
    }
   },
   "outputs": [],
   "source": [
    "from sklearn.model_selection import cross_val_score, train_test_split,GridSearchCV\n",
    "# Instantiate & fit LogReg model for GridSearch\n",
    "grid_logreg = LogisticRegression(random_state=42)\n",
    "grid_logreg.fit(X_train_scaled, y_train)\n",
    "    \n",
    "# Instantiate & fit GridSearchCV with accuracy scoring\n",
    "gs = GridSearchCV(estimator=grid_logreg, param_grid=grid, cv=5,\n",
    "                      scoring='accuracy')"
   ]
  },
  {
   "cell_type": "code",
   "execution_count": 131,
   "metadata": {
    "ExecuteTime": {
     "end_time": "2022-01-11T22:02:43.426739Z",
     "start_time": "2022-01-11T22:01:50.914617Z"
    }
   },
   "outputs": [
    {
     "data": {
      "text/plain": [
       "GridSearchCV(cv=5, estimator=LogisticRegression(random_state=42),\n",
       "             param_grid={'max_iter': [100, 350, 500, 750, 1000, 1250],\n",
       "                         'penalty': ['l1', 'l2', 'elasticnet'],\n",
       "                         'solver': ['newton-cg', 'lbfgs', 'liblinear', 'sag',\n",
       "                                    'saga']},\n",
       "             scoring='accuracy')"
      ]
     },
     "execution_count": 131,
     "metadata": {},
     "output_type": "execute_result"
    }
   ],
   "source": [
    "gs.fit(X_train,y_train)"
   ]
  },
  {
   "cell_type": "code",
   "execution_count": 132,
   "metadata": {
    "ExecuteTime": {
     "end_time": "2022-01-11T22:02:43.482500Z",
     "start_time": "2022-01-11T22:02:43.430696Z"
    }
   },
   "outputs": [
    {
     "data": {
      "text/plain": [
       "{'max_iter': 100, 'penalty': 'l1', 'solver': 'liblinear'}"
      ]
     },
     "execution_count": 132,
     "metadata": {},
     "output_type": "execute_result"
    }
   ],
   "source": [
    "gs.best_params_"
   ]
  },
  {
   "cell_type": "code",
   "execution_count": 133,
   "metadata": {
    "ExecuteTime": {
     "end_time": "2022-01-11T22:02:52.099919Z",
     "start_time": "2022-01-11T22:02:52.095519Z"
    }
   },
   "outputs": [],
   "source": [
    "logging=LogisticRegression(penalty='l1',max_iter=100,solver='liblinear',random_state=42)"
   ]
  },
  {
   "cell_type": "code",
   "execution_count": 134,
   "metadata": {
    "ExecuteTime": {
     "end_time": "2022-01-11T22:03:05.498911Z",
     "start_time": "2022-01-11T22:03:05.461885Z"
    }
   },
   "outputs": [
    {
     "data": {
      "text/plain": [
       "LogisticRegression(penalty='l1', random_state=42, solver='liblinear')"
      ]
     },
     "execution_count": 134,
     "metadata": {},
     "output_type": "execute_result"
    }
   ],
   "source": [
    "logging.fit(X_train,y_train)"
   ]
  },
  {
   "cell_type": "code",
   "execution_count": 136,
   "metadata": {
    "ExecuteTime": {
     "end_time": "2022-01-11T22:03:35.208832Z",
     "start_time": "2022-01-11T22:03:35.192583Z"
    }
   },
   "outputs": [
    {
     "name": "stdout",
     "output_type": "stream",
     "text": [
      "Train Mean Accuracy: 0.5678198791872597\n",
      "Test Mean Accuracy: 0.5733113673805601\n"
     ]
    }
   ],
   "source": [
    "train_score = logging.score(X_train_scaled, y_train)\n",
    "print(f'Train Mean Accuracy: {train_score}')\n",
    "test_score = logging.score(X_test_scaled, y_test)\n",
    "print(f'Test Mean Accuracy: {test_score}')"
   ]
  },
  {
   "cell_type": "code",
   "execution_count": null,
   "metadata": {},
   "outputs": [],
   "source": []
  }
 ],
 "metadata": {
  "kernelspec": {
   "display_name": "Python 3",
   "language": "python",
   "name": "python3"
  },
  "language_info": {
   "codemirror_mode": {
    "name": "ipython",
    "version": 3
   },
   "file_extension": ".py",
   "mimetype": "text/x-python",
   "name": "python",
   "nbconvert_exporter": "python",
   "pygments_lexer": "ipython3",
   "version": "3.8.5"
  }
 },
 "nbformat": 4,
 "nbformat_minor": 4
}

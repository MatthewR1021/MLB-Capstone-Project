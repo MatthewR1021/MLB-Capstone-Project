{
 "cells": [
  {
   "cell_type": "markdown",
   "metadata": {},
   "source": [
    "# Main Notebook\n",
    "***"
   ]
  },
  {
   "cell_type": "markdown",
   "metadata": {},
   "source": [
    "Author: [Matthew Reinhart](https://www.linkedin.com/in/matthew-reinhart-1bb372173/)"
   ]
  },
  {
   "cell_type": "markdown",
   "metadata": {},
   "source": [
    "## Overview \n",
    "***"
   ]
  },
  {
   "cell_type": "markdown",
   "metadata": {},
   "source": [
    "The sports gambling industry is one of the fastest growing in America today. You cannot turn the television on to any sports channel without seeing an advertisement for one of the big sportsbooks. Whether it be Draftkings, FanDuel, BetMGM, Caesaers, Pointsbet or Barstool the list goes on and on and the industry is only going to keep growing on a more national stage as more and more states move to legalize it. There is one sport that is widely considered the most difficult to bet on and predict within this industry and that is Major League Baseball. In a season with 162 games where powerhouses regularly lose to teams they are considered to be far superior to it can be awfully difficult to figure out who to bet on and to turn a profit. As [GamblingSites](https://www.gamblingsites.org/blog/6-sports-ranked-from-easiest-to-hardest-to-bet-on/) hardest sports to bet on ranking says, \"Coming in as the most complicated sport to bet on is baseball. While I love betting on America’s pastime, it’s known to be the most demanding sport to win money. Baseball, unlike other major sports, is by far the most unpredictable sport to gamble on.\" "
   ]
  },
  {
   "cell_type": "markdown",
   "metadata": {},
   "source": [
    "## Objective\n",
    "***"
   ]
  },
  {
   "cell_type": "markdown",
   "metadata": {},
   "source": [
    "In the world of this project I am offering a better way to bet Major League Baseball. I offer sports bettors a path to making a more profit betting the most unpredictable sport.\n",
    "In order to maximize returns, I ran a series of machine learning algorithms to model predictions for single games in a given MLB season. Accuracy is paramount in selecting our models, as we strive to minimize risk for our customers."
   ]
  },
  {
   "cell_type": "markdown",
   "metadata": {},
   "source": [
    "## Data\n",
    "***"
   ]
  },
  {
   "cell_type": "markdown",
   "metadata": {},
   "source": [
    "The data is mainly from [Sportsipy](https://sportsreference.readthedocs.io/en/stable/mlb.html?highlight=MLB) with insights from [Baseball-Referance](https://www.baseball-reference.com/) as well"
   ]
  },
  {
   "cell_type": "markdown",
   "metadata": {},
   "source": [
    "## Methodology\n",
    "***"
   ]
  },
  {
   "cell_type": "markdown",
   "metadata": {},
   "source": [
    "I set the win/loss outcome for the home team as the binary target variable, with 1 equaling a win for the home team and 0 equaling a win for the away team.\n",
    "\n",
    "After that I used an iterative approach to build 6 predictive, classification models: Logistic regression, K-Nearest Neighbors, Decision Tree, Random Forest, Bagging classifier and XGBoost. We utilize hyperparameter tuning, cross-validation and scoring to select the highest performing, predictive models. This approach is applied to regular season as well as post season data."
   ]
  },
  {
   "cell_type": "markdown",
   "metadata": {},
   "source": [
    "# Data Cleaning\n",
    "***"
   ]
  },
  {
   "cell_type": "markdown",
   "metadata": {},
   "source": [
    "The predictions are going to be based off the season average stats of the two relevant teams in each game. In order to get this I have to calculate the averages from all the games they played up to that point in the season, and make a new dataframe for the specific game with averages as input.\n",
    "\n",
    "I need to make sure I have a clean dataframe with a clear target column of home win with a binary outcome of 1 or 0. Once I have a target column, I can create a dataframe with full seasons worth of games with that target column, and train our model on it."
   ]
  },
  {
   "cell_type": "code",
   "execution_count": 2,
   "metadata": {
    "ExecuteTime": {
     "end_time": "2022-03-24T00:36:20.554883Z",
     "start_time": "2022-03-24T00:36:15.027866Z"
    }
   },
   "outputs": [],
   "source": [
    "# Import the relevant packages\n",
    "import pandas as pd\n",
    "import numpy as np\n",
    "import matplotlib.pyplot as plt\n",
    "from sklearn.linear_model import LogisticRegression\n",
    "from sklearn.model_selection import cross_val_score, train_test_split,GridSearchCV\n",
    "from sklearn.metrics import plot_confusion_matrix, plot_roc_curve, accuracy_score, \\\n",
    "recall_score, precision_score, f1_score\n",
    "from sklearn.neighbors import KNeighborsClassifier\n",
    "from sklearn.preprocessing import StandardScaler\n",
    "from sklearn.tree import DecisionTreeClassifier, plot_tree\n",
    "from sklearn.ensemble import BaggingClassifier, RandomForestClassifier,AdaBoostClassifier, GradientBoostingClassifier\n",
    "from xgboost import XGBClassifier\n",
    "import statsmodels.api as sm\n",
    "from sklearn.feature_selection import RFECV\n",
    "from sklearn.decomposition import PCA\n",
    "from datetime import datetime\n",
    "from sportsipy.mlb.boxscore import Boxscore\n",
    "from sportsipy.mlb.boxscore import Boxscores\n",
    "import warnings\n",
    "warnings.filterwarnings(\"ignore\")"
   ]
  },
  {
   "cell_type": "code",
   "execution_count": 2,
   "metadata": {
    "ExecuteTime": {
     "end_time": "2022-03-22T16:06:06.384515Z",
     "start_time": "2022-03-22T16:06:06.286249Z"
    }
   },
   "outputs": [],
   "source": [
    "#Import modeling and data collection functions .py files\n",
    "import sys\n",
    "sys.path.append(\"../\")\n",
    "from Modeling_functions import *\n",
    "from data_collection_functions import *"
   ]
  },
  {
   "cell_type": "markdown",
   "metadata": {},
   "source": [
    "In this notebook I will walk you through what was done for a specific year 2019. However, over the course of this project this process was done for years 2016-2021. In order to get the year you would desire all that would need to be done is simply changing the dates to the desired timeframe and going about the process in the same manner."
   ]
  },
  {
   "cell_type": "code",
   "execution_count": 69,
   "metadata": {
    "ExecuteTime": {
     "end_time": "2022-01-25T21:59:39.447201Z",
     "start_time": "2022-01-25T21:59:39.418790Z"
    }
   },
   "outputs": [],
   "source": [
    "# Function to return games in certain time range\n",
    "def get_current_games(date,end_date,end_week=None):\n",
    "    \n",
    "    games = Boxscores(date,end_date)\n",
    "    schedule = games.games\n",
    "\n",
    "    game_days = []\n",
    "    for day in schedule.values():\n",
    "        for game in day:\n",
    "            game_days.append(game['boxscore'])\n",
    "            \n",
    "    season_games = []\n",
    "\n",
    "    for i in game_days:\n",
    "        temp = Boxscore(i).dataframe\n",
    "        season_games.append(temp)\n",
    "\n",
    "    df = pd.concat(season_games, axis = 0).reset_index()\n",
    "\n",
    "    return df"
   ]
  },
  {
   "cell_type": "markdown",
   "metadata": {},
   "source": [
    "Enter start and end date wanted in this case we will look at the 2019 regular season which spans from March 3rd until September 29th."
   ]
  },
  {
   "cell_type": "code",
   "execution_count": 3,
   "metadata": {
    "ExecuteTime": {
     "end_time": "2022-03-22T16:41:00.481350Z",
     "start_time": "2022-03-22T16:06:10.658762Z"
    }
   },
   "outputs": [],
   "source": [
    "df=get_current_games(datetime(2019, 3, 28),datetime(2019, 9, 29))"
   ]
  },
  {
   "cell_type": "code",
   "execution_count": 4,
   "metadata": {
    "ExecuteTime": {
     "end_time": "2022-03-22T16:42:22.632016Z",
     "start_time": "2022-03-22T16:42:22.599464Z"
    }
   },
   "outputs": [
    {
     "data": {
      "text/html": [
       "<div>\n",
       "<style scoped>\n",
       "    .dataframe tbody tr th:only-of-type {\n",
       "        vertical-align: middle;\n",
       "    }\n",
       "\n",
       "    .dataframe tbody tr th {\n",
       "        vertical-align: top;\n",
       "    }\n",
       "\n",
       "    .dataframe thead th {\n",
       "        text-align: right;\n",
       "    }\n",
       "</style>\n",
       "<table border=\"1\" class=\"dataframe\">\n",
       "  <thead>\n",
       "    <tr style=\"text-align: right;\">\n",
       "      <th></th>\n",
       "      <th>index</th>\n",
       "      <th>date</th>\n",
       "      <th>time</th>\n",
       "      <th>venue</th>\n",
       "      <th>attendance</th>\n",
       "      <th>duration</th>\n",
       "      <th>time_of_day</th>\n",
       "      <th>winner</th>\n",
       "      <th>winning_name</th>\n",
       "      <th>winning_abbr</th>\n",
       "      <th>...</th>\n",
       "      <th>home_strikes_looking</th>\n",
       "      <th>home_grounded_balls</th>\n",
       "      <th>home_fly_balls</th>\n",
       "      <th>home_line_drives</th>\n",
       "      <th>home_unknown_bat_type</th>\n",
       "      <th>home_game_score</th>\n",
       "      <th>home_inherited_runners</th>\n",
       "      <th>home_inherited_score</th>\n",
       "      <th>home_win_probability_by_pitcher</th>\n",
       "      <th>home_base_out_runs_saved</th>\n",
       "    </tr>\n",
       "  </thead>\n",
       "  <tbody>\n",
       "    <tr>\n",
       "      <th>0</th>\n",
       "      <td>NYA/NYA201903280</td>\n",
       "      <td>Thursday, March 28, 2019</td>\n",
       "      <td>1:12 p.m. Local</td>\n",
       "      <td>Yankee Stadium III</td>\n",
       "      <td>46928</td>\n",
       "      <td>3:06</td>\n",
       "      <td>Day</td>\n",
       "      <td>Home</td>\n",
       "      <td>New York Yankees</td>\n",
       "      <td>NYY</td>\n",
       "      <td>...</td>\n",
       "      <td>35</td>\n",
       "      <td>9</td>\n",
       "      <td>13</td>\n",
       "      <td>4</td>\n",
       "      <td>0</td>\n",
       "      <td>56</td>\n",
       "      <td>1</td>\n",
       "      <td>0</td>\n",
       "      <td>0.240</td>\n",
       "      <td>2.9</td>\n",
       "    </tr>\n",
       "    <tr>\n",
       "      <th>1</th>\n",
       "      <td>WAS/WAS201903280</td>\n",
       "      <td>Thursday, March 28, 2019</td>\n",
       "      <td>1:07 p.m. Local</td>\n",
       "      <td>Nationals Park</td>\n",
       "      <td>42263</td>\n",
       "      <td>2:44</td>\n",
       "      <td>Day</td>\n",
       "      <td>Away</td>\n",
       "      <td>New York Mets</td>\n",
       "      <td>NYM</td>\n",
       "      <td>...</td>\n",
       "      <td>24</td>\n",
       "      <td>5</td>\n",
       "      <td>12</td>\n",
       "      <td>8</td>\n",
       "      <td>0</td>\n",
       "      <td>76</td>\n",
       "      <td>3</td>\n",
       "      <td>1</td>\n",
       "      <td>0.226</td>\n",
       "      <td>3.1</td>\n",
       "    </tr>\n",
       "    <tr>\n",
       "      <th>2</th>\n",
       "      <td>MIL/MIL201903280</td>\n",
       "      <td>Thursday, March 28, 2019</td>\n",
       "      <td>1:10 p.m. Local</td>\n",
       "      <td>Miller Park</td>\n",
       "      <td>45304</td>\n",
       "      <td>2:36</td>\n",
       "      <td>Day</td>\n",
       "      <td>Home</td>\n",
       "      <td>Milwaukee Brewers</td>\n",
       "      <td>MIL</td>\n",
       "      <td>...</td>\n",
       "      <td>28</td>\n",
       "      <td>14</td>\n",
       "      <td>11</td>\n",
       "      <td>3</td>\n",
       "      <td>0</td>\n",
       "      <td>55</td>\n",
       "      <td>1</td>\n",
       "      <td>0</td>\n",
       "      <td>0.321</td>\n",
       "      <td>0.8</td>\n",
       "    </tr>\n",
       "    <tr>\n",
       "      <th>3</th>\n",
       "      <td>PHI/PHI201903280</td>\n",
       "      <td>Thursday, March 28, 2019</td>\n",
       "      <td>3:08 p.m. Local</td>\n",
       "      <td>Citizens Bank Park</td>\n",
       "      <td>44469</td>\n",
       "      <td>3:04</td>\n",
       "      <td>Day</td>\n",
       "      <td>Home</td>\n",
       "      <td>Philadelphia Phillies</td>\n",
       "      <td>PHI</td>\n",
       "      <td>...</td>\n",
       "      <td>22</td>\n",
       "      <td>13</td>\n",
       "      <td>9</td>\n",
       "      <td>0</td>\n",
       "      <td>0</td>\n",
       "      <td>67</td>\n",
       "      <td>0</td>\n",
       "      <td>0</td>\n",
       "      <td>0.230</td>\n",
       "      <td>0.9</td>\n",
       "    </tr>\n",
       "    <tr>\n",
       "      <th>4</th>\n",
       "      <td>TOR/TOR201903280</td>\n",
       "      <td>Thursday, March 28, 2019</td>\n",
       "      <td>4:08 p.m. Local</td>\n",
       "      <td>Rogers Centre</td>\n",
       "      <td>45048</td>\n",
       "      <td>2:25</td>\n",
       "      <td>Day</td>\n",
       "      <td>Away</td>\n",
       "      <td>Detroit Tigers</td>\n",
       "      <td>DET</td>\n",
       "      <td>...</td>\n",
       "      <td>16</td>\n",
       "      <td>9</td>\n",
       "      <td>16</td>\n",
       "      <td>5</td>\n",
       "      <td>0</td>\n",
       "      <td>76</td>\n",
       "      <td>0</td>\n",
       "      <td>0</td>\n",
       "      <td>0.310</td>\n",
       "      <td>3.4</td>\n",
       "    </tr>\n",
       "  </tbody>\n",
       "</table>\n",
       "<p>5 rows × 82 columns</p>\n",
       "</div>"
      ],
      "text/plain": [
       "              index                      date             time  \\\n",
       "0  NYA/NYA201903280  Thursday, March 28, 2019  1:12 p.m. Local   \n",
       "1  WAS/WAS201903280  Thursday, March 28, 2019  1:07 p.m. Local   \n",
       "2  MIL/MIL201903280  Thursday, March 28, 2019  1:10 p.m. Local   \n",
       "3  PHI/PHI201903280  Thursday, March 28, 2019  3:08 p.m. Local   \n",
       "4  TOR/TOR201903280  Thursday, March 28, 2019  4:08 p.m. Local   \n",
       "\n",
       "                venue attendance duration time_of_day winner  \\\n",
       "0  Yankee Stadium III      46928     3:06         Day   Home   \n",
       "1      Nationals Park      42263     2:44         Day   Away   \n",
       "2         Miller Park      45304     2:36         Day   Home   \n",
       "3  Citizens Bank Park      44469     3:04         Day   Home   \n",
       "4       Rogers Centre      45048     2:25         Day   Away   \n",
       "\n",
       "            winning_name winning_abbr  ... home_strikes_looking  \\\n",
       "0       New York Yankees          NYY  ...                   35   \n",
       "1          New York Mets          NYM  ...                   24   \n",
       "2      Milwaukee Brewers          MIL  ...                   28   \n",
       "3  Philadelphia Phillies          PHI  ...                   22   \n",
       "4         Detroit Tigers          DET  ...                   16   \n",
       "\n",
       "  home_grounded_balls  home_fly_balls  home_line_drives  \\\n",
       "0                   9              13                 4   \n",
       "1                   5              12                 8   \n",
       "2                  14              11                 3   \n",
       "3                  13               9                 0   \n",
       "4                   9              16                 5   \n",
       "\n",
       "   home_unknown_bat_type  home_game_score  home_inherited_runners  \\\n",
       "0                      0               56                       1   \n",
       "1                      0               76                       3   \n",
       "2                      0               55                       1   \n",
       "3                      0               67                       0   \n",
       "4                      0               76                       0   \n",
       "\n",
       "   home_inherited_score  home_win_probability_by_pitcher  \\\n",
       "0                     0                            0.240   \n",
       "1                     1                            0.226   \n",
       "2                     0                            0.321   \n",
       "3                     0                            0.230   \n",
       "4                     0                            0.310   \n",
       "\n",
       "   home_base_out_runs_saved  \n",
       "0                       2.9  \n",
       "1                       3.1  \n",
       "2                       0.8  \n",
       "3                       0.9  \n",
       "4                       3.4  \n",
       "\n",
       "[5 rows x 82 columns]"
      ]
     },
     "execution_count": 4,
     "metadata": {},
     "output_type": "execute_result"
    }
   ],
   "source": [
    "df.head()"
   ]
  },
  {
   "cell_type": "code",
   "execution_count": 5,
   "metadata": {
    "ExecuteTime": {
     "end_time": "2022-03-22T16:42:45.247607Z",
     "start_time": "2022-03-22T16:42:45.238350Z"
    }
   },
   "outputs": [
    {
     "data": {
      "text/plain": [
       "Index(['index', 'date', 'time', 'venue', 'attendance', 'duration',\n",
       "       'time_of_day', 'winner', 'winning_name', 'winning_abbr', 'losing_name',\n",
       "       'losing_abbr', 'away_at_bats', 'away_runs', 'away_hits', 'away_rbi',\n",
       "       'away_earned_runs', 'away_bases_on_balls', 'away_strikeouts',\n",
       "       'away_plate_appearances', 'away_batting_average',\n",
       "       'away_on_base_percentage', 'away_slugging_percentage',\n",
       "       'away_on_base_plus', 'away_pitches', 'away_strikes',\n",
       "       'away_win_probability_for_offensive_player',\n",
       "       'away_average_leverage_index', 'away_win_probability_added',\n",
       "       'away_win_probability_subtracted', 'away_base_out_runs_added',\n",
       "       'away_putouts', 'away_assists', 'away_innings_pitched',\n",
       "       'away_home_runs', 'away_strikes_by_contact', 'away_strikes_swinging',\n",
       "       'away_strikes_looking', 'away_grounded_balls', 'away_fly_balls',\n",
       "       'away_line_drives', 'away_unknown_bat_type', 'away_game_score',\n",
       "       'away_inherited_runners', 'away_inherited_score',\n",
       "       'away_win_probability_by_pitcher', 'away_base_out_runs_saved',\n",
       "       'home_at_bats', 'home_runs', 'home_hits', 'home_rbi',\n",
       "       'home_earned_runs', 'home_bases_on_balls', 'home_strikeouts',\n",
       "       'home_plate_appearances', 'home_batting_average',\n",
       "       'home_on_base_percentage', 'home_slugging_percentage',\n",
       "       'home_on_base_plus', 'home_pitches', 'home_strikes',\n",
       "       'home_win_probability_for_offensive_player',\n",
       "       'home_average_leverage_index', 'home_win_probability_added',\n",
       "       'home_win_probability_subtracted', 'home_base_out_runs_added',\n",
       "       'home_putouts', 'home_assists', 'home_innings_pitched',\n",
       "       'home_home_runs', 'home_strikes_by_contact', 'home_strikes_swinging',\n",
       "       'home_strikes_looking', 'home_grounded_balls', 'home_fly_balls',\n",
       "       'home_line_drives', 'home_unknown_bat_type', 'home_game_score',\n",
       "       'home_inherited_runners', 'home_inherited_score',\n",
       "       'home_win_probability_by_pitcher', 'home_base_out_runs_saved'],\n",
       "      dtype='object')"
      ]
     },
     "execution_count": 5,
     "metadata": {},
     "output_type": "execute_result"
    }
   ],
   "source": [
    "# Look at the given columns\n",
    "df.columns"
   ]
  },
  {
   "cell_type": "code",
   "execution_count": 6,
   "metadata": {
    "ExecuteTime": {
     "end_time": "2022-03-22T16:42:51.241584Z",
     "start_time": "2022-03-22T16:42:51.209641Z"
    }
   },
   "outputs": [
    {
     "name": "stdout",
     "output_type": "stream",
     "text": [
      "<class 'pandas.core.frame.DataFrame'>\n",
      "RangeIndex: 2427 entries, 0 to 2426\n",
      "Data columns (total 82 columns):\n",
      " #   Column                                     Non-Null Count  Dtype  \n",
      "---  ------                                     --------------  -----  \n",
      " 0   index                                      2427 non-null   object \n",
      " 1   date                                       2427 non-null   object \n",
      " 2   time                                       2427 non-null   object \n",
      " 3   venue                                      2427 non-null   object \n",
      " 4   attendance                                 2415 non-null   object \n",
      " 5   duration                                   2427 non-null   object \n",
      " 6   time_of_day                                2427 non-null   object \n",
      " 7   winner                                     2427 non-null   object \n",
      " 8   winning_name                               2427 non-null   object \n",
      " 9   winning_abbr                               2427 non-null   object \n",
      " 10  losing_name                                2427 non-null   object \n",
      " 11  losing_abbr                                2427 non-null   object \n",
      " 12  away_at_bats                               2427 non-null   int64  \n",
      " 13  away_runs                                  2427 non-null   int64  \n",
      " 14  away_hits                                  2427 non-null   int64  \n",
      " 15  away_rbi                                   2427 non-null   int64  \n",
      " 16  away_earned_runs                           2427 non-null   float64\n",
      " 17  away_bases_on_balls                        2427 non-null   int64  \n",
      " 18  away_strikeouts                            2427 non-null   int64  \n",
      " 19  away_plate_appearances                     2427 non-null   int64  \n",
      " 20  away_batting_average                       2427 non-null   float64\n",
      " 21  away_on_base_percentage                    2427 non-null   float64\n",
      " 22  away_slugging_percentage                   2427 non-null   float64\n",
      " 23  away_on_base_plus                          2427 non-null   float64\n",
      " 24  away_pitches                               2427 non-null   int64  \n",
      " 25  away_strikes                               2427 non-null   int64  \n",
      " 26  away_win_probability_for_offensive_player  2427 non-null   float64\n",
      " 27  away_average_leverage_index                2427 non-null   float64\n",
      " 28  away_win_probability_added                 2427 non-null   float64\n",
      " 29  away_win_probability_subtracted            0 non-null      object \n",
      " 30  away_base_out_runs_added                   2427 non-null   float64\n",
      " 31  away_putouts                               2427 non-null   int64  \n",
      " 32  away_assists                               2427 non-null   int64  \n",
      " 33  away_innings_pitched                       2427 non-null   float64\n",
      " 34  away_home_runs                             2427 non-null   int64  \n",
      " 35  away_strikes_by_contact                    2427 non-null   int64  \n",
      " 36  away_strikes_swinging                      2427 non-null   int64  \n",
      " 37  away_strikes_looking                       2427 non-null   int64  \n",
      " 38  away_grounded_balls                        2427 non-null   int64  \n",
      " 39  away_fly_balls                             2427 non-null   int64  \n",
      " 40  away_line_drives                           2427 non-null   int64  \n",
      " 41  away_unknown_bat_type                      2427 non-null   int64  \n",
      " 42  away_game_score                            2427 non-null   int64  \n",
      " 43  away_inherited_runners                     2411 non-null   object \n",
      " 44  away_inherited_score                       2411 non-null   object \n",
      " 45  away_win_probability_by_pitcher            2427 non-null   float64\n",
      " 46  away_base_out_runs_saved                   2427 non-null   float64\n",
      " 47  home_at_bats                               2427 non-null   int64  \n",
      " 48  home_runs                                  2427 non-null   int64  \n",
      " 49  home_hits                                  2427 non-null   int64  \n",
      " 50  home_rbi                                   2427 non-null   int64  \n",
      " 51  home_earned_runs                           2427 non-null   float64\n",
      " 52  home_bases_on_balls                        2427 non-null   int64  \n",
      " 53  home_strikeouts                            2427 non-null   int64  \n",
      " 54  home_plate_appearances                     2427 non-null   int64  \n",
      " 55  home_batting_average                       2427 non-null   float64\n",
      " 56  home_on_base_percentage                    2427 non-null   float64\n",
      " 57  home_slugging_percentage                   2427 non-null   float64\n",
      " 58  home_on_base_plus                          2427 non-null   float64\n",
      " 59  home_pitches                               2427 non-null   int64  \n",
      " 60  home_strikes                               2427 non-null   int64  \n",
      " 61  home_win_probability_for_offensive_player  2427 non-null   float64\n",
      " 62  home_average_leverage_index                2427 non-null   float64\n",
      " 63  home_win_probability_added                 2427 non-null   float64\n",
      " 64  home_win_probability_subtracted            0 non-null      object \n",
      " 65  home_base_out_runs_added                   2427 non-null   float64\n",
      " 66  home_putouts                               2427 non-null   int64  \n",
      " 67  home_assists                               2427 non-null   int64  \n",
      " 68  home_innings_pitched                       2427 non-null   float64\n",
      " 69  home_home_runs                             2427 non-null   int64  \n",
      " 70  home_strikes_by_contact                    2427 non-null   int64  \n",
      " 71  home_strikes_swinging                      2427 non-null   int64  \n",
      " 72  home_strikes_looking                       2427 non-null   int64  \n",
      " 73  home_grounded_balls                        2427 non-null   int64  \n",
      " 74  home_fly_balls                             2427 non-null   int64  \n",
      " 75  home_line_drives                           2427 non-null   int64  \n",
      " 76  home_unknown_bat_type                      2427 non-null   int64  \n",
      " 77  home_game_score                            2427 non-null   int64  \n",
      " 78  home_inherited_runners                     2398 non-null   object \n",
      " 79  home_inherited_score                       2398 non-null   object \n",
      " 80  home_win_probability_by_pitcher            2427 non-null   float64\n",
      " 81  home_base_out_runs_saved                   2427 non-null   float64\n",
      "dtypes: float64(24), int64(40), object(18)\n",
      "memory usage: 1.5+ MB\n"
     ]
    }
   ],
   "source": [
    "# Look at Dtypes and more info about dataframe\n",
    "df.info()"
   ]
  },
  {
   "cell_type": "code",
   "execution_count": 11,
   "metadata": {
    "ExecuteTime": {
     "end_time": "2022-03-22T16:47:00.107203Z",
     "start_time": "2022-03-22T16:47:00.065098Z"
    }
   },
   "outputs": [],
   "source": [
    "#set date to datetime\n",
    "df.date=pd.to_datetime(df.date)"
   ]
  },
  {
   "cell_type": "code",
   "execution_count": 12,
   "metadata": {
    "ExecuteTime": {
     "end_time": "2022-03-22T16:47:01.130953Z",
     "start_time": "2022-03-22T16:47:01.124723Z"
    }
   },
   "outputs": [],
   "source": [
    "#Set date as index\n",
    "df.set_index(df.date,inplace=True)"
   ]
  },
  {
   "cell_type": "code",
   "execution_count": 13,
   "metadata": {
    "ExecuteTime": {
     "end_time": "2022-03-22T16:47:02.224300Z",
     "start_time": "2022-03-22T16:47:02.220434Z"
    }
   },
   "outputs": [],
   "source": [
    "#Get rid of possible whitespace issues\n",
    "for column in df.columns:\n",
    "    column.strip()"
   ]
  },
  {
   "cell_type": "code",
   "execution_count": 14,
   "metadata": {
    "ExecuteTime": {
     "end_time": "2022-03-22T16:47:05.810363Z",
     "start_time": "2022-03-22T16:47:05.800327Z"
    }
   },
   "outputs": [],
   "source": [
    "#drop no longer needed columns, index not needed and date currently in index\n",
    "df.drop(['index','date'],axis=1,inplace=True)"
   ]
  },
  {
   "cell_type": "code",
   "execution_count": 15,
   "metadata": {
    "ExecuteTime": {
     "end_time": "2022-03-22T16:47:07.106177Z",
     "start_time": "2022-03-22T16:47:07.075087Z"
    }
   },
   "outputs": [
    {
     "data": {
      "text/html": [
       "<div>\n",
       "<style scoped>\n",
       "    .dataframe tbody tr th:only-of-type {\n",
       "        vertical-align: middle;\n",
       "    }\n",
       "\n",
       "    .dataframe tbody tr th {\n",
       "        vertical-align: top;\n",
       "    }\n",
       "\n",
       "    .dataframe thead th {\n",
       "        text-align: right;\n",
       "    }\n",
       "</style>\n",
       "<table border=\"1\" class=\"dataframe\">\n",
       "  <thead>\n",
       "    <tr style=\"text-align: right;\">\n",
       "      <th></th>\n",
       "      <th>time</th>\n",
       "      <th>venue</th>\n",
       "      <th>attendance</th>\n",
       "      <th>duration</th>\n",
       "      <th>time_of_day</th>\n",
       "      <th>winner</th>\n",
       "      <th>winning_name</th>\n",
       "      <th>winning_abbr</th>\n",
       "      <th>losing_name</th>\n",
       "      <th>losing_abbr</th>\n",
       "      <th>...</th>\n",
       "      <th>home_strikes_looking</th>\n",
       "      <th>home_grounded_balls</th>\n",
       "      <th>home_fly_balls</th>\n",
       "      <th>home_line_drives</th>\n",
       "      <th>home_unknown_bat_type</th>\n",
       "      <th>home_game_score</th>\n",
       "      <th>home_inherited_runners</th>\n",
       "      <th>home_inherited_score</th>\n",
       "      <th>home_win_probability_by_pitcher</th>\n",
       "      <th>home_base_out_runs_saved</th>\n",
       "    </tr>\n",
       "    <tr>\n",
       "      <th>date</th>\n",
       "      <th></th>\n",
       "      <th></th>\n",
       "      <th></th>\n",
       "      <th></th>\n",
       "      <th></th>\n",
       "      <th></th>\n",
       "      <th></th>\n",
       "      <th></th>\n",
       "      <th></th>\n",
       "      <th></th>\n",
       "      <th></th>\n",
       "      <th></th>\n",
       "      <th></th>\n",
       "      <th></th>\n",
       "      <th></th>\n",
       "      <th></th>\n",
       "      <th></th>\n",
       "      <th></th>\n",
       "      <th></th>\n",
       "      <th></th>\n",
       "      <th></th>\n",
       "    </tr>\n",
       "  </thead>\n",
       "  <tbody>\n",
       "    <tr>\n",
       "      <th>2019-03-28</th>\n",
       "      <td>1:12 p.m. Local</td>\n",
       "      <td>Yankee Stadium III</td>\n",
       "      <td>46928</td>\n",
       "      <td>3:06</td>\n",
       "      <td>Day</td>\n",
       "      <td>Home</td>\n",
       "      <td>New York Yankees</td>\n",
       "      <td>NYY</td>\n",
       "      <td>Baltimore Orioles</td>\n",
       "      <td>BAL</td>\n",
       "      <td>...</td>\n",
       "      <td>35</td>\n",
       "      <td>9</td>\n",
       "      <td>13</td>\n",
       "      <td>4</td>\n",
       "      <td>0</td>\n",
       "      <td>56</td>\n",
       "      <td>1</td>\n",
       "      <td>0</td>\n",
       "      <td>0.240</td>\n",
       "      <td>2.9</td>\n",
       "    </tr>\n",
       "    <tr>\n",
       "      <th>2019-03-28</th>\n",
       "      <td>1:07 p.m. Local</td>\n",
       "      <td>Nationals Park</td>\n",
       "      <td>42263</td>\n",
       "      <td>2:44</td>\n",
       "      <td>Day</td>\n",
       "      <td>Away</td>\n",
       "      <td>New York Mets</td>\n",
       "      <td>NYM</td>\n",
       "      <td>Washington Nationals</td>\n",
       "      <td>WSN</td>\n",
       "      <td>...</td>\n",
       "      <td>24</td>\n",
       "      <td>5</td>\n",
       "      <td>12</td>\n",
       "      <td>8</td>\n",
       "      <td>0</td>\n",
       "      <td>76</td>\n",
       "      <td>3</td>\n",
       "      <td>1</td>\n",
       "      <td>0.226</td>\n",
       "      <td>3.1</td>\n",
       "    </tr>\n",
       "    <tr>\n",
       "      <th>2019-03-28</th>\n",
       "      <td>1:10 p.m. Local</td>\n",
       "      <td>Miller Park</td>\n",
       "      <td>45304</td>\n",
       "      <td>2:36</td>\n",
       "      <td>Day</td>\n",
       "      <td>Home</td>\n",
       "      <td>Milwaukee Brewers</td>\n",
       "      <td>MIL</td>\n",
       "      <td>St. Louis Cardinals</td>\n",
       "      <td>STL</td>\n",
       "      <td>...</td>\n",
       "      <td>28</td>\n",
       "      <td>14</td>\n",
       "      <td>11</td>\n",
       "      <td>3</td>\n",
       "      <td>0</td>\n",
       "      <td>55</td>\n",
       "      <td>1</td>\n",
       "      <td>0</td>\n",
       "      <td>0.321</td>\n",
       "      <td>0.8</td>\n",
       "    </tr>\n",
       "    <tr>\n",
       "      <th>2019-03-28</th>\n",
       "      <td>3:08 p.m. Local</td>\n",
       "      <td>Citizens Bank Park</td>\n",
       "      <td>44469</td>\n",
       "      <td>3:04</td>\n",
       "      <td>Day</td>\n",
       "      <td>Home</td>\n",
       "      <td>Philadelphia Phillies</td>\n",
       "      <td>PHI</td>\n",
       "      <td>Atlanta Braves</td>\n",
       "      <td>ATL</td>\n",
       "      <td>...</td>\n",
       "      <td>22</td>\n",
       "      <td>13</td>\n",
       "      <td>9</td>\n",
       "      <td>0</td>\n",
       "      <td>0</td>\n",
       "      <td>67</td>\n",
       "      <td>0</td>\n",
       "      <td>0</td>\n",
       "      <td>0.230</td>\n",
       "      <td>0.9</td>\n",
       "    </tr>\n",
       "    <tr>\n",
       "      <th>2019-03-28</th>\n",
       "      <td>4:08 p.m. Local</td>\n",
       "      <td>Rogers Centre</td>\n",
       "      <td>45048</td>\n",
       "      <td>2:25</td>\n",
       "      <td>Day</td>\n",
       "      <td>Away</td>\n",
       "      <td>Detroit Tigers</td>\n",
       "      <td>DET</td>\n",
       "      <td>Toronto Blue Jays</td>\n",
       "      <td>TOR</td>\n",
       "      <td>...</td>\n",
       "      <td>16</td>\n",
       "      <td>9</td>\n",
       "      <td>16</td>\n",
       "      <td>5</td>\n",
       "      <td>0</td>\n",
       "      <td>76</td>\n",
       "      <td>0</td>\n",
       "      <td>0</td>\n",
       "      <td>0.310</td>\n",
       "      <td>3.4</td>\n",
       "    </tr>\n",
       "  </tbody>\n",
       "</table>\n",
       "<p>5 rows × 80 columns</p>\n",
       "</div>"
      ],
      "text/plain": [
       "                       time               venue attendance duration  \\\n",
       "date                                                                  \n",
       "2019-03-28  1:12 p.m. Local  Yankee Stadium III      46928     3:06   \n",
       "2019-03-28  1:07 p.m. Local      Nationals Park      42263     2:44   \n",
       "2019-03-28  1:10 p.m. Local         Miller Park      45304     2:36   \n",
       "2019-03-28  3:08 p.m. Local  Citizens Bank Park      44469     3:04   \n",
       "2019-03-28  4:08 p.m. Local       Rogers Centre      45048     2:25   \n",
       "\n",
       "           time_of_day winner           winning_name winning_abbr  \\\n",
       "date                                                                \n",
       "2019-03-28         Day   Home       New York Yankees          NYY   \n",
       "2019-03-28         Day   Away          New York Mets          NYM   \n",
       "2019-03-28         Day   Home      Milwaukee Brewers          MIL   \n",
       "2019-03-28         Day   Home  Philadelphia Phillies          PHI   \n",
       "2019-03-28         Day   Away         Detroit Tigers          DET   \n",
       "\n",
       "                     losing_name losing_abbr  ...  home_strikes_looking  \\\n",
       "date                                          ...                         \n",
       "2019-03-28     Baltimore Orioles         BAL  ...                    35   \n",
       "2019-03-28  Washington Nationals         WSN  ...                    24   \n",
       "2019-03-28   St. Louis Cardinals         STL  ...                    28   \n",
       "2019-03-28        Atlanta Braves         ATL  ...                    22   \n",
       "2019-03-28     Toronto Blue Jays         TOR  ...                    16   \n",
       "\n",
       "            home_grounded_balls  home_fly_balls  home_line_drives  \\\n",
       "date                                                                \n",
       "2019-03-28                    9              13                 4   \n",
       "2019-03-28                    5              12                 8   \n",
       "2019-03-28                   14              11                 3   \n",
       "2019-03-28                   13               9                 0   \n",
       "2019-03-28                    9              16                 5   \n",
       "\n",
       "            home_unknown_bat_type  home_game_score  home_inherited_runners  \\\n",
       "date                                                                         \n",
       "2019-03-28                      0               56                       1   \n",
       "2019-03-28                      0               76                       3   \n",
       "2019-03-28                      0               55                       1   \n",
       "2019-03-28                      0               67                       0   \n",
       "2019-03-28                      0               76                       0   \n",
       "\n",
       "            home_inherited_score  home_win_probability_by_pitcher  \\\n",
       "date                                                                \n",
       "2019-03-28                     0                            0.240   \n",
       "2019-03-28                     1                            0.226   \n",
       "2019-03-28                     0                            0.321   \n",
       "2019-03-28                     0                            0.230   \n",
       "2019-03-28                     0                            0.310   \n",
       "\n",
       "            home_base_out_runs_saved  \n",
       "date                                  \n",
       "2019-03-28                       2.9  \n",
       "2019-03-28                       3.1  \n",
       "2019-03-28                       0.8  \n",
       "2019-03-28                       0.9  \n",
       "2019-03-28                       3.4  \n",
       "\n",
       "[5 rows x 80 columns]"
      ]
     },
     "execution_count": 15,
     "metadata": {},
     "output_type": "execute_result"
    }
   ],
   "source": [
    "#Examine df as currently constructed\n",
    "df.head()"
   ]
  },
  {
   "cell_type": "markdown",
   "metadata": {},
   "source": [
    "## Use Team Regular Season Function from .py File"
   ]
  },
  {
   "cell_type": "code",
   "execution_count": 16,
   "metadata": {
    "ExecuteTime": {
     "end_time": "2022-03-22T16:47:21.416917Z",
     "start_time": "2022-03-22T16:47:21.344601Z"
    }
   },
   "outputs": [
    {
     "data": {
      "text/html": [
       "<div>\n",
       "<style scoped>\n",
       "    .dataframe tbody tr th:only-of-type {\n",
       "        vertical-align: middle;\n",
       "    }\n",
       "\n",
       "    .dataframe tbody tr th {\n",
       "        vertical-align: top;\n",
       "    }\n",
       "\n",
       "    .dataframe thead th {\n",
       "        text-align: right;\n",
       "    }\n",
       "</style>\n",
       "<table border=\"1\" class=\"dataframe\">\n",
       "  <thead>\n",
       "    <tr style=\"text-align: right;\">\n",
       "      <th></th>\n",
       "      <th>name</th>\n",
       "      <th>at_bats</th>\n",
       "      <th>runs</th>\n",
       "      <th>hits</th>\n",
       "      <th>rbi</th>\n",
       "      <th>earned_runs</th>\n",
       "      <th>bases_on_balls</th>\n",
       "      <th>strikeouts</th>\n",
       "      <th>plate_appearances</th>\n",
       "      <th>batting_average</th>\n",
       "      <th>...</th>\n",
       "      <th>Opp_strikes_by_contact</th>\n",
       "      <th>Opp_strikes_swinging</th>\n",
       "      <th>Opp_strikes_looking</th>\n",
       "      <th>Opp_grounded_balls</th>\n",
       "      <th>Opp_fly_balls</th>\n",
       "      <th>Opp_line_drives</th>\n",
       "      <th>Opp_unknown_bat_type</th>\n",
       "      <th>Opp_game_score</th>\n",
       "      <th>Opp_win_probability_by_pitcher</th>\n",
       "      <th>Opp_base_out_runs_saved</th>\n",
       "    </tr>\n",
       "  </thead>\n",
       "  <tbody>\n",
       "    <tr>\n",
       "      <th>0</th>\n",
       "      <td>LAD</td>\n",
       "      <td>33.907407</td>\n",
       "      <td>5.469136</td>\n",
       "      <td>8.728395</td>\n",
       "      <td>5.314815</td>\n",
       "      <td>5.250432</td>\n",
       "      <td>3.746914</td>\n",
       "      <td>8.37037</td>\n",
       "      <td>38.777778</td>\n",
       "      <td>0.252296</td>\n",
       "      <td>...</td>\n",
       "      <td>52.524691</td>\n",
       "      <td>17.648148</td>\n",
       "      <td>23.833333</td>\n",
       "      <td>11.265432</td>\n",
       "      <td>13.018519</td>\n",
       "      <td>5.858025</td>\n",
       "      <td>0.0</td>\n",
       "      <td>48.216049</td>\n",
       "      <td>-0.074901</td>\n",
       "      <td>-0.858642</td>\n",
       "    </tr>\n",
       "  </tbody>\n",
       "</table>\n",
       "<p>1 rows × 65 columns</p>\n",
       "</div>"
      ],
      "text/plain": [
       "  name    at_bats      runs      hits       rbi  earned_runs  bases_on_balls  \\\n",
       "0  LAD  33.907407  5.469136  8.728395  5.314815     5.250432        3.746914   \n",
       "\n",
       "   strikeouts  plate_appearances  batting_average  ...  \\\n",
       "0     8.37037          38.777778         0.252296  ...   \n",
       "\n",
       "   Opp_strikes_by_contact  Opp_strikes_swinging  Opp_strikes_looking  \\\n",
       "0               52.524691             17.648148            23.833333   \n",
       "\n",
       "   Opp_grounded_balls  Opp_fly_balls  Opp_line_drives  Opp_unknown_bat_type  \\\n",
       "0           11.265432      13.018519         5.858025                   0.0   \n",
       "\n",
       "   Opp_game_score  Opp_win_probability_by_pitcher  Opp_base_out_runs_saved  \n",
       "0       48.216049                       -0.074901                -0.858642  \n",
       "\n",
       "[1 rows x 65 columns]"
      ]
     },
     "execution_count": 16,
     "metadata": {},
     "output_type": "execute_result"
    }
   ],
   "source": [
    "#Check that this function is working properly\n",
    "dodgers_19=team_regular_season(df,'LAD')\n",
    "dodgers_19"
   ]
  },
  {
   "cell_type": "markdown",
   "metadata": {},
   "source": [
    "## Use Single Game Function from .py File"
   ]
  },
  {
   "cell_type": "code",
   "execution_count": 17,
   "metadata": {
    "ExecuteTime": {
     "end_time": "2022-03-22T17:43:38.928344Z",
     "start_time": "2022-03-22T17:43:38.799430Z"
    }
   },
   "outputs": [
    {
     "data": {
      "text/html": [
       "<div>\n",
       "<style scoped>\n",
       "    .dataframe tbody tr th:only-of-type {\n",
       "        vertical-align: middle;\n",
       "    }\n",
       "\n",
       "    .dataframe tbody tr th {\n",
       "        vertical-align: top;\n",
       "    }\n",
       "\n",
       "    .dataframe thead th {\n",
       "        text-align: right;\n",
       "    }\n",
       "</style>\n",
       "<table border=\"1\" class=\"dataframe\">\n",
       "  <thead>\n",
       "    <tr style=\"text-align: right;\">\n",
       "      <th></th>\n",
       "      <th>H_name</th>\n",
       "      <th>H_at_bats</th>\n",
       "      <th>H_runs</th>\n",
       "      <th>H_hits</th>\n",
       "      <th>H_rbi</th>\n",
       "      <th>H_earned_runs</th>\n",
       "      <th>H_bases_on_balls</th>\n",
       "      <th>H_strikeouts</th>\n",
       "      <th>H_plate_appearances</th>\n",
       "      <th>H_batting_average</th>\n",
       "      <th>...</th>\n",
       "      <th>A_Opp_strikes_by_contact</th>\n",
       "      <th>A_Opp_strikes_swinging</th>\n",
       "      <th>A_Opp_strikes_looking</th>\n",
       "      <th>A_Opp_grounded_balls</th>\n",
       "      <th>A_Opp_fly_balls</th>\n",
       "      <th>A_Opp_line_drives</th>\n",
       "      <th>A_Opp_unknown_bat_type</th>\n",
       "      <th>A_Opp_game_score</th>\n",
       "      <th>A_Opp_win_probability_by_pitcher</th>\n",
       "      <th>A_Opp_base_out_runs_saved</th>\n",
       "    </tr>\n",
       "  </thead>\n",
       "  <tbody>\n",
       "    <tr>\n",
       "      <th>0</th>\n",
       "      <td>TOR</td>\n",
       "      <td>33.907407</td>\n",
       "      <td>4.481481</td>\n",
       "      <td>8.018519</td>\n",
       "      <td>4.302469</td>\n",
       "      <td>4.286975</td>\n",
       "      <td>3.141975</td>\n",
       "      <td>9.345679</td>\n",
       "      <td>37.598765</td>\n",
       "      <td>0.229025</td>\n",
       "      <td>...</td>\n",
       "      <td>56.006173</td>\n",
       "      <td>15.790123</td>\n",
       "      <td>25.858025</td>\n",
       "      <td>11.395062</td>\n",
       "      <td>15.259259</td>\n",
       "      <td>6.746914</td>\n",
       "      <td>0.006173</td>\n",
       "      <td>49.888889</td>\n",
       "      <td>0.022778</td>\n",
       "      <td>0.111728</td>\n",
       "    </tr>\n",
       "  </tbody>\n",
       "</table>\n",
       "<p>1 rows × 130 columns</p>\n",
       "</div>"
      ],
      "text/plain": [
       "  H_name  H_at_bats    H_runs    H_hits     H_rbi  H_earned_runs  \\\n",
       "0    TOR  33.907407  4.481481  8.018519  4.302469       4.286975   \n",
       "\n",
       "   H_bases_on_balls  H_strikeouts  H_plate_appearances  H_batting_average  \\\n",
       "0          3.141975      9.345679            37.598765           0.229025   \n",
       "\n",
       "   ...  A_Opp_strikes_by_contact  A_Opp_strikes_swinging  \\\n",
       "0  ...                 56.006173               15.790123   \n",
       "\n",
       "   A_Opp_strikes_looking  A_Opp_grounded_balls  A_Opp_fly_balls  \\\n",
       "0              25.858025             11.395062        15.259259   \n",
       "\n",
       "   A_Opp_line_drives  A_Opp_unknown_bat_type  A_Opp_game_score  \\\n",
       "0           6.746914                0.006173         49.888889   \n",
       "\n",
       "   A_Opp_win_probability_by_pitcher  A_Opp_base_out_runs_saved  \n",
       "0                          0.022778                   0.111728  \n",
       "\n",
       "[1 rows x 130 columns]"
      ]
     },
     "execution_count": 17,
     "metadata": {},
     "output_type": "execute_result"
    }
   ],
   "source": [
    "jays_rangers=single_game('TOR','TEX',df)\n",
    "jays_rangers"
   ]
  },
  {
   "cell_type": "markdown",
   "metadata": {},
   "source": [
    "## Use Create Season Function from .py File"
   ]
  },
  {
   "cell_type": "code",
   "execution_count": 18,
   "metadata": {
    "ExecuteTime": {
     "end_time": "2022-03-22T17:43:47.514087Z",
     "start_time": "2022-03-22T17:43:47.483486Z"
    }
   },
   "outputs": [
    {
     "data": {
      "text/html": [
       "<div>\n",
       "<style scoped>\n",
       "    .dataframe tbody tr th:only-of-type {\n",
       "        vertical-align: middle;\n",
       "    }\n",
       "\n",
       "    .dataframe tbody tr th {\n",
       "        vertical-align: top;\n",
       "    }\n",
       "\n",
       "    .dataframe thead th {\n",
       "        text-align: right;\n",
       "    }\n",
       "</style>\n",
       "<table border=\"1\" class=\"dataframe\">\n",
       "  <thead>\n",
       "    <tr style=\"text-align: right;\">\n",
       "      <th></th>\n",
       "      <th>time</th>\n",
       "      <th>venue</th>\n",
       "      <th>attendance</th>\n",
       "      <th>duration</th>\n",
       "      <th>time_of_day</th>\n",
       "      <th>winner</th>\n",
       "      <th>winning_name</th>\n",
       "      <th>winning_abbr</th>\n",
       "      <th>losing_name</th>\n",
       "      <th>losing_abbr</th>\n",
       "      <th>...</th>\n",
       "      <th>home_strikes_looking</th>\n",
       "      <th>home_grounded_balls</th>\n",
       "      <th>home_fly_balls</th>\n",
       "      <th>home_line_drives</th>\n",
       "      <th>home_unknown_bat_type</th>\n",
       "      <th>home_game_score</th>\n",
       "      <th>home_inherited_runners</th>\n",
       "      <th>home_inherited_score</th>\n",
       "      <th>home_win_probability_by_pitcher</th>\n",
       "      <th>home_base_out_runs_saved</th>\n",
       "    </tr>\n",
       "    <tr>\n",
       "      <th>date</th>\n",
       "      <th></th>\n",
       "      <th></th>\n",
       "      <th></th>\n",
       "      <th></th>\n",
       "      <th></th>\n",
       "      <th></th>\n",
       "      <th></th>\n",
       "      <th></th>\n",
       "      <th></th>\n",
       "      <th></th>\n",
       "      <th></th>\n",
       "      <th></th>\n",
       "      <th></th>\n",
       "      <th></th>\n",
       "      <th></th>\n",
       "      <th></th>\n",
       "      <th></th>\n",
       "      <th></th>\n",
       "      <th></th>\n",
       "      <th></th>\n",
       "      <th></th>\n",
       "    </tr>\n",
       "  </thead>\n",
       "  <tbody>\n",
       "    <tr>\n",
       "      <th>2019-03-28</th>\n",
       "      <td>1:12 p.m. Local</td>\n",
       "      <td>Yankee Stadium III</td>\n",
       "      <td>46928</td>\n",
       "      <td>3:06</td>\n",
       "      <td>Day</td>\n",
       "      <td>Home</td>\n",
       "      <td>New York Yankees</td>\n",
       "      <td>NYY</td>\n",
       "      <td>Baltimore Orioles</td>\n",
       "      <td>BAL</td>\n",
       "      <td>...</td>\n",
       "      <td>35</td>\n",
       "      <td>9</td>\n",
       "      <td>13</td>\n",
       "      <td>4</td>\n",
       "      <td>0</td>\n",
       "      <td>56</td>\n",
       "      <td>1</td>\n",
       "      <td>0</td>\n",
       "      <td>0.240</td>\n",
       "      <td>2.9</td>\n",
       "    </tr>\n",
       "    <tr>\n",
       "      <th>2019-03-28</th>\n",
       "      <td>1:07 p.m. Local</td>\n",
       "      <td>Nationals Park</td>\n",
       "      <td>42263</td>\n",
       "      <td>2:44</td>\n",
       "      <td>Day</td>\n",
       "      <td>Away</td>\n",
       "      <td>New York Mets</td>\n",
       "      <td>NYM</td>\n",
       "      <td>Washington Nationals</td>\n",
       "      <td>WSN</td>\n",
       "      <td>...</td>\n",
       "      <td>24</td>\n",
       "      <td>5</td>\n",
       "      <td>12</td>\n",
       "      <td>8</td>\n",
       "      <td>0</td>\n",
       "      <td>76</td>\n",
       "      <td>3</td>\n",
       "      <td>1</td>\n",
       "      <td>0.226</td>\n",
       "      <td>3.1</td>\n",
       "    </tr>\n",
       "    <tr>\n",
       "      <th>2019-03-28</th>\n",
       "      <td>1:10 p.m. Local</td>\n",
       "      <td>Miller Park</td>\n",
       "      <td>45304</td>\n",
       "      <td>2:36</td>\n",
       "      <td>Day</td>\n",
       "      <td>Home</td>\n",
       "      <td>Milwaukee Brewers</td>\n",
       "      <td>MIL</td>\n",
       "      <td>St. Louis Cardinals</td>\n",
       "      <td>STL</td>\n",
       "      <td>...</td>\n",
       "      <td>28</td>\n",
       "      <td>14</td>\n",
       "      <td>11</td>\n",
       "      <td>3</td>\n",
       "      <td>0</td>\n",
       "      <td>55</td>\n",
       "      <td>1</td>\n",
       "      <td>0</td>\n",
       "      <td>0.321</td>\n",
       "      <td>0.8</td>\n",
       "    </tr>\n",
       "    <tr>\n",
       "      <th>2019-03-28</th>\n",
       "      <td>3:08 p.m. Local</td>\n",
       "      <td>Citizens Bank Park</td>\n",
       "      <td>44469</td>\n",
       "      <td>3:04</td>\n",
       "      <td>Day</td>\n",
       "      <td>Home</td>\n",
       "      <td>Philadelphia Phillies</td>\n",
       "      <td>PHI</td>\n",
       "      <td>Atlanta Braves</td>\n",
       "      <td>ATL</td>\n",
       "      <td>...</td>\n",
       "      <td>22</td>\n",
       "      <td>13</td>\n",
       "      <td>9</td>\n",
       "      <td>0</td>\n",
       "      <td>0</td>\n",
       "      <td>67</td>\n",
       "      <td>0</td>\n",
       "      <td>0</td>\n",
       "      <td>0.230</td>\n",
       "      <td>0.9</td>\n",
       "    </tr>\n",
       "    <tr>\n",
       "      <th>2019-03-28</th>\n",
       "      <td>4:08 p.m. Local</td>\n",
       "      <td>Rogers Centre</td>\n",
       "      <td>45048</td>\n",
       "      <td>2:25</td>\n",
       "      <td>Day</td>\n",
       "      <td>Away</td>\n",
       "      <td>Detroit Tigers</td>\n",
       "      <td>DET</td>\n",
       "      <td>Toronto Blue Jays</td>\n",
       "      <td>TOR</td>\n",
       "      <td>...</td>\n",
       "      <td>16</td>\n",
       "      <td>9</td>\n",
       "      <td>16</td>\n",
       "      <td>5</td>\n",
       "      <td>0</td>\n",
       "      <td>76</td>\n",
       "      <td>0</td>\n",
       "      <td>0</td>\n",
       "      <td>0.310</td>\n",
       "      <td>3.4</td>\n",
       "    </tr>\n",
       "  </tbody>\n",
       "</table>\n",
       "<p>5 rows × 80 columns</p>\n",
       "</div>"
      ],
      "text/plain": [
       "                       time               venue attendance duration  \\\n",
       "date                                                                  \n",
       "2019-03-28  1:12 p.m. Local  Yankee Stadium III      46928     3:06   \n",
       "2019-03-28  1:07 p.m. Local      Nationals Park      42263     2:44   \n",
       "2019-03-28  1:10 p.m. Local         Miller Park      45304     2:36   \n",
       "2019-03-28  3:08 p.m. Local  Citizens Bank Park      44469     3:04   \n",
       "2019-03-28  4:08 p.m. Local       Rogers Centre      45048     2:25   \n",
       "\n",
       "           time_of_day winner           winning_name winning_abbr  \\\n",
       "date                                                                \n",
       "2019-03-28         Day   Home       New York Yankees          NYY   \n",
       "2019-03-28         Day   Away          New York Mets          NYM   \n",
       "2019-03-28         Day   Home      Milwaukee Brewers          MIL   \n",
       "2019-03-28         Day   Home  Philadelphia Phillies          PHI   \n",
       "2019-03-28         Day   Away         Detroit Tigers          DET   \n",
       "\n",
       "                     losing_name losing_abbr  ...  home_strikes_looking  \\\n",
       "date                                          ...                         \n",
       "2019-03-28     Baltimore Orioles         BAL  ...                    35   \n",
       "2019-03-28  Washington Nationals         WSN  ...                    24   \n",
       "2019-03-28   St. Louis Cardinals         STL  ...                    28   \n",
       "2019-03-28        Atlanta Braves         ATL  ...                    22   \n",
       "2019-03-28     Toronto Blue Jays         TOR  ...                    16   \n",
       "\n",
       "            home_grounded_balls  home_fly_balls  home_line_drives  \\\n",
       "date                                                                \n",
       "2019-03-28                    9              13                 4   \n",
       "2019-03-28                    5              12                 8   \n",
       "2019-03-28                   14              11                 3   \n",
       "2019-03-28                   13               9                 0   \n",
       "2019-03-28                    9              16                 5   \n",
       "\n",
       "            home_unknown_bat_type  home_game_score  home_inherited_runners  \\\n",
       "date                                                                         \n",
       "2019-03-28                      0               56                       1   \n",
       "2019-03-28                      0               76                       3   \n",
       "2019-03-28                      0               55                       1   \n",
       "2019-03-28                      0               67                       0   \n",
       "2019-03-28                      0               76                       0   \n",
       "\n",
       "            home_inherited_score  home_win_probability_by_pitcher  \\\n",
       "date                                                                \n",
       "2019-03-28                     0                            0.240   \n",
       "2019-03-28                     1                            0.226   \n",
       "2019-03-28                     0                            0.321   \n",
       "2019-03-28                     0                            0.230   \n",
       "2019-03-28                     0                            0.310   \n",
       "\n",
       "            home_base_out_runs_saved  \n",
       "date                                  \n",
       "2019-03-28                       2.9  \n",
       "2019-03-28                       3.1  \n",
       "2019-03-28                       0.8  \n",
       "2019-03-28                       0.9  \n",
       "2019-03-28                       3.4  \n",
       "\n",
       "[5 rows x 80 columns]"
      ]
     },
     "execution_count": 18,
     "metadata": {},
     "output_type": "execute_result"
    }
   ],
   "source": [
    "df.head()"
   ]
  },
  {
   "cell_type": "markdown",
   "metadata": {
    "heading_collapsed": true
   },
   "source": [
    "#### Create Season Function"
   ]
  },
  {
   "cell_type": "code",
   "execution_count": 21,
   "metadata": {
    "ExecuteTime": {
     "end_time": "2022-03-22T17:47:22.183587Z",
     "start_time": "2022-03-22T17:47:22.164360Z"
    },
    "hidden": true
   },
   "outputs": [],
   "source": [
    "def create_season_df(df,date):\n",
    "    \n",
    "    #Reset the index\n",
    "    df.reset_index(inplace=True)\n",
    "  \n",
    "    # create a DataFrame for the season we are looking for\n",
    "    # season_df for whatever season you are looking for\n",
    "    season_df = df[df['date'] >= date]\n",
    "    #reset index\n",
    "    #season_df.reset_index(inplace = True)\n",
    "    \n",
    "    #Get home winners and Away winners in their own dataframe\n",
    "    Home = season_df[(season_df['winner'] == 'Home')] \n",
    "    Away= season_df[(season_df['winner'] == 'Away')]\n",
    "    \n",
    "    #Rename columns in the home win from winner and loser to home and away\n",
    "    Home=Home.rename(columns={'winning_abbr':'home_abbr','winning_name':'home_name','losing_name':'away_name',\n",
    "                         'losing_abbr':'away_abbr'})\n",
    "    \n",
    "    #Rename columns in the away win from winner and loser to home and away\n",
    "    Away= Away.rename(columns={'winning_abbr':'away_abbr','winning_name':'away_name','losing_name':'home_name',\n",
    "                         'losing_abbr':'home_abbr'})\n",
    "    \n",
    "    #Concat these to make season_df now the same but with these new column names\n",
    "    season_df= pd.concat([Home,Away])\n",
    "    \n",
    "    #Get Home and away alone once again\n",
    "    Home = season_df[(season_df['winner'] == 'Home')] \n",
    "    Away= season_df[(season_df['winner'] == 'Away')]\n",
    "    \n",
    "    #Create a winning abbreviation column\n",
    "    Home['winning_abbr']= Home['home_abbr']\n",
    "    Away['winning_abbr']= Away['away_abbr']\n",
    "    \n",
    "    #Concat to update season_df\n",
    "    season_df=pd.concat([Home,Away])\n",
    "    \n",
    "    #order it by date again\n",
    "    season_df=season_df.sort_values('date')\n",
    "    \n",
    "    \n",
    "    # create a list with the two teams, home team always first, the season, and the day number of the game\n",
    "    matchups = list(zip(season_df.home_abbr, season_df.away_abbr, season_df.date, season_df.winning_abbr))\n",
    "    \n",
    "    season_games = [] \n",
    "\n",
    "    #loop through matchups and create single games for each matchup using that function, then append to season games\n",
    "    for team in matchups:\n",
    "        game = single_game(team[0], team[1],df)\n",
    "        season_games.append(game)\n",
    "    \n",
    "    # from the season games list concatenate all the outputted DataFrames and insert the location\n",
    "    # of the winner (home(1), away(0))\n",
    "    df = pd.concat(season_games, axis = 0)\n",
    "    #reset_index\n",
    "    df.reset_index(inplace = True, drop = True)\n",
    "    #Create new column where it will have a 1 if home team won and 0 if away team won\n",
    "    df['home_win'] = np.where(season_df.home_abbr ==season_df.winning_abbr,\n",
    "                  [1],\n",
    "                  [0])\n",
    "                       \n",
    "    return df"
   ]
  },
  {
   "cell_type": "markdown",
   "metadata": {},
   "source": [
    "#### Create Season"
   ]
  },
  {
   "cell_type": "code",
   "execution_count": 22,
   "metadata": {
    "ExecuteTime": {
     "end_time": "2022-03-22T17:49:14.115078Z",
     "start_time": "2022-03-22T17:47:25.628471Z"
    }
   },
   "outputs": [
    {
     "data": {
      "text/html": [
       "<div>\n",
       "<style scoped>\n",
       "    .dataframe tbody tr th:only-of-type {\n",
       "        vertical-align: middle;\n",
       "    }\n",
       "\n",
       "    .dataframe tbody tr th {\n",
       "        vertical-align: top;\n",
       "    }\n",
       "\n",
       "    .dataframe thead th {\n",
       "        text-align: right;\n",
       "    }\n",
       "</style>\n",
       "<table border=\"1\" class=\"dataframe\">\n",
       "  <thead>\n",
       "    <tr style=\"text-align: right;\">\n",
       "      <th></th>\n",
       "      <th>H_name</th>\n",
       "      <th>H_at_bats</th>\n",
       "      <th>H_runs</th>\n",
       "      <th>H_hits</th>\n",
       "      <th>H_rbi</th>\n",
       "      <th>H_earned_runs</th>\n",
       "      <th>H_bases_on_balls</th>\n",
       "      <th>H_strikeouts</th>\n",
       "      <th>H_plate_appearances</th>\n",
       "      <th>H_batting_average</th>\n",
       "      <th>...</th>\n",
       "      <th>A_Opp_strikes_swinging</th>\n",
       "      <th>A_Opp_strikes_looking</th>\n",
       "      <th>A_Opp_grounded_balls</th>\n",
       "      <th>A_Opp_fly_balls</th>\n",
       "      <th>A_Opp_line_drives</th>\n",
       "      <th>A_Opp_unknown_bat_type</th>\n",
       "      <th>A_Opp_game_score</th>\n",
       "      <th>A_Opp_win_probability_by_pitcher</th>\n",
       "      <th>A_Opp_base_out_runs_saved</th>\n",
       "      <th>home_win</th>\n",
       "    </tr>\n",
       "  </thead>\n",
       "  <tbody>\n",
       "    <tr>\n",
       "      <th>0</th>\n",
       "      <td>NYY</td>\n",
       "      <td>34.462963</td>\n",
       "      <td>5.820988</td>\n",
       "      <td>9.216049</td>\n",
       "      <td>5.580247</td>\n",
       "      <td>5.632593</td>\n",
       "      <td>3.512346</td>\n",
       "      <td>8.870370</td>\n",
       "      <td>38.549383</td>\n",
       "      <td>0.262302</td>\n",
       "      <td>...</td>\n",
       "      <td>15.864198</td>\n",
       "      <td>24.191358</td>\n",
       "      <td>11.413580</td>\n",
       "      <td>16.395062</td>\n",
       "      <td>7.179012</td>\n",
       "      <td>0.000000</td>\n",
       "      <td>50.549383</td>\n",
       "      <td>0.068586</td>\n",
       "      <td>0.470370</td>\n",
       "      <td>1</td>\n",
       "    </tr>\n",
       "    <tr>\n",
       "      <th>1</th>\n",
       "      <td>TBR</td>\n",
       "      <td>34.740741</td>\n",
       "      <td>4.746914</td>\n",
       "      <td>8.808642</td>\n",
       "      <td>4.506173</td>\n",
       "      <td>4.573704</td>\n",
       "      <td>3.345679</td>\n",
       "      <td>9.216049</td>\n",
       "      <td>38.796296</td>\n",
       "      <td>0.249895</td>\n",
       "      <td>...</td>\n",
       "      <td>19.203704</td>\n",
       "      <td>25.209877</td>\n",
       "      <td>10.450617</td>\n",
       "      <td>13.179012</td>\n",
       "      <td>5.604938</td>\n",
       "      <td>0.018519</td>\n",
       "      <td>44.759259</td>\n",
       "      <td>-0.041290</td>\n",
       "      <td>-0.733333</td>\n",
       "      <td>0</td>\n",
       "    </tr>\n",
       "    <tr>\n",
       "      <th>2</th>\n",
       "      <td>TEX</td>\n",
       "      <td>34.197531</td>\n",
       "      <td>5.000000</td>\n",
       "      <td>8.481481</td>\n",
       "      <td>4.722222</td>\n",
       "      <td>4.666852</td>\n",
       "      <td>3.296296</td>\n",
       "      <td>9.740741</td>\n",
       "      <td>38.296296</td>\n",
       "      <td>0.242006</td>\n",
       "      <td>...</td>\n",
       "      <td>15.932099</td>\n",
       "      <td>25.666667</td>\n",
       "      <td>11.913580</td>\n",
       "      <td>13.555556</td>\n",
       "      <td>6.617284</td>\n",
       "      <td>0.000000</td>\n",
       "      <td>48.759259</td>\n",
       "      <td>-0.006420</td>\n",
       "      <td>-0.281481</td>\n",
       "      <td>0</td>\n",
       "    </tr>\n",
       "    <tr>\n",
       "      <th>3</th>\n",
       "      <td>MIA</td>\n",
       "      <td>34.024691</td>\n",
       "      <td>3.796296</td>\n",
       "      <td>8.185185</td>\n",
       "      <td>3.660494</td>\n",
       "      <td>3.545988</td>\n",
       "      <td>2.438272</td>\n",
       "      <td>9.067901</td>\n",
       "      <td>37.314815</td>\n",
       "      <td>0.234074</td>\n",
       "      <td>...</td>\n",
       "      <td>16.123457</td>\n",
       "      <td>23.919753</td>\n",
       "      <td>13.172840</td>\n",
       "      <td>14.685185</td>\n",
       "      <td>7.179012</td>\n",
       "      <td>0.000000</td>\n",
       "      <td>48.524691</td>\n",
       "      <td>0.017148</td>\n",
       "      <td>-0.015432</td>\n",
       "      <td>0</td>\n",
       "    </tr>\n",
       "    <tr>\n",
       "      <th>4</th>\n",
       "      <td>TOR</td>\n",
       "      <td>33.907407</td>\n",
       "      <td>4.481481</td>\n",
       "      <td>8.018519</td>\n",
       "      <td>4.302469</td>\n",
       "      <td>4.286975</td>\n",
       "      <td>3.141975</td>\n",
       "      <td>9.345679</td>\n",
       "      <td>37.598765</td>\n",
       "      <td>0.229025</td>\n",
       "      <td>...</td>\n",
       "      <td>16.583851</td>\n",
       "      <td>25.329193</td>\n",
       "      <td>11.869565</td>\n",
       "      <td>15.248447</td>\n",
       "      <td>6.645963</td>\n",
       "      <td>0.006211</td>\n",
       "      <td>54.776398</td>\n",
       "      <td>0.134677</td>\n",
       "      <td>1.446584</td>\n",
       "      <td>0</td>\n",
       "    </tr>\n",
       "  </tbody>\n",
       "</table>\n",
       "<p>5 rows × 131 columns</p>\n",
       "</div>"
      ],
      "text/plain": [
       "  H_name  H_at_bats    H_runs    H_hits     H_rbi  H_earned_runs  \\\n",
       "0    NYY  34.462963  5.820988  9.216049  5.580247       5.632593   \n",
       "1    TBR  34.740741  4.746914  8.808642  4.506173       4.573704   \n",
       "2    TEX  34.197531  5.000000  8.481481  4.722222       4.666852   \n",
       "3    MIA  34.024691  3.796296  8.185185  3.660494       3.545988   \n",
       "4    TOR  33.907407  4.481481  8.018519  4.302469       4.286975   \n",
       "\n",
       "   H_bases_on_balls  H_strikeouts  H_plate_appearances  H_batting_average  \\\n",
       "0          3.512346      8.870370            38.549383           0.262302   \n",
       "1          3.345679      9.216049            38.796296           0.249895   \n",
       "2          3.296296      9.740741            38.296296           0.242006   \n",
       "3          2.438272      9.067901            37.314815           0.234074   \n",
       "4          3.141975      9.345679            37.598765           0.229025   \n",
       "\n",
       "   ...  A_Opp_strikes_swinging  A_Opp_strikes_looking  A_Opp_grounded_balls  \\\n",
       "0  ...               15.864198              24.191358             11.413580   \n",
       "1  ...               19.203704              25.209877             10.450617   \n",
       "2  ...               15.932099              25.666667             11.913580   \n",
       "3  ...               16.123457              23.919753             13.172840   \n",
       "4  ...               16.583851              25.329193             11.869565   \n",
       "\n",
       "   A_Opp_fly_balls  A_Opp_line_drives  A_Opp_unknown_bat_type  \\\n",
       "0        16.395062           7.179012                0.000000   \n",
       "1        13.179012           5.604938                0.018519   \n",
       "2        13.555556           6.617284                0.000000   \n",
       "3        14.685185           7.179012                0.000000   \n",
       "4        15.248447           6.645963                0.006211   \n",
       "\n",
       "   A_Opp_game_score  A_Opp_win_probability_by_pitcher  \\\n",
       "0         50.549383                          0.068586   \n",
       "1         44.759259                         -0.041290   \n",
       "2         48.759259                         -0.006420   \n",
       "3         48.524691                          0.017148   \n",
       "4         54.776398                          0.134677   \n",
       "\n",
       "   A_Opp_base_out_runs_saved  home_win  \n",
       "0                   0.470370         1  \n",
       "1                  -0.733333         0  \n",
       "2                  -0.281481         0  \n",
       "3                  -0.015432         0  \n",
       "4                   1.446584         0  \n",
       "\n",
       "[5 rows x 131 columns]"
      ]
     },
     "execution_count": 22,
     "metadata": {},
     "output_type": "execute_result"
    }
   ],
   "source": [
    "df2=create_season_df(df,'2019-3-28')\n",
    "df2.head()"
   ]
  },
  {
   "cell_type": "markdown",
   "metadata": {},
   "source": [
    "After we have the entirety of the 2019 season I would then save it to a csv and move on to the modeling phase."
   ]
  },
  {
   "cell_type": "code",
   "execution_count": 23,
   "metadata": {
    "ExecuteTime": {
     "end_time": "2022-03-22T18:52:32.637775Z",
     "start_time": "2022-03-22T18:52:32.634845Z"
    }
   },
   "outputs": [],
   "source": [
    "#df2.to_csv('data/name_of_year_you_ran_above_on.csv') in this case it would be as show below\n",
    "\n",
    "#df2.to_csv('data/Season_2019.csv')"
   ]
  },
  {
   "cell_type": "markdown",
   "metadata": {},
   "source": [
    "# Modeling"
   ]
  },
  {
   "cell_type": "markdown",
   "metadata": {},
   "source": [
    "Now that we have a clean DataFrame, we'll start trying to make to predictions.\n",
    "\n",
    "We want to take an extensive, iterative approach and try whatever we can to get the most accurate predictions. We'll utilize six different machine learning algorithms. We built functions for these algorithims to increase efficiency and allow us to ultimately run more models. Those functions were stored in a .py file and have been imported into this notebook. The six models we will be running are:\n",
    "\n",
    "- Logistic Regression\n",
    "- K-Nearest Neighbors\n",
    "- Decision Trees\n",
    "- Random Forest\n",
    "- Bagging Classifier\n",
    "- XGBoost"
   ]
  },
  {
   "cell_type": "markdown",
   "metadata": {},
   "source": [
    "## Please note that due to being too computationally expensive in this final notebook to run all the many different iterations that were done over the course of this project, I will only run them on the 2019 Season. If you would like to look at modeling for a specific year, as well as any other models ran over the course of this project that can be found in the Modeling folder of the repository: [Modeling Folder](https://github.com/MatthewR1021/MLB_Capstone_Project/tree/main/Modeling)"
   ]
  },
  {
   "cell_type": "markdown",
   "metadata": {},
   "source": [
    "The approach we decided to take was training a model on the first 75% of games in a season to then test on the last 25% of that season. Here we already have the 2019 data loaded in as we ran it in above. However throughout the iterative process we would load the year we want to models data into the notebook, we will now do this below."
   ]
  },
  {
   "cell_type": "code",
   "execution_count": 111,
   "metadata": {
    "ExecuteTime": {
     "end_time": "2022-03-23T21:25:00.868232Z",
     "start_time": "2022-03-23T21:25:00.718432Z"
    }
   },
   "outputs": [],
   "source": [
    "df=pd.read_csv('data/Season_2019.csv').drop('Unnamed: 0',axis=1)"
   ]
  },
  {
   "cell_type": "code",
   "execution_count": 113,
   "metadata": {
    "ExecuteTime": {
     "end_time": "2022-03-23T21:25:11.053956Z",
     "start_time": "2022-03-23T21:25:11.045977Z"
    }
   },
   "outputs": [
    {
     "data": {
      "text/plain": [
       "(2427, 143)"
      ]
     },
     "execution_count": 113,
     "metadata": {},
     "output_type": "execute_result"
    }
   ],
   "source": [
    "df.shape"
   ]
  },
  {
   "cell_type": "code",
   "execution_count": 86,
   "metadata": {
    "ExecuteTime": {
     "end_time": "2022-03-23T15:30:00.819095Z",
     "start_time": "2022-03-23T15:30:00.771440Z"
    },
    "scrolled": true
   },
   "outputs": [
    {
     "data": {
      "text/html": [
       "<div>\n",
       "<style scoped>\n",
       "    .dataframe tbody tr th:only-of-type {\n",
       "        vertical-align: middle;\n",
       "    }\n",
       "\n",
       "    .dataframe tbody tr th {\n",
       "        vertical-align: top;\n",
       "    }\n",
       "\n",
       "    .dataframe thead th {\n",
       "        text-align: right;\n",
       "    }\n",
       "</style>\n",
       "<table border=\"1\" class=\"dataframe\">\n",
       "  <thead>\n",
       "    <tr style=\"text-align: right;\">\n",
       "      <th></th>\n",
       "      <th>H_name</th>\n",
       "      <th>H_at_bats</th>\n",
       "      <th>H_runs</th>\n",
       "      <th>H_hits</th>\n",
       "      <th>H_rbi</th>\n",
       "      <th>H_earned_runs</th>\n",
       "      <th>H_bases_on_balls</th>\n",
       "      <th>H_strikeouts</th>\n",
       "      <th>H_plate_appearances</th>\n",
       "      <th>H_batting_average</th>\n",
       "      <th>...</th>\n",
       "      <th>A_Opp_grounded_balls</th>\n",
       "      <th>A_Opp_fly_balls</th>\n",
       "      <th>A_Opp_line_drives</th>\n",
       "      <th>A_Opp_unknown_bat_type</th>\n",
       "      <th>A_Opp_game_score</th>\n",
       "      <th>A_Opp_inherited_runners</th>\n",
       "      <th>A_Opp_inherited_score</th>\n",
       "      <th>A_Opp_win_probability_by_pitcher</th>\n",
       "      <th>A_Opp_base_out_runs_saved</th>\n",
       "      <th>home_win</th>\n",
       "    </tr>\n",
       "  </thead>\n",
       "  <tbody>\n",
       "    <tr>\n",
       "      <th>0</th>\n",
       "      <td>NYY</td>\n",
       "      <td>34.462963</td>\n",
       "      <td>5.820988</td>\n",
       "      <td>9.216049</td>\n",
       "      <td>5.580247</td>\n",
       "      <td>5.632593</td>\n",
       "      <td>3.512346</td>\n",
       "      <td>8.870370</td>\n",
       "      <td>38.549383</td>\n",
       "      <td>0.262302</td>\n",
       "      <td>...</td>\n",
       "      <td>11.413580</td>\n",
       "      <td>16.395062</td>\n",
       "      <td>7.179012</td>\n",
       "      <td>0.000000</td>\n",
       "      <td>50.549383</td>\n",
       "      <td>1.385093</td>\n",
       "      <td>0.347826</td>\n",
       "      <td>0.068586</td>\n",
       "      <td>0.470370</td>\n",
       "      <td>1</td>\n",
       "    </tr>\n",
       "    <tr>\n",
       "      <th>1</th>\n",
       "      <td>TBR</td>\n",
       "      <td>34.740741</td>\n",
       "      <td>4.746914</td>\n",
       "      <td>8.808642</td>\n",
       "      <td>4.506173</td>\n",
       "      <td>4.573704</td>\n",
       "      <td>3.345679</td>\n",
       "      <td>9.216049</td>\n",
       "      <td>38.796296</td>\n",
       "      <td>0.249895</td>\n",
       "      <td>...</td>\n",
       "      <td>10.450617</td>\n",
       "      <td>13.179012</td>\n",
       "      <td>5.604938</td>\n",
       "      <td>0.018519</td>\n",
       "      <td>44.759259</td>\n",
       "      <td>1.679245</td>\n",
       "      <td>0.515723</td>\n",
       "      <td>-0.041290</td>\n",
       "      <td>-0.733333</td>\n",
       "      <td>0</td>\n",
       "    </tr>\n",
       "    <tr>\n",
       "      <th>2</th>\n",
       "      <td>TEX</td>\n",
       "      <td>34.197531</td>\n",
       "      <td>5.000000</td>\n",
       "      <td>8.481481</td>\n",
       "      <td>4.722222</td>\n",
       "      <td>4.666852</td>\n",
       "      <td>3.296296</td>\n",
       "      <td>9.740741</td>\n",
       "      <td>38.296296</td>\n",
       "      <td>0.242006</td>\n",
       "      <td>...</td>\n",
       "      <td>11.913580</td>\n",
       "      <td>13.555556</td>\n",
       "      <td>6.617284</td>\n",
       "      <td>0.000000</td>\n",
       "      <td>48.759259</td>\n",
       "      <td>1.487654</td>\n",
       "      <td>0.462963</td>\n",
       "      <td>-0.006420</td>\n",
       "      <td>-0.281481</td>\n",
       "      <td>0</td>\n",
       "    </tr>\n",
       "    <tr>\n",
       "      <th>3</th>\n",
       "      <td>MIA</td>\n",
       "      <td>34.024691</td>\n",
       "      <td>3.796296</td>\n",
       "      <td>8.185185</td>\n",
       "      <td>3.660494</td>\n",
       "      <td>3.545988</td>\n",
       "      <td>2.438272</td>\n",
       "      <td>9.067901</td>\n",
       "      <td>37.314815</td>\n",
       "      <td>0.234074</td>\n",
       "      <td>...</td>\n",
       "      <td>13.172840</td>\n",
       "      <td>14.685185</td>\n",
       "      <td>7.179012</td>\n",
       "      <td>0.000000</td>\n",
       "      <td>48.524691</td>\n",
       "      <td>1.347826</td>\n",
       "      <td>0.453416</td>\n",
       "      <td>0.017148</td>\n",
       "      <td>-0.015432</td>\n",
       "      <td>0</td>\n",
       "    </tr>\n",
       "    <tr>\n",
       "      <th>4</th>\n",
       "      <td>TOR</td>\n",
       "      <td>33.907407</td>\n",
       "      <td>4.481481</td>\n",
       "      <td>8.018519</td>\n",
       "      <td>4.302469</td>\n",
       "      <td>4.286975</td>\n",
       "      <td>3.141975</td>\n",
       "      <td>9.345679</td>\n",
       "      <td>37.598765</td>\n",
       "      <td>0.229025</td>\n",
       "      <td>...</td>\n",
       "      <td>11.869565</td>\n",
       "      <td>15.248447</td>\n",
       "      <td>6.645963</td>\n",
       "      <td>0.006211</td>\n",
       "      <td>54.776398</td>\n",
       "      <td>1.139241</td>\n",
       "      <td>0.316456</td>\n",
       "      <td>0.134677</td>\n",
       "      <td>1.446584</td>\n",
       "      <td>0</td>\n",
       "    </tr>\n",
       "  </tbody>\n",
       "</table>\n",
       "<p>5 rows × 143 columns</p>\n",
       "</div>"
      ],
      "text/plain": [
       "  H_name  H_at_bats    H_runs    H_hits     H_rbi  H_earned_runs  \\\n",
       "0    NYY  34.462963  5.820988  9.216049  5.580247       5.632593   \n",
       "1    TBR  34.740741  4.746914  8.808642  4.506173       4.573704   \n",
       "2    TEX  34.197531  5.000000  8.481481  4.722222       4.666852   \n",
       "3    MIA  34.024691  3.796296  8.185185  3.660494       3.545988   \n",
       "4    TOR  33.907407  4.481481  8.018519  4.302469       4.286975   \n",
       "\n",
       "   H_bases_on_balls  H_strikeouts  H_plate_appearances  H_batting_average  \\\n",
       "0          3.512346      8.870370            38.549383           0.262302   \n",
       "1          3.345679      9.216049            38.796296           0.249895   \n",
       "2          3.296296      9.740741            38.296296           0.242006   \n",
       "3          2.438272      9.067901            37.314815           0.234074   \n",
       "4          3.141975      9.345679            37.598765           0.229025   \n",
       "\n",
       "   ...  A_Opp_grounded_balls  A_Opp_fly_balls  A_Opp_line_drives  \\\n",
       "0  ...             11.413580        16.395062           7.179012   \n",
       "1  ...             10.450617        13.179012           5.604938   \n",
       "2  ...             11.913580        13.555556           6.617284   \n",
       "3  ...             13.172840        14.685185           7.179012   \n",
       "4  ...             11.869565        15.248447           6.645963   \n",
       "\n",
       "   A_Opp_unknown_bat_type  A_Opp_game_score  A_Opp_inherited_runners  \\\n",
       "0                0.000000         50.549383                 1.385093   \n",
       "1                0.018519         44.759259                 1.679245   \n",
       "2                0.000000         48.759259                 1.487654   \n",
       "3                0.000000         48.524691                 1.347826   \n",
       "4                0.006211         54.776398                 1.139241   \n",
       "\n",
       "   A_Opp_inherited_score  A_Opp_win_probability_by_pitcher  \\\n",
       "0               0.347826                          0.068586   \n",
       "1               0.515723                         -0.041290   \n",
       "2               0.462963                         -0.006420   \n",
       "3               0.453416                          0.017148   \n",
       "4               0.316456                          0.134677   \n",
       "\n",
       "   A_Opp_base_out_runs_saved  home_win  \n",
       "0                   0.470370         1  \n",
       "1                  -0.733333         0  \n",
       "2                  -0.281481         0  \n",
       "3                  -0.015432         0  \n",
       "4                   1.446584         0  \n",
       "\n",
       "[5 rows x 143 columns]"
      ]
     },
     "execution_count": 86,
     "metadata": {},
     "output_type": "execute_result"
    }
   ],
   "source": [
    "df.head()"
   ]
  },
  {
   "cell_type": "markdown",
   "metadata": {
    "ExecuteTime": {
     "end_time": "2022-03-22T18:53:30.106875Z",
     "start_time": "2022-03-22T18:53:30.097893Z"
    }
   },
   "source": [
    "Drop those we know to be NaNs"
   ]
  },
  {
   "cell_type": "code",
   "execution_count": 87,
   "metadata": {
    "ExecuteTime": {
     "end_time": "2022-03-23T15:30:01.672881Z",
     "start_time": "2022-03-23T15:30:01.665268Z"
    }
   },
   "outputs": [],
   "source": [
    "df=df.drop(['H_win_probability_subtracted','A_win_probability_subtracted','A_Opp_win_probability_subtracted',\n",
    "          'H_Opp_win_probability_subtracted'],axis=1)"
   ]
  },
  {
   "cell_type": "markdown",
   "metadata": {},
   "source": [
    "Split the data so that the first 75% of games are in one dataframe and the last 25% of games are in another dataframe"
   ]
  },
  {
   "cell_type": "code",
   "execution_count": 88,
   "metadata": {
    "ExecuteTime": {
     "end_time": "2022-03-23T15:30:02.278579Z",
     "start_time": "2022-03-23T15:30:02.268286Z"
    }
   },
   "outputs": [],
   "source": [
    "n = 75\n",
    "df=df.head(int(len(df)*(n/100)))"
   ]
  },
  {
   "cell_type": "code",
   "execution_count": 89,
   "metadata": {
    "ExecuteTime": {
     "end_time": "2022-03-23T15:30:02.608052Z",
     "start_time": "2022-03-23T15:30:02.603921Z"
    }
   },
   "outputs": [],
   "source": [
    "n = 25\n",
    "df2=df.tail(int(len(df)*(n/100)))"
   ]
  },
  {
   "cell_type": "markdown",
   "metadata": {},
   "source": [
    "### Baseline Accuracy"
   ]
  },
  {
   "cell_type": "code",
   "execution_count": 90,
   "metadata": {
    "ExecuteTime": {
     "end_time": "2022-03-23T15:30:05.052039Z",
     "start_time": "2022-03-23T15:30:05.045053Z"
    }
   },
   "outputs": [
    {
     "data": {
      "text/plain": [
       "1    0.531319\n",
       "0    0.468681\n",
       "Name: home_win, dtype: float64"
      ]
     },
     "execution_count": 90,
     "metadata": {},
     "output_type": "execute_result"
    }
   ],
   "source": [
    "# Look at Baseline of 2019 season train, if you just predicted home win every game how accurate you would be\n",
    "df.home_win.value_counts(normalize=True)"
   ]
  },
  {
   "cell_type": "code",
   "execution_count": 91,
   "metadata": {
    "ExecuteTime": {
     "end_time": "2022-03-23T15:30:05.258967Z",
     "start_time": "2022-03-23T15:30:05.248940Z"
    },
    "scrolled": true
   },
   "outputs": [
    {
     "data": {
      "text/plain": [
       "1    0.542857\n",
       "0    0.457143\n",
       "Name: home_win, dtype: float64"
      ]
     },
     "execution_count": 91,
     "metadata": {},
     "output_type": "execute_result"
    }
   ],
   "source": [
    "# Look at Baseline of 2019 season test, if you just predicted home win every game how accurate you would be\n",
    "df2.home_win.value_counts(normalize=True)"
   ]
  },
  {
   "cell_type": "markdown",
   "metadata": {},
   "source": [
    "Our baseline for 2019 lines up with other years we looked at as it usually falls around 54%. This is the lowest home winning percentage of any of the four major american sports. This is the initial look and minimal score we will need to beat."
   ]
  },
  {
   "cell_type": "markdown",
   "metadata": {},
   "source": [
    "### Preprocessing Data"
   ]
  },
  {
   "cell_type": "code",
   "execution_count": 92,
   "metadata": {
    "ExecuteTime": {
     "end_time": "2022-03-23T15:30:08.752163Z",
     "start_time": "2022-03-23T15:30:08.745905Z"
    }
   },
   "outputs": [],
   "source": [
    "def data_preprocessing(df, df2):\n",
    "    X_train = df.drop(['home_win','H_name','A_name'], axis=1)\n",
    "    X_test = df2.drop(['home_win','H_name','A_name'], axis=1)\n",
    "    y_train = df.home_win\n",
    "    y_test= df2.home_win\n",
    "    \n",
    "    ss = StandardScaler()\n",
    "    X_train_scaled = ss.fit_transform(X_train)\n",
    "    X_test_scaled = ss.transform(X_test)\n",
    "    \n",
    "    X_train_scaled = pd.DataFrame(X_train_scaled, columns=X_train.columns)\n",
    "    X_test_scaled = pd.DataFrame(X_test_scaled, columns=X_test.columns)\n",
    "    \n",
    "    return X_train_scaled, X_test_scaled,y_train,y_test"
   ]
  },
  {
   "cell_type": "code",
   "execution_count": 93,
   "metadata": {
    "ExecuteTime": {
     "end_time": "2022-03-23T15:30:12.011648Z",
     "start_time": "2022-03-23T15:30:11.986029Z"
    }
   },
   "outputs": [],
   "source": [
    "X_train_scaled,X_test_scaled,y_train,y_test=data_preprocessing(df,df2)"
   ]
  },
  {
   "cell_type": "markdown",
   "metadata": {},
   "source": [
    "Now that I have the train, test split done I can move to modeling the data. I modeled with RFECV and PCA to see which would be the more efficient and better performing way to model the data. \n",
    "\n",
    "\n",
    "Over the course of the modeling process I realized that betting every game was inpractical but also led to poor accuracy scores. In order to adjust for this I built a function that would only 'bet' the games if the model was greater than 60% confident on either side of the bet. Then it would return a new accuracy score based on that as well as the number of games it would have bet on."
   ]
  },
  {
   "cell_type": "code",
   "execution_count": 94,
   "metadata": {
    "ExecuteTime": {
     "end_time": "2022-03-23T15:30:13.561881Z",
     "start_time": "2022-03-23T15:30:13.552564Z"
    }
   },
   "outputs": [],
   "source": [
    "def new_acc(probabilities):\n",
    "    class_list2=[]\n",
    "    for log in probabilities:\n",
    "        if log[0]<.40:\n",
    "            class_list2.append(1)\n",
    "        elif log[0]>.60:\n",
    "            class_list2.append(0)\n",
    "        else:\n",
    "            class_list2.append(3)\n",
    "    y_pred_class=pd.DataFrame(class_list2)\n",
    "    y_pred_class.reset_index(inplace=True)\n",
    "    y_test_df=pd.DataFrame(y_test)\n",
    "    y_test_df.reset_index(inplace=True)\n",
    "    comb=pd.concat([y_test_df,y_pred_class],axis=1)\n",
    "    comb.drop(['index','index'],axis=1,inplace=True)\n",
    "    comb['pred']=comb[0]\n",
    "    comb.drop([0],axis=1,inplace=True)\n",
    "    comb.drop(comb[comb['pred'] == 3].index, inplace = True)\n",
    "    count=0\n",
    "    for bools in comb['home_win']==comb['pred']:\n",
    "        if bools is True:\n",
    "            count+=1\n",
    "        else:\n",
    "            pass\n",
    "    accuracy=count/len(comb)\n",
    "    \n",
    "    return f'New Accuracy: {accuracy}',f'Amount of Games: {count}'"
   ]
  },
  {
   "cell_type": "markdown",
   "metadata": {},
   "source": [
    "## PCA"
   ]
  },
  {
   "cell_type": "code",
   "execution_count": 95,
   "metadata": {
    "ExecuteTime": {
     "end_time": "2022-03-23T15:30:14.607339Z",
     "start_time": "2022-03-23T15:30:14.516754Z"
    }
   },
   "outputs": [],
   "source": [
    "pca=PCA(n_components=0.99)\n",
    "train_pca_s=pca.fit_transform(X_train_scaled)\n",
    "test_pca_s=pca.transform(X_test_scaled)"
   ]
  },
  {
   "cell_type": "code",
   "execution_count": 96,
   "metadata": {
    "ExecuteTime": {
     "end_time": "2022-03-23T15:30:14.954439Z",
     "start_time": "2022-03-23T15:30:14.949856Z"
    }
   },
   "outputs": [],
   "source": [
    "# Turn array into dataframe\n",
    "train_pca_w_scale = pd.DataFrame(train_pca_s)\n",
    "test_pca_w_scale = pd.DataFrame(test_pca_s)"
   ]
  },
  {
   "cell_type": "code",
   "execution_count": 97,
   "metadata": {
    "ExecuteTime": {
     "end_time": "2022-03-23T15:30:15.527542Z",
     "start_time": "2022-03-23T15:30:15.518077Z"
    }
   },
   "outputs": [],
   "source": [
    "X_train = df.drop(['home_win','H_name','A_name'], axis=1)\n",
    "X_test = df2.drop(['home_win','H_name','A_name'], axis=1)  "
   ]
  },
  {
   "cell_type": "code",
   "execution_count": 98,
   "metadata": {
    "ExecuteTime": {
     "end_time": "2022-03-23T15:30:16.057871Z",
     "start_time": "2022-03-23T15:30:15.971750Z"
    }
   },
   "outputs": [],
   "source": [
    "pca2=PCA(n_components=.99)\n",
    "train_pca_ns=pca2.fit_transform(X_train)\n",
    "test_pca_ns=pca2.transform(X_test)"
   ]
  },
  {
   "cell_type": "code",
   "execution_count": 99,
   "metadata": {
    "ExecuteTime": {
     "end_time": "2022-03-23T15:30:17.648890Z",
     "start_time": "2022-03-23T15:30:17.644602Z"
    }
   },
   "outputs": [],
   "source": [
    "# Turn array into dataframe\n",
    "train_pca_wo_scale = pd.DataFrame(train_pca_ns)\n",
    "test_pca_wo_scale = pd.DataFrame(test_pca_ns)"
   ]
  },
  {
   "cell_type": "markdown",
   "metadata": {},
   "source": [
    "## Logistic Regression"
   ]
  },
  {
   "cell_type": "markdown",
   "metadata": {},
   "source": [
    "### Logistic Regression with RFECV"
   ]
  },
  {
   "cell_type": "markdown",
   "metadata": {},
   "source": [
    "#### RFECV"
   ]
  },
  {
   "cell_type": "code",
   "execution_count": 37,
   "metadata": {
    "ExecuteTime": {
     "end_time": "2022-03-22T19:15:00.439669Z",
     "start_time": "2022-03-22T19:14:21.542634Z"
    }
   },
   "outputs": [],
   "source": [
    "# Feature Selection\n",
    "feats= feature_select(X_train_scaled,y_train,LogisticRegression,min_features=10)\n",
    "X_train_best_log = X_train_scaled[feats]\n",
    "X_test_best_log = X_test_scaled[feats]"
   ]
  },
  {
   "cell_type": "markdown",
   "metadata": {},
   "source": [
    "#### Model"
   ]
  },
  {
   "cell_type": "code",
   "execution_count": 38,
   "metadata": {
    "ExecuteTime": {
     "end_time": "2022-03-22T19:15:02.787182Z",
     "start_time": "2022-03-22T19:15:00.442245Z"
    }
   },
   "outputs": [
    {
     "name": "stdout",
     "output_type": "stream",
     "text": [
      "Penalty: l2\n",
      "Solver: liblinear\n",
      "Mean Cross-Val Score: 0.6010989010989011\n",
      "Train Mean Accuracy: 0.6137362637362638\n",
      "Test Mean Accuracy: 0.643956043956044\n",
      "Recall Score: 0.6923076923076923\n",
      "Precision Score: 0.6653696498054474\n",
      "F1 Score: 0.6785714285714285\n"
     ]
    },
    {
     "data": {
      "image/png": "[encoded data removed]",
      "text/plain": [
       "<Figure size 432x288 with 1 Axes>"
      ]
     },
     "metadata": {
      "needs_background": "light"
     },
     "output_type": "display_data"
    },
    {
     "data": {
      "image/png": "[encoded data removed]",
      "text/plain": [
       "<Figure size 432x288 with 2 Axes>"
      ]
     },
     "metadata": {
      "needs_background": "light"
     },
     "output_type": "display_data"
    },
    {
     "data": {
      "image/png": "[encoded data removed]",
      "text/plain": [
       "<Figure size 432x288 with 2 Axes>"
      ]
     },
     "metadata": {
      "needs_background": "light"
     },
     "output_type": "display_data"
    }
   ],
   "source": [
    "predictions, probabilities=logreg(X_train_best_log,X_test_best_log,y_train,y_test)"
   ]
  },
  {
   "cell_type": "code",
   "execution_count": 39,
   "metadata": {
    "ExecuteTime": {
     "end_time": "2022-03-22T19:15:02.820729Z",
     "start_time": "2022-03-22T19:15:02.792497Z"
    }
   },
   "outputs": [
    {
     "data": {
      "text/plain": [
       "('New Accuracy: 0.7213740458015268', 'Amount of Games: 189')"
      ]
     },
     "execution_count": 39,
     "metadata": {},
     "output_type": "execute_result"
    }
   ],
   "source": [
    "new_acc(probabilities)"
   ]
  },
  {
   "cell_type": "markdown",
   "metadata": {},
   "source": [
    "## Logistic Regression with PCA"
   ]
  },
  {
   "cell_type": "code",
   "execution_count": 44,
   "metadata": {
    "ExecuteTime": {
     "end_time": "2022-03-22T19:16:06.429879Z",
     "start_time": "2022-03-22T19:16:04.660341Z"
    }
   },
   "outputs": [
    {
     "name": "stdout",
     "output_type": "stream",
     "text": [
      "Penalty: l1\n",
      "Solver: saga\n",
      "Mean Cross-Val Score: 0.5851648351648351\n",
      "Train Mean Accuracy: 0.6142857142857143\n",
      "Test Mean Accuracy: 0.654945054945055\n",
      "Recall Score: 0.7530364372469636\n",
      "Precision Score: 0.6595744680851063\n",
      "F1 Score: 0.7032136105860113\n"
     ]
    },
    {
     "data": {
      "image/png": "[encoded data removed]",
      "text/plain": [
       "<Figure size 432x288 with 1 Axes>"
      ]
     },
     "metadata": {
      "needs_background": "light"
     },
     "output_type": "display_data"
    },
    {
     "data": {
      "image/png": "[encoded data removed]",
      "text/plain": [
       "<Figure size 432x288 with 2 Axes>"
      ]
     },
     "metadata": {
      "needs_background": "light"
     },
     "output_type": "display_data"
    },
    {
     "data": {
      "image/png": "[encoded data removed]",
      "text/plain": [
       "<Figure size 432x288 with 2 Axes>"
      ]
     },
     "metadata": {
      "needs_background": "light"
     },
     "output_type": "display_data"
    }
   ],
   "source": [
    "predictions, probabilities=logreg(train_pca_w_scale,test_pca_w_scale,y_train,y_test)"
   ]
  },
  {
   "cell_type": "code",
   "execution_count": 45,
   "metadata": {
    "ExecuteTime": {
     "end_time": "2022-03-22T19:16:31.672398Z",
     "start_time": "2022-03-22T19:16:31.659543Z"
    }
   },
   "outputs": [
    {
     "data": {
      "text/plain": [
       "('New Accuracy: 0.7130044843049327', 'Amount of Games: 159')"
      ]
     },
     "execution_count": 45,
     "metadata": {},
     "output_type": "execute_result"
    }
   ],
   "source": [
    "new_acc(probabilities)"
   ]
  },
  {
   "cell_type": "markdown",
   "metadata": {},
   "source": [
    "#### Logistic Regression Recap\n",
    "\n",
    "Logistic Regression runs very smoothly, relatively quickly and predicts at a fairly high rate. In this exact case it predicts slightly better with RFECV while also predicting more games than PCA. Neither model is too computationally expensive in this case. "
   ]
  },
  {
   "cell_type": "markdown",
   "metadata": {},
   "source": [
    "## KNN"
   ]
  },
  {
   "cell_type": "markdown",
   "metadata": {},
   "source": [
    "### KNN without PCA"
   ]
  },
  {
   "cell_type": "code",
   "execution_count": 46,
   "metadata": {
    "ExecuteTime": {
     "end_time": "2022-03-22T19:17:57.590756Z",
     "start_time": "2022-03-22T19:17:35.534626Z"
    }
   },
   "outputs": [
    {
     "name": "stdout",
     "output_type": "stream",
     "text": [
      "Number of Neighbors: 17\n",
      "Metric: manhattan\n",
      "Weights: uniform\n",
      "Mean Cross-Val Score: 0.5741758241758241\n",
      "Train Mean Accuracy: 0.6395604395604395\n",
      "Test Mean Accuracy: 0.654945054945055\n",
      "Recall Score: 0.7530364372469636\n",
      "Precision Score: 0.6595744680851063\n",
      "F1 score: 0.7032136105860113\n"
     ]
    },
    {
     "data": {
      "image/png": "[encoded data removed]",
      "text/plain": [
       "<Figure size 432x288 with 1 Axes>"
      ]
     },
     "metadata": {
      "needs_background": "light"
     },
     "output_type": "display_data"
    },
    {
     "data": {
      "image/png": "[encoded data removed]",
      "text/plain": [
       "<Figure size 432x288 with 2 Axes>"
      ]
     },
     "metadata": {
      "needs_background": "light"
     },
     "output_type": "display_data"
    },
    {
     "data": {
      "image/png": "[encoded data removed]",
      "text/plain": [
       "<Figure size 432x288 with 2 Axes>"
      ]
     },
     "metadata": {
      "needs_background": "light"
     },
     "output_type": "display_data"
    }
   ],
   "source": [
    "prediction,probabilities=knn(X_train_scaled,X_test_scaled,y_train,y_test)"
   ]
  },
  {
   "cell_type": "code",
   "execution_count": 47,
   "metadata": {
    "ExecuteTime": {
     "end_time": "2022-03-22T19:17:57.612480Z",
     "start_time": "2022-03-22T19:17:57.594599Z"
    }
   },
   "outputs": [
    {
     "data": {
      "text/plain": [
       "('New Accuracy: 0.7696078431372549', 'Amount of Games: 157')"
      ]
     },
     "execution_count": 47,
     "metadata": {},
     "output_type": "execute_result"
    }
   ],
   "source": [
    "new_acc(probabilities)"
   ]
  },
  {
   "cell_type": "markdown",
   "metadata": {},
   "source": [
    "### KNN with PCA"
   ]
  },
  {
   "cell_type": "code",
   "execution_count": 48,
   "metadata": {
    "ExecuteTime": {
     "end_time": "2022-03-22T19:18:43.037743Z",
     "start_time": "2022-03-22T19:18:35.133077Z"
    }
   },
   "outputs": [
    {
     "name": "stdout",
     "output_type": "stream",
     "text": [
      "Number of Neighbors: 15\n",
      "Metric: minkowski\n",
      "Weights: uniform\n",
      "Mean Cross-Val Score: 0.5681318681318681\n",
      "Train Mean Accuracy: 0.6357142857142857\n",
      "Test Mean Accuracy: 0.6505494505494506\n",
      "Recall Score: 0.7246963562753036\n",
      "Precision Score: 0.662962962962963\n",
      "F1 score: 0.6924564796905222\n"
     ]
    },
    {
     "data": {
      "image/png": "[encoded data removed]",
      "text/plain": [
       "<Figure size 432x288 with 1 Axes>"
      ]
     },
     "metadata": {
      "needs_background": "light"
     },
     "output_type": "display_data"
    },
    {
     "data": {
      "image/png": "[encoded data removed]",
      "text/plain": [
       "<Figure size 432x288 with 2 Axes>"
      ]
     },
     "metadata": {
      "needs_background": "light"
     },
     "output_type": "display_data"
    },
    {
     "data": {
      "image/png": "[encoded data removed]",
      "text/plain": [
       "<Figure size 432x288 with 2 Axes>"
      ]
     },
     "metadata": {
      "needs_background": "light"
     },
     "output_type": "display_data"
    }
   ],
   "source": [
    "prediction,probabilities=knn(train_pca_w_scale,test_pca_w_scale,y_train,y_test)"
   ]
  },
  {
   "cell_type": "code",
   "execution_count": 49,
   "metadata": {
    "ExecuteTime": {
     "end_time": "2022-03-22T19:19:26.247905Z",
     "start_time": "2022-03-22T19:19:26.235363Z"
    }
   },
   "outputs": [
    {
     "data": {
      "text/plain": [
       "('New Accuracy: 0.788659793814433', 'Amount of Games: 153')"
      ]
     },
     "execution_count": 49,
     "metadata": {},
     "output_type": "execute_result"
    }
   ],
   "source": [
    "new_acc(probabilities)"
   ]
  },
  {
   "cell_type": "markdown",
   "metadata": {},
   "source": [
    "#### KNN Recap\n",
    "\n",
    "In this exact case of KNN it predicts a better score using PCA while also predicting two less games. Neither model is too computationally expensive in this case, however PCA is still faster and has the better score so PCA will get the edge.\n"
   ]
  },
  {
   "cell_type": "markdown",
   "metadata": {},
   "source": [
    "## Decision Tree"
   ]
  },
  {
   "cell_type": "markdown",
   "metadata": {},
   "source": [
    "### Decision Tree RFECV"
   ]
  },
  {
   "cell_type": "code",
   "execution_count": 52,
   "metadata": {
    "ExecuteTime": {
     "end_time": "2022-03-22T19:23:39.834402Z",
     "start_time": "2022-03-22T19:23:19.587236Z"
    }
   },
   "outputs": [],
   "source": [
    "dfeats= feature_select(X_train,y_train,DecisionTreeClassifier,min_features=10)\n",
    "X_train_best_tree = X_train[dfeats]\n",
    "X_test_best_tree = X_test[dfeats]"
   ]
  },
  {
   "cell_type": "code",
   "execution_count": 53,
   "metadata": {
    "ExecuteTime": {
     "end_time": "2022-03-22T19:29:39.652335Z",
     "start_time": "2022-03-22T19:29:37.841124Z"
    }
   },
   "outputs": [
    {
     "name": "stdout",
     "output_type": "stream",
     "text": [
      "Max Depth: 3\n",
      "Min Sample Split: 2\n",
      "criterion: entropy\n",
      "Mean Cross-Val Score: 0.5967032967032967\n",
      "Train Mean Accuracy: 0.6192307692307693\n",
      "Test Mean Accuracy: 0.6395604395604395\n",
      "Recall Score: 0.631578947368421\n",
      "Precision Score: 0.6812227074235808\n",
      "F1 score: 0.6554621848739496\n"
     ]
    },
    {
     "data": {
      "image/png": "[encoded data removed]",
      "text/plain": [
       "<Figure size 432x288 with 1 Axes>"
      ]
     },
     "metadata": {
      "needs_background": "light"
     },
     "output_type": "display_data"
    },
    {
     "data": {
      "image/png": "[encoded data removed]",
      "text/plain": [
       "<Figure size 432x288 with 2 Axes>"
      ]
     },
     "metadata": {
      "needs_background": "light"
     },
     "output_type": "display_data"
    },
    {
     "data": {
      "image/png": "[encoded data removed]",
      "text/plain": [
       "<Figure size 432x288 with 2 Axes>"
      ]
     },
     "metadata": {
      "needs_background": "light"
     },
     "output_type": "display_data"
    }
   ],
   "source": [
    "predictions,probabilities=dtree(X_train_best_tree,X_test_best_tree,y_train,y_test)"
   ]
  },
  {
   "cell_type": "code",
   "execution_count": 54,
   "metadata": {
    "ExecuteTime": {
     "end_time": "2022-03-22T19:29:52.682591Z",
     "start_time": "2022-03-22T19:29:52.663451Z"
    }
   },
   "outputs": [
    {
     "data": {
      "text/plain": [
       "('New Accuracy: 0.6844106463878327', 'Amount of Games: 180')"
      ]
     },
     "execution_count": 54,
     "metadata": {},
     "output_type": "execute_result"
    }
   ],
   "source": [
    "new_acc(probabilities)"
   ]
  },
  {
   "cell_type": "markdown",
   "metadata": {},
   "source": [
    "### Decision Tree with PCA"
   ]
  },
  {
   "cell_type": "code",
   "execution_count": 100,
   "metadata": {
    "ExecuteTime": {
     "end_time": "2022-03-23T15:32:06.097041Z",
     "start_time": "2022-03-23T15:32:03.040232Z"
    },
    "scrolled": false
   },
   "outputs": [
    {
     "name": "stdout",
     "output_type": "stream",
     "text": [
      "Max Depth: 3\n",
      "Min Sample Split: 2\n",
      "criterion: entropy\n",
      "Mean Cross-Val Score: 0.5587912087912088\n",
      "Train Mean Accuracy: 0.5978021978021978\n",
      "Test Mean Accuracy: 0.6263736263736264\n",
      "Recall Score: 0.8097165991902834\n",
      "Precision Score: 0.6191950464396285\n",
      "F1 score: 0.7017543859649124\n"
     ]
    },
    {
     "data": {
      "image/png": "[encoded data removed]",
      "text/plain": [
       "<Figure size 432x288 with 1 Axes>"
      ]
     },
     "metadata": {
      "needs_background": "light"
     },
     "output_type": "display_data"
    },
    {
     "data": {
      "image/png": "[encoded data removed]",
      "text/plain": [
       "<Figure size 432x288 with 2 Axes>"
      ]
     },
     "metadata": {
      "needs_background": "light"
     },
     "output_type": "display_data"
    },
    {
     "data": {
      "image/png": "[encoded data removed]",
      "text/plain": [
       "<Figure size 432x288 with 2 Axes>"
      ]
     },
     "metadata": {
      "needs_background": "light"
     },
     "output_type": "display_data"
    }
   ],
   "source": [
    "predictions,probabilities=dtree(train_pca_wo_scale,test_pca_wo_scale,y_train,y_test)"
   ]
  },
  {
   "cell_type": "markdown",
   "metadata": {},
   "source": [
    "Before looking at new accuracy score, using all the games in 2019 the Decison Tree with PCA has a test accuracy of 60.0% and a cross validation score of 58.0%"
   ]
  },
  {
   "cell_type": "code",
   "execution_count": 101,
   "metadata": {
    "ExecuteTime": {
     "end_time": "2022-03-23T15:34:38.399255Z",
     "start_time": "2022-03-23T15:34:38.385020Z"
    }
   },
   "outputs": [
    {
     "data": {
      "text/plain": [
       "('New Accuracy: 0.7783505154639175', 'Amount of Games: 151')"
      ]
     },
     "execution_count": 101,
     "metadata": {},
     "output_type": "execute_result"
    }
   ],
   "source": [
    "new_acc(probabilities)"
   ]
  },
  {
   "cell_type": "markdown",
   "metadata": {},
   "source": [
    "#### Decision Tree Recap\n",
    "\n",
    "In this case PCA performs much better than RFECV however it is also more picky. This is a balance that needs to be taken into account when deciding what model to use. Over the course of the project as a whole though Decision Trees have proven to not be as consistently accurate as some of the other models."
   ]
  },
  {
   "cell_type": "markdown",
   "metadata": {},
   "source": [
    "## Random Forest"
   ]
  },
  {
   "cell_type": "markdown",
   "metadata": {},
   "source": [
    "### Random Forest with RFECV"
   ]
  },
  {
   "cell_type": "code",
   "execution_count": 57,
   "metadata": {
    "ExecuteTime": {
     "end_time": "2022-03-22T19:37:26.041698Z",
     "start_time": "2022-03-22T19:31:37.912641Z"
    }
   },
   "outputs": [],
   "source": [
    "rfeats= feature_select(X_train,y_train,RandomForestClassifier,min_features=10)\n",
    "X_train_best_for = X_train[rfeats]\n",
    "X_test_best_for = X_test[rfeats]"
   ]
  },
  {
   "cell_type": "code",
   "execution_count": 58,
   "metadata": {
    "ExecuteTime": {
     "end_time": "2022-03-22T19:38:43.533225Z",
     "start_time": "2022-03-22T19:37:49.418203Z"
    },
    "scrolled": false
   },
   "outputs": [
    {
     "name": "stdout",
     "output_type": "stream",
     "text": [
      "Number of Trees: 110\n",
      "criterion: gini\n",
      "Mean Cross-Val Score: 0.5653846153846154\n",
      "Train Mean Accuracy: 0.7098901098901099\n",
      "Test Mean Accuracy: 0.7230769230769231\n",
      "Recall Score: 0.728744939271255\n",
      "Precision Score: 0.7531380753138075\n",
      "F1 score: 0.7407407407407407\n"
     ]
    },
    {
     "data": {
      "image/png": "[encoded data removed]",
      "text/plain": [
       "<Figure size 432x288 with 1 Axes>"
      ]
     },
     "metadata": {
      "needs_background": "light"
     },
     "output_type": "display_data"
    },
    {
     "data": {
      "image/png": "[encoded data removed]",
      "text/plain": [
       "<Figure size 432x288 with 2 Axes>"
      ]
     },
     "metadata": {
      "needs_background": "light"
     },
     "output_type": "display_data"
    },
    {
     "data": {
      "image/png": "[encoded data removed]",
      "text/plain": [
       "<Figure size 432x288 with 2 Axes>"
      ]
     },
     "metadata": {
      "needs_background": "light"
     },
     "output_type": "display_data"
    }
   ],
   "source": [
    "predictions,probabilities=random_forest(X_train_best_for,X_test_best_for,y_train,y_test)"
   ]
  },
  {
   "cell_type": "code",
   "execution_count": 59,
   "metadata": {
    "ExecuteTime": {
     "end_time": "2022-03-22T19:38:43.560180Z",
     "start_time": "2022-03-22T19:38:43.536841Z"
    }
   },
   "outputs": [
    {
     "data": {
      "text/plain": [
       "('New Accuracy: 0.764367816091954', 'Amount of Games: 266')"
      ]
     },
     "execution_count": 59,
     "metadata": {},
     "output_type": "execute_result"
    }
   ],
   "source": [
    "new_acc(probabilities)"
   ]
  },
  {
   "cell_type": "markdown",
   "metadata": {},
   "source": [
    "### Random Forest with PCA"
   ]
  },
  {
   "cell_type": "code",
   "execution_count": 102,
   "metadata": {
    "ExecuteTime": {
     "end_time": "2022-03-23T15:37:55.682755Z",
     "start_time": "2022-03-23T15:36:46.672602Z"
    }
   },
   "outputs": [
    {
     "name": "stdout",
     "output_type": "stream",
     "text": [
      "Number of Trees: 150\n",
      "criterion: gini\n",
      "Mean Cross-Val Score: 0.5461538461538462\n",
      "Train Mean Accuracy: 0.7098901098901099\n",
      "Test Mean Accuracy: 0.7230769230769231\n",
      "Recall Score: 0.728744939271255\n",
      "Precision Score: 0.7531380753138075\n",
      "F1 score: 0.7407407407407407\n"
     ]
    },
    {
     "data": {
      "image/png": "[encoded data removed]",
      "text/plain": [
       "<Figure size 432x288 with 1 Axes>"
      ]
     },
     "metadata": {
      "needs_background": "light"
     },
     "output_type": "display_data"
    },
    {
     "data": {
      "image/png": "[encoded data removed]",
      "text/plain": [
       "<Figure size 432x288 with 2 Axes>"
      ]
     },
     "metadata": {
      "needs_background": "light"
     },
     "output_type": "display_data"
    },
    {
     "data": {
      "image/png": "[encoded data removed]",
      "text/plain": [
       "<Figure size 432x288 with 2 Axes>"
      ]
     },
     "metadata": {
      "needs_background": "light"
     },
     "output_type": "display_data"
    }
   ],
   "source": [
    "predictions,probabilities=random_forest(train_pca_wo_scale,test_pca_wo_scale,y_train,y_test)"
   ]
  },
  {
   "cell_type": "code",
   "execution_count": 103,
   "metadata": {
    "ExecuteTime": {
     "end_time": "2022-03-23T15:38:09.348402Z",
     "start_time": "2022-03-23T15:38:09.336321Z"
    }
   },
   "outputs": [
    {
     "data": {
      "text/plain": [
       "('New Accuracy: 0.7670454545454546', 'Amount of Games: 270')"
      ]
     },
     "execution_count": 103,
     "metadata": {},
     "output_type": "execute_result"
    }
   ],
   "source": [
    "new_acc(probabilities)"
   ]
  },
  {
   "cell_type": "markdown",
   "metadata": {},
   "source": [
    "#### Random Forest Recap\n",
    "\n",
    "Random Forest can be an award winning model and is very popular in competitions for good reason. In this exact case it is nearly identical in accuracy  and it also picks four more games than RFECV when using PCA. Again PCA is also less computationally expensive so whenever I do not need to sacrafice accuracy/amount of games too much it is best to use PCA."
   ]
  },
  {
   "cell_type": "markdown",
   "metadata": {},
   "source": [
    "## Bagging"
   ]
  },
  {
   "cell_type": "markdown",
   "metadata": {},
   "source": [
    "### Bagging without PCA"
   ]
  },
  {
   "cell_type": "code",
   "execution_count": 62,
   "metadata": {
    "ExecuteTime": {
     "end_time": "2022-03-22T20:44:19.770404Z",
     "start_time": "2022-03-22T20:33:57.419796Z"
    }
   },
   "outputs": [
    {
     "name": "stdout",
     "output_type": "stream",
     "text": [
      "Dec Tree Max Depth: 5\n",
      "Dec Tree Criterion: gini\n",
      "Bagging Max Samples: 5\n",
      "Bag Max Features: 5\n",
      "# of Base Estimators: 500\n",
      "Mean Cross-Val Score: 0.5978021978021978\n",
      "Train Mean Accuracy Score: 0.6043956043956044\n",
      "Test Mean Accuracy Score: 0.6285714285714286\n",
      "Recall Score: 0.8744939271255061\n",
      "Precision Score: 0.6101694915254238\n",
      "F1 score: 0.7188019966722131\n"
     ]
    },
    {
     "data": {
      "image/png": "[encoded data removed]",
      "text/plain": [
       "<Figure size 432x288 with 1 Axes>"
      ]
     },
     "metadata": {
      "needs_background": "light"
     },
     "output_type": "display_data"
    },
    {
     "data": {
      "image/png": "[encoded data removed]",
      "text/plain": [
       "<Figure size 432x288 with 2 Axes>"
      ]
     },
     "metadata": {
      "needs_background": "light"
     },
     "output_type": "display_data"
    },
    {
     "data": {
      "image/png": "[encoded data removed]",
      "text/plain": [
       "<Figure size 432x288 with 2 Axes>"
      ]
     },
     "metadata": {
      "needs_background": "light"
     },
     "output_type": "display_data"
    }
   ],
   "source": [
    "predictions, probabilities = bagged(X_train,X_test,y_train,y_test)"
   ]
  },
  {
   "cell_type": "code",
   "execution_count": 63,
   "metadata": {
    "ExecuteTime": {
     "end_time": "2022-03-22T20:52:59.972023Z",
     "start_time": "2022-03-22T20:52:59.958627Z"
    }
   },
   "outputs": [
    {
     "data": {
      "text/plain": [
       "('New Accuracy: 0.875', 'Amount of Games: 21')"
      ]
     },
     "execution_count": 63,
     "metadata": {},
     "output_type": "execute_result"
    }
   ],
   "source": [
    "new_acc(probabilities)"
   ]
  },
  {
   "cell_type": "markdown",
   "metadata": {},
   "source": [
    "### Bagging with PCA"
   ]
  },
  {
   "cell_type": "code",
   "execution_count": 104,
   "metadata": {
    "ExecuteTime": {
     "end_time": "2022-03-23T15:50:07.261996Z",
     "start_time": "2022-03-23T15:40:14.765123Z"
    },
    "scrolled": true
   },
   "outputs": [
    {
     "name": "stdout",
     "output_type": "stream",
     "text": [
      "Dec Tree Max Depth: 2\n",
      "Dec Tree Criterion: gini\n",
      "Bagging Max Samples: 5\n",
      "Bag Max Features: 3\n",
      "# of Base Estimators: 500\n",
      "Mean Cross-Val Score: 0.5543956043956044\n",
      "Train Mean Accuracy Score: 0.5406593406593406\n",
      "Test Mean Accuracy Score: 0.5560439560439561\n",
      "Recall Score: 1.0\n",
      "Precision Score: 0.5501113585746102\n",
      "F1 score: 0.7097701149425287\n"
     ]
    },
    {
     "data": {
      "image/png": "[encoded data removed]",
      "text/plain": [
       "<Figure size 432x288 with 1 Axes>"
      ]
     },
     "metadata": {
      "needs_background": "light"
     },
     "output_type": "display_data"
    },
    {
     "data": {
      "image/png": "[encoded data removed]",
      "text/plain": [
       "<Figure size 432x288 with 2 Axes>"
      ]
     },
     "metadata": {
      "needs_background": "light"
     },
     "output_type": "display_data"
    },
    {
     "data": {
      "image/png": "[encoded data removed]",
      "text/plain": [
       "<Figure size 432x288 with 2 Axes>"
      ]
     },
     "metadata": {
      "needs_background": "light"
     },
     "output_type": "display_data"
    }
   ],
   "source": [
    "predictions, probabilities = bagged(train_pca_wo_scale,test_pca_wo_scale,y_train,y_test)"
   ]
  },
  {
   "cell_type": "code",
   "execution_count": 106,
   "metadata": {
    "ExecuteTime": {
     "end_time": "2022-03-23T17:45:53.534285Z",
     "start_time": "2022-03-23T17:45:53.530951Z"
    }
   },
   "outputs": [],
   "source": [
    "#new_acc(probabilities) cannot be run because it does not pick any games with these parameters"
   ]
  },
  {
   "cell_type": "markdown",
   "metadata": {},
   "source": [
    "#### Bagging Recap\n",
    "\n",
    "The Bagging Classifier can often take a long time to run as it is very computationally expensive. In this case it is also very accurate however also extremely picky. Using RFECV it has 87.5% accuracy on the adjusted score which is far superior to that of the other models. However, this may not be all that valuable considering it only decided to pick a mere 15 games. This particular nature of the model is seen again in PCA except in this instance it does not choose a single game. "
   ]
  },
  {
   "cell_type": "markdown",
   "metadata": {},
   "source": [
    "## XGBoost"
   ]
  },
  {
   "cell_type": "markdown",
   "metadata": {},
   "source": [
    "### XGBoost with RFECV"
   ]
  },
  {
   "cell_type": "code",
   "execution_count": 67,
   "metadata": {
    "ExecuteTime": {
     "end_time": "2022-03-22T22:41:49.921739Z",
     "start_time": "2022-03-22T22:34:11.676981Z"
    }
   },
   "outputs": [],
   "source": [
    "xfeats= feature_select(X_train,y_train,XGBClassifier,min_features=10)\n",
    "X_train_best_x = X_train[xfeats]\n",
    "X_test_best_x = X_test[xfeats]"
   ]
  },
  {
   "cell_type": "code",
   "execution_count": 68,
   "metadata": {
    "ExecuteTime": {
     "end_time": "2022-03-23T02:05:46.750058Z",
     "start_time": "2022-03-22T22:41:49.928190Z"
    }
   },
   "outputs": [
    {
     "name": "stdout",
     "output_type": "stream",
     "text": [
      "XGBoost Learning Rate: 0.05\n",
      "XGBoost Max Depth: 3\n",
      "XGBoost Min Child Weight: 1\n",
      "XGBoost Subsample: 0.7\n",
      "XGBoost Estimators: 100\n",
      "Stopped in Round: 15\n",
      "Mean Cross-Val Score: 0.55\n",
      "Train Mean Accuracy Score: 0.7098901098901099\n",
      "Test Mean Accuracy Score: 0.734065934065934\n",
      "Recall Score: 0.7408906882591093\n",
      "Precision Score: 0.7625\n",
      "F1 score: 0.7515400410677617\n"
     ]
    },
    {
     "data": {
      "image/png": "[encoded data removed]",
      "text/plain": [
       "<Figure size 432x288 with 1 Axes>"
      ]
     },
     "metadata": {
      "needs_background": "light"
     },
     "output_type": "display_data"
    },
    {
     "data": {
      "image/png": "[encoded data removed]",
      "text/plain": [
       "<Figure size 432x288 with 2 Axes>"
      ]
     },
     "metadata": {
      "needs_background": "light"
     },
     "output_type": "display_data"
    },
    {
     "data": {
      "image/png": "[encoded data removed]",
      "text/plain": [
       "<Figure size 432x288 with 2 Axes>"
      ]
     },
     "metadata": {
      "needs_background": "light"
     },
     "output_type": "display_data"
    }
   ],
   "source": [
    "predictions, probabilities= xgboost(X_train_best_x, X_test_best_x, y_train, y_test, cv=5)"
   ]
  },
  {
   "cell_type": "code",
   "execution_count": 69,
   "metadata": {
    "ExecuteTime": {
     "end_time": "2022-03-23T02:05:46.976838Z",
     "start_time": "2022-03-23T02:05:46.782309Z"
    }
   },
   "outputs": [
    {
     "data": {
      "text/plain": [
       "('New Accuracy: 0.7675070028011205', 'Amount of Games: 274')"
      ]
     },
     "execution_count": 69,
     "metadata": {},
     "output_type": "execute_result"
    }
   ],
   "source": [
    "new_acc(probabilities)"
   ]
  },
  {
   "cell_type": "markdown",
   "metadata": {},
   "source": [
    "### XGBoost with PCA"
   ]
  },
  {
   "cell_type": "code",
   "execution_count": 107,
   "metadata": {
    "ExecuteTime": {
     "end_time": "2022-03-23T18:01:05.061963Z",
     "start_time": "2022-03-23T17:47:19.651689Z"
    }
   },
   "outputs": [
    {
     "name": "stdout",
     "output_type": "stream",
     "text": [
      "XGBoost Learning Rate: 0.05\n",
      "XGBoost Max Depth: 3\n",
      "XGBoost Min Child Weight: 1\n",
      "XGBoost Subsample: 0.7\n",
      "XGBoost Estimators: 100\n",
      "Stopped in Round: 15\n",
      "Mean Cross-Val Score: 0.537912087912088\n",
      "Train Mean Accuracy Score: 0.7098901098901099\n",
      "Test Mean Accuracy Score: 0.7274725274725274\n",
      "Recall Score: 0.7530364372469636\n",
      "Precision Score: 0.7469879518072289\n",
      "F1 score: 0.75\n"
     ]
    },
    {
     "data": {
      "image/png": "[encoded data removed]",
      "text/plain": [
       "<Figure size 432x288 with 1 Axes>"
      ]
     },
     "metadata": {
      "needs_background": "light"
     },
     "output_type": "display_data"
    },
    {
     "data": {
      "image/png": "[encoded data removed]",
      "text/plain": [
       "<Figure size 432x288 with 2 Axes>"
      ]
     },
     "metadata": {
      "needs_background": "light"
     },
     "output_type": "display_data"
    },
    {
     "data": {
      "image/png": "[encoded data removed]",
      "text/plain": [
       "<Figure size 432x288 with 2 Axes>"
      ]
     },
     "metadata": {
      "needs_background": "light"
     },
     "output_type": "display_data"
    }
   ],
   "source": [
    "predictions, probabilities= xgboost(train_pca_wo_scale, test_pca_wo_scale, y_train, y_test, cv=5)"
   ]
  },
  {
   "cell_type": "code",
   "execution_count": 108,
   "metadata": {
    "ExecuteTime": {
     "end_time": "2022-03-23T18:01:22.642559Z",
     "start_time": "2022-03-23T18:01:22.609068Z"
    }
   },
   "outputs": [
    {
     "data": {
      "text/plain": [
       "('New Accuracy: 0.7670454545454546', 'Amount of Games: 270')"
      ]
     },
     "execution_count": 108,
     "metadata": {},
     "output_type": "execute_result"
    }
   ],
   "source": [
    "new_acc(probabilities)"
   ]
  },
  {
   "cell_type": "markdown",
   "metadata": {},
   "source": [
    "#### XGBoost Recap\n",
    "\n",
    "XGBoost is another very powerful model that comes with the price of being extremely computationally expensive. In this case the accuracy score is solid and is similar whether I use RFECV or PCA and the amount of games is comparable as well. However the value of PCA can be seen very clearly here as running the model using RFECV took nearly 41 minutes while using PCA took only 14. This stark difference shows how valuable PCA can be."
   ]
  },
  {
   "cell_type": "markdown",
   "metadata": {},
   "source": [
    "## Model Comparisons"
   ]
  },
  {
   "cell_type": "markdown",
   "metadata": {},
   "source": [
    "As was stated before I have run these models on many different years and in doing so I was first able to focus in on three models. Logistic Regression, KNN and Random Forest. The reason these three were chosen is a combination of accuracy scores, amounts of games chosen and the computational cost aligned with each model."
   ]
  },
  {
   "cell_type": "markdown",
   "metadata": {},
   "source": [
    "![image](https://user-images.githubusercontent.com/73855593/150588369-0de37693-8290-4fad-9047-a75de533c171.png)"
   ]
  },
  {
   "cell_type": "markdown",
   "metadata": {},
   "source": [
    "![image](https://user-images.githubusercontent.com/73855593/150588890-806a7b8f-d775-4851-a20f-3d87be1a23ba.png)"
   ]
  },
  {
   "cell_type": "markdown",
   "metadata": {},
   "source": [
    "After analyzing the three of these models over a six year period of time, the last two being heavily affected by COVID-19, it is found that Random Forest is consistently picking games with the highest accuracy while also picking the highest quantity of games. The question then needs to be narrowed down further. Which Random Forest is the best one to use? Is it Random Forest using RFECV or Random Forest using PCA? I decided to chart the two of those over the six year period to see if there are any major differences, that chart can be seen below."
   ]
  },
  {
   "attachments": {
    "image.png": {
     "image/png": "[encoded data removed]"
    }
   },
   "cell_type": "markdown",
   "metadata": {},
   "source": [
    "![image.png](attachment:image.png)"
   ]
  },
  {
   "cell_type": "markdown",
   "metadata": {},
   "source": [
    "After charting Random Forest PCA v Random Forest RFECV it seems that their accuracy scores are quite similar and nearly identical most years. Therefore I am inclined to lean towards using PCA as it is far less computationally expensive."
   ]
  },
  {
   "cell_type": "code",
   "execution_count": 110,
   "metadata": {
    "ExecuteTime": {
     "end_time": "2022-03-23T20:12:33.840898Z",
     "start_time": "2022-03-23T20:12:33.830165Z"
    }
   },
   "outputs": [
    {
     "name": "stdout",
     "output_type": "stream",
     "text": [
      "Mean Adjusted Accuracy : 82.55%\n"
     ]
    }
   ],
   "source": [
    "# Mean Accuracy of Random Forest using PCA\n",
    "rf_pca_acc=[75.3,76.8,76.1,76.6,90.5,100.0]\n",
    "print(f'Mean Adjusted Accuracy : {np.mean(rf_pca_acc)}%')"
   ]
  },
  {
   "cell_type": "markdown",
   "metadata": {},
   "source": [
    "# Conclusion"
   ]
  },
  {
   "cell_type": "markdown",
   "metadata": {},
   "source": [
    "The results of the Random Forest using PCA while training on the first 75% of games and testing on last 25% are quite encouraging."
   ]
  },
  {
   "cell_type": "markdown",
   "metadata": {},
   "source": [
    "The baseline which was predicting the home team to win every game was around 54%, the lowest for any of the four major professional sports. Therefore our new accuracy score of 83.67% far outperforms the baseline. This will allow our stakeholders to do what very few can and that is turn a profit betting on Major League Baseball!"
   ]
  },
  {
   "cell_type": "markdown",
   "metadata": {},
   "source": [
    "#### Next Steps:\n",
    "In order to further continue developing our model we could:\n",
    "- Integrate moneylines to further identify value, \n",
    "- Incorporate more player-specific data to predict how a player will affect team performance on a given day especially within starting pitching.\n",
    "- And finally adjusting bet sizing, in order to maximize risk adjusted returns. \n"
   ]
  }
 ],
 "metadata": {
  "kernelspec": {
   "display_name": "Python 3",
   "language": "python",
   "name": "python3"
  },
  "language_info": {
   "codemirror_mode": {
    "name": "ipython",
    "version": 3
   },
   "file_extension": ".py",
   "mimetype": "text/x-python",
   "name": "python",
   "nbconvert_exporter": "python",
   "pygments_lexer": "ipython3",
   "version": "3.8.5"
  },
  "notify_time": "30"
 },
 "nbformat": 4,
 "nbformat_minor": 4
}

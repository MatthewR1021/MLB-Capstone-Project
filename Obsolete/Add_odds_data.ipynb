{
 "cells": [
  {
   "cell_type": "code",
   "execution_count": 4,
   "metadata": {
    "ExecuteTime": {
     "end_time": "2022-01-12T14:59:34.538993Z",
     "start_time": "2022-01-12T14:59:33.068120Z"
    }
   },
   "outputs": [],
   "source": [
    "import pandas as pd\n",
    "import numpy as np"
   ]
  },
  {
   "cell_type": "code",
   "execution_count": 87,
   "metadata": {
    "ExecuteTime": {
     "end_time": "2022-01-12T15:53:16.016298Z",
     "start_time": "2022-01-12T15:53:15.999038Z"
    }
   },
   "outputs": [],
   "source": [
    "odds=pd.read_csv('data/MLB_odds_2016.csv')"
   ]
  },
  {
   "cell_type": "code",
   "execution_count": 10,
   "metadata": {
    "ExecuteTime": {
     "end_time": "2022-01-12T15:06:16.202827Z",
     "start_time": "2022-01-12T15:06:16.191806Z"
    }
   },
   "outputs": [],
   "source": [
    "odds.drop(['Unnamed: 0','Unnamed: 1','Unnamed: 2','Unnamed: 3','Unnamed: 4','Unnamed: 5',\n",
    "           'Unnamed: 6','Unnamed: 7','Unnamed: 8'],axis=1,inplace=True)"
   ]
  },
  {
   "cell_type": "code",
   "execution_count": 118,
   "metadata": {
    "ExecuteTime": {
     "end_time": "2022-01-12T16:00:20.933990Z",
     "start_time": "2022-01-12T16:00:20.925008Z"
    }
   },
   "outputs": [],
   "source": [
    "odds.drop(['Unnamed: 0'],axis=1,inplace=True)"
   ]
  },
  {
   "cell_type": "code",
   "execution_count": 119,
   "metadata": {
    "ExecuteTime": {
     "end_time": "2022-01-12T16:00:58.411017Z",
     "start_time": "2022-01-12T16:00:58.387958Z"
    }
   },
   "outputs": [
    {
     "data": {
      "text/html": [
       "<div>\n",
       "<style scoped>\n",
       "    .dataframe tbody tr th:only-of-type {\n",
       "        vertical-align: middle;\n",
       "    }\n",
       "\n",
       "    .dataframe tbody tr th {\n",
       "        vertical-align: top;\n",
       "    }\n",
       "\n",
       "    .dataframe thead th {\n",
       "        text-align: right;\n",
       "    }\n",
       "</style>\n",
       "<table border=\"1\" class=\"dataframe\">\n",
       "  <thead>\n",
       "    <tr style=\"text-align: right;\">\n",
       "      <th></th>\n",
       "      <th>H</th>\n",
       "      <th>H_odds</th>\n",
       "      <th>A</th>\n",
       "      <th>A_odds</th>\n",
       "    </tr>\n",
       "  </thead>\n",
       "  <tbody>\n",
       "    <tr>\n",
       "      <th>0</th>\n",
       "      <td>PIT</td>\n",
       "      <td>-119.0</td>\n",
       "      <td>STL</td>\n",
       "      <td>109.0</td>\n",
       "    </tr>\n",
       "    <tr>\n",
       "      <th>1</th>\n",
       "      <td>TAM</td>\n",
       "      <td>-121.0</td>\n",
       "      <td>TOR</td>\n",
       "      <td>111.0</td>\n",
       "    </tr>\n",
       "    <tr>\n",
       "      <th>2</th>\n",
       "      <td>KAN</td>\n",
       "      <td>110.0</td>\n",
       "      <td>NYM</td>\n",
       "      <td>-120.0</td>\n",
       "    </tr>\n",
       "    <tr>\n",
       "      <th>3</th>\n",
       "      <td>MIL</td>\n",
       "      <td>155.0</td>\n",
       "      <td>SFO</td>\n",
       "      <td>-175.0</td>\n",
       "    </tr>\n",
       "    <tr>\n",
       "      <th>4</th>\n",
       "      <td>ATL</td>\n",
       "      <td>160.0</td>\n",
       "      <td>WAS</td>\n",
       "      <td>-180.0</td>\n",
       "    </tr>\n",
       "    <tr>\n",
       "      <th>...</th>\n",
       "      <td>...</td>\n",
       "      <td>...</td>\n",
       "      <td>...</td>\n",
       "      <td>...</td>\n",
       "    </tr>\n",
       "    <tr>\n",
       "      <th>2422</th>\n",
       "      <td>TAM</td>\n",
       "      <td>140.0</td>\n",
       "      <td>TEX</td>\n",
       "      <td>-155.0</td>\n",
       "    </tr>\n",
       "    <tr>\n",
       "      <th>2423</th>\n",
       "      <td>HOU</td>\n",
       "      <td>114.0</td>\n",
       "      <td>LAA</td>\n",
       "      <td>-124.0</td>\n",
       "    </tr>\n",
       "    <tr>\n",
       "      <th>2424</th>\n",
       "      <td>MIN</td>\n",
       "      <td>225.0</td>\n",
       "      <td>CWS</td>\n",
       "      <td>-265.0</td>\n",
       "    </tr>\n",
       "    <tr>\n",
       "      <th>2425</th>\n",
       "      <td>CLE</td>\n",
       "      <td>-120.0</td>\n",
       "      <td>KAN</td>\n",
       "      <td>110.0</td>\n",
       "    </tr>\n",
       "    <tr>\n",
       "      <th>2426</th>\n",
       "      <td>DET</td>\n",
       "      <td>-153.0</td>\n",
       "      <td>ATL</td>\n",
       "      <td>138.0</td>\n",
       "    </tr>\n",
       "  </tbody>\n",
       "</table>\n",
       "<p>2427 rows × 4 columns</p>\n",
       "</div>"
      ],
      "text/plain": [
       "        H  H_odds    A  A_odds\n",
       "0     PIT  -119.0  STL   109.0\n",
       "1     TAM  -121.0  TOR   111.0\n",
       "2     KAN   110.0  NYM  -120.0\n",
       "3     MIL   155.0  SFO  -175.0\n",
       "4     ATL   160.0  WAS  -180.0\n",
       "...   ...     ...  ...     ...\n",
       "2422  TAM   140.0  TEX  -155.0\n",
       "2423  HOU   114.0  LAA  -124.0\n",
       "2424  MIN   225.0  CWS  -265.0\n",
       "2425  CLE  -120.0  KAN   110.0\n",
       "2426  DET  -153.0  ATL   138.0\n",
       "\n",
       "[2427 rows x 4 columns]"
      ]
     },
     "execution_count": 119,
     "metadata": {},
     "output_type": "execute_result"
    }
   ],
   "source": [
    "odds.rename({'CUB':'CHC','CWS':'CHW','KAN':'KCR','SDG':'SDP','SFO':'SFG','TAM':'TBR','LOS':'LAD'},axis='columns')"
   ]
  },
  {
   "cell_type": "code",
   "execution_count": 18,
   "metadata": {
    "ExecuteTime": {
     "end_time": "2022-01-12T15:09:37.500482Z",
     "start_time": "2022-01-12T15:09:37.459397Z"
    }
   },
   "outputs": [],
   "source": [
    "#odds.to_csv('data/MLB_odds_2016.csv')"
   ]
  },
  {
   "cell_type": "code",
   "execution_count": 5,
   "metadata": {
    "ExecuteTime": {
     "end_time": "2022-01-12T14:59:37.145559Z",
     "start_time": "2022-01-12T14:59:37.023145Z"
    }
   },
   "outputs": [],
   "source": [
    "df=pd.read_csv('data/Season_2016.csv').drop('Unnamed: 0',axis=1)"
   ]
  },
  {
   "cell_type": "code",
   "execution_count": 25,
   "metadata": {
    "ExecuteTime": {
     "end_time": "2022-01-12T15:11:25.616766Z",
     "start_time": "2022-01-12T15:11:25.567663Z"
    }
   },
   "outputs": [
    {
     "data": {
      "text/html": [
       "<div>\n",
       "<style scoped>\n",
       "    .dataframe tbody tr th:only-of-type {\n",
       "        vertical-align: middle;\n",
       "    }\n",
       "\n",
       "    .dataframe tbody tr th {\n",
       "        vertical-align: top;\n",
       "    }\n",
       "\n",
       "    .dataframe thead th {\n",
       "        text-align: right;\n",
       "    }\n",
       "</style>\n",
       "<table border=\"1\" class=\"dataframe\">\n",
       "  <thead>\n",
       "    <tr style=\"text-align: right;\">\n",
       "      <th></th>\n",
       "      <th>H_name</th>\n",
       "      <th>H_at_bats</th>\n",
       "      <th>H_runs</th>\n",
       "      <th>H_hits</th>\n",
       "      <th>H_rbi</th>\n",
       "      <th>H_earned_runs</th>\n",
       "      <th>H_bases_on_balls</th>\n",
       "      <th>H_strikeouts</th>\n",
       "      <th>H_plate_appearances</th>\n",
       "      <th>H_batting_average</th>\n",
       "      <th>...</th>\n",
       "      <th>A_Opp_grounded_balls</th>\n",
       "      <th>A_Opp_fly_balls</th>\n",
       "      <th>A_Opp_line_drives</th>\n",
       "      <th>A_Opp_unknown_bat_type</th>\n",
       "      <th>A_Opp_game_score</th>\n",
       "      <th>A_Opp_inherited_runners</th>\n",
       "      <th>A_Opp_inherited_score</th>\n",
       "      <th>A_Opp_win_probability_by_pitcher</th>\n",
       "      <th>A_Opp_base_out_runs_saved</th>\n",
       "      <th>home_win</th>\n",
       "    </tr>\n",
       "  </thead>\n",
       "  <tbody>\n",
       "    <tr>\n",
       "      <th>0</th>\n",
       "      <td>PIT</td>\n",
       "      <td>34.209877</td>\n",
       "      <td>4.500000</td>\n",
       "      <td>8.802469</td>\n",
       "      <td>4.296296</td>\n",
       "      <td>4.191914</td>\n",
       "      <td>3.462963</td>\n",
       "      <td>8.234568</td>\n",
       "      <td>38.648148</td>\n",
       "      <td>0.252074</td>\n",
       "      <td>...</td>\n",
       "      <td>13.777778</td>\n",
       "      <td>13.111111</td>\n",
       "      <td>6.827160</td>\n",
       "      <td>0.006173</td>\n",
       "      <td>51.438272</td>\n",
       "      <td>1.440994</td>\n",
       "      <td>0.515528</td>\n",
       "      <td>-0.040438</td>\n",
       "      <td>-0.433333</td>\n",
       "      <td>1</td>\n",
       "    </tr>\n",
       "    <tr>\n",
       "      <th>1</th>\n",
       "      <td>KCR</td>\n",
       "      <td>34.271605</td>\n",
       "      <td>4.166667</td>\n",
       "      <td>8.950617</td>\n",
       "      <td>3.950617</td>\n",
       "      <td>3.969568</td>\n",
       "      <td>2.358025</td>\n",
       "      <td>7.555556</td>\n",
       "      <td>37.358025</td>\n",
       "      <td>0.256889</td>\n",
       "      <td>...</td>\n",
       "      <td>12.104938</td>\n",
       "      <td>13.851852</td>\n",
       "      <td>6.907407</td>\n",
       "      <td>0.000000</td>\n",
       "      <td>52.382716</td>\n",
       "      <td>1.493750</td>\n",
       "      <td>0.318750</td>\n",
       "      <td>0.035586</td>\n",
       "      <td>0.180864</td>\n",
       "      <td>1</td>\n",
       "    </tr>\n",
       "    <tr>\n",
       "      <th>2</th>\n",
       "      <td>TBR</td>\n",
       "      <td>33.833333</td>\n",
       "      <td>4.148148</td>\n",
       "      <td>8.228395</td>\n",
       "      <td>3.993827</td>\n",
       "      <td>4.000864</td>\n",
       "      <td>2.771605</td>\n",
       "      <td>9.148148</td>\n",
       "      <td>37.320988</td>\n",
       "      <td>0.237667</td>\n",
       "      <td>...</td>\n",
       "      <td>12.598765</td>\n",
       "      <td>13.808642</td>\n",
       "      <td>6.240741</td>\n",
       "      <td>0.006173</td>\n",
       "      <td>50.950617</td>\n",
       "      <td>1.543210</td>\n",
       "      <td>0.493827</td>\n",
       "      <td>0.008802</td>\n",
       "      <td>-0.098765</td>\n",
       "      <td>0</td>\n",
       "    </tr>\n",
       "    <tr>\n",
       "      <th>3</th>\n",
       "      <td>OAK</td>\n",
       "      <td>33.950617</td>\n",
       "      <td>4.030864</td>\n",
       "      <td>8.345679</td>\n",
       "      <td>3.913580</td>\n",
       "      <td>3.778580</td>\n",
       "      <td>2.728395</td>\n",
       "      <td>7.067901</td>\n",
       "      <td>37.172840</td>\n",
       "      <td>0.239728</td>\n",
       "      <td>...</td>\n",
       "      <td>11.833333</td>\n",
       "      <td>14.907407</td>\n",
       "      <td>7.006173</td>\n",
       "      <td>0.006173</td>\n",
       "      <td>51.216049</td>\n",
       "      <td>1.367089</td>\n",
       "      <td>0.360759</td>\n",
       "      <td>0.009222</td>\n",
       "      <td>0.217284</td>\n",
       "      <td>0</td>\n",
       "    </tr>\n",
       "    <tr>\n",
       "      <th>4</th>\n",
       "      <td>ARI</td>\n",
       "      <td>34.969136</td>\n",
       "      <td>4.641975</td>\n",
       "      <td>9.129630</td>\n",
       "      <td>4.376543</td>\n",
       "      <td>4.270370</td>\n",
       "      <td>2.858025</td>\n",
       "      <td>8.808642</td>\n",
       "      <td>38.641975</td>\n",
       "      <td>0.254932</td>\n",
       "      <td>...</td>\n",
       "      <td>13.969136</td>\n",
       "      <td>13.481481</td>\n",
       "      <td>7.308642</td>\n",
       "      <td>0.006173</td>\n",
       "      <td>47.030864</td>\n",
       "      <td>1.559006</td>\n",
       "      <td>0.552795</td>\n",
       "      <td>-0.033364</td>\n",
       "      <td>-0.499383</td>\n",
       "      <td>0</td>\n",
       "    </tr>\n",
       "  </tbody>\n",
       "</table>\n",
       "<p>5 rows × 143 columns</p>\n",
       "</div>"
      ],
      "text/plain": [
       "  H_name  H_at_bats    H_runs    H_hits     H_rbi  H_earned_runs  \\\n",
       "0    PIT  34.209877  4.500000  8.802469  4.296296       4.191914   \n",
       "1    KCR  34.271605  4.166667  8.950617  3.950617       3.969568   \n",
       "2    TBR  33.833333  4.148148  8.228395  3.993827       4.000864   \n",
       "3    OAK  33.950617  4.030864  8.345679  3.913580       3.778580   \n",
       "4    ARI  34.969136  4.641975  9.129630  4.376543       4.270370   \n",
       "\n",
       "   H_bases_on_balls  H_strikeouts  H_plate_appearances  H_batting_average  \\\n",
       "0          3.462963      8.234568            38.648148           0.252074   \n",
       "1          2.358025      7.555556            37.358025           0.256889   \n",
       "2          2.771605      9.148148            37.320988           0.237667   \n",
       "3          2.728395      7.067901            37.172840           0.239728   \n",
       "4          2.858025      8.808642            38.641975           0.254932   \n",
       "\n",
       "   ...  A_Opp_grounded_balls  A_Opp_fly_balls  A_Opp_line_drives  \\\n",
       "0  ...             13.777778        13.111111           6.827160   \n",
       "1  ...             12.104938        13.851852           6.907407   \n",
       "2  ...             12.598765        13.808642           6.240741   \n",
       "3  ...             11.833333        14.907407           7.006173   \n",
       "4  ...             13.969136        13.481481           7.308642   \n",
       "\n",
       "   A_Opp_unknown_bat_type  A_Opp_game_score  A_Opp_inherited_runners  \\\n",
       "0                0.006173         51.438272                 1.440994   \n",
       "1                0.000000         52.382716                 1.493750   \n",
       "2                0.006173         50.950617                 1.543210   \n",
       "3                0.006173         51.216049                 1.367089   \n",
       "4                0.006173         47.030864                 1.559006   \n",
       "\n",
       "   A_Opp_inherited_score  A_Opp_win_probability_by_pitcher  \\\n",
       "0               0.515528                         -0.040438   \n",
       "1               0.318750                          0.035586   \n",
       "2               0.493827                          0.008802   \n",
       "3               0.360759                          0.009222   \n",
       "4               0.552795                         -0.033364   \n",
       "\n",
       "   A_Opp_base_out_runs_saved  home_win  \n",
       "0                  -0.433333         1  \n",
       "1                   0.180864         1  \n",
       "2                  -0.098765         0  \n",
       "3                   0.217284         0  \n",
       "4                  -0.499383         0  \n",
       "\n",
       "[5 rows x 143 columns]"
      ]
     },
     "execution_count": 25,
     "metadata": {},
     "output_type": "execute_result"
    }
   ],
   "source": [
    "df.head()"
   ]
  },
  {
   "cell_type": "code",
   "execution_count": 151,
   "metadata": {
    "ExecuteTime": {
     "end_time": "2022-01-12T16:07:04.238628Z",
     "start_time": "2022-01-12T16:07:04.218214Z"
    }
   },
   "outputs": [],
   "source": [
    "averaged_odds=pd.read_csv('data/mlb_avg_odds.csv')"
   ]
  },
  {
   "cell_type": "code",
   "execution_count": 152,
   "metadata": {
    "ExecuteTime": {
     "end_time": "2022-01-12T16:07:04.416616Z",
     "start_time": "2022-01-12T16:07:04.404310Z"
    }
   },
   "outputs": [],
   "source": [
    "avg=averaged_odds.iloc[:, 0:2] "
   ]
  },
  {
   "cell_type": "code",
   "execution_count": 153,
   "metadata": {
    "ExecuteTime": {
     "end_time": "2022-01-12T16:07:04.559537Z",
     "start_time": "2022-01-12T16:07:04.553464Z"
    }
   },
   "outputs": [],
   "source": [
    "avg.reset_index(inplace=True)"
   ]
  },
  {
   "cell_type": "code",
   "execution_count": 154,
   "metadata": {
    "ExecuteTime": {
     "end_time": "2022-01-12T16:07:04.695385Z",
     "start_time": "2022-01-12T16:07:04.688467Z"
    }
   },
   "outputs": [],
   "source": [
    "avg.set_index('Team',inplace=True)"
   ]
  },
  {
   "cell_type": "code",
   "execution_count": 155,
   "metadata": {
    "ExecuteTime": {
     "end_time": "2022-01-12T16:07:04.859881Z",
     "start_time": "2022-01-12T16:07:04.846584Z"
    }
   },
   "outputs": [],
   "source": [
    "odds.dropna(inplace=True)"
   ]
  },
  {
   "cell_type": "code",
   "execution_count": 156,
   "metadata": {
    "ExecuteTime": {
     "end_time": "2022-01-12T16:07:05.009748Z",
     "start_time": "2022-01-12T16:07:05.002373Z"
    }
   },
   "outputs": [],
   "source": [
    "avg=avg.drop(index='LAD')"
   ]
  },
  {
   "cell_type": "code",
   "execution_count": 157,
   "metadata": {
    "ExecuteTime": {
     "end_time": "2022-01-12T16:07:05.221036Z",
     "start_time": "2022-01-12T16:07:05.215895Z"
    }
   },
   "outputs": [],
   "source": [
    "avg.reset_index(inplace=True)"
   ]
  },
  {
   "cell_type": "code",
   "execution_count": 158,
   "metadata": {
    "ExecuteTime": {
     "end_time": "2022-01-12T16:07:06.502456Z",
     "start_time": "2022-01-12T16:07:06.488693Z"
    }
   },
   "outputs": [
    {
     "data": {
      "text/plain": [
       "30"
      ]
     },
     "execution_count": 158,
     "metadata": {},
     "output_type": "execute_result"
    }
   ],
   "source": [
    "len(avg.Team.unique())"
   ]
  },
  {
   "cell_type": "code",
   "execution_count": 159,
   "metadata": {
    "ExecuteTime": {
     "end_time": "2022-01-12T16:07:11.151146Z",
     "start_time": "2022-01-12T16:07:11.139886Z"
    }
   },
   "outputs": [],
   "source": [
    "avg_odds=avg.groupby(['Team']).median()"
   ]
  },
  {
   "cell_type": "code",
   "execution_count": 161,
   "metadata": {
    "ExecuteTime": {
     "end_time": "2022-01-12T16:07:39.849275Z",
     "start_time": "2022-01-12T16:07:39.844093Z"
    }
   },
   "outputs": [],
   "source": [
    "avg_odds.drop('index',axis=1,inplace=True)"
   ]
  },
  {
   "cell_type": "code",
   "execution_count": 162,
   "metadata": {
    "ExecuteTime": {
     "end_time": "2022-01-12T16:07:43.652145Z",
     "start_time": "2022-01-12T16:07:43.646202Z"
    }
   },
   "outputs": [],
   "source": [
    "median_odds=avg_odds.rename({'Close':'Median_odds'},axis='columns')"
   ]
  },
  {
   "cell_type": "code",
   "execution_count": 163,
   "metadata": {
    "ExecuteTime": {
     "end_time": "2022-01-12T16:07:44.378560Z",
     "start_time": "2022-01-12T16:07:44.364557Z"
    }
   },
   "outputs": [
    {
     "data": {
      "text/html": [
       "<div>\n",
       "<style scoped>\n",
       "    .dataframe tbody tr th:only-of-type {\n",
       "        vertical-align: middle;\n",
       "    }\n",
       "\n",
       "    .dataframe tbody tr th {\n",
       "        vertical-align: top;\n",
       "    }\n",
       "\n",
       "    .dataframe thead th {\n",
       "        text-align: right;\n",
       "    }\n",
       "</style>\n",
       "<table border=\"1\" class=\"dataframe\">\n",
       "  <thead>\n",
       "    <tr style=\"text-align: right;\">\n",
       "      <th></th>\n",
       "      <th>Median_odds</th>\n",
       "    </tr>\n",
       "    <tr>\n",
       "      <th>Team</th>\n",
       "      <th></th>\n",
       "    </tr>\n",
       "  </thead>\n",
       "  <tbody>\n",
       "    <tr>\n",
       "      <th>ARI</th>\n",
       "      <td>114.0</td>\n",
       "    </tr>\n",
       "    <tr>\n",
       "      <th>ATL</th>\n",
       "      <td>145.0</td>\n",
       "    </tr>\n",
       "    <tr>\n",
       "      <th>BAL</th>\n",
       "      <td>-107.0</td>\n",
       "    </tr>\n",
       "    <tr>\n",
       "      <th>BOS</th>\n",
       "      <td>-130.0</td>\n",
       "    </tr>\n",
       "    <tr>\n",
       "      <th>CIN</th>\n",
       "      <td>131.0</td>\n",
       "    </tr>\n",
       "    <tr>\n",
       "      <th>CLE</th>\n",
       "      <td>-133.0</td>\n",
       "    </tr>\n",
       "    <tr>\n",
       "      <th>COL</th>\n",
       "      <td>111.0</td>\n",
       "    </tr>\n",
       "    <tr>\n",
       "      <th>CUB</th>\n",
       "      <td>-176.0</td>\n",
       "    </tr>\n",
       "    <tr>\n",
       "      <th>CWS</th>\n",
       "      <td>-102.0</td>\n",
       "    </tr>\n",
       "    <tr>\n",
       "      <th>DET</th>\n",
       "      <td>-105.0</td>\n",
       "    </tr>\n",
       "    <tr>\n",
       "      <th>HOU</th>\n",
       "      <td>-124.0</td>\n",
       "    </tr>\n",
       "    <tr>\n",
       "      <th>KAN</th>\n",
       "      <td>109.0</td>\n",
       "    </tr>\n",
       "    <tr>\n",
       "      <th>LAA</th>\n",
       "      <td>110.0</td>\n",
       "    </tr>\n",
       "    <tr>\n",
       "      <th>LOS</th>\n",
       "      <td>-148.0</td>\n",
       "    </tr>\n",
       "    <tr>\n",
       "      <th>MIA</th>\n",
       "      <td>-103.0</td>\n",
       "    </tr>\n",
       "    <tr>\n",
       "      <th>MIL</th>\n",
       "      <td>126.0</td>\n",
       "    </tr>\n",
       "    <tr>\n",
       "      <th>MIN</th>\n",
       "      <td>121.0</td>\n",
       "    </tr>\n",
       "    <tr>\n",
       "      <th>NYM</th>\n",
       "      <td>-123.0</td>\n",
       "    </tr>\n",
       "    <tr>\n",
       "      <th>NYY</th>\n",
       "      <td>-105.0</td>\n",
       "    </tr>\n",
       "    <tr>\n",
       "      <th>OAK</th>\n",
       "      <td>115.0</td>\n",
       "    </tr>\n",
       "    <tr>\n",
       "      <th>PHI</th>\n",
       "      <td>130.0</td>\n",
       "    </tr>\n",
       "    <tr>\n",
       "      <th>PIT</th>\n",
       "      <td>-119.0</td>\n",
       "    </tr>\n",
       "    <tr>\n",
       "      <th>SDG</th>\n",
       "      <td>139.0</td>\n",
       "    </tr>\n",
       "    <tr>\n",
       "      <th>SEA</th>\n",
       "      <td>-116.0</td>\n",
       "    </tr>\n",
       "    <tr>\n",
       "      <th>SFO</th>\n",
       "      <td>-124.0</td>\n",
       "    </tr>\n",
       "    <tr>\n",
       "      <th>STL</th>\n",
       "      <td>-131.0</td>\n",
       "    </tr>\n",
       "    <tr>\n",
       "      <th>TAM</th>\n",
       "      <td>-101.0</td>\n",
       "    </tr>\n",
       "    <tr>\n",
       "      <th>TEX</th>\n",
       "      <td>101.0</td>\n",
       "    </tr>\n",
       "    <tr>\n",
       "      <th>TOR</th>\n",
       "      <td>-141.0</td>\n",
       "    </tr>\n",
       "    <tr>\n",
       "      <th>WAS</th>\n",
       "      <td>-155.0</td>\n",
       "    </tr>\n",
       "  </tbody>\n",
       "</table>\n",
       "</div>"
      ],
      "text/plain": [
       "      Median_odds\n",
       "Team             \n",
       "ARI         114.0\n",
       "ATL         145.0\n",
       "BAL        -107.0\n",
       "BOS        -130.0\n",
       "CIN         131.0\n",
       "CLE        -133.0\n",
       "COL         111.0\n",
       "CUB        -176.0\n",
       "CWS        -102.0\n",
       "DET        -105.0\n",
       "HOU        -124.0\n",
       "KAN         109.0\n",
       "LAA         110.0\n",
       "LOS        -148.0\n",
       "MIA        -103.0\n",
       "MIL         126.0\n",
       "MIN         121.0\n",
       "NYM        -123.0\n",
       "NYY        -105.0\n",
       "OAK         115.0\n",
       "PHI         130.0\n",
       "PIT        -119.0\n",
       "SDG         139.0\n",
       "SEA        -116.0\n",
       "SFO        -124.0\n",
       "STL        -131.0\n",
       "TAM        -101.0\n",
       "TEX         101.0\n",
       "TOR        -141.0\n",
       "WAS        -155.0"
      ]
     },
     "execution_count": 163,
     "metadata": {},
     "output_type": "execute_result"
    }
   ],
   "source": [
    "median_odds"
   ]
  },
  {
   "cell_type": "code",
   "execution_count": 189,
   "metadata": {
    "ExecuteTime": {
     "end_time": "2022-01-12T16:49:02.667110Z",
     "start_time": "2022-01-12T16:49:02.650952Z"
    }
   },
   "outputs": [
    {
     "data": {
      "text/html": [
       "<div>\n",
       "<style scoped>\n",
       "    .dataframe tbody tr th:only-of-type {\n",
       "        vertical-align: middle;\n",
       "    }\n",
       "\n",
       "    .dataframe tbody tr th {\n",
       "        vertical-align: top;\n",
       "    }\n",
       "\n",
       "    .dataframe thead th {\n",
       "        text-align: right;\n",
       "    }\n",
       "</style>\n",
       "<table border=\"1\" class=\"dataframe\">\n",
       "  <thead>\n",
       "    <tr style=\"text-align: right;\">\n",
       "      <th></th>\n",
       "      <th>Median_odds</th>\n",
       "    </tr>\n",
       "    <tr>\n",
       "      <th>Team</th>\n",
       "      <th></th>\n",
       "    </tr>\n",
       "  </thead>\n",
       "  <tbody>\n",
       "    <tr>\n",
       "      <th>ARI</th>\n",
       "      <td>114.0</td>\n",
       "    </tr>\n",
       "    <tr>\n",
       "      <th>ATL</th>\n",
       "      <td>145.0</td>\n",
       "    </tr>\n",
       "    <tr>\n",
       "      <th>BAL</th>\n",
       "      <td>-107.0</td>\n",
       "    </tr>\n",
       "    <tr>\n",
       "      <th>BOS</th>\n",
       "      <td>-130.0</td>\n",
       "    </tr>\n",
       "    <tr>\n",
       "      <th>CIN</th>\n",
       "      <td>131.0</td>\n",
       "    </tr>\n",
       "    <tr>\n",
       "      <th>CLE</th>\n",
       "      <td>-133.0</td>\n",
       "    </tr>\n",
       "    <tr>\n",
       "      <th>COL</th>\n",
       "      <td>111.0</td>\n",
       "    </tr>\n",
       "    <tr>\n",
       "      <th>CUB</th>\n",
       "      <td>-176.0</td>\n",
       "    </tr>\n",
       "    <tr>\n",
       "      <th>CWS</th>\n",
       "      <td>-102.0</td>\n",
       "    </tr>\n",
       "    <tr>\n",
       "      <th>DET</th>\n",
       "      <td>-105.0</td>\n",
       "    </tr>\n",
       "    <tr>\n",
       "      <th>HOU</th>\n",
       "      <td>-124.0</td>\n",
       "    </tr>\n",
       "    <tr>\n",
       "      <th>KAN</th>\n",
       "      <td>109.0</td>\n",
       "    </tr>\n",
       "    <tr>\n",
       "      <th>LAA</th>\n",
       "      <td>110.0</td>\n",
       "    </tr>\n",
       "    <tr>\n",
       "      <th>LOS</th>\n",
       "      <td>-148.0</td>\n",
       "    </tr>\n",
       "    <tr>\n",
       "      <th>MIA</th>\n",
       "      <td>-103.0</td>\n",
       "    </tr>\n",
       "    <tr>\n",
       "      <th>MIL</th>\n",
       "      <td>126.0</td>\n",
       "    </tr>\n",
       "    <tr>\n",
       "      <th>MIN</th>\n",
       "      <td>121.0</td>\n",
       "    </tr>\n",
       "    <tr>\n",
       "      <th>NYM</th>\n",
       "      <td>-123.0</td>\n",
       "    </tr>\n",
       "    <tr>\n",
       "      <th>NYY</th>\n",
       "      <td>-105.0</td>\n",
       "    </tr>\n",
       "    <tr>\n",
       "      <th>OAK</th>\n",
       "      <td>115.0</td>\n",
       "    </tr>\n",
       "    <tr>\n",
       "      <th>PHI</th>\n",
       "      <td>130.0</td>\n",
       "    </tr>\n",
       "    <tr>\n",
       "      <th>PIT</th>\n",
       "      <td>-119.0</td>\n",
       "    </tr>\n",
       "    <tr>\n",
       "      <th>SDG</th>\n",
       "      <td>139.0</td>\n",
       "    </tr>\n",
       "    <tr>\n",
       "      <th>SEA</th>\n",
       "      <td>-116.0</td>\n",
       "    </tr>\n",
       "    <tr>\n",
       "      <th>SFO</th>\n",
       "      <td>-124.0</td>\n",
       "    </tr>\n",
       "    <tr>\n",
       "      <th>STL</th>\n",
       "      <td>-131.0</td>\n",
       "    </tr>\n",
       "    <tr>\n",
       "      <th>TAM</th>\n",
       "      <td>-101.0</td>\n",
       "    </tr>\n",
       "    <tr>\n",
       "      <th>TEX</th>\n",
       "      <td>101.0</td>\n",
       "    </tr>\n",
       "    <tr>\n",
       "      <th>TOR</th>\n",
       "      <td>-141.0</td>\n",
       "    </tr>\n",
       "    <tr>\n",
       "      <th>WAS</th>\n",
       "      <td>-155.0</td>\n",
       "    </tr>\n",
       "  </tbody>\n",
       "</table>\n",
       "</div>"
      ],
      "text/plain": [
       "      Median_odds\n",
       "Team             \n",
       "ARI         114.0\n",
       "ATL         145.0\n",
       "BAL        -107.0\n",
       "BOS        -130.0\n",
       "CIN         131.0\n",
       "CLE        -133.0\n",
       "COL         111.0\n",
       "CUB        -176.0\n",
       "CWS        -102.0\n",
       "DET        -105.0\n",
       "HOU        -124.0\n",
       "KAN         109.0\n",
       "LAA         110.0\n",
       "LOS        -148.0\n",
       "MIA        -103.0\n",
       "MIL         126.0\n",
       "MIN         121.0\n",
       "NYM        -123.0\n",
       "NYY        -105.0\n",
       "OAK         115.0\n",
       "PHI         130.0\n",
       "PIT        -119.0\n",
       "SDG         139.0\n",
       "SEA        -116.0\n",
       "SFO        -124.0\n",
       "STL        -131.0\n",
       "TAM        -101.0\n",
       "TEX         101.0\n",
       "TOR        -141.0\n",
       "WAS        -155.0"
      ]
     },
     "execution_count": 189,
     "metadata": {},
     "output_type": "execute_result"
    }
   ],
   "source": [
    "median_odds.rename({'CUB':'CHC','CWS':'CHW','KAN':'KCR','SDG':'SDP','SFO':'SFG','TAM':'TBR'},axis='columns')"
   ]
  },
  {
   "cell_type": "code",
   "execution_count": 173,
   "metadata": {
    "ExecuteTime": {
     "end_time": "2022-01-12T16:22:06.394277Z",
     "start_time": "2022-01-12T16:22:06.362295Z"
    }
   },
   "outputs": [
    {
     "data": {
      "text/html": [
       "<div>\n",
       "<style scoped>\n",
       "    .dataframe tbody tr th:only-of-type {\n",
       "        vertical-align: middle;\n",
       "    }\n",
       "\n",
       "    .dataframe tbody tr th {\n",
       "        vertical-align: top;\n",
       "    }\n",
       "\n",
       "    .dataframe thead th {\n",
       "        text-align: right;\n",
       "    }\n",
       "</style>\n",
       "<table border=\"1\" class=\"dataframe\">\n",
       "  <thead>\n",
       "    <tr style=\"text-align: right;\">\n",
       "      <th></th>\n",
       "      <th>Median_odds</th>\n",
       "    </tr>\n",
       "    <tr>\n",
       "      <th>Team</th>\n",
       "      <th></th>\n",
       "    </tr>\n",
       "  </thead>\n",
       "  <tbody>\n",
       "    <tr>\n",
       "      <th>ARI</th>\n",
       "      <td>114.0</td>\n",
       "    </tr>\n",
       "    <tr>\n",
       "      <th>ATL</th>\n",
       "      <td>145.0</td>\n",
       "    </tr>\n",
       "    <tr>\n",
       "      <th>BAL</th>\n",
       "      <td>-107.0</td>\n",
       "    </tr>\n",
       "    <tr>\n",
       "      <th>BOS</th>\n",
       "      <td>-130.0</td>\n",
       "    </tr>\n",
       "    <tr>\n",
       "      <th>CIN</th>\n",
       "      <td>131.0</td>\n",
       "    </tr>\n",
       "    <tr>\n",
       "      <th>CLE</th>\n",
       "      <td>-133.0</td>\n",
       "    </tr>\n",
       "    <tr>\n",
       "      <th>COL</th>\n",
       "      <td>111.0</td>\n",
       "    </tr>\n",
       "    <tr>\n",
       "      <th>CUB</th>\n",
       "      <td>-176.0</td>\n",
       "    </tr>\n",
       "    <tr>\n",
       "      <th>CWS</th>\n",
       "      <td>-102.0</td>\n",
       "    </tr>\n",
       "    <tr>\n",
       "      <th>DET</th>\n",
       "      <td>-105.0</td>\n",
       "    </tr>\n",
       "    <tr>\n",
       "      <th>HOU</th>\n",
       "      <td>-124.0</td>\n",
       "    </tr>\n",
       "    <tr>\n",
       "      <th>KAN</th>\n",
       "      <td>109.0</td>\n",
       "    </tr>\n",
       "    <tr>\n",
       "      <th>LAA</th>\n",
       "      <td>110.0</td>\n",
       "    </tr>\n",
       "    <tr>\n",
       "      <th>LOS</th>\n",
       "      <td>-148.0</td>\n",
       "    </tr>\n",
       "    <tr>\n",
       "      <th>MIA</th>\n",
       "      <td>-103.0</td>\n",
       "    </tr>\n",
       "    <tr>\n",
       "      <th>MIL</th>\n",
       "      <td>126.0</td>\n",
       "    </tr>\n",
       "    <tr>\n",
       "      <th>MIN</th>\n",
       "      <td>121.0</td>\n",
       "    </tr>\n",
       "    <tr>\n",
       "      <th>NYM</th>\n",
       "      <td>-123.0</td>\n",
       "    </tr>\n",
       "    <tr>\n",
       "      <th>NYY</th>\n",
       "      <td>-105.0</td>\n",
       "    </tr>\n",
       "    <tr>\n",
       "      <th>OAK</th>\n",
       "      <td>115.0</td>\n",
       "    </tr>\n",
       "    <tr>\n",
       "      <th>PHI</th>\n",
       "      <td>130.0</td>\n",
       "    </tr>\n",
       "    <tr>\n",
       "      <th>PIT</th>\n",
       "      <td>-119.0</td>\n",
       "    </tr>\n",
       "    <tr>\n",
       "      <th>SDG</th>\n",
       "      <td>139.0</td>\n",
       "    </tr>\n",
       "    <tr>\n",
       "      <th>SEA</th>\n",
       "      <td>-116.0</td>\n",
       "    </tr>\n",
       "    <tr>\n",
       "      <th>SFO</th>\n",
       "      <td>-124.0</td>\n",
       "    </tr>\n",
       "    <tr>\n",
       "      <th>STL</th>\n",
       "      <td>-131.0</td>\n",
       "    </tr>\n",
       "    <tr>\n",
       "      <th>TAM</th>\n",
       "      <td>-101.0</td>\n",
       "    </tr>\n",
       "    <tr>\n",
       "      <th>TEX</th>\n",
       "      <td>101.0</td>\n",
       "    </tr>\n",
       "    <tr>\n",
       "      <th>TOR</th>\n",
       "      <td>-141.0</td>\n",
       "    </tr>\n",
       "    <tr>\n",
       "      <th>WAS</th>\n",
       "      <td>-155.0</td>\n",
       "    </tr>\n",
       "  </tbody>\n",
       "</table>\n",
       "</div>"
      ],
      "text/plain": [
       "      Median_odds\n",
       "Team             \n",
       "ARI         114.0\n",
       "ATL         145.0\n",
       "BAL        -107.0\n",
       "BOS        -130.0\n",
       "CIN         131.0\n",
       "CLE        -133.0\n",
       "COL         111.0\n",
       "CUB        -176.0\n",
       "CWS        -102.0\n",
       "DET        -105.0\n",
       "HOU        -124.0\n",
       "KAN         109.0\n",
       "LAA         110.0\n",
       "LOS        -148.0\n",
       "MIA        -103.0\n",
       "MIL         126.0\n",
       "MIN         121.0\n",
       "NYM        -123.0\n",
       "NYY        -105.0\n",
       "OAK         115.0\n",
       "PHI         130.0\n",
       "PIT        -119.0\n",
       "SDG         139.0\n",
       "SEA        -116.0\n",
       "SFO        -124.0\n",
       "STL        -131.0\n",
       "TAM        -101.0\n",
       "TEX         101.0\n",
       "TOR        -141.0\n",
       "WAS        -155.0"
      ]
     },
     "execution_count": 173,
     "metadata": {},
     "output_type": "execute_result"
    }
   ],
   "source": [
    "median_odds"
   ]
  },
  {
   "cell_type": "code",
   "execution_count": 174,
   "metadata": {
    "ExecuteTime": {
     "end_time": "2022-01-12T16:22:11.291898Z",
     "start_time": "2022-01-12T16:22:11.235999Z"
    }
   },
   "outputs": [],
   "source": [
    "median_odds.to_csv('data/MLB__median_odds_2016.csv')"
   ]
  },
  {
   "cell_type": "code",
   "execution_count": 165,
   "metadata": {
    "ExecuteTime": {
     "end_time": "2022-01-12T16:08:25.090599Z",
     "start_time": "2022-01-12T16:08:25.055647Z"
    }
   },
   "outputs": [
    {
     "data": {
      "text/html": [
       "<div>\n",
       "<style scoped>\n",
       "    .dataframe tbody tr th:only-of-type {\n",
       "        vertical-align: middle;\n",
       "    }\n",
       "\n",
       "    .dataframe tbody tr th {\n",
       "        vertical-align: top;\n",
       "    }\n",
       "\n",
       "    .dataframe thead th {\n",
       "        text-align: right;\n",
       "    }\n",
       "</style>\n",
       "<table border=\"1\" class=\"dataframe\">\n",
       "  <thead>\n",
       "    <tr style=\"text-align: right;\">\n",
       "      <th></th>\n",
       "      <th>H_name</th>\n",
       "      <th>H_at_bats</th>\n",
       "      <th>H_runs</th>\n",
       "      <th>H_hits</th>\n",
       "      <th>H_rbi</th>\n",
       "      <th>H_earned_runs</th>\n",
       "      <th>H_bases_on_balls</th>\n",
       "      <th>H_strikeouts</th>\n",
       "      <th>H_plate_appearances</th>\n",
       "      <th>H_batting_average</th>\n",
       "      <th>...</th>\n",
       "      <th>A_Opp_grounded_balls</th>\n",
       "      <th>A_Opp_fly_balls</th>\n",
       "      <th>A_Opp_line_drives</th>\n",
       "      <th>A_Opp_unknown_bat_type</th>\n",
       "      <th>A_Opp_game_score</th>\n",
       "      <th>A_Opp_inherited_runners</th>\n",
       "      <th>A_Opp_inherited_score</th>\n",
       "      <th>A_Opp_win_probability_by_pitcher</th>\n",
       "      <th>A_Opp_base_out_runs_saved</th>\n",
       "      <th>home_win</th>\n",
       "    </tr>\n",
       "  </thead>\n",
       "  <tbody>\n",
       "    <tr>\n",
       "      <th>0</th>\n",
       "      <td>PIT</td>\n",
       "      <td>34.209877</td>\n",
       "      <td>4.500000</td>\n",
       "      <td>8.802469</td>\n",
       "      <td>4.296296</td>\n",
       "      <td>4.191914</td>\n",
       "      <td>3.462963</td>\n",
       "      <td>8.234568</td>\n",
       "      <td>38.648148</td>\n",
       "      <td>0.252074</td>\n",
       "      <td>...</td>\n",
       "      <td>13.777778</td>\n",
       "      <td>13.111111</td>\n",
       "      <td>6.827160</td>\n",
       "      <td>0.006173</td>\n",
       "      <td>51.438272</td>\n",
       "      <td>1.440994</td>\n",
       "      <td>0.515528</td>\n",
       "      <td>-0.040438</td>\n",
       "      <td>-0.433333</td>\n",
       "      <td>1</td>\n",
       "    </tr>\n",
       "    <tr>\n",
       "      <th>1</th>\n",
       "      <td>KCR</td>\n",
       "      <td>34.271605</td>\n",
       "      <td>4.166667</td>\n",
       "      <td>8.950617</td>\n",
       "      <td>3.950617</td>\n",
       "      <td>3.969568</td>\n",
       "      <td>2.358025</td>\n",
       "      <td>7.555556</td>\n",
       "      <td>37.358025</td>\n",
       "      <td>0.256889</td>\n",
       "      <td>...</td>\n",
       "      <td>12.104938</td>\n",
       "      <td>13.851852</td>\n",
       "      <td>6.907407</td>\n",
       "      <td>0.000000</td>\n",
       "      <td>52.382716</td>\n",
       "      <td>1.493750</td>\n",
       "      <td>0.318750</td>\n",
       "      <td>0.035586</td>\n",
       "      <td>0.180864</td>\n",
       "      <td>1</td>\n",
       "    </tr>\n",
       "    <tr>\n",
       "      <th>2</th>\n",
       "      <td>TBR</td>\n",
       "      <td>33.833333</td>\n",
       "      <td>4.148148</td>\n",
       "      <td>8.228395</td>\n",
       "      <td>3.993827</td>\n",
       "      <td>4.000864</td>\n",
       "      <td>2.771605</td>\n",
       "      <td>9.148148</td>\n",
       "      <td>37.320988</td>\n",
       "      <td>0.237667</td>\n",
       "      <td>...</td>\n",
       "      <td>12.598765</td>\n",
       "      <td>13.808642</td>\n",
       "      <td>6.240741</td>\n",
       "      <td>0.006173</td>\n",
       "      <td>50.950617</td>\n",
       "      <td>1.543210</td>\n",
       "      <td>0.493827</td>\n",
       "      <td>0.008802</td>\n",
       "      <td>-0.098765</td>\n",
       "      <td>0</td>\n",
       "    </tr>\n",
       "    <tr>\n",
       "      <th>3</th>\n",
       "      <td>OAK</td>\n",
       "      <td>33.950617</td>\n",
       "      <td>4.030864</td>\n",
       "      <td>8.345679</td>\n",
       "      <td>3.913580</td>\n",
       "      <td>3.778580</td>\n",
       "      <td>2.728395</td>\n",
       "      <td>7.067901</td>\n",
       "      <td>37.172840</td>\n",
       "      <td>0.239728</td>\n",
       "      <td>...</td>\n",
       "      <td>11.833333</td>\n",
       "      <td>14.907407</td>\n",
       "      <td>7.006173</td>\n",
       "      <td>0.006173</td>\n",
       "      <td>51.216049</td>\n",
       "      <td>1.367089</td>\n",
       "      <td>0.360759</td>\n",
       "      <td>0.009222</td>\n",
       "      <td>0.217284</td>\n",
       "      <td>0</td>\n",
       "    </tr>\n",
       "    <tr>\n",
       "      <th>4</th>\n",
       "      <td>ARI</td>\n",
       "      <td>34.969136</td>\n",
       "      <td>4.641975</td>\n",
       "      <td>9.129630</td>\n",
       "      <td>4.376543</td>\n",
       "      <td>4.270370</td>\n",
       "      <td>2.858025</td>\n",
       "      <td>8.808642</td>\n",
       "      <td>38.641975</td>\n",
       "      <td>0.254932</td>\n",
       "      <td>...</td>\n",
       "      <td>13.969136</td>\n",
       "      <td>13.481481</td>\n",
       "      <td>7.308642</td>\n",
       "      <td>0.006173</td>\n",
       "      <td>47.030864</td>\n",
       "      <td>1.559006</td>\n",
       "      <td>0.552795</td>\n",
       "      <td>-0.033364</td>\n",
       "      <td>-0.499383</td>\n",
       "      <td>0</td>\n",
       "    </tr>\n",
       "  </tbody>\n",
       "</table>\n",
       "<p>5 rows × 143 columns</p>\n",
       "</div>"
      ],
      "text/plain": [
       "  H_name  H_at_bats    H_runs    H_hits     H_rbi  H_earned_runs  \\\n",
       "0    PIT  34.209877  4.500000  8.802469  4.296296       4.191914   \n",
       "1    KCR  34.271605  4.166667  8.950617  3.950617       3.969568   \n",
       "2    TBR  33.833333  4.148148  8.228395  3.993827       4.000864   \n",
       "3    OAK  33.950617  4.030864  8.345679  3.913580       3.778580   \n",
       "4    ARI  34.969136  4.641975  9.129630  4.376543       4.270370   \n",
       "\n",
       "   H_bases_on_balls  H_strikeouts  H_plate_appearances  H_batting_average  \\\n",
       "0          3.462963      8.234568            38.648148           0.252074   \n",
       "1          2.358025      7.555556            37.358025           0.256889   \n",
       "2          2.771605      9.148148            37.320988           0.237667   \n",
       "3          2.728395      7.067901            37.172840           0.239728   \n",
       "4          2.858025      8.808642            38.641975           0.254932   \n",
       "\n",
       "   ...  A_Opp_grounded_balls  A_Opp_fly_balls  A_Opp_line_drives  \\\n",
       "0  ...             13.777778        13.111111           6.827160   \n",
       "1  ...             12.104938        13.851852           6.907407   \n",
       "2  ...             12.598765        13.808642           6.240741   \n",
       "3  ...             11.833333        14.907407           7.006173   \n",
       "4  ...             13.969136        13.481481           7.308642   \n",
       "\n",
       "   A_Opp_unknown_bat_type  A_Opp_game_score  A_Opp_inherited_runners  \\\n",
       "0                0.006173         51.438272                 1.440994   \n",
       "1                0.000000         52.382716                 1.493750   \n",
       "2                0.006173         50.950617                 1.543210   \n",
       "3                0.006173         51.216049                 1.367089   \n",
       "4                0.006173         47.030864                 1.559006   \n",
       "\n",
       "   A_Opp_inherited_score  A_Opp_win_probability_by_pitcher  \\\n",
       "0               0.515528                         -0.040438   \n",
       "1               0.318750                          0.035586   \n",
       "2               0.493827                          0.008802   \n",
       "3               0.360759                          0.009222   \n",
       "4               0.552795                         -0.033364   \n",
       "\n",
       "   A_Opp_base_out_runs_saved  home_win  \n",
       "0                  -0.433333         1  \n",
       "1                   0.180864         1  \n",
       "2                  -0.098765         0  \n",
       "3                   0.217284         0  \n",
       "4                  -0.499383         0  \n",
       "\n",
       "[5 rows x 143 columns]"
      ]
     },
     "execution_count": 165,
     "metadata": {},
     "output_type": "execute_result"
    }
   ],
   "source": [
    "df.head()"
   ]
  },
  {
   "cell_type": "code",
   "execution_count": 167,
   "metadata": {
    "ExecuteTime": {
     "end_time": "2022-01-12T16:09:24.217051Z",
     "start_time": "2022-01-12T16:09:24.206769Z"
    }
   },
   "outputs": [],
   "source": [
    "loop_list=list(df.H_name.unique())"
   ]
  },
  {
   "cell_type": "code",
   "execution_count": 168,
   "metadata": {
    "ExecuteTime": {
     "end_time": "2022-01-12T16:09:27.647945Z",
     "start_time": "2022-01-12T16:09:27.641629Z"
    }
   },
   "outputs": [
    {
     "data": {
      "text/plain": [
       "['PIT',\n",
       " 'KCR',\n",
       " 'TBR',\n",
       " 'OAK',\n",
       " 'ARI',\n",
       " 'SDP',\n",
       " 'ATL',\n",
       " 'MIL',\n",
       " 'LAA',\n",
       " 'CIN',\n",
       " 'BAL',\n",
       " 'TEX',\n",
       " 'MIA',\n",
       " 'CLE',\n",
       " 'NYY',\n",
       " 'WSN',\n",
       " 'SFG',\n",
       " 'DET',\n",
       " 'NYM',\n",
       " 'CHW',\n",
       " 'COL',\n",
       " 'TOR',\n",
       " 'SEA',\n",
       " 'BOS',\n",
       " 'MIN',\n",
       " 'PHI',\n",
       " 'HOU',\n",
       " 'STL',\n",
       " 'CHC',\n",
       " 'LAD']"
      ]
     },
     "execution_count": 168,
     "metadata": {},
     "output_type": "execute_result"
    }
   ],
   "source": [
    "for name in loop_list:\n",
    "    np.where(df.H_name=name, df.H_win_probability_subtracted=)"
   ]
  },
  {
   "cell_type": "code",
   "execution_count": 183,
   "metadata": {
    "ExecuteTime": {
     "end_time": "2022-01-12T16:44:21.470309Z",
     "start_time": "2022-01-12T16:44:21.454407Z"
    }
   },
   "outputs": [
    {
     "data": {
      "text/plain": [
       "114.0"
      ]
     },
     "execution_count": 183,
     "metadata": {},
     "output_type": "execute_result"
    }
   ],
   "source": [
    "median_odds.loc['ARI','Median_odds']"
   ]
  },
  {
   "cell_type": "code",
   "execution_count": 195,
   "metadata": {
    "ExecuteTime": {
     "end_time": "2022-01-12T16:52:13.806645Z",
     "start_time": "2022-01-12T16:52:13.793965Z"
    }
   },
   "outputs": [],
   "source": [
    "med_odds=median_odds.rename({'LOS':'LAD','CUB':'CHC','CWS':'CHW','KAN':'KCR','SDG':'SDP','SFO':'SFG','TAM':'TBR'})"
   ]
  },
  {
   "cell_type": "code",
   "execution_count": 196,
   "metadata": {
    "ExecuteTime": {
     "end_time": "2022-01-12T16:52:17.743586Z",
     "start_time": "2022-01-12T16:52:17.733721Z"
    }
   },
   "outputs": [
    {
     "data": {
      "text/plain": [
       "-148.0"
      ]
     },
     "execution_count": 196,
     "metadata": {},
     "output_type": "execute_result"
    }
   ],
   "source": [
    "med_odds.loc['LAD','Median_odds']"
   ]
  },
  {
   "cell_type": "code",
   "execution_count": null,
   "metadata": {},
   "outputs": [],
   "source": []
  }
 ],
 "metadata": {
  "kernelspec": {
   "display_name": "Python (learn-env)",
   "language": "python",
   "name": "learn-env"
  },
  "language_info": {
   "codemirror_mode": {
    "name": "ipython",
    "version": 3
   },
   "file_extension": ".py",
   "mimetype": "text/x-python",
   "name": "python",
   "nbconvert_exporter": "python",
   "pygments_lexer": "ipython3",
   "version": "3.8.5"
  }
 },
 "nbformat": 4,
 "nbformat_minor": 4
}

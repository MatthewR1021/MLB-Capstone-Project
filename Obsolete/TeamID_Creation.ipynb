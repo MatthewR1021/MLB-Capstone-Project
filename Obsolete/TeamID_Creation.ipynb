{
 "cells": [
  {
   "cell_type": "code",
   "execution_count": 1,
   "metadata": {
    "ExecuteTime": {
     "end_time": "2022-01-11T18:08:37.158925Z",
     "start_time": "2022-01-11T18:08:36.064636Z"
    }
   },
   "outputs": [],
   "source": [
    "import pandas as pd"
   ]
  },
  {
   "cell_type": "code",
   "execution_count": 4,
   "metadata": {
    "ExecuteTime": {
     "end_time": "2022-01-11T18:09:08.591598Z",
     "start_time": "2022-01-11T18:09:08.485789Z"
    }
   },
   "outputs": [],
   "source": [
    "df=pd.read_csv('data/Season_2016.csv').drop(['Unnamed: 0'],axis=1)"
   ]
  },
  {
   "cell_type": "code",
   "execution_count": 6,
   "metadata": {
    "ExecuteTime": {
     "end_time": "2022-01-11T18:10:01.183797Z",
     "start_time": "2022-01-11T18:10:01.137410Z"
    }
   },
   "outputs": [
    {
     "data": {
      "text/html": [
       "<div>\n",
       "<style scoped>\n",
       "    .dataframe tbody tr th:only-of-type {\n",
       "        vertical-align: middle;\n",
       "    }\n",
       "\n",
       "    .dataframe tbody tr th {\n",
       "        vertical-align: top;\n",
       "    }\n",
       "\n",
       "    .dataframe thead th {\n",
       "        text-align: right;\n",
       "    }\n",
       "</style>\n",
       "<table border=\"1\" class=\"dataframe\">\n",
       "  <thead>\n",
       "    <tr style=\"text-align: right;\">\n",
       "      <th></th>\n",
       "      <th>H_name</th>\n",
       "      <th>H_at_bats</th>\n",
       "      <th>H_runs</th>\n",
       "      <th>H_hits</th>\n",
       "      <th>H_rbi</th>\n",
       "      <th>H_earned_runs</th>\n",
       "      <th>H_bases_on_balls</th>\n",
       "      <th>H_strikeouts</th>\n",
       "      <th>H_plate_appearances</th>\n",
       "      <th>H_batting_average</th>\n",
       "      <th>...</th>\n",
       "      <th>A_Opp_grounded_balls</th>\n",
       "      <th>A_Opp_fly_balls</th>\n",
       "      <th>A_Opp_line_drives</th>\n",
       "      <th>A_Opp_unknown_bat_type</th>\n",
       "      <th>A_Opp_game_score</th>\n",
       "      <th>A_Opp_inherited_runners</th>\n",
       "      <th>A_Opp_inherited_score</th>\n",
       "      <th>A_Opp_win_probability_by_pitcher</th>\n",
       "      <th>A_Opp_base_out_runs_saved</th>\n",
       "      <th>home_win</th>\n",
       "    </tr>\n",
       "  </thead>\n",
       "  <tbody>\n",
       "    <tr>\n",
       "      <th>0</th>\n",
       "      <td>PIT</td>\n",
       "      <td>34.209877</td>\n",
       "      <td>4.500000</td>\n",
       "      <td>8.802469</td>\n",
       "      <td>4.296296</td>\n",
       "      <td>4.191914</td>\n",
       "      <td>3.462963</td>\n",
       "      <td>8.234568</td>\n",
       "      <td>38.648148</td>\n",
       "      <td>0.252074</td>\n",
       "      <td>...</td>\n",
       "      <td>13.777778</td>\n",
       "      <td>13.111111</td>\n",
       "      <td>6.827160</td>\n",
       "      <td>0.006173</td>\n",
       "      <td>51.438272</td>\n",
       "      <td>1.440994</td>\n",
       "      <td>0.515528</td>\n",
       "      <td>-0.040438</td>\n",
       "      <td>-0.433333</td>\n",
       "      <td>1</td>\n",
       "    </tr>\n",
       "    <tr>\n",
       "      <th>1</th>\n",
       "      <td>KCR</td>\n",
       "      <td>34.271605</td>\n",
       "      <td>4.166667</td>\n",
       "      <td>8.950617</td>\n",
       "      <td>3.950617</td>\n",
       "      <td>3.969568</td>\n",
       "      <td>2.358025</td>\n",
       "      <td>7.555556</td>\n",
       "      <td>37.358025</td>\n",
       "      <td>0.256889</td>\n",
       "      <td>...</td>\n",
       "      <td>12.104938</td>\n",
       "      <td>13.851852</td>\n",
       "      <td>6.907407</td>\n",
       "      <td>0.000000</td>\n",
       "      <td>52.382716</td>\n",
       "      <td>1.493750</td>\n",
       "      <td>0.318750</td>\n",
       "      <td>0.035586</td>\n",
       "      <td>0.180864</td>\n",
       "      <td>1</td>\n",
       "    </tr>\n",
       "    <tr>\n",
       "      <th>2</th>\n",
       "      <td>TBR</td>\n",
       "      <td>33.833333</td>\n",
       "      <td>4.148148</td>\n",
       "      <td>8.228395</td>\n",
       "      <td>3.993827</td>\n",
       "      <td>4.000864</td>\n",
       "      <td>2.771605</td>\n",
       "      <td>9.148148</td>\n",
       "      <td>37.320988</td>\n",
       "      <td>0.237667</td>\n",
       "      <td>...</td>\n",
       "      <td>12.598765</td>\n",
       "      <td>13.808642</td>\n",
       "      <td>6.240741</td>\n",
       "      <td>0.006173</td>\n",
       "      <td>50.950617</td>\n",
       "      <td>1.543210</td>\n",
       "      <td>0.493827</td>\n",
       "      <td>0.008802</td>\n",
       "      <td>-0.098765</td>\n",
       "      <td>0</td>\n",
       "    </tr>\n",
       "    <tr>\n",
       "      <th>3</th>\n",
       "      <td>OAK</td>\n",
       "      <td>33.950617</td>\n",
       "      <td>4.030864</td>\n",
       "      <td>8.345679</td>\n",
       "      <td>3.913580</td>\n",
       "      <td>3.778580</td>\n",
       "      <td>2.728395</td>\n",
       "      <td>7.067901</td>\n",
       "      <td>37.172840</td>\n",
       "      <td>0.239728</td>\n",
       "      <td>...</td>\n",
       "      <td>11.833333</td>\n",
       "      <td>14.907407</td>\n",
       "      <td>7.006173</td>\n",
       "      <td>0.006173</td>\n",
       "      <td>51.216049</td>\n",
       "      <td>1.367089</td>\n",
       "      <td>0.360759</td>\n",
       "      <td>0.009222</td>\n",
       "      <td>0.217284</td>\n",
       "      <td>0</td>\n",
       "    </tr>\n",
       "    <tr>\n",
       "      <th>4</th>\n",
       "      <td>ARI</td>\n",
       "      <td>34.969136</td>\n",
       "      <td>4.641975</td>\n",
       "      <td>9.129630</td>\n",
       "      <td>4.376543</td>\n",
       "      <td>4.270370</td>\n",
       "      <td>2.858025</td>\n",
       "      <td>8.808642</td>\n",
       "      <td>38.641975</td>\n",
       "      <td>0.254932</td>\n",
       "      <td>...</td>\n",
       "      <td>13.969136</td>\n",
       "      <td>13.481481</td>\n",
       "      <td>7.308642</td>\n",
       "      <td>0.006173</td>\n",
       "      <td>47.030864</td>\n",
       "      <td>1.559006</td>\n",
       "      <td>0.552795</td>\n",
       "      <td>-0.033364</td>\n",
       "      <td>-0.499383</td>\n",
       "      <td>0</td>\n",
       "    </tr>\n",
       "    <tr>\n",
       "      <th>...</th>\n",
       "      <td>...</td>\n",
       "      <td>...</td>\n",
       "      <td>...</td>\n",
       "      <td>...</td>\n",
       "      <td>...</td>\n",
       "      <td>...</td>\n",
       "      <td>...</td>\n",
       "      <td>...</td>\n",
       "      <td>...</td>\n",
       "      <td>...</td>\n",
       "      <td>...</td>\n",
       "      <td>...</td>\n",
       "      <td>...</td>\n",
       "      <td>...</td>\n",
       "      <td>...</td>\n",
       "      <td>...</td>\n",
       "      <td>...</td>\n",
       "      <td>...</td>\n",
       "      <td>...</td>\n",
       "      <td>...</td>\n",
       "      <td>...</td>\n",
       "    </tr>\n",
       "    <tr>\n",
       "      <th>2423</th>\n",
       "      <td>SFG</td>\n",
       "      <td>34.351852</td>\n",
       "      <td>4.413580</td>\n",
       "      <td>8.870370</td>\n",
       "      <td>4.166667</td>\n",
       "      <td>4.148086</td>\n",
       "      <td>3.530864</td>\n",
       "      <td>6.833333</td>\n",
       "      <td>38.709877</td>\n",
       "      <td>0.250889</td>\n",
       "      <td>...</td>\n",
       "      <td>10.956790</td>\n",
       "      <td>13.672840</td>\n",
       "      <td>6.462963</td>\n",
       "      <td>0.000000</td>\n",
       "      <td>50.617284</td>\n",
       "      <td>1.465409</td>\n",
       "      <td>0.496855</td>\n",
       "      <td>-0.009241</td>\n",
       "      <td>-0.120370</td>\n",
       "      <td>1</td>\n",
       "    </tr>\n",
       "    <tr>\n",
       "      <th>2424</th>\n",
       "      <td>WSN</td>\n",
       "      <td>33.888889</td>\n",
       "      <td>4.709877</td>\n",
       "      <td>8.660494</td>\n",
       "      <td>4.537037</td>\n",
       "      <td>4.564630</td>\n",
       "      <td>3.308642</td>\n",
       "      <td>7.728395</td>\n",
       "      <td>38.277778</td>\n",
       "      <td>0.250728</td>\n",
       "      <td>...</td>\n",
       "      <td>11.590062</td>\n",
       "      <td>14.068323</td>\n",
       "      <td>7.124224</td>\n",
       "      <td>0.000000</td>\n",
       "      <td>50.204969</td>\n",
       "      <td>1.685897</td>\n",
       "      <td>0.474359</td>\n",
       "      <td>0.009037</td>\n",
       "      <td>0.202484</td>\n",
       "      <td>1</td>\n",
       "    </tr>\n",
       "    <tr>\n",
       "      <th>2425</th>\n",
       "      <td>ARI</td>\n",
       "      <td>34.969136</td>\n",
       "      <td>4.641975</td>\n",
       "      <td>9.129630</td>\n",
       "      <td>4.376543</td>\n",
       "      <td>4.270370</td>\n",
       "      <td>2.858025</td>\n",
       "      <td>8.808642</td>\n",
       "      <td>38.641975</td>\n",
       "      <td>0.254932</td>\n",
       "      <td>...</td>\n",
       "      <td>13.037037</td>\n",
       "      <td>14.024691</td>\n",
       "      <td>6.771605</td>\n",
       "      <td>0.000000</td>\n",
       "      <td>54.586420</td>\n",
       "      <td>1.341935</td>\n",
       "      <td>0.367742</td>\n",
       "      <td>0.052636</td>\n",
       "      <td>0.115432</td>\n",
       "      <td>1</td>\n",
       "    </tr>\n",
       "    <tr>\n",
       "      <th>2426</th>\n",
       "      <td>SEA</td>\n",
       "      <td>34.462963</td>\n",
       "      <td>4.740741</td>\n",
       "      <td>8.925926</td>\n",
       "      <td>4.537037</td>\n",
       "      <td>4.618457</td>\n",
       "      <td>3.123457</td>\n",
       "      <td>7.950617</td>\n",
       "      <td>38.438272</td>\n",
       "      <td>0.252698</td>\n",
       "      <td>...</td>\n",
       "      <td>13.012346</td>\n",
       "      <td>14.413580</td>\n",
       "      <td>7.037037</td>\n",
       "      <td>0.006173</td>\n",
       "      <td>52.487654</td>\n",
       "      <td>1.253165</td>\n",
       "      <td>0.443038</td>\n",
       "      <td>0.035278</td>\n",
       "      <td>0.387037</td>\n",
       "      <td>0</td>\n",
       "    </tr>\n",
       "    <tr>\n",
       "      <th>2427</th>\n",
       "      <td>KCR</td>\n",
       "      <td>34.271605</td>\n",
       "      <td>4.166667</td>\n",
       "      <td>8.950617</td>\n",
       "      <td>3.950617</td>\n",
       "      <td>3.969568</td>\n",
       "      <td>2.358025</td>\n",
       "      <td>7.555556</td>\n",
       "      <td>37.358025</td>\n",
       "      <td>0.256889</td>\n",
       "      <td>...</td>\n",
       "      <td>12.310559</td>\n",
       "      <td>13.403727</td>\n",
       "      <td>6.906832</td>\n",
       "      <td>0.006211</td>\n",
       "      <td>48.397516</td>\n",
       "      <td>1.409938</td>\n",
       "      <td>0.372671</td>\n",
       "      <td>-0.014391</td>\n",
       "      <td>-0.160248</td>\n",
       "      <td>0</td>\n",
       "    </tr>\n",
       "  </tbody>\n",
       "</table>\n",
       "<p>2428 rows × 143 columns</p>\n",
       "</div>"
      ],
      "text/plain": [
       "     H_name  H_at_bats    H_runs    H_hits     H_rbi  H_earned_runs  \\\n",
       "0       PIT  34.209877  4.500000  8.802469  4.296296       4.191914   \n",
       "1       KCR  34.271605  4.166667  8.950617  3.950617       3.969568   \n",
       "2       TBR  33.833333  4.148148  8.228395  3.993827       4.000864   \n",
       "3       OAK  33.950617  4.030864  8.345679  3.913580       3.778580   \n",
       "4       ARI  34.969136  4.641975  9.129630  4.376543       4.270370   \n",
       "...     ...        ...       ...       ...       ...            ...   \n",
       "2423    SFG  34.351852  4.413580  8.870370  4.166667       4.148086   \n",
       "2424    WSN  33.888889  4.709877  8.660494  4.537037       4.564630   \n",
       "2425    ARI  34.969136  4.641975  9.129630  4.376543       4.270370   \n",
       "2426    SEA  34.462963  4.740741  8.925926  4.537037       4.618457   \n",
       "2427    KCR  34.271605  4.166667  8.950617  3.950617       3.969568   \n",
       "\n",
       "      H_bases_on_balls  H_strikeouts  H_plate_appearances  H_batting_average  \\\n",
       "0             3.462963      8.234568            38.648148           0.252074   \n",
       "1             2.358025      7.555556            37.358025           0.256889   \n",
       "2             2.771605      9.148148            37.320988           0.237667   \n",
       "3             2.728395      7.067901            37.172840           0.239728   \n",
       "4             2.858025      8.808642            38.641975           0.254932   \n",
       "...                ...           ...                  ...                ...   \n",
       "2423          3.530864      6.833333            38.709877           0.250889   \n",
       "2424          3.308642      7.728395            38.277778           0.250728   \n",
       "2425          2.858025      8.808642            38.641975           0.254932   \n",
       "2426          3.123457      7.950617            38.438272           0.252698   \n",
       "2427          2.358025      7.555556            37.358025           0.256889   \n",
       "\n",
       "      ...  A_Opp_grounded_balls  A_Opp_fly_balls  A_Opp_line_drives  \\\n",
       "0     ...             13.777778        13.111111           6.827160   \n",
       "1     ...             12.104938        13.851852           6.907407   \n",
       "2     ...             12.598765        13.808642           6.240741   \n",
       "3     ...             11.833333        14.907407           7.006173   \n",
       "4     ...             13.969136        13.481481           7.308642   \n",
       "...   ...                   ...              ...                ...   \n",
       "2423  ...             10.956790        13.672840           6.462963   \n",
       "2424  ...             11.590062        14.068323           7.124224   \n",
       "2425  ...             13.037037        14.024691           6.771605   \n",
       "2426  ...             13.012346        14.413580           7.037037   \n",
       "2427  ...             12.310559        13.403727           6.906832   \n",
       "\n",
       "      A_Opp_unknown_bat_type  A_Opp_game_score  A_Opp_inherited_runners  \\\n",
       "0                   0.006173         51.438272                 1.440994   \n",
       "1                   0.000000         52.382716                 1.493750   \n",
       "2                   0.006173         50.950617                 1.543210   \n",
       "3                   0.006173         51.216049                 1.367089   \n",
       "4                   0.006173         47.030864                 1.559006   \n",
       "...                      ...               ...                      ...   \n",
       "2423                0.000000         50.617284                 1.465409   \n",
       "2424                0.000000         50.204969                 1.685897   \n",
       "2425                0.000000         54.586420                 1.341935   \n",
       "2426                0.006173         52.487654                 1.253165   \n",
       "2427                0.006211         48.397516                 1.409938   \n",
       "\n",
       "      A_Opp_inherited_score  A_Opp_win_probability_by_pitcher  \\\n",
       "0                  0.515528                         -0.040438   \n",
       "1                  0.318750                          0.035586   \n",
       "2                  0.493827                          0.008802   \n",
       "3                  0.360759                          0.009222   \n",
       "4                  0.552795                         -0.033364   \n",
       "...                     ...                               ...   \n",
       "2423               0.496855                         -0.009241   \n",
       "2424               0.474359                          0.009037   \n",
       "2425               0.367742                          0.052636   \n",
       "2426               0.443038                          0.035278   \n",
       "2427               0.372671                         -0.014391   \n",
       "\n",
       "      A_Opp_base_out_runs_saved  home_win  \n",
       "0                     -0.433333         1  \n",
       "1                      0.180864         1  \n",
       "2                     -0.098765         0  \n",
       "3                      0.217284         0  \n",
       "4                     -0.499383         0  \n",
       "...                         ...       ...  \n",
       "2423                  -0.120370         1  \n",
       "2424                   0.202484         1  \n",
       "2425                   0.115432         1  \n",
       "2426                   0.387037         0  \n",
       "2427                  -0.160248         0  \n",
       "\n",
       "[2428 rows x 143 columns]"
      ]
     },
     "execution_count": 6,
     "metadata": {},
     "output_type": "execute_result"
    }
   ],
   "source": [
    "df"
   ]
  },
  {
   "cell_type": "code",
   "execution_count": 17,
   "metadata": {
    "ExecuteTime": {
     "end_time": "2022-01-11T18:15:03.242284Z",
     "start_time": "2022-01-11T18:15:03.235387Z"
    }
   },
   "outputs": [],
   "source": [
    "df=df.replace('KCR',123456781)"
   ]
  },
  {
   "cell_type": "code",
   "execution_count": 8,
   "metadata": {
    "ExecuteTime": {
     "end_time": "2022-01-11T18:12:02.277592Z",
     "start_time": "2022-01-11T18:12:02.267820Z"
    }
   },
   "outputs": [],
   "source": [
    "df=df.replace('PIT',123456782)"
   ]
  },
  {
   "cell_type": "code",
   "execution_count": 9,
   "metadata": {
    "ExecuteTime": {
     "end_time": "2022-01-11T18:13:33.249339Z",
     "start_time": "2022-01-11T18:13:33.235963Z"
    }
   },
   "outputs": [],
   "source": [
    "df=df.replace('TBR',123456783)"
   ]
  },
  {
   "cell_type": "code",
   "execution_count": 10,
   "metadata": {
    "ExecuteTime": {
     "end_time": "2022-01-11T18:13:42.601767Z",
     "start_time": "2022-01-11T18:13:42.591996Z"
    }
   },
   "outputs": [],
   "source": [
    "df=df.replace('OAK',123456784)"
   ]
  },
  {
   "cell_type": "code",
   "execution_count": 11,
   "metadata": {
    "ExecuteTime": {
     "end_time": "2022-01-11T18:13:58.024217Z",
     "start_time": "2022-01-11T18:13:58.016768Z"
    }
   },
   "outputs": [],
   "source": [
    "df=df.replace('ARI',123456785)"
   ]
  },
  {
   "cell_type": "code",
   "execution_count": 12,
   "metadata": {
    "ExecuteTime": {
     "end_time": "2022-01-11T18:14:10.478644Z",
     "start_time": "2022-01-11T18:14:10.471126Z"
    }
   },
   "outputs": [],
   "source": [
    "df=df.replace('SFG',123456786)"
   ]
  },
  {
   "cell_type": "code",
   "execution_count": 13,
   "metadata": {
    "ExecuteTime": {
     "end_time": "2022-01-11T18:14:19.188398Z",
     "start_time": "2022-01-11T18:14:19.177467Z"
    }
   },
   "outputs": [],
   "source": [
    "df=df.replace('WSN',123456787)"
   ]
  },
  {
   "cell_type": "code",
   "execution_count": 14,
   "metadata": {
    "ExecuteTime": {
     "end_time": "2022-01-11T18:14:40.336482Z",
     "start_time": "2022-01-11T18:14:40.328904Z"
    }
   },
   "outputs": [],
   "source": [
    "df=df.replace('SEA',123456788)"
   ]
  },
  {
   "cell_type": "code",
   "execution_count": 19,
   "metadata": {
    "ExecuteTime": {
     "end_time": "2022-01-11T18:15:18.753258Z",
     "start_time": "2022-01-11T18:15:18.740200Z"
    }
   },
   "outputs": [
    {
     "data": {
      "text/plain": [
       "array([123456782, 123456781, 123456783, 123456784, 123456785, 'SDP',\n",
       "       'ATL', 'MIL', 'LAA', 'CIN', 'BAL', 'TEX', 'MIA', 'CLE', 'NYY',\n",
       "       123456787, 123456786, 'DET', 'NYM', 'CHW', 'COL', 'TOR', 123456788,\n",
       "       'BOS', 'MIN', 'PHI', 'HOU', 'STL', 'CHC', 'LAD'], dtype=object)"
      ]
     },
     "execution_count": 19,
     "metadata": {},
     "output_type": "execute_result"
    }
   ],
   "source": [
    "df.H_name.unique()"
   ]
  },
  {
   "cell_type": "code",
   "execution_count": 20,
   "metadata": {
    "ExecuteTime": {
     "end_time": "2022-01-11T18:15:30.990476Z",
     "start_time": "2022-01-11T18:15:30.976901Z"
    }
   },
   "outputs": [],
   "source": [
    "df=df.replace('SDP',123456789)"
   ]
  },
  {
   "cell_type": "code",
   "execution_count": 21,
   "metadata": {
    "ExecuteTime": {
     "end_time": "2022-01-11T18:16:06.561273Z",
     "start_time": "2022-01-11T18:16:06.553027Z"
    }
   },
   "outputs": [],
   "source": [
    "df=df.replace('ATL',123456791)"
   ]
  },
  {
   "cell_type": "code",
   "execution_count": 22,
   "metadata": {
    "ExecuteTime": {
     "end_time": "2022-01-11T18:16:18.728314Z",
     "start_time": "2022-01-11T18:16:18.719824Z"
    }
   },
   "outputs": [],
   "source": [
    "df=df.replace('MIL',123456792)"
   ]
  },
  {
   "cell_type": "code",
   "execution_count": 23,
   "metadata": {
    "ExecuteTime": {
     "end_time": "2022-01-11T18:16:32.726436Z",
     "start_time": "2022-01-11T18:16:32.718720Z"
    }
   },
   "outputs": [],
   "source": [
    "df=df.replace('LAA',123456793)"
   ]
  },
  {
   "cell_type": "code",
   "execution_count": 24,
   "metadata": {
    "ExecuteTime": {
     "end_time": "2022-01-11T18:16:41.277963Z",
     "start_time": "2022-01-11T18:16:41.268710Z"
    }
   },
   "outputs": [],
   "source": [
    "df=df.replace('CIN',123456794)"
   ]
  },
  {
   "cell_type": "code",
   "execution_count": 25,
   "metadata": {
    "ExecuteTime": {
     "end_time": "2022-01-11T18:16:49.474638Z",
     "start_time": "2022-01-11T18:16:49.466641Z"
    }
   },
   "outputs": [],
   "source": [
    "df=df.replace('BAL',123456795)"
   ]
  },
  {
   "cell_type": "code",
   "execution_count": 26,
   "metadata": {
    "ExecuteTime": {
     "end_time": "2022-01-11T18:17:01.773888Z",
     "start_time": "2022-01-11T18:17:01.764392Z"
    }
   },
   "outputs": [],
   "source": [
    "df=df.replace('TEX',123456796)"
   ]
  },
  {
   "cell_type": "code",
   "execution_count": 27,
   "metadata": {
    "ExecuteTime": {
     "end_time": "2022-01-11T18:17:20.042166Z",
     "start_time": "2022-01-11T18:17:20.034694Z"
    }
   },
   "outputs": [
    {
     "data": {
      "text/plain": [
       "array([123456782, 123456781, 123456783, 123456784, 123456785, 123456789,\n",
       "       123456791, 123456792, 123456793, 123456794, 123456795, 123456796,\n",
       "       'MIA', 'CLE', 'NYY', 123456787, 123456786, 'DET', 'NYM', 'CHW',\n",
       "       'COL', 'TOR', 123456788, 'BOS', 'MIN', 'PHI', 'HOU', 'STL', 'CHC',\n",
       "       'LAD'], dtype=object)"
      ]
     },
     "execution_count": 27,
     "metadata": {},
     "output_type": "execute_result"
    }
   ],
   "source": [
    "df.H_name.unique()"
   ]
  },
  {
   "cell_type": "code",
   "execution_count": 28,
   "metadata": {
    "ExecuteTime": {
     "end_time": "2022-01-11T18:17:30.647256Z",
     "start_time": "2022-01-11T18:17:30.639656Z"
    }
   },
   "outputs": [],
   "source": [
    "df=df.replace('MIA',123456797)"
   ]
  },
  {
   "cell_type": "code",
   "execution_count": 29,
   "metadata": {
    "ExecuteTime": {
     "end_time": "2022-01-11T18:17:47.168991Z",
     "start_time": "2022-01-11T18:17:47.162206Z"
    }
   },
   "outputs": [],
   "source": [
    "df=df.replace('CLE',123456798)"
   ]
  },
  {
   "cell_type": "code",
   "execution_count": 30,
   "metadata": {
    "ExecuteTime": {
     "end_time": "2022-01-11T18:17:54.707101Z",
     "start_time": "2022-01-11T18:17:54.701004Z"
    }
   },
   "outputs": [],
   "source": [
    "df=df.replace('NYY',123456799)"
   ]
  },
  {
   "cell_type": "code",
   "execution_count": 31,
   "metadata": {
    "ExecuteTime": {
     "end_time": "2022-01-11T18:18:42.916407Z",
     "start_time": "2022-01-11T18:18:42.907019Z"
    }
   },
   "outputs": [],
   "source": [
    "df=df.replace('DET',123456810)"
   ]
  },
  {
   "cell_type": "code",
   "execution_count": 32,
   "metadata": {
    "ExecuteTime": {
     "end_time": "2022-01-11T18:19:01.847209Z",
     "start_time": "2022-01-11T18:19:01.841334Z"
    }
   },
   "outputs": [],
   "source": [
    "df=df.replace('NYM',123456811)"
   ]
  },
  {
   "cell_type": "code",
   "execution_count": 33,
   "metadata": {
    "ExecuteTime": {
     "end_time": "2022-01-11T18:19:19.285453Z",
     "start_time": "2022-01-11T18:19:19.278416Z"
    }
   },
   "outputs": [],
   "source": [
    "df=df.replace('CHW',123456812)"
   ]
  },
  {
   "cell_type": "code",
   "execution_count": 34,
   "metadata": {
    "ExecuteTime": {
     "end_time": "2022-01-11T18:19:27.634269Z",
     "start_time": "2022-01-11T18:19:27.626134Z"
    }
   },
   "outputs": [],
   "source": [
    "df=df.replace('COL',123456813)"
   ]
  },
  {
   "cell_type": "code",
   "execution_count": 35,
   "metadata": {
    "ExecuteTime": {
     "end_time": "2022-01-11T18:19:35.862745Z",
     "start_time": "2022-01-11T18:19:35.853244Z"
    }
   },
   "outputs": [],
   "source": [
    "df=df.replace('LAD',123456814)"
   ]
  },
  {
   "cell_type": "code",
   "execution_count": 36,
   "metadata": {
    "ExecuteTime": {
     "end_time": "2022-01-11T18:19:48.644762Z",
     "start_time": "2022-01-11T18:19:48.634986Z"
    }
   },
   "outputs": [
    {
     "data": {
      "text/plain": [
       "array([123456782, 123456781, 123456783, 123456784, 123456785, 123456789,\n",
       "       123456791, 123456792, 123456793, 123456794, 123456795, 123456796,\n",
       "       123456797, 123456798, 123456799, 123456787, 123456786, 123456810,\n",
       "       123456811, 123456812, 123456813, 'TOR', 123456788, 'BOS', 'MIN',\n",
       "       'PHI', 'HOU', 'STL', 'CHC', 123456814], dtype=object)"
      ]
     },
     "execution_count": 36,
     "metadata": {},
     "output_type": "execute_result"
    }
   ],
   "source": [
    "df.H_name.unique()"
   ]
  },
  {
   "cell_type": "code",
   "execution_count": 37,
   "metadata": {
    "ExecuteTime": {
     "end_time": "2022-01-11T18:19:59.648748Z",
     "start_time": "2022-01-11T18:19:59.643176Z"
    }
   },
   "outputs": [],
   "source": [
    "df=df.replace('BOS',123456815)"
   ]
  },
  {
   "cell_type": "code",
   "execution_count": 38,
   "metadata": {
    "ExecuteTime": {
     "end_time": "2022-01-11T18:20:18.924117Z",
     "start_time": "2022-01-11T18:20:18.916004Z"
    }
   },
   "outputs": [],
   "source": [
    "df=df.replace('TOR',123456816)"
   ]
  },
  {
   "cell_type": "code",
   "execution_count": 39,
   "metadata": {
    "ExecuteTime": {
     "end_time": "2022-01-11T18:20:29.417544Z",
     "start_time": "2022-01-11T18:20:29.410051Z"
    }
   },
   "outputs": [],
   "source": [
    "df=df.replace('MIN',123456817)"
   ]
  },
  {
   "cell_type": "code",
   "execution_count": 40,
   "metadata": {
    "ExecuteTime": {
     "end_time": "2022-01-11T18:20:38.673404Z",
     "start_time": "2022-01-11T18:20:38.662631Z"
    }
   },
   "outputs": [],
   "source": [
    "df=df.replace('PHI',123456818)"
   ]
  },
  {
   "cell_type": "code",
   "execution_count": 41,
   "metadata": {
    "ExecuteTime": {
     "end_time": "2022-01-11T18:20:46.972486Z",
     "start_time": "2022-01-11T18:20:46.957203Z"
    }
   },
   "outputs": [],
   "source": [
    "df=df.replace('HOU',123456819)"
   ]
  },
  {
   "cell_type": "code",
   "execution_count": 42,
   "metadata": {
    "ExecuteTime": {
     "end_time": "2022-01-11T18:20:56.686043Z",
     "start_time": "2022-01-11T18:20:56.677340Z"
    }
   },
   "outputs": [],
   "source": [
    "df=df.replace('STL',123456820)"
   ]
  },
  {
   "cell_type": "code",
   "execution_count": 43,
   "metadata": {
    "ExecuteTime": {
     "end_time": "2022-01-11T18:21:27.497740Z",
     "start_time": "2022-01-11T18:21:27.488774Z"
    }
   },
   "outputs": [],
   "source": [
    "df=df.replace('CHC',123456821)"
   ]
  },
  {
   "cell_type": "code",
   "execution_count": 45,
   "metadata": {
    "ExecuteTime": {
     "end_time": "2022-01-11T18:21:38.743264Z",
     "start_time": "2022-01-11T18:21:38.733074Z"
    }
   },
   "outputs": [
    {
     "data": {
      "text/plain": [
       "30"
      ]
     },
     "execution_count": 45,
     "metadata": {},
     "output_type": "execute_result"
    }
   ],
   "source": [
    "len(df.H_name.unique())"
   ]
  },
  {
   "cell_type": "code",
   "execution_count": 48,
   "metadata": {
    "ExecuteTime": {
     "end_time": "2022-01-11T18:31:42.488826Z",
     "start_time": "2022-01-11T18:31:41.704609Z"
    }
   },
   "outputs": [],
   "source": [
    "df.to_csv('data/Season_2016_TeamIDs.csv')"
   ]
  },
  {
   "cell_type": "code",
   "execution_count": null,
   "metadata": {},
   "outputs": [],
   "source": []
  }
 ],
 "metadata": {
  "kernelspec": {
   "display_name": "Python (learn-env)",
   "language": "python",
   "name": "learn-env"
  },
  "language_info": {
   "codemirror_mode": {
    "name": "ipython",
    "version": 3
   },
   "file_extension": ".py",
   "mimetype": "text/x-python",
   "name": "python",
   "nbconvert_exporter": "python",
   "pygments_lexer": "ipython3",
   "version": "3.8.5"
  }
 },
 "nbformat": 4,
 "nbformat_minor": 4
}
